{
 "metadata": {
  "name": "",
  "signature": "sha256:0e5132bef71ed93be0453fad6769e76b3d5991d6f7a0d00a55f8d1723d886bba"
 },
 "nbformat": 3,
 "nbformat_minor": 0,
 "worksheets": [
  {
   "cells": [
    {
     "cell_type": "heading",
     "level": 1,
     "metadata": {},
     "source": [
      "Ejercicios de NumPy"
     ]
    },
    {
     "cell_type": "code",
     "collapsed": false,
     "input": [
      "%matplotlib inline\n",
      "import numpy as np\n",
      "import matplotlib as plt"
     ],
     "language": "python",
     "metadata": {},
     "outputs": [],
     "prompt_number": 2
    },
    {
     "cell_type": "code",
     "collapsed": false,
     "input": [
      "a1 = np.zeros((5,5))\n",
      "for i in range(2,6):\n",
      "    a1[i-2,i-2]=i              \n",
      "a1"
     ],
     "language": "python",
     "metadata": {},
     "outputs": [
      {
       "metadata": {},
       "output_type": "pyout",
       "prompt_number": 3,
       "text": [
        "array([[ 2.,  0.,  0.,  0.,  0.],\n",
        "       [ 0.,  3.,  0.,  0.,  0.],\n",
        "       [ 0.,  0.,  4.,  0.,  0.],\n",
        "       [ 0.,  0.,  0.,  5.,  0.],\n",
        "       [ 0.,  0.,  0.,  0.,  0.]])"
       ]
      }
     ],
     "prompt_number": 3
    },
    {
     "cell_type": "code",
     "collapsed": false,
     "input": [
      "a2 = np.zeros((4,4),dtype=int)\n",
      "a2[3,:]=[1,2,3,4]\n",
      "a2"
     ],
     "language": "python",
     "metadata": {},
     "outputs": [
      {
       "metadata": {},
       "output_type": "pyout",
       "prompt_number": 4,
       "text": [
        "array([[0, 0, 0, 0],\n",
        "       [0, 0, 0, 0],\n",
        "       [0, 0, 0, 0],\n",
        "       [1, 2, 3, 4]])"
       ]
      }
     ],
     "prompt_number": 4
    },
    {
     "cell_type": "code",
     "collapsed": false,
     "input": [
      "bool_arr = np.ones((100,), dtype=bool)\n",
      "bool_arr[0]=False\n",
      "bool_arr[1]=False\n",
      "N_max = int(np.sqrt(len(bool_arr)))\n",
      "for j in range(2,N_max):\n",
      "    bool_arr[2*j::j] = False\n",
      "bool_arr"
     ],
     "language": "python",
     "metadata": {},
     "outputs": [
      {
       "metadata": {},
       "output_type": "pyout",
       "prompt_number": 5,
       "text": [
        "array([False, False,  True,  True, False,  True, False,  True, False,\n",
        "       False, False,  True, False,  True, False, False, False,  True,\n",
        "       False,  True, False, False, False,  True, False, False, False,\n",
        "       False, False,  True, False,  True, False, False, False, False,\n",
        "       False,  True, False, False, False,  True, False,  True, False,\n",
        "       False, False,  True, False, False, False, False, False,  True,\n",
        "       False, False, False, False, False,  True, False,  True, False,\n",
        "       False, False, False, False,  True, False, False, False,  True,\n",
        "       False,  True, False, False, False, False, False,  True, False,\n",
        "       False, False,  True, False, False, False, False, False,  True,\n",
        "       False, False, False, False, False, False, False,  True, False, False], dtype=bool)"
       ]
      }
     ],
     "prompt_number": 5
    },
    {
     "cell_type": "markdown",
     "metadata": {},
     "source": [
      "El extended slicing toma todos los multiplos de j, a partir de 2j, asi por medio del ciclo se va construyendo la criba de eratostenes al tachar todos los multiplos de cada numero. Nos quedamos solamente con los primos"
     ]
    },
    {
     "cell_type": "code",
     "collapsed": false,
     "input": [
      "np.nonzero(bool_arr)"
     ],
     "language": "python",
     "metadata": {},
     "outputs": [
      {
       "metadata": {},
       "output_type": "pyout",
       "prompt_number": 6,
       "text": [
        "(array([ 2,  3,  5,  7, 11, 13, 17, 19, 23, 29, 31, 37, 41, 43, 47, 53, 59,\n",
        "        61, 67, 71, 73, 79, 83, 89, 97], dtype=int64),)"
       ]
      }
     ],
     "prompt_number": 6
    },
    {
     "cell_type": "code",
     "collapsed": false,
     "input": [
      "def criba_eratostenes(maximo):\n",
      "    bool_arr = np.ones((maximo,),dtype=bool)\n",
      "    bool_arr[0]=False\n",
      "    bool_arr[1]=False\n",
      "    N_max = int(np.sqrt(len(bool_arr)))\n",
      "    for j in range(2,N_max):\n",
      "        bool_arr[2*j::j] = False\n",
      "    return np.nonzero(bool_arr)\n",
      "\n",
      "for i in [10, 100, 200]:\n",
      "    print criba_eratostenes(i)"
     ],
     "language": "python",
     "metadata": {},
     "outputs": [
      {
       "output_type": "stream",
       "stream": "stdout",
       "text": [
        "(array([2, 3, 5, 7, 9], dtype=int64),)\n",
        "(array([ 2,  3,  5,  7, 11, 13, 17, 19, 23, 29, 31, 37, 41, 43, 47, 53, 59,\n",
        "       61, 67, 71, 73, 79, 83, 89, 97], dtype=int64),)\n",
        "(array([  2,   3,   5,   7,  11,  13,  17,  19,  23,  29,  31,  37,  41,\n",
        "        43,  47,  53,  59,  61,  67,  71,  73,  79,  83,  89,  97, 101,\n",
        "       103, 107, 109, 113, 127, 131, 137, 139, 149, 151, 157, 163, 167,\n",
        "       173, 179, 181, 191, 193, 197, 199], dtype=int64),)\n"
       ]
      }
     ],
     "prompt_number": 7
    },
    {
     "cell_type": "code",
     "collapsed": false,
     "input": [
      "cubo = np.zeros((3,3,3,6),int)\n",
      "cubo[:,:,0,0]=1\n",
      "cubo[:,2,:,1]=2\n",
      "cubo[0,:,:,2]=3\n",
      "cubo[2,:,:,3]=4\n",
      "cubo[:,0,:,4]=5\n",
      "cubo[:,:,2,5]=6\n",
      "print cubo\n",
      "cubo.flatten().tolist().count(0)"
     ],
     "language": "python",
     "metadata": {},
     "outputs": [
      {
       "output_type": "stream",
       "stream": "stdout",
       "text": [
        "[[[[1 0 3 0 5 0]\n",
        "   [0 0 3 0 5 0]\n",
        "   [0 0 3 0 5 6]]\n",
        "\n",
        "  [[1 0 3 0 0 0]\n",
        "   [0 0 3 0 0 0]\n",
        "   [0 0 3 0 0 6]]\n",
        "\n",
        "  [[1 2 3 0 0 0]\n",
        "   [0 2 3 0 0 0]\n",
        "   [0 2 3 0 0 6]]]\n",
        "\n",
        "\n",
        " [[[1 0 0 0 5 0]\n",
        "   [0 0 0 0 5 0]\n",
        "   [0 0 0 0 5 6]]\n",
        "\n",
        "  [[1 0 0 0 0 0]\n",
        "   [0 0 0 0 0 0]\n",
        "   [0 0 0 0 0 6]]\n",
        "\n",
        "  [[1 2 0 0 0 0]\n",
        "   [0 2 0 0 0 0]\n",
        "   [0 2 0 0 0 6]]]\n",
        "\n",
        "\n",
        " [[[1 0 0 4 5 0]\n",
        "   [0 0 0 4 5 0]\n",
        "   [0 0 0 4 5 6]]\n",
        "\n",
        "  [[1 0 0 4 0 0]\n",
        "   [0 0 0 4 0 0]\n",
        "   [0 0 0 4 0 6]]\n",
        "\n",
        "  [[1 2 0 4 0 0]\n",
        "   [0 2 0 4 0 0]\n",
        "   [0 2 0 4 0 6]]]]\n"
       ]
      },
      {
       "metadata": {},
       "output_type": "pyout",
       "prompt_number": 29,
       "text": [
        "108"
       ]
      }
     ],
     "prompt_number": 29
    },
    {
     "cell_type": "code",
     "collapsed": false,
     "input": [
      "def correcto(a):\n",
      "    return (np.sort(a) == np.arange(9) + 1).all()"
     ],
     "language": "python",
     "metadata": {},
     "outputs": [
      {
       "metadata": {},
       "output_type": "pyout",
       "prompt_number": 44,
       "text": [
        "True"
       ]
      }
     ],
     "prompt_number": 44
    },
    {
     "cell_type": "code",
     "collapsed": false,
     "input": [],
     "language": "python",
     "metadata": {},
     "outputs": [
      {
       "metadata": {},
       "output_type": "pyout",
       "prompt_number": 73,
       "text": [
        "1.0"
       ]
      }
     ],
     "prompt_number": 73
    },
    {
     "cell_type": "code",
     "collapsed": false,
     "input": [
      "def descomponer3x3(a):\n",
      "    descompuesto = np.zeros((9,9))\n",
      "    for i in [0,1,2]:\n",
      "        for j in [0,1,2]:\n",
      "            for h in [0,1,2]:\n",
      "                for m in [0,1,2]:\n",
      "                    descompuesto[3*i + j, 3*h +m]=a[3*i + h, 3*j +m]\n",
      "    return descompuesto\n",
      "        \n",
      "    \n",
      "\n",
      "        "
     ],
     "language": "python",
     "metadata": {},
     "outputs": [],
     "prompt_number": 74
    },
    {
     "cell_type": "code",
     "collapsed": false,
     "input": [
      "prueba=np.zeros((9,9))\n",
      "descomponer3x3(prueba)"
     ],
     "language": "python",
     "metadata": {},
     "outputs": [
      {
       "metadata": {},
       "output_type": "pyout",
       "prompt_number": 76,
       "text": [
        "array([[ 0.,  0.,  0.,  0.,  0.,  0.,  0.,  0.,  0.],\n",
        "       [ 0.,  0.,  0.,  0.,  0.,  0.,  0.,  0.,  0.],\n",
        "       [ 0.,  0.,  0.,  0.,  0.,  0.,  0.,  0.,  0.],\n",
        "       [ 0.,  0.,  0.,  0.,  0.,  0.,  0.,  0.,  0.],\n",
        "       [ 0.,  0.,  0.,  0.,  0.,  0.,  0.,  0.,  0.],\n",
        "       [ 0.,  0.,  0.,  0.,  0.,  0.,  0.,  0.,  0.],\n",
        "       [ 0.,  0.,  0.,  0.,  0.,  0.,  0.,  0.,  0.],\n",
        "       [ 0.,  0.,  0.,  0.,  0.,  0.,  0.,  0.,  0.],\n",
        "       [ 0.,  0.,  0.,  0.,  0.,  0.,  0.,  0.,  0.]])"
       ]
      }
     ],
     "prompt_number": 76
    },
    {
     "cell_type": "code",
     "collapsed": false,
     "input": [
      "def esSolucion(a):\n",
      "    for i in range(9):\n",
      "        return correcto(descomponer3x3(a)[1:])"
     ],
     "language": "python",
     "metadata": {},
     "outputs": [],
     "prompt_number": 77
    }
   ],
   "metadata": {}
  }
 ]
}