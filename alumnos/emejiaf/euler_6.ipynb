{
 "metadata": {
  "name": "",
  "signature": "sha256:e855528d09ebddcc3ddf93dbcc77d2404fdc6cc3a3917c1326ed38f532643e2e"
 },
 "nbformat": 3,
 "nbformat_minor": 0,
 "worksheets": [
  {
   "cells": [
    {
     "cell_type": "markdown",
     "metadata": {},
     "source": [
      "calculamos la suma de los cuadrados de los enteros entre 1 y 100"
     ]
    },
    {
     "cell_type": "code",
     "collapsed": false,
     "input": [
      "sum1 = 0\n",
      "for i in xrange(1,100):\n",
      "    sum1 += i*i\n",
      "sum1"
     ],
     "language": "python",
     "metadata": {},
     "outputs": [
      {
       "metadata": {},
       "output_type": "pyout",
       "prompt_number": 9,
       "text": [
        "328350"
       ]
      }
     ],
     "prompt_number": 9
    },
    {
     "cell_type": "markdown",
     "metadata": {},
     "source": [
      "Ahora calculamos el cuadrado de la suma de los enteros del 1 al 100, y hacemos la diferencia con el valor anterior"
     ]
    },
    {
     "cell_type": "code",
     "collapsed": false,
     "input": [
      "sum2 = (100*101/2)**2\n",
      "\n",
      "\n",
      "res = sum2 - sum1\n",
      "res"
     ],
     "language": "python",
     "metadata": {},
     "outputs": [
      {
       "metadata": {},
       "output_type": "pyout",
       "prompt_number": 10,
       "text": [
        "25174150"
       ]
      }
     ],
     "prompt_number": 10
    },
    {
     "cell_type": "code",
     "collapsed": false,
     "input": [],
     "language": "python",
     "metadata": {},
     "outputs": []
    }
   ],
   "metadata": {}
  }
 ]
}