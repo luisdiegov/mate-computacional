{
 "metadata": {
  "name": "",
  "signature": "sha256:bf8776c33c9f6c9702d58aa3caac48bf3e6a42f966e7f34a66696bfed838c30d"
 },
 "nbformat": 3,
 "nbformat_minor": 0,
 "worksheets": [
  {
   "cells": [
    {
     "cell_type": "code",
     "collapsed": false,
     "input": [
      "def dec_bin(entero):\n",
      "    assert(-128<entero<127), \"Overflow\" \n",
      "    \n",
      "    if entero==0: return ''\n",
      "    else:\n",
      "        return dec_bin(entero/2) + str(entero%2)\n",
      "    \n",
      "    "
     ],
     "language": "python",
     "metadata": {},
     "outputs": [],
     "prompt_number": 11
    },
    {
     "cell_type": "code",
     "collapsed": false,
     "input": [
      "from math import sqrt, acos, atan\n",
      "def cart_esf(x,y,z):\n",
      "    r = sqrt(x*x + y*y + z*z)\n",
      "    theta = acos(z / sqrt(x*x + y*y + z*z))\n",
      "    phi = atan (y / x)\n",
      "    return r, theta, phi\n",
      "\n"
     ],
     "language": "python",
     "metadata": {},
     "outputs": [
      {
       "metadata": {},
       "output_type": "pyout",
       "prompt_number": 4,
       "text": [
        "(1.7320508075688772, 0.9553166181245092, 0.7853981633974483)"
       ]
      }
     ],
     "prompt_number": 4
    },
    {
     "cell_type": "code",
     "collapsed": false,
     "input": [],
     "language": "python",
     "metadata": {},
     "outputs": [],
     "prompt_number": 5
    },
    {
     "cell_type": "code",
     "collapsed": false,
     "input": [],
     "language": "python",
     "metadata": {},
     "outputs": []
    },
    {
     "cell_type": "raw",
     "metadata": {},
     "source": []
    },
    {
     "cell_type": "code",
     "collapsed": false,
     "input": [],
     "language": "python",
     "metadata": {},
     "outputs": []
    }
   ],
   "metadata": {}
  }
 ]
}