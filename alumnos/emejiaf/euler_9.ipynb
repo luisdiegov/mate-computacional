{
 "metadata": {
  "name": "",
  "signature": "sha256:17726b12ef746d085ab4b3c6f257c86f20420ecd34701fe9e19141e59d1ee19f"
 },
 "nbformat": 3,
 "nbformat_minor": 0,
 "worksheets": [
  {
   "cells": [
    {
     "cell_type": "markdown",
     "metadata": {},
     "source": [
      "calculamos la terna pitagorica que sume 1000"
     ]
    },
    {
     "cell_type": "code",
     "collapsed": false,
     "input": [
      "{(x,y,z) for x in range(1,500) for y in range(x,500) for z in range(y,500)  if x*x + y*y == z*z if x+y+z == 1000}"
     ],
     "language": "python",
     "metadata": {},
     "outputs": [
      {
       "metadata": {},
       "output_type": "pyout",
       "prompt_number": 2,
       "text": [
        "{(200, 375, 425)}"
       ]
      }
     ],
     "prompt_number": 2
    }
   ],
   "metadata": {}
  }
 ]
}