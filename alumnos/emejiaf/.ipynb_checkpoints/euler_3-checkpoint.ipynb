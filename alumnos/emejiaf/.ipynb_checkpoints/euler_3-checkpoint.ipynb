{
 "metadata": {
  "name": "",
  "signature": "sha256:78b18b7e764a093e11077f8c3a3bd7eef96c234d05c66c76c6cad2baf00ab56f"
 },
 "nbformat": 3,
 "nbformat_minor": 0,
 "worksheets": [
  {
   "cells": [
    {
     "cell_type": "markdown",
     "metadata": {},
     "source": [
      "Buscamos el factor primo mas grande de 600851475143"
     ]
    },
    {
     "cell_type": "code",
     "collapsed": false,
     "input": [
      "n = 600851475143\n",
      "i = 2\n",
      "\n",
      "while i*i < n:\n",
      "    while not n % i:\n",
      "        n = n / i\n",
      "    i += 1\n",
      "\n",
      "print n"
     ],
     "language": "python",
     "metadata": {},
     "outputs": [
      {
       "output_type": "stream",
       "stream": "stdout",
       "text": [
        "6857\n"
       ]
      }
     ],
     "prompt_number": 1
    }
   ],
   "metadata": {}
  }
 ]
}