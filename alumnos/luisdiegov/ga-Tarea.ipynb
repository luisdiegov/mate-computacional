{
 "metadata": {
  "name": "",
  "signature": "sha256:42fc34beb1e91cc1709bfada2d13b5a90c406db1a5dfb5f855252f9ac6028d17"
 },
 "nbformat": 3,
 "nbformat_minor": 0,
 "worksheets": [
  {
   "cells": [
    {
     "cell_type": "code",
     "collapsed": false,
     "input": [
      "import random "
     ],
     "language": "python",
     "metadata": {},
     "outputs": [],
     "prompt_number": 8
    },
    {
     "cell_type": "code",
     "collapsed": false,
     "input": [
      "class GA:\n",
      "    def __init__(self, tamano_poblacion, tasa_mutacion, tasa_crossover, max_generaciones, fitness, longitud):\n",
      "        self.tamano_poblacion = tamano_poblacion\n",
      "        self.tasa_mutacion = tasa_mutacion\n",
      "        self.tasa_crossover = tasa_crossover\n",
      "        self.max_generaciones = max_generaciones\n",
      "        self.fitness = fitness\n",
      "        self.longitud = longitud\n",
      "        \n",
      "        self.poblacion = list\n",
      "        self.generacion = 0\n",
      "        self.mejor_solucion_historica = None\n",
      "        self.mejor_solucion_actual = None\n",
      "        \n",
      "    def poblar(self):\n",
      "        for i in range(self.tamano_poblacion):\n",
      "            self.poblacion.append(BitCromosoma(self.longitud, None))\n",
      "            \n",
      "    def __str__(self):\n",
      "        for i in range(len(self.poblacion)):\n",
      "            print \"Poblador \" + i + \" \" + poblacionr[i]\n",
      "            \n",
      "        print \"Mejor solucion historica :\" + self.mejor_solucion_historica\n",
      "        print \"Mejor solucion actual :\" + self.mejor_solucion_actual\n",
      "        print \"Generacion :\" + self.generacion\n",
      "        \n",
      "    def run(self):\n",
      "        poblar(self)\n",
      "        fitnessList = list\n",
      "        \n",
      "    def crossover(self, cromosoma1, cromosoma2):\n",
      "        crossover_point = random.randint(0, self.longitud)\n",
      "        "
     ],
     "language": "python",
     "metadata": {},
     "outputs": [],
     "prompt_number": 15
    },
    {
     "cell_type": "code",
     "collapsed": false,
     "input": [
      "class Cromosoma:\n",
      "    pass"
     ],
     "language": "python",
     "metadata": {},
     "outputs": [],
     "prompt_number": 3
    },
    {
     "cell_type": "code",
     "collapsed": false,
     "input": [
      "class BitCromosoma(Cromosoma):\n",
      "    def __init__(self, n, st):\n",
      "        if st == None:\n",
      "            self.genoma = random.getrandbits(n)\n",
      "        else:\n",
      "            self.genoma = st\n",
      "    \n",
      "    def split(self, crossover_point):\n",
      "        c1 = cromosoma.genoma[:crossover_point]\n",
      "        c2 = cromosoma.genoma[crossover_point:]\n",
      "        return c1,c2"
     ],
     "language": "python",
     "metadata": {},
     "outputs": [],
     "prompt_number": 16
    },
    {
     "cell_type": "code",
     "collapsed": false,
     "input": [
      "list?"
     ],
     "language": "python",
     "metadata": {},
     "outputs": [],
     "prompt_number": 11
    },
    {
     "cell_type": "code",
     "collapsed": false,
     "input": [],
     "language": "python",
     "metadata": {},
     "outputs": []
    }
   ],
   "metadata": {}
  }
 ]
}