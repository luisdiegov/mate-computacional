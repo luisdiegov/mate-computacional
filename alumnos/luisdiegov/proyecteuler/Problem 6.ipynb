{
 "metadata": {
  "name": "",
  "signature": "sha256:1a5aa7344b3eecc738a5be15412c92202470ddd06fd162e3791ff4269b381438"
 },
 "nbformat": 3,
 "nbformat_minor": 0,
 "worksheets": [
  {
   "cells": [
    {
     "cell_type": "code",
     "collapsed": false,
     "input": [
      "sum1=0\n",
      "sum2=0\n",
      "\n",
      "for i in xrange(1,101,1):\n",
      "    sum1+=i**2\n",
      "    sum2+=i\n",
      "sum2=sum2**2\n",
      "print sum2-sum1"
     ],
     "language": "python",
     "metadata": {},
     "outputs": [
      {
       "output_type": "stream",
       "stream": "stdout",
       "text": [
        "25164150\n"
       ]
      }
     ],
     "prompt_number": 4
    },
    {
     "cell_type": "code",
     "collapsed": false,
     "input": [],
     "language": "python",
     "metadata": {},
     "outputs": []
    }
   ],
   "metadata": {}
  }
 ]
}