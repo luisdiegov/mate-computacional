{
 "metadata": {
  "name": "",
  "signature": "sha256:8a06d7601549b1823f7e5573a2df5caadc786c87b4eff01dc4cb5b9195e5260e"
 },
 "nbformat": 3,
 "nbformat_minor": 0,
 "worksheets": [
  {
   "cells": [
    {
     "cell_type": "code",
     "collapsed": false,
     "input": [
      "flag=True\n",
      "a=0\n",
      "while flag and a<b:\n",
      "    a+=1\n",
      "    b=a+1\n",
      "    c=1000-(a+b)\n",
      "    while flag and b<c:\n",
      "        c=1000-(a+b)\n",
      "        if(a**2+b**2==c**2):\n",
      "            flag=False\n",
      "        else:\n",
      "            b+=1  \n",
      "print a,b,c"
     ],
     "language": "python",
     "metadata": {},
     "outputs": [
      {
       "output_type": "stream",
       "stream": "stdout",
       "text": [
        "200 375 425\n"
       ]
      }
     ],
     "prompt_number": 18
    },
    {
     "cell_type": "code",
     "collapsed": false,
     "input": [],
     "language": "python",
     "metadata": {},
     "outputs": []
    }
   ],
   "metadata": {}
  }
 ]
}