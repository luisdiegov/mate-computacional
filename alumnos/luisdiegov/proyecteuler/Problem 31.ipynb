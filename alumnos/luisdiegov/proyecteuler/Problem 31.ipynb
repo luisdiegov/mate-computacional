{
 "metadata": {
  "name": "",
  "signature": "sha256:a1c152bc6509ff8e5941eed09e98c76403cbcae89b82daed453fc3ebcde0284e"
 },
 "nbformat": 3,
 "nbformat_minor": 0,
 "worksheets": [
  {
   "cells": [
    {
     "cell_type": "code",
     "collapsed": false,
     "input": [
      "target  = 200\n",
      "count = 0\n",
      "\n",
      "for a in range (201,0,-200):\n",
      "    for b in range (a,0,-100):\n",
      "        for c in range (b,0,-50):\n",
      "            for d in range (c,0,-20):\n",
      "                for e in range (d,0,-10):\n",
      "                    for f in range (e,0,-5):\n",
      "                        for g in range (f,0,-2):\n",
      "                            count+=1\n",
      " \n",
      "print count"
     ],
     "language": "python",
     "metadata": {},
     "outputs": [
      {
       "output_type": "stream",
       "stream": "stdout",
       "text": [
        "73682\n"
       ]
      }
     ],
     "prompt_number": 6
    },
    {
     "cell_type": "heading",
     "level": 2,
     "metadata": {},
     "source": []
    }
   ],
   "metadata": {}
  }
 ]
}