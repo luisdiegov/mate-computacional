{
 "metadata": {
  "name": "",
  "signature": "sha256:faa7d3818b3e0f5cadbf29b79031edbcf7237aee6366669429253a97fd6e68d8"
 },
 "nbformat": 3,
 "nbformat_minor": 0,
 "worksheets": [
  {
   "cells": [
    {
     "cell_type": "code",
     "collapsed": false,
     "input": [
      "def isPrime(num):\n",
      "    flag=True\n",
      "    i=2\n",
      "    \n",
      "    while flag and i<num:\n",
      "        if num%i==0:\n",
      "            flag=False\n",
      "        i+=1\n",
      "    \n",
      "    return flag"
     ],
     "language": "python",
     "metadata": {},
     "outputs": [],
     "prompt_number": 48
    },
    {
     "cell_type": "code",
     "collapsed": false,
     "input": [
      "def primeFactors(num):\n",
      "    list=[]\n",
      "    i=2\n",
      "    \n",
      "    while(i<=num):\n",
      "        if isPrime(i) and num%i==0:\n",
      "            list.append(i)\n",
      "            num=num/i\n",
      "        i+=1\n",
      "        \n",
      "    return list"
     ],
     "language": "python",
     "metadata": {},
     "outputs": [],
     "prompt_number": 58
    },
    {
     "cell_type": "code",
     "collapsed": false,
     "input": [
      "primeFactors(600851475143)"
     ],
     "language": "python",
     "metadata": {},
     "outputs": [
      {
       "metadata": {},
       "output_type": "pyout",
       "prompt_number": 59,
       "text": [
        "[71, 839, 1471, 6857]"
       ]
      }
     ],
     "prompt_number": 59
    },
    {
     "cell_type": "code",
     "collapsed": false,
     "input": [
      "def maxPrimeFactor(num):\n",
      "    return max(primeFactors(num))"
     ],
     "language": "python",
     "metadata": {},
     "outputs": [],
     "prompt_number": 61
    },
    {
     "cell_type": "code",
     "collapsed": false,
     "input": [
      "maxPrimeFactor(600851475143)"
     ],
     "language": "python",
     "metadata": {},
     "outputs": [
      {
       "metadata": {},
       "output_type": "pyout",
       "prompt_number": 62,
       "text": [
        "6857"
       ]
      }
     ],
     "prompt_number": 62
    },
    {
     "cell_type": "code",
     "collapsed": false,
     "input": [],
     "language": "python",
     "metadata": {},
     "outputs": []
    }
   ],
   "metadata": {}
  }
 ]
}