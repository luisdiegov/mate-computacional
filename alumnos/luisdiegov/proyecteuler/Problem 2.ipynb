{
 "metadata": {
  "name": "",
  "signature": "sha256:072f43ca8cff3072467c1a77c2fb65056c829060714898dabdf3bebd5a530864"
 },
 "nbformat": 3,
 "nbformat_minor": 0,
 "worksheets": [
  {
   "cells": [
    {
     "cell_type": "code",
     "collapsed": false,
     "input": [
      "def evenFibonacciSum(top):\n",
      "    sum,a,b=0,1,2\n",
      "        \n",
      "    while a<=top:\n",
      "        if a%2==0:\n",
      "            sum+=a\n",
      "        a,b=b,a+b\n",
      "    \n",
      "    return sum"
     ],
     "language": "python",
     "metadata": {},
     "outputs": [],
     "prompt_number": 34
    },
    {
     "cell_type": "code",
     "collapsed": false,
     "input": [
      "evenFibonacciSum(4000000)"
     ],
     "language": "python",
     "metadata": {},
     "outputs": [
      {
       "metadata": {},
       "output_type": "pyout",
       "prompt_number": 35,
       "text": [
        "4613732"
       ]
      }
     ],
     "prompt_number": 35
    },
    {
     "cell_type": "code",
     "collapsed": false,
     "input": [],
     "language": "python",
     "metadata": {},
     "outputs": []
    }
   ],
   "metadata": {}
  }
 ]
}