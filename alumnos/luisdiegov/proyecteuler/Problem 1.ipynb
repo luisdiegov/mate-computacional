{
 "metadata": {
  "name": "",
  "signature": "sha256:17b79c3f686bc2707320f28d95a03401f4ca82c8d961d6635dcf784e4528a842"
 },
 "nbformat": 3,
 "nbformat_minor": 0,
 "worksheets": [
  {
   "cells": [
    {
     "cell_type": "code",
     "collapsed": false,
     "input": [
      "def multiplesSum(a,b,num):\n",
      "    sum=0\n",
      "    i=1\n",
      "    \n",
      "    while i<num:\n",
      "        if i%a==0 or i%b==0:\n",
      "            sum+=i\n",
      "        i+=1\n",
      "    \n",
      "    return sum"
     ],
     "language": "python",
     "metadata": {},
     "outputs": [],
     "prompt_number": 7
    },
    {
     "cell_type": "code",
     "collapsed": false,
     "input": [
      "multiplesSum(3,5,1000)"
     ],
     "language": "python",
     "metadata": {},
     "outputs": [
      {
       "metadata": {},
       "output_type": "pyout",
       "prompt_number": 9,
       "text": [
        "233168"
       ]
      }
     ],
     "prompt_number": 9
    },
    {
     "cell_type": "code",
     "collapsed": false,
     "input": [],
     "language": "python",
     "metadata": {},
     "outputs": []
    }
   ],
   "metadata": {}
  }
 ]
}