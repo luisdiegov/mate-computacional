{
 "metadata": {
  "name": "",
  "signature": "sha256:90da5afa91fba54add85c5aabe7a398e3d951f45f0588b62e0d0e5a87dae4f72"
 },
 "nbformat": 3,
 "nbformat_minor": 0,
 "worksheets": [
  {
   "cells": [
    {
     "cell_type": "code",
     "collapsed": false,
     "input": [
      "strList = [\"one\",\"two\",\"three\",\"four\",\"five\",\"six\",\"seven\",\"eight\",\"nine\",\"ten\",\"eleven\",\"twelve\",\"thirteen\",\"fourteen\",\"fifteen\",\n",
      "         \"sixteen\",\"seventeen\",\"eighteen\",\"nineteen\",\"twenty\",\"thirty\",\"forty\",\"fifty\",\"sixty\",\"seventy\",\"eighty\",\"ninety\",\"onehundred\",\n",
      "         \"twohundred\",\"threehundred\",\"fourhundred\",\"fivehundred\",\"sixhundred\",\"sevenhundred\",\"eighthundred\",\"ninehundred\",\"onethousand\"]\n",
      "strListCount = [0 for x in range(37)]\n",
      "numList = [1,2,3,4,5,6,7,8,9,10,11,12,13,14,15,16,17,18,19,20,30,40,50,60,70,80,90,100,200,300,400,500,600,700,800,900,1000]\n",
      "count = [0 for x in range(1001)]\n",
      "count[0] = 0\n",
      "ans = 0\n",
      "\n",
      "for i in range(37):\n",
      "    strListCount[i] = len(strList[i])\n",
      "\n",
      "for i in range(37):\n",
      "    count[numList[i]]=strListCount[i]\n",
      "    \n",
      "for i in range(21, 1000):\n",
      "    if i < 100:\n",
      "        count[i] = count[i%10] + count[i - i/100*100 - i%10]\n",
      "    else:\n",
      "        count[i] = count[i - i/100*100] + count[i/100*100] \n",
      "    if i > 100 and i%100 > 0:\n",
      "        count[i] += 3 \n",
      "\n",
      "for i in range(1001):\n",
      "    ans += count[i]\n",
      "\n",
      "print ans"
     ],
     "language": "python",
     "metadata": {},
     "outputs": [
      {
       "output_type": "stream",
       "stream": "stdout",
       "text": [
        "21124\n"
       ]
      }
     ],
     "prompt_number": 34
    },
    {
     "cell_type": "code",
     "collapsed": false,
     "input": [],
     "language": "python",
     "metadata": {},
     "outputs": []
    }
   ],
   "metadata": {}
  }
 ]
}