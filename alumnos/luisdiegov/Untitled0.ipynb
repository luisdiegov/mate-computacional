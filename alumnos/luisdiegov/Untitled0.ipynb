{
 "metadata": {
  "name": "",
  "signature": "sha256:38c1b9d81033aabb2e795548d6bc5e476da90a5d6500110aeb303bd6b0e3a212"
 },
 "nbformat": 3,
 "nbformat_minor": 0,
 "worksheets": [
  {
   "cells": [
    {
     "cell_type": "code",
     "collapsed": false,
     "input": [
      "assert()?"
     ],
     "language": "python",
     "metadata": {},
     "outputs": [
      {
       "ename": "SyntaxError",
       "evalue": "invalid syntax (<ipython-input-3-0c42b53244e1>, line 1)",
       "output_type": "pyerr",
       "traceback": [
        "\u001b[1;36m  File \u001b[1;32m\"<ipython-input-3-0c42b53244e1>\"\u001b[1;36m, line \u001b[1;32m1\u001b[0m\n\u001b[1;33m    assert()?\u001b[0m\n\u001b[1;37m            ^\u001b[0m\n\u001b[1;31mSyntaxError\u001b[0m\u001b[1;31m:\u001b[0m invalid syntax\n"
       ]
      }
     ],
     "prompt_number": 3
    },
    {
     "cell_type": "code",
     "collapsed": false,
     "input": [
      "? assert()"
     ],
     "language": "python",
     "metadata": {},
     "outputs": [
      {
       "output_type": "stream",
       "stream": "stdout",
       "text": [
        "Object `assert` not found.\n"
       ]
      }
     ],
     "prompt_number": 4
    },
    {
     "cell_type": "code",
     "collapsed": false,
     "input": [
      "%%file conversiones.py\n",
      "def decToBin(num):\n",
      "    assert -128 <= num < 128, \"overflow\"\n",
      "    \n",
      "    s = []\n",
      "    num = (num + 256) % 256\n",
      "    \n",
      "    for i in range(8):\n",
      "        s.append(num % 2)\n",
      "        num /= 2\n",
      "    \n",
      "    for d in reversed(s):\n",
      "        print d,"
     ],
     "language": "python",
     "metadata": {},
     "outputs": [
      {
       "output_type": "stream",
       "stream": "stdout",
       "text": [
        "Overwriting conversiones.py\n"
       ]
      }
     ],
     "prompt_number": 15
    },
    {
     "cell_type": "code",
     "collapsed": false,
     "input": [
      "decToBin(-2)"
     ],
     "language": "python",
     "metadata": {},
     "outputs": [
      {
       "output_type": "stream",
       "stream": "stdout",
       "text": [
        "1 1 1 1 1 1 1 0\n"
       ]
      }
     ],
     "prompt_number": 14
    },
    {
     "cell_type": "code",
     "collapsed": false,
     "input": [
      "!cat conversiones.py"
     ],
     "language": "python",
     "metadata": {},
     "outputs": [
      {
       "output_type": "stream",
       "stream": "stdout",
       "text": [
        "def decToBin(num):\r\n",
        "    assert -128 <= num < 128, \"overflow\"\r\n",
        "    \r\n",
        "    s = []\r\n",
        "    num = (num + 256) % 256\r\n",
        "    \r\n",
        "    for i in range(8):\r\n",
        "        s.append(num % 2)\r\n",
        "        num /= 2\r\n",
        "    \r\n",
        "    for d in reversed(s):\r\n",
        "        print d,"
       ]
      }
     ],
     "prompt_number": 9
    },
    {
     "cell_type": "code",
     "collapsed": false,
     "input": [
      "%%file conversiones.py\n",
      "def sort_string(s):\n",
      "    s = sorted(s)\n",
      "    print ''.join(s)"
     ],
     "language": "python",
     "metadata": {},
     "outputs": [
      {
       "output_type": "stream",
       "stream": "stdout",
       "text": [
        "Overwriting conversiones.py\n"
       ]
      }
     ],
     "prompt_number": 31
    },
    {
     "cell_type": "code",
     "collapsed": false,
     "input": [
      "%%file transformaciones.py\n",
      "from math import *\n",
      "def cartToSpher(x,y,z):\n",
      "    return sqrt(x**2+y**2+z**2),atan(z/sqrt(x**2+y**2+z**2)),atan(y/x)"
     ],
     "language": "python",
     "metadata": {},
     "outputs": [
      {
       "output_type": "stream",
       "stream": "stdout",
       "text": [
        "Writing transformaciones.py\n"
       ]
      }
     ],
     "prompt_number": 11
    },
    {
     "cell_type": "code",
     "collapsed": false,
     "input": [
      "cartToSpher(1,2,3)"
     ],
     "language": "python",
     "metadata": {},
     "outputs": [
      {
       "metadata": {},
       "output_type": "pyout",
       "prompt_number": 10,
       "text": [
        "(3.7416573867739413, 0.6758276338986822, 1.1071487177940904)"
       ]
      }
     ],
     "prompt_number": 10
    },
    {
     "cell_type": "code",
     "collapsed": false,
     "input": [
      "epsilon = 0.5\n",
      "\n",
      "while 1.0 + epsilon <> 1.0:\n",
      "    epsilon = epsilon*0.5\n",
      "    \n",
      "print epsilon"
     ],
     "language": "python",
     "metadata": {},
     "outputs": [
      {
       "output_type": "stream",
       "stream": "stdout",
       "text": [
        "1.11022302463e-16\n"
       ]
      }
     ],
     "prompt_number": 7
    },
    {
     "cell_type": "code",
     "collapsed": false,
     "input": [],
     "language": "python",
     "metadata": {},
     "outputs": []
    }
   ],
   "metadata": {}
  }
 ]
}