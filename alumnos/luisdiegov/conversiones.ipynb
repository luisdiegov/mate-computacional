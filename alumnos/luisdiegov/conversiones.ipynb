{
 "metadata": {
  "name": "",
  "signature": "sha256:ce04d1e9ebc03053bfe58627e55fad0f4eca8b6dc5683b2e9dd93a55be90eb8d"
 },
 "nbformat": 3,
 "nbformat_minor": 0,
 "worksheets": [
  {
   "cells": [
    {
     "cell_type": "code",
     "collapsed": false,
     "input": [
      "#Con complemento base 2\n",
      "def decimalToBinaryB2(num):  \n",
      "    assert -128 <= num < 128, \"overflow\"\n",
      "    \n",
      "    s = []\n",
      "    num = (num + 256) % 256\n",
      "    \n",
      "    for i in range(8):\n",
      "        s.append(num % 2)\n",
      "        num /= 2\n",
      "    \n",
      "    for d in reversed(s):\n",
      "        print d,"
     ],
     "language": "python",
     "metadata": {},
     "outputs": [],
     "prompt_number": 44
    },
    {
     "cell_type": "code",
     "collapsed": false,
     "input": [
      "#Con complemento base 2\n",
      "def binaryToDecimalB2(num): \n",
      "    assert 0 <= num <= 11111111, \"Overflow\" \n",
      "    ans = 0\n",
      "    pwr = 0\n",
      "    \n",
      "    for i in range(7):\n",
      "        ans += (num % 10) * 2**pwr\n",
      "        pwr+=1\n",
      "        num /=10\n",
      "        \n",
      "    if num % 10 == 1:\n",
      "        ans -= 128\n",
      "\n",
      "    return ans"
     ],
     "language": "python",
     "metadata": {},
     "outputs": [],
     "prompt_number": 87
    },
    {
     "cell_type": "code",
     "collapsed": false,
     "input": [
      "#Sin complemento base 2\n",
      "def binaryToDecimal(num): \n",
      "    assert 0 <= num <= 11111111, \"Overflow\" \n",
      "    ans = 0\n",
      "    pwr = 0\n",
      "    \n",
      "    for i in range(8):\n",
      "        ans += (num % 10) * 2**pwr\n",
      "        pwr+=1\n",
      "        num /=10\n",
      "\n",
      "    return ans"
     ],
     "language": "python",
     "metadata": {},
     "outputs": [],
     "prompt_number": 97
    },
    {
     "cell_type": "code",
     "collapsed": false,
     "input": [
      "#Sin complemento base 2\n",
      "def decimalToBinary(num):\n",
      "    ans = 0\n",
      "    b = 1 \n",
      "    assert 0 <= num <= 256, \"Overflow\"    \n",
      "    while num > 0:\n",
      "        if num % 2 == 1:\n",
      "            ans += b\n",
      "        b *= 10\n",
      "        num /= 2 \n",
      "    return ans"
     ],
     "language": "python",
     "metadata": {},
     "outputs": [],
     "prompt_number": 110
    },
    {
     "cell_type": "code",
     "collapsed": false,
     "input": [
      "#Para enteros no negativos\n",
      "def binaryToHexadecimal(num): \n",
      "    assert 0 <= num <= 11111111, \"Overflow\" \n",
      "    ans = \"\"\n",
      "    conv = [\"0\" , \"1\", \"2\", \"3\", \"4\", \"5\", \"6\", \"7\", \"8\", \"9\", \"A\", \"B\", \"C\", \"D\", \"E\", \"F\"]\n",
      "    \n",
      "    while num > 0:\n",
      "        x = num % 10000\n",
      "        ans =  conv[binaryToDecimal(x)] + ans\n",
      "        num /= 10000\n",
      "        \n",
      "    print ans"
     ],
     "language": "python",
     "metadata": {},
     "outputs": [],
     "prompt_number": 55
    },
    {
     "cell_type": "code",
     "collapsed": false,
     "input": [
      "#Para enteros no negativos\n",
      "def hexadecimalToBinary(num): \n",
      "    m = {'0':0, '1':1, '2':2, '3':3, '4':4, '5':5, '6':6, '7':7, '8':8, '9':9, 'A':10, 'B':11, 'C':12, 'D':13, 'E':14, 'F':15}\n",
      "    ans = \"\"\n",
      "    \n",
      "    for i in range(len(num)-1, -1, -1):\n",
      "        ans = str(decimalToBinary(m[num[i]])) + ans\n",
      "        \n",
      "    print ans  "
     ],
     "language": "python",
     "metadata": {},
     "outputs": [],
     "prompt_number": 113
    },
    {
     "cell_type": "code",
     "collapsed": false,
     "input": [
      "hexadecimalToBinary(\"9F\")"
     ],
     "language": "python",
     "metadata": {},
     "outputs": [
      {
       "output_type": "stream",
       "stream": "stdout",
       "text": [
        "10011111\n"
       ]
      }
     ],
     "prompt_number": 114
    },
    {
     "cell_type": "code",
     "collapsed": false,
     "input": [
      "%%file conversiones.py\n",
      "#Con complemento base 2\n",
      "def decimalToBinaryB2(num):  \n",
      "    assert -128 <= num < 128, \"overflow\"\n",
      "    \n",
      "    s = []\n",
      "    num = (num + 256) % 256\n",
      "    \n",
      "    for i in range(8):\n",
      "        s.append(num % 2)\n",
      "        num /= 2\n",
      "    \n",
      "    for d in reversed(s):\n",
      "        print d,\n",
      "        \n",
      "#Con complemento base 2\n",
      "def binaryToDecimalB2(num): \n",
      "    assert 0 <= num <= 11111111, \"Overflow\" \n",
      "    ans = 0\n",
      "    pwr = 0\n",
      "    \n",
      "    for i in range(7):\n",
      "        ans += (num % 10) * 2**pwr\n",
      "        pwr+=1\n",
      "        num /=10\n",
      "        \n",
      "    if num % 10 == 1:\n",
      "        ans -= 128\n",
      "\n",
      "    return ans\n",
      "\n",
      "#Sin complemento base 2\n",
      "def binaryToDecimal(num): \n",
      "    assert 0 <= num <= 11111111, \"Overflow\" \n",
      "    ans = 0\n",
      "    pwr = 0\n",
      "    \n",
      "    for i in range(8):\n",
      "        ans += (num % 10) * 2**pwr\n",
      "        pwr+=1\n",
      "        num /=10\n",
      "\n",
      "    return ans\n",
      "\n",
      "#Sin complemento base 2\n",
      "def decimalToBinary(num):\n",
      "    ans = 0\n",
      "    b = 1 \n",
      "    assert 0 <= num <= 256, \"Overflow\"    \n",
      "    while num > 0:\n",
      "        if num % 2 == 1:\n",
      "            ans += b\n",
      "        b *= 10\n",
      "        num /= 2 \n",
      "    return ans\n",
      "\n",
      "#Para enteros no negativos\n",
      "def binaryToHexadecimal(num): \n",
      "    assert 0 <= num <= 11111111, \"Overflow\" \n",
      "    ans = \"\"\n",
      "    conv = [\"0\" , \"1\", \"2\", \"3\", \"4\", \"5\", \"6\", \"7\", \"8\", \"9\", \"A\", \"B\", \"C\", \"D\", \"E\", \"F\"]\n",
      "    \n",
      "    while num > 0:\n",
      "        x = num % 10000\n",
      "        ans =  conv[binaryToDecimal(x)] + ans\n",
      "        num /= 10000\n",
      "        \n",
      "    print ans\n",
      "    \n",
      "#Para enteros no negativos\n",
      "def hexadecimalToBinary(num): \n",
      "    m = {'0':0, '1':1, '2':2, '3':3, '4':4, '5':5, '6':6, '7':7, '8':8, '9':9, 'A':10, 'B':11, 'C':12, 'D':13, 'E':14, 'F':15}\n",
      "    ans = \"\"\n",
      "    \n",
      "    for i in range(len(num)-1, -1, -1):\n",
      "        ans = str(decimalToBinary(m[num[i]])) + ans\n",
      "        \n",
      "    print ans "
     ],
     "language": "python",
     "metadata": {},
     "outputs": [
      {
       "output_type": "stream",
       "stream": "stdout",
       "text": [
        "Overwriting conversiones.py\n"
       ]
      }
     ],
     "prompt_number": 116
    },
    {
     "cell_type": "code",
     "collapsed": false,
     "input": [],
     "language": "python",
     "metadata": {},
     "outputs": []
    }
   ],
   "metadata": {}
  }
 ]
}