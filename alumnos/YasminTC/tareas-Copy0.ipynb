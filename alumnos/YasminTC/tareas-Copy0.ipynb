{
 "metadata": {
  "name": "",
  "signature": "sha256:ba1dbfd8b0283aa64a287a41b65ca7ffd8d6f2c9b5456c525a55e66212a25a20"
 },
 "nbformat": 3,
 "nbformat_minor": 0,
 "worksheets": [
  {
   "cells": [
    {
     "cell_type": "heading",
     "level": 1,
     "metadata": {},
     "source": [
      "Tareas"
     ]
    },
    {
     "cell_type": "code",
     "collapsed": false,
     "input": [
      "%pylab inline\n",
      "import numpy as np\n",
      "import matplotlib.pyplot as plt"
     ],
     "language": "python",
     "metadata": {},
     "outputs": [
      {
       "output_type": "stream",
       "stream": "stdout",
       "text": [
        "Populating the interactive namespace from numpy and matplotlib\n"
       ]
      }
     ],
     "prompt_number": 8
    },
    {
     "cell_type": "code",
     "collapsed": false,
     "input": [
      "# El c\u00f3digo siguiente recarga (reloads) las rutinas externas cada vez que el c\u00f3digo cambia (es \u00fatil para \"debuggear\" c\u00f3digo externo)\n",
      "\n",
      "%load_ext autoreload\n",
      "%autoreload 2"
     ],
     "language": "python",
     "metadata": {},
     "outputs": [],
     "prompt_number": 2
    },
    {
     "cell_type": "code",
     "collapsed": false,
     "input": [
      "# Realiza division flotante\n",
      "from __future__ import division"
     ],
     "language": "python",
     "metadata": {},
     "outputs": [],
     "prompt_number": 3
    },
    {
     "cell_type": "heading",
     "level": 2,
     "metadata": {},
     "source": [
      "Problema 1"
     ]
    },
    {
     "cell_type": "markdown",
     "metadata": {},
     "source": [
      "Utilizando el c\u00f3digo de runge-kutta de segundo orden como base, implemente el c\u00f3digo de runge-kutta de cuarto orden. La funci\u00f3n debe de llamarse `rk4`. "
     ]
    },
    {
     "cell_type": "code",
     "collapsed": false,
     "input": [
      "def RK4(y, t, dt, derivadas):\n",
      "    k0 = dt*derivadas(y, t)\n",
      "    k1 = dt*derivadas(y + (1/2)*k0, t + (1/2)*dt)\n",
      "    k2 = dt*derivadas(y + (1/2)*k1, t + (1/2)*dt)\n",
      "    k3 = dt*derivadas(y + k3, t + dt)\n",
      "    \n",
      "    y_next = y + (1/6)*(k0 + k1 + k2 + k3)\n",
      "    \n",
      "    return y_next"
     ],
     "language": "python",
     "metadata": {},
     "outputs": [],
     "prompt_number": 4
    },
    {
     "cell_type": "heading",
     "level": 2,
     "metadata": {},
     "source": [
      "Problema 2"
     ]
    },
    {
     "cell_type": "markdown",
     "metadata": {},
     "source": [
      "La taza a la cual un recurso finito es recogido depende de la dificultad y de la demanda. Sup\u00f3n que la demanda $D$ se incrementa con la cantidad extra\u00edda $E$:\n",
      "\n",
      "$$\\dot D = \\alpha E$$\n",
      "\n",
      "Sup\u00f3n que la dificultad de extracci\u00f3n $W$ es inversamentedependiente de la fracci\u00f3n restante del recurso:\n",
      "\n",
      "$$\n",
      "W = \\frac{1}{1 -E}\n",
      "$$\n",
      "\n",
      "Finalmente, sup\u00f3n que la tasa de extracci\u00f3n $$ es la raz\u00f3n de la demanda a la dificultad.\n",
      "\n",
      "$$ R = \\dot E = \\frac{D}{W} $$\n",
      "\n",
      "Por \u00faltimo, el costo $C$ del recurso depende de la tasa de la extracci\u00f3n y de la demanda:\n",
      "\n",
      "$$ C = \\frac{D}{R}\\xi$$,\n",
      "\n",
      "donde $\\xi$ es un factor de escala.\n",
      "\n",
      "(a) Escribe un programa que dibuja la tasa de la extracci\u00f3n y el costo como una funci\u00f3n del tiempo. Usando las condiciones iniciales: $D_0 = 0.1$, $E_0 = 0.1$,  $\\alpha = 2.0$ y $\\xi = 0.01$. Grafica de 0 a 5 unidades de tiempo. \n",
      "\n",
      "\n",
      "(b) Resuelve con `rk4` y con  `odeint`. Compara los tiempos y los resultados. \u00bfQu\u00e9 puedes concluir?\n",
      "\n",
      "(c) Agrega un _widget_ para los valores de $\\alpha$ y $\\xi$.\n",
      "\n",
      "(d) Discute la din\u00e1mica del sistema en general y menciona algunos hallazgos interesantes para diferentes valores y condiciones iniciales."
     ]
    },
    {
     "cell_type": "heading",
     "level": 2,
     "metadata": {},
     "source": [
      "Problema 3"
     ]
    },
    {
     "cell_type": "markdown",
     "metadata": {},
     "source": [
      "(a) Calcular el valor de $\\pi$ usando m\u00e9todos de Monte Carlo.\n",
      "\n",
      "(b) El \"volumen\" de una 2-esfera (un c\u00edrculo)   $x^2 + y^2 = r^2$ es \n",
      "\n",
      "$$\\pi r^2$$,\n",
      "\n",
      "el volumen de la 3-esfera $x^2 + y^2 + z^2 = r^2$ es \n",
      "\n",
      "\n",
      "$$\\frac{4}{3} \\pi r^3$$. \n",
      "\n",
      "\n",
      "La 4-esfera $x^2 + y^2 + z^2 + w^2 = r^2$, podemos suponer (usando los ejemplos anteriores) que el hipervolumen de la 4-esfera es \n",
      "\n",
      "$$\\alpha\\pi r^4$$. \n",
      "\n",
      "\n",
      "Usando t\u00e9cnicas de Monte Carlo estima $\\alpha$."
     ]
    },
    {
     "cell_type": "code",
     "collapsed": false,
     "input": [
      "import random\n",
      " \n",
      "def MonteCarlo(n=10000000):\n",
      "    \n",
      "    k = 0\n",
      "    \n",
      "    for i in range(n):\n",
      "        \n",
      "        x = random.random()\n",
      "        y = random.random()\n",
      "        \n",
      "        if (x ** 2 + y ** 2 <= 1):\n",
      "            \n",
      "            k = k + 1\n",
      "    #para calcular aprox PI = 4 * float(k) / n\n",
      "    \n",
      "    return (4 * float(k) / n)\n",
      " \n",
      "print (MonteCarlo())"
     ],
     "language": "python",
     "metadata": {},
     "outputs": [
      {
       "output_type": "stream",
       "stream": "stdout",
       "text": [
        "3.1408056\n"
       ]
      }
     ],
     "prompt_number": 11
    },
    {
     "cell_type": "code",
     "collapsed": false,
     "input": [
      "import math"
     ],
     "language": "python",
     "metadata": {},
     "outputs": []
    },
    {
     "cell_type": "code",
     "collapsed": false,
     "input": [
      "def alpha(n):\n",
      "    \n",
      "    if (n%2==0):\n",
      "        f=n-1\n",
      "        if f==1:\n",
      "            alpha=1/((f)*math.factorial(f-1))\n",
      "            print alpha\n",
      "        else:\n",
      "            alpha=1/((f-1)*math.factorial(f-2))\n",
      "            print alpha\n",
      "        \n",
      "    else:\n",
      "        fact=0\n",
      "        if (n>0):\n",
      "        \n",
      "            while n>0:\n",
      "                m=n-2\n",
      "                fact=fact*n*m\n",
      "                n=m\n",
      "                return fact\n",
      "        else:\n",
      "            fact=fact+1\n",
      "            return fact \n",
      "        \n",
      "        alpha=(math.sqrt(math.pi))*(fact/(2**((n+1)/2)))\n",
      "        print alpha"
     ],
     "language": "python",
     "metadata": {},
     "outputs": [],
     "prompt_number": 42
    },
    {
     "cell_type": "code",
     "collapsed": false,
     "input": [
      "alpha(2)"
     ],
     "language": "python",
     "metadata": {},
     "outputs": [
      {
       "output_type": "stream",
       "stream": "stdout",
       "text": [
        "1.0\n"
       ]
      }
     ],
     "prompt_number": 43
    },
    {
     "cell_type": "code",
     "collapsed": false,
     "input": [
      "alpha(4)"
     ],
     "language": "python",
     "metadata": {},
     "outputs": [
      {
       "output_type": "stream",
       "stream": "stdout",
       "text": [
        "0.5\n"
       ]
      }
     ],
     "prompt_number": 44
    }
   ],
   "metadata": {}
  }
 ]
}