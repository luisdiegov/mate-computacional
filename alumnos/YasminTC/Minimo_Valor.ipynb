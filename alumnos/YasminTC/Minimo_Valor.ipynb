{
 "metadata": {
  "name": "",
  "signature": "sha256:7cb4c65aa12f0b77356056dd697610dbb4711f2c3cf119cbbce66efc601007b8"
 },
 "nbformat": 3,
 "nbformat_minor": 0,
 "worksheets": [
  {
   "cells": [
    {
     "cell_type": "code",
     "collapsed": false,
     "input": [
      "n=1\n",
      "while(1.0+(n/(2.0))!=1.0):\n",
      "    n/=2.0\n",
      "print n"
     ],
     "language": "python",
     "metadata": {},
     "outputs": [
      {
       "output_type": "stream",
       "stream": "stdout",
       "text": [
        "2.22044604925e-16\n"
       ]
      }
     ],
     "prompt_number": 10
    },
    {
     "cell_type": "code",
     "collapsed": false,
     "input": [
      "epsilon = 1.0\n",
      "\n",
      "while (1.0 + 0.5 * epsilon) != 1.0:\n",
      "    epsilon = 0.5 * epsilon\n",
      "print epsilon"
     ],
     "language": "python",
     "metadata": {},
     "outputs": [
      {
       "output_type": "stream",
       "stream": "stdout",
       "text": [
        "2.22044604925e-16\n"
       ]
      }
     ],
     "prompt_number": 7
    },
    {
     "cell_type": "code",
     "collapsed": false,
     "input": [],
     "language": "python",
     "metadata": {},
     "outputs": []
    }
   ],
   "metadata": {}
  }
 ]
}