{
 "metadata": {
  "name": "",
  "signature": "sha256:71a7ee887a9e471b14dfd94050fbbf766ebcf168e18e2615c9d41e903197844b"
 },
 "nbformat": 3,
 "nbformat_minor": 0,
 "worksheets": [
  {
   "cells": [
    {
     "cell_type": "markdown",
     "metadata": {},
     "source": [
      "Coin Sum"
     ]
    },
    {
     "cell_type": "heading",
     "level": 6,
     "metadata": {},
     "source": [
      "Soluci\u00f3n 1"
     ]
    },
    {
     "cell_type": "markdown",
     "metadata": {},
     "source": [
      "Esta soluci\u00f3n es a base de diofantinas. Por eso es que restringimos con un range los valores de \"b\" que representan \u00a31, \"c\" que representa 50 p, \"d\" que representa 20p, \"e\" que representa 10p, \"f\" que representa 5p y \"g\" que representa 2p. No fue necesario representar 1p porque las contamos con el menor o igual.\n",
      "Con el \"count\" contamos todas las posibles combinaciones."
     ]
    },
    {
     "cell_type": "code",
     "collapsed": false,
     "input": [
      "def main():\n",
      "    count=0\n",
      "    for b in range (101):\n",
      "        for c in range (51):\n",
      "            for d in range(21):\n",
      "                for e in range (11):\n",
      "                    for f in range (6):\n",
      "                        for g in range (3):\n",
      "                            if b*2+c*5+d*10+e*20+f*50+g*100<=200:\n",
      "                                count+=1\n",
      "    print(count+1)\n",
      "                                \n",
      "\n",
      "main()"
     ],
     "language": "python",
     "metadata": {},
     "outputs": [
      {
       "output_type": "stream",
       "stream": "stdout",
       "text": [
        "73682\n"
       ]
      }
     ],
     "prompt_number": 8
    },
    {
     "cell_type": "heading",
     "level": 6,
     "metadata": {},
     "source": [
      "Soluci\u00f3n 2"
     ]
    },
    {
     "cell_type": "markdown",
     "metadata": {},
     "source": [
      "Esta soluci\u00f3n fue con programaci\u00f3n din\u00e1mica y la encontr\u00e9 en una pagina web. http://www.mathblog.dk/project-euler-31-combinations-english-currency-denominations/"
     ]
    },
    {
     "cell_type": "code",
     "collapsed": false,
     "input": [
      "coin = [1, 2, 5, 10, 20, 50, 100, 200]\n",
      "s = {i:0 for i in range(201)}\n",
      "for c in coin:\n",
      "    s[c] += 1\n",
      "    for i in range(c+1, 201):\n",
      "        s[i] += s[i-c]\n",
      "print(s[200])"
     ],
     "language": "python",
     "metadata": {},
     "outputs": [
      {
       "output_type": "stream",
       "stream": "stdout",
       "text": [
        "73682\n"
       ]
      }
     ],
     "prompt_number": 4
    },
    {
     "cell_type": "code",
     "collapsed": false,
     "input": [],
     "language": "python",
     "metadata": {},
     "outputs": []
    }
   ],
   "metadata": {}
  }
 ]
}