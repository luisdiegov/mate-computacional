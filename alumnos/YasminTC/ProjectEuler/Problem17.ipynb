{
 "metadata": {
  "name": "",
  "signature": "sha256:36eb2ea6a506b5a1955f90a5cdaf66b346668b326453f76d37d999be378bfb59"
 },
 "nbformat": 3,
 "nbformat_minor": 0,
 "worksheets": [
  {
   "cells": [
    {
     "cell_type": "markdown",
     "metadata": {},
     "source": [
      "Number Letter Counts"
     ]
    },
    {
     "cell_type": "code",
     "collapsed": false,
     "input": [
      "num = ['','one','two','three','four','five','six','seven','eigth','nine','ten','eleven','twelve','thirteen','fourteen','fifteen','sixteen','seventeen','eighteen','nineteen']\n",
      "\n",
      "for d in ('twenty','thirty','forty','fifty', 'sixty', 'seventy', 'eighty','ninety'):\n",
      "    for n in num[0:10]:\n",
      "        num.append(d+n)\n",
      "\n",
      "for c in num[1:10]:\n",
      "    num.append(c+'hundred')\n",
      "    for n in num[1:100]:\n",
      "        num.append(c+'hundredand'+n)\n",
      "num.append('onethousand')\n",
      "print(sum([len(w) for w in num]))"
     ],
     "language": "python",
     "metadata": {},
     "outputs": [
      {
       "output_type": "stream",
       "stream": "stdout",
       "text": [
        "21124\n"
       ]
      }
     ],
     "prompt_number": 12
    },
    {
     "cell_type": "code",
     "collapsed": false,
     "input": [
      "sum?"
     ],
     "language": "python",
     "metadata": {},
     "outputs": [],
     "prompt_number": 7
    },
    {
     "cell_type": "code",
     "collapsed": false,
     "input": [
      "len?"
     ],
     "language": "python",
     "metadata": {},
     "outputs": [],
     "prompt_number": 5
    },
    {
     "cell_type": "markdown",
     "metadata": {},
     "source": [
      "La soluci\u00f3n utiliza dos for anidados. El primer for anidado cuenta los n\u00fameros del 1 al 99. Mientras que el segundo for cuenta del 100 al 999. Por ultimo \"num.append('onethousand')\" cuenta el 1000. Y para colcluir uzamos unlen para que cuente todas las letras de las palabras que fuimos agregando con append."
     ]
    },
    {
     "cell_type": "code",
     "collapsed": false,
     "input": [],
     "language": "python",
     "metadata": {},
     "outputs": []
    }
   ],
   "metadata": {}
  }
 ]
}