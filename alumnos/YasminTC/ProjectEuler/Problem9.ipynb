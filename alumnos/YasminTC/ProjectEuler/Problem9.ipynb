{
 "metadata": {
  "name": "",
  "signature": "sha256:1f715bb5fcd755c156f2cb73dcfae970f89fb5b734b83fc2d0d858077d94fc48"
 },
 "nbformat": 3,
 "nbformat_minor": 0,
 "worksheets": [
  {
   "cells": [
    {
     "cell_type": "code",
     "collapsed": false,
     "input": [
      "for a in range(1,500):\n",
      "    for b in range(1,500):\n",
      "        for c in range(1,500):\n",
      "            if a ** 2 + b ** 2 == c ** 2 and a + b + c == 1000:\n",
      "                print a*b*c"
     ],
     "language": "python",
     "metadata": {},
     "outputs": [
      {
       "output_type": "stream",
       "stream": "stdout",
       "text": [
        "31875000\n",
        "31875000"
       ]
      },
      {
       "output_type": "stream",
       "stream": "stdout",
       "text": [
        "\n"
       ]
      }
     ],
     "prompt_number": 1
    },
    {
     "cell_type": "code",
     "collapsed": false,
     "input": [],
     "language": "python",
     "metadata": {},
     "outputs": []
    }
   ],
   "metadata": {}
  }
 ]
}