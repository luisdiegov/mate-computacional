{
 "metadata": {
  "name": "",
  "signature": "sha256:e705b8bf0c22c38647cc6cfd15332936aa0886028e21ca3211a04725aa0d1b23"
 },
 "nbformat": 3,
 "nbformat_minor": 0,
 "worksheets": [
  {
   "cells": [
    {
     "cell_type": "code",
     "collapsed": false,
     "input": [],
     "language": "python",
     "metadata": {},
     "outputs": []
    }
   ],
   "metadata": {}
  }
 ]
}