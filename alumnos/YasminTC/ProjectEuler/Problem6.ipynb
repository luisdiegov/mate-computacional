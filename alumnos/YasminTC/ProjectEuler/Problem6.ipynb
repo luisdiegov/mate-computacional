{
 "metadata": {
  "name": "",
  "signature": "sha256:56e2cab73a9845babaed0472529334f073b3d786613cb2cdc08f52483618b93c"
 },
 "nbformat": 3,
 "nbformat_minor": 0,
 "worksheets": [
  {
   "cells": [
    {
     "cell_type": "code",
     "collapsed": false,
     "input": [
      "def sumOfSquares(n):\n",
      "    sum = 0\n",
      "    for i in range(1,n+1):\n",
      "        sum += i**2\n",
      "    return sum"
     ],
     "language": "python",
     "metadata": {},
     "outputs": [],
     "prompt_number": 15
    },
    {
     "cell_type": "code",
     "collapsed": false,
     "input": [
      "def squareOfSum(n):\n",
      "    sum = 0\n",
      "    for i in range(1,n+1):\n",
      "        sum += i\n",
      "    return sum**2"
     ],
     "language": "python",
     "metadata": {},
     "outputs": [],
     "prompt_number": 16
    },
    {
     "cell_type": "code",
     "collapsed": false,
     "input": [
      "def difference(n):\n",
      "    return squareOfSum(n) - sumOfSquares(n)\n",
      "\n",
      "print difference(100)"
     ],
     "language": "python",
     "metadata": {},
     "outputs": [
      {
       "output_type": "stream",
       "stream": "stdout",
       "text": [
        "25164150\n"
       ]
      }
     ],
     "prompt_number": 17
    },
    {
     "cell_type": "code",
     "collapsed": false,
     "input": [],
     "language": "python",
     "metadata": {},
     "outputs": []
    }
   ],
   "metadata": {}
  }
 ]
}