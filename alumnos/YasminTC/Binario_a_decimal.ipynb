{
 "metadata": {
  "name": "",
  "signature": "sha256:c096189102d2a09d12c07d0509afdf77c3bdbf03310e00dff02e39c40ac2c92f"
 },
 "nbformat": 3,
 "nbformat_minor": 0,
 "worksheets": [
  {
   "cells": [
    {
     "cell_type": "code",
     "collapsed": false,
     "input": [
      "def decimal_a_binario(bin=\"binario\"):\n",
      "    decimal=int(bin,2)\n",
      "    return decimal"
     ],
     "language": "python",
     "metadata": {},
     "outputs": [],
     "prompt_number": 43
    },
    {
     "cell_type": "code",
     "collapsed": false,
     "input": [
      "decimal_a_binario('0b10110')"
     ],
     "language": "python",
     "metadata": {},
     "outputs": [
      {
       "metadata": {},
       "output_type": "pyout",
       "prompt_number": 45,
       "text": [
        "22"
       ]
      }
     ],
     "prompt_number": 45
    },
    {
     "cell_type": "markdown",
     "metadata": {},
     "source": []
    },
    {
     "cell_type": "markdown",
     "metadata": {},
     "source": [
      "Intent\u00e9 hacer una funci\u00f3n sin utilizar \"int\", pero no pude hacerla. As\u00ed que hice una funci\u00f3n en la que no tuvieramos que porner siempre el n\u00famero dos al final."
     ]
    },
    {
     "cell_type": "code",
     "collapsed": false,
     "input": [],
     "language": "python",
     "metadata": {},
     "outputs": [],
     "prompt_number": 38
    },
    {
     "cell_type": "code",
     "collapsed": false,
     "input": [],
     "language": "python",
     "metadata": {},
     "outputs": []
    }
   ],
   "metadata": {}
  }
 ]
}