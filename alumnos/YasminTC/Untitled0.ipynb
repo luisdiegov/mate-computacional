{
 "metadata": {
  "name": "",
  "signature": "sha256:a60bac7b72038e1408229a0d2db446f5c3c7e8be1a13821056d912723fa0306d"
 },
 "nbformat": 3,
 "nbformat_minor": 0,
 "worksheets": [
  {
   "cells": [
    {
     "cell_type": "markdown",
     "metadata": {},
     "source": [
      "De cartesianas a esfericas"
     ]
    },
    {
     "cell_type": "code",
     "collapsed": false,
     "input": [
      "%%file transformaciones.py \n",
      "def coordenadasCartesianas(x,y,z):\n",
      "    \"\"\" cambia de coordenadas cartesianas a esfericas \"\"\"\n",
      "    from math import arcsin, arccos, sin\n",
      "    r=sqrt(x**2 + y**2 + z**2)\n",
      "    t=arccos(z/r)\n",
      "    f=(y/(r*sin(t)))\n",
      "    \n",
      "    print r,t,f\n",
      "    return r,t,f"
     ],
     "language": "python",
     "metadata": {},
     "outputs": [
      {
       "output_type": "stream",
       "stream": "stdout",
       "text": [
        "Overwriting transformaciones.py\n"
       ]
      }
     ],
     "prompt_number": 4
    },
    {
     "cell_type": "code",
     "collapsed": false,
     "input": [
      "!pwd"
     ],
     "language": "python",
     "metadata": {},
     "outputs": [
      {
       "output_type": "stream",
       "stream": "stdout",
       "text": [
        "/home/itam/proyectos/mate-computacional/alumnos/YasminTC\r\n"
       ]
      }
     ],
     "prompt_number": 2
    },
    {
     "cell_type": "code",
     "collapsed": false,
     "input": [
      "!cat transformaciones.py"
     ],
     "language": "python",
     "metadata": {},
     "outputs": [
      {
       "output_type": "stream",
       "stream": "stdout",
       "text": [
        "def coordenadasCartesianas(x,y,z):\r\n",
        "    \"\"\" cambia de coordenadas cartesianas a esfericas \"\"\"\r\n",
        "    from math import arcsin, arccos, sin\r\n",
        "    r=sqrt(x**2 + y**2 + z**2)\r\n",
        "    t=arccos(z/r)\r\n",
        "    f=(y/(r*sin(t)))\r\n",
        "    \r\n",
        "    print r,t,f\r\n",
        "    return r,t,f"
       ]
      }
     ],
     "prompt_number": 5
    },
    {
     "cell_type": "code",
     "collapsed": false,
     "input": [],
     "language": "python",
     "metadata": {},
     "outputs": []
    }
   ],
   "metadata": {}
  }
 ]
}