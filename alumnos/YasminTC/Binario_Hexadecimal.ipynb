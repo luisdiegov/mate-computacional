{
 "metadata": {
  "name": "",
  "signature": "sha256:511ed2c79e3526e16f2419c8b5dc5ae1ff316bd4392cad94b26227774671dbcd"
 },
 "nbformat": 3,
 "nbformat_minor": 0,
 "worksheets": [
  {
   "cells": [
    {
     "cell_type": "code",
     "collapsed": false,
     "input": [
      "def hexadecimal_a_binario(h=\"hexadecimal\"):\n",
      "    decimal = int(h,16)\n",
      "    binario = bin(decimal)\n",
      "    print binario\n",
      "    return binario"
     ],
     "language": "python",
     "metadata": {},
     "outputs": [],
     "prompt_number": 38
    },
    {
     "cell_type": "code",
     "collapsed": false,
     "input": [
      "hexadecimal_a_binario('FFFF')"
     ],
     "language": "python",
     "metadata": {},
     "outputs": [
      {
       "output_type": "stream",
       "stream": "stdout",
       "text": [
        "0b1111111111111111\n"
       ]
      },
      {
       "metadata": {},
       "output_type": "pyout",
       "prompt_number": 39,
       "text": [
        "'0b1111111111111111'"
       ]
      }
     ],
     "prompt_number": 39
    },
    {
     "cell_type": "code",
     "collapsed": false,
     "input": [
      "def binario_a_hexadecimal(b=\"binario\"):\n",
      "    decimal = int(b,2)\n",
      "    hexadecimal = ''\n",
      "    \n",
      "    while decimal // 16 !=0:\n",
      "        if decimal%16==10:\n",
      "            hexadecimal = 'A' + hexadecimal\n",
      "        else:\n",
      "            if decimal%16==11:\n",
      "                hexadecimal = 'B' + hexadecimal\n",
      "            else: \n",
      "                if decimal%16==12:\n",
      "                    hexadecimal = 'C' + hexadecimal\n",
      "                else:\n",
      "                    if decimal%16==13:\n",
      "                        hexadecimal = 'D' + hexadecimal\n",
      "                    else:\n",
      "                        if decimal%16==14:\n",
      "                            hexadecimal = 'E' + hexadecimal\n",
      "                        else:\n",
      "                            if decimal%16==15:\n",
      "                                hexadecimal = 'F' + hexadecimal\n",
      "                            else:\n",
      "                                hexadecimal = str(decimal%16) + hexadecimal\n",
      "    decimal = decimal//16\n",
      "    \n",
      "    return str(decimal) + hexadecimal"
     ],
     "language": "python",
     "metadata": {},
     "outputs": [
      {
       "ename": "IndentationError",
       "evalue": "unindent does not match any outer indentation level (<ipython-input-51-877ed085fb45>, line 29)",
       "output_type": "pyerr",
       "traceback": [
        "\u001b[1;36m  File \u001b[1;32m\"<ipython-input-51-877ed085fb45>\"\u001b[1;36m, line \u001b[1;32m29\u001b[0m\n\u001b[1;33m    else:\u001b[0m\n\u001b[1;37m         ^\u001b[0m\n\u001b[1;31mIndentationError\u001b[0m\u001b[1;31m:\u001b[0m unindent does not match any outer indentation level\n"
       ]
      }
     ],
     "prompt_number": 51
    },
    {
     "cell_type": "code",
     "collapsed": false,
     "input": [
      "int?"
     ],
     "language": "python",
     "metadata": {},
     "outputs": [],
     "prompt_number": 15
    },
    {
     "cell_type": "code",
     "collapsed": false,
     "input": [
      "bin?"
     ],
     "language": "python",
     "metadata": {},
     "outputs": [],
     "prompt_number": 18
    },
    {
     "cell_type": "code",
     "collapsed": false,
     "input": [
      "binario_a_hexadecimal('0b11110')"
     ],
     "language": "python",
     "metadata": {},
     "outputs": [
      {
       "metadata": {},
       "output_type": "pyout",
       "prompt_number": 41,
       "text": [
        "'114'"
       ]
      }
     ],
     "prompt_number": 41
    },
    {
     "cell_type": "code",
     "collapsed": false,
     "input": [],
     "language": "python",
     "metadata": {},
     "outputs": [],
     "prompt_number": 51
    },
    {
     "cell_type": "code",
     "collapsed": false,
     "input": [
      "binario_a_hexadecimal('0b1111111111111111')"
     ],
     "language": "python",
     "metadata": {},
     "outputs": [
      {
       "metadata": {},
       "output_type": "pyout",
       "prompt_number": 44,
       "text": [
        "'15FFF'"
       ]
      }
     ],
     "prompt_number": 44
    },
    {
     "cell_type": "code",
     "collapsed": false,
     "input": [],
     "language": "python",
     "metadata": {},
     "outputs": [],
     "prompt_number": 51
    },
    {
     "cell_type": "code",
     "collapsed": false,
     "input": [],
     "language": "python",
     "metadata": {},
     "outputs": [],
     "prompt_number": 51
    },
    {
     "cell_type": "code",
     "collapsed": false,
     "input": [],
     "language": "python",
     "metadata": {},
     "outputs": []
    }
   ],
   "metadata": {}
  }
 ]
}