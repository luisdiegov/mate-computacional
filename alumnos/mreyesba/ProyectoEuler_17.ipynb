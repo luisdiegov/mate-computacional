{
 "metadata": {
  "name": "",
  "signature": "sha256:5350c039499ae4ecbb4ebf43660d3dc0d395fbe0851d047a039e76082c0eaa00"
 },
 "nbformat": 3,
 "nbformat_minor": 0,
 "worksheets": [
  {
   "cells": [
    {
     "cell_type": "heading",
     "level": 3,
     "metadata": {},
     "source": []
    },
    {
     "cell_type": "code",
     "collapsed": false,
     "input": [
      "a={1:3,2:3,3:5,4:4,5:4,6:3,7:5,8:5,9:4,10:3,11:6,12:6,13:8,14:8,15:7,16:7,17:9,18:8,19:8,20:6,30:6,40:6,50:5,60:5,70:7,80:6,90:6,100:10,200:10,300:12,400:11,500:11,600:10,700:12,800:12,900:11,1000:11}\n",
      "sum=0#hacemos un diccionario con el numero y el numero de letras que tiene, solo con los numeros necesarios para escribir todos los demas\n",
      "for i in range(1,1001,1):#por cada numero del 1 al 1000 sumaremos sus letras\n",
      "    md=i%10\n",
      "    mc=i%100\n",
      "    if i<100:#aqui vienen los casos, primero vemos los que son menores de 100\n",
      "        if mc<20:#vemos que sean menores que 20 para usar el 11,12,etc\n",
      "            sum+= a[mc]\n",
      "        else:\n",
      "            if md==0:\n",
      "                sum= sum+a[i]#si es mult de 10 tenemos su valor asociado en el diccionario, por lo que lo llamamos directamente\n",
      "            else:\n",
      "                sum= sum+a[md]+a[((mc)/10)*10]#si no es mult de 10 tomamos sus decenas y sus unidades aprovechando las propiedades de la division entera y sumamos el numero de letras\n",
      "    else:\n",
      "        if mc<20:\n",
      "            if mc==0:#el proceso aqui es muy parecido al anterior, solo que aqui tambien conseguimos sus centenas\n",
      "                sum= sum+a[i]#consideramos el caso que sea multiplo de 100\n",
      "            else:\n",
      "                sum= sum+a[mc]+a[(i/100)*100]\n",
      "        else:\n",
      "            if md==0:\n",
      "                sum= sum+a[mc]+a[((i/100)*100)]\n",
      "            else:\n",
      "                sum= sum+a[md]+a[((mc)/10)*10]+a[(i/100)*100]\n",
      "        if mc!=0:#por ultimo sumamos el \"and\" en los caso que sean necesarios, que son cuando el numero mod 100 es diferente de 0\n",
      "            sum+=3   \n",
      "print sum         #imprimimos la suma   "
     ],
     "language": "python",
     "metadata": {},
     "outputs": [
      {
       "output_type": "stream",
       "stream": "stdout",
       "text": [
        "21224\n"
       ]
      }
     ],
     "prompt_number": 24
    },
    {
     "cell_type": "code",
     "collapsed": false,
     "input": [
      "(75/10)*10"
     ],
     "language": "python",
     "metadata": {},
     "outputs": [
      {
       "metadata": {},
       "output_type": "pyout",
       "prompt_number": 9,
       "text": [
        "70"
       ]
      }
     ],
     "prompt_number": 9
    },
    {
     "cell_type": "code",
     "collapsed": false,
     "input": [],
     "language": "python",
     "metadata": {},
     "outputs": []
    }
   ],
   "metadata": {}
  }
 ]
}