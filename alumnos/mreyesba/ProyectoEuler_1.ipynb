{
 "metadata": {
  "name": "",
  "signature": "sha256:235e752f89e3b6456c5376a4a22a2bd4dc0437fd40b793bb3a7c7e2a5f23c6cb"
 },
 "nbformat": 3,
 "nbformat_minor": 0,
 "worksheets": [
  {
   "cells": [
    {
     "cell_type": "code",
     "collapsed": false,
     "input": [
      "#En este metodo se suman los numeros menores de 1000 que son multiplos de 3, de 5 o de ambos.\n",
      "sum=0\n",
      "for i in range(1,1000,1):\n",
      "    if i%3==0 or i%5==0:#Este if cheka si el numero es multiplo de 3, de 5 o de ambos. si lo es lo suma al total\n",
      "        sum=sum+i\n",
      "print sum        "
     ],
     "language": "python",
     "metadata": {},
     "outputs": []
    },
    {
     "cell_type": "code",
     "collapsed": false,
     "input": [
      "#En este metodo se suman los numeros de la suc. de fibonacci pares.\n",
      "f_list=[]\n",
      "n=0\n",
      "m=0\n",
      "f_list.append(1)\n",
      "f_list.append(1)\n",
      "i=2\n",
      "while m<4000000:#aqui se ve que el numero de la suc. de fibonacci no pase de 4000000\n",
      "    m=f_list[i-1]+f_list[i-2]#asi se obtiene el i-esimo elemento de la suc.\n",
      "    f_list.append(m)#si es multiplo de 2 lo suma\n",
      "    if m%2==0:\n",
      "        n=n+m\n",
      "    i+=1\n",
      "print n    "
     ],
     "language": "python",
     "metadata": {},
     "outputs": []
    },
    {
     "cell_type": "code",
     "collapsed": false,
     "input": [
      "#p es mi lista de primo y m mi lista de primos que dividen a mi numero de interes. Lo que hago es tomar primos y\n",
      "#luego chekar si esos primos dividen a mi numero de interes, al final tomo el ultimo de mi lista m el cual sera el mayor.\n",
      "p_list=[2]#primero haremos una lista con num primos mientras le aplicamos un filtro para ver si son divisores de nuestro numero\n",
      "n=1\n",
      "m_list=[]#lista de multiplos primos, creciente por contruccion\n",
      "i=3\n",
      "while 775146>i:\n",
      "    esPrimo=False #este boolean nos ayudara para la prueba para saber si un numero es primo o no\n",
      "    for j in p_list:\n",
      "        if i%j==0:#lo dividimos entre todos los primos de la lista\n",
      "            esPrimo=True\n",
      "    if esPrimo:\n",
      "        p_list.append(i)#si resulto ser primo lo agregamos a la lista de primos\n",
      "        if 600851475143%i==0:\n",
      "            m_list.append(i)#si resulto ser divisor lo agregamos a la lista de divisores\n",
      "    i+=1  \n",
      "print m_list(-1)"
     ],
     "language": "python",
     "metadata": {},
     "outputs": []
    },
    {
     "cell_type": "code",
     "collapsed": false,
     "input": [],
     "language": "python",
     "metadata": {},
     "outputs": []
    },
    {
     "cell_type": "code",
     "collapsed": false,
     "input": [],
     "language": "python",
     "metadata": {},
     "outputs": []
    },
    {
     "cell_type": "code",
     "collapsed": false,
     "input": [],
     "language": "python",
     "metadata": {},
     "outputs": []
    },
    {
     "cell_type": "code",
     "collapsed": false,
     "input": [],
     "language": "python",
     "metadata": {},
     "outputs": []
    }
   ],
   "metadata": {}
  }
 ]
}