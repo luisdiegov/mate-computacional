{
 "metadata": {
  "name": "",
  "signature": "sha256:a436aad2507c6f28f488f19951066ab302ecf6d6ceb482a35741f42f11779a9b"
 },
 "nbformat": 3,
 "nbformat_minor": 0,
 "worksheets": [
  {
   "cells": [
    {
     "cell_type": "code",
     "collapsed": false,
     "input": [
      "#Doy valores iniciales a mis variables\n",
      "ae=0\n",
      "be=0\n",
      "ce=0\n",
      "for a in range(1000):#pruebo con todas las a de 1 a 999 y con todas las b de a a 999 para quen o se repitan numeros\n",
      "    for b in range (a,1000):\n",
      "        c=1000-(a+b)#calculo la c\n",
      "        if c**2==a**2+b**2:#checo si es una terna pitagorica\n",
      "            ae=a#en caso afirmativo asigno los valores de la terna a mis variables\n",
      "            be=a\n",
      "            ce=c\n",
      "print ae*be*ce    #calculo el producto        "
     ],
     "language": "python",
     "metadata": {},
     "outputs": [
      {
       "output_type": "stream",
       "stream": "stdout",
       "text": [
        "17000000\n"
       ]
      }
     ],
     "prompt_number": 7
    },
    {
     "cell_type": "code",
     "collapsed": false,
     "input": [],
     "language": "python",
     "metadata": {},
     "outputs": [
      {
       "metadata": {},
       "output_type": "pyout",
       "prompt_number": 5,
       "text": [
        "2"
       ]
      }
     ],
     "prompt_number": 5
    },
    {
     "cell_type": "code",
     "collapsed": false,
     "input": [],
     "language": "python",
     "metadata": {},
     "outputs": []
    }
   ],
   "metadata": {}
  }
 ]
}