{
 "metadata": {
  "name": "",
  "signature": "sha256:a522f10e9ec49d3f4000c0337e6dc88d9b1b5cd6cd8a64abbb5a99ca07c1357f"
 },
 "nbformat": 3,
 "nbformat_minor": 0,
 "worksheets": [
  {
   "cells": [
    {
     "cell_type": "code",
     "collapsed": false,
     "input": [
      "sum=0\n",
      "for i in range (101):#calculo la suma de los primeros 100 numeros naturales\n",
      "    sum+=i\n",
      "print sum**2 #regreso la misma al cuadrado   \n",
      "    "
     ],
     "language": "python",
     "metadata": {},
     "outputs": [
      {
       "output_type": "stream",
       "stream": "stdout",
       "text": [
        "25502500\n"
       ]
      }
     ],
     "prompt_number": 4
    },
    {
     "cell_type": "code",
     "collapsed": false,
     "input": [],
     "language": "python",
     "metadata": {},
     "outputs": []
    }
   ],
   "metadata": {}
  }
 ]
}