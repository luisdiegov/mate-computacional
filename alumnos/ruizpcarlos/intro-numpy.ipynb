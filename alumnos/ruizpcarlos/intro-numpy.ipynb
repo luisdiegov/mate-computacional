{
 "metadata": {
  "name": "",
  "signature": "sha256:6309c406d600a415af79c35b129598d6317e4184eef5b379e120c6e92b08bcd3"
 },
 "nbformat": 3,
 "nbformat_minor": 0,
 "worksheets": [
  {
   "cells": [
    {
     "cell_type": "heading",
     "level": 1,
     "metadata": {},
     "source": [
      "Intro NumPy"
     ]
    },
    {
     "cell_type": "markdown",
     "metadata": {},
     "source": [
      "**NumPy** es la *librer\u00eda* de python para computaci\u00f3n cient\u00edfica. **NumPy** agrega al lenguaje lo siguiente: Arreglos multidimensionales, operaciones elemento por elemento (t\u00e9cnica conocida como *broadcasting*), algebra lineal, manipulaci\u00f3n de im\u00e1genes, la habilidad de utilizar c\u00f3digo `C/C++` y `FORTRAN`, entre muchas otras.\n",
      "\n",
      "La mayor parte de los componentes del sistema de computo cient\u00edfico de Python, est\u00e1n construidas encima de **NumPy**, un ejemplo que veremos en el curso es `SciPy`.\n",
      "\n",
      "Para poder utilizar **NumPy**, es necesario importarlo a la sesi\u00f3n del `notebook`."
     ]
    },
    {
     "cell_type": "code",
     "collapsed": false,
     "input": [
      "import numpy as np"
     ],
     "language": "python",
     "metadata": {},
     "outputs": [],
     "prompt_number": 1
    },
    {
     "cell_type": "markdown",
     "metadata": {},
     "source": [
      "<div class=\"alert alert-info\">\n",
      "**Ejercicio:**\n",
      "(a) Cree un arreglo de 2D $5\\times5$ lleno de unos. (b) Utilice *slicing* para seleccionar 1 cuadrado alrededor del centro  y ll\u00e9nelo con $2$s.  (c) Utilice *slicing* para seleccionar  el centro y as\u00edgnele $4$. (d) Copie el arreglo. (e) Utilice *slicing* l\u00f3gico para seleccionar el cuadro interno y as\u00edgnele cero. (f) En el cuadro copiado, al centro y al cuadro exterior as\u00edgnele $0$.\n",
      "</div>"
     ]
    },
    {
     "cell_type": "code",
     "collapsed": false,
     "input": [
      "matriz = np.zeros((5, 5)) + 1\n",
      "np.zeros((5, 5)) + 1"
     ],
     "language": "python",
     "metadata": {},
     "outputs": [
      {
       "metadata": {},
       "output_type": "pyout",
       "prompt_number": 7,
       "text": [
        "array([[ 1.,  1.,  1.,  1.,  1.],\n",
        "       [ 1.,  1.,  1.,  1.,  1.],\n",
        "       [ 1.,  1.,  1.,  1.,  1.],\n",
        "       [ 1.,  1.,  1.,  1.,  1.],\n",
        "       [ 1.,  1.,  1.,  1.,  1.]])"
       ]
      }
     ],
     "prompt_number": 7
    },
    {
     "cell_type": "code",
     "collapsed": false,
     "input": [
      "arr_slice = matriz[1:4,1:4] \n",
      "arr_slice"
     ],
     "language": "python",
     "metadata": {},
     "outputs": [
      {
       "metadata": {},
       "output_type": "pyout",
       "prompt_number": 26,
       "text": [
        "array([[ 1.,  1.,  1.],\n",
        "       [ 1.,  1.,  1.],\n",
        "       [ 1.,  1.,  1.]])"
       ]
      }
     ],
     "prompt_number": 26
    },
    {
     "cell_type": "code",
     "collapsed": false,
     "input": [
      "arr_slice =  arr_slice + 1"
     ],
     "language": "python",
     "metadata": {},
     "outputs": [],
     "prompt_number": 28
    },
    {
     "cell_type": "code",
     "collapsed": false,
     "input": [
      "arr_slice"
     ],
     "language": "python",
     "metadata": {},
     "outputs": [
      {
       "metadata": {},
       "output_type": "pyout",
       "prompt_number": 29,
       "text": [
        "array([[ 2.,  2.,  2.],\n",
        "       [ 2.,  2.,  2.],\n",
        "       [ 2.,  2.,  2.]])"
       ]
      }
     ],
     "prompt_number": 29
    },
    {
     "cell_type": "code",
     "collapsed": false,
     "input": [
      "matriz"
     ],
     "language": "python",
     "metadata": {},
     "outputs": [
      {
       "metadata": {},
       "output_type": "pyout",
       "prompt_number": 30,
       "text": [
        "array([[ 1.,  1.,  1.,  1.,  1.],\n",
        "       [ 1.,  1.,  1.,  1.,  1.],\n",
        "       [ 1.,  1.,  1.,  1.,  1.],\n",
        "       [ 1.,  1.,  1.,  1.,  1.],\n",
        "       [ 1.,  1.,  1.,  1.,  1.]])"
       ]
      }
     ],
     "prompt_number": 30
    },
    {
     "cell_type": "markdown",
     "metadata": {},
     "source": [
      "<div class=\"alert alert-info\">\n",
      "**Ejercicio** Usando la definici\u00f3n de [**cuadrados m\u00e1gicos**](http://en.wikipedia.org/wiki/Magic_square) crea una funci\u00f3n que reciba un arreglo e indique si es o no un cuadrado m\u00e1gico.\n",
      "</div>"
     ]
    },
    {
     "cell_type": "code",
     "collapsed": false,
     "input": [
      "def verificarCuadrado (arr):\n",
      "    \"\"\"\n",
      "    Recibe un arreglo  verifica que sea cuadrado\n",
      "    Compara las dimensiones (entradas de arr.shape)\n",
      "    \"\"\"\n",
      "    return arr.shape[0] == arr.shape[1]"
     ],
     "language": "python",
     "metadata": {},
     "outputs": [],
     "prompt_number": 42
    },
    {
     "cell_type": "code",
     "collapsed": false,
     "input": [
      "def verificarRepetidos (arr):\n",
      "    \"\"\"\n",
      "    Verifica que haya m*n elementos en el arreglo.\n",
      "    Funciona para arreglos de cualquier forma\n",
      "    \"\"\"\n",
      "    return np.size(np.unique(arr)) == np.size(arr)"
     ],
     "language": "python",
     "metadata": {},
     "outputs": [],
     "prompt_number": 51
    },
    {
     "cell_type": "code",
     "collapsed": false,
     "input": [
      "def cuadradoMagico (arr):\n",
      "    \"\"\"\n",
      "    Usa las funciones anteriores para verificar las condiciones\n",
      "    Devuelve un booleano, indicando si el arreglo es cuadrado m\u00e1gico\n",
      "    \"\"\""
     ],
     "language": "python",
     "metadata": {},
     "outputs": []
    }
   ],
   "metadata": {}
  }
 ]
}