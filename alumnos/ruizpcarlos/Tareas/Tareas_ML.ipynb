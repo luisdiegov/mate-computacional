{
 "metadata": {
  "name": "",
  "signature": "sha256:c2261de543b23085444d4bd415a8c0b5b08c2a9d5b5bc765796d095c3b5ba055"
 },
 "nbformat": 3,
 "nbformat_minor": 0,
 "worksheets": [
  {
   "cells": [
    {
     "cell_type": "code",
     "collapsed": false,
     "input": [
      "%matplotlib inline\n",
      "import numpy as np\n",
      "import matplotlib.pyplot as plt\n",
      "\n",
      "import sympy as sym\n",
      "from sympy.interactive import printing\n",
      "printing.init_printing(use_latex=True)\n",
      "\n",
      "from IPython.html.widgets import interact, fixed\n",
      "from IPython.html import widgets"
     ],
     "language": "python",
     "metadata": {},
     "outputs": [],
     "prompt_number": 87
    },
    {
     "cell_type": "heading",
     "level": 2,
     "metadata": {},
     "source": [
      "Problema 1"
     ]
    },
    {
     "cell_type": "markdown",
     "metadata": {},
     "source": [
      "Usando **SimPy**, demostrar que \n",
      "\n",
      "$$\n",
      "\\frac{\\partial}{\\partial \\beta_j} \\textbf{J}(\\beta) = \\frac{1}{m}\\sum_{i=1}^{m}\\left(\\hat{y}(x^{(i)}) - y(x^{(i)})\\right) \\cdot x^{(i)}_j\n",
      "$$"
     ]
    },
    {
     "cell_type": "code",
     "collapsed": false,
     "input": [
      "def funcCosto (beta_0, beta_1, m):\n",
      "    \"\"\"\n",
      "    Recibe como args las dos betas y el num de datos.\n",
      "    Calcula la funci\u00f3n de costo\n",
      "    \"\"\"\n",
      "    target = sym.symarray('y', m) # Se instancia un vector de tama\u00f1o m (el target de la regresi\u00f3n).\n",
      "    data = sym.symarray('x', (m, 2))\n",
      "    col1 = data[:,0]\n",
      "    col1[:] = 1 # Crea una matriz con la primera columna de 1's y la segunda igual al vector x (que tiene m datos).\n",
      "    beta = np.array([beta_0, beta_1])\n",
      "    hipotesis = np.dot(data, beta) # Se crea el vector hipotesis como producto punto de x & beta.\n",
      "    min_cuadrado = (target - hipotesis)**2\n",
      "    return min_cuadrado.sum(0)/(2*m)"
     ],
     "language": "python",
     "metadata": {},
     "outputs": [],
     "prompt_number": 43
    },
    {
     "cell_type": "code",
     "collapsed": false,
     "input": [
      "beta_0, beta_1 = sym.symbols('beta_0, beta_1')\n",
      "m = 10"
     ],
     "language": "python",
     "metadata": {},
     "outputs": [],
     "prompt_number": 44
    },
    {
     "cell_type": "code",
     "collapsed": false,
     "input": [
      "d_0 = diff(funcCosto(beta_0, beta_1, 10), beta_0)\n",
      "d_0"
     ],
     "language": "python",
     "metadata": {},
     "outputs": [
      {
       "latex": [
        "$$\\beta_{0} + \\frac{\\beta_{1}}{10} x_{0 1} + \\frac{\\beta_{1}}{10} x_{1 1} + \\frac{\\beta_{1}}{10} x_{2 1} + \\frac{\\beta_{1}}{10} x_{3 1} + \\frac{\\beta_{1}}{10} x_{4 1} + \\frac{\\beta_{1}}{10} x_{5 1} + \\frac{\\beta_{1}}{10} x_{6 1} + \\frac{\\beta_{1}}{10} x_{7 1} + \\frac{\\beta_{1}}{10} x_{8 1} + \\frac{\\beta_{1}}{10} x_{9 1} - \\frac{y_{0}}{10} - \\frac{y_{1}}{10} - \\frac{y_{2}}{10} - \\frac{y_{3}}{10} - \\frac{y_{4}}{10} - \\frac{y_{5}}{10} - \\frac{y_{6}}{10} - \\frac{y_{7}}{10} - \\frac{y_{8}}{10} - \\frac{y_{9}}{10}$$"
       ],
       "metadata": {},
       "output_type": "pyout",
       "png": "[encoded data removed]",
       "prompt_number": 46,
       "text": [
        "     \u03b2\u2081\u22c5x\u2080 \u2081   \u03b2\u2081\u22c5x\u2081 \u2081   \u03b2\u2081\u22c5x\u2082 \u2081   \u03b2\u2081\u22c5x\u2083 \u2081   \u03b2\u2081\u22c5x\u2084 \u2081   \u03b2\u2081\u22c5x\u2085 \u2081   \u03b2\u2081\u22c5x\u2086 \u2081   \u03b2\u2081\u22c5\n",
        "\u03b2\u2080 + \u2500\u2500\u2500\u2500\u2500\u2500\u2500 + \u2500\u2500\u2500\u2500\u2500\u2500\u2500 + \u2500\u2500\u2500\u2500\u2500\u2500\u2500 + \u2500\u2500\u2500\u2500\u2500\u2500\u2500 + \u2500\u2500\u2500\u2500\u2500\u2500\u2500 + \u2500\u2500\u2500\u2500\u2500\u2500\u2500 + \u2500\u2500\u2500\u2500\u2500\u2500\u2500 + \u2500\u2500\u2500\n",
        "        10        10        10        10        10        10        10        \n",
        "\n",
        "x\u2087 \u2081   \u03b2\u2081\u22c5x\u2088 \u2081   \u03b2\u2081\u22c5x\u2089 \u2081   y\u2080   y\u2081   y\u2082   y\u2083   y\u2084   y\u2085   y\u2086   y\u2087   y\u2088   y\u2089\n",
        "\u2500\u2500\u2500\u2500 + \u2500\u2500\u2500\u2500\u2500\u2500\u2500 + \u2500\u2500\u2500\u2500\u2500\u2500\u2500 - \u2500\u2500 - \u2500\u2500 - \u2500\u2500 - \u2500\u2500 - \u2500\u2500 - \u2500\u2500 - \u2500\u2500 - \u2500\u2500 - \u2500\u2500 - \u2500\u2500\n",
        "10        10        10     10   10   10   10   10   10   10   10   10   10"
       ]
      }
     ],
     "prompt_number": 46
    },
    {
     "cell_type": "code",
     "collapsed": false,
     "input": [
      "d_1 = diff(funcCosto(beta_0, beta_1, m), beta_1)\n",
      "d_1"
     ],
     "language": "python",
     "metadata": {},
     "outputs": [
      {
       "latex": [
        "$$- \\frac{x_{0 1}}{10} \\left(- \\beta_{0} - \\beta_{1} x_{0 1} + y_{0}\\right) - \\frac{x_{1 1}}{10} \\left(- \\beta_{0} - \\beta_{1} x_{1 1} + y_{1}\\right) - \\frac{x_{2 1}}{10} \\left(- \\beta_{0} - \\beta_{1} x_{2 1} + y_{2}\\right) - \\frac{x_{3 1}}{10} \\left(- \\beta_{0} - \\beta_{1} x_{3 1} + y_{3}\\right) - \\frac{x_{4 1}}{10} \\left(- \\beta_{0} - \\beta_{1} x_{4 1} + y_{4}\\right) - \\frac{x_{5 1}}{10} \\left(- \\beta_{0} - \\beta_{1} x_{5 1} + y_{5}\\right) - \\frac{x_{6 1}}{10} \\left(- \\beta_{0} - \\beta_{1} x_{6 1} + y_{6}\\right) - \\frac{x_{7 1}}{10} \\left(- \\beta_{0} - \\beta_{1} x_{7 1} + y_{7}\\right) - \\frac{x_{8 1}}{10} \\left(- \\beta_{0} - \\beta_{1} x_{8 1} + y_{8}\\right) - \\frac{x_{9 1}}{10} \\left(- \\beta_{0} - \\beta_{1} x_{9 1} + y_{9}\\right)$$"
       ],
       "metadata": {},
       "output_type": "pyout",
       "png": "[encoded data removed]",
       "prompt_number": 48,
       "text": [
        "  x\u2080 \u2081\u22c5(-\u03b2\u2080 - \u03b2\u2081\u22c5x\u2080 \u2081 + y\u2080)   x\u2081 \u2081\u22c5(-\u03b2\u2080 - \u03b2\u2081\u22c5x\u2081 \u2081 + y\u2081)   x\u2082 \u2081\u22c5(-\u03b2\u2080 - \u03b2\u2081\u22c5x\u2082 \u2081 \n",
        "- \u2500\u2500\u2500\u2500\u2500\u2500\u2500\u2500\u2500\u2500\u2500\u2500\u2500\u2500\u2500\u2500\u2500\u2500\u2500\u2500\u2500\u2500\u2500\u2500\u2500 - \u2500\u2500\u2500\u2500\u2500\u2500\u2500\u2500\u2500\u2500\u2500\u2500\u2500\u2500\u2500\u2500\u2500\u2500\u2500\u2500\u2500\u2500\u2500\u2500\u2500 - \u2500\u2500\u2500\u2500\u2500\u2500\u2500\u2500\u2500\u2500\u2500\u2500\u2500\u2500\u2500\u2500\u2500\u2500\u2500\u2500\n",
        "              10                          10                          10      \n",
        "\n",
        "+ y\u2082)   x\u2083 \u2081\u22c5(-\u03b2\u2080 - \u03b2\u2081\u22c5x\u2083 \u2081 + y\u2083)   x\u2084 \u2081\u22c5(-\u03b2\u2080 - \u03b2\u2081\u22c5x\u2084 \u2081 + y\u2084)   x\u2085 \u2081\u22c5(-\u03b2\u2080 - \u03b2\u2081\n",
        "\u2500\u2500\u2500\u2500\u2500 - \u2500\u2500\u2500\u2500\u2500\u2500\u2500\u2500\u2500\u2500\u2500\u2500\u2500\u2500\u2500\u2500\u2500\u2500\u2500\u2500\u2500\u2500\u2500\u2500\u2500 - \u2500\u2500\u2500\u2500\u2500\u2500\u2500\u2500\u2500\u2500\u2500\u2500\u2500\u2500\u2500\u2500\u2500\u2500\u2500\u2500\u2500\u2500\u2500\u2500\u2500 - \u2500\u2500\u2500\u2500\u2500\u2500\u2500\u2500\u2500\u2500\u2500\u2500\u2500\u2500\n",
        "                    10                          10                          10\n",
        "\n",
        "\u22c5x\u2085 \u2081 + y\u2085)   x\u2086 \u2081\u22c5(-\u03b2\u2080 - \u03b2\u2081\u22c5x\u2086 \u2081 + y\u2086)   x\u2087 \u2081\u22c5(-\u03b2\u2080 - \u03b2\u2081\u22c5x\u2087 \u2081 + y\u2087)   x\u2088 \u2081\u22c5(-\u03b2\n",
        "\u2500\u2500\u2500\u2500\u2500\u2500\u2500\u2500\u2500\u2500\u2500 - \u2500\u2500\u2500\u2500\u2500\u2500\u2500\u2500\u2500\u2500\u2500\u2500\u2500\u2500\u2500\u2500\u2500\u2500\u2500\u2500\u2500\u2500\u2500\u2500\u2500 - \u2500\u2500\u2500\u2500\u2500\u2500\u2500\u2500\u2500\u2500\u2500\u2500\u2500\u2500\u2500\u2500\u2500\u2500\u2500\u2500\u2500\u2500\u2500\u2500\u2500 - \u2500\u2500\u2500\u2500\u2500\u2500\u2500\u2500\n",
        "                          10                          10                      \n",
        "\n",
        "\u2080 - \u03b2\u2081\u22c5x\u2088 \u2081 + y\u2088)   x\u2089 \u2081\u22c5(-\u03b2\u2080 - \u03b2\u2081\u22c5x\u2089 \u2081 + y\u2089)\n",
        "\u2500\u2500\u2500\u2500\u2500\u2500\u2500\u2500\u2500\u2500\u2500\u2500\u2500\u2500\u2500\u2500\u2500 - \u2500\u2500\u2500\u2500\u2500\u2500\u2500\u2500\u2500\u2500\u2500\u2500\u2500\u2500\u2500\u2500\u2500\u2500\u2500\u2500\u2500\u2500\u2500\u2500\u2500\n",
        "    10                          10           "
       ]
      }
     ],
     "prompt_number": 48
    },
    {
     "cell_type": "heading",
     "level": 2,
     "metadata": {},
     "source": [
      "Problema 2"
     ]
    },
    {
     "cell_type": "markdown",
     "metadata": {},
     "source": [
      "Usando los datos de `chirps.txt`, entrenar una regresi\u00f3n lineal. Grafique los datos y el mejor modelo. Explique como lleg\u00f3 a los valores de $\\alpha$. \u00bfCoinciden con los mostrados en la p\u00e1gina web? \n",
      "<div class=\"alert alert-warning\">\n",
      "[**DATOS**](http://mathbits.com/MathBits/TISection/Statistics2/linearREAL.htm)\n",
      "</div>"
     ]
    },
    {
     "cell_type": "code",
     "collapsed": false,
     "input": [
      "class RegresionLineal:\n",
      "    def __init__(self, alpha=0.3, max_iters=100, tols=0.001):\n",
      "        \"\"\"\n",
      "        Par\u00e1metros.\n",
      "        ---------------\n",
      "        alpha = Learning rate\n",
      "        max_iters = N\u00famero m\u00e1ximo de iteraciones\n",
      "        tols = definici\u00f3n de convergencia\n",
      "        \"\"\"\n",
      "        self.alpha = alpha\n",
      "        self.max_iters = max_iters\n",
      "        self.tols = tols\n",
      "        self.breaking_iteration = None\n",
      "        self.historia = {'costo':[], 'beta':[]}  # Con fines de graficaci\u00f3n\n",
      "        \n",
      "    def gradientDescent(self, x, y):\n",
      "        \"\"\"\n",
      "        Par\u00e1metros:\n",
      "        ---------------\n",
      "        x = vector de entrenamiento de features\n",
      "        y = vector de entrenamiento de variable a predecir (target)\n",
      "        \"\"\"    \n",
      "        \n",
      "        # ajustamos el vector de features\n",
      "        unos = np.ones((x.shape[0], 1))\n",
      "        Xt = x.reshape(x.shape[0], 1)\n",
      "        Xt = np.concatenate((unos, Xt), axis=1)\n",
      "        \n",
      "        i = 0\n",
      "        prep_J = 0\n",
      "        m, n = Xt.shape\n",
      "        self.beta = np.zeros(n) \n",
      "        \n",
      "        while i < self.max_iters:     \n",
      "            # Actualizamos beta\n",
      "            self.beta = self.beta - self.alpha * self.gradiente(Xt, y)\n",
      "            \n",
      "            J = self.costo(Xt, y)\n",
      "            \n",
      "            if abs(J - prep_J) <= self.tols:\n",
      "                print 'La funci\u00f3n convergi\u00f3 con beta: %s en la iteraci\u00f3n %i' % (str(self.beta), i)\n",
      "                self.breaking_iteration = i\n",
      "                break\n",
      "            else:\n",
      "                prep_J = J\n",
      "            \n",
      "            self.historia['costo'].append(J)\n",
      "            self.historia['beta'].append(self.beta)                \n",
      "            i += 1\n",
      "    \n",
      "    def hipotesis(self, x):\n",
      "        return np.dot(x, self.beta)\n",
      "    \n",
      "    def costo(self, x, y):\n",
      "        m = x.shape[0]\n",
      "        error = self.hipotesis(x) - y\n",
      "        return np.dot(error.T, error) / (2 * m) \n",
      "    \n",
      "    def gradiente(self, x, y):\n",
      "        m = x.shape[0]\n",
      "        error = self.hipotesis(x) - y        \n",
      "        return np.dot(x.T, error) / m"
     ],
     "language": "python",
     "metadata": {},
     "outputs": [],
     "prompt_number": 95
    },
    {
     "cell_type": "code",
     "collapsed": false,
     "input": [
      "datos = np.loadtxt('C:\\Users\\carlos\\Documents\\MateComp\\mate-computacional\\lecture_5\\data\\chirps.txt')\n",
      "chirps_seg = datos[:, 0]\n",
      "temp = datos[:, 1]"
     ],
     "language": "python",
     "metadata": {},
     "outputs": [],
     "prompt_number": 73
    },
    {
     "cell_type": "code",
     "collapsed": false,
     "input": [
      "plt.scatter(chirps_seg, temp, label=\"datos\")\n",
      "plt.xlabel('Chirps/seg')\n",
      "plt.ylabel('Temperatura (F)')"
     ],
     "language": "python",
     "metadata": {},
     "outputs": [
      {
       "metadata": {},
       "output_type": "pyout",
       "prompt_number": 99,
       "text": [
        "<matplotlib.text.Text at 0xa0ddc88>"
       ]
      },
      {
       "metadata": {},
       "output_type": "display_data",
       "png": "[encoded data removed]",
       "text": [
        "<matplotlib.figure.Figure at 0x9792908>"
       ]
      }
     ],
     "prompt_number": 99
    },
    {
     "cell_type": "code",
     "collapsed": false,
     "input": [
      "regresion = RegresionLineal(alpha=0.03, max_iters=10000, tols=0.0000001)\n",
      "regresion.gradientDescent(chirps_seg, temp)"
     ],
     "language": "python",
     "metadata": {},
     "outputs": []
    },
    {
     "cell_type": "heading",
     "level": 2,
     "metadata": {},
     "source": [
      "Problema 3"
     ]
    },
    {
     "cell_type": "markdown",
     "metadata": {},
     "source": [
      "Usando los datos del [cuarteto de Anscombe](http://en.wikipedia.org/wiki/Anscombe%27s_quartet), calcule la regresi\u00f3n lineal \u00bfQu\u00e9 sucede?"
     ]
    },
    {
     "cell_type": "code",
     "collapsed": false,
     "input": [
      "CA1x = CA2x = CA3x = np.array([10., 8., 13., 9., 11., 14., 6., 4., 12., 7., 5.])\n",
      "\n",
      "CA4x = np.array([8., 8., 8., 8., 8., 8., 8., 19., 8., 8., 8.])\n",
      "\n",
      "CA1y = np.array([8.04, 6.95, 7.58, 8.81, 8.33, 9.96, 7.24, 4.26, 10.84, 4.82, 5.68])\n",
      "\n",
      "CA2y = np.array([9.14, 8.14, 8.74, 8.77, 9.26, 8.10, 6.13, 3.10, 9.13, 7.26, 4.74])\n",
      "\n",
      "CA3y = np.array([7.46, 6.77, 12.74, 7.11, 7.81, 8.84, 6.08, 5.39, 8.15, 6.42, 5.73])\n",
      "\n",
      "CA4y = np.array([6.58, 5.76, 7.71, 8.84, 8.47, 7.04, 5.25, 12.50, 5.56, 7.91, 6.89])"
     ],
     "language": "python",
     "metadata": {},
     "outputs": [],
     "prompt_number": 77
    },
    {
     "cell_type": "code",
     "collapsed": false,
     "input": [
      "plt.scatter(CA1x, CA1y, label=\"I\")\n",
      "plt.xlabel('x')\n",
      "plt.ylabel('y')"
     ],
     "language": "python",
     "metadata": {},
     "outputs": [
      {
       "metadata": {},
       "output_type": "pyout",
       "prompt_number": 100,
       "text": [
        "<matplotlib.text.Text at 0xa0be898>"
       ]
      },
      {
       "metadata": {},
       "output_type": "display_data",
       "png": "[encoded data removed]",
       "text": [
        "<matplotlib.figure.Figure at 0xa0f5ef0>"
       ]
      }
     ],
     "prompt_number": 100
    },
    {
     "cell_type": "code",
     "collapsed": false,
     "input": [
      "plt.scatter(CA2x, CA2y, label=\"II\")\n",
      "plt.xlabel('x')\n",
      "plt.ylabel('y')"
     ],
     "language": "python",
     "metadata": {},
     "outputs": [
      {
       "metadata": {},
       "output_type": "pyout",
       "prompt_number": 79,
       "text": [
        "<matplotlib.text.Text at 0x9fa95f8>"
       ]
      },
      {
       "metadata": {},
       "output_type": "display_data",
       "png": "[encoded data removed]",
       "text": [
        "<matplotlib.figure.Figure at 0x9b1db38>"
       ]
      }
     ],
     "prompt_number": 79
    },
    {
     "cell_type": "code",
     "collapsed": false,
     "input": [
      "plt.scatter(CA3x, CA3y, label=\"III\")\n",
      "plt.xlabel('x')\n",
      "plt.ylabel('y')"
     ],
     "language": "python",
     "metadata": {},
     "outputs": [
      {
       "metadata": {},
       "output_type": "pyout",
       "prompt_number": 80,
       "text": [
        "<matplotlib.text.Text at 0x9d85588>"
       ]
      },
      {
       "metadata": {},
       "output_type": "display_data",
       "png": "[encoded data removed]",
       "text": [
        "<matplotlib.figure.Figure at 0x9d7ecf8>"
       ]
      }
     ],
     "prompt_number": 80
    },
    {
     "cell_type": "code",
     "collapsed": false,
     "input": [
      "plt.scatter(CA4x, CA4y, label=\"IV\")\n",
      "plt.xlabel('x')\n",
      "plt.ylabel('y')"
     ],
     "language": "python",
     "metadata": {},
     "outputs": [
      {
       "metadata": {},
       "output_type": "pyout",
       "prompt_number": 81,
       "text": [
        "<matplotlib.text.Text at 0x9d9e400>"
       ]
      },
      {
       "metadata": {},
       "output_type": "display_data",
       "png": "[encoded data removed]",
       "text": [
        "<matplotlib.figure.Figure at 0x97a4b70>"
       ]
      }
     ],
     "prompt_number": 81
    },
    {
     "cell_type": "code",
     "collapsed": false,
     "input": [
      "R1 = RegresionLineal(alpha=0.03, max_iters=10000, tols=0.000001)\n",
      "R1.gradientDescent(CA1x, CA1y)"
     ],
     "language": "python",
     "metadata": {},
     "outputs": [],
     "prompt_number": 43
    },
    {
     "cell_type": "heading",
     "level": 2,
     "metadata": {},
     "source": [
      "Problema 4"
     ]
    },
    {
     "cell_type": "markdown",
     "metadata": {},
     "source": [
      "Use el archivo `radioactive_decay.dat`"
     ]
    },
    {
     "cell_type": "code",
     "collapsed": false,
     "input": [
      "plt.scatter(tiempo, N_restante, label=\"Decaimiento radioactivo\")\n",
      "plt.xlabel('Tiempo')\n",
      "plt.ylabel('N\u00facleos restantes')"
     ],
     "language": "python",
     "metadata": {},
     "outputs": []
    },
    {
     "cell_type": "markdown",
     "metadata": {},
     "source": [
      "**(a)** Grafique los datos \u00bfQu\u00e9 forma tienen?"
     ]
    },
    {
     "cell_type": "code",
     "collapsed": false,
     "input": [
      "plt.scatter(tiempo, N_restante, label=\"Decaimiento radioactivo\")\n",
      "plt.xlabel('Tiempo')\n",
      "plt.ylabel('N\u00facleos restantes')"
     ],
     "language": "python",
     "metadata": {},
     "outputs": []
    },
    {
     "cell_type": "markdown",
     "metadata": {},
     "source": [
      "**(b)** \u00bfQu\u00e9 transformaci\u00f3n se le ocurre para linearizarlos? Explique y grafique de nuevo. Guarde los datos transformados en un archivo llamado `transform_radioactive_decay.txt`"
     ]
    },
    {
     "cell_type": "markdown",
     "metadata": {},
     "source": [
      "**(c)** Aplique la regresi\u00f3n lineal a este conjunto de datos transformado, leyendo los datos del archivo reci\u00e9n creado."
     ]
    },
    {
     "cell_type": "markdown",
     "metadata": {},
     "source": [
      "**(d)** \u00bfCu\u00e1les son los valores de $\\beta$ que mejor ajustan? \u00bfCu\u00e1les son el espacio sin transformar? Explique."
     ]
    }
   ],
   "metadata": {}
  }
 ]
}