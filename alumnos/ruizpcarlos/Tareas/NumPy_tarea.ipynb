{
 "metadata": {
  "name": "",
  "signature": "sha256:df745b4ef049eb265e9a9544ae475171dc52340b7892cac3f1ecdffd2517a404"
 },
 "nbformat": 3,
 "nbformat_minor": 0,
 "worksheets": [
  {
   "cells": [
    {
     "cell_type": "heading",
     "level": 1,
     "metadata": {},
     "source": [
      "Ejercicios de NumPy"
     ]
    },
    {
     "cell_type": "code",
     "collapsed": false,
     "input": [
      "%matplotlib inline\n",
      "import numpy as np\n",
      "import matplotlib as plt"
     ],
     "language": "python",
     "metadata": {},
     "outputs": [],
     "prompt_number": 3
    },
    {
     "cell_type": "heading",
     "level": 3,
     "metadata": {},
     "source": [
      "Pregunta 1"
     ]
    },
    {
     "cell_type": "markdown",
     "metadata": {},
     "source": [
      "Crea los siguientes arreglos con los tipos correctos. \n",
      "\n",
      "- Un arreglo de $5 \\times 5$ cuya diagonal sean $[2.0, 3.0, 4.0, 5.0]$\n",
      "- Un arreglo de $4 \\times 4$ cuyo \u00faltimo rengl\u00f3n sea $[1,2,3,4]$ y el resto sean $0$."
     ]
    },
    {
     "cell_type": "code",
     "collapsed": false,
     "input": [
      "arr1 = np.zeros((5, 5))\n",
      "for i in range(5):\n",
      "    arr1[i][i] = i + 1.0\n",
      "    \n",
      "arr1"
     ],
     "language": "python",
     "metadata": {},
     "outputs": [
      {
       "metadata": {},
       "output_type": "pyout",
       "prompt_number": 76,
       "text": [
        "array([[ 1.,  0.,  0.,  0.,  0.],\n",
        "       [ 0.,  2.,  0.,  0.,  0.],\n",
        "       [ 0.,  0.,  3.,  0.,  0.],\n",
        "       [ 0.,  0.,  0.,  4.,  0.],\n",
        "       [ 0.,  0.,  0.,  0.,  5.]])"
       ]
      }
     ],
     "prompt_number": 76
    },
    {
     "cell_type": "code",
     "collapsed": false,
     "input": [
      "arr2 = np.zeros((4,4)).astype(int)\n",
      "arr2[3] = [1, 2, 3, 4]\n",
      "arr2"
     ],
     "language": "python",
     "metadata": {},
     "outputs": [
      {
       "metadata": {},
       "output_type": "pyout",
       "prompt_number": 79,
       "text": [
        "array([[0, 0, 0, 0],\n",
        "       [0, 0, 0, 0],\n",
        "       [0, 0, 0, 0],\n",
        "       [1, 2, 3, 4]])"
       ]
      }
     ],
     "prompt_number": 79
    },
    {
     "cell_type": "heading",
     "level": 3,
     "metadata": {},
     "source": [
      "Pregunta 2"
     ]
    },
    {
     "cell_type": "markdown",
     "metadata": {},
     "source": [
      "En este ejercicio realizaremos una criba de Erat\u00f3stenes\n",
      "\n",
      "(a) Crea un arreglo de booleanos de **shape** `(100,)`, con todos sus elementos `True`.  El \u00edndice representa el n\u00famero."
     ]
    },
    {
     "cell_type": "code",
     "collapsed": false,
     "input": [
      "bool_arr = np.ones((100,), dtype=bool)"
     ],
     "language": "python",
     "metadata": {},
     "outputs": [],
     "prompt_number": 80
    },
    {
     "cell_type": "markdown",
     "metadata": {},
     "source": [
      "(b) \"Tacha\" los elementos `0` y `1`.\n",
      "\n",
      "(c) Para cada entero subsiguiente, tacha sus m\u00faltiplos. Una manera de hacerlo es el c\u00f3digo que se muestra. Explica que hace el c\u00f3digo, sobretodo explica que hace el *slicing*."
     ]
    },
    {
     "cell_type": "code",
     "collapsed": false,
     "input": [
      "bool_arr[0:2] = False"
     ],
     "language": "python",
     "metadata": {},
     "outputs": [],
     "prompt_number": 81
    },
    {
     "cell_type": "code",
     "collapsed": false,
     "input": [
      "N_max = int(np.sqrt(len(bool_arr))) \n",
      "# N_max redondea a entero la ra\u00edz cuadrada de la longitud del array\n",
      "# para definir el rango del for.\n",
      "for j in range(2, N_max):\n",
      "    bool_arr[2*j::j] = False\n",
      "    # En el slicing, el n\u00famero antes de \"::\" es el \u00edndice del primer elemento \n",
      "    # del nuevo array, mientras que el siguiente es el tama\u00f1o de \"salto\".\n",
      "    # As\u00ed, en cada paso los elementos cuyos \u00edndices son m\u00faltiplos de cada\n",
      "    # n\u00famero entre 2 y N_max se convierten en False. Al final, los elementos\n",
      "    # que siguen siendo True son aquellos cuyos \u00edndices son n\u00famero primos."
     ],
     "language": "python",
     "metadata": {},
     "outputs": [],
     "prompt_number": 82
    },
    {
     "cell_type": "code",
     "collapsed": false,
     "input": [
      "bool_arr"
     ],
     "language": "python",
     "metadata": {},
     "outputs": [
      {
       "metadata": {},
       "output_type": "pyout",
       "prompt_number": 83,
       "text": [
        "array([False, False,  True,  True, False,  True, False,  True, False,\n",
        "       False, False,  True, False,  True, False, False, False,  True,\n",
        "       False,  True, False, False, False,  True, False, False, False,\n",
        "       False, False,  True, False,  True, False, False, False, False,\n",
        "       False,  True, False, False, False,  True, False,  True, False,\n",
        "       False, False,  True, False, False, False, False, False,  True,\n",
        "       False, False, False, False, False,  True, False,  True, False,\n",
        "       False, False, False, False,  True, False, False, False,  True,\n",
        "       False,  True, False, False, False, False, False,  True, False,\n",
        "       False, False,  True, False, False, False, False, False,  True,\n",
        "       False, False, False, False, False, False, False,  True, False, False], dtype=bool)"
       ]
      }
     ],
     "prompt_number": 83
    },
    {
     "cell_type": "code",
     "collapsed": false,
     "input": [
      "np.nonzero?"
     ],
     "language": "python",
     "metadata": {},
     "outputs": [],
     "prompt_number": 30
    },
    {
     "cell_type": "code",
     "collapsed": false,
     "input": [
      "np.nonzero(bool_arr)"
     ],
     "language": "python",
     "metadata": {},
     "outputs": [
      {
       "metadata": {},
       "output_type": "pyout",
       "prompt_number": 84,
       "text": [
        "(array([ 2,  3,  5,  7, 11, 13, 17, 19, 23, 29, 31, 37, 41, 43, 47, 53, 59,\n",
        "        61, 67, 71, 73, 79, 83, 89, 97], dtype=int64),)"
       ]
      }
     ],
     "prompt_number": 84
    },
    {
     "cell_type": "markdown",
     "metadata": {},
     "source": [
      "(e) Encapsula lo que acabamos de hacer en una funci\u00f3n llamada criba_eratostenes, que reciba como argumento maximo el cual representa el tama\u00f1o del array. Muestra el resultado para maximo = {10, 100, 200}, usando un for."
     ]
    },
    {
     "cell_type": "code",
     "collapsed": false,
     "input": [
      "def cribaEratostenes(maximo):\n",
      "    \"\"\"\n",
      "    Recibe como argumento un numero entero n.\n",
      "    Devuelve todos los numeros primos menores a n.\n",
      "    \n",
      "    \"\"\"\n",
      "    arreglo_booleano = np.ones((maximo,), dtype=bool) \n",
      "    # Crea un array de booleanos de dimension n, con todos los elementos instanciados como True.\n",
      "    \n",
      "    arreglo_booleano[0:2] = False\n",
      "    #Tacha el 0 y el 1\n",
      "    \n",
      "    N_max = int(np.sqrt(len(arreglo_booleano)))\n",
      "    # Se define N_max para acotar el rango del for que sigue.\n",
      "\n",
      "    for j in range(2, N_max):\n",
      "        arreglo_booleano[2*j::j] = False\n",
      "    \n",
      "    return np.nonzero(arreglo_booleano)"
     ],
     "language": "python",
     "metadata": {},
     "outputs": [],
     "prompt_number": 85
    },
    {
     "cell_type": "code",
     "collapsed": false,
     "input": [
      "for i in range(100, 201, 100):\n",
      "    print cribaEratostenes(i)"
     ],
     "language": "python",
     "metadata": {},
     "outputs": [
      {
       "output_type": "stream",
       "stream": "stdout",
       "text": [
        "(array([ 2,  3,  5,  7, 11, 13, 17, 19, 23, 29, 31, 37, 41, 43, 47, 53, 59,\n",
        "       61, 67, 71, 73, 79, 83, 89, 97], dtype=int64),)\n",
        "(array([  2,   3,   5,   7,  11,  13,  17,  19,  23,  29,  31,  37,  41,\n",
        "        43,  47,  53,  59,  61,  67,  71,  73,  79,  83,  89,  97, 101,\n",
        "       103, 107, 109, 113, 127, 131, 137, 139, 149, 151, 157, 163, 167,\n",
        "       173, 179, 181, 191, 193, 197, 199], dtype=int64),)\n"
       ]
      }
     ],
     "prompt_number": 86
    },
    {
     "cell_type": "heading",
     "level": 3,
     "metadata": {},
     "source": [
      "Pregunta 3"
     ]
    },
    {
     "cell_type": "markdown",
     "metadata": {},
     "source": [
      "Crea un [cubo rubik](http://en.wikipedia.org/wiki/Rubik%27s_Cube), partiendo de un arreglo de ceros y usando *slicing* dibuja cada una de las caras como si estuviera resuelto (cada colo un entero a partir del $1$). Muestra con *indexing* que est\u00e1 resuelto (es decir, imprime las seis caras). \u00bfCu\u00e1ntos elementos del arreglo quedaron en $0$?"
     ]
    },
    {
     "cell_type": "code",
     "collapsed": false,
     "input": [
      "rubik = np.zeros((6,3,3), dtype = int)\n",
      "\n",
      "for k in range(6):\n",
      "    rubik[k] = k+1\n",
      "rubik[[0, 1, 2, 3, 4, 5]]\n",
      "\n"
     ],
     "language": "python",
     "metadata": {},
     "outputs": [
      {
       "metadata": {},
       "output_type": "pyout",
       "prompt_number": 138,
       "text": [
        "array([[[1, 1, 1],\n",
        "        [1, 1, 1],\n",
        "        [1, 1, 1]],\n",
        "\n",
        "       [[2, 2, 2],\n",
        "        [2, 2, 2],\n",
        "        [2, 2, 2]],\n",
        "\n",
        "       [[3, 3, 3],\n",
        "        [3, 3, 3],\n",
        "        [3, 3, 3]],\n",
        "\n",
        "       [[4, 4, 4],\n",
        "        [4, 4, 4],\n",
        "        [4, 4, 4]],\n",
        "\n",
        "       [[5, 5, 5],\n",
        "        [5, 5, 5],\n",
        "        [5, 5, 5]],\n",
        "\n",
        "       [[6, 6, 6],\n",
        "        [6, 6, 6],\n",
        "        [6, 6, 6]]])"
       ]
      }
     ],
     "prompt_number": 138
    },
    {
     "cell_type": "heading",
     "level": 3,
     "metadata": {},
     "source": [
      "Pregunta 4"
     ]
    },
    {
     "cell_type": "markdown",
     "metadata": {},
     "source": [
      "El **Sudoku** es un pasatiempo que consiste en un arreglo  $9 \\times 9$ de celdas, con d\u00edgitos del 1 al 9, de tal manera que no se repiten valores en cada columna, cada rengl\u00f3n y en cada subarreglo de $3\\times 3$.\n",
      "\n",
      "(a) Crea una funci\u00f3n llamada `correcto` que reciba un `array` $1d$ de tama\u00f1o 9 e indique si est\u00e1 completo o no (i.e. incluye los n\u00fameros del 1 al 9)."
     ]
    },
    {
     "cell_type": "code",
     "collapsed": false,
     "input": [
      "def correcto(arr):\n",
      "    \"\"\"\n",
      "    Recibe un array de dimensi\u00f3n 9\n",
      "    Devuelve un booleano que indica si incluye todos los n\u00fameros entre 1 y 9 \n",
      "    \"\"\"\n",
      "    aux = np.zeros((9,), dtype = bool) # Se crea un vector auxiliar de dimensi\u00f3n 9, con todos los elementos instanciados como False.\n",
      "    \n",
      "    for i in range(9): # El primer ciclo recorre todos los elementos del vector argumento.\n",
      "        for j in range(1,10): # El segundo compara arr[i] con los enteros de 1 a 9.\n",
      "            if arr[i] == j:\n",
      "                aux[j-1]  = True \n",
      "                # Convierte el aux[j-1] en True. Si arr contiene a todos los enteros entre 1 y 9,\n",
      "                # entonces todos los elementos de aux se convierten en True.\n",
      "    return (aux == np.ones((9,), dtype = bool))"
     ],
     "language": "python",
     "metadata": {},
     "outputs": [],
     "prompt_number": 99
    },
    {
     "cell_type": "markdown",
     "metadata": {},
     "source": [
      "(b) Crea una funci\u00f3n llamada `descomponer3x3` que reciba un `array` de enteros de $9\\times 9$ y lo separe en sus 9 subarreglos $3\\times3$."
     ]
    },
    {
     "cell_type": "code",
     "collapsed": false,
     "input": [
      "def descomponer3x3(arr):\n",
      "    \"\"\"\n",
      "    Usando slicing, separa los 9 subarreglos de 3x3 y los guarda en un arreglo de 9 elementos\n",
      "    \"\"\"\n",
      "    for j in range(3):\n",
      "        for k in range(3):\n",
      "            aux[j][k] = arr[:3*j, :3*k]\n",
      "    return aux"
     ],
     "language": "python",
     "metadata": {},
     "outputs": [],
     "prompt_number": 104
    },
    {
     "cell_type": "markdown",
     "metadata": {},
     "source": [
      "(c) Crea la funci\u00f3n `esSolucion` que recibe un `array` de $9\\times 9$ y devuelve si es o no soluci\u00f3n del sudoku."
     ]
    },
    {
     "cell_type": "code",
     "collapsed": false,
     "input": [
      "def esSolucion(sudoku):\n",
      "    \"\"\"\n",
      "    Recibe un array de 9x9, y usando los metodos anteriores\n",
      "    devuelve un booleano que indica si es o no soluci\u00f3n del sudoku.\n",
      "    \"\"\"\n",
      "    aux = descomponer3x3(sudoku) # Guarda en un vector auxiliar los 9 subarreglos del sudoku que se recibe como argumento.\n",
      "        \n",
      "    for i in range(9):\n",
      "        subarreglo_plano = aux[i].ravel() #\"Aplana\" los subarreglos para poder verificar que esten completos\n",
      "        if correcto(subarreglo_plano) == True and correcto(sudoku[i]) == True and correcto(sudoku[:, i]) == True:\n",
      "            respuesta = True\n",
      "        else: #Si no se cumple alguna de las condiciones para algun reglon, columna o subarreglo, se devuelve False inmediatamente.\n",
      "            return False\n",
      "    \n",
      "    return respuesta   #Se puede ver que s\u00f3lo devuelve True si se cumplen todas las condiciones para cada renglon, columna y subarreglo"
     ],
     "language": "python",
     "metadata": {},
     "outputs": [],
     "prompt_number": 105
    },
    {
     "cell_type": "heading",
     "level": 3,
     "metadata": {},
     "source": [
      "Pregunta 5"
     ]
    },
    {
     "cell_type": "markdown",
     "metadata": {},
     "source": [
      "Utiliza el archivo `sunspots.txt` (localizado en la carpeta `data`), el cual contiene el n\u00famero de manchas solares por cada mes desde enero de 1749. La primera columna es el mes, el segundo el n\u00famero de manchas.\n",
      "\n",
      "(a) Escribe el c\u00f3digo que lea el archivo y haga una gr\u00e1fica de las manchas en funci\u00f3n del tiempo. Formatea el eje $x$ para que se muestren cada 25 a\u00f1os empezando en $1750$. \n",
      "\n",
      "<div class=\"alert alert-warning\">\n",
      "**NOTA:** La gr\u00e1fica debe de estar en calidad de publicaci\u00f3n.\n",
      "</div>"
     ]
    },
    {
     "cell_type": "markdown",
     "metadata": {},
     "source": [
      "(b) Calcula el [promedio m\u00f3vil](http://en.wikipedia.org/wiki/Moving_average). Dib\u00fajalo sobre el dibujo original."
     ]
    },
    {
     "cell_type": "heading",
     "level": 3,
     "metadata": {},
     "source": [
      "Pregunta 6"
     ]
    },
    {
     "cell_type": "markdown",
     "metadata": {},
     "source": [
      "Utiliza el archivo `starts.txt` (localizado en la carpeta `data`), el cual contiene la temperatura y magnitud de varias estrellas en la V\u00eda Lactea.  Usa esta informaci\u00f3n para dibujar un **scatter plot** del logaritmo del brillo vs. la temperatura (en **K**). Este diagrama se conoce como diagrama de [Hertzsprung-Russell](http://en.wikipedia.org/wiki/Hertzsprung%E2%80%93Russell_diagram). \n",
      "\n",
      "(a) Lee el archivo y dibuja los datos tal como vienen en el archivo. Agrega etiquetas y formatea la gr\u00e1fica de tal manera que tenga calidad de publicaci\u00f3n."
     ]
    },
    {
     "cell_type": "markdown",
     "metadata": {},
     "source": [
      "(b) Ahora usa el `xlim()` y  `ylim()` para que quede de manera correcta el diagrama. Hay regiones donde las estrellas parece que se aglomeran, ve el archivo de [wikipedia]( http://en.wikipedia.org/wiki/Hertzsprung%E2%80%93Russell_diagram) y agrega anotaciones para explicarlas."
     ]
    }
   ],
   "metadata": {}
  }
 ]
}