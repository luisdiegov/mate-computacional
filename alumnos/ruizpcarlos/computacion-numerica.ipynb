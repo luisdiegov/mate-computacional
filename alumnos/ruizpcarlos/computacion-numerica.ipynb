{
 "metadata": {
  "name": "",
  "signature": "sha256:2023994e472122fc49712574da7bf37131c24d24510d1777e328f9f25d302d96"
 },
 "nbformat": 3,
 "nbformat_minor": 0,
 "worksheets": [
  {
   "cells": [
    {
     "cell_type": "heading",
     "level": 1,
     "metadata": {},
     "source": [
      "Limitaciones de la computadora: Aritm\u00e9tica de punto flotante"
     ]
    },
    {
     "cell_type": "heading",
     "level": 3,
     "metadata": {},
     "source": [
      "Enteros"
     ]
    },
    {
     "cell_type": "markdown",
     "metadata": {},
     "source": [
      "Matem\u00e1ticamente los **enteros** son un conjunto *infinito*  $ \\mathbb{Z} =\\{\\ldots, -3,-2,-1,0,1,2,3,\\ldots\\}$. Por otro lado la computadora es de tama\u00f1o *finito*, por lo cual es imposible representar todos esos n\u00fameros en la computadora. En la computadora los **enteros** o `integers` o `ints` son s\u00f3lo un subconjunto finito de los **enteros**. El tipo `int` se representa en 4-bytes, es decir en $32$ bits. (**Ejercicio**: \u00bfPor qu\u00e9?). El n\u00famero m\u00e1ximo (a nivel CPU) est\u00e1 dado por $2^{32}$."
     ]
    },
    {
     "cell_type": "code",
     "collapsed": false,
     "input": [
      "2**32"
     ],
     "language": "python",
     "metadata": {},
     "outputs": [
      {
       "metadata": {},
       "output_type": "pyout",
       "prompt_number": 6,
       "text": [
        "4294967296L"
       ]
      }
     ],
     "prompt_number": 6
    },
    {
     "cell_type": "code",
     "collapsed": false,
     "input": [
      "import sys\n",
      "sys.maxint"
     ],
     "language": "python",
     "metadata": {},
     "outputs": [
      {
       "metadata": {},
       "output_type": "pyout",
       "prompt_number": 7,
       "text": [
        "2147483647"
       ]
      }
     ],
     "prompt_number": 7
    },
    {
     "cell_type": "code",
     "collapsed": false,
     "input": [
      "[-2**32/2, 2**32/2]"
     ],
     "language": "python",
     "metadata": {},
     "outputs": [
      {
       "metadata": {},
       "output_type": "pyout",
       "prompt_number": 8,
       "text": [
        "[-2147483648L, 2147483648L]"
       ]
      }
     ],
     "prompt_number": 8
    },
    {
     "cell_type": "heading",
     "level": 4,
     "metadata": {},
     "source": [
      "Ejercicio 1"
     ]
    },
    {
     "cell_type": "code",
     "collapsed": false,
     "input": [
      "from IPython.html.widgets import interact, fixed\n",
      "from IPython.html import widgets"
     ],
     "language": "python",
     "metadata": {},
     "outputs": [],
     "prompt_number": 10
    },
    {
     "cell_type": "code",
     "collapsed": false,
     "input": [
      "def minmaxBinario(n):\n",
      "    print(-2**(n-1), 2**(n-1) - 1)"
     ],
     "language": "python",
     "metadata": {},
     "outputs": []
    },
    {
     "cell_type": "heading",
     "level": 3,
     "metadata": {},
     "source": [
      "C\u00e1lculo Simb\u00f3lico"
     ]
    },
    {
     "cell_type": "markdown",
     "metadata": {},
     "source": [
      "Es posible realizar c\u00e1lculo simb\u00f3lico en python (justo como en **Mathematica** o **Maple**) usando el paquete `sympy`. El c\u00f3digo siguiente es para imprimir a $\\LaTeX$ la salida de las instrucciones."
     ]
    },
    {
     "cell_type": "code",
     "collapsed": false,
     "input": [
      "from sympy.interactive import printing\n",
      "printing.init_printing(use_latex=True)"
     ],
     "language": "python",
     "metadata": {},
     "outputs": [],
     "prompt_number": 4
    },
    {
     "cell_type": "code",
     "collapsed": false,
     "input": [
      "from sympy import Symbol\n",
      "import sympy as sym\n",
      "x, y = sym.symbols('x, y')"
     ],
     "language": "python",
     "metadata": {},
     "outputs": [],
     "prompt_number": 14
    },
    {
     "cell_type": "code",
     "collapsed": false,
     "input": [
      "type(y)"
     ],
     "language": "python",
     "metadata": {},
     "outputs": [
      {
       "metadata": {},
       "output_type": "pyout",
       "prompt_number": 15,
       "text": [
        "sympy.core.symbol.Symbol"
       ]
      }
     ],
     "prompt_number": 15
    },
    {
     "cell_type": "markdown",
     "metadata": {},
     "source": [
      "Estos s\u00edmbolos los puede usar la computadora para hacer \u00e1lgebra (simplificando expresiones y haciendo operaciones \"exactas\"), y operaciones m\u00e1s complicadas, como derivaci\u00f3n e integraci\u00f3n."
     ]
    },
    {
     "cell_type": "code",
     "collapsed": false,
     "input": [
      "x + y + x - 10*y*x"
     ],
     "language": "python",
     "metadata": {},
     "outputs": [
      {
       "latex": [
        "$$- 10 x y + 2 x + y$$"
       ],
       "metadata": {},
       "output_type": "pyout",
       "png": "[encoded data removed]",
       "prompt_number": 24,
       "text": [
        "-10\u22c5x\u22c5y + 2\u22c5x + y"
       ]
      }
     ],
     "prompt_number": 24
    },
    {
     "cell_type": "markdown",
     "metadata": {},
     "source": [
      "Las derivadas se hacen con respecto a la variable que se indica como segundo argumento de `diff`: `diff(funcion, x1)`\n",
      "Las integrales, adem\u00e1s de recibir la variable, pueden evaluarse si se indican los l\u00edmites de integraci\u00f3n: `integrate(funcion, (x1, a, b))`"
     ]
    },
    {
     "cell_type": "code",
     "collapsed": false,
     "input": [
      "from sympy import *"
     ],
     "language": "python",
     "metadata": {},
     "outputs": [],
     "prompt_number": 18
    },
    {
     "cell_type": "code",
     "collapsed": false,
     "input": [
      "diff(sin(x), x)"
     ],
     "language": "python",
     "metadata": {},
     "outputs": [
      {
       "latex": [
        "$$\\cos{\\left (x \\right )}$$"
       ],
       "metadata": {},
       "output_type": "pyout",
       "png": "[encoded data removed]",
       "prompt_number": 19,
       "text": [
        "cos(x)"
       ]
      }
     ],
     "prompt_number": 19
    },
    {
     "cell_type": "code",
     "collapsed": false,
     "input": [
      "10+3*x+4*x**2+45*x*y"
     ],
     "language": "python",
     "metadata": {},
     "outputs": [
      {
       "latex": [
        "$$4 x^{2} + 45 x y + 3 x + 10$$"
       ],
       "metadata": {},
       "output_type": "pyout",
       "png": "[encoded data removed]",
       "prompt_number": 23,
       "text": [
        "   2                    \n",
        "4\u22c5x  + 45\u22c5x\u22c5y + 3\u22c5x + 10"
       ]
      }
     ],
     "prompt_number": 23
    },
    {
     "cell_type": "code",
     "collapsed": false,
     "input": [
      "diff(10+3*x+4*x**2+45*x*y, x)"
     ],
     "language": "python",
     "metadata": {},
     "outputs": [
      {
       "latex": [
        "$$8 x + 45 y + 3$$"
       ],
       "metadata": {},
       "output_type": "pyout",
       "png": "[encoded data removed]",
       "prompt_number": 22,
       "text": [
        "8\u22c5x + 45\u22c5y + 3"
       ]
      }
     ],
     "prompt_number": 22
    },
    {
     "cell_type": "code",
     "collapsed": false,
     "input": [
      "integrate(x**2 + sin(x), x)"
     ],
     "language": "python",
     "metadata": {},
     "outputs": [
      {
       "latex": [
        "$$\\frac{x^{3}}{3} - \\cos{\\left (x \\right )}$$"
       ],
       "metadata": {},
       "output_type": "pyout",
       "png": "[encoded data removed]",
       "prompt_number": 27,
       "text": [
        " 3         \n",
        "x          \n",
        "\u2500\u2500 - cos(x)\n",
        "3          "
       ]
      }
     ],
     "prompt_number": 27
    },
    {
     "cell_type": "code",
     "collapsed": false,
     "input": [
      "integrate(x**2 + sin(x), (x, 0, 1))"
     ],
     "language": "python",
     "metadata": {},
     "outputs": [
      {
       "latex": [
        "$$- \\cos{\\left (1 \\right )} + \\frac{4}{3}$$"
       ],
       "metadata": {},
       "output_type": "pyout",
       "png": "[encoded data removed]",
       "prompt_number": 31,
       "text": [
        "-cos(1) + 4/3"
       ]
      }
     ],
     "prompt_number": 31
    },
    {
     "cell_type": "markdown",
     "metadata": {},
     "source": [
      "`Sympy` tambi\u00e9n permite resolver ecuaciones diferenciales ordinarias (**ODE**, en ingl\u00e9s), usando la funci\u00f3n `dsolve`. "
     ]
    },
    {
     "cell_type": "code",
     "collapsed": false,
     "input": [
      "y = Function('y')\n",
      "x = Symbol('x')\n",
      "y_ = Derivative(y(x), x)"
     ],
     "language": "python",
     "metadata": {},
     "outputs": [],
     "prompt_number": 32
    },
    {
     "cell_type": "code",
     "collapsed": false,
     "input": [
      "ode = y_ + 10*y(x) + 3*y(x)**2\n",
      "ode"
     ],
     "language": "python",
     "metadata": {},
     "outputs": [
      {
       "latex": [
        "$$3 y^{2}{\\left (x \\right )} + 10 y{\\left (x \\right )} + \\frac{d}{d x} y{\\left (x \\right )}$$"
       ],
       "metadata": {},
       "output_type": "pyout",
       "png": "[encoded data removed]",
       "prompt_number": 33,
       "text": [
        "   2                d       \n",
        "3\u22c5y (x) + 10\u22c5y(x) + \u2500\u2500(y(x))\n",
        "                    dx      "
       ]
      }
     ],
     "prompt_number": 33
    },
    {
     "cell_type": "code",
     "collapsed": false,
     "input": [
      "sol = dsolve(ode, y(x))\n",
      "sol"
     ],
     "language": "python",
     "metadata": {},
     "outputs": [
      {
       "latex": [
        "$$y{\\left (x \\right )} = \\frac{C_{1}}{C_{2} - e^{10 x}}$$"
       ],
       "metadata": {},
       "output_type": "pyout",
       "png": "[encoded data removed]",
       "prompt_number": 34,
       "text": [
        "           C\u2081    \n",
        "y(x) = \u2500\u2500\u2500\u2500\u2500\u2500\u2500\u2500\u2500\u2500\n",
        "             10\u22c5x\n",
        "       C\u2082 - \u212f    "
       ]
      }
     ],
     "prompt_number": 34
    },
    {
     "cell_type": "code",
     "collapsed": false,
     "input": [
      "type(sol)"
     ],
     "language": "python",
     "metadata": {},
     "outputs": [
      {
       "metadata": {},
       "output_type": "pyout",
       "prompt_number": 35,
       "text": [
        "sympy.core.relational.Equality"
       ]
      }
     ],
     "prompt_number": 35
    },
    {
     "cell_type": "markdown",
     "metadata": {},
     "source": [
      "<div class=\"alert alert-danger\">\n",
      "Que el tipo sea `Equality` ser\u00e1 muy importante cuando querr\u00e1mos graficar. Manten este hecho en mente.\n",
      "</div>"
     ]
    },
    {
     "cell_type": "code",
     "collapsed": false,
     "input": [
      "sol.rhs"
     ],
     "language": "python",
     "metadata": {},
     "outputs": [
      {
       "latex": [
        "$$\\frac{C_{1}}{C_{2} - e^{10 x}}$$"
       ],
       "metadata": {},
       "output_type": "pyout",
       "png": "[encoded data removed]",
       "prompt_number": 44,
       "text": [
        "    C\u2081    \n",
        "\u2500\u2500\u2500\u2500\u2500\u2500\u2500\u2500\u2500\u2500\n",
        "      10\u22c5x\n",
        "C\u2082 - \u212f    "
       ]
      }
     ],
     "prompt_number": 44
    },
    {
     "cell_type": "markdown",
     "metadata": {},
     "source": [
      "Regularmente al resolver problemas cient\u00edficos es necesario utilizar aproximaciones en forma de series. `Sympy` tambi\u00e9n puede hacerlas con `funcion(x).series(x,a)` donde `a` es el n\u00famero alrededor del cual se aproxima la funci\u00f3n."
     ]
    },
    {
     "cell_type": "code",
     "collapsed": false,
     "input": [
      "sin(x).series(x,0)"
     ],
     "language": "python",
     "metadata": {},
     "outputs": [
      {
       "latex": [
        "$$x - \\frac{x^{3}}{6} + \\frac{x^{5}}{120} + \\mathcal{O}\\left(x^{6}\\right)$$"
       ],
       "metadata": {},
       "output_type": "pyout",
       "png": "[encoded data removed]",
       "prompt_number": 45,
       "text": [
        "     3     5        \n",
        "    x     x     \u239b 6\u239e\n",
        "x - \u2500\u2500 + \u2500\u2500\u2500 + O\u239dx \u23a0\n",
        "    6    120        "
       ]
      }
     ],
     "prompt_number": 45
    },
    {
     "cell_type": "code",
     "collapsed": false,
     "input": [
      "(exp(x)**2*cos(x)/sin(x)**3).series(x,0)"
     ],
     "language": "python",
     "metadata": {},
     "outputs": [
      {
       "latex": [
        "$$\\frac{1}{x^{3}} + \\frac{2}{x^{2}} + \\frac{2}{x} + \\frac{4}{3} + \\frac{3 x}{5} + \\frac{2 x^{2}}{15} - \\frac{62 x^{3}}{945} - \\frac{20 x^{4}}{189} - \\frac{401 x^{5}}{4725} + \\mathcal{O}\\left(x^{6}\\right)$$"
       ],
       "metadata": {},
       "output_type": "pyout",
       "png": "[encoded data removed]",
       "prompt_number": 46,
       "text": [
        "                           2       3       4        5        \n",
        "1    2    2   4   3\u22c5x   2\u22c5x    62\u22c5x    20\u22c5x    401\u22c5x     \u239b 6\u239e\n",
        "\u2500\u2500 + \u2500\u2500 + \u2500 + \u2500 + \u2500\u2500\u2500 + \u2500\u2500\u2500\u2500 - \u2500\u2500\u2500\u2500\u2500 - \u2500\u2500\u2500\u2500\u2500 - \u2500\u2500\u2500\u2500\u2500\u2500 + O\u239dx \u23a0\n",
        " 3    2   x   3    5     15     945     189     4725         \n",
        "x    x                                                       "
       ]
      }
     ],
     "prompt_number": 46
    },
    {
     "cell_type": "markdown",
     "metadata": {},
     "source": [
      "Sin embargo, hacer c\u00e1lculos de manera simb\u00f3lica es mucho m\u00e1s lento que trabajar num\u00e9ricamente."
     ]
    }
   ],
   "metadata": {}
  }
 ]
}