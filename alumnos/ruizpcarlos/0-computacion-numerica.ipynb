{
 "metadata": {
  "name": "",
  "signature": "sha256:9947913dc9c3f1d0cb15fc4342e1759fdb9f3c8a2e7d56893fcaf913ae27bbe8"
 },
 "nbformat": 3,
 "nbformat_minor": 0,
 "worksheets": [
  {
   "cells": [
    {
     "cell_type": "heading",
     "level": 1,
     "metadata": {},
     "source": [
      "Limitaciones de la computadora: Aritm\u00e9tica de punto flotante"
     ]
    },
    {
     "cell_type": "heading",
     "level": 3,
     "metadata": {},
     "source": [
      "Enteros"
     ]
    },
    {
     "cell_type": "markdown",
     "metadata": {},
     "source": [
      "Matem\u00e1ticamente los **enteros** son un conjunto *infinito*  $ \\mathbb{Z} =\\{\\ldots, -3,-2,-1,0,1,2,3,\\ldots\\}$. Por otro lado la computadora es de tama\u00f1o *finito*, por lo cual es imposible representar todos esos n\u00fameros en la computadora. En la computadora los **enteros** o `integers` o `ints` son s\u00f3lo un subconjunto finito de los **enteros**. El tipo `int` se representa en 4-bytes, es decir en $32$ bits. (**Ejercicio**: \u00bfPor qu\u00e9?). El n\u00famero m\u00e1ximo (a nivel CPU) est\u00e1 dado por $2^{32}$."
     ]
    },
    {
     "cell_type": "code",
     "collapsed": false,
     "input": [
      "2**32"
     ],
     "language": "python",
     "metadata": {},
     "outputs": [
      {
       "metadata": {},
       "output_type": "pyout",
       "prompt_number": 6,
       "text": [
        "4294967296L"
       ]
      }
     ],
     "prompt_number": 6
    },
    {
     "cell_type": "code",
     "collapsed": false,
     "input": [
      "import sys\n",
      "sys.maxint"
     ],
     "language": "python",
     "metadata": {},
     "outputs": [
      {
       "metadata": {},
       "output_type": "pyout",
       "prompt_number": 7,
       "text": [
        "2147483647"
       ]
      }
     ],
     "prompt_number": 7
    },
    {
     "cell_type": "code",
     "collapsed": false,
     "input": [
      "[-2**32/2, 2**32/2]"
     ],
     "language": "python",
     "metadata": {},
     "outputs": [
      {
       "metadata": {},
       "output_type": "pyout",
       "prompt_number": 8,
       "text": [
        "[-2147483648L, 2147483648L]"
       ]
      }
     ],
     "prompt_number": 8
    },
    {
     "cell_type": "heading",
     "level": 4,
     "metadata": {},
     "source": [
      "Ejercicio 1"
     ]
    },
    {
     "cell_type": "code",
     "collapsed": false,
     "input": [
      "from IPython.html.widgets import interact, fixed\n",
      "from IPython.html import widgets"
     ],
     "language": "python",
     "metadata": {},
     "outputs": [],
     "prompt_number": 10
    },
    {
     "cell_type": "code",
     "collapsed": false,
     "input": [
      "def minmaxBinario(n):\n",
      "    print(-2**(n-1), 2**(n-1) - 1)"
     ],
     "language": "python",
     "metadata": {},
     "outputs": [],
     "prompt_number": 11
    },
    {
     "cell_type": "code",
     "collapsed": false,
     "input": [
      "interact(minmaxBinario, n  = 4)"
     ],
     "language": "python",
     "metadata": {},
     "outputs": [
      {
       "output_type": "stream",
       "stream": "stdout",
       "text": [
        "(-2048, 2047)\n"
       ]
      }
     ],
     "prompt_number": 12
    },
    {
     "cell_type": "code",
     "collapsed": false,
     "input": [
      "def decimalBinario(n):\n",
      "    \"\"\"\n",
      "    Entra como argumento un entero n\n",
      "    y la funci\u00f3n devuelve su expresi\u00f3n \n",
      "    en bits (como una cadena).\n",
      "    \"\"\"\n",
      "    binario = ''\n",
      "    \n",
      "    assert (n >= -128 and n <= 127), \"El n\u00famero debe estar en el rango\"\n",
      "    "
     ],
     "language": "python",
     "metadata": {},
     "outputs": [
      {
       "ename": "IndentationError",
       "evalue": "unexpected indent (<ipython-input-17-6cde8969d7c0>, line 5)",
       "output_type": "pyerr",
       "traceback": [
        "\u001b[1;36m  File \u001b[1;32m\"<ipython-input-17-6cde8969d7c0>\"\u001b[1;36m, line \u001b[1;32m5\u001b[0m\n\u001b[1;33m    for\u001b[0m\n\u001b[1;37m    ^\u001b[0m\n\u001b[1;31mIndentationError\u001b[0m\u001b[1;31m:\u001b[0m unexpected indent\n"
       ]
      }
     ],
     "prompt_number": 17
    }
   ],
   "metadata": {}
  }
 ]
}