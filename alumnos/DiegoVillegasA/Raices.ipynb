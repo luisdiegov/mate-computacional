{
 "metadata": {
  "name": "",
  "signature": "sha256:006b2172c40a5838afd2ab338bed63494aa6b19c2c38b75a65bffc75e85d9dba"
 },
 "nbformat": 3,
 "nbformat_minor": 0,
 "worksheets": [
  {
   "cells": [
    {
     "cell_type": "heading",
     "level": 1,
     "metadata": {},
     "source": [
      "Ra\u00edces"
     ]
    },
    {
     "cell_type": "code",
     "collapsed": false,
     "input": [
      "%matplotlib inline\n",
      "import numpy as np\n",
      "import matplotlib.pyplot as plt"
     ],
     "language": "python",
     "metadata": {},
     "outputs": [],
     "prompt_number": 1
    },
    {
     "cell_type": "markdown",
     "metadata": {},
     "source": [
      "M\u00e9todo de bisecci\u00f3n donde se busca un cambio de signo. Vamos reduciendo los intervalos hasta que en un paso infinito, encontramos la ra\u00edz.\n",
      "\n",
      "Agarramos el intervalo, calculo punto medio. Aplico la funci\u00f3n a los tres. Observo (con los \"pedazos\") cual tiene cambio de signo. Ahora una de las esquinas se quedar\u00e1 igual pero tendr\u00e9 como nueva esquina el punto medio. \n",
      "\n",
      "Repetir\n",
      "\n",
      "El problema es que este algoritmo es inestable"
     ]
    },
    {
     "cell_type": "code",
     "collapsed": false,
     "input": [
      "x = np.linspace(-1.5, 1.5, 100)\n",
      "y = x**2 - 1\n",
      "plt.plot(x, y, color=\"blue\")\n",
      "ax = plt.gca()\n",
      "ax.spines['right'].set_color('none')\n",
      "ax.spines['top'].set_color('none')\n",
      "ax.xaxis.set_ticks_position('bottom')\n",
      "ax.spines['bottom'].set_position(('data',0))\n",
      "ax.yaxis.set_ticks_position('left')\n",
      "ax.spines['left'].set_position(('data',0))"
     ],
     "language": "python",
     "metadata": {},
     "outputs": [
      {
       "metadata": {},
       "output_type": "display_data",
       "png": "[encoded data removed]",
       "text": [
        "<matplotlib.figure.Figure at 0x7f4b2ecdb510>"
       ]
      }
     ],
     "prompt_number": 55
    },
    {
     "cell_type": "code",
     "collapsed": false,
     "input": [
      "f = lambda x: x**2 -1"
     ],
     "language": "python",
     "metadata": {},
     "outputs": [],
     "prompt_number": 12
    },
    {
     "cell_type": "code",
     "collapsed": false,
     "input": [
      "f(-0.05)"
     ],
     "language": "python",
     "metadata": {},
     "outputs": [
      {
       "metadata": {},
       "output_type": "pyout",
       "prompt_number": 13,
       "text": [
        "-0.9975"
       ]
      }
     ],
     "prompt_number": 13
    },
    {
     "cell_type": "code",
     "collapsed": false,
     "input": [
      "f(-0.25)"
     ],
     "language": "python",
     "metadata": {},
     "outputs": [
      {
       "metadata": {},
       "output_type": "pyout",
       "prompt_number": 14,
       "text": [
        "-0.9375"
       ]
      }
     ],
     "prompt_number": 14
    },
    {
     "cell_type": "code",
     "collapsed": false,
     "input": [
      "f(1.25)"
     ],
     "language": "python",
     "metadata": {},
     "outputs": [
      {
       "metadata": {},
       "output_type": "pyout",
       "prompt_number": 15,
       "text": [
        "0.5625"
       ]
      }
     ],
     "prompt_number": 15
    },
    {
     "cell_type": "markdown",
     "metadata": {},
     "source": [
      "Manera m\u00e1s sencilla de hacerlo:\n",
      "\n",
      "(el assert lo que hace es que si no se cumple la condici\u00f3n, termina el flujo)\n",
      "\n",
      "(no andar calculando los t\u00e9rminos en las condiciones)\n",
      "\n",
      "(elif)"
     ]
    },
    {
     "cell_type": "code",
     "collapsed": false,
     "input": [
      "def biseccion(func,a,b,stop):\n",
      "    x = (a+b)/2\n",
      "    \n",
      "    assert f(a)*f(b)<0, \"Los signos extremos deber\u00edan ser dif\"\n",
      "    assert f(a) != 0, \"La ra\u00edz es\" % a\n",
      "    assert f(b) != 0, \"La ra\u00edz es\" % b\n",
      "    \n",
      "    print \"%s\\t%16s\\t%16s\" % (\"k\", \"I(a,b)\", \"x\")\n",
      "    print \"%d\\tI(%.5f, %.5f)\\t%.5f\" % (0,a, b, x)\n",
      "    \n",
      "    for k in range(stop):\n",
      "        f_x = f(x)\n",
      "        f_a = f(a)\n",
      "        f_b = f(b)\n",
      "        \n",
      "        if(f_a*f_x<0):\n",
      "            a,b=a,x\n",
      "        elif(f_x*f_b<0):\n",
      "            a,b=x,b\n",
      "        x=(a+b)/2\n",
      "        \n",
      "        print \"%d\\tI(%.5f, %.5f)\\t%.12f\" % (k+1, a, b, x)"
     ],
     "language": "python",
     "metadata": {},
     "outputs": [],
     "prompt_number": 88
    },
    {
     "cell_type": "code",
     "collapsed": false,
     "input": [
      "print \"%3s\\t%5s\\t%4s\" % (\"k\", \"I(a,b)\", \"x\")\n"
     ],
     "language": "python",
     "metadata": {},
     "outputs": [
      {
       "output_type": "stream",
       "stream": "stdout",
       "text": [
        "  k\tI(a,b)\t   x\n"
       ]
      }
     ],
     "prompt_number": 89
    },
    {
     "cell_type": "code",
     "collapsed": false,
     "input": [
      "biseccion(f,-0.5,1.5,10)"
     ],
     "language": "python",
     "metadata": {},
     "outputs": [
      {
       "output_type": "stream",
       "stream": "stdout",
       "text": [
        "k\t          I(a,b)\t               x\n",
        "0\tI(-0.50000, 1.50000)\t0.50000\n",
        "1\tI(0.50000, 1.50000)\t1.000000000000\n",
        "2\tI(0.50000, 1.50000)\t1.000000000000\n",
        "3\tI(0.50000, 1.50000)\t1.000000000000\n",
        "4\tI(0.50000, 1.50000)\t1.000000000000\n",
        "5\tI(0.50000, 1.50000)\t1.000000000000\n",
        "6\tI(0.50000, 1.50000)\t1.000000000000\n",
        "7\tI(0.50000, 1.50000)\t1.000000000000\n",
        "8\tI(0.50000, 1.50000)\t1.000000000000\n",
        "9\tI(0.50000, 1.50000)\t1.000000000000\n",
        "10\tI(0.50000, 1.50000)\t1.000000000000\n"
       ]
      }
     ],
     "prompt_number": 90
    },
    {
     "cell_type": "code",
     "collapsed": false,
     "input": [
      "biseccion(f,-1.1,-0.9999,10)"
     ],
     "language": "python",
     "metadata": {},
     "outputs": [
      {
       "output_type": "stream",
       "stream": "stdout",
       "text": [
        "k\t          I(a,b)\t               x\n",
        "0\tI(-1.10000, -0.99990)\t-1.04995\n",
        "1\tI(-1.04995, -0.99990)\t-1.024925000000\n",
        "2\tI(-1.02493, -0.99990)\t-1.012412500000\n",
        "3\tI(-1.01241, -0.99990)\t-1.006156250000\n",
        "4\tI(-1.00616, -0.99990)\t-1.003028125000\n",
        "5\tI(-1.00303, -0.99990)\t-1.001464062500\n",
        "6\tI(-1.00146, -0.99990)\t-1.000682031250\n",
        "7\tI(-1.00068, -0.99990)\t-1.000291015625\n",
        "8\tI(-1.00029, -0.99990)\t-1.000095507813\n",
        "9\tI(-1.00010, -0.99990)\t-0.999997753906\n",
        "10\tI(-1.00010, -1.00000)\t-1.000046630859\n"
       ]
      }
     ],
     "prompt_number": 92
    },
    {
     "cell_type": "code",
     "collapsed": false,
     "input": [
      "f(np.array([0,1,2]))"
     ],
     "language": "python",
     "metadata": {},
     "outputs": [
      {
       "metadata": {},
       "output_type": "pyout",
       "prompt_number": 93,
       "text": [
        "array([-1,  0,  3])"
       ]
      }
     ],
     "prompt_number": 93
    },
    {
     "cell_type": "code",
     "collapsed": false,
     "input": [
      "def biseccion2(func,arr,stop):\n",
      "    arr[2] = (arr[0]+arr[1])/2\n",
      "    \n",
      "    assert f(arr[0])*f(arr[1])<0, \"Los signos extremos deber\u00edan ser dif\"\n",
      "    assert f(arr[0]) != 0, \"La ra\u00edz es\" % arr[0]\n",
      "    assert f(arr[1]) != 0, \"La ra\u00edz es\" % arr[1]\n",
      "    \n",
      "    print \"%s\\t%16s\\t%16s\" % (\"k\", \"I(a,b)\", \"x\")\n",
      "    print \"%d\\tI(%.5f, %.5f)\\t%.5f\" % (0,arr[0], arr[1], arr[2])\n",
      "    \n",
      "    for k in range(stop):\n",
      "        f_x = f(x)\n",
      "        f_a = f(arr[0])\n",
      "        f_b = f(arr[1])\n",
      "        \n",
      "        if(f_a*f_x<0):\n",
      "            arr[0],arr[1]=arr[0],arr[2]\n",
      "        elif(f_x*f_b<0):\n",
      "            arr[0],arr[1]=arr[2],arr[1]\n",
      "        x=(arr[0]+arr[1])/2\n",
      "        \n",
      "        print \"%d\\tI(%.5f, %.5f)\\t%.12f\" % (k+1, arr[0], arr[1], arr[2])"
     ],
     "language": "python",
     "metadata": {},
     "outputs": [],
     "prompt_number": 94
    },
    {
     "cell_type": "code",
     "collapsed": false,
     "input": [
      "biseccion2(f,np.array([-0.5,1.5,x]),10)"
     ],
     "language": "python",
     "metadata": {},
     "outputs": [
      {
       "ename": "ValueError",
       "evalue": "setting an array element with a sequence.",
       "output_type": "pyerr",
       "traceback": [
        "\u001b[1;31m---------------------------------------------------------------------------\u001b[0m\n\u001b[1;31mValueError\u001b[0m                                Traceback (most recent call last)",
        "\u001b[1;32m<ipython-input-95-e5031a0f5b29>\u001b[0m in \u001b[0;36m<module>\u001b[1;34m()\u001b[0m\n\u001b[1;32m----> 1\u001b[1;33m \u001b[0mbiseccion2\u001b[0m\u001b[1;33m(\u001b[0m\u001b[0mf\u001b[0m\u001b[1;33m,\u001b[0m\u001b[0mnp\u001b[0m\u001b[1;33m.\u001b[0m\u001b[0marray\u001b[0m\u001b[1;33m(\u001b[0m\u001b[1;33m[\u001b[0m\u001b[1;33m-\u001b[0m\u001b[1;36m0.5\u001b[0m\u001b[1;33m,\u001b[0m\u001b[1;36m1.5\u001b[0m\u001b[1;33m,\u001b[0m\u001b[0mx\u001b[0m\u001b[1;33m]\u001b[0m\u001b[1;33m)\u001b[0m\u001b[1;33m,\u001b[0m\u001b[1;36m10\u001b[0m\u001b[1;33m)\u001b[0m\u001b[1;33m\u001b[0m\u001b[0m\n\u001b[0m",
        "\u001b[1;31mValueError\u001b[0m: setting an array element with a sequence."
       ]
      }
     ],
     "prompt_number": 95
    },
    {
     "cell_type": "markdown",
     "metadata": {},
     "source": [
      "vectorx = (a,x,b)\n",
      "despu\u00e9s x[1]=(a1,x1,a2)\n",
      "\n",
      "modificar el for con el arreglo y utilizar indexing para las condicionales "
     ]
    },
    {
     "cell_type": "code",
     "collapsed": false,
     "input": [
      "def biseccion3(func,arr,stop):\n",
      "    func(arr)"
     ],
     "language": "python",
     "metadata": {},
     "outputs": []
    }
   ],
   "metadata": {}
  }
 ]
}