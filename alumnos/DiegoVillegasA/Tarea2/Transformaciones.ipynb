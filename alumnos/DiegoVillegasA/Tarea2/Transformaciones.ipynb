{
 "metadata": {
  "name": "",
  "signature": "sha256:06c8ed96b8ab28021441f99fb4fe0c7b3c12b5b831294c185d7eec44ab9502a1"
 },
 "nbformat": 3,
 "nbformat_minor": 0,
 "worksheets": [
  {
   "cells": [
    {
     "cell_type": "code",
     "collapsed": false,
     "input": [
      "(-2)**7"
     ],
     "language": "python",
     "metadata": {},
     "outputs": [
      {
       "metadata": {},
       "output_type": "pyout",
       "prompt_number": 1,
       "text": [
        "-128"
       ]
      }
     ],
     "prompt_number": 1
    },
    {
     "cell_type": "code",
     "collapsed": false,
     "input": [
      "2**7 -1"
     ],
     "language": "python",
     "metadata": {},
     "outputs": [
      {
       "metadata": {},
       "output_type": "pyout",
       "prompt_number": 7,
       "text": [
        "127"
       ]
      }
     ],
     "prompt_number": 7
    },
    {
     "cell_type": "code",
     "collapsed": false,
     "input": [
      "def minbit(n):\n",
      "    min = (2**7)-1\n",
      "    return min"
     ],
     "language": "python",
     "metadata": {},
     "outputs": [],
     "prompt_number": 25
    },
    {
     "cell_type": "code",
     "collapsed": false,
     "input": [
      "def maxbit(n):\n",
      "    max = -(2)**(n-1)\n",
      "    return max"
     ],
     "language": "python",
     "metadata": {},
     "outputs": [],
     "prompt_number": 26
    },
    {
     "cell_type": "code",
     "collapsed": false,
     "input": [
      "maxbit(8)\n"
     ],
     "language": "python",
     "metadata": {},
     "outputs": [
      {
       "metadata": {},
       "output_type": "pyout",
       "prompt_number": 27,
       "text": [
        "-128"
       ]
      }
     ],
     "prompt_number": 27
    },
    {
     "cell_type": "code",
     "collapsed": false,
     "input": [
      "minbit(8)"
     ],
     "language": "python",
     "metadata": {},
     "outputs": [
      {
       "metadata": {},
       "output_type": "pyout",
       "prompt_number": 28,
       "text": [
        "127"
       ]
      }
     ],
     "prompt_number": 28
    },
    {
     "cell_type": "code",
     "collapsed": false,
     "input": [
      "?"
     ],
     "language": "python",
     "metadata": {},
     "outputs": [],
     "prompt_number": 30
    },
    {
     "cell_type": "code",
     "collapsed": false,
     "input": [
      "def decaBin(n):\n",
      "    bina = \"\"\n",
      "    max = 127\n",
      "    if n<max:\n",
      "        if n==1:\n",
      "            bina+=\"1\"\n",
      "            return bina    \n",
      "        else:\n",
      "            if n%2==0:\n",
      "                bina+=\"0\"\n",
      "            else:\n",
      "                bina+=\"1\"\n",
      "        \n",
      "        return bina+DaB(n/2)\n",
      "    else:\n",
      "        return \"Overflow\"\n",
      "    \n",
      "    \"\"\" La funci\u00f3n utiliza recursividad. Examina si el n\u00famero dado es par o impar, luego divide el n\u00famero recursivamente entre\n",
      "    2 y va examinando la paridad de \u00e9ste. El problema con el programa es que imprime en orden inverso (derecha a izquierda) \n",
      "    el n\u00famero binario. Para corregir el problema se podr\u00eda guardar en un arreglo y con otro programa de recursividad (respecto\n",
      "    la posici\u00f3n del arreglo) imprimir de derecha a izquierda."
     ],
     "language": "python",
     "metadata": {},
     "outputs": [],
     "prompt_number": 82
    },
    {
     "cell_type": "code",
     "collapsed": false,
     "input": [
      "decaBin(10)"
     ],
     "language": "python",
     "metadata": {},
     "outputs": [
      {
       "metadata": {},
       "output_type": "pyout",
       "prompt_number": 97,
       "text": [
        "'0101'"
       ]
      }
     ],
     "prompt_number": 97
    },
    {
     "cell_type": "markdown",
     "metadata": {},
     "source": [
      "Para poder transformar de binario a decimal deber\u00edamos leer el n\u00famero binario como un string para despu\u00e9s obtener cada\n",
      "caracter. Dependiendo de si el caracter le\u00eddo es 0 o 1 y de la posici\u00f3n de este, multiplicamos por 2**pos. Este m\u00e9todo lo\n",
      "aplicamos recursivamente. El caso base ser\u00eda cuando dicha posici\u00f3n vale 0"
     ]
    },
    {
     "cell_type": "code",
     "collapsed": false,
     "input": [
      "%%file Transforamciones.py\n",
      "\n",
      "# Funci\u00f3n que transforma de cartesianas a esf\u00e9ricas\n",
      "\n",
      "import math\n",
      "def esferica(x,y,z):\n",
      "    \n",
      "    # Llamemos el vector E=(x,y,z)\n",
      "    \n",
      "    ro = math.sqrt(x**2+y**2+z**2) #Magnitud de E\n",
      "    \n",
      "    \"\"\"\"Theta es el \u00e1ngulo formado por la proyecci\u00f3n de E al plano x,y. Es decir, es el \u00e1ngulo formado del eje x al vector \n",
      "    (x,y,0). Llamemos \"r\" a este vector. Se calcula a trav\u00e9s de arctang(y/x)\"\"\"\n",
      "    \n",
      "    magr = math.sqrt(x**2+y**2) #Magnitud de r\n",
      "    \n",
      "    theta = math.atan(y/x)\n",
      "    \n",
      "    \"\"\"Notemos que:\n",
      "        x = rcos(theta)\n",
      "        y = rsen(theta)\n",
      "    \n",
      "    \n",
      "     Phi es el \u00e1ngulo del eje z al vector E. Para encontrar phi se considera el vector r. Trasladando r a la altura de \n",
      "    la coordenada cartesiana (valor de z del vector E) se puede formar un tri\u00e1ngulo rect\u00e1ngulo entre el eje z, r trasladada y E\n",
      "    (de todas formas lo \u00fanico que nos interesa son las magnitudes de dichos catetos) Aplicamos arctan(magr/z) para calcular \n",
      "    phi\"\"\"\n",
      "    \n",
      "    phi = math.atan(ro/z)\n",
      "    \n",
      "    \"\"\"\n",
      "    Notemos que:\n",
      "        r = sin(phi)\n",
      "    \n",
      "    Por lo tanto tenemos que:\n",
      "    \"\"\"\n",
      "    \n",
      "    x1= ro*math.sin(phi)*math.cos(theta)\n",
      "    y1= ro*math.sin(phi)*math.sin(theta)\n",
      "    z1= ro*math.cos(theta)\n",
      "    \n",
      "    return (x1,y1,z1)\n",
      "    "
     ],
     "language": "python",
     "metadata": {},
     "outputs": [
      {
       "output_type": "stream",
       "stream": "stdout",
       "text": [
        "Overwriting Transforamciones.py\n"
       ]
      }
     ],
     "prompt_number": 5
    },
    {
     "cell_type": "code",
     "collapsed": false,
     "input": [],
     "language": "python",
     "metadata": {},
     "outputs": []
    }
   ],
   "metadata": {}
  }
 ]
}