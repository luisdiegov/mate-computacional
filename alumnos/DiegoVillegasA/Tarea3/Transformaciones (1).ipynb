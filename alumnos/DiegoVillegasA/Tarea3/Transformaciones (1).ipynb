{
 "metadata": {
  "name": "",
  "signature": "sha256:98d3c44219012872926cb4d15460fb776f6d4a78d3255174017eebb0c445cf09"
 },
 "nbformat": 3,
 "nbformat_minor": 0,
 "worksheets": [
  {
   "cells": [
    {
     "cell_type": "code",
     "collapsed": false,
     "input": [
      "(-2)**7"
     ],
     "language": "python",
     "metadata": {},
     "outputs": [
      {
       "metadata": {},
       "output_type": "pyout",
       "prompt_number": 185,
       "text": [
        "-128"
       ]
      }
     ],
     "prompt_number": 185
    },
    {
     "cell_type": "code",
     "collapsed": false,
     "input": [
      "2**7 -1"
     ],
     "language": "python",
     "metadata": {},
     "outputs": [
      {
       "metadata": {},
       "output_type": "pyout",
       "prompt_number": 186,
       "text": [
        "127"
       ]
      }
     ],
     "prompt_number": 186
    },
    {
     "cell_type": "code",
     "collapsed": false,
     "input": [
      "def minbit(n):\n",
      "    min = (2**7)-1\n",
      "    return min"
     ],
     "language": "python",
     "metadata": {},
     "outputs": [],
     "prompt_number": 187
    },
    {
     "cell_type": "code",
     "collapsed": false,
     "input": [
      "def maxbit(n):\n",
      "    max = -(2)**(n-1)\n",
      "    return max"
     ],
     "language": "python",
     "metadata": {},
     "outputs": [],
     "prompt_number": 188
    },
    {
     "cell_type": "code",
     "collapsed": false,
     "input": [
      "maxbit(8)\n"
     ],
     "language": "python",
     "metadata": {},
     "outputs": [
      {
       "metadata": {},
       "output_type": "pyout",
       "prompt_number": 189,
       "text": [
        "-128"
       ]
      }
     ],
     "prompt_number": 189
    },
    {
     "cell_type": "code",
     "collapsed": false,
     "input": [
      "minbit(8)"
     ],
     "language": "python",
     "metadata": {},
     "outputs": [
      {
       "metadata": {},
       "output_type": "pyout",
       "prompt_number": 190,
       "text": [
        "127"
       ]
      }
     ],
     "prompt_number": 190
    },
    {
     "cell_type": "code",
     "collapsed": false,
     "input": [
      "?"
     ],
     "language": "python",
     "metadata": {},
     "outputs": [],
     "prompt_number": 191
    },
    {
     "cell_type": "code",
     "collapsed": false,
     "input": [
      "def decaBin(n):\n",
      "    bina = \"\"\n",
      "    max = 127\n",
      "    if n<max:\n",
      "        if n==1:\n",
      "            bina =\"1\"+bina\n",
      "            return bina    \n",
      "        else:\n",
      "            if n%2==0:\n",
      "                bina = \"0\" + bina\n",
      "            else:\n",
      "                bina = \"1\" + bina\n",
      "        \n",
      "        return decaBin(n/2) + bina\n",
      "    else:\n",
      "        return \"Overflow\"\n",
      "    "
     ],
     "language": "python",
     "metadata": {},
     "outputs": [],
     "prompt_number": 192
    },
    {
     "cell_type": "code",
     "collapsed": false,
     "input": [
      "decaBin(10)"
     ],
     "language": "python",
     "metadata": {},
     "outputs": [
      {
       "metadata": {},
       "output_type": "pyout",
       "prompt_number": 193,
       "text": [
        "'1010'"
       ]
      }
     ],
     "prompt_number": 193
    },
    {
     "cell_type": "code",
     "collapsed": false,
     "input": [
      "\"\"\"Esta funci\u00f3n de decimal a binario no la voy a limitar para poder utilizarla efic\u00e1zmente al quere convertir de hexadecimal a\n",
      "binario\"\"\"\n",
      "def decaBin2(n):\n",
      "    bina = \"\"\n",
      "    if n==1:\n",
      "        bina =\"1\"+bina\n",
      "        return bina    \n",
      "    else:\n",
      "        if n%2==0:\n",
      "            bina = \"0\" + bina\n",
      "        else:\n",
      "            bina = \"1\" + bina\n",
      "        \n",
      "    return decaBin2(n/2) + bina\n"
     ],
     "language": "python",
     "metadata": {},
     "outputs": [],
     "prompt_number": 194
    },
    {
     "cell_type": "code",
     "collapsed": false,
     "input": [
      "def binaDec(n):\n",
      "    decimal = 0\n",
      "    for digito in str(n):\n",
      "        decimal = decimal*2 + int(digito)\n",
      "    print decimal"
     ],
     "language": "python",
     "metadata": {},
     "outputs": [],
     "prompt_number": 195
    },
    {
     "cell_type": "code",
     "collapsed": false,
     "input": [
      "binaDec(1010)"
     ],
     "language": "python",
     "metadata": {},
     "outputs": [
      {
       "output_type": "stream",
       "stream": "stdout",
       "text": [
        "10\n"
       ]
      }
     ],
     "prompt_number": 196
    },
    {
     "cell_type": "code",
     "collapsed": false,
     "input": [
      "\"\"\" En general el algoritmo es pr\u00e1cticamente el mismo que el utilizado con el binario. La diferencia es que, en vez de existir \n",
      "2 caracteres posibles para las congruencias y para la impresi\u00f3n, existen 16 (incluyendo el 0). Por ello la existencia de tantos\n",
      "ifs. Intent\u00e9, previamente, utilizar alg\u00fan tipo de switch()-case pero no encontr\u00e9 el equivalente en python (seguro por ignoran-\n",
      "cia y no porque no exista jaja). Google me sugiri\u00f3 utilizar diccionarios pero no me corr\u00eda bien la funci\u00f3n, por ende, recurr\u00ed\n",
      "al cl\u00e1sico truco de utilizar montonales de ifs...\"\"\"\n",
      "\n",
      "def decaHex(n):\n",
      "    hexa = \"\"\n",
      "    \n",
      "    if n<16:\n",
      "        if n<10:\n",
      "            hexa = str(n) + hexa\n",
      "            return hexa\n",
      "        else:\n",
      "            if n == 10:\n",
      "                hexa = \"A\" + hexa\n",
      "                return hexa\n",
      "            else:\n",
      "                if n == 11:\n",
      "                    hexa = \"B\" + hexa\n",
      "                    return hexa\n",
      "                else:\n",
      "                    if n == 12:\n",
      "                        hexa = \"C\" + hexa\n",
      "                        return hexa\n",
      "                    else:\n",
      "                        if n == 13:\n",
      "                            hexa = \"D\" + hexa\n",
      "                            return hexa\n",
      "                        else:\n",
      "                            if n ==14:\n",
      "                                hexa = \"E\" + hexa\n",
      "                                return hexa\n",
      "                            else:\n",
      "                                    hexa = \"F\" + hexa\n",
      "                                    return hexa\n",
      "    else:\n",
      "        cong = n%16\n",
      "        \n",
      "        if cong == 0:\n",
      "            hexa = str(cong) + hexa\n",
      "        else:\n",
      "            if cong == 1:\n",
      "                hexa = str(cong) + hexa\n",
      "            else:\n",
      "                if cong ==2:\n",
      "                    hexa = str(cong) + hexa\n",
      "                else:\n",
      "                    if cong==3:\n",
      "                        hexa = str(cong) + hexa\n",
      "                    else:\n",
      "                        if cong==4:\n",
      "                            hexa = str(cong) + hexa\n",
      "                        else:\n",
      "                            if cong==5:\n",
      "                                hexa = str(cong) + hexa\n",
      "                            else:\n",
      "                                if cong==6:\n",
      "                                    hexa = str(cong) + hexa\n",
      "                                else:\n",
      "                                    if cong==7:\n",
      "                                        hexa = str(cong) + hexa\n",
      "                                    else:\n",
      "                                        if cong==8:\n",
      "                                            hexa = str(cong) + hexa\n",
      "                                        else:\n",
      "                                            if cong==9:\n",
      "                                                hexa = str(cong) + hexa\n",
      "                                            else:\n",
      "                                                if cong==10:\n",
      "                                                    hexa = \"A\" + hexa\n",
      "                                                else:\n",
      "                                                    if cong==11:\n",
      "                                                        hexa = \"B\" + hexa\n",
      "                                                    else:\n",
      "                                                        if cong==12:\n",
      "                                                            hexa = \"C\" + hexa\n",
      "                                                        else:\n",
      "                                                            if cong==13:\n",
      "                                                                hexa = \"D\" + hexa\n",
      "                                                            else:\n",
      "                                                                if cong==14:\n",
      "                                                                    hexa = \"E\" + hexa\n",
      "                                                                else:\n",
      "                                                                        hexa = \"F\" + hexa\n",
      "        return decaHex(n/16) + hexa\n",
      "                "
     ],
     "language": "python",
     "metadata": {},
     "outputs": [],
     "prompt_number": 258
    },
    {
     "cell_type": "code",
     "collapsed": false,
     "input": [
      "decaHex(1455)"
     ],
     "language": "python",
     "metadata": {},
     "outputs": [
      {
       "metadata": {},
       "output_type": "pyout",
       "prompt_number": 257,
       "text": [
        "'5AF'"
       ]
      }
     ],
     "prompt_number": 257
    },
    {
     "cell_type": "code",
     "collapsed": false,
     "input": [
      "def hexaDec(n):\n",
      "    decimal = 0\n",
      "    for digito in str(n):\n",
      "        if str(digito) == \"A\":\n",
      "            digito = 10\n",
      "        else:\n",
      "            if str(digito) == \"B\":\n",
      "                digito = 11\n",
      "            else:\n",
      "                if str(digito) == \"C\":\n",
      "                    digito = 12\n",
      "                else:\n",
      "                    if str(digito) == \"D\":\n",
      "                        digito = 13\n",
      "                    else:\n",
      "                        if str(digito) == \"E\":\n",
      "                            digito = 14\n",
      "                        else:\n",
      "                            if str(digito) == \"F\":\n",
      "                                digito = 15\n",
      "    decimal = decimal*16 + int(digito)\n",
      "    print decimal\n",
      "\n",
      "# Intent\u00e9 utilizar un algoritmo parecido al de binarios pero fracas\u00e9 miserablemente"
     ],
     "language": "python",
     "metadata": {},
     "outputs": [],
     "prompt_number": 199
    },
    {
     "cell_type": "code",
     "collapsed": false,
     "input": [
      "hexaDec(\"10\")"
     ],
     "language": "python",
     "metadata": {},
     "outputs": [
      {
       "output_type": "stream",
       "stream": "stdout",
       "text": [
        "0\n"
       ]
      }
     ],
     "prompt_number": 200
    },
    {
     "cell_type": "code",
     "collapsed": false,
     "input": [
      "#Por suerte python tiene un convertidor incluido :P\n",
      "def hexaDec2(n):\n",
      "    x = int(n, 16)\n",
      "    return x"
     ],
     "language": "python",
     "metadata": {},
     "outputs": [],
     "prompt_number": 212
    },
    {
     "cell_type": "code",
     "collapsed": false,
     "input": [
      "hexaDec2(\"5AF\")"
     ],
     "language": "python",
     "metadata": {},
     "outputs": [
      {
       "metadata": {},
       "output_type": "pyout",
       "prompt_number": 213,
       "text": [
        "1455"
       ]
      }
     ],
     "prompt_number": 213
    },
    {
     "cell_type": "code",
     "collapsed": false,
     "input": [
      "#Ya que puedo transformar a gusto entre hex-decimal y de dec-bin puedo crear una que transform de hex-bin y viceversa\n",
      "def hexaBin(n):\n",
      "    return decaBin2(hexaDec2(n))"
     ],
     "language": "python",
     "metadata": {},
     "outputs": [],
     "prompt_number": 203
    },
    {
     "cell_type": "code",
     "collapsed": false,
     "input": [
      "hexaBin(\"5AF\")"
     ],
     "language": "python",
     "metadata": {},
     "outputs": [
      {
       "metadata": {},
       "output_type": "pyout",
       "prompt_number": 204,
       "text": [
        "'10110101111'"
       ]
      }
     ],
     "prompt_number": 204
    },
    {
     "cell_type": "code",
     "collapsed": false,
     "input": [
      "def binaHex(n):\n",
      "    b = binaDec(n)\n",
      "    return decaHex(b)"
     ],
     "language": "python",
     "metadata": {},
     "outputs": [],
     "prompt_number": 259
    },
    {
     "cell_type": "code",
     "collapsed": false,
     "input": [
      "binaHex(1010)\n",
      "# No entiendo por qu\u00e9 no funciona si por separado ambas funciones trabajan adecuadamente..."
     ],
     "language": "python",
     "metadata": {},
     "outputs": [
      {
       "output_type": "stream",
       "stream": "stdout",
       "text": [
        "10\n"
       ]
      },
      {
       "metadata": {},
       "output_type": "pyout",
       "prompt_number": 260,
       "text": [
        "'None'"
       ]
      }
     ],
     "prompt_number": 260
    },
    {
     "cell_type": "code",
     "collapsed": false,
     "input": [
      "%%file Transforamciones.py\n",
      "\n",
      "# Funci\u00f3n que transforma de cartesianas a esf\u00e9ricas\n",
      "\n",
      "import math\n",
      "def esferica(x,y,z):\n",
      "    \n",
      "    # Llamemos el vector E=(x,y,z)\n",
      "    \n",
      "    ro = math.sqrt(x**2+y**2+z**2) #Magnitud de E\n",
      "    \n",
      "    \"\"\"\"Theta es el \u00e1ngulo formado por la proyecci\u00f3n de E al plano x,y. Es decir, es el \u00e1ngulo formado del eje x al vector \n",
      "    (x,y,0). Llamemos \"r\" a este vector. Se calcula a trav\u00e9s de arctang(y/x)\"\"\"\n",
      "    \n",
      "    magr = math.sqrt(x**2+y**2) #Magnitud de r\n",
      "    \n",
      "    theta = math.atan(y/x)\n",
      "    \n",
      "    \"\"\"Notemos que:\n",
      "        x = rcos(theta)\n",
      "        y = rsen(theta)\n",
      "    \n",
      "    \n",
      "     Phi es el \u00e1ngulo del eje z al vector E. Para encontrar phi se considera el vector r. Trasladando r a la altura de \n",
      "    la coordenada cartesiana (valor de z del vector E) se puede formar un tri\u00e1ngulo rect\u00e1ngulo entre el eje z, r trasladada y E\n",
      "    (de todas formas lo \u00fanico que nos interesa son las magnitudes de dichos catetos) Aplicamos arctan(magr/z) para calcular \n",
      "    phi\"\"\"\n",
      "    \n",
      "    phi = math.atan(ro/z)\n",
      "    \n",
      "    \"\"\"\n",
      "    Notemos que:\n",
      "        r = sin(phi)\n",
      "    \n",
      "    Por lo tanto tenemos que:\n",
      "    \"\"\"\n",
      "    \n",
      "    x1= ro*math.sin(phi)*math.cos(theta)\n",
      "    y1= ro*math.sin(phi)*math.sin(theta)\n",
      "    z1= ro*math.cos(theta)\n",
      "    \n",
      "    return (x1,y1,z1)\n",
      "    "
     ],
     "language": "python",
     "metadata": {},
     "outputs": [
      {
       "output_type": "stream",
       "stream": "stdout",
       "text": [
        "Overwriting Transforamciones.py\n"
       ]
      }
     ],
     "prompt_number": 5
    }
   ],
   "metadata": {}
  }
 ]
}