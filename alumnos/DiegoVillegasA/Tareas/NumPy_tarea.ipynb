{
 "metadata": {
  "name": "",
  "signature": "sha256:6c3888ef1064b651a415c567121cce9a410d47da9c1c259a21d2ab0ebc7b49bc"
 },
 "nbformat": 3,
 "nbformat_minor": 0,
 "worksheets": [
  {
   "cells": [
    {
     "cell_type": "heading",
     "level": 1,
     "metadata": {},
     "source": [
      "Ejercicios de NumPy"
     ]
    },
    {
     "cell_type": "code",
     "collapsed": false,
     "input": [
      "%matplotlib inline\n",
      "import numpy as np\n",
      "import matplotlib as plt"
     ],
     "language": "python",
     "metadata": {},
     "outputs": [],
     "prompt_number": 12
    },
    {
     "cell_type": "heading",
     "level": 3,
     "metadata": {},
     "source": [
      "Pregunta1"
     ]
    },
    {
     "cell_type": "markdown",
     "metadata": {},
     "source": [
      "Crea los siguientes arreglos con los tipos correctos."
     ]
    },
    {
     "cell_type": "markdown",
     "metadata": {},
     "source": [
      "Un arreglo de 5\u00d75 cuya diagonal sean [2.0,3.0,4.0,5.0]"
     ]
    },
    {
     "cell_type": "markdown",
     "metadata": {},
     "source": [
      "Un arreglo de 4\u00d74 cuyo \u00faltimo rengl\u00f3n sea [1,2,3,4] y el resto sean 0."
     ]
    },
    {
     "cell_type": "code",
     "collapsed": false,
     "input": [
      "\"\"\"\n",
      "Primero creo el arreglo identidad con eye. Despu\u00e9s cambio los\n",
      "valores de la diagonal uno por uno. Lo podr\u00eda hacer con un for\n",
      "pero como son pocos valores, lo hago uno por uno. Falta un va-\n",
      "lor de la diagonal; supongo que el primer valor era 1.\n",
      "\"\"\"\n",
      "\n",
      "arr = np.eye(5)\n",
      "arr[0,0]=1.0\n",
      "arr[1,1]=2.0\n",
      "arr[2,2]=3.0\n",
      "arr[3,3]=4.0\n",
      "arr[4,4]=5.0\n",
      "arr"
     ],
     "language": "python",
     "metadata": {},
     "outputs": [
      {
       "metadata": {},
       "output_type": "pyout",
       "prompt_number": 5,
       "text": [
        "array([[ 1.,  0.,  0.,  0.,  0.],\n",
        "       [ 0.,  2.,  0.,  0.,  0.],\n",
        "       [ 0.,  0.,  3.,  0.,  0.],\n",
        "       [ 0.,  0.,  0.,  4.,  0.],\n",
        "       [ 0.,  0.,  0.,  0.,  5.]])"
       ]
      }
     ],
     "prompt_number": 5
    },
    {
     "cell_type": "code",
     "collapsed": false,
     "input": [
      "\"\"\"\n",
      "En este ejericio lo hacemos mejro con for\n",
      "\"\"\"\n",
      "\n",
      "arr2=np.zeros((4,4))\n",
      "for valor in xrange(0,4):\n",
      "    arr2[3, valor]=valor+1\n",
      "    valor+=1\n",
      "arr2"
     ],
     "language": "python",
     "metadata": {},
     "outputs": [
      {
       "metadata": {},
       "output_type": "pyout",
       "prompt_number": 11,
       "text": [
        "array([[ 0.,  0.,  0.,  0.],\n",
        "       [ 0.,  0.,  0.,  0.],\n",
        "       [ 0.,  0.,  0.,  0.],\n",
        "       [ 1.,  2.,  3.,  4.]])"
       ]
      }
     ],
     "prompt_number": 11
    },
    {
     "cell_type": "heading",
     "level": 3,
     "metadata": {},
     "source": [
      "Pregunta 2"
     ]
    },
    {
     "cell_type": "code",
     "collapsed": false,
     "input": [
      "bool_arr = np.ones((200,), dtype=bool)"
     ],
     "language": "python",
     "metadata": {},
     "outputs": [],
     "prompt_number": 90
    },
    {
     "cell_type": "code",
     "collapsed": false,
     "input": [
      "#Tachar los elementos 0 y 1\n",
      "bool_arr[0]=False\n",
      "bool_arr[1]=False"
     ],
     "language": "python",
     "metadata": {},
     "outputs": [],
     "prompt_number": 92
    },
    {
     "cell_type": "code",
     "collapsed": false,
     "input": [
      "N_max = int(np.sqrt(len(bool_arr)))\n",
      "for j in range(2, N_max):\n",
      "    bool_arr[2*j::j] = False\n",
      "np.nonzero(bool_arr)"
     ],
     "language": "python",
     "metadata": {},
     "outputs": [
      {
       "metadata": {},
       "output_type": "pyout",
       "prompt_number": 93,
       "text": [
        "(array([  2,   3,   5,   7,  11,  13,  17,  19,  23,  29,  31,  37,  41,\n",
        "         43,  47,  53,  59,  61,  67,  71,  73,  79,  83,  89,  97, 101,\n",
        "        103, 107, 109, 113, 127, 131, 137, 139, 149, 151, 157, 163, 167,\n",
        "        173, 179, 181, 191, 193, 197, 199]),)"
       ]
      }
     ],
     "prompt_number": 93
    },
    {
     "cell_type": "code",
     "collapsed": false,
     "input": [
      "\"\"\"\n",
      "Para entender el slicing hice una prueba:\n",
      "\"\"\"\n",
      "x=0\n",
      "arr3=[x for x in range(21)]\n",
      "arr3"
     ],
     "language": "python",
     "metadata": {},
     "outputs": [
      {
       "metadata": {},
       "output_type": "pyout",
       "prompt_number": 45,
       "text": [
        "[0, 1, 2, 3, 4, 5, 6, 7, 8, 9, 10, 11, 12, 13, 14, 15, 16, 17, 18, 19, 20]"
       ]
      }
     ],
     "prompt_number": 45
    },
    {
     "cell_type": "code",
     "collapsed": false,
     "input": [
      "arr3[6::3]"
     ],
     "language": "python",
     "metadata": {},
     "outputs": [
      {
       "metadata": {},
       "output_type": "pyout",
       "prompt_number": 46,
       "text": [
        "[6, 9, 12, 15, 18]"
       ]
      }
     ],
     "prompt_number": 46
    },
    {
     "cell_type": "markdown",
     "metadata": {},
     "source": [
      "Por lo visto lo que hace el slicing es: desde el primer valor otorgado, ir avanzando en m\u00faltiplos del segundo valor hasta recorrer todo el arreglo. Justo lo que necesitamos para quitar todos los m\u00faltiplos pues lo introducimos dentro de un for que recorra todos los diferentes m\u00faltiplos existentes. Como \u00faltima observaci\u00f3n, el slicing empieza desde el 4. Por ello se pide que se descriminen manualmente el 0 y el 1. La condicional cambia los valores booleanos a False a aquellos que sean m\u00faltiplos.\n",
      "\n",
      "Adem\u00e1s, para poder saber si un n\u00famero es primo o no, por Teor\u00eda de N\u00fameros, primero se saca ra\u00edz a dicho n\u00famero y se le aplica un floor (el floor se aplica solito al operar con phyton pues se trabaja con enteros). Despu\u00e9s, aplicamos dicho an\u00e1lisis, de encontrar si tiene m\u00faltiplos o no, \u00fanicamente a los n\u00fameros que corresponden menores a dicha ra\u00edz.\n",
      "\n",
      "Con estos dos procesos se descriminan todos los m\u00faltiplos y se dejan los primos."
     ]
    },
    {
     "cell_type": "code",
     "collapsed": false,
     "input": [
      "def criba_eratostenes(max):\n",
      "    bool_arr2=np.ones((max,),dtype=bool)\n",
      "    bool_arr2[0]=False\n",
      "    bool_arr2[1]=False\n",
      "    \n",
      "    N_max = int(np.sqrt(len(bool_arr2)))\n",
      "    for j in range(2, N_max+1):\n",
      "        bool_arr2[2*j::j]=False\n",
      "    print np.nonzero(bool_arr2)"
     ],
     "language": "python",
     "metadata": {},
     "outputs": [],
     "prompt_number": 88
    },
    {
     "cell_type": "code",
     "collapsed": false,
     "input": [
      "#No s\u00e9 porqu\u00e9 sale el None\n",
      "for i in {10,100,200}:\n",
      "    print criba_eratostenes(i)"
     ],
     "language": "python",
     "metadata": {},
     "outputs": [
      {
       "output_type": "stream",
       "stream": "stdout",
       "text": [
        "(array([  2,   3,   5,   7,  11,  13,  17,  19,  23,  29,  31,  37,  41,\n",
        "        43,  47,  53,  59,  61,  67,  71,  73,  79,  83,  89,  97, 101,\n",
        "       103, 107, 109, 113, 127, 131, 137, 139, 149, 151, 157, 163, 167,\n",
        "       173, 179, 181, 191, 193, 197, 199]),)\n",
        "None\n",
        "(array([2, 3, 5, 7]),)\n",
        "None\n",
        "(array([ 2,  3,  5,  7, 11, 13, 17, 19, 23, 29, 31, 37, 41, 43, 47, 53, 59,\n",
        "       61, 67, 71, 73, 79, 83, 89, 97]),)\n",
        "None\n"
       ]
      }
     ],
     "prompt_number": 89
    },
    {
     "cell_type": "heading",
     "level": 3,
     "metadata": {},
     "source": [
      "Pregunta 3"
     ]
    },
    {
     "cell_type": "markdown",
     "metadata": {},
     "source": [
      "Vamos a hacer una representaci\u00f3n de cada cubo que conforma el rubick. Cada cubo tiene seis caras (ya s\u00e9 que se repetir\u00e1n caras pero ni modo). Por lo tanto cada cara podr\u00eda tener un color (en realidad las esquinas tendr\u00edan 3 y las dem\u00e1s tendr\u00edan 2). La representaci\u00f3n ser\u00e1 la siguiente:\n",
      "cubito = [primer color, color arriba, color a lado izquierdo(si es esquina),color abajo,color a lado derecho,0]\n",
      "Cada n\u00famero asignado denotar\u00e1 el color de la cara correspondiente. Existen 6 caras."
     ]
    },
    {
     "cell_type": "code",
     "collapsed": false,
     "input": [
      "cubito1.1.1 = [1,2,3,0,0,0]\n",
      "cubito1.1.2 = [1,2,0,0,0,0]\n",
      "cubito1.1.3 = [1,2,0,0,4,0]\n",
      "\n",
      "cubito1.2.1 = [1,0,3,0,0,0]\n",
      "cubito1.2.2 = [1,0,0,0,0,0]\n",
      "cubito1.2.3 = [1,0,0,0,4,0]\n",
      "\n",
      "cubito1.3.1 = [1,0,3,5,0,0]\n",
      "cubito1.3.2 = [1,0,0,5,0,0]\n",
      "cubito1.3.3 = [1,0,0,5,4,0]\n",
      "\n",
      "cara1 = [[cubito1.1.1,cubito1.1.2,cubito1.1.3],[cubito1.2.1,cubito1.2.2,cubito1.2.3],[cubito1.3.1,cubito1.3.2,cubito1.3.3]]\n",
      "\n",
      "cubito2.1.1 = [2,3,1,0,0,0]\n",
      "cubito2.1.2 = [2,3,0,0,0,0]\n",
      "cubito2.1.3 = [2,3,0,0,6,0]\n",
      "\n",
      "cubito2.2.1 = [2,0,1,0,0,0]\n",
      "cubito2.2.2 = [2,0,0,0,0,0]\n",
      "cubito2.2.3 = [2,0,0,0,6,0]\n",
      "\n",
      "cubito2.3.1 = [2,0,1,5,0,0]\n",
      "cubito2.3.2 = [2,0,0,5,0,0]\n",
      "cubito2.3.3 = [2,0,0,5,6,0]\n",
      "\n",
      "cara2 =\n",
      "\n",
      "cubito3.1.1 = [3,0,2,0,0,0]\n",
      "cubito3.1.2 = [3,0,0,0,0,0]\n",
      "cubito3.1.3 = [3,0,0,0,4,0]\n",
      "\n",
      "cubito3.2.1 = [3,0,2,0,0,0]\n",
      "cubito3.2.2 = [3,0,0,0,0,0]\n",
      "cubito3.2.3 = [3,0,0,0,4,0]\n",
      "\n",
      "cubito3.3.1 = [3,6,2,1,0,0]\n",
      "cubito3.3.2 = [3,6,0,1,0,0]\n",
      "cubito3.3.3 = [3,6,0,1,4,0]\n",
      "\n",
      "cara3 = \n",
      "...\n",
      "cubo = [[cara],[cara],[cara],[cara],[cara],[cara]]\n",
      "cubo"
     ],
     "language": "python",
     "metadata": {},
     "outputs": [
      {
       "metadata": {},
       "output_type": "pyout",
       "prompt_number": 117,
       "text": [
        "[[[[[0, 0, 0, 0, 0, 0], [0, 0, 0, 0, 0, 0], [0, 0, 0, 0, 0, 0]],\n",
        "   [[0, 0, 0, 0, 0, 0], [0, 0, 0, 0, 0, 0], [0, 0, 0, 0, 0, 0]],\n",
        "   [[0, 0, 0, 0, 0, 0], [0, 0, 0, 0, 0, 0], [0, 0, 0, 0, 0, 0]]]],\n",
        " [[[[0, 0, 0, 0, 0, 0], [0, 0, 0, 0, 0, 0], [0, 0, 0, 0, 0, 0]],\n",
        "   [[0, 0, 0, 0, 0, 0], [0, 0, 0, 0, 0, 0], [0, 0, 0, 0, 0, 0]],\n",
        "   [[0, 0, 0, 0, 0, 0], [0, 0, 0, 0, 0, 0], [0, 0, 0, 0, 0, 0]]]],\n",
        " [[[[0, 0, 0, 0, 0, 0], [0, 0, 0, 0, 0, 0], [0, 0, 0, 0, 0, 0]],\n",
        "   [[0, 0, 0, 0, 0, 0], [0, 0, 0, 0, 0, 0], [0, 0, 0, 0, 0, 0]],\n",
        "   [[0, 0, 0, 0, 0, 0], [0, 0, 0, 0, 0, 0], [0, 0, 0, 0, 0, 0]]]]]"
       ]
      }
     ],
     "prompt_number": 117
    },
    {
     "cell_type": "markdown",
     "metadata": {},
     "source": [
      "Estaba desarrollando este m\u00e9todo y a mi opini\u00f3n si saldr\u00eda pero por cuestiones de tiempo lo dej\u00e9 a la mitad... Seguro hab\u00eda una forma mucho m\u00e1s sencilla pero no se me ocurri\u00f3"
     ]
    },
    {
     "cell_type": "heading",
     "level": 2,
     "metadata": {},
     "source": [
      "Pregunta 4"
     ]
    },
    {
     "cell_type": "code",
     "collapsed": false,
     "input": [
      "arr = np.arange(1,82)\n",
      "arr2 = arr.reshape((9,9))\n",
      "arr2"
     ],
     "language": "python",
     "metadata": {},
     "outputs": [
      {
       "metadata": {},
       "output_type": "pyout",
       "prompt_number": 238,
       "text": [
        "array([[ 1,  2,  3,  4,  5,  6,  7,  8,  9],\n",
        "       [10, 11, 12, 13, 14, 15, 16, 17, 18],\n",
        "       [19, 20, 21, 22, 23, 24, 25, 26, 27],\n",
        "       [28, 29, 30, 31, 32, 33, 34, 35, 36],\n",
        "       [37, 38, 39, 40, 41, 42, 43, 44, 45],\n",
        "       [46, 47, 48, 49, 50, 51, 52, 53, 54],\n",
        "       [55, 56, 57, 58, 59, 60, 61, 62, 63],\n",
        "       [64, 65, 66, 67, 68, 69, 70, 71, 72],\n",
        "       [73, 74, 75, 76, 77, 78, 79, 80, 81]])"
       ]
      }
     ],
     "prompt_number": 238
    },
    {
     "cell_type": "code",
     "collapsed": false,
     "input": [
      "def descomponer3x3(s1):\n",
      "    \n",
      "    s1a = s1[0:3,0:3]\n",
      "    s1b = s1[0:3,3:6]\n",
      "    s1c = s1[0:3,6:10]\n",
      "\n",
      "    s2a = s1[3:6,0:3]\n",
      "    s2b = s1[3:6,3:6]\n",
      "    s2c = s1[3:6,6:10]\n",
      "\n",
      "    s3a = s1[6:10,0:3]\n",
      "    s3b = s1[6:10,3:6]\n",
      "    s3c = s1[6:10,6:10]\n",
      "\n",
      "    a=np.unique(s1a)\n",
      "    b=np.unique(s1b)\n",
      "    c=np.unique(s1c)\n",
      "    d=np.unique(s2a)\n",
      "    e=np.unique(s2b)\n",
      "    f=np.unique(s2c)\n",
      "    g=np.unique(s3a)\n",
      "    h=np.unique(s3b)\n",
      "    i=np.unique(s3c)"
     ],
     "language": "python",
     "metadata": {},
     "outputs": [],
     "prompt_number": 240
    },
    {
     "cell_type": "code",
     "collapsed": false,
     "input": [
      "def correcto(arr):\n",
      "    if arr.shape == (9,):\n",
      "        arr2 = np.arange(1,10)\n",
      "        if np.unique(arr) == arr2:\n",
      "            return \"correcto\"\n",
      "        else:\n",
      "            return \"incorrecto\"\n",
      "    else:\n",
      "        return \"arreglo incorrecto\"\n",
      "    "
     ],
     "language": "python",
     "metadata": {},
     "outputs": [],
     "prompt_number": 241
    },
    {
     "cell_type": "code",
     "collapsed": false,
     "input": [
      "def esSolucion(arr):\n",
      "    for i in xrange(0,9):\n",
      "        if correcto(arr[i,:]) == False:\n",
      "            print \"incorrecto\"\n",
      "\n",
      "    descomponer3x3(arr)\n",
      "    if a==b and b==c and c==d and d==e and e==f and f==g and g==h and h==i:\n",
      "        return \"correcto\"\n",
      "    else:\n",
      "        return \"incorrecto\""
     ],
     "language": "python",
     "metadata": {},
     "outputs": [],
     "prompt_number": 242
    },
    {
     "cell_type": "markdown",
     "metadata": {},
     "source": [
      "Explicaci\u00f3n del programa: Primero hacemos el an\u00e1lisis por renglones. Checa que el arreglo sea del tipo (9,0) y despu\u00e9s checa que el unique sea del tipo 1 a 9. De esta forma se establece que no se repiten pues solo puedes tener 9 n\u00famero ah\u00ed. Despu\u00e9s divide el 9x9 por 3 de 3x3 y checa los uniques de cada uno, los cuales deber\u00edan dar todos id\u00e9nticos. Si cumple estas dos condiciones, el sudoku est\u00e1 bien hecho"
     ]
    },
    {
     "cell_type": "heading",
     "level": 2,
     "metadata": {},
     "source": [
      "Pregunta 5"
     ]
    },
    {
     "cell_type": "code",
     "collapsed": false,
     "input": [
      "def leertxt()..."
     ],
     "language": "python",
     "metadata": {},
     "outputs": [
      {
       "ename": "SyntaxError",
       "evalue": "invalid syntax (<ipython-input-243-3f5342debed3>, line 1)",
       "output_type": "pyerr",
       "traceback": [
        "\u001b[1;36m  File \u001b[1;32m\"<ipython-input-243-3f5342debed3>\"\u001b[1;36m, line \u001b[1;32m1\u001b[0m\n\u001b[1;33m    def leertxt()...\u001b[0m\n\u001b[1;37m                 ^\u001b[0m\n\u001b[1;31mSyntaxError\u001b[0m\u001b[1;31m:\u001b[0m invalid syntax\n"
       ]
      }
     ],
     "prompt_number": 243
    },
    {
     "cell_type": "code",
     "collapsed": false,
     "input": [],
     "language": "python",
     "metadata": {},
     "outputs": []
    }
   ],
   "metadata": {}
  }
 ]
}