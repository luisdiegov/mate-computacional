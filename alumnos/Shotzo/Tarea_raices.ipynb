{
 "metadata": {
  "name": "",
  "signature": "sha256:14678c603a378e34b43a492b5413843bb3cc97acb77fd856f22003ec3d4adf03"
 },
 "nbformat": 3,
 "nbformat_minor": 0,
 "worksheets": [
  {
   "cells": [
    {
     "cell_type": "heading",
     "level": 2,
     "metadata": {},
     "source": [
      "Problema / Tarea"
     ]
    },
    {
     "cell_type": "markdown",
     "metadata": {},
     "source": [
      "<div class=\"alert alert-warning\">\n",
      "El problema siguiente fu\u00e9 tomado del libro **Applied Numerical Methods with Matlab for Engineers and Scientists** de _Steven C. Chapra_\n",
      "</div>"
     ]
    },
    {
     "cell_type": "markdown",
     "metadata": {},
     "source": [
      "Estudios m\u00e9dicos han determinado que un usuario del _bungee_ puede sufrir una lesi\u00f3n seria de las v\u00e9rtebras si la velocidad de ca\u00edda libre excede los $v = 36\\ m/s$ luego de $t= 4\\ s$ de ca\u00edda. Se te pide calcular la masa $m$ m\u00e1xima a la cual se cumple esta velocidad si se supone un coeficiente de arrastre de $c_d = 0.25\\ kg/m$."
     ]
    },
    {
     "cell_type": "markdown",
     "metadata": {},
     "source": [
      "La soluci\u00f3n anal\u00edtica es\n",
      "\n",
      "$$\n",
      "v(t) = \\sqrt{\\frac{g m}{c_d}}\\tanh\\left(\\sqrt{\\frac{g c_d}{m}}t\\right)\n",
      "$$"
     ]
    },
    {
     "cell_type": "markdown",
     "metadata": {},
     "source": [
      "<div class=\"alert alert-info\">\n",
      "**0.** Verifica que las unidades est\u00e9n bien\n",
      "</div>"
     ]
    },
    {
     "cell_type": "markdown",
     "metadata": {},
     "source": [
      "Verificamos que las unidades est\u00e1n bien\n",
      "$$\n",
      "[m/s] = \\sqrt{\\frac{[m/s^2] [kg]}{[kg/m]}}\\tanh\\left(\\sqrt{\\frac{[m/s^2] [kg/m]}{[kg]}}[s]\\right)\n",
      "$$"
     ]
    },
    {
     "cell_type": "markdown",
     "metadata": {},
     "source": [
      "<div class=\"alert alert-info\">\n",
      "**1.** Intenta despejar el valor de $m$ \u00bfSe te ocurre alguna idea?\n",
      "</div>"
     ]
    },
    {
     "cell_type": "markdown",
     "metadata": {},
     "source": [
      "Hacer una funci\u00f3n con respecto a m y encontrar sus ra\u00edces."
     ]
    },
    {
     "cell_type": "markdown",
     "metadata": {},
     "source": [
      "Podemos usar lo aprendido en esta secci\u00f3n y replantear el problema de la siguiente manera:\n",
      "\n",
      "$$\n",
      "f(m) = \\sqrt{\\frac{g m}{c_d}}\\tanh\\left(\\sqrt{\\frac{g c_d}{m}}t\\right) - v(t)\n",
      "$$"
     ]
    },
    {
     "cell_type": "markdown",
     "metadata": {},
     "source": [
      "<div class=\"alert alert-info\">\n",
      "**2.** Trata de estimar el valor de $m$ usando un m\u00e9todo gr\u00e1fico. El valor de $g$ es de $9.8\\ m/s^2$.\n",
      "</div>"
     ]
    },
    {
     "cell_type": "code",
     "collapsed": false,
     "input": [
      "%matplotlib inline\n",
      "import numpy as np\n",
      "import matplotlib.pyplot as plt\n",
      "import sympy as sym\n",
      "from sympy.interactive import printing\n",
      "printing.init_printing(use_latex=True)\n",
      "\n",
      "vt = 36\n",
      "g = 9.8\n",
      "t = 4\n",
      "cd = 0.25\n",
      "\n",
      "m=np.linspace(120,160,1000)\n",
      "y=np.sqrt(g*m/cd)*np.tanh(np.sqrt(g*cd/m)*t)-vt\n",
      "\n",
      "plt.plot(m, y, color=\"blue\")\n",
      "ax = plt.gca()  \n",
      "ax.spines['right'].set_color('black')\n",
      "ax.spines['top'].set_color('red')\n",
      "ax.spines['top'].set_position(('data',0))\n",
      "ax.xaxis.set_ticks_position('bottom')\n",
      "ax.spines['bottom'].set_position(('data',-0.6))\n",
      "ax.yaxis.set_ticks_position('left')\n",
      "ax.spines['left'].set_position(('data',120))\n",
      "plt.grid()"
     ],
     "language": "python",
     "metadata": {},
     "outputs": [
      {
       "metadata": {},
       "output_type": "display_data",
       "png": "[encoded data removed]",
       "text": [
        "<matplotlib.figure.Figure at 0xbcb0c50>"
       ]
      }
     ],
     "prompt_number": 9
    },
    {
     "cell_type": "markdown",
     "metadata": {},
     "source": [
      "Se puede observar despu\u00e9s de hacer un peque\u00f1o acercamiento que la velocidad de lesi\u00f3n se alcanza alrededor de los 144 kg."
     ]
    },
    {
     "cell_type": "markdown",
     "metadata": {},
     "source": [
      "<div class=\"alert alert-info\">\n",
      "**3.** Resu\u00e9lvelo usando el m\u00e9todo de la `biseccion` \u00bfCu\u00e1ntos pasos necesitas para converger? **8** \u00bfCu\u00e1l fu\u00e9 tu intervalo inicial? **[1, 200]** \u00bfTu m\u00e9todo `find_brackets` funciona en este caso? **s\u00ed**\n",
      "</div>"
     ]
    },
    {
     "cell_type": "code",
     "collapsed": false,
     "input": [
      "f= lambda m: np.sqrt(g*m/cd)*np.tanh(np.sqrt(g*cd/m)*t)-vt #lambda para evaluarmeter en biseccion"
     ],
     "language": "python",
     "metadata": {},
     "outputs": [],
     "prompt_number": 3
    },
    {
     "cell_type": "code",
     "collapsed": false,
     "input": [
      "def biseccion(func, a, b, tolerancia, stop):\n",
      "    k = 0\n",
      "    \n",
      "    x = (a + b)/2\n",
      "    \n",
      "    I = (b - a)/2\n",
      "    \n",
      "    assert func(a)*func(b) < 0, \"El signo de la funci\u00f3n en los extremos deber\u00eda de ser diferente\"\n",
      "    assert func(a) != 0, \"La ra\u00edz es %.5f\" % a\n",
      "    assert func(b) != 0, \"La ra\u00edz es %.5f\" % b\n",
      "    \n",
      "    print \"%s\\t%12s\\t%12s\" % (\"k\",\"I(a,b)\", \"x\")\n",
      "    print \"%s\\tI(%.5f, %.5f)\\t%.5f\" % (\"0\",a, b, x)\n",
      "    \n",
      "    while I >= tolerancia and k <= stop:\n",
      "        k = k + 1\n",
      "        \n",
      "        f_x = func(x)\n",
      "        f_a = func(a)\n",
      "        f_b = func(b)        \n",
      "        \n",
      "        \n",
      "        if(f_a*f_x < 0):\n",
      "            a, b = a, x\n",
      "        elif(f_x*f_b < 0):\n",
      "            a, b = x, b\n",
      "        \n",
      "        x = (a+b)/2\n",
      "        \n",
      "        I = (b - a)/2\n",
      "        \n",
      "        print \"%d\\tI(%.5f, %.5f)\\t%.12f\" % (k,a, b, x)"
     ],
     "language": "python",
     "metadata": {},
     "outputs": [],
     "prompt_number": 4
    },
    {
     "cell_type": "code",
     "collapsed": false,
     "input": [
      "biseccion(func = f, a = 1, b = 200, tolerancia = 1e-4, stop = 10) "
     ],
     "language": "python",
     "metadata": {},
     "outputs": [
      {
       "output_type": "stream",
       "stream": "stdout",
       "text": [
        "k\t      I(a,b)\t           x\n",
        "0\tI(1.00000, 200.00000)\t100.00000\n",
        "1\tI(100.00000, 200.00000)\t150.000000000000\n",
        "2\tI(100.00000, 150.00000)\t125.000000000000\n",
        "3\tI(125.00000, 150.00000)\t137.000000000000\n",
        "4\tI(137.00000, 150.00000)\t143.000000000000\n",
        "5\tI(143.00000, 150.00000)\t146.000000000000\n",
        "6\tI(143.00000, 146.00000)\t144.000000000000\n",
        "7\tI(144.00000, 146.00000)\t145.000000000000\n",
        "8\tI(144.00000, 145.00000)\t144.000000000000\n"
       ]
      }
     ],
     "prompt_number": 5
    },
    {
     "cell_type": "code",
     "collapsed": false,
     "input": [
      "def find_brackets(f,a,b,n):\n",
      "    s= np.linspace(a,b,n)\n",
      "    for x in range (n-1):\n",
      "        if f(s[x])*f(s[x+1]) <=0:\n",
      "            print \"[\"+str(s[x])+\", \"+str(s[x+1])+\"]\""
     ],
     "language": "python",
     "metadata": {},
     "outputs": [],
     "prompt_number": 6
    },
    {
     "cell_type": "code",
     "collapsed": false,
     "input": [
      "find_brackets(f,1,200,1000)"
     ],
     "language": "python",
     "metadata": {},
     "outputs": [
      {
       "output_type": "stream",
       "stream": "stdout",
       "text": [
        "[144.224224224, 144.423423423]\n"
       ]
      }
     ],
     "prompt_number": 7
    },
    {
     "cell_type": "markdown",
     "metadata": {},
     "source": [
      "<div class=\"alert alert-info\">\n",
      "**4.** Calcula a mano la derivada de $f(m)$. \u00bfCoincide con la derivada simb\u00f3lica?. **No, pero son equivalentes, s\u00f3lo me falt\u00f3 simplificar**\n",
      "</div>"
     ]
    },
    {
     "cell_type": "code",
     "collapsed": false,
     "input": [
      "m=sym.Symbol('m')\n",
      "g=sym.Symbol('g')\n",
      "C_d=sym.Symbol('C_d')\n",
      "t=sym.Symbol('t')\n",
      "v=sym.Symbol('v')"
     ],
     "language": "python",
     "metadata": {},
     "outputs": [],
     "prompt_number": 18
    },
    {
     "cell_type": "code",
     "collapsed": false,
     "input": [
      "deriv = sym.sqrt(g*m/C_d)*sym.tanh(sym.sqrt(g*C_d/m)*t) - v\n",
      "der1 = sym.diff(deriv, m)\n",
      "der1"
     ],
     "language": "python",
     "metadata": {},
     "outputs": [
      {
       "latex": [
        "$$- \\frac{t \\sqrt{\\frac{C_{d} g}{m}}}{2 m} \\sqrt{\\frac{g m}{C_{d}}} \\left(- \\tanh^{2}{\\left (t \\sqrt{\\frac{C_{d} g}{m}} \\right )} + 1\\right) + \\frac{\\sqrt{\\frac{g m}{C_{d}}}}{2 m} \\tanh{\\left (t \\sqrt{\\frac{C_{d} g}{m}} \\right )}$$"
       ],
       "metadata": {},
       "output_type": "pyout",
       "png": "[encoded data removed]",
       "prompt_number": 19,
       "text": [
        "        _____     _______ \u239b       \u239b      _______\u239e    \u239e       _____     \u239b      \n",
        "       \u2571 g\u22c5m     \u2571 C_d\u22c5g  \u239c      2\u239c     \u2571 C_d\u22c5g \u239f    \u239f      \u2571 g\u22c5m      \u239c     \u2571\n",
        "  t\u22c5  \u2571  \u2500\u2500\u2500 \u22c5  \u2571  \u2500\u2500\u2500\u2500\u2500 \u22c5\u239c- tanh \u239ct\u22c5  \u2571  \u2500\u2500\u2500\u2500\u2500 \u239f + 1\u239f     \u2571  \u2500\u2500\u2500 \u22c5tanh\u239ct\u22c5  \u2571 \n",
        "    \u2572\u2571   C_d  \u2572\u2571     m    \u239d       \u239d  \u2572\u2571     m   \u23a0    \u23a0   \u2572\u2571   C_d      \u239d  \u2572\u2571  \n",
        "- \u2500\u2500\u2500\u2500\u2500\u2500\u2500\u2500\u2500\u2500\u2500\u2500\u2500\u2500\u2500\u2500\u2500\u2500\u2500\u2500\u2500\u2500\u2500\u2500\u2500\u2500\u2500\u2500\u2500\u2500\u2500\u2500\u2500\u2500\u2500\u2500\u2500\u2500\u2500\u2500\u2500\u2500\u2500\u2500\u2500\u2500\u2500\u2500\u2500\u2500\u2500\u2500 + \u2500\u2500\u2500\u2500\u2500\u2500\u2500\u2500\u2500\u2500\u2500\u2500\u2500\u2500\u2500\u2500\u2500\u2500\u2500\u2500\u2500\n",
        "                          2\u22c5m                                         2\u22c5m     \n",
        "\n",
        "_______\u239e\n",
        " C_d\u22c5g \u239f\n",
        " \u2500\u2500\u2500\u2500\u2500 \u239f\n",
        "   m   \u23a0\n",
        "\u2500\u2500\u2500\u2500\u2500\u2500\u2500\u2500\n",
        "        "
       ]
      }
     ],
     "prompt_number": 19
    },
    {
     "cell_type": "markdown",
     "metadata": {},
     "source": [
      "<div class=\"alert alert-info\">\n",
      "**5.** Utiliza el m\u00e9todo de `newton` para resolverlo. \u00bfCu\u00e1ntos pasos necesitaste para converger? \u00bfQu\u00e9 valor de $x_0$ utilizaste?\n",
      "</div>"
     ]
    },
    {
     "cell_type": "code",
     "collapsed": false,
     "input": [
      "def newton(f, x0, tolerancia, stop):\n",
      "    assert type(f).__bases__[0]  in (sym.expr.Expr, sym.operations.AssocOp), \"La funci\u00f3n no es una expresi\u00f3n simb\u00f3lica ... :/\"\n",
      "    # Derivamos la expresi\u00f3n\n",
      "    df = sym.diff(f, m)\n",
      "    \n",
      "    # Convertimos en funciones las expresiones\n",
      "    F = sym.lambdify(m,f, modules=\"numpy\")\n",
      "    DF = sym.lambdify(m, df, modules=\"numpy\")\n",
      "    \n",
      "    # Inicializamos el contador\n",
      "    k = 0\n",
      "    \n",
      "    # Inicializamos abs(x1-x0) en un n\u00famero mayor que la tolerancia\n",
      "    diff = 1\n",
      "    print \"{: >5} {: >10} {: >10} {: >10} {: >11} {: >10}\".format(\"k\", \"x0\", \"F(x0)\", \"DF(x0)\", \"abs(x1-x0)\", \"x1\")\n",
      "    \n",
      "    while diff >= tolerancia and k <= stop:\n",
      "        k = k + 1\n",
      "\n",
      "        x1 = x0 - (float(F(x0)/DF(x0)))\n",
      "        print \"{: >5} {: >10.5f} {: >10.5f} {: >10.5f} {: >10.5f} {: >11.5f}\".format(k, x0, F(x0), DF(x0), diff, x1)\n",
      "        \n",
      "        diff = abs(x1 - x0)\n",
      "        \n",
      "        x0 = x1\n",
      "        \n",
      "    if k > stop:\n",
      "        print \"El m\u00e9todo de Newton no convergi\u00f3: para la tolerancia especificada, se alcanzaron el m\u00e1ximo n\u00famero de iteraciones\"\n",
      "    \n",
      "    print \"\\n\\nLa ra\u00edz es %2.12f\" % x0"
     ],
     "language": "python",
     "metadata": {},
     "outputs": [],
     "prompt_number": 39
    },
    {
     "cell_type": "code",
     "collapsed": false,
     "input": [
      "newton(f = deriv, x0 = 80, tolerancia = 10e-6, stop = 200)"
     ],
     "language": "python",
     "metadata": {},
     "outputs": [
      {
       "output_type": "stream",
       "stream": "stdout",
       "text": [
        "    k         x0      F(x0)     DF(x0)  abs(x1-x0)         x1\n"
       ]
      },
      {
       "ename": "AttributeError",
       "evalue": "'Mul' object has no attribute 'sqrt'",
       "output_type": "pyerr",
       "traceback": [
        "\u001b[1;31m---------------------------------------------------------------------------\u001b[0m\n\u001b[1;31mAttributeError\u001b[0m                            Traceback (most recent call last)",
        "\u001b[1;32m<ipython-input-41-57167f3019b1>\u001b[0m in \u001b[0;36m<module>\u001b[1;34m()\u001b[0m\n\u001b[1;32m----> 1\u001b[1;33m \u001b[0mnewton\u001b[0m\u001b[1;33m(\u001b[0m\u001b[0mf\u001b[0m \u001b[1;33m=\u001b[0m \u001b[0mderiv\u001b[0m\u001b[1;33m,\u001b[0m \u001b[0mx0\u001b[0m \u001b[1;33m=\u001b[0m \u001b[1;36m80\u001b[0m\u001b[1;33m,\u001b[0m \u001b[0mtolerancia\u001b[0m \u001b[1;33m=\u001b[0m \u001b[1;36m10e-6\u001b[0m\u001b[1;33m,\u001b[0m \u001b[0mstop\u001b[0m \u001b[1;33m=\u001b[0m \u001b[1;36m200\u001b[0m\u001b[1;33m)\u001b[0m\u001b[1;33m\u001b[0m\u001b[0m\n\u001b[0m",
        "\u001b[1;32m<ipython-input-39-ec3ed32cbd3d>\u001b[0m in \u001b[0;36mnewton\u001b[1;34m(f, x0, tolerancia, stop)\u001b[0m\n\u001b[0;32m     18\u001b[0m         \u001b[0mk\u001b[0m \u001b[1;33m=\u001b[0m \u001b[0mk\u001b[0m \u001b[1;33m+\u001b[0m \u001b[1;36m1\u001b[0m\u001b[1;33m\u001b[0m\u001b[0m\n\u001b[0;32m     19\u001b[0m \u001b[1;33m\u001b[0m\u001b[0m\n\u001b[1;32m---> 20\u001b[1;33m         \u001b[0mx1\u001b[0m \u001b[1;33m=\u001b[0m \u001b[0mx0\u001b[0m \u001b[1;33m-\u001b[0m \u001b[1;33m(\u001b[0m\u001b[0mfloat\u001b[0m\u001b[1;33m(\u001b[0m\u001b[0mF\u001b[0m\u001b[1;33m(\u001b[0m\u001b[0mx0\u001b[0m\u001b[1;33m)\u001b[0m\u001b[1;33m/\u001b[0m\u001b[0mDF\u001b[0m\u001b[1;33m(\u001b[0m\u001b[0mx0\u001b[0m\u001b[1;33m)\u001b[0m\u001b[1;33m)\u001b[0m\u001b[1;33m)\u001b[0m\u001b[1;33m\u001b[0m\u001b[0m\n\u001b[0m\u001b[0;32m     21\u001b[0m         \u001b[1;32mprint\u001b[0m \u001b[1;34m\"{: >5} {: >10.5f} {: >10.5f} {: >10.5f} {: >10.5f} {: >11.5f}\"\u001b[0m\u001b[1;33m.\u001b[0m\u001b[0mformat\u001b[0m\u001b[1;33m(\u001b[0m\u001b[0mk\u001b[0m\u001b[1;33m,\u001b[0m \u001b[0mx0\u001b[0m\u001b[1;33m,\u001b[0m \u001b[0mF\u001b[0m\u001b[1;33m(\u001b[0m\u001b[0mx0\u001b[0m\u001b[1;33m)\u001b[0m\u001b[1;33m,\u001b[0m \u001b[0mDF\u001b[0m\u001b[1;33m(\u001b[0m\u001b[0mx0\u001b[0m\u001b[1;33m)\u001b[0m\u001b[1;33m,\u001b[0m \u001b[0mdiff\u001b[0m\u001b[1;33m,\u001b[0m \u001b[0mx1\u001b[0m\u001b[1;33m)\u001b[0m\u001b[1;33m\u001b[0m\u001b[0m\n\u001b[0;32m     22\u001b[0m \u001b[1;33m\u001b[0m\u001b[0m\n",
        "\u001b[1;32mC:\\Users\\JuanAlberto\\Anaconda\\lib\\site-packages\\numpy\\__init__.pyc\u001b[0m in \u001b[0;36m<lambda>\u001b[1;34m(m)\u001b[0m\n",
        "\u001b[1;31mAttributeError\u001b[0m: 'Mul' object has no attribute 'sqrt'"
       ]
      }
     ],
     "prompt_number": 41
    },
    {
     "cell_type": "markdown",
     "metadata": {},
     "source": [
      "Como viste calcular la derivada no fu\u00e9 trivial y podr\u00eda causar un problema si no tuvieras al alcance un calculador simb\u00f3lico (como en tu instalaci\u00f3n de `GNU/Octave`, aunque si `GNU/Octave` si puede hacer c\u00e1lculo simb\u00f3lico). Existe un m\u00e9todo similar \n",
      "al de `newton` que **no** utiliza el c\u00e1lculo directo de la derivada de la funci\u00f3n, se llama _m\u00e9todo de la secante_."
     ]
    },
    {
     "cell_type": "markdown",
     "metadata": {},
     "source": [
      "La idea es aproximar la derivada por una diferencia \"hacia atr\u00e1s\":"
     ]
    },
    {
     "cell_type": "markdown",
     "metadata": {},
     "source": [
      "$$\n",
      "f'(x) \\approx \\frac{f(x_{i-1}) - f(x_i)}{x_{i-1} - x_i}\n",
      "$$"
     ]
    },
    {
     "cell_type": "markdown",
     "metadata": {},
     "source": [
      "y sustituir esta expresi\u00f3n en la f\u00f3rmula del m\u00e9todo de Newton."
     ]
    },
    {
     "cell_type": "markdown",
     "metadata": {},
     "source": [
      "<div class=\"alert alert-info\">\n",
      "**6.** Implementa el m\u00e9todo de la secante en `python` y en `GNU Octave`, ll\u00e1malo `secante(f, x1, x0, tolerancia, stop)`. Resuelve el problema. \u00bfC\u00f3mo se compara con los otros m\u00e9todos?\n",
      "</div>"
     ]
    },
    {
     "cell_type": "markdown",
     "metadata": {},
     "source": [
      "Un problema con este m\u00e9todo es que necesitas dos estimados iniciales de $x$ (en el m\u00e9todo `x1` y `x0`). Se puede obtener un m\u00e9todo mejorado de la siguiente manera:"
     ]
    },
    {
     "cell_type": "markdown",
     "metadata": {},
     "source": [
      "$$\n",
      "f'(x_i) \\approx \\frac{f(x_i + \\delta x_i) - f(x_i)}{\\delta x_i}\n",
      "$$"
     ]
    },
    {
     "cell_type": "markdown",
     "metadata": {},
     "source": [
      "donde $\\delta$ es una perturbaci\u00f3n peque\u00f1a alrededor de $x_i$."
     ]
    },
    {
     "cell_type": "markdown",
     "metadata": {},
     "source": [
      "<div class=\"alert alert-info\">\n",
      "**7.** Implem\u00e9nta este m\u00e9todo, ll\u00e1malo `secante_modificado(f, x0, tolerancia, stop)`. Usando un $x_0 = 50\\ kg$ y un $\\delta$ de $10^{-6}$, soluciona el problema.\n",
      "</div>"
     ]
    }
   ],
   "metadata": {}
  }
 ]
}