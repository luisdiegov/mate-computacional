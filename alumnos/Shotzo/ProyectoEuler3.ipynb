{
 "metadata": {
  "name": "",
  "signature": "sha256:9e0d28e1c20f7437c463704bcc6b9d034983b2a85b0bd975033fc79a15e0c7de"
 },
 "nbformat": 3,
 "nbformat_minor": 0,
 "worksheets": [
  {
   "cells": [
    {
     "cell_type": "code",
     "collapsed": false,
     "input": [
      "# Funci\u00f3n que regresa el factor primo m\u00e1s grande del n\u00famero 'n' dado\n",
      "def max_prime(n):\n",
      "    res=1 #La variable res se inicializa en 1 pues es m\u00faltiplo de todos los n\u00fameros, esto es para casos patol\u00f3gicos como el 1 mismo que no es primo ni compuesto\n",
      "    for i in range (2,n+1): #Ciclo que va a empezar desde el 2 hasta el n\u00famero para encontrar los m\u00faltiplos de n\n",
      "        while(n%i==0): #Si el residuo es cero, entonces es m\u00faltiplo y como empezamos en el 2 que es primo eliminamos todos los m\u00faltiplos de dos utilizando el m\u00e9todo de la criba de Erat\u00f3stenes\n",
      "            res=i #Se guarda el n\u00famero que es primo pues si fuera compuesto hubiera sido eliminado antes en este mismo ciclo\n",
      "            n/=i #Se divide el n\u00famero entre el factor i que es el m\u00e1s peque\u00f1o para factorizarlo y trabajar con n\u00fameros m\u00e1s peque\u00f1os quitando as\u00ed la multiplicidad de los primos\n",
      "        \n",
      "    print res"
     ],
     "language": "python",
     "metadata": {},
     "outputs": [],
     "prompt_number": 53
    },
    {
     "cell_type": "code",
     "collapsed": false,
     "input": [
      "max_prime(600851475143)"
     ],
     "language": "python",
     "metadata": {},
     "outputs": [
      {
       "output_type": "stream",
       "stream": "stdout",
       "text": [
        "6857\n"
       ]
      }
     ],
     "prompt_number": 34
    }
   ],
   "metadata": {}
  }
 ]
}