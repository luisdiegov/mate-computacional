{
 "metadata": {
  "name": "",
  "signature": "sha256:f4d19c814fc960791b54b76dc9c4c7262fac9c08f634c4d3520a06c7e6ad6db2"
 },
 "nbformat": 3,
 "nbformat_minor": 0,
 "worksheets": [
  {
   "cells": [
    {
     "cell_type": "code",
     "collapsed": false,
     "input": [
      "def Dec_a_bin_8_bits(n):\n",
      "    bits = [0, 0, 0, 0, 0, 0, 0, 0]\n",
      "    if n>=(-128) and n<=127:\n",
      "        if n<0:\n",
      "            n+=128\n",
      "            bits[0]=1\n",
      "        if n>0:\n",
      "            for i in range (7,0,-1):\n",
      "                bits[i]= (n%2)\n",
      "                n=int(n/2)\n",
      "        return bits\n",
      "    else:\n",
      "        return \"overflow\""
     ],
     "language": "python",
     "metadata": {},
     "outputs": [],
     "prompt_number": 34
    },
    {
     "cell_type": "code",
     "collapsed": false,
     "input": [
      "Dec_a_bin_8_bits(-126)"
     ],
     "language": "python",
     "metadata": {},
     "outputs": [
      {
       "metadata": {},
       "output_type": "pyout",
       "prompt_number": 38,
       "text": [
        "[1, 0, 0, 0, 0, 0, 1, 0]"
       ]
      }
     ],
     "prompt_number": 38
    },
    {
     "cell_type": "code",
     "collapsed": false,
     "input": [
      "def Bin_8_bits_a_dec(MSB,b6,b5,b4,b3,b2,b1,LSB):\n",
      "    dec=0\n",
      "    bits = [MSB,b6,b5,b4,b3,b2,b1,LSB]\n",
      "    for i in range (0,7,1):\n",
      "        dec= dec + ((bits[7-i])*(2**(i)))\n",
      "    if MSB==1:\n",
      "        dec-=128\n",
      "    print dec"
     ],
     "language": "python",
     "metadata": {},
     "outputs": [],
     "prompt_number": 55
    },
    {
     "cell_type": "code",
     "collapsed": false,
     "input": [
      "Bin_8_bits_a_dec(1,0,0,0,0,0,1,0)"
     ],
     "language": "python",
     "metadata": {},
     "outputs": [
      {
       "output_type": "stream",
       "stream": "stdout",
       "text": [
        "-126\n"
       ]
      }
     ],
     "prompt_number": 58
    },
    {
     "cell_type": "code",
     "collapsed": false,
     "input": [
      "def Hex_a_bin_8_bits(x1,x0):\n",
      "    bits = [0, 0, 0, 0, 0, 0, 0, 0]\n",
      "    dec=0\n",
      "    if x0=='A':\n",
      "        dec=10\n",
      "    elif x0=='B':\n",
      "        dec=11\n",
      "    elif x0=='C':\n",
      "        dec=12\n",
      "    elif x0=='D':\n",
      "        dec=13\n",
      "    elif x0=='E':\n",
      "        dec=14\n",
      "    elif x0=='F':\n",
      "        dec=15\n",
      "    else:\n",
      "        dec=x0\n",
      "    dec+=(x1*16)\n",
      "    \n",
      "    if dec<128:\n",
      "        if dec>0:\n",
      "            for i in range (7,0,-1):\n",
      "                bits[i]= (dec%2)\n",
      "                dec=int(dec/2)\n",
      "        return bits\n",
      "    else:\n",
      "        return \"overflow\""
     ],
     "language": "python",
     "metadata": {},
     "outputs": [],
     "prompt_number": 81
    },
    {
     "cell_type": "code",
     "collapsed": false,
     "input": [
      "Hex_a_bin_8_bits(1,'F')"
     ],
     "language": "python",
     "metadata": {},
     "outputs": [
      {
       "metadata": {},
       "output_type": "pyout",
       "prompt_number": 82,
       "text": [
        "[0, 0, 0, 1, 1, 1, 1, 1]"
       ]
      }
     ],
     "prompt_number": 82
    },
    {
     "cell_type": "code",
     "collapsed": false,
     "input": [
      "def Bin_8_bits_a_hex(MSB,x6,x5,x4,x3,x2,x1,LSB):\n",
      "    bits = [MSB,x6,x5,x4,x3,x2,x1,LSB]\n",
      "    ans=\"\"\n",
      "    hex=[0,0]\n",
      "    dec=0\n",
      "    for i in range (0,7,1):\n",
      "        dec= dec + ((bits[7-i])*(2**(i)))\n",
      "    if MSB==1:\n",
      "        dec*=-1\n",
      "    \n",
      "    if dec>(-129) and dec<128:\n",
      "        if dec<0:\n",
      "            dec=dec*(-1)\n",
      "            ans=\" negativo\"\n",
      "        if dec>0:\n",
      "            hex[0]=int(dec/16)\n",
      "            hex[1]=dec%16\n",
      "            \n",
      "        if hex[1]==10:\n",
      "            hex[1]='A'\n",
      "        elif hex[1]==11:\n",
      "            hex[1]='B'\n",
      "        elif hex[1]==12:\n",
      "            hex[1]='C'\n",
      "        elif hex[1]==13:\n",
      "            hex[1]='D'\n",
      "        elif hex[1]==14:\n",
      "            hex[1]='E'\n",
      "        elif hex[1]==15:\n",
      "            hex[1]='F'\n",
      "            \n",
      "        return str(hex) + ans\n",
      "    else:\n",
      "        return \"overflow\"\n",
      "    \n",
      "    "
     ],
     "language": "python",
     "metadata": {},
     "outputs": [],
     "prompt_number": 95
    },
    {
     "cell_type": "code",
     "collapsed": false,
     "input": [
      "Bin_8_bits_a_hex(1,0,0,0,1,1,1,1)"
     ],
     "language": "python",
     "metadata": {},
     "outputs": [
      {
       "metadata": {},
       "output_type": "pyout",
       "prompt_number": 96,
       "text": [
        "\"[0, 'F'] negativo\""
       ]
      }
     ],
     "prompt_number": 96
    },
    {
     "cell_type": "code",
     "collapsed": false,
     "input": [],
     "language": "python",
     "metadata": {},
     "outputs": []
    }
   ],
   "metadata": {}
  }
 ]
}