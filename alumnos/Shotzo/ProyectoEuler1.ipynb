{
 "metadata": {
  "name": "",
  "signature": "sha256:36e6447e7c995f83ac7111c2c145b8d640f94e2cceaf0ae6d75227f9721a3192"
 },
 "nbformat": 3,
 "nbformat_minor": 0,
 "worksheets": [
  {
   "cells": [
    {
     "cell_type": "code",
     "collapsed": false,
     "input": [
      "# Importa las bibliotecas para poder utilizar los widgets\n",
      "from IPython.html import widgets\n",
      "from IPython.html.widgets import interact, fixed\n",
      "# Funci\u00f3n que suma los primeros mil t\u00e9rminos de los m\u00faltiplos de 'a' y 'b' utilizando el principio de inclusi\u00f3n-exclusi\u00f3n\n",
      "def suma_multiplos(a,b,m):\n",
      "    suma=0\n",
      "    for i in range (0,m,a): #Suma los m\u00faltiplos de 'a'\n",
      "        suma += i\n",
      "    for i in range (0,m,b): #Suma los m\u00faltiplos de 'b'\n",
      "        suma += i\n",
      "    for i in range (0,m,int(a*b)): #Resta los m\u00faltiplos de la intersecci\u00f3n\n",
      "        suma -= i\n",
      "    print suma\n",
      "# Utiliza los widgets para poderle dar distintos valores a 'a' y a 'b' mientras que m se queda fijo\n",
      "interact(suma_multiplos, a=3, b=5, m=fixed(1000))"
     ],
     "language": "python",
     "metadata": {},
     "outputs": [
      {
       "output_type": "stream",
       "stream": "stdout",
       "text": [
        "233168\n"
       ]
      }
     ],
     "prompt_number": 1
    },
    {
     "cell_type": "code",
     "collapsed": false,
     "input": [],
     "language": "python",
     "metadata": {},
     "outputs": []
    }
   ],
   "metadata": {}
  }
 ]
}