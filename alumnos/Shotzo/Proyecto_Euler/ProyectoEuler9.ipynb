{
 "metadata": {
  "name": "",
  "signature": "sha256:7a2a85d10273dfd2aea476e3c962b3a1ec15d89d46b653c50bad11cee5580978"
 },
 "nbformat": 3,
 "nbformat_minor": 0,
 "worksheets": [
  {
   "cells": [
    {
     "cell_type": "code",
     "collapsed": false,
     "input": [
      "def producto_tripleta_pitagorica(n):\n",
      "    for i1 in range(1,n):\n",
      "        for i2 in range(1,n):\n",
      "            for i3 in range(1,n):\n",
      "                if((i1**2+i2**2==i3**2) and i1+i2+i3==num):\n",
      "                    return i*j*k"
     ],
     "language": "python",
     "metadata": {},
     "outputs": [],
     "prompt_number": 109
    },
    {
     "cell_type": "code",
     "collapsed": false,
     "input": [
      "Suma(1000)"
     ],
     "language": "python",
     "metadata": {},
     "outputs": [
      {
       "metadata": {},
       "output_type": "pyout",
       "prompt_number": 110,
       "text": [
        "31875000"
       ]
      }
     ],
     "prompt_number": 110
    }
   ],
   "metadata": {}
  }
 ]
}