{
 "metadata": {
  "name": "",
  "signature": "sha256:f6d4863c0e1a2787935ddfb30a18531780a058d23983f42c596fb435581b4b99"
 },
 "nbformat": 3,
 "nbformat_minor": 0,
 "worksheets": [
  {
   "cells": [
    {
     "cell_type": "code",
     "collapsed": false,
     "input": [
      "#Code that counts the letters from the numbers one to one thousand\n",
      "ONETONINETEEN = [0,3,3,5,4,4,3,5,5,4,3,6,6,8,8,7,7,9,8,8] #List that will handle the first nineteen numbers that are one word numbers\n",
      "TENTONINETY = [0,3,6,6,5,5,5,7,6,6] #List that will handle the numbers from twenty to ninety nine that will work with the last list to make two-worded words\n",
      "HUNDRED = 7 #Since the hundreds are mixtures of the first two lists plus the word hundred we only need one value here\n",
      "THOUSAND = 8 #The same that applied to hundred applies to thousand\n",
      " \n",
      "ans = 0\n",
      "for i in range(1,1000): #Note this cycle is only going to check from one to 999, there's no use in checking thousands since it only appears once.\n",
      "    unidades = i % 10 #We devide the number in \"unidades\", \"decenas\", and \"centenas\", I don't like how they are called in English\n",
      "    decenas = ((i % 100) - unidades) / 10 #Tens\n",
      "    centenas = ((i % 1000) - (decenas * 10) - unidades) / 100 #Hundreds\n",
      " \n",
      "    if centenas != 0: #If it has hundreds we have to add the hundreds' digit plus the word hundred\n",
      "        ans += ONETONINETEEN[centenas] + HUNDRED\n",
      "        if decenas != 0 or unidades != 0: #If it is not a complete hundred we have to add the and for ...hundred and...\n",
      "            ans += 3\n",
      "    if decenas == 0 or decenas == 1: \n",
      "        ans += ONETONINETEEN[decenas * 10 + unidades] #If we have only one ten or no tens we can use the list of one-worded words\n",
      "    else: \n",
      "        ans += TENTONINETY[decenas] + ONETONINETEEN[unidades] #If it has more than one ten, we need to use the two-worded words from the two lists\n",
      " \n",
      "ans += ONETONINETEEN[1] + THOUSAND #After that we finally add manually the letters for words \"one\" and \"thousand\"\n",
      " \n",
      "print ans"
     ],
     "language": "python",
     "metadata": {},
     "outputs": [
      {
       "output_type": "stream",
       "stream": "stdout",
       "text": [
        "21124\n"
       ]
      }
     ],
     "prompt_number": 93
    }
   ],
   "metadata": {}
  }
 ]
}