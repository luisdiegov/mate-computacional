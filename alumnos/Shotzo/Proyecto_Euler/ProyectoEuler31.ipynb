{
 "metadata": {
  "name": "",
  "signature": "sha256:05ca1cb0ba2e802c2d45b5b8b5260a2fc47b7b5ea29b23b6155f2f648e881ed5"
 },
 "nbformat": 3,
 "nbformat_minor": 0,
 "worksheets": [
  {
   "cells": [
    {
     "cell_type": "code",
     "collapsed": false,
     "input": [
      "#Funci\u00f3n que de manera recursiva nos va a devolver el n\u00famero de maneras diferentes que se puede generar una cantidad 'n' con un cierto tipo de monedas\n",
      "def Euler31(n):\n",
      "    valor = [1,2,5,10,20,50,100,200] #Lista que va a contener los valores de las monedas a utilizar\n",
      "    formas = [0]*(n+1) #Lista vac\u00eda de tama\u00f1o \"n+1\" que incluir\u00e1 las formas de hacer desde '0' hasta 'n'\n",
      "    formas[0]=1 #Se inicializa en '1' pues s\u00f3lo hay una manera de juntar el cero (soluci\u00f3n trivial)\n",
      "    \n",
      "    for i in range(0,8): #Se probar\u00e1 cada valor de moneda distinto\n",
      "        for k in range(valor[i],n+1): #Se agragar\u00e1 una nueva combinaci\u00f3n empezando con el valor de la moneda hasta el n\u00famero deseado, avanzando de uno en uno pues contamos con la moneda de valor '1'\n",
      "            formas[k]+= formas[k-valor[i]] #El valor de la nueva combinaci\u00f3n va a aumentar el n\u00famero de veces que se logr\u00f3 hacer la combinaci\u00f3n anterior, aqu\u00ed es donde se usa recursividad\n",
      "    return formas[n]"
     ],
     "language": "python",
     "metadata": {},
     "outputs": [],
     "prompt_number": 30
    },
    {
     "cell_type": "code",
     "collapsed": false,
     "input": [
      "Euler31(200)"
     ],
     "language": "python",
     "metadata": {},
     "outputs": [
      {
       "metadata": {},
       "output_type": "pyout",
       "prompt_number": 31,
       "text": [
        "73682"
       ]
      }
     ],
     "prompt_number": 31
    }
   ],
   "metadata": {}
  }
 ]
}