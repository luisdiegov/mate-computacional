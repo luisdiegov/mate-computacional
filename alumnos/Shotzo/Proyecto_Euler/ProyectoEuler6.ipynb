{
 "metadata": {
  "name": "",
  "signature": "sha256:6132cb508463f2e5aaa1fd7ac5b3a7bb70f7c39a17136689cfbe00d4e2a756aa"
 },
 "nbformat": 3,
 "nbformat_minor": 0,
 "worksheets": [
  {
   "cells": [
    {
     "cell_type": "code",
     "collapsed": false,
     "input": [
      "# Funci\u00f3n que regresa la resta entre el cuadrado de la suma y la suma de los cuadrados de los primeros 'n' naturales\n",
      "def suma_cuadrados(n):\n",
      "    res=0\n",
      "    for i in range (1,n+1): # Ciclo que va a ir sumando de uno en uno los cuadrados hasta llegar a 'n'\n",
      "        res=res+(i**2)\n",
      "    return res"
     ],
     "language": "python",
     "metadata": {},
     "outputs": [],
     "prompt_number": 53
    },
    {
     "cell_type": "code",
     "collapsed": false,
     "input": [
      "# Operaci\u00f3n matem\u00e1tica que regresa la resta entre el cuadrado de la suma y la suma de los cuadrados de los primeros 'n' naturales\n",
      "n=100 \n",
      "# Utilizando la f\u00f3rmula de Gauss para sumar naturales consecutivos, obtenemos la soluci\u00f3n del problema.\n",
      "(n*(n+1)/2)**2-suma_cuadrados(n)"
     ],
     "language": "python",
     "metadata": {},
     "outputs": [
      {
       "metadata": {},
       "output_type": "pyout",
       "prompt_number": 54,
       "text": [
        "25164150"
       ]
      }
     ],
     "prompt_number": 54
    }
   ],
   "metadata": {}
  }
 ]
}