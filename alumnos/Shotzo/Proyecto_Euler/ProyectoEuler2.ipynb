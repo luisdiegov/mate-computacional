{
 "metadata": {
  "name": "",
  "signature": "sha256:705d515a1dcad85761438d6d44e954f1fe8c1c44ddb74c017555d3ca912854e1"
 },
 "nbformat": 3,
 "nbformat_minor": 0,
 "worksheets": [
  {
   "cells": [
    {
     "cell_type": "code",
     "collapsed": false,
     "input": [
      "# Importa las bibliotecas para poder utilizar los widgets\n",
      "from IPython.html import widgets\n",
      "from IPython.html.widgets import interact, fixed\n",
      "# Funci\u00f3n que suma los terminos pares de la sucesi\u00f3n de fibonacci tal que no excedan el valor de 'm'\n",
      "def fibo_par(m):\n",
      "    x=1 # 'x' y 'y' van a ir tomando los valores de la sucesi\u00f3n\n",
      "    y=1 \n",
      "    aux=0 # aux sirve como variable auxiliar para que 'x' tome el valor de 'y' y 'y' tome el siguiente valor que es la suma\n",
      "    res=0 # res guarda la suma si el t\u00e9rmino resulta ser par\n",
      "    while(x<=m): # para que no exceda el valor de m\n",
      "        if(x%2==0): # si 'x' es par entonces se suma a res\n",
      "            res+=x\n",
      "        aux=x\n",
      "        x=y\n",
      "        y+=aux\n",
      "    print res\n",
      "# Utiliza los widgets para poderle dar distintos valores a m y ver como cambia la funci\u00f3n\n",
      "interact(fibo_par, m=4000000)"
     ],
     "language": "python",
     "metadata": {},
     "outputs": [
      {
       "output_type": "stream",
       "stream": "stdout",
       "text": [
        "4613732\n"
       ]
      },
      {
       "metadata": {},
       "output_type": "pyout",
       "prompt_number": 6,
       "text": [
        "<function __main__.fibo_par>"
       ]
      }
     ],
     "prompt_number": 6
    }
   ],
   "metadata": {}
  }
 ]
}