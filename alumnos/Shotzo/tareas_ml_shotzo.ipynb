{
 "metadata": {
  "name": "",
  "signature": "sha256:d1dc699c14ef3f96df0e04a31d1d3bc96f15fa2d0ed54cbe7187150fd4ae31f6"
 },
 "nbformat": 3,
 "nbformat_minor": 0,
 "worksheets": [
  {
   "cells": [
    {
     "cell_type": "heading",
     "level": 1,
     "metadata": {},
     "source": [
      "Tareas"
     ]
    },
    {
     "cell_type": "code",
     "collapsed": false,
     "input": [
      "%matplotlib inline\n",
      "import numpy as np\n",
      "import matplotlib.pyplot as plt\n",
      "\n",
      "from IPython.html.widgets import interact, fixed\n",
      "from IPython.html import widgets"
     ],
     "language": "python",
     "metadata": {},
     "outputs": [],
     "prompt_number": 3
    },
    {
     "cell_type": "heading",
     "level": 2,
     "metadata": {},
     "source": [
      "Problema 1"
     ]
    },
    {
     "cell_type": "markdown",
     "metadata": {},
     "source": [
      "**(a)** Usando **SimPy** demostrar que \n",
      "\n",
      "$$\n",
      "\\frac{\\partial}{\\partial \\beta_j} \\textbf{J}(\\beta) = \\frac{1}{m}\\sum_{i=1}^{m}\\left(\\hat{y}(x^{(i)}) - y(x^{(i)})\\right) \\cdot x^{(i)}_j\n",
      "$$"
     ]
    },
    {
     "cell_type": "code",
     "collapsed": false,
     "input": [
      "import sympy as sym\n",
      "\n",
      "from sympy.interactive import printing\n",
      "printing.init_printing(use_latex=True)"
     ],
     "language": "python",
     "metadata": {},
     "outputs": [],
     "prompt_number": 38
    },
    {
     "cell_type": "code",
     "collapsed": false,
     "input": [
      "class RegresionLineal:\n",
      "    def __init__(self, alpha=0.3, max_iters=100, tols=0.001):\n",
      "        \"\"\"\n",
      "        Par\u00e1metros.\n",
      "        ---------------\n",
      "        alpha = Learning rate\n",
      "        max_iters = N\u00famero m\u00e1ximo de iteraciones\n",
      "        tols = definici\u00f3n de convergencia\n",
      "        \"\"\"\n",
      "        self.alpha = alpha\n",
      "        self.max_iters = max_iters\n",
      "        self.tols = tols\n",
      "        self.breaking_iteration = None\n",
      "        self.historia = {'costo':[], 'beta':[]}  # Con fines de graficaci\u00f3n. dentro del diccionario tenemos dos arreglos\n",
      "        \n",
      "    def gradientDescent(self, x, y):\n",
      "        \"\"\"\n",
      "        Par\u00e1metros:\n",
      "        ---------------\n",
      "        x = vector de entrenamiento de features\n",
      "        y = vector de entrenamiento de variable a predecir (target)\n",
      "        \"\"\"    \n",
      "        \n",
      "        # ajustamos el vector de features\n",
      "        unos = np.ones((x.shape[0], 1))\n",
      "        Xt = x.reshape(x.shape[0], 1) #para tener como la transpuesta\n",
      "        Xt = np.concatenate((unos, Xt), axis=1) #concatenamos\n",
      "        \n",
      "        i = 0\n",
      "        prep_J = 0\n",
      "        m, n = Xt.shape\n",
      "        self.beta = np.zeros(n) #creamos el vector lleno de ceros\n",
      "        \n",
      "        while i < self.max_iters:     \n",
      "            # Actualizamos beta\n",
      "            self.beta = self.beta - self.alpha * self.gradiente(Xt, y)\n",
      "            \n",
      "            J = self.costo(Xt, y)\n",
      "            \n",
      "            if abs(J - prep_J) <= self.tols:\n",
      "                print 'La funci\u00f3n convergi\u00f3 con beta: %s en la iteraci\u00f3n %i' % ( str(self.beta), i )\n",
      "                self.breaking_iteration = i\n",
      "                break\n",
      "            else:\n",
      "                prep_J = J\n",
      "            \n",
      "            self.historia['costo'].append(J)\n",
      "            self.historia['beta'].append(self.beta)                \n",
      "            i += 1\n",
      "    \n",
      "    def hipotesis(self, x):#es y con gorrito\n",
      "        return np.dot(x, self.beta)#producto punto\n",
      "    \n",
      "    def costo(self, x, y):##la funcion, calculo de J =funcion de costo\n",
      "        m = x.shape[0]\n",
      "        error = self.hipotesis(x) - y\n",
      "        return np.dot(error.T, error) / (2 * m) \n",
      "    \n",
      "    def gradiente(self, x, y):#derivada. Son las tres formulas de arriba\n",
      "        m = x.shape[0]\n",
      "        error = self.hipotesis(x) - y        \n",
      "        return np.dot(x.T, error) / m    "
     ],
     "language": "python",
     "metadata": {},
     "outputs": [],
     "prompt_number": 41
    },
    {
     "cell_type": "heading",
     "level": 2,
     "metadata": {},
     "source": [
      "Problema 2"
     ]
    },
    {
     "cell_type": "markdown",
     "metadata": {},
     "source": [
      "**(a)**  Usando los datos de `chirps.txt`"
     ]
    },
    {
     "cell_type": "code",
     "collapsed": false,
     "input": [
      "!cat chirps.txt"
     ],
     "language": "python",
     "metadata": {},
     "outputs": [
      {
       "output_type": "stream",
       "stream": "stdout",
       "text": [
        "#Chirps/Second \tTemperature (\u00c2\u00ba F)\n",
        "20.0 \t88.6\n",
        "16.0 \t71.6\n",
        "19.8 \t93.3\n",
        "18.4 \t84.3\n",
        "17.1 \t80.6\n",
        "15.5 \t75.2\n",
        "14.7 \t69.7\n",
        "15.7 \t71.6\n",
        "15.4 \t69.4\n",
        "16.3 \t83.3\n",
        "15.0 \t79.6\n",
        "17.2 \t82.6\n",
        "16.0 \t80.6\n",
        "17.0 \t83.5\n",
        "14.4 \t76.3\n"
       ]
      }
     ],
     "prompt_number": 7
    },
    {
     "cell_type": "markdown",
     "metadata": {},
     "source": [
      "Entrenar una regresi\u00f3n lineal. Grafique los datos y el mejor modelo. Explique como lleg\u00f3 a los valores de $\\alpha$. \u00bfCoinciden con los mostrados en la p\u00e1gina web?"
     ]
    },
    {
     "cell_type": "code",
     "collapsed": false,
     "input": [
      "x, y = np.loadtxt('chirps.txt', skiprows=1, unpack=True)"
     ],
     "language": "python",
     "metadata": {},
     "outputs": [],
     "prompt_number": 8
    },
    {
     "cell_type": "code",
     "collapsed": false,
     "input": [
      "plt.scatter(x,y, label=\"data\")\n",
      "plt.grid()\n",
      "plt.xlabel('Chirps/Second')\n",
      "plt.ylabel('Temperature (Farenheit)')"
     ],
     "language": "python",
     "metadata": {},
     "outputs": [
      {
       "metadata": {},
       "output_type": "pyout",
       "prompt_number": 14,
       "text": [
        "<matplotlib.text.Text at 0xb479438>"
       ]
      },
      {
       "metadata": {},
       "output_type": "display_data",
       "png": "[encoded data removed]",
       "text": [
        "<matplotlib.figure.Figure at 0xc0655c0>"
       ]
      }
     ],
     "prompt_number": 14
    },
    {
     "cell_type": "code",
     "collapsed": false,
     "input": [
      "def plotGuess(x, y, interceptor, pendiente):\n",
      "    \n",
      "    modelo = lambda x,b,m: b + m*x # funci\u00f3n para graficar el modelo\n",
      "    \n",
      "    plt.scatter(x,y, label=\"data\")\n",
      "    plt.plot(x, modelo(x, interceptor, pendiente), label='Guess')\n",
      "    plt.xlabel('Chirps/Second')\n",
      "    plt.ylabel('Temperature (Farenheit)')\n",
      "    plt.legend(loc=\"best\")"
     ],
     "language": "python",
     "metadata": {},
     "outputs": [],
     "prompt_number": 16
    },
    {
     "cell_type": "code",
     "collapsed": false,
     "input": [
      "interact(plotGuess, x=fixed(x), y=fixed(y), interceptor=(20,90,2), pendiente=(0,5, 0.01));"
     ],
     "language": "python",
     "metadata": {},
     "outputs": [
      {
       "metadata": {},
       "output_type": "display_data",
       "png": "[encoded data removed]",
       "text": [
        "<matplotlib.figure.Figure at 0xca42748>"
       ]
      }
     ],
     "prompt_number": 25
    },
    {
     "cell_type": "code",
     "collapsed": false,
     "input": [
      "r = RegresionLineal(alpha=0.003, max_iters=100, tols=0.00001)\n",
      "r.gradientDescent(x, y)"
     ],
     "language": "python",
     "metadata": {},
     "outputs": [],
     "prompt_number": 87
    },
    {
     "cell_type": "code",
     "collapsed": false,
     "input": [
      "r.beta"
     ],
     "language": "python",
     "metadata": {},
     "outputs": [
      {
       "metadata": {},
       "output_type": "pyout",
       "prompt_number": 88,
       "text": [
        "array([ 0.35096888,  4.75498456])"
       ]
      }
     ],
     "prompt_number": 88
    },
    {
     "cell_type": "markdown",
     "metadata": {},
     "source": [
      "<div class=\"alert alert-warning\">\n",
      "**NOTA**: Datos obtenidos de [aqu\u00ed](http://mathbits.com/MathBits/TISection/Statistics2/linearREAL.htm)\n",
      "</div>"
     ]
    },
    {
     "cell_type": "heading",
     "level": 2,
     "metadata": {},
     "source": [
      "Problema 3"
     ]
    },
    {
     "cell_type": "markdown",
     "metadata": {},
     "source": [
      "**(a)** Usando los datos del [cuarteto de Anscombe](http://en.wikipedia.org/wiki/Anscombe%27s_quartet) Calcule la regresi\u00f3n lineal \u00bfQu\u00e9 sucede?"
     ]
    },
    {
     "cell_type": "code",
     "collapsed": false,
     "input": [
      "x1,y1,x2,y2,x3,y3,x4,y4 = np.loadtxt('anscombe.txt', skiprows=1, unpack=True)"
     ],
     "language": "python",
     "metadata": {},
     "outputs": [],
     "prompt_number": 44
    },
    {
     "cell_type": "code",
     "collapsed": false,
     "input": [
      "r2 = RegresionLineal(alpha=0.03, max_iters=1000, tols=0.00001)\n",
      "r2.gradientDescent(x1, y1)"
     ],
     "language": "python",
     "metadata": {},
     "outputs": [],
     "prompt_number": 111
    },
    {
     "cell_type": "code",
     "collapsed": false,
     "input": [
      "r2.beta"
     ],
     "language": "python",
     "metadata": {},
     "outputs": [
      {
       "metadata": {},
       "output_type": "pyout",
       "prompt_number": 112,
       "text": [
        "array([ -3.97510292e+243,  -4.01446420e+244])"
       ]
      }
     ],
     "prompt_number": 112
    },
    {
     "cell_type": "code",
     "collapsed": false,
     "input": [
      "x = np.linspace(0, 16, 2)\n",
      "r= 0.5*x + 3\n",
      "plt.plot(x1, y1, 'rD', x1, y2, 'bs', x3, y3, 'g^', x4, y4, 'y.')\n",
      "plt.xlabel('X')\n",
      "plt.ylabel('Y')\n",
      "\n",
      "\n"
     ],
     "language": "python",
     "metadata": {},
     "outputs": [
      {
       "metadata": {},
       "output_type": "pyout",
       "prompt_number": 118,
       "text": [
        "<matplotlib.text.Text at 0xb1586d8>"
       ]
      },
      {
       "metadata": {},
       "output_type": "display_data",
       "png": "[encoded data removed]",
       "text": [
        "<matplotlib.figure.Figure at 0xcb0d278>"
       ]
      }
     ],
     "prompt_number": 118
    },
    {
     "cell_type": "code",
     "collapsed": false,
     "input": [],
     "language": "python",
     "metadata": {},
     "outputs": []
    },
    {
     "cell_type": "heading",
     "level": 2,
     "metadata": {},
     "source": [
      "Problema 4"
     ]
    },
    {
     "cell_type": "markdown",
     "metadata": {},
     "source": [
      "Use el archivo `radioactive_decay.dat`"
     ]
    },
    {
     "cell_type": "code",
     "collapsed": false,
     "input": [
      "!cat radioactive_decay.txt"
     ],
     "language": "python",
     "metadata": {},
     "outputs": [
      {
       "output_type": "stream",
       "stream": "stdout",
       "text": [
        "#time   N_(remaining)\n",
        "0.0\t10.48\n",
        "1.0\t7.54\n",
        "2.0\t5.49\n",
        "3.0\t4.02\n",
        "4.0\t2.74\n",
        "5.0\t2.02\n",
        "6.0\t1.50\n",
        "7.0\t1.09\n",
        "8.0\t0.68\n",
        "9.0\t0.57\n",
        "10.0\t0.37\n",
        "11.0\t0.31\n",
        "12.0\t0.19\n",
        "13.0\t0.15\n",
        "14.0\t0.13\n",
        "15.0\t0.11\n"
       ]
      }
     ],
     "prompt_number": 119
    },
    {
     "cell_type": "markdown",
     "metadata": {},
     "source": [
      "**(a)** Grafique los datos \u00bfQu\u00e9 forma tienen?"
     ]
    },
    {
     "cell_type": "markdown",
     "metadata": {},
     "source": [
      "**(b)** \u00bfQu\u00e9 transformaci\u00f3n se le ocurre para linearizarlos? Explique y grafique de nuevo. Guarde los datos transformados en un archivo llamado `transform_radioactive_decay.txt`"
     ]
    },
    {
     "cell_type": "markdown",
     "metadata": {},
     "source": [
      "**(c)** Aplique la regresi\u00f3n lineal a este conjunto de datos transformado, leyendo los datos del archivo reci\u00e9n creado."
     ]
    },
    {
     "cell_type": "markdown",
     "metadata": {},
     "source": [
      "**(d)** \u00bfCu\u00e1les son los valores de $\\beta$ que mejor ajustan? \u00bfCu\u00e1les son el espacio sin transformar? Explique."
     ]
    }
   ],
   "metadata": {}
  }
 ]
}