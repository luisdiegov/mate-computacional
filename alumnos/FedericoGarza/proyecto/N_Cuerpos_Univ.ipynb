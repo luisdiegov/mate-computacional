{
 "metadata": {
  "name": "",
  "signature": "sha256:34c6b2e4979f65b1896af384bbc7e2715f41fd3da203aae53296edcd4433346c"
 },
 "nbformat": 3,
 "nbformat_minor": 0,
 "worksheets": [
  {
   "cells": [
    {
     "cell_type": "code",
     "collapsed": false,
     "input": [
      "%pylab inline\n",
      "import numpy as np\n",
      "import matplotlib.pyplot as plt\n",
      "from __future__ import division"
     ],
     "language": "python",
     "metadata": {},
     "outputs": [
      {
       "output_type": "stream",
       "stream": "stdout",
       "text": [
        "Populating the interactive namespace from numpy and matplotlib\n"
       ]
      }
     ],
     "prompt_number": 3
    },
    {
     "cell_type": "code",
     "collapsed": false,
     "input": [
      "class Particula:\n",
      "    \n",
      "    def __init__(self, posicion, velocidad, masa):\n",
      "        self.masa = masa\n",
      "        self.posicion = posicion\n",
      "        self.velocidad = velocidad\n",
      "        self.posicion_x = posicion[:,0]\n",
      "        self.posicion_y = posicion[:, 1]\n",
      "        self.velocidad_x = velocidad[:, 0]\n",
      "        self.velocidad_y = velocidad[:, 1]\n",
      "        self.G = 6.67384e-11\n",
      "    \"\"\"    \n",
      "    def posicion_x(self):\n",
      "        return self.posicion[:, 0]\n",
      "    \n",
      "    def posicion_y(self):    \n",
      "        return self.posicion[:, 1]\n",
      "    \n",
      "    def velocidad_x(self):\n",
      "        return self.velocidad[:, 0]\n",
      "    \n",
      "    def velocidad_y(self):\n",
      "        return self.velocidad[:, 1]\n",
      "    \n",
      "    \"\"\"\n",
      "         \n",
      "    def mover(self, fuerza, dt):\n",
      "        self.N = len(self.posicion_x)\n",
      "        self.aceleracion_x = fuerza[0] / self.masa\n",
      "        self.aceleracion_y = fuerza[1] / self.masa\n",
      "        \n",
      "        \n",
      "        for i in range(0, self.N - 1):\n",
      "            self.velocidad_x[i+1] = self.velocidad_x[0] + (i+1)*(dt/self.N) * self.aceleracion_x\n",
      "            self.posicion_x[i+1] = self.velocidad_x[0] * (i+1)*(dt/self.N) + (0.5) * self.aceleracion_x * ((i+1)*dt/self.N)**2 + self.posicion_x[0]\n",
      "            \n",
      "            self.velocidad_y[i+1] = self.velocidad_y[0] + (i+1)*(dt/self.N) * self.aceleracion_y\n",
      "            self.posicion_y[i+1] = self.velocidad_y[0] * (i+1)*(dt/self.N) + (0.5) * self.aceleracion_y * ((i+1)*dt/self.N)**2 + self.posicion_y[0]\n",
      "        \n",
      "        \"\"\"\n",
      "        \n",
      "        i = 0\n",
      "        \n",
      "        self.velocidad_x[i+1] = self.velocidad_x[i] + dt * self.aceleracion_x\n",
      "        self.posicion_x[i+1] = self.velocidad_x[i] * dt + (0.5) * self.aceleracion_x * dt**2 + self.posicion_x[i]\n",
      "            \n",
      "        self.velocidad_y[i+1] = self.velocidad_y[i] + dt * self.aceleracion_y\n",
      "        self.posicion_y[i+1] = self.velocidad_y[i] * dt + (0.5) * self.aceleracion_y * dt**2 + self.posicion_y[i]\n",
      "        \n",
      "        \"\"\"\n",
      "\n",
      "    \n",
      "    def mover_tiempo_t(self, fuerza, dt, t):\n",
      "        self.t = t\n",
      "        self.N = len(self.posicion_x) - t\n",
      "        self.aceleracion_x = fuerza[0] / self.masa\n",
      "        self.aceleracion_y = fuerza[1] / self.masa\n",
      "        \n",
      "        for i in range(t-1, self.N - 1 + t):\n",
      "            self.velocidad_x[i+1] = self.velocidad_x[0] + (i+1)*(dt/self.N) * self.aceleracion_x\n",
      "            self.posicion_x[i+1] = self.velocidad_x[0] * (i+1)*(dt/self.N) + (0.5) * self.aceleracion_x * ((i+1)*dt/self.N)**2 + self.posicion_x[0]\n",
      "            \n",
      "            self.velocidad_y[i+1] = self.velocidad_y[0] + (i+1)*(dt/self.N) * self.aceleracion_y\n",
      "            self.posicion_y[i+1] = self.velocidad_y[0] * (i+1)*(dt/self.N) + (0.5) * self.aceleracion_y * ((i+1)*dt/self.N)**2 + self.posicion_y[0]\n",
      "\n",
      "    \n",
      "    def dibujar(self): # Dibuja el movimiento de la p\u00e1rticula en el lapso dt\n",
      "        plt.figure(figsize = (10,8), dpi = 80)\n",
      "        \n",
      "        scatter_x = []\n",
      "        scatter_y = []\n",
      "        for i in range(0, len(self.posicion_x), 100):\n",
      "            scatter_x.append(self.posicion_x[i])\n",
      "            scatter_y.append(self.posicion_y[i])\n",
      "        \n",
      "        scatter_x.append(self.posicion_x[len(self.posicion_x)-1])\n",
      "        scatter_y.append(self.posicion_y[len(self.posicion_y)-1])\n",
      "        \n",
      "        plt.plot(self.posicion_x, self.posicion_y , label=\"Movimiento\", color=\"blue\", linewidth = 1)\n",
      "        plt.scatter(scatter_x, scatter_y, 30,  label = \"Movimiento puntual\", color = 'r')\n",
      "        plt.ylabel(\"Posicion Y (m)\")\n",
      "        plt.xlabel(\"Posicion X (m)\")\n",
      "        plt.legend(loc = 'upper left')\n",
      "        #plt.annotate(u\"$t=0$\", xy = (scatter_x[0], scatter_y[0]), xycoords='data', textcoords='offset points', fontsize=20)\n",
      "        \n",
      "        \n",
      "    def dibujar_pos_tiempo(self, tiempo):\n",
      "        plt.figure(figsize = (10,8), dpi = 80)\n",
      "\n",
      "        plt.plot(tiempo, self.posicion_x , label=u\"Posici\u00f3n vs tiempo\", color=\"red\")\n",
      "        plt.xlabel(\"Tiempo (s)\")\n",
      "        plt.ylabel(\"Posicion X (m)\")\n",
      "        plt.legend(loc = 'upper left')\n",
      "        \n",
      "    def distancia(self, otra_particula):\n",
      "        self.dim = len(self.posicion_x)\n",
      "        distancias = []\n",
      "        for i in range(0, self.dim): \n",
      "            distancias.append(np.linalg.norm(self.posicion[i, :] - otra_particula.posicion[i, :]))\n",
      "            \n",
      "        self.distancia = np.array(distancias)\n",
      "        \n",
      "        return self.distancia\n",
      "    \n",
      "    def fuerzaAplicada(self, otra_particula):\n",
      "        fuerza_gravitacional = (1/self.distancia(otra_particula)) * self.G * self.masa * otra_particula.masa\n",
      "        return fuerza_gravitacional"
     ],
     "language": "python",
     "metadata": {},
     "outputs": [],
     "prompt_number": 77
    },
    {
     "cell_type": "code",
     "collapsed": false,
     "input": [
      "class Universo:\n",
      "    \n",
      "    def __init__(self, radio, N, particulas):\n",
      "        self.radio = radio\n",
      "        self.N = N\n",
      "        self.particulas = particulas\n",
      "    \n",
      "    def step(self, dt):\n",
      "        pass\n",
      "    \n",
      "    def dibujar(self):\n",
      "        plt.figure(figsize = (10, 10), dpi = 80)\n",
      "        X = np.linspace(-self.radio, self.radio, 1000)\n",
      "        Y = np.sqrt((self.radio)**2 - X**2)\n",
      "        plt.scatter(0,0, 10, color = \"black\")\n",
      "        plt.plot(X, Y, label = u\"L\u00edmites del universo\", color = 'r',  linewidth = 2.5, linestyle = \"--\")\n",
      "        plt.plot(X, -Y, color = 'r',  linewidth = 2.5, linestyle = \"--\")\n",
      "        for i in range(0, int(self.N)):\n",
      "            plt.scatter(self.particulas[i].posicion_x[0], self.particulas[i].posicion_y[0], 30, color = 'b')\n",
      "        plt.legend(loc = \"upper right\")\n",
      "                   \n",
      "    def simular(self):\n",
      "        pass"
     ],
     "language": "python",
     "metadata": {},
     "outputs": [],
     "prompt_number": 155
    },
    {
     "cell_type": "code",
     "collapsed": false,
     "input": [
      "dt = 83\n",
      "steps = 1000\n",
      "tiempo = np.zeros((steps,2))\n",
      "tiempo[:, 0] = linspace(0, dt, steps)\n",
      "tiempo[:, 1] = linspace(0, dt, steps)\n",
      "velocidad_1 = np.zeros((steps, 2))\n",
      "velocidad_1[0, 0] = 10 # Velocidad_inicial_x\n",
      "velocidad_1[0, 1] = 30 # Velocidad_inicial_y\n",
      "posicion_1 = velocidad_1*tiempo\n",
      "posicion_1[0, 0] = - 10.5\n",
      "posicion_1[0, 1] = - 55.5\n",
      "velocidad_2 = np.zeros((steps, 2))\n",
      "velocidad_2[0, 0] = -310 # Velocidad_inicial_x\n",
      "velocidad_2[0, 1] = 560 # Velocidad_inicial_y\n",
      "posicion_2 = velocidad_1*tiempo\n",
      "posicion_2[0, 0] = 13.45\n",
      "posicion_2[0, 1] = 7.68\n"
     ],
     "language": "python",
     "metadata": {},
     "outputs": [],
     "prompt_number": 156
    },
    {
     "cell_type": "code",
     "collapsed": false,
     "input": [
      "particula_1 = Particula(posicion = posicion_1, velocidad = velocidad_1, masa = 100)\n",
      "particula_2 = Particula(posicion = posicion_2, velocidad = velocidad_2, masa = 300)"
     ],
     "language": "python",
     "metadata": {},
     "outputs": [],
     "prompt_number": 162
    },
    {
     "cell_type": "code",
     "collapsed": false,
     "input": [
      "universo = open('configuracion_universo.txt')\n",
      "num_particulas = float(universo.readlines()[0])\n",
      "universo.close()"
     ],
     "language": "python",
     "metadata": {},
     "outputs": [],
     "prompt_number": 163
    },
    {
     "cell_type": "code",
     "collapsed": false,
     "input": [
      "universo = open('configuracion_universo.txt')\n",
      "radius = float(universo.readlines()[1])\n",
      "universo.close()"
     ],
     "language": "python",
     "metadata": {},
     "outputs": [],
     "prompt_number": 164
    },
    {
     "cell_type": "code",
     "collapsed": false,
     "input": [
      "U = Universo(radio = radius, N = num_particulas, particulas = [particula_1, particula_2])"
     ],
     "language": "python",
     "metadata": {},
     "outputs": [],
     "prompt_number": 165
    },
    {
     "cell_type": "code",
     "collapsed": false,
     "input": [
      "U.dibujar()"
     ],
     "language": "python",
     "metadata": {},
     "outputs": [
      {
       "metadata": {},
       "output_type": "display_data",
       "png": "[encoded data removed]",
       "text": [
        "<matplotlib.figure.Figure at 0x7f80d2a5b0d0>"
       ]
      }
     ],
     "prompt_number": 166
    },
    {
     "cell_type": "code",
     "collapsed": false,
     "input": [],
     "language": "python",
     "metadata": {},
     "outputs": []
    }
   ],
   "metadata": {}
  }
 ]
}