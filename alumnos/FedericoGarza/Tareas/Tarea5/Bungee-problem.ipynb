{
 "metadata": {
  "name": "",
  "signature": "sha256:ad1ff96b2e12a744b39fe023de388c7197909fb5b128b61269d65a3adc36aab8"
 },
 "nbformat": 3,
 "nbformat_minor": 0,
 "worksheets": [
  {
   "cells": [
    {
     "cell_type": "code",
     "collapsed": false,
     "input": [
      "%matplotlib inline\n",
      "import numpy as np\n",
      "import matplotlib.pyplot as plt\n",
      "import sympy as sym\n",
      "from sympy.interactive import printing\n",
      "printing.init_printing(use_latex=True)"
     ],
     "language": "python",
     "metadata": {},
     "outputs": [],
     "prompt_number": 34
    },
    {
     "cell_type": "code",
     "collapsed": false,
     "input": [
      "def biseccionNumpy(func, a, b, stop): #Stop es el n\u00famero de pasos\n",
      "    x= (a + b)/2\n",
      "    \n",
      "    assert f(a)*f(b) < 0, \"El signo de la funci\u00f3n en los extremos deber\u00eda de ser diferente\"\n",
      "    assert f(a) != 0, \"La ra\u00edz es %.5f\" % a\n",
      "    assert f(b) != 0, \"La ra\u00edz es %.5f\" % b\n",
      "    \n",
      "    print \"%s\\t%12s\\t%12s\" % (\"k\", \"I(a,b)\", \"x\") # %s cadena, \\t%12 tabulador 12 \n",
      "    print \"%d\\tI(%.5f, %.5f)\\t%.5f\" % (0,a, b, x) # %d d\u00edgito, %.5 decimal\n",
      "    \n",
      "    for k in range(stop):        # Rango va de 1 hasta stop-1\n",
      "                \n",
      "        arreglo=f(np.array([a, x, b]))\n",
      "        \n",
      "        if(arreglo[0]*arreglo[1] < 0):\n",
      "            a, b = a, x\n",
      "        elif(arreglo[1]*arreglo[2] < 0):\n",
      "            a, b = x, b\n",
      "        x = (a + b)/2\n",
      "        \n",
      "        print \"%d\\tI(%.5f, %.5f)\\t%.16f\" % (k+1, a, b, x) # .16 N\u00famero m\u00e1ximo de decimales soportado"
     ],
     "language": "python",
     "metadata": {},
     "outputs": [],
     "prompt_number": 4
    },
    {
     "cell_type": "code",
     "collapsed": false,
     "input": [
      "def newtonSimbolico(f, x0, tolerancia, stop):\n",
      "    assert type(f).__bases__[0]  in (sym.expr.Expr, sym.operations.AssocOp), \"La funci\u00f3n no es una expresi\u00f3n simb\u00f3lica ... :/\"\n",
      "    \n",
      "    # Derivamos la expresi\u00f3n\n",
      "    df = sym.diff(f, x)\n",
      "    \n",
      "    # Convertimos en funciones las expresiones\n",
      "    F = sym.lambdify(x,f, modules=\"numpy\")\n",
      "    DF = sym.lambdify(x, df, modules=\"numpy\")\n",
      "    \n",
      "    # Inicializamos el contador\n",
      "    k = 0\n",
      "    \n",
      "    # Inicializamos abs(x1-x0) en un n\u00famero mayor que la tolerancia\n",
      "    diff = 1\n",
      "    print \"{: >5} {: >10} {: >10} {: >10} {: >11} {: >10}\".format(\"k\", \"x0\", \"F(x0)\", \"DF(x0)\", \"abs(x1-x0)\", \"x1\")\n",
      "    \n",
      "    while diff >= tolerancia and k <= stop:\n",
      "        k = k + 1\n",
      "\n",
      "        x1 = x0 - (float(F(x0)/DF(x0)))\n",
      "        print \"{: >5} {: >10.5f} {: >10.5f} {: >10.5f} {: >10.5f} {: >11.5f}\".format(k, x0, F(x0), DF(x0), diff, x1)\n",
      "        \n",
      "        diff = abs(x1 - x0)\n",
      "        \n",
      "        x0 = x1\n",
      "        \n",
      "    if k > stop:\n",
      "        print \"El m\u00e9todo de Newton no convergi\u00f3: para la tolerancia especificada, se alcanzaron el m\u00e1ximo n\u00famero de iteraciones\"\n",
      "    \n",
      "    print \"\\n\\nLa ra\u00edz es %2.12f\" % x0"
     ],
     "language": "python",
     "metadata": {},
     "outputs": [],
     "prompt_number": 6
    },
    {
     "cell_type": "code",
     "collapsed": false,
     "input": [
      "def newtonConDerivada(f, derivada, x0, tolerancia, stop):\n",
      "    \n",
      "    # Inicializamos el contador\n",
      "    k = 0\n",
      "    \n",
      "    # Inicializamos abs(x1-x0) en un n\u00famero mayor que la tolerancia\n",
      "    diff = 1\n",
      "    print \"{: >5} {: >10} {: >10} {: >10} {: >11} {: >10}\".format(\"k\", \"x0\", \"F(x0)\", \"DF(x0)\", \"abs(x1-x0)\", \"x1\")\n",
      "    \n",
      "    while diff >= tolerancia and k <= stop:\n",
      "        k = k + 1\n",
      "\n",
      "        x1 = x0 - (float(f(x0)/derivada(x0)))\n",
      "        print \"{: >5} {: >10.5f} {: >10.5f} {: >10.5f} {: >10.5f} {: >11.5f}\".format(k, x0, f(x0), derivada(x0), diff, x1)\n",
      "        \n",
      "        diff = abs(x1 - x0)\n",
      "        \n",
      "        x0 = x1\n",
      "        \n",
      "    if k > stop:\n",
      "        print \"El m\u00e9todo de Newton no convergi\u00f3: para la tolerancia especificada, se alcanzaron el m\u00e1ximo n\u00famero de iteraciones\"\n",
      "    \n",
      "    print \"\\n\\nLa ra\u00edz es %2.12f\" % x0"
     ],
     "language": "python",
     "metadata": {},
     "outputs": [],
     "prompt_number": 64
    },
    {
     "cell_type": "code",
     "collapsed": false,
     "input": [
      "def find_brackets(f, a, b, n):\n",
      "    # Primero medimos cu\u00e1nto debe valer cada subintervalo\n",
      "    intervalos = []\n",
      "    c, d = 0, 0\n",
      "    I = float(abs(a - b))/n\n",
      "    for i in range(0, n+1):\n",
      "        x_i = a + I\n",
      "        if f(a)*f(x_i) < 0:\n",
      "            c, d = a, x_i\n",
      "            print c, d\n",
      "            intervalos.append([c,d])\n",
      "        i+=1\n",
      "        a=x_i\n",
      "    return intervalos"
     ],
     "language": "python",
     "metadata": {},
     "outputs": [],
     "prompt_number": 8
    },
    {
     "cell_type": "heading",
     "level": 2,
     "metadata": {},
     "source": [
      "Aqu\u00ed empieza el *bungee-problem*"
     ]
    },
    {
     "cell_type": "markdown",
     "metadata": {},
     "source": [
      "Gr\u00e1fica de la funci\u00f3n para *aproximar* la ra\u00edz."
     ]
    },
    {
     "cell_type": "code",
     "collapsed": false,
     "input": [
      "m = np.linspace(0, 200, 10000)\n",
      "y = (np.sqrt(9.8*m/0.25))*np.tanh(np.sqrt(9.8*0.25/m)*4) - 36\n",
      "plt.plot(x, y, color=\"red\")\n",
      "plt.ylim(-2,2)\n",
      "plt.xlim(100,200)\n",
      "ax = plt.gca()  \n",
      "ax.spines['right'].set_color('none')\n",
      "ax.spines['top'].set_color('none')\n",
      "ax.xaxis.set_ticks_position('bottom')\n",
      "ax.spines['bottom'].set_position(('data',0))\n",
      "ax.yaxis.set_ticks_position('left')\n",
      "ax.spines['left'].set_position(('data',0))"
     ],
     "language": "python",
     "metadata": {},
     "outputs": [
      {
       "metadata": {},
       "output_type": "display_data",
       "png": "[encoded data removed]",
       "text": [
        "<matplotlib.figure.Figure at 0x7faedbcf1590>"
       ]
      }
     ],
     "prompt_number": 12
    },
    {
     "cell_type": "code",
     "collapsed": false,
     "input": [
      "f = lambda m: (np.sqrt(9.8*m/0.25))*np.tanh(np.sqrt(9.8*0.25/m)*4) - 36 # x es la masa"
     ],
     "language": "python",
     "metadata": {},
     "outputs": [],
     "prompt_number": 68
    },
    {
     "cell_type": "markdown",
     "metadata": {},
     "source": [
      "Verificamos con el `m\u00e9todo de la bisecci\u00f3n`."
     ]
    },
    {
     "cell_type": "code",
     "collapsed": false,
     "input": [
      "biseccionNumpy(func = f , a = 140.0 , b = 150.0, stop = 20)"
     ],
     "language": "python",
     "metadata": {},
     "outputs": [
      {
       "output_type": "stream",
       "stream": "stdout",
       "text": [
        "k\t      I(a,b)\t           x\n",
        "0\tI(140.00000, 150.00000)\t145.00000\n",
        "1\tI(140.00000, 145.00000)\t142.5000000000000000\n",
        "2\tI(142.50000, 145.00000)\t143.7500000000000000\n",
        "3\tI(143.75000, 145.00000)\t144.3750000000000000\n",
        "4\tI(144.37500, 145.00000)\t144.6875000000000000\n",
        "5\tI(144.37500, 144.68750)\t144.5312500000000000\n",
        "6\tI(144.37500, 144.53125)\t144.4531250000000000\n",
        "7\tI(144.37500, 144.45312)\t144.4140625000000000\n",
        "8\tI(144.37500, 144.41406)\t144.3945312500000000\n",
        "9\tI(144.39453, 144.41406)\t144.4042968750000000\n",
        "10\tI(144.40430, 144.41406)\t144.4091796875000000\n",
        "11\tI(144.40430, 144.40918)\t144.4067382812500000\n",
        "12\tI(144.40430, 144.40674)\t144.4055175781250000\n",
        "13\tI(144.40552, 144.40674)\t144.4061279296875000\n",
        "14\tI(144.40613, 144.40674)\t144.4064331054687500\n",
        "15\tI(144.40643, 144.40674)\t144.4065856933593750\n",
        "16\tI(144.40659, 144.40674)\t144.4066619873046875\n",
        "17\tI(144.40666, 144.40674)\t144.4067001342773438\n",
        "18\tI(144.40666, 144.40670)\t144.4066810607910156\n",
        "19\tI(144.40668, 144.40670)\t144.4066905975341797\n",
        "20\tI(144.40669, 144.40670)\t144.4066953659057617\n"
       ]
      }
     ],
     "prompt_number": 20
    },
    {
     "cell_type": "markdown",
     "metadata": {},
     "source": [
      "\u00bfServir\u00e1 el `find_brackets`?"
     ]
    },
    {
     "cell_type": "code",
     "collapsed": false,
     "input": [
      "find_brackets(f = f, a = 20.0, b = 200.0, n = 100)"
     ],
     "language": "python",
     "metadata": {},
     "outputs": [
      {
       "output_type": "stream",
       "stream": "stdout",
       "text": [
        "144.2 146.0\n"
       ]
      },
      {
       "latex": [
        "$$\\left [ \\left [ 144.2, \\quad 146.0\\right ]\\right ]$$"
       ],
       "metadata": {},
       "output_type": "pyout",
       "png": "[encoded data removed]",
       "prompt_number": 21,
       "text": [
        "[[144.2, 146.0]]"
       ]
      }
     ],
     "prompt_number": 21
    },
    {
     "cell_type": "markdown",
     "metadata": {},
     "source": [
      "Determinando la derivada simb\u00f3lica."
     ]
    },
    {
     "cell_type": "code",
     "collapsed": false,
     "input": [
      "x = sym.Symbol('x')"
     ],
     "language": "python",
     "metadata": {},
     "outputs": [],
     "prompt_number": 41
    },
    {
     "cell_type": "code",
     "collapsed": false,
     "input": [
      "g = sym.Symbol('g')"
     ],
     "language": "python",
     "metadata": {},
     "outputs": [],
     "prompt_number": 42
    },
    {
     "cell_type": "code",
     "collapsed": false,
     "input": [
      "Cd = sym.Symbol('Cd')"
     ],
     "language": "python",
     "metadata": {},
     "outputs": [],
     "prompt_number": 43
    },
    {
     "cell_type": "code",
     "collapsed": false,
     "input": [
      "t = sym.Symbol('t')"
     ],
     "language": "python",
     "metadata": {},
     "outputs": [],
     "prompt_number": 44
    },
    {
     "cell_type": "code",
     "collapsed": false,
     "input": [
      "v = sym.Symbol('v')"
     ],
     "language": "python",
     "metadata": {},
     "outputs": [],
     "prompt_number": 45
    },
    {
     "cell_type": "markdown",
     "metadata": {},
     "source": [
      "Derivada simb\u00f3lica con todos los s\u00edmbolos:"
     ]
    },
    {
     "cell_type": "code",
     "collapsed": false,
     "input": [
      "bungee1 = sym.sqrt(g*x/Cd)*sym.tanh(sym.sqrt(g*Cd/x)*t) - v"
     ],
     "language": "python",
     "metadata": {},
     "outputs": [],
     "prompt_number": 79
    },
    {
     "cell_type": "code",
     "collapsed": false,
     "input": [
      "der1 = sym.diff(bungee1, x)\n",
      "der1"
     ],
     "language": "python",
     "metadata": {},
     "outputs": [
      {
       "latex": [
        "$$- \\frac{t \\sqrt{\\frac{Cd g}{m}}}{2 m} \\sqrt{\\frac{g m}{Cd}} \\left(- \\tanh^{2}{\\left (t \\sqrt{\\frac{Cd g}{m}} \\right )} + 1\\right) + \\frac{\\sqrt{\\frac{g m}{Cd}}}{2 m} \\tanh{\\left (t \\sqrt{\\frac{Cd g}{m}} \\right )}$$"
       ],
       "metadata": {},
       "output_type": "pyout",
       "png": "[encoded data removed]",
       "prompt_number": 58,
       "text": [
        "        _____     ______ \u239b       \u239b      ______\u239e    \u239e       _____     \u239b      __\n",
        "       \u2571 g\u22c5m     \u2571 Cd\u22c5g  \u239c      2\u239c     \u2571 Cd\u22c5g \u239f    \u239f      \u2571 g\u22c5m      \u239c     \u2571 C\n",
        "  t\u22c5  \u2571  \u2500\u2500\u2500 \u22c5  \u2571  \u2500\u2500\u2500\u2500 \u22c5\u239c- tanh \u239ct\u22c5  \u2571  \u2500\u2500\u2500\u2500 \u239f + 1\u239f     \u2571  \u2500\u2500\u2500 \u22c5tanh\u239ct\u22c5  \u2571  \u2500\n",
        "    \u2572\u2571    Cd  \u2572\u2571    m    \u239d       \u239d  \u2572\u2571    m   \u23a0    \u23a0   \u2572\u2571    Cd      \u239d  \u2572\u2571    \n",
        "- \u2500\u2500\u2500\u2500\u2500\u2500\u2500\u2500\u2500\u2500\u2500\u2500\u2500\u2500\u2500\u2500\u2500\u2500\u2500\u2500\u2500\u2500\u2500\u2500\u2500\u2500\u2500\u2500\u2500\u2500\u2500\u2500\u2500\u2500\u2500\u2500\u2500\u2500\u2500\u2500\u2500\u2500\u2500\u2500\u2500\u2500\u2500\u2500\u2500\u2500 + \u2500\u2500\u2500\u2500\u2500\u2500\u2500\u2500\u2500\u2500\u2500\u2500\u2500\u2500\u2500\u2500\u2500\u2500\u2500\u2500\u2500\u2500\u2500\n",
        "                         2\u22c5m                                       2\u22c5m        \n",
        "\n",
        "____\u239e\n",
        "d\u22c5g \u239f\n",
        "\u2500\u2500\u2500 \u239f\n",
        "m   \u23a0\n",
        "\u2500\u2500\u2500\u2500\u2500\n",
        "     "
       ]
      }
     ],
     "prompt_number": 58
    },
    {
     "cell_type": "code",
     "collapsed": false,
     "input": [
      "derivada1 = sym.lambdify(x, der1, modules=\"numpy\")"
     ],
     "language": "python",
     "metadata": {},
     "outputs": [],
     "prompt_number": 80
    },
    {
     "cell_type": "markdown",
     "metadata": {},
     "source": [
      "Derivada simb\u00f3lica con la funci\u00f3n evaluada"
     ]
    },
    {
     "cell_type": "code",
     "collapsed": false,
     "input": [
      "bungee2 = (sym.sqrt(9.8*x/0.25))*sym.tanh(sym.sqrt(9.8*0.25/x)*4) - 36"
     ],
     "language": "python",
     "metadata": {},
     "outputs": [],
     "prompt_number": 81
    },
    {
     "cell_type": "code",
     "collapsed": false,
     "input": [
      "der2 = sym.diff(bungee2, x)\n",
      "der2"
     ],
     "language": "python",
     "metadata": {},
     "outputs": [
      {
       "latex": [
        "$$- \\frac{19.6 \\sqrt{\\frac{1}{x}}}{\\sqrt{x}} \\left(- \\tanh^{2}{\\left (6.26099033699941 \\sqrt{\\frac{1}{x}} \\right )} + 1\\right) + \\frac{3.13049516849971}{\\sqrt{x}} \\tanh{\\left (6.26099033699941 \\sqrt{\\frac{1}{x}} \\right )}$$"
       ],
       "metadata": {},
       "output_type": "pyout",
       "png": "[encoded data removed]",
       "prompt_number": 82,
       "text": [
        "             \u239b       \u239b                     ___\u239e    \u239e     ___                  \n",
        "             \u239c      2\u239c                    \u2571 1 \u239f    \u239f    \u2571 1                   \n",
        "  -19.6\u22c5(-1)\u22c5\u239c- tanh \u239c6.26099033699941\u22c5  \u2571  \u2500 \u239f + 1\u239f\u22c5  \u2571  \u2500    3.1304951684997\n",
        "             \u239d       \u239d                 \u2572\u2571   x \u23a0    \u23a0 \u2572\u2571   x                   \n",
        "- \u2500\u2500\u2500\u2500\u2500\u2500\u2500\u2500\u2500\u2500\u2500\u2500\u2500\u2500\u2500\u2500\u2500\u2500\u2500\u2500\u2500\u2500\u2500\u2500\u2500\u2500\u2500\u2500\u2500\u2500\u2500\u2500\u2500\u2500\u2500\u2500\u2500\u2500\u2500\u2500\u2500\u2500\u2500\u2500\u2500\u2500\u2500\u2500\u2500\u2500\u2500\u2500\u2500\u2500\u2500\u2500\u2500\u2500 + \u2500\u2500\u2500\u2500\u2500\u2500\u2500\u2500\u2500\u2500\u2500\u2500\u2500\u2500\u2500\n",
        "                              ___                                             \n",
        "                            \u2572\u2571 x                                              \n",
        "\n",
        "      \u239b                     ___\u239e\n",
        "      \u239c                    \u2571 1 \u239f\n",
        "1\u22c5tanh\u239c6.26099033699941\u22c5  \u2571  \u2500 \u239f\n",
        "      \u239d                 \u2572\u2571   x \u23a0\n",
        "\u2500\u2500\u2500\u2500\u2500\u2500\u2500\u2500\u2500\u2500\u2500\u2500\u2500\u2500\u2500\u2500\u2500\u2500\u2500\u2500\u2500\u2500\u2500\u2500\u2500\u2500\u2500\u2500\u2500\u2500\u2500\u2500\n",
        "        ___                     \n",
        "      \u2572\u2571 x                      "
       ]
      }
     ],
     "prompt_number": 82
    },
    {
     "cell_type": "code",
     "collapsed": false,
     "input": [
      "derivada2 = sym.lambdify(x, der2, modules=\"numpy\")"
     ],
     "language": "python",
     "metadata": {},
     "outputs": [],
     "prompt_number": 83
    },
    {
     "cell_type": "markdown",
     "metadata": {},
     "source": [
      "Aplicando `m\u00e9todo de Newton simb\u00f3lico`."
     ]
    },
    {
     "cell_type": "code",
     "collapsed": false,
     "input": [
      "newtonSimbolico(f = bungee2, x0 = 70, tolerancia = 10e-8, stop = 100)"
     ],
     "language": "python",
     "metadata": {},
     "outputs": [
      {
       "output_type": "stream",
       "stream": "stdout",
       "text": [
        "    k         x0      F(x0)     DF(x0)  abs(x1-x0)         x1\n",
        "    1   70.00000   -2.78106    0.06988    1.00000   109.79770\n",
        "    2  109.79770   -0.88296    0.03255   39.79770   136.92082\n",
        "    3  136.92082   -0.15702    0.02201   27.12312   144.05649\n",
        "    4  144.05649   -0.00702    0.02008    7.13568   144.40593\n",
        "    5  144.40593   -0.00002    0.01999    0.34943   144.40669\n",
        "    6  144.40669   -0.00000    0.01999    0.00077   144.40669\n",
        "\n",
        "\n",
        "La ra\u00edz es 144.406693960889\n"
       ]
      }
     ],
     "prompt_number": 85
    },
    {
     "cell_type": "markdown",
     "metadata": {},
     "source": [
      "Aplicando el `m\u00e9todo de Newton no-simb\u00f3lico`."
     ]
    },
    {
     "cell_type": "code",
     "collapsed": false,
     "input": [
      "newton2(f = f, derivada = derivada2, x0 = 70, tolerancia = 10e-8, stop = 100)"
     ],
     "language": "python",
     "metadata": {},
     "outputs": [
      {
       "output_type": "stream",
       "stream": "stdout",
       "text": [
        "    k         x0      F(x0)     DF(x0)  abs(x1-x0)         x1\n",
        "    1   70.00000   -2.78106    0.06988    1.00000   109.79770\n",
        "    2  109.79770   -0.88296    0.03255   39.79770   136.92082\n",
        "    3  136.92082   -0.15702    0.02201   27.12312   144.05649\n",
        "    4  144.05649   -0.00702    0.02008    7.13568   144.40593\n",
        "    5  144.40593   -0.00002    0.01999    0.34943   144.40669\n",
        "    6  144.40669   -0.00000    0.01999    0.00077   144.40669\n",
        "\n",
        "\n",
        "La ra\u00edz es 144.406693960888\n"
       ]
      }
     ],
     "prompt_number": 86
    },
    {
     "cell_type": "heading",
     "level": 2,
     "metadata": {},
     "source": [
      "`M\u00e9todo de la secante.`"
     ]
    },
    {
     "cell_type": "markdown",
     "metadata": {},
     "source": [
      "`Secante` original."
     ]
    },
    {
     "cell_type": "code",
     "collapsed": false,
     "input": [
      "def secante(f, x1, x0, tolerancia, stop):\n",
      "    \n",
      "    # Inicializamos el contador\n",
      "    \n",
      "    k = 0\n",
      "    \n",
      "    # Inicializamos abs(x1-x0) en un n\u00famero mayor que la tolerancia\n",
      "    \n",
      "    diff = 1\n",
      "    print \"{: >5} {: >7} {: >13} {: >10} {: >11} {: >5}\".format(\"k\", \"x1\", \"f(x1)\", \"Aproximaci\u00f3n\", \"abs(x1-x0)\", \"x2\")\n",
      "    \n",
      "    while diff >= tolerancia and k <= stop:\n",
      "        \n",
      "        # Calculamos la aproximaci\u00f3n\n",
      "        \n",
      "        aproximacion=(f(x0)-f(x1))/(x0-x1)\n",
      "        \n",
      "        k = k + 1\n",
      "\n",
      "        x2 = x1 - (float(f(x1)/aproximacion))\n",
      "                   \n",
      "        print \"{: >5} {: >10.5f} {: >10.5f} {: >10.5f} {: >10.5f} {: >11.5f}\".format(k, x1, f(x1), aproximacion, diff, x2)\n",
      "\n",
      "        diff = abs(x2 - x1)\n",
      "        \n",
      "        x0 = x1\n",
      "        x1 = x2\n",
      "        \n",
      "    if k > stop:\n",
      "        print \"El m\u00e9todo de la secante no convergi\u00f3: para la tolerancia especificada, se alcanzaron el m\u00e1ximo n\u00famero de iteraciones\"\n",
      "    \n",
      "    print \"\\n\\nLa ra\u00edz es %2.12f\" % x0"
     ],
     "language": "python",
     "metadata": {},
     "outputs": [],
     "prompt_number": 126
    },
    {
     "cell_type": "code",
     "collapsed": false,
     "input": [
      "secante(f, 70, 69, 10e-8, 10)"
     ],
     "language": "python",
     "metadata": {},
     "outputs": [
      {
       "output_type": "stream",
       "stream": "stdout",
       "text": [
        "    k      x1         f(x1) Aproximaci\u00f3n  abs(x1-x0)    x2\n",
        "    1   70.00000   -2.78106    0.07071    1.00000   109.33240\n",
        "    2  109.33240   -0.89816    0.04787   39.33240   128.09442\n",
        "    3  128.09442   -0.36318    0.02851   18.76201   140.83103\n",
        "    4  140.83103   -0.07313    0.02277   12.73662   144.04219\n",
        "    5  144.04219   -0.00730    0.02050    3.21115   144.39855\n",
        "    6  144.39855   -0.00016    0.02004    0.35636   144.40668\n",
        "    7  144.40668   -0.00000    0.02000    0.00813   144.40669\n",
        "    8  144.40669   -0.00000    0.01999    0.00002   144.40669\n",
        "\n",
        "\n",
        "La ra\u00edz es 144.406693959944\n"
       ]
      }
     ],
     "prompt_number": 127
    },
    {
     "cell_type": "markdown",
     "metadata": {},
     "source": [
      "`Secante modificado`."
     ]
    },
    {
     "cell_type": "code",
     "collapsed": false,
     "input": [
      "def secante_modificado(f, x0, delta, tolerancia, stop):\n",
      "    \n",
      "    # Inicializamos el contador\n",
      "    \n",
      "    k = 0\n",
      "    \n",
      "    # Inicializamos abs(x1-x0) en un n\u00famero mayor que la tolerancia\n",
      "    \n",
      "    diff = 1\n",
      "    print \"{: >5} {: >7} {: >13} {: >10} {: >11} {: >5}\".format(\"k\", \"x1\", \"f(x1)\", \"Aproximaci\u00f3n\", \"abs(x1-x0)\", \"x2\")\n",
      "    \n",
      "    while diff >= tolerancia and k <= stop:\n",
      "        \n",
      "        # Calculamos la aproximaci\u00f3n\n",
      "        \n",
      "        aproximacion=(f(x0+delta*x0)-f(x0))/(delta*x0)\n",
      "        \n",
      "        k = k + 1\n",
      "\n",
      "        x1 = x0 - (float(f(x0)/aproximacion))\n",
      "                   \n",
      "        print \"{: >5} {: >10.5f} {: >10.5f} {: >10.5f} {: >10.5f} {: >11.5f}\".format(k, x0, f(x0), aproximacion, diff, x1)\n",
      "\n",
      "        diff = abs(x0 - x1)\n",
      "        \n",
      "        x0 = x1\n",
      "        \n",
      "    if k > stop:\n",
      "        print \"El m\u00e9todo de la secante no convergi\u00f3: para la tolerancia especificada, se alcanzaron el m\u00e1ximo n\u00famero de iteraciones\"\n",
      "    \n",
      "    print \"\\n\\nLa ra\u00edz es %2.12f\" % x0"
     ],
     "language": "python",
     "metadata": {},
     "outputs": [],
     "prompt_number": 129
    },
    {
     "cell_type": "code",
     "collapsed": false,
     "input": [
      "secante(f, 70, 10e-6, 10e-8, 15)"
     ],
     "language": "python",
     "metadata": {},
     "outputs": [
      {
       "output_type": "stream",
       "stream": "stdout",
       "text": [
        "    k      x1         f(x1) Aproximaci\u00f3n  abs(x1-x0)    x2\n",
        "    1   70.00000   -2.78106    0.47427    1.00000    75.86384\n",
        "    2   75.86384   -2.39759    0.06540    5.86384   112.52597\n",
        "    3  112.52597   -0.79604    0.04368   36.66213   130.74856\n",
        "    4  130.74856   -0.29857    0.02730   18.22260   141.68544\n",
        "    5  141.68544   -0.05535    0.02224   10.93688   144.17442\n",
        "    6  144.17442   -0.00465    0.02037    2.48898   144.40274\n",
        "    7  144.40274   -0.00008    0.02002    0.22832   144.40669\n",
        "    8  144.40669   -0.00000    0.01999    0.00394   144.40669\n",
        "    9  144.40669   -0.00000    0.01999    0.00001   144.40669\n",
        "\n",
        "\n",
        "La ra\u00edz es 144.406693960746\n"
       ]
      }
     ],
     "prompt_number": 131
    },
    {
     "cell_type": "code",
     "collapsed": false,
     "input": [],
     "language": "python",
     "metadata": {},
     "outputs": []
    }
   ],
   "metadata": {}
  }
 ]
}