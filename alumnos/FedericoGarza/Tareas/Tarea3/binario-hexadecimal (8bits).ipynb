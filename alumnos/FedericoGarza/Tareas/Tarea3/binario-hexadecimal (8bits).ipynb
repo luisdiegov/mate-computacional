{
 "metadata": {
  "name": "",
  "signature": "sha256:0f04357957232e47fbf694aaafe2e97e2b582a7d6cb462e81883d483923bd309"
 },
 "nbformat": 3,
 "nbformat_minor": 0,
 "worksheets": [
  {
   "cells": [
    {
     "cell_type": "code",
     "collapsed": false,
     "input": [
      "def binaryToHex(binario0):\n",
      "    #Funci\u00f3n que recibe un binario y entrega un hexadecimal\n",
      "    binario={'0000':'0' , '0001':'1' , '0010':'2' , '0011':'3' , '0100':'4' , '0101':'5' , '0110':'6' , '0111':'7' , '1000':'8' , \n",
      "             '1001':'9' , '1010':'A' , '1011':'B' , '1100':'C' , '1101':'D' , '1110':'E' , '1111':'F'}\n",
      "    binario1=\"\"\n",
      "    binario2=\"\"\n",
      "    if len(binario0)==4:\n",
      "        for i in range(0,4):\n",
      "            binario1+=binario0[i]\n",
      "        hexadecimal=binario[binario1]\n",
      "    elif len(binario0)==8:\n",
      "        for i in range(0,4):\n",
      "            binario1+=binario0[i]\n",
      "        for i in range(4,8):\n",
      "            binario2+=binario0[i]\n",
      "        hexadecimal=binario[binario1]+binario[binario2]\n",
      "    return hexadecimal"
     ],
     "language": "python",
     "metadata": {},
     "outputs": [],
     "prompt_number": 20
    },
    {
     "cell_type": "code",
     "collapsed": false,
     "input": [
      "binaryToHex('00001111')"
     ],
     "language": "python",
     "metadata": {},
     "outputs": [
      {
       "metadata": {},
       "output_type": "pyout",
       "prompt_number": 21,
       "text": [
        "'0F'"
       ]
      }
     ],
     "prompt_number": 21
    },
    {
     "cell_type": "code",
     "collapsed": false,
     "input": [
      "def hexToBinary(hexa0):\n",
      "    hexa={'0':'0000' , '1':'0001' , '2':'0011' , '3':'0011' , '4':'0100' , '5':'0101' , '6':'0110' , '7':'0111' , '8':'1000' , \n",
      "             '9':'1001' , 'A':'1010' , 'B':'1011' , 'C':'1100' , 'D':'1101' , 'E':'1110' , 'F':'1111'}\n",
      "    if len(hexa0)==1:\n",
      "        binario=hexa[hexa0[0]]\n",
      "    elif len(hexa0)==2:\n",
      "        binario=hexa[hexa0[0]]+hexa[hexa0[1]]\n",
      "    return binario\n",
      "    "
     ],
     "language": "python",
     "metadata": {},
     "outputs": [],
     "prompt_number": 29
    },
    {
     "cell_type": "code",
     "collapsed": false,
     "input": [
      "hexToBinary('0F')"
     ],
     "language": "python",
     "metadata": {},
     "outputs": [
      {
       "metadata": {},
       "output_type": "pyout",
       "prompt_number": 30,
       "text": [
        "'00001111'"
       ]
      }
     ],
     "prompt_number": 30
    },
    {
     "cell_type": "code",
     "collapsed": false,
     "input": [],
     "language": "python",
     "metadata": {},
     "outputs": []
    }
   ],
   "metadata": {}
  }
 ]
}