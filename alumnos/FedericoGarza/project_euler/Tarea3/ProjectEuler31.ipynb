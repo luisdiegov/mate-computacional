{
 "metadata": {
  "name": "",
  "signature": "sha256:812ed5691eef878f52a036b061de81dcb197957f8f3ebe8830cda08ac3541486"
 },
 "nbformat": 3,
 "nbformat_minor": 0,
 "worksheets": [
  {
   "cells": [
    {
     "cell_type": "heading",
     "level": 1,
     "metadata": {},
     "source": [
      "Coin sums"
     ]
    },
    {
     "cell_type": "heading",
     "level": 2,
     "metadata": {},
     "source": [
      "Problema 31"
     ]
    },
    {
     "cell_type": "markdown",
     "metadata": {},
     "source": [
      "El problema nos pide calcular las combinaciones de monedas de 1p, 2p, 5p, 10p, 20p, 50p, 100p y 200p para formar la cantidad de 200p, sin restricci\u00f3n del n\u00famero de monedas.\n",
      "\n",
      "Si denotamos $a_{i}$ para $i=1,...,8$ como el n\u00famero de monedas de valor 1p, 2p, 5p, 10p, 20p, 50p, 100p y 200p respectivamente, debemos encontrar todas las soluciones enteras de la ecuaci\u00f3n:\n",
      "\n",
      "\\begin{equation*}\n",
      "a_{1}+2a_{2}+5a_{3}+10a_{4}+20a_{5}+50a_{6}+100a_{7}+200a_{8}=200\n",
      "\\end{equation*}\n",
      "\n",
      "Podemos aproximar *intervalos adecuados* para cada $a_{i}$ de donde obtendremos los rangos para combinar los valores y ver si cumplen nuestra ecuaci\u00f3n. Si fijamos $a_{i_{0}}$ con $1\\le i_{0}\\le8$ tal que los dem\u00e1s valores $a_{j}=0$ con $i_{0}\\not=j$ tenemos las siguientes *cotas*:\n",
      "\n",
      "\\begin{equation*}\n",
      "a_{1}\\le200  \\wedge  a_{2}\\le100  \\wedge  a_{3}\\le40  \\wedge  a_{4}\\le20  \\wedge  a_{5}\\le10  \\wedge a_{6}\\le4  \\wedge a_{7}\\le2  \\wedge  a_{8}\\le1\n",
      "\\end{equation*}\n",
      "\n",
      "Ahora, cada vez que usamos una moneda, la cantidad a la que debemos llegar es distinta; en particular $200-a_{i}$. As\u00ed, en la medida que usamos monedas los *rangos* van *acort\u00e1ndose*. Por ejemplo si $a_{1}=6$, ahora $a_{2}\\le97$. As\u00ed, se usar\u00e1 una variable *valorAcotado* que indique a qu\u00e9 nuevo n\u00famero se debe llegar. Obs\u00e9rvese que las varibales $a_{i}$ al implementarse el c\u00f3digo aumentar\u00e1n dentro de su *rango* de forma distinta; as\u00ed por ejemplo $a_{4}$ ir\u00e1 de $0$ a su *valorAcotado* ($+1$ por ser python) en intervalos de 10 pues cada $a_{4}$ vale en efecto 10.\n",
      "\n",
      "El c\u00f3digo entonces queda de la siguiente forma.\n"
     ]
    },
    {
     "cell_type": "code",
     "collapsed": false,
     "input": [
      "valorAcotado=0\n",
      "combinaciones=0\n",
      "for a1 in range(0,201):\n",
      "    valorAcotado=200-a1\n",
      "    for a2 in range(0, valorAcotado+1,2): #Aqu\u00ed se observa c\u00f3mo a2 aumenta en 2 por el valor que tiene.\n",
      "        valorAcotado=200-a1-a2\n",
      "        for a3 in range(0, valorAcotado+1,5):\n",
      "            valorAcotado=200-a1-a2-a3\n",
      "            for a4 in range(0, valorAcotado+1,10):\n",
      "                valorAcotado=200-a1-a2-a3-a4\n",
      "                for a5 in range(0,valorAcotado+1,20):\n",
      "                    valorAcotado=200-a1-a2-a3-a4-a5\n",
      "                    for a6 in range(0,valorAcotado+1,50):\n",
      "                        valorAcotado=200-a1-a2-a3-a4-a5-a6\n",
      "                        for a7 in range(0,valorAcotado+1,100):\n",
      "                            valorAcotado=200-a1-a2-a3-a4-a5-a6-a7\n",
      "                            for a8 in range(0,valorAcotado+1,200):\n",
      "                                if a1+a2+a3+a4+a5+a6+a7+a8==200: #La suma de todos los valores debe ser 200 n\u00f3tese que aqu\u00ed nuestra\n",
      "                                   combinaciones+=1              #ecuaci\u00f3n inicial cambia: ahora todos sus coeficientes son 1.\n",
      "                                                                 #Esto es porque consideramos el valor de cada moneda en su rango.\n",
      "print combinaciones"
     ],
     "language": "python",
     "metadata": {},
     "outputs": [
      {
       "output_type": "stream",
       "stream": "stdout",
       "text": [
        "73682\n"
       ]
      }
     ],
     "prompt_number": 23
    },
    {
     "cell_type": "markdown",
     "metadata": {},
     "source": [
      "**Observaciones finales:**\n",
      "\n",
      "- Me parece que el c\u00f3digo es lento.\n",
      "- Tengo una man\u00eda con los *fors*. Creo que se solucionar\u00e1 con *programaci\u00f3n din\u00e1mica*.\n",
      "\n",
      "**Esto es todo.**"
     ]
    }
   ],
   "metadata": {}
  }
 ]
}