{
 "metadata": {
  "name": "",
  "signature": "sha256:485b61ae4b9cd95d41e019033ed2aad410a8f3fa8e24e725c19588467e1b3d60"
 },
 "nbformat": 3,
 "nbformat_minor": 0,
 "worksheets": [
  {
   "cells": [
    {
     "cell_type": "heading",
     "level": 1,
     "metadata": {},
     "source": [
      "Terna pitag\u00f3rica especial"
     ]
    },
    {
     "cell_type": "heading",
     "level": 2,
     "metadata": {},
     "source": [
      "Problema 9"
     ]
    },
    {
     "cell_type": "markdown",
     "metadata": {},
     "source": [
      "Este problema es muy espec\u00edfico. Debemos encontrar  el producto de la terna pitag\u00f3rica *a*, *b*, *c*, *a<b<c*, que satisface *a+b+c=1000* **(1)**. Se observa que la terna que satisface **(1)** es \u00fanica."
     ]
    },
    {
     "cell_type": "markdown",
     "metadata": {},
     "source": [
      "Comencemos listando todos los n\u00fameros naturales *a*, *b*, *c*, que cumplen *a<b<c* y *a+b+c=1000*. Para lo cual checamos todas las posibles combinaciones del siguiente modo: en principio fijamos *a*; para esa *a* fijamos *b=a+1*; finalmente comenzamos en *c=b+1*, checamos si cumple la condici\u00f3n y aumentamos *c* en 1 hasta un l\u00edmite razonable, en este caso podemos usar 1000 (entonces nuestro l\u00edmite del 'range' es 1001) pues queremos que *a+b+c=1000*. Posteriormente, hacemos lo anterior para cada a entre 1 y 1001. Guardamos en una lista las ternas que cumplen la condici\u00f3n. El c\u00f3digo es entonces:"
     ]
    },
    {
     "cell_type": "code",
     "collapsed": false,
     "input": [
      "ternas=[]\n",
      "for a in range(1,1001):\n",
      "    for b in range(a+1,1001):\n",
      "        for c in range(b+1,1001):\n",
      "            if a+b+c==1000:\n",
      "                ternas.append([a,b,c])\n",
      "            "
     ],
     "language": "python",
     "metadata": {},
     "outputs": []
    },
    {
     "cell_type": "markdown",
     "metadata": {},
     "source": [
      "Una vez hecho esto, tenemos todas las ternas que cumplen con la condici\u00f3n *a+b+c=1000*. Luego s\u00f3lo falta agregar la condici\u00f3n *a\u00b2+b\u00b2=c\u00b2*. Esto podemos hacerlo fij\u00e1ndonos en cada elemento de la lista *ternas* o simplemente agregando la condici\u00f3n en el \u00faltimo 'if' e imprimiendo el producto. De esta \u00faltima manera:"
     ]
    },
    {
     "cell_type": "code",
     "collapsed": false,
     "input": [
      "ternas=[]\n",
      "for a in range(1,1001):\n",
      "    for b in range(a+1,1001):\n",
      "        for c in range(b+1,1001):\n",
      "            if a+b+c==1000 and a*a+b*b==c*c:\n",
      "                print a*b*c"
     ],
     "language": "python",
     "metadata": {},
     "outputs": []
    },
    {
     "cell_type": "markdown",
     "metadata": {},
     "source": [
      "Observamos que el c\u00f3digo tarda *bastante* en dar el resultado.\n",
      "**Esto es todo.**"
     ]
    }
   ],
   "metadata": {}
  }
 ]
}