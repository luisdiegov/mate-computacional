{
 "metadata": {
  "name": "",
  "signature": "sha256:61a56ecf54b76a197df10e9a63d3686a1dcefc2cb87f50bf16d916b6f3c85ee5"
 },
 "nbformat": 3,
 "nbformat_minor": 0,
 "worksheets": [
  {
   "cells": [
    {
     "cell_type": "heading",
     "level": 1,
     "metadata": {},
     "source": [
      "Sum square difference"
     ]
    },
    {
     "cell_type": "heading",
     "level": 2,
     "metadata": {},
     "source": [
      "Problema 6"
     ]
    },
    {
     "cell_type": "markdown",
     "metadata": {},
     "source": [
      "El problema nos solicita calcular la diferencia entre la suma de los cuadrados de los primeros 100 n\u00fameros naturales y la suma al cuadrado de estos.\n",
      "Usar\u00e9 tres variables, *suma*, *cuadradoDeSuma*, *sumaDeCuadrados*. En un *range* de 1 a 101 (es decir, los primeros 100 n\u00fameros naturales), *suma* guardar\u00e1 la suma de todos los elementos mientras que para cada elemento, se calcular\u00e1 su cuadrado y se adhir\u00e1 a *sumaDeCuadrados*; finalmente *cuadradoDeSuma* se obtendr\u00e1 al elevar al cuadrado *suma*. La respuesta finalmente se obtiene de restar *sumaDeCuadrados* a *cuadradoDeSuma*.\n",
      "\n",
      "El c\u00f3digo entonces queda de la siguiente forma:"
     ]
    },
    {
     "cell_type": "code",
     "collapsed": false,
     "input": [
      "suma=0\n",
      "cuadradoDeSuma=0\n",
      "sumaDeCuadrados=0\n",
      "for i in range(1,101):\n",
      "    sumaDeCuadrados+=i**2\n",
      "    suma+=i\n",
      "cuadradoDeSuma=suma**2\n",
      "print cuadradoDeSuma-sumaDeCuadrados\n"
     ],
     "language": "python",
     "metadata": {},
     "outputs": [
      {
       "output_type": "stream",
       "stream": "stdout",
       "text": [
        "25164150\n"
       ]
      }
     ],
     "prompt_number": 1
    },
    {
     "cell_type": "markdown",
     "metadata": {},
     "source": [
      "**Esto es todo.**"
     ]
    }
   ],
   "metadata": {}
  }
 ]
}