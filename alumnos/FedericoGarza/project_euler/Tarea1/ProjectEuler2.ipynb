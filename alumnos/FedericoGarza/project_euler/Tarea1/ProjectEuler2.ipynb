{
 "metadata": {
  "name": "",
  "signature": "sha256:b49176412e84127068f9dbd99114b54a978aa4ce5852e963f1be9cee5a3afd50"
 },
 "nbformat": 3,
 "nbformat_minor": 0,
 "worksheets": [
  {
   "cells": [
    {
     "cell_type": "heading",
     "level": 1,
     "metadata": {},
     "source": [
      "N\u00fameros de Fibonacci pares"
     ]
    },
    {
     "cell_type": "heading",
     "level": 2,
     "metadata": {},
     "source": [
      "Problema 2"
     ]
    },
    {
     "cell_type": "markdown",
     "metadata": {},
     "source": [
      "Debemos encontrar la suma de los n\u00fameros pares de la sucesi\u00f3n de fibonacci que no exceden los 4 millones. Seguir\u00e9 la siguiente estrategia:\n",
      "\n",
      "- Encontrar\u00e9 un algoritmo para obtener la sucesi\u00f3n de Fibonacci.\n",
      "- Para cada elemento de la sucesi\u00f3n, ver\u00e9 si es par, en cuyo caso deber\u00e1 sumarse al total."
     ]
    },
    {
     "cell_type": "markdown",
     "metadata": {},
     "source": [
      "Para la primer parte, definir\u00e9 tres variables: *fibo1*, *fibo2* y *fibo3*. *fibo1* y *fibo2* ser\u00e1n los sumandos del n\u00famero de Fibonacci siguiente, el cual ser\u00e1 guardado en *fibo3*. Obs\u00e9rvese que el problema supone que la sucesi\u00f3n comienza con 1 y 2; es decir, *fibo1=1* y *fibo2=2*. Una vez obtenido el tercer n\u00famero de Fibonacci mediante *fibo1+fibo2*, es necesario hacer un reasignamiento de varibales para encontrar el cuarto y as\u00ed sucesivamente. Se dejar\u00e1 de obtener el siguiente n\u00famero de Fibonacci hasta que *fibo1+fibo2* sea menor o igual a 4 millones, tal como lo indica el problema.\n",
      "\n",
      "El c\u00f3digo entonces queda as\u00ed:"
     ]
    },
    {
     "cell_type": "code",
     "collapsed": false,
     "input": [
      "fibo1=1\n",
      "fibo2=2\n",
      "fibo3=0\n",
      "print fibo1\n",
      "print fibo2\n",
      "while fibo1+fibo2<=4000000:\n",
      "    fibo3=fibo2+fibo1\n",
      "    print fibo3\n",
      "    fibo1=fibo2\n",
      "    fibo2=fibo3\n",
      "    "
     ],
     "language": "python",
     "metadata": {},
     "outputs": [
      {
       "output_type": "stream",
       "stream": "stdout",
       "text": [
        "1\n",
        "2\n",
        "3\n",
        "5\n",
        "8\n",
        "13\n",
        "21\n",
        "34\n",
        "55\n",
        "89\n",
        "144\n",
        "233\n",
        "377\n",
        "610\n",
        "987\n",
        "1597\n",
        "2584\n",
        "4181\n",
        "6765\n",
        "10946\n",
        "17711\n",
        "28657\n",
        "46368\n",
        "75025\n",
        "121393\n",
        "196418\n",
        "317811\n",
        "514229\n",
        "832040\n",
        "1346269\n",
        "2178309\n",
        "3524578\n"
       ]
      }
     ],
     "prompt_number": 1
    },
    {
     "cell_type": "markdown",
     "metadata": {},
     "source": [
      "Ahora queda determinar cu\u00e1les de estos n\u00famero son pares; en cuyo caso deber\u00e1n sumarse: definir\u00e9 la variable *suma* para este prop\u00f3sito. Obs\u00e9rvese que podemos inicializar *suma* con *fibo2=2* pues es el primer n\u00famero par de Fibonacci. Luego, determinamos la paridad de *fibo3*, el siguiente n\u00famero de Fibonacci: si es par, lo sumamos. \n",
      "\n",
      "Entonces, el c\u00f3digo queda de la siguiente forma:"
     ]
    },
    {
     "cell_type": "code",
     "collapsed": false,
     "input": [
      "fibo1=1\n",
      "fibo2=2\n",
      "fibo3=0\n",
      "suma=fibo2\n",
      "while fibo1+fibo2<=4000000:\n",
      "    fibo3=fibo2+fibo1\n",
      "    if fibo3%2==0:\n",
      "        suma=suma+fibo3\n",
      "    fibo1=fibo2\n",
      "    fibo2=fibo3\n",
      "print suma"
     ],
     "language": "python",
     "metadata": {},
     "outputs": [
      {
       "output_type": "stream",
       "stream": "stdout",
       "text": [
        "4613732\n"
       ]
      }
     ],
     "prompt_number": 2
    },
    {
     "cell_type": "markdown",
     "metadata": {},
     "source": [
      "**Esto es todo.**"
     ]
    }
   ],
   "metadata": {}
  }
 ]
}