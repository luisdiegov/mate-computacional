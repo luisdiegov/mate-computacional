{
 "metadata": {
  "name": "",
  "signature": "sha256:da20ac8e6937d9d756d9dbe6563d0466e1706fb8c582c9b61b57c853f4a6893d"
 },
 "nbformat": 3,
 "nbformat_minor": 0,
 "worksheets": [
  {
   "cells": [
    {
     "cell_type": "heading",
     "level": 1,
     "metadata": {},
     "source": [
      "M\u00faltiplos de tres y cinco"
     ]
    },
    {
     "cell_type": "heading",
     "level": 2,
     "metadata": {},
     "source": [
      "Problema 1"
     ]
    },
    {
     "cell_type": "markdown",
     "metadata": {},
     "source": [
      "El problema nos pide calcular la suma de los m\u00faltiplos de 3 y 5 menores a 1000. La estrategia que seguir\u00e9 es la siguiente:\n",
      "\n",
      "- Utilizar\u00e9 dos variables; una que recorra todos los n\u00fameros del 1 hasta el 1000 y otra que registre la suma de los m\u00faltiplos.\n",
      "- Para encontrar los m\u00faltiplos calcula\u0155e el m\u00f3dulo 3 y 5 de todos los n\u00fameros del 1 hasta el 1000: si el resultado es 0, son m\u00faltiplos de 3 o 5 y deber\u00e1n sumarse.\n",
      "\n",
      "**Nota**: supongo que menores a 1000 significa *estrictamente* menores; es decir, no considero el caso de 1000."
     ]
    },
    {
     "cell_type": "code",
     "collapsed": false,
     "input": [
      "suma=0\n",
      "for i in range(1,1000):\n",
      "    if i%3==0 or i%5==0:\n",
      "        suma=suma+i\n",
      "print suma"
     ],
     "language": "python",
     "metadata": {},
     "outputs": [
      {
       "output_type": "stream",
       "stream": "stdout",
       "text": [
        "233168\n"
       ]
      }
     ],
     "prompt_number": 2
    },
    {
     "cell_type": "markdown",
     "metadata": {},
     "source": [
      "**Observaci\u00f3n(1)**: la funci\u00f3n rango est\u00e1 bien empleada pues s\u00f3lo considera los n\u00fameros enteros del 1 hasta el 999, como hab\u00eda supuesto en **Nota**.\n"
     ]
    },
    {
     "cell_type": "markdown",
     "metadata": {},
     "source": [
      "**Observaci\u00f3n(2)**: es sencillo generalizar el ejercicio con una funci\u00f3n para que el usuario en lugar de 1000 inserte cualquier otro n\u00famero; utilizar\u00e9, adem\u00e1s, un m\u00e9todo interactiv0 para estudiar c\u00f3mo var\u00eda la suma. Consid\u00e9rese, asimismo, el supuesto de **Nota**."
     ]
    },
    {
     "cell_type": "code",
     "collapsed": false,
     "input": [
      "from IPython.html.widgets import interact, fixed\n",
      "from IPython.html import widgets"
     ],
     "language": "python",
     "metadata": {},
     "outputs": [],
     "prompt_number": 3
    },
    {
     "cell_type": "code",
     "collapsed": false,
     "input": [
      "def multTresCinco(a):\n",
      "    suma=0\n",
      "    for i in range(1,a):\n",
      "        if i%3==0 or i%5==0:\n",
      "            suma=suma+i\n",
      "    print suma"
     ],
     "language": "python",
     "metadata": {},
     "outputs": [],
     "prompt_number": 4
    },
    {
     "cell_type": "code",
     "collapsed": false,
     "input": [
      "interact(multTresCinco,a=1000)"
     ],
     "language": "python",
     "metadata": {},
     "outputs": [
      {
       "output_type": "stream",
       "stream": "stdout",
       "text": [
        "233168\n"
       ]
      },
      {
       "metadata": {},
       "output_type": "pyout",
       "prompt_number": 5,
       "text": [
        "<function __main__.multTresCinco>"
       ]
      }
     ],
     "prompt_number": 5
    },
    {
     "cell_type": "markdown",
     "metadata": {},
     "source": [
      "**Esto es todo.**"
     ]
    }
   ],
   "metadata": {}
  }
 ]
}