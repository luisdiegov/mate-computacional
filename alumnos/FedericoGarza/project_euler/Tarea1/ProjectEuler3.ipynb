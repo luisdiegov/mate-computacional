{
 "metadata": {
  "name": "",
  "signature": "sha256:cfe9e69c37666f0630afdad3d763d3f025fa83e594f1e5d87a463fe4d9a33648"
 },
 "nbformat": 3,
 "nbformat_minor": 0,
 "worksheets": [
  {
   "cells": [
    {
     "cell_type": "heading",
     "level": 1,
     "metadata": {},
     "source": [
      "El factor primo m\u00e1s grande"
     ]
    },
    {
     "cell_type": "heading",
     "level": 2,
     "metadata": {},
     "source": [
      "Problema 3"
     ]
    },
    {
     "cell_type": "markdown",
     "metadata": {},
     "source": [
      "Para este problema debemos encontrar el factor primo m\u00e1s grande de un n\u00famero dado: 600851475143. Utilizar\u00e9 este m\u00e9todo:\n",
      "\n",
      "- Buscar\u00e9 un algoritmo para encontrar los factores primos de un n\u00famero, del m\u00e1s peque\u00f1o al m\u00e1s grande.\n",
      "- El \u00faltimo factor primo encontrado ser\u00e1 pues el m\u00e1s grande."
     ]
    },
    {
     "cell_type": "markdown",
     "metadata": {},
     "source": [
      "Para encontrar los factores primos del n\u00famero defini\u0155e una variable *factor* que inicializar\u00e9 en 2 (el menor n\u00famero primo distinto de 1); adem\u00e1s incluir\u00e9 *numero* inicializada en el n\u00famero dado. Luego, dividir\u00e9 *numero* entre *factor*; si el residuo de la divisi\u00f3n es cero, entonces *factor* es un factor de nuestro n\u00famero. Posteriormente, redefinir\u00e9 *numero* como *numero/factor*; este nuevo n\u00famero volver\u00e1 a ser divido por *factor* (pues un factor primo de un n\u00famero puede ser m\u00faltiple) **(1)**. Nuevamente si el residuo es 0, se reasigna *numero*. El proceso contin\u00faa hasta que el residuo resulte distinto de cero. En este caso, *factor* se incrementa en uno y se repite la prueba antes se\u00f1alada. N\u00f3tese que estamos exentos del problema de que alg\u00fan m\u00faltiplo de un n\u00famero primo sea considerado como factor pues agotamos toda la multiplicidad posible con **(1)**. \n",
      "\n",
      "El c\u00f3digo entoces queda:"
     ]
    },
    {
     "cell_type": "code",
     "collapsed": false,
     "input": [
      "factor=2\n",
      "numero=600851475143\n",
      "while numero!=1:\n",
      "    if numero%factor==0:\n",
      "        print factor\n",
      "        numero=numero/factor\n",
      "    else:\n",
      "        factor+=1"
     ],
     "language": "python",
     "metadata": {},
     "outputs": [
      {
       "output_type": "stream",
       "stream": "stdout",
       "text": [
        "71\n",
        "839\n",
        "1471\n",
        "6857\n"
       ]
      }
     ],
     "prompt_number": 11
    },
    {
     "cell_type": "markdown",
     "metadata": {},
     "source": [
      "O si se prefiere, \u00fanicamente imprimiendo el \u00faltimo factor:"
     ]
    },
    {
     "cell_type": "code",
     "collapsed": false,
     "input": [
      "factor=2\n",
      "numero=600851475143\n",
      "while numero!=1:\n",
      "    if numero%factor==0:\n",
      "        numero=numero/factor\n",
      "    else:\n",
      "        factor+=1\n",
      "print factor"
     ],
     "language": "python",
     "metadata": {},
     "outputs": [
      {
       "output_type": "stream",
       "stream": "stdout",
       "text": [
        "6857\n"
       ]
      }
     ],
     "prompt_number": 12
    },
    {
     "cell_type": "markdown",
     "metadata": {},
     "source": [
      "**Esto es todo.**"
     ]
    }
   ],
   "metadata": {}
  }
 ]
}