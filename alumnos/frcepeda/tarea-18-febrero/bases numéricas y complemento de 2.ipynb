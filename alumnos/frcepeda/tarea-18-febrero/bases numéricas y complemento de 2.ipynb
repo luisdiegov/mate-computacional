{
 "metadata": {
  "name": "",
  "signature": "sha256:2515a9baf6c104b1c707adc1157e29731121daa4a700a3b55912b2cbcd46204f"
 },
 "nbformat": 3,
 "nbformat_minor": 0,
 "worksheets": [
  {
   "cells": [
    {
     "cell_type": "code",
     "collapsed": false,
     "input": [
      "import random"
     ],
     "language": "python",
     "metadata": {},
     "outputs": [],
     "prompt_number": 112
    },
    {
     "cell_type": "code",
     "collapsed": true,
     "input": [
      "def pad(bs, m):\n",
      "    \"\"\"pad with 0s to have len(bs) % m == 0\"\"\"\n",
      "    \n",
      "    return ('0' * ((m - len(bs) % m) % m)) + bs\n",
      "\n",
      "def toHex(bs):\n",
      "    \"\"\"Takes up to 4 bits and returns their hex representation\"\"\"\n",
      "    \n",
      "    i = binaryToInt(bs)\n",
      "    \n",
      "    if 0 <= i < 10:\n",
      "        return chr(ord('0') + i)\n",
      "    elif 10 <= i < 16:\n",
      "        return chr(ord('A') + i - 10)\n",
      "    else:\n",
      "        assert False, \"Error: toHex called with an invalid argument\"\n",
      "\n",
      "def toBin(h):\n",
      "    \"\"\"Takes one hex digit and returns exactly 4 binary digits.\"\"\"\n",
      "    \n",
      "    if '0' <= h <= '9':\n",
      "        return intToBinary(ord(h) - ord('0'), 8)[-4:]\n",
      "    elif 'A' <= h <= 'F':\n",
      "        return intToBinary(ord(h) - ord('A') + 10, 8)[-4:]\n",
      "    else:\n",
      "        assert False, \"Error: toBin called with an invalid argument\"\n",
      "\n",
      "def intToBinary(n, p):\n",
      "    \"\"\"Write n using exactly p bits\"\"\"\n",
      "    \n",
      "    assert p % 8 == 0, \"intToBinary: seriously? you want %i bits?\" % p\n",
      "    assert -2**(p-1) <= n < 2**(p-1), \"intToBinary: overflow\"\n",
      "    \n",
      "    # not-so-dirty trick to handle negative integers\n",
      "    n = (n + 2**p) % 2**p\n",
      "    b = \"\"\n",
      "    \n",
      "    for i in range(p):\n",
      "        b = chr(ord('0') + n % 2) + b\n",
      "        n /= 2\n",
      "    \n",
      "    return b\n",
      "\n",
      "def binaryToInt(bs):\n",
      "    \"\"\"Takes a binary string and returns it as an int. It assumes\n",
      "    two's complement notation is being used.\"\"\"\n",
      "    bs = pad(bs, 8)\n",
      "    \n",
      "    r = 0\n",
      "    for b in bs[1:]:\n",
      "        r = (r * 2) + ord(b) - ord('0')\n",
      "        \n",
      "    return r - (ord(bs[0]) - ord('0')) * 2**(len(bs)-1)\n",
      "\n",
      "def binaryToHex(bs):\n",
      "    \"\"\"Takes a binary string and returns it as a hex string.\"\"\"\n",
      "    \n",
      "    bs = pad(bs, 4)\n",
      "    h = \"\"\n",
      "    \n",
      "    for i in xrange(0, len(bs), 4):\n",
      "        h = h + toHex(bs[i:i+4])\n",
      "        \n",
      "    return h\n",
      "\n",
      "def hexToBinary(hs):\n",
      "    \"\"\"Takes a hex string and returns it as a binary string.\"\"\"\n",
      "    \n",
      "    b = \"\"\n",
      "    \n",
      "    for i in hs:\n",
      "        b = b + toBin(i)\n",
      "        \n",
      "    return b"
     ],
     "language": "python",
     "metadata": {},
     "outputs": [],
     "prompt_number": 170
    },
    {
     "cell_type": "code",
     "collapsed": true,
     "input": [
      "# A /really/ dumb test.\n",
      "\n",
      "for i in range(100):\n",
      "    n = random.randint(-2**31,2**31-1)\n",
      "    b = intToBinary(n, 32)\n",
      "    h = binaryToHex(b)\n",
      "    assert binaryToInt(b) == n, \"wat\"\n",
      "    assert hexToBinary(h) == b, \"wat\"\n",
      "\n",
      "print \"Tests passed!\""
     ],
     "language": "python",
     "metadata": {},
     "outputs": [
      {
       "output_type": "stream",
       "stream": "stdout",
       "text": [
        "Tests passed!\n"
       ]
      }
     ],
     "prompt_number": 172
    }
   ],
   "metadata": {}
  }
 ]
}