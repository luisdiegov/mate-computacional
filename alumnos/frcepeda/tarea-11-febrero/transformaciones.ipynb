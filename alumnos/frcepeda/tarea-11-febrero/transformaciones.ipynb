{
 "metadata": {
  "name": "",
  "signature": "sha256:a0a932ac76014d12fcf61cd41bffd436f86e3be42b92d8b70fef0bf4dc3bfad1"
 },
 "nbformat": 3,
 "nbformat_minor": 0,
 "worksheets": [
  {
   "cells": [
    {
     "cell_type": "code",
     "collapsed": false,
     "input": [
      "from math import *"
     ],
     "language": "python",
     "metadata": {},
     "outputs": [],
     "prompt_number": 37
    },
    {
     "cell_type": "code",
     "collapsed": true,
     "input": [
      "def cartesianToSpherical(x,y,z):\n",
      "    r = sqrt(x*x + y*y + z*z)\n",
      "    theta = atan2(sqrt(x*x + y*y), z)\n",
      "    phi = atan2(y, x)\n",
      "    return (r, theta, phi)"
     ],
     "language": "python",
     "metadata": {},
     "outputs": [],
     "prompt_number": 38
    },
    {
     "cell_type": "code",
     "collapsed": false,
     "input": [
      "from IPython.html.widgets import *\n",
      "from __future__ import print_function # why are we using Python 2 again?"
     ],
     "language": "python",
     "metadata": {},
     "outputs": [],
     "prompt_number": 39
    },
    {
     "cell_type": "code",
     "collapsed": false,
     "input": [
      "r = (-100,100,.1)\n",
      "interact(lambda x,y,z: print(cartesianToSpherical(x,y,z)), x = r, y = r, z = r)"
     ],
     "language": "python",
     "metadata": {},
     "outputs": [
      {
       "output_type": "stream",
       "stream": "stdout",
       "text": [
        "(92.75656311011097, 1.2922969442908974, -0.9647552445369947)\n"
       ]
      }
     ],
     "prompt_number": 47
    }
   ],
   "metadata": {}
  }
 ]
}