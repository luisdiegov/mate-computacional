{
 "metadata": {
  "name": "",
  "signature": "sha256:e60bca217c7e7d92121c2b1b86da49efdd8d4b6074126cc2a32f3e301ff76c34"
 },
 "nbformat": 3,
 "nbformat_minor": 0,
 "worksheets": [
  {
   "cells": [
    {
     "cell_type": "code",
     "collapsed": false,
     "input": [
      "from math import *"
     ],
     "language": "python",
     "metadata": {},
     "outputs": [],
     "prompt_number": 2
    },
    {
     "cell_type": "code",
     "collapsed": false,
     "input": [
      "g = 9.8\n",
      "c_d = .25\n",
      "t = 4\n",
      "f = lambda m: sqrt(g * m / c_d) * tanh(sqrt(g * c_d / m) * t) - 36"
     ],
     "language": "python",
     "metadata": {},
     "outputs": [],
     "prompt_number": 3
    },
    {
     "cell_type": "code",
     "collapsed": false,
     "input": [
      "secant = lambda f, a, b: (f(b) - f(a)) / (b - a)"
     ],
     "language": "python",
     "metadata": {},
     "outputs": [],
     "prompt_number": 4
    },
    {
     "cell_type": "code",
     "collapsed": false,
     "input": [
      "def secante(f, x0, x1, tolerancia, stop):\n",
      "    k = 0\n",
      "    \n",
      "    while k <= stop and abs(x1 - x0) >= tolerancia:\n",
      "        k = k + 1\n",
      "        x0, x1 = x1, x1 - f(x1)/secant(f,x0,x1)\n",
      "        \n",
      "    if k > stop:\n",
      "        print \"El m\u00e9todo de Newton con secantes no convergi\u00f3: para la tolerancia especificada, se alcanzaron el m\u00e1ximo n\u00famero de iteraciones\"\n",
      "        \n",
      "    print \"Error: \", abs(x1 - x0), \"\\tIterations:\", k\n",
      "    \n",
      "    return x1"
     ],
     "language": "python",
     "metadata": {},
     "outputs": [],
     "prompt_number": 5
    },
    {
     "cell_type": "code",
     "collapsed": false,
     "input": [
      "secante(f, 100.0, 100.5, 1e-6, 300)"
     ],
     "language": "python",
     "metadata": {},
     "outputs": [
      {
       "output_type": "stream",
       "stream": "stdout",
       "text": [
        "Error:  2.81801249002e-10 \tIterations: 7\n"
       ]
      },
      {
       "metadata": {},
       "output_type": "pyout",
       "prompt_number": 6,
       "text": [
        "144.40669396088805"
       ]
      }
     ],
     "prompt_number": 6
    },
    {
     "cell_type": "code",
     "collapsed": false,
     "input": [
      "delta = 1e-6\n",
      "\n",
      "def secante_modificado(f, x0, tolerancia, stop):\n",
      "    k = 0\n",
      "    x0, x1 = x0 + 2 * tolerancia, x0\n",
      "    \n",
      "    while k <= stop and abs(x1 - x0) >= tolerancia:\n",
      "        k = k + 1\n",
      "        x0, x1 = x1, x1 - f(x1) / secant(f, x0, x0 * delta)\n",
      "        \n",
      "    if k > stop:\n",
      "        print \"El m\u00e9todo de Newton con secantes no convergi\u00f3: para la tolerancia especificada, se alcanzaron el m\u00e1ximo n\u00famero de iteraciones\"\n",
      "    \n",
      "    print \"Error: \", abs(x1 - x0), \"\\tIterations:\", k\n",
      "    \n",
      "    return x1"
     ],
     "language": "python",
     "metadata": {},
     "outputs": [],
     "prompt_number": 7
    },
    {
     "cell_type": "code",
     "collapsed": false,
     "input": [
      "secante_modificado(f, 50, 10e-6, 300)"
     ],
     "language": "python",
     "metadata": {},
     "outputs": [
      {
       "output_type": "stream",
       "stream": "stdout",
       "text": [
        "Error:  9.8234781376e-06 \tIterations: 164\n"
       ]
      },
      {
       "metadata": {},
       "output_type": "pyout",
       "prompt_number": 8,
       "text": [
        "144.40658155832625"
       ]
      }
     ],
     "prompt_number": 8
    }
   ],
   "metadata": {}
  }
 ]
}