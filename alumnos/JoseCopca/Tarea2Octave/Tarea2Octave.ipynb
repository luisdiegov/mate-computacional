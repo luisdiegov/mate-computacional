{
 "metadata": {
  "name": "",
  "signature": "sha256:d8e2ad88882589c0826de9a8cc3d00013ab46baeace0bfa78e4f7d06baed636a"
 },
 "nbformat": 3,
 "nbformat_minor": 0,
 "worksheets": [
  {
   "cells": [
    {
     "cell_type": "markdown",
     "metadata": {},
     "source": [
      "$$ y = \\frac{1}{1+x^2} \\sin x^2 $$"
     ]
    },
    {
     "cell_type": "markdown",
     "metadata": {},
     "source": [
      "Voy a explicar lo que hace el codigo siguiente\n",
      "\n",
      "for k = 1:6\n",
      "  \n",
      "    x = linspace(0, 4*pi, 2^(k+1)+1);\n",
      "  \n",
      "      subplot(2,3,k), plot(x, cos(3*x)-2*sin(x))\n",
      "  \n",
      "      axis([0, 4*pi, -1.5, 1.5])\n",
      "\n",
      "end"
     ]
    },
    {
     "cell_type": "markdown",
     "metadata": {},
     "source": [
      "Es un \"for\" que repite el proceso 6 veces.\n",
      "La primera parte hace un vector x de tama\u00f1o 2^(k+1)+1) con valores desde 0 hasta 4(pi). Estos puntos son los que van a estar en la gr\u00e1fica. Como k aumenta por el for, la grafica cada vez va a tener m\u00e1s puntos y, por lo tanto, va a ser mas definida.\n",
      "El subplot, hace una especie de Matriz de graficas con 2 renglones y 3 columnas.\n",
      "El plot grafica la funcion cos(3*x)-2*sin(x)) con los puntos del vector x.\n",
      "El axis hace que el eje de las x vaya de 0 a 4(pi) y que el eje de las y vaya de '1.5 a 1.5\n"
     ]
    },
    {
     "cell_type": "markdown",
     "metadata": {},
     "source": [
      "Si cambiamos subplot(2,3,k) por subplot(3,2,k) las gr\u00e1ficas se acomodar\u00e1n en 3 renglones y 2 columnas. "
     ]
    },
    {
     "cell_type": "markdown",
     "metadata": {},
     "source": [
      "Si eliminamos la funci\u00f3n axis, los ejes de la grafica tendran un rango arbitrario.  "
     ]
    }
   ],
   "metadata": {}
  }
 ]
}