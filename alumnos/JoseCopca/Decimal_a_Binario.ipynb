{
 "metadata": {
  "name": "",
  "signature": "sha256:213ff2d80610bb15cba0d918ccfa9956915bebacb4057056c1ee18425538e382"
 },
 "nbformat": 3,
 "nbformat_minor": 0,
 "worksheets": [
  {
   "cells": [
    {
     "cell_type": "code",
     "collapsed": false,
     "input": [
      "%%file Decimal_binario.py\n",
      "def Decimal_a_Binario(n):\n",
      "    lista=[0, 0, 0, 0, 0, 0, 0, 0]\n",
      "    i=7\n",
      "    l=0\n",
      "    while(i>=0):\n",
      "        if n>=(2**(i)):\n",
      "            n=n-(2**(i))\n",
      "            i=i-1\n",
      "            lista[l]=1\n",
      "            l=l+1\n",
      "        else:\n",
      "            lista[l]=0\n",
      "            l=l+1\n",
      "            i=i-1\n",
      "    print lista\n"
     ],
     "language": "python",
     "metadata": {},
     "outputs": [
      {
       "output_type": "stream",
       "stream": "stdout",
       "text": [
        "Writing Decimal_binario.py\n"
       ]
      }
     ],
     "prompt_number": 1
    },
    {
     "cell_type": "code",
     "collapsed": false,
     "input": [
      "Decimal_a_Binario(1)"
     ],
     "language": "python",
     "metadata": {},
     "outputs": [
      {
       "output_type": "stream",
       "stream": "stdout",
       "text": [
        "[0, 0, 0, 0, 0, 0, 0, 1]\n"
       ]
      }
     ],
     "prompt_number": 91
    },
    {
     "cell_type": "code",
     "collapsed": false,
     "input": [],
     "language": "python",
     "metadata": {},
     "outputs": []
    }
   ],
   "metadata": {}
  }
 ]
}