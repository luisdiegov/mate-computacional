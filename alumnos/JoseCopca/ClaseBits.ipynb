{
 "metadata": {
  "name": "",
  "signature": "sha256:cb7671e3d1716121824d46104e255d9ee4524fac96b5a2e275d072cc3d3ba34b"
 },
 "nbformat": 3,
 "nbformat_minor": 0,
 "worksheets": [
  {
   "cells": [
    {
     "cell_type": "code",
     "collapsed": false,
     "input": [
      "def Decimal_a_Binario(n):\n",
      "    lista=[0, 0, 0, 0, 0, 0, 0, 0]\n",
      "    i=7\n",
      "    l=0\n",
      "    while(i>=0):\n",
      "        if n>=(2**(i)):\n",
      "            n=n-(2**(i))\n",
      "            i=i-1\n",
      "            lista[l]=1\n",
      "            l=l+1\n",
      "        else:\n",
      "            lista[l]=0\n",
      "            l=l+1\n",
      "            i=i-1\n",
      "    print lista\n"
     ],
     "language": "python",
     "metadata": {},
     "outputs": [],
     "prompt_number": 90
    },
    {
     "cell_type": "code",
     "collapsed": false,
     "input": [
      "Decimal_a_Binario(1)"
     ],
     "language": "python",
     "metadata": {},
     "outputs": [
      {
       "output_type": "stream",
       "stream": "stdout",
       "text": [
        "[0, 0, 0, 0, 0, 0, 0, 1]\n"
       ]
      }
     ],
     "prompt_number": 91
    },
    {
     "cell_type": "code",
     "collapsed": false,
     "input": [],
     "language": "python",
     "metadata": {},
     "outputs": []
    }
   ],
   "metadata": {}
  }
 ]
}