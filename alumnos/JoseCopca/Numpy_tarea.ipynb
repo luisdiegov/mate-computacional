{
 "metadata": {
  "name": "",
  "signature": "sha256:22a0b90444cb95da9b69d17c623580bfc6f450a9febb3f5c2d4e9bc846f22de4"
 },
 "nbformat": 3,
 "nbformat_minor": 0,
 "worksheets": [
  {
   "cells": [
    {
     "cell_type": "heading",
     "level": 1,
     "metadata": {},
     "source": [
      "Ejercicios de Numpy"
     ]
    },
    {
     "cell_type": "heading",
     "level": 2,
     "metadata": {},
     "source": [
      "Pregunta 1"
     ]
    },
    {
     "cell_type": "code",
     "collapsed": false,
     "input": [
      " %matplotlib inline\n",
      "import numpy as np\n",
      "import matplotlib as plt"
     ],
     "language": "python",
     "metadata": {},
     "outputs": [],
     "prompt_number": 1
    },
    {
     "cell_type": "code",
     "collapsed": false,
     "input": [
      "A1=np.zeros((5, 5)).astype(float)\n",
      "for i in xrange(0, 5):\n",
      "    A1[i,i]=i+1\n",
      "    i+=1"
     ],
     "language": "python",
     "metadata": {},
     "outputs": [],
     "prompt_number": 2
    },
    {
     "cell_type": "code",
     "collapsed": false,
     "input": [
      "A1"
     ],
     "language": "python",
     "metadata": {},
     "outputs": [
      {
       "metadata": {},
       "output_type": "pyout",
       "prompt_number": 3,
       "text": [
        "array([[ 1.,  0.,  0.,  0.,  0.],\n",
        "       [ 0.,  2.,  0.,  0.,  0.],\n",
        "       [ 0.,  0.,  3.,  0.,  0.],\n",
        "       [ 0.,  0.,  0.,  4.,  0.],\n",
        "       [ 0.,  0.,  0.,  0.,  5.]])"
       ]
      }
     ],
     "prompt_number": 3
    },
    {
     "cell_type": "code",
     "collapsed": false,
     "input": [
      "A2=np.zeros((4, 4)).astype(int)\n",
      "for i in xrange(0, 4):\n",
      "    A2[3, i]=i+1\n",
      "    i+=1\n",
      "A2"
     ],
     "language": "python",
     "metadata": {},
     "outputs": [
      {
       "metadata": {},
       "output_type": "pyout",
       "prompt_number": 4,
       "text": [
        "array([[0, 0, 0, 0],\n",
        "       [0, 0, 0, 0],\n",
        "       [0, 0, 0, 0],\n",
        "       [1, 2, 3, 4]])"
       ]
      }
     ],
     "prompt_number": 4
    },
    {
     "cell_type": "heading",
     "level": 6,
     "metadata": {},
     "source": [
      "Para esta pregunta simplemente hice los arreglos llenos de 0s y usando fors, lo llene de los numeros que usted pidio."
     ]
    },
    {
     "cell_type": "heading",
     "level": 2,
     "metadata": {},
     "source": [
      "Pregunta 2"
     ]
    },
    {
     "cell_type": "code",
     "collapsed": false,
     "input": [
      "bool_arr = np.ones((100,), dtype=bool)\n",
      "bool_arr[0:2]=0"
     ],
     "language": "python",
     "metadata": {},
     "outputs": [],
     "prompt_number": 5
    },
    {
     "cell_type": "code",
     "collapsed": false,
     "input": [
      "N_max = int(np.sqrt(len(bool_arr)))\n",
      "for j in range(2, N_max):\n",
      "    bool_arr[2*j::j] = False"
     ],
     "language": "python",
     "metadata": {},
     "outputs": [],
     "prompt_number": 6
    },
    {
     "cell_type": "code",
     "collapsed": false,
     "input": [
      "bool_arr"
     ],
     "language": "python",
     "metadata": {},
     "outputs": [
      {
       "metadata": {},
       "output_type": "pyout",
       "prompt_number": 7,
       "text": [
        "array([False, False,  True,  True, False,  True, False,  True, False,\n",
        "       False, False,  True, False,  True, False, False, False,  True,\n",
        "       False,  True, False, False, False,  True, False, False, False,\n",
        "       False, False,  True, False,  True, False, False, False, False,\n",
        "       False,  True, False, False, False,  True, False,  True, False,\n",
        "       False, False,  True, False, False, False, False, False,  True,\n",
        "       False, False, False, False, False,  True, False,  True, False,\n",
        "       False, False, False, False,  True, False, False, False,  True,\n",
        "       False,  True, False, False, False, False, False,  True, False,\n",
        "       False, False,  True, False, False, False, False, False,  True,\n",
        "       False, False, False, False, False, False, False,  True, False, False], dtype=bool)"
       ]
      }
     ],
     "prompt_number": 7
    },
    {
     "cell_type": "code",
     "collapsed": false,
     "input": [
      "np.nonzero(bool_arr)"
     ],
     "language": "python",
     "metadata": {},
     "outputs": [
      {
       "metadata": {},
       "output_type": "pyout",
       "prompt_number": 8,
       "text": [
        "(array([ 2,  3,  5,  7, 11, 13, 17, 19, 23, 29, 31, 37, 41, 43, 47, 53, 59,\n",
        "        61, 67, 71, 73, 79, 83, 89, 97]),)"
       ]
      }
     ],
     "prompt_number": 8
    },
    {
     "cell_type": "code",
     "collapsed": false,
     "input": [
      "%%file eratostenes.py\n",
      "%matplotlib inline\n",
      "import numpy as np\n",
      "import matplotlib as plt\n",
      "def criba_eratostenes(maximo):\n",
      "    bool_arr=np.ones((maximo,), dtype=bool)\n",
      "    bool_arr[0:2]=0\n",
      "    N_max = int(np.sqrt(len(bool_arr)))\n",
      "    for j in xrange(2, N_max+1):\n",
      "        bool_arr[2*j::j] = False\n",
      "    return np.nonzero(bool_arr)"
     ],
     "language": "python",
     "metadata": {},
     "outputs": [
      {
       "output_type": "stream",
       "stream": "stdout",
       "text": [
        "Overwriting eratostenes.py\n"
       ]
      }
     ],
     "prompt_number": 9
    },
    {
     "cell_type": "code",
     "collapsed": false,
     "input": [
      "%load eratostenes.py"
     ],
     "language": "python",
     "metadata": {},
     "outputs": [],
     "prompt_number": 10
    },
    {
     "cell_type": "code",
     "collapsed": false,
     "input": [
      "%matplotlib inline\n",
      "import numpy as np\n",
      "import matplotlib as plt\n",
      "def criba_eratostenes(maximo):\n",
      "    bool_arr=np.ones((maximo,), dtype=bool)\n",
      "    bool_arr[0:2]=0\n",
      "    N_max = int(np.sqrt(len(bool_arr)))\n",
      "    for j in xrange(2, N_max+1):\n",
      "        bool_arr[2*j::j] = False\n",
      "    return np.nonzero(bool_arr)"
     ],
     "language": "python",
     "metadata": {},
     "outputs": []
    },
    {
     "cell_type": "code",
     "collapsed": false,
     "input": [
      "%matplotlib inline\n",
      "import numpy as np\n",
      "import matplotlib as plt\n",
      "def criba_eratostenes(maximo):\n",
      "    bool_arr=np.ones((maximo,), dtype=bool)\n",
      "    bool_arr[0:2]=0\n",
      "    N_max = int(np.sqrt(len(bool_arr)))\n",
      "    for j in xrange(2, N_max+1):\n",
      "        bool_arr[2*j::j] = False\n",
      "    return np.nonzero(bool_arr)"
     ],
     "language": "python",
     "metadata": {},
     "outputs": [],
     "prompt_number": 11
    },
    {
     "cell_type": "code",
     "collapsed": false,
     "input": [
      "%matplotlib inline\n",
      "import numpy as np\n",
      "import matplotlib as plt\n",
      "def criba_eratostenes(maximo):\n",
      "    bool_arr=np.ones((maximo,), dtype=bool)\n",
      "    bool_arr[0:2]=0\n",
      "    N_max = int(np.sqrt(len(bool_arr)))\n",
      "    for j in xrange(2, N_max+1):\n",
      "        bool_arr[2*j::j] = False\n",
      "    return np.nonzero(bool_arr)"
     ],
     "language": "python",
     "metadata": {},
     "outputs": [],
     "prompt_number": 12
    },
    {
     "cell_type": "code",
     "collapsed": false,
     "input": [
      "criba_eratostenes(10)"
     ],
     "language": "python",
     "metadata": {},
     "outputs": [
      {
       "metadata": {},
       "output_type": "pyout",
       "prompt_number": 13,
       "text": [
        "(array([2, 3, 5, 7]),)"
       ]
      }
     ],
     "prompt_number": 13
    },
    {
     "cell_type": "code",
     "collapsed": false,
     "input": [
      "criba_eratostenes(100)"
     ],
     "language": "python",
     "metadata": {},
     "outputs": [
      {
       "metadata": {},
       "output_type": "pyout",
       "prompt_number": 14,
       "text": [
        "(array([ 2,  3,  5,  7, 11, 13, 17, 19, 23, 29, 31, 37, 41, 43, 47, 53, 59,\n",
        "        61, 67, 71, 73, 79, 83, 89, 97]),)"
       ]
      }
     ],
     "prompt_number": 14
    },
    {
     "cell_type": "code",
     "collapsed": false,
     "input": [
      "criba_eratostenes(200)"
     ],
     "language": "python",
     "metadata": {},
     "outputs": [
      {
       "metadata": {},
       "output_type": "pyout",
       "prompt_number": 15,
       "text": [
        "(array([  2,   3,   5,   7,  11,  13,  17,  19,  23,  29,  31,  37,  41,\n",
        "         43,  47,  53,  59,  61,  67,  71,  73,  79,  83,  89,  97, 101,\n",
        "        103, 107, 109, 113, 127, 131, 137, 139, 149, 151, 157, 163, 167,\n",
        "        173, 179, 181, 191, 193, 197, 199]),)"
       ]
      }
     ],
     "prompt_number": 15
    },
    {
     "cell_type": "heading",
     "level": 6,
     "metadata": {},
     "source": [
      "El c\u00f3digo busca los n\u00fameros compuestos desde el 2 hasta el \u00faltimo n\u00famero. El slicing empieza en cada m\u00faltplo de 2 y recorre el resto del arreglo de 2 en 2, 3 en 3, ..., hasta N_max en N_max, donde N_max es la ra\u00edz cuadrada del \u00faltimo n\u00famero.    "
     ]
    },
    {
     "cell_type": "heading",
     "level": 2,
     "metadata": {},
     "source": [
      "Pregunta 3"
     ]
    },
    {
     "cell_type": "code",
     "collapsed": false,
     "input": [
      "Cubo=np.zeros((6,3,3))\n",
      "Cubo"
     ],
     "language": "python",
     "metadata": {},
     "outputs": [
      {
       "metadata": {},
       "output_type": "pyout",
       "prompt_number": 16,
       "text": [
        "array([[[ 0.,  0.,  0.],\n",
        "        [ 0.,  0.,  0.],\n",
        "        [ 0.,  0.,  0.]],\n",
        "\n",
        "       [[ 0.,  0.,  0.],\n",
        "        [ 0.,  0.,  0.],\n",
        "        [ 0.,  0.,  0.]],\n",
        "\n",
        "       [[ 0.,  0.,  0.],\n",
        "        [ 0.,  0.,  0.],\n",
        "        [ 0.,  0.,  0.]],\n",
        "\n",
        "       [[ 0.,  0.,  0.],\n",
        "        [ 0.,  0.,  0.],\n",
        "        [ 0.,  0.,  0.]],\n",
        "\n",
        "       [[ 0.,  0.,  0.],\n",
        "        [ 0.,  0.,  0.],\n",
        "        [ 0.,  0.,  0.]],\n",
        "\n",
        "       [[ 0.,  0.,  0.],\n",
        "        [ 0.,  0.,  0.],\n",
        "        [ 0.,  0.,  0.]]])"
       ]
      }
     ],
     "prompt_number": 16
    },
    {
     "cell_type": "code",
     "collapsed": false,
     "input": [
      "for i in range(0, 6):\n",
      "    Cubo[i,:,:]=i+1\n",
      "    i+=1"
     ],
     "language": "python",
     "metadata": {},
     "outputs": [],
     "prompt_number": 17
    },
    {
     "cell_type": "code",
     "collapsed": false,
     "input": [
      "Cubo"
     ],
     "language": "python",
     "metadata": {},
     "outputs": [
      {
       "metadata": {},
       "output_type": "pyout",
       "prompt_number": 18,
       "text": [
        "array([[[ 1.,  1.,  1.],\n",
        "        [ 1.,  1.,  1.],\n",
        "        [ 1.,  1.,  1.]],\n",
        "\n",
        "       [[ 2.,  2.,  2.],\n",
        "        [ 2.,  2.,  2.],\n",
        "        [ 2.,  2.,  2.]],\n",
        "\n",
        "       [[ 3.,  3.,  3.],\n",
        "        [ 3.,  3.,  3.],\n",
        "        [ 3.,  3.,  3.]],\n",
        "\n",
        "       [[ 4.,  4.,  4.],\n",
        "        [ 4.,  4.,  4.],\n",
        "        [ 4.,  4.,  4.]],\n",
        "\n",
        "       [[ 5.,  5.,  5.],\n",
        "        [ 5.,  5.,  5.],\n",
        "        [ 5.,  5.,  5.]],\n",
        "\n",
        "       [[ 6.,  6.,  6.],\n",
        "        [ 6.,  6.,  6.],\n",
        "        [ 6.,  6.,  6.]]])"
       ]
      }
     ],
     "prompt_number": 18
    },
    {
     "cell_type": "heading",
     "level": 6,
     "metadata": {},
     "source": [
      "Cada arreglo de 3x3 es una cara del cubo. Trat\u00e9 de hacerlo de otra manera. Intent\u00e9 hacer arreglos de arreglos, arreglos en varias dimensiones, etc. pero no pude. :("
     ]
    },
    {
     "cell_type": "heading",
     "level": 2,
     "metadata": {},
     "source": [
      "Pregunta 4"
     ]
    },
    {
     "cell_type": "code",
     "collapsed": false,
     "input": [
      "def correcto(arr):\n",
      "    arr2=arr.reshape(9,)\n",
      "    uni=np.unique(arr)\n",
      "    prueba=True\n",
      "    if uni.shape==(9,):\n",
      "        for i in xrange(0,8):\n",
      "            if arr2[i]>9 or arr2[i]<1:\n",
      "                prueba=False\n",
      "    else:\n",
      "        prueba=False\n",
      "    return prueba"
     ],
     "language": "python",
     "metadata": {},
     "outputs": [],
     "prompt_number": 19
    },
    {
     "cell_type": "code",
     "collapsed": false,
     "input": [
      "def descomponer (arr):\n",
      "    prueba=True\n",
      "    if arr.shape==(9,9):\n",
      "        for i in {0, 3, 6}:\n",
      "            for j in {0, 3 ,6}:\n",
      "                arrn=arr[i:i+3, j:j+3]\n",
      "                print arrn"
     ],
     "language": "python",
     "metadata": {},
     "outputs": [],
     "prompt_number": 20
    },
    {
     "cell_type": "code",
     "collapsed": false,
     "input": [
      "def EsSolucion (arr):\n",
      "    prueba=True\n",
      "    if arr.shape==(9,9):\n",
      "        for i in {0, 3, 6}:\n",
      "            for j in {0, 3 ,6}:\n",
      "                arrn=arr[i:i+3, j:j+3]\n",
      "                if correcto(arrn)!=True:\n",
      "                    prueba=False\n",
      "        return prueba\n",
      "    else:\n",
      "        print 'error'"
     ],
     "language": "python",
     "metadata": {},
     "outputs": [],
     "prompt_number": 21
    },
    {
     "cell_type": "code",
     "collapsed": false,
     "input": [
      "arrC=np.array([7, 4, 1, 6, 9, 8, 3, 2, 5, 5, 3, 8, 2, 4, 1, 6, 7, 9, 9, 2, 6, 3, 7, 5, 4, 1, 8, 4, 1, 3, 8, 2, 6, 9, 5, 7, 2, 6, 7, 5, 3, 9, 8, 4, 1, 8, 5, 9, 4, 1, 7, 2, 3, 6, 1, 9, 2, 7, 8, 3, 5, 6, 4, 3, 7, 5, 9, 6, 4, 1, 8, 2, 6, 8, 4, 1, 5, 2, 7, 9, 3])\n",
      "arrD=arrC.reshape(9,9)\n"
     ],
     "language": "python",
     "metadata": {},
     "outputs": [
      {
       "metadata": {},
       "output_type": "pyout",
       "prompt_number": 22,
       "text": [
        "True"
       ]
      }
     ],
     "prompt_number": 22
    },
    {
     "cell_type": "code",
     "collapsed": false,
     "input": [
      "arrD"
     ],
     "language": "python",
     "metadata": {},
     "outputs": [
      {
       "metadata": {},
       "output_type": "pyout",
       "prompt_number": 23,
       "text": [
        "array([[7, 4, 1, 6, 9, 8, 3, 2, 5],\n",
        "       [5, 3, 8, 2, 4, 1, 6, 7, 9],\n",
        "       [9, 2, 6, 3, 7, 5, 4, 1, 8],\n",
        "       [4, 1, 3, 8, 2, 6, 9, 5, 7],\n",
        "       [2, 6, 7, 5, 3, 9, 8, 4, 1],\n",
        "       [8, 5, 9, 4, 1, 7, 2, 3, 6],\n",
        "       [1, 9, 2, 7, 8, 3, 5, 6, 4],\n",
        "       [3, 7, 5, 9, 6, 4, 1, 8, 2],\n",
        "       [6, 8, 4, 1, 5, 2, 7, 9, 3]])"
       ]
      }
     ],
     "prompt_number": 23
    },
    {
     "cell_type": "code",
     "collapsed": false,
     "input": [
      "EsSolucion(arrD)"
     ],
     "language": "python",
     "metadata": {},
     "outputs": [
      {
       "metadata": {},
       "output_type": "pyout",
       "prompt_number": 25,
       "text": [
        "True"
       ]
      }
     ],
     "prompt_number": 25
    },
    {
     "cell_type": "heading",
     "level": 6,
     "metadata": {},
     "source": [
      "No supe como incluir la funcion descomponer en la funcion EsSolucion, asi que solo copi\u00e9 el c\u00f3digo. El sudoku que escrib\u00ed di es verdadera soluci\u00f3n. La funci\u00f3n correcto tiene una variable booleana que cambia a falso si el arreglo no tiene 9 elementos diferentes o si algun elemento en el arreglo est\u00e1 fuera del intervalo [0, 9].\n"
     ]
    },
    {
     "cell_type": "heading",
     "level": 6,
     "metadata": {},
     "source": [
      "La funci\u00f3n descomponer hace slicings de 3x3."
     ]
    },
    {
     "cell_type": "heading",
     "level": 6,
     "metadata": {},
     "source": [
      "La funci\u00f3n EsSolucion usa la funci\u00f3n correcto para cada slicing de la funci\u00f3n descomponer. Si existe alg\u00fan slicing que no cumpla con la condici\u00f3n de la funci\u00f3n correcto, todo es falso."
     ]
    }
   ],
   "metadata": {}
  }
 ]
}