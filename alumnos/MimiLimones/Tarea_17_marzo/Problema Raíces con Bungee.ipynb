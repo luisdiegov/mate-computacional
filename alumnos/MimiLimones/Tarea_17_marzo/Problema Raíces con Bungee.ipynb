{
 "metadata": {
  "name": "",
  "signature": "sha256:6bc96d98f88882cbc9db3dfc7ad249afd859d0aeb23a406699e11bc1d668c08a"
 },
 "nbformat": 3,
 "nbformat_minor": 0,
 "worksheets": [
  {
   "cells": [
    {
     "cell_type": "code",
     "collapsed": false,
     "input": [
      "%matplotlib inline\n",
      "import numpy as np\n",
      "import matplotlib.pyplot as plt"
     ],
     "language": "python",
     "metadata": {},
     "outputs": [],
     "prompt_number": 1
    },
    {
     "cell_type": "code",
     "collapsed": false,
     "input": [
      "import sympy as sym\n",
      "\n",
      "# Para que se vean bonitas\n",
      "from sympy.interactive import printing\n",
      "printing.init_printing(use_latex=True)"
     ],
     "language": "python",
     "metadata": {},
     "outputs": [],
     "prompt_number": 2
    },
    {
     "cell_type": "heading",
     "level": 1,
     "metadata": {},
     "source": [
      "Problema / Tarea"
     ]
    },
    {
     "cell_type": "markdown",
     "metadata": {},
     "source": [
      "Estudios m\u00e9dicos han determinado que un usuario del bungee puede sufrir una lesi\u00f3n seria de las v\u00e9rtebras su la velocidad de ca\u00edda libre excede los v=36 m/s luego de t=4 s de ca\u00edda. Se te pide calcular la masa m m\u00e1xima a la cual se cumple esta velocidad si se supone un coeficiente de arrastre de cd=0.25 kg/m."
     ]
    },
    {
     "cell_type": "markdown",
     "metadata": {},
     "source": [
      "La soluci\u00f3n anal\u00edtica es\n",
      "\n",
      "$$\n",
      "v(t) = \\sqrt{\\frac{g m}{c_d}}\\tanh\\left(\\sqrt{\\frac{g c_d}{m}}t\\right)\n",
      "$$"
     ]
    },
    {
     "cell_type": "heading",
     "level": 5,
     "metadata": {},
     "source": [
      "0. Verifica que las unidades est\u00e9n bien"
     ]
    },
    {
     "cell_type": "code",
     "collapsed": false,
     "input": [
      "m= sym.Symbol('m')\n",
      "s= sym.Symbol('s')\n",
      "kg= sym.Symbol('kg')"
     ],
     "language": "python",
     "metadata": {},
     "outputs": [],
     "prompt_number": 4
    },
    {
     "cell_type": "code",
     "collapsed": false,
     "input": [
      "from sympy import sqrt\n",
      "parte1= sqrt(((m/s**2)*kg)/(kg/m))\n",
      "parte1"
     ],
     "language": "python",
     "metadata": {},
     "outputs": [
      {
       "latex": [
        "$$\\sqrt{\\frac{m^{2}}{s^{2}}}$$"
       ],
       "metadata": {},
       "output_type": "pyout",
       "png": "[encoded data removed]",
       "prompt_number": 7,
       "text": [
        "      ____\n",
        "     \u2571  2 \n",
        "    \u2571  m  \n",
        "   \u2571   \u2500\u2500 \n",
        "  \u2571     2 \n",
        "\u2572\u2571     s  "
       ]
      }
     ],
     "prompt_number": 7
    },
    {
     "cell_type": "code",
     "collapsed": false,
     "input": [
      "parte2= (sqrt(((m/s**2)*(kg/m))/kg))*s\n",
      "parte2"
     ],
     "language": "python",
     "metadata": {},
     "outputs": [
      {
       "latex": [
        "$$s \\sqrt{\\frac{1}{s^{2}}}$$"
       ],
       "metadata": {},
       "output_type": "pyout",
       "png": "[encoded data removed]",
       "prompt_number": 8,
       "text": [
        "       ____\n",
        "      \u2571 1  \n",
        "s\u22c5   \u2571  \u2500\u2500 \n",
        "    \u2571    2 \n",
        "  \u2572\u2571    s  "
       ]
      }
     ],
     "prompt_number": 8
    },
    {
     "cell_type": "code",
     "collapsed": false,
     "input": [
      "parte1*parte2"
     ],
     "language": "python",
     "metadata": {},
     "outputs": [
      {
       "latex": [
        "$$s \\sqrt{\\frac{m^{2}}{s^{2}}} \\sqrt{\\frac{1}{s^{2}}}$$"
       ],
       "metadata": {},
       "output_type": "pyout",
       "png": "[encoded data removed]",
       "prompt_number": 9,
       "text": [
        "        ____          \n",
        "       \u2571  2       ____\n",
        "      \u2571  m       \u2571 1  \n",
        "s\u22c5   \u2571   \u2500\u2500 \u22c5   \u2571  \u2500\u2500 \n",
        "    \u2571     2    \u2571    2 \n",
        "  \u2572\u2571     s   \u2572\u2571    s  "
       ]
      }
     ],
     "prompt_number": 9
    },
    {
     "cell_type": "heading",
     "level": 5,
     "metadata": {},
     "source": [
      "1. Intenta despejar el valor de m \u00bfSe te ocurre alguna idea?"
     ]
    },
    {
     "cell_type": "markdown",
     "metadata": {},
     "source": [
      "Se puede poner todo en t\u00e9rminos de m y con ello crear una funci\u00f3n que dependa de m"
     ]
    },
    {
     "cell_type": "markdown",
     "metadata": {},
     "source": [
      "Podemos usar lo aprendido en esta secci\u00f3n y replantear el problema de la siguiente manera:\n",
      "\n",
      "$$\n",
      "f(m) = \\sqrt{\\frac{g m}{c_d}}\\tanh\\left(\\sqrt{\\frac{g c_d}{m}}t\\right) - v(t)\n",
      "$$"
     ]
    },
    {
     "cell_type": "heading",
     "level": 5,
     "metadata": {},
     "source": [
      "2. Trata de estimar el valor de m usando un m\u00e9todo gr\u00e1fico. El valor de g es de 9.8 m/s2."
     ]
    },
    {
     "cell_type": "code",
     "collapsed": false,
     "input": [
      "g=9.8\n",
      "v=36\n",
      "t=4\n",
      "cd=2.5\n",
      "\n",
      "#vt=np.sqrt(g*m/cd)*np.tanh(np.sqrt(g*cd/m)*t)\n",
      "\n",
      "m=np.linspace(1,10000,200)\n",
      "n=np.sqrt(g*m/cd)*np.tanh(np.sqrt(g*cd/m)*t)-36\n",
      "\n",
      "plt.plot(m,n,color=\"blue\")\n",
      "ax = plt.gca()  \n",
      "ax.spines['right'].set_color('none')\n",
      "ax.spines['top'].set_color('none')\n",
      "ax.xaxis.set_ticks_position('bottom')\n",
      "ax.spines['bottom'].set_position(('data',0))\n",
      "ax.yaxis.set_ticks_position('left')\n",
      "ax.spines['left'].set_position(('data',0))\n",
      "plt.show()\n"
     ],
     "language": "python",
     "metadata": {},
     "outputs": [
      {
       "metadata": {},
       "output_type": "display_data",
       "png": "[encoded data removed]",
       "text": [
        "<matplotlib.figure.Figure at 0xab3cb00>"
       ]
      }
     ],
     "prompt_number": 11
    },
    {
     "cell_type": "heading",
     "level": 5,
     "metadata": {},
     "source": [
      "3. Resu\u00e9lvelo usando el m\u00e9todo de la biseccion \u00bfCu\u00e1ntos pasos necesitas para converger? \u00bfCu\u00e1l fu\u00e9 tu intervalo inicial? \u00bfTu m\u00e9todo find_brackets funciona en este caso?"
     ]
    },
    {
     "cell_type": "code",
     "collapsed": false,
     "input": [
      "t=4\n",
      "g=9.8\n",
      "cd=2.5\n",
      "\n",
      "fm= lambda m:np.sqrt(g*m/cd)*np.tanh(np.sqrt(g*cd/m)*t)-36"
     ],
     "language": "python",
     "metadata": {},
     "outputs": [],
     "prompt_number": 12
    },
    {
     "cell_type": "code",
     "collapsed": false,
     "input": [
      "def biseccion(func, a, b, tolerancia, stop):\n",
      "    k = 0\n",
      "    \n",
      "    x = (a + b)/2\n",
      "    \n",
      "    I = (b - a)/2\n",
      "    \n",
      "    assert func(a)*func(b) < 0, \"El signo de la funci\u00f3n en los extremos deber\u00eda de ser diferente\"\n",
      "    assert func(a) != 0, \"La ra\u00edz es %.5f\" % a\n",
      "    assert func(b) != 0, \"La ra\u00edz es %.5f\" % b\n",
      "    \n",
      "    print \"%s\\t%12s\\t%12s\" % (\"k\",\"I(a,b)\", \"x\")\n",
      "    print \"%s\\tI(%.5f, %.5f)\\t%.5f\" % (\"0\",a, b, x)\n",
      "    \n",
      "    while I >= tolerancia and k <= stop:\n",
      "        k = k + 1\n",
      "        \n",
      "        f_x = func(x)\n",
      "        f_a = func(a)\n",
      "        f_b = func(b)        \n",
      "        \n",
      "        \n",
      "        \n",
      "        if(f_a*f_x < 0):\n",
      "            a, b = a, x\n",
      "        elif(f_x*f_b < 0):\n",
      "            a, b = x, b\n",
      "        \n",
      "        x = (a+b)/2\n",
      "        \n",
      "        I = (b - a)/2\n",
      "        \n",
      "        print \"%d\\tI(%.5f, %.5f)\\t%.12f\" % (k,a, b, x)"
     ],
     "language": "python",
     "metadata": {},
     "outputs": [],
     "prompt_number": 13
    },
    {
     "cell_type": "code",
     "collapsed": false,
     "input": [
      "biseccion( fm,a=1,b= 1500,tolerancia= 1e-8,stop= 100)"
     ],
     "language": "python",
     "metadata": {},
     "outputs": [
      {
       "output_type": "stream",
       "stream": "stdout",
       "text": [
        "k\t      I(a,b)\t           x\n",
        "0\tI(1.00000, 1500.00000)\t750.00000\n",
        "1\tI(750.00000, 1500.00000)\t1125.000000000000\n",
        "2\tI(1125.00000, 1500.00000)\t1312.000000000000\n",
        "3\tI(1312.00000, 1500.00000)\t1406.000000000000\n",
        "4\tI(1406.00000, 1500.00000)\t1453.000000000000\n",
        "5\tI(1406.00000, 1453.00000)\t1429.000000000000\n",
        "6\tI(1429.00000, 1453.00000)\t1441.000000000000\n",
        "7\tI(1441.00000, 1453.00000)\t1447.000000000000\n",
        "8\tI(1441.00000, 1447.00000)\t1444.000000000000\n",
        "9\tI(1444.00000, 1447.00000)\t1445.000000000000\n",
        "10\tI(1444.00000, 1445.00000)\t1444.000000000000\n"
       ]
      }
     ],
     "prompt_number": 14
    },
    {
     "cell_type": "code",
     "collapsed": false,
     "input": [
      "def find_brackets(f,a,b,n):\n",
      "    w=np.linspace(a,b,n+1)\n",
      "    print w\n",
      "    for i in range(0,n):\n",
      "        if f(w[i])>0 and f(w[i+1])<0:\n",
      "            print np.array([w[i],w[i+1]])\n",
      "        elif f(w[i])<0 and f(w[i+1])>0:\n",
      "            print np.array([w[i],w[i+1]])"
     ],
     "language": "python",
     "metadata": {},
     "outputs": [],
     "prompt_number": 15
    },
    {
     "cell_type": "code",
     "collapsed": false,
     "input": [
      "find_brackets(fm,a=1,b=1500,n=30)"
     ],
     "language": "python",
     "metadata": {},
     "outputs": [
      {
       "output_type": "stream",
       "stream": "stdout",
       "text": [
        "[  1.00000000e+00   5.09666667e+01   1.00933333e+02   1.50900000e+02\n",
        "   2.00866667e+02   2.50833333e+02   3.00800000e+02   3.50766667e+02\n",
        "   4.00733333e+02   4.50700000e+02   5.00666667e+02   5.50633333e+02\n",
        "   6.00600000e+02   6.50566667e+02   7.00533333e+02   7.50500000e+02\n",
        "   8.00466667e+02   8.50433333e+02   9.00400000e+02   9.50366667e+02\n",
        "   1.00033333e+03   1.05030000e+03   1.10026667e+03   1.15023333e+03\n",
        "   1.20020000e+03   1.25016667e+03   1.30013333e+03   1.35010000e+03\n",
        "   1.40006667e+03   1.45003333e+03   1.50000000e+03]\n",
        "[ 1400.06666667  1450.03333333]\n"
       ]
      }
     ],
     "prompt_number": 16
    },
    {
     "cell_type": "heading",
     "level": 5,
     "metadata": {},
     "source": [
      "4. Calcula a mano la derivada de f(m). \u00bfCoincide con la derivada simb\u00f3lica?."
     ]
    },
    {
     "cell_type": "code",
     "collapsed": false,
     "input": [
      "g=9.8\n",
      "t=4\n",
      "cd=2.5\n",
      "\n",
      "from sympy import sqrt,tanh\n",
      "fm1= sqrt(g*m/cd)*tanh(sqrt(g*cd/m)*t)-36\n",
      "df = sym.diff(fm1, m)\n",
      "df"
     ],
     "language": "python",
     "metadata": {},
     "outputs": [
      {
       "latex": [
        "$$- \\frac{19.6 \\sqrt{\\frac{1}{m}}}{\\sqrt{m}} \\left(- \\tanh^{2}{\\left (19.7989898732233 \\sqrt{\\frac{1}{m}} \\right )} + 1\\right) + \\frac{0.989949493661167}{\\sqrt{m}} \\tanh{\\left (19.7989898732233 \\sqrt{\\frac{1}{m}} \\right )}$$"
       ],
       "metadata": {},
       "output_type": "pyout",
       "png": "[encoded data removed]",
       "prompt_number": 5,
       "text": [
        "       \u239b       \u239b                     ___\u239e    \u239e     ___                        \n",
        "       \u239c      2\u239c                    \u2571 1 \u239f    \u239f    \u2571 1                         \n",
        "  19.6\u22c5\u239c- tanh \u239c19.7989898732233\u22c5  \u2571  \u2500 \u239f + 1\u239f\u22c5  \u2571  \u2500    0.989949493661167\u22c5tan\n",
        "       \u239d       \u239d                 \u2572\u2571   m \u23a0    \u23a0 \u2572\u2571   m                         \n",
        "- \u2500\u2500\u2500\u2500\u2500\u2500\u2500\u2500\u2500\u2500\u2500\u2500\u2500\u2500\u2500\u2500\u2500\u2500\u2500\u2500\u2500\u2500\u2500\u2500\u2500\u2500\u2500\u2500\u2500\u2500\u2500\u2500\u2500\u2500\u2500\u2500\u2500\u2500\u2500\u2500\u2500\u2500\u2500\u2500\u2500\u2500\u2500\u2500\u2500\u2500\u2500\u2500 + \u2500\u2500\u2500\u2500\u2500\u2500\u2500\u2500\u2500\u2500\u2500\u2500\u2500\u2500\u2500\u2500\u2500\u2500\u2500\u2500\u2500\n",
        "                           ___                                                \n",
        "                         \u2572\u2571 m                                                 \n",
        "\n",
        " \u239b                     ___\u239e\n",
        " \u239c                    \u2571 1 \u239f\n",
        "h\u239c19.7989898732233\u22c5  \u2571  \u2500 \u239f\n",
        " \u239d                 \u2572\u2571   m \u23a0\n",
        "\u2500\u2500\u2500\u2500\u2500\u2500\u2500\u2500\u2500\u2500\u2500\u2500\u2500\u2500\u2500\u2500\u2500\u2500\u2500\u2500\u2500\u2500\u2500\u2500\u2500\u2500\u2500\n",
        "  ___                      \n",
        "\u2572\u2571 m                       "
       ]
      }
     ],
     "prompt_number": 5
    },
    {
     "cell_type": "heading",
     "level": 5,
     "metadata": {},
     "source": [
      "5. Utiliza el m\u00e9todo de newton para resolverlo. \u00bfCu\u00e1ntos pasos necesitaste para converger? \u00bfQu\u00e9 valor de x0 utilizaste?"
     ]
    },
    {
     "cell_type": "code",
     "collapsed": false,
     "input": [
      "def newton(f, x0, tolerancia, stop):\n",
      "    assert type(f).__bases__[0]  in (sym.expr.Expr, sym.operations.AssocOp), \"La funci\u00f3n no es una expresi\u00f3n simb\u00f3lica ... :/\"\n",
      "    \n",
      "    # Derivamos la expresi\u00f3n\n",
      "    df = sym.diff(f, m)\n",
      "    \n",
      "    # Convertimos en funciones las expresiones\n",
      "    F = sym.lambdify(m,f, modules=\"numpy\")\n",
      "    DF = sym.lambdify(m, df, modules=\"numpy\")\n",
      "    \n",
      "    # Inicializamos el contador\n",
      "    k = 0\n",
      "    \n",
      "    # Inicializamos abs(x1-x0) en un n\u00famero mayor que la tolerancia\n",
      "    diff = 1\n",
      "    print \"{: >5} {: >10} {: >10} {: >10} {: >11} {: >10}\".format(\"k\", \"x0\", \"F(x0)\", \"DF(x0)\", \"abs(x1-x0)\", \"x1\")\n",
      "    \n",
      "    while diff >= tolerancia and k <= stop:\n",
      "        k = k + 1\n",
      "\n",
      "        x1 = x0 - (float(F(x0)/DF(x0)))\n",
      "        print \"{: >5} {: >10.5f} {: >10.5f} {: >10.5f} {: >10.5f} {: >11.5f}\".format(k, x0, F(x0), DF(x0), diff, x1)\n",
      "        \n",
      "        diff = abs(x1 - x0)\n",
      "        \n",
      "        x0 = x1\n",
      "        \n",
      "    if k > stop:\n",
      "        print \"El m\u00e9todo de Newton no convergi\u00f3: para la tolerancia especificada, se alcanzaron el m\u00e1ximo n\u00famero de iteraciones\"\n",
      "    \n",
      "    print \"\\n\\nLa ra\u00edz es %2.12f\" % x0"
     ],
     "language": "python",
     "metadata": {},
     "outputs": [],
     "prompt_number": 6
    },
    {
     "cell_type": "code",
     "collapsed": false,
     "input": [
      "fm1a= ((g*m/cd)**0.5)*tanh(((g*cd/m)**0.5)*t)-36\n",
      "newton(fm1a,x0=1400,tolerancia=1e-8,stop=100)"
     ],
     "language": "python",
     "metadata": {},
     "outputs": [
      {
       "output_type": "stream",
       "stream": "stdout",
       "text": [
        "    k         x0      F(x0)     DF(x0)  abs(x1-x0)         x1\n",
        "    1 1400.00000   -0.09060    0.00211    1.00000  1442.85340\n",
        "    2 1442.85340   -0.00243    0.00200   42.85340  1444.06602\n",
        "    3 1444.06602   -0.00000    0.00200    1.21262  1444.06694\n",
        "    4 1444.06694   -0.00000    0.00200    0.00092  1444.06694\n",
        "\n",
        "\n",
        "La ra\u00edz es 1444.066939608931\n"
       ]
      }
     ],
     "prompt_number": 7
    },
    {
     "cell_type": "markdown",
     "metadata": {},
     "source": [
      "Como viste calcular la derivada no fu\u00e9 trivial y podr\u00eda causar un problema si no tuvieras al alcance un calculador simb\u00f3lico (como en tu instalaci\u00f3n de GNU/Octave, aunque si GNU/Octave si puede hacer c\u00e1lculo simb\u00f3lico). Existe un m\u00e9todo similar al de newton que no utiliza el c\u00e1lculo directo de la derivada de la funci\u00f3n, se llama m\u00e9todo de la secante."
     ]
    },
    {
     "cell_type": "markdown",
     "metadata": {},
     "source": [
      "La idea es aproximar la derivada por una diferencia \"hacia atr\u00e1s\":"
     ]
    },
    {
     "cell_type": "markdown",
     "metadata": {},
     "source": [
      "$$\n",
      "f'(x) \\approx \\frac{f(x_{i-1}) - f(x_i)}{x_{i-1} - x_i}\n",
      "$$"
     ]
    },
    {
     "cell_type": "markdown",
     "metadata": {},
     "source": [
      "y sustituir esta expresi\u00f3n en la f\u00f3rmula del m\u00e9todo de Newton."
     ]
    },
    {
     "cell_type": "heading",
     "level": 5,
     "metadata": {},
     "source": [
      "6. Implementa el m\u00e9todo de la secante en python y en GNU Octave, ll\u00e1malo secante(f, x1, x0, tolerancia, stop). Resuelve el problema. \u00bfC\u00f3mo se compara con los otros m\u00e9todos?"
     ]
    },
    {
     "cell_type": "code",
     "collapsed": false,
     "input": [
      "def secante(f,x0,x1,tolerancia,stop):\n",
      "    \n",
      "    # Inicializamos el contador\n",
      "    k = 0\n",
      "    \n",
      "    # Inicializamos abs(x1-x0) en un n\u00famero mayor que la tolerancia\n",
      "    diff = 1\n",
      "    print \"{: >5} {: >10} {: >10} {: >10} {: >11} {: >10} {: >10}\".format(\"k\", \"x0\", \"x1\", \"F(x1)\", \"DF(x1)\", \"abs(x1-x0)\", \"x2\")\n",
      "    \n",
      "    while diff >= tolerancia and k <= stop:\n",
      "        k = k + 1\n",
      "        a=f(x0)-f(x1)\n",
      "        b=x0-x1\n",
      "        df=a/b\n",
      "        \n",
      "        x2 = x1 - (float(f(x1)/df))\n",
      "        print \"{: >5} {: >10.5f} {: >10.5f} {: >10.5f} {: >10.5f} {: >10.5f} {: >11.5f}\".format(k, x0, x1, f(x1), df, diff, x2)\n",
      "        \n",
      "        diff = abs(x1 - x0) \n",
      "        \n",
      "        x0 = x1\n",
      "        x1 = x2\n",
      "        \n",
      "    if k > stop:\n",
      "        print \"El m\u00e9todo de Newton no convergi\u00f3: para la tolerancia especificada, se alcanzaron el m\u00e1ximo n\u00famero de iteraciones\"\n",
      "    \n",
      "    print \"\\n\\nLa ra\u00edz es %2.12f\" % x2"
     ],
     "language": "python",
     "metadata": {},
     "outputs": [],
     "prompt_number": 8
    },
    {
     "cell_type": "code",
     "collapsed": false,
     "input": [
      "fm= lambda m:np.sqrt(g*m/cd)*np.tanh(np.sqrt(g*cd/m)*t)-36"
     ],
     "language": "python",
     "metadata": {},
     "outputs": [],
     "prompt_number": 9
    },
    {
     "cell_type": "code",
     "collapsed": false,
     "input": [
      "secante(fm,x0=69.0,x1=70.0,tolerancia=1e-5,stop=100)"
     ],
     "language": "python",
     "metadata": {},
     "outputs": [
      {
       "output_type": "stream",
       "stream": "stdout",
       "text": [
        "    k         x0         x1      F(x1)      DF(x1) abs(x1-x0)         x2\n",
        "    1   69.00000   70.00000  -19.72402    0.10712    1.00000   254.13757\n",
        "    2   70.00000  254.13757   -9.29729    0.05662    1.00000   418.32926\n",
        "    3  254.13757  418.32926   -5.71647    0.02181  184.13757   680.44689\n",
        "    4  418.32926  680.44689   -2.92090    0.01067  164.19168   954.31471\n",
        "    5  680.44689  954.31471   -1.41116    0.00551  262.11763  1210.29912\n",
        "    6  954.31471 1210.29912   -0.54737    0.00337  273.86782  1372.51347\n",
        "    7 1210.29912 1372.51347   -0.14976    0.00245  255.98441  1433.61360\n",
        "    8 1372.51347 1433.61360   -0.02104    0.00211  162.21435  1443.59951\n",
        "    9 1433.61360 1443.59951   -0.00093    0.00201   61.10013  1444.06389\n",
        "   10 1443.59951 1444.06389   -0.00001    0.00200    9.98591  1444.06694\n",
        "   11 1444.06389 1444.06694   -0.00000    0.00200    0.46437  1444.06694\n",
        "   12 1444.06694 1444.06694   -0.00000    0.00200    0.00305  1444.06694\n",
        "\n",
        "\n",
        "La ra\u00edz es 1444.066939608879\n"
       ]
      }
     ],
     "prompt_number": 10
    },
    {
     "cell_type": "markdown",
     "metadata": {},
     "source": [
      "Un problema con este m\u00e9todo es que necesitas dos estimados iniciales de x (en el m\u00e9todo x1 y x0). Se puede obtener un m\u00e9todo mejorado de la siguiente manera:"
     ]
    },
    {
     "cell_type": "markdown",
     "metadata": {},
     "source": [
      "$$\n",
      "f'(x_i) \\approx \\frac{f(x_i + \\delta x_i) - f(x_i)}{\\delta x_i}\n",
      "$$"
     ]
    },
    {
     "cell_type": "markdown",
     "metadata": {},
     "source": [
      "donde \u03b4 es una perturbaci\u00f3n peque\u00f1a alrededor de xi."
     ]
    },
    {
     "cell_type": "heading",
     "level": 5,
     "metadata": {},
     "source": [
      "7. Implem\u00e9nta este m\u00e9todo, ll\u00e1malo secante_modificado(f, x0, tolerancia, stop). Usando un x0=50 kg y un \u03b4 de 10\u22126, soluciona el problema."
     ]
    },
    {
     "cell_type": "code",
     "collapsed": false,
     "input": [
      "def secante_modificado(f,x0,tolerancia,stop):\n",
      "    # Inicializamos el contador\n",
      "    k = 0\n",
      "    \n",
      "    # Inicializamos abs(x1-x0) en un n\u00famero mayor que la tolerancia\n",
      "    diff = 1\n",
      "    print \"{: >5} {: >10} {: >10} {: >10} {: >11} {: >10}\".format(\"k\", \"x0\", \"x1\", \"F(x1)\", \"DF(x1)\", \"abs(x1-x0)\")\n",
      "    \n",
      "    while diff >= tolerancia and k <= stop:\n",
      "        k = k + 1\n",
      "        a=f(x0+delta*x0)-f(x0)\n",
      "        b=x0*delta\n",
      "        df=a/b\n",
      "        \n",
      "        x1 = x0 - (float(f(x0)/df))\n",
      "        print \"{: >5} {: >10.5f} {: >10.5f} {: >10.5f} {: >10.5f} {: >10.5f}\".format(k, x0, x1, f(x1), df, diff)\n",
      "        \n",
      "        diff = abs(x1 - x0) \n",
      "        \n",
      "        x0 = x1\n",
      "                \n",
      "    if k > stop:\n",
      "        print \"El m\u00e9todo de Newton no convergi\u00f3: para la tolerancia especificada, se alcanzaron el m\u00e1ximo n\u00famero de iteraciones\"\n",
      "    \n",
      "    print \"\\n\\nLa ra\u00edz es %2.12f\" % x1"
     ],
     "language": "python",
     "metadata": {},
     "outputs": [],
     "prompt_number": 11
    },
    {
     "cell_type": "code",
     "collapsed": false,
     "input": [
      "delta=1e-6\n",
      "secante_modificado(fm,x0=50,tolerancia=1e-5,stop=100)"
     ],
     "language": "python",
     "metadata": {},
     "outputs": [
      {
       "output_type": "stream",
       "stream": "stdout",
       "text": [
        "    k         x0         x1      F(x1)      DF(x1) abs(x1-x0)\n",
        "    1   50.00000  215.92373  -10.58887    0.13321    1.00000\n",
        "    2  215.92373  499.65805   -4.60942    0.03732  165.92373\n",
        "    3  499.65805  886.36742   -1.71170    0.01192  283.73432\n",
        "    4  886.36742 1249.66251   -0.44245    0.00471  386.70937\n",
        "    5 1249.66251 1420.44838   -0.04793    0.00259  363.29509\n",
        "    6 1420.44838 1443.71836   -0.00070    0.00206  170.78587\n",
        "    7 1443.71836 1444.06686   -0.00000    0.00200   23.26998\n",
        "    8 1444.06686 1444.06694    0.00000    0.00200    0.34851\n",
        "    9 1444.06694 1444.06694   -0.00000    0.00200    0.00008\n",
        "\n",
        "\n",
        "La ra\u00edz es 1444.066939608880\n"
       ]
      }
     ],
     "prompt_number": 12
    }
   ],
   "metadata": {}
  }
 ]
}