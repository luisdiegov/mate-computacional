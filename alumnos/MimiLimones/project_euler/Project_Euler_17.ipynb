{
 "metadata": {
  "name": "",
  "signature": "sha256:1186bda64917004989bc91c9349d76772145819446d5201aa94f802e641d8003"
 },
 "nbformat": 3,
 "nbformat_minor": 0,
 "worksheets": [
  {
   "cells": [
    {
     "cell_type": "code",
     "collapsed": false,
     "input": [
      "def Number_letter_counts(n):\n",
      "    counter=0\n",
      "    while(n>0):\n",
      "        if(n==1000):\n",
      "            counter=counter+11\n",
      "            n=n-1\n",
      "        if(n<1000 and n>=100):\n",
      "            f=n/100\n",
      "            if(f==1 or f==2 or f==6):\n",
      "                counter=counter+10\n",
      "            elif(f==4 or f==5 or f==9):\n",
      "                counter=counter+11\n",
      "            elif(f==3 or f==7 or f==8):\n",
      "                counter=counter+12\n",
      "            n0=n-(f*100)\n",
      "            s=n0/10\n",
      "            if(s==4 or s==5 or s==6):\n",
      "                counter=counter+5\n",
      "            elif(s==2 or s==3 or s==8 or s==9):\n",
      "                counter=counter+6\n",
      "            elif(s==7):\n",
      "                counter=counter+7\n",
      "            elif(s==1):\n",
      "                if(n0==10):\n",
      "                    counter=counter+3\n",
      "                elif(n0==11 or n0==12):\n",
      "                    counter=counter+6\n",
      "                elif(n0==15 or n0==16):\n",
      "                    counter=counter+7\n",
      "                elif(n0==13 or n0==14 or n0==18 or n0==19):\n",
      "                    counter=counter+8\n",
      "                elif(n0==17):\n",
      "                    counter=counter+9\n",
      "            n1=n0-(s*10)\n",
      "            if(s!=1):\n",
      "                if(n1==1 or n1==2 or n1==6):\n",
      "                    counter=counter+3\n",
      "                elif(n1==4 or n1==5 or n1==9):\n",
      "                    counter=counter+4\n",
      "                elif(n1==3 or n1==7 or n1==8):\n",
      "                    counter=counter+5\n",
      "            n=n-1\n",
      "        if(n<100 and n>=1):\n",
      "            s=n/10\n",
      "            if(s==4 or s==5 or s==6):\n",
      "                counter=counter+5\n",
      "            elif(s==2 or s==3 or s==8 or s==9):\n",
      "                counter=counter+6\n",
      "            elif(s==7):\n",
      "                counter=counter+7\n",
      "            elif(s==1):\n",
      "                if(n==10):\n",
      "                    counter=counter+3\n",
      "                elif(n==11 or n==12):\n",
      "                    counter=counter+6\n",
      "                elif(n==15 or n==16):\n",
      "                    counter=counter+7\n",
      "                elif(n==13 or n==14 or n==18 or n==19):\n",
      "                    counter=counter+8\n",
      "                elif(n==17):\n",
      "                    counter=counter+9\n",
      "            n2=n-(s*10)\n",
      "            if(s!=1):\n",
      "                if(n2==1 or n2==2 or n2==6):\n",
      "                    counter=counter+3\n",
      "                elif(n2==4 or n2==5 or n2==9):\n",
      "                    counter=counter+4\n",
      "                elif(n2==3 or n2==7 or n2==8):\n",
      "                    counter=counter+5\n",
      "            n=n-1\n",
      "    print counter          "
     ],
     "language": "python",
     "metadata": {},
     "outputs": [],
     "prompt_number": 19
    },
    {
     "cell_type": "code",
     "collapsed": false,
     "input": [
      "Number_letter_counts(1000)"
     ],
     "language": "python",
     "metadata": {},
     "outputs": [
      {
       "output_type": "stream",
       "stream": "stdout",
       "text": [
        "18451\n"
       ]
      }
     ],
     "prompt_number": 22
    }
   ],
   "metadata": {}
  }
 ]
}