{
 "metadata": {
  "name": "",
  "signature": "sha256:62468b6fb2e39f546b32b8b62b0a2930968069926204f1858a4fd27d3bce08b4"
 },
 "nbformat": 3,
 "nbformat_minor": 0,
 "worksheets": [
  {
   "cells": [
    {
     "cell_type": "code",
     "collapsed": false,
     "input": [
      "def Coin_Sums(n):\n",
      "    counter=0\n",
      "    coins=[200,100,50,20,10,5,2,1]\n",
      "    for a1 in range(0,coins[0]+1):\n",
      "        for a2 in range(0,coins[1]+1):\n",
      "            for a3 in range(0,coins[2]+1):\n",
      "                for a4 in range(0,coins[3]+1):\n",
      "                    for a5 in range(0,coins[4]+1):\n",
      "                        for a6 in range(0,coins[5]+1):\n",
      "                            for a7 in range(0,coins[6]+1):\n",
      "                                for a8 in range(0,coins[7]+1):\n",
      "                                    summ=a1+2*a2+5*a3+10*a4+20*a5+50*a6+100*a7+200*a8\n",
      "                                    if summ==n:\n",
      "                                        counter=counter+1\n",
      "    print counter  \n",
      "        "
     ],
     "language": "python",
     "metadata": {},
     "outputs": [],
     "prompt_number": 1
    },
    {
     "cell_type": "code",
     "collapsed": false,
     "input": [
      "Coin_Sums(200)"
     ],
     "language": "python",
     "metadata": {},
     "outputs": []
    }
   ],
   "metadata": {}
  }
 ]
}