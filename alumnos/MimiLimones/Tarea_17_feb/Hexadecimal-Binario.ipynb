{
 "metadata": {
  "name": "",
  "signature": "sha256:278b1060c622b4f9f0fea57ec8382f9b3c3963dc1fc58dba785cad6541683628"
 },
 "nbformat": 3,
 "nbformat_minor": 0,
 "worksheets": [
  {
   "cells": [
    {
     "cell_type": "code",
     "collapsed": false,
     "input": [
      "def HexABin(a,b):\n",
      "    list_bits=[0,0,0,0,0,0,0,0]\n",
      "    numero=0\n",
      "    if a=='A':\n",
      "        numero=10\n",
      "    elif a=='B':\n",
      "        numero=11\n",
      "    elif a=='C':\n",
      "        numero=12\n",
      "    elif a=='D':\n",
      "        numero=13\n",
      "    elif a=='E':\n",
      "        numero=14\n",
      "    elif a=='F':\n",
      "        numero=15\n",
      "    else:\n",
      "        numero=a\n",
      "    numero=numero+(b*16)\n",
      "    \n",
      "    if numero>(-128) and numero<128:\n",
      "        if numero<0:\n",
      "            list_bits[0]=1\n",
      "            numero=numero*(-1)\n",
      "        if numero>0:\n",
      "            for i in range(7,0,-1):\n",
      "                list_bits[i]=(numero%2)\n",
      "                numero=int(numero/2)\n",
      "        print list_bits\n",
      "    else:\n",
      "        o=\"overflow\"\n",
      "        print o\n",
      "        \n",
      "    "
     ],
     "language": "python",
     "metadata": {},
     "outputs": [],
     "prompt_number": 2
    },
    {
     "cell_type": "code",
     "collapsed": false,
     "input": [
      "HexABin('E',2)"
     ],
     "language": "python",
     "metadata": {},
     "outputs": [
      {
       "output_type": "stream",
       "stream": "stdout",
       "text": [
        "[0, 0, 1, 0, 1, 1, 1, 0]\n"
       ]
      }
     ],
     "prompt_number": 5
    },
    {
     "cell_type": "code",
     "collapsed": false,
     "input": [
      "def BinAHex(list):\n",
      "    numero=0\n",
      "    list_a=[list[0],list[1],list[2],list[3]]\n",
      "    list_b=[list[4],list[5],list[6],list[7]]\n",
      "    hex=[0,0]\n",
      "    for i in range(3,0,-1):\n",
      "        numero=numero+((list_b[i])*(2**(3-i)))\n",
      "            \n",
      "        if numero<=9:\n",
      "            hex[1]=numero\n",
      "        elif numero==10:\n",
      "            hex[1]='A'\n",
      "        elif numero==11:\n",
      "            hex[1]='B'\n",
      "        elif numero==12:\n",
      "            hex[1]='C'\n",
      "        elif numero==13:\n",
      "            hex[1]='D'\n",
      "        elif numero==14:\n",
      "            hex[1]='E'\n",
      "        elif numero==15:\n",
      "            hex[1]='F'\n",
      "            \n",
      "    for i in range(3,0,-1):\n",
      "        num=0\n",
      "        num=num+((list_a[i])*(2**(3-i)))\n",
      "        \n",
      "        if list_a[0]==1:\n",
      "            num=num+8\n",
      "        if num<=9:\n",
      "            hex[0]=numero\n",
      "        elif num==10:\n",
      "            hex[0]='A'\n",
      "        elif num==11:\n",
      "            hex[0]='B'\n",
      "        elif num==12:\n",
      "            hex[0]='C'\n",
      "        elif num==13:\n",
      "            hex[0]='D'\n",
      "        elif num==14:\n",
      "            hex[0]='E'\n",
      "        elif num==15:\n",
      "            hex[0]='F'\n",
      "            \n",
      "        print hex\n",
      "    "
     ],
     "language": "python",
     "metadata": {},
     "outputs": [],
     "prompt_number": 21
    },
    {
     "cell_type": "code",
     "collapsed": false,
     "input": [
      "BinAHex([1,1,0,0,1,0,1,0])"
     ],
     "language": "python",
     "metadata": {},
     "outputs": [
      {
       "output_type": "stream",
       "stream": "stdout",
       "text": [
        "[2, 2]\n",
        "[2, 2]\n",
        "['C', 2]\n"
       ]
      }
     ],
     "prompt_number": 22
    }
   ],
   "metadata": {}
  }
 ]
}