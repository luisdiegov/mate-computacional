{
 "metadata": {
  "name": "",
  "signature": "sha256:02eed1369d8ff72f1342d8fc4ad80e8d4705c0e14e160b758fb7420b5cbe6afc"
 },
 "nbformat": 3,
 "nbformat_minor": 0,
 "worksheets": [
  {
   "cells": [
    {
     "cell_type": "code",
     "collapsed": false,
     "input": [
      "def DecABin(n):\n",
      "    bin_list=[0,0,0,0,0,0,0,0]\n",
      "    if n>0 and n<127:\n",
      "        while(n>0):\n",
      "            for k in range(7,0,-1):\n",
      "                bin_list[k]=n%2\n",
      "                n=n/2\n",
      "        print bin_list\n",
      "                \n",
      "    if n<0 and n>-128:\n",
      "        bin_list[0]=1\n",
      "        n=n+128\n",
      "        while(n>0):\n",
      "            for i in range(7,0,-1):\n",
      "                bin_list[i]=n%2\n",
      "                n=n/2\n",
      "        print bin_list\n",
      "    if n>127 or n<-128:\n",
      "        o=\"overflow\"\n",
      "        print o    \n",
      "    "
     ],
     "language": "python",
     "metadata": {},
     "outputs": [],
     "prompt_number": 32
    },
    {
     "cell_type": "code",
     "collapsed": false,
     "input": [
      "DecABin(-127)"
     ],
     "language": "python",
     "metadata": {},
     "outputs": [
      {
       "output_type": "stream",
       "stream": "stdout",
       "text": [
        "[1, 0, 0, 0, 0, 0, 0, 1]\n"
       ]
      }
     ],
     "prompt_number": 34
    },
    {
     "cell_type": "code",
     "collapsed": false,
     "input": [
      "def BinADec(list):\n",
      "    numero=0\n",
      "    \n",
      "    for i in range(1,7):\n",
      "        if list[i]==1:\n",
      "            numero=numero+2**(7-i)\n",
      "    if list[0]==1:\n",
      "        numero=numero-128\n",
      "        \n",
      "    print numero          \n",
      "    "
     ],
     "language": "python",
     "metadata": {},
     "outputs": [],
     "prompt_number": 35
    },
    {
     "cell_type": "code",
     "collapsed": false,
     "input": [
      "BinADec([1,1,1,1,1,1,1,1])"
     ],
     "language": "python",
     "metadata": {},
     "outputs": [
      {
       "output_type": "stream",
       "stream": "stdout",
       "text": [
        "-2\n"
       ]
      }
     ],
     "prompt_number": 36
    }
   ],
   "metadata": {}
  }
 ]
}