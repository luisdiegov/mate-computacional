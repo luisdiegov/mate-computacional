{
 "metadata": {
  "name": "",
  "signature": "sha256:ed2a6d0b43ed3c76476a3311e65abe229a4df9b69bc5206e3998a8357c8e5f86"
 },
 "nbformat": 3,
 "nbformat_minor": 0,
 "worksheets": [
  {
   "cells": [
    {
     "cell_type": "code",
     "collapsed": false,
     "input": [
      "%matplotlib inline\n",
      "import numpy as np\n",
      "import matplotlib.pyplot as plt"
     ],
     "language": "python",
     "metadata": {},
     "outputs": [],
     "prompt_number": 47
    },
    {
     "cell_type": "code",
     "collapsed": false,
     "input": [
      "def biseccionArr(func, a, b, tolerancia, stop):\n",
      "    k = 0\n",
      "    x = (a + b)/2\n",
      "    I = (b - a)/2\n",
      "    \n",
      "    assert func(a)*func(b) < 0, \"El signo de la funci\u00f3n en los extremos deber\u00eda de ser diferente\"\n",
      "    assert func(a) != 0, \"La ra\u00edz es %.5f\" % a\n",
      "    assert func(b) != 0, \"La ra\u00edz es %.5f\" % b\n",
      "    \n",
      "    print \"%s\\t%12s\\t%12s\" % (\"k\",\"I(a,b)\", \"x\")\n",
      "    print \"%s\\tI(%.5f, %.5f)\\t%.5f\" % (\"0\",a, b, x)\n",
      "    arr=np.array([a,x,b]) \n",
      "    while I >= tolerancia and k <= stop:\n",
      "        k = k + 1\n",
      "       \n",
      "        arrf=func(arr)\n",
      "        if(arrf[0]*arrf[1] < 0):\n",
      "            arr[2]=arr[1]\n",
      "        elif(arrf[2]*arrf[1] < 0):\n",
      "            arr[0]=arr[1]\n",
      "        \n",
      "        arr[1] = (arr[2]+arr[0])/2\n",
      "        \n",
      "        I = (arr[2]-arr[0])/2\n",
      "        \n",
      "        print \"%d\\tI(%.5f, %.5f)\\t%.12f\" % (k,arr[0],arr[2], arr[1])"
     ],
     "language": "python",
     "metadata": {},
     "outputs": [],
     "prompt_number": 48
    },
    {
     "cell_type": "code",
     "collapsed": false,
     "input": [
      "def find_brackets(f, a, b, n):\n",
      "    resp=[]\n",
      "    G=np.linspace(a, b, n, endpoint=True)\n",
      "    for g in G:\n",
      "        if f(g)==0:\n",
      "            resp.append([g,g])\n",
      "    for e in range(0,n-1):\n",
      "        if f(G[e])*f(G[e+1]) < 0:\n",
      "            resp.append([G[e],G[e+1]])\n",
      "    return resp\n",
      "    "
     ],
     "language": "python",
     "metadata": {},
     "outputs": [],
     "prompt_number": 49
    },
    {
     "cell_type": "code",
     "collapsed": false,
     "input": [
      "def disbrac(F,a,b,d,e,lim):\n",
      "    g=find_brackets(F, a, b, d)\n",
      "    print g\n",
      "    for w in g:\n",
      "        biseccionArr(F,w[0],w[1],e,lim)"
     ],
     "language": "python",
     "metadata": {},
     "outputs": [],
     "prompt_number": 50
    },
    {
     "cell_type": "code",
     "collapsed": false,
     "input": [
      "u = lambda x: np.sin(10*x)+ np.cos(3*x)"
     ],
     "language": "python",
     "metadata": {},
     "outputs": [],
     "prompt_number": 51
    },
    {
     "cell_type": "code",
     "collapsed": false,
     "input": [
      "disbrac(u,3,6,20,1e-4,200)"
     ],
     "language": "python",
     "metadata": {},
     "outputs": [
      {
       "output_type": "stream",
       "stream": "stdout",
       "text": [
        "[[3.1578947368421053, 3.3157894736842106], [3.3157894736842106, 3.4736842105263159], [3.6315789473684212, 3.7894736842105265], [4.1052631578947363, 4.2631578947368425], [4.2631578947368425, 4.4210526315789469], [4.5789473684210531, 4.7368421052631575], [5.5263157894736841, 5.6842105263157894]]\n",
        "k\t      I(a,b)\t           x\n",
        "0\tI(3.15789, 3.31579)\t3.23684\n",
        "1\tI(3.23684, 3.31579)\t3.276315789474\n",
        "2\tI(3.23684, 3.27632)\t3.256578947368\n",
        "3\tI(3.25658, 3.27632)\t3.266447368421\n",
        "4\tI(3.25658, 3.26645)\t3.261513157895\n",
        "5\tI(3.26151, 3.26645)\t3.263980263158\n",
        "6\tI(3.26151, 3.26398)\t3.262746710526\n",
        "7\tI(3.26151, 3.26275)\t3.262129934211\n",
        "8\tI(3.26213, 3.26275)\t3.262438322368\n",
        "9\tI(3.26213, 3.26244)\t3.262284128289\n",
        "10\tI(3.26228, 3.26244)\t3.262361225329\n",
        "k\t      I(a,b)\t           x\n",
        "0\tI(3.31579, 3.47368)\t3.39474\n",
        "1\tI(3.31579, 3.39474)\t3.355263157895\n",
        "2\tI(3.35526, 3.39474)\t3.375000000000\n",
        "3\tI(3.35526, 3.37500)\t3.365131578947\n",
        "4\tI(3.36513, 3.37500)\t3.370065789474\n",
        "5\tI(3.36513, 3.37007)\t3.367598684211\n",
        "6\tI(3.36513, 3.36760)\t3.366365131579\n",
        "7\tI(3.36513, 3.36637)\t3.365748355263\n",
        "8\tI(3.36575, 3.36637)\t3.366056743421\n",
        "9\tI(3.36575, 3.36606)\t3.365902549342\n",
        "10\tI(3.36590, 3.36606)\t3.365979646382\n",
        "k\t      I(a,b)\t           x\n",
        "0\tI(3.63158, 3.78947)\t3.71053\n",
        "1\tI(3.71053, 3.78947)\t3.750000000000\n",
        "2\tI(3.71053, 3.75000)\t3.730263157895\n",
        "3\tI(3.73026, 3.75000)\t3.740131578947\n",
        "4\tI(3.74013, 3.75000)\t3.745065789474\n",
        "5\tI(3.74507, 3.75000)\t3.747532894737\n",
        "6\tI(3.74507, 3.74753)\t3.746299342105\n",
        "7\tI(3.74507, 3.74630)\t3.745682565789\n",
        "8\tI(3.74568, 3.74630)\t3.745990953947\n",
        "9\tI(3.74568, 3.74599)\t3.745836759868\n",
        "10\tI(3.74568, 3.74584)\t3.745759662829\n",
        "k\t      I(a,b)\t           x\n",
        "0\tI(4.10526, 4.26316)\t4.18421\n",
        "1\tI(4.18421, 4.26316)\t4.223684210526\n",
        "2\tI(4.22368, 4.26316)\t4.243421052632\n",
        "3\tI(4.22368, 4.24342)\t4.233552631579\n",
        "4\tI(4.22368, 4.23355)\t4.228618421053\n",
        "5\tI(4.22862, 4.23355)\t4.231085526316\n",
        "6\tI(4.22862, 4.23109)\t4.229851973684\n",
        "7\tI(4.22862, 4.22985)\t4.229235197368\n",
        "8\tI(4.22862, 4.22924)\t4.228926809211\n",
        "9\tI(4.22893, 4.22924)\t4.229081003289\n",
        "10\tI(4.22893, 4.22908)\t4.229003906250\n",
        "k\t      I(a,b)\t           x\n",
        "0\tI(4.26316, 4.42105)\t4.34211\n",
        "1\tI(4.26316, 4.34211)\t4.302631578947\n",
        "2\tI(4.26316, 4.30263)\t4.282894736842\n",
        "3\tI(4.26316, 4.28289)\t4.273026315789\n",
        "4\tI(4.26316, 4.27303)\t4.268092105263\n",
        "5\tI(4.26316, 4.26809)\t4.265625000000\n",
        "6\tI(4.26316, 4.26562)\t4.264391447368\n",
        "7\tI(4.26316, 4.26439)\t4.263774671053\n",
        "8\tI(4.26316, 4.26377)\t4.263466282895\n",
        "9\tI(4.26347, 4.26377)\t4.263620476974\n",
        "10\tI(4.26347, 4.26362)\t4.263543379934\n",
        "k\t      I(a,b)\t           x\n",
        "0\tI(4.57895, 4.73684)\t4.65789\n",
        "1\tI(4.65789, 4.73684)\t4.697368421053\n",
        "2\tI(4.69737, 4.73684)\t4.717105263158\n",
        "3\tI(4.69737, 4.71711)\t4.707236842105\n",
        "4\tI(4.70724, 4.71711)\t4.712171052632\n",
        "5\tI(4.71217, 4.71711)\t4.714638157895\n",
        "6\tI(4.71217, 4.71464)\t4.713404605263\n",
        "7\tI(4.71217, 4.71340)\t4.712787828947\n",
        "8\tI(4.71217, 4.71279)\t4.712479440789\n",
        "9\tI(4.71217, 4.71248)\t4.712325246711\n",
        "10\tI(4.71233, 4.71248)\t4.712402343750\n",
        "k\t      I(a,b)\t           x\n",
        "0\tI(5.52632, 5.68421)\t5.60526\n",
        "1\tI(5.60526, 5.68421)\t5.644736842105\n",
        "2\tI(5.64474, 5.68421)\t5.664473684211\n",
        "3\tI(5.66447, 5.68421)\t5.674342105263\n",
        "4\tI(5.67434, 5.68421)\t5.679276315789\n",
        "5\tI(5.67434, 5.67928)\t5.676809210526\n",
        "6\tI(5.67681, 5.67928)\t5.678042763158\n",
        "7\tI(5.67804, 5.67928)\t5.678659539474\n",
        "8\tI(5.67866, 5.67928)\t5.678967927632\n",
        "9\tI(5.67897, 5.67928)\t5.679122121711\n",
        "10\tI(5.67897, 5.67912)\t5.679045024671\n"
       ]
      }
     ],
     "prompt_number": 52
    },
    {
     "cell_type": "code",
     "collapsed": false,
     "input": [
      "import sympy as sym\n",
      "\n",
      "# Para que se vean bonitas\n",
      "from sympy.interactive import printing\n",
      "printing.init_printing(use_latex=True)"
     ],
     "language": "python",
     "metadata": {},
     "outputs": [],
     "prompt_number": 53
    },
    {
     "cell_type": "code",
     "collapsed": false,
     "input": [
      "M = sym.Symbol('m')\n",
      "G = sym.Symbol('g')\n",
      "CD = sym.Symbol('cd')\n",
      "T = sym.Symbol('t')\n",
      "V = sym.Symbol('v')\n",
      "f=sym.sqrt((G*M)/CD)*sym.tanh(sym.sqrt((G*CD)/M)*T)-V"
     ],
     "language": "python",
     "metadata": {},
     "outputs": [],
     "prompt_number": 54
    },
    {
     "cell_type": "code",
     "collapsed": false,
     "input": [
      "FF=f.subs(G,9.8).subs(CD,.25).subs(T,4).subs(V,36)\n",
      "FF"
     ],
     "language": "python",
     "metadata": {},
     "outputs": [
      {
       "latex": [
        "$$6.26099033699941 \\sqrt{m} \\tanh{\\left (6.26099033699941 \\sqrt{\\frac{1}{m}} \\right )} - 36$$"
       ],
       "metadata": {},
       "output_type": "pyout",
       "png": "[encoded data removed]",
       "prompt_number": 55,
       "text": [
        "                           \u239b                     ___\u239e     \n",
        "                   ___     \u239c                    \u2571 1 \u239f     \n",
        "6.26099033699941\u22c5\u2572\u2571 m \u22c5tanh\u239c6.26099033699941\u22c5  \u2571  \u2500 \u239f - 36\n",
        "                           \u239d                 \u2572\u2571   m \u23a0     "
       ]
      }
     ],
     "prompt_number": 55
    },
    {
     "cell_type": "code",
     "collapsed": false,
     "input": [],
     "language": "python",
     "metadata": {},
     "outputs": [],
     "prompt_number": 60
    },
    {
     "cell_type": "code",
     "collapsed": false,
     "input": [
      "def derivpatras(f,xi,xj):\n",
      "     return (f(xi)-f(xj))/(xi-xj)"
     ],
     "language": "python",
     "metadata": {},
     "outputs": [],
     "prompt_number": 57
    },
    {
     "cell_type": "code",
     "collapsed": false,
     "input": [
      "def secante(f, x0,x1, tolerancia, stop):\n",
      "    assert type(f).__bases__[0]  in (sym.expr.Expr, sym.operations.AssocOp), \"La funci\u00f3n no es una expresi\u00f3n simb\u00f3lica ... :/\"\n",
      "    \n",
      "    # Derivamos la expresi\u00f3n\n",
      "    xa=x0\n",
      "    xb=x1\n",
      "    # Convertimos en funciones las expresiones\n",
      "    F = sym.lambdify(M,f, modules=\"numpy\")\n",
      "    #DF = sym.lambdify(x, df, modules=\"numpy\")\n",
      "    \n",
      "    # Inicializamos el contador\n",
      "    k = 0\n",
      "    \n",
      "    # Inicializamos abs(x1-x0) en un n\u00famero mayor que la tolerancia\n",
      "    diff = 1\n",
      "    print \"{: >5} {: >10} {: >10} {: >10} {: >11} {: >10}\".format(\"k\", \"x0\", \"F(x0)\", \"DF(x0)\", \"abs(x1-x0)\", \"x1\")\n",
      "    \n",
      "    while diff >= tolerancia and k <= stop:\n",
      "        k = k + 1\n",
      "        df=derivpatras(F,xa,xb)\n",
      "        xc = xb - (float(F(xb)/df))\n",
      "        print \"{: >5} {: >10.5f} {: >10.5f} {: >10.5f} {: >10.5f} {: >11.5f}\".format(k, xb, F(x0), df, diff, xa)\n",
      "        \n",
      "        diff = abs(xc - xb)\n",
      "        \n",
      "        xa = xb\n",
      "        xb = xc\n",
      "        \n",
      "    if k > stop:\n",
      "        print \"El m\u00e9todo de Newton no convergi\u00f3: para la tolerancia especificada, se alcanzaron el m\u00e1ximo n\u00famero de iteraciones\"\n",
      "    \n",
      "    print \"\\n\\nLa ra\u00edz es %2.12f\" % xc"
     ],
     "language": "python",
     "metadata": {},
     "outputs": [],
     "prompt_number": 58
    },
    {
     "cell_type": "code",
     "collapsed": false,
     "input": [
      "secante(FF, 69.0,70.0, 1*10**(-8), 100)"
     ],
     "language": "python",
     "metadata": {},
     "outputs": [
      {
       "output_type": "stream",
       "stream": "stdout",
       "text": [
        "    k         x0      F(x0)     DF(x0)  abs(x1-x0)         x1\n",
        "    1   70.00000   -2.85177    0.07071    1.00000    69.00000\n",
        "    2  109.33240   -2.85177    0.04787   39.33240    70.00000\n",
        "    3  128.09442   -2.85177    0.02851   18.76201   109.33240\n",
        "    4  140.83103   -2.85177    0.02277   12.73662   128.09442\n",
        "    5  144.04219   -2.85177    0.02050    3.21115   140.83103\n",
        "    6  144.39855   -2.85177    0.02004    0.35636   144.04219\n",
        "    7  144.40668   -2.85177    0.02000    0.00813   144.39855\n",
        "    8  144.40669   -2.85177    0.01999    0.00002   144.40668\n",
        "\n",
        "\n",
        "La ra\u00edz es 144.406693960888\n"
       ]
      }
     ],
     "prompt_number": 59
    },
    {
     "cell_type": "code",
     "collapsed": false,
     "input": [
      "def secante_modificado(f, x0, tolerancia, stop):\n",
      "    assert type(f).__bases__[0]  in (sym.expr.Expr, sym.operations.AssocOp), \"La funci\u00f3n no es una expresi\u00f3n simb\u00f3lica ... :/\"\n",
      "    d=10**-6\n",
      "    # Derivamos la expresi\u00f3n\n",
      "    xa=x0\n",
      "    # Convertimos en funciones las expresiones\n",
      "    F = sym.lambdify(M,f, modules=\"numpy\")\n",
      "    \n",
      "    # Inicializamos el contador\n",
      "    k = 0\n",
      "    \n",
      "    # Inicializamos diff en un n\u00famero mayor que la tolerancia\n",
      "    diff = 1\n",
      "    print \"{: >5} {: >10} {: >10} {: >10} {: >11} {: >10}\".format(\"k\", \"x0\", \"F(x0)\", \"DF(x0)\", \"abs(x1-x0)\", \"x1\")\n",
      "    \n",
      "    while diff >= tolerancia and k <= stop:\n",
      "        k = k + 1\n",
      "        df=(F(xa+d)-F(xa))/d\n",
      "        xb = (xa+d) - (float(F(xa + d)/df))\n",
      "        print \"{: >5} {: >10.5f} {: >10.5f} {: >10.5f} {: >10.5f} {: >11.5f}\".format(k, xb, F(x0), df, diff, xa)\n",
      "        \n",
      "        diff = abs(xb - xa+d)\n",
      "        \n",
      "        xa = xb\n",
      "        \n",
      "    if k > stop:\n",
      "        print \"El m\u00e9todo de Newton no convergi\u00f3: para la tolerancia especificada, se alcanzaron el m\u00e1ximo n\u00famero de iteraciones\"\n",
      "    \n",
      "    print \"\\n\\nLa ra\u00edz es %2.12f\" % xb"
     ],
     "language": "python",
     "metadata": {},
     "outputs": [],
     "prompt_number": 73
    },
    {
     "cell_type": "code",
     "collapsed": false,
     "input": [
      "secante_modificado(FF,50.0, 2*10**(-6), 100)"
     ],
     "language": "python",
     "metadata": {},
     "outputs": [
      {
       "output_type": "stream",
       "stream": "stdout",
       "text": [
        "    k         x0      F(x0)     DF(x0)  abs(x1-x0)         x1\n",
        "    1   88.67713   -4.60534    0.11907    1.00000    50.00000\n",
        "    2  124.99437   -4.60534    0.04708   38.67713    88.67713\n",
        "    3  142.05165   -4.60534    0.02590   36.31724   124.99437\n",
        "    4  144.37203   -4.60534    0.02060   17.05729   142.05165\n",
        "    5  144.40669   -4.60534    0.02000    2.32038   144.37203\n",
        "    6  144.40669   -4.60534    0.01999    0.03465   144.40669\n",
        "    7  144.40669   -4.60534    0.01999    0.00001   144.40669\n",
        "\n",
        "\n",
        "La ra\u00edz es 144.406693960889\n"
       ]
      }
     ],
     "prompt_number": 75
    },
    {
     "cell_type": "code",
     "collapsed": false,
     "input": [],
     "language": "python",
     "metadata": {},
     "outputs": []
    }
   ],
   "metadata": {}
  }
 ]
}