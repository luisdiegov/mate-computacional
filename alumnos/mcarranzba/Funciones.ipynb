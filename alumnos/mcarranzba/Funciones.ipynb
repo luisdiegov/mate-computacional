{
 "metadata": {
  "name": "",
  "signature": "sha256:c425f4c5f210650571e13c25d7c23ec3d2cf5398fc13aad20d83c6697c862352"
 },
 "nbformat": 3,
 "nbformat_minor": 0,
 "worksheets": [
  {
   "cells": [
    {
     "cell_type": "code",
     "collapsed": false,
     "input": [
      "def decbin(n):\n",
      "    assert(n< 128 and n>-128), \"Overflow\"\n",
      "    a= []#lista respuesta\n",
      "    i=0#contador paran\u00famero de caracteres\n",
      "    aux=[]#lista auxiliar para invertir orden\n",
      "    if(n>0):#se define el digito signo\n",
      "        a.append('0')\n",
      "    else:\n",
      "        a.append('1')\n",
      "        n = -n\n",
      "    while(n > 0):#se divide y se guaradan los residuos\n",
      "        aux.append(str(n%2))\n",
      "        n = n/2 \n",
      "        i+=1\n",
      "    while i<7:#si el n\u00famero era peque\u00f1o y faltaron cifras, aqui se completan con cero, da siempre 7 digitos + signo\n",
      "        a.append('0')\n",
      "        i+=1\n",
      "    while aux!=[]:#se sacan los elementos hasta vaciarla, asi invierto el orden\n",
      "        a.append(str(aux.pop()))\n",
      "    return ''.join(a)#junta en un String"
     ],
     "language": "python",
     "metadata": {},
     "outputs": [],
     "prompt_number": 25
    },
    {
     "cell_type": "code",
     "collapsed": false,
     "input": [
      "def bindec(n):\n",
      "    a=list(n)#lista de 1 y 0\n",
      "    i=6#contador que se disminuye, corresponde a la potencia de 2\n",
      "    resp=0#entero de respuesta\n",
      "    neg=False#si el n\u00famero es negativo, se sabe al principio pero se aplica hasta que se ha terminado de sumar el n\u00famero\n",
      "    prueba=True#si pasa la pruba o es Overflow\n",
      "    for e in a:#checa que todos sean 0 o 1\n",
      "        if e!='1' and e!='0':\n",
      "            prueba=False#si no, no pasa y se marca error\n",
      "    if len(a)!=8:#checa la longuitud sea 8\n",
      "        prueba=False\n",
      "    assert(prueba), \"Overflow\"\n",
      "    primero=True#Pra identificar el primero\n",
      "    for e in a:#para cad 1 o 0\n",
      "        if primero:#si es el primero seconsidera lo del signo\n",
      "            if e=='1':\n",
      "                neg=True\n",
      "            primero=False\n",
      "        else:#si no, si es uno se suma a la respuesta el 2^i que corresponde\n",
      "            if e=='1':\n",
      "                resp+=2**i\n",
      "            i+=-1#se dismunye el contador\n",
      "    if neg:#negativo, cambia de signo\n",
      "        resp= -resp\n",
      "    return resp\n"
     ],
     "language": "python",
     "metadata": {},
     "outputs": [],
     "prompt_number": 26
    },
    {
     "cell_type": "code",
     "collapsed": false,
     "input": [
      "a=decbin(87)\n",
      "print a"
     ],
     "language": "python",
     "metadata": {},
     "outputs": [
      {
       "output_type": "stream",
       "stream": "stdout",
       "text": [
        "01010111\n"
       ]
      }
     ],
     "prompt_number": 27
    },
    {
     "cell_type": "code",
     "collapsed": false,
     "input": [
      "bindec(a) \n",
      "    "
     ],
     "language": "python",
     "metadata": {},
     "outputs": [
      {
       "metadata": {},
       "output_type": "pyout",
       "prompt_number": 28,
       "text": [
        "87"
       ]
      }
     ],
     "prompt_number": 28
    },
    {
     "cell_type": "code",
     "collapsed": false,
     "input": [
      "def binhex(n):#Pide un String con 0 y 1s \n",
      "    f = {'0':'0','1':'1','2':'2','3':'3', '4':'4', '5':'5', '6': '6', '7':'7', '8':'8', '9':'9','10':'A',\n",
      "         '11':'B', '12':'C', '13':'D', '14':'E', '15':'F'}#Diccionario funci\u00f3n para caracterizar\n",
      "    a=list(n)#lista de valores\n",
      "    val=[]#lista respuesta\n",
      "    tot=0#acumulador para cada uno delos valores delos caracteres\n",
      "    if (len(a)%4)!=0:#si no se forman series de 4\n",
      "        while (len(a)%4)!=0:#hasta que se complete el \u00faltimo\n",
      "            a.append('0')#se agregan 0\n",
      "    for i in xrange(1,(len(a)/4)+1,1):#se repite el n\u00famero de grupos de 4 formados\n",
      "        for j in xrange(0,4,1):#del 0 al 3 (4 elementos)\n",
      "            e=a.pop()#saca el \u00faltimo elemento\n",
      "            if e=='1':#si es uno\n",
      "                tot+=2**(j)#se suma el 2 elevado a la potencia correspondiente\n",
      "        val.append(f[str(tot)])#se a\u00f1exan a la lista de respuesta en su caracter seg\u00fan la funci\u00f3n\n",
      "        tot=0#se reinicia el acumulador para otro caracter\n",
      "    return ''.join(val)#junta la lista en un String"
     ],
     "language": "python",
     "metadata": {},
     "outputs": [],
     "prompt_number": 29
    },
    {
     "cell_type": "code",
     "collapsed": false,
     "input": [
      "h=binhex('1111')"
     ],
     "language": "python",
     "metadata": {},
     "outputs": [],
     "prompt_number": 30
    },
    {
     "cell_type": "code",
     "collapsed": false,
     "input": [
      "print h"
     ],
     "language": "python",
     "metadata": {},
     "outputs": [
      {
       "output_type": "stream",
       "stream": "stdout",
       "text": [
        "F\n"
       ]
      }
     ],
     "prompt_number": 31
    },
    {
     "cell_type": "code",
     "collapsed": false,
     "input": [
      "def hexbin(n):#Pide un STring en hexadecimal\n",
      "    f = {'0':'0','1':'1','2':'2','3':'3', '4':'4', '5':'5', '6': '6', '7':'7', '8':'8', '9':'9','A':'10',\n",
      "         'B':'11', 'C':'12', 'D':'13', 'E':'14', 'F':'15'}#Funci\u00f3n para obtener el valor\n",
      "    a=list(n)#lista con cada caracter separado\n",
      "    val=[]#lista vacia de respuesta\n",
      "    aux=[]#auxiliar para invertir el orden\n",
      "    while len(a) > 0:#se repite hasta vaciar la lista original\n",
      "        e=int(f[a.pop()])#se guarda el valor correspondiente como entero\n",
      "        for j in xrange(0,4,1):#a cada valor se lehacen 4 divisiones y asi se obtiene el binario\n",
      "            aux.append(str(e%2))#los residuos se anexan a un auxiliar (estan en desorden)\n",
      "            e=e/2#se avanza en los residuos\n",
      "        while len(aux)>0:#se repite hasta vaciar la auxiliar\n",
      "            val.append(aux.pop())#se meten a la lista de respuesta con el orden correcto\n",
      "    return ''.join(val)#Se junta la lista en un String"
     ],
     "language": "python",
     "metadata": {},
     "outputs": [],
     "prompt_number": 32
    },
    {
     "cell_type": "code",
     "collapsed": false,
     "input": [
      "b=hexbin('AF0')"
     ],
     "language": "python",
     "metadata": {},
     "outputs": [],
     "prompt_number": 33
    },
    {
     "cell_type": "code",
     "collapsed": false,
     "input": [
      "b"
     ],
     "language": "python",
     "metadata": {},
     "outputs": [
      {
       "metadata": {},
       "output_type": "pyout",
       "prompt_number": 34,
       "text": [
        "'000011111010'"
       ]
      }
     ],
     "prompt_number": 34
    },
    {
     "cell_type": "code",
     "collapsed": false,
     "input": [
      "binhex(b)"
     ],
     "language": "python",
     "metadata": {},
     "outputs": [
      {
       "metadata": {},
       "output_type": "pyout",
       "prompt_number": 35,
       "text": [
        "'AF0'"
       ]
      }
     ],
     "prompt_number": 35
    },
    {
     "cell_type": "code",
     "collapsed": false,
     "input": [],
     "language": "python",
     "metadata": {},
     "outputs": [],
     "prompt_number": 20
    },
    {
     "cell_type": "code",
     "collapsed": false,
     "input": [],
     "language": "python",
     "metadata": {},
     "outputs": []
    }
   ],
   "metadata": {}
  }
 ]
}