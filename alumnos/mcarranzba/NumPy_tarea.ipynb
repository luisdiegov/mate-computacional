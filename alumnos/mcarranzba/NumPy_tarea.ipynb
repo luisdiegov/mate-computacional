{
 "metadata": {
  "name": "",
  "signature": "sha256:73e0b129969e16ac62341571dd4504da0a9ee7f678af445d2a9a1b527a340517"
 },
 "nbformat": 3,
 "nbformat_minor": 0,
 "worksheets": [
  {
   "cells": [
    {
     "cell_type": "heading",
     "level": 1,
     "metadata": {},
     "source": [
      "Ejercicios de NumPy"
     ]
    },
    {
     "cell_type": "code",
     "collapsed": false,
     "input": [
      "%matplotlib inline\n",
      "import numpy as np\n",
      "import matplotlib as plt"
     ],
     "language": "python",
     "metadata": {},
     "outputs": [],
     "prompt_number": 1
    },
    {
     "cell_type": "markdown",
     "metadata": {},
     "source": [
      "Pregunta 1\n",
      "Crea los siguientes arreglos con los tipos correctos. \n",
      "\u2022Un arreglo de 5\u00d75  cuya diagonal sean [2.0,3.0,4.0,5.0] \n",
      "\u2022Un arreglo de 4\u00d74  cuyo \u00faltimo rengl\u00f3n sea [1,2,3,4]  y el resto sean 0 ."
     ]
    },
    {
     "cell_type": "code",
     "collapsed": false,
     "input": [
      "arr = np.eye(5)\n",
      "for x in xrange(1,5):\n",
      "    arr[x][x]+=x"
     ],
     "language": "python",
     "metadata": {},
     "outputs": [],
     "prompt_number": 2
    },
    {
     "cell_type": "code",
     "collapsed": false,
     "input": [
      "arr"
     ],
     "language": "python",
     "metadata": {},
     "outputs": [
      {
       "metadata": {},
       "output_type": "pyout",
       "prompt_number": 3,
       "text": [
        "array([[ 1.,  0.,  0.,  0.,  0.],\n",
        "       [ 0.,  2.,  0.,  0.,  0.],\n",
        "       [ 0.,  0.,  3.,  0.,  0.],\n",
        "       [ 0.,  0.,  0.,  4.,  0.],\n",
        "       [ 0.,  0.,  0.,  0.,  5.]])"
       ]
      }
     ],
     "prompt_number": 3
    },
    {
     "cell_type": "code",
     "collapsed": false,
     "input": [
      "arre=np.zeros((4,4)).astype(int)\n",
      "arre[3]=np.arange(4)+1\n"
     ],
     "language": "python",
     "metadata": {},
     "outputs": [],
     "prompt_number": 4
    },
    {
     "cell_type": "code",
     "collapsed": false,
     "input": [
      "arre"
     ],
     "language": "python",
     "metadata": {},
     "outputs": [
      {
       "metadata": {},
       "output_type": "pyout",
       "prompt_number": 5,
       "text": [
        "array([[0, 0, 0, 0],\n",
        "       [0, 0, 0, 0],\n",
        "       [0, 0, 0, 0],\n",
        "       [1, 2, 3, 4]])"
       ]
      }
     ],
     "prompt_number": 5
    },
    {
     "cell_type": "code",
     "collapsed": false,
     "input": [],
     "language": "python",
     "metadata": {},
     "outputs": [],
     "prompt_number": 5
    },
    {
     "cell_type": "markdown",
     "metadata": {},
     "source": [
      "Pregunta 2\n",
      "\n",
      "En este ejercicio realizaremos una criba de Erat\u00f3stenes\n",
      "\n",
      "(a) Crea un arreglo de booleanos de shape (100,), con todos sus elementos True. El \u00edndice representa el n\u00famero.\n",
      "\n",
      "bool_arr = np.ones((100,), dtype=bool)\n",
      "\n",
      "(b) \"Tacha\" los elementos 0 y 1.\n",
      "\n",
      "(c) Para cada entero subsiguiente, tacha sus m\u00faltiplos. Una manera de hacerlo es el c\u00f3digo que se muestra.\n",
      "Explica que hace el c\u00f3digo, sobretodo explica que hace el slicing.\n",
      "\n",
      "N_max = int(np.sqrt(len(bool_arr)))\n",
      "for j in range(2, N_max):\n",
      "    bool_arr[2*j::j] = False\n",
      "bool_arr\n",
      "\n",
      "(d) Mira la documentacion de np.nonzero para imprimir todos los n\u00fameros primos.\n",
      "\n",
      "(e) Encapsula lo que acabamos de hacer en una funci\u00f3n llamada criba_eratostenes, que reciba como argumento maximo \n",
      "el cual representa el tama\u00f1o del array. Muestra el resultado para maximo = {10, 100, 200}, usando un for.\n"
     ]
    },
    {
     "cell_type": "code",
     "collapsed": false,
     "input": [
      "int(np.sqrt(11))"
     ],
     "language": "python",
     "metadata": {},
     "outputs": [
      {
       "metadata": {},
       "output_type": "pyout",
       "prompt_number": 6,
       "text": [
        "3"
       ]
      }
     ],
     "prompt_number": 6
    },
    {
     "cell_type": "code",
     "collapsed": false,
     "input": [
      "def criba_eratostenes(maximo):\n",
      "    bool_arr = np.ones((maximo,), dtype=bool)#crea un arreglo de n\u00famero de elementos \"maximo\" donde al definirse como booleanos\n",
      "    #los 1s se vuelven True\n",
      "    bool_arr[0:2]=False#Defino los elementos del indice 0 a 1 como False\n",
      "    N_max = int(np.sqrt(len(bool_arr)))#Obtiene la raiz del numero de elementos en el arreglo y le aplica funci\u00f3n piso.\n",
      "    #Lo hace ya que solo tiene sentido que se ejecute la accion de tachar si es que se va a tachar algo que no lo estaba.\n",
      "    #Solo tacha algo no tachado por primera vez cuando llega a si mismo al cuadrado. Por eso maximo es el ultimo entero\n",
      "    #en el que ocurre eso\n",
      "    for j in range(2, N_max):#lo hace de dos a maximo, lo hace tambi\u00e9n para los que estan marcados como False(no primos)\n",
      "        #quiz\u00e1s esto no sea tan eficiente ya que no marcaran nada nuevo\n",
      "        bool_arr[2*j::j] = False# se marcan como False desde el 2*j (que es el primer multiplo, por cierto, no empezamos desde\n",
      "        #j ya que queremos que ese se mantenga en True), se sigue hasta que acabe el arreglo, y el tercer argumento marca\n",
      "        #el step, ya que queremos que marcque sus multiplos\n",
      "    return np.nonzero(bool_arr)\n",
      "        "
     ],
     "language": "python",
     "metadata": {},
     "outputs": [],
     "prompt_number": 7
    },
    {
     "cell_type": "code",
     "collapsed": false,
     "input": [
      "for maximo in [10,100,200]:\n",
      "    print  criba_eratostenes(maximo)"
     ],
     "language": "python",
     "metadata": {},
     "outputs": [
      {
       "output_type": "stream",
       "stream": "stdout",
       "text": [
        "(array([2, 3, 5, 7, 9]),)\n",
        "(array([ 2,  3,  5,  7, 11, 13, 17, 19, 23, 29, 31, 37, 41, 43, 47, 53, 59,\n",
        "       61, 67, 71, 73, 79, 83, 89, 97]),)\n",
        "(array([  2,   3,   5,   7,  11,  13,  17,  19,  23,  29,  31,  37,  41,\n",
        "        43,  47,  53,  59,  61,  67,  71,  73,  79,  83,  89,  97, 101,\n",
        "       103, 107, 109, 113, 127, 131, 137, 139, 149, 151, 157, 163, 167,\n",
        "       173, 179, 181, 191, 193, 197, 199]),)\n"
       ]
      }
     ],
     "prompt_number": 8
    },
    {
     "cell_type": "code",
     "collapsed": false,
     "input": [],
     "language": "python",
     "metadata": {},
     "outputs": [],
     "prompt_number": 8
    },
    {
     "cell_type": "code",
     "collapsed": false,
     "input": [
      "np.nonzero?"
     ],
     "language": "python",
     "metadata": {},
     "outputs": [],
     "prompt_number": 9
    },
    {
     "cell_type": "markdown",
     "metadata": {},
     "source": [
      "Pregunta 3\n",
      "\n",
      "Crea un cubo rubik, partiendo de un arreglo de ceros y usando slicing dibuja cada una de las caras como si estuviera \n",
      "resuelto (cada colo un entero a partir del 1 ). Muestra con indexing que est\u00e1 resuelto (es decir, imprime las seis caras). \n",
      "\u00bfCu\u00e1ntos elementos del arreglo quedaron en 0 ?"
     ]
    },
    {
     "cell_type": "code",
     "collapsed": false,
     "input": [
      "cubo=np.zeros((6,3,3), dtype=int)"
     ],
     "language": "python",
     "metadata": {},
     "outputs": [],
     "prompt_number": 27
    },
    {
     "cell_type": "code",
     "collapsed": false,
     "input": [
      "for e in range(1,7):#Una forma de representarlo, muestra claro que esta completo, aunque no tiene mucha estructura\n",
      "    cubo[e-1]=e"
     ],
     "language": "python",
     "metadata": {},
     "outputs": [],
     "prompt_number": 28
    },
    {
     "cell_type": "code",
     "collapsed": false,
     "input": [
      "cubo#no quedaron elementos en 0"
     ],
     "language": "python",
     "metadata": {},
     "outputs": [
      {
       "metadata": {},
       "output_type": "pyout",
       "prompt_number": 29,
       "text": [
        "array([[[1, 1, 1],\n",
        "        [1, 1, 1],\n",
        "        [1, 1, 1]],\n",
        "\n",
        "       [[2, 2, 2],\n",
        "        [2, 2, 2],\n",
        "        [2, 2, 2]],\n",
        "\n",
        "       [[3, 3, 3],\n",
        "        [3, 3, 3],\n",
        "        [3, 3, 3]],\n",
        "\n",
        "       [[4, 4, 4],\n",
        "        [4, 4, 4],\n",
        "        [4, 4, 4]],\n",
        "\n",
        "       [[5, 5, 5],\n",
        "        [5, 5, 5],\n",
        "        [5, 5, 5]],\n",
        "\n",
        "       [[6, 6, 6],\n",
        "        [6, 6, 6],\n",
        "        [6, 6, 6]]])"
       ]
      }
     ],
     "prompt_number": 29
    },
    {
     "cell_type": "code",
     "collapsed": false,
     "input": [
      "cubo2=np.zeros((3,3,3,6), dtype=int)#Otra forma, se muestra mejor la estructura del cubo aunque no se ve tan claro que esta completo\n",
      "cubo2[0,:,:,0]=1\n",
      "cubo2[2,:,:,1]=2\n",
      "cubo2[:,0,:,2]=3\n",
      "cubo2[:,2,:,3]=4\n",
      "cubo2[:,:,0,4]=5\n",
      "cubo2[:,:,2,5]=6\n",
      "cubo2\n"
     ],
     "language": "python",
     "metadata": {},
     "outputs": [
      {
       "metadata": {},
       "output_type": "pyout",
       "prompt_number": 50,
       "text": [
        "array([[[[1, 0, 3, 0, 5, 0],\n",
        "         [1, 0, 3, 0, 0, 0],\n",
        "         [1, 0, 3, 0, 0, 6]],\n",
        "\n",
        "        [[1, 0, 0, 0, 5, 0],\n",
        "         [1, 0, 0, 0, 0, 0],\n",
        "         [1, 0, 0, 0, 0, 6]],\n",
        "\n",
        "        [[1, 0, 0, 4, 5, 0],\n",
        "         [1, 0, 0, 4, 0, 0],\n",
        "         [1, 0, 0, 4, 0, 6]]],\n",
        "\n",
        "\n",
        "       [[[0, 0, 3, 0, 5, 0],\n",
        "         [0, 0, 3, 0, 0, 0],\n",
        "         [0, 0, 3, 0, 0, 6]],\n",
        "\n",
        "        [[0, 0, 0, 0, 5, 0],\n",
        "         [0, 0, 0, 0, 0, 0],\n",
        "         [0, 0, 0, 0, 0, 6]],\n",
        "\n",
        "        [[0, 0, 0, 4, 5, 0],\n",
        "         [0, 0, 0, 4, 0, 0],\n",
        "         [0, 0, 0, 4, 0, 6]]],\n",
        "\n",
        "\n",
        "       [[[0, 2, 3, 0, 5, 0],\n",
        "         [0, 2, 3, 0, 0, 0],\n",
        "         [0, 2, 3, 0, 0, 6]],\n",
        "\n",
        "        [[0, 2, 0, 0, 5, 0],\n",
        "         [0, 2, 0, 0, 0, 0],\n",
        "         [0, 2, 0, 0, 0, 6]],\n",
        "\n",
        "        [[0, 2, 0, 4, 5, 0],\n",
        "         [0, 2, 0, 4, 0, 0],\n",
        "         [0, 2, 0, 4, 0, 6]]]])"
       ]
      }
     ],
     "prompt_number": 50
    },
    {
     "cell_type": "code",
     "collapsed": false,
     "input": [
      "ind=cubo2!=0\n",
      "cubo2[ind]"
     ],
     "language": "python",
     "metadata": {},
     "outputs": [
      {
       "metadata": {},
       "output_type": "pyout",
       "prompt_number": 53,
       "text": [
        "array([1, 3, 5, 1, 3, 1, 3, 6, 1, 5, 1, 1, 6, 1, 4, 5, 1, 4, 1, 4, 6, 3, 5,\n",
        "       3, 3, 6, 5, 6, 4, 5, 4, 4, 6, 2, 3, 5, 2, 3, 2, 3, 6, 2, 5, 2, 2, 6,\n",
        "       2, 4, 5, 2, 4, 2, 4, 6])"
       ]
      }
     ],
     "prompt_number": 53
    },
    {
     "cell_type": "code",
     "collapsed": false,
     "input": [
      "index=cubo2==0\n",
      "len(cubo2[index])"
     ],
     "language": "python",
     "metadata": {},
     "outputs": [
      {
       "metadata": {},
       "output_type": "pyout",
       "prompt_number": 54,
       "text": [
        "108"
       ]
      }
     ],
     "prompt_number": 54
    },
    {
     "cell_type": "code",
     "collapsed": false,
     "input": [
      "cubo#no quedaron elementos en 0"
     ],
     "language": "python",
     "metadata": {},
     "outputs": []
    },
    {
     "cell_type": "code",
     "collapsed": false,
     "input": [],
     "language": "python",
     "metadata": {},
     "outputs": []
    },
    {
     "cell_type": "markdown",
     "metadata": {},
     "source": [
      "Pregunta 4\n",
      "El Sudoku es un pasatiempo que consiste en un arreglo 9\u00d79  de celdas, con d\u00edgitos del 1 al 9, de tal manera que no se repiten \n",
      "valores en cada columna, cada rengl\u00f3n y en cada subarreglo de 3\u00d73 .\n",
      "(a) Crea una funci\u00f3n llamada correcto que reciba un array 1d  de tama\u00f1o 9 e indique si est\u00e1 completo o no (i.e. incluye los \n",
      "n\u00fameros del 1 al 9.\n",
      "(b) Crea una funci\u00f3n llamada descomponer3x3 que reciba un array de enteros de 9\u00d79  y lo separe en sus 9 subarreglos 3\u00d73 .\n",
      "(c) Crea la funci\u00f3n esSolucion que recibe un array de 9\u00d79  y devuelve si es o no soluci\u00f3n del sudoku.\n"
     ]
    },
    {
     "cell_type": "code",
     "collapsed": false,
     "input": [
      "def correcto(arr):#recibe el arreglo\n",
      "    yaestan=[]#registra los n\u00fameros que ya aparecieron en el arreglo\n",
      "    resp=True#si nada la desmiente, permanece\n",
      "    assert(len(arr)==9)#checa que haya 9 elementos\n",
      "    for e in arr:\n",
      "        if(e>0 and e<10):#checa que este entre 1 y 9\n",
      "            for a in yaestan:#checasi se han repetido\n",
      "                if e==a :\n",
      "                    resp=False \n",
      "            yaestan.append(e)#lo agrega a la lista de los que ya salieron\n",
      "        else:\n",
      "            resp=False\n",
      "    \n",
      "    return resp"
     ],
     "language": "python",
     "metadata": {},
     "outputs": [],
     "prompt_number": 7
    },
    {
     "cell_type": "code",
     "collapsed": false,
     "input": [
      "def arrToList1x9(arr):#pasa de un arreglo a lista para hacerlo iterable\n",
      "    resp=[]\n",
      "    for en in range(0,9):\n",
      "        resp.append(arr[int(en)])\n",
      "    return resp"
     ],
     "language": "python",
     "metadata": {},
     "outputs": [],
     "prompt_number": 8
    },
    {
     "cell_type": "code",
     "collapsed": false,
     "input": [
      "def arrToList3x3(arr):#hace el arreglo una lista, lo hace por filas, as\u00ed es iterable\n",
      "    resp=[]\n",
      "    for e in range(0,3):\n",
      "        for f in range(0,3):\n",
      "            resp.append(arr[e][f])\n",
      "    return resp"
     ],
     "language": "python",
     "metadata": {},
     "outputs": [],
     "prompt_number": 9
    },
    {
     "cell_type": "code",
     "collapsed": false,
     "input": [
      "arr=np.array([1,4,5,6,2,7,8,9,3])\n",
      "ppp=np.array([[1,3,4],[2,5,6],[7,8,9]])"
     ],
     "language": "python",
     "metadata": {},
     "outputs": [],
     "prompt_number": 10
    },
    {
     "cell_type": "code",
     "collapsed": false,
     "input": [
      "ggg=arrToList3x3(ppp)#pruebas de los m\u00e9todos anteriores"
     ],
     "language": "python",
     "metadata": {},
     "outputs": [],
     "prompt_number": 11
    },
    {
     "cell_type": "code",
     "collapsed": false,
     "input": [
      "correcto(ggg)#pruebas de los m\u00e9todos anteriores"
     ],
     "language": "python",
     "metadata": {},
     "outputs": [
      {
       "metadata": {},
       "output_type": "pyout",
       "prompt_number": 12,
       "text": [
        "True"
       ]
      }
     ],
     "prompt_number": 12
    },
    {
     "cell_type": "code",
     "collapsed": false,
     "input": [
      "def descomponer3x3(arr):#devuelve una lista de arreglos 3x3, van ordenados por filas\n",
      "    resp=[]#hace el slicing para tomar las partes de arreglo, siguen siendo el mismo \n",
      "    for i in range(0,3):#cuenta la selecci\u00f3n de filas y suma 0*3, 1*3 o 2*3. As\u00ed, empieza en 0, 3 y 6;termina en 2, 5 y 8\n",
      "        for j in range (0,3):# lo mismo para las columnas\n",
      "            resp.append(arr[(0+3*i):(3+3*i),(0+3*j):(3+3*j)])#se meten a la lista estas secciones de 3x3\n",
      "    return resp"
     ],
     "language": "python",
     "metadata": {},
     "outputs": [],
     "prompt_number": 13
    },
    {
     "cell_type": "code",
     "collapsed": false,
     "input": [
      "g=[]\n",
      "arr1=np.arange(81)\n",
      "arr2=arr1.reshape((9,9))\n",
      "arr3=arr2[:,4]\n",
      "h=arrToList1x9(arr3);\n",
      "g=descomponer3x3(arr2);#pruebas de que todo corre bien"
     ],
     "language": "python",
     "metadata": {},
     "outputs": [],
     "prompt_number": 19
    },
    {
     "cell_type": "code",
     "collapsed": false,
     "input": [],
     "language": "python",
     "metadata": {},
     "outputs": []
    },
    {
     "cell_type": "code",
     "collapsed": false,
     "input": [],
     "language": "python",
     "metadata": {},
     "outputs": []
    },
    {
     "cell_type": "code",
     "collapsed": false,
     "input": [
      "def esSolucion(arr):\n",
      "    resp=True\n",
      "    for i in range(0,9):#para cada fila, checa que cumpla \n",
      "       if correcto( arrToList1x9(arr[i,]))==False:#necesita hacerlo una lista para que sea iterable y checar uno a uno\n",
      "            resp=False\n",
      "    for j in range(0,9):#lo mismo para las columnas\n",
      "        if correcto( arrToList1x9(arr[:,j].T))==False:\n",
      "            resp=False        \n",
      "    for k in descomponer3x3(arr):#y para los bloques 3x3\n",
      "        h=arrToList3x3(k)\n",
      "        if correcto(h)==False:\n",
      "            resp=False\n",
      "    return resp"
     ],
     "language": "python",
     "metadata": {},
     "outputs": [],
     "prompt_number": 111
    },
    {
     "cell_type": "code",
     "collapsed": false,
     "input": [
      "esSolucion(arr2)"
     ],
     "language": "python",
     "metadata": {},
     "outputs": [
      {
       "metadata": {},
       "output_type": "pyout",
       "prompt_number": 112,
       "text": [
        "False"
       ]
      }
     ],
     "prompt_number": 112
    },
    {
     "cell_type": "code",
     "collapsed": false,
     "input": [
      "prueba=np.array([[1,6,5,9,3,7,4,8,2],[9,2,4,6,8,5,7,1,3],[8,7,3,2,4,1,6,9,5],[6,1,2,4,7,9,3,5,8],[5,9,8,3,2,6,1,4,7],[4,3,7,5,1,8,9,2,6],[2,4,9,7,5,3,8,6,1],[3,5,1,8,6,4,2,7,9],[7,8,6,1,9,2,5,3,4]])"
     ],
     "language": "python",
     "metadata": {},
     "outputs": [],
     "prompt_number": 113
    },
    {
     "cell_type": "code",
     "collapsed": false,
     "input": [
      "esSolucion(prueba)#prueba con una soluci\u00f3n correcta"
     ],
     "language": "python",
     "metadata": {},
     "outputs": [
      {
       "metadata": {},
       "output_type": "pyout",
       "prompt_number": 114,
       "text": [
        "True"
       ]
      }
     ],
     "prompt_number": 114
    },
    {
     "cell_type": "markdown",
     "metadata": {},
     "source": [
      "Pregunta 5\n",
      "Utiliza el archivo sunspots.txt (localizado en la carpeta data), el cual contiene el n\u00famero de manchas \n",
      "solares por cada mes desde enero de 1749. La primera columna es el mes, el segundo el n\u00famero de manchas.\n",
      "(a) Escribe el c\u00f3digo que lea el archivo y haga una gr\u00e1fica de las manchas en funci\u00f3n del tiempo. \n",
      "Formatea el ejec x  para que se muestren cada 25 a\u00f1os empezando en 1750 . \n",
      "NOTA: La gr\u00e1fica debe de estar en calidad de publicaci\u00f3n. \n",
      "(b) Calcula el promedio m\u00f3vil. Dib\u00fajalo sobre el dibujo original.\n"
     ]
    },
    {
     "cell_type": "code",
     "collapsed": false,
     "input": [
      "%matplotlib inline\n",
      "import numpy as np\n",
      "import matplotlib.pyplot as plt"
     ],
     "language": "python",
     "metadata": {},
     "outputs": [],
     "prompt_number": 2
    },
    {
     "cell_type": "code",
     "collapsed": false,
     "input": [
      "archivo = open('sunspots.txt')\n",
      "j=0\n",
      "x=[]#contruire una lista con la primera entrada de las listas en el conjunto de listas de palabras(las l\u00edneas del archivo)\n",
      "y=[]#lista con la segunda, asi podemos graficar\n",
      "datos=[]#lista donde guardamos las listas de palabras (lineas) tras hacer el split\n",
      "for line in archivo:\n",
      "    datos.append(line.split())#hacemos listas de palabras por lineas\n",
      "#print datos\n",
      "\n",
      "for e in datos:\n",
      "    x.append(e[0])#de cada linea toma el primer elemento\n",
      "\n",
      "for e in datos:\n",
      "    y.append(e[1])#el segundo\n",
      "    j=j+1#contador para saber cuantos son\n",
      "print j\n",
      "g=[]#calcula el promedio movil\n",
      "for w in range(0,301):#para los primeros 300 meses (25 a\u00f1os)\n",
      "    h=0\n",
      "    for t in range(0,w+1):#No puede tomar 300 valores anteriores, asi que hace el promedio de los que estan antes\n",
      "        h+= float(y[w-t])\n",
      "    g.append(h/(w+1))\n",
      "for e in range(300,3142):#para los que si puede tomar 300 anteriores\n",
      "    h=0\n",
      "    for t in range(0,301):\n",
      "        h+= float(y[e-t])#suma cada uno de los 300 anteriores a \u00e9l, calcula el promedio, se toman 25 a\u00f1os ya que asi partimos\n",
      "        #la grafica y en ese punto nos daria el promedio de tal periodo\n",
      "    g.append(h/300)\n",
      "\n",
      "plt.plot(x,y);\n",
      "plt.plot(x,g,color='red');\n",
      "plt.xlim(0,3300)\n",
      "plt.ylim(0,300)\n",
      "plt.xlabel(u'Tiempo',fontsize=15)\n",
      "plt.title('Manchas solares',fontsize=15)\n",
      "plt.ylabel('Numero de manchas solares por mes',fontsize=12)\n",
      "plt.plot(x, y, color=\"blue\", linewidth=1.5, linestyle=\"-\", label=\"Registro\")\n",
      "plt.plot(x, g, color=\"red\",  linewidth=2.0, linestyle=\"-\", label=\"Media movil\")\n",
      "plt.legend(loc='upper center')\n",
      "plt.xticks(np.linspace(0, 3300, 12, endpoint=True))\n",
      "plt.xticks([0,300,600,900,1200,1500,1800,2100,2400,2700,3000,3300],\n",
      "          [1750,1775,1800,1825,1850,1875,1900,1925,1950,1975,2000,2025])\n",
      "#plt.xticks(np.linspace(1750,2015, 10, endpoint=True))\n",
      "#archivo.replace(' ', '_'))\n",
      "archivo.close()"
     ],
     "language": "python",
     "metadata": {},
     "outputs": [
      {
       "output_type": "stream",
       "stream": "stdout",
       "text": [
        "3143\n"
       ]
      },
      {
       "metadata": {},
       "output_type": "display_data",
       "png": "[encoded data removed]",
       "text": [
        "<matplotlib.figure.Figure at 0x7fe9c8af4350>"
       ]
      }
     ],
     "prompt_number": 5
    },
    {
     "cell_type": "code",
     "collapsed": false,
     "input": [],
     "language": "python",
     "metadata": {},
     "outputs": [],
     "prompt_number": 132
    },
    {
     "cell_type": "code",
     "collapsed": false,
     "input": [
      "file?"
     ],
     "language": "python",
     "metadata": {},
     "outputs": [],
     "prompt_number": 131
    },
    {
     "cell_type": "code",
     "collapsed": false,
     "input": [],
     "language": "python",
     "metadata": {},
     "outputs": [],
     "prompt_number": 114
    },
    {
     "cell_type": "code",
     "collapsed": false,
     "input": [],
     "language": "python",
     "metadata": {},
     "outputs": []
    },
    {
     "cell_type": "markdown",
     "metadata": {},
     "source": [
      "Pregunta 6\n",
      "\n",
      "Utiliza el archivo starts.txt (localizado en la carpeta data), el cual contiene la temperatura y magnitud de varias estrellas\n",
      "en la V\u00eda Lactea. Usa esta informaci\u00f3n para dibujar un scatter plot del logaritmo del brillo vs. la temperatura (en K). \n",
      "Este diagrama se conoce como diagrama de Hertzsprung-Russell. \n",
      "(a) Lee el archivo y dibuja los datos tal como vienen en el archivo. Agrega etiquetas y formatea la gr\u00e1fica de tal manera\n",
      "que tenga calidad de publicaci\u00f3n.\n",
      "(b) Ahora usa el xlim() y ylim() para que quede de manera correcta el diagrama. Hay regiones donde las estrellas parece que\n",
      "se aglomeran, ve el archivo de wikipedia y agrega anotaciones para explicarlas."
     ]
    },
    {
     "cell_type": "code",
     "collapsed": false,
     "input": [
      "archivo = open('stars.txt')\n",
      "#print archivo.readlines()#imput consumen ram, pueden da;ar los datos, tirar el servidor\n",
      "datos=[]\n",
      "j=0\n",
      "x=[]\n",
      "y=[]\n",
      "for line in archivo:\n",
      "    datos.append(line.split())\n",
      "#print datos\n",
      "\n",
      "for e in datos:\n",
      "    x.append(e[0])\n",
      "\n",
      "for e in datos:\n",
      "    y.append(e[1])\n",
      "    j=j+1\n",
      "print j\n",
      "plt.scatter(x,y);\n",
      "plt.xlim(0,15500)\n",
      "plt.ylim(-5,20)\n",
      "plt.xlabel(u'Temperatura (K)',fontsize=15)\n",
      "plt.ylabel('Luminosidad (Unidad solar)',fontsize=12)\n",
      "plt.title('Diagrama de Hertzsprung-Russell (Estrellas)',fontsize=15)\n",
      "plt.annotate(r'Secuencia principal',\n",
      "            xy=(5000, 6), xycoords='data',\n",
      "            xytext=(+100, -17), textcoords='offset points', fontsize=10,\n",
      "            arrowprops=dict(arrowstyle=\"->\", connectionstyle=\"arc3,rad=.2\"))\n",
      "plt.annotate(r'Enanas blancas',\n",
      "            xy=(4800, 0.2), xycoords='data',\n",
      "            xytext=(-20, -30), textcoords='offset points', fontsize=10,\n",
      "            arrowprops=dict(arrowstyle=\"->\", connectionstyle=\"arc3,rad=.2\"))\n",
      "plt.annotate(r'Gigantes',\n",
      "            xy=(7500, 13), xycoords='data',\n",
      "            xytext=(+70, +10), textcoords='offset points', fontsize=10,\n",
      "            arrowprops=dict(arrowstyle=\"->\", connectionstyle=\"arc3,rad=.2\"))\n",
      "plt.annotate(r'Super Gigantes',\n",
      "            xy=(4150, 18), xycoords='data',\n",
      "            xytext=(+60, +1), textcoords='offset points', fontsize=10,\n",
      "            arrowprops=dict(arrowstyle=\"->\", connectionstyle=\"arc3,rad=.2\"))\n",
      "plt.yticks([-5,0,5,10,15,20],\n",
      "          [np.e**-5,np.e**0,np.e**5,np.e**10,np.e**15,np.e**20])\n",
      "#supuse que el logaritmo de luminosidad era el natural, y los evalue para tener mejor dimension de ello\n",
      "\n",
      "#plt.xticks(np.linspace(0,15500, 10, endpoint=True))"
     ],
     "language": "python",
     "metadata": {},
     "outputs": [
      {
       "output_type": "stream",
       "stream": "stdout",
       "text": [
        "7860\n"
       ]
      },
      {
       "metadata": {},
       "output_type": "pyout",
       "prompt_number": 24,
       "text": [
        "([<matplotlib.axis.YTick at 0x7fe9c864b390>,\n",
        "  <matplotlib.axis.YTick at 0x7fe9c864bf50>,\n",
        "  <matplotlib.axis.YTick at 0x7fe9c8626510>,\n",
        "  <matplotlib.axis.YTick at 0x7fe9c8626a90>,\n",
        "  <matplotlib.axis.YTick at 0x7fe9c862f210>,\n",
        "  <matplotlib.axis.YTick at 0x7fe9c862f950>],\n",
        " <a list of 6 Text yticklabel objects>)"
       ]
      },
      {
       "metadata": {},
       "output_type": "display_data",
       "png": "[encoded data removed]",
       "text": [
        "<matplotlib.figure.Figure at 0x7fe9c8a5c5d0>"
       ]
      }
     ],
     "prompt_number": 24
    },
    {
     "cell_type": "code",
     "collapsed": false,
     "input": [
      "np.e"
     ],
     "language": "python",
     "metadata": {},
     "outputs": [
      {
       "metadata": {},
       "output_type": "pyout",
       "prompt_number": 22,
       "text": [
        "2.718281828459045"
       ]
      }
     ],
     "prompt_number": 22
    },
    {
     "cell_type": "code",
     "collapsed": false,
     "input": [],
     "language": "python",
     "metadata": {},
     "outputs": []
    }
   ],
   "metadata": {}
  }
 ]
}