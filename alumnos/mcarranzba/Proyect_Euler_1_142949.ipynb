{
 "metadata": {
  "name": "",
  "signature": "sha256:31fc862a4fc4e736c54222d24e9c2c29dacfc4b4c44d018bb05bf1b5bebb43d4"
 },
 "nbformat": 3,
 "nbformat_minor": 0,
 "worksheets": [
  {
   "cells": [
    {
     "cell_type": "code",
     "collapsed": false,
     "input": [
      "#Mario Enrique Carranza Barrag\u00e1n 142949"
     ],
     "language": "python",
     "metadata": {},
     "outputs": []
    },
    {
     "cell_type": "code",
     "collapsed": false,
     "input": [
      "#Multiples of 3 and 5\n",
      "#Problem 1\n",
      "resp=0\n",
      "for i in xrange(3,1000,3):#Sumamos los m\u00faltiplos de 3, ya que va de 3 en 3, hasta el \u00faltimo menor a 1000(recordemos que es \n",
      "    # menor estricto a 1000).\n",
      "    resp+=i\n",
      "for i in xrange(5,1000,5):#Repetimos con 5 y lo suma a la misma variable.\n",
      "    resp+=i\n",
      "for i in xrange(15,1000,15):# Como sumamos de m\u00e1s, por el principio de inclusi\u00f3n-exclusi\u00f3n, se lo restamos al acumulador.\n",
      "    resp+=-i"
     ],
     "language": "python",
     "metadata": {},
     "outputs": [],
     "prompt_number": 1
    },
    {
     "cell_type": "code",
     "collapsed": false,
     "input": [
      "resp"
     ],
     "language": "python",
     "metadata": {},
     "outputs": [
      {
       "metadata": {},
       "output_type": "pyout",
       "prompt_number": 2,
       "text": [
        "233168"
       ]
      }
     ],
     "prompt_number": 2
    },
    {
     "cell_type": "code",
     "collapsed": false,
     "input": [
      "#Even Fibonacci numbers\n",
      "#Problem 2\n",
      "p1=1; p2=1; total=0 #Declaramos como comienza la serie e iniciamos el acumulador.Empezamos con 1 y 1 ya que dadas las \n",
      "#condiciones (solo pide que sean par) de problema no importa que lugar ocupen en la serie, adem\u00e1s de que resulta conveniente \n",
      "#ya que de forma elegante incorpora el 2 a la suma de los pares.\n",
      "while (p2<4000000): #Nos importa que el t\u00e9rmino reci\u00e9n generado no sea mayor a 4000000.\n",
      "    aux1=p2 #Tenemos un apuntador en n-1, ya que vamos a ocupar su lugar para poner la suma de ambos t\u00e9rminos anterioes de \n",
      "    #la serie, es decir el sigiente t\u00e9rmino.\n",
      "    p2=p1+p2 #p(n)=p(n-2)+p(n-1)\n",
      "    p1=aux1 #Pasamos nuestro n-1 a n-2.\n",
      "    if(p2%2==0):#Checa si es par, si es as\u00ed lo suma al acumulador.\n",
      "                #Aqui no checar\u00eda a p(n-2)=1, pero sabemos que no es par as\u00ed que no entra a la suma.\n",
      "        total+=p2\n",
      "\n",
      "print total"
     ],
     "language": "python",
     "metadata": {},
     "outputs": [
      {
       "output_type": "stream",
       "stream": "stdout",
       "text": [
        "4613732\n"
       ]
      }
     ],
     "prompt_number": 58
    },
    {
     "cell_type": "code",
     "collapsed": false,
     "input": [
      "#Largest prime factor\n",
      "#Problem 3\n",
      "num=600851475143;i=2;primo=True;cont=-1 # 'num' es nuestro n\u00famero a desomponer en primos.'i' es un contador que servir\u00e1 para \n",
      "#determinar si un n\u00famero es primo o no, por eso es conveniente empezarlo en 2. 'primo' dice si i es primo o no, lo iniciamos\n",
      "#en verdadero ya que ser primo consiste en pasar una prueba de no ser dividido por un primo menor, cosa que volver\u00eda falso este\n",
      "#atributo, asi que conviene dejarlo en True hasta que se muestre lo contrario. 'cont' es quien nos dira en que lugar de la lista \n",
      "#est\u00e1 el \u00faltimo (y por construcci\u00f3n el mayor) primo que divide a num.\n",
      "import math\n",
      "rnum=int(math.ceil(math.sqrt( num )))#Sabemos por teorema que un n\u00famero no puede tener a un divisor primo mayor estricto a su \n",
      "#raiz cuadrada y distinto de si mismo. Por lo que si supera esta cifra hecha entera con funcion ceil, entonces el residuo debe \n",
      "#ser un n\u00famero primo, de hecho el mayor.\n",
      "factores=[]#Lista de componentes primos del n\u00famero, la repeticion de un mismo primo indica su multiplicidad.\n",
      "primos=[]#Lista de los primeros primos, se va contruyendo conforme se requieran.\n",
      "while i <= rnum:#Solo checaremos los primos menores al cociente del n\u00famero y los factores primos que ya descubrimos\n",
      "    #(con su respectiva multiplicidad).\n",
      "    for e in primos:#Checa en la lista de primos que ya hemos generado si existe alguno que divida al actual i.\n",
      "        if (i%e)==0:\n",
      "            primo=False#Si esto pasa el n\u00famero i no es primo.\n",
      "    if primo==True:# Si tras probarse con todos los primos de la lista, no se pudo dividir\n",
      "        primos.append(i)#se agraga a la lista, en \u00faltimo lugar.\n",
      "        while (num%i)==0:#Se checa si este nuevo primo devide a num, si es de multiplicidad mayor a uno se vuelve a ejecutar \n",
      "            #hasta sacar todos sus instancias.\n",
      "            factores.append(i)#Si lo divide, se agrega a la lista de factores.\n",
      "            cont+=1#Se cuenta donde esta ahora el \u00faltimo lugar.\n",
      "            num=num/i #Se divide y se toma el nuevo cociente como num, ya que los factores primos que restan no pueden ser \n",
      "            #mayores.\n",
      "            rnum=int(math.ceil(math.sqrt( num )))#De hecho, no pueden ser mayores a la raiz de este cociente, a menos que,\n",
      "            #en efecto, este mismo cociente sea primo.\n",
      "    primo=True # Se vuelve a colocar True como condicion inicial a tratar de ser negada.\n",
      "    i+=1#Avanzamos uno y volvemos a checar todo.\n",
      "divisores.append(num)#El cociente es agregado a la lista de factores, debe ser primo ya que no pudo ser dividido por su primos \n",
      "#menores y sus multiplicidades, como nuestro descarte fue creciente, este es el mayor factor primo.\n",
      "cont+=1 #Dice el lugar del \u00faltimo factor en la lista."
     ],
     "language": "python",
     "metadata": {},
     "outputs": [],
     "prompt_number": 52
    },
    {
     "cell_type": "code",
     "collapsed": false,
     "input": [
      "for h in divisores:#Los factores primos de num, la repeticion indica multiplicidad.\n",
      "    print h"
     ],
     "language": "python",
     "metadata": {},
     "outputs": [
      {
       "output_type": "stream",
       "stream": "stdout",
       "text": [
        "71\n",
        "839\n",
        "1471\n",
        "6857\n",
        "6857\n"
       ]
      }
     ],
     "prompt_number": 53
    },
    {
     "cell_type": "code",
     "collapsed": false,
     "input": [
      "divisores[cont]#\u00daltimo factor primo."
     ],
     "language": "python",
     "metadata": {},
     "outputs": [
      {
       "metadata": {},
       "output_type": "pyout",
       "prompt_number": 54,
       "text": [
        "6857"
       ]
      }
     ],
     "prompt_number": 54
    },
    {
     "cell_type": "code",
     "collapsed": false,
     "input": [],
     "language": "python",
     "metadata": {},
     "outputs": []
    }
   ],
   "metadata": {}
  }
 ]
}