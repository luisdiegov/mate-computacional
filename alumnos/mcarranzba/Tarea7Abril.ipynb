{
 "metadata": {
  "name": "",
  "signature": "sha256:e300ece8c2fde75a10e248ead3480d596224bc642b0e86eb9e2de2455a32b1b7"
 },
 "nbformat": 3,
 "nbformat_minor": 0,
 "worksheets": [
  {
   "cells": [
    {
     "cell_type": "heading",
     "level": 1,
     "metadata": {},
     "source": [
      "Tareas"
     ]
    },
    {
     "cell_type": "code",
     "collapsed": false,
     "input": [
      "%pylab inline\n",
      "import numpy as np\n",
      "import matplotlib.pyplot as plt"
     ],
     "language": "python",
     "metadata": {},
     "outputs": [
      {
       "output_type": "stream",
       "stream": "stdout",
       "text": [
        "Populating the interactive namespace from numpy and matplotlib\n"
       ]
      }
     ],
     "prompt_number": 1
    },
    {
     "cell_type": "code",
     "collapsed": false,
     "input": [
      "from IPython.html.widgets import interact, fixed\n",
      "from IPython.html import widgets"
     ],
     "language": "python",
     "metadata": {},
     "outputs": [],
     "prompt_number": 2
    },
    {
     "cell_type": "code",
     "collapsed": false,
     "input": [
      "\n",
      "%load_ext autoreload\n",
      "%autoreload 2"
     ],
     "language": "python",
     "metadata": {},
     "outputs": [],
     "prompt_number": 3
    },
    {
     "cell_type": "code",
     "collapsed": false,
     "input": [
      "from __future__ import division"
     ],
     "language": "python",
     "metadata": {},
     "outputs": [],
     "prompt_number": 4
    },
    {
     "cell_type": "heading",
     "level": 2,
     "metadata": {},
     "source": [
      "Problema 1"
     ]
    },
    {
     "cell_type": "markdown",
     "metadata": {},
     "source": [
      "Utilizando el c\u00f3digo de runge-kutta de segundo orden como base, implemente el c\u00f3digo de runge-kutta de cuarto orden. La funci\u00f3n debe de llamarse `rk4`. "
     ]
    },
    {
     "cell_type": "code",
     "collapsed": false,
     "input": [
      "def RK4(y, t, dt, derivadas):#es una adaptaci\u00f3n del que aparece en wikipedia con los dt colocados como en el algoritmo del rk2, \n",
      "    #resulta conveniente ponerlos asi\n",
      "    k0 = dt*derivadas(y, t)\n",
      "    k1 = dt*derivadas(y + (.5)*k0, t + (.5)*dt)\n",
      "    k2 = dt*derivadas(y + (.5)*k1, t + (.5)*dt)\n",
      "    k3 = dt*derivadas(y + k2, t + dt)\n",
      "    y_next = y + (1/6)*(k0 + 2 * k1 + 2 * k2 + k3)\n",
      "    \n",
      "    return y_next"
     ],
     "language": "python",
     "metadata": {},
     "outputs": [],
     "prompt_number": 85
    },
    {
     "cell_type": "code",
     "collapsed": false,
     "input": [
      "def euler(y, t, dt, derivadas):\n",
      "    y_next = y + derivadas(y, t)*dt\n",
      "    return y_next"
     ],
     "language": "python",
     "metadata": {},
     "outputs": [],
     "prompt_number": 86
    },
    {
     "cell_type": "heading",
     "level": 2,
     "metadata": {},
     "source": [
      "Problema 2"
     ]
    },
    {
     "cell_type": "code",
     "collapsed": false,
     "input": [],
     "language": "python",
     "metadata": {},
     "outputs": [],
     "prompt_number": 5
    },
    {
     "cell_type": "code",
     "collapsed": false,
     "input": [],
     "language": "python",
     "metadata": {},
     "outputs": [],
     "prompt_number": 5
    },
    {
     "cell_type": "code",
     "collapsed": false,
     "input": [
      "class Economia:#retomo del ejercicio del p\u00e9ndulo y lo adapto a la econom\u00eda, lo mas importante es modificar la dinamica y como se obtiene \n",
      "    #el costo\n",
      "     def  __init__(self, alfa, epsilon):\n",
      "        self.alfa = alfa\n",
      "        self.epsilon = epsilon\n",
      "        \n",
      "     def initial_conditions(self, demanda_i, extraida_i):\n",
      "        self.demanda_i =demanda_i\n",
      "        self.extraida_i = extraida_i\n",
      "        \n",
      "     def demanda(self):\n",
      "        return self.trajectory[:,0]\n",
      "    \n",
      "     def extraida(self):\n",
      "        return self.trajectory[:,1]\n",
      "    \n",
      "     def razon(self):\n",
      "        return self.razonv[:]\n",
      "    \n",
      "     def costo(self):\n",
      "        return (self.trajectory[:,0] / self.razonv[:]) * self.epsilon #operaci\u00f3n de vectores y despu\u00e9s un reescalmiento\n",
      "    \n",
      "     def dynamics(self, state, t):\n",
      "        g0 =self.alfa * state[1] #esta columna lleva la demanda, para el siguiente lo aumenta considerando el actual, \n",
      "        #la extracci\u00f3n y la constante alfa\n",
      "        g1 =state[0] * (1 - state[1]) # esta lleva la extracci\u00f3n,  para el siguiente lo aumenta considerando el actual, \n",
      "        #y la demanda\n",
      "        return np.array([g0, g1])\n",
      "    \n",
      "    \n",
      "     def plot(self):\n",
      "        fig, ax = plt.subplots(3,1, figsize=(10,8), sharex = True)\n",
      "\n",
      "        ax[0].plot(self.tau, self.razon(), label=\"Tasa de Extraccion\", color=\"blue\")\n",
      "        ax[1].plot(self.tau, self.demanda(), label=\"Demanda\", color=\"green\")\n",
      "        ax[2].plot(self.tau, self.costo(),  marker='o', linestyle='None', color='red', label=\"Costo\")\n",
      "\n",
      "        ax[0].set_ylabel(\"Tasa de Extraccion(U/s)\")\n",
      "        ax[0].set_xlabel(\"tiempo (s)\")\n",
      "\n",
      "        ax[1].set_ylabel(\"Demanda(U)\")\n",
      "        ax[1].set_xlabel(\"tiempo (s)\")\n",
      "\n",
      "        ax[2].set_ylabel(\"Costo (p)\")\n",
      "        ax[2].set_xlabel(\"tiempo (s)\")\n",
      "        \n",
      "     def integrate(self, num_steps, t_i, t_f, method):\n",
      "        \n",
      "        self.tau, self.dt = np.linspace(t_i, t_f, num=num_steps, retstep=True)\n",
      "        self.trajectory = np.zeros([num_steps, 2])\n",
      "        self.razonv = np.zeros(num_steps)\n",
      "        self.trajectory[0,0] = self.demanda_i\n",
      "        self.trajectory[0,1] = self.extraida_i\n",
      "        self.razonv[0] = .1\n",
      "        for j in range(num_steps-1):\n",
      "            self.trajectory[j+1] = method(self.trajectory[j], self.tau[j], self.dt, self.dynamics) \n",
      "            self.razonv[j+1] = self.trajectory[j,0] * (1 - self.trajectory[j,1])"
     ],
     "language": "python",
     "metadata": {},
     "outputs": [],
     "prompt_number": 78
    },
    {
     "cell_type": "code",
     "collapsed": false,
     "input": [
      "p = Economia(alfa = 2.0, epsilon = 0.01)\n",
      "p.initial_conditions(demanda_i=0.1, extraida_i=0.1)"
     ],
     "language": "python",
     "metadata": {},
     "outputs": [],
     "prompt_number": 79
    },
    {
     "cell_type": "code",
     "collapsed": false,
     "input": [
      "N = 6\n",
      "tiempo_inicial = 0.0\n",
      "tiempo_final = 5.0"
     ],
     "language": "python",
     "metadata": {},
     "outputs": [],
     "prompt_number": 80
    },
    {
     "cell_type": "code",
     "collapsed": false,
     "input": [
      "p.integrate(N, tiempo_inicial, tiempo_final, RK4)"
     ],
     "language": "python",
     "metadata": {},
     "outputs": [
      {
       "output_type": "stream",
       "stream": "stdout",
       "text": [
        "[ 0.01        0.05039083  0.04479594  0.07318696  0.16366083  0.04765703]\n"
       ]
      }
     ],
     "prompt_number": 81
    },
    {
     "cell_type": "code",
     "collapsed": false,
     "input": [
      "p.plot()"
     ],
     "language": "python",
     "metadata": {},
     "outputs": [
      {
       "metadata": {},
       "output_type": "display_data",
       "png": "[encoded data removed]",
       "text": [
        "<matplotlib.figure.Figure at 0x7f88fc135e90>"
       ]
      }
     ],
     "prompt_number": 82
    },
    {
     "cell_type": "code",
     "collapsed": false,
     "input": [
      "def econ(alf,eps):\n",
      "    p = Economia(alfa = alf, epsilon = eps)\n",
      "    p.initial_conditions(demanda_i=0.5, extraida_i=0.5)\n",
      "    N = 6\n",
      "    tiempo_inicial = 0.0\n",
      "    tiempo_final = 5.0\n",
      "    p.integrate(N, tiempo_inicial, tiempo_final, RK4)\n",
      "    p.plot()"
     ],
     "language": "python",
     "metadata": {},
     "outputs": [],
     "prompt_number": 95
    },
    {
     "cell_type": "code",
     "collapsed": false,
     "input": [
      "interact(econ,alf=(0.00,4.00,0.4),eps=(0.0,0.02,0.002));"
     ],
     "language": "python",
     "metadata": {},
     "outputs": [
      {
       "output_type": "stream",
       "stream": "stdout",
       "text": [
        "[ 0.05        0.0618      0.10259531  0.22742833  0.06689301  0.04554642]\n"
       ]
      },
      {
       "metadata": {},
       "output_type": "display_data",
       "png": "[encoded data removed]",
       "text": [
        "<matplotlib.figure.Figure at 0x7f88fbbb9490>"
       ]
      }
     ],
     "prompt_number": 96
    },
    {
     "cell_type": "markdown",
     "metadata": {},
     "source": [
      "b)Probe empleando rk4 y euler para ver como se comportaban.\n",
      "Euler se vuelve la tasa de extracci\u00f3n decreciente en el momento 4 y para el 5 el costo se vuelve negativo.\n",
      "Quiz\u00e1s es por la tasa de extracci\u00f3n. Esto a su vez puede deverse a que se alej\u00f3 mucho el punto seguiente ya que no estan preciso.\n",
      "RK4 tiene una tasa de extracci\u00f3n creciente hasta el momento 3, despues se vuelve decreciente. A diferencia de euler se hace de nuevo\n",
      "creciente en el 4 y no llega a 0.\n",
      "Por eso, el costo se eleva mucho para el momento 4 pero regresa en el 5. No ocurre el sinsentido de que se vuelva negativo\n",
      "como en euler, por lo que podemos comprobar lo importante que sea mejor aproximaci\u00f3n.\n",
      "d) Habiendo ajustado la din\u00e1mica adecuadamente se obtienen trayectorias con sentido y algo sorprendentes.\n",
      "En particular, que en un momento el costo suba radicalmente y luego se ajuste.\n",
      "Con alfas peque\u00f1os este crecimiento subito se aminora o incluso desaparece mientras que con alfa 2.8 por ejemplo se da el incremento radical. Curiosamente, si el alfa es mayor a 3 la gr\u00e1fica deja de tener sentido ya que la tasa de extraccion se estanca en 0 y el costo se hace 0 para despues hacerse negativo.\n",
      "Las variaciones en el factor de escala no son muy significativos ya que solo rescalan los cambios.\n",
      "Aumentando a .5 la demanda el sistema permanece con una tasa de extracci\u00f3n baja al principio, pero despu\u00e9s sube notablemente.\n",
      "El costo tiene apogeo en el momento 3, mientras que la demanda tambi\u00e9n sube aunque no tan dr\u00e1sticamente\n",
      "Si se aumenta tambi\u00e9n la demanda a .5 la tasa de ext y la demanda se mantienen constantes hasta el momento 4 que suben dr\u00e1sticamente.\n",
      "Curiosamente el costo tiene un m\u00e1ximo en el momento 3."
     ]
    },
    {
     "cell_type": "markdown",
     "metadata": {},
     "source": [
      "La taza a la cual un recurso finito es recogido depende de la dificultad y de la demanda. Sup\u00f3n que la demanda $D$ se incrementa con la cantidad extra\u00edda $E$:\n",
      "\n",
      "$$\\dot D = \\alpha E$$\n",
      "\n",
      "Sup\u00f3n que la dificultad de extracci\u00f3n $W$ es inversamentedependiente de la fracci\u00f3n restante del recurso:\n",
      "\n",
      "$$\n",
      "W = \\frac{1}{1 -E}\n",
      "$$\n",
      "\n",
      "Finalmente, sup\u00f3n que la tasa de extracci\u00f3n $$ es la raz\u00f3n de la demanda a la dificultad.\n",
      "\n",
      "$$ R = \\dot E = \\frac{D}{W} $$\n",
      "\n",
      "Por \u00faltimo, el costo $C$ del recurso depende de la tasa de la extracci\u00f3n y de la demanda:\n",
      "\n",
      "$$ C = \\frac{D}{R}\\xi$$,\n",
      "\n",
      "donde $\\xi$ es un factor de escala.\n",
      "\n",
      "(a) Escribe un programa que dibuja la tasa de la extracci\u00f3n y el costo como una funci\u00f3n del tiempo. Usando las condiciones iniciales: $D_0 = 0.1$, $E_0 = 0.1$,  $\\alpha = 2.0$ y $\\xi = 0.01$. Grafica de 0 a 5 unidades de tiempo. \n",
      "\n",
      "\n",
      "(b) Resuelve con `rk4` y con  `odeint`. Compara los tiempos y los resultados. \u00bfQu\u00e9 puedes concluir?\n",
      "\n",
      "(c) Agrega un _widget_ para los valores de $\\alpha$ y $\\xi$.\n",
      "\n",
      "(d) Discute la din\u00e1mica del sistema en general y menciona algunos hallazgos interesantes para diferentes valores y condiciones iniciales."
     ]
    },
    {
     "cell_type": "heading",
     "level": 2,
     "metadata": {},
     "source": [
      "Problema 3"
     ]
    },
    {
     "cell_type": "markdown",
     "metadata": {},
     "source": [
      "(a) Calcular el valor de $\\pi$ usando m\u00e9todos de Monte Carlo.\n",
      "\n",
      "(b) El \"volumen\" de una 2-esfera (un c\u00edrculo)   $x^2 + y^2 = r^2$ es \n",
      "\n",
      "$$\\pi r^2$$,\n",
      "\n",
      "el volumen de la 3-esfera $x^2 + y^2 + z^2 = r^2$ es \n",
      "\n",
      "\n",
      "$$\\frac{4}{3} \\pi r^3$$. \n",
      "\n",
      "\n",
      "La 4-esfera $x^2 + y^2 + z^2 + w^2 = r^2$, podemos suponer (usando los ejemplos anteriores) que el hipervolumen de la 4-esfera es \n",
      "\n",
      "$$\\alpha\\pi r^4$$. \n",
      "\n",
      "\n",
      "Usando t\u00e9cnicas de Monte Carlo estima $\\alpha$."
     ]
    },
    {
     "cell_type": "code",
     "collapsed": false,
     "input": [],
     "language": "python",
     "metadata": {},
     "outputs": []
    }
   ],
   "metadata": {}
  }
 ]
}