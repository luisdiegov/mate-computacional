{
 "metadata": {
  "name": "",
  "signature": "sha256:061ac8cf6364be039dea8218b12279b0172f5d33a9179630845ad219573e6e78"
 },
 "nbformat": 3,
 "nbformat_minor": 0,
 "worksheets": [
  {
   "cells": [
    {
     "cell_type": "code",
     "collapsed": false,
     "input": [
      "n = {'0':0,'1':3,'2':3,'3':5, '4':4, '5':4, '6': 3, '7':5, '8':5, '9':4, '10':3, '11':6, '12':6, '13':8, '14':8, '15':7,'16':7,\n",
      "       '17':9, '18':8, '19':8, '20':6,'30':6, '40':5, '50':5,'60':5,'70':7,'80':6,'90':6, '100':10, '1000':8 }\n",
      "#pongo a 100 7 por 'hundred and', si es terminacion 00, le resto 3."
     ],
     "language": "python",
     "metadata": {},
     "outputs": [],
     "prompt_number": 2
    },
    {
     "cell_type": "code",
     "collapsed": false,
     "input": [
      "total=0\n",
      "for e in xrange(1,1000,1):\n",
      "    pal=0#empezamos cuenta de un nuevo n\u00famero\n",
      "    c=e/100#cifra centenas\n",
      "    if c!=0:#para que no le agrege el hundred and\n",
      "        pal+=n[str(c)]+n['100']#suma n\u00famero y hundred and\n",
      "    r1=e%100#toma las decenas y unidades\n",
      "    if r1==0:#Checa si es 00, como 200 o 300\n",
      "        pal+=-3#quitamos el and si es que termina en 00\n",
      "    d=r1/10#cifra decenas\n",
      "    if d!=0 and d!=1:#Checa si esta entre 1 y 19, que son aparte\n",
      "        pal+=n[str(d*10)]#suma la palabra de decena\n",
      "        u=r1%10#calcula la unidad\n",
      "        pal+=n[str(u)]#la suma\n",
      "    else:#caso donde se toma directo como unidad (1-19)\n",
      "         pal+=n[str(r1)]#suma las letras\n",
      "    total+=pal#agrega el resultante al global\n",
      "total+=n['1'] + n['1000']#agregamos el mil\n",
      "    "
     ],
     "language": "python",
     "metadata": {},
     "outputs": [],
     "prompt_number": 3
    },
    {
     "cell_type": "code",
     "collapsed": false,
     "input": [
      "total"
     ],
     "language": "python",
     "metadata": {},
     "outputs": [
      {
       "metadata": {},
       "output_type": "pyout",
       "prompt_number": 4,
       "text": [
        "21124"
       ]
      }
     ],
     "prompt_number": 4
    },
    {
     "cell_type": "code",
     "collapsed": false,
     "input": [
      "resp=0\n",
      "#lo que hace este algoritmo es contar todas las posibles combinaciones distintas de monedas 100,50,20,10,5 y 2 tales que\n",
      "#la suma de sus valores sea igual o menor a 200 (El caso de la moneda de 200 se suma aparte ya que no puede\n",
      "#combinarse con nada m\u00e1s). Se pueden considerar todas estas como soluciones ya que para que sumen las 200\n",
      "#unidades pedidas hace falta solamente sumar monedas de uno, cosa que puede hacerse para cualquier cantidad y que adem\u00e1s solo\n",
      "#puede hacerse de una \u00fanica forma. Es por ello que no se considera un for para las unidades.\n",
      "for a in xrange(0,201,100):#el step indica el valor agregado al avanzar una moneda en ese for\n",
      "        for b in xrange(a,201,50):#el a considera lo que ya se ha acumulado con las otras denominaciones\n",
      "            for c in xrange(b,201,20):\n",
      "                for d in xrange(c,201,10):\n",
      "                    for e in xrange(d,201,5):\n",
      "                        for f in xrange(e,201,2):\n",
      "                             resp+=1#para cada convinaci\u00f3n suma 1 ya que con monedas de 1 se hace soluci\u00f3n\n",
      "resp+=1#por la convinaci\u00f3n donde solo se toma una moneda de 200"
     ],
     "language": "python",
     "metadata": {},
     "outputs": [],
     "prompt_number": 12
    },
    {
     "cell_type": "code",
     "collapsed": false,
     "input": [
      "resp"
     ],
     "language": "python",
     "metadata": {},
     "outputs": [
      {
       "metadata": {},
       "output_type": "pyout",
       "prompt_number": 13,
       "text": [
        "73682"
       ]
      }
     ],
     "prompt_number": 13
    },
    {
     "cell_type": "code",
     "collapsed": false,
     "input": [],
     "language": "python",
     "metadata": {},
     "outputs": []
    }
   ],
   "metadata": {}
  }
 ]
}