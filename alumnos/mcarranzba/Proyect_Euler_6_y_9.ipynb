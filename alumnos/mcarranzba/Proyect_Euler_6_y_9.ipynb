{
 "metadata": {
  "name": "",
  "signature": "sha256:86a6a96a80138a96d7686de82fd23e62ed63fff361fa6147e1790c6c92170413"
 },
 "nbformat": 3,
 "nbformat_minor": 0,
 "worksheets": [
  {
   "cells": [
    {
     "cell_type": "code",
     "collapsed": false,
     "input": [
      "sumacuadrados=0#Acumulador\n",
      "suma=0# Acumulador y despues elevamos al cuadrado.\n",
      "for i in xrange(1,101, 1):\n",
      "    sumacuadrados+=i**2\n",
      "for i in xrange(1,101,1):\n",
      "    suma+=i\n",
      "cuadradosuma=suma**2 #Elevamos al cuadrado.\n",
      "dif=cuadradosuma-sumacuadrados#Sacamos la diferencia."
     ],
     "language": "python",
     "metadata": {},
     "outputs": [],
     "prompt_number": 21
    },
    {
     "cell_type": "code",
     "collapsed": false,
     "input": [
      "dif"
     ],
     "language": "python",
     "metadata": {},
     "outputs": [
      {
       "metadata": {},
       "output_type": "pyout",
       "prompt_number": 24,
       "text": [
        "25164150"
       ]
      }
     ],
     "prompt_number": 24
    },
    {
     "cell_type": "code",
     "collapsed": false,
     "input": [
      "from math import sqrt\n",
      "num=[]#Lista de soluciones en ternas.\n",
      "for a in xrange(1,1001, 1):# Para a va a probar con todos los enteros desde 1 a 1000.\n",
      "    for b in xrange(a+1,1001-a, 1):# b>a, por lo que puede empezar desde a+1, tambi\u00e9n, ya que lo que importa es que la suma\n",
      "        # de a, b y c sea 1000, por lo que limitamos a b hasta 1000-a, ya que es la unica variable que conocemos en este for.\n",
      "        c=sqrt(a**2+b**2) #Calculamos c.\n",
      "        if c+a+b==1000:#Sabemos que para que la terna sea pitagorica se debe cumplir que a,b y c son enteros, pero al ser a y b \n",
      "            # enteros a+b+c=1000(que es entero) si y solo si c es entero, por lo que solo concidera esas soluciones.\n",
      "            #Adem\u00e1s, se defini\u00f3 en los for a<b, y como a<=1, b<c=sqrt(a^2+b^2), as\u00ed tambien se cumple a<b<c\n",
      "            num.append([a,b,int(c)])#Si se cumple lo agregamos a la lista."
     ],
     "language": "python",
     "metadata": {},
     "outputs": [],
     "prompt_number": 4
    },
    {
     "cell_type": "code",
     "collapsed": false,
     "input": [
      "num"
     ],
     "language": "python",
     "metadata": {},
     "outputs": [
      {
       "metadata": {},
       "output_type": "pyout",
       "prompt_number": 5,
       "text": [
        "[[200, 375, 425]]"
       ]
      }
     ],
     "prompt_number": 5
    },
    {
     "cell_type": "code",
     "collapsed": false,
     "input": [],
     "language": "python",
     "metadata": {},
     "outputs": []
    }
   ],
   "metadata": {}
  }
 ]
}