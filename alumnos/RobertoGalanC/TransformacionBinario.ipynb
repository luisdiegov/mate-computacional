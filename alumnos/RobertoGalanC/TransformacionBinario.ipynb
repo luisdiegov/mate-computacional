{
 "metadata": {
  "name": "",
  "signature": "sha256:4824b29b27a06c4e47f368ff836bed196368506414b71d1a107ea2a815632037"
 },
 "nbformat": 3,
 "nbformat_minor": 0,
 "worksheets": [
  {
   "cells": [
    {
     "cell_type": "code",
     "collapsed": false,
     "input": [
      "#decimal a binario \n",
      "def decimalbinario(x):\n",
      "    i=1\n",
      "    bin=0\n",
      "    while x>0:\n",
      "        a=x%2\n",
      "        bin=bin+(i*a)\n",
      "        x= x/2\n",
      "        i=i*10\n",
      "    return bin\n"
     ],
     "language": "python",
     "metadata": {},
     "outputs": [],
     "prompt_number": 2
    },
    {
     "cell_type": "code",
     "collapsed": false,
     "input": [
      "print decimalbinario(1101)\n"
     ],
     "language": "python",
     "metadata": {},
     "outputs": [
      {
       "output_type": "stream",
       "stream": "stdout",
       "text": [
        "10001001101\n"
       ]
      }
     ],
     "prompt_number": 3
    },
    {
     "cell_type": "code",
     "collapsed": false,
     "input": [
      "#binario a decimal\n",
      "listabinario=[]\n",
      "def binariodecimal(x):\n",
      "     dec=0\n",
      "     while(x>0):\n",
      "        a=x%10\n",
      "        listabinario.append(a)\n",
      "        x=x/10\n",
      "     for i in range(0, len(listabinario),1):\n",
      "            dec = dec + listabinario[i]*(2**i)\n",
      "    \n",
      "     return dec"
     ],
     "language": "python",
     "metadata": {},
     "outputs": [],
     "prompt_number": 4
    },
    {
     "cell_type": "code",
     "collapsed": false,
     "input": [
      "print binariodecimal(1000)\n",
      "listabinario=[]"
     ],
     "language": "python",
     "metadata": {},
     "outputs": [
      {
       "output_type": "stream",
       "stream": "stdout",
       "text": [
        "8\n"
       ]
      }
     ],
     "prompt_number": 8
    },
    {
     "cell_type": "code",
     "collapsed": false,
     "input": [
      "#decimal a hexadecimal\n",
      "listabinario=[]\n",
      "def decimalhex(x):\n",
      "    while(x>0):\n",
      "        a=x%10\n",
      "        listabinario.append(a)\n",
      "        x=x/10\n",
      "    hex = 0\n",
      "    dec = 0\n",
      "    for i in range(0,len(listabinario)/4,1):\n",
      "        dec = dec + listabinario[i]*(10**i)\n",
      "        p = binariodecimal(dec)\n",
      "        if p==0:\n",
      "            hex=hex+0\n",
      "        elif p==1:\n",
      "            hex = hex + 1\n",
      "        elif p==2:\n",
      "            hex = hex + 2\n",
      "        elif p==3:\n",
      "            hex = hex + 3    \n",
      "        elif p==4:\n",
      "            hex = hex + 4\n",
      "        elif p==5:\n",
      "            hex = hex + 5\n",
      "        elif p==6:\n",
      "            hex = hex + 6\n",
      "        elif p==7:\n",
      "            hex = hex + 7\n",
      "        elif p==8:\n",
      "            hex = hex + 8\n",
      "        elif p==9:\n",
      "            hex = hex + 9\n",
      "        elif p==10:\n",
      "            hex = hex + \"A\"\n",
      "        elif p==11:\n",
      "            hex = hex + \"B\"\n",
      "        elif p==12:\n",
      "            hex = hex + \"C\"\n",
      "        elif p==13:\n",
      "            hex = hex + \"D\"\n",
      "        elif p==14:\n",
      "            hex = hex + \"E\"\n",
      "        elif p==15:\n",
      "            hex = hex + \"F\"    \n",
      "    print hex   \n"
     ],
     "language": "python",
     "metadata": {},
     "outputs": [],
     "prompt_number": 36
    },
    {
     "cell_type": "code",
     "collapsed": false,
     "input": [
      "decimalhex(1010)"
     ],
     "language": "python",
     "metadata": {},
     "outputs": [
      {
       "ename": "TypeError",
       "evalue": "unsupported operand type(s) for +: 'int' and 'str'",
       "output_type": "pyerr",
       "traceback": [
        "\u001b[1;31m---------------------------------------------------------------------------\u001b[0m\n\u001b[1;31mTypeError\u001b[0m                                 Traceback (most recent call last)",
        "\u001b[1;32m<ipython-input-37-35592f3a5a9f>\u001b[0m in \u001b[0;36m<module>\u001b[1;34m()\u001b[0m\n\u001b[1;32m----> 1\u001b[1;33m \u001b[0mdecimalhex\u001b[0m\u001b[1;33m(\u001b[0m\u001b[1;36m1010\u001b[0m\u001b[1;33m)\u001b[0m\u001b[1;33m\u001b[0m\u001b[0m\n\u001b[0m",
        "\u001b[1;32m<ipython-input-36-9e11b014ed88>\u001b[0m in \u001b[0;36mdecimalhex\u001b[1;34m(x)\u001b[0m\n\u001b[0;32m     32\u001b[0m             \u001b[0mhex\u001b[0m \u001b[1;33m=\u001b[0m \u001b[0mhex\u001b[0m \u001b[1;33m+\u001b[0m \u001b[1;36m9\u001b[0m\u001b[1;33m\u001b[0m\u001b[0m\n\u001b[0;32m     33\u001b[0m         \u001b[1;32melif\u001b[0m \u001b[0mp\u001b[0m\u001b[1;33m==\u001b[0m\u001b[1;36m10\u001b[0m\u001b[1;33m:\u001b[0m\u001b[1;33m\u001b[0m\u001b[0m\n\u001b[1;32m---> 34\u001b[1;33m             \u001b[0mhex\u001b[0m \u001b[1;33m=\u001b[0m \u001b[0mhex\u001b[0m \u001b[1;33m+\u001b[0m \u001b[1;34m\"A\"\u001b[0m\u001b[1;33m\u001b[0m\u001b[0m\n\u001b[0m\u001b[0;32m     35\u001b[0m         \u001b[1;32melif\u001b[0m \u001b[0mp\u001b[0m\u001b[1;33m==\u001b[0m\u001b[1;36m11\u001b[0m\u001b[1;33m:\u001b[0m\u001b[1;33m\u001b[0m\u001b[0m\n\u001b[0;32m     36\u001b[0m             \u001b[0mhex\u001b[0m \u001b[1;33m=\u001b[0m \u001b[0mhex\u001b[0m \u001b[1;33m+\u001b[0m \u001b[1;34m\"B\"\u001b[0m\u001b[1;33m\u001b[0m\u001b[0m\n",
        "\u001b[1;31mTypeError\u001b[0m: unsupported operand type(s) for +: 'int' and 'str'"
       ]
      }
     ],
     "prompt_number": 37
    },
    {
     "cell_type": "code",
     "collapsed": false,
     "input": [],
     "language": "python",
     "metadata": {},
     "outputs": [
      {
       "ename": "SyntaxError",
       "evalue": "'return' outside function (<ipython-input-11-a2913ae2809b>, line 1)",
       "output_type": "pyerr",
       "traceback": [
        "\u001b[1;36m  File \u001b[1;32m\"<ipython-input-11-a2913ae2809b>\"\u001b[1;36m, line \u001b[1;32m1\u001b[0m\n\u001b[1;33m    return (1/2) + (1/16)+ (1/32) + (1/64)\u001b[0m\n\u001b[1;31mSyntaxError\u001b[0m\u001b[1;31m:\u001b[0m 'return' outside function\n"
       ]
      }
     ],
     "prompt_number": 11
    },
    {
     "cell_type": "code",
     "collapsed": false,
     "input": [],
     "language": "python",
     "metadata": {},
     "outputs": []
    }
   ],
   "metadata": {}
  }
 ]
}