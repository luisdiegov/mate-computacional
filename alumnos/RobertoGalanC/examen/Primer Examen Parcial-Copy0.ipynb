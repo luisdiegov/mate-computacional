{
 "metadata": {
  "name": "",
  "signature": "sha256:673789868ea445cc52c4aa3d3cb64afa0dfc14e1ce27c1285095a98399b097ed"
 },
 "nbformat": 3,
 "nbformat_minor": 0,
 "worksheets": [
  {
   "cells": [
    {
     "cell_type": "heading",
     "level": 1,
     "metadata": {},
     "source": [
      "Examen Parcial"
     ]
    },
    {
     "cell_type": "heading",
     "level": 6,
     "metadata": {},
     "source": [
      "5 de marzo, 2015"
     ]
    },
    {
     "cell_type": "heading",
     "level": 2,
     "metadata": {},
     "source": [
      "Instrucciones"
     ]
    },
    {
     "cell_type": "markdown",
     "metadata": {},
     "source": [
      "- Crea una carpeta en tu directorio llamada `examen`.\n",
      "- Copia este examen a esa carpeta reci\u00e9n creada.\n",
      "- Copia los archivos con extensi\u00f3n `.m` de la misma manera."
     ]
    },
    {
     "cell_type": "heading",
     "level": 3,
     "metadata": {},
     "source": [
      "Definiciones"
     ]
    },
    {
     "cell_type": "markdown",
     "metadata": {},
     "source": [
      "- **Precisi\u00f3n** es el n\u00famero m\u00e1ximo de _bits_ diferentes de cero que es representable.\n",
      "- **Rango** es la diferencia entre el n\u00famero m\u00e1s negativo representable y el n\u00famero m\u00e1s positivo representable.\n",
      "- **Resoluci\u00f3n** es la magnitud m\u00e1s preque\u00f1a diferente de cero representable.\n",
      "- **Exactitud** es la magnitud e la m\u00e1xima diferencia entre el valor real y su representaci\u00f3n."
     ]
    },
    {
     "cell_type": "markdown",
     "metadata": {},
     "source": [
      "- Un n\u00famero $x$ en _single precision_ en el est\u00e1ndar **IEEE 754** se escribe:"
     ]
    },
    {
     "cell_type": "markdown",
     "metadata": {},
     "source": [
      "$$\n",
      "x = s 1.mmm \\ldots mmm \\times 2^{mmm \\ldots mmm}\n",
      "$$"
     ]
    },
    {
     "cell_type": "markdown",
     "metadata": {},
     "source": [
      "con un _bias_ de "
     ]
    },
    {
     "cell_type": "heading",
     "level": 1,
     "metadata": {},
     "source": [
      "Parte escrita"
     ]
    },
    {
     "cell_type": "heading",
     "level": 2,
     "metadata": {},
     "source": [
      "Problema 1"
     ]
    },
    {
     "cell_type": "markdown",
     "metadata": {},
     "source": [
      "* Escribir los siguientes n\u00fameros reales de manera _normalizada_"
     ]
    },
    {
     "cell_type": "markdown",
     "metadata": {},
     "source": [
      "    - $123.45$\n",
      "    - $6.3789 \\times 10^{5}$\n",
      "    - $5432.1987 \\times 10^{3}$\n",
      "    - $6.02 \\times 10^{23}$\n",
      "    - $0.000001$\n",
      "    - $1.0$"
     ]
    },
    {
     "cell_type": "heading",
     "level": 2,
     "metadata": {},
     "source": [
      "Problema 2"
     ]
    },
    {
     "cell_type": "markdown",
     "metadata": {},
     "source": [
      "- Escriba los siguientes n\u00fameros en su expansi\u00f3n en base $2$ y calcule su valor en base $10$ (suponga que no est\u00e1n signados)"
     ]
    },
    {
     "cell_type": "markdown",
     "metadata": {},
     "source": [
      "    - `1101`\n",
      "    - `11010`\n",
      "    - `00110011`"
     ]
    },
    {
     "cell_type": "code",
     "collapsed": false,
     "input": [
      "listabinario=[]\n",
      "def binariodecimal(x):\n",
      "     dec=0\n",
      "     while(x>0):\n",
      "        a=x%10\n",
      "        listabinario.append(a)\n",
      "        x=x/10\n",
      "     for i in range(0, len(listabinario),1):\n",
      "            dec = dec + listabinario[i]*(2**i)\n",
      "    \n",
      "     return dec"
     ],
     "language": "python",
     "metadata": {},
     "outputs": [],
     "prompt_number": 5
    },
    {
     "cell_type": "code",
     "collapsed": false,
     "input": [
      "print binariodecimal(10000010111)"
     ],
     "language": "python",
     "metadata": {},
     "outputs": [
      {
       "output_type": "stream",
       "stream": "stdout",
       "text": [
        "67059\n"
       ]
      }
     ],
     "prompt_number": 13
    },
    {
     "cell_type": "code",
     "collapsed": false,
     "input": [
      "#decimal a binario \n",
      "def decimalbinario(x):\n",
      "    i=1\n",
      "    bin=0\n",
      "    while x>0:\n",
      "        a=x%2\n",
      "        bin=bin+(i*a)\n",
      "        x= x/2\n",
      "        i=i*10\n",
      "    return bin\n"
     ],
     "language": "python",
     "metadata": {},
     "outputs": [],
     "prompt_number": 9
    },
    {
     "cell_type": "code",
     "collapsed": false,
     "input": [
      "print decimalbinario(1023)"
     ],
     "language": "python",
     "metadata": {},
     "outputs": [
      {
       "output_type": "stream",
       "stream": "stdout",
       "text": [
        "1111111111\n"
       ]
      }
     ],
     "prompt_number": 12
    },
    {
     "cell_type": "heading",
     "level": 2,
     "metadata": {},
     "source": [
      "Problema 3"
     ]
    },
    {
     "cell_type": "markdown",
     "metadata": {},
     "source": [
      "- Escribe de forma normalizada a $y = + 1000.100111$ ."
     ]
    },
    {
     "cell_type": "markdown",
     "metadata": {},
     "source": [
      "- Escribe el mismo n\u00famero en formato **IEEE 754** en _single precision_."
     ]
    },
    {
     "cell_type": "markdown",
     "metadata": {},
     "source": [
      "- Escribe los siguientes n\u00fameros en el est\u00e1ndar **IEEE 754** a _double precision_"
     ]
    },
    {
     "cell_type": "markdown",
     "metadata": {},
     "source": [
      "- `1.0`\n",
      "- `1.5`\n",
      "- `-1.5`"
     ]
    },
    {
     "cell_type": "markdown",
     "metadata": {},
     "source": [
      "- \u00bfQu\u00e9 n\u00famero representa el siguiente flotante **IEEE 754** _double precision_?"
     ]
    },
    {
     "cell_type": "markdown",
     "metadata": {},
     "source": [
      "- `1 1000 0010 111 1000 0000 0000 0000 0000`"
     ]
    },
    {
     "cell_type": "heading",
     "level": 2,
     "metadata": {},
     "source": [
      "Problema 4"
     ]
    },
    {
     "cell_type": "markdown",
     "metadata": {},
     "source": [
      "* Representa $1$ en lo siguiente:\n",
      "\n",
      "    - En 8 bits con signo\n",
      "    - En 8 bits sin signo\n",
      "    - En 16 bits sin signo\n",
      "    - En 32 bits en el est\u00e1ndar **IEEE 754**\n",
      "    - En 64 bits en el est\u00e1ndar **IEEE 754**"
     ]
    },
    {
     "cell_type": "markdown",
     "metadata": {},
     "source": [
      "* Las siguientes dos cadenas binarias"
     ]
    },
    {
     "cell_type": "markdown",
     "metadata": {},
     "source": [
      "    - `0000 0000 0010 1010`\n",
      "    - `1000 0000 0010 1010`"
     ]
    },
    {
     "cell_type": "markdown",
     "metadata": {},
     "source": [
      "\u00bfQu\u00e9 n\u00famero representan s\u00ed ...\n",
      "\n",
      "    - ... son 16 bits sin signo?\n",
      "    - ... son 16 bits con signo?\n",
      "    - ... 2 cadenas de 8 bits sin signo?\n",
      "    - ... 2 cadenas de 8 bits con signo?"
     ]
    },
    {
     "cell_type": "heading",
     "level": 2,
     "metadata": {},
     "source": [
      "Problema 5"
     ]
    },
    {
     "cell_type": "heading",
     "level": 3,
     "metadata": {},
     "source": [
      "El mundo del Nintendo: 8 bits"
     ]
    },
    {
     "cell_type": "markdown",
     "metadata": {},
     "source": [
      "Supongamos que vamos a trabajar con `8 bits`"
     ]
    },
    {
     "cell_type": "markdown",
     "metadata": {},
     "source": [
      "$$\n",
      "x = \\pm 1.mmmm \\times 2^{bbb}\n",
      "$$"
     ]
    },
    {
     "cell_type": "markdown",
     "metadata": {},
     "source": [
      "donde el _bias_ $= 3$."
     ]
    },
    {
     "cell_type": "markdown",
     "metadata": {},
     "source": [
      "- \u00bfCu\u00e1l es el rango? \n",
      "- \u00bfCu\u00e1l es la precisi\u00f3n?\n",
      "- \u00bfCu\u00e1l es la resoluci\u00f3n?\n",
      "- \u00bfCu\u00e1ntos b\u00ednades hay?\n",
      "- \u00bfCu\u00e1ntos n\u00fameros por b\u00ednade hay?"
     ]
    },
    {
     "cell_type": "heading",
     "level": 1,
     "metadata": {},
     "source": [
      "Computadora"
     ]
    },
    {
     "cell_type": "heading",
     "level": 2,
     "metadata": {},
     "source": [
      "Problema 6"
     ]
    },
    {
     "cell_type": "heading",
     "level": 2,
     "metadata": {},
     "source": [
      "El mundo de Nintendo: 8 bits"
     ]
    },
    {
     "cell_type": "markdown",
     "metadata": {},
     "source": [
      "* Crea un programa en `python` o `GNU Octave` imprima todos los n\u00fameros que se pueden almacenar en `8 bits` (ver ejercicio anterior). "
     ]
    },
    {
     "cell_type": "code",
     "collapsed": false,
     "input": [],
     "language": "python",
     "metadata": {},
     "outputs": []
    },
    {
     "cell_type": "markdown",
     "metadata": {},
     "source": [
      "La tabla debe de tener el siguiente formato:"
     ]
    },
    {
     "cell_type": "markdown",
     "metadata": {},
     "source": [
      "| representaci\u00f3n almacenada | real | flotante |\n",
      "|---------------------------|------|----------|"
     ]
    },
    {
     "cell_type": "markdown",
     "metadata": {},
     "source": [
      "* Grafica el n\u00famero de d\u00edgitos en un `b\u00ednade` usando un histograma."
     ]
    },
    {
     "cell_type": "code",
     "collapsed": false,
     "input": [],
     "language": "python",
     "metadata": {},
     "outputs": []
    },
    {
     "cell_type": "markdown",
     "metadata": {},
     "source": [
      "* Grafica en un histograma la **densidad** de d\u00edgitos que existen por cada entero."
     ]
    },
    {
     "cell_type": "code",
     "collapsed": false,
     "input": [],
     "language": "python",
     "metadata": {},
     "outputs": []
    },
    {
     "cell_type": "heading",
     "level": 2,
     "metadata": {},
     "source": [
      "Problema 7"
     ]
    },
    {
     "cell_type": "markdown",
     "metadata": {},
     "source": [
      "Observa el c\u00f3digo de `GNU Octave` siguiente:"
     ]
    },
    {
     "cell_type": "code",
     "collapsed": false,
     "input": [
      "!cat strange_floats_sp.m"
     ],
     "language": "python",
     "metadata": {},
     "outputs": [
      {
       "output_type": "stream",
       "stream": "stdout",
       "text": [
        "x = single(77777.0)\r\n",
        "y = single(7.0)\r\n",
        "inv_y = 1.0 / y\r\n",
        "\r\n",
        "z = x / y\r\n",
        "z1 = x * inv_y\r\n",
        "\r\n",
        "if (z != z1)\r\n",
        "  sprintf(\"%1.3f != %1.3f\", z, z1)\r\n",
        "  sprintf(\"%1.30f != %1.30f\", z, z1)\r\n",
        "else\r\n",
        "  sprintf(\"%1.3f == %1.3f\", z, z1)\r\n",
        "  sprintf(\"%1.30f == %1.30f\", z, z1)\r\n",
        "endif\r\n"
       ]
      }
     ],
     "prompt_number": 10
    },
    {
     "cell_type": "markdown",
     "metadata": {},
     "source": [
      "- \u00bfQu\u00e9 hace este c\u00f3digo?\n",
      "- Abre el programa `GNU Octave` y ejec\u00fatalo en la consola. \u00bfResult\u00f3 lo que esperabas?\n",
      "- `z`,  `z1` \u00bfSon `SP` o `DP`?"
     ]
    },
    {
     "cell_type": "code",
     "collapsed": false,
     "input": [
      "\"\"\" \n",
      "1. Crea dos valores en SP; saca dos nuevos valores, uno multiplicando por 1.0/y, lo que lo convierte en DP , otro dividiendo x/y,\n",
      "un valor que seguir\u00e1 siendo SP. => al comparralos ser\u00e1n valores diferentes.\n",
      "\n",
      "3. z es SP, z1 es DP\n",
      "\"\"\""
     ],
     "language": "python",
     "metadata": {},
     "outputs": [
      {
       "metadata": {},
       "output_type": "pyout",
       "prompt_number": 14,
       "text": [
        "' \\n1. Crea dos valores en SP; saca dos nuevos valores, uno multiplicando por 1.0/y, lo que lo convierte en DP , otro dividiendo x/y,\\nun valor que seguir\\xc3\\xa1 siendo SP. => al comparralos ser\\xc3\\xa1n valores diferentes.\\n\\n3. z es SP, z1 es DP\\n'"
       ]
      }
     ],
     "prompt_number": 14
    },
    {
     "cell_type": "markdown",
     "metadata": {},
     "source": [
      "<div class=\"alert alert-info\">\n",
      "**NOTA** `single` en `GNU Octave` y `Matlab` es la instrucci\u00f3n para indicarle al programa que trabaje en _single precision_.\n",
      "</div>"
     ]
    },
    {
     "cell_type": "markdown",
     "metadata": {},
     "source": [
      "<div class=\"alert alert-info\">\n",
      "**NOTA** Para ejecutar un _script_ en `GNU Octave` solo debes de teclear su nombre (obvio si lo tienes en tu carpeta)\n",
      "</div>"
     ]
    },
    {
     "cell_type": "markdown",
     "metadata": {},
     "source": [
      "- Comp\u00e1ralo con el _script_ `strange_floats_dp.m` \u00bfPor qu\u00e9 es la diferencia? Explica la salida de ambos programas."
     ]
    },
    {
     "cell_type": "code",
     "collapsed": false,
     "input": [
      "!cat strange_floats_dp.m"
     ],
     "language": "python",
     "metadata": {},
     "outputs": [
      {
       "output_type": "stream",
       "stream": "stdout",
       "text": [
        "x = 77777.0\r\n",
        "y = 7.0\r\n",
        "inv_y = 1.0 / y\r\n",
        "\r\n",
        "z = x / y\r\n",
        "z1 = x * inv_y\r\n",
        "\r\n",
        "if (z != z1)\r\n",
        "  sprintf(\"%1.3f != %1.3f\", z, z1)\r\n",
        "  sprintf(\"%1.30f != %1.30f\", z, z1)\r\n",
        "else\r\n",
        "  sprintf(\"%1.3f == %1.3f\", z, z1)\r\n",
        "  sprintf(\"%1.30f == %1.30f\", z, z1)\r\n",
        "endif\r\n"
       ]
      }
     ],
     "prompt_number": 11
    },
    {
     "cell_type": "markdown",
     "metadata": {},
     "source": [
      "- `z`,  `z1` \u00bfSon `SP` o `DP`?"
     ]
    },
    {
     "cell_type": "code",
     "collapsed": false,
     "input": [
      "\"\"\"\n",
      "1. En este caso z, z1 son DP porque no se especific\u00f3 al principio que se tomaran como SP , => al compararlos son iguales.\n",
      "\"\"\""
     ],
     "language": "python",
     "metadata": {},
     "outputs": [
      {
       "metadata": {},
       "output_type": "pyout",
       "prompt_number": 15,
       "text": [
        "'\\n1. En este caso z, z1 son DP porque no se especific\\xc3\\xb3 al principio que se tomaran como SP , => al compararlos son iguales.\\n'"
       ]
      }
     ],
     "prompt_number": 15
    },
    {
     "cell_type": "heading",
     "level": 2,
     "metadata": {},
     "source": [
      "Problema 8"
     ]
    },
    {
     "cell_type": "markdown",
     "metadata": {},
     "source": [
      "La _varianza_ de $n$ datos se define como"
     ]
    },
    {
     "cell_type": "markdown",
     "metadata": {},
     "source": [
      "$$\n",
      "s_n^2 = \\frac{1}{n - 1} \\sum^n_{i=1} (x_i - \\bar{x})^2\n",
      "$$"
     ]
    },
    {
     "cell_type": "markdown",
     "metadata": {},
     "source": [
      "donde $\\bar{x}$"
     ]
    },
    {
     "cell_type": "markdown",
     "metadata": {},
     "source": [
      "$$\n",
      "\\bar{x} = \\frac{1}{n} \\sum^n_{i = 1} x_i\n",
      "$$"
     ]
    },
    {
     "cell_type": "markdown",
     "metadata": {},
     "source": [
      "Esta definici\u00f3n es poco eficiente ya que requiere dos pasadas a los datos para calcular la _varianza_."
     ]
    },
    {
     "cell_type": "markdown",
     "metadata": {},
     "source": [
      "* Crea una funci\u00f3n an\u00f3nima en `numpy` o `GNU/Octave` que reproduzca este algoritmo."
     ]
    },
    {
     "cell_type": "code",
     "collapsed": false,
     "input": [
      "def varianza(x):\n",
      "    var = 0\n",
      "    equis =0\n",
      "    n = len(x)\n",
      "    for j in range(0,n):\n",
      "        equis = equis + (x[j])\n",
      "        equis = (1.0/n)* equis\n",
      "        var =  var + (x[j]-equis)**2   \n",
      "    return var * (1.0/(n-1))\n",
      "    "
     ],
     "language": "python",
     "metadata": {},
     "outputs": [],
     "prompt_number": 141
    },
    {
     "cell_type": "markdown",
     "metadata": {},
     "source": [
      "En los libros de texto se recomienda (o se reescribe) la definici\u00f3n de la siguiente manera:"
     ]
    },
    {
     "cell_type": "markdown",
     "metadata": {},
     "source": [
      "$$\n",
      "s_n^2 = \\frac{1}{n-1} \\left( \\sum^n_{i=1} x_i^2 -  \\frac{1}{n}\\left(\\sum^n_{i=1} x_i\\right)^2\\right)\n",
      "$$"
     ]
    },
    {
     "cell_type": "markdown",
     "metadata": {},
     "source": [
      "El cual es m\u00e1s eficiente computacionalmente hablando"
     ]
    },
    {
     "cell_type": "markdown",
     "metadata": {},
     "source": [
      "* Crea un programa en `numpy` o `GNU/Octave` que reproduzca este algoritmo."
     ]
    },
    {
     "cell_type": "code",
     "collapsed": false,
     "input": [
      "import numpy as np"
     ],
     "language": "python",
     "metadata": {},
     "outputs": [],
     "prompt_number": 17
    },
    {
     "cell_type": "code",
     "collapsed": false,
     "input": [
      "def newvarianza(x):\n",
      "    var =0\n",
      "    n = len(x)\n",
      "    for i in range(0,n):\n",
      "        var= var + ((x[i]**2) - (1.0/n)*(x[i])**2)\n",
      "    return  (1.0/(n-1)) * var\n"
     ],
     "language": "python",
     "metadata": {},
     "outputs": [],
     "prompt_number": 142
    },
    {
     "cell_type": "code",
     "collapsed": false,
     "input": [
      "x = np.arange(10001)\n",
      "print varianza(x)\n",
      "print \" \"\n",
      "print newvarianza(x)"
     ],
     "language": "python",
     "metadata": {},
     "outputs": [
      {
       "output_type": "stream",
       "stream": "stdout",
       "text": [
        "33331666.1668\n",
        " \n",
        "33335000.0"
       ]
      },
      {
       "output_type": "stream",
       "stream": "stdout",
       "text": [
        "\n"
       ]
      }
     ],
     "prompt_number": 151
    },
    {
     "cell_type": "code",
     "collapsed": false,
     "input": [
      "x = np.arange(10002)\n",
      "print varianza(x)\n",
      "print \" \"\n",
      "print newvarianza(x)"
     ],
     "language": "python",
     "metadata": {},
     "outputs": [
      {
       "output_type": "stream",
       "stream": "stdout",
       "text": [
        "33338333.0001\n",
        " \n",
        "33341667.1667"
       ]
      },
      {
       "output_type": "stream",
       "stream": "stdout",
       "text": [
        "\n"
       ]
      }
     ],
     "prompt_number": 152
    },
    {
     "cell_type": "code",
     "collapsed": false,
     "input": [
      "x = np.arange(10003)\n",
      "print varianza(x)\n",
      "print \" \"\n",
      "print newvarianza(x)"
     ],
     "language": "python",
     "metadata": {},
     "outputs": [
      {
       "output_type": "stream",
       "stream": "stdout",
       "text": [
        "33345000.5001\n",
        " \n",
        "33348335.0"
       ]
      },
      {
       "output_type": "stream",
       "stream": "stdout",
       "text": [
        "\n"
       ]
      }
     ],
     "prompt_number": 153
    },
    {
     "cell_type": "markdown",
     "metadata": {},
     "source": [
      "* Sean los datos $10000, 10001, 10002$, Realiza el c\u00e1lculo a mano y comp\u00e1ralo con los dos algoritmos. Expl\u00edca las diferencias y el posible error."
     ]
    },
    {
     "cell_type": "code",
     "collapsed": false,
     "input": [],
     "language": "python",
     "metadata": {},
     "outputs": [],
     "prompt_number": 150
    },
    {
     "cell_type": "heading",
     "level": 2,
     "metadata": {},
     "source": [
      "Problema 9"
     ]
    },
    {
     "cell_type": "markdown",
     "metadata": {},
     "source": [
      "* Carga la funci\u00f3n `factorial` definida en el archivo `factorial.py`"
     ]
    },
    {
     "cell_type": "code",
     "collapsed": false,
     "input": [
      "%load factorial.py\n"
     ],
     "language": "python",
     "metadata": {},
     "outputs": [],
     "prompt_number": 50
    },
    {
     "cell_type": "code",
     "collapsed": false,
     "input": [
      "def factorial(n):\n",
      "    if n == 0:\n",
      "        return 1\n",
      "    elif n == 1:\n",
      "        return 1\n",
      "    else:\n",
      "        return factorial(n-1)*n\n"
     ],
     "language": "python",
     "metadata": {},
     "outputs": [],
     "prompt_number": 51
    },
    {
     "cell_type": "markdown",
     "metadata": {},
     "source": [
      "La serie de Maclaurin es un caso especial de la serie de Taylor de una funci\u00f3n $f$ alrededor de $0$"
     ]
    },
    {
     "cell_type": "markdown",
     "metadata": {},
     "source": [
      "$$\n",
      "f(x) = f(0) + f'(0) + \\frac{f''(0)}{2!} + \\ldots = \\sum^\\infty_{i=0}\\frac{1}{n\\!}f^{(n)}(0)\n",
      "$$"
     ]
    },
    {
     "cell_type": "markdown",
     "metadata": {},
     "source": [
      "En particular, la funci\u00f3n exponencial tiene la siguiente forma:"
     ]
    },
    {
     "cell_type": "markdown",
     "metadata": {},
     "source": [
      "$$\n",
      "e^x = 1 + x + \\frac{x^2}{2} + \\ldots = \\sum^\\infty_{i=0} \\frac{x^i}{i\\!}\n",
      "$$"
     ]
    },
    {
     "cell_type": "markdown",
     "metadata": {},
     "source": [
      "* Usando la funci\u00f3n `factorial` crea la funci\u00f3n `exp_maclaurin(x,n)`, que imprima lo siguiente:"
     ]
    },
    {
     "cell_type": "markdown",
     "metadata": {},
     "source": [
      "    print \"%12s\\t%12s\\t%12s\\t%12s\\t%20s\\t%20s\" % (\"i\", \"x\", \"x^i\", \"factorial(i)\", \"x^i/factorial(i)\", \"suma\")"
     ]
    },
    {
     "cell_type": "code",
     "collapsed": false,
     "input": [
      "def exp_maclaurin(x,n):\n",
      "    print \"%12s\\t%12s\\t%12s\\t%12s\\t%20s\\t%20s\" % (\"i\", \"x\", \"x^i\", \"factorial(i)\", \"x^i/factorial(i)\", \"suma\")\n",
      "    suma=0\n",
      "    for i in range(0,n):\n",
      "        suma = suma + (x**i)/ (1.0*factorial(i))\n",
      "        print \"%12s\\t%12s\\t%12s\\t%12s\\t%20s\\t%20s\" % (i, x, x**i , factorial(i), (x**i)/factorial(i), suma)"
     ],
     "language": "python",
     "metadata": {},
     "outputs": [],
     "prompt_number": 78
    },
    {
     "cell_type": "markdown",
     "metadata": {},
     "source": [
      "* Usando la funci\u00f3n `np.exp` calcula `0`, `1`, `5.5` y `-5.5`"
     ]
    },
    {
     "cell_type": "code",
     "collapsed": false,
     "input": [
      "print np.exp(0)\n",
      "print np.exp(1)\n",
      "print np.exp(5.5)\n",
      "print np.exp(-5.5)"
     ],
     "language": "python",
     "metadata": {},
     "outputs": [
      {
       "output_type": "stream",
       "stream": "stdout",
       "text": [
        "1.0\n",
        "2.71828182846\n",
        "244.691932264\n",
        "0.00408677143846\n"
       ]
      }
     ],
     "prompt_number": 66
    },
    {
     "cell_type": "markdown",
     "metadata": {},
     "source": [
      "* Usando tu funci\u00f3n, calcula los mismos valores a orden 20 \u00bfEn cu\u00e1l falla? \u00bfPor qu\u00e9 crees que sea?"
     ]
    },
    {
     "cell_type": "code",
     "collapsed": false,
     "input": [
      "\"\"\"\n",
      "Falla en 5.5 porque no soporta elevar el float a alguna potencia.\n",
      "\"\"\""
     ],
     "language": "python",
     "metadata": {},
     "outputs": [
      {
       "metadata": {},
       "output_type": "pyout",
       "prompt_number": 67,
       "text": [
        "'\\nFalla en 5.5 porque no soporta elevar el float a alguna potencia\\n'"
       ]
      }
     ],
     "prompt_number": 67
    },
    {
     "cell_type": "code",
     "collapsed": false,
     "input": [
      "exp_maclaurin(0,21)\n",
      "print \" \"\n",
      "exp_maclaurin(1,21)\n",
      "print \" \"\n",
      "exp_maclaurin(5.5,21)\n",
      "print \" \"\n",
      "exp_maclaurin(-5.5,21)"
     ],
     "language": "python",
     "metadata": {},
     "outputs": [
      {
       "output_type": "stream",
       "stream": "stdout",
       "text": [
        "           i\t           x\t         x^i\tfactorial(i)\t    x^i/factorial(i)\t                suma\n",
        "           0\t           0\t           1\t           1\t                   1\t                 1.0\n",
        "           1\t           0\t           0\t           1\t                   0\t                 1.0\n",
        "           2\t           0\t           0\t           2\t                   0\t                 1.0\n",
        "           3\t           0\t           0\t           6\t                   0\t                 1.0\n",
        "           4\t           0\t           0\t          24\t                   0\t                 1.0\n",
        "           5\t           0\t           0\t         120\t                   0\t                 1.0\n",
        "           6\t           0\t           0\t         720\t                   0\t                 1.0\n",
        "           7\t           0\t           0\t        5040\t                   0\t                 1.0\n",
        "           8\t           0\t           0\t       40320\t                   0\t                 1.0\n",
        "           9\t           0\t           0\t      362880\t                   0\t                 1.0\n",
        "          10\t           0\t           0\t     3628800\t                   0\t                 1.0\n",
        "          11\t           0\t           0\t    39916800\t                   0\t                 1.0\n",
        "          12\t           0\t           0\t   479001600\t                   0\t                 1.0\n",
        "          13\t           0\t           0\t  6227020800\t                   0\t                 1.0\n",
        "          14\t           0\t           0\t 87178291200\t                   0\t                 1.0\n",
        "          15\t           0\t           0\t1307674368000\t                   0\t                 1.0\n",
        "          16\t           0\t           0\t20922789888000\t                   0\t                 1.0\n",
        "          17\t           0\t           0\t355687428096000\t                   0\t                 1.0\n",
        "          18\t           0\t           0\t6402373705728000\t                   0\t                 1.0\n",
        "          19\t           0\t           0\t121645100408832000\t                   0\t                 1.0\n",
        "          20\t           0\t           0\t2432902008176640000\t                   0\t                 1.0\n",
        " \n",
        "           i\t           x\t         x^i\tfactorial(i)\t    x^i/factorial(i)\t                suma\n",
        "           0\t           1\t           1\t           1\t                   1\t                 1.0\n",
        "           1\t           1\t           1\t           1\t                   1\t                 2.0\n",
        "           2\t           1\t           1\t           2\t                   0\t                 2.5\n",
        "           3\t           1\t           1\t           6\t                   0\t       2.66666666667\n",
        "           4\t           1\t           1\t          24\t                   0\t       2.70833333333\n",
        "           5\t           1\t           1\t         120\t                   0\t       2.71666666667\n",
        "           6\t           1\t           1\t         720\t                   0\t       2.71805555556\n",
        "           7\t           1\t           1\t        5040\t                   0\t       2.71825396825\n",
        "           8\t           1\t           1\t       40320\t                   0\t       2.71827876984\n",
        "           9\t           1\t           1\t      362880\t                   0\t       2.71828152557\n",
        "          10\t           1\t           1\t     3628800\t                   0\t       2.71828180115\n",
        "          11\t           1\t           1\t    39916800\t                   0\t        2.7182818262\n",
        "          12\t           1\t           1\t   479001600\t                   0\t       2.71828182829\n",
        "          13\t           1\t           1\t  6227020800\t                   0\t       2.71828182845\n",
        "          14\t           1\t           1\t 87178291200\t                   0\t       2.71828182846\n",
        "          15\t           1\t           1\t1307674368000\t                   0\t       2.71828182846\n",
        "          16\t           1\t           1\t20922789888000\t                   0\t       2.71828182846\n",
        "          17\t           1\t           1\t355687428096000\t                   0\t       2.71828182846\n",
        "          18\t           1\t           1\t6402373705728000\t                   0\t       2.71828182846\n",
        "          19\t           1\t           1\t121645100408832000\t                   0\t       2.71828182846\n",
        "          20\t           1\t           1\t2432902008176640000\t                   0\t       2.71828182846\n",
        " \n",
        "           i\t           x\t         x^i\tfactorial(i)\t    x^i/factorial(i)\t                suma\n",
        "           0\t         5.5\t         1.0\t           1\t                 1.0\t                 1.0\n",
        "           1\t         5.5\t         5.5\t           1\t                 5.5\t                 6.5\n",
        "           2\t         5.5\t       30.25\t           2\t              15.125\t              21.625\n",
        "           3\t         5.5\t     166.375\t           6\t       27.7291666667\t       49.3541666667\n",
        "           4\t         5.5\t    915.0625\t          24\t       38.1276041667\t       87.4817708333\n",
        "           5\t         5.5\t  5032.84375\t         120\t       41.9403645833\t       129.422135417\n",
        "           6\t         5.5\t27680.640625\t         720\t       38.4453342014\t       167.867469618\n",
        "           7\t         5.5\t152243.523438\t        5040\t       30.2070483011\t       198.074517919\n",
        "           8\t         5.5\t837339.378906\t       40320\t        20.767345707\t       218.841863626\n",
        "           9\t         5.5\t4605366.58398\t      362880\t       12.6911557098\t       231.533019336\n",
        "          10\t         5.5\t25329516.2119\t     3628800\t       6.98013564041\t       238.513154976\n",
        "          11\t         5.5\t139312339.166\t    39916800\t        3.4900678202\t       242.003222797\n",
        "          12\t         5.5\t766217865.41\t   479001600\t       1.59961441759\t       243.602837214\n",
        "          13\t         5.5\t4214198259.76\t  6227020800\t      0.676759945905\t        244.27959716\n",
        "          14\t         5.5\t23178090428.7\t 87178291200\t      0.265869978748\t       244.545467139\n",
        "          15\t         5.5\t1.27479497358e+11\t1307674368000\t     0.0974856588744\t       244.642952798\n",
        "          16\t         5.5\t7.01137235467e+11\t20922789888000\t     0.0335106952381\t       244.676463493\n",
        "          17\t         5.5\t3.85625479507e+12\t355687428096000\t     0.0108416955182\t       244.687305188\n",
        "          18\t         5.5\t2.12094013729e+13\t6402373705728000\t    0.00331274029723\t       244.690617929\n",
        "          19\t         5.5\t1.16651707551e+14\t121645100408832000\t   0.000958951138671\t        244.69157688\n",
        "          20\t         5.5\t6.4158439153e+14\t2432902008176640000\t   0.000263711563135\t       244.691840591\n",
        " \n",
        "           i\t           x\t         x^i\tfactorial(i)\t    x^i/factorial(i)\t                suma\n",
        "           0\t        -5.5\t         1.0\t           1\t                 1.0\t                 1.0\n",
        "           1\t        -5.5\t        -5.5\t           1\t                -5.5\t                -4.5\n",
        "           2\t        -5.5\t       30.25\t           2\t              15.125\t              10.625\n",
        "           3\t        -5.5\t    -166.375\t           6\t      -27.7291666667\t      -17.1041666667\n",
        "           4\t        -5.5\t    915.0625\t          24\t       38.1276041667\t          21.0234375\n",
        "           5\t        -5.5\t -5032.84375\t         120\t      -41.9403645833\t      -20.9169270833\n",
        "           6\t        -5.5\t27680.640625\t         720\t       38.4453342014\t       17.5284071181\n",
        "           7\t        -5.5\t-152243.523438\t        5040\t      -30.2070483011\t       -12.678641183\n",
        "           8\t        -5.5\t837339.378906\t       40320\t        20.767345707\t       8.08870452396\n",
        "           9\t        -5.5\t-4605366.58398\t      362880\t      -12.6911557098\t      -4.60245118587\n",
        "          10\t        -5.5\t25329516.2119\t     3628800\t       6.98013564041\t       2.37768445454\n",
        "          11\t        -5.5\t-139312339.166\t    39916800\t       -3.4900678202\t      -1.11238336566\n",
        "          12\t        -5.5\t766217865.41\t   479001600\t       1.59961441759\t      0.487231051929\n",
        "          13\t        -5.5\t-4214198259.76\t  6227020800\t     -0.676759945905\t     -0.189528893976\n",
        "          14\t        -5.5\t23178090428.7\t 87178291200\t      0.265869978748\t     0.0763410847723\n",
        "          15\t        -5.5\t-1.27479497358e+11\t1307674368000\t    -0.0974856588744\t    -0.0211445741022\n",
        "          16\t        -5.5\t7.01137235467e+11\t20922789888000\t     0.0335106952381\t     0.0123661211359\n",
        "          17\t        -5.5\t-3.85625479507e+12\t355687428096000\t    -0.0108416955182\t    0.00152442561772\n",
        "          18\t        -5.5\t2.12094013729e+13\t6402373705728000\t    0.00331274029723\t    0.00483716591495\n",
        "          19\t        -5.5\t-1.16651707551e+14\t121645100408832000\t  -0.000958951138671\t    0.00387821477628\n",
        "          20\t        -5.5\t6.4158439153e+14\t2432902008176640000\t   0.000263711563135\t    0.00414192633941\n"
       ]
      }
     ],
     "prompt_number": 79
    },
    {
     "cell_type": "markdown",
     "metadata": {},
     "source": [
      "* \u00bfC\u00f3mo resolver\u00edas este problema? Implementa tu soluci\u00f3n."
     ]
    },
    {
     "cell_type": "markdown",
     "metadata": {},
     "source": [
      "<div class=\"alert alert-info\">\n",
      "**HINT** Recuerda las leyes de los exponentes\n",
      "</div>"
     ]
    },
    {
     "cell_type": "heading",
     "level": 2,
     "metadata": {},
     "source": [
      "Problema 10"
     ]
    },
    {
     "cell_type": "markdown",
     "metadata": {},
     "source": [
      "- \u00bfQu\u00e9 pasa si usas 16 bits, 32 bits o 64 bits?\n",
      "- Implementa el **problema 8** usando el otro lenguaje que no usaste \u00bfEl resultado es diferente? "
     ]
    }
   ],
   "metadata": {}
  }
 ]
}