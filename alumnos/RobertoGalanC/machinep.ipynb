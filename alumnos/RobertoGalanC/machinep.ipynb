{
 "metadata": {
  "name": "",
  "signature": "sha256:c220d7eb2eef298d127a341a82403bd0d33d1469d8e322a26126bc1d7eb1bc5c"
 },
 "nbformat": 3,
 "nbformat_minor": 0,
 "worksheets": [
  {
   "cells": [
    {
     "cell_type": "code",
     "collapsed": false,
     "input": [
      "n=1\n",
      "while(1.0+n/2.0!=1.0):\n",
      "    n/=2.0\n",
      "\n",
      "print n    "
     ],
     "language": "python",
     "metadata": {},
     "outputs": [
      {
       "output_type": "stream",
       "stream": "stdout",
       "text": [
        "2.22044604925e-16\n"
       ]
      }
     ],
     "prompt_number": 11
    },
    {
     "cell_type": "code",
     "collapsed": false,
     "input": [],
     "language": "python",
     "metadata": {},
     "outputs": []
    }
   ],
   "metadata": {}
  }
 ]
}