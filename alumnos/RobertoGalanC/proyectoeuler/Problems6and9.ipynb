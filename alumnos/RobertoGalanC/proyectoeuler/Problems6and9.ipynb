{
 "metadata": {
  "name": "",
  "signature": "sha256:d975a1fcae0d4069c795fa5a46dc39d0839202879d6fa60f65087f8ec6e4c996"
 },
 "nbformat": 3,
 "nbformat_minor": 0,
 "worksheets": [
  {
   "cells": [
    {
     "cell_type": "code",
     "collapsed": false,
     "input": [
      "#Problema 6: Find the difference between the sum of the squares of the first natural numbers and the square of the sum \n",
      "\n",
      "def sumacuadrados(): \n",
      "    scuad=0\n",
      "    for i in xrange(1,101,1):\n",
      "        scuad += i**2\n",
      "    return scuad\n",
      "\n",
      "def cuadsuma(): #calcula el cuadrado de la suma de un intervalo\n",
      "    csuma=0\n",
      "    for i in xrange(1,101,1):\n",
      "        csuma += i\n",
      "    return csuma ** 2    \n",
      "        \n",
      "        "
     ],
     "language": "python",
     "metadata": {},
     "outputs": [],
     "prompt_number": 4
    },
    {
     "cell_type": "code",
     "collapsed": false,
     "input": [
      "print cuadsuma() - sumacuadrados()"
     ],
     "language": "python",
     "metadata": {},
     "outputs": [
      {
       "output_type": "stream",
       "stream": "stdout",
       "text": [
        "25164150\n"
       ]
      }
     ],
     "prompt_number": 6
    },
    {
     "cell_type": "code",
     "collapsed": false,
     "input": [
      "#Problema 9: Find product  abc of the pythagoream triplet for wich a+b+c=100 (a<b<c)\n",
      "n = 450\n",
      "triplet = [(a,b,c) for a in xrange(1,n,1) for b in xrange(1,n,1) for c in xrange (1,n,1) if a*a + b*b == c*c and a+b+c==1000 and a<b<c]\n"
     ],
     "language": "python",
     "metadata": {},
     "outputs": [],
     "prompt_number": 25
    },
    {
     "cell_type": "code",
     "collapsed": false,
     "input": [
      "print triplet"
     ],
     "language": "python",
     "metadata": {},
     "outputs": [
      {
       "output_type": "stream",
       "stream": "stdout",
       "text": [
        "[(200, 375, 425)]\n"
       ]
      }
     ],
     "prompt_number": 26
    },
    {
     "cell_type": "code",
     "collapsed": false,
     "input": [
      "for (a,b,c) in triplet:\n",
      "    print a*b*c"
     ],
     "language": "python",
     "metadata": {},
     "outputs": [
      {
       "output_type": "stream",
       "stream": "stdout",
       "text": [
        "31875000\n"
       ]
      }
     ],
     "prompt_number": 28
    },
    {
     "cell_type": "code",
     "collapsed": false,
     "input": [],
     "language": "python",
     "metadata": {},
     "outputs": []
    }
   ],
   "metadata": {}
  }
 ]
}