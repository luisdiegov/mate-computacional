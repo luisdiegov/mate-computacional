{
 "metadata": {
  "name": "",
  "signature": "sha256:48d48bee1b32e121daddcd6e6a2bcb063d581503d3765e08197476f85992707c"
 },
 "nbformat": 3,
 "nbformat_minor": 0,
 "worksheets": [
  {
   "cells": [
    {
     "cell_type": "code",
     "collapsed": false,
     "input": [
      "#Problem 1. Find the sum of all the multiples of 3 or 5 below 1000\n",
      "def multCincoTres(x): \n",
      "        return x%5==0 or x%3==0 #regresar\u00e1 True si el n\u00famero que entra es multiplo de 3 \u00f3 5"
     ],
     "language": "python",
     "metadata": {},
     "outputs": [],
     "prompt_number": 1
    },
    {
     "cell_type": "code",
     "collapsed": false,
     "input": [
      "suma = 0  #variable para guardar la suma\n",
      "for i in range(1,1001,1):\n",
      "    if multCincoTres(i):\n",
      "        suma += i\n",
      "        \n",
      "print suma"
     ],
     "language": "python",
     "metadata": {},
     "outputs": [
      {
       "output_type": "stream",
       "stream": "stdout",
       "text": [
        "234168\n"
       ]
      }
     ],
     "prompt_number": 2
    },
    {
     "cell_type": "code",
     "collapsed": false,
     "input": [
      "#Problem 2. Find the sum of the even Fibonacci terms below four million\n",
      "def esPar(x):\n",
      "    return x%2==0  #returns True for even numbers"
     ],
     "language": "python",
     "metadata": {},
     "outputs": [],
     "prompt_number": 3
    },
    {
     "cell_type": "code",
     "collapsed": false,
     "input": [
      "def fibo(i): #encuentra el i-\u00e9simo n\u00famero fibonacci\n",
      "    if i<2:\n",
      "        return 1\n",
      "    else:\n",
      "        return fibo(i-1)+fibo(i-2)\n",
      "    "
     ],
     "language": "python",
     "metadata": {},
     "outputs": [],
     "prompt_number": 4
    },
    {
     "cell_type": "code",
     "collapsed": false,
     "input": [
      "print fibo(32) #aqu\u00ed encontre el rango para meter a la funci\u00f3n fibo() y que el resultado fuera menor a 4 mill."
     ],
     "language": "python",
     "metadata": {},
     "outputs": [
      {
       "output_type": "stream",
       "stream": "stdout",
       "text": [
        "3524578\n"
       ]
      }
     ],
     "prompt_number": 10
    },
    {
     "cell_type": "code",
     "collapsed": false,
     "input": [
      "suma = 0 \n",
      "for i in xrange(1,32,1): \n",
      "    if esPar(fibo(i)):\n",
      "        suma += fibo(i)\n",
      "print suma  "
     ],
     "language": "python",
     "metadata": {},
     "outputs": [
      {
       "output_type": "stream",
       "stream": "stdout",
       "text": [
        "1089154\n"
       ]
      }
     ],
     "prompt_number": 11
    },
    {
     "cell_type": "code",
     "collapsed": false,
     "input": [
      "\"\"\"Problem 3. Find the largcst prime factor of 600851475143.\"\"\"\n",
      "n=600851475143\n",
      "i=2\n",
      "while i*i < n: #mientras el factor al cuadrado sea menor 600851475143, esto garantiza que sea primo\n",
      "    while n%i==0: #mientras sea divisor\n",
      "        n = n/i\n",
      "    i+=1\n",
      "print n   \n"
     ],
     "language": "python",
     "metadata": {},
     "outputs": [
      {
       "output_type": "stream",
       "stream": "stdout",
       "text": [
        "6857\n"
       ]
      }
     ],
     "prompt_number": 12
    },
    {
     "cell_type": "code",
     "collapsed": false,
     "input": [],
     "language": "python",
     "metadata": {},
     "outputs": []
    }
   ],
   "metadata": {}
  }
 ]
}