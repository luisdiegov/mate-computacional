{
 "metadata": {
  "name": "",
  "signature": "sha256:605f36cac68601223e979509c7e89e55157e64d141baceeda57693f9f8a9f6e3"
 },
 "nbformat": 3,
 "nbformat_minor": 0,
 "worksheets": [
  {
   "cells": [
    {
     "cell_type": "code",
     "collapsed": false,
     "input": [
      "#problem 17\n",
      "\"\"\"\n",
      "tama\u00f1o de las letras, separadas por decenas, centenas unidades y mil\n",
      "\"\"\"\n",
      "uni = [0,3,3,5,4,4,3,5,5,4,3,6,6,8,8,7,7,9,8,8]\n",
      "dec = [0,3,6,6,5,5,5,7,6,6]\n",
      "cent = 7\n",
      "m = 11\n",
      " \n",
      "total = 0\n",
      "for i in range(1,1000):\n",
      "    u = i % 10 # unidades\n",
      "    d = ((i % 100) - u) / 10 # decenas\n",
      "    c = ((i % 1000) - (d * 10) - u) / 100 #centenas\n",
      " \n",
      "    if c != 0:\n",
      "        total += uni[c] + cent # la sumas a la unidad el 'hundred'\n",
      "        if d != 0 or u != 0: \n",
      "            total += 3 # \"and\"\n",
      "    if d == 0 or d == 1: \n",
      "        total += uni[d * 10 + u] #porque el 10 esta dentro de la lista de unidades\n",
      "    else: \n",
      "        total += dec[d] + uni[u] \n",
      " \n",
      "total +=m #le sumas el one thousand\n",
      "print total\n",
      "\n",
      "    "
     ],
     "language": "python",
     "metadata": {},
     "outputs": [
      {
       "output_type": "stream",
       "stream": "stdout",
       "text": [
        "21124\n"
       ]
      }
     ],
     "prompt_number": 4
    },
    {
     "cell_type": "code",
     "collapsed": false,
     "input": [],
     "language": "python",
     "metadata": {},
     "outputs": []
    }
   ],
   "metadata": {}
  }
 ]
}