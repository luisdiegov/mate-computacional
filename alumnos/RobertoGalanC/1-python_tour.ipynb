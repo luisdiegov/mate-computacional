{
 "metadata": {
  "name": "",
<<<<<<< HEAD:lecture_2/.ipynb_checkpoints/1-python_tour-Copy0-checkpoint.ipynb
  "signature": "sha256:243f25a4da520bd8f20d716d7aca005190c9016a8c18e164c91f3ab8257da83f"
=======
  "signature": "sha256:4e2bca1716cd39a62676339d1d5888b32279758affaaa55f11f955070825e844"
>>>>>>> bef7db894e4a9b4101a69e5fdb0e4bea628703ce:alumnos/RobertoGalanC/1-python_tour.ipynb
 },
 "nbformat": 3,
 "nbformat_minor": 0,
 "worksheets": [
  {
   "cells": [
    {
     "cell_type": "code",
     "collapsed": false,
     "input": [
      "str? #ayuda: blabla?, regresa a un objeto en string"
     ],
     "language": "python",
     "metadata": {},
     "outputs": [],
     "prompt_number": 1
    },
    {
     "cell_type": "code",
     "collapsed": false,
     "input": [
      "str. #cuando picas tab despues de str. te salen todos los metodos disponibles de str"
     ],
     "language": "python",
     "metadata": {},
     "outputs": [
      {
       "ename": "SyntaxError",
<<<<<<< HEAD:lecture_2/.ipynb_checkpoints/1-python_tour-Copy0-checkpoint.ipynb
       "evalue": "invalid syntax (<ipython-input-12-58171b034407>, line 1)",
       "output_type": "pyerr",
       "traceback": [
        "\u001b[1;36m  File \u001b[1;32m\"<ipython-input-12-58171b034407>\"\u001b[1;36m, line \u001b[1;32m1\u001b[0m\n\u001b[1;33m    str.\u001b[0m\n\u001b[1;37m        ^\u001b[0m\n\u001b[1;31mSyntaxError\u001b[0m\u001b[1;31m:\u001b[0m invalid syntax\n"
       ]
      }
     ],
     "prompt_number": 12
    },
    {
     "cell_type": "heading",
     "level": 2,
     "metadata": {},
     "source": [
      "Variables"
     ]
    },
    {
     "cell_type": "markdown",
     "metadata": {},
     "source": [
      "**Asignaci\u00f3n** le decimos a la computadora que la variable `x` tiene *asignado* el valor `1`."
     ]
=======
       "evalue": "invalid syntax (<ipython-input-2-219e81561d4f>, line 1)",
       "output_type": "pyerr",
       "traceback": [
        "\u001b[1;36m  File \u001b[1;32m\"<ipython-input-2-219e81561d4f>\"\u001b[1;36m, line \u001b[1;32m1\u001b[0m\n\u001b[1;33m    str. #cuando picas tab despues de str. te salen todas las opciones de conversion a string\u001b[0m\n\u001b[1;37m                                                                                             ^\u001b[0m\n\u001b[1;31mSyntaxError\u001b[0m\u001b[1;31m:\u001b[0m invalid syntax\n"
       ]
      }
     ],
     "prompt_number": 2
>>>>>>> bef7db894e4a9b4101a69e5fdb0e4bea628703ce:alumnos/RobertoGalanC/1-python_tour.ipynb
    },
    {
     "cell_type": "code",
     "collapsed": false,
     "input": [
      "x = 1"
     ],
     "language": "python",
     "metadata": {},
     "outputs": [],
     "prompt_number": 3
    },
    {
     "cell_type": "code",
     "collapsed": false,
     "input": [
      "print x"
     ],
     "language": "python",
     "metadata": {},
     "outputs": [
      {
       "output_type": "stream",
       "stream": "stdout",
       "text": [
        "1\n"
       ]
      }
     ],
     "prompt_number": 4
    },
    {
     "cell_type": "code",
     "collapsed": false,
     "input": [
      "x"
     ],
     "language": "python",
     "metadata": {},
     "outputs": [
      {
       "metadata": {},
       "output_type": "pyout",
       "prompt_number": 5,
       "text": [
        "1"
       ]
      }
     ],
     "prompt_number": 5
    },
    {
     "cell_type": "code",
     "collapsed": false,
     "input": [
      "a,b = 3,4 #no lo hagas aunque se puede\n",
      "print \"El valor de a es \", a\n",
      "print \"El valor de b es \",b"
     ],
     "language": "python",
     "metadata": {},
     "outputs": [
      {
       "output_type": "stream",
       "stream": "stdout",
       "text": [
        "El valor de a es  3\n",
        "El valor de b es  4\n"
       ]
      }
     ],
<<<<<<< HEAD:lecture_2/.ipynb_checkpoints/1-python_tour-Copy0-checkpoint.ipynb
     "language": "python",
     "metadata": {},
     "outputs": [
      {
       "metadata": {},
       "output_type": "pyout",
       "prompt_number": 13,
       "text": [
        "3"
       ]
      }
     ],
     "prompt_number": 13
    },
    {
     "cell_type": "markdown",
     "metadata": {},
     "source": [
      "**Flotantes**"
     ]
=======
     "prompt_number": 6
>>>>>>> bef7db894e4a9b4101a69e5fdb0e4bea628703ce:alumnos/RobertoGalanC/1-python_tour.ipynb
    },
    {
     "cell_type": "code",
     "collapsed": false,
     "input": [
      "y = 7.5\n",
      "y"
     ],
     "language": "python",
     "metadata": {},
     "outputs": [
      {
       "metadata": {},
       "output_type": "pyout",
<<<<<<< HEAD:lecture_2/.ipynb_checkpoints/1-python_tour-Copy0-checkpoint.ipynb
       "prompt_number": 14,
       "text": [
        "3.5"
       ]
      }
     ],
     "prompt_number": 14
    },
    {
     "cell_type": "markdown",
     "metadata": {},
     "source": [
      "**N\u00fameros Complejos**  de la forma $a + b\\iota$"
     ]
=======
       "prompt_number": 7,
       "text": [
        "7.5"
       ]
      }
     ],
     "prompt_number": 7
>>>>>>> bef7db894e4a9b4101a69e5fdb0e4bea628703ce:alumnos/RobertoGalanC/1-python_tour.ipynb
    },
    {
     "cell_type": "code",
     "collapsed": false,
     "input": [
      "z = 3 + 5j #complejos\n",
      "z"
     ],
     "language": "python",
     "metadata": {},
     "outputs": [
      {
       "metadata": {},
       "output_type": "pyout",
<<<<<<< HEAD:lecture_2/.ipynb_checkpoints/1-python_tour-Copy0-checkpoint.ipynb
       "prompt_number": 15,
=======
       "prompt_number": 8,
>>>>>>> bef7db894e4a9b4101a69e5fdb0e4bea628703ce:alumnos/RobertoGalanC/1-python_tour.ipynb
       "text": [
        "(3+5j)"
       ]
      }
     ],
<<<<<<< HEAD:lecture_2/.ipynb_checkpoints/1-python_tour-Copy0-checkpoint.ipynb
     "prompt_number": 15
    },
    {
     "cell_type": "markdown",
     "metadata": {},
     "source": [
      "**Booleanos**"
     ]
=======
     "prompt_number": 8
>>>>>>> bef7db894e4a9b4101a69e5fdb0e4bea628703ce:alumnos/RobertoGalanC/1-python_tour.ipynb
    },
    {
     "cell_type": "code",
     "collapsed": false,
     "input": [
      "a = True \n",
      "a"
     ],
     "language": "python",
     "metadata": {},
     "outputs": [
      {
       "metadata": {},
       "output_type": "pyout",
<<<<<<< HEAD:lecture_2/.ipynb_checkpoints/1-python_tour-Copy0-checkpoint.ipynb
       "prompt_number": 16,
=======
       "prompt_number": 9,
>>>>>>> bef7db894e4a9b4101a69e5fdb0e4bea628703ce:alumnos/RobertoGalanC/1-python_tour.ipynb
       "text": [
        "True"
       ]
      }
     ],
<<<<<<< HEAD:lecture_2/.ipynb_checkpoints/1-python_tour-Copy0-checkpoint.ipynb
     "prompt_number": 16
    },
    {
     "cell_type": "markdown",
     "metadata": {},
     "source": [
      "Python tambi\u00e9n soporta **notaci\u00f3n cient\u00edfica**"
     ]
=======
     "prompt_number": 9
>>>>>>> bef7db894e4a9b4101a69e5fdb0e4bea628703ce:alumnos/RobertoGalanC/1-python_tour.ipynb
    },
    {
     "cell_type": "code",
     "collapsed": false,
     "input": [
      "x = 1.2e34 #notacion cientifica\n",
      "x"
     ],
     "language": "python",
     "metadata": {},
     "outputs": [
      {
       "metadata": {},
       "output_type": "pyout",
<<<<<<< HEAD:lecture_2/.ipynb_checkpoints/1-python_tour-Copy0-checkpoint.ipynb
       "prompt_number": 17,
=======
       "prompt_number": 11,
>>>>>>> bef7db894e4a9b4101a69e5fdb0e4bea628703ce:alumnos/RobertoGalanC/1-python_tour.ipynb
       "text": [
        "1.2e+34"
       ]
      }
     ],
<<<<<<< HEAD:lecture_2/.ipynb_checkpoints/1-python_tour-Copy0-checkpoint.ipynb
     "prompt_number": 17
=======
     "prompt_number": 11
>>>>>>> bef7db894e4a9b4101a69e5fdb0e4bea628703ce:alumnos/RobertoGalanC/1-python_tour.ipynb
    },
    {
     "cell_type": "code",
     "collapsed": false,
     "input": [
      "x = 1e-12 + 3.56e4j  #python le esta cambiando el tipo a la variable en tiempo de ejecucion\n",
      "x"
     ],
     "language": "python",
     "metadata": {},
     "outputs": [
      {
       "metadata": {},
       "output_type": "pyout",
<<<<<<< HEAD:lecture_2/.ipynb_checkpoints/1-python_tour-Copy0-checkpoint.ipynb
       "prompt_number": 18,
=======
       "prompt_number": 12,
>>>>>>> bef7db894e4a9b4101a69e5fdb0e4bea628703ce:alumnos/RobertoGalanC/1-python_tour.ipynb
       "text": [
        "(1e-12+35600j)"
       ]
      }
     ],
<<<<<<< HEAD:lecture_2/.ipynb_checkpoints/1-python_tour-Copy0-checkpoint.ipynb
     "prompt_number": 18
    },
    {
     "cell_type": "markdown",
     "metadata": {},
     "source": [
      "<div class=\"alert alert-error\">\n",
      "Nota como cambiamos tres veces el tipo y el valor de la variable `x`, el hecho de *que se pueda* hacer no implica ** que debas de hacerlo **, se considera como una p\u00e9sima pr\u00e1ctica de programaci\u00f3n...\n",
      "</div>"
     ]
    },
    {
     "cell_type": "markdown",
     "metadata": {},
     "source": [
      "**Cadenas de texto**"
     ]
=======
     "prompt_number": 12
>>>>>>> bef7db894e4a9b4101a69e5fdb0e4bea628703ce:alumnos/RobertoGalanC/1-python_tour.ipynb
    },
    {
     "cell_type": "code",
     "collapsed": false,
     "input": [
      "cadena = u\"Esto es una cadena de texto con acentos y otros s\u00edmbolos UTF- 8?\u00bf\u00a1\" # la u al principio es para poder poner acentos y s\u00edmbolos\n",
      "cadena # si no pones print te muestra como esta \"guardado\" en la compu"
     ],
     "language": "python",
     "metadata": {},
     "outputs": [
      {
       "metadata": {},
       "output_type": "pyout",
<<<<<<< HEAD:lecture_2/.ipynb_checkpoints/1-python_tour-Copy0-checkpoint.ipynb
       "prompt_number": 19,
=======
       "prompt_number": 15,
>>>>>>> bef7db894e4a9b4101a69e5fdb0e4bea628703ce:alumnos/RobertoGalanC/1-python_tour.ipynb
       "text": [
        "u'Esto es una cadena de texto con acentos y otros s\\xedmbolos UTF- 8?\\xbf\\xa1'"
       ]
      }
     ],
<<<<<<< HEAD:lecture_2/.ipynb_checkpoints/1-python_tour-Copy0-checkpoint.ipynb
     "prompt_number": 19
=======
     "prompt_number": 15
>>>>>>> bef7db894e4a9b4101a69e5fdb0e4bea628703ce:alumnos/RobertoGalanC/1-python_tour.ipynb
    },
    {
     "cell_type": "code",
     "collapsed": false,
     "input": [
      "print cadena"
     ],
     "language": "python",
     "metadata": {},
     "outputs": [
      {
       "output_type": "stream",
       "stream": "stdout",
       "text": [
        "Esto es una cadena de texto con acentos y otros s\u00edmbolos UTF- 8?\u00bf\u00a1\n"
       ]
      }
     ],
<<<<<<< HEAD:lecture_2/.ipynb_checkpoints/1-python_tour-Copy0-checkpoint.ipynb
     "prompt_number": 20
    },
    {
     "cell_type": "markdown",
     "metadata": {},
     "source": [
      "**Ejercicio**\n",
      "Usa la ayuda en l\u00ednea de ipython e investiga como:\n",
      "- Capitalizarla.\n",
      "- Convertirla a min\u00fasculas.\n",
      "- Convertir a may\u00fasculas.\n",
      "- Eliminar los espacios.\n",
      "de la cadena \"Anita lava la tina\". Aplica las cuatro operaciones una tras otra."
     ]
=======
     "prompt_number": 16
>>>>>>> bef7db894e4a9b4101a69e5fdb0e4bea628703ce:alumnos/RobertoGalanC/1-python_tour.ipynb
    },
    {
     "cell_type": "code",
     "collapsed": false,
     "input": [
      "#ejercicio\n",
      "cadena = \"anita lava la tina\""
     ],
     "language": "python",
     "metadata": {},
     "outputs": [],
<<<<<<< HEAD:lecture_2/.ipynb_checkpoints/1-python_tour-Copy0-checkpoint.ipynb
     "prompt_number": 21
=======
     "prompt_number": 20
>>>>>>> bef7db894e4a9b4101a69e5fdb0e4bea628703ce:alumnos/RobertoGalanC/1-python_tour.ipynb
    },
    {
     "cell_type": "code",
     "collapsed": false,
     "input": [
      "cadena.capitalize()  #capitaliza la string, pero no la guarda. para guardarla hay que asignar dde nuevo"
     ],
     "language": "python",
     "metadata": {},
     "outputs": [
      {
       "metadata": {},
       "output_type": "pyout",
<<<<<<< HEAD:lecture_2/.ipynb_checkpoints/1-python_tour-Copy0-checkpoint.ipynb
       "prompt_number": 22,
=======
       "prompt_number": 25,
>>>>>>> bef7db894e4a9b4101a69e5fdb0e4bea628703ce:alumnos/RobertoGalanC/1-python_tour.ipynb
       "text": [
        "'Anita lava la tina'"
       ]
      }
     ],
<<<<<<< HEAD:lecture_2/.ipynb_checkpoints/1-python_tour-Copy0-checkpoint.ipynb
     "prompt_number": 22
=======
     "prompt_number": 25
>>>>>>> bef7db894e4a9b4101a69e5fdb0e4bea628703ce:alumnos/RobertoGalanC/1-python_tour.ipynb
    },
    {
     "cell_type": "code",
     "collapsed": false,
     "input": [
      "cadena.upper()"
     ],
     "language": "python",
     "metadata": {},
     "outputs": [
      {
       "metadata": {},
       "output_type": "pyout",
<<<<<<< HEAD:lecture_2/.ipynb_checkpoints/1-python_tour-Copy0-checkpoint.ipynb
       "prompt_number": 23,
       "text": [
        "'anita lava la tina'"
       ]
      }
     ],
     "prompt_number": 23
    },
    {
     "cell_type": "code",
     "collapsed": false,
     "input": [
      "cadena = cadena.upper()"
     ],
     "language": "python",
     "metadata": {},
     "outputs": [],
     "prompt_number": 24
=======
       "prompt_number": 26,
       "text": [
        "'ANITA LAVA LA TINA'"
       ]
      }
     ],
     "prompt_number": 26
>>>>>>> bef7db894e4a9b4101a69e5fdb0e4bea628703ce:alumnos/RobertoGalanC/1-python_tour.ipynb
    },
    {
     "cell_type": "code",
     "collapsed": false,
     "input": [
      "cadena.lower()"
     ],
     "language": "python",
     "metadata": {},
     "outputs": [
      {
       "metadata": {},
       "output_type": "pyout",
<<<<<<< HEAD:lecture_2/.ipynb_checkpoints/1-python_tour-Copy0-checkpoint.ipynb
       "prompt_number": 25,
=======
       "prompt_number": 27,
>>>>>>> bef7db894e4a9b4101a69e5fdb0e4bea628703ce:alumnos/RobertoGalanC/1-python_tour.ipynb
       "text": [
        "'anita lava la tina'"
       ]
      }
     ],
<<<<<<< HEAD:lecture_2/.ipynb_checkpoints/1-python_tour-Copy0-checkpoint.ipynb
     "prompt_number": 25
=======
     "prompt_number": 27
>>>>>>> bef7db894e4a9b4101a69e5fdb0e4bea628703ce:alumnos/RobertoGalanC/1-python_tour.ipynb
    },
    {
     "cell_type": "code",
     "collapsed": false,
     "input": [
      "cadena.capitalize()"
     ],
     "language": "python",
     "metadata": {},
<<<<<<< HEAD:lecture_2/.ipynb_checkpoints/1-python_tour-Copy0-checkpoint.ipynb
     "outputs": [],
     "prompt_number": 26
=======
     "outputs": [
      {
       "metadata": {},
       "output_type": "pyout",
       "prompt_number": 28,
       "text": [
        "'Anita lava la tina'"
       ]
      }
     ],
     "prompt_number": 28
>>>>>>> bef7db894e4a9b4101a69e5fdb0e4bea628703ce:alumnos/RobertoGalanC/1-python_tour.ipynb
    },
    {
     "cell_type": "code",
     "collapsed": false,
     "input": [
      "cadena.replace?\n",
      "cadena.replace(' ','') # replace el espacio a la cadena vacia"
     ],
     "language": "python",
     "metadata": {},
     "outputs": [
      {
       "metadata": {},
       "output_type": "pyout",
<<<<<<< HEAD:lecture_2/.ipynb_checkpoints/1-python_tour-Copy0-checkpoint.ipynb
       "prompt_number": 27,
=======
       "prompt_number": 31,
>>>>>>> bef7db894e4a9b4101a69e5fdb0e4bea628703ce:alumnos/RobertoGalanC/1-python_tour.ipynb
       "text": [
        "'anitalavalatina'"
       ]
      }
     ],
<<<<<<< HEAD:lecture_2/.ipynb_checkpoints/1-python_tour-Copy0-checkpoint.ipynb
     "prompt_number": 27
=======
     "prompt_number": 31
>>>>>>> bef7db894e4a9b4101a69e5fdb0e4bea628703ce:alumnos/RobertoGalanC/1-python_tour.ipynb
    },
    {
     "cell_type": "code",
     "collapsed": false,
     "input": [
      "x = int(2)\n",
      "y=float(3)\n",
      "z=complex(1+2j)\n"
     ],
     "language": "python",
     "metadata": {},
     "outputs": [],
<<<<<<< HEAD:lecture_2/.ipynb_checkpoints/1-python_tour-Copy0-checkpoint.ipynb
     "prompt_number": 27
=======
     "prompt_number": 32
>>>>>>> bef7db894e4a9b4101a69e5fdb0e4bea628703ce:alumnos/RobertoGalanC/1-python_tour.ipynb
    },
    {
     "cell_type": "code",
     "collapsed": false,
     "input": [
      "x , y , z"
     ],
     "language": "python",
     "metadata": {},
<<<<<<< HEAD:lecture_2/.ipynb_checkpoints/1-python_tour-Copy0-checkpoint.ipynb
     "outputs": [],
     "prompt_number": 27
    },
    {
     "cell_type": "markdown",
     "metadata": {},
     "source": [
      "Es posible ser expl\u00edcito en la asignaci\u00f3n del tipo de la variable"
     ]
=======
     "outputs": [
      {
       "metadata": {},
       "output_type": "pyout",
       "prompt_number": 33,
       "text": [
        "(2, 3.0, (1+2j))"
       ]
      }
     ],
     "prompt_number": 33
>>>>>>> bef7db894e4a9b4101a69e5fdb0e4bea628703ce:alumnos/RobertoGalanC/1-python_tour.ipynb
    },
    {
     "cell_type": "code",
     "collapsed": false,
     "input": [
      "print x , y , z"
     ],
     "language": "python",
     "metadata": {},
<<<<<<< HEAD:lecture_2/.ipynb_checkpoints/1-python_tour-Copy0-checkpoint.ipynb
     "outputs": [],
     "prompt_number": 28
=======
     "outputs": [
      {
       "output_type": "stream",
       "stream": "stdout",
       "text": [
        "2 3.0 (1+2j)\n"
       ]
      }
     ],
     "prompt_number": 34
>>>>>>> bef7db894e4a9b4101a69e5fdb0e4bea628703ce:alumnos/RobertoGalanC/1-python_tour.ipynb
    },
    {
     "cell_type": "code",
     "collapsed": false,
     "input": [
      "x =3\n",
      "y=4 +3j"
     ],
     "language": "python",
     "metadata": {},
<<<<<<< HEAD:lecture_2/.ipynb_checkpoints/1-python_tour-Copy0-checkpoint.ipynb
     "outputs": [
      {
       "output_type": "stream",
       "stream": "stdout",
       "text": [
        "2 3.0 (1+2j) Hola\n"
       ]
      }
     ],
     "prompt_number": 29
    },
    {
     "cell_type": "heading",
     "level": 2,
     "metadata": {},
     "source": [
      "Operaciones"
     ]
    },
    {
     "cell_type": "markdown",
     "metadata": {},
     "source": [
      "**Ejercicio:** \n",
      "\n",
      "\u00bfPuedes identificar las operaciones?"
     ]
=======
     "outputs": [],
     "prompt_number": 53
>>>>>>> bef7db894e4a9b4101a69e5fdb0e4bea628703ce:alumnos/RobertoGalanC/1-python_tour.ipynb
    },
    {
     "cell_type": "code",
     "collapsed": false,
     "input": [
      "type(y)"
     ],
     "language": "python",
     "metadata": {},
<<<<<<< HEAD:lecture_2/.ipynb_checkpoints/1-python_tour-Copy0-checkpoint.ipynb
     "outputs": [],
     "prompt_number": 30
=======
     "outputs": [
      {
       "metadata": {},
       "output_type": "pyout",
       "prompt_number": 54,
       "text": [
        "complex"
       ]
      }
     ],
     "prompt_number": 54
>>>>>>> bef7db894e4a9b4101a69e5fdb0e4bea628703ce:alumnos/RobertoGalanC/1-python_tour.ipynb
    },
    {
     "cell_type": "code",
     "collapsed": false,
     "input": [
      "x+y"
     ],
     "language": "python",
     "metadata": {},
     "outputs": [
      {
       "metadata": {},
       "output_type": "pyout",
<<<<<<< HEAD:lecture_2/.ipynb_checkpoints/1-python_tour-Copy0-checkpoint.ipynb
       "prompt_number": 31,
=======
       "prompt_number": 55,
>>>>>>> bef7db894e4a9b4101a69e5fdb0e4bea628703ce:alumnos/RobertoGalanC/1-python_tour.ipynb
       "text": [
        "(7+3j)"
       ]
      }
     ],
<<<<<<< HEAD:lecture_2/.ipynb_checkpoints/1-python_tour-Copy0-checkpoint.ipynb
     "prompt_number": 31
=======
     "prompt_number": 55
>>>>>>> bef7db894e4a9b4101a69e5fdb0e4bea628703ce:alumnos/RobertoGalanC/1-python_tour.ipynb
    },
    {
     "cell_type": "code",
     "collapsed": false,
     "input": [
      "z-y"
     ],
     "language": "python",
     "metadata": {},
     "outputs": [
      {
       "metadata": {},
       "output_type": "pyout",
<<<<<<< HEAD:lecture_2/.ipynb_checkpoints/1-python_tour-Copy0-checkpoint.ipynb
       "prompt_number": 32,
=======
       "prompt_number": 56,
>>>>>>> bef7db894e4a9b4101a69e5fdb0e4bea628703ce:alumnos/RobertoGalanC/1-python_tour.ipynb
       "text": [
        "(-3-1j)"
       ]
      }
     ],
<<<<<<< HEAD:lecture_2/.ipynb_checkpoints/1-python_tour-Copy0-checkpoint.ipynb
     "prompt_number": 32
=======
     "prompt_number": 56
>>>>>>> bef7db894e4a9b4101a69e5fdb0e4bea628703ce:alumnos/RobertoGalanC/1-python_tour.ipynb
    },
    {
     "cell_type": "code",
     "collapsed": false,
     "input": [
      "x*y"
     ],
     "language": "python",
     "metadata": {},
     "outputs": [
      {
       "metadata": {},
       "output_type": "pyout",
<<<<<<< HEAD:lecture_2/.ipynb_checkpoints/1-python_tour-Copy0-checkpoint.ipynb
       "prompt_number": 33,
=======
       "prompt_number": 57,
>>>>>>> bef7db894e4a9b4101a69e5fdb0e4bea628703ce:alumnos/RobertoGalanC/1-python_tour.ipynb
       "text": [
        "(12+9j)"
       ]
      }
     ],
<<<<<<< HEAD:lecture_2/.ipynb_checkpoints/1-python_tour-Copy0-checkpoint.ipynb
     "prompt_number": 33
=======
     "prompt_number": 57
>>>>>>> bef7db894e4a9b4101a69e5fdb0e4bea628703ce:alumnos/RobertoGalanC/1-python_tour.ipynb
    },
    {
     "cell_type": "code",
     "collapsed": false,
     "input": [
      "x**y"
     ],
     "language": "python",
     "metadata": {},
     "outputs": [
      {
       "metadata": {},
       "output_type": "pyout",
<<<<<<< HEAD:lecture_2/.ipynb_checkpoints/1-python_tour-Copy0-checkpoint.ipynb
       "prompt_number": 34,
=======
       "prompt_number": 58,
>>>>>>> bef7db894e4a9b4101a69e5fdb0e4bea628703ce:alumnos/RobertoGalanC/1-python_tour.ipynb
       "text": [
        "(-80.03836209851747-12.44429960209101j)"
       ]
      }
     ],
<<<<<<< HEAD:lecture_2/.ipynb_checkpoints/1-python_tour-Copy0-checkpoint.ipynb
     "prompt_number": 34
=======
     "prompt_number": 58
>>>>>>> bef7db894e4a9b4101a69e5fdb0e4bea628703ce:alumnos/RobertoGalanC/1-python_tour.ipynb
    },
    {
     "cell_type": "code",
     "collapsed": false,
     "input": [
      "x/y #la division entera no la transforma a real "
     ],
     "language": "python",
     "metadata": {},
     "outputs": [
      {
       "metadata": {},
       "output_type": "pyout",
<<<<<<< HEAD:lecture_2/.ipynb_checkpoints/1-python_tour-Copy0-checkpoint.ipynb
       "prompt_number": 35,
=======
       "prompt_number": 59,
>>>>>>> bef7db894e4a9b4101a69e5fdb0e4bea628703ce:alumnos/RobertoGalanC/1-python_tour.ipynb
       "text": [
        "(0.48-0.36j)"
       ]
      }
     ],
<<<<<<< HEAD:lecture_2/.ipynb_checkpoints/1-python_tour-Copy0-checkpoint.ipynb
     "prompt_number": 35
=======
     "prompt_number": 59
>>>>>>> bef7db894e4a9b4101a69e5fdb0e4bea628703ce:alumnos/RobertoGalanC/1-python_tour.ipynb
    },
    {
     "cell_type": "code",
     "collapsed": false,
     "input": [
      "y%x"
     ],
     "language": "python",
     "metadata": {},
     "outputs": [
      {
       "metadata": {},
       "output_type": "pyout",
<<<<<<< HEAD:lecture_2/.ipynb_checkpoints/1-python_tour-Copy0-checkpoint.ipynb
       "prompt_number": 36,
=======
       "prompt_number": 60,
>>>>>>> bef7db894e4a9b4101a69e5fdb0e4bea628703ce:alumnos/RobertoGalanC/1-python_tour.ipynb
       "text": [
        "(1+3j)"
       ]
      }
     ],
<<<<<<< HEAD:lecture_2/.ipynb_checkpoints/1-python_tour-Copy0-checkpoint.ipynb
     "prompt_number": 36
    },
    {
     "cell_type": "code",
     "collapsed": false,
     "input": [],
     "language": "python",
     "metadata": {},
     "outputs": [],
     "prompt_number": 36
    },
    {
     "cell_type": "markdown",
     "metadata": {},
     "source": [
      "<div class=\"alert alert-info\">\n",
      "**Ejercicio:**\n",
      "\n",
      "Repite las operaciones pero ahora usa el siguiente valor (y tipo) de `y`.\n",
      "\n",
      "\u00bfQu\u00e9 sucede? \u00bfCu\u00e1l es el tipo del valor de salida?\n",
      "</div>"
     ]
=======
     "prompt_number": 60
>>>>>>> bef7db894e4a9b4101a69e5fdb0e4bea628703ce:alumnos/RobertoGalanC/1-python_tour.ipynb
    },
    {
     "cell_type": "code",
     "collapsed": false,
     "input": [
      "a=3\n",
      "b=\"hola\""
     ],
     "language": "python",
     "metadata": {},
     "outputs": [],
<<<<<<< HEAD:lecture_2/.ipynb_checkpoints/1-python_tour-Copy0-checkpoint.ipynb
     "prompt_number": 37
    },
    {
     "cell_type": "markdown",
     "metadata": {},
     "source": [
      "<div class=\"alert alert-info\">\n",
      "**Ejercicio:**\n",
      "\n",
      "Repite las operaciones pero ahora usa el valor (y tipo) de `y`.\n",
      "\n",
      "\u00bfQu\u00e9 sucede? \u00bfCu\u00e1l es el tipo de valor de salida?\n",
      "</div>"
     ]
=======
     "prompt_number": 61
>>>>>>> bef7db894e4a9b4101a69e5fdb0e4bea628703ce:alumnos/RobertoGalanC/1-python_tour.ipynb
    },
    {
     "cell_type": "code",
     "collapsed": false,
     "input": [
      "type(b)"
     ],
     "language": "python",
     "metadata": {},
<<<<<<< HEAD:lecture_2/.ipynb_checkpoints/1-python_tour-Copy0-checkpoint.ipynb
     "outputs": [],
     "prompt_number": 38
    },
    {
     "cell_type": "markdown",
     "metadata": {},
     "source": [
      "<div class=\"alert alert-info\">\n",
      "**Ejercicio:**\n",
      "\n",
      "\u00bfQu\u00e9 pasa en lo siguiente?\n",
      "</div>"
     ]
    },
    {
     "cell_type": "code",
     "collapsed": false,
     "input": [],
     "language": "python",
     "metadata": {},
     "outputs": [],
     "prompt_number": 38
    },
    {
     "cell_type": "code",
     "collapsed": false,
     "input": [
      "a = 3\n",
      "b = \"hola\""
     ],
     "language": "python",
     "metadata": {},
     "outputs": [],
     "prompt_number": 39
=======
     "outputs": [
      {
       "metadata": {},
       "output_type": "pyout",
       "prompt_number": 62,
       "text": [
        "str"
       ]
      }
     ],
     "prompt_number": 62
>>>>>>> bef7db894e4a9b4101a69e5fdb0e4bea628703ce:alumnos/RobertoGalanC/1-python_tour.ipynb
    },
    {
     "cell_type": "code",
     "collapsed": false,
     "input": [
      "a+b # cuando te marca error, despues de la flechita viene la linea que tiene el error en la celda"
     ],
     "language": "python",
     "metadata": {},
     "outputs": [
      {
       "ename": "TypeError",
       "evalue": "unsupported operand type(s) for +: 'int' and 'str'",
       "output_type": "pyerr",
       "traceback": [
        "\u001b[1;31m---------------------------------------------------------------------------\u001b[0m\n\u001b[1;31mTypeError\u001b[0m                                 Traceback (most recent call last)",
<<<<<<< HEAD:lecture_2/.ipynb_checkpoints/1-python_tour-Copy0-checkpoint.ipynb
        "\u001b[1;32m<ipython-input-40-8e882d1cb9b9>\u001b[0m in \u001b[0;36m<module>\u001b[1;34m()\u001b[0m\n\u001b[1;32m----> 1\u001b[1;33m \u001b[0ma\u001b[0m \u001b[1;33m+\u001b[0m \u001b[0mb\u001b[0m \u001b[1;31m#no puedes sumar un string con un entero\u001b[0m\u001b[1;33m\u001b[0m\u001b[0m\n\u001b[0m",
=======
        "\u001b[1;32m<ipython-input-65-d25ab5ffe8f5>\u001b[0m in \u001b[0;36m<module>\u001b[1;34m()\u001b[0m\n\u001b[1;32m----> 1\u001b[1;33m \u001b[0ma\u001b[0m\u001b[1;33m+\u001b[0m\u001b[0mb\u001b[0m \u001b[1;31m# cuando te marca error, despues de la flechita viene la linea que tiene el error en la celda\u001b[0m\u001b[1;33m\u001b[0m\u001b[0m\n\u001b[0m",
>>>>>>> bef7db894e4a9b4101a69e5fdb0e4bea628703ce:alumnos/RobertoGalanC/1-python_tour.ipynb
        "\u001b[1;31mTypeError\u001b[0m: unsupported operand type(s) for +: 'int' and 'str'"
       ]
      }
     ],
<<<<<<< HEAD:lecture_2/.ipynb_checkpoints/1-python_tour-Copy0-checkpoint.ipynb
     "prompt_number": 40
=======
     "prompt_number": 65
>>>>>>> bef7db894e4a9b4101a69e5fdb0e4bea628703ce:alumnos/RobertoGalanC/1-python_tour.ipynb
    },
    {
     "cell_type": "code",
     "collapsed": false,
     "input": [
      "str(a)+b"
     ],
     "language": "python",
     "metadata": {},
     "outputs": [
      {
       "metadata": {},
       "output_type": "pyout",
<<<<<<< HEAD:lecture_2/.ipynb_checkpoints/1-python_tour-Copy0-checkpoint.ipynb
       "prompt_number": 41,
=======
       "prompt_number": 64,
>>>>>>> bef7db894e4a9b4101a69e5fdb0e4bea628703ce:alumnos/RobertoGalanC/1-python_tour.ipynb
       "text": [
        "'3hola'"
       ]
      }
     ],
<<<<<<< HEAD:lecture_2/.ipynb_checkpoints/1-python_tour-Copy0-checkpoint.ipynb
     "prompt_number": 41
=======
     "prompt_number": 64
>>>>>>> bef7db894e4a9b4101a69e5fdb0e4bea628703ce:alumnos/RobertoGalanC/1-python_tour.ipynb
    },
    {
     "cell_type": "code",
     "collapsed": false,
     "input": [
      "b+b"
     ],
     "language": "python",
     "metadata": {},
     "outputs": [
      {
       "metadata": {},
       "output_type": "pyout",
<<<<<<< HEAD:lecture_2/.ipynb_checkpoints/1-python_tour-Copy0-checkpoint.ipynb
       "prompt_number": 42,
=======
       "prompt_number": 66,
>>>>>>> bef7db894e4a9b4101a69e5fdb0e4bea628703ce:alumnos/RobertoGalanC/1-python_tour.ipynb
       "text": [
        "'holahola'"
       ]
      }
     ],
<<<<<<< HEAD:lecture_2/.ipynb_checkpoints/1-python_tour-Copy0-checkpoint.ipynb
     "prompt_number": 42
=======
     "prompt_number": 66
    },
    {
     "cell_type": "code",
     "collapsed": false,
     "input": [
      "a*"
     ],
     "language": "python",
     "metadata": {},
     "outputs": [
      {
       "ename": "SyntaxError",
       "evalue": "invalid syntax (<ipython-input-67-10b835fd78a6>, line 1)",
       "output_type": "pyerr",
       "traceback": [
        "\u001b[1;36m  File \u001b[1;32m\"<ipython-input-67-10b835fd78a6>\"\u001b[1;36m, line \u001b[1;32m1\u001b[0m\n\u001b[1;33m    a*\u001b[0m\n\u001b[1;37m      ^\u001b[0m\n\u001b[1;31mSyntaxError\u001b[0m\u001b[1;31m:\u001b[0m invalid syntax\n"
       ]
      }
     ],
     "prompt_number": 67
>>>>>>> bef7db894e4a9b4101a69e5fdb0e4bea628703ce:alumnos/RobertoGalanC/1-python_tour.ipynb
    },
    {
     "cell_type": "code",
     "collapsed": false,
     "input": [
      "a*b #si esta definida int * string"
     ],
     "language": "python",
     "metadata": {},
     "outputs": [
      {
       "metadata": {},
       "output_type": "pyout",
<<<<<<< HEAD:lecture_2/.ipynb_checkpoints/1-python_tour-Copy0-checkpoint.ipynb
       "prompt_number": 43,
=======
       "prompt_number": 68,
>>>>>>> bef7db894e4a9b4101a69e5fdb0e4bea628703ce:alumnos/RobertoGalanC/1-python_tour.ipynb
       "text": [
        "'holaholahola'"
       ]
      }
     ],
<<<<<<< HEAD:lecture_2/.ipynb_checkpoints/1-python_tour-Copy0-checkpoint.ipynb
     "prompt_number": 43
    },
    {
     "cell_type": "markdown",
     "metadata": {},
     "source": [
      "<div class=\"alert alert-info\">\n",
      "\n",
      "**Ejercicio:**\n",
      "\n",
      "\u00bfQu\u00e9 puedes deducir de lo siguiente?\n",
      "\n",
      "</div>"
     ]
=======
     "prompt_number": 68
>>>>>>> bef7db894e4a9b4101a69e5fdb0e4bea628703ce:alumnos/RobertoGalanC/1-python_tour.ipynb
    },
    {
     "cell_type": "code",
     "collapsed": false,
     "input": [
      "a,b,c=1.0,2.0,3.0\n",
      "print a\n",
      "print b\n",
      "print c"
     ],
     "language": "python",
     "metadata": {},
     "outputs": [
      {
       "output_type": "stream",
       "stream": "stdout",
       "text": [
        "1.0\n",
        "2.0\n",
        "3.0\n"
       ]
      }
     ],
<<<<<<< HEAD:lecture_2/.ipynb_checkpoints/1-python_tour-Copy0-checkpoint.ipynb
     "prompt_number": 44
=======
     "prompt_number": 69
>>>>>>> bef7db894e4a9b4101a69e5fdb0e4bea628703ce:alumnos/RobertoGalanC/1-python_tour.ipynb
    },
    {
     "cell_type": "code",
     "collapsed": false,
     "input": [
      "a + b/c"
     ],
     "language": "python",
     "metadata": {},
     "outputs": [
      {
       "metadata": {},
       "output_type": "pyout",
<<<<<<< HEAD:lecture_2/.ipynb_checkpoints/1-python_tour-Copy0-checkpoint.ipynb
       "prompt_number": 45,
=======
       "prompt_number": 70,
>>>>>>> bef7db894e4a9b4101a69e5fdb0e4bea628703ce:alumnos/RobertoGalanC/1-python_tour.ipynb
       "text": [
        "1.6666666666666665"
       ]
      }
     ],
<<<<<<< HEAD:lecture_2/.ipynb_checkpoints/1-python_tour-Copy0-checkpoint.ipynb
     "prompt_number": 45
=======
     "prompt_number": 70
>>>>>>> bef7db894e4a9b4101a69e5fdb0e4bea628703ce:alumnos/RobertoGalanC/1-python_tour.ipynb
    },
    {
     "cell_type": "code",
     "collapsed": false,
     "input": [
      "(a+b) / c"
     ],
     "language": "python",
     "metadata": {},
     "outputs": [
      {
       "metadata": {},
       "output_type": "pyout",
<<<<<<< HEAD:lecture_2/.ipynb_checkpoints/1-python_tour-Copy0-checkpoint.ipynb
       "prompt_number": 46,
=======
       "prompt_number": 71,
>>>>>>> bef7db894e4a9b4101a69e5fdb0e4bea628703ce:alumnos/RobertoGalanC/1-python_tour.ipynb
       "text": [
        "1.0"
       ]
      }
     ],
<<<<<<< HEAD:lecture_2/.ipynb_checkpoints/1-python_tour-Copy0-checkpoint.ipynb
     "prompt_number": 46
    },
    {
     "cell_type": "markdown",
     "metadata": {},
     "source": [
      "Tambi\u00e9n *modificadores* de una variable"
     ]
=======
     "prompt_number": 71
>>>>>>> bef7db894e4a9b4101a69e5fdb0e4bea628703ce:alumnos/RobertoGalanC/1-python_tour.ipynb
    },
    {
     "cell_type": "code",
     "collapsed": false,
     "input": [
      "x = 0\n",
      "x+=1 #al valor de x le suma uno y lo vuelve a asignar a "
     ],
     "language": "python",
     "metadata": {},
     "outputs": [],
<<<<<<< HEAD:lecture_2/.ipynb_checkpoints/1-python_tour-Copy0-checkpoint.ipynb
     "prompt_number": 47
=======
     "prompt_number": 72
>>>>>>> bef7db894e4a9b4101a69e5fdb0e4bea628703ce:alumnos/RobertoGalanC/1-python_tour.ipynb
    },
    {
     "cell_type": "code",
     "collapsed": false,
     "input": [
      "print x"
     ],
     "language": "python",
     "metadata": {},
     "outputs": [
      {
       "output_type": "stream",
       "stream": "stdout",
       "text": [
        "1\n"
       ]
      }
     ],
<<<<<<< HEAD:lecture_2/.ipynb_checkpoints/1-python_tour-Copy0-checkpoint.ipynb
     "prompt_number": 48
    },
    {
     "cell_type": "code",
     "collapsed": false,
     "input": [
      "x=x+1\n",
      "x"
     ],
     "language": "python",
     "metadata": {},
     "outputs": [
      {
       "metadata": {},
       "output_type": "pyout",
       "prompt_number": 49,
       "text": [
        "2"
       ]
      }
     ],
     "prompt_number": 49
=======
     "prompt_number": 73
>>>>>>> bef7db894e4a9b4101a69e5fdb0e4bea628703ce:alumnos/RobertoGalanC/1-python_tour.ipynb
    },
    {
     "cell_type": "code",
     "collapsed": false,
     "input": [
      "x -= 2"
     ],
     "language": "python",
     "metadata": {},
     "outputs": [],
<<<<<<< HEAD:lecture_2/.ipynb_checkpoints/1-python_tour-Copy0-checkpoint.ipynb
     "prompt_number": 50
=======
     "prompt_number": 74
>>>>>>> bef7db894e4a9b4101a69e5fdb0e4bea628703ce:alumnos/RobertoGalanC/1-python_tour.ipynb
    },
    {
     "cell_type": "code",
     "collapsed": false,
     "input": [
      "print x"
     ],
     "language": "python",
     "metadata": {},
     "outputs": [
      {
       "output_type": "stream",
       "stream": "stdout",
       "text": [
<<<<<<< HEAD:lecture_2/.ipynb_checkpoints/1-python_tour-Copy0-checkpoint.ipynb
        "0\n"
       ]
      }
     ],
     "prompt_number": 51
=======
        "-1\n"
       ]
      }
     ],
     "prompt_number": 76
>>>>>>> bef7db894e4a9b4101a69e5fdb0e4bea628703ce:alumnos/RobertoGalanC/1-python_tour.ipynb
    },
    {
     "cell_type": "code",
     "collapsed": false,
     "input": [
      "x*=3.14\n",
      "x"
     ],
     "language": "python",
     "metadata": {},
     "outputs": [
      {
       "metadata": {},
       "output_type": "pyout",
       "prompt_number": 77,
       "text": [
<<<<<<< HEAD:lecture_2/.ipynb_checkpoints/1-python_tour-Copy0-checkpoint.ipynb
        "0.0\n"
       ]
      }
     ],
     "prompt_number": 52
=======
        "-3.14"
       ]
      }
     ],
     "prompt_number": 77
>>>>>>> bef7db894e4a9b4101a69e5fdb0e4bea628703ce:alumnos/RobertoGalanC/1-python_tour.ipynb
    },
    {
     "cell_type": "code",
     "collapsed": false,
     "input": [
      "x/=5*a"
     ],
     "language": "python",
     "metadata": {},
     "outputs": [],
<<<<<<< HEAD:lecture_2/.ipynb_checkpoints/1-python_tour-Copy0-checkpoint.ipynb
     "prompt_number": 53
=======
     "prompt_number": 78
>>>>>>> bef7db894e4a9b4101a69e5fdb0e4bea628703ce:alumnos/RobertoGalanC/1-python_tour.ipynb
    },
    {
     "cell_type": "code",
     "collapsed": false,
     "input": [
      "print x"
     ],
     "language": "python",
     "metadata": {},
     "outputs": [
      {
       "output_type": "stream",
       "stream": "stdout",
       "text": [
<<<<<<< HEAD:lecture_2/.ipynb_checkpoints/1-python_tour-Copy0-checkpoint.ipynb
        "0.0\n"
       ]
      }
     ],
     "prompt_number": 54
    },
    {
     "cell_type": "heading",
     "level": 2,
     "metadata": {},
     "source": [
      "Condicionales"
     ]
    },
    {
     "cell_type": "code",
     "collapsed": false,
     "input": [
      "if x > 3:\n",
      "    print \"Esto no se deber\u00eda de imprimir\"\n",
      "    print \"Nota que es muy peligroso hacer esto con flotantes...\""
     ],
     "language": "python",
     "metadata": {},
     "outputs": [],
     "prompt_number": 55
=======
        "-0.628\n"
       ]
      }
     ],
     "prompt_number": 80
>>>>>>> bef7db894e4a9b4101a69e5fdb0e4bea628703ce:alumnos/RobertoGalanC/1-python_tour.ipynb
    },
    {
     "cell_type": "code",
     "collapsed": false,
     "input": [
      "#condicionales"
     ],
     "language": "python",
     "metadata": {},
     "outputs": [],
<<<<<<< HEAD:lecture_2/.ipynb_checkpoints/1-python_tour-Copy0-checkpoint.ipynb
     "prompt_number": 56
=======
     "prompt_number": 82
>>>>>>> bef7db894e4a9b4101a69e5fdb0e4bea628703ce:alumnos/RobertoGalanC/1-python_tour.ipynb
    },
    {
     "cell_type": "code",
     "collapsed": false,
     "input": [
      "if x>3: #acuerdate de indentar dentro de las funciones y de los dos puntos\n",
      "    print \"esto no se deber\u00eda de imprimir\"\n",
      "    print \"Nota que es muy peligroso con flotantes...\""
     ],
     "language": "python",
     "metadata": {},
     "outputs": [
      {
       "output_type": "stream",
       "stream": "stdout",
       "text": [
        "esto no se deber\u00eda de imprimir\n",
        "Nota que es muy peligroso con flotantes...\n"
       ]
      }
     ],
<<<<<<< HEAD:lecture_2/.ipynb_checkpoints/1-python_tour-Copy0-checkpoint.ipynb
     "prompt_number": 57
    },
    {
     "cell_type": "markdown",
     "metadata": {},
     "source": [
      "Los siguientes operadores l\u00f3gicos se pueden utilizar "
     ]
=======
     "prompt_number": 89
>>>>>>> bef7db894e4a9b4101a69e5fdb0e4bea628703ce:alumnos/RobertoGalanC/1-python_tour.ipynb
    },
    {
     "cell_type": "code",
     "collapsed": false,
     "input": [
      "x =5"
     ],
     "language": "python",
     "metadata": {},
<<<<<<< HEAD:lecture_2/.ipynb_checkpoints/1-python_tour-Copy0-checkpoint.ipynb
     "outputs": [
      {
       "metadata": {},
       "output_type": "pyout",
       "prompt_number": 58,
       "text": [
        "False"
       ]
      }
     ],
     "prompt_number": 58
=======
     "outputs": [],
     "prompt_number": 88
>>>>>>> bef7db894e4a9b4101a69e5fdb0e4bea628703ce:alumnos/RobertoGalanC/1-python_tour.ipynb
    },
    {
     "cell_type": "code",
     "collapsed": false,
     "input": [
      "type (x == 1)"
     ],
     "language": "python",
     "metadata": {},
     "outputs": [
      {
       "metadata": {},
       "output_type": "pyout",
<<<<<<< HEAD:lecture_2/.ipynb_checkpoints/1-python_tour-Copy0-checkpoint.ipynb
       "prompt_number": 59,
=======
       "prompt_number": 90,
>>>>>>> bef7db894e4a9b4101a69e5fdb0e4bea628703ce:alumnos/RobertoGalanC/1-python_tour.ipynb
       "text": [
        "bool"
       ]
      }
     ],
<<<<<<< HEAD:lecture_2/.ipynb_checkpoints/1-python_tour-Copy0-checkpoint.ipynb
     "prompt_number": 59
=======
     "prompt_number": 90
>>>>>>> bef7db894e4a9b4101a69e5fdb0e4bea628703ce:alumnos/RobertoGalanC/1-python_tour.ipynb
    },
    {
     "cell_type": "code",
     "collapsed": false,
     "input": [
      "x>1"
     ],
     "language": "python",
     "metadata": {},
     "outputs": [
      {
       "metadata": {},
       "output_type": "pyout",
<<<<<<< HEAD:lecture_2/.ipynb_checkpoints/1-python_tour-Copy0-checkpoint.ipynb
       "prompt_number": 60,
=======
       "prompt_number": 91,
>>>>>>> bef7db894e4a9b4101a69e5fdb0e4bea628703ce:alumnos/RobertoGalanC/1-python_tour.ipynb
       "text": [
        "True"
       ]
      }
     ],
<<<<<<< HEAD:lecture_2/.ipynb_checkpoints/1-python_tour-Copy0-checkpoint.ipynb
     "prompt_number": 60
=======
     "prompt_number": 91
>>>>>>> bef7db894e4a9b4101a69e5fdb0e4bea628703ce:alumnos/RobertoGalanC/1-python_tour.ipynb
    },
    {
     "cell_type": "code",
     "collapsed": false,
     "input": [
      "x<1"
     ],
     "language": "python",
     "metadata": {},
     "outputs": [
      {
       "metadata": {},
       "output_type": "pyout",
<<<<<<< HEAD:lecture_2/.ipynb_checkpoints/1-python_tour-Copy0-checkpoint.ipynb
       "prompt_number": 61,
=======
       "prompt_number": 92,
>>>>>>> bef7db894e4a9b4101a69e5fdb0e4bea628703ce:alumnos/RobertoGalanC/1-python_tour.ipynb
       "text": [
        "False"
       ]
      }
     ],
<<<<<<< HEAD:lecture_2/.ipynb_checkpoints/1-python_tour-Copy0-checkpoint.ipynb
     "prompt_number": 61
    },
    {
     "cell_type": "code",
     "collapsed": false,
     "input": [
      "x >= 1"
     ],
     "language": "python",
     "metadata": {},
     "outputs": [
      {
       "metadata": {},
       "output_type": "pyout",
       "prompt_number": 62,
       "text": [
        "True"
       ]
      }
     ],
     "prompt_number": 62
=======
     "prompt_number": 92
>>>>>>> bef7db894e4a9b4101a69e5fdb0e4bea628703ce:alumnos/RobertoGalanC/1-python_tour.ipynb
    },
    {
     "cell_type": "code",
     "collapsed": false,
     "input": [
      "x!=1"
     ],
     "language": "python",
     "metadata": {},
     "outputs": [
      {
       "metadata": {},
       "output_type": "pyout",
<<<<<<< HEAD:lecture_2/.ipynb_checkpoints/1-python_tour-Copy0-checkpoint.ipynb
       "prompt_number": 63,
=======
       "prompt_number": 93,
>>>>>>> bef7db894e4a9b4101a69e5fdb0e4bea628703ce:alumnos/RobertoGalanC/1-python_tour.ipynb
       "text": [
        "True"
       ]
      }
     ],
<<<<<<< HEAD:lecture_2/.ipynb_checkpoints/1-python_tour-Copy0-checkpoint.ipynb
     "prompt_number": 63
=======
     "prompt_number": 93
>>>>>>> bef7db894e4a9b4101a69e5fdb0e4bea628703ce:alumnos/RobertoGalanC/1-python_tour.ipynb
    },
    {
     "cell_type": "code",
     "collapsed": false,
     "input": [
      "x>10 or x<=5"
     ],
     "language": "python",
     "metadata": {},
     "outputs": [
      {
       "metadata": {},
       "output_type": "pyout",
       "prompt_number": 94,
       "text": [
        "True"
       ]
      }
     ],
     "prompt_number": 94
    },
    {
     "cell_type": "code",
     "collapsed": false,
     "input": [
      "x>10 and x<=5"
     ],
     "language": "python",
     "metadata": {},
     "outputs": [
      {
       "metadata": {},
       "output_type": "pyout",
       "prompt_number": 95,
       "text": [
        "False"
       ]
      }
     ],
     "prompt_number": 95
    },
    {
     "cell_type": "code",
     "collapsed": false,
     "input": [
      "if x>=5 and x<10:\n",
      "        print u\"Hola!\"\n",
      "else:\n",
      "        print u\"Nunca me ver\u00e1s\""
     ],
     "language": "python",
     "metadata": {},
     "outputs": [
      {
       "output_type": "stream",
       "stream": "stdout",
       "text": [
        "Hola!\n"
       ]
      }
     ],
     "prompt_number": 97
    },
    {
     "cell_type": "code",
     "collapsed": false,
     "input": [
      "from IPython.html.widgets import interact, fixed\n",
      "from IPython.html import widgets "
     ],
     "language": "python",
     "metadata": {},
     "outputs": [],
     "prompt_number": 99
    },
    {
     "cell_type": "code",
     "collapsed": false,
     "input": [
      "def esPar(x):\n",
      "    print x%2==0\n",
      "   \n",
      "        "
     ],
     "language": "python",
     "metadata": {},
     "outputs": [],
     "prompt_number": 127
    },
    {
     "cell_type": "code",
     "collapsed": false,
     "input": [
      "esPar(10)"
     ],
     "language": "python",
     "metadata": {},
     "outputs": [
      {
       "metadata": {},
       "output_type": "pyout",
       "prompt_number": 122,
       "text": [
        "True"
       ]
      }
     ],
     "prompt_number": 122
    },
    {
     "cell_type": "code",
     "collapsed": false,
     "input": [
      "esPar(5.5)"
     ],
     "language": "python",
     "metadata": {},
     "outputs": [
      {
       "metadata": {},
       "output_type": "pyout",
       "prompt_number": 125,
       "text": [
        "False"
       ]
      }
     ],
     "prompt_number": 125
    },
    {
     "cell_type": "code",
     "collapsed": false,
     "input": [
      "interact(esPar,x=100);"
     ],
     "language": "python",
     "metadata": {},
     "outputs": [
      {
       "output_type": "stream",
       "stream": "stdout",
       "text": [
        "True\n"
       ]
      }
     ],
     "prompt_number": 130
    },
    {
     "cell_type": "code",
     "collapsed": false,
     "input": [
      "#bucles en python usan un iterador.\n",
      "for i in(1,2,3,4,5):\n",
      "    print i"
     ],
     "language": "python",
     "metadata": {},
     "outputs": [
      {
       "output_type": "stream",
       "stream": "stdout",
       "text": [
        "1\n",
        "2\n",
        "3\n",
        "4\n",
        "5\n"
       ]
      }
     ],
     "prompt_number": 131
    },
    {
     "cell_type": "code",
     "collapsed": false,
     "input": [
      "for x in u\"Hola c\u00f3mo est\u00e1s?\":\n",
      "    print x"
     ],
     "language": "python",
     "metadata": {},
     "outputs": [
      {
       "output_type": "stream",
       "stream": "stdout",
       "text": [
        "H\n",
        "o\n",
        "l\n",
        "a\n",
        " \n",
        "c\n",
        "\u00f3\n",
        "m\n",
        "o\n",
        " \n",
        "e\n",
        "s\n",
        "t\n",
        "\u00e1\n",
        "s\n",
        "?\n"
       ]
      }
     ],
     "prompt_number": 133
    },
    {
     "cell_type": "code",
     "collapsed": false,
     "input": [
      "i = 1\n",
      "while i>0 and i<=5:\n",
      "    print i\n",
      "    i+=1"
     ],
     "language": "python",
     "metadata": {},
     "outputs": [
      {
       "output_type": "stream",
       "stream": "stdout",
       "text": [
        "1\n",
        "2\n",
        "3\n",
        "4\n",
        "5\n"
       ]
      }
     ],
<<<<<<< HEAD:lecture_2/.ipynb_checkpoints/1-python_tour-Copy0-checkpoint.ipynb
     "prompt_number": 1
=======
     "prompt_number": 135
>>>>>>> bef7db894e4a9b4101a69e5fdb0e4bea628703ce:alumnos/RobertoGalanC/1-python_tour.ipynb
    },
    {
     "cell_type": "code",
     "collapsed": false,
     "input": [
      "for i in xrange(3,10,2):  #xrange(inicio,final,de cuanto en cuanto brinca), no soporta decimales\n",
      "    print i"
     ],
     "language": "python",
     "metadata": {},
     "outputs": [
      {
       "output_type": "stream",
       "stream": "stdout",
       "text": [
        "3\n",
        "5\n",
        "7\n",
        "9\n"
       ]
      }
     ],
<<<<<<< HEAD:lecture_2/.ipynb_checkpoints/1-python_tour-Copy0-checkpoint.ipynb
     "prompt_number": 2
=======
     "prompt_number": 137
>>>>>>> bef7db894e4a9b4101a69e5fdb0e4bea628703ce:alumnos/RobertoGalanC/1-python_tour.ipynb
    },
    {
     "cell_type": "code",
     "collapsed": false,
     "input": [
      "range(3,10,2) #construye un iterador, una lista. as\u00ed el rango se construye primero antes del for"
     ],
     "language": "python",
     "metadata": {},
     "outputs": [
      {
       "metadata": {},
       "output_type": "pyout",
<<<<<<< HEAD:lecture_2/.ipynb_checkpoints/1-python_tour-Copy0-checkpoint.ipynb
       "prompt_number": 3,
=======
       "prompt_number": 139,
>>>>>>> bef7db894e4a9b4101a69e5fdb0e4bea628703ce:alumnos/RobertoGalanC/1-python_tour.ipynb
       "text": [
        "[3, 5, 7, 9]"
       ]
      }
     ],
<<<<<<< HEAD:lecture_2/.ipynb_checkpoints/1-python_tour-Copy0-checkpoint.ipynb
     "prompt_number": 3
    },
    {
     "cell_type": "markdown",
     "metadata": {},
     "source": [
      "<div class=\"alert alert-info\">\n",
      "\n",
      "**Ejercicio:**\n",
      "\n",
      "Calcula el valor de la sumatoria $\\sum^{1000}_{k=1} \\left(\\frac{1}{k}\\right)^2$.\n",
      "\n",
      "</div>"
     ]
=======
     "prompt_number": 139
>>>>>>> bef7db894e4a9b4101a69e5fdb0e4bea628703ce:alumnos/RobertoGalanC/1-python_tour.ipynb
    },
    {
     "cell_type": "code",
     "collapsed": false,
     "input": [
      "suma = 0\n",
      "for k in xrange(1,1001,1):\n",
      "    suma += (1.0/k**2)\n",
      "print suma"
     ],
     "language": "python",
     "metadata": {},
     "outputs": [
      {
       "output_type": "stream",
       "stream": "stdout",
       "text": [
        "1.64393456668\n"
       ]
      }
     ],
<<<<<<< HEAD:lecture_2/.ipynb_checkpoints/1-python_tour-Copy0-checkpoint.ipynb
     "prompt_number": 4
=======
     "prompt_number": 159
>>>>>>> bef7db894e4a9b4101a69e5fdb0e4bea628703ce:alumnos/RobertoGalanC/1-python_tour.ipynb
    },
    {
     "cell_type": "code",
     "collapsed": false,
     "input": [
      "xrange?"
     ],
     "language": "python",
     "metadata": {},
<<<<<<< HEAD:lecture_2/.ipynb_checkpoints/1-python_tour-Copy0-checkpoint.ipynb
     "outputs": [
      {
       "output_type": "stream",
       "stream": "stdout",
       "text": [
        "1.64393456668\n"
       ]
      }
     ],
     "prompt_number": 5
    },
    {
     "cell_type": "heading",
     "level": 2,
     "metadata": {},
     "source": [
      "Estructuras de datos *built-in*"
     ]
    },
    {
     "cell_type": "heading",
     "level": 3,
     "metadata": {},
     "source": [
      "Listas"
     ]
=======
     "outputs": [],
     "prompt_number": 156
>>>>>>> bef7db894e4a9b4101a69e5fdb0e4bea628703ce:alumnos/RobertoGalanC/1-python_tour.ipynb
    },
    {
     "cell_type": "code",
     "collapsed": false,
     "input": [
      "a_list = [1,2,3,4,5]\n",
      "a_list"
     ],
     "language": "python",
     "metadata": {},
     "outputs": [
      {
       "metadata": {},
       "output_type": "pyout",
<<<<<<< HEAD:lecture_2/.ipynb_checkpoints/1-python_tour-Copy0-checkpoint.ipynb
       "prompt_number": 1,
=======
       "prompt_number": 161,
>>>>>>> bef7db894e4a9b4101a69e5fdb0e4bea628703ce:alumnos/RobertoGalanC/1-python_tour.ipynb
       "text": [
        "[1, 2, 3, 4, 5]"
       ]
      }
     ],
<<<<<<< HEAD:lecture_2/.ipynb_checkpoints/1-python_tour-Copy0-checkpoint.ipynb
     "prompt_number": 1
=======
     "prompt_number": 161
>>>>>>> bef7db894e4a9b4101a69e5fdb0e4bea628703ce:alumnos/RobertoGalanC/1-python_tour.ipynb
    },
    {
     "cell_type": "code",
     "collapsed": false,
     "input": [
      "for i in a_list:\n",
      "    print i"
     ],
     "language": "python",
     "metadata": {},
     "outputs": [
      {
       "output_type": "stream",
       "stream": "stdout",
       "text": [
        "1\n",
        "3\n",
        "3\n",
        "4\n",
        "5\n",
        "3\n",
        "5\n"
       ]
      }
     ],
<<<<<<< HEAD:lecture_2/.ipynb_checkpoints/1-python_tour-Copy0-checkpoint.ipynb
     "prompt_number": 22
=======
     "prompt_number": 162
>>>>>>> bef7db894e4a9b4101a69e5fdb0e4bea628703ce:alumnos/RobertoGalanC/1-python_tour.ipynb
    },
    {
     "cell_type": "code",
     "collapsed": false,
     "input": [
      "another_list=[1,1.3,4.5,2+1j,[1,2]]\n",
      "another_list"
     ],
     "language": "python",
     "metadata": {},
     "outputs": [
      {
       "metadata": {},
       "output_type": "pyout",
<<<<<<< HEAD:lecture_2/.ipynb_checkpoints/1-python_tour-Copy0-checkpoint.ipynb
       "prompt_number": 23,
=======
       "prompt_number": 164,
>>>>>>> bef7db894e4a9b4101a69e5fdb0e4bea628703ce:alumnos/RobertoGalanC/1-python_tour.ipynb
       "text": [
        "[1, 1.3, 4.5, (2+1j), [1, 2]]"
       ]
      }
     ],
<<<<<<< HEAD:lecture_2/.ipynb_checkpoints/1-python_tour-Copy0-checkpoint.ipynb
     "prompt_number": 23
=======
     "prompt_number": 164
>>>>>>> bef7db894e4a9b4101a69e5fdb0e4bea628703ce:alumnos/RobertoGalanC/1-python_tour.ipynb
    },
    {
     "cell_type": "code",
     "collapsed": false,
     "input": [
      "for i in another_list:\n",
      "    print i"
     ],
     "language": "python",
     "metadata": {},
     "outputs": [
      {
       "output_type": "stream",
       "stream": "stdout",
       "text": [
        "1\n",
        "1.3\n",
        "4.5\n",
        "(2+1j)\n",
        "[1, 2]\n"
       ]
      }
     ],
<<<<<<< HEAD:lecture_2/.ipynb_checkpoints/1-python_tour-Copy0-checkpoint.ipynb
     "prompt_number": 24
=======
     "prompt_number": 165
>>>>>>> bef7db894e4a9b4101a69e5fdb0e4bea628703ce:alumnos/RobertoGalanC/1-python_tour.ipynb
    },
    {
     "cell_type": "code",
     "collapsed": false,
     "input": [
      "a_list[3] #0,1,2,3,..."
     ],
     "language": "python",
     "metadata": {},
     "outputs": [
      {
       "metadata": {},
       "output_type": "pyout",
<<<<<<< HEAD:lecture_2/.ipynb_checkpoints/1-python_tour-Copy0-checkpoint.ipynb
       "prompt_number": 5,
=======
       "prompt_number": 166,
>>>>>>> bef7db894e4a9b4101a69e5fdb0e4bea628703ce:alumnos/RobertoGalanC/1-python_tour.ipynb
       "text": [
        "4"
       ]
      }
     ],
<<<<<<< HEAD:lecture_2/.ipynb_checkpoints/1-python_tour-Copy0-checkpoint.ipynb
     "prompt_number": 5
=======
     "prompt_number": 166
>>>>>>> bef7db894e4a9b4101a69e5fdb0e4bea628703ce:alumnos/RobertoGalanC/1-python_tour.ipynb
    },
    {
     "cell_type": "code",
     "collapsed": false,
     "input": [
      "another_list[3]"
     ],
     "language": "python",
     "metadata": {},
     "outputs": [
      {
       "metadata": {},
       "output_type": "pyout",
<<<<<<< HEAD:lecture_2/.ipynb_checkpoints/1-python_tour-Copy0-checkpoint.ipynb
       "prompt_number": 6,
=======
       "prompt_number": 167,
>>>>>>> bef7db894e4a9b4101a69e5fdb0e4bea628703ce:alumnos/RobertoGalanC/1-python_tour.ipynb
       "text": [
        "(2+1j)"
       ]
      }
     ],
<<<<<<< HEAD:lecture_2/.ipynb_checkpoints/1-python_tour-Copy0-checkpoint.ipynb
     "prompt_number": 6
=======
     "prompt_number": 167
>>>>>>> bef7db894e4a9b4101a69e5fdb0e4bea628703ce:alumnos/RobertoGalanC/1-python_tour.ipynb
    },
    {
     "cell_type": "code",
     "collapsed": false,
     "input": [
      "another_list[4]"
     ],
     "language": "python",
     "metadata": {},
     "outputs": [
      {
       "metadata": {},
       "output_type": "pyout",
<<<<<<< HEAD:lecture_2/.ipynb_checkpoints/1-python_tour-Copy0-checkpoint.ipynb
       "prompt_number": 7,
=======
       "prompt_number": 168,
>>>>>>> bef7db894e4a9b4101a69e5fdb0e4bea628703ce:alumnos/RobertoGalanC/1-python_tour.ipynb
       "text": [
        "[1, 2]"
       ]
      }
     ],
<<<<<<< HEAD:lecture_2/.ipynb_checkpoints/1-python_tour-Copy0-checkpoint.ipynb
     "prompt_number": 7
=======
     "prompt_number": 168
>>>>>>> bef7db894e4a9b4101a69e5fdb0e4bea628703ce:alumnos/RobertoGalanC/1-python_tour.ipynb
    },
    {
     "cell_type": "code",
     "collapsed": false,
     "input": [
      "a_list[-1]"
     ],
     "language": "python",
     "metadata": {},
     "outputs": [
      {
       "metadata": {},
       "output_type": "pyout",
<<<<<<< HEAD:lecture_2/.ipynb_checkpoints/1-python_tour-Copy0-checkpoint.ipynb
       "prompt_number": 8,
=======
       "prompt_number": 169,
>>>>>>> bef7db894e4a9b4101a69e5fdb0e4bea628703ce:alumnos/RobertoGalanC/1-python_tour.ipynb
       "text": [
        "5"
       ]
      }
     ],
<<<<<<< HEAD:lecture_2/.ipynb_checkpoints/1-python_tour-Copy0-checkpoint.ipynb
     "prompt_number": 8
=======
     "prompt_number": 169
>>>>>>> bef7db894e4a9b4101a69e5fdb0e4bea628703ce:alumnos/RobertoGalanC/1-python_tour.ipynb
    },
    {
     "cell_type": "code",
     "collapsed": false,
     "input": [],
     "language": "python",
     "metadata": {},
<<<<<<< HEAD:lecture_2/.ipynb_checkpoints/1-python_tour-Copy0-checkpoint.ipynb
     "outputs": [
      {
       "metadata": {},
       "output_type": "pyout",
       "prompt_number": 9,
       "text": [
        "[2, 3, 4, 5]"
       ]
      }
     ],
     "prompt_number": 9
=======
     "outputs": []
>>>>>>> bef7db894e4a9b4101a69e5fdb0e4bea628703ce:alumnos/RobertoGalanC/1-python_tour.ipynb
    },
    {
     "cell_type": "code",
     "collapsed": false,
     "input": [
      "a_list[-2]"
     ],
     "language": "python",
     "metadata": {},
     "outputs": [
      {
       "metadata": {},
       "output_type": "pyout",
<<<<<<< HEAD:lecture_2/.ipynb_checkpoints/1-python_tour-Copy0-checkpoint.ipynb
       "prompt_number": 10,
=======
       "prompt_number": 170,
>>>>>>> bef7db894e4a9b4101a69e5fdb0e4bea628703ce:alumnos/RobertoGalanC/1-python_tour.ipynb
       "text": [
        "4"
       ]
      }
     ],
<<<<<<< HEAD:lecture_2/.ipynb_checkpoints/1-python_tour-Copy0-checkpoint.ipynb
     "prompt_number": 10
=======
     "prompt_number": 170
>>>>>>> bef7db894e4a9b4101a69e5fdb0e4bea628703ce:alumnos/RobertoGalanC/1-python_tour.ipynb
    },
    {
     "cell_type": "code",
     "collapsed": false,
     "input": [
      "a_list[1:] #a partir del 1 (segundo) elemento"
     ],
     "language": "python",
     "metadata": {},
     "outputs": [
      {
       "metadata": {},
       "output_type": "pyout",
<<<<<<< HEAD:lecture_2/.ipynb_checkpoints/1-python_tour-Copy0-checkpoint.ipynb
       "prompt_number": 11,
=======
       "prompt_number": 171,
>>>>>>> bef7db894e4a9b4101a69e5fdb0e4bea628703ce:alumnos/RobertoGalanC/1-python_tour.ipynb
       "text": [
        "[2, 3, 4, 5]"
       ]
      }
     ],
<<<<<<< HEAD:lecture_2/.ipynb_checkpoints/1-python_tour-Copy0-checkpoint.ipynb
     "prompt_number": 11
    },
    {
     "cell_type": "code",
     "collapsed": false,
     "input": [
      "n=5"
     ],
     "language": "python",
     "metadata": {},
     "outputs": [],
     "prompt_number": 12
    },
    {
     "cell_type": "code",
     "collapsed": false,
     "input": [
      "a_list.append(n)\n"
     ],
     "language": "python",
     "metadata": {},
     "outputs": [],
     "prompt_number": 13
=======
     "prompt_number": 171
>>>>>>> bef7db894e4a9b4101a69e5fdb0e4bea628703ce:alumnos/RobertoGalanC/1-python_tour.ipynb
    },
    {
     "cell_type": "code",
     "collapsed": false,
     "input": [
      "a_list[2:4] #trae  los elementos entre el tercer y quinto elemntos"
     ],
     "language": "python",
     "metadata": {},
     "outputs": [
      {
       "metadata": {},
       "output_type": "pyout",
       "prompt_number": 172,
       "text": [
        "[3, 4]"
       ]
      }
     ],
     "prompt_number": 172
    },
    {
     "cell_type": "code",
     "collapsed": false,
     "input": [
      "a_list[:4] #trae elementos antes del quinto elemento"
     ],
     "language": "python",
     "metadata": {},
     "outputs": [
      {
       "metadata": {},
       "output_type": "pyout",
<<<<<<< HEAD:lecture_2/.ipynb_checkpoints/1-python_tour-Copy0-checkpoint.ipynb
       "prompt_number": 14,
=======
       "prompt_number": 178,
>>>>>>> bef7db894e4a9b4101a69e5fdb0e4bea628703ce:alumnos/RobertoGalanC/1-python_tour.ipynb
       "text": [
        "[1, 2, 3, 4]"
       ]
      }
     ],
<<<<<<< HEAD:lecture_2/.ipynb_checkpoints/1-python_tour-Copy0-checkpoint.ipynb
     "prompt_number": 14
=======
     "prompt_number": 178
>>>>>>> bef7db894e4a9b4101a69e5fdb0e4bea628703ce:alumnos/RobertoGalanC/1-python_tour.ipynb
    },
    {
     "cell_type": "code",
     "collapsed": false,
     "input": [
      "n = 5"
     ],
     "language": "python",
     "metadata": {},
     "outputs": [],
<<<<<<< HEAD:lecture_2/.ipynb_checkpoints/1-python_tour-Copy0-checkpoint.ipynb
     "prompt_number": 15
=======
     "prompt_number": 179
>>>>>>> bef7db894e4a9b4101a69e5fdb0e4bea628703ce:alumnos/RobertoGalanC/1-python_tour.ipynb
    },
    {
     "cell_type": "code",
     "collapsed": false,
     "input": [
      "a_list.append(n) #agrera al final"
     ],
     "language": "python",
     "metadata": {},
     "outputs": [],
<<<<<<< HEAD:lecture_2/.ipynb_checkpoints/1-python_tour-Copy0-checkpoint.ipynb
     "prompt_number": 16
=======
     "prompt_number": 180
>>>>>>> bef7db894e4a9b4101a69e5fdb0e4bea628703ce:alumnos/RobertoGalanC/1-python_tour.ipynb
    },
    {
     "cell_type": "code",
     "collapsed": false,
     "input": [
      "a_list"
     ],
     "language": "python",
     "metadata": {},
     "outputs": [
      {
       "metadata": {},
       "output_type": "pyout",
<<<<<<< HEAD:lecture_2/.ipynb_checkpoints/1-python_tour-Copy0-checkpoint.ipynb
       "prompt_number": 17,
=======
       "prompt_number": 181,
>>>>>>> bef7db894e4a9b4101a69e5fdb0e4bea628703ce:alumnos/RobertoGalanC/1-python_tour.ipynb
       "text": [
        "[1, 2, 3, 4, 5, 5]"
       ]
      }
     ],
<<<<<<< HEAD:lecture_2/.ipynb_checkpoints/1-python_tour-Copy0-checkpoint.ipynb
     "prompt_number": 17
=======
     "prompt_number": 181
>>>>>>> bef7db894e4a9b4101a69e5fdb0e4bea628703ce:alumnos/RobertoGalanC/1-python_tour.ipynb
    },
    {
     "cell_type": "code",
     "collapsed": false,
     "input": [
      "a_list.pop() #quita el ultimo"
     ],
     "language": "python",
     "metadata": {},
<<<<<<< HEAD:lecture_2/.ipynb_checkpoints/1-python_tour-Copy0-checkpoint.ipynb
     "outputs": [],
     "prompt_number": 18
=======
     "outputs": [
      {
       "metadata": {},
       "output_type": "pyout",
       "prompt_number": 182,
       "text": [
        "5"
       ]
      }
     ],
     "prompt_number": 182
>>>>>>> bef7db894e4a9b4101a69e5fdb0e4bea628703ce:alumnos/RobertoGalanC/1-python_tour.ipynb
    },
    {
     "cell_type": "code",
     "collapsed": false,
     "input": [
      "a_list = range (1,6)"
     ],
     "language": "python",
     "metadata": {},
     "outputs": [],
     "prompt_number": 183
    },
    {
     "cell_type": "code",
     "collapsed": false,
     "input": [
      "a_list"
     ],
     "language": "python",
     "metadata": {},
     "outputs": [
      {
       "metadata": {},
       "output_type": "pyout",
<<<<<<< HEAD:lecture_2/.ipynb_checkpoints/1-python_tour-Copy0-checkpoint.ipynb
       "prompt_number": 8,
=======
       "prompt_number": 184,
>>>>>>> bef7db894e4a9b4101a69e5fdb0e4bea628703ce:alumnos/RobertoGalanC/1-python_tour.ipynb
       "text": [
        "[1, 2, 3, 4, 5]"
       ]
      }
     ],
<<<<<<< HEAD:lecture_2/.ipynb_checkpoints/1-python_tour-Copy0-checkpoint.ipynb
     "prompt_number": 8
=======
     "prompt_number": 184
>>>>>>> bef7db894e4a9b4101a69e5fdb0e4bea628703ce:alumnos/RobertoGalanC/1-python_tour.ipynb
    },
    {
     "cell_type": "code",
     "collapsed": false,
     "input": [
      "a_list.append(3)\n",
      "a_list[1] = 3\n",
      "a_list"
     ],
     "language": "python",
     "metadata": {},
     "outputs": [
      {
       "metadata": {},
       "output_type": "pyout",
<<<<<<< HEAD:lecture_2/.ipynb_checkpoints/1-python_tour-Copy0-checkpoint.ipynb
       "prompt_number": 19,
       "text": [
        "[]"
       ]
      }
     ],
     "prompt_number": 19
    },
    {
     "cell_type": "code",
     "collapsed": false,
     "input": [
      "for element in a_list:\n",
      "    print element"
     ],
     "language": "python",
     "metadata": {},
     "outputs": [
      {
       "output_type": "stream",
       "stream": "stdout",
       "text": [
        "1\n",
        "3\n",
        "3\n",
        "4\n",
        "5\n",
        "3\n",
        "5\n"
       ]
      }
     ],
     "prompt_number": 20
=======
       "prompt_number": 189,
       "text": [
        "[1, 3, 4, 5, 3, 3, 3]"
       ]
      }
     ],
     "prompt_number": 189
>>>>>>> bef7db894e4a9b4101a69e5fdb0e4bea628703ce:alumnos/RobertoGalanC/1-python_tour.ipynb
    },
    {
     "cell_type": "code",
     "collapsed": false,
     "input": [
      "a_list.remove(3)\n",
      "a_list"
     ],
     "language": "python",
     "metadata": {},
     "outputs": [
      {
       "metadata": {},
       "output_type": "pyout",
       "prompt_number": 190,
       "text": [
        "[1, 4, 5, 3, 3, 3]"
       ]
      }
     ],
<<<<<<< HEAD:lecture_2/.ipynb_checkpoints/1-python_tour-Copy0-checkpoint.ipynb
     "prompt_number": 1
    },
    {
     "cell_type": "code",
     "collapsed": false,
     "input": [
      "for r in range (2,2):\n",
      "    print r\n"
     ],
     "language": "python",
     "metadata": {},
     "outputs": [],
     "prompt_number": 4
    },
    {
     "cell_type": "heading",
     "level": 4,
     "metadata": {},
     "source": [
      "*List comprehensions*"
     ]
    },
    {
     "cell_type": "markdown",
     "metadata": {},
     "source": [
      "En matem\u00e1ticas, es normal describir las listas (siendo estrictos conjuntos) de la siguente  manera:\n",
      "\n",
      "- $S = \\{x^\u00b2\\ |\\  x\\  en\\  \\{0 \\ldots 9\\}\\}$\n",
      "- $V = (1, 2, 4, 8, \\ldots, 2^{12})$\n",
      "- $M = \\{x\\  |\\ x\\  en\\  S\\  y\\  x\\  es\\  impar\\}$\n",
      "    "
     ]
    },
    {
     "cell_type": "markdown",
     "metadata": {},
     "source": [
      "En python existe una t\u00e9cnica muy poderosa de creaci\u00f3n/manipulaci\u00f3n de listas que permite escribirlas casi igual:"
     ]
    },
    {
     "cell_type": "code",
     "collapsed": false,
     "input": [
      "S=[x**2 for x in range (10)]\n",
      "V=[2**x for x in range (13)]\n",
      "M=[x for x in S if x%2 ==0]\n",
      "print S\n",
      "print V\n",
      "print M"
     ],
     "language": "python",
     "metadata": {},
     "outputs": [
      {
       "output_type": "stream",
       "stream": "stdout",
       "text": [
        "[0, 1, 4, 9, 16, 25, 36, 49, 64, 81]\n",
        "[1, 2, 4, 8, 16, 32, 64, 128, 256, 512, 1024, 2048, 4096]\n",
        "[0, 4, 16, 36, 64]\n"
       ]
      }
     ],
     "prompt_number": 1
    },
    {
     "cell_type": "markdown",
     "metadata": {},
     "source": [
      "Las *list comprehensions* pueden ser utilizadas tambi\u00e9n con cadenas:"
     ]
    },
    {
     "cell_type": "code",
     "collapsed": false,
     "input": [
      "palabras = 'Anita lava la tina'.split()\n",
      "print palabras\n",
      "transformacion = [[w.upper(), w.lower(), len(w)]for w in palabras]\n",
      "for t in transformacion:\n",
      "    print t"
     ],
     "language": "python",
     "metadata": {},
     "outputs": [
      {
       "output_type": "stream",
       "stream": "stdout",
       "text": [
        "['Anita', 'lava', 'la', 'tina']\n",
        "['ANITA', 'anita', 5]\n",
        "['LAVA', 'lava', 4]\n",
        "['LA', 'la', 2]\n",
        "['TINA', 'tina', 4]\n"
       ]
      }
     ],
     "prompt_number": 10
    },
    {
     "cell_type": "code",
     "collapsed": false,
     "input": [
      "transformacion"
     ],
     "language": "python",
     "metadata": {},
     "outputs": [
      {
       "metadata": {},
       "output_type": "pyout",
       "prompt_number": 5,
       "text": [
        "[['ANITA', 'anita', 5],\n",
        " ['LAVA', 'lava', 4],\n",
        " ['LA', 'la', 2],\n",
        " ['TINA', 'tina', 4]]"
       ]
      }
     ],
     "prompt_number": 5
    },
    {
     "cell_type": "heading",
     "level": 1,
     "metadata": {},
     "source": [
      "Es posible usar varios `for` en una expresi\u00f3n, el siguiente bloque muestra los tripletes *pitag\u00f3ricos* (aquellos $a,b$ y $c$ que cumplen con $a^2 + b^2 = c^2$)"
     ]
    },
    {
     "cell_type": "code",
     "collapsed": false,
     "input": [
      "n=25 \n",
      "[(x,y,z) for x in range (1,n) for y in range (x,n) for z in range (y,n) if x*x + y*y == z*z]"
     ],
     "language": "python",
     "metadata": {},
     "outputs": [
      {
       "metadata": {},
       "output_type": "pyout",
       "prompt_number": 7,
       "text": [
        "[(3, 4, 5), (5, 12, 13), (6, 8, 10), (8, 15, 17), (9, 12, 15), (12, 16, 20)]"
       ]
      }
     ],
     "prompt_number": 7
    },
    {
     "cell_type": "heading",
     "level": 3,
     "metadata": {},
     "source": [
      "Diccionarios"
     ]
    },
    {
     "cell_type": "markdown",
     "metadata": {},
     "source": [
      "Los diccionarios o *mapas* son otra estructura de datos importante en python"
     ]
    },
    {
     "cell_type": "code",
     "collapsed": false,
     "input": [
      "diccionario = {'a':1, 'b':2, 'coral': 'amarillo'}\n",
      "diccionario"
     ],
     "language": "python",
     "metadata": {},
     "outputs": [
      {
       "metadata": {},
       "output_type": "pyout",
       "prompt_number": 11,
       "text": [
        "{'a': 1, 'b': 2, 'coral': 'amarillo'}"
       ]
      }
     ],
     "prompt_number": 11
    },
    {
     "cell_type": "code",
     "collapsed": false,
     "input": [
      "diccionario['a']"
     ],
     "language": "python",
     "metadata": {},
     "outputs": [
      {
       "metadata": {},
       "output_type": "pyout",
       "prompt_number": 12,
       "text": [
        "1"
       ]
      }
     ],
     "prompt_number": 12
    },
    {
     "cell_type": "code",
     "collapsed": false,
     "input": [
      "diccionario['coral']"
     ],
     "language": "python",
     "metadata": {},
     "outputs": [
      {
       "metadata": {},
       "output_type": "pyout",
       "prompt_number": 14,
       "text": [
        "'amarillo'"
       ]
      }
     ],
     "prompt_number": 14
    },
    {
     "cell_type": "code",
     "collapsed": false,
     "input": [
      "diccionario ['c']=3 #agregar un elemento a la lista"
     ],
     "language": "python",
     "metadata": {},
     "outputs": [],
     "prompt_number": 34
    },
    {
     "cell_type": "code",
     "collapsed": false,
     "input": [
      "diccionario"
     ],
     "language": "python",
     "metadata": {},
     "outputs": [
      {
       "metadata": {},
       "output_type": "pyout",
       "prompt_number": 35,
       "text": [
        "{'a': 4, 'b': 2, 'c': 3, 'coral': 'amarillo'}"
       ]
      }
     ],
     "prompt_number": 35
    },
    {
     "cell_type": "code",
     "collapsed": false,
     "input": [
      "diccionario ['a']=4 # camiar el valor de un elemento"
     ],
     "language": "python",
     "metadata": {},
     "outputs": [],
     "prompt_number": 36
    },
    {
     "cell_type": "code",
     "collapsed": false,
     "input": [
      "diccionario"
     ],
     "language": "python",
     "metadata": {},
     "outputs": [
      {
       "metadata": {},
       "output_type": "pyout",
       "prompt_number": 37,
       "text": [
        "{'a': 4, 'b': 2, 'c': 3, 'coral': 'amarillo'}"
       ]
      }
     ],
     "prompt_number": 37
    },
    {
     "cell_type": "code",
     "collapsed": false,
     "input": [
      "diccionario.pop('c') #para borrar un elemento\n"
     ],
     "language": "python",
     "metadata": {},
     "outputs": [
      {
       "metadata": {},
       "output_type": "pyout",
       "prompt_number": 41,
       "text": [
        "3"
       ]
      }
     ],
     "prompt_number": 41
    },
    {
     "cell_type": "code",
     "collapsed": false,
     "input": [
      "diccionario?"
     ],
     "language": "python",
     "metadata": {},
     "outputs": [],
     "prompt_number": 33
    },
    {
     "cell_type": "code",
     "collapsed": false,
     "input": [
      "for x in diccionario.keys(): \n",
      "    print diccionario [x]"
     ],
     "language": "python",
     "metadata": {},
     "outputs": [
      {
       "output_type": "stream",
       "stream": "stdout",
       "text": [
        "4\n",
        "amarillo\n",
        "2\n"
       ]
      }
     ],
     "prompt_number": 42
    },
    {
     "cell_type": "code",
     "collapsed": false,
     "input": [
      "for key in diccionario.keys(): #las cosas son mas entendibles\n",
      "    print diccionario[key]"
     ],
     "language": "python",
     "metadata": {},
     "outputs": [
      {
       "output_type": "stream",
       "stream": "stdout",
       "text": [
        "4\n",
        "amarillo\n",
        "2\n"
       ]
      }
     ],
     "prompt_number": 43
    },
    {
     "cell_type": "code",
     "collapsed": false,
     "input": [],
     "language": "python",
     "metadata": {},
     "outputs": []
    },
    {
     "cell_type": "markdown",
     "metadata": {},
     "source": [
      "<div class=\"alert alert-info\">\n",
      "\n",
      "**Ejercicio**\n",
      "\n",
      "Usando la ayuda de ipython responde:\n",
      "\n",
      "<ul>\n",
      "<li> \u00bfC\u00f3mo puedo agregar elementos a un diccionario? </li>\n",
      "<li> \u00bfC\u00f3mo puedo eliminar elementos a un diccionario? </li>\n",
      "<li> \u00bfC\u00f3mo cambia el m\u00e9todo `pop` respecto a la listas? </li>\n",
      "<li> \u00bfC\u00f3mo puedo iterar en un diccionario? </li>\n",
      "</ul>\n",
      "\n",
      "</div>"
     ]
    },
    {
     "cell_type": "markdown",
     "metadata": {},
     "source": [
      "cuando iteren no modifiquen la longitud del diccionario, si quieres hacer eso saca una copia"
     ]
    },
    {
     "cell_type": "heading",
     "level": 2,
     "metadata": {},
     "source": [
      "Funciones"
     ]
    },
    {
     "cell_type": "markdown",
     "metadata": {},
     "source": [
      "**Principio DRY**: * Don't repeat yourself*"
     ]
    },
    {
     "cell_type": "code",
     "collapsed": false,
     "input": [
      "\"\"\"\n",
      "from math import sqrt, atan\n",
      "def polar(x,y): # DRY mejor definir una funcion y reutilizala\n",
      "    \n",
      "    x, y son un par ordenado \n",
      "    \n",
      "    r = sqrt(x**2 + y**2) #tres comillas para ponerle documentacion a la funcion\n",
      "    theta = atan(y/x)*180#atan es el arcotangente, atan y atan2 se definen en distinto dominio\n",
      "    return r, theta\n",
      "\"\"\""
     ],
     "language": "python",
     "metadata": {},
     "outputs": [],
     "prompt_number": 60
    },
    {
     "cell_type": "code",
     "collapsed": false,
     "input": [
      "from math import sqrt, atan, pi\n",
      "def polar(x,y): # DRY mejor definir una funcion y reutilizala\n",
      "    \"\"\"\n",
      "    x, y son un par ordenado \n",
      "    \"\"\"\n",
      "    r = sqrt(x**2 + y**2) #tres comillas para ponerle documentacion a la funcion\n",
      "    theta = (atan(y/x)*180)/pi#atan es el arcotangente, atan y atan2 se definen en distinto dominio\n",
      "    return r, theta"
     ],
     "language": "python",
     "metadata": {},
     "outputs": []
    },
    {
     "cell_type": "markdown",
     "metadata": {},
     "source": [
      "KISS: manten las cosas simples, funci\u00f3n peque\u00f1a"
     ]
    },
    {
     "cell_type": "markdown",
     "metadata": {},
     "source": [
      "RTFM: lee el codigo manual"
     ]
    },
    {
     "cell_type": "code",
     "collapsed": false,
     "input": [
      "polar?"
     ],
     "language": "python",
     "metadata": {},
     "outputs": [],
     "prompt_number": 55
=======
     "prompt_number": 190
>>>>>>> bef7db894e4a9b4101a69e5fdb0e4bea628703ce:alumnos/RobertoGalanC/1-python_tour.ipynb
    },
    {
     "cell_type": "code",
     "collapsed": false,
     "input": [
      "emptylist = []"
     ],
     "language": "python",
     "metadata": {},
     "outputs": [],
<<<<<<< HEAD:lecture_2/.ipynb_checkpoints/1-python_tour-Copy0-checkpoint.ipynb
     "prompt_number": 57
    },
    {
     "cell_type": "code",
     "collapsed": false,
     "input": [
      "#ves el codio interno(fuente) con doble signo de interrogaci\u00f3n"
     ],
     "language": "python",
     "metadata": {},
     "outputs": []
=======
     "prompt_number": 191
>>>>>>> bef7db894e4a9b4101a69e5fdb0e4bea628703ce:alumnos/RobertoGalanC/1-python_tour.ipynb
    },
    {
     "cell_type": "code",
     "collapsed": false,
     "input": [],
     "language": "python",
     "metadata": {},
<<<<<<< HEAD:lecture_2/.ipynb_checkpoints/1-python_tour-Copy0-checkpoint.ipynb
     "outputs": [
      {
       "output_type": "stream",
       "stream": "stdout",
       "text": [
        "La coordenada r es:  5.0\n",
        "El \u00e1ngulo theta es:  45.0\n"
       ]
      }
     ],
     "prompt_number": 59
    },
    {
     "cell_type": "markdown",
     "metadata": {},
     "source": [
      "<div class=\"alert alert-info\">\n",
      "\n",
      "**Ejercicio**\n",
      "\n",
      "Crea una funci\u00f3n que devuelva las coordenadas $(x,y,z)$ a partir de las [coordenadas esf\u00e9ricas](http://en.wikipedia.org/wiki/Spherical_coordinate_system) $(r, \\theta, \\phi)$. Gu\u00e1rdala a disco, en el archivo `transformaciones.py`\n",
      "\n",
      "</div>"
     ]
    },
    {
     "cell_type": "code",
     "collapsed": false,
     "input": [],
     "language": "python",
     "metadata": {},
     "outputs": [
      {
       "ename": "ImportError",
       "evalue": "cannot import name sen",
       "output_type": "pyerr",
       "traceback": [
        "\u001b[1;31m---------------------------------------------------------------------------\u001b[0m\n\u001b[1;31mImportError\u001b[0m                               Traceback (most recent call last)",
        "\u001b[1;32m<ipython-input-61-ee4f38457941>\u001b[0m in \u001b[0;36m<module>\u001b[1;34m()\u001b[0m\n\u001b[1;32m----> 1\u001b[1;33m \u001b[1;32mfrom\u001b[0m \u001b[0mmath\u001b[0m \u001b[1;32mimport\u001b[0m \u001b[0msqrt\u001b[0m\u001b[1;33m,\u001b[0m \u001b[0msen\u001b[0m\u001b[1;33m,\u001b[0m \u001b[0mcos\u001b[0m\u001b[1;33m\u001b[0m\u001b[0m\n\u001b[0m\u001b[0;32m      2\u001b[0m \u001b[1;32mdef\u001b[0m \u001b[0mcoord\u001b[0m\u001b[1;33m(\u001b[0m\u001b[1;33m)\u001b[0m\u001b[1;33m:\u001b[0m\u001b[1;33m\u001b[0m\u001b[0m\n\u001b[0;32m      3\u001b[0m     \u001b[0mx\u001b[0m\u001b[1;33m=\u001b[0m\u001b[0mr\u001b[0m\u001b[1;33m*\u001b[0m\u001b[0msen\u001b[0m\u001b[1;33m(\u001b[0m\u001b[0mphi\u001b[0m\u001b[1;33m)\u001b[0m\u001b[1;33m*\u001b[0m\u001b[0mcos\u001b[0m\u001b[1;33m(\u001b[0m\u001b[0mtheta\u001b[0m\u001b[1;33m)\u001b[0m\u001b[1;33m\u001b[0m\u001b[0m\n\u001b[0;32m      4\u001b[0m     \u001b[0my\u001b[0m \u001b[1;33m=\u001b[0m\u001b[0mr\u001b[0m\u001b[1;33m*\u001b[0m \u001b[0msen\u001b[0m\u001b[1;33m(\u001b[0m\u001b[0mphi\u001b[0m\u001b[1;33m)\u001b[0m\u001b[1;33m*\u001b[0m\u001b[0msen\u001b[0m\u001b[1;33m(\u001b[0m\u001b[0mtheta\u001b[0m\u001b[1;33m)\u001b[0m\u001b[1;33m\u001b[0m\u001b[0m\n\u001b[0;32m      5\u001b[0m     \u001b[0mz\u001b[0m\u001b[1;33m=\u001b[0m\u001b[0mr\u001b[0m\u001b[1;33m*\u001b[0m\u001b[0mcos\u001b[0m\u001b[1;33m(\u001b[0m\u001b[0mphi\u001b[0m\u001b[1;33m)\u001b[0m\u001b[1;33m\u001b[0m\u001b[0m\n",
        "\u001b[1;31mImportError\u001b[0m: cannot import name sen"
       ]
      }
     ],
     "prompt_number": 61
    },
    {
     "cell_type": "code",
     "collapsed": false,
     "input": [
      "%magic"
     ],
     "language": "python",
     "metadata": {},
     "outputs": [],
     "prompt_number": 79
    },
    {
     "cell_type": "code",
     "collapsed": false,
     "input": [],
     "language": "python",
     "metadata": {},
     "outputs": []
    },
    {
     "cell_type": "code",
     "collapsed": false,
     "input": [
      "%%file transformaciones.py\n",
      "\n",
      "from math import sqrt, sin, cos\n",
      "def coord(r,phi, theta):\n",
      "    x=r*sin(phi)*cos(theta) \n",
      "    y =r* sin(phi)*sin(theta)\n",
      "    z=r*cos(phi)\n",
      "    print x,y,z"
     ],
     "language": "python",
     "metadata": {},
     "outputs": [
      {
       "output_type": "stream",
       "stream": "stdout",
       "text": [
        "Overwriting transformaciones.py\n"
       ]
      }
     ],
     "prompt_number": 1
    },
    {
     "cell_type": "code",
     "collapsed": false,
     "input": [
      "!cat transformaciones.py"
     ],
     "language": "python",
     "metadata": {},
     "outputs": [
      {
       "output_type": "stream",
       "stream": "stdout",
       "text": [
        "\n",
        "from math import sqrt, sin, cos\n",
        "def coord(r,phi, theta):\n",
        "    x=r*sin(phi)*cos(theta) \n",
        "    y =r* sin(phi)*sin(theta)\n",
        "    z=r*cos(phi)\n",
        "    print x,y,z\n"
       ]
      }
     ],
     "prompt_number": 78
    },
    {
     "cell_type": "code",
     "collapsed": false,
     "input": [
      "from IPython.html.widgets import interact, fixed\n",
      "from IPython.html import widgets"
     ],
     "language": "python",
     "metadata": {},
     "outputs": [],
     "prompt_number": 66
    },
    {
     "cell_type": "code",
     "collapsed": false,
     "input": [
      "interact (coord, r=5,phi=45,theta=35)"
     ],
     "language": "python",
     "metadata": {},
     "outputs": [
      {
       "output_type": "stream",
       "stream": "stdout",
       "text": [
        "-3.84477441203 -1.82171071309 2.62660994409\n"
       ]
      },
      {
       "metadata": {},
       "output_type": "pyout",
       "prompt_number": 76,
       "text": [
        "<function __main__.coord>"
       ]
      }
     ],
     "prompt_number": 76
    },
    {
     "cell_type": "markdown",
     "metadata": {},
     "source": [
      "<div class=\"alert alert-info\">\n",
      "\n",
      "**Ejercicio**\n",
      "\n",
      "Usando la funci\u00f3n reci\u00e9n creada, usa la librer\u00eda `interact` para pedir los valores $(r,\\theta,\\phi)$.\n",
      "\n",
      "</div>"
     ]
    },
    {
     "cell_type": "code",
     "collapsed": false,
     "input": [],
     "language": "python",
     "metadata": {},
=======
>>>>>>> bef7db894e4a9b4101a69e5fdb0e4bea628703ce:alumnos/RobertoGalanC/1-python_tour.ipynb
     "outputs": []
    }
   ],
   "metadata": {}
  }
 ]
}