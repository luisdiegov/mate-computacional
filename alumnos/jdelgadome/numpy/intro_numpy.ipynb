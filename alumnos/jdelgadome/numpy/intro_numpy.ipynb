{
 "metadata": {
  "name": "",
  "signature": "sha256:2b2e5546cdc72ae9c14a8f812f6c2b928733a2721af51499e3ed7e09c118d5b1"
 },
 "nbformat": 3,
 "nbformat_minor": 0,
 "worksheets": [
  {
   "cells": [
    {
     "cell_type": "code",
     "collapsed": false,
     "input": [
      "import numpy as np"
     ],
     "language": "python",
     "metadata": {},
     "outputs": [],
     "prompt_number": 1
    },
    {
     "cell_type": "heading",
     "level": 1,
     "metadata": {},
     "source": [
      "Arrays"
     ]
    },
    {
     "cell_type": "markdown",
     "metadata": {},
     "source": [
      "El principal componente de **NumPy** es el `array`, el cual es una versi\u00f3n m\u00e1s poderosa, pero menos flexible que las listas de python."
     ]
    },
    {
     "cell_type": "code",
     "collapsed": false,
     "input": [
      "lst =  [1,2,3,4,5]\n",
      "lst"
     ],
     "language": "python",
     "metadata": {},
     "outputs": [
      {
       "metadata": {},
       "output_type": "pyout",
       "prompt_number": 2,
       "text": [
        "[1, 2, 3, 4, 5]"
       ]
      }
     ],
     "prompt_number": 2
    },
    {
     "cell_type": "code",
     "collapsed": false,
     "input": [
      "type(lst)"
     ],
     "language": "python",
     "metadata": {},
     "outputs": [
      {
       "metadata": {},
       "output_type": "pyout",
       "prompt_number": 3,
       "text": [
        "list"
       ]
      }
     ],
     "prompt_number": 3
    },
    {
     "cell_type": "code",
     "collapsed": false,
     "input": [
      "arr = np.array([1,2,3,4,5])\n",
      "arr"
     ],
     "language": "python",
     "metadata": {},
     "outputs": [
      {
       "metadata": {},
       "output_type": "pyout",
       "prompt_number": 4,
       "text": [
        "array([1, 2, 3, 4, 5])"
       ]
      }
     ],
     "prompt_number": 4
    },
    {
     "cell_type": "code",
     "collapsed": false,
     "input": [
      "type(arr)"
     ],
     "language": "python",
     "metadata": {},
     "outputs": [
      {
       "metadata": {},
       "output_type": "pyout",
       "prompt_number": 5,
       "text": [
        "numpy.ndarray"
       ]
      }
     ],
     "prompt_number": 5
    },
    {
     "cell_type": "code",
     "collapsed": false,
     "input": [
      "lst[2:3]"
     ],
     "language": "python",
     "metadata": {},
     "outputs": [
      {
       "metadata": {},
       "output_type": "pyout",
       "prompt_number": 6,
       "text": [
        "[3]"
       ]
      }
     ],
     "prompt_number": 6
    },
    {
     "cell_type": "code",
     "collapsed": false,
     "input": [
      "arr[2:3]"
     ],
     "language": "python",
     "metadata": {},
     "outputs": [
      {
       "metadata": {},
       "output_type": "pyout",
       "prompt_number": 7,
       "text": [
        "array([3])"
       ]
      }
     ],
     "prompt_number": 7
    },
    {
     "cell_type": "markdown",
     "metadata": {},
     "source": [
      "<div class=\"alert alert-info\">\n",
      "**Ejercicio:** Repite los ejercicios de listas del *Lecture 2* con `array`.\n",
      "</div>"
     ]
    },
    {
     "cell_type": "code",
     "collapsed": false,
     "input": [
      "lst[-1] = \"Las listas pueden tener varios tipos de datos\"\n",
      "lst"
     ],
     "language": "python",
     "metadata": {},
     "outputs": [
      {
       "metadata": {},
       "output_type": "pyout",
       "prompt_number": 8,
       "text": [
        "[1, 2, 3, 4, 'Las listas pueden tener varios tipos de datos']"
       ]
      }
     ],
     "prompt_number": 8
    },
    {
     "cell_type": "code",
     "collapsed": false,
     "input": [
      "arr[-1] = \"Los arreglos no...\""
     ],
     "language": "python",
     "metadata": {},
     "outputs": [
      {
       "ename": "ValueError",
       "evalue": "invalid literal for long() with base 10: 'Los arreglos no...'",
       "output_type": "pyerr",
       "traceback": [
        "\u001b[1;31m---------------------------------------------------------------------------\u001b[0m\n\u001b[1;31mValueError\u001b[0m                                Traceback (most recent call last)",
        "\u001b[1;32m<ipython-input-9-483df61227b4>\u001b[0m in \u001b[0;36m<module>\u001b[1;34m()\u001b[0m\n\u001b[1;32m----> 1\u001b[1;33m \u001b[0marr\u001b[0m\u001b[1;33m[\u001b[0m\u001b[1;33m-\u001b[0m\u001b[1;36m1\u001b[0m\u001b[1;33m]\u001b[0m \u001b[1;33m=\u001b[0m \u001b[1;34m\"Los arreglos no...\"\u001b[0m\u001b[1;33m\u001b[0m\u001b[0m\n\u001b[0m",
        "\u001b[1;31mValueError\u001b[0m: invalid literal for long() with base 10: 'Los arreglos no...'"
       ]
      }
     ],
     "prompt_number": 9
    },
    {
     "cell_type": "markdown",
     "metadata": {},
     "source": [
      "Una vez inicializado el `array` s\u00f3lo puede contener un tipo de dato."
     ]
    },
    {
     "cell_type": "code",
     "collapsed": false,
     "input": [
      "arr.dtype"
     ],
     "language": "python",
     "metadata": {},
     "outputs": [
      {
       "metadata": {},
       "output_type": "pyout",
       "prompt_number": 10,
       "text": [
        "dtype('int64')"
       ]
      }
     ],
     "prompt_number": 10
    },
    {
     "cell_type": "code",
     "collapsed": false,
     "input": [
      "arr[-1] = 1.23456\n",
      "arr"
     ],
     "language": "python",
     "metadata": {},
     "outputs": [
      {
       "metadata": {},
       "output_type": "pyout",
       "prompt_number": 11,
       "text": [
        "array([1, 2, 3, 4, 1])"
       ]
      }
     ],
     "prompt_number": 11
    },
    {
     "cell_type": "code",
     "collapsed": false,
     "input": [
      "arr.dtype"
     ],
     "language": "python",
     "metadata": {},
     "outputs": [
      {
       "metadata": {},
       "output_type": "pyout",
       "prompt_number": 12,
       "text": [
        "dtype('int64')"
       ]
      }
     ],
     "prompt_number": 12
    },
    {
     "cell_type": "markdown",
     "metadata": {},
     "source": [
      "Sacrificamos la versatilidad de las listas por velocidad. Creeemos un `array` de 1 mill\u00f3n de elementos y multiplicaremos cada uno de ellos por una constante (*broadcasting*)."
     ]
    },
    {
     "cell_type": "code",
     "collapsed": false,
     "input": [
      "arr = np.arange(1e7)"
     ],
     "language": "python",
     "metadata": {},
     "outputs": [],
     "prompt_number": 13
    },
    {
     "cell_type": "code",
     "collapsed": false,
     "input": [
      "lst = arr.tolist()"
     ],
     "language": "python",
     "metadata": {},
     "outputs": [],
     "prompt_number": 14
    },
    {
     "cell_type": "code",
     "collapsed": false,
     "input": [
      "type(lst)\n",
      "type(arr)\n",
      "arr.dtype"
     ],
     "language": "python",
     "metadata": {},
     "outputs": [
      {
       "metadata": {},
       "output_type": "pyout",
       "prompt_number": 15,
       "text": [
        "dtype('float64')"
       ]
      }
     ],
     "prompt_number": 15
    },
    {
     "cell_type": "markdown",
     "metadata": {},
     "source": [
      "Las listas no soportan *broadcasting* por lo que crearemos una funci\u00f3n que lo simule"
     ]
    },
    {
     "cell_type": "code",
     "collapsed": false,
     "input": [
      "def lst_multiplicacion( alist , scalar ): \n",
      "    for i , val in enumerate ( alist ): \n",
      "        alist [ i ] = val*scalar\n",
      "    return alist"
     ],
     "language": "python",
     "metadata": {},
     "outputs": [],
     "prompt_number": 19
    },
    {
     "cell_type": "code",
     "collapsed": false,
     "input": [
      "%timeit arr * 1.1"
     ],
     "language": "python",
     "metadata": {},
     "outputs": [
      {
       "output_type": "stream",
       "stream": "stdout",
       "text": [
        "10 loops, best of 3: 19.4 ms per loop\n"
       ]
      }
     ],
     "prompt_number": 20
    },
    {
     "cell_type": "code",
     "collapsed": false,
     "input": [
      "%timeit lst_multiplicacion(lst, 1.1)"
     ],
     "language": "python",
     "metadata": {},
     "outputs": [
      {
       "output_type": "stream",
       "stream": "stdout",
       "text": [
        "1 loops, best of 3: 763 ms per loop\n"
       ]
      }
     ],
     "prompt_number": 21
    },
    {
     "cell_type": "heading",
     "level": 1,
     "metadata": {},
     "source": [
      "Creando Arrays"
     ]
    },
    {
     "cell_type": "code",
     "collapsed": false,
     "input": [
      "arr = np.array([1,2,3,4,5])"
     ],
     "language": "python",
     "metadata": {},
     "outputs": [],
     "prompt_number": 22
    },
    {
     "cell_type": "code",
     "collapsed": false,
     "input": [
      "arr"
     ],
     "language": "python",
     "metadata": {},
     "outputs": [
      {
       "metadata": {},
       "output_type": "pyout",
       "prompt_number": 23,
       "text": [
        "array([1, 2, 3, 4, 5])"
       ]
      }
     ],
     "prompt_number": 23
    },
    {
     "cell_type": "code",
     "collapsed": false,
     "input": [
      "arr = np.arange(10,21)"
     ],
     "language": "python",
     "metadata": {},
     "outputs": [],
     "prompt_number": 24
    },
    {
     "cell_type": "code",
     "collapsed": false,
     "input": [
      "arr"
     ],
     "language": "python",
     "metadata": {},
     "outputs": [
      {
       "metadata": {},
       "output_type": "pyout",
       "prompt_number": 25,
       "text": [
        "array([10, 11, 12, 13, 14, 15, 16, 17, 18, 19, 20])"
       ]
      }
     ],
     "prompt_number": 25
    },
    {
     "cell_type": "code",
     "collapsed": false,
     "input": [
      "arr = np.zeros(5)"
     ],
     "language": "python",
     "metadata": {},
     "outputs": [],
     "prompt_number": 26
    },
    {
     "cell_type": "code",
     "collapsed": false,
     "input": [
      "arr"
     ],
     "language": "python",
     "metadata": {},
     "outputs": [
      {
       "metadata": {},
       "output_type": "pyout",
       "prompt_number": 27,
       "text": [
        "array([ 0.,  0.,  0.,  0.,  0.])"
       ]
      }
     ],
     "prompt_number": 27
    },
    {
     "cell_type": "code",
     "collapsed": false,
     "input": [
      "arr = np.linspace(0,1,100)"
     ],
     "language": "python",
     "metadata": {},
     "outputs": [],
     "prompt_number": 28
    },
    {
     "cell_type": "code",
     "collapsed": false,
     "input": [
      "arr"
     ],
     "language": "python",
     "metadata": {},
     "outputs": [
      {
       "metadata": {},
       "output_type": "pyout",
       "prompt_number": 29,
       "text": [
        "array([ 0.        ,  0.01010101,  0.02020202,  0.03030303,  0.04040404,\n",
        "        0.05050505,  0.06060606,  0.07070707,  0.08080808,  0.09090909,\n",
        "        0.1010101 ,  0.11111111,  0.12121212,  0.13131313,  0.14141414,\n",
        "        0.15151515,  0.16161616,  0.17171717,  0.18181818,  0.19191919,\n",
        "        0.2020202 ,  0.21212121,  0.22222222,  0.23232323,  0.24242424,\n",
        "        0.25252525,  0.26262626,  0.27272727,  0.28282828,  0.29292929,\n",
        "        0.3030303 ,  0.31313131,  0.32323232,  0.33333333,  0.34343434,\n",
        "        0.35353535,  0.36363636,  0.37373737,  0.38383838,  0.39393939,\n",
        "        0.4040404 ,  0.41414141,  0.42424242,  0.43434343,  0.44444444,\n",
        "        0.45454545,  0.46464646,  0.47474747,  0.48484848,  0.49494949,\n",
        "        0.50505051,  0.51515152,  0.52525253,  0.53535354,  0.54545455,\n",
        "        0.55555556,  0.56565657,  0.57575758,  0.58585859,  0.5959596 ,\n",
        "        0.60606061,  0.61616162,  0.62626263,  0.63636364,  0.64646465,\n",
        "        0.65656566,  0.66666667,  0.67676768,  0.68686869,  0.6969697 ,\n",
        "        0.70707071,  0.71717172,  0.72727273,  0.73737374,  0.74747475,\n",
        "        0.75757576,  0.76767677,  0.77777778,  0.78787879,  0.7979798 ,\n",
        "        0.80808081,  0.81818182,  0.82828283,  0.83838384,  0.84848485,\n",
        "        0.85858586,  0.86868687,  0.87878788,  0.88888889,  0.8989899 ,\n",
        "        0.90909091,  0.91919192,  0.92929293,  0.93939394,  0.94949495,\n",
        "        0.95959596,  0.96969697,  0.97979798,  0.98989899,  1.        ])"
       ]
      }
     ],
     "prompt_number": 29
    },
    {
     "cell_type": "code",
     "collapsed": false,
     "input": [
      "arr = np.logspace(0,1,100, base=10)"
     ],
     "language": "python",
     "metadata": {},
     "outputs": [],
     "prompt_number": 30
    },
    {
     "cell_type": "code",
     "collapsed": false,
     "input": [
      "arr"
     ],
     "language": "python",
     "metadata": {},
     "outputs": [
      {
       "metadata": {},
       "output_type": "pyout",
       "prompt_number": 31,
       "text": [
        "array([  1.        ,   1.02353102,   1.04761575,   1.07226722,\n",
        "         1.09749877,   1.12332403,   1.149757  ,   1.17681195,\n",
        "         1.20450354,   1.23284674,   1.26185688,   1.29154967,\n",
        "         1.32194115,   1.35304777,   1.38488637,   1.41747416,\n",
        "         1.45082878,   1.48496826,   1.51991108,   1.55567614,\n",
        "         1.59228279,   1.62975083,   1.66810054,   1.70735265,\n",
        "         1.7475284 ,   1.78864953,   1.83073828,   1.87381742,\n",
        "         1.91791026,   1.96304065,   2.009233  ,   2.05651231,\n",
        "         2.10490414,   2.15443469,   2.20513074,   2.25701972,\n",
        "         2.3101297 ,   2.36448941,   2.42012826,   2.47707636,\n",
        "         2.53536449,   2.59502421,   2.65608778,   2.71858824,\n",
        "         2.7825594 ,   2.84803587,   2.91505306,   2.98364724,\n",
        "         3.05385551,   3.12571585,   3.19926714,   3.27454916,\n",
        "         3.35160265,   3.43046929,   3.51119173,   3.59381366,\n",
        "         3.67837977,   3.76493581,   3.85352859,   3.94420606,\n",
        "         4.03701726,   4.1320124 ,   4.22924287,   4.32876128,\n",
        "         4.43062146,   4.53487851,   4.64158883,   4.75081016,\n",
        "         4.86260158,   4.97702356,   5.09413801,   5.21400829,\n",
        "         5.33669923,   5.46227722,   5.59081018,   5.72236766,\n",
        "         5.85702082,   5.9948425 ,   6.13590727,   6.28029144,\n",
        "         6.42807312,   6.57933225,   6.73415066,   6.8926121 ,\n",
        "         7.05480231,   7.22080902,   7.39072203,   7.56463328,\n",
        "         7.74263683,   7.92482898,   8.11130831,   8.30217568,\n",
        "         8.49753436,   8.69749003,   8.90215085,   9.11162756,\n",
        "         9.32603347,   9.54548457,   9.77009957,  10.        ])"
       ]
      }
     ],
     "prompt_number": 31
    },
    {
     "cell_type": "code",
     "collapsed": false,
     "input": [
      "arr2d = np.zeros((5,5))"
     ],
     "language": "python",
     "metadata": {},
     "outputs": [],
     "prompt_number": 32
    },
    {
     "cell_type": "code",
     "collapsed": false,
     "input": [
      "arr2d"
     ],
     "language": "python",
     "metadata": {},
     "outputs": [
      {
       "metadata": {},
       "output_type": "pyout",
       "prompt_number": 34,
       "text": [
        "array([[ 0.,  0.,  0.,  0.,  0.],\n",
        "       [ 0.,  0.,  0.,  0.,  0.],\n",
        "       [ 0.,  0.,  0.,  0.,  0.],\n",
        "       [ 0.,  0.,  0.,  0.,  0.],\n",
        "       [ 0.,  0.,  0.,  0.,  0.]])"
       ]
      }
     ],
     "prompt_number": 34
    },
    {
     "cell_type": "code",
     "collapsed": false,
     "input": [
      "cubo = np.zeros((5,5,5)).astype(int)+1"
     ],
     "language": "python",
     "metadata": {},
     "outputs": [],
     "prompt_number": 35
    },
    {
     "cell_type": "code",
     "collapsed": false,
     "input": [
      "cubo"
     ],
     "language": "python",
     "metadata": {},
     "outputs": [
      {
       "metadata": {},
       "output_type": "pyout",
       "prompt_number": 36,
       "text": [
        "array([[[1, 1, 1, 1, 1],\n",
        "        [1, 1, 1, 1, 1],\n",
        "        [1, 1, 1, 1, 1],\n",
        "        [1, 1, 1, 1, 1],\n",
        "        [1, 1, 1, 1, 1]],\n",
        "\n",
        "       [[1, 1, 1, 1, 1],\n",
        "        [1, 1, 1, 1, 1],\n",
        "        [1, 1, 1, 1, 1],\n",
        "        [1, 1, 1, 1, 1],\n",
        "        [1, 1, 1, 1, 1]],\n",
        "\n",
        "       [[1, 1, 1, 1, 1],\n",
        "        [1, 1, 1, 1, 1],\n",
        "        [1, 1, 1, 1, 1],\n",
        "        [1, 1, 1, 1, 1],\n",
        "        [1, 1, 1, 1, 1]],\n",
        "\n",
        "       [[1, 1, 1, 1, 1],\n",
        "        [1, 1, 1, 1, 1],\n",
        "        [1, 1, 1, 1, 1],\n",
        "        [1, 1, 1, 1, 1],\n",
        "        [1, 1, 1, 1, 1]],\n",
        "\n",
        "       [[1, 1, 1, 1, 1],\n",
        "        [1, 1, 1, 1, 1],\n",
        "        [1, 1, 1, 1, 1],\n",
        "        [1, 1, 1, 1, 1],\n",
        "        [1, 1, 1, 1, 1]]])"
       ]
      }
     ],
     "prompt_number": 36
    },
    {
     "cell_type": "code",
     "collapsed": false,
     "input": [
      "cubo = np.ones((5,5,5)).astype(np.float16)"
     ],
     "language": "python",
     "metadata": {},
     "outputs": [],
     "prompt_number": 37
    },
    {
     "cell_type": "code",
     "collapsed": false,
     "input": [
      "cubo"
     ],
     "language": "python",
     "metadata": {},
     "outputs": [
      {
       "metadata": {},
       "output_type": "pyout",
       "prompt_number": 38,
       "text": [
        "array([[[ 1.,  1.,  1.,  1.,  1.],\n",
        "        [ 1.,  1.,  1.,  1.,  1.],\n",
        "        [ 1.,  1.,  1.,  1.,  1.],\n",
        "        [ 1.,  1.,  1.,  1.,  1.],\n",
        "        [ 1.,  1.,  1.,  1.,  1.]],\n",
        "\n",
        "       [[ 1.,  1.,  1.,  1.,  1.],\n",
        "        [ 1.,  1.,  1.,  1.,  1.],\n",
        "        [ 1.,  1.,  1.,  1.,  1.],\n",
        "        [ 1.,  1.,  1.,  1.,  1.],\n",
        "        [ 1.,  1.,  1.,  1.,  1.]],\n",
        "\n",
        "       [[ 1.,  1.,  1.,  1.,  1.],\n",
        "        [ 1.,  1.,  1.,  1.,  1.],\n",
        "        [ 1.,  1.,  1.,  1.,  1.],\n",
        "        [ 1.,  1.,  1.,  1.,  1.],\n",
        "        [ 1.,  1.,  1.,  1.,  1.]],\n",
        "\n",
        "       [[ 1.,  1.,  1.,  1.,  1.],\n",
        "        [ 1.,  1.,  1.,  1.,  1.],\n",
        "        [ 1.,  1.,  1.,  1.,  1.],\n",
        "        [ 1.,  1.,  1.,  1.,  1.],\n",
        "        [ 1.,  1.,  1.,  1.,  1.]],\n",
        "\n",
        "       [[ 1.,  1.,  1.,  1.,  1.],\n",
        "        [ 1.,  1.,  1.,  1.,  1.],\n",
        "        [ 1.,  1.,  1.,  1.,  1.],\n",
        "        [ 1.,  1.,  1.,  1.,  1.],\n",
        "        [ 1.,  1.,  1.,  1.,  1.]]], dtype=float16)"
       ]
      }
     ],
     "prompt_number": 38
    },
    {
     "cell_type": "code",
     "collapsed": false,
     "input": [
      "cubo.dtype"
     ],
     "language": "python",
     "metadata": {},
     "outputs": [
      {
       "metadata": {},
       "output_type": "pyout",
       "prompt_number": 39,
       "text": [
        "dtype('float16')"
       ]
      }
     ],
     "prompt_number": 39
    },
    {
     "cell_type": "code",
     "collapsed": false,
     "input": [
      "np.empty((2,3,4))"
     ],
     "language": "python",
     "metadata": {},
     "outputs": [
      {
       "metadata": {},
       "output_type": "pyout",
       "prompt_number": 40,
       "text": [
        "array([[[  6.93591976e-310,   6.93591976e-310,   0.00000000e+000,\n",
        "           0.00000000e+000],\n",
        "        [  0.00000000e+000,   0.00000000e+000,   0.00000000e+000,\n",
        "           0.00000000e+000],\n",
        "        [  0.00000000e+000,   0.00000000e+000,   0.00000000e+000,\n",
        "           0.00000000e+000]],\n",
        "\n",
        "       [[  0.00000000e+000,   0.00000000e+000,   0.00000000e+000,\n",
        "           4.79243676e-322],\n",
        "        [  2.26889411e-316,   2.35093984e-316,   6.93591489e-310,\n",
        "           6.93591489e-310],\n",
        "        [  6.93591489e-310,   6.93591489e-310,   6.93591489e-310,\n",
        "           6.93591489e-310]]])"
       ]
      }
     ],
     "prompt_number": 40
    },
    {
     "cell_type": "markdown",
     "metadata": {},
     "source": [
      "<div class=\"alert alert-danger\">\n",
      "**PELIGRO**\n",
      "\n",
      "\u00a1`np.empty` no devuelve un arreglo de ceros!\n",
      "</div>"
     ]
    },
    {
     "cell_type": "code",
     "collapsed": false,
     "input": [
      "np.eye(4)"
     ],
     "language": "python",
     "metadata": {},
     "outputs": [
      {
       "metadata": {},
       "output_type": "pyout",
       "prompt_number": 41,
       "text": [
        "array([[ 1.,  0.,  0.,  0.],\n",
        "       [ 0.,  1.,  0.,  0.],\n",
        "       [ 0.,  0.,  1.,  0.],\n",
        "       [ 0.,  0.,  0.,  1.]])"
       ]
      }
     ],
     "prompt_number": 41
    },
    {
     "cell_type": "code",
     "collapsed": false,
     "input": [
      "np.random.rand(3)"
     ],
     "language": "python",
     "metadata": {},
     "outputs": [
      {
       "metadata": {},
       "output_type": "pyout",
       "prompt_number": 42,
       "text": [
        "array([ 0.86530734,  0.84216545,  0.79083157])"
       ]
      }
     ],
     "prompt_number": 42
    },
    {
     "cell_type": "heading",
     "level": 2,
     "metadata": {},
     "source": [
      "Reshaping"
     ]
    },
    {
     "cell_type": "code",
     "collapsed": false,
     "input": [
      "arr = np.arange(1000)"
     ],
     "language": "python",
     "metadata": {},
     "outputs": [],
     "prompt_number": 43
    },
    {
     "cell_type": "code",
     "collapsed": false,
     "input": [
      "arr3d = arr.reshape((10,10,10))"
     ],
     "language": "python",
     "metadata": {},
     "outputs": [],
     "prompt_number": 44
    },
    {
     "cell_type": "code",
     "collapsed": false,
     "input": [
      "arr3d.ndim"
     ],
     "language": "python",
     "metadata": {},
     "outputs": [
      {
       "metadata": {},
       "output_type": "pyout",
       "prompt_number": 45,
       "text": [
        "3"
       ]
      }
     ],
     "prompt_number": 45
    },
    {
     "cell_type": "code",
     "collapsed": false,
     "input": [
      "arr3d.shape"
     ],
     "language": "python",
     "metadata": {},
     "outputs": [
      {
       "metadata": {},
       "output_type": "pyout",
       "prompt_number": 46,
       "text": [
        "(10, 10, 10)"
       ]
      }
     ],
     "prompt_number": 46
    },
    {
     "cell_type": "code",
     "collapsed": false,
     "input": [
      "arr3d"
     ],
     "language": "python",
     "metadata": {},
     "outputs": [
      {
       "metadata": {},
       "output_type": "pyout",
       "prompt_number": 47,
       "text": [
        "array([[[  0,   1,   2,   3,   4,   5,   6,   7,   8,   9],\n",
        "        [ 10,  11,  12,  13,  14,  15,  16,  17,  18,  19],\n",
        "        [ 20,  21,  22,  23,  24,  25,  26,  27,  28,  29],\n",
        "        [ 30,  31,  32,  33,  34,  35,  36,  37,  38,  39],\n",
        "        [ 40,  41,  42,  43,  44,  45,  46,  47,  48,  49],\n",
        "        [ 50,  51,  52,  53,  54,  55,  56,  57,  58,  59],\n",
        "        [ 60,  61,  62,  63,  64,  65,  66,  67,  68,  69],\n",
        "        [ 70,  71,  72,  73,  74,  75,  76,  77,  78,  79],\n",
        "        [ 80,  81,  82,  83,  84,  85,  86,  87,  88,  89],\n",
        "        [ 90,  91,  92,  93,  94,  95,  96,  97,  98,  99]],\n",
        "\n",
        "       [[100, 101, 102, 103, 104, 105, 106, 107, 108, 109],\n",
        "        [110, 111, 112, 113, 114, 115, 116, 117, 118, 119],\n",
        "        [120, 121, 122, 123, 124, 125, 126, 127, 128, 129],\n",
        "        [130, 131, 132, 133, 134, 135, 136, 137, 138, 139],\n",
        "        [140, 141, 142, 143, 144, 145, 146, 147, 148, 149],\n",
        "        [150, 151, 152, 153, 154, 155, 156, 157, 158, 159],\n",
        "        [160, 161, 162, 163, 164, 165, 166, 167, 168, 169],\n",
        "        [170, 171, 172, 173, 174, 175, 176, 177, 178, 179],\n",
        "        [180, 181, 182, 183, 184, 185, 186, 187, 188, 189],\n",
        "        [190, 191, 192, 193, 194, 195, 196, 197, 198, 199]],\n",
        "\n",
        "       [[200, 201, 202, 203, 204, 205, 206, 207, 208, 209],\n",
        "        [210, 211, 212, 213, 214, 215, 216, 217, 218, 219],\n",
        "        [220, 221, 222, 223, 224, 225, 226, 227, 228, 229],\n",
        "        [230, 231, 232, 233, 234, 235, 236, 237, 238, 239],\n",
        "        [240, 241, 242, 243, 244, 245, 246, 247, 248, 249],\n",
        "        [250, 251, 252, 253, 254, 255, 256, 257, 258, 259],\n",
        "        [260, 261, 262, 263, 264, 265, 266, 267, 268, 269],\n",
        "        [270, 271, 272, 273, 274, 275, 276, 277, 278, 279],\n",
        "        [280, 281, 282, 283, 284, 285, 286, 287, 288, 289],\n",
        "        [290, 291, 292, 293, 294, 295, 296, 297, 298, 299]],\n",
        "\n",
        "       [[300, 301, 302, 303, 304, 305, 306, 307, 308, 309],\n",
        "        [310, 311, 312, 313, 314, 315, 316, 317, 318, 319],\n",
        "        [320, 321, 322, 323, 324, 325, 326, 327, 328, 329],\n",
        "        [330, 331, 332, 333, 334, 335, 336, 337, 338, 339],\n",
        "        [340, 341, 342, 343, 344, 345, 346, 347, 348, 349],\n",
        "        [350, 351, 352, 353, 354, 355, 356, 357, 358, 359],\n",
        "        [360, 361, 362, 363, 364, 365, 366, 367, 368, 369],\n",
        "        [370, 371, 372, 373, 374, 375, 376, 377, 378, 379],\n",
        "        [380, 381, 382, 383, 384, 385, 386, 387, 388, 389],\n",
        "        [390, 391, 392, 393, 394, 395, 396, 397, 398, 399]],\n",
        "\n",
        "       [[400, 401, 402, 403, 404, 405, 406, 407, 408, 409],\n",
        "        [410, 411, 412, 413, 414, 415, 416, 417, 418, 419],\n",
        "        [420, 421, 422, 423, 424, 425, 426, 427, 428, 429],\n",
        "        [430, 431, 432, 433, 434, 435, 436, 437, 438, 439],\n",
        "        [440, 441, 442, 443, 444, 445, 446, 447, 448, 449],\n",
        "        [450, 451, 452, 453, 454, 455, 456, 457, 458, 459],\n",
        "        [460, 461, 462, 463, 464, 465, 466, 467, 468, 469],\n",
        "        [470, 471, 472, 473, 474, 475, 476, 477, 478, 479],\n",
        "        [480, 481, 482, 483, 484, 485, 486, 487, 488, 489],\n",
        "        [490, 491, 492, 493, 494, 495, 496, 497, 498, 499]],\n",
        "\n",
        "       [[500, 501, 502, 503, 504, 505, 506, 507, 508, 509],\n",
        "        [510, 511, 512, 513, 514, 515, 516, 517, 518, 519],\n",
        "        [520, 521, 522, 523, 524, 525, 526, 527, 528, 529],\n",
        "        [530, 531, 532, 533, 534, 535, 536, 537, 538, 539],\n",
        "        [540, 541, 542, 543, 544, 545, 546, 547, 548, 549],\n",
        "        [550, 551, 552, 553, 554, 555, 556, 557, 558, 559],\n",
        "        [560, 561, 562, 563, 564, 565, 566, 567, 568, 569],\n",
        "        [570, 571, 572, 573, 574, 575, 576, 577, 578, 579],\n",
        "        [580, 581, 582, 583, 584, 585, 586, 587, 588, 589],\n",
        "        [590, 591, 592, 593, 594, 595, 596, 597, 598, 599]],\n",
        "\n",
        "       [[600, 601, 602, 603, 604, 605, 606, 607, 608, 609],\n",
        "        [610, 611, 612, 613, 614, 615, 616, 617, 618, 619],\n",
        "        [620, 621, 622, 623, 624, 625, 626, 627, 628, 629],\n",
        "        [630, 631, 632, 633, 634, 635, 636, 637, 638, 639],\n",
        "        [640, 641, 642, 643, 644, 645, 646, 647, 648, 649],\n",
        "        [650, 651, 652, 653, 654, 655, 656, 657, 658, 659],\n",
        "        [660, 661, 662, 663, 664, 665, 666, 667, 668, 669],\n",
        "        [670, 671, 672, 673, 674, 675, 676, 677, 678, 679],\n",
        "        [680, 681, 682, 683, 684, 685, 686, 687, 688, 689],\n",
        "        [690, 691, 692, 693, 694, 695, 696, 697, 698, 699]],\n",
        "\n",
        "       [[700, 701, 702, 703, 704, 705, 706, 707, 708, 709],\n",
        "        [710, 711, 712, 713, 714, 715, 716, 717, 718, 719],\n",
        "        [720, 721, 722, 723, 724, 725, 726, 727, 728, 729],\n",
        "        [730, 731, 732, 733, 734, 735, 736, 737, 738, 739],\n",
        "        [740, 741, 742, 743, 744, 745, 746, 747, 748, 749],\n",
        "        [750, 751, 752, 753, 754, 755, 756, 757, 758, 759],\n",
        "        [760, 761, 762, 763, 764, 765, 766, 767, 768, 769],\n",
        "        [770, 771, 772, 773, 774, 775, 776, 777, 778, 779],\n",
        "        [780, 781, 782, 783, 784, 785, 786, 787, 788, 789],\n",
        "        [790, 791, 792, 793, 794, 795, 796, 797, 798, 799]],\n",
        "\n",
        "       [[800, 801, 802, 803, 804, 805, 806, 807, 808, 809],\n",
        "        [810, 811, 812, 813, 814, 815, 816, 817, 818, 819],\n",
        "        [820, 821, 822, 823, 824, 825, 826, 827, 828, 829],\n",
        "        [830, 831, 832, 833, 834, 835, 836, 837, 838, 839],\n",
        "        [840, 841, 842, 843, 844, 845, 846, 847, 848, 849],\n",
        "        [850, 851, 852, 853, 854, 855, 856, 857, 858, 859],\n",
        "        [860, 861, 862, 863, 864, 865, 866, 867, 868, 869],\n",
        "        [870, 871, 872, 873, 874, 875, 876, 877, 878, 879],\n",
        "        [880, 881, 882, 883, 884, 885, 886, 887, 888, 889],\n",
        "        [890, 891, 892, 893, 894, 895, 896, 897, 898, 899]],\n",
        "\n",
        "       [[900, 901, 902, 903, 904, 905, 906, 907, 908, 909],\n",
        "        [910, 911, 912, 913, 914, 915, 916, 917, 918, 919],\n",
        "        [920, 921, 922, 923, 924, 925, 926, 927, 928, 929],\n",
        "        [930, 931, 932, 933, 934, 935, 936, 937, 938, 939],\n",
        "        [940, 941, 942, 943, 944, 945, 946, 947, 948, 949],\n",
        "        [950, 951, 952, 953, 954, 955, 956, 957, 958, 959],\n",
        "        [960, 961, 962, 963, 964, 965, 966, 967, 968, 969],\n",
        "        [970, 971, 972, 973, 974, 975, 976, 977, 978, 979],\n",
        "        [980, 981, 982, 983, 984, 985, 986, 987, 988, 989],\n",
        "        [990, 991, 992, 993, 994, 995, 996, 997, 998, 999]]])"
       ]
      }
     ],
     "prompt_number": 47
    },
    {
     "cell_type": "code",
     "collapsed": false,
     "input": [
      "arr = np.arange(200)"
     ],
     "language": "python",
     "metadata": {},
     "outputs": [],
     "prompt_number": 48
    },
    {
     "cell_type": "code",
     "collapsed": false,
     "input": [
      "arr2d = arr.reshape((10,20))"
     ],
     "language": "python",
     "metadata": {},
     "outputs": [],
     "prompt_number": 49
    },
    {
     "cell_type": "code",
     "collapsed": false,
     "input": [
      "arr2d"
     ],
     "language": "python",
     "metadata": {},
     "outputs": [
      {
       "metadata": {},
       "output_type": "pyout",
       "prompt_number": 50,
       "text": [
        "array([[  0,   1,   2,   3,   4,   5,   6,   7,   8,   9,  10,  11,  12,\n",
        "         13,  14,  15,  16,  17,  18,  19],\n",
        "       [ 20,  21,  22,  23,  24,  25,  26,  27,  28,  29,  30,  31,  32,\n",
        "         33,  34,  35,  36,  37,  38,  39],\n",
        "       [ 40,  41,  42,  43,  44,  45,  46,  47,  48,  49,  50,  51,  52,\n",
        "         53,  54,  55,  56,  57,  58,  59],\n",
        "       [ 60,  61,  62,  63,  64,  65,  66,  67,  68,  69,  70,  71,  72,\n",
        "         73,  74,  75,  76,  77,  78,  79],\n",
        "       [ 80,  81,  82,  83,  84,  85,  86,  87,  88,  89,  90,  91,  92,\n",
        "         93,  94,  95,  96,  97,  98,  99],\n",
        "       [100, 101, 102, 103, 104, 105, 106, 107, 108, 109, 110, 111, 112,\n",
        "        113, 114, 115, 116, 117, 118, 119],\n",
        "       [120, 121, 122, 123, 124, 125, 126, 127, 128, 129, 130, 131, 132,\n",
        "        133, 134, 135, 136, 137, 138, 139],\n",
        "       [140, 141, 142, 143, 144, 145, 146, 147, 148, 149, 150, 151, 152,\n",
        "        153, 154, 155, 156, 157, 158, 159],\n",
        "       [160, 161, 162, 163, 164, 165, 166, 167, 168, 169, 170, 171, 172,\n",
        "        173, 174, 175, 176, 177, 178, 179],\n",
        "       [180, 181, 182, 183, 184, 185, 186, 187, 188, 189, 190, 191, 192,\n",
        "        193, 194, 195, 196, 197, 198, 199]])"
       ]
      }
     ],
     "prompt_number": 50
    },
    {
     "cell_type": "code",
     "collapsed": false,
     "input": [
      "srr = np.arange(200)"
     ],
     "language": "python",
     "metadata": {},
     "outputs": [],
     "prompt_number": 53
    },
    {
     "cell_type": "code",
     "collapsed": false,
     "input": [
      "arr"
     ],
     "language": "python",
     "metadata": {},
     "outputs": [
      {
       "metadata": {},
       "output_type": "pyout",
       "prompt_number": 54,
       "text": [
        "array([  0,   1,   2,   3,   4,   5,   6,   7,   8,   9,  10,  11,  12,\n",
        "        13,  14,  15,  16,  17,  18,  19,  20,  21,  22,  23,  24,  25,\n",
        "        26,  27,  28,  29,  30,  31,  32,  33,  34,  35,  36,  37,  38,\n",
        "        39,  40,  41,  42,  43,  44,  45,  46,  47,  48,  49,  50,  51,\n",
        "        52,  53,  54,  55,  56,  57,  58,  59,  60,  61,  62,  63,  64,\n",
        "        65,  66,  67,  68,  69,  70,  71,  72,  73,  74,  75,  76,  77,\n",
        "        78,  79,  80,  81,  82,  83,  84,  85,  86,  87,  88,  89,  90,\n",
        "        91,  92,  93,  94,  95,  96,  97,  98,  99, 100, 101, 102, 103,\n",
        "       104, 105, 106, 107, 108, 109, 110, 111, 112, 113, 114, 115, 116,\n",
        "       117, 118, 119, 120, 121, 122, 123, 124, 125, 126, 127, 128, 129,\n",
        "       130, 131, 132, 133, 134, 135, 136, 137, 138, 139, 140, 141, 142,\n",
        "       143, 144, 145, 146, 147, 148, 149, 150, 151, 152, 153, 154, 155,\n",
        "       156, 157, 158, 159, 160, 161, 162, 163, 164, 165, 166, 167, 168,\n",
        "       169, 170, 171, 172, 173, 174, 175, 176, 177, 178, 179, 180, 181,\n",
        "       182, 183, 184, 185, 186, 187, 188, 189, 190, 191, 192, 193, 194,\n",
        "       195, 196, 197, 198, 199])"
       ]
      }
     ],
     "prompt_number": 54
    },
    {
     "cell_type": "heading",
     "level": 2,
     "metadata": {},
     "source": [
      "Aplanar"
     ]
    },
    {
     "cell_type": "code",
     "collapsed": false,
     "input": [
      "arr = np.zeros((4,4,4,4))"
     ],
     "language": "python",
     "metadata": {},
     "outputs": [],
     "prompt_number": 55
    },
    {
     "cell_type": "code",
     "collapsed": false,
     "input": [
      "arr"
     ],
     "language": "python",
     "metadata": {},
     "outputs": [
      {
       "metadata": {},
       "output_type": "pyout",
       "prompt_number": 56,
       "text": [
        "array([[[[ 0.,  0.,  0.,  0.],\n",
        "         [ 0.,  0.,  0.,  0.],\n",
        "         [ 0.,  0.,  0.,  0.],\n",
        "         [ 0.,  0.,  0.,  0.]],\n",
        "\n",
        "        [[ 0.,  0.,  0.,  0.],\n",
        "         [ 0.,  0.,  0.,  0.],\n",
        "         [ 0.,  0.,  0.,  0.],\n",
        "         [ 0.,  0.,  0.,  0.]],\n",
        "\n",
        "        [[ 0.,  0.,  0.,  0.],\n",
        "         [ 0.,  0.,  0.,  0.],\n",
        "         [ 0.,  0.,  0.,  0.],\n",
        "         [ 0.,  0.,  0.,  0.]],\n",
        "\n",
        "        [[ 0.,  0.,  0.,  0.],\n",
        "         [ 0.,  0.,  0.,  0.],\n",
        "         [ 0.,  0.,  0.,  0.],\n",
        "         [ 0.,  0.,  0.,  0.]]],\n",
        "\n",
        "\n",
        "       [[[ 0.,  0.,  0.,  0.],\n",
        "         [ 0.,  0.,  0.,  0.],\n",
        "         [ 0.,  0.,  0.,  0.],\n",
        "         [ 0.,  0.,  0.,  0.]],\n",
        "\n",
        "        [[ 0.,  0.,  0.,  0.],\n",
        "         [ 0.,  0.,  0.,  0.],\n",
        "         [ 0.,  0.,  0.,  0.],\n",
        "         [ 0.,  0.,  0.,  0.]],\n",
        "\n",
        "        [[ 0.,  0.,  0.,  0.],\n",
        "         [ 0.,  0.,  0.,  0.],\n",
        "         [ 0.,  0.,  0.,  0.],\n",
        "         [ 0.,  0.,  0.,  0.]],\n",
        "\n",
        "        [[ 0.,  0.,  0.,  0.],\n",
        "         [ 0.,  0.,  0.,  0.],\n",
        "         [ 0.,  0.,  0.,  0.],\n",
        "         [ 0.,  0.,  0.,  0.]]],\n",
        "\n",
        "\n",
        "       [[[ 0.,  0.,  0.,  0.],\n",
        "         [ 0.,  0.,  0.,  0.],\n",
        "         [ 0.,  0.,  0.,  0.],\n",
        "         [ 0.,  0.,  0.,  0.]],\n",
        "\n",
        "        [[ 0.,  0.,  0.,  0.],\n",
        "         [ 0.,  0.,  0.,  0.],\n",
        "         [ 0.,  0.,  0.,  0.],\n",
        "         [ 0.,  0.,  0.,  0.]],\n",
        "\n",
        "        [[ 0.,  0.,  0.,  0.],\n",
        "         [ 0.,  0.,  0.,  0.],\n",
        "         [ 0.,  0.,  0.,  0.],\n",
        "         [ 0.,  0.,  0.,  0.]],\n",
        "\n",
        "        [[ 0.,  0.,  0.,  0.],\n",
        "         [ 0.,  0.,  0.,  0.],\n",
        "         [ 0.,  0.,  0.,  0.],\n",
        "         [ 0.,  0.,  0.,  0.]]],\n",
        "\n",
        "\n",
        "       [[[ 0.,  0.,  0.,  0.],\n",
        "         [ 0.,  0.,  0.,  0.],\n",
        "         [ 0.,  0.,  0.,  0.],\n",
        "         [ 0.,  0.,  0.,  0.]],\n",
        "\n",
        "        [[ 0.,  0.,  0.,  0.],\n",
        "         [ 0.,  0.,  0.,  0.],\n",
        "         [ 0.,  0.,  0.,  0.],\n",
        "         [ 0.,  0.,  0.,  0.]],\n",
        "\n",
        "        [[ 0.,  0.,  0.,  0.],\n",
        "         [ 0.,  0.,  0.,  0.],\n",
        "         [ 0.,  0.,  0.,  0.],\n",
        "         [ 0.,  0.,  0.,  0.]],\n",
        "\n",
        "        [[ 0.,  0.,  0.,  0.],\n",
        "         [ 0.,  0.,  0.,  0.],\n",
        "         [ 0.,  0.,  0.,  0.],\n",
        "         [ 0.,  0.,  0.,  0.]]]])"
       ]
      }
     ],
     "prompt_number": 56
    },
    {
     "cell_type": "code",
     "collapsed": false,
     "input": [
      "arr.shape"
     ],
     "language": "python",
     "metadata": {},
     "outputs": [
      {
       "metadata": {},
       "output_type": "pyout",
       "prompt_number": 57,
       "text": [
        "(4, 4, 4, 4)"
       ]
      }
     ],
     "prompt_number": 57
    },
    {
     "cell_type": "code",
     "collapsed": false,
     "input": [
      "arr_plano = arr.ravel()"
     ],
     "language": "python",
     "metadata": {},
     "outputs": [],
     "prompt_number": 61
    },
    {
     "cell_type": "code",
     "collapsed": false,
     "input": [
      "arr_plano"
     ],
     "language": "python",
     "metadata": {},
     "outputs": [
      {
       "metadata": {},
       "output_type": "pyout",
       "prompt_number": 62,
       "text": [
        "array([ 0.,  0.,  0.,  0.,  0.,  0.,  0.,  0.,  0.,  0.,  0.,  0.,  0.,\n",
        "        0.,  0.,  0.,  0.,  0.,  0.,  0.,  0.,  0.,  0.,  0.,  0.,  0.,\n",
        "        0.,  0.,  0.,  0.,  0.,  0.,  0.,  0.,  0.,  0.,  0.,  0.,  0.,\n",
        "        0.,  0.,  0.,  0.,  0.,  0.,  0.,  0.,  0.,  0.,  0.,  0.,  0.,\n",
        "        0.,  0.,  0.,  0.,  0.,  0.,  0.,  0.,  0.,  0.,  0.,  0.,  0.,\n",
        "        0.,  0.,  0.,  0.,  0.,  0.,  0.,  0.,  0.,  0.,  0.,  0.,  0.,\n",
        "        0.,  0.,  0.,  0.,  0.,  0.,  0.,  0.,  0.,  0.,  0.,  0.,  0.,\n",
        "        0.,  0.,  0.,  0.,  0.,  0.,  0.,  0.,  0.,  0.,  0.,  0.,  0.,\n",
        "        0.,  0.,  0.,  0.,  0.,  0.,  0.,  0.,  0.,  0.,  0.,  0.,  0.,\n",
        "        0.,  0.,  0.,  0.,  0.,  0.,  0.,  0.,  0.,  0.,  0.,  0.,  0.,\n",
        "        0.,  0.,  0.,  0.,  0.,  0.,  0.,  0.,  0.,  0.,  0.,  0.,  0.,\n",
        "        0.,  0.,  0.,  0.,  0.,  0.,  0.,  0.,  0.,  0.,  0.,  0.,  0.,\n",
        "        0.,  0.,  0.,  0.,  0.,  0.,  0.,  0.,  0.,  0.,  0.,  0.,  0.,\n",
        "        0.,  0.,  0.,  0.,  0.,  0.,  0.,  0.,  0.,  0.,  0.,  0.,  0.,\n",
        "        0.,  0.,  0.,  0.,  0.,  0.,  0.,  0.,  0.,  0.,  0.,  0.,  0.,\n",
        "        0.,  0.,  0.,  0.,  0.,  0.,  0.,  0.,  0.,  0.,  0.,  0.,  0.,\n",
        "        0.,  0.,  0.,  0.,  0.,  0.,  0.,  0.,  0.,  0.,  0.,  0.,  0.,\n",
        "        0.,  0.,  0.,  0.,  0.,  0.,  0.,  0.,  0.,  0.,  0.,  0.,  0.,\n",
        "        0.,  0.,  0.,  0.,  0.,  0.,  0.,  0.,  0.,  0.,  0.,  0.,  0.,\n",
        "        0.,  0.,  0.,  0.,  0.,  0.,  0.,  0.,  0.])"
       ]
      }
     ],
     "prompt_number": 62
    },
    {
     "cell_type": "code",
     "collapsed": false,
     "input": [
      "arr_plano.shape"
     ],
     "language": "python",
     "metadata": {},
     "outputs": [
      {
       "metadata": {},
       "output_type": "pyout",
       "prompt_number": 63,
       "text": [
        "(256,)"
       ]
      }
     ],
     "prompt_number": 63
    },
    {
     "cell_type": "heading",
     "level": 2,
     "metadata": {},
     "source": [
      "Broadcasting"
     ]
    },
    {
     "cell_type": "code",
     "collapsed": false,
     "input": [
      "data = np.array([1,2,3,4,5])"
     ],
     "language": "python",
     "metadata": {},
     "outputs": [],
     "prompt_number": 64
    },
    {
     "cell_type": "code",
     "collapsed": false,
     "input": [
      "data"
     ],
     "language": "python",
     "metadata": {},
     "outputs": [
      {
       "metadata": {},
       "output_type": "pyout",
       "prompt_number": 65,
       "text": [
        "array([1, 2, 3, 4, 5])"
       ]
      }
     ],
     "prompt_number": 65
    },
    {
     "cell_type": "code",
     "collapsed": false,
     "input": [
      "data + 1"
     ],
     "language": "python",
     "metadata": {},
     "outputs": [
      {
       "metadata": {},
       "output_type": "pyout",
       "prompt_number": 66,
       "text": [
        "array([2, 3, 4, 5, 6])"
       ]
      }
     ],
     "prompt_number": 66
    },
    {
     "cell_type": "code",
     "collapsed": false,
     "input": [
      "data - 2"
     ],
     "language": "python",
     "metadata": {},
     "outputs": [
      {
       "metadata": {},
       "output_type": "pyout",
       "prompt_number": 67,
       "text": [
        "array([-1,  0,  1,  2,  3])"
       ]
      }
     ],
     "prompt_number": 67
    },
    {
     "cell_type": "heading",
     "level": 2,
     "metadata": {},
     "source": [
      "Trasponer"
     ]
    },
    {
     "cell_type": "code",
     "collapsed": false,
     "input": [
      "arr = np.arange(15).reshape((3,5))"
     ],
     "language": "python",
     "metadata": {},
     "outputs": [],
     "prompt_number": 68
    },
    {
     "cell_type": "code",
     "collapsed": false,
     "input": [
      "arr"
     ],
     "language": "python",
     "metadata": {},
     "outputs": [
      {
       "metadata": {},
       "output_type": "pyout",
       "prompt_number": 69,
       "text": [
        "array([[ 0,  1,  2,  3,  4],\n",
        "       [ 5,  6,  7,  8,  9],\n",
        "       [10, 11, 12, 13, 14]])"
       ]
      }
     ],
     "prompt_number": 69
    },
    {
     "cell_type": "code",
     "collapsed": false,
     "input": [
      "arr.T"
     ],
     "language": "python",
     "metadata": {},
     "outputs": [
      {
       "metadata": {},
       "output_type": "pyout",
       "prompt_number": 71,
       "text": [
        "array([[ 0,  5, 10],\n",
        "       [ 1,  6, 11],\n",
        "       [ 2,  7, 12],\n",
        "       [ 3,  8, 13],\n",
        "       [ 4,  9, 14]])"
       ]
      }
     ],
     "prompt_number": 71
    },
    {
     "cell_type": "code",
     "collapsed": false,
     "input": [
      "arr = np.arange(16).reshape((2,2,4))"
     ],
     "language": "python",
     "metadata": {},
     "outputs": [],
     "prompt_number": 74
    },
    {
     "cell_type": "code",
     "collapsed": false,
     "input": [
      "arr\n"
     ],
     "language": "python",
     "metadata": {},
     "outputs": [
      {
       "metadata": {},
       "output_type": "pyout",
       "prompt_number": 75,
       "text": [
        "array([[[ 0,  1,  2,  3],\n",
        "        [ 4,  5,  6,  7]],\n",
        "\n",
        "       [[ 8,  9, 10, 11],\n",
        "        [12, 13, 14, 15]]])"
       ]
      }
     ],
     "prompt_number": 75
    },
    {
     "cell_type": "code",
     "collapsed": false,
     "input": [
      "arr.transpose((1,0,2))"
     ],
     "language": "python",
     "metadata": {},
     "outputs": [
      {
       "metadata": {},
       "output_type": "pyout",
       "prompt_number": 76,
       "text": [
        "array([[[ 0,  1,  2,  3],\n",
        "        [ 8,  9, 10, 11]],\n",
        "\n",
        "       [[ 4,  5,  6,  7],\n",
        "        [12, 13, 14, 15]]])"
       ]
      }
     ],
     "prompt_number": 76
    },
    {
     "cell_type": "markdown",
     "metadata": {},
     "source": [
      "*transpose* recibe una tupla de los indices de los ojos y los permuta"
     ]
    },
    {
     "cell_type": "heading",
     "level": 2,
     "metadata": {},
     "source": [
      "Slicing e Indexado"
     ]
    },
    {
     "cell_type": "code",
     "collapsed": false,
     "input": [
      "arr = np.arange(10)"
     ],
     "language": "python",
     "metadata": {},
     "outputs": [],
     "prompt_number": 15
    },
    {
     "cell_type": "code",
     "collapsed": false,
     "input": [
      "arr"
     ],
     "language": "python",
     "metadata": {},
     "outputs": [
      {
       "metadata": {},
       "output_type": "pyout",
       "prompt_number": 16,
       "text": [
        "array([0, 1, 2, 3, 4, 5, 6, 7, 8, 9])"
       ]
      }
     ],
     "prompt_number": 16
    },
    {
     "cell_type": "code",
     "collapsed": false,
     "input": [
      "arr_slice = arr[5:8]"
     ],
     "language": "python",
     "metadata": {},
     "outputs": [],
     "prompt_number": 17
    },
    {
     "cell_type": "code",
     "collapsed": false,
     "input": [
      "arr_slice"
     ],
     "language": "python",
     "metadata": {},
     "outputs": [
      {
       "metadata": {},
       "output_type": "pyout",
       "prompt_number": 18,
       "text": [
        "array([5, 6, 7])"
       ]
      }
     ],
     "prompt_number": 18
    },
    {
     "cell_type": "code",
     "collapsed": false,
     "input": [
      "arr_slice[1] = 12345678"
     ],
     "language": "python",
     "metadata": {},
     "outputs": [],
     "prompt_number": 19
    },
    {
     "cell_type": "code",
     "collapsed": false,
     "input": [
      "arr_slice"
     ],
     "language": "python",
     "metadata": {},
     "outputs": [
      {
       "metadata": {},
       "output_type": "pyout",
       "prompt_number": 20,
       "text": [
        "array([       5, 12345678,        7])"
       ]
      }
     ],
     "prompt_number": 20
    },
    {
     "cell_type": "code",
     "collapsed": false,
     "input": [
      "arr_slice[:] = 345"
     ],
     "language": "python",
     "metadata": {},
     "outputs": [],
     "prompt_number": 21
    },
    {
     "cell_type": "code",
     "collapsed": false,
     "input": [
      "arr_slice"
     ],
     "language": "python",
     "metadata": {},
     "outputs": [
      {
       "metadata": {},
       "output_type": "pyout",
       "prompt_number": 22,
       "text": [
        "array([345, 345, 345])"
       ]
      }
     ],
     "prompt_number": 22
    },
    {
     "cell_type": "code",
     "collapsed": false,
     "input": [
      "arr"
     ],
     "language": "python",
     "metadata": {},
     "outputs": [
      {
       "metadata": {},
       "output_type": "pyout",
       "prompt_number": 23,
       "text": [
        "array([  0,   1,   2,   3,   4, 345, 345, 345,   8,   9])"
       ]
      }
     ],
     "prompt_number": 23
    },
    {
     "cell_type": "code",
     "collapsed": false,
     "input": [
      "arr2 = np.copy(arr)"
     ],
     "language": "python",
     "metadata": {},
     "outputs": [],
     "prompt_number": 24
    },
    {
     "cell_type": "code",
     "collapsed": false,
     "input": [
      "arr2"
     ],
     "language": "python",
     "metadata": {},
     "outputs": [
      {
       "metadata": {},
       "output_type": "pyout",
       "prompt_number": 25,
       "text": [
        "array([  0,   1,   2,   3,   4, 345, 345, 345,   8,   9])"
       ]
      }
     ],
     "prompt_number": 25
    },
    {
     "cell_type": "code",
     "collapsed": false,
     "input": [
      "arr2[5:8] = [5,6,7]"
     ],
     "language": "python",
     "metadata": {},
     "outputs": [],
     "prompt_number": 26
    },
    {
     "cell_type": "code",
     "collapsed": false,
     "input": [
      "arr2"
     ],
     "language": "python",
     "metadata": {},
     "outputs": [
      {
       "metadata": {},
       "output_type": "pyout",
       "prompt_number": 27,
       "text": [
        "array([0, 1, 2, 3, 4, 5, 6, 7, 8, 9])"
       ]
      }
     ],
     "prompt_number": 27
    },
    {
     "cell_type": "code",
     "collapsed": false,
     "input": [
      "arr"
     ],
     "language": "python",
     "metadata": {},
     "outputs": [
      {
       "metadata": {},
       "output_type": "pyout",
       "prompt_number": 28,
       "text": [
        "array([  0,   1,   2,   3,   4, 345, 345, 345,   8,   9])"
       ]
      }
     ],
     "prompt_number": 28
    },
    {
     "cell_type": "code",
     "collapsed": false,
     "input": [
      "np.may_share_memory(arr,arr_slice)"
     ],
     "language": "python",
     "metadata": {},
     "outputs": [
      {
       "metadata": {},
       "output_type": "pyout",
       "prompt_number": 29,
       "text": [
        "True"
       ]
      }
     ],
     "prompt_number": 29
    },
    {
     "cell_type": "heading",
     "level": 2,
     "metadata": {},
     "source": [
      "Multidimensional"
     ]
    },
    {
     "cell_type": "code",
     "collapsed": false,
     "input": [
      "arr = np.arange(12)\n",
      "arr"
     ],
     "language": "python",
     "metadata": {},
     "outputs": [
      {
       "metadata": {},
       "output_type": "pyout",
       "prompt_number": 30,
       "text": [
        "array([ 0,  1,  2,  3,  4,  5,  6,  7,  8,  9, 10, 11])"
       ]
      }
     ],
     "prompt_number": 30
    },
    {
     "cell_type": "code",
     "collapsed": false,
     "input": [
      "arr"
     ],
     "language": "python",
     "metadata": {},
     "outputs": [
      {
       "metadata": {},
       "output_type": "pyout",
       "prompt_number": 31,
       "text": [
        "array([ 0,  1,  2,  3,  4,  5,  6,  7,  8,  9, 10, 11])"
       ]
      }
     ],
     "prompt_number": 31
    },
    {
     "cell_type": "code",
     "collapsed": false,
     "input": [
      "arr.shape = (4,3)"
     ],
     "language": "python",
     "metadata": {},
     "outputs": [],
     "prompt_number": 32
    },
    {
     "cell_type": "code",
     "collapsed": false,
     "input": [
      "arr"
     ],
     "language": "python",
     "metadata": {},
     "outputs": [
      {
       "metadata": {},
       "output_type": "pyout",
       "prompt_number": 33,
       "text": [
        "array([[ 0,  1,  2],\n",
        "       [ 3,  4,  5],\n",
        "       [ 6,  7,  8],\n",
        "       [ 9, 10, 11]])"
       ]
      }
     ],
     "prompt_number": 33
    },
    {
     "cell_type": "code",
     "collapsed": false,
     "input": [
      "arr.ndim"
     ],
     "language": "python",
     "metadata": {},
     "outputs": [
      {
       "metadata": {},
       "output_type": "pyout",
       "prompt_number": 34,
       "text": [
        "2"
       ]
      }
     ],
     "prompt_number": 34
    },
    {
     "cell_type": "code",
     "collapsed": false,
     "input": [
      "arr[2]"
     ],
     "language": "python",
     "metadata": {},
     "outputs": [
      {
       "metadata": {},
       "output_type": "pyout",
       "prompt_number": 35,
       "text": [
        "array([6, 7, 8])"
       ]
      }
     ],
     "prompt_number": 35
    },
    {
     "cell_type": "code",
     "collapsed": false,
     "input": [
      "arr[-1]"
     ],
     "language": "python",
     "metadata": {},
     "outputs": [
      {
       "metadata": {},
       "output_type": "pyout",
       "prompt_number": 36,
       "text": [
        "array([ 9, 10, 11])"
       ]
      }
     ],
     "prompt_number": 36
    },
    {
     "cell_type": "code",
     "collapsed": false,
     "input": [
      "arr[1][1]"
     ],
     "language": "python",
     "metadata": {},
     "outputs": [
      {
       "metadata": {},
       "output_type": "pyout",
       "prompt_number": 37,
       "text": [
        "4"
       ]
      }
     ],
     "prompt_number": 37
    },
    {
     "cell_type": "code",
     "collapsed": false,
     "input": [
      "arr[1:]"
     ],
     "language": "python",
     "metadata": {},
     "outputs": [
      {
       "metadata": {},
       "output_type": "pyout",
       "prompt_number": 38,
       "text": [
        "array([[ 3,  4,  5],\n",
        "       [ 6,  7,  8],\n",
        "       [ 9, 10, 11]])"
       ]
      }
     ],
     "prompt_number": 38
    },
    {
     "cell_type": "code",
     "collapsed": false,
     "input": [
      "arr[:2]"
     ],
     "language": "python",
     "metadata": {},
     "outputs": [
      {
       "metadata": {},
       "output_type": "pyout",
       "prompt_number": 39,
       "text": [
        "array([[0, 1, 2],\n",
        "       [3, 4, 5]])"
       ]
      }
     ],
     "prompt_number": 39
    },
    {
     "cell_type": "code",
     "collapsed": false,
     "input": [
      "arr[:1,:2]"
     ],
     "language": "python",
     "metadata": {},
     "outputs": [
      {
       "metadata": {},
       "output_type": "pyout",
       "prompt_number": 121,
       "text": [
        "array([[0, 1]])"
       ]
      }
     ],
     "prompt_number": 121
    },
    {
     "cell_type": "code",
     "collapsed": false,
     "input": [
      "arr[1:,:2]"
     ],
     "language": "python",
     "metadata": {},
     "outputs": [
      {
       "metadata": {},
       "output_type": "pyout",
       "prompt_number": 122,
       "text": [
        "array([[ 3,  4],\n",
        "       [ 6,  7],\n",
        "       [ 9, 10]])"
       ]
      }
     ],
     "prompt_number": 122
    },
    {
     "cell_type": "code",
     "collapsed": false,
     "input": [
      "arr[1,]"
     ],
     "language": "python",
     "metadata": {},
     "outputs": [
      {
       "metadata": {},
       "output_type": "pyout",
       "prompt_number": 123,
       "text": [
        "array([3, 4, 5])"
       ]
      }
     ],
     "prompt_number": 123
    },
    {
     "cell_type": "code",
     "collapsed": false,
     "input": [
      "arr[1,:2]"
     ],
     "language": "python",
     "metadata": {},
     "outputs": [
      {
       "metadata": {},
       "output_type": "pyout",
       "prompt_number": 124,
       "text": [
        "array([3, 4])"
       ]
      }
     ],
     "prompt_number": 124
    },
    {
     "cell_type": "code",
     "collapsed": false,
     "input": [
      "arr[1,2:]"
     ],
     "language": "python",
     "metadata": {},
     "outputs": [
      {
       "metadata": {},
       "output_type": "pyout",
       "prompt_number": 125,
       "text": [
        "array([5])"
       ]
      }
     ],
     "prompt_number": 125
    },
    {
     "cell_type": "code",
     "collapsed": false,
     "input": [
      "arr[:,1:]"
     ],
     "language": "python",
     "metadata": {},
     "outputs": [
      {
       "metadata": {},
       "output_type": "pyout",
       "prompt_number": 126,
       "text": [
        "array([[ 1,  2],\n",
        "       [ 4,  5],\n",
        "       [ 7,  8],\n",
        "       [10, 11]])"
       ]
      }
     ],
     "prompt_number": 126
    },
    {
     "cell_type": "code",
     "collapsed": false,
     "input": [
      "arr[:,:1]"
     ],
     "language": "python",
     "metadata": {},
     "outputs": [
      {
       "metadata": {},
       "output_type": "pyout",
       "prompt_number": 127,
       "text": [
        "array([[0],\n",
        "       [3],\n",
        "       [6],\n",
        "       [9]])"
       ]
      }
     ],
     "prompt_number": 127
    },
    {
     "cell_type": "markdown",
     "metadata": {},
     "source": [
      "<div class=\"alert alert-info\">\n",
      "**Ejercicio**:\n",
      "<ul>\n",
      "    \n",
      "    <li> Cree un arreglo $3\\times4\\times5$, con $1$s. </li>\n",
      "    <li> Usando *slicing*, obtenga la columna de enmedio. </li>\n",
      "    <li> Usando *indexing*, obtenga el valor del elemento $[3,4,1]$. </li>\n",
      "    <li> Usando *slicing*, asigne el valor `1.34` a la $[2,3,]$ \u00bfQu\u00e9 paso debe de hacer antes? </li>\n",
      "    </ul>\n",
      "</div>"
     ]
    },
    {
     "cell_type": "code",
     "collapsed": false,
     "input": [
      "arr = np.ones((3,4,5)).astype(int)"
     ],
     "language": "python",
     "metadata": {},
     "outputs": [],
     "prompt_number": 7
    },
    {
     "cell_type": "code",
     "collapsed": false,
     "input": [
      "arr"
     ],
     "language": "python",
     "metadata": {},
     "outputs": [
      {
       "metadata": {},
       "output_type": "pyout",
       "prompt_number": 8,
       "text": [
        "array([[[1, 1, 1, 1, 1],\n",
        "        [1, 1, 1, 1, 1],\n",
        "        [1, 1, 1, 1, 1],\n",
        "        [1, 1, 1, 1, 1]],\n",
        "\n",
        "       [[1, 1, 1, 1, 1],\n",
        "        [1, 1, 1, 1, 1],\n",
        "        [1, 1, 1, 1, 1],\n",
        "        [1, 1, 1, 1, 1]],\n",
        "\n",
        "       [[1, 1, 1, 1, 1],\n",
        "        [1, 1, 1, 1, 1],\n",
        "        [1, 1, 1, 1, 1],\n",
        "        [1, 1, 1, 1, 1]]])"
       ]
      }
     ],
     "prompt_number": 8
    },
    {
     "cell_type": "code",
     "collapsed": false,
     "input": [
      "arr[:, :, 2:3]"
     ],
     "language": "python",
     "metadata": {},
     "outputs": [
      {
       "metadata": {},
       "output_type": "pyout",
       "prompt_number": 9,
       "text": [
        "array([[[1],\n",
        "        [1],\n",
        "        [1],\n",
        "        [1]],\n",
        "\n",
        "       [[1],\n",
        "        [1],\n",
        "        [1],\n",
        "        [1]],\n",
        "\n",
        "       [[1],\n",
        "        [1],\n",
        "        [1],\n",
        "        [1]]])"
       ]
      }
     ],
     "prompt_number": 9
    },
    {
     "cell_type": "code",
     "collapsed": false,
     "input": [
      "arr = np.arange(9)"
     ],
     "language": "python",
     "metadata": {},
     "outputs": [],
     "prompt_number": 10
    },
    {
     "cell_type": "code",
     "collapsed": false,
     "input": [
      "index = arr > 2"
     ],
     "language": "python",
     "metadata": {},
     "outputs": [],
     "prompt_number": 11
    },
    {
     "cell_type": "code",
     "collapsed": false,
     "input": [
      "index"
     ],
     "language": "python",
     "metadata": {},
     "outputs": [
      {
       "metadata": {},
       "output_type": "pyout",
       "prompt_number": 12,
       "text": [
        "array([False, False, False,  True,  True,  True,  True,  True,  True], dtype=bool)"
       ]
      }
     ],
     "prompt_number": 12
    },
    {
     "cell_type": "code",
     "collapsed": false,
     "input": [
      "arr[index]"
     ],
     "language": "python",
     "metadata": {},
     "outputs": [
      {
       "metadata": {},
       "output_type": "pyout",
       "prompt_number": 13,
       "text": [
        "array([3, 4, 5, 6, 7, 8])"
       ]
      }
     ],
     "prompt_number": 13
    },
    {
     "cell_type": "code",
     "collapsed": false,
     "input": [
      "arr2 = arr[index]"
     ],
     "language": "python",
     "metadata": {},
     "outputs": [],
     "prompt_number": 14
    },
    {
     "cell_type": "code",
     "collapsed": false,
     "input": [
      "arr2"
     ],
     "language": "python",
     "metadata": {},
     "outputs": [
      {
       "metadata": {},
       "output_type": "pyout",
       "prompt_number": 15,
       "text": [
        "array([3, 4, 5, 6, 7, 8])"
       ]
      }
     ],
     "prompt_number": 15
    },
    {
     "cell_type": "markdown",
     "metadata": {},
     "source": [
      "<div class=\"alert alert-info\">\n",
      "**Ejercicio:**\n",
      "(a) Cree un arreglo de 2D $5\\times5$ lleno de unos. (b) Utilice *slicing* para seleccionar 1 cuadrado alrededor del centro  y ll\u00e9nelo con $2$s.  (c) Utilice *slicing* para seleccionar  el centro y as\u00edgnele $4$. (d) Copie el arreglo. (e) Utilice *slicing* l\u00f3gico para seleccionar el cuadro interno y as\u00edgnele cero. (f) En el cuadro copiado, al centro y al cuadro exterior as\u00edgnele $0$.\n",
      "</div>"
     ]
    },
    {
     "cell_type": "code",
     "collapsed": false,
     "input": [
      "unos = np.ones((5,5)).astype(int)\n",
      "unos"
     ],
     "language": "python",
     "metadata": {},
     "outputs": [
      {
       "metadata": {},
       "output_type": "pyout",
       "prompt_number": 57,
       "text": [
        "array([[1, 1, 1, 1, 1],\n",
        "       [1, 1, 1, 1, 1],\n",
        "       [1, 1, 1, 1, 1],\n",
        "       [1, 1, 1, 1, 1],\n",
        "       [1, 1, 1, 1, 1]])"
       ]
      }
     ],
     "prompt_number": 57
    },
    {
     "cell_type": "code",
     "collapsed": false,
     "input": [
      "unos[1:4,1:4] = 2"
     ],
     "language": "python",
     "metadata": {},
     "outputs": [],
     "prompt_number": 58
    },
    {
     "cell_type": "code",
     "collapsed": true,
     "input": [
      "unos"
     ],
     "language": "python",
     "metadata": {},
     "outputs": [
      {
       "metadata": {},
       "output_type": "pyout",
       "prompt_number": 59,
       "text": [
        "array([[1, 1, 1, 1, 1],\n",
        "       [1, 2, 2, 2, 1],\n",
        "       [1, 2, 2, 2, 1],\n",
        "       [1, 2, 2, 2, 1],\n",
        "       [1, 1, 1, 1, 1]])"
       ]
      }
     ],
     "prompt_number": 59
    },
    {
     "cell_type": "code",
     "collapsed": false,
     "input": [
      "unos[2:3,2:3] =4\n",
      "unos"
     ],
     "language": "python",
     "metadata": {},
     "outputs": [
      {
       "metadata": {},
       "output_type": "pyout",
       "prompt_number": 60,
       "text": [
        "array([[1, 1, 1, 1, 1],\n",
        "       [1, 2, 2, 2, 1],\n",
        "       [1, 2, 4, 2, 1],\n",
        "       [1, 2, 2, 2, 1],\n",
        "       [1, 1, 1, 1, 1]])"
       ]
      }
     ],
     "prompt_number": 60
    },
    {
     "cell_type": "code",
     "collapsed": false,
     "input": [
      "unos2 = unos.copy()\n",
      "unos2"
     ],
     "language": "python",
     "metadata": {},
     "outputs": [
      {
       "metadata": {},
       "output_type": "pyout",
       "prompt_number": 61,
       "text": [
        "array([[1, 1, 1, 1, 1],\n",
        "       [1, 2, 2, 2, 1],\n",
        "       [1, 2, 4, 2, 1],\n",
        "       [1, 2, 2, 2, 1],\n",
        "       [1, 1, 1, 1, 1]])"
       ]
      }
     ],
     "prompt_number": 61
    },
    {
     "cell_type": "code",
     "collapsed": false,
     "input": [
      "unos[unos==2]=0\n",
      "unos"
     ],
     "language": "python",
     "metadata": {},
     "outputs": [
      {
       "metadata": {},
       "output_type": "pyout",
       "prompt_number": 62,
       "text": [
        "array([[1, 1, 1, 1, 1],\n",
        "       [1, 0, 0, 0, 1],\n",
        "       [1, 0, 4, 0, 1],\n",
        "       [1, 0, 0, 0, 1],\n",
        "       [1, 1, 1, 1, 1]])"
       ]
      }
     ],
     "prompt_number": 62
    },
    {
     "cell_type": "code",
     "collapsed": false,
     "input": [
      "unos2[unos2!=2]=0\n",
      "unos2"
     ],
     "language": "python",
     "metadata": {},
     "outputs": [
      {
       "metadata": {},
       "output_type": "pyout",
       "prompt_number": 63,
       "text": [
        "array([[0, 0, 0, 0, 0],\n",
        "       [0, 2, 2, 2, 0],\n",
        "       [0, 2, 0, 2, 0],\n",
        "       [0, 2, 2, 2, 0],\n",
        "       [0, 0, 0, 0, 0]])"
       ]
      }
     ],
     "prompt_number": 63
    },
    {
     "cell_type": "heading",
     "level": 2,
     "metadata": {},
     "source": [
      "Fancy Indexing"
     ]
    },
    {
     "cell_type": "code",
     "collapsed": false,
     "input": [
      "arr = np.ones((5,4))"
     ],
     "language": "python",
     "metadata": {},
     "outputs": [],
     "prompt_number": 64
    },
    {
     "cell_type": "code",
     "collapsed": false,
     "input": [
      "for i in range(5):\n",
      "    arr[i] = i"
     ],
     "language": "python",
     "metadata": {},
     "outputs": [],
     "prompt_number": 65
    },
    {
     "cell_type": "code",
     "collapsed": false,
     "input": [
      "arr"
     ],
     "language": "python",
     "metadata": {},
     "outputs": [
      {
       "metadata": {},
       "output_type": "pyout",
       "prompt_number": 66,
       "text": [
        "array([[ 0.,  0.,  0.,  0.],\n",
        "       [ 1.,  1.,  1.,  1.],\n",
        "       [ 2.,  2.,  2.,  2.],\n",
        "       [ 3.,  3.,  3.,  3.],\n",
        "       [ 4.,  4.,  4.,  4.]])"
       ]
      }
     ],
     "prompt_number": 66
    },
    {
     "cell_type": "code",
     "collapsed": false,
     "input": [
      "arr[[4,3,1,2]]"
     ],
     "language": "python",
     "metadata": {},
     "outputs": [
      {
       "metadata": {},
       "output_type": "pyout",
       "prompt_number": 67,
       "text": [
        "array([[ 4.,  4.,  4.,  4.],\n",
        "       [ 3.,  3.,  3.,  3.],\n",
        "       [ 1.,  1.,  1.,  1.],\n",
        "       [ 2.,  2.,  2.,  2.]])"
       ]
      }
     ],
     "prompt_number": 67
    },
    {
     "cell_type": "code",
     "collapsed": false,
     "input": [
      "arr[[-3,-2,-1]]"
     ],
     "language": "python",
     "metadata": {},
     "outputs": [
      {
       "metadata": {},
       "output_type": "pyout",
       "prompt_number": 68,
       "text": [
        "array([[ 2.,  2.,  2.,  2.],\n",
        "       [ 3.,  3.,  3.,  3.],\n",
        "       [ 4.,  4.,  4.,  4.]])"
       ]
      }
     ],
     "prompt_number": 68
    },
    {
     "cell_type": "heading",
     "level": 2,
     "metadata": {},
     "source": [
      "Funciones Universales"
     ]
    },
    {
     "cell_type": "markdown",
     "metadata": {},
     "source": [
      "Las funciones *universales* realizan operaciones elemento por elemento en los arreglos"
     ]
    },
    {
     "cell_type": "code",
     "collapsed": false,
     "input": [
      "arr = np.arange(10)"
     ],
     "language": "python",
     "metadata": {},
     "outputs": [],
     "prompt_number": 69
    },
    {
     "cell_type": "code",
     "collapsed": false,
     "input": [
      "arr = -1*arr"
     ],
     "language": "python",
     "metadata": {},
     "outputs": [],
     "prompt_number": 70
    },
    {
     "cell_type": "code",
     "collapsed": false,
     "input": [
      "arr"
     ],
     "language": "python",
     "metadata": {},
     "outputs": [
      {
       "metadata": {},
       "output_type": "pyout",
       "prompt_number": 71,
       "text": [
        "array([ 0, -1, -2, -3, -4, -5, -6, -7, -8, -9])"
       ]
      }
     ],
     "prompt_number": 71
    },
    {
     "cell_type": "code",
     "collapsed": false,
     "input": [
      "arr = np.abs(arr)"
     ],
     "language": "python",
     "metadata": {},
     "outputs": [],
     "prompt_number": 72
    },
    {
     "cell_type": "code",
     "collapsed": false,
     "input": [
      "arr"
     ],
     "language": "python",
     "metadata": {},
     "outputs": [
      {
       "metadata": {},
       "output_type": "pyout",
       "prompt_number": 73,
       "text": [
        "array([0, 1, 2, 3, 4, 5, 6, 7, 8, 9])"
       ]
      }
     ],
     "prompt_number": 73
    },
    {
     "cell_type": "code",
     "collapsed": false,
     "input": [
      "np.sqrt(arr)"
     ],
     "language": "python",
     "metadata": {},
     "outputs": [
      {
       "metadata": {},
       "output_type": "pyout",
       "prompt_number": 74,
       "text": [
        "array([ 0.        ,  1.        ,  1.41421356,  1.73205081,  2.        ,\n",
        "        2.23606798,  2.44948974,  2.64575131,  2.82842712,  3.        ])"
       ]
      }
     ],
     "prompt_number": 74
    },
    {
     "cell_type": "code",
     "collapsed": false,
     "input": [
      "np.sign(arr)"
     ],
     "language": "python",
     "metadata": {},
     "outputs": [
      {
       "metadata": {},
       "output_type": "pyout",
       "prompt_number": 75,
       "text": [
        "array([0, 1, 1, 1, 1, 1, 1, 1, 1, 1])"
       ]
      }
     ],
     "prompt_number": 75
    },
    {
     "cell_type": "code",
     "collapsed": false,
     "input": [
      "np.isfinite(arr)"
     ],
     "language": "python",
     "metadata": {},
     "outputs": [
      {
       "metadata": {},
       "output_type": "pyout",
       "prompt_number": 76,
       "text": [
        "array([ True,  True,  True,  True,  True,  True,  True,  True,  True,  True], dtype=bool)"
       ]
      }
     ],
     "prompt_number": 76
    },
    {
     "cell_type": "code",
     "collapsed": false,
     "input": [
      "np.logical_not(arr)"
     ],
     "language": "python",
     "metadata": {},
     "outputs": [
      {
       "metadata": {},
       "output_type": "pyout",
       "prompt_number": 77,
       "text": [
        "array([ True, False, False, False, False, False, False, False, False, False], dtype=bool)"
       ]
      }
     ],
     "prompt_number": 77
    },
    {
     "cell_type": "code",
     "collapsed": false,
     "input": [
      "arr"
     ],
     "language": "python",
     "metadata": {},
     "outputs": [
      {
       "metadata": {},
       "output_type": "pyout",
       "prompt_number": 78,
       "text": [
        "array([0, 1, 2, 3, 4, 5, 6, 7, 8, 9])"
       ]
      }
     ],
     "prompt_number": 78
    },
    {
     "cell_type": "code",
     "collapsed": false,
     "input": [
      "arr = np.random.randn(10)"
     ],
     "language": "python",
     "metadata": {},
     "outputs": [],
     "prompt_number": 79
    },
    {
     "cell_type": "code",
     "collapsed": false,
     "input": [
      "arr"
     ],
     "language": "python",
     "metadata": {},
     "outputs": [
      {
       "metadata": {},
       "output_type": "pyout",
       "prompt_number": 80,
       "text": [
        "array([ 0.21593351,  0.03987654, -0.53840633, -0.30031242,  1.05354348,\n",
        "        1.28422475, -2.18946815,  0.50369684,  0.38015114,  0.2292799 ])"
       ]
      }
     ],
     "prompt_number": 80
    },
    {
     "cell_type": "code",
     "collapsed": false,
     "input": [
      "np.ceil(arr)"
     ],
     "language": "python",
     "metadata": {},
     "outputs": [
      {
       "metadata": {},
       "output_type": "pyout",
       "prompt_number": 81,
       "text": [
        "array([ 1.,  1., -0., -0.,  2.,  2., -2.,  1.,  1.,  1.])"
       ]
      }
     ],
     "prompt_number": 81
    },
    {
     "cell_type": "code",
     "collapsed": false,
     "input": [
      "np.floor(arr)"
     ],
     "language": "python",
     "metadata": {},
     "outputs": [
      {
       "metadata": {},
       "output_type": "pyout",
       "prompt_number": 82,
       "text": [
        "array([ 0.,  0., -1., -1.,  1.,  1., -3.,  0.,  0.,  0.])"
       ]
      }
     ],
     "prompt_number": 82
    },
    {
     "cell_type": "code",
     "collapsed": false,
     "input": [
      "np.rint(arr)"
     ],
     "language": "python",
     "metadata": {},
     "outputs": [
      {
       "metadata": {},
       "output_type": "pyout",
       "prompt_number": 83,
       "text": [
        "array([ 0.,  0., -1., -0.,  1.,  1., -2.,  1.,  0.,  0.])"
       ]
      }
     ],
     "prompt_number": 83
    },
    {
     "cell_type": "code",
     "collapsed": false,
     "input": [
      "arr2 = np.ones(10)"
     ],
     "language": "python",
     "metadata": {},
     "outputs": [],
     "prompt_number": 84
    },
    {
     "cell_type": "code",
     "collapsed": false,
     "input": [
      "np.add(arr,arr2)"
     ],
     "language": "python",
     "metadata": {},
     "outputs": [
      {
       "metadata": {},
       "output_type": "pyout",
       "prompt_number": 85,
       "text": [
        "array([ 1.21593351,  1.03987654,  0.46159367,  0.69968758,  2.05354348,\n",
        "        2.28422475, -1.18946815,  1.50369684,  1.38015114,  1.2292799 ])"
       ]
      }
     ],
     "prompt_number": 85
    },
    {
     "cell_type": "code",
     "collapsed": false,
     "input": [
      "np.multiply(arr,arr2)"
     ],
     "language": "python",
     "metadata": {},
     "outputs": [
      {
       "metadata": {},
       "output_type": "pyout",
       "prompt_number": 86,
       "text": [
        "array([ 0.21593351,  0.03987654, -0.53840633, -0.30031242,  1.05354348,\n",
        "        1.28422475, -2.18946815,  0.50369684,  0.38015114,  0.2292799 ])"
       ]
      }
     ],
     "prompt_number": 86
    },
    {
     "cell_type": "code",
     "collapsed": false,
     "input": [
      "np.maximum(arr,arr2)"
     ],
     "language": "python",
     "metadata": {},
     "outputs": [
      {
       "metadata": {},
       "output_type": "pyout",
       "prompt_number": 87,
       "text": [
        "array([ 1.        ,  1.        ,  1.        ,  1.        ,  1.05354348,\n",
        "        1.28422475,  1.        ,  1.        ,  1.        ,  1.        ])"
       ]
      }
     ],
     "prompt_number": 87
    },
    {
     "cell_type": "code",
     "collapsed": false,
     "input": [
      "np.logical_and(arr,arr2)"
     ],
     "language": "python",
     "metadata": {},
     "outputs": [
      {
       "metadata": {},
       "output_type": "pyout",
       "prompt_number": 88,
       "text": [
        "array([ True,  True,  True,  True,  True,  True,  True,  True,  True,  True], dtype=bool)"
       ]
      }
     ],
     "prompt_number": 88
    },
    {
     "cell_type": "heading",
     "level": 2,
     "metadata": {},
     "source": [
      "Agregaciones"
     ]
    },
    {
     "cell_type": "markdown",
     "metadata": {},
     "source": [
      "Funciones que calculan operaciones a lo largo de un eje"
     ]
    },
    {
     "cell_type": "code",
     "collapsed": false,
     "input": [
      "arr"
     ],
     "language": "python",
     "metadata": {},
     "outputs": [
      {
       "metadata": {},
       "output_type": "pyout",
       "prompt_number": 89,
       "text": [
        "array([ 0.21593351,  0.03987654, -0.53840633, -0.30031242,  1.05354348,\n",
        "        1.28422475, -2.18946815,  0.50369684,  0.38015114,  0.2292799 ])"
       ]
      }
     ],
     "prompt_number": 89
    },
    {
     "cell_type": "code",
     "collapsed": false,
     "input": [
      "arr.sum()"
     ],
     "language": "python",
     "metadata": {},
     "outputs": [
      {
       "metadata": {},
       "output_type": "pyout",
       "prompt_number": 90,
       "text": [
        "0.67851925228545773"
       ]
      }
     ],
     "prompt_number": 90
    },
    {
     "cell_type": "code",
     "collapsed": false,
     "input": [
      "arr.mean()"
     ],
     "language": "python",
     "metadata": {},
     "outputs": [
      {
       "metadata": {},
       "output_type": "pyout",
       "prompt_number": 91,
       "text": [
        "0.067851925228545773"
       ]
      }
     ],
     "prompt_number": 91
    },
    {
     "cell_type": "code",
     "collapsed": false,
     "input": [
      "arr = np.random.randn(5,4)"
     ],
     "language": "python",
     "metadata": {},
     "outputs": [],
     "prompt_number": 92
    },
    {
     "cell_type": "code",
     "collapsed": false,
     "input": [
      "arr"
     ],
     "language": "python",
     "metadata": {},
     "outputs": [
      {
       "metadata": {},
       "output_type": "pyout",
       "prompt_number": 93,
       "text": [
        "array([[ 0.62651466,  3.15571367, -0.06148357, -0.41592294],\n",
        "       [ 0.38753902,  1.10158442, -2.61746709,  0.50141578],\n",
        "       [-0.28508857, -1.46148634, -0.09935928,  0.15427296],\n",
        "       [-0.03970808,  0.57852895,  0.1898127 , -0.8178882 ],\n",
        "       [ 0.49670639, -0.67272704,  0.46975245,  0.38408608]])"
       ]
      }
     ],
     "prompt_number": 93
    },
    {
     "cell_type": "code",
     "collapsed": false,
     "input": [
      "arr.sum()"
     ],
     "language": "python",
     "metadata": {},
     "outputs": [
      {
       "metadata": {},
       "output_type": "pyout",
       "prompt_number": 94,
       "text": [
        "1.5747959516591474"
       ]
      }
     ],
     "prompt_number": 94
    },
    {
     "cell_type": "code",
     "collapsed": false,
     "input": [
      "arr.mean()"
     ],
     "language": "python",
     "metadata": {},
     "outputs": [
      {
       "metadata": {},
       "output_type": "pyout",
       "prompt_number": 95,
       "text": [
        "0.078739797582957377"
       ]
      }
     ],
     "prompt_number": 95
    },
    {
     "cell_type": "code",
     "collapsed": false,
     "input": [
      "arr.sum(0)"
     ],
     "language": "python",
     "metadata": {},
     "outputs": [
      {
       "metadata": {},
       "output_type": "pyout",
       "prompt_number": 96,
       "text": [
        "array([ 1.18596342,  2.70161365, -2.1187448 , -0.19403632])"
       ]
      }
     ],
     "prompt_number": 96
    },
    {
     "cell_type": "code",
     "collapsed": false,
     "input": [
      "arr = np.arange(10)"
     ],
     "language": "python",
     "metadata": {},
     "outputs": [],
     "prompt_number": 97
    },
    {
     "cell_type": "code",
     "collapsed": false,
     "input": [
      "arr.cumsum()"
     ],
     "language": "python",
     "metadata": {},
     "outputs": [
      {
       "metadata": {},
       "output_type": "pyout",
       "prompt_number": 98,
       "text": [
        "array([ 0,  1,  3,  6, 10, 15, 21, 28, 36, 45])"
       ]
      }
     ],
     "prompt_number": 98
    },
    {
     "cell_type": "code",
     "collapsed": false,
     "input": [
      "arr.cumprod()"
     ],
     "language": "python",
     "metadata": {},
     "outputs": [
      {
       "metadata": {},
       "output_type": "pyout",
       "prompt_number": 99,
       "text": [
        "array([0, 0, 0, 0, 0, 0, 0, 0, 0, 0])"
       ]
      }
     ],
     "prompt_number": 99
    },
    {
     "cell_type": "code",
     "collapsed": false,
     "input": [
      "arr.reshape(2,5)"
     ],
     "language": "python",
     "metadata": {},
     "outputs": [
      {
       "metadata": {},
       "output_type": "pyout",
       "prompt_number": 100,
       "text": [
        "array([[0, 1, 2, 3, 4],\n",
        "       [5, 6, 7, 8, 9]])"
       ]
      }
     ],
     "prompt_number": 100
    },
    {
     "cell_type": "code",
     "collapsed": false,
     "input": [
      "arr.cumsum()"
     ],
     "language": "python",
     "metadata": {},
     "outputs": [
      {
       "metadata": {},
       "output_type": "pyout",
       "prompt_number": 101,
       "text": [
        "array([ 0,  1,  3,  6, 10, 15, 21, 28, 36, 45])"
       ]
      }
     ],
     "prompt_number": 101
    },
    {
     "cell_type": "code",
     "collapsed": false,
     "input": [
      "arr > 5"
     ],
     "language": "python",
     "metadata": {},
     "outputs": [
      {
       "metadata": {},
       "output_type": "pyout",
       "prompt_number": 102,
       "text": [
        "array([False, False, False, False, False, False,  True,  True,  True,  True], dtype=bool)"
       ]
      }
     ],
     "prompt_number": 102
    },
    {
     "cell_type": "code",
     "collapsed": false,
     "input": [
      "(arr > 5).sum()"
     ],
     "language": "python",
     "metadata": {},
     "outputs": [
      {
       "metadata": {},
       "output_type": "pyout",
       "prompt_number": 104,
       "text": [
        "4"
       ]
      }
     ],
     "prompt_number": 104
    },
    {
     "cell_type": "heading",
     "level": 2,
     "metadata": {},
     "source": [
      "Operaciones de Conjuntos"
     ]
    },
    {
     "cell_type": "code",
     "collapsed": false,
     "input": [
      "arr"
     ],
     "language": "python",
     "metadata": {},
     "outputs": [
      {
       "metadata": {},
       "output_type": "pyout",
       "prompt_number": 105,
       "text": [
        "array([0, 1, 2, 3, 4, 5, 6, 7, 8, 9])"
       ]
      }
     ],
     "prompt_number": 105
    },
    {
     "cell_type": "code",
     "collapsed": false,
     "input": [
      "arr2"
     ],
     "language": "python",
     "metadata": {},
     "outputs": [
      {
       "metadata": {},
       "output_type": "pyout",
       "prompt_number": 106,
       "text": [
        "array([ 1.,  1.,  1.,  1.,  1.,  1.,  1.,  1.,  1.,  1.])"
       ]
      }
     ],
     "prompt_number": 106
    },
    {
     "cell_type": "code",
     "collapsed": false,
     "input": [
      "np.unique(arr2)"
     ],
     "language": "python",
     "metadata": {},
     "outputs": [
      {
       "metadata": {},
       "output_type": "pyout",
       "prompt_number": 107,
       "text": [
        "array([ 1.])"
       ]
      }
     ],
     "prompt_number": 107
    },
    {
     "cell_type": "code",
     "collapsed": false,
     "input": [
      "np.intersect1d(arr,arr2)"
     ],
     "language": "python",
     "metadata": {},
     "outputs": [
      {
       "metadata": {},
       "output_type": "pyout",
       "prompt_number": 108,
       "text": [
        "array([ 1.])"
       ]
      }
     ],
     "prompt_number": 108
    },
    {
     "cell_type": "markdown",
     "metadata": {},
     "source": [
      "<div class=\"alert alert-info\">\n",
      "**Ejercicio** Usando la definici\u00f3n de [**cuadrados m\u00e1gicos**](http://en.wikipedia.org/wiki/Magic_square) crea una funci\u00f3n que reciba un arreglo e indique si es o no un cuadrado m\u00e1gico.\n",
      "</div>"
     ]
    },
    {
     "cell_type": "code",
     "collapsed": false,
     "input": [
      "arr = np.ones((2,2)).astype(int)\n",
      "arr"
     ],
     "language": "python",
     "metadata": {},
     "outputs": [
      {
       "metadata": {},
       "output_type": "pyout",
       "prompt_number": 156,
       "text": [
        "array([[1, 1],\n",
        "       [1, 1]])"
       ]
      }
     ],
     "prompt_number": 156
    },
    {
     "cell_type": "code",
     "collapsed": false,
     "input": [
      "x = arr.shape"
     ],
     "language": "python",
     "metadata": {},
     "outputs": [],
     "prompt_number": 157
    },
    {
     "cell_type": "code",
     "collapsed": false,
     "input": [
      "def esCuadrado(arr):\n",
      "    res = 1\n",
      "    i = 1\n",
      "    while arr.shape != (i,i) and i<200:\n",
      "        res = 0\n",
      "        i += 1\n",
      "    if arr.shape == (i,i):\n",
      "        res = 1\n",
      "    return res\n",
      "        "
     ],
     "language": "python",
     "metadata": {},
     "outputs": [],
     "prompt_number": 158
    },
    {
     "cell_type": "code",
     "collapsed": false,
     "input": [
      "esCuadrado(arr)"
     ],
     "language": "python",
     "metadata": {},
     "outputs": [
      {
       "metadata": {},
       "output_type": "pyout",
       "prompt_number": 159,
       "text": [
        "1"
       ]
      }
     ],
     "prompt_number": 159
    },
    {
     "cell_type": "code",
     "collapsed": false,
     "input": [],
     "language": "python",
     "metadata": {},
     "outputs": [],
     "prompt_number": 159
    },
    {
     "cell_type": "heading",
     "level": 2,
     "metadata": {},
     "source": [
      "Casting"
     ]
    },
    {
     "cell_type": "code",
     "collapsed": false,
     "input": [
      "a = np.array([1,2,3])\n",
      "a"
     ],
     "language": "python",
     "metadata": {},
     "outputs": [
      {
       "metadata": {},
       "output_type": "pyout",
       "prompt_number": 161,
       "text": [
        "array([1, 2, 3])"
       ]
      }
     ],
     "prompt_number": 161
    },
    {
     "cell_type": "markdown",
     "metadata": {},
     "source": [
      "El tipo de mayor jerarqu\u00eda define el *cast*"
     ]
    },
    {
     "cell_type": "code",
     "collapsed": false,
     "input": [
      "a + 1.5"
     ],
     "language": "python",
     "metadata": {},
     "outputs": [
      {
       "metadata": {},
       "output_type": "pyout",
       "prompt_number": 162,
       "text": [
        "array([ 2.5,  3.5,  4.5])"
       ]
      }
     ],
     "prompt_number": 162
    },
    {
     "cell_type": "markdown",
     "metadata": {},
     "source": [
      "La asignaci\u00f3n **no** cambia el tipo de arreglo"
     ]
    },
    {
     "cell_type": "code",
     "collapsed": false,
     "input": [
      "a.dtype"
     ],
     "language": "python",
     "metadata": {},
     "outputs": [
      {
       "metadata": {},
       "output_type": "pyout",
       "prompt_number": 163,
       "text": [
        "dtype('int64')"
       ]
      }
     ],
     "prompt_number": 163
    },
    {
     "cell_type": "code",
     "collapsed": false,
     "input": [
      "(a+1.5).dtype"
     ],
     "language": "python",
     "metadata": {},
     "outputs": [
      {
       "metadata": {},
       "output_type": "pyout",
       "prompt_number": 164,
       "text": [
        "dtype('float64')"
       ]
      }
     ],
     "prompt_number": 164
    },
    {
     "cell_type": "heading",
     "level": 2,
     "metadata": {},
     "source": [
      "Tipos"
     ]
    },
    {
     "cell_type": "code",
     "collapsed": false,
     "input": [
      "np.iinfo(np.int32).max, 2**31 - 1 "
     ],
     "language": "python",
     "metadata": {},
     "outputs": [
      {
       "metadata": {},
       "output_type": "pyout",
       "prompt_number": 166,
       "text": [
        "(2147483647, 2147483647)"
       ]
      }
     ],
     "prompt_number": 166
    },
    {
     "cell_type": "code",
     "collapsed": false,
     "input": [
      "np.finfo(np.float64).max"
     ],
     "language": "python",
     "metadata": {},
     "outputs": [
      {
       "metadata": {},
       "output_type": "pyout",
       "prompt_number": 167,
       "text": [
        "1.7976931348623157e+308"
       ]
      }
     ],
     "prompt_number": 167
    },
    {
     "cell_type": "heading",
     "level": 2,
     "metadata": {},
     "source": [
      "Estructura de Datos"
     ]
    },
    {
     "cell_type": "code",
     "collapsed": false,
     "input": [
      "muestra = np.zeros((6,), dtype=[('codigo', 'S4'),('posicion', float), ('valor', float)])"
     ],
     "language": "python",
     "metadata": {},
     "outputs": [],
     "prompt_number": 168
    },
    {
     "cell_type": "code",
     "collapsed": false,
     "input": [
      "muestra"
     ],
     "language": "python",
     "metadata": {},
     "outputs": [
      {
       "metadata": {},
       "output_type": "pyout",
       "prompt_number": 169,
       "text": [
        "array([('', 0.0, 0.0), ('', 0.0, 0.0), ('', 0.0, 0.0), ('', 0.0, 0.0),\n",
        "       ('', 0.0, 0.0), ('', 0.0, 0.0)], \n",
        "      dtype=[('codigo', 'S4'), ('posicion', '<f8'), ('valor', '<f8')])"
       ]
      }
     ],
     "prompt_number": 169
    }
   ],
   "metadata": {}
  }
 ]
}