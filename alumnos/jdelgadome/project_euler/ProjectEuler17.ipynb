{
 "metadata": {
  "name": "",
  "signature": "sha256:d15abd21acd48f44f2b18a12d69c126c3fb73ca6f0413048b10b89e2c00d7176"
 },
 "nbformat": 3,
 "nbformat_minor": 0,
 "worksheets": [
  {
   "cells": [
    {
     "cell_type": "markdown",
     "metadata": {},
     "source": [
      "If the numbers 1 to 5 are written out in words: one, two, three, four, five, then there are 3 + 3 + 5 + 4 + 4 = 19 letters used in total.\n",
      "\n",
      "If all the numbers from 1 to 1000 (one thousand) inclusive were written out in words, how many letters would be used?\n",
      "\n",
      "\n",
      "NOTE: Do not count spaces or hyphens. For example, 342 (three hundred and forty-two) contains 23 letters and 115 (one hundred and fifteen) contains 20 letters. The use of \"and\" when writing out numbers is in compliance with British usage."
     ]
    },
    {
     "cell_type": "code",
     "collapsed": false,
     "input": [
      "def numdeletras(res):\n",
      "    res = 36 + 70 # num. de letras del 1 al 19, 36 del 1 al 10 y 70 del 11 al 19\n",
      "    res = res + 10*(6 + 6 + 5 + 5 + 5 + 7 + 6 + 6) + 8*36 #del 20 al 99, cada decena repite 10 veces una cantidad de letras,\n",
      "    #por ejemplo, twenty \"6\", twenty one \"6\" + \"3\", twenty four \"6\" + \"4\"\n",
      "    #y sumamos las letras que toman del 1 al 9 8 veces, por ir del 20 al 99. \n",
      "    res = res + 36*100 #en cada decena aparecen 36 letras, del 100 al 999 hay 100 decenas\n",
      "    res = res + 9*(10*(6 + 6 + 5 + 5 + 5 + 7 + 6 + 6) + 8*36 + 36 + 70) #las cuentas que ya hab\u00edamos hecho para los \n",
      "    #n\u00fameros del 1 al 99, los cuales los vamos a contar 9 veces mas, pues aparecen del 101 al 999\n",
      "    res = res + 7*9 #la palabra \"hundred\" aparece 9 veces con 7 letras\n",
      "    res = res + 9*99*10 #las palabras \"hundred and\", 10 letras, aparecen 99 veces en cada centena\n",
      "    res = res + 11 #la palabra \"one thousand\" tiene 11 letras\n",
      "    print res\n"
     ],
     "language": "python",
     "metadata": {},
     "outputs": [],
     "prompt_number": 8
    },
    {
     "cell_type": "code",
     "collapsed": false,
     "input": [
      "numdeletras(0)"
     ],
     "language": "python",
     "metadata": {},
     "outputs": [
      {
       "output_type": "stream",
       "stream": "stdout",
       "text": [
        "21124\n"
       ]
      }
     ],
     "prompt_number": 9
    }
   ],
   "metadata": {}
  }
 ]
}