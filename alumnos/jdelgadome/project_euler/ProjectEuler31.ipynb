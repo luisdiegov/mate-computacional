{
 "metadata": {
  "name": "",
  "signature": "sha256:b1b031da2b48fe46e27f53fd9c25309ba4b6b1b296a5a8928452f16f58c258ed"
 },
 "nbformat": 3,
 "nbformat_minor": 0,
 "worksheets": [
  {
   "cells": [
    {
     "cell_type": "heading",
     "level": 2,
     "metadata": {},
     "source": [
      "In England the currency is made up of pound, \u00a3, and pence, p, and there are eight coins in general circulation:\n",
      "1p, 2p, 5p, 10p, 20p, 50p, \u00a31 (100p) and \u00a32 (200p).It is possible to make \u00a32 in the following way:\n",
      "1x\u00a31 + 1x50p + 2x20p + 1x5p + 1x2p + 3x1p\n",
      "How many different ways can \u00a32 be made using any number of coins?\n"
     ]
    },
    {
     "cell_type": "markdown",
     "metadata": {},
     "source": [
      "Este problema fue resulto utilizando particiones de un n\u00famero y funciones generadoras *tema visto en \u00c1lgebra Superior II*\n",
      "\n",
      "\n",
      "**En general, para una r>= 1, la funci\u00f3n generadora del n\u00famero de particiones de r es:**\n",
      "f(x) = (1/(1-x))(1/(1-x^2))(1/(1-x^3))...(1/(1-x^r))\n",
      "*El coeficiente de x^r nos dice el n\u00famero de particiones.*\n",
      "\n",
      "En nuestro caso particular, usamos el valor de las monedas en los exponentes (restricci\u00f3n del problema), entonces tenemos:\n",
      "f(x) = (1/(1-x))(1/(1-x^2))(1/(1-x^5))(1/(1-x^10))(1/(1-x^20))(1/(1-x^50))(1/(1-x^100))(1/(1-x^200))\n",
      "\n",
      "Introducimos este producto en Wolfram Alpha y le pedimos que lo expanda en una serie:\n",
      "expand (1/(1-x))(1/(1-x^2))(1/(1-x^5))(1/(1-x^10))(1/(1-x^20))(1/(1-x^50))(1/(1-x^100))(1/(1-x^200))\n",
      "\n",
      "y buscamos el coeficiente de x^200\n"
     ]
    },
    {
     "cell_type": "heading",
     "level": 1,
     "metadata": {},
     "source": [
      "El coeficiente de x^200 en la expansi\u00f3n de Wolfram Alpha es: **73,682**\n",
      "El cual es el n\u00famero de particiones de 200 con las restricciones de las monedas disponibles\n",
      "\n"
     ]
    }
   ],
   "metadata": {}
  }
 ]
}