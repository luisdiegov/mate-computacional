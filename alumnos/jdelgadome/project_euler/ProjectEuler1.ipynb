{
 "metadata": {
  "name": "",
  "signature": "sha256:43f12414ce1c79e2d42ec97922b5b3c83cc565992ea6658c4d5907a248f9ae23"
 },
 "nbformat": 3,
 "nbformat_minor": 0,
 "worksheets": [
  {
   "cells": [
    {
     "cell_type": "heading",
     "level": 1,
     "metadata": {},
     "source": [
      "Multiples of 3 and 5"
     ]
    },
    {
     "cell_type": "markdown",
     "metadata": {},
     "source": [
      "**Problem 1**"
     ]
    },
    {
     "cell_type": "markdown",
     "metadata": {},
     "source": [
      "If we list all the natural numbers below 10 that are multiples of 3 or 5, we get 3, 5, 6 and 9. The sum of these multiples is 23.\n",
      "\n",
      "Find the sum of all the multiples of 3 or 5 below 1000."
     ]
    },
    {
     "cell_type": "code",
     "collapsed": false,
     "input": [
      "suma = 0\n",
      "i = 1\n",
      "def multi(x):\n",
      "    #inicializamos suma y el contador\n",
      "    suma = 0\n",
      "    i = 1\n",
      "    while i<x:\n",
      "        if i%3 == 0: #Encontramos los m\u00faltiplos de 3 y sumamos al acumulador\n",
      "            suma += i\n",
      "        else:\n",
      "            if i%5 == 0:#Encontramos los m\u00faltiplos de 5 y sumamos al acumulador\n",
      "                suma += i\n",
      "                \n",
      "        i += 1 #recorremos desde 1 hasta el n\u00famero deseado\n",
      "    print suma\n"
     ],
     "language": "python",
     "metadata": {},
     "outputs": [],
     "prompt_number": 5
    },
    {
     "cell_type": "code",
     "collapsed": false,
     "input": [
      "multi(1000)"
     ],
     "language": "python",
     "metadata": {},
     "outputs": [
      {
       "output_type": "stream",
       "stream": "stdout",
       "text": [
        "233168\n"
       ]
      }
     ],
     "prompt_number": 21
    }
   ],
   "metadata": {}
  }
 ]
}