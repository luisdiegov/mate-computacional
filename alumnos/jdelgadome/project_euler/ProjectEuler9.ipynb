{
 "metadata": {
  "name": "",
  "signature": "sha256:685fdfbefa51930dd8814353df6c2940059f04b11c15df27d619348ea285cfad"
 },
 "nbformat": 3,
 "nbformat_minor": 0,
 "worksheets": [
  {
   "cells": [
    {
     "cell_type": "markdown",
     "metadata": {},
     "source": [
      "A Pythagorean triplet is a set of three natural numbers, a < b < c, for which,\n",
      "\n",
      "a2 + b2 = c2\n",
      "For example, 32 + 42 = 9 + 16 = 25 = 52.\n",
      "\n",
      "There exists exactly one Pythagorean triplet for which a + b + c = 1000.\n",
      "Find the product abc."
     ]
    },
    {
     "cell_type": "code",
     "collapsed": false,
     "input": [
      "def triplete_pitagorico(x):\n",
      "    a = 1\n",
      "    b = 1\n",
      "    c = 0\n",
      "    \n",
      "    while b <= x: #b no puede revasar a x, para asegurar b<c\n",
      "        \n",
      "        a = 1 #revisar **\n",
      "        while a <= b: # \"a\" recorre todos los n\u00fameros menores a b, asegurando a<b buscando las siguientes condiciones: \n",
      "            \n",
      "            \n",
      "            c = x - a - b #condici\u00f3n del problema: a + b + c = x, en este caso x = 1000 \n",
      "            if (a*a + b*b) == c*c: #si se cumple el teorema de pit\u00e1goras, entonces encontramos el triplete\n",
      "                print a*b*c\n",
      "                \n",
      "                a += 1\n",
      "            else:\n",
      "                a += 1 #si no se cumplieron las condiciones, buscamos el siguiente natural, hasta llegar a b\n",
      "        b += 1 #** si no se encontr\u00f3 el triplete, aumentamos b=b+1 y volvemos a recorrer \"a\" desde el 1 hasta b\n",
      "\n"
     ],
     "language": "python",
     "metadata": {},
     "outputs": [],
     "prompt_number": 41
    },
    {
     "cell_type": "code",
     "collapsed": false,
     "input": [
      "triplete_pitagorico(1000)"
     ],
     "language": "python",
     "metadata": {},
     "outputs": [
      {
       "output_type": "stream",
       "stream": "stdout",
       "text": [
        "31875000\n"
       ]
      }
     ],
     "prompt_number": 42
    }
   ],
   "metadata": {}
  }
 ]
}