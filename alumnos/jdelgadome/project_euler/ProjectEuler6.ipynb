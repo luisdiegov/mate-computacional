{
 "metadata": {
  "name": "",
  "signature": "sha256:ecc1fd117a8c3318447d4311ede82e118e063fce3ca4ffe43d3d1b8d94ef0f88"
 },
 "nbformat": 3,
 "nbformat_minor": 0,
 "worksheets": [
  {
   "cells": [
    {
     "cell_type": "markdown",
     "metadata": {},
     "source": [
      "Sum square difference\n",
      "Problem 6\n",
      "The sum of the squares of the first ten natural numbers is,\n",
      "\n",
      "12 + 22 + ... + 102 = 385\n",
      "The square of the sum of the first ten natural numbers is,\n",
      "\n",
      "(1 + 2 + ... + 10)2 = 552 = 3025\n",
      "Hence the difference between the sum of the squares of the first ten natural numbers and the square of the sum is 3025 \u2212 385 = 2640.\n",
      "\n",
      "Find the difference between the sum of the squares of the first one hundred natural numbers and the square of the sum."
     ]
    },
    {
     "cell_type": "code",
     "collapsed": false,
     "input": [
      "def diferencia(x):\n",
      "    i = 1\n",
      "    suma1 = 0 #suma1 lleva la suma de los cuadrados de los naturales\n",
      "    suma2 = 0 #suma2 lleva la suma de los naturales\n",
      "    while i <= x:\n",
      "        suma1 = suma1 + i*i #actualizar la suma de los cuadrados seg\u00fan la i\n",
      "        suma2 += i #actualizar la suma de los naturales\n",
      "        i += 1 #pasar al siguiente natural\n",
      "    suma2 = suma2*suma2 #esto representa el sustraendo, el cuadrado de la suma de naturales\n",
      "    print suma2 - suma1\n",
      "        \n",
      "        "
     ],
     "language": "python",
     "metadata": {},
     "outputs": [],
     "prompt_number": 3
    },
    {
     "cell_type": "code",
     "collapsed": false,
     "input": [
      "diferencia(100)"
     ],
     "language": "python",
     "metadata": {},
     "outputs": [
      {
       "output_type": "stream",
       "stream": "stdout",
       "text": [
        "25164150\n"
       ]
      }
     ],
     "prompt_number": 4
    }
   ],
   "metadata": {}
  }
 ]
}