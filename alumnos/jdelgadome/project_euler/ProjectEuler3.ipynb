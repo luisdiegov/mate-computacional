{
 "metadata": {
  "name": "",
  "signature": "sha256:7f35f6a3a46f5c48995bc0a1530a93fccad8bbee3946dfd1a988a5ec6b4b7682"
 },
 "nbformat": 3,
 "nbformat_minor": 0,
 "worksheets": [
  {
   "cells": [
    {
     "cell_type": "heading",
     "level": 1,
     "metadata": {},
     "source": [
      "Largest prime factor"
     ]
    },
    {
     "cell_type": "markdown",
     "metadata": {},
     "source": [
      "The prime factors of 13195 are 5, 7, 13 and 29.\n",
      "\n",
      "What is the largest prime factor of the number 600851475143 ?"
     ]
    },
    {
     "cell_type": "code",
     "collapsed": false,
     "input": [
      "def mayor_primo(x):\n",
      "    \n",
      "    i = 2\n",
      "    while  i < x: #Recorremos desde 2 hasta el n\u00famero deseado\n",
      "        if x%i == 0: #Buscamos los factores del n\u00famero x\n",
      "            x /= i #X se vuelve el nuevo factor hasta encontrar el m\u00e1ximo primo\n",
      "        i += 1\n",
      "\n",
      "    print x\n",
      "\n",
      " \n",
      "\n",
      "\n",
      "                "
     ],
     "language": "python",
     "metadata": {},
     "outputs": [],
     "prompt_number": 2
    },
    {
     "cell_type": "code",
     "collapsed": false,
     "input": [
      "mayor_primo(600851475143)"
     ],
     "language": "python",
     "metadata": {},
     "outputs": [
      {
       "output_type": "stream",
       "stream": "stdout",
       "text": [
        "6857\n"
       ]
      }
     ],
     "prompt_number": 3
    }
   ],
   "metadata": {}
  }
 ]
}