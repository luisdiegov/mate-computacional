{
 "metadata": {
  "name": "",
  "signature": "sha256:25bdca97b0cbabda733c3d978672617d553d475e5919a03672e7478e0482edcf"
 },
 "nbformat": 3,
 "nbformat_minor": 0,
 "worksheets": [
  {
   "cells": [
    {
     "cell_type": "code",
     "collapsed": false,
     "input": [
      "%matplotlib inline\n",
      "import numpy as np\n",
      "import matplotlib.pyplot as plt"
     ],
     "language": "python",
     "metadata": {},
     "outputs": [],
     "prompt_number": 1
    },
    {
     "cell_type": "heading",
     "level": 1,
     "metadata": {},
     "source": [
      "Ra\u00edces de funciones no lineales"
     ]
    },
    {
     "cell_type": "markdown",
     "metadata": {},
     "source": [
      "Calcular las ra\u00edces de la ecuaci\u00f3n \n",
      "\n",
      "$$\n",
      "f(x) = 0\n",
      "$$\n",
      "\n",
      "es un problema recurrente en el c\u00e1lculo cient\u00edfico."
     ]
    },
    {
     "cell_type": "markdown",
     "metadata": {},
     "source": [
      "Para resolverlos, utilizaremos m\u00e9todos _iterativos_."
     ]
    },
    {
     "cell_type": "heading",
     "level": 2,
     "metadata": {},
     "source": [
      "M\u00e9todo de la bisecci\u00f3n"
     ]
    },
    {
     "cell_type": "markdown",
     "metadata": {},
     "source": [
      "Sea $f$ una funci\u00f3n continua en $[a,b]$ que satisface "
     ]
    },
    {
     "cell_type": "markdown",
     "metadata": {},
     "source": [
      "$$\n",
      "f(a)f(b) < 0\n",
      "$$"
     ]
    },
    {
     "cell_type": "markdown",
     "metadata": {},
     "source": [
      "<div class=\"alert alert-info\">\n",
      "**Ejercicio** \u00bfQu\u00e9 significa esto?\n",
      "</div>"
     ]
    },
    {
     "cell_type": "markdown",
     "metadata": {},
     "source": [
      "Esto implica que $f$ tiene un _cero_ en el intervalo $(a,b)$, llam\u00e9mosle $r$."
     ]
    },
    {
     "cell_type": "markdown",
     "metadata": {},
     "source": [
      "El **m\u00e9todo de la bisecci\u00f3n** se trata de dividir en dos partes iguales el intervalo $I^0 \\equiv (a,b)$ y seleccionar el subintervalo $I$ donde $f$ experimenta un cambio de signo. Siguiendo este procedimiento, se garantiza que cada $I^{(k)}$ seleccionado contendr\u00e1 a $r$. La sucesi\u00f3n ${x^{(k)}}$ tender\u00e1 a $r$ cuando $k \\to \\infty$."
     ]
    },
    {
     "cell_type": "markdown",
     "metadata": {},
     "source": [
      "Concretamente:\n",
      "\n",
      "\n",
      "1. Se inicializa el m\u00e9todo con $a^0 = a$, $b^0 = b$, $I^{(0)} = (a^0, b^0)$ y $x^{(0)} = \\frac{(a^0 + b^0)}{2}$.\n",
      "2. Sea k = 1:\n",
      "    - Evaluar $f(x^{(k-1)})$, $f(a^{(k-1)})$ y $f(b^{(k-1)})$.\n",
      "    -  Si $f(a^{(k-1)})\\cdot f(x^{(k-1)}) < 0$, entonces $a^k = a^{(k-1)}$, $b^k = x^{(k-1)}$.\n",
      "    - Si $f(x^{(k-1)})\\cdot f(b^{(k-1)}) < 0$, entonces $a^k = x^{(k-1)}$, $b^k = b^{(k-1)}$.\n",
      "    - Definir $x^k = (a^k + b^k)/2$.\n",
      "    - k = k + 1\n",
      "    - Repetir"
     ]
    },
    {
     "cell_type": "heading",
     "level": 2,
     "metadata": {},
     "source": [
      "Ejemplo"
     ]
    },
    {
     "cell_type": "markdown",
     "metadata": {},
     "source": [
      "Por ejemplo la funci\u00f3n"
     ]
    },
    {
     "cell_type": "markdown",
     "metadata": {},
     "source": [
      "$$\n",
      "f(x) = x^2 -1\n",
      "$$"
     ]
    },
    {
     "cell_type": "code",
     "collapsed": false,
     "input": [
      "x = np.linspace(-0.5, 1.5, 100)\n",
      "y = x**2 - 1\n",
      "plt.plot(x, y, color=\"red\")\n",
      "ax = plt.gca()  \n",
      "ax.spines['right'].set_color('none')\n",
      "ax.spines['top'].set_color('none')\n",
      "ax.xaxis.set_ticks_position('bottom')\n",
      "ax.spines['bottom'].set_position(('data',0))\n",
      "ax.yaxis.set_ticks_position('left')\n",
      "ax.spines['left'].set_position(('data',0))"
     ],
     "language": "python",
     "metadata": {},
     "outputs": []
    },
    {
     "cell_type": "heading",
     "level": 3,
     "metadata": {},
     "source": [
      "Funciones an\u00f3nimas"
     ]
    },
    {
     "cell_type": "markdown",
     "metadata": {},
     "source": [
      "Vamos a introducir el concepto de _funci\u00f3n an\u00f3nima_:"
     ]
    },
    {
     "cell_type": "code",
     "collapsed": false,
     "input": [
      "f = lambda x: x**2 -1 # Funci\u00f3n an\u00f3nima en GNU/Octave se definir\u00eda como f = @(x) x.^2 - 1"
     ],
     "language": "python",
     "metadata": {},
     "outputs": []
    },
    {
     "cell_type": "code",
     "collapsed": false,
     "input": [
      "f(-0.05)"
     ],
     "language": "python",
     "metadata": {},
     "outputs": []
    },
    {
     "cell_type": "code",
     "collapsed": false,
     "input": [
      "f(-0.25)"
     ],
     "language": "python",
     "metadata": {},
     "outputs": []
    },
    {
     "cell_type": "code",
     "collapsed": false,
     "input": [
      "f(1.25)"
     ],
     "language": "python",
     "metadata": {},
     "outputs": []
    },
    {
     "cell_type": "heading",
     "level": 3,
     "metadata": {},
     "source": [
      "Implementaci\u00f3n"
     ]
    },
    {
     "cell_type": "code",
     "collapsed": false,
     "input": [
      "def biseccion(func, a, b, stop):\n",
      "    x = (a + b)/2\n",
      "    \n",
      "    assert func(a)*func(b) < 0, \"El signo de la funci\u00f3n en los extremos deber\u00eda de ser diferente\"\n",
      "    assert func(a) != 0, \"La ra\u00edz es %.5f\" % a\n",
      "    assert func(b) != 0, \"La ra\u00edz es %.5f\" % b\n",
      "    \n",
      "    print \"%s\\t%12s\\t%12s\" % (\"k\", \"I(a,b)\", \"x\")\n",
      "    print \"%d\\tI(%.5f, %.5f)\\t%.5f\" % (0,a, b, x)\n",
      "    \n",
      "    for k in range(stop):        \n",
      "        f_x = func(x)\n",
      "        f_a = func(a)\n",
      "        f_b = func(b)        \n",
      "        \n",
      "        if(f_a*f_x < 0):\n",
      "            a, b = a, x\n",
      "        elif(f_x*f_b < 0):\n",
      "            a, b = x, b\n",
      "        x = (a+b)/2\n",
      "        \n",
      "        print \"%d\\tI(%.5f, %.5f)\\t%.12f\" % (k+1, a, b, x)"
     ],
     "language": "python",
     "metadata": {},
     "outputs": [],
     "prompt_number": 2
    },
    {
     "cell_type": "code",
     "collapsed": false,
     "input": [
      "biseccion(func = f, a = -0.25, b = 1.25, stop = 10)"
     ],
     "language": "python",
     "metadata": {},
     "outputs": []
    },
    {
     "cell_type": "heading",
     "level": 3,
     "metadata": {},
     "source": [
      "Ejercicio:Implementaci\u00f3n con `Numpy`"
     ]
    },
    {
     "cell_type": "markdown",
     "metadata": {},
     "source": [
      "Observa lo siguiente:"
     ]
    },
    {
     "cell_type": "code",
     "collapsed": false,
     "input": [
      "f(np.array([0,1,2]))"
     ],
     "language": "python",
     "metadata": {},
     "outputs": []
    },
    {
     "cell_type": "markdown",
     "metadata": {},
     "source": [
      "<div class=\"alert alert-info\">\n",
      "**Ejercicio** Reescribe usando `numpy` la funci\u00f3n `biseccion`\n",
      "</div>"
     ]
    },
    {
     "cell_type": "markdown",
     "metadata": {},
     "source": [
      "<div class=\"alert alert-info\">\n",
      "**Ejercicio** Reescribe usando `GNU/Octave` la funci\u00f3n `biseccion` usando la celda que sigue. Abre el `docker` de `GNU/Octave` y prueba el algoritmo.\n",
      "</div>"
     ]
    },
    {
     "cell_type": "markdown",
     "metadata": {},
     "source": [
      "\n",
      "> % Pon aqu\u00ed el c\u00f3digo en GNU/Octave\n",
      "\n",
      ">function [raiz] = biseccion(func,a, b, stop)\n",
      ">    ...\n",
      ">\n",
      ">    raiz = \n",
      ">    % fin de la funci\u00f3n"
     ]
    },
    {
     "cell_type": "markdown",
     "metadata": {},
     "source": [
      "Se puede invocar desde la consola de `octave` como\n",
      "\n",
      "> [raiz, k ] = biseccion(func, a, b, stop)"
     ]
    },
    {
     "cell_type": "heading",
     "level": 2,
     "metadata": {},
     "source": [
      "Una mejor manera de detenerse"
     ]
    },
    {
     "cell_type": "markdown",
     "metadata": {},
     "source": [
      "Ser\u00eda mejor detenerse no con un `stop`, si no cuando la soluci\u00f3n est\u00e9 lo suficientemente cerca de la soluci\u00f3n real."
     ]
    },
    {
     "cell_type": "markdown",
     "metadata": {},
     "source": [
      "N\u00f3tese que en cada paso, la norma del intervalo es\n",
      "\n",
      "$$\n",
      "|I^{(k)}| \\equiv b^k - a^k\n",
      "$$\n",
      "\n",
      "contiene a la ra\u00edz $r$."
     ]
    },
    {
     "cell_type": "markdown",
     "metadata": {},
     "source": [
      "Por cada iteraci\u00f3n $k$, la norma se divide por $2$:\n",
      "\n",
      "$$\n",
      "|I^{(k)}| = \\left(\\frac{1}{2}\\right)^k |I^0|\n",
      "$$"
     ]
    },
    {
     "cell_type": "markdown",
     "metadata": {},
     "source": [
      "Entonces, si definimos el _error_ como \n",
      "\n",
      "$$\n",
      "|e^k| \\equiv |x^k - r| \n",
      "$$\n",
      "\n",
      "tenemos que\n",
      "\n",
      "$$\n",
      "|e^k| < \\frac{1}{2}|I^k| = \\left(\\frac{1}{2}\\right)^{k+1} (b-a)\n",
      "$$"
     ]
    },
    {
     "cell_type": "markdown",
     "metadata": {},
     "source": [
      "Para garantizar que $|e^k| < tol$, donde $tol$ es la tolerancia deseada, basta con llevar a cabo $k_{min}$  iteraciones, donde\n",
      "\n",
      "$$\n",
      "k_{min} > log_2\\left(\\frac{b-a}{tol}\\right) - 1\n",
      "$$"
     ]
    },
    {
     "cell_type": "code",
     "collapsed": false,
     "input": [
      "def biseccion(func, a, b, tolerancia, stop):\n",
      "    k = 0\n",
      "    \n",
      "    x = (a + b)/2\n",
      "    \n",
      "    I = (b - a)/2\n",
      "    \n",
      "    assert func(a)*func(b) < 0, \"El signo de la funci\u00f3n en los extremos deber\u00eda de ser diferente\"\n",
      "    assert func(a) != 0, \"La ra\u00edz es %.5f\" % a\n",
      "    assert func(b) != 0, \"La ra\u00edz es %.5f\" % b\n",
      "    \n",
      "    print \"%s\\t%12s\\t%12s\" % (\"k\",\"I(a,b)\", \"x\")\n",
      "    print \"%s\\tI(%.5f, %.5f)\\t%.5f\" % (\"0\",a, b, x)\n",
      "    \n",
      "    while I >= tolerancia and k <= stop:\n",
      "        k = k + 1\n",
      "        \n",
      "        f_x = func(x)\n",
      "        f_a = func(a)\n",
      "        f_b = func(b)        \n",
      "        \n",
      "        \n",
      "        if(f_a*f_x < 0):\n",
      "            a, b = a, x\n",
      "        elif(f_x*f_b < 0):\n",
      "            a, b = x, b\n",
      "        \n",
      "        x = (a+b)/2\n",
      "        \n",
      "        I = (b - a)/2\n",
      "        \n",
      "        print \"%d\\tI(%.5f, %.5f)\\t%.12f\" % (k,a, b, x)"
     ],
     "language": "python",
     "metadata": {},
     "outputs": [],
     "prompt_number": 3
    },
    {
     "cell_type": "code",
     "collapsed": false,
     "input": [
      "biseccion(func = f, a = -0.25, b = 1.25, tolerancia = 1e-4, stop = 100)"
     ],
     "language": "python",
     "metadata": {},
     "outputs": []
    },
    {
     "cell_type": "markdown",
     "metadata": {},
     "source": [
      "<div class=\"alert alert-info\">\n",
      "**Ejercicio** Reescribe usando `numpy` la funci\u00f3n `biseccion`\n",
      "</div>"
     ]
    },
    {
     "cell_type": "markdown",
     "metadata": {},
     "source": [
      "<div class=\"alert alert-info\">\n",
      "**Ejercicio** Reescribe usando `GNU/Octave` la funci\u00f3n `biseccion` usando la celda que sigue. Abre el `docker` de `GNU/Octave` y prueba el algoritmo.\n",
      "</div>"
     ]
    },
    {
     "cell_type": "heading",
     "level": 2,
     "metadata": {},
     "source": [
      "M\u00e9todo de Newton"
     ]
    },
    {
     "cell_type": "markdown",
     "metadata": {},
     "source": [
      "Podemos dise\u00f1ar un algoritmo m\u00e1s eficiente que el **m\u00e9todo de la bisecci\u00f3n** si incorporamos m\u00e1s informaci\u00f3n que el cambio de signo de $f$. En el **m\u00e9todo de Newton** se incorpora el valor de $f(x)$ y el valor de la derivada de $f$: $f'(x)$. La ecuaci\u00f3n de la tangente a la funci\u00f3n $f$ en $x$ es:"
     ]
    },
    {
     "cell_type": "markdown",
     "metadata": {},
     "source": [
      "$$\n",
      "y(x) = f(x^{(k)}) + f'(x^{(k)})\\cdot(x-x^{(k)})\n",
      "$$"
     ]
    },
    {
     "cell_type": "markdown",
     "metadata": {},
     "source": [
      "Entonces, si $y(x^{(k+1)}) = 0$, tenemos:"
     ]
    },
    {
     "cell_type": "markdown",
     "metadata": {},
     "source": [
      "$$\n",
      "x^{(k+1)} = x^{(k)} - \\frac{f({(k)})}{f'(x^{(k)})}, \\qquad k \\geq 0, \\quad f'(x^{(k)}) \\neq 0\n",
      "$$"
     ]
    },
    {
     "cell_type": "markdown",
     "metadata": {},
     "source": [
      "<div class=\"alert alert-info\">\n",
      "**Ejercicio**: \u00bfCu\u00e1l es la serie de Taylor de $f$ alrededor de un punto cualesquiera $x$? \u00bfQu\u00e9 te dice esto de la ecuaci\u00f3n iterativa de Newton?\n",
      "</div>"
     ]
    },
    {
     "cell_type": "markdown",
     "metadata": {},
     "source": [
      "<div class=\"alert alert-danger\">\n",
      "**NOTA** En general el m\u00e9todo de Newton no converge para todas las posibles elecciones de $x^0$, si no para aquellos valores lo _suficientemente_ cerca de $r$...\n",
      "</div>"
     ]
    },
    {
     "cell_type": "markdown",
     "metadata": {},
     "source": [
      "<div class=\"alert alert-warning\">\n",
      "**NOTA** En la pr\u00e1ctica uno puede establecer $x^0$ inspeccionando la gr\u00e1fica visualmente, o usando unas cuantas iteraciones del m\u00e9todo de la bisecci\u00f3n...\n",
      "</div>"
     ]
    },
    {
     "cell_type": "markdown",
     "metadata": {},
     "source": [
      "Antes de continuar, veamos algunas cosas relacionadas con el c\u00e1lculo simb\u00f3lico..."
     ]
    },
    {
     "cell_type": "code",
     "collapsed": false,
     "input": [
      "#################################################################################\n",
      "##  Usaremos las siguientes librer\u00edas:\n",
      "##    symbols,  # Define los s\u00edmbolos matem\u00e1ticos\n",
      "##    diff,     # Deriva expresiones\n",
      "##    integrate,# Integra expresiones\n",
      "##    Rational, # Define los n\u00fameros racionales\n",
      "##    lambdify  # Convierte las expresiones simb\u00f3licas en funciones de Python\n",
      "#################################################################################\n",
      "\n",
      "import sympy as sym\n",
      "\n",
      "# Para que se vean bonitas\n",
      "from sympy.interactive import printing\n",
      "printing.init_printing(use_latex=True)"
     ],
     "language": "python",
     "metadata": {},
     "outputs": [],
     "prompt_number": 4
    },
    {
     "cell_type": "code",
     "collapsed": false,
     "input": [
      "x = sym.Symbol('x')"
     ],
     "language": "python",
     "metadata": {},
     "outputs": [],
     "prompt_number": 4
    },
    {
     "cell_type": "code",
     "collapsed": false,
     "input": [
      "x"
     ],
     "language": "python",
     "metadata": {},
     "outputs": [
      {
       "latex": [
        "$$x$$"
       ],
       "metadata": {},
       "output_type": "pyout",
       "png": "[encoded data removed]",
       "prompt_number": 5,
       "text": [
        "x"
       ]
      }
     ],
     "prompt_number": 5
    },
    {
     "cell_type": "code",
     "collapsed": false,
     "input": [
      "#una expresi\u00f3n\n",
      "f =  x**2 - 1\n",
      "f"
     ],
     "language": "python",
     "metadata": {},
     "outputs": [
      {
       "latex": [
        "$$x^{2} - 1$$"
       ],
       "metadata": {},
       "output_type": "pyout",
       "png": "[encoded data removed]",
       "prompt_number": 9,
       "text": [
        " 2    \n",
        "x  - 1"
       ]
      }
     ],
     "prompt_number": 9
    },
    {
     "cell_type": "code",
     "collapsed": false,
     "input": [
      "type(f).__bases__"
     ],
     "language": "python",
     "metadata": {},
     "outputs": [
      {
       "metadata": {},
       "output_type": "pyout",
       "prompt_number": 11,
       "text": [
        "(sympy.core.expr.Expr, sympy.core.operations.AssocOp)"
       ]
      }
     ],
     "prompt_number": 11
    },
    {
     "cell_type": "code",
     "collapsed": false,
     "input": [
      "type(f).__bases__[0]  in (sym.expr.Expr, sym.operations.AssocOp)"
     ],
     "language": "python",
     "metadata": {},
     "outputs": [
      {
       "metadata": {},
       "output_type": "pyout",
       "prompt_number": 12,
       "text": [
        "True"
       ]
      }
     ],
     "prompt_number": 12
    },
    {
     "cell_type": "code",
     "collapsed": false,
     "input": [
      "df = sym.diff(f, x)\n",
      "df"
     ],
     "language": "python",
     "metadata": {},
     "outputs": [
      {
       "latex": [
        "$$2 x$$"
       ],
       "metadata": {},
       "output_type": "pyout",
       "png": "[encoded data removed]",
       "prompt_number": 13,
       "text": [
        "2\u22c5x"
       ]
      }
     ],
     "prompt_number": 13
    },
    {
     "cell_type": "code",
     "collapsed": false,
     "input": [
      "F = sym.lambdify(x,f, modules=\"numpy\")"
     ],
     "language": "python",
     "metadata": {},
     "outputs": [],
     "prompt_number": 14
    },
    {
     "cell_type": "code",
     "collapsed": false,
     "input": [
      "F"
     ],
     "language": "python",
     "metadata": {},
     "outputs": [
      {
       "metadata": {},
       "output_type": "pyout",
       "prompt_number": 15,
       "text": [
        "<function numpy.<lambda>>"
       ]
      }
     ],
     "prompt_number": 15
    },
    {
     "cell_type": "code",
     "collapsed": false,
     "input": [
      "F(-0.3)"
     ],
     "language": "python",
     "metadata": {},
     "outputs": [
      {
       "latex": [
        "$$-0.91$$"
       ],
       "metadata": {},
       "output_type": "pyout",
       "png": "[encoded data removed]",
       "prompt_number": 16,
       "text": [
        "-0.91"
       ]
      }
     ],
     "prompt_number": 16
    },
    {
     "cell_type": "code",
     "collapsed": false,
     "input": [
      "DF = sym.lambdify(x, df, modules=\"numpy\")"
     ],
     "language": "python",
     "metadata": {},
     "outputs": [],
     "prompt_number": 17
    },
    {
     "cell_type": "code",
     "collapsed": false,
     "input": [
      "DF(1)"
     ],
     "language": "python",
     "metadata": {},
     "outputs": [
      {
       "latex": [
        "$$2$$"
       ],
       "metadata": {},
       "output_type": "pyout",
       "png": "[encoded data removed]",
       "prompt_number": 18,
       "text": [
        "2"
       ]
      }
     ],
     "prompt_number": 18
    },
    {
     "cell_type": "code",
     "collapsed": false,
     "input": [
      "def newton(f, x0, tolerancia, stop):\n",
      "    assert type(f).__bases__[0]  in (sym.expr.Expr, sym.operations.AssocOp), \"La funci\u00f3n no es una expresi\u00f3n simb\u00f3lica ... :/\"\n",
      "    \n",
      "    # Derivamos la expresi\u00f3n\n",
      "    df = sym.diff(f, x)\n",
      "    \n",
      "    # Convertimos en funciones las expresiones\n",
      "    F = sym.lambdify(x,f, modules=\"numpy\")\n",
      "    DF = sym.lambdify(x, df, modules=\"numpy\")\n",
      "    \n",
      "    # Inicializamos el contador\n",
      "    k = 0\n",
      "    \n",
      "    # Inicializamos abs(x1-x0) en un n\u00famero mayor que la tolerancia\n",
      "    diff = 1\n",
      "    print \"{: >5} {: >10} {: >10} {: >10} {: >11} {: >10}\".format(\"k\", \"x0\", \"F(x0)\", \"DF(x0)\", \"abs(x1-x0)\", \"x1\")\n",
      "    \n",
      "    while diff >= tolerancia and k <= stop:\n",
      "        k = k + 1\n",
      "\n",
      "        x1 = x0 - (float(F(x0)/DF(x0)))\n",
      "        print \"{: >5} {: >10.5f} {: >10.5f} {: >10.5f} {: >10.5f} {: >11.5f}\".format(k, x0, F(x0), DF(x0), diff, x1)\n",
      "        \n",
      "        diff = abs(x1 - x0)\n",
      "        \n",
      "        x0 = x1\n",
      "        \n",
      "    if k > stop:\n",
      "        print \"El m\u00e9todo de Newton no convergi\u00f3: para la tolerancia especificada, se alcanzaron el m\u00e1ximo n\u00famero de iteraciones\"\n",
      "    \n",
      "    print \"\\n\\nLa ra\u00edz es %2.12f\" % x0"
     ],
     "language": "python",
     "metadata": {},
     "outputs": [],
     "prompt_number": 5
    },
    {
     "cell_type": "markdown",
     "metadata": {},
     "source": [
      "<div class=\"alert alert-warning\">\n",
      "**NOTA**: Para entender el formato de impresi\u00f3n usado, lee esta [p\u00e1gina](https://docs.python.org/2.7/library/string.html#format-specification-mini-language).\n",
      "</div>"
     ]
    },
    {
     "cell_type": "code",
     "collapsed": false,
     "input": [
      "newton(f, x0=0.3, tolerancia=1e-12, stop=100)"
     ],
     "language": "python",
     "metadata": {},
     "outputs": [
      {
       "output_type": "stream",
       "stream": "stdout",
       "text": [
        "    k         x0      F(x0)     DF(x0)  abs(x1-x0)         x1\n",
        "    1    0.30000   -0.91000    0.60000    1.00000     1.81667\n",
        "    2    1.81667    2.30028    3.63333    1.51667     1.18356\n",
        "    3    1.18356    0.40082    2.36713    0.63310     1.01423\n",
        "    4    1.01423    0.02867    2.02847    0.16933     1.00010\n",
        "    5    1.00010    0.00020    2.00020    0.01413     1.00000\n",
        "    6    1.00000    0.00000    2.00000    0.00010     1.00000\n",
        "    7    1.00000    0.00000    2.00000    0.00000     1.00000\n",
        "\n",
        "\n",
        "La ra\u00edz es 1.000000000000\n"
       ]
      }
     ],
     "prompt_number": 23
    },
    {
     "cell_type": "markdown",
     "metadata": {},
     "source": [
      "Por supuesto que esto quiz\u00e1 no sea lo m\u00e1s r\u00e1pido y si queremos velocidad, es mejor proveer de la funci\u00f3n $f$ y de la derivada de esta $f'$ al m\u00e9todo"
     ]
    },
    {
     "cell_type": "markdown",
     "metadata": {},
     "source": [
      "<div class=\"alert alert-info\">\n",
      "**Ejercicio** Implementa el m\u00e9todo de **Newton** de tal manera que reciba funciones de `python` y no expresiones simb\u00f3licas de `sympy`\n",
      "</div>"
     ]
    },
    {
     "cell_type": "code",
     "collapsed": false,
     "input": [
      "def newton2(F, x0, tolerancia, stop):\n",
      "    assert type(F)==function, \"Formato no v\u00e1lido\"\n",
      "    \n",
      "    # Derivamos la expresi\u00f3n\n",
      "    DF= diff(F, x)\n",
      "    \n",
      "        \n",
      "    # Inicializamos el contador\n",
      "    k = 0\n",
      "    \n",
      "    # Inicializamos abs(x1-x0) en un n\u00famero mayor que la tolerancia\n",
      "    diff = 1\n",
      "    print \"{: >5} {: >10} {: >10} {: >10} {: >11} {: >10}\".format(\"k\", \"x0\", \"F(x0)\", \"DF(x0)\", \"abs(x1-x0)\", \"x1\")\n",
      "    \n",
      "    while diff >= tolerancia and k <= stop:\n",
      "        k = k + 1\n",
      "\n",
      "        x1 = x0 - (float(F(x0)/DF(x0)))\n",
      "        print \"{: >5} {: >10.5f} {: >10.5f} {: >10.5f} {: >10.5f} {: >11.5f}\".format(k, x0, F(x0), DF(x0), diff, x1)\n",
      "        \n",
      "        diff = abs(x1 - x0)\n",
      "        \n",
      "        x0 = x1\n",
      "        \n",
      "    if k > stop:\n",
      "        print \"El m\u00e9todo de Newton no convergi\u00f3: para la tolerancia especificada, se alcanzaron el m\u00e1ximo n\u00famero de iteraciones\"\n",
      "    \n",
      "    print \"\\n\\nLa ra\u00edz es %2.12f\" % x0"
     ],
     "language": "python",
     "metadata": {},
     "outputs": [],
     "prompt_number": 6
    },
    {
     "cell_type": "code",
     "collapsed": false,
     "input": [
      "f = lambda x: x**2 -1\n",
      "type(f)\n"
     ],
     "language": "python",
     "metadata": {},
     "outputs": [
      {
       "metadata": {},
       "output_type": "pyout",
       "prompt_number": 8,
       "text": [
        "function"
       ]
      }
     ],
     "prompt_number": 8
    },
    {
     "cell_type": "markdown",
     "metadata": {},
     "source": [
      "<div class=\"alert alert-info\">\n",
      "**Ejercicio** Muestre la gr\u00e1fica y encuentre los ceros (ra\u00edces) usando ambos m\u00e9todos de las siguientes funciones:\n",
      "\n",
      "\n",
      "$$\n",
      "f(x) = e^{-x} - x \\qquad  x_0 = 0\n",
      "$$\n",
      "\n",
      "$\\\\$\n",
      "\n",
      "\n",
      "$$\n",
      "f(x) = x^10 - 1 \\qquad x_0 = 0.5\n",
      "$$\n",
      "\n",
      "$\\\\$\n",
      "\n",
      "\n",
      "\n",
      "\u00bfCu\u00e1ntos pasos se requieren para que converja con una tolerancia de $10^{-10}$?\n",
      "</div>"
     ]
    },
    {
     "cell_type": "code",
     "collapsed": false,
     "input": [],
     "language": "python",
     "metadata": {},
     "outputs": []
    },
    {
     "cell_type": "markdown",
     "metadata": {},
     "source": [
      "<div class=\"alert alert-info\">\n",
      "**Ejercicio** Si existen varias ra\u00edces el m\u00e9todo de la bisecci\u00f3n no encontrar\u00e1 algunas. Dise\u00f1e un programa que reciba una funci\u00f3n $f$, un intervalo $(a, b)$ y un n\u00famero entero $n$. La funci\u00f3n debe de dividir el intervalo en subintervalos donde ocurre un cambio de signo. Ll\u00e1melo `find_brackets(f, a, b, n)`. \u00bfEn qu\u00e9 casos de funciones cree que no funcionar\u00e1?\n",
      "</div>"
     ]
    },
    {
     "cell_type": "code",
     "collapsed": false,
     "input": [
      "def find_brackets(f,a,b,n):\n",
      "    "
     ],
     "language": "python",
     "metadata": {},
     "outputs": []
    },
    {
     "cell_type": "markdown",
     "metadata": {},
     "source": [
      "<div class=\"alert alert-info\">\n",
      "**Ejercicio** Pruebe su m\u00e9todo con la funci\u00f3n \n",
      "\n",
      "\n",
      "\n",
      "$$\n",
      "f(x) = \\sin(10x) + \\cos(3x) \\qquad 3 \\leq x \\leq 6\n",
      "$$\n",
      "\n",
      "\n",
      "\u00bfCu\u00e1l es el valor \u00f3ptimo de $n$?\n",
      "</div>"
     ]
    },
    {
     "cell_type": "markdown",
     "metadata": {},
     "source": [
      "<div class=\"alert alert-info\">\n",
      "**Ejercicio** Encuentre las ra\u00edces de esa funci\u00f3n con el m\u00e9todo de la bisecci\u00f3n.\n",
      "\n",
      "<br>\n",
      "_Hint_: Tendr\u00e1s que \"disparar\" varias llamadas al m\u00e9todo de la bisecci\u00f3n.\n",
      "</div>"
     ]
    },
    {
     "cell_type": "heading",
     "level": 2,
     "metadata": {},
     "source": [
      "Problema / Tarea"
     ]
    },
    {
     "cell_type": "markdown",
     "metadata": {},
     "source": [
      "<div class=\"alert alert-warning\">\n",
      "El problema siguiente fu\u00e9 tomado del libro **Applied Numerical Methods with Matlab for Engineers and Scientists** de _Steven C. Chapra_\n",
      "</div>"
     ]
    },
    {
     "cell_type": "markdown",
     "metadata": {},
     "source": [
      "Estudios m\u00e9dicos han determinado que un usuario del _bungee_ puede sufrir una lesi\u00f3n seria de las v\u00e9rtebras su la velocidad de ca\u00edda libre excede los $v = 36\\ m/s$ luego de $t= 4\\ s$ de ca\u00edda. Se te pide calcular la masa $m$ m\u00e1xima a la cual se cumple esta velocidad si se supone un coeficiente de arrastre de $c_d = 0.25\\ kg/m$."
     ]
    },
    {
     "cell_type": "markdown",
     "metadata": {},
     "source": [
      "La soluci\u00f3n anal\u00edtica es\n",
      "\n",
      "$$\n",
      "v(t) = \\sqrt{\\frac{g m}{c_d}}\\tanh\\left(\\sqrt{\\frac{g c_d}{m}}t\\right)\n",
      "$$"
     ]
    },
    {
     "cell_type": "markdown",
     "metadata": {},
     "source": [
      "<div class=\"alert alert-info\">\n",
      "**0.** Verifica que las unidades est\u00e9n bien\n",
      "</div>"
     ]
    },
    {
     "cell_type": "markdown",
     "metadata": {},
     "source": [
      "<div class=\"alert alert-info\">\n",
      "**1.** Intenta despejar el valor de $m$ \u00bfSe te ocurre alguna idea?\n",
      "</div>"
     ]
    },
    {
     "cell_type": "markdown",
     "metadata": {},
     "source": [
      "Podemos usar lo aprendido en esta secci\u00f3n y replantear el problema de la siguiente manera:\n",
      "\n",
      "$$\n",
      "f(m) = \\sqrt{\\frac{g m}{c_d}}\\tanh\\left(\\sqrt{\\frac{g c_d}{m}}t\\right) - v(t)\n",
      "$$"
     ]
    },
    {
     "cell_type": "markdown",
     "metadata": {},
     "source": [
      "<div class=\"alert alert-info\">\n",
      "**2.** Trata de estimar el valor de $m$ usando un m\u00e9todo gr\u00e1fico. El valor de $g$ es de $9.8\\ m/s^2$.\n",
      "</div>"
     ]
    },
    {
     "cell_type": "code",
     "collapsed": false,
     "input": [
      "from math import *\n",
      "import numpy as np\n",
      "import matplotlib.pyplot as plt\n",
      "g=9.8\n",
      "t=4\n",
      "v=36\n",
      "cd=0.25\n",
      "M=np.linspace(0,200,1000)\n",
      "F=np.sqrt(g*M/cd)*np.tanh(np.sqrt(g*cd/M)*t)-36\n",
      "plt.plot(M,F)\n"
     ],
     "language": "python",
     "metadata": {},
     "outputs": [
      {
       "metadata": {},
       "output_type": "pyout",
       "prompt_number": 13,
       "text": [
        "[<matplotlib.lines.Line2D at 0x7f7e9a18cbd0>]"
       ]
      },
      {
       "metadata": {},
       "output_type": "display_data",
       "png": "[encoded data removed]",
       "text": [
        "<matplotlib.figure.Figure at 0x7f7e9a217890>"
       ]
      }
     ],
     "prompt_number": 13
    },
    {
     "cell_type": "markdown",
     "metadata": {},
     "source": [
      "<div class=\"alert alert-info\">\n",
      "**3.** Resu\u00e9lvelo usando el m\u00e9todo de la `biseccion` \u00bfCu\u00e1ntos pasos necesitas para converger? \u00bfCu\u00e1l fu\u00e9 tu intervalo inicial? \u00bfTu m\u00e9todo `find_brackets` funciona en este caso?\n",
      "</div>"
     ]
    },
    {
     "cell_type": "markdown",
     "metadata": {},
     "source": [
      "<div class=\"alert alert-info\">\n",
      "**4.** Calcula a mano la derivada de $f(m)$. \u00bfCoincide con la derivada simb\u00f3lica?.\n",
      "</div>"
     ]
    },
    {
     "cell_type": "markdown",
     "metadata": {},
     "source": [
      "<div class=\"alert alert-info\">\n",
      "**5.** Utiliza el m\u00e9todo de `newton` para resolverlo. \u00bfCu\u00e1ntos pasos necesitaste para converger? \u00bfQu\u00e9 valor de $x_0$ utilizaste?\n",
      "</div>"
     ]
    },
    {
     "cell_type": "markdown",
     "metadata": {},
     "source": [
      "Como viste calcular la derivada no fu\u00e9 trivial y podr\u00eda causar un problema si no tuvieras al alcance un calculador simb\u00f3lico (como en tu instalaci\u00f3n de `GNU/Octave`, aunque si `GNU/Octave` si puede hacer c\u00e1lculo simb\u00f3lico). Existe un m\u00e9todo similar \n",
      "al de `newton` que **no** utiliza el c\u00e1lculo directo de la derivada de la funci\u00f3n, se llama _m\u00e9todo de la secante_."
     ]
    },
    {
     "cell_type": "markdown",
     "metadata": {},
     "source": [
      "La idea es aproximar la derivada por una diferencia \"hacia atr\u00e1s\":"
     ]
    },
    {
     "cell_type": "markdown",
     "metadata": {},
     "source": [
      "$$\n",
      "f'(x) \\approx \\frac{f(x_{i-1}) - f(x_i)}{x_{i-1} - x_i}\n",
      "$$"
     ]
    },
    {
     "cell_type": "markdown",
     "metadata": {},
     "source": [
      "y sustituir esta expresi\u00f3n en la f\u00f3rmula del m\u00e9todo de Newton."
     ]
    },
    {
     "cell_type": "markdown",
     "metadata": {},
     "source": [
      "<div class=\"alert alert-info\">\n",
      "**6.** Implementa el m\u00e9todo de la secante en `python` y en `GNU Octave`, ll\u00e1malo `secante(f, x1, x0, tolerancia, stop)`. Resuelve el problema. \u00bfC\u00f3mo se compara con los otros m\u00e9todos?\n",
      "</div>"
     ]
    },
    {
     "cell_type": "code",
     "collapsed": false,
     "input": [
      "def secante(f,x1,x0,tolerancia,stop)"
     ],
     "language": "python",
     "metadata": {},
     "outputs": []
    },
    {
     "cell_type": "markdown",
     "metadata": {},
     "source": [
      "Un problema con este m\u00e9todo es que necesitas dos estimados iniciales de $x$ (en el m\u00e9todo `x1` y `x0`). Se puede obtener un m\u00e9todo mejorado de la siguiente manera:"
     ]
    },
    {
     "cell_type": "markdown",
     "metadata": {},
     "source": [
      "$$\n",
      "f'(x_i) \\approx \\frac{f(x_i + \\delta x_i) - f(x_i)}{\\delta x_i}\n",
      "$$"
     ]
    },
    {
     "cell_type": "markdown",
     "metadata": {},
     "source": [
      "donde $\\delta$ es una perturbaci\u00f3n peque\u00f1a alrededor de $x_i$."
     ]
    },
    {
     "cell_type": "markdown",
     "metadata": {},
     "source": [
      "<div class=\"alert alert-info\">\n",
      "**7.** Implem\u00e9nta este m\u00e9todo, ll\u00e1malo `secante_modificado(f, x0, tolerancia, stop)`. Usando un $x_0 = 50\\ kg$ y un $\\delta$ de $10^{-6}$, soluciona el problema.\n",
      "</div>"
     ]
    }
   ],
   "metadata": {}
  }
 ]
}