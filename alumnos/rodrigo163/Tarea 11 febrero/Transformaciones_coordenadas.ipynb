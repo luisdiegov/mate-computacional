{
 "metadata": {
  "name": "",
  "signature": "sha256:e62ff51bf06f208c0f02989c6d6d47a188a67da1c40dffc19a08bab3736bb1e1"
 },
 "nbformat": 3,
 "nbformat_minor": 0,
 "worksheets": [
  {
   "cells": [
    {
     "cell_type": "heading",
     "level": 1,
     "metadata": {},
     "source": [
      "Funci\u00f3n para pasar de coordenadas cartesianas a esf\u00e9ricas"
     ]
    },
    {
     "cell_type": "code",
     "collapsed": false,
     "input": [
      "from math import *\n",
      "from IPython.html import widgets\n",
      "from IPython.html.widgets import *"
     ],
     "language": "python",
     "metadata": {},
     "outputs": [],
     "prompt_number": 33
    },
    {
     "cell_type": "code",
     "collapsed": false,
     "input": [
      "def cartesianas_a_esfericas(x,y,z):\n",
      "    r=sqrt(x**2+y**2+z**2)\n",
      "    theta=acos(z/r)\n",
      "    phi=asin(y/(r*sin(theta)))\n",
      "    return (r,theta,phi)"
     ],
     "language": "python",
     "metadata": {},
     "outputs": [],
     "prompt_number": 29
    },
    {
     "cell_type": "code",
     "collapsed": false,
     "input": [
      "interact(cartesianas_a_esfericas,x=50,y=50,z=50)"
     ],
     "language": "python",
     "metadata": {},
     "outputs": [],
     "prompt_number": 34
    }
   ],
   "metadata": {}
  }
 ]
}