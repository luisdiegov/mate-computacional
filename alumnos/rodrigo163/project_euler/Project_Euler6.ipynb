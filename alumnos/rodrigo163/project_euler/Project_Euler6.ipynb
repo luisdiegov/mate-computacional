{
 "metadata": {
  "name": "",
  "signature": "sha256:c971eed313e123a4fd95bfeeb52a13417912b7ced981896856de34d767acd1a6"
 },
 "nbformat": 3,
 "nbformat_minor": 0,
 "worksheets": [
  {
   "cells": [
    {
     "cell_type": "heading",
     "level": 1,
     "metadata": {},
     "source": [
      "Suma de la diferencia de cuadrados"
     ]
    },
    {
     "cell_type": "markdown",
     "metadata": {},
     "source": [
      "Objetivo: Encontrar la diferencia entre la suma de los primeros 100 naturales al cuadrado y la suma de los cuadrados de los primeros 100 naturales. "
     ]
    },
    {
     "cell_type": "code",
     "collapsed": false,
     "input": [
      "#Construimos la primera suma\n",
      "primera_suma=0\n",
      "def suma_n_naturales(n):\n",
      "    primera_suma=(n*(n+1))/2\n",
      "    return primera_suma\n",
      "suma_n_naturales(100)\n",
      "primera_suma=(suma_n_naturales(100))**2\n",
      "primera_suma"
     ],
     "language": "python",
     "metadata": {},
     "outputs": [
      {
       "metadata": {},
       "output_type": "pyout",
       "prompt_number": 33,
       "text": [
        "25502500"
       ]
      }
     ],
     "prompt_number": 33
    },
    {
     "cell_type": "code",
     "collapsed": false,
     "input": [
      "#Construimos la segunda suma\n",
      "segunda_suma=0\n",
      "for i in range(0,101):\n",
      "    segunda_suma=segunda_suma+i**2"
     ],
     "language": "python",
     "metadata": {},
     "outputs": [],
     "prompt_number": 46
    },
    {
     "cell_type": "code",
     "collapsed": false,
     "input": [
      "sumafinal=primera_suma - segunda_suma"
     ],
     "language": "python",
     "metadata": {},
     "outputs": [],
     "prompt_number": 47
    },
    {
     "cell_type": "code",
     "collapsed": false,
     "input": [
      "print sumafinal"
     ],
     "language": "python",
     "metadata": {},
     "outputs": [
      {
       "output_type": "stream",
       "stream": "stdout",
       "text": [
        "25164150\n"
       ]
      }
     ],
     "prompt_number": 48
    }
   ],
   "metadata": {}
  }
 ]
}