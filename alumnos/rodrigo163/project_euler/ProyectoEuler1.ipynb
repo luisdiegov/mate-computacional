{
 "metadata": {
  "name": "",
  "signature": "sha256:16af9c7ca2a9721af7c1e683ff6ece5868779e034efda2e8dd7a6e2497a7c519"
 },
 "nbformat": 3,
 "nbformat_minor": 0,
 "worksheets": [
  {
   "cells": [
    {
     "cell_type": "heading",
     "level": 1,
     "metadata": {},
     "source": [
      "M\u00faltiplos de 3 y de 5"
     ]
    },
    {
     "cell_type": "markdown",
     "metadata": {},
     "source": [
      "Tenemos que encontrar la suma de todos los m\u00faltiplos de 3 o de 5 positivos y estrictamente menores a 1000"
     ]
    },
    {
     "cell_type": "markdown",
     "metadata": {},
     "source": [
      "Como solo tenemos que verificar los primeros 1000 naturales, podemos hacerlo exaustivamente probando cada n\u00famero para ver si cumple las condiciones que queremos. En caso de que nuestro \"test\" resulte TRUE, lo agregamos a una variable que lleva la suma."
     ]
    },
    {
     "cell_type": "code",
     "collapsed": false,
     "input": [
      "suma=0\n",
      "def prueba_y_suma(n):\n",
      "    if (n%3==0 or n%5==0) and n<1000:\n",
      "        suma=suma+n\n",
      "        return prueba_y_suma(n+1)\n",
      "    else:\n",
      "        if n==1000:\n",
      "        print suma\n",
      "        return suma\n",
      "        else: prueba_y_suma(n+1)\n",
      "    "
     ],
     "language": "python",
     "metadata": {},
     "outputs": [
      {
       "ename": "IndentationError",
       "evalue": "expected an indented block (<ipython-input-1-c7396884b54f>, line 8)",
       "output_type": "pyerr",
       "traceback": [
        "\u001b[1;36m  File \u001b[1;32m\"<ipython-input-1-c7396884b54f>\"\u001b[1;36m, line \u001b[1;32m8\u001b[0m\n\u001b[1;33m    print suma\u001b[0m\n\u001b[1;37m        ^\u001b[0m\n\u001b[1;31mIndentationError\u001b[0m\u001b[1;31m:\u001b[0m expected an indented block\n"
       ]
      }
     ],
     "prompt_number": 1
    },
    {
     "cell_type": "markdown",
     "metadata": {},
     "source": [
      "Segundo intento usando FOR y los operadores vistos en clase. "
     ]
    },
    {
     "cell_type": "code",
     "collapsed": false,
     "input": [
      "suma=0"
     ],
     "language": "python",
     "metadata": {},
     "outputs": [],
     "prompt_number": 6
    },
    {
     "cell_type": "code",
     "collapsed": false,
     "input": [
      "for i in xrange(1,1001,1): #repasamos cada objeto en la lista creada por range y le aplicamos la prueba.\n",
      "    if i%3==0 or i%5==0:\n",
      "            suma=suma+i\n",
      "    else:\n",
      "        pass\n",
      "print suma"
     ],
     "language": "python",
     "metadata": {},
     "outputs": [
      {
       "output_type": "stream",
       "stream": "stdout",
       "text": [
        "234168\n"
       ]
      }
     ],
     "prompt_number": 7
    }
   ],
   "metadata": {}
  }
 ]
}