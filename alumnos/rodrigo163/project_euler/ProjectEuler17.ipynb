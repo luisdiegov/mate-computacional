{
 "metadata": {
  "name": "",
  "signature": "sha256:e0e468c695f24b329064e9f8ad79093b189313400c122f60b0133a6ee93c0580"
 },
 "nbformat": 3,
 "nbformat_minor": 0,
 "worksheets": [
  {
   "cells": [
    {
     "cell_type": "heading",
     "level": 1,
     "metadata": {},
     "source": [
      "Contar letras en n\u00fameros"
     ]
    },
    {
     "cell_type": "markdown",
     "metadata": {},
     "source": [
      "Objetivo: \u00bfCuantas letras necesitamos para escribir del 1 al 1000?"
     ]
    },
    {
     "cell_type": "code",
     "collapsed": false,
     "input": [
      "#Primero definimos la listas que vamos a usar para convertir de decimales a letras.\n",
      "#Tienen el 'length' correspondiente a cada n\u00famero. \n",
      "#Primero ponemos los casos particulares, que son los primeros 20 n\u00fameros\n",
      "#Al cero le asignamos \"0\" ya que no se menciona al escribir con letras\n",
      "del_0_al_19=[0,3,3,5,4,4,3,5,5,4,3,6,6,8,8,7,7,9,8,8]\n",
      "\n",
      "#Cuando el n\u00famero es mayor a 100, le agregamos un \"hundred and\"\n",
      "cienes_y_and=10\n",
      "#Contamos ahora los dem\u00e1s de 10 en 10\n",
      "del_20_al_90=[6,6,5,5,5,7,6,6]\n",
      "hundred=7\n",
      "thousand=8\n",
      "suma=0\n",
      "\n",
      "for i in range(1,1000):\n",
      "#Para cada n\u00famero conseguimos su longitud correspondiente a cada lista    \n",
      "    x=i%10\n",
      "    y=(i%100 - x)/10\n",
      "    z=(i%1000) - (y*10 - x)/100\n",
      "    \n",
      "    if z!= 0:\n",
      "        suma+=del_0_al_19[z] + hundred\n",
      "        if x!=0 or y!=0: \n",
      "            suma+=3 # del and que necesitamos en este caso\n",
      "    if y == 0 or y == 1: suma+= del_0_al_19[y*10+x]\n",
      "    else: suma+=del_20_al_90[y]+del_0_al_19[x]\n",
      " \n",
      "suma+=del_0_al_19[1]+thousand\n",
      "print suma\n",
      "        "
     ],
     "language": "python",
     "metadata": {},
     "outputs": [
      {
       "ename": "IndexError",
       "evalue": "list index out of range",
       "output_type": "pyerr",
       "traceback": [
        "\u001b[1;31m---------------------------------------------------------------------------\u001b[0m\n\u001b[1;31mIndexError\u001b[0m                                Traceback (most recent call last)",
        "\u001b[1;32m<ipython-input-2-3a38acf8cc19>\u001b[0m in \u001b[0;36m<module>\u001b[1;34m()\u001b[0m\n\u001b[0;32m     20\u001b[0m \u001b[1;33m\u001b[0m\u001b[0m\n\u001b[0;32m     21\u001b[0m     \u001b[1;32mif\u001b[0m \u001b[0mz\u001b[0m\u001b[1;33m!=\u001b[0m \u001b[1;36m0\u001b[0m\u001b[1;33m:\u001b[0m\u001b[1;33m\u001b[0m\u001b[0m\n\u001b[1;32m---> 22\u001b[1;33m         \u001b[0msuma\u001b[0m\u001b[1;33m+=\u001b[0m\u001b[0mdel_0_al_19\u001b[0m\u001b[1;33m[\u001b[0m\u001b[0mz\u001b[0m\u001b[1;33m]\u001b[0m \u001b[1;33m+\u001b[0m \u001b[0mhundred\u001b[0m\u001b[1;33m\u001b[0m\u001b[0m\n\u001b[0m\u001b[0;32m     23\u001b[0m         \u001b[1;32mif\u001b[0m \u001b[0mx\u001b[0m\u001b[1;33m!=\u001b[0m\u001b[1;36m0\u001b[0m \u001b[1;32mor\u001b[0m \u001b[0my\u001b[0m\u001b[1;33m!=\u001b[0m\u001b[1;36m0\u001b[0m\u001b[1;33m:\u001b[0m\u001b[1;33m\u001b[0m\u001b[0m\n\u001b[0;32m     24\u001b[0m             \u001b[0msuma\u001b[0m\u001b[1;33m+=\u001b[0m\u001b[1;36m3\u001b[0m \u001b[1;31m# del and que necesitamos en este caso\u001b[0m\u001b[1;33m\u001b[0m\u001b[0m\n",
        "\u001b[1;31mIndexError\u001b[0m: list index out of range"
       ]
      }
     ],
     "prompt_number": 2
    },
    {
     "cell_type": "code",
     "collapsed": false,
     "input": [],
     "language": "python",
     "metadata": {},
     "outputs": []
    }
   ],
   "metadata": {}
  }
 ]
}