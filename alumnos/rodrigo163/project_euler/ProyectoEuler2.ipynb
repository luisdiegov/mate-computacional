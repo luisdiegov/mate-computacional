{
 "metadata": {
  "name": "",
  "signature": "sha256:1e46579c417e3f158333a685d16544202e36826e6d99e10f3cdf6cfe75d45fe5"
 },
 "nbformat": 3,
 "nbformat_minor": 0,
 "worksheets": [
  {
   "cells": [
    {
     "cell_type": "heading",
     "level": 1,
     "metadata": {},
     "source": [
      "N\u00fameros pares de Fibonacci"
     ]
    },
    {
     "cell_type": "markdown",
     "metadata": {},
     "source": [
      "Objetivo: Conseguir la suma de los n\u00fameros de Fibonacci PARES menores a 4000000"
     ]
    },
    {
     "cell_type": "code",
     "collapsed": false,
     "input": [
      "def fibonacci(n): #esta funci\u00f3n nos deber\u00eda dar el n-\u00e9simo n\u00famero de fibonacci. Funciona recursivamente. \n",
      "    if n==0:\n",
      "        return 0\n",
      "    elif n==1:\n",
      "        return 1\n",
      "    else: \n",
      "        return fibonacci(n-2)+fibonacci(n-1)\n",
      "#Algunos ejemplos de prueba\n",
      "print fibonacci(6)\n",
      "print fibonacci(3)"
     ],
     "language": "python",
     "metadata": {},
     "outputs": []
    },
    {
     "cell_type": "markdown",
     "metadata": {},
     "source": [
      "Ahora que podemos encontrarlos uno por uno, le iremos sumando a la variable SUMA cada n\u00famero par que nos encontremos. "
     ]
    },
    {
     "cell_type": "code",
     "collapsed": false,
     "input": [
      "suma=0"
     ],
     "language": "python",
     "metadata": {},
     "outputs": [],
     "prompt_number": 12
    },
    {
     "cell_type": "code",
     "collapsed": false,
     "input": [
      "for i in xrange(1,34): #por pruebas sabemos que fibonacci(34)>4000000. Sin esto tendr\u00edamos que agregar otra prueba.\n",
      "    if fibonacci(i)%2==0:\n",
      "        suma=suma+fibonacci(i)\n",
      "    else:\n",
      "        pass\n",
      "print suma"
     ],
     "language": "python",
     "metadata": {},
     "outputs": [
      {
       "output_type": "stream",
       "stream": "stdout",
       "text": [
        "4613732\n"
       ]
      }
     ],
     "prompt_number": 13
    }
   ],
   "metadata": {}
  }
 ]
}