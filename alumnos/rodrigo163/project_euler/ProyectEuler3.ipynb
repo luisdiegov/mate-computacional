{
 "metadata": {
  "name": "",
  "signature": "sha256:acd67227ef010ca33c9d5105f77e075f79c8176aa5762da1a1119e90c52d570b"
 },
 "nbformat": 3,
 "nbformat_minor": 0,
 "worksheets": [
  {
   "cells": [
    {
     "cell_type": "heading",
     "level": 1,
     "metadata": {},
     "source": [
      "El mayor factor primo"
     ]
    },
    {
     "cell_type": "markdown",
     "metadata": {},
     "source": [
      "Objetivo: encontrar el primo m\u00e1s grande que divide a 600851475143, para eso usaremos m\u00f3dulos para probar divisibilidad. Tambi\u00e9n sabemos por el teorema fundamental de la aritm\u00e9tica que todos los naturales son primos o factorizables en primos, por lo que si dividimos nuestro n\u00famero entre sus factores, el \u00faltimo que encontramos deber\u00eda ser primo. "
     ]
    },
    {
     "cell_type": "code",
     "collapsed": false,
     "input": [
      "nuestro_numero=600851475143\n",
      "nuestro_numero_dividido=nuestro_numero\n",
      "solucion=0 \n",
      "prueba=2 #empezamos probando con el 2, despu\u00e9s podemos ir probando de dos en dos ya habiendo eliminado todos los pares (no primos)"
     ],
     "language": "python",
     "metadata": {},
     "outputs": [],
     "prompt_number": 18
    },
    {
     "cell_type": "markdown",
     "metadata": {},
     "source": [
      "SOLUCI\u00d3N SACADA DE INTERNET; PROBLEMA ENTENDIDO MAS NO RESUELTO"
     ]
    },
    {
     "cell_type": "code",
     "collapsed": false,
     "input": [
      "\n",
      "'''Esta condici\u00f3n nos ahorra la mitad de los n\u00fameros ya que los divisores van por pares, \n",
      "uno mayor que la ra\u00edz de nuestro n\u00famero y otro menor.'''\n",
      "while prueba**2<=nuestro_numero_dividido:\n",
      "    if nuestro_numero_dividido%prueba==0:\n",
      "        nuestro_numero_dividido=nuestro_numero_dividido/prueba\n",
      "        solucion=prueba\n",
      "    else:\n",
      "        prueba=prueba+1\n",
      "if nuestro_numero_dividido>solucion:\n",
      "    solucion=nuestro_numero_dividido\n",
      "    "
     ],
     "language": "python",
     "metadata": {},
     "outputs": [],
     "prompt_number": 16
    },
    {
     "cell_type": "code",
     "collapsed": false,
     "input": [
      "print solucion"
     ],
     "language": "python",
     "metadata": {},
     "outputs": [
      {
       "output_type": "stream",
       "stream": "stdout",
       "text": [
        "6857\n"
       ]
      }
     ],
     "prompt_number": 17
    },
    {
     "cell_type": "code",
     "collapsed": false,
     "input": [],
     "language": "python",
     "metadata": {},
     "outputs": []
    }
   ],
   "metadata": {}
  }
 ]
}