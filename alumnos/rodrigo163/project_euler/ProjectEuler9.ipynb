{
 "metadata": {
  "name": "",
  "signature": "sha256:ef91166340568cb5aabf771da30787bd057340e9ee1b4366d4426f6e93e7f867"
 },
 "nbformat": 3,
 "nbformat_minor": 0,
 "worksheets": [
  {
   "cells": [
    {
     "cell_type": "heading",
     "level": 1,
     "metadata": {},
     "source": [
      "Terna pitag\u00f3rica especial"
     ]
    },
    {
     "cell_type": "markdown",
     "metadata": {},
     "source": [
      "Objetivo: encontrar una terna pitag\u00f3rica tal que la suma de los tres elementos sea igual a 1000, y sabiendo que existe una sola."
     ]
    },
    {
     "cell_type": "code",
     "collapsed": false,
     "input": [
      "a=0\n",
      "b=0\n",
      "c=0\n",
      "combinacion_correcta=False"
     ],
     "language": "python",
     "metadata": {},
     "outputs": [],
     "prompt_number": 40
    },
    {
     "cell_type": "code",
     "collapsed": false,
     "input": [
      "#Como son \"pocas\" combinaciones las que tenemos que checar podemos hacerlo por fuerza bruta.\n",
      "for i in range(1,1001):\n",
      "    a=i\n",
      "    for n in range (1,1001):\n",
      "        b=n\n",
      "        c=1000-a-b\n",
      "        if a**2+b**2==c**2:\n",
      "            combinacion_correcta=True\n",
      "            break\n",
      "        else:\n",
      "            pass\n",
      "    if combinacion_correcta==True:\n",
      "        break\n",
      "    else: \n",
      "        pass"
     ],
     "language": "python",
     "metadata": {},
     "outputs": [],
     "prompt_number": 41
    },
    {
     "cell_type": "code",
     "collapsed": false,
     "input": [
      "prueba=(a+b+c==1000) and (a**2+b**2==c**2)"
     ],
     "language": "python",
     "metadata": {},
     "outputs": [],
     "prompt_number": 42
    },
    {
     "cell_type": "code",
     "collapsed": false,
     "input": [
      "if prueba==True:\n",
      "    print \"a es igual a: \"+str(a)\n",
      "    print \"b es igual a: \"+str(b)\n",
      "    print \"c es igual a: \"+str(c)\n",
      "    print \"Su producto es igual a : \"+str(a*b*c)"
     ],
     "language": "python",
     "metadata": {},
     "outputs": [
      {
       "output_type": "stream",
       "stream": "stdout",
       "text": [
        "a es igual a: 200\n",
        "b es igual a: 375\n",
        "c es igual a: 425\n",
        "Su producto es igual a : 31875000\n"
       ]
      }
     ],
     "prompt_number": 43
    }
   ],
   "metadata": {}
  }
 ]
}