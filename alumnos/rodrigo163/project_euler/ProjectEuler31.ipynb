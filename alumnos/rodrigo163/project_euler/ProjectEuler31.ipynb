{
 "metadata": {
  "name": "",
  "signature": "sha256:5f0c2fe64a84425c4c665e76dbfffefa2afd2baeda1fa5a4dac25c4a0d3c042d"
 },
 "nbformat": 3,
 "nbformat_minor": 0,
 "worksheets": [
  {
   "cells": [
    {
     "cell_type": "heading",
     "level": 1,
     "metadata": {},
     "source": [
      "Combinaciones con moneda inglesa"
     ]
    },
    {
     "cell_type": "markdown",
     "metadata": {},
     "source": [
      "Objetivo: Encontrar de cuantas formas se pueden formar 2 libras con monedas en centavos de 1, 2, 5, 20, 50, 100, 200.\n",
      "\n",
      "Hint: resolver x1+x2+...+x8=200 con las restricciones de cada moneda.\n",
      "\n",
      "Hint2: encontrar el coef de x^200 en (1+x^200)(1+x^100+x^200)...(1+x+x^2+...x^200)\n",
      "\n",
      "Level: TITAN programaci\u00f3n din\u00e1mica"
     ]
    },
    {
     "cell_type": "code",
     "collapsed": false,
     "input": [
      "cantidad=200\n",
      "solucion=0\n",
      "#Buscar como asignar un variable dentro de un for\n",
      "for i in (a=200,0,200):\n",
      "    for i in (b=a,0,100):\n",
      "        for i in (c=b,0,50):\n",
      "            for i in (d=c,0,20):\n",
      "                for i in (e=d,0,10):\n",
      "                    for i in(f=e,0,5):\n",
      "                        for i in (g=f,0,2):\n",
      "                            solucion+=1\n",
      "    "
     ],
     "language": "python",
     "metadata": {},
     "outputs": [
      {
       "ename": "SyntaxError",
       "evalue": "invalid syntax (<ipython-input-2-a57e3737ca13>, line 1)",
       "output_type": "pyerr",
       "traceback": [
        "\u001b[1;36m  File \u001b[1;32m\"<ipython-input-2-a57e3737ca13>\"\u001b[1;36m, line \u001b[1;32m1\u001b[0m\n\u001b[1;33m    for i in (a=200,0,200):\u001b[0m\n\u001b[1;37m               ^\u001b[0m\n\u001b[1;31mSyntaxError\u001b[0m\u001b[1;31m:\u001b[0m invalid syntax\n"
       ]
      }
     ],
     "prompt_number": 2
    },
    {
     "cell_type": "code",
     "collapsed": false,
     "input": [],
     "language": "python",
     "metadata": {},
     "outputs": []
    }
   ],
   "metadata": {}
  }
 ]
}