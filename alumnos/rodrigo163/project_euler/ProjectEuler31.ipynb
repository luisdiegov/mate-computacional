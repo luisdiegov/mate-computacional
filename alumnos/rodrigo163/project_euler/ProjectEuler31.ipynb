{
 "metadata": {
  "name": "",
  "signature": "sha256:660fd67941d56283d36d577d71171256de810a3ac8df787b20cfbdf3a335199c"
 },
 "nbformat": 3,
 "nbformat_minor": 0,
 "worksheets": [
  {
   "cells": [
    {
     "cell_type": "heading",
     "level": 1,
     "metadata": {},
     "source": [
      "Combinaciones con moneda inglesa"
     ]
    },
    {
     "cell_type": "markdown",
     "metadata": {},
     "source": [
      "Objetivo: Encontrar de cuantas formas se pueden formar 2 libras con monedas en centavos de 1, 2, 5, 20, 50, 100, 200."
     ]
    },
    {
     "cell_type": "code",
     "collapsed": false,
     "input": [],
     "language": "python",
     "metadata": {},
     "outputs": []
    }
   ],
   "metadata": {}
  }
 ]
}