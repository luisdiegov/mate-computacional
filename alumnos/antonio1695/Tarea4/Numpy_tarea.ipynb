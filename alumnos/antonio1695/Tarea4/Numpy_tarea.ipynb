{
 "metadata": {
  "name": "",
  "signature": "sha256:913562057b627567da112f0c1181abc60c20e2f2767054104b1a7c080059fb8c"
 },
 "nbformat": 3,
 "nbformat_minor": 0,
 "worksheets": [
  {
   "cells": [
    {
     "cell_type": "heading",
     "level": 1,
     "metadata": {},
     "source": [
      "Ejercicios de Numpy."
     ]
    },
    {
     "cell_type": "code",
     "collapsed": false,
     "input": [
      "%matplotlib inline\n",
      "import numpy as np\n",
      "import matplotlib as plt\n",
      "    \n",
      "\"\"\" Pregunta 1 \"\"\"\n",
      "    \n",
      "matriz = np.zeros((5,5))\n",
      "for i in xrange(0,5):\n",
      "    matriz[i,i] = i+1\n",
      "matriz2= np.zeros((4,4))\n",
      "for j in xrange(0,4):\n",
      "    matriz2[3,j]= j+1"
     ],
     "language": "python",
     "metadata": {},
     "outputs": [],
     "prompt_number": 3
    },
    {
     "cell_type": "code",
     "collapsed": false,
     "input": [
      "matriz"
     ],
     "language": "python",
     "metadata": {},
     "outputs": [
      {
       "metadata": {},
       "output_type": "pyout",
       "prompt_number": 29,
       "text": [
        "array([[ 1.,  0.,  0.,  0.,  0.],\n",
        "       [ 0.,  2.,  0.,  0.,  0.],\n",
        "       [ 0.,  0.,  3.,  0.,  0.],\n",
        "       [ 0.,  0.,  0.,  4.,  0.],\n",
        "       [ 0.,  0.,  0.,  0.,  5.]])"
       ]
      }
     ],
     "prompt_number": 29
    },
    {
     "cell_type": "code",
     "collapsed": false,
     "input": [
      "matriz2"
     ],
     "language": "python",
     "metadata": {},
     "outputs": [
      {
       "metadata": {},
       "output_type": "pyout",
       "prompt_number": 30,
       "text": [
        "array([[ 0.,  0.,  0.,  0.],\n",
        "       [ 0.,  0.,  0.,  0.],\n",
        "       [ 0.,  0.,  0.,  0.],\n",
        "       [ 1.,  2.,  3.,  4.]])"
       ]
      }
     ],
     "prompt_number": 30
    },
    {
     "cell_type": "code",
     "collapsed": false,
     "input": [
      "\"\"\" Pregunta 2 \"\"\" \n",
      "\n",
      "\"\"\"(a) Crea un arreglo de booleanos de shape (100,),\n",
      "con todos sus elementos True. El \u00edndice representa el n\u00famero.\"\"\"\n",
      "\n",
      "bool_arr = np.ones((100,), dtype=bool)\n",
      "bool_arr"
     ],
     "language": "python",
     "metadata": {},
     "outputs": [
      {
       "metadata": {},
       "output_type": "pyout",
       "prompt_number": 36,
       "text": [
        "array([ True,  True,  True,  True,  True,  True,  True,  True,  True,\n",
        "        True,  True,  True,  True,  True,  True,  True,  True,  True,\n",
        "        True,  True,  True,  True,  True,  True,  True,  True,  True,\n",
        "        True,  True,  True,  True,  True,  True,  True,  True,  True,\n",
        "        True,  True,  True,  True,  True,  True,  True,  True,  True,\n",
        "        True,  True,  True,  True,  True,  True,  True,  True,  True,\n",
        "        True,  True,  True,  True,  True,  True,  True,  True,  True,\n",
        "        True,  True,  True,  True,  True,  True,  True,  True,  True,\n",
        "        True,  True,  True,  True,  True,  True,  True,  True,  True,\n",
        "        True,  True,  True,  True,  True,  True,  True,  True,  True,\n",
        "        True,  True,  True,  True,  True,  True,  True,  True,  True,  True], dtype=bool)"
       ]
      }
     ],
     "prompt_number": 36
    },
    {
     "cell_type": "code",
     "collapsed": false,
     "input": [
      "\"\"\"(b) \"Tacha\" los elementos 0 y 1.\"\"\"\n",
      "bool_arr[0] = 0\n",
      "bool_arr[1] = 0\n",
      "bool_arr"
     ],
     "language": "python",
     "metadata": {},
     "outputs": [
      {
       "metadata": {},
       "output_type": "pyout",
       "prompt_number": 41,
       "text": [
        "array([False, False,  True,  True,  True,  True,  True,  True,  True,\n",
        "        True,  True,  True,  True,  True,  True,  True,  True,  True,\n",
        "        True,  True,  True,  True,  True,  True,  True,  True,  True,\n",
        "        True,  True,  True,  True,  True,  True,  True,  True,  True,\n",
        "        True,  True,  True,  True,  True,  True,  True,  True,  True,\n",
        "        True,  True,  True,  True,  True,  True,  True,  True,  True,\n",
        "        True,  True,  True,  True,  True,  True,  True,  True,  True,\n",
        "        True,  True,  True,  True,  True,  True,  True,  True,  True,\n",
        "        True,  True,  True,  True,  True,  True,  True,  True,  True,\n",
        "        True,  True,  True,  True,  True,  True,  True,  True,  True,\n",
        "        True,  True,  True,  True,  True,  True,  True,  True,  True,  True], dtype=bool)"
       ]
      }
     ],
     "prompt_number": 41
    },
    {
     "cell_type": "code",
     "collapsed": false,
     "input": [
      "\"\"\"(c) Para cada entero subsiguiente, tacha sus m\u00faltiplos.\n",
      "Una manera de hacerlo es el c\u00f3digo que se muestra. Explica que hace el c\u00f3digo,\n",
      "sobretodo explica que hace el slicing.\"\"\"\n",
      "\n",
      "N_max = int(np.sqrt(len(bool_arr)))\n",
      "for j in range(2, N_max):\n",
      "    bool_arr[2*j::j] = False\n",
      "\n",
      "\"\"\" El N_max es el numero maximo al cual llegaran los multiplos, debido a el teorema \n",
      "que nos explica que todo numero se puede factorizar en primos menores a su raiz.\n",
      "El for creara un j entre el 2 y N_max, el cual nos dara los multiplos de los primos y \n",
      "se posicionara en ese elemento del array, al ya encontrarse en esa posicion, convertira\n",
      "el booleano en False, dejandonos solamente los numeros primos con True. \"\"\""
     ],
     "language": "python",
     "metadata": {},
     "outputs": [
      {
       "metadata": {},
       "output_type": "pyout",
       "prompt_number": 47,
       "text": [
        "' El N_max es el numero maximo al cual llegaran los multiplos, debido a el teorema \\nque nos explica que todo numero se puede factorizar en primos menores a su raiz.\\nEl for creara un j entre el 2 y N_max, el cual nos dara los multiplos de los primos y \\nse posicionara en ese elemento del array, al ya encontrarse en esa posicion, convertira\\nel booleano en False, dejandonos solamente los numeros primos con True. '"
       ]
      }
     ],
     "prompt_number": 47
    },
    {
     "cell_type": "code",
     "collapsed": false,
     "input": [
      "\"\"\"(d) Mira la documentacion de np.nonzero para imprimir todos los n\u00fameros primos.\"\"\"\n",
      "\n",
      "np.nonzero(bool_arr)\n",
      "\"\"\" Nos permite obtener todos los booleanos True en el arreglo\"\"\""
     ],
     "language": "python",
     "metadata": {},
     "outputs": [
      {
       "metadata": {},
       "output_type": "pyout",
       "prompt_number": 49,
       "text": [
        "(array([ 2,  3,  5,  7, 11, 13, 17, 19, 23, 29, 31, 37, 41, 43, 47, 53, 59,\n",
        "        61, 67, 71, 73, 79, 83, 89, 97]),)"
       ]
      }
     ],
     "prompt_number": 49
    },
    {
     "cell_type": "code",
     "collapsed": false,
     "input": [
      "\"\"\"(e) Encapsula lo que acabamos de hacer en una funci\u00f3n llamada criba_eratostenes,\n",
      "que reciba como argumento maximo el cual representa el tama\u00f1o del array. \n",
      "Muestra el resultado para maximo = {10, 100, 200}, usando un for. \"\"\""
     ],
     "language": "python",
     "metadata": {},
     "outputs": []
    },
    {
     "cell_type": "code",
     "collapsed": false,
     "input": [
      "%%file cripa_erastotenes.py\n",
      "def criba(n):\n",
      "    vectormatriz = np.ones((n,), dtype=bool)\n",
      "    vectormatriz[0] = 0\n",
      "    vectormatriz[1] = 0\n",
      "    N_max = int(np.sqrt(len(vectormatriz)))\n",
      "    for k in range(2, N_max):\n",
      "        vectormatriz[2*k::k] = False  \n",
      "        \n",
      "    return np.nonzero(vectormatriz)\n",
      "\n",
      "maximo=[10,100,200]\n",
      "for i in xrange(0,len(maximo)):\n",
      "    print criba(maximo[i])"
     ],
     "language": "python",
     "metadata": {},
     "outputs": [
      {
       "output_type": "stream",
       "stream": "stdout",
       "text": [
        "Writing cripa_erastotenes.py\n"
       ]
      }
     ],
     "prompt_number": 62
    },
    {
     "cell_type": "code",
     "collapsed": false,
     "input": [
      "\"\"\" Pregunta 3 \"\"\" \n",
      "\n",
      "\"\"\"\n",
      "Crea un cubo rubik, partiendo de un arreglo de ceros y \n",
      "usando slicing dibuja cada una de las caras como si estuviera resuelto\n",
      "(cada colo un entero a partir del 1). Muestra con indexing que est\u00e1 resuelto\n",
      "(es decir, imprime las seis caras). \n",
      "\u00bfCu\u00e1ntos elementos del arreglo quedaron en 0? Ning\u00fan elemento del arreglo quedo en 0.\n",
      "\"\"\"\n",
      "cubo = np.zeros((6,3,3))\n",
      "for i in xrange(0,6):\n",
      "    cubo[i,:,:] = i+1\n",
      "    \n",
      "cubo"
     ],
     "language": "python",
     "metadata": {},
     "outputs": [
      {
       "metadata": {},
       "output_type": "pyout",
       "prompt_number": 100,
       "text": [
        "array([[[ 1.,  1.,  1.],\n",
        "        [ 1.,  1.,  1.],\n",
        "        [ 1.,  1.,  1.]],\n",
        "\n",
        "       [[ 2.,  2.,  2.],\n",
        "        [ 2.,  2.,  2.],\n",
        "        [ 2.,  2.,  2.]],\n",
        "\n",
        "       [[ 3.,  3.,  3.],\n",
        "        [ 3.,  3.,  3.],\n",
        "        [ 3.,  3.,  3.]],\n",
        "\n",
        "       [[ 4.,  4.,  4.],\n",
        "        [ 4.,  4.,  4.],\n",
        "        [ 4.,  4.,  4.]],\n",
        "\n",
        "       [[ 5.,  5.,  5.],\n",
        "        [ 5.,  5.,  5.],\n",
        "        [ 5.,  5.,  5.]],\n",
        "\n",
        "       [[ 6.,  6.,  6.],\n",
        "        [ 6.,  6.,  6.],\n",
        "        [ 6.,  6.,  6.]]])"
       ]
      }
     ],
     "prompt_number": 100
    },
    {
     "cell_type": "code",
     "collapsed": false,
     "input": [
      "\"\"\" \n",
      "Pregunta 4\n",
      "El Sudoku es un pasatiempo que consiste en un arreglo 9\u00d79 de celdas, con d\u00edgitos del 1 al 9, \n",
      "de tal manera que no se repiten valores en cada columna, cada rengl\u00f3n y en cada subarreglo de 3\u00d73.\n",
      "(a) Crea una funci\u00f3n llamada correcto que reciba un array 1d de tama\u00f1o 9 \n",
      "e indique si est\u00e1 completo o no (i.e. incluye los n\u00fameros del 1 al 9.\n",
      "\"\"\"\n",
      "def correcto(n):\n",
      "   return (np.unique(n).size == n.size) &(n.sum() == 45)\n",
      "\n",
      "a = np.arange(1,10)\n",
      "correcto(a)"
     ],
     "language": "python",
     "metadata": {},
     "outputs": [
      {
       "metadata": {},
       "output_type": "pyout",
       "prompt_number": 98,
       "text": [
        "True"
       ]
      }
     ],
     "prompt_number": 98
    },
    {
     "cell_type": "code",
     "collapsed": false,
     "input": [
      "\"\"\"\n",
      "(b) Crea una funci\u00f3n llamada descomponer3x3 que reciba un array de enteros \n",
      "de 9\u00d79 y lo separe en sus 9 subarreglos 3\u00d73.\n",
      "\"\"\"\n",
      "\n",
      "def descomponer3x3(n):\n",
      "    b =([n[1:4[1:4]]],[n[1:4[4:7]]],[n[1:4[7:10]]],[n[4:7[1:4]]],[n[4:7[4:7]]],[n[4:7[7:10]]],[n[7:10[1:4]]],[n[7:10[4:7]]],[n[7:10[7:10]]])\n",
      "                 \n",
      "    return b\n",
      "    "
     ],
     "language": "python",
     "metadata": {},
     "outputs": [],
     "prompt_number": 23
    },
    {
     "cell_type": "code",
     "collapsed": false,
     "input": [
      "d = np.array([[1,2,3,4,5,6,7,8,9],[1,2,3,4,5,6,7,8,9],[1,2,3,4,5,6,7,8,9],[1,2,3,4,5,6,7,8,9],[1,2,3,4,5,6,7,8,9],[1,2,3,4,5,6,7,8,9],[1,2,3,4,5,6,7,8,9],[1,2,3,4,5,6,7,8,9],[1,2,3,4,5,6,7,8,9]])\n",
      "d"
     ],
     "language": "python",
     "metadata": {},
     "outputs": [
      {
       "metadata": {},
       "output_type": "pyout",
       "prompt_number": 24,
       "text": [
        "array([[1, 2, 3, 4, 5, 6, 7, 8, 9],\n",
        "       [1, 2, 3, 4, 5, 6, 7, 8, 9],\n",
        "       [1, 2, 3, 4, 5, 6, 7, 8, 9],\n",
        "       [1, 2, 3, 4, 5, 6, 7, 8, 9],\n",
        "       [1, 2, 3, 4, 5, 6, 7, 8, 9],\n",
        "       [1, 2, 3, 4, 5, 6, 7, 8, 9],\n",
        "       [1, 2, 3, 4, 5, 6, 7, 8, 9],\n",
        "       [1, 2, 3, 4, 5, 6, 7, 8, 9],\n",
        "       [1, 2, 3, 4, 5, 6, 7, 8, 9]])"
       ]
      }
     ],
     "prompt_number": 24
    },
    {
     "cell_type": "code",
     "collapsed": false,
     "input": [
      "descomponer3x3(d)"
     ],
     "language": "python",
     "metadata": {},
     "outputs": [
      {
       "ename": "TypeError",
       "evalue": "'int' object has no attribute '__getitem__'",
       "output_type": "pyerr",
       "traceback": [
        "\u001b[1;31m---------------------------------------------------------------------------\u001b[0m\n\u001b[1;31mTypeError\u001b[0m                                 Traceback (most recent call last)",
        "\u001b[1;32m<ipython-input-25-67f1590942df>\u001b[0m in \u001b[0;36m<module>\u001b[1;34m()\u001b[0m\n\u001b[1;32m----> 1\u001b[1;33m \u001b[0mdescomponer3x3\u001b[0m\u001b[1;33m(\u001b[0m\u001b[0md\u001b[0m\u001b[1;33m)\u001b[0m\u001b[1;33m\u001b[0m\u001b[0m\n\u001b[0m",
        "\u001b[1;32m<ipython-input-23-c7678c18160e>\u001b[0m in \u001b[0;36mdescomponer3x3\u001b[1;34m(n)\u001b[0m\n\u001b[0;32m      5\u001b[0m \u001b[1;33m\u001b[0m\u001b[0m\n\u001b[0;32m      6\u001b[0m \u001b[1;32mdef\u001b[0m \u001b[0mdescomponer3x3\u001b[0m\u001b[1;33m(\u001b[0m\u001b[0mn\u001b[0m\u001b[1;33m)\u001b[0m\u001b[1;33m:\u001b[0m\u001b[1;33m\u001b[0m\u001b[0m\n\u001b[1;32m----> 7\u001b[1;33m     \u001b[0mb\u001b[0m \u001b[1;33m=\u001b[0m\u001b[1;33m(\u001b[0m\u001b[1;33m[\u001b[0m\u001b[0mn\u001b[0m\u001b[1;33m[\u001b[0m\u001b[1;36m1\u001b[0m\u001b[1;33m:\u001b[0m\u001b[1;36m4\u001b[0m\u001b[1;33m[\u001b[0m\u001b[1;36m1\u001b[0m\u001b[1;33m:\u001b[0m\u001b[1;36m4\u001b[0m\u001b[1;33m]\u001b[0m\u001b[1;33m]\u001b[0m\u001b[1;33m]\u001b[0m\u001b[1;33m,\u001b[0m\u001b[1;33m[\u001b[0m\u001b[0mn\u001b[0m\u001b[1;33m[\u001b[0m\u001b[1;36m1\u001b[0m\u001b[1;33m:\u001b[0m\u001b[1;36m4\u001b[0m\u001b[1;33m[\u001b[0m\u001b[1;36m4\u001b[0m\u001b[1;33m:\u001b[0m\u001b[1;36m7\u001b[0m\u001b[1;33m]\u001b[0m\u001b[1;33m]\u001b[0m\u001b[1;33m]\u001b[0m\u001b[1;33m,\u001b[0m\u001b[1;33m[\u001b[0m\u001b[0mn\u001b[0m\u001b[1;33m[\u001b[0m\u001b[1;36m1\u001b[0m\u001b[1;33m:\u001b[0m\u001b[1;36m4\u001b[0m\u001b[1;33m[\u001b[0m\u001b[1;36m7\u001b[0m\u001b[1;33m:\u001b[0m\u001b[1;36m10\u001b[0m\u001b[1;33m]\u001b[0m\u001b[1;33m]\u001b[0m\u001b[1;33m]\u001b[0m\u001b[1;33m,\u001b[0m\u001b[1;33m[\u001b[0m\u001b[0mn\u001b[0m\u001b[1;33m[\u001b[0m\u001b[1;36m4\u001b[0m\u001b[1;33m:\u001b[0m\u001b[1;36m7\u001b[0m\u001b[1;33m[\u001b[0m\u001b[1;36m1\u001b[0m\u001b[1;33m:\u001b[0m\u001b[1;36m4\u001b[0m\u001b[1;33m]\u001b[0m\u001b[1;33m]\u001b[0m\u001b[1;33m]\u001b[0m\u001b[1;33m,\u001b[0m\u001b[1;33m[\u001b[0m\u001b[0mn\u001b[0m\u001b[1;33m[\u001b[0m\u001b[1;36m4\u001b[0m\u001b[1;33m:\u001b[0m\u001b[1;36m7\u001b[0m\u001b[1;33m[\u001b[0m\u001b[1;36m4\u001b[0m\u001b[1;33m:\u001b[0m\u001b[1;36m7\u001b[0m\u001b[1;33m]\u001b[0m\u001b[1;33m]\u001b[0m\u001b[1;33m]\u001b[0m\u001b[1;33m,\u001b[0m\u001b[1;33m[\u001b[0m\u001b[0mn\u001b[0m\u001b[1;33m[\u001b[0m\u001b[1;36m4\u001b[0m\u001b[1;33m:\u001b[0m\u001b[1;36m7\u001b[0m\u001b[1;33m[\u001b[0m\u001b[1;36m7\u001b[0m\u001b[1;33m:\u001b[0m\u001b[1;36m10\u001b[0m\u001b[1;33m]\u001b[0m\u001b[1;33m]\u001b[0m\u001b[1;33m]\u001b[0m\u001b[1;33m,\u001b[0m\u001b[1;33m[\u001b[0m\u001b[0mn\u001b[0m\u001b[1;33m[\u001b[0m\u001b[1;36m7\u001b[0m\u001b[1;33m:\u001b[0m\u001b[1;36m10\u001b[0m\u001b[1;33m[\u001b[0m\u001b[1;36m1\u001b[0m\u001b[1;33m:\u001b[0m\u001b[1;36m4\u001b[0m\u001b[1;33m]\u001b[0m\u001b[1;33m]\u001b[0m\u001b[1;33m]\u001b[0m\u001b[1;33m,\u001b[0m\u001b[1;33m[\u001b[0m\u001b[0mn\u001b[0m\u001b[1;33m[\u001b[0m\u001b[1;36m7\u001b[0m\u001b[1;33m:\u001b[0m\u001b[1;36m10\u001b[0m\u001b[1;33m[\u001b[0m\u001b[1;36m4\u001b[0m\u001b[1;33m:\u001b[0m\u001b[1;36m7\u001b[0m\u001b[1;33m]\u001b[0m\u001b[1;33m]\u001b[0m\u001b[1;33m]\u001b[0m\u001b[1;33m,\u001b[0m\u001b[1;33m[\u001b[0m\u001b[0mn\u001b[0m\u001b[1;33m[\u001b[0m\u001b[1;36m7\u001b[0m\u001b[1;33m:\u001b[0m\u001b[1;36m10\u001b[0m\u001b[1;33m[\u001b[0m\u001b[1;36m7\u001b[0m\u001b[1;33m:\u001b[0m\u001b[1;36m10\u001b[0m\u001b[1;33m]\u001b[0m\u001b[1;33m]\u001b[0m\u001b[1;33m]\u001b[0m\u001b[1;33m)\u001b[0m\u001b[1;33m\u001b[0m\u001b[0m\n\u001b[0m\u001b[0;32m      8\u001b[0m \u001b[1;33m\u001b[0m\u001b[0m\n\u001b[0;32m      9\u001b[0m     \u001b[1;32mreturn\u001b[0m \u001b[0mb\u001b[0m\u001b[1;33m\u001b[0m\u001b[0m\n",
        "\u001b[1;31mTypeError\u001b[0m: 'int' object has no attribute '__getitem__'"
       ]
      }
     ],
     "prompt_number": 25
    },
    {
     "cell_type": "code",
     "collapsed": false,
     "input": [
      "\"\"\"\n",
      "(c) Crea la funci\u00f3n esSolucion que recibe un array de 9\u00d79 y devuelve si es o\n",
      "no soluci\u00f3n del sudoku.\n",
      "\"\"\"\n",
      "def esSolucion(n):\n",
      "    for i in xrange(0,9):\n",
      "        if correcto(n[i,:]) == False:\n",
      "            print \"EL Sudoku es incorrecto\"\n",
      "        if correcto(n[:,i]) == False:\n",
      "            print \"El Sudoku es incorrecto\"\n",
      "    descomponer3x3(n)\n",
      "    if a==b==c==d==e==f==g==h==i:\n",
      "        return \"\u00a1El Sudoku es correcto!\"\n",
      "    else:\n",
      "        return \"El Sudoku es incorrecto\""
     ],
     "language": "python",
     "metadata": {},
     "outputs": [],
     "prompt_number": 28
    },
    {
     "cell_type": "code",
     "collapsed": false,
     "input": [
      "\"\"\" Pregunta 5 \n",
      "\n",
      "(a) Escribe el c\u00f3digo que lea el archivo y haga una gr\u00e1fica de las manchas\n",
      "en funci\u00f3n del tiempo. Formatea el ejec x para que se muestren cada 25 a\u00f1os\n",
      "empezando en 1750. \"\"\"\n"
     ],
     "language": "python",
     "metadata": {},
     "outputs": [
      {
       "metadata": {},
       "output_type": "pyout",
       "prompt_number": 31,
       "text": [
        "' Pregunta 5 \\n(a) Escribe el c\\xc3\\xb3digo que lea el archivo y haga una gr\\xc3\\xa1fica de las manchas\\nen funci\\xc3\\xb3n del tiempo. Formatea el ejec x para que se muestren cada 25 a\\xc3\\xb1os\\nempezando en 1750. '"
       ]
      }
     ],
     "prompt_number": 31
    },
    {
     "cell_type": "code",
     "collapsed": false,
     "input": [
      "\"\"\" (b) Calcula el promedio m\u00f3vil. Dib\u00fajalo sobre el dibujo original. \"\"\""
     ],
     "language": "python",
     "metadata": {},
     "outputs": []
    },
    {
     "cell_type": "code",
     "collapsed": false,
     "input": [
      "\"\"\"\n",
      "Pregunta 6\n",
      "\n",
      "Utiliza el archivo starts.txt (localizado en la carpeta data), el cual contiene \n",
      "la temperatura y magnitud de varias estrellas en la V\u00eda Lactea. Usa esta informaci\u00f3n\n",
      "para dibujar un scatter plot del logaritmo del brillo vs. la temperatura (en K).\n",
      "Este diagrama se conoce como diagrama de Hertzsprung-Russell.\n",
      "\n",
      "(a) Lee el archivo y dibuja los datos tal como vienen en el archivo. Agrega etiquetas\n",
      "y formatea la gr\u00e1fica de tal manera que tenga calidad de publicaci\u00f3n.\n",
      "\n",
      "(b) Ahora usa el xlim() y  ylim() para que quede de manera correcta el diagrama.\n",
      "Hay regiones donde las estrellas parece que se aglomeran, ve el archivo de wikipedia\n",
      "y agrega anotaciones para explicarlas.\n",
      "\"\"\""
     ],
     "language": "python",
     "metadata": {},
     "outputs": [
      {
       "metadata": {},
       "output_type": "pyout",
       "prompt_number": 32,
       "text": [
        "'Utiliza el archivo starts.txt (localizado en la carpeta data), el cual contiene \\nla temperatura y magnitud de varias estrellas en la V\\xc3\\xada Lactea. Usa esta informaci\\xc3\\xb3n\\npara dibujar un scatter plot del logaritmo del brillo vs. la temperatura (en K).\\nEste diagrama se conoce como diagrama de Hertzsprung-Russell.\\n(a) Lee el archivo y dibuja los datos tal como vienen en el archivo. Agrega etiquetas\\ny formatea la gr\\xc3\\xa1fica de tal manera que tenga calidad de publicaci\\xc3\\xb3n.\\n(b) Ahora usa el xlim() y  ylim() para que quede de manera correcta el diagrama.\\nHay regiones donde las estrellas parece que se aglomeran, ve el archivo de wikipedia\\ny agrega anotaciones para explicarlas.\\n'"
       ]
      }
     ],
     "prompt_number": 32
    },
    {
     "cell_type": "code",
     "collapsed": false,
     "input": [],
     "language": "python",
     "metadata": {},
     "outputs": []
    }
   ],
   "metadata": {}
  }
 ]
}