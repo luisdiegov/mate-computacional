{
 "metadata": {
  "name": "",
  "signature": "sha256:9cdd262b5ae5a0aa64dd00a3be513cae4ecc3b0ca10e1cd677aa84830dcc8f46"
 },
 "nbformat": 3,
 "nbformat_minor": 0,
 "worksheets": [
  {
   "cells": [
    {
     "cell_type": "code",
     "collapsed": false,
     "input": [
      "\"\"\"Problema 17 del proyecto Euler.\n",
      "Contar la cantidad de letras que suman los numeros del 1 al 1000\"\"\"\n",
      "import math\n",
      "def sumaletras(n):\n",
      "    if n>0:\n",
      "        x = \"\"\n",
      "        UNIDADES =['','ONE','TWO','THREE','FOUR','FIVE','SIX','SEVEN','EIGHT','NINE','TEN','ELEVEN','TWELVE','THIRTEEN','FOURTEEN','FIFTEEN','SIXTEEN','SEVENTEEN','EIGHTEEN','NINETEEN','TWENTY']\n",
      "        DECENAS =['','','TWENTY','THIRTY','FORTY','FIFTY','SIXTY','SEVENTY','EIGHTY','NINETY']\n",
      "        CENTENAS =['','ONEHUNDRED','TWOHUNDRED','THREEHUNDRED','FOURHUNDRED','FIVEHUNDRED','SIXHUNDRED','SEVENHUNDRED','EIGHTHUNDRED','NINEHUNDRED','ONETHOUSAND']\n",
      "        for i in range (0,n+1):\n",
      "            c = math.floor(i/100)\n",
      "            d = math.floor((i - (c*100))/10) \n",
      "            u = i-(c*100)-(d*10)\n",
      "            u2 = i - (c*100)\n",
      "            if (i>100):\n",
      "                x += CENTENAS[int(c)] +'AND'+ DECENAS[int(d)] + UNIDADES[int(u)] \n",
      "            else:\n",
      "                if(i>20 and i<100):\n",
      "                    x += DECENAS[int(d)] + UNIDADES[int(u)]      \n",
      "                else:\n",
      "                    x += UNIDADES[int(u2)]\n",
      "                    \n",
      "\n",
      "    else:\n",
      "        print 'Error, solo numeros mayores a cero.'\n",
      "    \n",
      "    return len(x)\n",
      "sumaletras(1000)"
     ],
     "language": "python",
     "metadata": {},
     "outputs": [
      {
       "metadata": {},
       "output_type": "pyout",
       "prompt_number": 89,
       "text": [
        "20835"
       ]
      }
     ],
     "prompt_number": 89
    },
    {
     "cell_type": "code",
     "collapsed": false,
     "input": [
      "\"\"\"Problema 31 del proyecto Euler.\n",
      "\u00bfCu\u00e1ntas maneras diferentes hay de sumar 2 libras usando sin importar la cantidad de monedas usadas?\n",
      "\n",
      "Los \"for\" dados, permiten hacer todas las combinaciones lineales posibles, ya que empieza con los valores mas altos en cero,\n",
      "jugando con los menores para    conseguir todas las combinaciones lineales, despues de ello empiezan a subir los valores mas\n",
      "altos hasta que queda max = 0 y la funcion termina con ello. \"\"\"\n",
      "\n",
      "def contando():\n",
      "    max = 200\n",
      "    contador = 1 # Empieza en 1 porque no se tomo en cuenta el billete de dos libras. \n",
      "    for a in range(0,3): # El rango var\u00eda entre 0 y 2, pero le ponemos 2+1 porque el rango es conjunto cerrado.  \n",
      "        max = 200-(100*a) \n",
      "        for b in range(0,max/50+1):\n",
      "            max2 = max -50*b\n",
      "            for c in range(max2/20+1):\n",
      "                max3 = max2-20*c\n",
      "                for d in range(0,max3/10 +1):\n",
      "                    max4 = max3 - 10*d\n",
      "                    for e in range(0,max4/5 +1):\n",
      "                        max5 =max4 - 5*e\n",
      "                        for f in range(0,max5/2 +1):\n",
      "                            contador += 1\n",
      "    return contador\n",
      "\n",
      "contando()"
     ],
     "language": "python",
     "metadata": {},
     "outputs": [
      {
       "metadata": {},
       "output_type": "pyout",
       "prompt_number": 88,
       "text": [
        "73682"
       ]
      }
     ],
     "prompt_number": 88
    },
    {
     "cell_type": "code",
     "collapsed": false,
     "input": [],
     "language": "python",
     "metadata": {},
     "outputs": [
      {
       "metadata": {},
       "output_type": "pyout",
       "prompt_number": 35,
       "text": [
        "0.0"
       ]
      }
     ],
     "prompt_number": 35
    }
   ],
   "metadata": {}
  }
 ]
}