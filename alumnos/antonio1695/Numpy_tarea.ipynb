{
 "metadata": {
  "name": "",
  "signature": "sha256:736b47c01ec4e4f80968671b20de6bbcc460bb48991808c3df5a73dcfb099617"
 },
 "nbformat": 3,
 "nbformat_minor": 0,
 "worksheets": [
  {
   "cells": [
    {
     "cell_type": "heading",
     "level": 1,
     "metadata": {},
     "source": [
      "Ejercicios de Numpy."
     ]
    },
    {
     "cell_type": "code",
     "collapsed": false,
     "input": [
      "%matplotlib inline\n",
      "import numpy as np\n",
      "import matplotlib as plt\n",
      "    \n",
      "\"\"\" Pregunta 1 \"\"\"\n",
      "    \n",
      "matriz = np.zeros((5,5))\n",
      "for i in xrange(0,5):\n",
      "    matriz[i,i] = i+1\n",
      "matriz2= np.zeros((4,4))\n",
      "for j in xrange(0,4):\n",
      "    matriz2[3,j]= j+1"
     ],
     "language": "python",
     "metadata": {},
     "outputs": [],
     "prompt_number": 28
    },
    {
     "cell_type": "code",
     "collapsed": false,
     "input": [
      "matriz"
     ],
     "language": "python",
     "metadata": {},
     "outputs": [
      {
       "metadata": {},
       "output_type": "pyout",
       "prompt_number": 29,
       "text": [
        "array([[ 1.,  0.,  0.,  0.,  0.],\n",
        "       [ 0.,  2.,  0.,  0.,  0.],\n",
        "       [ 0.,  0.,  3.,  0.,  0.],\n",
        "       [ 0.,  0.,  0.,  4.,  0.],\n",
        "       [ 0.,  0.,  0.,  0.,  5.]])"
       ]
      }
     ],
     "prompt_number": 29
    },
    {
     "cell_type": "code",
     "collapsed": false,
     "input": [
      "matriz2"
     ],
     "language": "python",
     "metadata": {},
     "outputs": [
      {
       "metadata": {},
       "output_type": "pyout",
       "prompt_number": 30,
       "text": [
        "array([[ 0.,  0.,  0.,  0.],\n",
        "       [ 0.,  0.,  0.,  0.],\n",
        "       [ 0.,  0.,  0.,  0.],\n",
        "       [ 1.,  2.,  3.,  4.]])"
       ]
      }
     ],
     "prompt_number": 30
    },
    {
     "cell_type": "code",
     "collapsed": false,
     "input": [
      "\"\"\" Pregunta 2 \"\"\" \n",
      "\n",
      "\"\"\"(a) Crea un arreglo de booleanos de shape (100,),\n",
      "con todos sus elementos True. El \u00edndice representa el n\u00famero.\"\"\"\n",
      "\n",
      "bool_arr = np.ones((100,), dtype=bool)\n",
      "bool_arr"
     ],
     "language": "python",
     "metadata": {},
     "outputs": [
      {
       "metadata": {},
       "output_type": "pyout",
       "prompt_number": 36,
       "text": [
        "array([ True,  True,  True,  True,  True,  True,  True,  True,  True,\n",
        "        True,  True,  True,  True,  True,  True,  True,  True,  True,\n",
        "        True,  True,  True,  True,  True,  True,  True,  True,  True,\n",
        "        True,  True,  True,  True,  True,  True,  True,  True,  True,\n",
        "        True,  True,  True,  True,  True,  True,  True,  True,  True,\n",
        "        True,  True,  True,  True,  True,  True,  True,  True,  True,\n",
        "        True,  True,  True,  True,  True,  True,  True,  True,  True,\n",
        "        True,  True,  True,  True,  True,  True,  True,  True,  True,\n",
        "        True,  True,  True,  True,  True,  True,  True,  True,  True,\n",
        "        True,  True,  True,  True,  True,  True,  True,  True,  True,\n",
        "        True,  True,  True,  True,  True,  True,  True,  True,  True,  True], dtype=bool)"
       ]
      }
     ],
     "prompt_number": 36
    },
    {
     "cell_type": "code",
     "collapsed": false,
     "input": [
      "\"\"\"(b) \"Tacha\" los elementos 0 y 1.\"\"\"\n",
      "bool_arr[0] = 0\n",
      "bool_arr[1] = 0\n",
      "bool_arr"
     ],
     "language": "python",
     "metadata": {},
     "outputs": [
      {
       "metadata": {},
       "output_type": "pyout",
       "prompt_number": 41,
       "text": [
        "array([False, False,  True,  True,  True,  True,  True,  True,  True,\n",
        "        True,  True,  True,  True,  True,  True,  True,  True,  True,\n",
        "        True,  True,  True,  True,  True,  True,  True,  True,  True,\n",
        "        True,  True,  True,  True,  True,  True,  True,  True,  True,\n",
        "        True,  True,  True,  True,  True,  True,  True,  True,  True,\n",
        "        True,  True,  True,  True,  True,  True,  True,  True,  True,\n",
        "        True,  True,  True,  True,  True,  True,  True,  True,  True,\n",
        "        True,  True,  True,  True,  True,  True,  True,  True,  True,\n",
        "        True,  True,  True,  True,  True,  True,  True,  True,  True,\n",
        "        True,  True,  True,  True,  True,  True,  True,  True,  True,\n",
        "        True,  True,  True,  True,  True,  True,  True,  True,  True,  True], dtype=bool)"
       ]
      }
     ],
     "prompt_number": 41
    },
    {
     "cell_type": "code",
     "collapsed": false,
     "input": [
      "\"\"\"(c) Para cada entero subsiguiente, tacha sus m\u00faltiplos.\n",
      "Una manera de hacerlo es el c\u00f3digo que se muestra. Explica que hace el c\u00f3digo,\n",
      "sobretodo explica que hace el slicing.\"\"\"\n",
      "\n",
      "N_max = int(np.sqrt(len(bool_arr)))\n",
      "for j in range(2, N_max):\n",
      "    bool_arr[2*j::j] = False\n",
      "\n",
      "\"\"\" El N_max es el numero maximo al cual llegaran los multiplos, debido a el teorema \n",
      "que nos explica que todo numero se puede factorizar en primos menores a su raiz.\n",
      "El for creara un j entre el 2 y N_max, el cual nos dara los multiplos de los primos y \n",
      "se posicionara en ese elemento del array, al ya encontrarse en esa posicion, convertira\n",
      "el booleano en False, dejandonos solamente los numeros primos con True. \"\"\""
     ],
     "language": "python",
     "metadata": {},
     "outputs": [
      {
       "metadata": {},
       "output_type": "pyout",
       "prompt_number": 47,
       "text": [
        "' El N_max es el numero maximo al cual llegaran los multiplos, debido a el teorema \\nque nos explica que todo numero se puede factorizar en primos menores a su raiz.\\nEl for creara un j entre el 2 y N_max, el cual nos dara los multiplos de los primos y \\nse posicionara en ese elemento del array, al ya encontrarse en esa posicion, convertira\\nel booleano en False, dejandonos solamente los numeros primos con True. '"
       ]
      }
     ],
     "prompt_number": 47
    },
    {
     "cell_type": "code",
     "collapsed": false,
     "input": [
      "\"\"\"(d) Mira la documentacion de np.nonzero para imprimir todos los n\u00fameros primos.\"\"\"\n",
      "\n",
      "np.nonzero(bool_arr)\n",
      "\"\"\" Nos permite obtener todos los booleanos True en el arreglo\"\"\""
     ],
     "language": "python",
     "metadata": {},
     "outputs": [
      {
       "metadata": {},
       "output_type": "pyout",
       "prompt_number": 49,
       "text": [
        "(array([ 2,  3,  5,  7, 11, 13, 17, 19, 23, 29, 31, 37, 41, 43, 47, 53, 59,\n",
        "        61, 67, 71, 73, 79, 83, 89, 97]),)"
       ]
      }
     ],
     "prompt_number": 49
    },
    {
     "cell_type": "code",
     "collapsed": false,
     "input": [
      "\"\"\"(e) Encapsula lo que acabamos de hacer en una funci\u00f3n llamada criba_eratostenes,\n",
      "que reciba como argumento maximo el cual representa el tama\u00f1o del array. \n",
      "Muestra el resultado para maximo = {10, 100, 200}, usando un for. \"\"\""
     ],
     "language": "python",
     "metadata": {},
     "outputs": []
    },
    {
     "cell_type": "code",
     "collapsed": false,
     "input": [
      "%%file cripa_erastotenes.py\n",
      "def criba(n):\n",
      "    vectormatriz = np.ones((n,), dtype=bool)\n",
      "    vectormatriz[0] = 0\n",
      "    vectormatriz[1] = 0\n",
      "    N_max = int(np.sqrt(len(vectormatriz)))\n",
      "    for k in range(2, N_max):\n",
      "        vectormatriz[2*k::k] = False  \n",
      "        \n",
      "    return np.nonzero(vectormatriz)\n",
      "\n",
      "maximo=[10,100,200]\n",
      "for i in xrange(0,len(maximo)):\n",
      "    print criba(maximo[i])"
     ],
     "language": "python",
     "metadata": {},
     "outputs": [
      {
       "output_type": "stream",
       "stream": "stdout",
       "text": [
        "Writing cripa_erastotenes.py\n"
       ]
      }
     ],
     "prompt_number": 62
    },
    {
     "cell_type": "code",
     "collapsed": false,
     "input": [
      "\"\"\" Pregunta 3 \"\"\" \n",
      "\n",
      "\"\"\"\n",
      "Crea un cubo rubik, partiendo de un arreglo de ceros y \n",
      "usando slicing dibuja cada una de las caras como si estuviera resuelto\n",
      "(cada colo un entero a partir del 1). Muestra con indexing que est\u00e1 resuelto\n",
      "(es decir, imprime las seis caras). \n",
      "\u00bfCu\u00e1ntos elementos del arreglo quedaron en 0? Ning\u00fan elemento del arreglo quedo en 0.\n",
      "\"\"\"\n",
      "cubo = np.zeros((6,3,3))\n",
      "for i in xrange(0,6):\n",
      "    cubo[i,:,:] = i+1\n",
      "    \n",
      "cubo"
     ],
     "language": "python",
     "metadata": {},
     "outputs": [
      {
       "metadata": {},
       "output_type": "pyout",
       "prompt_number": 73,
       "text": [
        "array([[[ 1.,  1.,  1.],\n",
        "        [ 1.,  1.,  1.],\n",
        "        [ 1.,  1.,  1.]],\n",
        "\n",
        "       [[ 2.,  2.,  2.],\n",
        "        [ 2.,  2.,  2.],\n",
        "        [ 2.,  2.,  2.]],\n",
        "\n",
        "       [[ 3.,  3.,  3.],\n",
        "        [ 3.,  3.,  3.],\n",
        "        [ 3.,  3.,  3.]],\n",
        "\n",
        "       [[ 4.,  4.,  4.],\n",
        "        [ 4.,  4.,  4.],\n",
        "        [ 4.,  4.,  4.]],\n",
        "\n",
        "       [[ 5.,  5.,  5.],\n",
        "        [ 5.,  5.,  5.],\n",
        "        [ 5.,  5.,  5.]],\n",
        "\n",
        "       [[ 6.,  6.,  6.],\n",
        "        [ 6.,  6.,  6.],\n",
        "        [ 6.,  6.,  6.]]])"
       ]
      }
     ],
     "prompt_number": 73
    },
    {
     "cell_type": "code",
     "collapsed": false,
     "input": [
      "\"\"\" \n",
      "Pregunta 4\n",
      "El Sudoku es un pasatiempo que consiste en un arreglo 9\u00d79 de celdas, con d\u00edgitos del 1 al 9, \n",
      "de tal manera que no se repiten valores en cada columna, cada rengl\u00f3n y en cada subarreglo de 3\u00d73.\n",
      "(a) Crea una funci\u00f3n llamada correcto que reciba un array 1d de tama\u00f1o 9 \n",
      "e indique si est\u00e1 completo o no (i.e. incluye los n\u00fameros del 1 al 9.\n",
      "\"\"\"\n",
      "def correcto(n):\n",
      "   return (np.unique(n).size == n.size) &(n.sum() == 45)\n",
      "\n",
      "a = np.arange(1,10)\n",
      "correcto(a)"
     ],
     "language": "python",
     "metadata": {},
     "outputs": [
      {
       "metadata": {},
       "output_type": "pyout",
       "prompt_number": 98,
       "text": [
        "True"
       ]
      }
     ],
     "prompt_number": 98
    },
    {
     "cell_type": "code",
     "collapsed": false,
     "input": [
      "\"\"\"\n",
      "(b) Crea una funci\u00f3n llamada descomponer3x3 que reciba un array de enteros \n",
      "de 9\u00d79 y lo separe en sus 9 subarreglos 3\u00d73.\n",
      "\"\"\"\n",
      "def descomponer3x3(n):\n",
      "    "
     ],
     "language": "python",
     "metadata": {},
     "outputs": [
      {
       "metadata": {},
       "output_type": "pyout",
       "prompt_number": 90,
       "text": [
        "'\\n(b) Crea una funci\\xc3\\xb3n llamada descomponer3x3 que reciba un array de enteros \\nde 9\\xc3\\x979 y lo separe en sus 9 subarreglos 3\\xc3\\x973.\\n'"
       ]
      }
     ],
     "prompt_number": 90
    },
    {
     "cell_type": "code",
     "collapsed": false,
     "input": [
      "\"\"\"\n",
      "(c) Crea la funci\u00f3n esSolucion que recibe un array de 9\u00d79 y devuelve si es o\n",
      "no soluci\u00f3n del sudoku.\n",
      "\"\"\"\n",
      "def esSolucion:"
     ],
     "language": "python",
     "metadata": {},
     "outputs": []
    }
   ],
   "metadata": {}
  }
 ]
}