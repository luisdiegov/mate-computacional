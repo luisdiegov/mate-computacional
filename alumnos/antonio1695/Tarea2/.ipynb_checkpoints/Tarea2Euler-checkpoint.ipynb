{
 "metadata": {
  "name": "",
  "signature": "sha256:ae104ef44d07816b78d6c2d04f7e32912f857863856edd3ec7e84e3f03f6d383"
 },
 "nbformat": 3,
 "nbformat_minor": 0,
 "worksheets": [
  {
   "cells": [
    {
     "cell_type": "code",
     "collapsed": false,
     "input": [
      "\"\"\"Ejercicio 6 del proyecto Euler\"\"\"\n",
      "\n",
      "def diferencia(n):\n",
      "    res = 0\n",
      "    elev = 0\n",
      "    for i in range(1,n+1):\n",
      "        res = res + i\n",
      "        elev = elev + (i**2)\n",
      "   \n",
      "    ent = res**2\n",
      "    dif = ent - elev\n",
      "    return dif\n",
      "\n",
      "diferencia(100)"
     ],
     "language": "python",
     "metadata": {},
     "outputs": [
      {
       "metadata": {},
       "output_type": "pyout",
       "prompt_number": 41,
       "text": [
        "25164150"
       ]
      }
     ],
     "prompt_number": 41
    },
    {
     "cell_type": "code",
     "collapsed": false,
     "input": [
      "\"\"\"Ejercicio 9 del proyecto Euler\"\"\"\n",
      "\n",
      "def pitagoras(n):\n",
      "    for a in range(1,n):\n",
      "        for b in range(a,n):\n",
      "            for c in range(b,n):\n",
      "                if (a**2)+(b**2)==(c**2) and a+b+c==n:\n",
      "                    mult = a*b*c\n",
      "                    return mult\n",
      "\n",
      "pitagoras(1000)"
     ],
     "language": "python",
     "metadata": {},
     "outputs": [
      {
       "metadata": {},
       "output_type": "pyout",
       "prompt_number": 85,
       "text": [
        "31875000"
       ]
      }
     ],
     "prompt_number": 85
    },
    {
     "cell_type": "code",
     "collapsed": false,
     "input": [],
     "language": "python",
     "metadata": {},
     "outputs": []
    }
   ],
   "metadata": {}
  }
 ]
}