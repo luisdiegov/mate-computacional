{
 "metadata": {
  "name": "",
  "signature": "sha256:89d887eb824dcfa46a7d196b371dc5e4ffba4f994b7c7cff0a97e5f42c6b19b6"
 },
 "nbformat": 3,
 "nbformat_minor": 0,
 "worksheets": [
  {
   "cells": [
    {
     "cell_type": "markdown",
     "metadata": {},
     "source": [
      "Ejercicio 1: Graficar.\n",
      "\n",
      "$$ y = \\frac{1}{1+x^2} \\sin x^2 $$\n",
      "\n",
      "en el intervalo $-5 \\leq x \\leq 5$.\n",
      "\n"
     ]
    },
    {
     "cell_type": "markdown",
     "metadata": {},
     "source": [
      "Ejercicio 2: Interpretacion.\n",
      "\n",
      "I) Lo que este codigo nos muestra son 6 gr\u00e1ficas. Estas est\u00e1n dadas por el plot, donde en cada valor de x, se busca \"cos(3*x)-2*sin(x) \" para darnos el segundo elemento (y) del punto en el plano cartesiando. El linspace nos da el rango de x. Debido a que de 0 a 4*pi hay un numero infinito de numeros (y la computadora solo puede tener un rango finito). Se dividira la distancia de ese rango en puntos equidistantes (se divide en (2^(k+1)+1) elementos)para crear una cantidad finita de \"x\" que seran tomadas en cuenta.\n",
      "\n",
      "II) Al cambiar los argumentos del subplot, vemos que cambia la cantidad de graficas que hay por renglon (de tres a dos). Y asi mismo, vemos que cambian la cantidad de graficas que hay por columna (de dos a tres).\n",
      "\n",
      "III) Al quitar la instrucci\u00f3n axis vemos que el limite que dimos en axis (de -1.5 a 1.5 y de 0 a 4*pi) a los ejes, ya no estar\u00e1.\n",
      "\n",
      "    "
     ]
    }
   ],
   "metadata": {}
  }
 ]
}