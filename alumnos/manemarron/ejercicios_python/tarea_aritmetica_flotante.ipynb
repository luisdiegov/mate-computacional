{
 "metadata": {
  "name": "",
  "signature": "sha256:ce4de473f32979f3e55e454ff639c72665bbb7a401143086d9a65e72d3431fa6"
 },
 "nbformat": 3,
 "nbformat_minor": 0,
 "worksheets": [
  {
   "cells": [
    {
     "cell_type": "heading",
     "level": 1,
     "metadata": {},
     "source": [
      "Tarea Aritm\u00e9tica de Punto flotante"
     ]
    },
    {
     "cell_type": "heading",
     "level": 3,
     "metadata": {},
     "source": [
      "Pregunta 1"
     ]
    },
    {
     "cell_type": "markdown",
     "metadata": {},
     "source": [
      "**Escribir 6.1 como un n\u00famero flotante de doble precisi\u00f3n normalizado**"
     ]
    },
    {
     "cell_type": "code",
     "collapsed": false,
     "input": [
      "import math\n",
      "from decimal import Decimal"
     ],
     "language": "python",
     "metadata": {},
     "outputs": [],
     "prompt_number": 18
    },
    {
     "cell_type": "code",
     "collapsed": false,
     "input": [
      "n=6.1\n",
      "exp=int(math.log(6.1,2))\n",
      "fraccion = n/2**exp\n",
      "if fraccion>1: fraccion-=1"
     ],
     "language": "python",
     "metadata": {},
     "outputs": [],
     "prompt_number": 21
    },
    {
     "cell_type": "code",
     "collapsed": false,
     "input": [
      "fraccion"
     ],
     "language": "python",
     "metadata": {},
     "outputs": [
      {
       "metadata": {},
       "output_type": "pyout",
       "prompt_number": 28,
       "text": [
        "0.5249999999999999"
       ]
      }
     ],
     "prompt_number": 28
    },
    {
     "cell_type": "code",
     "collapsed": false,
     "input": [
      "s=\"\"\n",
      "a=0.05\n",
      "for i in xrange(64):\n",
      "    a*=2\n",
      "    if a>=1:\n",
      "        a-=1\n",
      "        s+=\"1\"\n",
      "    else:\n",
      "        s+=\"0\"\n",
      "print s,len(s)"
     ],
     "language": "python",
     "metadata": {},
     "outputs": [
      {
       "output_type": "stream",
       "stream": "stdout",
       "text": [
        "0000110011001100110011001100110011001100110011001100110100000000 64\n"
       ]
      }
     ],
     "prompt_number": 36
    },
    {
     "cell_type": "markdown",
     "metadata": {},
     "source": [
      "Como se puede ver, ya tenemos un peque\u00f1o problema de precisi\u00f3n, ya que la representaci\u00f3n binaria de 0.525 requiere de 53 bits, mientras que los n\u00fameros de doble precisi\u00f3n solo cuentan con 52 para "
     ]
    },
    {
     "cell_type": "heading",
     "level": 3,
     "metadata": {},
     "source": [
      "Pregunta 2"
     ]
    },
    {
     "cell_type": "markdown",
     "metadata": {},
     "source": [
      "**\u00bfCu\u00e1ntos DP hay por b\u00ednade?**"
     ]
    },
    {
     "cell_type": "markdown",
     "metadata": {},
     "source": [
      "Un  n\u00famero flotante de doble precisi\u00f3n consta de 64 bits, 1 para el signo, 11 para el exponente y 52 para la fracci\u00f3n. Una b\u00ednade corresponde a todos los DP con el mismo exponente k. Por lo tanto al fijar el exponente, quedan 53 bits para formar n\u00fameros diferentes. Entonces la cantidad de n\u00fameros de doble precisi\u00f3n que hay en cada b\u00ednade es:"
     ]
    },
    {
     "cell_type": "code",
     "collapsed": false,
     "input": [
      "s=str(2**53)\n",
      "exp=len(s[1:])\n",
      "s=s[:1]+\".\"+s[1:]+\"e\"+str(exp)\n",
      "print s"
     ],
     "language": "python",
     "metadata": {},
     "outputs": [
      {
       "output_type": "stream",
       "stream": "stdout",
       "text": [
        "9.007199254740992e15\n"
       ]
      }
     ],
     "prompt_number": 5
    },
    {
     "cell_type": "code",
     "collapsed": false,
     "input": [],
     "language": "python",
     "metadata": {},
     "outputs": []
    }
   ],
   "metadata": {}
  }
 ]
}