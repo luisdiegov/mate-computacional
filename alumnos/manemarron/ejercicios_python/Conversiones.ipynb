{
 "metadata": {
  "name": "",
  "signature": "sha256:f6ca634c37daa0a5c47e9cc9be665e965718ac1ac0afd1b44048e7ec3f3143ea"
 },
 "nbformat": 3,
 "nbformat_minor": 0,
 "worksheets": [
  {
   "cells": [
    {
     "cell_type": "heading",
     "level": 1,
     "metadata": {},
     "source": [
      "Conversiones entre decimal y binario"
     ]
    },
    {
     "cell_type": "heading",
     "level": 6,
     "metadata": {},
     "source": [
      "[Jos\u00e9 Manuel Marr\u00f3n Ruiz]"
     ]
    },
    {
     "cell_type": "code",
     "collapsed": false,
     "input": [
      "%load conversiones.py"
     ],
     "language": "python",
     "metadata": {},
     "outputs": [],
     "prompt_number": 1
    },
    {
     "cell_type": "code",
     "collapsed": false,
     "input": [
      "%%file conversiones.py\n",
      "def decimalToBinTwosComplement(n,k):\n",
      "    \"\"\"\n",
      "    Funcion que transforma de decimal n a binario de k bits en complemento a 2\n",
      "    \"\"\"\n",
      "    try:\n",
      "        assert -2**(k-1)<=n<2**(k-1)\n",
      "        if n<0:\n",
      "            n+=2**k\n",
      "        binary=\"\"\n",
      "        while len(binary)<8:\n",
      "            binary=\"%s%s\"%(n%2,binary)\n",
      "            n/=2\n",
      "        return binary\n",
      "    except(AssertionError):\n",
      "        return \"Overflow\"\n",
      "\n",
      "def binTwosComplementToDecimal(binary):\n",
      "    \"\"\"\n",
      "    Funcion que transforma un numero binario en complemento a 2 a decimal\n",
      "    \"\"\"\n",
      "    try:\n",
      "        dec=0\n",
      "        for i in range(0,len(binary)):\n",
      "            c = int(binary[i])\n",
      "            if c!=0 and c!=1: raise Exception(\"No es binario\")\n",
      "            if i==0:\n",
      "                c=-c\n",
      "            dec+=c*2**(len(binary)-i-1)\n",
      "        return dec\n",
      "    except Exception as e:\n",
      "        print e\n",
      "\n",
      "###### HEXADECIMAL A BINARIO Y VICEVERSA ##############\n",
      "HEX_BIN = [\n",
      "    (\"0000\",\"0\"),\n",
      "    (\"0001\",\"1\"),\n",
      "    (\"0010\",\"2\"),\n",
      "    (\"0011\",\"3\"),\n",
      "    (\"0100\",\"4\"),\n",
      "    (\"0101\",\"5\"),\n",
      "    (\"0110\",\"6\"),\n",
      "    (\"0111\",\"7\"),\n",
      "    (\"1000\",\"8\"),\n",
      "    (\"1001\",\"9\"),\n",
      "    (\"1010\",\"A\"),\n",
      "    (\"1011\",\"B\"),\n",
      "    (\"1100\",\"C\"),\n",
      "    (\"1101\",\"D\"),\n",
      "    (\"1110\",\"E\"),\n",
      "    (\"1111\",\"F\"),\n",
      "]\n",
      "def binaryToHex(binary):\n",
      "    \"\"\"\n",
      "    Funcion que convierte de binario a hexadecimal\n",
      "    \"\"\"\n",
      "    digits=len(binary)/4\n",
      "    if len(binary)%4 != 0: digits += 1\n",
      "    binary = \"0\"*(digits*4-len(binary))+binary\n",
      "    hexa=\"\"\n",
      "    for i in range(0,digits):\n",
      "        aux = binary[4*i:4*(i+1)]\n",
      "        j=0\n",
      "        for t in HEX_BIN:\n",
      "            if t[0] == aux:\n",
      "                hexa += t[1]\n",
      "                break\n",
      "    return hexa\n",
      "\n",
      "def hexToBinary(hexa):\n",
      "    \"\"\"\n",
      "    Funcion que convierte de hexadecimal a binario\n",
      "    \"\"\"\n",
      "    binary=\"\"\n",
      "    for d in hexa:\n",
      "        for t in HEX_BIN:\n",
      "            if t[1] == d:\n",
      "                binary += t[0]\n",
      "                break\n",
      "    return binary"
     ],
     "language": "python",
     "metadata": {},
     "outputs": [
      {
       "output_type": "stream",
       "stream": "stdout",
       "text": [
        "Overwriting conversiones.py\n"
       ]
      }
     ],
     "prompt_number": 46
    },
    {
     "cell_type": "code",
     "collapsed": false,
     "input": [
      "binTwosComplementToDecimal('011111')"
     ],
     "language": "python",
     "metadata": {},
     "outputs": [
      {
       "metadata": {},
       "output_type": "pyout",
       "prompt_number": 38,
       "text": [
        "31"
       ]
      }
     ],
     "prompt_number": 38
    },
    {
     "cell_type": "code",
     "collapsed": false,
     "input": [
      "%load conversiones.py"
     ],
     "language": "python",
     "metadata": {},
     "outputs": [],
     "prompt_number": 47
    },
    {
     "cell_type": "code",
     "collapsed": false,
     "input": [
      "def decimalToBinTwosComplement(n,k):\n",
      "    \"\"\"\n",
      "    Funcion que transforma de decimal n a binario de k bits en complemento a 2\n",
      "    \"\"\"\n",
      "    try:\n",
      "        assert -2**(k-1)<=n<2**(k-1)\n",
      "        if n<0:\n",
      "            n+=2**k\n",
      "        binary=\"\"\n",
      "        while len(binary)<8:\n",
      "            binary=\"%s%s\"%(n%2,binary)\n",
      "            n/=2\n",
      "        return binary\n",
      "    except(AssertionError):\n",
      "        return \"Overflow\"\n",
      "\n",
      "def binTwosComplementToDecimal(binary):\n",
      "    \"\"\"\n",
      "    Funcion que transforma un numero binario en complemento a 2 a decimal\n",
      "    \"\"\"\n",
      "    try:\n",
      "        dec=0\n",
      "        for i in range(0,len(binary)):\n",
      "            c = int(binary[i])\n",
      "            if c!=0 and c!=1: raise Exception(\"No es binario\")\n",
      "            if i==0:\n",
      "                c=-c\n",
      "            dec+=c*2**(len(binary)-i-1)\n",
      "        return dec\n",
      "    except Exception as e:\n",
      "        print e\n",
      "\n",
      "###### HEXADECIMAL A BINARIO Y VICEVERSA ##############\n",
      "HEX_BIN = [\n",
      "    (\"0000\",\"0\"),\n",
      "    (\"0001\",\"1\"),\n",
      "    (\"0010\",\"2\"),\n",
      "    (\"0011\",\"3\"),\n",
      "    (\"0100\",\"4\"),\n",
      "    (\"0101\",\"5\"),\n",
      "    (\"0110\",\"6\"),\n",
      "    (\"0111\",\"7\"),\n",
      "    (\"1000\",\"8\"),\n",
      "    (\"1001\",\"9\"),\n",
      "    (\"1010\",\"A\"),\n",
      "    (\"1011\",\"B\"),\n",
      "    (\"1100\",\"C\"),\n",
      "    (\"1101\",\"D\"),\n",
      "    (\"1110\",\"E\"),\n",
      "    (\"1111\",\"F\"),\n",
      "]\n",
      "def binaryToHex(binary):\n",
      "    \"\"\"\n",
      "    Funcion que convierte de binario a hexadecimal\n",
      "    \"\"\"\n",
      "    digits=len(binary)/4\n",
      "    if len(binary)%4 != 0: digits += 1\n",
      "    binary = \"0\"*(digits*4-len(binary))+binary\n",
      "    hexa=\"\"\n",
      "    for i in range(0,digits):\n",
      "        aux = binary[4*i:4*(i+1)]\n",
      "        j=0\n",
      "        for t in HEX_BIN:\n",
      "            if t[0] == aux:\n",
      "                hexa += t[1]\n",
      "                break\n",
      "    return hexa\n",
      "\n",
      "def hexToBinary(hexa):\n",
      "    \"\"\"\n",
      "    Funcion que convierte de hexadecimal a binario\n",
      "    \"\"\"\n",
      "    binary=\"\"\n",
      "    for d in hexa:\n",
      "        for t in HEX_BIN:\n",
      "            if t[1] == d:\n",
      "                binary += t[0]\n",
      "                break\n",
      "    return binary"
     ],
     "language": "python",
     "metadata": {},
     "outputs": [],
     "prompt_number": 48
    },
    {
     "cell_type": "code",
     "collapsed": false,
     "input": [
      "hexToBinary(\"FA7\")"
     ],
     "language": "python",
     "metadata": {},
     "outputs": [
      {
       "metadata": {},
       "output_type": "pyout",
       "prompt_number": 49,
       "text": [
        "'111110100111'"
       ]
      }
     ],
     "prompt_number": 49
    },
    {
     "cell_type": "code",
     "collapsed": false,
     "input": [],
     "language": "python",
     "metadata": {},
     "outputs": []
    }
   ],
   "metadata": {}
  }
 ]
}