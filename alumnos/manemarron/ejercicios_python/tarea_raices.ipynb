{
 "metadata": {
  "name": "",
  "signature": "sha256:04b0e5426d1eaaf68306c898240243ae96e79527daaa76dc0c1e9e82b191bee5"
 },
 "nbformat": 3,
 "nbformat_minor": 0,
 "worksheets": [
  {
   "cells": [
    {
     "cell_type": "heading",
     "level": 1,
     "metadata": {},
     "source": [
      "Tarea Raices"
     ]
    },
    {
     "cell_type": "code",
     "collapsed": false,
     "input": [
      "%matplotlib inline\n",
      "import sympy as sym\n",
      "from sympy.interactive import printing\n",
      "import numpy as np\n",
      "import matplotlib.pyplot as plt"
     ],
     "language": "python",
     "metadata": {},
     "outputs": [],
     "prompt_number": 3
    },
    {
     "cell_type": "code",
     "collapsed": false,
     "input": [
      "printing.init_printing(use_latex=True)"
     ],
     "language": "python",
     "metadata": {},
     "outputs": [],
     "prompt_number": 4
    },
    {
     "cell_type": "markdown",
     "metadata": {},
     "source": [
      "Estudios m\u00e9dicos han determinado que un usuario del _bungee_ puede sufrir una lesi\u00f3n seria de las v\u00e9rtebras su la velocidad de ca\u00edda libre excede los $v = 36\\ m/s$ luego de $t= 4\\ s$ de ca\u00edda. Se te pide calcular la masa $m$ m\u00e1xima a la cual se cumple esta velocidad si se supone un coeficiente de arrastre de $c_d = 0.25\\ kg/m$."
     ]
    },
    {
     "cell_type": "markdown",
     "metadata": {},
     "source": [
      "La soluci\u00f3n anal\u00edtica es\n",
      "\n",
      "$$\n",
      "v(t) = \\sqrt{\\frac{g m}{c_d}}\\tanh\\left(\\sqrt{\\frac{g c_d}{m}}t\\right)\n",
      "$$"
     ]
    },
    {
     "cell_type": "markdown",
     "metadata": {},
     "source": [
      "Podemos usar lo aprendido en esta secci\u00f3n y replantear el problema de la siguiente manera:\n",
      "\n",
      "$$\n",
      "f(m) = \\sqrt{\\frac{g m}{c_d}}\\tanh\\left(\\sqrt{\\frac{g c_d}{m}}t\\right) - v(t)\n",
      "$$"
     ]
    },
    {
     "cell_type": "heading",
     "level": 2,
     "metadata": {},
     "source": [
      "2"
     ]
    },
    {
     "cell_type": "code",
     "collapsed": false,
     "input": [
      "h = lambda m,g,cd,t,v: np.sqrt(g*m/cd)*np.tanh(np.sqrt(g*cd/m)*t) - v\n",
      "g = 9.8\n",
      "cd = 0.25\n",
      "t = 4\n",
      "v = 36\n",
      "m = np.linspace(50,200,1000)\n",
      "plt.plot(m,h(m,g,cd,t,v))\n",
      "plt.title(\"Grafica de la masa en la cual se alcanza la velocidad de lesion en un bungee\")\n",
      "plt.xlabel(\"Masa (kg)\")\n",
      "plt.ylabel(\"f(m)\")\n",
      "plt.grid()"
     ],
     "language": "python",
     "metadata": {},
     "outputs": [
      {
       "metadata": {},
       "output_type": "display_data",
       "png": "[encoded data removed]",
       "text": [
        "<matplotlib.figure.Figure at 0x7f552280d990>"
       ]
      }
     ],
     "prompt_number": 21
    },
    {
     "cell_type": "markdown",
     "metadata": {},
     "source": [
      "Se puede observar en la gr\u00e1fica que el valor de la masa en que se alcanza la velocidad de lesi\u00f3n es aproximadamente de 140 kg."
     ]
    },
    {
     "cell_type": "heading",
     "level": 2,
     "metadata": {},
     "source": [
      "3"
     ]
    },
    {
     "cell_type": "code",
     "collapsed": false,
     "input": [
      "def biseccion(func, a, b, tolerancia, stop):\n",
      "    k = 0\n",
      "    \n",
      "    x = (a + b)/float(2)\n",
      "    \n",
      "    I = (b - a)/float(2)\n",
      "    \n",
      "    assert func(a)*func(b) < 0, \"El signo de la funci\u00f3n en los extremos deber\u00eda de ser diferente\"\n",
      "    assert func(a) != 0, \"La ra\u00edz es %.5f\" % a\n",
      "    assert func(b) != 0, \"La ra\u00edz es %.5f\" % b\n",
      "    \n",
      "    while I >= tolerancia and k <= stop:\n",
      "        k = k + 1\n",
      "        \n",
      "        f_x = func(x)\n",
      "        f_a = func(a)\n",
      "        f_b = func(b)        \n",
      "        \n",
      "        \n",
      "        if(f_a*f_x < 0):\n",
      "            a, b = a, x\n",
      "        elif(f_x*f_b < 0):\n",
      "            a, b = x, b\n",
      "        \n",
      "        x = (a+b)/float(2)\n",
      "        \n",
      "        I = (b - a)/float(2)\n",
      "        \n",
      "    return x if k<=stop else None"
     ],
     "language": "python",
     "metadata": {},
     "outputs": [],
     "prompt_number": 46
    },
    {
     "cell_type": "code",
     "collapsed": false,
     "input": [
      "j=0\n",
      "result_biseccion = None\n",
      "f = lambda m: h(m,g,cd,t,v)\n",
      "while result_biseccion is None:\n",
      "    j+=1\n",
      "    result_biseccion =  biseccion(f,50,200,10**-10,j)\n",
      "print \"El n\u00famero de pasos que se necesit\u00f3 para encontrar la raiz\"\n",
      "print \"utilizando el m\u00e9todo de la bisecci\u00f3n con una precisi\u00f3n de 10^-10 y\"\n",
      "print \"un intervalo entre 50kg y 200 kg fue de %s pasos.\"%j\n",
      "print \"Raiz: m=%s\"%result_biseccion"
     ],
     "language": "python",
     "metadata": {},
     "outputs": [
      {
       "output_type": "stream",
       "stream": "stdout",
       "text": [
        "El n\u00famero de pasos que se necesit\u00f3 para encontrar la raiz\n",
        "utilizando el m\u00e9todo de la bisecci\u00f3n con una precisi\u00f3n de 10^-10 y\n",
        "un intervalo entre 50kg y 200 kg fue de 40 pasos.\n",
        "Raiz: m=144.406693961\n"
       ]
      }
     ],
     "prompt_number": 70
    },
    {
     "cell_type": "code",
     "collapsed": false,
     "input": [
      "def find_brackets(f,a,b,n):\n",
      "    length = (b-a)/float(n)\n",
      "    result = []\n",
      "    while a + length <= b:\n",
      "        if(f(a)*f(a+length)<0):\n",
      "            result.append((a,a+length))\n",
      "        a = a+length\n",
      "    return result"
     ],
     "language": "python",
     "metadata": {},
     "outputs": [],
     "prompt_number": 52
    },
    {
     "cell_type": "code",
     "collapsed": false,
     "input": [
      "print \"El intervalo obtenido por el m\u00e9todo find_brackets con n=500 fue: \"\n",
      "print find_brackets(f,50.0,200.0,500)[0]"
     ],
     "language": "python",
     "metadata": {},
     "outputs": [
      {
       "output_type": "stream",
       "stream": "stdout",
       "text": [
        "El intervalo obtenido por el m\u00e9todo find_brackets con n=500 fue: \n",
        "(144.19999999999987, 144.4999999999999)\n"
       ]
      }
     ],
     "prompt_number": 71
    },
    {
     "cell_type": "heading",
     "level": 2,
     "metadata": {},
     "source": [
      "5"
     ]
    },
    {
     "cell_type": "code",
     "collapsed": false,
     "input": [
      "M=sym.Symbol(\"m\")\n",
      "F=sym.sqrt(g*M/cd)*sym.tanh(sym.sqrt(g*cd/M)*t) -v"
     ],
     "language": "python",
     "metadata": {},
     "outputs": [],
     "prompt_number": 66
    },
    {
     "cell_type": "code",
     "collapsed": false,
     "input": [
      "def newton_sym(f,x, x0, tolerancia, stop):\n",
      "    assert type(f).__bases__[0]  in (sym.expr.Expr, sym.operations.AssocOp), \"La funci\u00f3n no es una expresi\u00f3n simb\u00f3lica ... :/\"\n",
      "    \n",
      "    # Derivamos la expresi\u00f3n\n",
      "    df = sym.diff(f, x)\n",
      "    \n",
      "    # Convertimos en funciones las expresiones\n",
      "    F = sym.lambdify(x,f, modules=\"numpy\")\n",
      "    DF = sym.lambdify(x, df, modules=\"numpy\")\n",
      "    k = 0\n",
      "    diff = 1\n",
      "    \n",
      "    while diff >= tolerancia and k <= stop:\n",
      "        k += 1\n",
      "        x1 = x0 - (float(F(x0)/DF(x0)))\n",
      "        diff = abs(x1 - x0)\n",
      "        x0 = x1\n",
      "    return x0 if k<=stop else None"
     ],
     "language": "python",
     "metadata": {},
     "outputs": [],
     "prompt_number": 67
    },
    {
     "cell_type": "code",
     "collapsed": false,
     "input": [
      "j2=0\n",
      "result_newton = None\n",
      "x0=100\n",
      "while result_newton is None:\n",
      "    j2 += 1\n",
      "    result_newton = newton_sym(F,M,x0,10**-10,j2)\n",
      "print \"El n\u00famero de pasos para aproximar la raiz mediante el m\u00e9todo de Newton\"\n",
      "print \"utilizando c\u00e1lculo simb\u00f3lico fue de %s pasos (x0=%s)\" % (j2,x0)\n",
      "print \"Raiz: m=%s\"%result_newton"
     ],
     "language": "python",
     "metadata": {},
     "outputs": [
      {
       "output_type": "stream",
       "stream": "stdout",
       "text": [
        "El n\u00famero de pasos para aproximar la raiz mediante el m\u00e9todo de Newton\n",
        "utilizando c\u00e1lculo simb\u00f3lico fue de 6 pasos (x0=100)\n",
        "Raiz: m=144.406693961\n"
       ]
      }
     ],
     "prompt_number": 74
    },
    {
     "cell_type": "heading",
     "level": 2,
     "metadata": {},
     "source": [
      "6"
     ]
    },
    {
     "cell_type": "code",
     "collapsed": false,
     "input": [
      "def deriv_Atras(f,x0,x1):\n",
      "    return (f(x0)-f(x1))/float(x0-x1)\n",
      "def secante(f,df,x1,x0,tolerance,stop,step):\n",
      "    if step > stop: return None\n",
      "    if abs(x1-x0) < tolerance: return x1\n",
      "    aux = x1\n",
      "    x1 = x1 - (f(x1)/df(x1,x0))\n",
      "    x0 = aux\n",
      "    return secante(f,df,x1,x0,tolerance,stop,step+1)"
     ],
     "language": "python",
     "metadata": {},
     "outputs": [],
     "prompt_number": 76
    },
    {
     "cell_type": "code",
     "collapsed": false,
     "input": [
      "f1 = lambda m: h(m,g,cd,t,v)\n",
      "df1 = lambda x1,x0: (f1(x0)-f1(x1))/float(x0-x1)"
     ],
     "language": "python",
     "metadata": {},
     "outputs": [],
     "prompt_number": 84
    },
    {
     "cell_type": "code",
     "collapsed": false,
     "input": [
      "j3=0\n",
      "result_secante = None\n",
      "x1=70\n",
      "x0=69\n",
      "while result_secante is None:\n",
      "    j3 += 1\n",
      "    result_secante = secante(f1,df1,x1,x0,10**-10,j3,0)\n",
      "print \"El n\u00famero de pasos para aproximar la raiz mediante el m\u00e9todo de la secante\"\n",
      "print \"fue de %s pasos (x1=%s;x0=%s)\" % (j3,x1,x0)\n",
      "print \"Raiz: m=%s\"%result_secante"
     ],
     "language": "python",
     "metadata": {},
     "outputs": [
      {
       "output_type": "stream",
       "stream": "stdout",
       "text": [
        "El n\u00famero de pasos para aproximar la raiz mediante el m\u00e9todo de la secante\n",
        "fue de 9 pasos (x1=70;x0=69)\n",
        "Raiz: m=144.406693961\n"
       ]
      }
     ],
     "prompt_number": 85
    },
    {
     "cell_type": "heading",
     "level": 2,
     "metadata": {},
     "source": [
      "7"
     ]
    },
    {
     "cell_type": "code",
     "collapsed": false,
     "input": [
      "f2 = f1\n",
      "df2 = lambda x,delta: (f2(x+delta)-f2(x))/delta"
     ],
     "language": "python",
     "metadata": {},
     "outputs": [],
     "prompt_number": 87
    },
    {
     "cell_type": "code",
     "collapsed": false,
     "input": [
      "def sec_mej_rec(f,df,x1,x0,delta,tolerance,stop,step):\n",
      "    if step > stop: return None\n",
      "    if abs(x1-x0) < tolerance: return x1\n",
      "    aux = x1\n",
      "    x1 = x0 - (f(x0)/df(x0,delta))\n",
      "    x0 = aux\n",
      "    return sec_mej_rec(f,df,x1,x0,delta,tolerance,stop,step+1)\n",
      "\n",
      "def secante_mejorado(f,df,x0,delta,tolerance,stop):\n",
      "    x1 = x0 + tolerance + 1\n",
      "    return sec_mej_rec(f,df,x1,x0,10**-6,tolerance,stop,0)"
     ],
     "language": "python",
     "metadata": {},
     "outputs": [],
     "prompt_number": 95
    },
    {
     "cell_type": "code",
     "collapsed": false,
     "input": [
      "j4=0\n",
      "result_secante_mej = None\n",
      "x0=50\n",
      "delta=10**-6\n",
      "while result_secante_mej is None:\n",
      "    j4 += 1\n",
      "    result_secante_mej = secante_mejorado(f2,df2,x0,delta,10**-10,j4)\n",
      "print \"El n\u00famero de pasos para aproximar la raiz mediante el m\u00e9todo de la secante mejorado\"\n",
      "print \"fue de %s pasos (x0=%s,delta=%s)\" % (j4,x0,delta)\n",
      "print \"Raiz: m=%s\"%result_secante_mej"
     ],
     "language": "python",
     "metadata": {},
     "outputs": [
      {
       "output_type": "stream",
       "stream": "stdout",
       "text": [
        "El n\u00famero de pasos para aproximar la raiz mediante el m\u00e9todo de la secante mejorado\n",
        "fue de 12 pasos (x0=50,delta=1e-06)\n",
        "Raiz: m=144.406693961\n"
       ]
      }
     ],
     "prompt_number": 96
    }
   ],
   "metadata": {}
  }
 ]
}