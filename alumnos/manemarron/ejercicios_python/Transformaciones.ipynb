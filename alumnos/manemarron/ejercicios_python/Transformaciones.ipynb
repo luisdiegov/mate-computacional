{
 "metadata": {
  "name": "",
  "signature": "sha256:bb39120eb4d015c9890694ec0e7e324826b1dba8bd9f52d6f809c45b8dcae62e"
 },
 "nbformat": 3,
 "nbformat_minor": 0,
 "worksheets": [
  {
   "cells": [
    {
     "cell_type": "heading",
     "level": 1,
     "metadata": {},
     "source": [
      "Tarea (transformaciones.py)"
     ]
    },
    {
     "cell_type": "markdown",
     "metadata": {},
     "source": [
      "El objetivo de la tarea es modificar el archivo transformaciones.py para que tenga una funci\u00f3n para convertir de coordenadas cartesianas a coordenadas esf\u00e9ricas. Veamos primero como se ve\u00eda el archivo."
     ]
    },
    {
     "cell_type": "code",
     "collapsed": false,
     "input": [
      "%load ../transformaciones.py"
     ],
     "language": "python",
     "metadata": {},
     "outputs": [],
     "prompt_number": 3
    },
    {
     "cell_type": "code",
     "collapsed": false,
     "input": [
      "from math import sin,cos\n",
      "def coordFromSphericCoordinates(r,theta,phi):\n",
      "    x = r*sin(theta)*cos(phi)\n",
      "    y = r*sin(theta)*sin(phi)\n",
      "    z = r*cos(phi)\n",
      "    return x,y,z"
     ],
     "language": "python",
     "metadata": {},
     "outputs": [],
     "prompt_number": 7
    },
    {
     "cell_type": "markdown",
     "metadata": {},
     "source": [
      "Agreguemos la funci\u00f3n para convertir de coordenadas cartesianas a esf\u00e9ricas."
     ]
    },
    {
     "cell_type": "code",
     "collapsed": false,
     "input": [
      "%%file ../transformaciones.py\n",
      "from math import sin,cos,sqrt,atan,pi\n",
      "def coordFromSphericCoordinates(r,theta,phi):\n",
      "    \"\"\"\n",
      "    Funci\u00f3n que convierte un punto de coordenadas esf\u00e9ricas a coordenadas cartesianas\n",
      "    \"\"\"\n",
      "    x = r*sin(theta)*cos(phi)\n",
      "    y = r*sin(theta)*sin(phi)\n",
      "    z = r*cos(phi)\n",
      "    return x,y,z\n",
      "\n",
      "def cartesianToSphericCoordinates(x,y,z):\n",
      "    \"\"\"\n",
      "    Funci\u00f3n que convierte un punto de coordenadas cartesianas a coordenadas esf\u00e9ricas (los \u00e1ngulos se obtienen en radianes)\n",
      "    \"\"\"\n",
      "    r = sqrt(x**2+y**2+z**2)\n",
      "    if x==0 : \n",
      "        if y>0:\n",
      "            theta=pi\n",
      "        elif y<0:\n",
      "            theta=-pi\n",
      "        elif y==0:\n",
      "            theta=0.0\n",
      "    else: \n",
      "        theta = float(atan(y/x))\n",
      "    if(z==0):\n",
      "        if sqrt(x**2+y**2) > 0:\n",
      "            phi=pi\n",
      "        else:\n",
      "            phi=0.0\n",
      "    else:\n",
      "        phi = float(atan(sqrt(x**2+y**2)/z))\n",
      "    return r,theta,phi"
     ],
     "language": "python",
     "metadata": {},
     "outputs": [
      {
       "output_type": "stream",
       "stream": "stdout",
       "text": [
        "Overwriting ../transformaciones.py\n"
       ]
      }
     ],
     "prompt_number": 33
    },
    {
     "cell_type": "code",
     "collapsed": false,
     "input": [
      "%load ../transformaciones.py"
     ],
     "language": "python",
     "metadata": {},
     "outputs": [],
     "prompt_number": 34
    },
    {
     "cell_type": "code",
     "collapsed": false,
     "input": [
      "from math import sin,cos,sqrt,atan,pi\n",
      "def coordFromSphericCoordinates(r,theta,phi):\n",
      "    \"\"\"\n",
      "    Funci\u00f3n que convierte un punto de coordenadas esf\u00e9ricas a coordenadas cartesianas\n",
      "    \"\"\"\n",
      "    x = r*sin(theta)*cos(phi)\n",
      "    y = r*sin(theta)*sin(phi)\n",
      "    z = r*cos(phi)\n",
      "    return x,y,z\n",
      "\n",
      "def cartesianToSphericCoordinates(x,y,z):\n",
      "    \"\"\"\n",
      "    Funci\u00f3n que convierte un punto de coordenadas cartesianas a coordenadas esf\u00e9ricas (los \u00e1ngulos se obtienen en radianes)\n",
      "    \"\"\"\n",
      "    r = sqrt(x**2+y**2+z**2)\n",
      "    if x==0 : \n",
      "        if y>0:\n",
      "            theta=pi\n",
      "        elif y<0:\n",
      "            theta=-pi\n",
      "        elif y==0:\n",
      "            theta=0.0\n",
      "    else: \n",
      "        theta = float(atan(y/x))\n",
      "    if(z==0):\n",
      "        if sqrt(x**2+y**2) > 0:\n",
      "            phi=pi\n",
      "        else:\n",
      "            phi=0.0\n",
      "    else:\n",
      "        phi = float(atan(sqrt(x**2+y**2)/z))\n",
      "    return r,theta,phi"
     ],
     "language": "python",
     "metadata": {},
     "outputs": [],
     "prompt_number": 35
    },
    {
     "cell_type": "code",
     "collapsed": false,
     "input": [
      "cartesianToSphericCoordinates(0,0,0)"
     ],
     "language": "python",
     "metadata": {},
     "outputs": [
      {
       "metadata": {},
       "output_type": "pyout",
       "prompt_number": 36,
       "text": [
        "(0.0, 0.0, 0.0)"
       ]
      }
     ],
     "prompt_number": 36
    },
    {
     "cell_type": "code",
     "collapsed": false,
     "input": [
      "cartesianToSphericCoordinates(1,1,1)"
     ],
     "language": "python",
     "metadata": {},
     "outputs": [
      {
       "metadata": {},
       "output_type": "pyout",
       "prompt_number": 37,
       "text": [
        "(1.7320508075688772, 0.7853981633974483, 0.9553166181245093)"
       ]
      }
     ],
     "prompt_number": 37
    },
    {
     "cell_type": "code",
     "collapsed": false,
     "input": [
      "cartesianToSphericCoordinates(1,0,1)"
     ],
     "language": "python",
     "metadata": {},
     "outputs": [
      {
       "metadata": {},
       "output_type": "pyout",
       "prompt_number": 38,
       "text": [
        "(1.4142135623730951, 0.0, 0.7853981633974483)"
       ]
      }
     ],
     "prompt_number": 38
    },
    {
     "cell_type": "code",
     "collapsed": false,
     "input": [
      "cartesianToSphericCoordinates(0,1,1)"
     ],
     "language": "python",
     "metadata": {},
     "outputs": [
      {
       "metadata": {},
       "output_type": "pyout",
       "prompt_number": 39,
       "text": [
        "(1.4142135623730951, 3.141592653589793, 0.7853981633974483)"
       ]
      }
     ],
     "prompt_number": 39
    },
    {
     "cell_type": "code",
     "collapsed": false,
     "input": [
      "cartesianToSphericCoordinates(1,1,0)"
     ],
     "language": "python",
     "metadata": {},
     "outputs": [
      {
       "metadata": {},
       "output_type": "pyout",
       "prompt_number": 40,
       "text": [
        "(1.4142135623730951, 0.7853981633974483, 3.141592653589793)"
       ]
      }
     ],
     "prompt_number": 40
    },
    {
     "cell_type": "code",
     "collapsed": false,
     "input": [
      "cartesianToSphericCoordinates(1,-1,0)"
     ],
     "language": "python",
     "metadata": {},
     "outputs": [
      {
       "metadata": {},
       "output_type": "pyout",
       "prompt_number": 41,
       "text": [
        "(1.4142135623730951, -0.7853981633974483, 3.141592653589793)"
       ]
      }
     ],
     "prompt_number": 41
    },
    {
     "cell_type": "code",
     "collapsed": false,
     "input": [
      "cartesianToSphericCoordinates(1,0,-1)"
     ],
     "language": "python",
     "metadata": {},
     "outputs": [
      {
       "metadata": {},
       "output_type": "pyout",
       "prompt_number": 42,
       "text": [
        "(1.4142135623730951, 0.0, -0.7853981633974483)"
       ]
      }
     ],
     "prompt_number": 42
    },
    {
     "cell_type": "code",
     "collapsed": false,
     "input": [],
     "language": "python",
     "metadata": {},
     "outputs": []
    }
   ],
   "metadata": {}
  }
 ]
}