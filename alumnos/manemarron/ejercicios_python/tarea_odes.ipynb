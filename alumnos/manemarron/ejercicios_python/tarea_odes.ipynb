{
 "metadata": {
  "name": "",
  "signature": "sha256:85a8288614a40359f996dcc4ad44754479a1f7fc28b5583fb29b37b083f8867c"
 },
 "nbformat": 3,
 "nbformat_minor": 0,
 "worksheets": [
  {
   "cells": [
    {
     "cell_type": "heading",
     "level": 1,
     "metadata": {},
     "source": [
      "Tarea sobre Ecuaciones Diferenciales Ordinarias (ODEs)"
     ]
    },
    {
     "cell_type": "code",
     "collapsed": false,
     "input": [
      "%pylab inline\n",
      "import numpy as np\n",
      "import matplotlib.pyplot as plt\n",
      "from scipy.integrate import odeint"
     ],
     "language": "python",
     "metadata": {},
     "outputs": [
      {
       "output_type": "stream",
       "stream": "stdout",
       "text": [
        "Populating the interactive namespace from numpy and matplotlib\n"
       ]
      }
     ],
     "prompt_number": 1
    },
    {
     "cell_type": "code",
     "collapsed": false,
     "input": [
      "#Interactive\n",
      "from IPython.html.widgets import interact, fixed\n",
      "from IPython.html import widgets"
     ],
     "language": "python",
     "metadata": {},
     "outputs": [],
     "prompt_number": 2
    },
    {
     "cell_type": "code",
     "collapsed": false,
     "input": [
      "# El c\u00f3digo siguiente recarga (reloads) las rutinas externas cada vez que el c\u00f3digo cambia (es \u00fatil para \"debuggear\" c\u00f3digo externo)\n",
      "\n",
      "%load_ext autoreload\n",
      "%autoreload 2"
     ],
     "language": "python",
     "metadata": {},
     "outputs": [],
     "prompt_number": 3
    },
    {
     "cell_type": "code",
     "collapsed": false,
     "input": [
      "# Realiza division flotante\n",
      "from __future__ import division"
     ],
     "language": "python",
     "metadata": {},
     "outputs": [],
     "prompt_number": 4
    },
    {
     "cell_type": "heading",
     "level": 3,
     "metadata": {},
     "source": [
      "Problema 1"
     ]
    },
    {
     "cell_type": "markdown",
     "metadata": {},
     "source": [
      "Utilizando el c\u00f3digo de runge-kutta de segundo orden como base, implemente el c\u00f3digo de runge-kutta de cuarto orden. La funci\u00f3n debe de llamarse `rk4`. "
     ]
    },
    {
     "cell_type": "code",
     "collapsed": false,
     "input": [
      "%load python_modules/odes.py"
     ],
     "language": "python",
     "metadata": {},
     "outputs": [],
     "prompt_number": 5
    },
    {
     "cell_type": "code",
     "collapsed": false,
     "input": [
      "\n",
      "\n",
      "def euler(f, y, t, dt):\n",
      "    return y + f(y, t)*dt\n",
      "\n",
      "\n",
      "def rk4(f, y, t, dt):\n",
      "    \"\"\"\n",
      "    Funci\u00f3n que obtiene la 'y' en la siguiente iteraci\u00f3n\n",
      "    en el m\u00e9todo de Runge Kutta de orden 4.\n",
      "\n",
      "    Par\u00e1metros:\n",
      "    f - funci\u00f3n a la que es igual la derivada de 'y'\n",
      "    y - valor actual de 'y'\n",
      "    t - valor actual del tiempo\n",
      "    h - paso de tiempo\n",
      "    \"\"\"\n",
      "    k1 = f(y, t)\n",
      "    k2 = f(y + 0.5*k1*dt, t + 0.5*dt)\n",
      "    k3 = f(y + 0.5*k2*dt, t + 0.5*dt)\n",
      "    k4 = f(y + k3*dt, t + dt)\n",
      "\n",
      "    return y + 1/6*dt*(k1 + 2*k2 + 2*k3 + k4)\n"
     ],
     "language": "python",
     "metadata": {},
     "outputs": [],
     "prompt_number": 6
    },
    {
     "cell_type": "heading",
     "level": 3,
     "metadata": {},
     "source": [
      "Problema 2"
     ]
    },
    {
     "cell_type": "markdown",
     "metadata": {},
     "source": [
      "La taza a la cual un recurso finito es recogido depende de la dificultad y de la demanda. Sup\u00f3n que la demanda $D$ se incrementa con la cantidad extra\u00edda $E$:\n",
      "\n",
      "$$\\dot D = \\alpha E$$\n",
      "\n",
      "Sup\u00f3n que la dificultad de extracci\u00f3n $W$ es inversamentedependiente de la fracci\u00f3n restante del recurso:\n",
      "\n",
      "$$\n",
      "W = \\frac{1}{1 -E}\n",
      "$$\n",
      "\n",
      "Finalmente, sup\u00f3n que la tasa de extracci\u00f3n $$ es la raz\u00f3n de la demanda a la dificultad.\n",
      "\n",
      "$$ R = \\dot E = \\frac{D}{W} $$\n",
      "\n",
      "Por \u00faltimo, el costo $C$ del recurso depende de la tasa de la extracci\u00f3n y de la demanda:\n",
      "\n",
      "$$ C = \\frac{D}{R}\\xi$$,\n",
      "\n",
      "donde $\\xi$ es un factor de escala.\n",
      "\n",
      "(a) Escribe un programa que dibuja la tasa de la extracci\u00f3n y el costo como una funci\u00f3n del tiempo. Usando las condiciones iniciales: $D_0 = 0.1$, $E_0 = 0.1$,  $\\alpha = 2.0$ y $\\xi = 0.01$. Grafica de 0 a 5 unidades de tiempo. \n",
      "\n",
      "\n",
      "(b) Resuelve con `rk4` y con  `odeint`. Compara los tiempos y los resultados. \u00bfQu\u00e9 puedes concluir?\n",
      "\n",
      "(c) Agrega un _widget_ para los valores de $\\alpha$ y $\\xi$.\n",
      "\n",
      "(d) Discute la din\u00e1mica del sistema en general y menciona algunos hallazgos interesantes para diferentes valores y condiciones iniciales."
     ]
    },
    {
     "cell_type": "code",
     "collapsed": false,
     "input": [
      "from python_modules.dinamica_recurso import DinamicaRecurso"
     ],
     "language": "python",
     "metadata": {},
     "outputs": [],
     "prompt_number": 8
    },
    {
     "cell_type": "markdown",
     "metadata": {},
     "source": [
      "<br/><br/>Primero resolver\u00e9 el sistema utilizando el m\u00e9todo de Runge Kutta de cuarto orden. Se utilizan las condiciones iniciales proporcionadas anteriormente."
     ]
    },
    {
     "cell_type": "code",
     "collapsed": false,
     "input": [
      "d = DinamicaRecurso()\n",
      "d.set_parameters(alpha=2.0, eta=0.01)"
     ],
     "language": "python",
     "metadata": {},
     "outputs": [],
     "prompt_number": 14
    },
    {
     "cell_type": "code",
     "collapsed": false,
     "input": [
      "N = 100\n",
      "dt = 0.001\n",
      "initial_state = np.array([0.1, 0.1])"
     ],
     "language": "python",
     "metadata": {},
     "outputs": [],
     "prompt_number": 15
    },
    {
     "cell_type": "code",
     "collapsed": false,
     "input": [
      "d.integrate(initial_state,N,dt,rk4)"
     ],
     "language": "python",
     "metadata": {},
     "outputs": [],
     "prompt_number": 16
    },
    {
     "cell_type": "code",
     "collapsed": false,
     "input": [
      "d.plot(np.linspace(0,dt*N,N+1),(d.derivatives[:,1], \"Tasa de extraccion\"),(d.costs, \"Costo\"))"
     ],
     "language": "python",
     "metadata": {},
     "outputs": [
      {
       "metadata": {},
       "output_type": "display_data",
       "png": "[encoded data removed]",
       "text": [
        "<matplotlib.figure.Figure at 0x7fa3f96207d0>"
       ]
      }
     ],
     "prompt_number": 17
    },
    {
     "cell_type": "markdown",
     "metadata": {},
     "source": [
      "<br/><br/>Ahora resolver\u00e9 el sistema utilizando el m\u00e9todo de odeint que provee numpy. Se utilizan las condiciones iniciales proporcionadas anteriormente."
     ]
    },
    {
     "cell_type": "code",
     "collapsed": false,
     "input": [
      "d2 = DinamicaRecurso()\n",
      "d2.set_parameters(alpha=2.0, eta=0.01)"
     ],
     "language": "python",
     "metadata": {},
     "outputs": [],
     "prompt_number": 18
    },
    {
     "cell_type": "code",
     "collapsed": false,
     "input": [
      "d2.integrate_odeint(initial_state,N,dt)"
     ],
     "language": "python",
     "metadata": {},
     "outputs": [],
     "prompt_number": 19
    },
    {
     "cell_type": "code",
     "collapsed": false,
     "input": [
      "d2.plot(np.linspace(0,dt*N,N+1),(d2.derivatives[:,1], \"Tasa de extraccion\"),(d2.costs, \"Costo\"))"
     ],
     "language": "python",
     "metadata": {},
     "outputs": [
      {
       "metadata": {},
       "output_type": "display_data",
       "png": "[encoded data removed]",
       "text": [
        "<matplotlib.figure.Figure at 0x7fa3f9458990>"
       ]
      }
     ],
     "prompt_number": 21
    },
    {
     "cell_type": "markdown",
     "metadata": {},
     "source": [
      "<br/><br/>Ahora probar\u00e9 que sucede al modificar los valores de a y de eta. Para ello utilizar\u00e9 la librer\u00eda interactiva de python."
     ]
    },
    {
     "cell_type": "code",
     "collapsed": false,
     "input": [
      "def plotModelo(d,initial_state, N, dt, a=2.0, eta=0.1):\n",
      "    d.set_parameters(alpha=a, eta=eta)\n",
      "    d.integrate(initial_state,N,dt,rk4)\n",
      "    d.plot(np.linspace(0,dt*N,N+1),(d.derivatives[:,1], \"Tasa de extraccion\"),(d.costs, \"Costo\"))"
     ],
     "language": "python",
     "metadata": {},
     "outputs": [],
     "prompt_number": 24
    },
    {
     "cell_type": "code",
     "collapsed": false,
     "input": [
      "d = DinamicaRecurso()\n",
      "N = 100\n",
      "dt = 0.001\n",
      "initial_state = np.array([0.01, 0.01])\n",
      "interact(plotModelo, d=fixed(d), initial_state=fixed(initial_state),N=fixed(N),dt=fixed(dt),a=[10**-3,3.0,10**-5],eta=[10**-4,1.0,10**-7]);"
     ],
     "language": "python",
     "metadata": {},
     "outputs": [
      {
       "metadata": {},
       "output_type": "display_data",
       "png": "[encoded data removed]",
       "text": [
        "<matplotlib.figure.Figure at 0x7fa3f8e9b7d0>"
       ]
      }
     ],
     "prompt_number": 27
    },
    {
     "cell_type": "heading",
     "level": 3,
     "metadata": {},
     "source": [
      "Problema 3"
     ]
    },
    {
     "cell_type": "markdown",
     "metadata": {},
     "source": [
      "(a) Calcular el valor de $\\pi$ usando m\u00e9todos de Monte Carlo.\n",
      "\n",
      "(b) El \"volumen\" de una 2-esfera (un c\u00edrculo)   $x^2 + y^2 = r^2$ es \n",
      "\n",
      "$$\\pi r^2$$,\n",
      "\n",
      "el volumen de la 3-esfera $x^2 + y^2 + z^2 = r^2$ es \n",
      "\n",
      "\n",
      "$$\\frac{4}{3} \\pi r^3$$. \n",
      "\n",
      "\n",
      "La 4-esfera $x^2 + y^2 + z^2 + w^2 = r^2$, podemos suponer (usando los ejemplos anteriores) que el hipervolumen de la 4-esfera es \n",
      "\n",
      "$$\\alpha\\pi r^4$$. \n",
      "\n",
      "\n",
      "Usando t\u00e9cnicas de Monte Carlo estima $\\alpha$."
     ]
    }
   ],
   "metadata": {}
  }
 ]
}