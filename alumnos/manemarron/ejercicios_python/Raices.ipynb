{
 "metadata": {
  "name": "",
  "signature": "sha256:651c29583a2eaa367fd3d65e8d96ca144493c0c4bc16a823da7bd22945c46ed8"
 },
 "nbformat": 3,
 "nbformat_minor": 0,
 "worksheets": [
  {
   "cells": [
    {
     "cell_type": "heading",
     "level": 1,
     "metadata": {},
     "source": [
      "Raices"
     ]
    },
    {
     "cell_type": "code",
     "collapsed": false,
     "input": [
      "%matplotlib inline\n",
      "import sympy as sym\n",
      "from sympy.interactive import printing\n",
      "import numpy as np\n",
      "import matplotlib.pyplot as plt"
     ],
     "language": "python",
     "metadata": {},
     "outputs": [],
     "prompt_number": 94
    },
    {
     "cell_type": "code",
     "collapsed": false,
     "input": [
      "printing.init_printing(use_latex=True)"
     ],
     "language": "python",
     "metadata": {},
     "outputs": [],
     "prompt_number": 95
    },
    {
     "cell_type": "heading",
     "level": 3,
     "metadata": {},
     "source": [
      "M\u00e9todo de Newton"
     ]
    },
    {
     "cell_type": "code",
     "collapsed": false,
     "input": [
      "def newton_lambda(f,x0,tolerance,stop=50):\n",
      "    df = lambda x: (f(x + 10**-6)-f(x)) / 10**-6\n",
      "    \n",
      "    k=0\n",
      "    diff=1\n",
      "    while diff >= tolerance and k < stop:\n",
      "        k = k+1\n",
      "        x1 = x0 - (f(x0)/df(x0))\n",
      "        diff = abs(x1-x0)\n",
      "        x0 = x1\n",
      "    return x0 if k<stop else None"
     ],
     "language": "python",
     "metadata": {},
     "outputs": [],
     "prompt_number": 3
    },
    {
     "cell_type": "code",
     "collapsed": false,
     "input": [
      "t = np.linspace(-1, 1, 1000, endpoint=True)\n",
      "f1 = np.exp(-t)-t\n",
      "plt.xticks(np.arange(-1,1,0.2))\n",
      "plt.grid()\n",
      "plt.plot(t,f1)"
     ],
     "language": "python",
     "metadata": {},
     "outputs": [
      {
       "metadata": {},
       "output_type": "pyout",
       "prompt_number": 6,
       "text": [
        "[<matplotlib.lines.Line2D at 0x7ff26a1f6c90>]"
       ]
      },
      {
       "metadata": {},
       "output_type": "display_data",
       "png": "[encoded data removed]",
       "text": [
        "<matplotlib.figure.Figure at 0x7ff26a1cda90>"
       ]
      }
     ],
     "prompt_number": 6
    },
    {
     "cell_type": "code",
     "collapsed": false,
     "input": [
      "t2=np.linspace(-10, 10, 1000, endpoint=True)\n",
      "f2=(t2**10) - 1\n",
      "plt.grid()\n",
      "plt.plot(t2,f2)"
     ],
     "language": "python",
     "metadata": {},
     "outputs": [
      {
       "metadata": {},
       "output_type": "pyout",
       "prompt_number": 7,
       "text": [
        "[<matplotlib.lines.Line2D at 0x7ff26a179850>]"
       ]
      },
      {
       "metadata": {},
       "output_type": "display_data",
       "png": "[encoded data removed]",
       "text": [
        "<matplotlib.figure.Figure at 0x7ff26a1796d0>"
       ]
      }
     ],
     "prompt_number": 7
    },
    {
     "cell_type": "code",
     "collapsed": false,
     "input": [
      "f1 = lambda t: np.exp(-t) - t\n",
      "x0 = 0\n",
      "j=1\n",
      "while newton_lambda(f1,x0,10**-10,j) is None:\n",
      "    j+=1\n",
      "print j"
     ],
     "language": "python",
     "metadata": {},
     "outputs": [
      {
       "output_type": "stream",
       "stream": "stdout",
       "text": [
        "6\n"
       ]
      }
     ],
     "prompt_number": 14
    },
    {
     "cell_type": "code",
     "collapsed": false,
     "input": [
      "f2= lambda t: t**10 - 1\n",
      "x0 = 0.5\n",
      "i=1\n",
      "while newton_lambda(f2,x0,10**-10,i) is None:\n",
      "    i+=1\n",
      "print i"
     ],
     "language": "python",
     "metadata": {},
     "outputs": [
      {
       "output_type": "stream",
       "stream": "stdout",
       "text": [
        "46\n"
       ]
      }
     ],
     "prompt_number": 15
    },
    {
     "cell_type": "code",
     "collapsed": false,
     "input": [
      "def find_brackets(f,a,b,n):\n",
      "    length = (b-a)/float(n)\n",
      "    result = []\n",
      "    while a + length <= b:\n",
      "        if(f(a)*f(a+length)<0):\n",
      "            result.append((a,a+length))\n",
      "        a = a+length\n",
      "    return result"
     ],
     "language": "python",
     "metadata": {},
     "outputs": [],
     "prompt_number": 16
    },
    {
     "cell_type": "code",
     "collapsed": false,
     "input": [
      "f = lambda x: np.sin(10*x) + np.cos(3*x)\n",
      "j=0\n",
      "i=1\n",
      "while j<9:\n",
      "    bracks = find_brackets(f,3,6,i)\n",
      "    j=len(bracks)\n",
      "    i+=1\n",
      "print bracks"
     ],
     "language": "python",
     "metadata": {},
     "outputs": [
      {
       "output_type": "stream",
       "stream": "stdout",
       "text": [
        "[(3.206896551724138, 3.310344827586207), (3.310344827586207, 3.413793103448276), (3.7241379310344827, 3.8275862068965516), (4.137931034482759, 4.241379310344828), (4.241379310344828, 4.344827586206898), (4.655172413793106, 4.758620689655175), (5.0689655172413834, 5.172413793103453), (5.172413793103453, 5.275862068965522), (5.58620689655173, 5.6896551724138)]\n"
       ]
      }
     ],
     "prompt_number": 24
    },
    {
     "cell_type": "code",
     "collapsed": false,
     "input": [
      "def biseccion(func, a, b, tolerancia, stop):\n",
      "    k = 0\n",
      "    \n",
      "    x = (a + b)/2\n",
      "    \n",
      "    I = (b - a)/2\n",
      "    \n",
      "    assert func(a)*func(b) < 0, \"El signo de la funci\u00f3n en los extremos deber\u00eda de ser diferente\"\n",
      "    assert func(a) != 0, \"La ra\u00edz es %.5f\" % a\n",
      "    assert func(b) != 0, \"La ra\u00edz es %.5f\" % b\n",
      "    \n",
      "    while I >= tolerancia and k <= stop:\n",
      "        k = k + 1\n",
      "        \n",
      "        f_x = func(x)\n",
      "        f_a = func(a)\n",
      "        f_b = func(b)        \n",
      "        \n",
      "        \n",
      "        if(f_a*f_x < 0):\n",
      "            a, b = a, x\n",
      "        elif(f_x*f_b < 0):\n",
      "            a, b = x, b\n",
      "        \n",
      "        x = (a+b)/2\n",
      "        \n",
      "        I = (b - a)/2\n",
      "        \n",
      "    return x if k<=stop else None"
     ],
     "language": "python",
     "metadata": {},
     "outputs": [],
     "prompt_number": 25
    },
    {
     "cell_type": "code",
     "collapsed": false,
     "input": [
      "for interval in find_brackets(f,3,6,10000):\n",
      "    print biseccion(f,interval[0],interval[1],10**-10,1000)"
     ],
     "language": "python",
     "metadata": {},
     "outputs": [
      {
       "output_type": "stream",
       "stream": "stdout",
       "text": [
        "3.26242314026\n",
        "3.36599212883\n",
        "3.74574508703\n",
        "4.22906703365\n",
        "4.26359002984\n",
        "4.71238898041\n",
        "5.16118793085\n",
        "5.19571092703\n",
        "5.6790328738\n"
       ]
      }
     ],
     "prompt_number": 28
    },
    {
     "cell_type": "heading",
     "level": 3,
     "metadata": {},
     "source": [
      "Problema Bungee"
     ]
    },
    {
     "cell_type": "code",
     "collapsed": false,
     "input": [
      "h = lambda m,g,cd,t,v: np.sqrt(g*m/cd)*np.tanh(np.sqrt(g*cd/m)*t) - v\n",
      "g = 9.8\n",
      "cd = 0.25\n",
      "t = 4\n",
      "v = 36\n",
      "m = np.linspace(0,200,1000)\n",
      "plt.plot(m,h(m,g,cd,t,v))\n",
      "plt.grid()"
     ],
     "language": "python",
     "metadata": {},
     "outputs": [
      {
       "metadata": {},
       "output_type": "display_data",
       "png": "[encoded data removed]",
       "text": [
        "<matplotlib.figure.Figure at 0x7ff26932a590>"
       ]
      }
     ],
     "prompt_number": 50
    },
    {
     "cell_type": "code",
     "collapsed": false,
     "input": [
      "f=lambda m: h(m,g,cd,t,v)\n",
      "a=None\n",
      "j=0\n",
      "while a is None:\n",
      "    j+=1\n",
      "    a=newton_lambda(f,80.0,10**-8,j)\n",
      "print \"%0.2f, %s\"%(a,j)  \n",
      "\n",
      "b=None\n",
      "j=0\n",
      "while b is None:\n",
      "    j+=1\n",
      "    b=biseccion(f,140.0,150.0,10**-8,j)\n",
      "print \"%0.2f, %s\"%(b,j)\n",
      "\n",
      "bracks = find_brackets(f,50.0,200.0,100000)\n",
      "print bracks"
     ],
     "language": "python",
     "metadata": {},
     "outputs": [
      {
       "ename": "NameError",
       "evalue": "global name 'h' is not defined",
       "output_type": "pyerr",
       "traceback": [
        "\u001b[1;31m---------------------------------------------------------------------------\u001b[0m\n\u001b[1;31mNameError\u001b[0m                                 Traceback (most recent call last)",
        "\u001b[1;32m<ipython-input-4-22f08f26c98a>\u001b[0m in \u001b[0;36m<module>\u001b[1;34m()\u001b[0m\n\u001b[0;32m      4\u001b[0m \u001b[1;32mwhile\u001b[0m \u001b[0ma\u001b[0m \u001b[1;32mis\u001b[0m \u001b[0mNone\u001b[0m\u001b[1;33m:\u001b[0m\u001b[1;33m\u001b[0m\u001b[0m\n\u001b[0;32m      5\u001b[0m     \u001b[0mj\u001b[0m\u001b[1;33m+=\u001b[0m\u001b[1;36m1\u001b[0m\u001b[1;33m\u001b[0m\u001b[0m\n\u001b[1;32m----> 6\u001b[1;33m     \u001b[0ma\u001b[0m\u001b[1;33m=\u001b[0m\u001b[0mnewton_lambda\u001b[0m\u001b[1;33m(\u001b[0m\u001b[0mf\u001b[0m\u001b[1;33m,\u001b[0m\u001b[1;36m80.0\u001b[0m\u001b[1;33m,\u001b[0m\u001b[1;36m10\u001b[0m\u001b[1;33m**\u001b[0m\u001b[1;33m-\u001b[0m\u001b[1;36m8\u001b[0m\u001b[1;33m,\u001b[0m\u001b[0mj\u001b[0m\u001b[1;33m)\u001b[0m\u001b[1;33m\u001b[0m\u001b[0m\n\u001b[0m\u001b[0;32m      7\u001b[0m \u001b[1;32mprint\u001b[0m \u001b[1;34m\"%0.2f, %s\"\u001b[0m\u001b[1;33m%\u001b[0m\u001b[1;33m(\u001b[0m\u001b[0ma\u001b[0m\u001b[1;33m,\u001b[0m\u001b[0mj\u001b[0m\u001b[1;33m)\u001b[0m\u001b[1;33m\u001b[0m\u001b[0m\n\u001b[0;32m      8\u001b[0m \u001b[1;33m\u001b[0m\u001b[0m\n",
        "\u001b[1;32m<ipython-input-3-42f1a95cb8a1>\u001b[0m in \u001b[0;36mnewton_lambda\u001b[1;34m(f, x0, tolerance, stop)\u001b[0m\n\u001b[0;32m      6\u001b[0m     \u001b[1;32mwhile\u001b[0m \u001b[0mdiff\u001b[0m \u001b[1;33m>=\u001b[0m \u001b[0mtolerance\u001b[0m \u001b[1;32mand\u001b[0m \u001b[0mk\u001b[0m \u001b[1;33m<\u001b[0m \u001b[0mstop\u001b[0m\u001b[1;33m:\u001b[0m\u001b[1;33m\u001b[0m\u001b[0m\n\u001b[0;32m      7\u001b[0m         \u001b[0mk\u001b[0m \u001b[1;33m=\u001b[0m \u001b[0mk\u001b[0m\u001b[1;33m+\u001b[0m\u001b[1;36m1\u001b[0m\u001b[1;33m\u001b[0m\u001b[0m\n\u001b[1;32m----> 8\u001b[1;33m         \u001b[0mx1\u001b[0m \u001b[1;33m=\u001b[0m \u001b[0mx0\u001b[0m \u001b[1;33m-\u001b[0m \u001b[1;33m(\u001b[0m\u001b[0mf\u001b[0m\u001b[1;33m(\u001b[0m\u001b[0mx0\u001b[0m\u001b[1;33m)\u001b[0m\u001b[1;33m/\u001b[0m\u001b[0mdf\u001b[0m\u001b[1;33m(\u001b[0m\u001b[0mx0\u001b[0m\u001b[1;33m)\u001b[0m\u001b[1;33m)\u001b[0m\u001b[1;33m\u001b[0m\u001b[0m\n\u001b[0m\u001b[0;32m      9\u001b[0m         \u001b[0mdiff\u001b[0m \u001b[1;33m=\u001b[0m \u001b[0mabs\u001b[0m\u001b[1;33m(\u001b[0m\u001b[0mx1\u001b[0m\u001b[1;33m-\u001b[0m\u001b[0mx0\u001b[0m\u001b[1;33m)\u001b[0m\u001b[1;33m\u001b[0m\u001b[0m\n\u001b[0;32m     10\u001b[0m         \u001b[0mx0\u001b[0m \u001b[1;33m=\u001b[0m \u001b[0mx1\u001b[0m\u001b[1;33m\u001b[0m\u001b[0m\n",
        "\u001b[1;32m<ipython-input-4-22f08f26c98a>\u001b[0m in \u001b[0;36m<lambda>\u001b[1;34m(m)\u001b[0m\n\u001b[1;32m----> 1\u001b[1;33m \u001b[0mf\u001b[0m\u001b[1;33m=\u001b[0m\u001b[1;32mlambda\u001b[0m \u001b[0mm\u001b[0m\u001b[1;33m:\u001b[0m \u001b[0mh\u001b[0m\u001b[1;33m(\u001b[0m\u001b[0mm\u001b[0m\u001b[1;33m,\u001b[0m\u001b[0mg\u001b[0m\u001b[1;33m,\u001b[0m\u001b[0mcd\u001b[0m\u001b[1;33m,\u001b[0m\u001b[0mt\u001b[0m\u001b[1;33m,\u001b[0m\u001b[0mv\u001b[0m\u001b[1;33m)\u001b[0m\u001b[1;33m\u001b[0m\u001b[0m\n\u001b[0m\u001b[0;32m      2\u001b[0m \u001b[0ma\u001b[0m\u001b[1;33m=\u001b[0m\u001b[0mNone\u001b[0m\u001b[1;33m\u001b[0m\u001b[0m\n\u001b[0;32m      3\u001b[0m \u001b[0mj\u001b[0m\u001b[1;33m=\u001b[0m\u001b[1;36m0\u001b[0m\u001b[1;33m\u001b[0m\u001b[0m\n\u001b[0;32m      4\u001b[0m \u001b[1;32mwhile\u001b[0m \u001b[0ma\u001b[0m \u001b[1;32mis\u001b[0m \u001b[0mNone\u001b[0m\u001b[1;33m:\u001b[0m\u001b[1;33m\u001b[0m\u001b[0m\n\u001b[0;32m      5\u001b[0m     \u001b[0mj\u001b[0m\u001b[1;33m+=\u001b[0m\u001b[1;36m1\u001b[0m\u001b[1;33m\u001b[0m\u001b[0m\n",
        "\u001b[1;31mNameError\u001b[0m: global name 'h' is not defined"
       ]
      }
     ],
     "prompt_number": 4
    },
    {
     "cell_type": "code",
     "collapsed": false,
     "input": [
      "M = sym.Symbol(\"m\")\n",
      "G = sym.Symbol(\"g\")\n",
      "Cd = sym.Symbol(\"k_d\")\n",
      "T = sym.Symbol(\"t\")\n",
      "V = sym.Symbol(\"v\")\n",
      "f_s = sym.sqrt((g*M)/cd)*sym.tanh(sym.sqrt((g*cd)/M)*t) - v"
     ],
     "language": "python",
     "metadata": {},
     "outputs": [],
     "prompt_number": 126
    },
    {
     "cell_type": "code",
     "collapsed": false,
     "input": [
      "f_s"
     ],
     "language": "python",
     "metadata": {},
     "outputs": [
      {
       "latex": [
        "$$6.26099033699941 \\sqrt{m} \\tanh{\\left (6.26099033699941 \\sqrt{\\frac{1}{m}} \\right )} - 36$$"
       ],
       "metadata": {},
       "output_type": "pyout",
       "png": "[encoded data removed]",
       "prompt_number": 127,
       "text": [
        "                           \u239b                     ___\u239e     \n",
        "                   ___     \u239c                    \u2571 1 \u239f     \n",
        "6.26099033699941\u22c5\u2572\u2571 m \u22c5tanh\u239c6.26099033699941\u22c5  \u2571  \u2500 \u239f - 36\n",
        "                           \u239d                 \u2572\u2571   m \u23a0     "
       ]
      }
     ],
     "prompt_number": 127
    },
    {
     "cell_type": "code",
     "collapsed": false,
     "input": [
      "def newton_sym(f,x, x0, tolerancia, stop):\n",
      "    assert type(f).__bases__[0]  in (sym.expr.Expr, sym.operations.AssocOp), \"La funci\u00f3n no es una expresi\u00f3n simb\u00f3lica ... :/\"\n",
      "    \n",
      "    # Derivamos la expresi\u00f3n\n",
      "    df = sym.diff(f, x)\n",
      "    \n",
      "    # Convertimos en funciones las expresiones\n",
      "    F = sym.lambdify(x,f, modules=\"numpy\")\n",
      "    DF = sym.lambdify(x, df, modules=\"numpy\")\n",
      "    k = 0\n",
      "    diff = 1\n",
      "    \n",
      "    while diff >= tolerancia and k <= stop:\n",
      "        k = k + 1\n",
      "        x1 = x0 - (float(F(x0)/DF(x0)))\n",
      "        diff = abs(x1 - x0)\n",
      "        x0 = x1\n",
      "    return x0 if k<=stop else None"
     ],
     "language": "python",
     "metadata": {},
     "outputs": [],
     "prompt_number": 128
    },
    {
     "cell_type": "code",
     "collapsed": false,
     "input": [
      "%timeit newton_sym(f_s,M,70.0,10**-8,6)\n",
      "j=0\n",
      "c=None\n",
      "while c is None:\n",
      "    j+=1\n",
      "    c = newton_sym(f_s,M,70.0,10**-8,j)\n",
      "print \"%f, %s\"%(c,j)"
     ],
     "language": "python",
     "metadata": {},
     "outputs": [
      {
       "output_type": "stream",
       "stream": "stdout",
       "text": [
        "10 loops, best of 3: 40.8 ms per loop\n",
        "144.406694, 6"
       ]
      },
      {
       "output_type": "stream",
       "stream": "stdout",
       "text": [
        "\n"
       ]
      }
     ],
     "prompt_number": 141
    },
    {
     "cell_type": "code",
     "collapsed": false,
     "input": [
      "%timeit newton_lambda(f,70.0,10**-8,7)\n",
      "j=0\n",
      "d=None\n",
      "while d is None:\n",
      "    j+=1\n",
      "    d = newton_lambda(f,70.0,10**-8,j)\n",
      "print \"%f, %s\"%(d,j)"
     ],
     "language": "python",
     "metadata": {},
     "outputs": [
      {
       "output_type": "stream",
       "stream": "stdout",
       "text": [
        "10000 loops, best of 3: 161 \u00b5s per loop\n",
        "144.406694, 7\n"
       ]
      }
     ],
     "prompt_number": 139
    },
    {
     "cell_type": "code",
     "collapsed": false,
     "input": [
      "def secante(f,df,x1,x0,tolerance,stop,step):\n",
      "    if step > stop: return None\n",
      "    if abs(x1-x0) < tolerance: return x1\n",
      "    aux = x1\n",
      "    x1 = x1 - (f(x1)/df(x1,x0))\n",
      "    x0 = aux\n",
      "    return secante(f,df,x1,x0,tolerance,stop,step+1)"
     ],
     "language": "python",
     "metadata": {},
     "outputs": [],
     "prompt_number": 171
    },
    {
     "cell_type": "code",
     "collapsed": false,
     "input": [
      "h = lambda m,g,cd,t,v: np.sqrt(g*m/cd)*np.tanh(np.sqrt(g*cd/m)*t) - v\n",
      "g = 9.8\n",
      "cd = 0.25\n",
      "t = 4\n",
      "v = 36\n",
      "f = lambda m: h(m,g,cd,t,v)\n",
      "df = lambda _x0,_x1: (f(_x0)-f(_x1)) / (_x0 - _x1)"
     ],
     "language": "python",
     "metadata": {},
     "outputs": [],
     "prompt_number": 172
    },
    {
     "cell_type": "code",
     "collapsed": false,
     "input": [
      "j=0\n",
      "e=None\n",
      "while e is None:\n",
      "    j+=1\n",
      "    e = secante(f,df,70.0,69.0,10**-8,j,1)\n",
      "print \"%f,%d\" % (e,j)"
     ],
     "language": "python",
     "metadata": {},
     "outputs": [
      {
       "output_type": "stream",
       "stream": "stdout",
       "text": [
        "144.406694,9\n"
       ]
      }
     ],
     "prompt_number": 176
    },
    {
     "cell_type": "code",
     "collapsed": false,
     "input": [
      "%%file raices.py\n",
      "import sympy as sym\n",
      "import numpy as np\n",
      "\n",
      "def deriv_Atras(f,x0,x1):\n",
      "    return (f(x0)-f(x1))/float(x0-x1)\n",
      "\n",
      "def deriv_H(f,x0,h):\n",
      "    return (f(x0+h)-f(x0))/float(h)\n",
      "\n",
      "def newton_lambda(f,x0,tolerance,stop=50):\n",
      "    df = lambda x: (f(x + 0.001)-f(x)) / 0.001\n",
      "    \n",
      "    k=0\n",
      "    diff=1\n",
      "    while diff >= tolerance and k < stop:\n",
      "        k = k+1\n",
      "        x1 = x0 - (f(x0)/df(x0))\n",
      "        diff = abs(x1-x0)\n",
      "        x0 = x1\n",
      "    return x0 if k<stop else None\n",
      "\n",
      "def secante(f,df,x1,x0,tolerance,stop,step):\n",
      "    if step > stop: return None\n",
      "    if abs(x1-x0) < tolerance: return x1\n",
      "    aux = x1\n",
      "    x1 = x1 - (f(x1)/df(x1,x0))\n",
      "    x0 = aux\n",
      "    return secante(f,df,x1,x0,tolerance,stop,step+1)\n",
      "\n",
      "def newton_sym(f,x, x0, tolerancia, stop):\n",
      "    assert type(f).__bases__[0]  in (sym.expr.Expr, sym.operations.AssocOp), \"La funci\u00f3n no es una expresi\u00f3n simb\u00f3lica ... :/\"\n",
      "    \n",
      "    # Derivamos la expresi\u00f3n\n",
      "    df = sym.diff(f, x)\n",
      "    \n",
      "    # Convertimos en funciones las expresiones\n",
      "    F = sym.lambdify(x,f, modules=\"numpy\")\n",
      "    DF = sym.lambdify(x, df, modules=\"numpy\")\n",
      "    k = 0\n",
      "    diff = 1\n",
      "    \n",
      "    while diff >= tolerancia and k <= stop:\n",
      "        k = k + 1\n",
      "        x1 = x0 - (float(F(x0)/DF(x0)))\n",
      "        diff = abs(x1 - x0)\n",
      "        x0 = x1\n",
      "    return x0 if k<=stop else None\n",
      "\n",
      "def biseccion(func, a, b, tolerancia, stop):\n",
      "    k = 0\n",
      "    \n",
      "    x = (a + b)/2\n",
      "    \n",
      "    I = (b - a)/2\n",
      "    \n",
      "    assert func(a)*func(b) < 0, \"El signo de la funci\u00f3n en los extremos deber\u00eda de ser diferente\"\n",
      "    assert func(a) != 0, \"La ra\u00edz es %.5f\" % a\n",
      "    assert func(b) != 0, \"La ra\u00edz es %.5f\" % b\n",
      "    \n",
      "    while I >= tolerancia and k <= stop:\n",
      "        k = k + 1\n",
      "        \n",
      "        f_x = func(x)\n",
      "        f_a = func(a)\n",
      "        f_b = func(b)        \n",
      "        \n",
      "        \n",
      "        if(f_a*f_x < 0):\n",
      "            a, b = a, x\n",
      "        elif(f_x*f_b < 0):\n",
      "            a, b = x, b\n",
      "        \n",
      "        x = (a+b)/2\n",
      "        \n",
      "        I = (b - a)/2\n",
      "        \n",
      "    return x if k<=stop else None"
     ],
     "language": "python",
     "metadata": {},
     "outputs": [
      {
       "output_type": "stream",
       "stream": "stdout",
       "text": [
        "Overwriting raices.py\n"
       ]
      }
     ],
     "prompt_number": 181
    }
   ],
   "metadata": {}
  }
 ]
}