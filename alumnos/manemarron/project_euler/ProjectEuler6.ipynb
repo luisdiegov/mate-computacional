{
 "metadata": {
  "name": "",
  "signature": "sha256:ffb60c7606c8998c9a27971c24dcd7de65a8fd1aa10b838f85048bf92d3bf593"
 },
 "nbformat": 3,
 "nbformat_minor": 0,
 "worksheets": [
  {
   "cells": [
    {
     "cell_type": "heading",
     "level": 1,
     "metadata": {},
     "source": [
      "Diferencia entre suma de cuadrados y cuadrado de la suma"
     ]
    },
    {
     "cell_type": "heading",
     "level": 6,
     "metadata": {},
     "source": [
      "[resuelto por Jos\u00e9 Manuel Marr\u00f3n Ruiz]"
     ]
    },
    {
     "cell_type": "markdown",
     "metadata": {},
     "source": [
      " <i>(Para ver el problema original referirse a <a href=\"https://projecteuler.net/problem=6\">https://projecteuler.net/problem=6</a>)</i>"
     ]
    },
    {
     "cell_type": "markdown",
     "metadata": {},
     "source": [
      "El problema consiste en evaluar la suma de los primeros n naturales y elevarla al cuadrado, luego por otra parte evaluar la suma de los primeros n naturales, cada uno elevado al cuadrado, y finalmente extraer la diferencia entre ambos resultados."
     ]
    },
    {
     "cell_type": "markdown",
     "metadata": {},
     "source": [
      "Crear\u00e9 dos funciones, una que calcule la suma de los primeros n cuadrados y otra que calcule la suma de los primeros n naturales y eleve la suma al cuadrado."
     ]
    },
    {
     "cell_type": "code",
     "collapsed": false,
     "input": [
      "def sumSquares(n):\n",
      "    \"\"\"\n",
      "    Funcion que suma los primeros n cuadrados\n",
      "    \"\"\"\n",
      "    sum=0\n",
      "    for i in range(1,n+1):\n",
      "        sum+=i**2\n",
      "    return sum"
     ],
     "language": "python",
     "metadata": {},
     "outputs": [],
     "prompt_number": 2
    },
    {
     "cell_type": "code",
     "collapsed": false,
     "input": [
      "def squareSum(n):\n",
      "    \"\"\"\n",
      "    Funcion que suma los primeros n naturales y eleva la suma al cuadrado\n",
      "    \"\"\"\n",
      "    return sum(range(1,n+1))**2"
     ],
     "language": "python",
     "metadata": {},
     "outputs": [],
     "prompt_number": 6
    },
    {
     "cell_type": "markdown",
     "metadata": {},
     "source": [
      "El problema incluye como caso de prueba el caso en el que **n=10**, y se obtiene como resultado de la diferencia **2640**. Este caso de prueba se evalua en la siguiente instrucci\u00f3n:"
     ]
    },
    {
     "cell_type": "code",
     "collapsed": false,
     "input": [
      "abs(squareSum(10)-sumSquares(10))"
     ],
     "language": "python",
     "metadata": {},
     "outputs": [
      {
       "metadata": {},
       "output_type": "pyout",
       "prompt_number": 8,
       "text": [
        "2640"
       ]
      }
     ],
     "prompt_number": 8
    },
    {
     "cell_type": "markdown",
     "metadata": {},
     "source": [
      "Finalmente, el problema pide que se evalue la diferencia para **n=100**. El resultado se obtiene en la siguiente instrucci\u00f3n:"
     ]
    },
    {
     "cell_type": "code",
     "collapsed": false,
     "input": [
      "abs(squareSum(100)-sumSquares(100))"
     ],
     "language": "python",
     "metadata": {},
     "outputs": [
      {
       "metadata": {},
       "output_type": "pyout",
       "prompt_number": 9,
       "text": [
        "25164150"
       ]
      }
     ],
     "prompt_number": 9
    },
    {
     "cell_type": "markdown",
     "metadata": {},
     "source": [
      "Entonces, el resultado de la diferencia entre la suma de los primeros n cuadrados y la suma al cuadrado de los primeros n naturales cuando **n=100** es igual a **25164150**."
     ]
    }
   ],
   "metadata": {}
  }
 ]
}