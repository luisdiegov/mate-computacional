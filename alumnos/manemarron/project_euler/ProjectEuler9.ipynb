{
 "metadata": {
  "name": "",
  "signature": "sha256:3170532669a416929cb9f80ecf8c88dbebb7754d049d63d7c3907ba036b3d6ac"
 },
 "nbformat": 3,
 "nbformat_minor": 0,
 "worksheets": [
  {
   "cells": [
    {
     "cell_type": "heading",
     "level": 1,
     "metadata": {},
     "source": [
      "Triplete Pitag\u00f3rico Especial"
     ]
    },
    {
     "cell_type": "heading",
     "level": 6,
     "metadata": {},
     "source": [
      "[resuelto por Jos\u00e9 Manuel Marr\u00f3n Ruiz]"
     ]
    },
    {
     "cell_type": "markdown",
     "metadata": {},
     "source": [
      "<i>(Para ver el problema original referirse a <a href=\"https://projecteuler.net/problem=9\">https://projecteuler.net/problem=9</a>)</i>"
     ]
    },
    {
     "cell_type": "markdown",
     "metadata": {},
     "source": [
      "El problema consiste en encontrar una tripleta pitag\u00f3rica <i>especial</i>, es decir, una tripleta de n\u00fameros naturales a\\<b\\<c que cumplan con el teorema de Pit\u00e1goras y que ademas su suma sea igual a un determinado valor n. Esta tripleta es inexistente para una gran cantidad de n\u00fameros naturales n. Sin embargo, el problema hace referencia a **n=1000**, y dice que existe una \u00fanica tripleta que cumple con la condici\u00f3n de ser una tripleta pitag\u00f3rica especial."
     ]
    },
    {
     "cell_type": "markdown",
     "metadata": {},
     "source": [
      "Escribir\u00e9 una funci\u00f3n que determine todas las tripletas pitag\u00f3ricas especiales cuya suma sea igual a un cierto valor n."
     ]
    },
    {
     "cell_type": "code",
     "collapsed": false,
     "input": [
      "def specialPithagorianTriplet(n):\n",
      "    \"Funci\u00f3n que obtiene todas las tripletas a<b<c tales que a\u00b2+b\u00b2=c\u00b2 y a+b+c=n\"\n",
      "    pt=[]\n",
      "    for a in range(1,n+1):\n",
      "        for b in range(a+1,n+1):\n",
      "            for c in range(b+1,n+1):\n",
      "                if a**2+b**2==c**2 and a+b+c==n:\n",
      "                    pt.append((a,b,c))\n",
      "    return pt"
     ],
     "language": "python",
     "metadata": {},
     "outputs": [],
     "prompt_number": 4
    },
    {
     "cell_type": "markdown",
     "metadata": {},
     "source": [
      "Evaluar\u00e9 la funci\u00f3n anterior primero en un caso de prueba muy sencillo **(n=12)**. El resultado debe ser \u00fanicamente la famosa tupla pitag\u00f3rica (3,4,5)."
     ]
    },
    {
     "cell_type": "code",
     "collapsed": false,
     "input": [
      "specialPithagorianTriplet(12)"
     ],
     "language": "python",
     "metadata": {},
     "outputs": [
      {
       "metadata": {},
       "output_type": "pyout",
       "prompt_number": 6,
       "text": [
        "[(3, 4, 5)]"
       ]
      }
     ],
     "prompt_number": 6
    },
    {
     "cell_type": "markdown",
     "metadata": {},
     "source": [
      "Ahora evaluar\u00e9 la funci\u00f3n en el caso que pide el problema, es decir, **n=1000**:"
     ]
    },
    {
     "cell_type": "code",
     "collapsed": false,
     "input": [
      "specialPithagorianTriplet(1000)"
     ],
     "language": "python",
     "metadata": {},
     "outputs": [
      {
       "metadata": {},
       "output_type": "pyout",
       "prompt_number": 7,
       "text": [
        "[(200, 375, 425)]"
       ]
      }
     ],
     "prompt_number": 7
    },
    {
     "cell_type": "markdown",
     "metadata": {},
     "source": [
      "El resultado anterior comprueba que en verdad la tripleta **(200,375,425)** es la \u00fanica tripleta pitag\u00f3rica tal que su suma es igual a 1000. El problema pide que se eval\u00fae el producto de la tripleta:"
     ]
    },
    {
     "cell_type": "code",
     "collapsed": false,
     "input": [
      "a,b,c=specialPithagorianTriplet(1000)[0]"
     ],
     "language": "python",
     "metadata": {},
     "outputs": [],
     "prompt_number": 8
    },
    {
     "cell_type": "code",
     "collapsed": false,
     "input": [
      "a*b*c"
     ],
     "language": "python",
     "metadata": {},
     "outputs": [
      {
       "metadata": {},
       "output_type": "pyout",
       "prompt_number": 9,
       "text": [
        "31875000"
       ]
      }
     ],
     "prompt_number": 9
    },
    {
     "cell_type": "markdown",
     "metadata": {},
     "source": [
      "Por lo tanto, el resultado de multiplicar 200\\*375\\*425 es igual a **31875000**."
     ]
    }
   ],
   "metadata": {}
  }
 ]
}