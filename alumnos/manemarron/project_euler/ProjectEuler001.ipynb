{
 "metadata": {
  "name": "",
  "signature": "sha256:8ec9c699f446c6b102c7cd95cbb7b828b1a88f3efa17f8999eabb086ba1589cd"
 },
 "nbformat": 3,
 "nbformat_minor": 0,
 "worksheets": [
  {
   "cells": [
    {
     "cell_type": "heading",
     "level": 1,
     "metadata": {},
     "source": [
      "M\u00faltiplos de 3 y de 5"
     ]
    },
    {
     "cell_type": "heading",
     "level": 6,
     "metadata": {},
     "source": [
      "[resuelto por Jos\u00e9 Manuel Marr\u00f3n Ruiz]"
     ]
    },
    {
     "cell_type": "markdown",
     "metadata": {},
     "source": [
      "(<i>Para ver el problema original referirse a <a href=\"https://projecteuler.net/problem=1\">https://projecteuler.net/problem=1</a></i>)"
     ]
    },
    {
     "cell_type": "markdown",
     "metadata": {},
     "source": [
      "<p>\n",
      "El problema consiste en listar todos los enteros positivos que sean <b>m\u00faltiplos de 3 o de 5</b> y que sean menores a un n\u00famero n dado.</p>\n",
      "<p> Adem\u00e1s se debe de hacer el c\u00e1lculo de la <b>suma</b> de todos los enteros que cumplan estas condiciones. </p>"
     ]
    },
    {
     "cell_type": "markdown",
     "metadata": {},
     "source": [
      "El caso de prueba que se da es para los n\u00fameros menores a **n=10**, donde los enteros m\u00faltiplos de 3 o 5 son **3,5,6,9** y la suma es **23**."
     ]
    },
    {
     "cell_type": "markdown",
     "metadata": {},
     "source": [
      "El proyecto pide que se haga el c\u00e1lculo de la suma de los enteros menores a 1000 que cumplan estas condiciones. Escribir\u00e9 una funci\u00f3n que regrese tanto la lista de todos los m\u00faltiplos de 3 o 5 menores a n como la suma de dichos m\u00faltiplos."
     ]
    },
    {
     "cell_type": "code",
     "collapsed": false,
     "input": [
      "def listAndSumMultiples3or5(n):\n",
      "    \"\"\"\n",
      "    Funci\u00f3n que lista todos los m\u00faltiplos de 3 o 5 y los suma.\n",
      "    \n",
      "    Param\u00e9tros:\n",
      "    n: cota superior del conjunto de enteros donde se evaluar\u00e1n los m\u00faltiplos\n",
      "    \"\"\"\n",
      "    _multiples = []\n",
      "    _sum = 0\n",
      "    for x in range(1,n):\n",
      "        if x%3==0 or x%5==0:\n",
      "            _multiples.append(x)\n",
      "            _sum+=x\n",
      "    return _multiples,_sum"
     ],
     "language": "python",
     "metadata": {},
     "outputs": [],
     "prompt_number": 24
    },
    {
     "cell_type": "markdown",
     "metadata": {},
     "source": [
      "Hagamos una ejecuci\u00f3n de prueba de la funci\u00f3n anterior para comprobar que el resultado es correcto."
     ]
    },
    {
     "cell_type": "code",
     "collapsed": false,
     "input": [
      "multiples,sumM = listAndSumMultiples3or5(10)"
     ],
     "language": "python",
     "metadata": {},
     "outputs": [],
     "prompt_number": 25
    },
    {
     "cell_type": "code",
     "collapsed": false,
     "input": [
      "multiples"
     ],
     "language": "python",
     "metadata": {},
     "outputs": [
      {
       "metadata": {},
       "output_type": "pyout",
       "prompt_number": 26,
       "text": [
        "[3, 5, 6, 9]"
       ]
      }
     ],
     "prompt_number": 26
    },
    {
     "cell_type": "code",
     "collapsed": false,
     "input": [
      "sumM"
     ],
     "language": "python",
     "metadata": {},
     "outputs": [
      {
       "metadata": {},
       "output_type": "pyout",
       "prompt_number": 27,
       "text": [
        "23"
       ]
      }
     ],
     "prompt_number": 27
    },
    {
     "cell_type": "markdown",
     "metadata": {},
     "source": [
      "Como podemos observar, estos resultados coinciden con el caso de prueba que solicita el ejercicio. Ahora realizar\u00e9 el c\u00e1lculo para n=1000."
     ]
    },
    {
     "cell_type": "code",
     "collapsed": false,
     "input": [
      "multiples1000,sum1000 = listAndSumMultiples3or5(1000)"
     ],
     "language": "python",
     "metadata": {},
     "outputs": [],
     "prompt_number": 28
    },
    {
     "cell_type": "markdown",
     "metadata": {},
     "source": [
      "No imprimir\u00e9 el resultado completo de la lista de m\u00faltiplos debido al gran tama\u00f1o de la misma; sin embargo, mostrar\u00e9 los primeros 20 m\u00faltiplos."
     ]
    },
    {
     "cell_type": "code",
     "collapsed": false,
     "input": [
      "multiples1000[:20]"
     ],
     "language": "python",
     "metadata": {},
     "outputs": [
      {
       "metadata": {},
       "output_type": "pyout",
       "prompt_number": 29,
       "text": [
        "[3, 5, 6, 9, 10, 12, 15, 18, 20, 21, 24, 25, 27, 30, 33, 35, 36, 39, 40, 42]"
       ]
      }
     ],
     "prompt_number": 29
    },
    {
     "cell_type": "code",
     "collapsed": false,
     "input": [
      "sum1000"
     ],
     "language": "python",
     "metadata": {},
     "outputs": [
      {
       "metadata": {},
       "output_type": "pyout",
       "prompt_number": 23,
       "text": [
        "233168"
       ]
      }
     ],
     "prompt_number": 23
    },
    {
     "cell_type": "markdown",
     "metadata": {},
     "source": [
      "La respuesta al ejercicio es el resultado que se almacen\u00f3 en la variable sum1000, que corresponde a la suma de los m\u00faltiplos de 3 o 5 menores a 1000 y equivale a **233168**. "
     ]
    }
   ],
   "metadata": {}
  }
 ]
}