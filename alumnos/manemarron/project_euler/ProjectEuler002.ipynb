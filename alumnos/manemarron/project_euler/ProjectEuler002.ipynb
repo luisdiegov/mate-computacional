{
 "metadata": {
  "name": "",
  "signature": "sha256:67f2d448e258d1470cfd727a0906169cc78f281fe41653b86cef7fcf5acf3bc4"
 },
 "nbformat": 3,
 "nbformat_minor": 0,
 "worksheets": [
  {
   "cells": [
    {
     "cell_type": "heading",
     "level": 1,
     "metadata": {},
     "source": [
      "N\u00fameros de Fibonacci pares"
     ]
    },
    {
     "cell_type": "heading",
     "level": 6,
     "metadata": {},
     "source": [
      "[resuelto por Jos\u00e9 Manuel Marr\u00f3n Ruiz]"
     ]
    },
    {
     "cell_type": "markdown",
     "metadata": {},
     "source": [
      " <i>(Para ver el problema original referirse a <a href=\"https://projecteuler.net/problem=2\">https://projecteuler.net/problem=2</a>)</i>"
     ]
    },
    {
     "cell_type": "markdown",
     "metadata": {},
     "source": [
      "El problema consiste en **calcular la suma de todos los n\u00fameros pares en la sucesi\u00f3n de Fibonacci mientras que el valor sea menor o igual a un cierto n\u00famero dado**. En el caso particular de este proyecto, se pide la suma mientras que los valores sean menores o iguales a 4 millones."
     ]
    },
    {
     "cell_type": "markdown",
     "metadata": {},
     "source": [
      "Escribir\u00e9 una funci\u00f3n que reciba como par\u00e1metro el m\u00e1ximo valor que pueden tomar los valores a sumarse y devuelva la suma de los n\u00fameros en la sucesi\u00f3n de Fibonacci que cumplan con esta condici\u00f3n."
     ]
    },
    {
     "cell_type": "code",
     "collapsed": false,
     "input": [
      "def sumEvenFibonacci(max_n):\n",
      "    \"\"\"\n",
      "    Suma todos los n\u00fameros pares de la sucesi\u00f3n de Fibonacci cuyo valor sea menor o igual a max_n\n",
      "    \n",
      "    Par\u00e1metros:\n",
      "    max_n: m\u00e1ximo valor que deben tener los n\u00fameros para sumarse\n",
      "    \"\"\"\n",
      "    sum_fib = 0\n",
      "    num1 = 1\n",
      "    num2 = 2\n",
      "    while num2 <= max_n:\n",
      "        if num2%2 == 0: sum_fib+=num2 \n",
      "        aux = num1+num2\n",
      "        num1=num2\n",
      "        num2=aux\n",
      "    return sum_fib"
     ],
     "language": "python",
     "metadata": {},
     "outputs": [],
     "prompt_number": 15
    },
    {
     "cell_type": "markdown",
     "metadata": {},
     "source": [
      "Probemos con max_n=50:"
     ]
    },
    {
     "cell_type": "code",
     "collapsed": false,
     "input": [
      "sumEvenFibonacci(50)"
     ],
     "language": "python",
     "metadata": {},
     "outputs": [
      {
       "metadata": {},
       "output_type": "pyout",
       "prompt_number": 16,
       "text": [
        "44"
       ]
      }
     ],
     "prompt_number": 16
    },
    {
     "cell_type": "markdown",
     "metadata": {},
     "source": [
      "Los n\u00fameros menores a 50 en la sucesi\u00f3n de Fibonacci son 1, 2, 3, 5, 8, 13, 21 y 34. Los pares en este conjunto son 2, 8 y 34.La suma de 2, 8 y 34 es:"
     ]
    },
    {
     "cell_type": "code",
     "collapsed": false,
     "input": [
      "2+8+34"
     ],
     "language": "python",
     "metadata": {},
     "outputs": [
      {
       "metadata": {},
       "output_type": "pyout",
       "prompt_number": 17,
       "text": [
        "44"
       ]
      }
     ],
     "prompt_number": 17
    },
    {
     "cell_type": "markdown",
     "metadata": {},
     "source": [
      "Por lo tanto, el valor que arroja la funci\u00f3n es correcto. "
     ]
    },
    {
     "cell_type": "markdown",
     "metadata": {},
     "source": [
      "Ahora calcular\u00e9 para el valor que pide el problema, es decir, para 4 millones."
     ]
    },
    {
     "cell_type": "code",
     "collapsed": false,
     "input": [
      "sumEF = sumEvenFibonacci(4e6)"
     ],
     "language": "python",
     "metadata": {},
     "outputs": [],
     "prompt_number": 18
    },
    {
     "cell_type": "code",
     "collapsed": false,
     "input": [
      "sumEF"
     ],
     "language": "python",
     "metadata": {},
     "outputs": [
      {
       "metadata": {},
       "output_type": "pyout",
       "prompt_number": 19,
       "text": [
        "4613732"
       ]
      }
     ],
     "prompt_number": 19
    },
    {
     "cell_type": "markdown",
     "metadata": {},
     "source": [
      "\n",
      "La respuesta al ejercicio es el resultado que se almacen\u00f3 en la variable sumEF, que corresponde a la suma de los n\u00fameros pares de la sucesi\u00f3n de Fibonacci menores o iguales a 4 millones y equivale a **4613732**."
     ]
    }
   ],
   "metadata": {}
  }
 ]
}