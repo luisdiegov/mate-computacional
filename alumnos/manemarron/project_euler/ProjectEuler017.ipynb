{
 "metadata": {
  "name": "",
  "signature": "sha256:f19c1c6480cb425c90d1d7fa8716cb78a831a48b3b0fca0522c8b39cbc7bfaf2"
 },
 "nbformat": 3,
 "nbformat_minor": 0,
 "worksheets": [
  {
   "cells": [
    {
     "cell_type": "heading",
     "level": 1,
     "metadata": {},
     "source": [
      "Cuenta de las letras de los n\u00fameros"
     ]
    },
    {
     "cell_type": "heading",
     "level": 6,
     "metadata": {},
     "source": [
      "[resuelto por Jos\u00e9 Manuel Marr\u00f3n Ruiz]"
     ]
    },
    {
     "cell_type": "markdown",
     "metadata": {},
     "source": [
      "(<i>Para ver el problema original referirse a <a href=\"https://projecteuler.net/problem=17\">https://projecteuler.net/problem=17</a></i>)"
     ]
    },
    {
     "cell_type": "markdown",
     "metadata": {},
     "source": [
      "El problema consiste en encontrar el total de las letras que componen a las palabras en ingl\u00e9s que representan a los n\u00fameros naturales del 1 a n. En el caso de este problema, se pide obtener la cuenta hasta **n=1000**."
     ]
    },
    {
     "cell_type": "markdown",
     "metadata": {},
     "source": [
      "Como observaci\u00f3n, los s\u00edmbolos como espacios y gu\u00edones son omitidos de la cuenta. Es decir, el n\u00famero 119 (one hundred and nineteen) cuenta de 21 letras y el n\u00famero 45 (forty-five) cuenta de 9 letras. "
     ]
    },
    {
     "cell_type": "markdown",
     "metadata": {},
     "source": [
      "Primero, escribir\u00e9 una funci\u00f3n para encapsular los d\u00edgitos del 1 al 9:"
     ]
    },
    {
     "cell_type": "code",
     "collapsed": false,
     "input": [
      "def first_ten(i):\n",
      "    \"\"\"\n",
      "    Funci\u00f3n que regresa la palabra en ingl\u00e9s que representa a los n\u00fameros del uno al nueve seg\u00fan el que sea i\n",
      "    \"\"\"\n",
      "    if   i==1: return \"one\"\n",
      "    elif i==2: return \"two\"\n",
      "    elif i==3: return \"three\"\n",
      "    elif i==4: return \"four\"\n",
      "    elif i==5: return \"five\"\n",
      "    elif i==6: return \"six\"\n",
      "    elif i==7: return \"seven\"\n",
      "    elif i==8: return \"eight\"\n",
      "    elif i==9: return \"nine\"\n",
      "    return \"\""
     ],
     "language": "python",
     "metadata": {},
     "outputs": [],
     "prompt_number": 59
    },
    {
     "cell_type": "markdown",
     "metadata": {},
     "source": [
      "Ahora, escribir\u00e9 la funci\u00f3n que mapee cada n\u00famero natural a su respectiva palabra en ingl\u00e9s. En esta funci\u00f3n, ya se eliminan los gu\u00edones y los espacios."
     ]
    },
    {
     "cell_type": "code",
     "collapsed": false,
     "input": [
      "def get_letters(i):\n",
      "    \"\"\"\n",
      "    Funci\u00f3n que obtiene la palabra (en ing\u00e9s) que representa al n\u00famero i\n",
      "    \"\"\"\n",
      "    s = str(i)\n",
      "    s = (\"0\"*(4-len(s)))+s\n",
      "    result=\"\"\n",
      "    \n",
      "    aux1 = int(s[-1:])\n",
      "    aux2 = int(s[-2:-1])\n",
      "    aux3 = int(s[-3:-2])\n",
      "    aux4 = int(s[-4:-3])\n",
      "    \n",
      "    #Mil\n",
      "    if aux4>0: result += first_ten(aux4)+\"thousand\"\n",
      "      \n",
      "    #Cienes\n",
      "    if aux3>0: \n",
      "        result += first_ten(aux3)+\"hundred\"\n",
      "        if aux2>0 or aux1>0: result+=\"and\"\n",
      "        \n",
      "    #Decenas  \n",
      "    if aux2==1:\n",
      "        if aux1==4 or aux1>=6: result += first_ten(aux1)\n",
      "        if   aux1==0: result += \"ten\"\n",
      "        elif aux1==1: result += \"eleven\"\n",
      "        elif aux1==2: result += \"twelve\"\n",
      "        elif aux1==3: result += \"thir\"\n",
      "        elif aux1==5: result += \"fif\"\n",
      "        if   aux1>=3: \n",
      "            if aux1==8: result += \"een\"\n",
      "            else: result += \"teen\"\n",
      "    else:\n",
      "        if aux2>1: \n",
      "            if   aux2==2: result += \"twen\"\n",
      "            elif aux2==3: result += \"thir\"\n",
      "            elif aux2==4: result += \"for\"\n",
      "            elif aux2==5: result += \"fif\"\n",
      "            else: result += first_ten(aux2)\n",
      "            if aux2==8: result += \"y\"\n",
      "            else: result += \"ty\"\n",
      "        #unidades\n",
      "        result+=first_ten(aux1)\n",
      "    return result"
     ],
     "language": "python",
     "metadata": {},
     "outputs": [],
     "prompt_number": 61
    },
    {
     "cell_type": "markdown",
     "metadata": {},
     "source": [
      "Finalmente, escribir\u00e9 una funci\u00f3n que simplemente concatene todas las letras de todos los n\u00fameros del 1 al n y obtenga su cuenta:"
     ]
    },
    {
     "cell_type": "code",
     "collapsed": false,
     "input": [
      "def count_letters(n):\n",
      "    \"\"\"\n",
      "    Funci\u00f3n que suma las letras (en ingl\u00e9s) de todos los n\u00fameros del 1 a n.\n",
      "    \"\"\"\n",
      "    result=\"\"\n",
      "    for i in range(1,n+1):\n",
      "        result+=get_letters(i)\n",
      "    return len(result)"
     ],
     "language": "python",
     "metadata": {},
     "outputs": [],
     "prompt_number": 54
    },
    {
     "cell_type": "markdown",
     "metadata": {},
     "source": [
      "Veamos como funciona la funci\u00f3n para el caso de prueba ofrecido por el problema (**n=5**). El resultado al que se debe llegar es **19**."
     ]
    },
    {
     "cell_type": "code",
     "collapsed": false,
     "input": [
      "count_letters(5)"
     ],
     "language": "python",
     "metadata": {},
     "outputs": [
      {
       "metadata": {},
       "output_type": "pyout",
       "prompt_number": 63,
       "text": [
        "19"
       ]
      }
     ],
     "prompt_number": 63
    },
    {
     "cell_type": "markdown",
     "metadata": {},
     "source": [
      "Finalmente, veamos para el caso que pide el problema (i.e. **n=1000**):"
     ]
    },
    {
     "cell_type": "code",
     "collapsed": false,
     "input": [
      "count_letters(1000)"
     ],
     "language": "python",
     "metadata": {},
     "outputs": [
      {
       "metadata": {},
       "output_type": "pyout",
       "prompt_number": 64,
       "text": [
        "21124"
       ]
      }
     ],
     "prompt_number": 64
    },
    {
     "cell_type": "markdown",
     "metadata": {},
     "source": [
      "Este resultado ya fue comprobado contra el resultado que da el problema. Por lo tanto, el total de todas las letras de las palabras en ingl\u00e9s de todos los n\u00fameros del 1 al 1000 es **21124**."
     ]
    }
   ],
   "metadata": {}
  }
 ]
}