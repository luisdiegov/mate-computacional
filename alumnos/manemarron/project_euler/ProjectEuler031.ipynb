{
 "metadata": {
  "name": "",
  "signature": "sha256:401d4e87019a6740a97c3cb3fd7df921918bc3150c071124f42a70773b02e7ed"
 },
 "nbformat": 3,
 "nbformat_minor": 0,
 "worksheets": [
  {
   "cells": [
    {
     "cell_type": "heading",
     "level": 1,
     "metadata": {},
     "source": [
      "Suma de monedas"
     ]
    },
    {
     "cell_type": "heading",
     "level": 6,
     "metadata": {},
     "source": [
      "[resuelto por Jos\u00e9 Manuel Marr\u00f3n Ruiz]"
     ]
    },
    {
     "cell_type": "markdown",
     "metadata": {},
     "source": [
      "(<i>Para ver el problema original referirse a <a href=\"https://projecteuler.net/problem=31\">https://projecteuler.net/problem=31</a></i>)"
     ]
    },
    {
     "cell_type": "markdown",
     "metadata": {},
     "source": [
      "El problema consiste en contar todas las posibles combinaciones distintas de monedas de distintas denominaciones para formar el valor de 2 libras esterlinas. Se tienen 8 denominaciones diferentes (0.01,0.02,0.05,0.10,0.20,0.50,1.00 y 2.00). "
     ]
    },
    {
     "cell_type": "markdown",
     "metadata": {},
     "source": [
      "Mi soluci\u00f3n utiliza recursi\u00f3n y analiza todas las combinaciones factibles (es decir, no utiliza fuerza bruta sobre todas las combinaciones de monedas). Lo que hace es que en cada denominaci\u00f3n calcula el n\u00famero de monedas utilizadas de denominaciones menores y resta el valor de la denominaci\u00f3n hasta que se llega a un valor menor a 0. Este m\u00e9todo funciona ya que todas las denominaciones dividen exactamente al monto que se desea representar, en este caso 200."
     ]
    },
    {
     "cell_type": "code",
     "collapsed": false,
     "input": [
      "coins=[200,100,50,20,10,5,2,1]\n",
      "def sumcoins_rec(result,t,i):\n",
      "    \"\"\"\n",
      "    Funci\u00f3n recursiva para obtener la cantidad de combinaciones de monedas para formar dos libras.\n",
      "    El m\u00e9todo es extendible para cualquier n\u00famero de monedas con la condicion \n",
      "    de que todas dividan exactamente al monto que se desea representar\n",
      "    \"\"\"\n",
      "    if i==len(coins)-1:\n",
      "        return result+1\n",
      "    a=t\n",
      "    while(a>=0):\n",
      "        result = sumcoins_rec(result,a,i+1)\n",
      "        a-=coins[i]\n",
      "    return result"
     ],
     "language": "python",
     "metadata": {},
     "outputs": [],
     "prompt_number": 23
    },
    {
     "cell_type": "code",
     "collapsed": false,
     "input": [
      "sumcoins_rec(0,200,0)"
     ],
     "language": "python",
     "metadata": {},
     "outputs": [
      {
       "metadata": {},
       "output_type": "pyout",
       "prompt_number": 24,
       "text": [
        "73682"
       ]
      }
     ],
     "prompt_number": 24
    }
   ],
   "metadata": {}
  }
 ]
}