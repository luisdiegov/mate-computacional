{
 "metadata": {
  "name": "",
  "signature": "sha256:4277e636cf128bea4dbda0f9d82115a4c7ef999c4f48a204120432736d9a95f0"
 },
 "nbformat": 3,
 "nbformat_minor": 0,
 "worksheets": [
  {
   "cells": [
    {
     "cell_type": "heading",
     "level": 1,
     "metadata": {},
     "source": [
      "M\u00e1ximo factor primo"
     ]
    },
    {
     "cell_type": "heading",
     "level": 6,
     "metadata": {},
     "source": [
      "[resuelto por Jos\u00e9 Manuel Marr\u00f3n Ruiz]"
     ]
    },
    {
     "cell_type": "markdown",
     "metadata": {},
     "source": [
      " <i>(Para ver el problema original referirse a <a href=\"https://projecteuler.net/problem=3\">https://projecteuler.net/problem=3</a>)</i>"
     ]
    },
    {
     "cell_type": "markdown",
     "metadata": {},
     "source": [
      "El problema consiste en **encontrar el m\u00e1ximo factor primo de un n\u00famero entero positivo**. En el caso particular de este problema, se pide el c\u00e1lculo para el n\u00famero **600851475143**."
     ]
    },
    {
     "cell_type": "markdown",
     "metadata": {},
     "source": [
      "El caso de prueba que se otorga es para el n\u00famero **13195**, para el cual la descomposici\u00f3n en factores primos es **5, 7, 13 y 29**, por lo que el resultado para este caso ser\u00eda **29**."
     ]
    },
    {
     "cell_type": "markdown",
     "metadata": {},
     "source": [
      "Primero, implementar\u00e9 una funci\u00f3n que determine si un n\u00famero dado es primo o no. En este caso no me interesa optimizar la complejidad algor\u00edtmica, ya que esta funci\u00f3n es de orden O(N/2)."
     ]
    },
    {
     "cell_type": "code",
     "collapsed": false,
     "input": [
      "def isPrime(n):\n",
      "    \"\"\"\n",
      "    Funci\u00f3n que determina si un entero n es primo o no\n",
      "    \n",
      "    Par\u00e1metros:\n",
      "    n: n\u00famero entero positivo\n",
      "    \"\"\"\n",
      "    x=2\n",
      "    while x < int(n/2)+1:\n",
      "        if n%x==0:\n",
      "            return False\n",
      "        x+=1\n",
      "    return True"
     ],
     "language": "python",
     "metadata": {},
     "outputs": [],
     "prompt_number": 43
    },
    {
     "cell_type": "markdown",
     "metadata": {},
     "source": [
      "Har\u00e9 algunas pruebas para comprobar que el resultado arrojado por la funci\u00f3n es correcto:"
     ]
    },
    {
     "cell_type": "code",
     "collapsed": false,
     "input": [
      "isPrime(6)"
     ],
     "language": "python",
     "metadata": {},
     "outputs": [
      {
       "metadata": {},
       "output_type": "pyout",
       "prompt_number": 44,
       "text": [
        "False"
       ]
      }
     ],
     "prompt_number": 44
    },
    {
     "cell_type": "code",
     "collapsed": false,
     "input": [
      "isPrime(101)"
     ],
     "language": "python",
     "metadata": {},
     "outputs": [
      {
       "metadata": {},
       "output_type": "pyout",
       "prompt_number": 46,
       "text": [
        "True"
       ]
      }
     ],
     "prompt_number": 46
    },
    {
     "cell_type": "markdown",
     "metadata": {},
     "source": [
      "Ahora, escribir\u00e9 la funci\u00f3n que devuelve el mayor factor primo de un entero positivo n. Esta funci\u00f3n lo \u00fanico que hace es iterar sobre los enteros menores a n, determinar si son primos e ir disminuyendo n mientras se pueda dividir a n entre el primo dado. Al final de la iteraci\u00f3n, el \u00faltimo primo que se eval\u00faa es aquel que es el mayor factor primo de n."
     ]
    },
    {
     "cell_type": "code",
     "collapsed": false,
     "input": [
      "def getLargestPrimeFactor(n):\n",
      "    \"\"\"\n",
      "    Funci\u00f3n que devuelve el mayor factor primo de n\n",
      "    \n",
      "    Par\u00e1metros:\n",
      "    n: n\u00famero entero positivo\n",
      "    \"\"\"\n",
      "    if n==1:   \n",
      "        return 1\n",
      "    elif n<1 or int(n) != n:\n",
      "        return None\n",
      "    x = 1\n",
      "    while x <= n:\n",
      "        x+=1\n",
      "        if isPrime(x):\n",
      "            while n%x==0:\n",
      "                n/=x\n",
      "            if n == 1:\n",
      "                break\n",
      "    return x"
     ],
     "language": "python",
     "metadata": {},
     "outputs": [],
     "prompt_number": 48
    },
    {
     "cell_type": "markdown",
     "metadata": {},
     "source": [
      "Ejecutar\u00e9 la funci\u00f3n para el caso de prueba, donde n es 13195. El resultado debe ser 29."
     ]
    },
    {
     "cell_type": "code",
     "collapsed": false,
     "input": [
      "getLargestPrimeFactor(13195)"
     ],
     "language": "python",
     "metadata": {},
     "outputs": [
      {
       "metadata": {},
       "output_type": "pyout",
       "prompt_number": 50,
       "text": [
        "29"
       ]
      }
     ],
     "prompt_number": 50
    },
    {
     "cell_type": "markdown",
     "metadata": {},
     "source": [
      "Ahora ejecutar\u00e9 la funci\u00f3n para el caso que pide el problema, que es para **n = 600851475143**."
     ]
    },
    {
     "cell_type": "code",
     "collapsed": false,
     "input": [
      "getLargestPrimeFactor(600851475143)"
     ],
     "language": "python",
     "metadata": {},
     "outputs": [
      {
       "metadata": {},
       "output_type": "pyout",
       "prompt_number": 51,
       "text": [
        "6857"
       ]
      }
     ],
     "prompt_number": 51
    },
    {
     "cell_type": "markdown",
     "metadata": {},
     "source": [
      "El resultado, como puede verse en la **l\u00ednea 51 del output**, es **6857**."
     ]
    }
   ],
   "metadata": {}
  }
 ]
}