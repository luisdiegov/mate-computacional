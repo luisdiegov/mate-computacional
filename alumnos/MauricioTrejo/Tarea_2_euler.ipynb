{
 "metadata": {
  "name": "",
  "signature": "sha256:e23546ace071c39e0ad5d1ce4d3109a4e8806e0e002a00f50c96bfe4c43ced35"
 },
 "nbformat": 3,
 "nbformat_minor": 0,
 "worksheets": [
  {
   "cells": [
    {
     "cell_type": "heading",
     "level": 3,
     "metadata": {},
     "source": [
      "The sum of the squares of the first ten natural numbers is,\n",
      "12 + 22 + ... + 102 = 385\n",
      "\n",
      "The square of the sum of the first ten natural numbers is,\n",
      "(1 + 2 + ... + 10)2 = 552 = 3025\n",
      "\n",
      "Hence the difference between the sum of the squares of the first ten natural numbers and the square of the sum is 3025 \u2212 385 = 2640.\n",
      "\n",
      "Find the difference between the sum of the squares of the first one hundred natural numbers and the square of the sum.\n"
     ]
    },
    {
     "cell_type": "code",
     "collapsed": false,
     "input": [
      "n=100\n",
      "squaresum=0\n",
      "sumsquare=0\n",
      "dif=0\n",
      "for i in xrange(1,n+1,1):\n",
      "    squaresum=squaresum+i\n",
      "    sumsquare=sumsquare+(i**2)\n",
      "print (squaresum**2)-sumsquare"
     ],
     "language": "python",
     "metadata": {},
     "outputs": [
      {
       "output_type": "stream",
       "stream": "stdout",
       "text": [
        "25164150\n"
       ]
      }
     ],
     "prompt_number": 17
    },
    {
     "cell_type": "markdown",
     "metadata": {},
     "source": [
      "Definimos $n=100$ como el numero de enteros a sumar\n",
      "Definimos $i$ entre $1$ y $n+1$ y dentro de este definimos $squaresum$ como el cuadrado de la suma y $sumsquare$ como la suma de los cuadrados e imprimimos $squaresum^2-sumsquare$"
     ]
    },
    {
     "cell_type": "heading",
     "level": 3,
     "metadata": {},
     "source": [
      "A Pythagorean triplet is a set of three natural numbers, a < b < c, for which,\n",
      "$a^2 + b^2 = c^2$\n",
      "\n",
      "For example, 32 + 42 = 9 + 16 = 25 = 52.\n",
      "\n",
      "There exists exactly one Pythagorean triplet for which a + b + c = 1000.\n",
      "Find the product abc.\n"
     ]
    },
    {
     "cell_type": "code",
     "collapsed": false,
     "input": [
      "n=1000\n",
      "for b in range(1,n,1):\n",
      "        for a in range(1,b,1):\n",
      "            c = n-a-b\n",
      "            if a**2+b**2==c**2:\n",
      "                print a*b*c"
     ],
     "language": "python",
     "metadata": {},
     "outputs": [
      {
       "output_type": "stream",
       "stream": "stdout",
       "text": [
        "31875000\n"
       ]
      }
     ],
     "prompt_number": 16
    },
    {
     "cell_type": "markdown",
     "metadata": {},
     "source": [
      "Definimos $n=1000$ como el numero al que queremos llegar con la suma\n",
      "Definimos for para $b$ en $1:n$ y luego otro for para $a$ en $1:b$ de forma que $b>a$, tambi\u00e9n definimos $c=n-a-b$ para cumplir la condici\u00f3n $a+b+c=1000$\n",
      "Definimos un if para cumplir la condici\u00f3n $a^2+b^2=c^2$ e imprimimos $a*b*c$"
     ]
    }
   ],
   "metadata": {}
  }
 ]
}