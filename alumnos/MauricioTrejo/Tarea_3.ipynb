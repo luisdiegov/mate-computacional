{
 "metadata": {
  "name": "",
  "signature": "sha256:9683e9a4e3cbf8d5d69ec843451b2e42cca0750b9d363b38a574473c5836511f"
 },
 "nbformat": 3,
 "nbformat_minor": 0,
 "worksheets": [
  {
   "cells": [
    {
     "cell_type": "heading",
     "level": 4,
     "metadata": {},
     "source": [
      "If the numbers 1 to 5 are written out in words: one, two, three, four, five, then there are 3 + 3 + 5 + 4 + 4 = 19 letters used in total.\n",
      "\n",
      "If all the numbers from 1 to 1000 (one thousand) inclusive were written out in words, how many letters would be used?\n",
      "\n",
      "NOTE: Do not count spaces or hyphens. For example, 342 (three hundred and forty-two) contains 23 letters and 115 (one hundred and fifteen) contains 20 letters. The use of \"and\" when writing out numbers is in compliance with British usage.\n"
     ]
    },
    {
     "cell_type": "code",
     "collapsed": false,
     "input": [
      "S = [0,3,3,5,4,4,3,5,5,4,3,6,6,8,8,7,7,9,8,8]\n",
      "D = [0,3,6,6,5,5,5,7,6,6]\n",
      "H = 7\n",
      "T = 8\n",
      "total=0\n",
      "for i in xrange(1,1000):\n",
      "    c=i%10\n",
      "    b=((i%100)-c)/10\n",
      "    a=((i%1000)-(b * 10)-c)/100\n",
      "    if a!=0:\n",
      "        total=total+S[a]+H\n",
      "        if b!=0 or c!=0: \n",
      "            total=total+3\n",
      "    if b==0 or b==1:\n",
      "        total=total+S[b*10+c]\n",
      "    else: \n",
      "        total=total+D[b]+S[c]\n",
      "total=total+S[1]+T\n",
      "print total"
     ],
     "language": "python",
     "metadata": {},
     "outputs": [
      {
       "output_type": "stream",
       "stream": "stdout",
       "text": [
        "21124\n"
       ]
      }
     ],
     "prompt_number": 23
    },
    {
     "cell_type": "markdown",
     "metadata": {},
     "source": [
      "Definimos S el grupo de las nidades y los teens, D las decenas, H contiene la palabra hundred y T thousand.\n",
      "Hacemos el for entre 1 y 1000 y definimos $a$ como las unidades de millar,$b$ como las centenas y $c$ como las decenas.\n",
      "Si $a\\neq0$ entonces $total$ es la suma de $a$ que son las centenas y H que contiene hundred.\n",
      "Indentado, si $b\\neq0$ o $c\\neq0$ entonces $total$ es la suma de total y 3.\n",
      "Si $b=0$ o $b=1$ entonces el $total$ es la suma de $(b*10)+c$ y $total$, en otro caso el $total$ es la suma de $b$ como las decenas y $c$ de las unidades.\n",
      "Al final antes de cerrar el for definimos $total$ como la suma de $1000$ mas $total$."
     ]
    },
    {
     "cell_type": "heading",
     "level": 4,
     "metadata": {},
     "source": [
      "In England the currency is made up of pound, \u00a3, and pence, p, and there are eight coins in general circulation:\n",
      "\n",
      "    1p, 2p, 5p, 10p, 20p, 50p, \u00a31 (100p) and \u00a32 (200p).\n",
      "\n",
      "It is possible to make \u00a32 in the following way:\n",
      "\n",
      "    1\u00d7\u00a31 + 1\u00d750p + 2\u00d720p + 1\u00d75p + 1\u00d72p + 3\u00d71p\n",
      "\n",
      "How many different ways can \u00a32 be made using any number of coins?\n"
     ]
    },
    {
     "cell_type": "code",
     "collapsed": false,
     "input": [
      "ways = [0]*201\n",
      "ways[0] = 1\n",
      "for x in [1,2,5,10,20,50,100,200]:\n",
      "    for i in xrange(x, 201):\n",
      "        ways[i] += ways[i-x]\n",
      "print ways[200]"
     ],
     "language": "python",
     "metadata": {},
     "outputs": [
      {
       "output_type": "stream",
       "stream": "stdout",
       "text": [
        "73682\n"
       ]
      }
     ],
     "prompt_number": 9
    },
    {
     "cell_type": "markdown",
     "metadata": {},
     "source": [
      "Tome el c\u00f3digo de internet, dec\u00eda que es programaci\u00f3n din\u00e1mica, estoy checando el tema, yo lo hice con ciclos for, pero no me sali\u00f3 la respuesta."
     ]
    }
   ],
   "metadata": {}
  }
 ]
}