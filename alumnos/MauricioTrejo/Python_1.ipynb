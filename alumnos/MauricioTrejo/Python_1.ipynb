{
 "metadata": {
  "name": "",
  "signature": "sha256:bdc0e43b4e5ae6fd90e139819dc40169345e32605dce6e7676172974d4d119d0"
 },
 "nbformat": 3,
 "nbformat_minor": 0,
 "worksheets": [
  {
   "cells": [
    {
     "cell_type": "code",
     "collapsed": false,
     "input": [
      "from IPython.html.widgets import interact, fixed\n",
      "from IPython.html import widgets"
     ],
     "language": "python",
     "metadata": {},
     "outputs": [],
     "prompt_number": 1
    },
    {
     "cell_type": "heading",
     "level": 6,
     "metadata": {},
     "source": [
      "Este programa determina si la x dada es par (True) o impar (False)"
     ]
    },
    {
     "cell_type": "code",
     "collapsed": false,
     "input": [
      "def par(x):\n",
      "    if int (x)%2==1:\n",
      "        print False\n",
      "    else:\n",
      "        print True"
     ],
     "language": "python",
     "metadata": {},
     "outputs": [],
     "prompt_number": 2
    },
    {
     "cell_type": "code",
     "collapsed": false,
     "input": [
      "interact(par, x=\"10\")"
     ],
     "language": "python",
     "metadata": {},
     "outputs": [
      {
       "output_type": "stream",
       "stream": "stdout",
       "text": [
        "True\n"
       ]
      }
     ],
     "prompt_number": 3
    },
    {
     "cell_type": "heading",
     "level": 6,
     "metadata": {},
     "source": [
      "Este programa determina el valor de $\\sum^{1000}_{k=0} \\left(\\frac{1}{k}\\right)^2$"
     ]
    },
    {
     "cell_type": "code",
     "collapsed": false,
     "input": [
      "suma=0.0\n",
      "for k in xrange(1,1001,1):\n",
      "    suma=suma+((1.0/k)**2)\n",
      "print suma"
     ],
     "language": "python",
     "metadata": {},
     "outputs": [
      {
       "output_type": "stream",
       "stream": "stdout",
       "text": [
        "1.64393456668\n"
       ]
      }
     ],
     "prompt_number": 4
    },
    {
     "cell_type": "heading",
     "level": 4,
     "metadata": {},
     "source": [
      "A palindromic number reads the same both ways. The largest palindrome made from the product of two 2-digit numbers is 9009 = 91 \u00d7 99.\n",
      "\n",
      "Find the largest palindrome made from the product of two 3-digit numbers.\n"
     ]
    },
    {
     "cell_type": "code",
     "collapsed": false,
     "input": [
      "n=0\n",
      "for a in xrange(999,100,-1):\n",
      "    for b in xrange(a,100,-1):\n",
      "        x=a*b\n",
      "        if x>n:\n",
      "            s=str(a*b)\n",
      "            if s==s[::-1]:\n",
      "                 n=a*b\n",
      "print n"
     ],
     "language": "python",
     "metadata": {},
     "outputs": [
      {
       "output_type": "stream",
       "stream": "stdout",
       "text": [
        "906609\n"
       ]
      }
     ],
     "prompt_number": 43
    },
    {
     "cell_type": "markdown",
     "metadata": {},
     "source": [
      "Tomamos el primer for en forma descendiente, al igual que el segundo (el segundo va de $a$ hasta $100$ para evitar repetir los casos de multiplicaci\u00f3n entre $a$ y $b$).\n",
      "Definimos $x=a*b$ \n",
      "Si se cumple $x>n$ definimos $s$ como el String de $a*b$\n",
      "Si $s$ es identico a $s$ al rev\u00e9s (es palindromo) tomamos $n=a*b$ asi la siguiente $x$ ser\u00e1 menor aunque sea un palindromo e imprimiremos $n$ como el m\u00e1ximo palindromo "
     ]
    },
    {
     "cell_type": "heading",
     "level": 4,
     "metadata": {},
     "source": [
      "2520 is the smallest number that can be divided by each of the numbers from 1 to 10 without any remainder.\n",
      "\n",
      "What is the smallest positive number that is evenly divisible by all of the numbers from 1 to 20?"
     ]
    },
    {
     "cell_type": "code",
     "collapsed": false,
     "input": [],
     "language": "python",
     "metadata": {},
     "outputs": [],
     "prompt_number": 0
    },
    {
     "cell_type": "heading",
     "level": 5,
     "metadata": {},
     "source": [
      "The sum of the squares of the first ten natural numbers is,\n",
      "12 + 22 + ... + 102 = 385\n",
      "\n",
      "The square of the sum of the first ten natural numbers is,\n",
      "(1 + 2 + ... + 10)2 = 552 = 3025\n",
      "\n",
      "Hence the difference between the sum of the squares of the first ten natural numbers and the square of the sum is 3025 \u2212 385 = 2640.\n",
      "\n",
      "Find the difference between the sum of the squares of the first one hundred natural numbers and the square of the sum.\n"
     ]
    },
    {
     "cell_type": "code",
     "collapsed": false,
     "input": [],
     "language": "python",
     "metadata": {},
     "outputs": [],
     "prompt_number": 0
    },
    {
     "cell_type": "heading",
     "level": 5,
     "metadata": {},
     "source": [
      "By listing the first six prime numbers: 2, 3, 5, 7, 11, and 13, we can see that the 6th prime is 13.\n",
      "\n",
      "What is the 10 001st prime number?"
     ]
    },
    {
     "cell_type": "code",
     "collapsed": false,
     "input": [],
     "language": "python",
     "metadata": {},
     "outputs": [],
     "prompt_number": 0
    },
    {
     "cell_type": "heading",
     "level": 5,
     "metadata": {},
     "source": [
      "The four adjacent digits in the 1000-digit number that have the greatest product are 9 \u00d7 9 \u00d7 8 \u00d7 9 = 5832.\n",
      "\n",
      "73167176531330624919225119674426574742355349194934\n",
      "96983520312774506326239578318016984801869478851843\n",
      "85861560789112949495459501737958331952853208805511\n",
      "12540698747158523863050715693290963295227443043557\n",
      "66896648950445244523161731856403098711121722383113\n",
      "62229893423380308135336276614282806444486645238749\n",
      "30358907296290491560440772390713810515859307960866\n",
      "70172427121883998797908792274921901699720888093776\n",
      "65727333001053367881220235421809751254540594752243\n",
      "52584907711670556013604839586446706324415722155397\n",
      "53697817977846174064955149290862569321978468622482\n",
      "83972241375657056057490261407972968652414535100474\n",
      "82166370484403199890008895243450658541227588666881\n",
      "16427171479924442928230863465674813919123162824586\n",
      "17866458359124566529476545682848912883142607690042\n",
      "24219022671055626321111109370544217506941658960408\n",
      "07198403850962455444362981230987879927244284909188\n",
      "84580156166097919133875499200524063689912560717606\n",
      "05886116467109405077541002256983155200055935729725\n",
      "71636269561882670428252483600823257530420752963450\n",
      "\n",
      "Find the thirteen adjacent digits in the 1000-digit number that have the greatest product. What is the value of this product?"
     ]
    },
    {
     "cell_type": "code",
     "collapsed": false,
     "input": [],
     "language": "python",
     "metadata": {},
     "outputs": [],
     "prompt_number": 0
    },
    {
     "cell_type": "heading",
     "level": 5,
     "metadata": {},
     "source": [
      "A Pythagorean triplet is a set of three natural numbers, a < b < c, for which,\n",
      "$a^2 + b^2 = c^2$\n",
      "\n",
      "For example, 32 + 42 = 9 + 16 = 25 = 52.\n",
      "\n",
      "There exists exactly one Pythagorean triplet for which a + b + c = 1000.\n",
      "Find the product abc."
     ]
    },
    {
     "cell_type": "code",
     "collapsed": false,
     "input": [],
     "language": "python",
     "metadata": {},
     "outputs": [],
     "prompt_number": 1
    },
    {
     "cell_type": "heading",
     "level": 5,
     "metadata": {},
     "source": [
      "The sum of the primes below 10 is 2 + 3 + 5 + 7 = 17.\n",
      "\n",
      "Find the sum of all the primes below two million."
     ]
    },
    {
     "cell_type": "code",
     "collapsed": false,
     "input": [],
     "language": "python",
     "metadata": {},
     "outputs": []
    }
   ],
   "metadata": {}
  }
 ]
}