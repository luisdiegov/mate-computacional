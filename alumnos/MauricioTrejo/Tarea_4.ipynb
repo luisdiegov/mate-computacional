{
 "metadata": {
  "name": "",
  "signature": "sha256:62ea9ee82cea02bb0272914a0e42349ecc6fe837395aea676c9b25e03ae95ab9"
 },
 "nbformat": 3,
 "nbformat_minor": 0,
 "worksheets": [
  {
   "cells": [
    {
     "cell_type": "heading",
     "level": 5,
     "metadata": {},
     "source": [
      "Funci\u00f3n de decimal a binario"
     ]
    },
    {
     "cell_type": "code",
     "collapsed": false,
     "input": [
      "def binarizar(decimal):\n",
      "    binario = ''\n",
      "    while decimal//2!=0:\n",
      "        binario = str(decimal % 2) + binario\n",
      "        decimal = decimal // 2\n",
      "    print str(decimal) + binario"
     ],
     "language": "python",
     "metadata": {},
     "outputs": [],
     "prompt_number": 12
    },
    {
     "cell_type": "markdown",
     "metadata": {},
     "source": [
      "Hacemos binario como un espacio vac\u00edo.\n",
      "Mientras la parte entera de la dvisi\u00f3n sea diferente de cero:\n",
      "Definimos $binario$= string de $decimal/2$+$binario$\n",
      "Definimos $decimal$= parte entera de $decimal/2$\n",
      "Imprimimos el string de $decimal$ + $binario$\n"
     ]
    },
    {
     "cell_type": "code",
     "collapsed": false,
     "input": [
      "binarizar(35)"
     ],
     "language": "python",
     "metadata": {},
     "outputs": [
      {
       "output_type": "stream",
       "stream": "stdout",
       "text": [
        "100011\n"
       ]
      }
     ],
     "prompt_number": 13
    },
    {
     "cell_type": "heading",
     "level": 5,
     "metadata": {},
     "source": [
      "Funci\u00f3n de hexadecimal a binario"
     ]
    },
    {
     "cell_type": "code",
     "collapsed": false,
     "input": [
      "h=[str(i) for i in range(10)]+[\"A\",\"B\",\"C\",\"D\",\"E\",\"F\"]\n",
      "def hexadecimal(dec):\n",
      "    s=\"\"\n",
      "    while dec:\n",
      "         s+=h[dec%16]\n",
      "         dec//=16\n",
      "    print s[::-1]"
     ],
     "language": "python",
     "metadata": {},
     "outputs": [],
     "prompt_number": 14
    },
    {
     "cell_type": "markdown",
     "metadata": {},
     "source": [
      "Definimos el arreglo $h=[1,2,3,4,5,6,7,8,9,A,B,C,D,E,F]$\n",
      "Definimos s como un espacio vac\u00edo.\n",
      "Mientras $dec$, $s$= h en la posici\u00f3n dec congruente con 16\n",
      "Dividimos $dec$ entre 16 y tomamos la parte entera\n",
      "Imprimimos s al rev\u00e9s\n"
     ]
    },
    {
     "cell_type": "code",
     "collapsed": false,
     "input": [
      "hexadecimal(1234)"
     ],
     "language": "python",
     "metadata": {},
     "outputs": [
      {
       "output_type": "stream",
       "stream": "stdout",
       "text": [
        "4D2\n"
       ]
      }
     ],
     "prompt_number": 15
    }
   ],
   "metadata": {}
  }
 ]
}