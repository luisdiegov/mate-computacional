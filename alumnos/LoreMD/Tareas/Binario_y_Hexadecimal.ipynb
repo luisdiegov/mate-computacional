{
 "metadata": {
  "name": "",
  "signature": "sha256:db086a8557dc4970738ad2ce5e77280a23e8960b30b5917318d5e0eb70aa10a1"
 },
 "nbformat": 3,
 "nbformat_minor": 0,
 "worksheets": [
  {
   "cells": [
    {
     "cell_type": "heading",
     "level": 1,
     "metadata": {},
     "source": [
      "Decimal y Binario"
     ]
    },
    {
     "cell_type": "code",
     "collapsed": false,
     "input": [
      "\"\"\"convierte de decimal a binario\"\"\"\n",
      "def decimalBinario(num,bits):\n",
      "    assert(num>=1*(-2**(bits-1)) and num<=1*(2**(bits-1))-1)\n",
      "    bin=\"\"\n",
      "    i=0\n",
      "    for i in xrange(bits,0,-1):\n",
      "        bin+=str(num%2)\n",
      "        num/=2\n",
      "    return bin[::-1]"
     ],
     "language": "python",
     "metadata": {},
     "outputs": []
    },
    {
     "cell_type": "code",
     "collapsed": false,
     "input": [
      "\"\"\"convierte de binario a decimal\"\"\"\n",
      "def binarioDecimal(num,bits):\n",
      "    i=0\n",
      "    dec=0\n",
      "    for i in xrange(bits,0,-1):\n",
      "        aux=int(num[i-1])*(2**(bits-i))\n",
      "        dec+=aux\n",
      "    return dec"
     ],
     "language": "python",
     "metadata": {},
     "outputs": []
    },
    {
     "cell_type": "heading",
     "level": 1,
     "metadata": {},
     "source": [
      "Binario y Hexadecimal"
     ]
    },
    {
     "cell_type": "code",
     "collapsed": false,
     "input": [
      "\"\"\"los diccionarios que hacen que las \"traducciones\" corran\"\"\"\n",
      "diccionarioBH={\"0000\":\"0\",\"0001\":\"1\",\"0010\":\"2\",\"0011\":\"3\",\"0100\":\"4\",\"0101\":\"5\",\"0110\":\"6\",\"0111\":\"7\",\"1000\":\"8\",\"1001\":\"9\",\"1010\":\"A\",\"1011\":\"B\",\"1100\":\"C\",\"1101\":\"D\",\"1110\":\"E\",\"1111\":\"F\"}\n",
      "diccionarioHB={\"0\":\"0000\",\"1\":\"0001\",\"2\":\"0010\",\"3\":\"0011\",\"4\":\"0100\",\"5\":\"0101\",\"6\":\"0110\",\"7\":\"0111\",\"8\":\"1000\",\"9\":\"1001\",\"A\":\"1010\",\"B\":\"1011\",\"C\":\"1100\",\"D\":\"1101\",\"E\":\"1110\",\"F\":\"1111\"}"
     ],
     "language": "python",
     "metadata": {},
     "outputs": []
    },
    {
     "cell_type": "code",
     "collapsed": false,
     "input": [
      "\"\"\"convierte de binario a hexadecimal\"\"\"\n",
      "def binarioHexadecimal(num):\n",
      "    hex=\"\"\n",
      "    cacho=num\n",
      "    for i in xrange(0,len(num)/4,1):\n",
      "        cacho=cacho[len(cacho)-4:len(cacho)]\n",
      "        hex+=diccionarioBH[cacho]\n",
      "        cacho=num[0:len(num)-4*(i+1)]\n",
      "    return hex[::-1]"
     ],
     "language": "python",
     "metadata": {},
     "outputs": []
    },
    {
     "cell_type": "code",
     "collapsed": false,
     "input": [
      "\"\"\"convierte de hexadecimal a binario\"\"\"\n",
      "def hexadecimalBinario(num):\n",
      "    bin=\"\"\n",
      "    char=\"\"\n",
      "    for i in xrange(0,len(num),1):\n",
      "        char=num[i]\n",
      "        bin+=diccionarioHB[char]\n",
      "    return bin"
     ],
     "language": "python",
     "metadata": {},
     "outputs": []
    }
   ],
   "metadata": {}
  }
 ]
}