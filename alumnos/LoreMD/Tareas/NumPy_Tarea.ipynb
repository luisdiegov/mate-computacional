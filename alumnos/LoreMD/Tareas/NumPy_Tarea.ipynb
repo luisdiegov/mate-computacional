{
 "metadata": {
  "name": "",
  "signature": "sha256:58cc9ae1d630bebac8d38c805256874feb336d4e97a56e77f8a521423d261a0c"
 },
 "nbformat": 3,
 "nbformat_minor": 0,
 "worksheets": [
  {
   "cells": [
    {
     "cell_type": "heading",
     "level": 1,
     "metadata": {},
     "source": [
      "Ejercicios de NumPy"
     ]
    },
    {
     "cell_type": "code",
     "collapsed": false,
     "input": [
      "%pylab inline\n",
      "%matplotlib inline\n",
      "import numpy as np\n",
      "import matplotlib.pyplot as plt"
     ],
     "language": "python",
     "metadata": {},
     "outputs": [
      {
       "output_type": "stream",
       "stream": "stdout",
       "text": [
        "Populating the interactive namespace from numpy and matplotlib\n"
       ]
      }
     ],
     "prompt_number": 2
    },
    {
     "cell_type": "markdown",
     "metadata": {},
     "source": [
      "Pregunta 1:\n",
      "\n",
      "\n",
      "   Un arreglo de 5\u00d75 cuya diagonal sean [1.0,2.0,3.0,4.0,5.0]\n",
      "\n",
      "\n",
      "\n",
      "   Un arreglo de 4\u00d74 cuyo \u00faltimo rengl\u00f3n sea [1,2,3,4] y el resto sean 0."
     ]
    },
    {
     "cell_type": "code",
     "collapsed": false,
     "input": [
      "arreglo1 = np.diag(np.array([1.0, 2.0, 3.0, 4.0,5.0]))\n",
      "arreglo1"
     ],
     "language": "python",
     "metadata": {},
     "outputs": [
      {
       "metadata": {},
       "output_type": "pyout",
       "prompt_number": 17,
       "text": [
        "array([[ 1.,  0.,  0.,  0.,  0.],\n",
        "       [ 0.,  2.,  0.,  0.,  0.],\n",
        "       [ 0.,  0.,  3.,  0.,  0.],\n",
        "       [ 0.,  0.,  0.,  4.,  0.],\n",
        "       [ 0.,  0.,  0.,  0.,  5.]])"
       ]
      }
     ],
     "prompt_number": 17
    },
    {
     "cell_type": "code",
     "collapsed": false,
     "input": [
      "arreglo2=np.zeros((4,4)).astype(int)\n",
      "arreglo2[3,:]=[1,2,3,4]\n",
      "arreglo2"
     ],
     "language": "python",
     "metadata": {},
     "outputs": [
      {
       "metadata": {},
       "output_type": "pyout",
       "prompt_number": 14,
       "text": [
        "array([[0, 0, 0, 0],\n",
        "       [0, 0, 0, 0],\n",
        "       [0, 0, 0, 0],\n",
        "       [1, 2, 3, 4]])"
       ]
      }
     ],
     "prompt_number": 14
    },
    {
     "cell_type": "markdown",
     "metadata": {},
     "source": [
      "Pregunta 2:\n",
      "\n",
      "La criba de eratostenes"
     ]
    },
    {
     "cell_type": "code",
     "collapsed": false,
     "input": [
      "def criba_eratostenes(max):\n",
      "    arregloBool=np.ones(max,).astype(bool)\n",
      "    N_max = int(np.sqrt(len(arregloBool)))\n",
      "    for j in range(2, N_max):\n",
      "        arregloBool[2*j::j] = False\n",
      "    return np.nonzero(arregloBool)"
     ],
     "language": "python",
     "metadata": {},
     "outputs": [],
     "prompt_number": 37
    },
    {
     "cell_type": "code",
     "collapsed": false,
     "input": [
      "for m in (10,100,200):\n",
      "    print criba_eratostenes(m)"
     ],
     "language": "python",
     "metadata": {},
     "outputs": [
      {
       "output_type": "stream",
       "stream": "stdout",
       "text": [
        "(10,)\n",
        "(array([0, 1, 2, 3, 5, 7, 9]),)\n",
        "(100,)\n",
        "(array([ 0,  1,  2,  3,  5,  7, 11, 13, 17, 19, 23, 29, 31, 37, 41, 43, 47,\n",
        "       53, 59, 61, 67, 71, 73, 79, 83, 89, 97]),)\n",
        "(200,)\n",
        "(array([  0,   1,   2,   3,   5,   7,  11,  13,  17,  19,  23,  29,  31,\n",
        "        37,  41,  43,  47,  53,  59,  61,  67,  71,  73,  79,  83,  89,\n",
        "        97, 101, 103, 107, 109, 113, 127, 131, 137, 139, 149, 151, 157,\n",
        "       163, 167, 173, 179, 181, 191, 193, 197, 199]),)\n"
       ]
      }
     ],
     "prompt_number": 41
    },
    {
     "cell_type": "markdown",
     "metadata": {},
     "source": [
      "Pregunta 3:\n",
      "\n",
      "cubo rubik"
     ]
    },
    {
     "cell_type": "code",
     "collapsed": false,
     "input": [
      "#esto no es because of reasons\n",
      "cubo=np.zeros((6,3,3)).astype(int)\n",
      "for r in xrange(0,6,1):\n",
      "    cuboS=cubo[r,:,:]\n",
      "    cuboS[:]=r+1\n",
      "cubo"
     ],
     "language": "python",
     "metadata": {},
     "outputs": []
    },
    {
     "cell_type": "code",
     "collapsed": false,
     "input": [],
     "language": "python",
     "metadata": {},
     "outputs": []
    },
    {
     "cell_type": "markdown",
     "metadata": {},
     "source": [
      "Pregunta 4:\n",
      "\n",
      "El Sudoku es un pasatiempo que consiste en un arreglo 9\u00d79 de celdas, con d\u00edgitos del 1 al 9, de tal manera que no se repiten valores en cada columna, cada rengl\u00f3n y en cada subarreglo de 3\u00d73.\n",
      "\n",
      "(a) Crea una funci\u00f3n llamada correcto que reciba un array 1d de tama\u00f1o 9 e indique si est\u00e1 completo o no (i.e. incluye los n\u00fameros del 1 al 9.\n",
      "\n",
      "(b) Crea una funci\u00f3n llamada descomponer3x3 que reciba un array de enteros de 9\u00d79 y lo separe en sus 9 subarreglos 3\u00d73.\n",
      "\n",
      "(c) Crea la funci\u00f3n esSolucion que recibe un array de 9\u00d79 y devuelve si es o no soluci\u00f3n del sudoku."
     ]
    },
    {
     "cell_type": "code",
     "collapsed": false,
     "input": [
      "def correcto(arr1):\n",
      "    completo=False\n",
      "    if arr1.sum()==45 and len(np.unique(arr1))==9: #no puedes sumar 45 con 9 n\u00fameros del 1 al 9 que no sean (1,2,3,4,5,6,7,8,9)\n",
      "        completo=True\n",
      "    return completo\n",
      "\n",
      "def descomponer3x3(arr9):\n",
      "    arr3s=[]\n",
      "    for i in xrange(0,9,3):\n",
      "        for j in xrange(0,9,3):\n",
      "            arr3s.append(arr9[i:i+3,j:j+3])\n",
      "    return arr3s\n",
      "\n",
      "\"\"\"def esSolucion(arr9):\n",
      "    solucion=True\n",
      "    n=0\n",
      "    while solucion and n!=9:\n",
      "        if not (np.unique(arr9.sum(0)).shape==(1,) and arr9.sum(0)[0]==45):\n",
      "            solucion=False\n",
      "        #tecnicamente esta parte es descomponer3x3 pero no supe como\n",
      "        for i in xrange(0,9,3):\n",
      "            for j in xrange(0,9,3):\n",
      "                arr3=arr9[i:i+3,j:j+3]\n",
      "                if not correcto(arr3.ravel()):\n",
      "                    solucion=False\n",
      "        n+=1\n",
      "    return solucion\"\"\"\n",
      "\n",
      "def col(arr9):\n",
      "    arr3s=[]\n",
      "    for i in xrange(0,9,1):\n",
      "        arr3s.append(arr9[:,i])\n",
      "    return arr3s\n",
      "\n",
      "def ren(arr9):\n",
      "    arr3s=[]\n",
      "    for i in xrange(0,9,1):\n",
      "        arr3s.append(arr9[i,:])\n",
      "    return arr3s\n",
      "\n",
      "def esSolucion(arr9):\n",
      "    solucion=True\n",
      "    n=0\n",
      "    while solucion and n!=1:\n",
      "        cuadritos=descomponer3x3(arr9)\n",
      "        for cuadrito in cuadritos:\n",
      "            cuadritoPlano=cuadrito.ravel()\n",
      "            solucion=correcto(cuadritoPlano)\n",
      "        columnas=col(arr9)\n",
      "        for columna in columnas:\n",
      "            solucion=correcto(columna)\n",
      "        renglones=ren(arr9)\n",
      "        for renglon in renglones:\n",
      "            solucion=correcto(renglon)\n",
      "        n=1\n",
      "    return solucion"
     ],
     "language": "python",
     "metadata": {},
     "outputs": [],
     "prompt_number": 31
    },
    {
     "cell_type": "code",
     "collapsed": false,
     "input": [
      "arregloP=np.zeros((9,9)).astype(int)\n",
      "arregloT=np.array([[9,2,8,1,6,7,5,4,3],[1,7,5,4,9,3,2,8,6],[6,4,3,2,5,8,7,1,9],[8,9,6,3,2,5,4,7,1],[3,1,4,8,7,9,6,2,5],[7,5,2,6,4,1,9,3,8],[2,3,9,5,8,4,1,6,7],[5,6,1,7,3,2,8,9,4],[4,8,7,9,1,6,3,5,2]])"
     ],
     "language": "python",
     "metadata": {},
     "outputs": [],
     "prompt_number": 4
    },
    {
     "cell_type": "code",
     "collapsed": false,
     "input": [
      "esSolucion(arregloT)"
     ],
     "language": "python",
     "metadata": {},
     "outputs": [
      {
       "metadata": {},
       "output_type": "pyout",
       "prompt_number": 32,
       "text": [
        "True"
       ]
      }
     ],
     "prompt_number": 32
    },
    {
     "cell_type": "code",
     "collapsed": false,
     "input": [
      "esSolucion(arregloP)"
     ],
     "language": "python",
     "metadata": {},
     "outputs": [
      {
       "metadata": {},
       "output_type": "pyout",
       "prompt_number": 33,
       "text": [
        "False"
       ]
      }
     ],
     "prompt_number": 33
    },
    {
     "cell_type": "markdown",
     "metadata": {},
     "source": [
      "Pregunta 5:\n",
      "    \n",
      "Escribe el c\u00f3digo que lea el archivo y haga una gr\u00e1fica de las manchas en funci\u00f3n del tiempo. Formatea el ejec x para que se muestren cada 25 a\u00f1os empezando en 1750. Calcula el promedio movil"
     ]
    },
    {
     "cell_type": "code",
     "collapsed": false,
     "input": [
      "archivo=open('sunspots.txt')\n",
      "tabla=[]\n",
      "for line in archivo:\n",
      "    tabla.append(line.split())\n",
      "tablaA=np.array(tabla).astype(float)\n",
      "tablaA"
     ],
     "language": "python",
     "metadata": {},
     "outputs": [
      {
       "metadata": {},
       "output_type": "pyout",
       "prompt_number": 35,
       "text": [
        "array([[  0.00000000e+00,   5.80000000e+01],\n",
        "       [  1.00000000e+00,   6.26000000e+01],\n",
        "       [  2.00000000e+00,   7.00000000e+01],\n",
        "       ..., \n",
        "       [  3.14000000e+03,   2.52000000e+01],\n",
        "       [  3.14100000e+03,   2.35000000e+01],\n",
        "       [  3.14200000e+03,   2.16000000e+01]])"
       ]
      }
     ],
     "prompt_number": 35
    },
    {
     "cell_type": "code",
     "collapsed": false,
     "input": [
      "plt.xlim(12, max(tablaA[:,0]))\n",
      "ticks=xrange(12,int(max(tablaA[:,0])),300)\n",
      "plt.xticks(ticks,[1749+i/12 for i in ticks])\n",
      "plt.xlabel('Years')\n",
      "plt.ylabel('Sunspots')\n",
      "plt.plot(tablaA[:,0],tablaA[:,1])"
     ],
     "language": "python",
     "metadata": {},
     "outputs": [
      {
       "metadata": {},
       "output_type": "pyout",
       "prompt_number": 36,
       "text": [
        "[<matplotlib.lines.Line2D at 0x7f9e77009fd0>]"
       ]
      },
      {
       "metadata": {},
       "output_type": "display_data",
       "png": "[encoded data removed]",
       "text": [
        "<matplotlib.figure.Figure at 0x7f9e77042050>"
       ]
      }
     ],
     "prompt_number": 36
    },
    {
     "cell_type": "code",
     "collapsed": false,
     "input": [
      "plt.xlim(12, max(tablaA[:,0]))\n",
      "plt.ylim(0,300)\n",
      "ticks=xrange(12,int(max(tablaA[:,0])),300)\n",
      "plt.xticks(ticks,[1749+i/12 for i in ticks])\n",
      "plt.xlabel('Years')\n",
      "plt.ylabel('Sunspots')\n",
      "plt.plot(tablaA[:,0],tablaA[:,1])\n",
      "\n",
      "movil=[]\n",
      "n=1\n",
      "while n!=len(tablaA[:,0])+1:\n",
      "    movil.append(tablaA[0:n,:].sum()/n)\n",
      "    n+=1\n",
      "    \n",
      "movil=np.array(movil)\n",
      "\n",
      "plt.plot(tablaA[:,0], movil, color=\"red\", label=\"promedio movil\")"
     ],
     "language": "python",
     "metadata": {},
     "outputs": [],
     "prompt_number": 52
    },
    {
     "cell_type": "markdown",
     "metadata": {},
     "source": [
      "Problema 6:\n",
      "\n",
      " Lee el archivo y dibuja los datos tal como vienen en el archivo. Agrega etiquetas y formatea la gr\u00e1fica de tal manera que tenga calidad de publicaci\u00f3n.\n",
      " Ahora usa el xlim() y  ylim() para que quede de manera correcta el diagrama. Hay regiones donde las estrellas parece que se aglomeran, ve el archivo de wikipedia y agrega anotaciones para explicarlas.\n",
      "    "
     ]
    },
    {
     "cell_type": "code",
     "collapsed": false,
     "input": [
      "archivo=open('stars.txt')\n",
      "tablaS=[]\n",
      "for line in archivo:\n",
      "    tablaS.append(line.split())\n",
      "tablaSA=np.array(tablaS).astype(float)\n",
      "tablaSA"
     ],
     "language": "python",
     "metadata": {},
     "outputs": [
      {
       "metadata": {},
       "output_type": "pyout",
       "prompt_number": 33,
       "text": [
        "array([[  6.83145085e+02,   1.57300000e+01],\n",
        "       [  6.83145085e+02,   1.70100000e+01],\n",
        "       [  1.01283217e+03,   1.58600000e+01],\n",
        "       ..., \n",
        "       [  1.27621641e+04,  -1.37000000e+00],\n",
        "       [  1.42023258e+04,  -2.77000000e+00],\n",
        "       [  1.47860721e+04,   1.04600000e+01]])"
       ]
      }
     ],
     "prompt_number": 33
    },
    {
     "cell_type": "code",
     "collapsed": false,
     "input": [
      "fig, ax1 = plt.subplots(1, 1)\n",
      "ax1.set_title('Hertzsprung-Russell',fontsize=20)\n",
      "ax1.set_xlabel('Temperatura (K)',fontsize=20)\n",
      "ax1.set_ylabel('Brillo',fontsize=20)\n",
      "plt.ylim(-4, 20)\n",
      "plt.xlim(0, 15000)\n",
      "plt.scatter(tablaSA[:,0],tablaSA[:,1])"
     ],
     "language": "python",
     "metadata": {},
     "outputs": [
      {
       "metadata": {},
       "output_type": "pyout",
       "prompt_number": 46,
       "text": [
        "<matplotlib.collections.PathCollection at 0x7fe612c5cf50>"
       ]
      },
      {
       "metadata": {},
       "output_type": "display_data",
       "png": "[encoded data removed]",
       "text": [
        "<matplotlib.figure.Figure at 0x7fe61361d050>"
       ]
      }
     ],
     "prompt_number": 46
    },
    {
     "cell_type": "markdown",
     "metadata": {},
     "source": [
      "La mayoria de las estrellas cae en la \"secuencia principal\" (por lo que se ve un amontonamiento en la parte central de la gr\u00e1fica). Las estrellase en esta parte, producen suficiente energia para contrarrestar la tendencia a colapsar. En cambio, el montoncito de arriba (mucho menos denso) es el de los gigantes rojos (estrellas muy grandes y frias). M\u00e1s hacia abajo, pegado a la secuencia principal, estan los enanos blancos (estrellas colapsadas por su gravedad pero estabilizadas por la presion de electrones degenerados.\n",
      "\n"
     ]
    }
   ],
   "metadata": {}
  }
 ]
}