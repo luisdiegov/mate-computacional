{
 "metadata": {
  "name": "",
  "signature": "sha256:d230f5da33a881afd340ea61790b0840931b9c47d6e9d62e7d2fc737135cb97f"
 },
 "nbformat": 3,
 "nbformat_minor": 0,
 "worksheets": [
  {
   "cells": [
    {
     "cell_type": "heading",
     "level": 1,
     "metadata": {},
     "source": [
      "Limitaciones de la computadora"
     ]
    },
    {
     "cell_type": "markdown",
     "metadata": {},
     "source": [
      "En la clase pasada revisamos los tipos de datos num\u00e9ricos que soporta `python`. En particular `float`,   `integer` y `complex`. Pero todos ellos, al ser expresados en la computadora, pierden algunas de sus propiedades matem\u00e1ticas *puras*, por as\u00ed decirlo.\n",
      "\n",
      "Matem\u00e1ticamente los **enteros** (`integers`) son un conjunto *infinito*  $ \\mathbb{N} =\\{1,2,3,\\ldots\\}$. La computadora es de tama\u00f1o *finito*, por lo cual es imposible representar todos esos n\u00fameros en la computadora. El tipo `int` se representa en 4-bytes, es decir en $32$ bits. (**Ejercicio**: \u00bfPor qu\u00e9?). El n\u00famero m\u00e1ximo (a nivel CPU) est\u00e1 dado por $2^{32}$."
     ]
    },
    {
     "cell_type": "code",
     "collapsed": false,
     "input": [
      "2**32"
     ],
     "language": "python",
     "metadata": {},
     "outputs": [
      {
       "metadata": {},
       "output_type": "pyout",
       "prompt_number": 1,
       "text": [
        "4294967296"
       ]
      }
     ],
     "prompt_number": 1
    },
    {
     "cell_type": "markdown",
     "metadata": {},
     "source": [
      "Pero ya que queremos representar tanto los positivos como los negativos:"
     ]
    },
    {
     "cell_type": "code",
     "collapsed": false,
     "input": [
      "[-2**32/2, 2**32/2] "
     ],
     "language": "python",
     "metadata": {},
     "outputs": [
      {
       "metadata": {},
       "output_type": "pyout",
       "prompt_number": 2,
       "text": [
        "[-2147483648, 2147483648]"
       ]
      }
     ],
     "prompt_number": 2
    },
    {
     "cell_type": "markdown",
     "metadata": {},
     "source": [
      "El valor exacto del l\u00edmite superior en tu computadora lo puedes obtener mediante:"
     ]
    },
    {
     "cell_type": "code",
     "collapsed": false,
     "input": [
      "import sys\n",
      "sys.maxint\n",
      "\"\"\"n\u00famero maximo entero antes de empezar a consumir celdas n stuff\"\"\""
     ],
     "language": "python",
     "metadata": {},
     "outputs": [
      {
       "metadata": {},
       "output_type": "pyout",
       "prompt_number": 3,
       "text": [
        "9223372036854775807"
       ]
      }
     ],
     "prompt_number": 3
    },
    {
     "cell_type": "markdown",
     "metadata": {},
     "source": [
      "hay una cosa que se llama long integer (enteros sin limite de precision), pero tardan m\u00e1s"
     ]
    },
    {
     "cell_type": "markdown",
     "metadata": {},
     "source": [
      "\u00bfPor qu\u00e9 crees que es diferente? \u00bfTiene que ver con la arquitectura de tu **CPU**? \u00bfEs de $64$ bits? \u00bfEntonces cu\u00e1ntos bytes se ocupan para representar un entero?"
     ]
    },
    {
     "cell_type": "code",
     "collapsed": false,
     "input": [
      "x=1\n",
      "print x\n",
      "type(x)"
     ],
     "language": "python",
     "metadata": {},
     "outputs": [
      {
       "output_type": "stream",
       "stream": "stdout",
       "text": [
        "1\n"
       ]
      },
      {
       "metadata": {},
       "output_type": "pyout",
       "prompt_number": 4,
       "text": [
        "int"
       ]
      }
     ],
     "prompt_number": 4
    },
    {
     "cell_type": "code",
     "collapsed": false,
     "input": [
      "x=1L\n",
      "print x\n",
      "type(x)"
     ],
     "language": "python",
     "metadata": {},
     "outputs": [
      {
       "output_type": "stream",
       "stream": "stdout",
       "text": [
        "1\n"
       ]
      },
      {
       "metadata": {},
       "output_type": "pyout",
       "prompt_number": 5,
       "text": [
        "long"
       ]
      }
     ],
     "prompt_number": 5
    },
    {
     "cell_type": "markdown",
     "metadata": {},
     "source": [
      "para evitar overflows, python convierte los ints a longs"
     ]
    },
    {
     "cell_type": "markdown",
     "metadata": {},
     "source": [
      "<div class=\"alert alert-info\">\n",
      "**Ejercicio**: En python, para obtener la representaci\u00f3n de un n\u00famero en binario usamos la funci\u00f3n `bin`\n",
      "</div>"
     ]
    },
    {
     "cell_type": "code",
     "collapsed": false,
     "input": [
      "bin(123)"
     ],
     "language": "python",
     "metadata": {},
     "outputs": [
      {
       "metadata": {},
       "output_type": "pyout",
       "prompt_number": 6,
       "text": [
        "'0b1111011'"
       ]
      }
     ],
     "prompt_number": 6
    },
    {
     "cell_type": "markdown",
     "metadata": {},
     "source": [
      "ob es binario, 0h es hexadecimal (para mostrar que es una representaci\u00f3n diferente)"
     ]
    },
    {
     "cell_type": "markdown",
     "metadata": {},
     "source": [
      "<div class=\"alert alert-info\">\n",
      "Genera una tabla del 0 al 255 con su representaci\u00f3n en binario y en decimal. Observa como usamos el `print` para formatear el texto de salida. Usa la ayuda de ipython para entender que hacen los s\u00edmbolos `%d` y `%s`.  \u00bfCu\u00e1ntos caracteres necesitas?7\n",
      "</div>"
     ]
    },
    {
     "cell_type": "code",
     "collapsed": false,
     "input": [
      "for i in xrange(0,255):\n",
      "    print str(i)+\"\\t\"+bin(i)"
     ],
     "language": "python",
     "metadata": {},
     "outputs": [
      {
       "output_type": "stream",
       "stream": "stdout",
       "text": [
        "0\t0b0\n",
        "1\t0b1\n",
        "2\t0b10\n",
        "3\t0b11\n",
        "4\t0b100\n",
        "5\t0b101\n",
        "6\t0b110\n",
        "7\t0b111\n",
        "8\t0b1000\n",
        "9\t0b1001\n",
        "10\t0b1010\n",
        "11\t0b1011\n",
        "12\t0b1100\n",
        "13\t0b1101\n",
        "14\t0b1110\n",
        "15\t0b1111\n",
        "16\t0b10000\n",
        "17\t0b10001\n",
        "18\t0b10010\n",
        "19\t0b10011\n",
        "20\t0b10100\n",
        "21\t0b10101\n",
        "22\t0b10110\n",
        "23\t0b10111\n",
        "24\t0b11000\n",
        "25\t0b11001\n",
        "26\t0b11010\n",
        "27\t0b11011\n",
        "28\t0b11100\n",
        "29\t0b11101\n",
        "30\t0b11110\n",
        "31\t0b11111\n",
        "32\t0b100000\n",
        "33\t0b100001\n",
        "34\t0b100010\n",
        "35\t0b100011\n",
        "36\t0b100100\n",
        "37\t0b100101\n",
        "38\t0b100110\n",
        "39\t0b100111\n",
        "40\t0b101000\n",
        "41\t0b101001\n",
        "42\t0b101010\n",
        "43\t0b101011\n",
        "44\t0b101100\n",
        "45\t0b101101\n",
        "46\t0b101110\n",
        "47\t0b101111\n",
        "48\t0b110000\n",
        "49\t0b110001\n",
        "50\t0b110010\n",
        "51\t0b110011\n",
        "52\t0b110100\n",
        "53\t0b110101\n",
        "54\t0b110110\n",
        "55\t0b110111\n",
        "56\t0b111000\n",
        "57\t0b111001\n",
        "58\t0b111010\n",
        "59\t0b111011\n",
        "60\t0b111100\n",
        "61\t0b111101\n",
        "62\t0b111110\n",
        "63\t0b111111\n",
        "64\t0b1000000\n",
        "65\t0b1000001\n",
        "66\t0b1000010\n",
        "67\t0b1000011\n",
        "68\t0b1000100\n",
        "69\t0b1000101\n",
        "70\t0b1000110\n",
        "71\t0b1000111\n",
        "72\t0b1001000\n",
        "73\t0b1001001\n",
        "74\t0b1001010\n",
        "75\t0b1001011\n",
        "76\t0b1001100\n",
        "77\t0b1001101\n",
        "78\t0b1001110\n",
        "79\t0b1001111\n",
        "80\t0b1010000\n",
        "81\t0b1010001\n",
        "82\t0b1010010\n",
        "83\t0b1010011\n",
        "84\t0b1010100\n",
        "85\t0b1010101\n",
        "86\t0b1010110\n",
        "87\t0b1010111\n",
        "88\t0b1011000\n",
        "89\t0b1011001\n",
        "90\t0b1011010\n",
        "91\t0b1011011\n",
        "92\t0b1011100\n",
        "93\t0b1011101\n",
        "94\t0b1011110\n",
        "95\t0b1011111\n",
        "96\t0b1100000\n",
        "97\t0b1100001\n",
        "98\t0b1100010\n",
        "99\t0b1100011\n",
        "100\t0b1100100\n",
        "101\t0b1100101\n",
        "102\t0b1100110\n",
        "103\t0b1100111\n",
        "104\t0b1101000\n",
        "105\t0b1101001\n",
        "106\t0b1101010\n",
        "107\t0b1101011\n",
        "108\t0b1101100\n",
        "109\t0b1101101\n",
        "110\t0b1101110\n",
        "111\t0b1101111\n",
        "112\t0b1110000\n",
        "113\t0b1110001\n",
        "114\t0b1110010\n",
        "115\t0b1110011\n",
        "116\t0b1110100\n",
        "117\t0b1110101\n",
        "118\t0b1110110\n",
        "119\t0b1110111\n",
        "120\t0b1111000\n",
        "121\t0b1111001\n",
        "122\t0b1111010\n",
        "123\t0b1111011\n",
        "124\t0b1111100\n",
        "125\t0b1111101\n",
        "126\t0b1111110\n",
        "127\t0b1111111\n",
        "128\t0b10000000\n",
        "129\t0b10000001\n",
        "130\t0b10000010\n",
        "131\t0b10000011\n",
        "132\t0b10000100\n",
        "133\t0b10000101\n",
        "134\t0b10000110\n",
        "135\t0b10000111\n",
        "136\t0b10001000\n",
        "137\t0b10001001\n",
        "138\t0b10001010\n",
        "139\t0b10001011\n",
        "140\t0b10001100\n",
        "141\t0b10001101\n",
        "142\t0b10001110\n",
        "143\t0b10001111\n",
        "144\t0b10010000\n",
        "145\t0b10010001\n",
        "146\t0b10010010\n",
        "147\t0b10010011\n",
        "148\t0b10010100\n",
        "149\t0b10010101\n",
        "150\t0b10010110\n",
        "151\t0b10010111\n",
        "152\t0b10011000\n",
        "153\t0b10011001\n",
        "154\t0b10011010\n",
        "155\t0b10011011\n",
        "156\t0b10011100\n",
        "157\t0b10011101\n",
        "158\t0b10011110\n",
        "159\t0b10011111\n",
        "160\t0b10100000\n",
        "161\t0b10100001\n",
        "162\t0b10100010\n",
        "163\t0b10100011\n",
        "164\t0b10100100\n",
        "165\t0b10100101\n",
        "166\t0b10100110\n",
        "167\t0b10100111\n",
        "168\t0b10101000\n",
        "169\t0b10101001\n",
        "170\t0b10101010\n",
        "171\t0b10101011\n",
        "172\t0b10101100\n",
        "173\t0b10101101\n",
        "174\t0b10101110\n",
        "175\t0b10101111\n",
        "176\t0b10110000\n",
        "177\t0b10110001\n",
        "178\t0b10110010\n",
        "179\t0b10110011\n",
        "180\t0b10110100\n",
        "181\t0b10110101\n",
        "182\t0b10110110\n",
        "183\t0b10110111\n",
        "184\t0b10111000\n",
        "185\t0b10111001\n",
        "186\t0b10111010\n",
        "187\t0b10111011\n",
        "188\t0b10111100\n",
        "189\t0b10111101\n",
        "190\t0b10111110\n",
        "191\t0b10111111\n",
        "192\t0b11000000\n",
        "193\t0b11000001\n",
        "194\t0b11000010\n",
        "195\t0b11000011\n",
        "196\t0b11000100\n",
        "197\t0b11000101\n",
        "198\t0b11000110\n",
        "199\t0b11000111\n",
        "200\t0b11001000\n",
        "201\t0b11001001\n",
        "202\t0b11001010\n",
        "203\t0b11001011\n",
        "204\t0b11001100\n",
        "205\t0b11001101\n",
        "206\t0b11001110\n",
        "207\t0b11001111\n",
        "208\t0b11010000\n",
        "209\t0b11010001\n",
        "210\t0b11010010\n",
        "211\t0b11010011\n",
        "212\t0b11010100\n",
        "213\t0b11010101\n",
        "214\t0b11010110\n",
        "215\t0b11010111\n",
        "216\t0b11011000\n",
        "217\t0b11011001\n",
        "218\t0b11011010\n",
        "219\t0b11011011\n",
        "220\t0b11011100\n",
        "221\t0b11011101\n",
        "222\t0b11011110\n",
        "223\t0b11011111\n",
        "224\t0b11100000\n",
        "225\t0b11100001\n",
        "226\t0b11100010\n",
        "227\t0b11100011\n",
        "228\t0b11100100\n",
        "229\t0b11100101\n",
        "230\t0b11100110\n",
        "231\t0b11100111\n",
        "232\t0b11101000\n",
        "233\t0b11101001\n",
        "234\t0b11101010\n",
        "235\t0b11101011\n",
        "236\t0b11101100\n",
        "237\t0b11101101\n",
        "238\t0b11101110\n",
        "239\t0b11101111\n",
        "240\t0b11110000\n",
        "241\t0b11110001\n",
        "242\t0b11110010\n",
        "243\t0b11110011\n",
        "244\t0b11110100\n",
        "245\t0b11110101\n",
        "246\t0b11110110\n",
        "247\t0b11110111\n",
        "248\t0b11111000\n",
        "249\t0b11111001\n",
        "250\t0b11111010\n",
        "251\t0b11111011\n",
        "252\t0b11111100\n",
        "253\t0b11111101\n",
        "254\t0b11111110\n"
       ]
      }
     ],
     "prompt_number": 14
    },
    {
     "cell_type": "code",
     "collapsed": false,
     "input": [
      "for i in xrange(0,5):\n",
      "    print \"%d \\t %s\" % (i, bin(i))"
     ],
     "language": "python",
     "metadata": {},
     "outputs": [
      {
       "output_type": "stream",
       "stream": "stdout",
       "text": [
        "0 \t 0b0\n",
        "1 \t 0b1\n",
        "2 \t 0b10\n",
        "3 \t 0b11\n",
        "4 \t 0b100\n"
       ]
      }
     ],
     "prompt_number": 1
    },
    {
     "cell_type": "heading",
     "level": 1,
     "metadata": {},
     "source": [
      "Flotantes"
     ]
    },
    {
     "cell_type": "markdown",
     "metadata": {},
     "source": [
      "El mismo problema de *finitud* se presenta con los flotantes (que tratan de emular a los reales, $\\mathbb{R}$. "
     ]
    },
    {
     "cell_type": "markdown",
     "metadata": {},
     "source": [
      "Recordemos primero ( de sus clases de C\u00e1lculo), que cualquier n\u00famero real $x$, puede ser escrito en t\u00e9rminos una *mantisa* y un *exponente* de la siguiente manera $$x = a \\cdot 10^b$$."
     ]
    },
    {
     "cell_type": "markdown",
     "metadata": {},
     "source": [
      "Piensa en esto, cualquier n\u00famero real, se puede representar con dos n\u00fameros enteros..."
     ]
    },
    {
     "cell_type": "markdown",
     "metadata": {},
     "source": [
      "Si tu **CPU** es de $32$ bits, se utilizan $8$ bytes para guardar un flotante (ya que $2 \\cdot 4$) , si es de $64$ bits se utilizan $16$ bytes."
     ]
    },
    {
     "cell_type": "markdown",
     "metadata": {},
     "source": [
      "El est\u00e1ndar **IEEE-754** para el caso de $32$ bits, divide los $8$ bytes como sigue\n",
      "- 10 bits para el exponente $b$\n",
      "- 54 bits para la mantisa $a$"
     ]
    },
    {
     "cell_type": "markdown",
     "metadata": {},
     "source": [
      "<div class=\"alert alert-info\">\n",
      "**Ejercicio** \u00bfCu\u00e1l es el n\u00famero flotante m\u00e1s grande y m\u00e1s peque\u00f1o que se puede representar?\n",
      "</div>"
     ]
    },
    {
     "cell_type": "markdown",
     "metadata": {},
     "source": [
      "<div class=\"alert alert-info\">\n",
      "**Ejercicio** \u00bfCu\u00e1ntos bytes se requieren para representar un n\u00famero complejo $\\mathbb{C}$? \u00bfEn 32 y en 64 bits?\u00bfCu\u00e1les ser\u00e1n sus limitaciones?\n",
      "</div>"
     ]
    },
    {
     "cell_type": "markdown",
     "metadata": {},
     "source": [
      "El siguiente es un error com\u00fan (observa la demostraci\u00f3n en el pizarr\u00f3n) :"
     ]
    },
    {
     "cell_type": "raw",
     "metadata": {},
     "source": [
      "x = 0.0\n",
      "while not x == 1.0:\n",
      "    x = x + 0.1\n",
      "    print(\"x=%19.17g\" % (x))"
     ]
    },
    {
     "cell_type": "code",
     "collapsed": false,
     "input": [],
     "language": "python",
     "metadata": {},
     "outputs": []
    },
    {
     "cell_type": "markdown",
     "metadata": {},
     "source": [
      "La salida de los primeros 15 es la siguiente:"
     ]
    },
    {
     "cell_type": "code",
     "collapsed": false,
     "input": [
      "x = 0.0\n",
      "for i in xrange(0,15):\n",
      "    x = x + 0.1\n",
      "    print(\"x=%19.17g\" % (x))"
     ],
     "language": "python",
     "metadata": {},
     "outputs": [
      {
       "output_type": "stream",
       "stream": "stdout",
       "text": [
        "x=0.10000000000000001\n",
        "x=0.20000000000000001\n",
        "x=0.30000000000000004\n",
        "x=0.40000000000000002\n",
        "x=                0.5\n",
        "x=0.59999999999999998\n",
        "x=0.69999999999999996\n",
        "x=0.79999999999999993\n",
        "x=0.89999999999999991\n",
        "x=0.99999999999999989\n",
        "x= 1.0999999999999999\n",
        "x=                1.2\n",
        "x=                1.3\n",
        "x= 1.4000000000000001\n",
        "x= 1.5000000000000002\n"
       ]
      }
     ],
     "prompt_number": 3
    },
    {
     "cell_type": "code",
     "collapsed": false,
     "input": [],
     "language": "python",
     "metadata": {},
     "outputs": []
    },
    {
     "cell_type": "markdown",
     "metadata": {},
     "source": [
      "**Ejercicio**:\u00bfQu\u00e9 ense\u00f1anza puedes sacar de esto?"
     ]
    },
    {
     "cell_type": "markdown",
     "metadata": {},
     "source": [
      "Existe una manera (entre varias) de resolver el problema:"
     ]
    },
    {
     "cell_type": "code",
     "collapsed": false,
     "input": [
      "x = 0.0\n",
      "while abs(x -1.0) > 1e-8:\n",
      "    x = x + 0.1\n",
      "    print (\"x=%19.17g\" % (x))"
     ],
     "language": "python",
     "metadata": {},
     "outputs": []
    },
    {
     "cell_type": "markdown",
     "metadata": {},
     "source": [
      "**Ejercicio:** Explica el c\u00f3digo."
     ]
    },
    {
     "cell_type": "heading",
     "level": 1,
     "metadata": {},
     "source": [
      "C\u00e1lculo simb\u00f3lico"
     ]
    },
    {
     "cell_type": "markdown",
     "metadata": {},
     "source": [
      "Es posible realizar c\u00e1lculo simb\u00f3lico en python (justo como en **Mathematica** o **Maple**) usando el paquete `sympy`. El c\u00f3digo siguiente es para imprimir a $\\LaTeX$ la salida de las instrucciones."
     ]
    },
    {
     "cell_type": "code",
     "collapsed": false,
     "input": [
      "from sympy.interactive import printing\n",
      "printing.init_printing(use_latex=True)"
     ],
     "language": "python",
     "metadata": {},
     "outputs": []
    },
    {
     "cell_type": "markdown",
     "metadata": {},
     "source": [
      "En las celdas que siguen, observa el diferente uso de `import` y `from` \u00bfCu\u00e1l es su funci\u00f3n? "
     ]
    },
    {
     "cell_type": "code",
     "collapsed": false,
     "input": [
      "from sympy import Symbol\n",
      "x = Symbol('x')"
     ],
     "language": "python",
     "metadata": {},
     "outputs": []
    },
    {
     "cell_type": "code",
     "collapsed": false,
     "input": [
      "x"
     ],
     "language": "python",
     "metadata": {},
     "outputs": []
    },
    {
     "cell_type": "code",
     "collapsed": false,
     "input": [
      "type(x)"
     ],
     "language": "python",
     "metadata": {},
     "outputs": []
    },
    {
     "cell_type": "code",
     "collapsed": false,
     "input": [
      "y = Symbol('y')"
     ],
     "language": "python",
     "metadata": {},
     "outputs": []
    },
    {
     "cell_type": "code",
     "collapsed": false,
     "input": [
      "2*x - x"
     ],
     "language": "python",
     "metadata": {},
     "outputs": []
    },
    {
     "cell_type": "code",
     "collapsed": false,
     "input": [
      "x +y +x  - 10*y*x"
     ],
     "language": "python",
     "metadata": {},
     "outputs": []
    },
    {
     "cell_type": "code",
     "collapsed": false,
     "input": [
      "import sympy as sym\n",
      "x,y,z = sym.symbols('x,y,z')\n",
      "x + 2*y + 3*z -x"
     ],
     "language": "python",
     "metadata": {},
     "outputs": []
    },
    {
     "cell_type": "markdown",
     "metadata": {},
     "source": [
      "`Sympy` tambi\u00e9n puede representar tipos num\u00e9ricos: `Rational` y `Real`"
     ]
    },
    {
     "cell_type": "code",
     "collapsed": false,
     "input": [
      "a = sym.Rational(1,10)\n",
      "a"
     ],
     "language": "python",
     "metadata": {},
     "outputs": []
    },
    {
     "cell_type": "code",
     "collapsed": false,
     "input": [
      "b = sym.Rational(45,67)"
     ],
     "language": "python",
     "metadata": {},
     "outputs": []
    },
    {
     "cell_type": "code",
     "collapsed": false,
     "input": [
      "c = a*b\n",
      "c"
     ],
     "language": "python",
     "metadata": {},
     "outputs": []
    },
    {
     "cell_type": "code",
     "collapsed": false,
     "input": [
      "d = a-b\n",
      "d"
     ],
     "language": "python",
     "metadata": {},
     "outputs": []
    },
    {
     "cell_type": "code",
     "collapsed": false,
     "input": [
      "e = a+b\n",
      "e"
     ],
     "language": "python",
     "metadata": {},
     "outputs": []
    },
    {
     "cell_type": "code",
     "collapsed": false,
     "input": [
      "float(c)"
     ],
     "language": "python",
     "metadata": {},
     "outputs": []
    },
    {
     "cell_type": "code",
     "collapsed": false,
     "input": [
      "c"
     ],
     "language": "python",
     "metadata": {},
     "outputs": []
    },
    {
     "cell_type": "markdown",
     "metadata": {},
     "source": [
      "Es posible usar el siguiente m\u00e9todo para indicarle a python cu\u00e1ntos decimales calcular (aunque no necesariamente se van a usar todos al guardarlo en memoria)."
     ]
    },
    {
     "cell_type": "code",
     "collapsed": false,
     "input": [
      "c.evalf()"
     ],
     "language": "python",
     "metadata": {},
     "outputs": []
    },
    {
     "cell_type": "code",
     "collapsed": false,
     "input": [
      "c.evalf(30)"
     ],
     "language": "python",
     "metadata": {},
     "outputs": []
    },
    {
     "cell_type": "code",
     "collapsed": false,
     "input": [
      "from sympy import *"
     ],
     "language": "python",
     "metadata": {},
     "outputs": []
    },
    {
     "cell_type": "code",
     "collapsed": false,
     "input": [
      "diff(sin(x), x)"
     ],
     "language": "python",
     "metadata": {},
     "outputs": []
    },
    {
     "cell_type": "code",
     "collapsed": false,
     "input": [
      "diff(sin(x), y)"
     ],
     "language": "python",
     "metadata": {},
     "outputs": []
    },
    {
     "cell_type": "code",
     "collapsed": false,
     "input": [
      "diff(10+3*x+4*x**2+45*x*y, x)"
     ],
     "language": "python",
     "metadata": {},
     "outputs": []
    },
    {
     "cell_type": "code",
     "collapsed": false,
     "input": [
      "diff(10+3*x+4*x**2+45*x*y, x).subs(x, 1)"
     ],
     "language": "python",
     "metadata": {},
     "outputs": []
    },
    {
     "cell_type": "code",
     "collapsed": false,
     "input": [
      "diff(10+3*x+4*x**2+45*x*y, x,y)"
     ],
     "language": "python",
     "metadata": {},
     "outputs": []
    },
    {
     "cell_type": "code",
     "collapsed": false,
     "input": [
      "diff(10+3*x+4*x**2+45*x*y, x,x)"
     ],
     "language": "python",
     "metadata": {},
     "outputs": []
    },
    {
     "cell_type": "code",
     "collapsed": false,
     "input": [
      "integrate(x**2 + sin(x), x)"
     ],
     "language": "python",
     "metadata": {},
     "outputs": []
    },
    {
     "cell_type": "code",
     "collapsed": false,
     "input": [
      "integrate(x**2 + sin(x), (x, 0, 1))"
     ],
     "language": "python",
     "metadata": {},
     "outputs": []
    },
    {
     "cell_type": "markdown",
     "metadata": {},
     "source": [
      "<div class=\"alert alert-info\">\n",
      "**Ejercicio:** Resuelva simb\u00f3licamente lo siguiente: Se lanza una pelota al aire con una velocidad $v_0$ a un \u00e1ngulo $\\theta$. La gravedad es $g$. \n",
      "- \u00bfCu\u00e1l es la altura m\u00e1xima? \n",
      "- \u00bfCu\u00e1l es la distancia m\u00e1xima?\n",
      "- \u00bfCu\u00e1l es el tiempo de vuelo?\n",
      "- De una respuesta num\u00e9rica, cuando $v_0 = 10 \\frac{m}{s}$ y $\\theta=\\pi/2$.\n",
      "</div>"
     ]
    },
    {
     "cell_type": "markdown",
     "metadata": {},
     "source": [
      "`Sympy` tambi\u00e9n permite resolver ecuaciones diferenciales ordinarias (**ODE**, en ingl\u00e9s), usando la funci\u00f3n `dsolve`. "
     ]
    },
    {
     "cell_type": "code",
     "collapsed": false,
     "input": [
      "dsolve?"
     ],
     "language": "python",
     "metadata": {},
     "outputs": []
    },
    {
     "cell_type": "code",
     "collapsed": false,
     "input": [
      "Function?"
     ],
     "language": "python",
     "metadata": {},
     "outputs": []
    },
    {
     "cell_type": "code",
     "collapsed": false,
     "input": [
      "Derivative?"
     ],
     "language": "python",
     "metadata": {},
     "outputs": []
    },
    {
     "cell_type": "code",
     "collapsed": false,
     "input": [
      "y = Function('y')\n",
      "x = Symbol('x')\n",
      "y_ = Derivative(y(x), x)"
     ],
     "language": "python",
     "metadata": {},
     "outputs": []
    },
    {
     "cell_type": "code",
     "collapsed": false,
     "input": [
      "ode = y_ + 10*y(x) + 3*y(x)**2\n",
      "ode"
     ],
     "language": "python",
     "metadata": {},
     "outputs": []
    },
    {
     "cell_type": "code",
     "collapsed": false,
     "input": [
      "sol = dsolve(ode, y(x))\n",
      "sol"
     ],
     "language": "python",
     "metadata": {},
     "outputs": []
    },
    {
     "cell_type": "code",
     "collapsed": false,
     "input": [
      "type(sol)"
     ],
     "language": "python",
     "metadata": {},
     "outputs": []
    },
    {
     "cell_type": "markdown",
     "metadata": {},
     "source": [
      "<div class=\"alert alert-danger\">\n",
      "Que el tipo sea `Equality` ser\u00e1 muy importante cuando querr\u00e1mos graficar. Manten este hecho en mente.\n",
      "</div>"
     ]
    },
    {
     "cell_type": "code",
     "collapsed": false,
     "input": [
      "sol.rhs"
     ],
     "language": "python",
     "metadata": {},
     "outputs": []
    },
    {
     "cell_type": "markdown",
     "metadata": {},
     "source": [
      "<div class=\"alert alert-info\">\n",
      "**Ejercicio** \n",
      "- Demuestra que $y_1 = e^t$ y $y_2 = t e^t$ son soluciones de la **ODE** $y^{''} -2y^{'} + y = 0$. No uses `dsolve`. Recuerda que tienes que definir los *s\u00edmbolos* $y$ y $t$.\n",
      "- Ahora resuelve usando `dsolve`. Recuerda definir la funci\u00f3n.\n",
      "</div>"
     ]
    },
    {
     "cell_type": "markdown",
     "metadata": {},
     "source": [
      "Regularmente al resolver problemas cient\u00edficos es necesario utilizar aproximaciones en forma de series. `Sympy` tambi\u00e9n puede hacerlas."
     ]
    },
    {
     "cell_type": "code",
     "collapsed": false,
     "input": [
      "sin(x).series(x,0)"
     ],
     "language": "python",
     "metadata": {},
     "outputs": []
    },
    {
     "cell_type": "code",
     "collapsed": false,
     "input": [
      "(exp(x)**2*cos(x)/sin(x)**3).series(x,0)"
     ],
     "language": "python",
     "metadata": {},
     "outputs": []
    },
    {
     "cell_type": "markdown",
     "metadata": {},
     "source": [
      "Por \u00faltimo \u00bfRecuerdas el problema con los flotantes? Pues con `Sympy` se puede resolver."
     ]
    },
    {
     "cell_type": "code",
     "collapsed": false,
     "input": [
      "dx = Rational(1,10)"
     ],
     "language": "python",
     "metadata": {},
     "outputs": []
    },
    {
     "cell_type": "code",
     "collapsed": false,
     "input": [
      "x = 0"
     ],
     "language": "python",
     "metadata": {},
     "outputs": []
    },
    {
     "cell_type": "code",
     "collapsed": false,
     "input": [
      "while x != 1.0:\n",
      "    x = x+dx\n",
      "    print \"x=%4s = %3.1f\" % (x, x.evalf())"
     ],
     "language": "python",
     "metadata": {},
     "outputs": []
    },
    {
     "cell_type": "markdown",
     "metadata": {},
     "source": [
      "Pero hacer estos c\u00e1lculos de manera simb\u00f3lica es mucho m\u00e1s lento que hacerlo de forma numerica:"
     ]
    },
    {
     "cell_type": "code",
     "collapsed": false,
     "input": [
      "dx_symbolic = Rational(1,10)\n",
      "\n",
      "def bucle_sympy(n):\n",
      "    x = 0\n",
      "    for i in xrange(n):\n",
      "        x = x + dx_symbolic\n",
      "    return x"
     ],
     "language": "python",
     "metadata": {},
     "outputs": []
    },
    {
     "cell_type": "code",
     "collapsed": false,
     "input": [
      "dx = 0.1\n",
      "def bucle_float(n):\n",
      "    x = 0\n",
      "    for i in xrange(n):\n",
      "        x = x + dx\n",
      "    return x"
     ],
     "language": "python",
     "metadata": {},
     "outputs": []
    },
    {
     "cell_type": "code",
     "collapsed": false,
     "input": [
      "n = 100000"
     ],
     "language": "python",
     "metadata": {},
     "outputs": []
    },
    {
     "cell_type": "code",
     "collapsed": false,
     "input": [
      "%timeit bucle_sympy(n)"
     ],
     "language": "python",
     "metadata": {},
     "outputs": []
    },
    {
     "cell_type": "code",
     "collapsed": false,
     "input": [
      "%timeit bucle_float(n)"
     ],
     "language": "python",
     "metadata": {},
     "outputs": []
    }
   ],
   "metadata": {}
  }
 ]
}