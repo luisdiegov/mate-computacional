{
 "metadata": {
  "name": "",
  "signature": "sha256:60620a75bef8b8a4ab2e72d11c141b11b964a4e05ac9fd2d2eefa5f92278c78b"
 },
 "nbformat": 3,
 "nbformat_minor": 0,
 "worksheets": [
  {
   "cells": [
    {
     "cell_type": "code",
     "collapsed": false,
     "input": [
      "%matplotlib inline\n",
      "import numpy as np\n",
      "import matplotlib.pyplot as plt"
     ],
     "language": "python",
     "metadata": {},
     "outputs": [],
     "prompt_number": 1
    },
    {
     "cell_type": "heading",
     "level": 1,
     "metadata": {},
     "source": [
      "Ra\u00edces de funciones no lineales"
     ]
    },
    {
     "cell_type": "markdown",
     "metadata": {},
     "source": [
      "Calcular las ra\u00edces de la ecuaci\u00f3n \n",
      "\n",
      "$$\n",
      "f(x) = 0\n",
      "$$\n",
      "\n",
      "es un problema recurrente en el c\u00e1lculo cient\u00edfico."
     ]
    },
    {
     "cell_type": "markdown",
     "metadata": {},
     "source": [
      "Para resolverlos, utilizaremos m\u00e9todos _iterativos_."
     ]
    },
    {
     "cell_type": "heading",
     "level": 2,
     "metadata": {},
     "source": [
      "M\u00e9todo de la bisecci\u00f3n"
     ]
    },
    {
     "cell_type": "markdown",
     "metadata": {},
     "source": [
      "Sea $f$ una funci\u00f3n continua en $[a,b]$ que satisface "
     ]
    },
    {
     "cell_type": "markdown",
     "metadata": {},
     "source": [
      "$$\n",
      "f(a)f(b) < 0\n",
      "$$"
     ]
    },
    {
     "cell_type": "markdown",
     "metadata": {},
     "source": [
      "<div class=\"alert alert-info\">\n",
      "**Ejercicio** \u00bfQu\u00e9 significa esto?\n",
      "</div>"
     ]
    },
    {
     "cell_type": "markdown",
     "metadata": {},
     "source": [
      "Esto implica que $f$ tiene un _cero_ en el intervalo $(a,b)$, llam\u00e9mosle $r$."
     ]
    },
    {
     "cell_type": "markdown",
     "metadata": {},
     "source": [
      "El **m\u00e9todo de la bisecci\u00f3n** se trata de dividir en dos partes iguales el intervalo $I^0 \\equiv (a,b)$ y seleccionar el subintervalo $I$ donde $f$ experimenta un cambio de signo. Siguiendo este procedimiento, se garantiza que cada $I^{(k)}$ seleccionado contendr\u00e1 a $r$. La sucesi\u00f3n ${x^{(k)}}$ tender\u00e1 a $r$ cuando $k \\to \\infty$."
     ]
    },
    {
     "cell_type": "markdown",
     "metadata": {},
     "source": [
      "Concretamente:\n",
      "\n",
      "\n",
      "1. Se inicializa el m\u00e9todo con $a^0 = a$, $b^0 = b$, $I^{(0)} = (a^0, b^0)$ y $x^{(0)} = \\frac{(a^0 + b^0)}{2}$.\n",
      "2. Sea k = 1:\n",
      "    - Evaluar $f(x^{(k-1)})$, $f(a^{(k-1)})$ y $f(b^{(k-1)})$.\n",
      "    -  Si $f(a^{(k-1)})\\cdot f(x^{(k-1)}) < 0$, entonces $a^k = a^{(k-1)}$, $b^k = x^{(k-1)}$.\n",
      "    - Si $f(x^{(k-1)})\\cdot f(b^{(k-1)}) < 0$, entonces $a^k = x^{(k-1)}$, $b^k = b^{(k-1)}$.\n",
      "    - Definir $x^k = (a^k + b^k)/2$.\n",
      "    - k = k + 1\n",
      "    - Repetir"
     ]
    },
    {
     "cell_type": "markdown",
     "metadata": {},
     "source": [
      "agarras intervalo, calculas punto medio (si f(a)*f(x) < 0 ese pedazo es negativo (igual con f(b)*f(x)) tomas el negativo, y vuelves a encontrar el punto medio\n",
      "^luego luego flotante por lo que va a haber problemas"
     ]
    },
    {
     "cell_type": "heading",
     "level": 2,
     "metadata": {},
     "source": [
      "Ejemplo"
     ]
    },
    {
     "cell_type": "markdown",
     "metadata": {},
     "source": [
      "Por ejemplo la funci\u00f3n"
     ]
    },
    {
     "cell_type": "markdown",
     "metadata": {},
     "source": [
      "$$\n",
      "f(x) = x^2 -1\n",
      "$$"
     ]
    },
    {
     "cell_type": "code",
     "collapsed": false,
     "input": [
      "x = np.linspace(-0.5, 1.5, 100)\n",
      "y = x**2 - 1\n",
      "plt.plot(x, y, color=\"red\")\n",
      "ax = plt.gca()   #get coordinate axis\n",
      "ax.spines['right'].set_color('none')\n",
      "ax.spines['top'].set_color('none')\n",
      "ax.xaxis.set_ticks_position('bottom')\n",
      "ax.spines['bottom'].set_position(('data',0))\n",
      "ax.yaxis.set_ticks_position('left')\n",
      "ax.spines['left'].set_position(('data',0))"
     ],
     "language": "python",
     "metadata": {},
     "outputs": [
      {
       "metadata": {},
       "output_type": "display_data",
       "png": "[encoded data removed]",
       "text": [
        "<matplotlib.figure.Figure at 0x7f9842bee490>"
       ]
      }
     ],
     "prompt_number": 2
    },
    {
     "cell_type": "heading",
     "level": 3,
     "metadata": {},
     "source": [
      "Funciones an\u00f3nimas"
     ]
    },
    {
     "cell_type": "markdown",
     "metadata": {},
     "source": [
      "Vamos a introducir el concepto de _funci\u00f3n an\u00f3nima_:"
     ]
    },
    {
     "cell_type": "markdown",
     "metadata": {},
     "source": [
      "muy poderoso (no hay que definir toda la funci\u00f3n, te ahorras el nombre)\n",
      "lambda es el modo de decir que es an\u00f3nima\n",
      "ventaja es que pareciera que tienes una f bonita como en matematicas"
     ]
    },
    {
     "cell_type": "code",
     "collapsed": false,
     "input": [
      "f = lambda x: x**2 -1 # Funci\u00f3n an\u00f3nima en GNU/Octave se definir\u00eda como f = @(x) x.^2 - 1 #@ en ves de lambda\n",
      "#si no fuera an\u00f3nima tendria que ser tipo: def f(x): return x**2-1"
     ],
     "language": "python",
     "metadata": {},
     "outputs": [],
     "prompt_number": 4
    },
    {
     "cell_type": "code",
     "collapsed": false,
     "input": [
      "f(-0.05)"
     ],
     "language": "python",
     "metadata": {},
     "outputs": [
      {
       "metadata": {},
       "output_type": "pyout",
       "prompt_number": 4,
       "text": [
        "-0.9975"
       ]
      }
     ],
     "prompt_number": 4
    },
    {
     "cell_type": "code",
     "collapsed": false,
     "input": [
      "f(-0.25)"
     ],
     "language": "python",
     "metadata": {},
     "outputs": [
      {
       "metadata": {},
       "output_type": "pyout",
       "prompt_number": 5,
       "text": [
        "-0.9375"
       ]
      }
     ],
     "prompt_number": 5
    },
    {
     "cell_type": "code",
     "collapsed": false,
     "input": [
      "f(1.25)"
     ],
     "language": "python",
     "metadata": {},
     "outputs": [
      {
       "metadata": {},
       "output_type": "pyout",
       "prompt_number": 6,
       "text": [
        "0.5625"
       ]
      }
     ],
     "prompt_number": 6
    },
    {
     "cell_type": "heading",
     "level": 3,
     "metadata": {},
     "source": [
      "Implementaci\u00f3n"
     ]
    },
    {
     "cell_type": "code",
     "collapsed": false,
     "input": [
      "def biseccion(func, a, b, stop):\n",
      "    x = (a + b)/2\n",
      "    \n",
      "    assert f(a)*f(b) < 0, \"El signo de la funci\u00f3n en los extremos deber\u00eda de ser diferente\" \n",
      "    #si ^ no se satisface, entonces bye bye (porque se quedaria por los siglos)\n",
      "    #assert es como un if con un break, pero es mas eficiente, y ademas demuestra que es importante para la ejecuci\u00f3n de la funcion\n",
      "    assert f(a) != 0, \"La ra\u00edz es %.5f\" % a\n",
      "    assert f(b) != 0, \"La ra\u00edz es %.5f\" % b\n",
      "    \n",
      "    print \"%s\\t%12s\\t%12s\" % (\"k\", \"I(a,b)\", \"x\") #basado en el printf de c\n",
      "    #defines la cadena del principio, %s cadena /t tabulador, 12s son 12 caracteres\n",
      "    print \"%d\\tI(%.5f, %.5f)\\t%.5f\" % (0,a, b, x)\n",
      "    #I a .5f decimales es un digito    \n",
      "    #^es un poquito como en c# con el link a sql, el primero del parentesis va a el primer cachito del string del principio\n",
      "    \n",
      "        \n",
      "    #print \"%d\\tI(%.5f, %.5f)\\t%.12f\" % (k+1, a, b, x)"
     ],
     "language": "python",
     "metadata": {},
     "outputs": [],
     "prompt_number": 14
    },
    {
     "cell_type": "code",
     "collapsed": false,
     "input": [
      "biseccion(func = f, a = -0.25, b = 1.25, stop = 10)"
     ],
     "language": "python",
     "metadata": {},
     "outputs": [
      {
       "output_type": "stream",
       "stream": "stdout",
       "text": [
        "k\t      I(a,b)\t           x\n",
        "0\tI(-0.25000, 1.25000)\t0.50000\n"
       ]
      }
     ],
     "prompt_number": 15
    },
    {
     "cell_type": "code",
     "collapsed": false,
     "input": [
      "def biseccion(func, a, b, stop):\n",
      "    x = (a + b)/2\n",
      "    \n",
      "    assert f(a)*f(b) < 0, \"El signo de la funci\u00f3n en los extremos deber\u00eda de ser diferente\"\n",
      "    assert f(a) != 0, \"La ra\u00edz es %.5f\" % a\n",
      "    assert f(b) != 0, \"La ra\u00edz es %.5f\" % b\n",
      "    \n",
      "    print \"%s\\t%12s\\t%12s\" % (\"k\", \"I(a,b)\", \"x\")\n",
      "    print \"%d\\tI(%.5f, %.5f)\\t%.5f\" % (0,a, b, x)\n",
      "    \n",
      "    for k in range(stop):        \n",
      "        f_x = f(x)\n",
      "        f_a = f(a)\n",
      "        f_b = f(b)        \n",
      "        \n",
      "        if(f_a*f_x < 0):\n",
      "            a, b = a, x\n",
      "        elif(f_x*f_b < 0): #este podria ser un else, porque los asserts evitan cosas raras, pero asi se parece al algoritmo escrito arriba\n",
      "            a, b = x, b\n",
      "        x = (a+b)/2\n",
      "        #hace todo una y otra vez hasta llegar a stop\n",
      "        print \"%d\\tI(%.16f, %.16f)\\t%.12f\" % (k+1, a, b, x)"
     ],
     "language": "python",
     "metadata": {},
     "outputs": [],
     "prompt_number": 20
    },
    {
     "cell_type": "code",
     "collapsed": false,
     "input": [
      "biseccion(func = f, a = -0.25, b = 1.25, stop = 40)"
     ],
     "language": "python",
     "metadata": {},
     "outputs": [
      {
       "output_type": "stream",
       "stream": "stdout",
       "text": [
        "k\t      I(a,b)\t           x\n",
        "0\tI(-0.25000, 1.25000)\t0.50000\n",
        "1\tI(0.50000, 1.25000)\t0.875000000000\n",
        "2\tI(0.87500, 1.25000)\t1.062500000000\n",
        "3\tI(0.87500, 1.06250)\t0.968750000000\n",
        "4\tI(0.96875, 1.06250)\t1.015625000000\n",
        "5\tI(0.96875, 1.01562)\t0.992187500000\n",
        "6\tI(0.99219, 1.01562)\t1.003906250000\n",
        "7\tI(0.99219, 1.00391)\t0.998046875000\n",
        "8\tI(0.99805, 1.00391)\t1.000976562500\n",
        "9\tI(0.99805, 1.00098)\t0.999511718750\n",
        "10\tI(0.99951, 1.00098)\t1.000244140625\n",
        "11\tI(0.99951, 1.00024)\t0.999877929688\n",
        "12\tI(0.99988, 1.00024)\t1.000061035156\n",
        "13\tI(0.99988, 1.00006)\t0.999969482422\n",
        "14\tI(0.99997, 1.00006)\t1.000015258789\n",
        "15\tI(0.99997, 1.00002)\t0.999992370605\n",
        "16\tI(0.99999, 1.00002)\t1.000003814697\n",
        "17\tI(0.99999, 1.00000)\t0.999998092651\n",
        "18\tI(1.00000, 1.00000)\t1.000000953674\n",
        "19\tI(1.00000, 1.00000)\t0.999999523163\n",
        "20\tI(1.00000, 1.00000)\t1.000000238419\n",
        "21\tI(1.00000, 1.00000)\t0.999999880791\n",
        "22\tI(1.00000, 1.00000)\t1.000000059605\n",
        "23\tI(1.00000, 1.00000)\t0.999999970198\n",
        "24\tI(1.00000, 1.00000)\t1.000000014901\n",
        "25\tI(1.00000, 1.00000)\t0.999999992549\n",
        "26\tI(1.00000, 1.00000)\t1.000000003725\n",
        "27\tI(1.00000, 1.00000)\t0.999999998137\n",
        "28\tI(1.00000, 1.00000)\t1.000000000931\n",
        "29\tI(1.00000, 1.00000)\t0.999999999534\n",
        "30\tI(1.00000, 1.00000)\t1.000000000233\n",
        "31\tI(1.00000, 1.00000)\t0.999999999884\n",
        "32\tI(1.00000, 1.00000)\t1.000000000058\n",
        "33\tI(1.00000, 1.00000)\t0.999999999971\n",
        "34\tI(1.00000, 1.00000)\t1.000000000015\n",
        "35\tI(1.00000, 1.00000)\t0.999999999993\n",
        "36\tI(1.00000, 1.00000)\t1.000000000004\n",
        "37\tI(1.00000, 1.00000)\t0.999999999998\n",
        "38\tI(1.00000, 1.00000)\t1.000000000001\n",
        "39\tI(1.00000, 1.00000)\t1.000000000000\n",
        "40\tI(1.00000, 1.00000)\t1.000000000000\n"
       ]
      }
     ],
     "prompt_number": 19
    },
    {
     "cell_type": "markdown",
     "metadata": {},
     "source": [
      "con un for esta bien porque se parece al algoritmo, pero se puede hacer mas eficiente, con numpy:"
     ]
    },
    {
     "cell_type": "heading",
     "level": 3,
     "metadata": {},
     "source": [
      "Ejercicio:Implementaci\u00f3n con `Numpy`"
     ]
    },
    {
     "cell_type": "markdown",
     "metadata": {},
     "source": [
      "Observa lo siguiente:"
     ]
    },
    {
     "cell_type": "code",
     "collapsed": false,
     "input": [
      "f(np.array([0,1,2]))"
     ],
     "language": "python",
     "metadata": {},
     "outputs": [
      {
       "metadata": {},
       "output_type": "pyout",
       "prompt_number": 21,
       "text": [
        "array([-1,  0,  3])"
       ]
      }
     ],
     "prompt_number": 21
    },
    {
     "cell_type": "markdown",
     "metadata": {},
     "source": [
      "<div class=\"alert alert-info\">\n",
      "**Ejercicio** Reescribe usando `numpy` la funci\u00f3n `biseccion`\n",
      "</div>"
     ]
    },
    {
     "cell_type": "code",
     "collapsed": false,
     "input": [
      "\n",
      "def biseccion(func, a, b, stop):\n",
      "    x = (a + b)/2\n",
      "    XX=np.array([a,x,b])\n",
      "    \n",
      "    assert f(a)*f(b) < 0, \"El signo de la funci\u00f3n en los extremos deber\u00eda de ser diferente\"\n",
      "    assert f(a) != 0, \"La ra\u00edz es %.5f\" % a\n",
      "    assert f(b) != 0, \"La ra\u00edz es %.5f\" % b\n",
      "    \n",
      "    print \"%s\\t%12s\\t%12s\" % (\"k\", \"I(a,b)\", \"x\")\n",
      "    print \"%d\\tI(%.5f, %.5f)\\t%.5f\" % (0,a, b, x)\n",
      "    \n",
      "    y=np.linspace(0,10,1)\n",
      "    n=1\n",
      "    for k in range(stop): \n",
      "        f_=f(XX) \n",
      "        \n",
      "        if(f_[0]*f_[1] < 0):\n",
      "            a, b = a, x\n",
      "        elif(f_[1]*f_[2] < 0): \n",
      "            a, b = x, b\n",
      "        x = (a+b)/2\n",
      "        #aqui tendia que guardar los nuevos a,x,b en XX con el siguiente indice (para guardar todas las x)\n",
      "        \n",
      "        print \"%d\\tI(%.5f, %.5f)\\t%.12f\" % (k+1, a, b, x)"
     ],
     "language": "python",
     "metadata": {},
     "outputs": [],
     "prompt_number": 59
    },
    {
     "cell_type": "code",
     "collapsed": false,
     "input": [
      "biseccion(func = f, a = -0.25, b = 1.25, stop = 10)"
     ],
     "language": "python",
     "metadata": {},
     "outputs": [
      {
       "output_type": "stream",
       "stream": "stdout",
       "text": [
        "k\t      I(a,b)\t           x\n",
        "0\tI(-0.25000, 1.25000)\t0.50000\n",
        "1\tI(0.50000, 1.25000)\t0.875000000000\n",
        "2\tI(0.87500, 1.25000)\t1.062500000000\n",
        "3\tI(1.06250, 1.25000)\t1.156250000000\n",
        "4\tI(1.15625, 1.25000)\t1.203125000000\n",
        "5\tI(1.20312, 1.25000)\t1.226562500000\n",
        "6\tI(1.22656, 1.25000)\t1.238281250000\n",
        "7\tI(1.23828, 1.25000)\t1.244140625000\n",
        "8\tI(1.24414, 1.25000)\t1.247070312500\n",
        "9\tI(1.24707, 1.25000)\t1.248535156250\n",
        "10\tI(1.24854, 1.25000)\t1.249267578125\n"
       ]
      }
     ],
     "prompt_number": 60
    },
    {
     "cell_type": "markdown",
     "metadata": {},
     "source": [
      "<div class=\"alert alert-info\">\n",
      "**Ejercicio** Reescribe usando `GNU/Octave` la funci\u00f3n `biseccion` usando la celda que sigue. Abre el `docker` de `GNU/Octave` y prueba el algoritmo.\n",
      "</div>"
     ]
    },
    {
     "cell_type": "markdown",
     "metadata": {},
     "source": [
      "\n",
      "> % Pon aqu\u00ed el c\u00f3digo en GNU/Octave\n",
      "\n",
      ">function [raiz] = biseccion(func,a, b, stop)\n",
      ">    ...\n",
      ">\n",
      ">    raiz = \n",
      ">    % fin de la funci\u00f3n"
     ]
    },
    {
     "cell_type": "markdown",
     "metadata": {},
     "source": [
      "Se puede invocar desde la consola de `octave` como\n",
      "\n",
      "> [raiz, k ] = biseccion(func, a, b, stop)"
     ]
    },
    {
     "cell_type": "heading",
     "level": 2,
     "metadata": {},
     "source": [
      "Una mejor manera de detenerse"
     ]
    },
    {
     "cell_type": "markdown",
     "metadata": {},
     "source": [
      "Ser\u00eda mejor detenerse no con un `stop`, si no cuando la soluci\u00f3n est\u00e9 lo suficientemente cerca de la soluci\u00f3n real."
     ]
    },
    {
     "cell_type": "markdown",
     "metadata": {},
     "source": [
      "N\u00f3tese que en cada paso, la norma del intervalo es\n",
      "\n",
      "$$\n",
      "|I^{(k)}| \\equiv b^k - a^k\n",
      "$$\n",
      "\n",
      "contiene a la ra\u00edz $r$."
     ]
    },
    {
     "cell_type": "markdown",
     "metadata": {},
     "source": [
      "Por cada iteraci\u00f3n $k$, la norma se divide por $2$:\n",
      "\n",
      "$$\n",
      "|I^{(k)}| = \\left(\\frac{1}{2}\\right)^k |I^0|\n",
      "$$"
     ]
    },
    {
     "cell_type": "markdown",
     "metadata": {},
     "source": [
      "Entonces, si definimos el _error_ como \n",
      "\n",
      "$$\n",
      "|e^k| \\equiv |x^k - r| \n",
      "$$\n",
      "\n",
      "tenemos que\n",
      "\n",
      "$$\n",
      "|e^k| < \\frac{1}{2}|I^k| = \\left(\\frac{1}{2}\\right)^{k+1} (b-a)\n",
      "$$"
     ]
    },
    {
     "cell_type": "markdown",
     "metadata": {},
     "source": [
      "Para garantizar que $|e^k| < tol$, donde $tol$ es la tolerancia deseada, basta con llevar a cabo $k_{min}$  iteraciones, donde\n",
      "\n",
      "$$\n",
      "k_{min} > log_2\\left(\\frac{b-a}{tol}\\right) - 1\n",
      "$$"
     ]
    },
    {
     "cell_type": "code",
     "collapsed": false,
     "input": [
      "#mismo que el de arriba, pero con la tolerancia incluida\n",
      "def biseccion(func, a, b, tolerancia, stop):\n",
      "    k = 0\n",
      "    \n",
      "    x = (a + b)/2\n",
      "    \n",
      "    I = (b - a)/2\n",
      "    \n",
      "    assert f(a)*f(b) < 0, \"El signo de la funci\u00f3n en los extremos deber\u00eda de ser diferente\"\n",
      "    assert f(a) != 0, \"La ra\u00edz es %.5f\" % a\n",
      "    assert f(b) != 0, \"La ra\u00edz es %.5f\" % b\n",
      "    \n",
      "    print \"%s\\t%12s\\t%12s\" % (\"k\",\"I(a,b)\", \"x\")\n",
      "    print \"%s\\tI(%.5f, %.5f)\\t%.5f\" % (\"0\",a, b, x)\n",
      "    \n",
      "    while I >= tolerancia and k <= stop: #te ahorras la doble contencion si usas la \"formula del k\" ,el stop es para no tener 10 milloones de pasos\n",
      "        k = k + 1\n",
      "        \n",
      "        f_x = f(x)\n",
      "        f_a = f(a)\n",
      "        f_b = f(b)        \n",
      "        \n",
      "        \n",
      "        if(f_a*f_x < 0):\n",
      "            a, b = a, x\n",
      "        elif(f_x*f_b < 0):\n",
      "            a, b = x, b\n",
      "        \n",
      "        x = (a+b)/2\n",
      "        \n",
      "        I = (b - a)/2\n",
      "        \n",
      "        print \"%d\\tI(%.5f, %.5f)\\t%.12f\" % (k,a, b, x)"
     ],
     "language": "python",
     "metadata": {},
     "outputs": [],
     "prompt_number": 5
    },
    {
     "cell_type": "code",
     "collapsed": false,
     "input": [
      "biseccion(func = f, a = -0.25, b = 1.25, tolerancia = 1e-4, stop = 100)\n",
      "#son menos pasos"
     ],
     "language": "python",
     "metadata": {},
     "outputs": [
      {
       "output_type": "stream",
       "stream": "stdout",
       "text": [
        "k\t      I(a,b)\t           x\n",
        "0\tI(-0.25000, 1.25000)\t0.50000\n",
        "1\tI(0.50000, 1.25000)\t0.875000000000\n",
        "2\tI(0.87500, 1.25000)\t1.062500000000\n",
        "3\tI(0.87500, 1.06250)\t0.968750000000\n",
        "4\tI(0.96875, 1.06250)\t1.015625000000\n",
        "5\tI(0.96875, 1.01562)\t0.992187500000\n",
        "6\tI(0.99219, 1.01562)\t1.003906250000\n",
        "7\tI(0.99219, 1.00391)\t0.998046875000\n",
        "8\tI(0.99805, 1.00391)\t1.000976562500\n",
        "9\tI(0.99805, 1.00098)\t0.999511718750\n",
        "10\tI(0.99951, 1.00098)\t1.000244140625\n",
        "11\tI(0.99951, 1.00024)\t0.999877929688\n",
        "12\tI(0.99988, 1.00024)\t1.000061035156\n",
        "13\tI(0.99988, 1.00006)\t0.999969482422\n"
       ]
      }
     ],
     "prompt_number": 6
    },
    {
     "cell_type": "markdown",
     "metadata": {},
     "source": [
      "<div class=\"alert alert-info\">\n",
      "**Ejercicio** Reescribe usando `numpy` la funci\u00f3n `biseccion`\n",
      "</div>"
     ]
    },
    {
     "cell_type": "markdown",
     "metadata": {},
     "source": [
      "<div class=\"alert alert-info\">\n",
      "**Ejercicio** Reescribe usando `GNU/Octave` la funci\u00f3n `biseccion` usando la celda que sigue. Abre el `docker` de `GNU/Octave` y prueba el algoritmo.\n",
      "</div>"
     ]
    },
    {
     "cell_type": "heading",
     "level": 2,
     "metadata": {},
     "source": [
      "M\u00e9todo de Newton"
     ]
    },
    {
     "cell_type": "markdown",
     "metadata": {},
     "source": [
      "Podemos dise\u00f1ar un algoritmo m\u00e1s eficiente que el **m\u00e9todo de la bisecci\u00f3n** si incorporamos m\u00e1s informaci\u00f3n que el cambio de signo de $f$. En el **m\u00e9todo de Newton** se incorpora el valor de $f(x)$ y el valor de la derivada de $f$: $f'(x)$. La ecuaci\u00f3n de la tangente a la funci\u00f3n $f$ en $x$ es:"
     ]
    },
    {
     "cell_type": "markdown",
     "metadata": {},
     "source": [
      "$$\n",
      "y(x) = f(x^{(k)}) + f'(x^{(k)})\\cdot(x-x^{(k)})\n",
      "$$"
     ]
    },
    {
     "cell_type": "markdown",
     "metadata": {},
     "source": [
      "Entonces, si $y(x^{(k+1)}) = 0$, tenemos:"
     ]
    },
    {
     "cell_type": "markdown",
     "metadata": {},
     "source": [
      "$$\n",
      "x^{(k+1)} = x^{(k)} - \\frac{f({(k)})}{f'(x^{(k)})}, \\qquad k \\geq 0, \\quad f'(x^{(k)}) \\neq 0\n",
      "$$"
     ]
    },
    {
     "cell_type": "markdown",
     "metadata": {},
     "source": [
      "<div class=\"alert alert-info\">\n",
      "**Ejercicio**: \u00bfCu\u00e1l es la serie de Taylor de $f$ alrededor de un punto cualesquiera $x$? \u00bfQu\u00e9 te dice esto de la ecuaci\u00f3n iterativa de Newton?\n",
      "</div>"
     ]
    },
    {
     "cell_type": "markdown",
     "metadata": {},
     "source": [
      "no converge para ocilaciones( o converge mucho mas lento)\n",
      "una ves que estamos cerca del resultado, es metodo de newton es mucho mas rapido\n",
      "problema principal: calcular la derivada"
     ]
    },
    {
     "cell_type": "markdown",
     "metadata": {},
     "source": [
      "la integral es facil (con capacitores) de calcular porque trata de lo que ya pas\u00f3 (la historia de la funcion), para saber que sigue usas la derivada, pero para saber la derivada necesito saber el siguiente punto (que es lo que quiero encontrar !!!) por eso es super inestable (usas n\u00fameros que no tienes)\n",
      "se puede decir que la derivada no existe a nivel fisico (calculo n\u00famerico va a ser \"oooo como derivar????\""
     ]
    },
    {
     "cell_type": "markdown",
     "metadata": {},
     "source": [
      "<div class=\"alert alert-danger\">\n",
      "**NOTA** En general el m\u00e9todo de Newton no converge para todas las posibles elecciones de $x^0$, si no para aquellos valores lo _suficientemente_ cerca de $r$...\n",
      "</div>"
     ]
    },
    {
     "cell_type": "markdown",
     "metadata": {},
     "source": [
      "<div class=\"alert alert-warning\">\n",
      "**NOTA** En la pr\u00e1ctica uno puede establecer $x^0$ inspeccionando la gr\u00e1fica visualmente, o usando unas cuantas iteraciones del m\u00e9todo de la bisecci\u00f3n...\n",
      "</div>"
     ]
    },
    {
     "cell_type": "code",
     "collapsed": false,
     "input": [
      "import sympy as sym\n",
      "from sympy.interactive import printing\n",
      "printing.init_printing(use_latex=True)"
     ],
     "language": "python",
     "metadata": {},
     "outputs": [],
     "prompt_number": 8
    },
    {
     "cell_type": "code",
     "collapsed": false,
     "input": [
      "x = sym.Symbol('x')"
     ],
     "language": "python",
     "metadata": {},
     "outputs": [],
     "prompt_number": 9
    },
    {
     "cell_type": "code",
     "collapsed": false,
     "input": [
      "x"
     ],
     "language": "python",
     "metadata": {},
     "outputs": [
      {
       "latex": [
        "$$x$$"
       ],
       "metadata": {},
       "output_type": "pyout",
       "png": "[encoded data removed]",
       "prompt_number": 10,
       "text": [
        "x"
       ]
      }
     ],
     "prompt_number": 10
    },
    {
     "cell_type": "code",
     "collapsed": false,
     "input": [
      "f =  x**2 - 1"
     ],
     "language": "python",
     "metadata": {},
     "outputs": [],
     "prompt_number": 17
    },
    {
     "cell_type": "code",
     "collapsed": false,
     "input": [
      "type(f) #es add con el -1, si se lo quitas, te dice pow"
     ],
     "language": "python",
     "metadata": {},
     "outputs": [
      {
       "metadata": {},
       "output_type": "pyout",
       "prompt_number": 16,
       "text": [
        "sympy.core.power.Pow"
       ]
      }
     ],
     "prompt_number": 16
    },
    {
     "cell_type": "code",
     "collapsed": false,
     "input": [
      "type(f).__bases__ #tiene que ver con herencia multiple"
     ],
     "language": "python",
     "metadata": {},
     "outputs": [
      {
       "metadata": {},
       "output_type": "pyout",
       "prompt_number": 19,
       "text": [
        "(sympy.core.expr.Expr, sympy.core.operations.AssocOp)"
       ]
      }
     ],
     "prompt_number": 19
    },
    {
     "cell_type": "code",
     "collapsed": false,
     "input": [
      "type(f).__bases__[0] in (sym.expr.Expr, sym.operations.AssocOp)"
     ],
     "language": "python",
     "metadata": {},
     "outputs": [
      {
       "metadata": {},
       "output_type": "pyout",
       "prompt_number": 21,
       "text": [
        "True"
       ]
      }
     ],
     "prompt_number": 21
    },
    {
     "cell_type": "code",
     "collapsed": false,
     "input": [
      "df = sym.diff(f, x)\n",
      "df"
     ],
     "language": "python",
     "metadata": {},
     "outputs": [
      {
       "latex": [
        "$$2 x$$"
       ],
       "metadata": {},
       "output_type": "pyout",
       "png": "[encoded data removed]",
       "prompt_number": 25,
       "text": [
        "2\u22c5x"
       ]
      }
     ],
     "prompt_number": 25
    },
    {
     "cell_type": "code",
     "collapsed": false,
     "input": [
      "F = sym.lambdify(x,f, modules=\"numpy\") #lo conviertes en una funcion de python (que funciona como una lambda)"
     ],
     "language": "python",
     "metadata": {},
     "outputs": [],
     "prompt_number": 23
    },
    {
     "cell_type": "code",
     "collapsed": false,
     "input": [
      "F"
     ],
     "language": "python",
     "metadata": {},
     "outputs": [
      {
       "metadata": {},
       "output_type": "pyout",
       "prompt_number": 24,
       "text": [
        "<function numpy.<lambda>>"
       ]
      }
     ],
     "prompt_number": 24
    },
    {
     "cell_type": "code",
     "collapsed": false,
     "input": [
      "F(0)"
     ],
     "language": "python",
     "metadata": {},
     "outputs": [
      {
       "latex": [
        "$$-1$$"
       ],
       "metadata": {},
       "output_type": "pyout",
       "png": "[encoded data removed]",
       "prompt_number": 26,
       "text": [
        "-1"
       ]
      }
     ],
     "prompt_number": 26
    },
    {
     "cell_type": "code",
     "collapsed": false,
     "input": [
      "DF = sym.lambdify(x, df, modules=\"numpy\")"
     ],
     "language": "python",
     "metadata": {},
     "outputs": [],
     "prompt_number": 27
    },
    {
     "cell_type": "code",
     "collapsed": false,
     "input": [
      "DF(1)"
     ],
     "language": "python",
     "metadata": {},
     "outputs": [
      {
       "latex": [
        "$$2$$"
       ],
       "metadata": {},
       "output_type": "pyout",
       "png": "[encoded data removed]",
       "prompt_number": 28,
       "text": [
        "2"
       ]
      }
     ],
     "prompt_number": 28
    },
    {
     "cell_type": "code",
     "collapsed": false,
     "input": [
      "def newton(f, x0, tolerancia, stop):\n",
      "    assert type(f).__bases__[0]  in (sym.expr.Expr, sym.operations.AssocOp), \"La funci\u00f3n no es una expresi\u00f3n simb\u00f3lica ... :/\"\n",
      "    \n",
      "    # Derivamos la expresi\u00f3n\n",
      "    df = sym.diff(f, x)\n",
      "    \n",
      "    # Convertimos en funciones las expresiones\n",
      "    F = sym.lambdify(x,f, modules=\"numpy\")\n",
      "    DF = sym.lambdify(x, df, modules=\"numpy\")\n",
      "    \n",
      "    # Inicializamos el contador\n",
      "    k = 0\n",
      "    \n",
      "    # Inicializamos abs(x1-x0) en un n\u00famero mayor que la tolerancia\n",
      "    diff = 1\n",
      "    print \"{: >5} {: >10} {: >10} {: >10} {: >11} {: >10}\".format(\"k\", \"x0\", \"F(x0)\", \"DF(x0)\", \"abs(x1-x0)\", \"x1\")\n",
      "    \n",
      "    while diff >= tolerancia and k <= stop:\n",
      "        k = k + 1\n",
      "\n",
      "        x1 = x0 - (float(F(x0)/DF(x0))) #esta linea es el algoritmo de newton (todo lo demas es para derivar... o no)\n",
      "        print \"{: >5} {: >10.5f} {: >10.5f} {: >10.5f} {: >10.5f} {: >11.5f}\".format(k, x0, F(x0), DF(x0), diff, x1)\n",
      "        \n",
      "        diff = abs(x1 - x0)\n",
      "        \n",
      "        x0 = x1\n",
      "        \n",
      "    if k > stop:\n",
      "        print \"El m\u00e9todo de Newton no convergi\u00f3: para la tolerancia especificada, se alcanzaron el m\u00e1ximo n\u00famero de iteraciones\"\n",
      "    \n",
      "    print \"\\n\\nLa ra\u00edz es %2.12f\" % x0"
     ],
     "language": "python",
     "metadata": {},
     "outputs": [],
     "prompt_number": 62
    },
    {
     "cell_type": "markdown",
     "metadata": {},
     "source": [
      "<div class=\"alert alert-warning\">\n",
      "**NOTA**: Para entender el formato de impresi\u00f3n usado, lee esta [p\u00e1gina](https://docs.python.org/2.7/library/string.html#format-specification-mini-language).\n",
      "</div>"
     ]
    },
    {
     "cell_type": "code",
     "collapsed": false,
     "input": [
      "newton(f, x0=0.3, tolerancia=1e-12, stop=100)"
     ],
     "language": "python",
     "metadata": {},
     "outputs": [
      {
       "output_type": "stream",
       "stream": "stdout",
       "text": [
        "    k         x0      F(x0)     DF(x0)  abs(x1-x0)         x1\n",
        "    1    0.30000   -0.91000    0.60000    1.00000     1.81667\n",
        "    2    1.81667    2.30028    3.63333    1.51667     1.18356\n",
        "    3    1.18356    0.40082    2.36713    0.63310     1.01423\n",
        "    4    1.01423    0.02867    2.02847    0.16933     1.00010\n",
        "    5    1.00010    0.00020    2.00020    0.01413     1.00000\n",
        "    6    1.00000    0.00000    2.00000    0.00010     1.00000\n",
        "    7    1.00000    0.00000    2.00000    0.00000     1.00000\n",
        "\n",
        "\n",
        "La ra\u00edz es 1.000000000000\n"
       ]
      }
     ],
     "prompt_number": 31
    },
    {
     "cell_type": "markdown",
     "metadata": {},
     "source": [
      "Por supuesto que esto quiz\u00e1 no sea lo m\u00e1s r\u00e1pido y si queremos velocidad, es mejor proveer de la funci\u00f3n f y de la derivada de esta f\u2032 al m\u00e9todo"
     ]
    },
    {
     "cell_type": "markdown",
     "metadata": {},
     "source": [
      "<div class=\"alert alert-info\">\n",
      "**Ejercicio** Implementa el m\u00e9todo de **Newton** de tal manera que reciba funciones de `python` y no expresiones simb\u00f3licas de `sympy`\n",
      "</div>"
     ]
    },
    {
     "cell_type": "code",
     "collapsed": false,
     "input": [
      "f = lambda x: x**2 -1\n",
      "df=lambda x: 2*x\n",
      "\n",
      "def newtonFuncionPython(f, df, x0, tolerancia, stop):\n",
      "    k = 0\n",
      "    diff = 1\n",
      "    \n",
      "    print \"{: >5} {: >10} {: >10} {: >10} {: >11} {: >10}\".format(\"k\", \"x0\", \"F(x0)\", \"DF(x0)\", \"abs(x1-x0)\", \"x1\")\n",
      "    \n",
      "    while diff >= tolerancia and k <= stop:\n",
      "        k = k + 1\n",
      "\n",
      "        x1 = x0 - (float(F(x0)/DF(x0))) #esta linea es el algoritmo de newton (todo lo demas es para derivar... o no)\n",
      "        print \"{: >5} {: >10.5f} {: >10.5f} {: >10.5f} {: >10.5f} {: >11.5f}\".format(k, x0, F(x0), DF(x0), diff, x1)\n",
      "        \n",
      "        diff = abs(x1 - x0)\n",
      "        \n",
      "        x0 = x1\n",
      "        \n",
      "    if k > stop:\n",
      "        print \"El m\u00e9todo de Newton no convergi\u00f3: para la tolerancia especificada, se alcanzaron el m\u00e1ximo n\u00famero de iteraciones\"\n",
      "    \n",
      "    print \"\\n\\nLa ra\u00edz es %2.12f\" % x0"
     ],
     "language": "python",
     "metadata": {},
     "outputs": [],
     "prompt_number": 35
    },
    {
     "cell_type": "code",
     "collapsed": false,
     "input": [
      "newtonFuncionPython(f, df, x0=0.3, tolerancia=1e-12, stop=100)"
     ],
     "language": "python",
     "metadata": {},
     "outputs": [
      {
       "output_type": "stream",
       "stream": "stdout",
       "text": [
        "    k         x0      F(x0)     DF(x0)  abs(x1-x0)         x1\n",
        "    1    0.30000   -0.91000    0.60000    1.00000     1.81667\n",
        "    2    1.81667    2.30028    3.63333    1.51667     1.18356\n",
        "    3    1.18356    0.40082    2.36713    0.63310     1.01423\n",
        "    4    1.01423    0.02867    2.02847    0.16933     1.00010\n",
        "    5    1.00010    0.00020    2.00020    0.01413     1.00000\n",
        "    6    1.00000    0.00000    2.00000    0.00010     1.00000\n",
        "    7    1.00000    0.00000    2.00000    0.00000     1.00000\n",
        "\n",
        "\n",
        "La ra\u00edz es 1.000000000000\n"
       ]
      }
     ],
     "prompt_number": 36
    },
    {
     "cell_type": "markdown",
     "metadata": {},
     "source": [
      "<div class=\"alert alert-info\">\n",
      "**Ejercicio** Muestre la gr\u00e1fica y encuentre los ceros (ra\u00edces) usando ambos m\u00e9todos de las siguientes funciones:\n",
      "\n",
      "\n",
      "$$\n",
      "f(x) = e^{-x} - x \\qquad  x_0 = 0\n",
      "$$\n",
      "\n",
      "$\\\\$\n",
      "\n",
      "\n",
      "$$\n",
      "f(x) = x^10 - 1 \\qquad x_0 = 0.5\n",
      "$$\n",
      "\n",
      "$\\\\$\n",
      "\n",
      "\n",
      "\n",
      "\u00bfCu\u00e1ntos pasos se requieren para que converja con una tolerancia de $10^{-10}$?\n",
      "</div>"
     ]
    },
    {
     "cell_type": "code",
     "collapsed": false,
     "input": [
      "x = np.linspace(-0.1, 1, 100)\n",
      "y = np.exp(-x)-x\n",
      "plt.plot(x, y, color=\"blue\")\n",
      "ax = plt.gca()   #get coordinate axis\n",
      "ax.spines['right'].set_color('none')\n",
      "ax.spines['top'].set_color('none')\n",
      "ax.xaxis.set_ticks_position('bottom')\n",
      "ax.spines['bottom'].set_position(('data',0))\n",
      "ax.yaxis.set_ticks_position('left')\n",
      "ax.spines['left'].set_position(('data',0))"
     ],
     "language": "python",
     "metadata": {},
     "outputs": [
      {
       "metadata": {},
       "output_type": "display_data",
       "png": "[encoded data removed]",
       "text": [
        "<matplotlib.figure.Figure at 0x7fc3cf5d80d0>"
       ]
      }
     ],
     "prompt_number": 53
    },
    {
     "cell_type": "code",
     "collapsed": false,
     "input": [
      "f = lambda x: np.exp(-x)-x\n",
      "df=lambda x: -np.exp(-x)-1\n",
      "\n",
      "biseccion(func = f, a = 0.4, b = 1, tolerancia = 1e-4, stop = 100), newtonFuncionPython(f,df,x0=0.1,tolerancia=1e-12, stop=100)#<-no funciona"
     ],
     "language": "python",
     "metadata": {},
     "outputs": [
      {
       "output_type": "stream",
       "stream": "stdout",
       "text": [
        "k\t      I(a,b)\t           x\n",
        "0\tI(0.40000, 1.00000)\t0.70000\n",
        "1\tI(0.40000, 0.70000)\t0.550000000000\n",
        "2\tI(0.55000, 0.70000)\t0.625000000000\n",
        "3\tI(0.55000, 0.62500)\t0.587500000000\n",
        "4\tI(0.55000, 0.58750)\t0.568750000000\n",
        "5\tI(0.55000, 0.56875)\t0.559375000000\n",
        "6\tI(0.55938, 0.56875)\t0.564062500000\n",
        "7\tI(0.56406, 0.56875)\t0.566406250000\n",
        "8\tI(0.56641, 0.56875)\t0.567578125000\n",
        "9\tI(0.56641, 0.56758)\t0.566992187500\n",
        "10\tI(0.56699, 0.56758)\t0.567285156250\n",
        "11\tI(0.56699, 0.56729)\t0.567138671875\n",
        "12\tI(0.56714, 0.56729)\t0.567211914063\n",
        "    k         x0      F(x0)     DF(x0)  abs(x1-x0)         x1\n",
        "    1    0.10000   -0.99000    0.20000    1.00000     5.05000\n",
        "    2    5.05000   24.50250   10.10000    4.95000     2.62401\n",
        "    3    2.62401    5.88543    5.24802    2.42599     1.50255\n",
        "    4    1.50255    1.25767    3.00511    1.12146     1.08404\n",
        "    5    1.08404    0.17515    2.16809    0.41851     1.00326\n",
        "    6    1.00326    0.00653    2.00652    0.08079     1.00001\n",
        "    7    1.00001    0.00001    2.00001    0.00325     1.00000\n",
        "    8    1.00000    0.00000    2.00000    0.00001     1.00000\n",
        "    9    1.00000    0.00000    2.00000    0.00000     1.00000\n",
        "\n",
        "\n",
        "La ra\u00edz es 1.000000000000\n"
       ]
      },
      {
       "metadata": {},
       "output_type": "pyout",
       "prompt_number": 66,
       "text": [
        "(None, None)"
       ]
      }
     ],
     "prompt_number": 66
    },
    {
     "cell_type": "code",
     "collapsed": false,
     "input": [
      "x = np.linspace(-1.5, 1.5, 100)\n",
      "y = (x**10) -1\n",
      "plt.plot(x, y, color=\"green\")\n",
      "ax = plt.gca()   #get coordinate axis\n",
      "ax.spines['right'].set_color('none')\n",
      "ax.spines['top'].set_color('none')\n",
      "ax.xaxis.set_ticks_position('bottom')\n",
      "ax.spines['bottom'].set_position(('data',0))\n",
      "ax.yaxis.set_ticks_position('left')\n",
      "ax.spines['left'].set_position(('data',0))"
     ],
     "language": "python",
     "metadata": {},
     "outputs": [
      {
       "metadata": {},
       "output_type": "display_data",
       "png": "[encoded data removed]",
       "text": [
        "<matplotlib.figure.Figure at 0x7fc3cf667090>"
       ]
      }
     ],
     "prompt_number": 68
    },
    {
     "cell_type": "code",
     "collapsed": false,
     "input": [
      "f = lambda x: (x**10)-1\n",
      "df=lambda x: 10*x**9\n",
      "\n",
      "biseccion(func = f, a = -1.5, b = 0, tolerancia = 1e-4, stop = 100), newtonFuncionPython(f,df,x0=0.5,tolerancia=1e-12, stop=100)"
     ],
     "language": "python",
     "metadata": {},
     "outputs": [
      {
       "output_type": "stream",
       "stream": "stdout",
       "text": [
        "k\t      I(a,b)\t           x\n",
        "0\tI(-1.50000, 0.00000)\t-0.75000\n",
        "1\tI(-1.50000, -0.75000)\t-1.125000000000\n",
        "2\tI(-1.12500, -0.75000)\t-0.937500000000\n",
        "3\tI(-1.12500, -0.93750)\t-1.031250000000\n",
        "4\tI(-1.03125, -0.93750)\t-0.984375000000\n",
        "5\tI(-1.03125, -0.98438)\t-1.007812500000\n",
        "6\tI(-1.00781, -0.98438)\t-0.996093750000\n",
        "7\tI(-1.00781, -0.99609)\t-1.001953125000\n",
        "8\tI(-1.00195, -0.99609)\t-0.999023437500\n",
        "9\tI(-1.00195, -0.99902)\t-1.000488281250\n",
        "10\tI(-1.00049, -0.99902)\t-0.999755859375\n",
        "11\tI(-1.00049, -0.99976)\t-1.000122070312\n",
        "12\tI(-1.00012, -0.99976)\t-0.999938964844\n",
        "13\tI(-1.00012, -0.99994)\t-1.000030517578\n",
        "    k         x0      F(x0)     DF(x0)  abs(x1-x0)         x1\n",
        "    1    0.50000   -0.75000    1.00000    1.00000     1.25000\n",
        "    2    1.25000    0.56250    2.50000    0.75000     1.02500\n",
        "    3    1.02500    0.05062    2.05000    0.22500     1.00030\n",
        "    4    1.00030    0.00061    2.00061    0.02470     1.00000\n",
        "    5    1.00000    0.00000    2.00000    0.00030     1.00000\n",
        "    6    1.00000    0.00000    2.00000    0.00000     1.00000\n",
        "\n",
        "\n",
        "La ra\u00edz es 1.000000000000\n"
       ]
      },
      {
       "metadata": {},
       "output_type": "pyout",
       "prompt_number": 70,
       "text": [
        "(None, None)"
       ]
      }
     ],
     "prompt_number": 70
    },
    {
     "cell_type": "markdown",
     "metadata": {},
     "source": [
      "<div class=\"alert alert-info\">\n",
      "**Ejercicio** Si existen varias ra\u00edces el m\u00e9todo de la bisecci\u00f3n no encontrar\u00e1 algunas. Dise\u00f1e un programa que reciba una funci\u00f3n $f$, un intervalo $(a, b)$ y un n\u00famero entero $n$. La funci\u00f3n debe de dividir el intervalo en subintervalos donde ocurre un cambio de signo. Ll\u00e1melo `find_brackets(f, a, b, n)`. \u00bfEn qu\u00e9 casos de funciones cree que no funcionar\u00e1?\n",
      "</div>"
     ]
    },
    {
     "cell_type": "code",
     "collapsed": false,
     "input": [
      "def find_brackets(f,a,b,n):\n",
      "    x=np.linspace(a,b,n)\n",
      "    print x\n",
      "    intervalos=np.zeros((n,)).astype(bool)\n",
      "    for i in xrange(0,len(x)-1,1):\n",
      "        print \"todos\", f(x[i])\n",
      "        if f(x[i])*f(x[i+1])<=0: #le esta dando la vuelta!!!!\n",
      "            print \"ceros\",f(x[i]), f(x[i+1])\n",
      "            intervalos[i]=1\n",
      "    return intervalos #hay que cambiarla para que regrese una lista/array con los intervalos"
     ],
     "language": "python",
     "metadata": {},
     "outputs": [],
     "prompt_number": 120
    },
    {
     "cell_type": "code",
     "collapsed": false,
     "input": [
      "f= lambda x: (x**2) -1\n",
      "find_brackets(f,-2,2,4)"
     ],
     "language": "python",
     "metadata": {},
     "outputs": [
      {
       "output_type": "stream",
       "stream": "stdout",
       "text": [
        "[-2.         -0.66666667  0.66666667  2.        ]\n",
        "todos 3.0\n",
        "ceros 3.0 -0.555555555556\n",
        "todos -0.555555555556\n",
        "todos -0.555555555556\n",
        "ceros -0.555555555556 3.0\n"
       ]
      },
      {
       "metadata": {},
       "output_type": "pyout",
       "prompt_number": 121,
       "text": [
        "array([ True, False,  True, False], dtype=bool)"
       ]
      }
     ],
     "prompt_number": 121
    },
    {
     "cell_type": "code",
     "collapsed": false,
     "input": [
      "def find_bracketsIF(f,a,b,n):\n",
      "    "
     ],
     "language": "python",
     "metadata": {},
     "outputs": []
    },
    {
     "cell_type": "code",
     "collapsed": false,
     "input": [
      "a=-2\n",
      "b=2\n",
      "n=4\n",
      "x=np.linspace(a,b,n)\n",
      "len(x)"
     ],
     "language": "python",
     "metadata": {},
     "outputs": [
      {
       "latex": [
        "$$4$$"
       ],
       "metadata": {},
       "output_type": "pyout",
       "png": "[encoded data removed]",
       "prompt_number": 80,
       "text": [
        "4"
       ]
      }
     ],
     "prompt_number": 80
    },
    {
     "cell_type": "code",
     "collapsed": false,
     "input": [
      "x = np.linspace(3, 6, 100)\n",
      "y = np.sin(10*x)+np.cos(3*x)\n",
      "plt.plot(x, y, color=\"purple\")\n",
      "ax = plt.gca()   #get coordinate axis\n",
      "ax.spines['right'].set_color('none')\n",
      "ax.spines['top'].set_color('none')\n",
      "ax.xaxis.set_ticks_position('bottom')\n",
      "ax.spines['bottom'].set_position(('data',0))\n",
      "#ax.yaxis.set_ticks_position('left')\n",
      "ax.spines['left'].set_color('none')\n",
      "#ax.spines['left'].set_position(('data',0))"
     ],
     "language": "python",
     "metadata": {},
     "outputs": [
      {
       "metadata": {},
       "output_type": "display_data",
       "png": "[encoded data removed]",
       "text": [
        "<matplotlib.figure.Figure at 0x7fc3cf62b710>"
       ]
      }
     ],
     "prompt_number": 88
    },
    {
     "cell_type": "markdown",
     "metadata": {},
     "source": [
      "<div class=\"alert alert-info\">\n",
      "**Ejercicio** Pruebe su m\u00e9todo con la funci\u00f3n \n",
      "\n",
      "\n",
      "\n",
      "$$\n",
      "f(x) = \\sin(10x) + \\cos(3x) \\qquad 3 \\leq x \\leq 6\n",
      "$$\n",
      "\n",
      "\n",
      "\u00bfCu\u00e1l es el valor \u00f3ptimo de $n$?\n",
      "</div>"
     ]
    },
    {
     "cell_type": "markdown",
     "metadata": {},
     "source": [
      "<div class=\"alert alert-info\">\n",
      "**Ejercicio** Encuentre las ra\u00edces de esa funci\u00f3n con el m\u00e9todo de la bisecci\u00f3n.\n",
      "\n",
      "<br>\n",
      "_Hint_: Tendr\u00e1s que \"disparar\" varias llamadas al m\u00e9todo de la bisecci\u00f3n.\n",
      "</div>|"
     ]
    },
    {
     "cell_type": "code",
     "collapsed": false,
     "input": [
      "def todasRaices(f,a,b,n):\n",
      "    b=findBrackets(f,a,b,n)\n",
      "    for inter in b:\n",
      "        biseccion(f, a = b[0], b = b[1], tolerancia = 1e-4, stop = 100)"
     ],
     "language": "python",
     "metadata": {},
     "outputs": []
    },
    {
     "cell_type": "markdown",
     "metadata": {},
     "source": [
      "el problema/tarea esta en 0-raices den lecture_5 (no son iguales porque se actualiz\u00f3)"
     ]
    },
    {
     "cell_type": "code",
     "collapsed": false,
     "input": [],
     "language": "python",
     "metadata": {},
     "outputs": []
    },
    {
     "cell_type": "markdown",
     "metadata": {},
     "source": [
      "\"\"\"\"\"\"\"\"\"\"\"\"\"\"\"\"\"\"\"\"\"\"\"\"\"\"\"\""
     ]
    },
    {
     "cell_type": "code",
     "collapsed": false,
     "input": [
      "#quien sabe que sea esto (version vieja)\n",
      "def newtonRaphson(func, dFunc, x0, tolerancia, stop):\n",
      "    k=0\n",
      "    while k <= stop:\n",
      "        k = k + 1\n",
      "        x1 = x0 - (func(x0)/dFunc(x0))\n",
      "        print x1, k\n",
      "        if x1 - x0 < tolerancia:\n",
      "            return x1\n",
      "        else:\n",
      "            x0 = x1\n",
      "    print \"El valor es: \", x0\n",
      "    \n",
      "newtonRaphson(F, DF, -0.3, 1e-10, 100)"
     ],
     "language": "python",
     "metadata": {},
     "outputs": []
    }
   ],
   "metadata": {}
  }
 ]
}