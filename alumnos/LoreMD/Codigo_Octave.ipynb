{
 "metadata": {
  "name": "",
  "signature": "sha256:b39cbd218aaeb70501bc2066c9ada0c409bb0acef7966835c968402e9e0a6c3f"
 },
 "nbformat": 3,
 "nbformat_minor": 0,
 "worksheets": [
  {
   "cells": [
    {
     "cell_type": "markdown",
     "metadata": {},
     "source": [
      " for k = 1:6\n",
      " \n",
      " \n",
      "   x = linspace(0, 4*pi, 2^(k+1)+1), 2^(k+1)+1)\n",
      "   \n",
      "   \n",
      "   subplot(2,3,k), plot(x, cos(3*x)-2*sin(x))\n",
      "   \n",
      "   \n",
      "   axis([0, 4*pi, -1.5, 1.5])]\n",
      "   \n",
      "   \n",
      " end"
     ]
    },
    {
     "cell_type": "markdown",
     "metadata": {},
     "source": [
      "*este codigo hace 6 gr\u00e1ficas, de x y cos(3x)-2sin(x), ordenadas en tres columnas y dos filas (como si fuera una matriz de gr\u00e1ficas. En cada gr\u00e1fica la cantidad de puntos se va haciendo mayor. El eje x, va de -1.5 a 1.5 mientras que el eje y va de 0 a 4pi (aunque los n\u00fameros mostrados son enteros)*"
     ]
    },
    {
     "cell_type": "markdown",
     "metadata": {},
     "source": [
      "for k=1:6\n",
      "\n",
      "\n",
      " x = linspace(0, 4*pi, 2^(k+1)+1), 2^(k+1)+1)\n",
      " \n",
      " \n",
      " subplot(3,2,k), plot(x,cos(3*x)-2*sin(x))\n",
      " \n",
      " \n",
      " axis([0,4*pi,-1.5,1.5])\n",
      " \n",
      " \n",
      " end"
     ]
    },
    {
     "cell_type": "markdown",
     "metadata": {},
     "source": [
      "*cuando cambias los par\u00e1metros del subplot, cambias la presentaci\u00f3n de las gr\u00e1ficas, es decir, que en este caso hay dos columnas y tres filas*"
     ]
    },
    {
     "cell_type": "markdown",
     "metadata": {},
     "source": [
      "for k=1:6\n",
      "\n",
      "\n",
      " x=linspace(0,4*pi,2^(k+1)+1);\n",
      " \n",
      " \n",
      " subplot(2,3,k), plot(x,cos(3*x)-2*sin(x))\n",
      " \n",
      " \n",
      " end"
     ]
    },
    {
     "cell_type": "markdown",
     "metadata": {},
     "source": [
      "*al quitarle la informaci\u00f3n del axis, los ejes se vuelven \"los predeterminados\" por octave*"
     ]
    }
   ],
   "metadata": {}
  }
 ]
}