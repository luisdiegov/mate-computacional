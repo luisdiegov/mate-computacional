{
 "metadata": {
  "name": "",
  "signature": "sha256:14602e18e54225df8379fe1c9828a42140f1cedd03d46e4a9771340a3b72b59f"
 },
 "nbformat": 3,
 "nbformat_minor": 0,
 "worksheets": [
  {
   "cells": [
    {
     "cell_type": "heading",
     "level": 1,
     "metadata": {},
     "source": [
      "Multiples of 3 and 5"
     ]
    },
    {
     "cell_type": "markdown",
     "metadata": {},
     "source": [
      "If we list all the natural numbers below 10 that are multiples of 3 or 5, we get 3, 5, 6 and 9. The sum of these multiples is 23.\n",
      "\n",
      "Find the sum of all the multiples of 3 or 5 below 1000."
     ]
    },
    {
     "cell_type": "code",
     "collapsed": false,
     "input": [
      "suma=0"
     ],
     "language": "python",
     "metadata": {},
     "outputs": []
    },
    {
     "cell_type": "code",
     "collapsed": false,
     "input": [
      "def multiplos(suma):\n",
      "    for x in xrange (1,1000,1):\n",
      "        if x%3==0 or x%5==0:\n",
      "            suma += x\n",
      "    return suma"
     ],
     "language": "python",
     "metadata": {},
     "outputs": []
    },
    {
     "cell_type": "code",
     "collapsed": false,
     "input": [
      "multiplos(suma)"
     ],
     "language": "python",
     "metadata": {},
     "outputs": []
    },
    {
     "cell_type": "markdown",
     "metadata": {},
     "source": [
      "**Raciocinio:** Encontrar los m\u00faltiplos de un n\u00famero se puede hacer con el m\u00f3dulo (%) y es cuestion de hacer un bucle lo suficientemente \"grande\" para que sean todos menores a 1000"
     ]
    }
   ],
   "metadata": {}
  }
 ]
}