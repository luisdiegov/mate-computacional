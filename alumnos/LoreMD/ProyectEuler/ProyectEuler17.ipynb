{
 "metadata": {
  "name": "",
  "signature": "sha256:1aa21a562aa03a5fa6412eb92681f0589292a2cde97057ecbd6899b3c8b0f55a"
 },
 "nbformat": 3,
 "nbformat_minor": 0,
 "worksheets": [
  {
   "cells": [
    {
     "cell_type": "heading",
     "level": 1,
     "metadata": {},
     "source": [
      "Number letter counts"
     ]
    },
    {
     "cell_type": "markdown",
     "metadata": {},
     "source": [
      "If the numbers 1 to 5 are written out in words: one, two, three, four, five, then there are 3 + 3 + 5 + 4 + 4 = 19 letters used in total.\n",
      "\n",
      "If all the numbers from 1 to 1000 (one thousand) inclusive were written out in words, how many letters would be used?"
     ]
    },
    {
     "cell_type": "code",
     "collapsed": false,
     "input": [
      "unidades=[\"\",\"one\",\"two\",\"three\",\"four\",\"five\",\"six\",\"seven\",\"eight\",\"nine\"]\n",
      "decenas=[\"\",\"\",\"twenty\",\"thirty\",\"fourty\",\"fifty\",\"sixty\",\"seventy\",\"eighty\",\"ninety\"]\n",
      "otros=[\"ten\",\"eleven\",\"twelve\",\"thirteen\",\"fourteen\",\"fifteen\",\"sixteen\",\"seventeen\",\"eighteen\",\"nineteen\"]"
     ],
     "language": "python",
     "metadata": {},
     "outputs": [],
     "prompt_number": 43
    },
    {
     "cell_type": "code",
     "collapsed": false,
     "input": [
      "def cuentaLetras(top):\n",
      "    suma=0\n",
      "    for i in xrange(1,top+1,1):\n",
      "        num=str(i)\n",
      "        while len(num)!=4:\n",
      "            num=\"0\"+num\n",
      "        if num[2]==\"1\":\n",
      "            suma+=len(otros[int(num[3])])\n",
      "        else:\n",
      "            suma+=len(decenas[int(num[2])])+len(unidades[int(num[3])])\n",
      "        if num[1]!=\"0\":\n",
      "            suma+=len(unidades[int(num[1])])+len(\"hundred\")+len(\"and\")\n",
      "        if num[0]!=\"0\":\n",
      "            suma+=len(unidades[int(num[1])])+len(\"thousand\")\n",
      "    return suma"
     ],
     "language": "python",
     "metadata": {},
     "outputs": [],
     "prompt_number": 52
    },
    {
     "cell_type": "code",
     "collapsed": false,
     "input": [
      "cuentaLetras(1000)"
     ],
     "language": "python",
     "metadata": {},
     "outputs": [
      {
       "metadata": {},
       "output_type": "pyout",
       "prompt_number": 53,
       "text": [
        "21248"
       ]
      }
     ],
     "prompt_number": 53
    },
    {
     "cell_type": "markdown",
     "metadata": {},
     "source": [
      "**Raciocinio**: Las listas guardan los nombres de los n\u00fameros (podr\u00edan guardar directamente la l\u00f3ngitud, pero de este modo es m\u00e1s claro y escribo menos *len()*s); asimismo, s\u00f3lo es necesario guardar unidades, decenas y del 10 al 19 (ya que no se pueden \"construir con los otros\" sin usar muchos *if*s). En primer lugar, al n\u00famero se le agregan ceros hasta que tenga 4 \"d\u00edgitos\", para que los indices no truenen. Si tienen un 1 en el lugar de las decenas, busca con las \"unidades\" en la lista de otros, si no busca las decenas en la lista de decenas y las unidades en la de unidades. Si tiene centenas,suma la l\u00f3ngitud de \"hundred\" y la \"unidad\" que sea, lo mismo con los thousands.\n",
      "El codigo podr\u00eda seguir hasta 9999"
     ]
    }
   ],
   "metadata": {}
  }
 ]
}