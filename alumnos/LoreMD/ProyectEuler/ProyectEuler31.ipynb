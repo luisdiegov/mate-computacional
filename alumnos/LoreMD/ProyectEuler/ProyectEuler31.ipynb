{
 "metadata": {
  "name": "",
  "signature": "sha256:6f89a632a17f97a6392ba61d8459c7de314dd1c86cb0cd22073663647a517bb1"
 },
 "nbformat": 3,
 "nbformat_minor": 0,
 "worksheets": [
  {
   "cells": [
    {
     "cell_type": "heading",
     "level": 1,
     "metadata": {},
     "source": [
      "Coin sums"
     ]
    },
    {
     "cell_type": "markdown",
     "metadata": {},
     "source": [
      "In England the currency is made up of pound, \u00a3, and pence, p, and there are eight coins in general circulation:\n",
      "\n",
      "1p, 2p, 5p, 10p, 20p, 50p, \u00a31 (100p) and \u00a32 (200p).\n",
      "It is possible to make \u00a32 in the following way:\n",
      "\n",
      "1\u00d7\u00a31 + 1\u00d750p + 2\u00d720p + 1\u00d75p + 1\u00d72p + 3\u00d71p\n",
      "How many different ways can \u00a32 be made using any number of coins?"
     ]
    },
    {
     "cell_type": "code",
     "collapsed": false,
     "input": [
      "from sympy.interactive import printing\n",
      "printing.init_printing(use_latex=True)\n",
      "from sympy import Symbol,expand\n",
      "x=Symbol('x')"
     ],
     "language": "python",
     "metadata": {},
     "outputs": [],
     "prompt_number": 45
    },
    {
     "cell_type": "code",
     "collapsed": false,
     "input": [
      "def polinomio():\n",
      "    multi=1\n",
      "    suma=0\n",
      "    for m in [1,2,5,10,20,50,100,200]:\n",
      "        for i in xrange(0,200+1,m):\n",
      "            suma+=x**i\n",
      "        multi*=suma\n",
      "        suma=0\n",
      "    return expand(multi)"
     ],
     "language": "python",
     "metadata": {},
     "outputs": [],
     "prompt_number": 46
    },
    {
     "cell_type": "code",
     "collapsed": false,
     "input": [
      "def coeficiente(c):\n",
      "    poly=polinomio()\n",
      "    return poly.coeff(x**c)"
     ],
     "language": "python",
     "metadata": {},
     "outputs": [],
     "prompt_number": 47
    },
    {
     "cell_type": "code",
     "collapsed": false,
     "input": [
      "coeficiente(200)"
     ],
     "language": "python",
     "metadata": {},
     "outputs": [
      {
       "latex": [
        "$$73682$$"
       ],
       "metadata": {},
       "output_type": "pyout",
       "png": "[encoded data removed]",
       "prompt_number": 48,
       "text": [
        "73682"
       ]
      }
     ],
     "prompt_number": 48
    },
    {
     "cell_type": "markdown",
     "metadata": {},
     "source": [
      "**Raciocinio**: se hace con particiones de enteros, el resultado es el coeficiente de $x^{200}$ en\n",
      "\n",
      "$(x^{200}+1)(x^{200}+x^{100}+1)(x^{200}+...+x^{50}+1)(x^{200}+...+x^{20}+1)(x^{200}+...+x^{10}+1)(x^{200}+...+x^{5}+1)(x^{200}+...+x^{2}+1)(x^{200}+...+x^{2}+x+1)$ , se hace el for con una lista que tiene los valores de las monedas (el valor de 1 libra es 100), se crean los polinomios, se multiplican, se expanden y luego sacas el coeficiente.\n",
      "\n",
      "El programa funciona para cualquier cantidad que quieras formar con monedas de 1,2,5,10,20,50,100,200 del 0 al 1600."
     ]
    }
   ],
   "metadata": {}
  }
 ]
}