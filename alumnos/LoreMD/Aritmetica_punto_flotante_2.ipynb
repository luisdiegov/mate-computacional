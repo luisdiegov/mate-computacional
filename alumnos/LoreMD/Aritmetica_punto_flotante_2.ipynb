{
 "metadata": {
  "name": "",
  "signature": "sha256:97fb2b71a56b306d745e142526293a4fb8fe581d677d8af180dab39313210aea"
 },
 "nbformat": 3,
 "nbformat_minor": 0,
 "worksheets": [
  {
   "cells": [
    {
     "cell_type": "markdown",
     "metadata": {},
     "source": [
      "Epsilon maquina es el n\u00famero m\u00e1s peque\u00f1o que cuando se agrega a 1 da un n\u00famero diferente de 1"
     ]
    },
    {
     "cell_type": "code",
     "collapsed": false,
     "input": [
      "def epsilon():\n",
      "    n=1.0\n",
      "    while (1+(0.5*n))!=1:\n",
      "        n*=0.5\n",
      "    return n"
     ],
     "language": "python",
     "metadata": {},
     "outputs": [],
     "prompt_number": 9
    },
    {
     "cell_type": "code",
     "collapsed": false,
     "input": [
      "epsilon()"
     ],
     "language": "python",
     "metadata": {},
     "outputs": [
      {
       "metadata": {},
       "output_type": "pyout",
       "prompt_number": 10,
       "text": [
        "2.220446049250313e-16"
       ]
      }
     ],
     "prompt_number": 10
    },
    {
     "cell_type": "code",
     "collapsed": false,
     "input": [
      "from math import log\n",
      "-16*log(10)/log(2)"
     ],
     "language": "python",
     "metadata": {},
     "outputs": [
      {
       "metadata": {},
       "output_type": "pyout",
       "prompt_number": 11,
       "text": [
        "-53.1508495181978"
       ]
      }
     ],
     "prompt_number": 11
    },
    {
     "cell_type": "markdown",
     "metadata": {},
     "source": [
      "^$2^{53}$"
     ]
    },
    {
     "cell_type": "code",
     "collapsed": false,
     "input": [
      "from math import log,floor\n",
      "from decimalBinarioHexadecimal import decimalBinario\n",
      "\n",
      "def DPnormalizado(num):\n",
      "    exponente=0\n",
      "    f=\"\"\n",
      "    mantisa=0\n",
      "    \n",
      "    if num>=0:\n",
      "        signo=\"0\"\n",
      "    else:\n",
      "        signo=\"1\"\n",
      "    \n",
      "    num=abs(num)\n",
      "    exponente=int(log(num)/log(2))\n",
      "    mantisa=num/(2**exponente)\n",
      "    \n",
      "    x=mantisa\n",
      "    for i in xrange(1,52,1):\n",
      "        if x>=1:\n",
      "            x=str(x)\n",
      "            x=x[1:len(x)]\n",
      "            x=float(x)\n",
      "        x*=2\n",
      "        f+=str(x)[0]\n",
      "        \n",
      "    exponente=exponente+1023\n",
      "    return signo+str(decimalBinario(exponente,11))+ f\n",
      "    "
     ],
     "language": "python",
     "metadata": {},
     "outputs": [],
     "prompt_number": 1
    },
    {
     "cell_type": "code",
     "collapsed": false,
     "input": [
      "DPnormalizado(1.0)\n",
      "#no funciona con 0.085 (en SP), si funciona con 13.125 y con -15.2"
     ],
     "language": "python",
     "metadata": {},
     "outputs": [
      {
       "metadata": {},
       "output_type": "pyout",
       "prompt_number": 10,
       "text": [
        "'001111111111000000000000000000000000000000000000000000000000000'"
       ]
      }
     ],
     "prompt_number": 10
    },
    {
     "cell_type": "code",
     "collapsed": false,
     "input": [
      "DPnormalizado(1.5)"
     ],
     "language": "python",
     "metadata": {},
     "outputs": [
      {
       "metadata": {},
       "output_type": "pyout",
       "prompt_number": 11,
       "text": [
        "'001111111111100000000000000000000000000000000000000000000000000'"
       ]
      }
     ],
     "prompt_number": 11
    },
    {
     "cell_type": "markdown",
     "metadata": {},
     "source": [
      "For example, there are $2^{23}$(8,388,608) single-precision numbers in the\n",
      "interval . TODAVIA NO SE COMO SACARLO -.-\n",
      "\n",
      "http://citeseerx.ist.psu.edu/viewdoc/download?doi=10.1.1.168.6402&rep=rep1&type=pdf"
     ]
    }
   ],
   "metadata": {}
  }
 ]
}