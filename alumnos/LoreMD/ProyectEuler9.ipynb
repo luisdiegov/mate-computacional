{
 "metadata": {
  "name": "",
  "signature": "sha256:a1bdf8f5415a5cb55bb5bfb361329a72af949744e6351f33305ce98b5ff84d80"
 },
 "nbformat": 3,
 "nbformat_minor": 0,
 "worksheets": [
  {
   "cells": [
    {
     "cell_type": "heading",
     "level": 1,
     "metadata": {},
     "source": [
      "Special Pythagorean triplet"
     ]
    },
    {
     "cell_type": "markdown",
     "metadata": {},
     "source": [
      "A Pythagorean triplet is a set of three natural numbers, $a < b < c$, for which,\n",
      "\n",
      "$a^2 + b^2 = c^2$\n",
      "For example, $3^2 + 4^2 = 9 + 16 = 25 = 5^2$.\n",
      "\n",
      "There exists exactly one Pythagorean triplet for which $a + b + c = 1000$.\n",
      "Find the product abc."
     ]
    },
    {
     "cell_type": "code",
     "collapsed": false,
     "input": [
      "def triada(n):\n",
      "    a=0\n",
      "    b=0\n",
      "    c=0\n",
      "    bandera=False\n",
      "    for a in xrange(1,n,1):\n",
      "        for b in xrange(a,n,1):\n",
      "            for c in xrange(b,n,1):\n",
      "                if a*a + b*b == c*c and a+b+c==n:\n",
      "                    return a*b*c"
     ],
     "language": "python",
     "metadata": {},
     "outputs": [],
     "prompt_number": 10
    },
    {
     "cell_type": "code",
     "collapsed": false,
     "input": [
      "triada(1000)"
     ],
     "language": "python",
     "metadata": {},
     "outputs": [
      {
       "metadata": {},
       "output_type": "pyout",
       "prompt_number": 11,
       "text": [
        "31875000"
       ]
      }
     ],
     "prompt_number": 11
    },
    {
     "cell_type": "markdown",
     "metadata": {},
     "source": [
      "**Raciocinio:** Si solo pidieran la triada (a,b,c) este problema se podria resolver con el codigo expuesto en la celda de abajo. Sin embargo, como se requiere realizar una operaci\u00f3n con la triada, la soluci\u00f3n es traducir el \"list comprehension\" a una funci\u00f3n que pueda regresar a,b y c como valores por separado, para luego poderlos multiplicar.\n",
      "Creo que deber\u00eda de ir con un while (porque no sabes donde vas a parar, y porque hay un return a la mitad de la funci\u00f3n) pero no logre hacer que funcionara."
     ]
    },
    {
     "cell_type": "code",
     "collapsed": false,
     "input": [
      "[(a,b,c) for a in range(1, n) for b in range(a, n) for c in range(b, n) if a*a + b*b == c*c and a+b+c==1000]"
     ],
     "language": "python",
     "metadata": {},
     "outputs": [
      {
       "metadata": {},
       "output_type": "pyout",
       "prompt_number": 64,
       "text": [
        "[(200, 375, 425)]"
       ]
      }
     ],
     "prompt_number": 64
    },
    {
     "cell_type": "code",
     "collapsed": false,
     "input": [
      "def triada(n):\n",
      "    a=3\n",
      "    b=4\n",
      "    c=5\n",
      "    bandera=False\n",
      "    while not bandera:\n",
      "        while not bandera and b<a:\n",
      "            while not bandera and c<b:\n",
      "                if a*a + b*b == c*c and a+b+c==n:\n",
      "                    bandera=True\n",
      "                c+=1\n",
      "            b+=1\n",
      "        a+=1\n",
      "    return a,b,c"
     ],
     "language": "python",
     "metadata": {},
     "outputs": [],
     "prompt_number": 8
    }
   ],
   "metadata": {}
  }
 ]
}