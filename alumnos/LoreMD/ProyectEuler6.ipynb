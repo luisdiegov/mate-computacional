{
 "metadata": {
  "name": "",
  "signature": "sha256:351dddfe14fb7bf7edae332c6f123498c00a7967bdaa618b50ae033e2ba24355"
 },
 "nbformat": 3,
 "nbformat_minor": 0,
 "worksheets": [
  {
   "cells": [
    {
     "cell_type": "heading",
     "level": 1,
     "metadata": {},
     "source": [
      "Sum square difference"
     ]
    },
    {
     "cell_type": "markdown",
     "metadata": {},
     "source": [
      "The sum of the squares of the first ten natural numbers is,\n",
      "\n",
      "   $1^2 + 2^2 + ... + 10^2 = 385$\n",
      "The square of the sum of the first ten natural numbers is,\n",
      "\n",
      "   $(1 + 2 + ... + 10)^2 = 55^2 = 3025$\n",
      "Hence the difference between the sum of the squares of the first ten natural numbers and the square of the sum is $3025 \u2212 385 = 2640$.\n",
      "\n",
      "Find the difference between the sum of the squares of the first one hundred natural numbers and the square of the sum."
     ]
    },
    {
     "cell_type": "code",
     "collapsed": false,
     "input": [
      "\"\"\"suma los cuadrados\"\"\"\n",
      "def sumaCuadrados():\n",
      "    suma=0\n",
      "    for i in xrange(1,101,1):\n",
      "        suma += i**2\n",
      "    return suma"
     ],
     "language": "python",
     "metadata": {},
     "outputs": [],
     "prompt_number": 15
    },
    {
     "cell_type": "code",
     "collapsed": false,
     "input": [
      "\"\"\"eleva la suma al cuadrado\"\"\"\n",
      "def sumaCuadrada():\n",
      "    suma=0\n",
      "    for i in xrange(1,101,1):\n",
      "        suma+=i\n",
      "    return suma**2"
     ],
     "language": "python",
     "metadata": {},
     "outputs": [],
     "prompt_number": 16
    },
    {
     "cell_type": "code",
     "collapsed": false,
     "input": [
      "\"\"\"resta los dos resultados anteriores\"\"\"\n",
      "def diferencia(sumaCuadrados,sumaCuadrada):\n",
      "    return sumaCuadrada-sumaCuadrados"
     ],
     "language": "python",
     "metadata": {},
     "outputs": [],
     "prompt_number": 17
    },
    {
     "cell_type": "code",
     "collapsed": false,
     "input": [
      "diferencia(sumaCuadrados(), sumaCuadrada())"
     ],
     "language": "python",
     "metadata": {},
     "outputs": [
      {
       "metadata": {},
       "output_type": "pyout",
       "prompt_number": 18,
       "text": [
        "25164150"
       ]
      }
     ],
     "prompt_number": 18
    },
    {
     "cell_type": "markdown",
     "metadata": {},
     "source": [
      "**Raciocinio:** es una soluci\u00f3n separada en tres funciones (que se llaman al mismo tiempo), para mejor manejo; una funci\u00f3n suma los cuadrados, otra calcula el cuadrado de la suma y la \u00faltima se limita a restar los dos resultados.\n",
      "El rango tiene que llegar hasta 101 para que sume los 100 primeros n\u00fameros"
     ]
    }
   ],
   "metadata": {}
  }
 ]
}