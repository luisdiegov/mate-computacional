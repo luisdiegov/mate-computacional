{
 "metadata": {
  "name": "",
  "signature": "sha256:c8b9285578aa38950b2235cfa750f5bb903bef35dbb59fb8a6e1bb3b880fe58f"
 },
 "nbformat": 3,
 "nbformat_minor": 0,
 "worksheets": [
  {
   "cells": [
    {
     "cell_type": "heading",
     "level": 1,
     "metadata": {},
     "source": [
      "Project Euler\n",
      "\n"
     ]
    },
    {
     "cell_type": "heading",
     "level": 3,
     "metadata": {},
     "source": [
      "Problem I"
     ]
    },
    {
     "cell_type": "markdown",
     "metadata": {},
     "source": [
      "If we list all the natural numbers below $10$ that are multiples of $3$ or $5$, we get $3$, $5$, $6$ and $9$. The sum of these multiples is $23$.\n",
      "Find the sum of all the multiples of $3$ or $5$ below $1,000$."
     ]
    },
    {
     "cell_type": "heading",
     "level": 5,
     "metadata": {},
     "source": [
      "Soluci\u00f3n 1"
     ]
    },
    {
     "cell_type": "markdown",
     "metadata": {},
     "source": [
      "La funci\u00f3n es bastante sencilla: Para cada n\u00famero desde $3$ a $1000$, va checando si es divisible entre $3$ o $5$. En caso de ser verdadero\n",
      "ese n\u00famero se agrega a la variable suma, en caso de ser falso, no hace nada.\n",
      "Estoy seguro que no es la mejor soluci\u00f3n, pues esto es por fuerza bruta...es decir, se van probando todos los n\u00fameros de $3$ a $1000$."
     ]
    },
    {
     "cell_type": "code",
     "collapsed": false,
     "input": [
      "def suma_multiplos():\n",
      "    suma = 0\n",
      "    for i in range(3,1000):\n",
      "        if i%3 == 0 or i%5 == 0:\n",
      "            suma += i\n",
      "    return suma  \n",
      "suma_multiplos()"
     ],
     "language": "python",
     "metadata": {},
     "outputs": [
      {
       "metadata": {},
       "output_type": "pyout",
       "prompt_number": 6,
       "text": [
        "233168"
       ]
      }
     ],
     "prompt_number": 6
    },
    {
     "cell_type": "code",
     "collapsed": false,
     "input": [
      "from IPython.display import Image\n",
      "Image(url='http://www.trans4mind.com/personal_development/mathematics/series/naturalNumbersSum.gif')"
     ],
     "language": "python",
     "metadata": {},
     "outputs": [
      {
       "html": [
        "<img src=\"http://www.trans4mind.com/personal_development/mathematics/series/naturalNumbersSum.gif\"/>"
       ],
       "metadata": {},
       "output_type": "pyout",
       "prompt_number": 181,
       "text": [
        "<IPython.core.display.Image at 0x7fcee0491750>"
       ]
      }
     ],
     "prompt_number": 181
    },
    {
     "cell_type": "heading",
     "level": 5,
     "metadata": {},
     "source": [
      "Soluci\u00f3n 2\n"
     ]
    },
    {
     "cell_type": "markdown",
     "metadata": {},
     "source": [
      "M\u00e9todo m\u00e1s eficiente; es posible sacarlo con series (es m\u00e1s, solo utilizo a la compu como vil calculadora):\n",
      "\n",
      "Si 1 + 2 + . . . + n = n(n + 1)/ 2, entonces 3 + 6 + 9 + . . . + 3n = 3( 1 + 2 + . . . + n) = 3(n(n + 1))/2\n",
      "An\u00e1logamente, 5 + 10 + 15 + . . . + 5n = 5( 1 + 2 + . . . + n) = 5(n(n + 1))/2\n",
      "y 15 + 30 + 45 + . . . + 15n = 15( 1 + 2 + . . . + n) = 15(n(n + 1))/2\n",
      "\n",
      "Ahora que sabemos todo esto, lo \u00fanico que hay que hacer es usar el Principio de Inclusi\u00f3n-Exclusi\u00f3n:"
     ]
    },
    {
     "cell_type": "code",
     "collapsed": false,
     "input": [
      "import math\n",
      "\n",
      "def multiplos_3():\n",
      "    numero = int(math.floor(1000/3))\n",
      "    return 3*(numero*(numero + 1))/2\n",
      "\n",
      "def multiplos_5():\n",
      "    numero = int(math.floor(1000/5) - 1)\n",
      "    return 5*(numero*(numero + 1))/2\n",
      "\n",
      "def multiplos_15():\n",
      "    numero = int(1000/15)\n",
      "    return 15*(numero*(numero + 1))/2\n",
      "\n",
      "def resultado():\n",
      "    return multiplos_3() + multiplos_5() - multiplos_15() \n",
      "\n",
      "\"\"\"Se calcula de 15, pues es m\u00faltiplo de 5 Y 3, y se resta por ser\n",
      "    la intersecci\u00f3n de los otros dos conjuntos (m\u00faltiplos de 5 y m\u00faltiplos de 3, respectivamente)\"\"\"\n",
      "\n",
      "print resultado()\n"
     ],
     "language": "python",
     "metadata": {},
     "outputs": [
      {
       "output_type": "stream",
       "stream": "stdout",
       "text": [
        "233168\n"
       ]
      }
     ],
     "prompt_number": 11
    }
   ],
   "metadata": {}
  }
 ]
}