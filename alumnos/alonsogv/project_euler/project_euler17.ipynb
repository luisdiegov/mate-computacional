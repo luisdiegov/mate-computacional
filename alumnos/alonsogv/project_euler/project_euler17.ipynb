{
 "metadata": {
  "name": "",
  "signature": "sha256:a77b4a1b9ae0b8993d6fb85155efd750ba21af6a13ed9a2d2736fce06a5587c8"
 },
 "nbformat": 3,
 "nbformat_minor": 0,
 "worksheets": [
  {
   "cells": [
    {
     "cell_type": "heading",
     "level": 1,
     "metadata": {},
     "source": [
      "Project Euler "
     ]
    },
    {
     "cell_type": "heading",
     "level": 3,
     "metadata": {},
     "source": [
      "Problem XVII"
     ]
    },
    {
     "cell_type": "markdown",
     "metadata": {},
     "source": [
      "If the numbers 1 to 5 are written out in words: one, two, three, four, five, then there are 3 + 3 + 5 + 4 + 4 = 19 letters used in total.\n",
      "\n",
      "If all the numbers from 1 to 1000 (one thousand) inclusive were written out in words, how many letters would be used?\n",
      "\n",
      "\n",
      "NOTE: Do not count spaces or hyphens. For example, 342 (three hundred and forty-two) contains 23 letters and 115 (one hundred and fifteen) contains 20 letters. The use of \"and\" when writing out numbers is in compliance with British usage."
     ]
    },
    {
     "cell_type": "markdown",
     "metadata": {},
     "source": [
      "Primero contemos 1 - 10 (no hay un patr\u00f3n en particular)"
     ]
    },
    {
     "cell_type": "code",
     "collapsed": false,
     "input": [
      "def patrones(x):\n",
      "    return {\n",
      "        1: 'one',\n",
      "        2: 'two',\n",
      "        3: 'three',\n",
      "        4: 'four',\n",
      "        5: 'five',\n",
      "        6: 'six',\n",
      "        7: 'seven',\n",
      "        8: 'eight',\n",
      "        9: 'nine',\n",
      "        10: 'ten',\n",
      "        11: 'eleven',\n",
      "        12: 'twelve',\n",
      "        13: 'thirteen',\n",
      "        14: 'fourteen',\n",
      "        15: 'fifteen',\n",
      "        16: 'sixteen',\n",
      "        17: 'seventeen',\n",
      "        18: 'eighteen',\n",
      "        19: 'nineteen',\n",
      "        20: 'twenty',\n",
      "        30: 'thirty',\n",
      "        40: 'forty',\n",
      "        50: 'fifty',\n",
      "        60: 'sixty',\n",
      "        70: 'seventy',\n",
      "        80: 'eigthy',\n",
      "        90: 'ninety'\n",
      "    }[x]"
     ],
     "language": "python",
     "metadata": {},
     "outputs": [],
     "prompt_number": 67
    },
    {
     "cell_type": "code",
     "collapsed": false,
     "input": [
      "def conteo_uno_nueve():\n",
      "    palabra = ''\n",
      "    suma = 0\n",
      "    for i in range(1,10):\n",
      "        palabra = patrones(i)\n",
      "        suma = suma + len(palabra)\n",
      "    return suma\n",
      "        "
     ],
     "language": "python",
     "metadata": {},
     "outputs": [],
     "prompt_number": 80
    },
    {
     "cell_type": "code",
     "collapsed": false,
     "input": [],
     "language": "python",
     "metadata": {},
     "outputs": [],
     "prompt_number": 74
    },
    {
     "cell_type": "code",
     "collapsed": false,
     "input": [
      "def conteo_diez_diecinueve():\n",
      "    palabra = ''\n",
      "    suma = 0\n",
      "    for i in range(10,20):\n",
      "        palabra = patrones(i)\n",
      "        suma = suma + len(palabra)\n",
      "    return suma"
     ],
     "language": "python",
     "metadata": {},
     "outputs": [],
     "prompt_number": 81
    },
    {
     "cell_type": "code",
     "collapsed": false,
     "input": [],
     "language": "python",
     "metadata": {},
     "outputs": [],
     "prompt_number": 74
    },
    {
     "cell_type": "code",
     "collapsed": false,
     "input": [
      "def conteo_viente_noventaynueve():\n",
      "    palabra = ''\n",
      "    suma = 0\n",
      "    for i in range(2,10):\n",
      "        palabra = decenas(10*i)\n",
      "        suma = suma + len(palabra)\n",
      "    return 10*suma + 8*conteo_uno_nueve()"
     ],
     "language": "python",
     "metadata": {},
     "outputs": [],
     "prompt_number": 82
    },
    {
     "cell_type": "markdown",
     "metadata": {},
     "source": [
      "Aqu\u00ed va explicaci\u00f3n"
     ]
    },
    {
     "cell_type": "code",
     "collapsed": false,
     "input": [
      "def conteo_cien_mil():\n",
      "    return 100*conteo_uno_nueve() + 9*(conteo_uno_nueve() + conteo_diez_diecinueve() + conteo_viente_noventaynueve()) + 9*len('hundred') + 9*99*len('hundredand') "
     ],
     "language": "python",
     "metadata": {},
     "outputs": [],
     "prompt_number": 83
    },
    {
     "cell_type": "code",
     "collapsed": false,
     "input": [
      "def resultado():\n",
      "    suma = conteo_uno_nueve() + conteo_diez_diecinueve() + conteo_viente_noventaynueve() + conteo_cien_mil() + len('onethousand')\n",
      "    return suma\n",
      "\n",
      "resultado()"
     ],
     "language": "python",
     "metadata": {},
     "outputs": [
      {
       "metadata": {},
       "output_type": "pyout",
       "prompt_number": 84,
       "text": [
        "21124"
       ]
      }
     ],
     "prompt_number": 84
    }
   ],
   "metadata": {}
  }
 ]
}