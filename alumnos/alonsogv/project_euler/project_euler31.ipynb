{
 "metadata": {
  "name": "",
  "signature": "sha256:65e70e47d13bcc9ef6de45a874859ba255baac8fb85860f8c37b94663e995c4f"
 },
 "nbformat": 3,
 "nbformat_minor": 0,
 "worksheets": [
  {
   "cells": [
    {
     "cell_type": "heading",
     "level": 1,
     "metadata": {},
     "source": [
      "Project Euler"
     ]
    },
    {
     "cell_type": "heading",
     "level": 3,
     "metadata": {},
     "source": [
      "Problem XXXI"
     ]
    },
    {
     "cell_type": "markdown",
     "metadata": {},
     "source": [
      "In England the currency is made up of pound, \u00a3, and pence, p, and there are eight coins in general circulation:\n",
      "\n",
      "1p, 2p, 5p, 10p, 20p, 50p, \u00a31 (100p) and \u00a32 (200p).\n",
      "It is possible to make \u00a32 in the following way:\n",
      "\n",
      "1\u00d7\u00a31 + 1\u00d750p + 2\u00d720p + 1\u00d75p + 1\u00d72p + 3\u00d71p\n",
      "How many different ways can \u00a32 be made using any number of coins?"
     ]
    },
    {
     "cell_type": "markdown",
     "metadata": {},
     "source": [
      "\n",
      "\n",
      "\n",
      "Soy la persona que pas\u00f3 al pizarr\u00f3n para plantear el problema como una ecuaci\u00f3n lineal diofantina. El problema es que como son\n",
      "ocho condiciones (una por cada tipo de cambio), se deben de calcular las intersecciones de cada condici\u00f3n para dos, para tres y as\u00ed\n",
      "sucesivamente. Por lo que termina siendo muy engorroso plantearlo, aunque estoy seguro que bien planteado puede ser muy eficiente\n",
      "computacionalmente...\n",
      "Por esta raz\u00f3n opt\u00e9 por otra soluci\u00f3n, usando for's anidados"
     ]
    },
    {
     "cell_type": "code",
     "collapsed": false,
     "input": [
      "formas = 0\n",
      "for a in (0, 201, 200):\n",
      "    for b in (a,201, 100):\n",
      "        for c in (b, 201, 50): \n",
      "            for d in (c,201, 20):\n",
      "                for e in (d,201, 10):\n",
      "                    for f in (e,201, 5):\n",
      "                        for g in (f,201, 2):\n",
      "                            formas = formas + 1\n",
      "print formas\n",
      "\n"
     ],
     "language": "python",
     "metadata": {},
     "outputs": [
      {
       "output_type": "stream",
       "stream": "stdout",
       "text": [
        "2187\n"
       ]
      }
     ],
     "prompt_number": 83
    }
   ],
   "metadata": {}
  }
 ]
}