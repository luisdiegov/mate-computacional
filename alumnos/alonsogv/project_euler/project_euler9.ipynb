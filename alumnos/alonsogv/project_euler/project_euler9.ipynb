{
 "metadata": {
  "name": "",
  "signature": "sha256:caf37c485479b0140899f9a5f04e28e2f5c0020fd2064a0692a2c50bea964c94"
 },
 "nbformat": 3,
 "nbformat_minor": 0,
 "worksheets": [
  {
   "cells": [
    {
     "cell_type": "markdown",
     "metadata": {},
     "source": [
      "Queremos resolver hallar las soluciones para el siguiente sistema:\n",
      "\n",
      "a^2 + b^2 = c^2..................1\n",
      "\n",
      "y a + b + c = 1000...............2\n",
      "\n",
      "Despejemos a c de la segunda ecuaci\u00f3n, i.e., c = 1000 - a - b\n",
      "\n",
      "Elev\u00e1ndola al cuadrado, c^2 = (1000 - a - b)^2\n",
      "\n",
      "Finalmente sustituyendo en 1:\n",
      "\n",
      "a^2 + b^2 = (1000 - a - b)^2\n",
      "\n",
      "Expandiendo todos los t\u00e9rminos, queda que a^2 + b^2 = a^2 + 2ab - 2000a + b^2 - 2000b + 100000\n",
      "O bien:\n",
      "\n",
      "ab - 1000a - 1000b + 500000 = 0\n",
      "\n",
      "Despejando finalmente a y b:\n",
      "\n",
      "a != 1000\n",
      "\n",
      "b = 1000(a - 500)/(a - 1000)...................3\n",
      "\n",
      "Con esta ecuaci\u00f3n, ya tenemos una forma muy eficiente de hallar la triplet pitag\u00f3rica, aplicando un for a:"
     ]
    },
    {
     "cell_type": "code",
     "collapsed": false,
     "input": [
      "def pitagoras():\n",
      "    \n",
      "    a = 0\n",
      "    \"\"\"El c\u00f3digo busca cu\u00e1l es el ENTERO que satisface la igualdad,\n",
      "    dada por la explicaci\u00f3n anterior. Para saber si nuestro n\u00famero es entero, vemos si numerador divide al\n",
      "    denominador o viceversa\"\"\"\n",
      "    while a <= 500:\n",
      "        b = (1000*(a - 500))/(a - 1000)\n",
      "        if (1000*(a - 500))%(a - 1000) == 0:   \n",
      "            print a, b\n",
      "        a = a + 1\n",
      "\n",
      "pitagoras()"
     ],
     "language": "python",
     "metadata": {},
     "outputs": [
      {
       "output_type": "stream",
       "stream": "stdout",
       "text": [
        "0 500\n",
        "200 375\n",
        "375 200\n",
        "500 0\n"
       ]
      }
     ],
     "prompt_number": 86
    },
    {
     "cell_type": "markdown",
     "metadata": {},
     "source": [
      "Nuestra tiplet pitagorica es o a = 200, b = 375 o bien b = 200, a = 375"
     ]
    },
    {
     "cell_type": "code",
     "collapsed": false,
     "input": [
      "#Multiplicamos y ya estamos del otro lado:\n",
      "a = 200\n",
      "b = 375\n",
      "c = 1000 - a - b\n",
      "print a*b*c\n"
     ],
     "language": "python",
     "metadata": {},
     "outputs": [
      {
       "output_type": "stream",
       "stream": "stdout",
       "text": [
        "31875000\n"
       ]
      }
     ],
     "prompt_number": 89
    }
   ],
   "metadata": {}
  }
 ]
}