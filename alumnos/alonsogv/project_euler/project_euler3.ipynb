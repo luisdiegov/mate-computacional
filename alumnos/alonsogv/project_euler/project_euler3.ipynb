{
 "metadata": {
  "name": "",
  "signature": "sha256:ce8da8ad3d7f6989f71aeb2410ea172f123d8c76f53bff217b1a021697d49b53"
 },
 "nbformat": 3,
 "nbformat_minor": 0,
 "worksheets": [
  {
   "cells": [
    {
     "cell_type": "heading",
     "level": 1,
     "metadata": {},
     "source": [
      "Project Euler"
     ]
    },
    {
     "cell_type": "heading",
     "level": 3,
     "metadata": {},
     "source": [
      "Problem III"
     ]
    },
    {
     "cell_type": "markdown",
     "metadata": {},
     "source": [
      "The prime factors of $13195$ are $5$, $7$, $13$ and $29$.\n",
      "What is the largest prime factor of the number $600,851,475,143$ ?\n"
     ]
    },
    {
     "cell_type": "markdown",
     "metadata": {},
     "source": [
      "Para resolver el problema, usaremos el hecho de que el divisor m\u00e1s grande de cualquier n\u00famero es a lo m\u00e1s la ra\u00edz cuadrada del mismo. De esta forma, nuestra b\u00fasqueda se reduce considerablemente.\n",
      "Luego, por el Teorema Fundamental de la Aritm\u00e9tica, cualquier entero o es primo o es un producto de primos.\n",
      "E iniciamos con un contador en el primer primo mayor a $1$, el $2$. Si $2$ divide a $600,851,475,143$ entonces calculamos el cocientre entre ambos. En caso contrario, aumentamos en uno el contador y probamos con el $3$, y as\u00ed sucesivamente.\n",
      "\u00bfQu\u00e9 pasa si alguno de estos no es primo (por ejemplo, el $4$)?, pues forzosamente es producto de los primos anteriores (en el caso del $4$ es producto de $2$). Nuestra contador sigue aumentando, y por el TFA, nos aseguramos que ninguno de los n\u00fameros que vayamos revisando no es primo. Finalmente, nuestra b\u00fasqueda llega hasta la ra\u00edz cuadrada de $600,851,475,143$. Nuestro primo buscado es menor que $600,851,475,143$\n"
     ]
    },
    {
     "cell_type": "code",
     "collapsed": false,
     "input": [
      "def primo(numero):\n",
      "    primo = numero\n",
      "    contador = 2\n",
      "    while contador**2<= primo:\n",
      "        if primo % contador == 0:\n",
      "            primo = primo / contador   \n",
      "        elif primo % contador != 0:  \n",
      "            contador = contador + 1\n",
      "    return primo\n",
      "    \n",
      "print primo(600851475143)"
     ],
     "language": "python",
     "metadata": {},
     "outputs": [
      {
       "output_type": "stream",
       "stream": "stdout",
       "text": [
        "6857\n"
       ]
      }
     ],
     "prompt_number": 5
    },
    {
     "cell_type": "code",
     "collapsed": false,
     "input": [
      "def comprobacion():\n",
      "    if 600851475143%primo(600851475143) == 0:\n",
      "        return True\n",
      "    else:\n",
      "        return False\n",
      "print comprobacion()\n",
      "#Una comprobaci\u00f3n para los esc\u00e9pticos"
     ],
     "language": "python",
     "metadata": {},
     "outputs": [
      {
       "output_type": "stream",
       "stream": "stdout",
       "text": [
        "True\n"
       ]
      }
     ],
     "prompt_number": 9
    }
   ],
   "metadata": {}
  }
 ]
}