{
 "metadata": {
  "name": "",
  "signature": "sha256:631df14424c12e48440b901075edbeeecae63e64930074dcb92cbbd7a69d4182"
 },
 "nbformat": 3,
 "nbformat_minor": 0,
 "worksheets": [
  {
   "cells": [
    {
     "cell_type": "heading",
     "level": 1,
     "metadata": {},
     "source": [
      "Ejercicios de NumPy"
     ]
    },
    {
     "cell_type": "code",
     "collapsed": false,
     "input": [
      "%matplotlib inline\n",
      "import numpy as np\n",
      "import matplotlib as plt"
     ],
     "language": "python",
     "metadata": {},
     "outputs": [],
     "prompt_number": 1
    },
    {
     "cell_type": "heading",
     "level": 2,
     "metadata": {},
     "source": [
      "Pregunta 1"
     ]
    },
    {
     "cell_type": "markdown",
     "metadata": {},
     "source": [
      "Crea los siguientes arreglos con los tipos correctos. "
     ]
    },
    {
     "cell_type": "markdown",
     "metadata": {},
     "source": [
      "- Un arreglo de $5 \\times 5$ cuya diagonal sean $[2.0, 3.0, 4.0, 5.0]$\n",
      "- Un arreglo de $4 \\times 4$ cuyo \u00faltimo rengl\u00f3n sea $[1,2,3,4]$ y el resto sean $0$."
     ]
    },
    {
     "cell_type": "code",
     "collapsed": false,
     "input": [
      "arreglo5x5 = np.eye(5)\n",
      "valor = 1\n",
      "for i in range(1,5):\n",
      "    arreglo5x5[(i,i)] = valor + 1\n",
      "    valor += 1\n",
      "print arreglo5x5"
     ],
     "language": "python",
     "metadata": {},
     "outputs": [
      {
       "output_type": "stream",
       "stream": "stdout",
       "text": [
        "[[ 1.  0.  0.  0.  0.]\n",
        " [ 0.  2.  0.  0.  0.]\n",
        " [ 0.  0.  3.  0.  0.]\n",
        " [ 0.  0.  0.  4.  0.]\n",
        " [ 0.  0.  0.  0.  5.]]\n"
       ]
      }
     ],
     "prompt_number": 2
    },
    {
     "cell_type": "code",
     "collapsed": false,
     "input": [
      "arreglo4x4 = np.zeros((4,4)).astype(int)\n",
      "valor = 0\n",
      "for i in range(0,4):\n",
      "    arreglo4x4[(3,i)] = valor + 1\n",
      "    valor += 1\n",
      "\n",
      "print arreglo4x4"
     ],
     "language": "python",
     "metadata": {},
     "outputs": [
      {
       "output_type": "stream",
       "stream": "stdout",
       "text": [
        "[[0 0 0 0]\n",
        " [0 0 0 0]\n",
        " [0 0 0 0]\n",
        " [1 2 3 4]]\n"
       ]
      }
     ],
     "prompt_number": 3
    },
    {
     "cell_type": "heading",
     "level": 2,
     "metadata": {},
     "source": [
      "Pregunta 2"
     ]
    },
    {
     "cell_type": "markdown",
     "metadata": {},
     "source": [
      "En este ejercicio realizaremos una [**criba de Erat\u00f3stenes**](http://en.wikipedia.org/wiki/Sieve_of_Eratosthenes)"
     ]
    },
    {
     "cell_type": "markdown",
     "metadata": {},
     "source": [
      "<div class=\"alert alert-warning\">\n",
      "**Nota**: Ejercicio basado en el presentado en `C4P`.\n",
      "</div>"
     ]
    },
    {
     "cell_type": "markdown",
     "metadata": {},
     "source": [
      "(a) Crea un arreglo de booleanos de **shape** `(100,)`, con todos sus elementos `True`.  El \u00edndice representa el n\u00famero."
     ]
    },
    {
     "cell_type": "code",
     "collapsed": false,
     "input": [
      "booleano = np.ones(100,).astype(bool)\n",
      "print booleano \n",
      "\"\"\"Cuando empecemos a manipular el array booleano, la idea es que si aparece un False en la posici\u00f3n i-\u00e9sima es porque\n",
      "el i-\u00e9simo n\u00famero no es primo. O bien, si aparece un True, el n\u00famero correspondiente a su posici\u00f3n es primo\"\"\""
     ],
     "language": "python",
     "metadata": {},
     "outputs": [
      {
       "output_type": "stream",
       "stream": "stdout",
       "text": [
        "[ True  True  True  True  True  True  True  True  True  True  True  True\n",
        "  True  True  True  True  True  True  True  True  True  True  True  True\n",
        "  True  True  True  True  True  True  True  True  True  True  True  True\n",
        "  True  True  True  True  True  True  True  True  True  True  True  True\n",
        "  True  True  True  True  True  True  True  True  True  True  True  True\n",
        "  True  True  True  True  True  True  True  True  True  True  True  True\n",
        "  True  True  True  True  True  True  True  True  True  True  True  True\n",
        "  True  True  True  True  True  True  True  True  True  True  True  True\n",
        "  True  True  True  True]\n"
       ]
      },
      {
       "metadata": {},
       "output_type": "pyout",
       "prompt_number": 4,
       "text": [
        "'Cuando empecemos a manipular el array booleano, la idea es que si aparece un False en la posici\\xc3\\xb3n i-\\xc3\\xa9sima es porque\\nel i-\\xc3\\xa9simo n\\xc3\\xbamero no es primo. O bien, si aparece un True, el n\\xc3\\xbamero correspondiente a su posici\\xc3\\xb3n es primo'"
       ]
      }
     ],
     "prompt_number": 4
    },
    {
     "cell_type": "markdown",
     "metadata": {},
     "source": [
      "(b) \"Tacha\" los elementos `0` y `1`."
     ]
    },
    {
     "cell_type": "code",
     "collapsed": false,
     "input": [
      "booleano[0] = False\n",
      "booleano[1] = False #Los tachamos porque ninguno de los dos primeros son primos"
     ],
     "language": "python",
     "metadata": {},
     "outputs": [],
     "prompt_number": 5
    },
    {
     "cell_type": "markdown",
     "metadata": {},
     "source": [
      "(c) Para cada entero subsiguiente, tacha sus m\u00faltiplos. Una manera de hacerlo es el c\u00f3digo que se muestra. Explica que (sic) hace el c\u00f3digo, sobretodo explica que (sic) hace el *slicing*."
     ]
    },
    {
     "cell_type": "code",
     "collapsed": false,
     "input": [
      "maximo = int(np.sqrt(len(booleano))) \n",
      "\"\"\"El procedimiento de la criba nos dice que para buscar los primos menores a n, hay que hacer \n",
      "nuestra  b\u00fasqueda hasta m\u00e1ximo la ra\u00edz cuadrada de n\n",
      "El for lo que hace es lo siguiente (hagamos el razonamiento para una j arbitraria, con 2<=j<=maximo): \n",
      "empezando en j*2, es decir, en el primer m\u00faltiplo de j despu\u00e9s de la misma j, el slicing tacha todos los m\u00faltiplos de j en j...es decir,\n",
      "los que son m\u00faltiplos de j, en el rango mencionado, los vamos convirtiendo en False. Antes de que j avance en el for, \n",
      "el slicing autom\u00e1ticamente \"tacha\", de j en j, los sucesores de 2*j. \n",
      "El papel del for es ir haci\u00e9ndolo para todos los enteros despu\u00e9s de j. De esta forma, si nuestro n\u00famero es primo, estamos\n",
      "seguros que no fue tachado por nadie m\u00e1s antes que \u00e9l (porque no hay forma de expresarlo como m\u00faltiplo de los n\u00fameros anteriores). \n",
      "Si nuestro n\u00famero no es primo, por ejemplo, el 18, estamos seguros que ya fue tachado por el 2,3 y 6\"\"\"\n",
      "\n",
      "for j in range(2, maximo):\n",
      "    booleano[2*j::j] = False \n",
      "print booleano\n",
      "\n"
     ],
     "language": "python",
     "metadata": {},
     "outputs": [
      {
       "output_type": "stream",
       "stream": "stdout",
       "text": [
        "[False False  True  True False  True False  True False False False  True\n",
        " False  True False False False  True False  True False False False  True\n",
        " False False False False False  True False  True False False False False\n",
        " False  True False False False  True False  True False False False  True\n",
        " False False False False False  True False False False False False  True\n",
        " False  True False False False False False  True False False False  True\n",
        " False  True False False False False False  True False False False  True\n",
        " False False False False False  True False False False False False False\n",
        " False  True False False]\n"
       ]
      }
     ],
     "prompt_number": 6
    },
    {
     "cell_type": "markdown",
     "metadata": {},
     "source": [
      "(d) Mira la documentacion de `np.nonzero` para imprimir todos los n\u00fameros primos."
     ]
    },
    {
     "cell_type": "code",
     "collapsed": false,
     "input": [
      "print np.nonzero(booleano) #Con la funci\u00f3n np.nonzero imprimimos todos aquellos que tienen True en nuestra criba (El valor de True es 1 != 0)"
     ],
     "language": "python",
     "metadata": {},
     "outputs": [
      {
       "output_type": "stream",
       "stream": "stdout",
       "text": [
        "(array([ 2,  3,  5,  7, 11, 13, 17, 19, 23, 29, 31, 37, 41, 43, 47, 53, 59,\n",
        "       61, 67, 71, 73, 79, 83, 89, 97]),)\n"
       ]
      }
     ],
     "prompt_number": 7
    },
    {
     "cell_type": "markdown",
     "metadata": {},
     "source": [
      "(e) Encapsula lo que acabamos de hacer en una funci\u00f3n llamada `criba_eratostenes`, que reciba como argumento `maximo` el cual representa el tama\u00f1o del `array`. Muestra el resultado para `maximo = {10, 100, 200}`, usando un `for`."
     ]
    },
    {
     "cell_type": "code",
     "collapsed": false,
     "input": [
      "def criba_erastotenes(maximo):\n",
      "    booleano = np.ones(maximo,).astype(bool)\n",
      "    booleano[0] = False\n",
      "    booleano[1] = False \n",
      "    maximo = int(np.sqrt(maximo)) \n",
      "    for j in range(2, maximo):\n",
      "        booleano[2*j::j] = False \n",
      "    print np.nonzero(booleano)"
     ],
     "language": "python",
     "metadata": {},
     "outputs": [],
     "prompt_number": 37
    },
    {
     "cell_type": "code",
     "collapsed": false,
     "input": [
      "criba_erastotenes(10) #No hay mucho que explicar, solo se crea la funci\u00f3n y luego se imprimen los resultados.\n",
      "criba_erastotenes(100)\n",
      "criba_erastotenes(200)"
     ],
     "language": "python",
     "metadata": {},
     "outputs": [
      {
       "output_type": "stream",
       "stream": "stdout",
       "text": [
        "(array([2, 3, 5, 7, 9]),)\n",
        "(array([ 2,  3,  5,  7, 11, 13, 17, 19, 23, 29, 31, 37, 41, 43, 47, 53, 59,\n",
        "       61, 67, 71, 73, 79, 83, 89, 97]),)\n",
        "(array([  2,   3,   5,   7,  11,  13,  17,  19,  23,  29,  31,  37,  41,\n",
        "        43,  47,  53,  59,  61,  67,  71,  73,  79,  83,  89,  97, 101,\n",
        "       103, 107, 109, 113, 127, 131, 137, 139, 149, 151, 157, 163, 167,\n",
        "       173, 179, 181, 191, 193, 197, 199]),)\n"
       ]
      }
     ],
     "prompt_number": 36
    },
    {
     "cell_type": "heading",
     "level": 2,
     "metadata": {},
     "source": [
      "Pregunta 3"
     ]
    },
    {
     "cell_type": "markdown",
     "metadata": {},
     "source": [
      "Crea un [cubo rubik](http://en.wikipedia.org/wiki/Rubik%27s_Cube), partiendo de un arreglo de ceros y usando *slicing* dibuja cada una de las caras como si estuviera resuelto (cada colo un entero a partir del $1$). Muestra con *indexing* que est\u00e1 resuelto (es decir, imprime las seis caras). \u00bfCu\u00e1ntos elementos del arreglo quedaron en $0$?"
     ]
    },
    {
     "cell_type": "code",
     "collapsed": false,
     "input": [
      "cubo = np.zeros((6,3,3)).astype(int)\n",
      "print cubo"
     ],
     "language": "python",
     "metadata": {},
     "outputs": [
      {
       "output_type": "stream",
       "stream": "stdout",
       "text": [
        "[[[0 0 0]\n",
        "  [0 0 0]\n",
        "  [0 0 0]]\n",
        "\n",
        " [[0 0 0]\n",
        "  [0 0 0]\n",
        "  [0 0 0]]\n",
        "\n",
        " [[0 0 0]\n",
        "  [0 0 0]\n",
        "  [0 0 0]]\n",
        "\n",
        " [[0 0 0]\n",
        "  [0 0 0]\n",
        "  [0 0 0]]\n",
        "\n",
        " [[0 0 0]\n",
        "  [0 0 0]\n",
        "  [0 0 0]]\n",
        "\n",
        " [[0 0 0]\n",
        "  [0 0 0]\n",
        "  [0 0 0]]]\n"
       ]
      }
     ],
     "prompt_number": 9
    },
    {
     "cell_type": "code",
     "collapsed": false,
     "input": [
      "for j in range(0,7):\n",
      "    cubo[j-1,:,:] = j    \n",
      "print cubo \n",
      "#Aqu\u00ed est\u00e1 la impresi\u00f3n de las seis caras. NING\u00daN N\u00daMERO QUEDA EN 0 PUES LA INSTRUCCI\u00d3N DEC\u00cdA QUE LAS CARAS DEBEN DE EMPEZAR EN 1"
     ],
     "language": "python",
     "metadata": {},
     "outputs": [
      {
       "output_type": "stream",
       "stream": "stdout",
       "text": [
        "[[[1 1 1]\n",
        "  [1 1 1]\n",
        "  [1 1 1]]\n",
        "\n",
        " [[2 2 2]\n",
        "  [2 2 2]\n",
        "  [2 2 2]]\n",
        "\n",
        " [[3 3 3]\n",
        "  [3 3 3]\n",
        "  [3 3 3]]\n",
        "\n",
        " [[4 4 4]\n",
        "  [4 4 4]\n",
        "  [4 4 4]]\n",
        "\n",
        " [[5 5 5]\n",
        "  [5 5 5]\n",
        "  [5 5 5]]\n",
        "\n",
        " [[6 6 6]\n",
        "  [6 6 6]\n",
        "  [6 6 6]]]\n"
       ]
      }
     ],
     "prompt_number": 156
    },
    {
     "cell_type": "heading",
     "level": 2,
     "metadata": {},
     "source": [
      "Pregunta 4"
     ]
    },
    {
     "cell_type": "markdown",
     "metadata": {},
     "source": [
      "El **Sudoku** es un pasatiempo que consiste en un arreglo  $9 \\times 9$ de celdas, con d\u00edgitos del 1 al 9, de tal manera que no se repiten valores en cada columna, cada rengl\u00f3n y en cada subarreglo de $3\\times 3$."
     ]
    },
    {
     "cell_type": "markdown",
     "metadata": {},
     "source": [
      "(a) Crea una funci\u00f3n llamada `correcto` que reciba un `array` $1d$ de tama\u00f1o 9 e indique si est\u00e1 completo o no (i.e. incluye los n\u00fameros del 1 al 9."
     ]
    },
    {
     "cell_type": "code",
     "collapsed": false,
     "input": [
      "def correcto(arreglo):\n",
      "    if arreglo.shape == (9,):\n",
      "        resultado = np.zeros(9).astype(bool) #Se crea un arreglo de 9 Falses. Si el segundo for halla el valor, le pone True a la casilla correspondiente\n",
      "        for i in range(1, 10):\n",
      "            for j in range(0, len(arreglo)):\n",
      "                if arreglo[j] == i:\n",
      "                    resultado[i - 1] = True\n",
      "        return resultado.all() #La funci\u00f3n la conoc\u00ed por https://docs.python.org/2/library/functions.html#all \n",
      "    else:\n",
      "        return False"
     ],
     "language": "python",
     "metadata": {},
     "outputs": [],
     "prompt_number": 157
    },
    {
     "cell_type": "code",
     "collapsed": false,
     "input": [
      "#Pruebas de correcto\n",
      "arreglo1 = np.array([-1,-1,-1,1,-1,-1,-1,-1,-1]) #Solo est\u00e1 el 1\n",
      "arreglo2 = np.array([-1,0,0,9,-1,8,-1,2,3]) #Solo hay algunos valores\n",
      "arreglo3 = np.arange(1,10) #Correcto, en orden\n",
      "arreglo4 = np.array([8,2,3,4,6,5,7,1,9]) #Correcto en desorden\n",
      "\n",
      "\n",
      "print correcto(arreglo1)\n",
      "print correcto(arreglo2)\n",
      "print correcto(arreglo3)        \n",
      "print correcto(arreglo4)\n",
      "\n"
     ],
     "language": "python",
     "metadata": {},
     "outputs": [
      {
       "output_type": "stream",
       "stream": "stdout",
       "text": [
        "False\n",
        "False\n",
        "True\n",
        "True\n"
       ]
      }
     ],
     "prompt_number": 158
    },
    {
     "cell_type": "markdown",
     "metadata": {},
     "source": [
      "(b) Crea una funci\u00f3n llamada `descomponer3x3` que reciba un `array` de enteros de $9\\times 9$ y lo separe en sus 9 subarreglos $3\\times3$."
     ]
    },
    {
     "cell_type": "code",
     "collapsed": false,
     "input": [
      "def descomponer3x3(arreglo):\n",
      "    descomposicion = np.zeros((9,3,3)).astype(int)\n",
      "    arreglo = arreglo.reshape(27,3)\n",
      "    for k in range(0,3):\n",
      "        for i in range(3*k,3*(k+1)): \n",
      "            for j in range(0,3): \n",
      "                descomposicion[(i,j,)] += arreglo[(6*k + 3*j + i,)]\n",
      "    return descomposicion"
     ],
     "language": "python",
     "metadata": {},
     "outputs": [],
     "prompt_number": 159
    },
    {
     "cell_type": "code",
     "collapsed": false,
     "input": [
      "#Prueba de descomponer(3x3)\n",
      "arreglillo = np.arange(0,81)\n",
      "arreglillo = arreglillo.reshape((9,9)) \n",
      "#Cada nuevo arreglo de 3x3 corresponde a uno de los cuadrantes, empezando a contarlos de izquierda a derecha, del sudoku\n",
      "   \n",
      "print arreglillo\n",
      "print descomponer3x3(arreglillo)     "
     ],
     "language": "python",
     "metadata": {},
     "outputs": [
      {
       "output_type": "stream",
       "stream": "stdout",
       "text": [
        "[[ 0  1  2  3  4  5  6  7  8]\n",
        " [ 9 10 11 12 13 14 15 16 17]\n",
        " [18 19 20 21 22 23 24 25 26]\n",
        " [27 28 29 30 31 32 33 34 35]\n",
        " [36 37 38 39 40 41 42 43 44]\n",
        " [45 46 47 48 49 50 51 52 53]\n",
        " [54 55 56 57 58 59 60 61 62]\n",
        " [63 64 65 66 67 68 69 70 71]\n",
        " [72 73 74 75 76 77 78 79 80]]\n",
        "[[[ 0  1  2]\n",
        "  [ 9 10 11]\n",
        "  [18 19 20]]\n",
        "\n",
        " [[ 3  4  5]\n",
        "  [12 13 14]\n",
        "  [21 22 23]]\n",
        "\n",
        " [[ 6  7  8]\n",
        "  [15 16 17]\n",
        "  [24 25 26]]\n",
        "\n",
        " [[27 28 29]\n",
        "  [36 37 38]\n",
        "  [45 46 47]]\n",
        "\n",
        " [[30 31 32]\n",
        "  [39 40 41]\n",
        "  [48 49 50]]\n",
        "\n",
        " [[33 34 35]\n",
        "  [42 43 44]\n",
        "  [51 52 53]]\n",
        "\n",
        " [[54 55 56]\n",
        "  [63 64 65]\n",
        "  [72 73 74]]\n",
        "\n",
        " [[57 58 59]\n",
        "  [66 67 68]\n",
        "  [75 76 77]]\n",
        "\n",
        " [[60 61 62]\n",
        "  [69 70 71]\n",
        "  [78 79 80]]]\n"
       ]
      }
     ],
     "prompt_number": 160
    },
    {
     "cell_type": "markdown",
     "metadata": {},
     "source": [
      "(c) Crea la funci\u00f3n `esSolucion` que recibe un `array` de $9\\times 9$ y devuelve si es o no soluci\u00f3n del sudoku."
     ]
    },
    {
     "cell_type": "code",
     "collapsed": false,
     "input": [
      "def Region(region): #Recibe un arreglo, lo aplana y luego usa la funci\u00f3n de (a)\n",
      "    region = region.ravel()\n",
      "    valor = correcto(region)\n",
      "    return valor\n",
      "\n",
      "def regionesCorrectas(sudoku): #Recibe un arreglo de 9x9, luego checa que cada regi\u00f3n est\u00e9 \"completa\", de acuerdo con la definici\u00f3n de (a)\n",
      "    resultado = np.zeros(9).astype(bool) #Misma t\u00e9cnica que en (a), para checar que todo est\u00e9 correcto\n",
      "    sudoku = descomponer3x3(sudoku)\n",
      "    for i in range(0,9):\n",
      "        region = sudoku[i,:,:]\n",
      "        resultado[i] = Region(region)    \n",
      "    return resultado.all()\n",
      "\n",
      "def filasCorrectas(sudoku): #Checa que cada fila est\u00e9 completa\n",
      "    resultado = np.zeros(9).astype(bool)        \n",
      "    for i in range(0,9):\n",
      "        fila = sudoku[i,]\n",
      "        resultado[i] = correcto(fila)\n",
      "    return resultado.all()\n",
      "\n",
      "def columnasCorrectas(sudoku): #La misma gata pero revolcada\n",
      "    resultado = np.zeros(9).astype(bool)        \n",
      "    for i in range(0,9):\n",
      "        columna = sudoku[:,i]\n",
      "        resultado[i] = correcto(columna)\n",
      "    return resultado.all()\n",
      "\n",
      "def esSolucion(sudoku):\n",
      "    if sudoku.shape == (9,9):\n",
      "        resultado = np.zeros(3).astype(bool)\n",
      "        resultado[0] = regionesCorrectas(sudoku)\n",
      "        resultado[1] = filasCorrectas(sudoku)\n",
      "        resultado[2] = columnasCorrectas(sudoku)   \n",
      "        return resultado.all()\n",
      "    else:\n",
      "        return False\n",
      "\n"
     ],
     "language": "python",
     "metadata": {},
     "outputs": [],
     "prompt_number": 169
    },
    {
     "cell_type": "code",
     "collapsed": false,
     "input": [
      "NoEsSudoku1 = np.arange(0,81)  #Fallan los n\u00fameros\n",
      "NoEsSudoku1 = prueba3.reshape(9,9)\n",
      "\n",
      "Sudoku = np.array([4,3,5,2,6,9,7,8,1,6,8,2,5,7,1,4,9,3,1,9,7,8,3,4,5,6,2,8,2,6,1,9,5,3,4,7,3,7,4,6,8,2,9,1,5,9,5,1,7,4,3,6,2,8,5,1,9,3,2,6,8,7,4,2,4,8,9,5,7,1,3,6,7,6,3,4,1,8,2,5,9])\n",
      "Sudoku = LaCosa.reshape(9,9) #S\u00ed es sudoku\n",
      "\n",
      "NoEsSudoku2 = np.arange(0,3) #Falla la forma\n",
      "\n",
      "print Sudoku\n",
      "print esSolucion(Sudoku)\n",
      "print NoEsSudoku1\n",
      "print esSolucion(NoEsSudoku1)\n",
      "print NoEsSudoku2\n",
      "print esSolucion(NoEsSudoku2)\n"
     ],
     "language": "python",
     "metadata": {},
     "outputs": [
      {
       "output_type": "stream",
       "stream": "stdout",
       "text": [
        "[[4 3 5 2 6 9 7 8 1]\n",
        " [6 8 2 5 7 1 4 9 3]\n",
        " [1 9 7 8 3 4 5 6 2]\n",
        " [8 2 6 1 9 5 3 4 7]\n",
        " [3 7 4 6 8 2 9 1 5]\n",
        " [9 5 1 7 4 3 6 2 8]\n",
        " [5 1 9 3 2 6 8 7 4]\n",
        " [2 4 8 9 5 7 1 3 6]\n",
        " [7 6 3 4 1 8 2 5 9]]\n",
        "True\n",
        "[[ 0  1  2  3  4  5  6  7  8]\n",
        " [ 9 10 11 12 13 14 15 16 17]\n",
        " [18 19 20 21 22 23 24 25 26]\n",
        " [27 28 29 30 31 32 33 34 35]\n",
        " [36 37 38 39 40 41 42 43 44]\n",
        " [45 46 47 48 49 50 51 52 53]\n",
        " [54 55 56 57 58 59 60 61 62]\n",
        " [63 64 65 66 67 68 69 70 71]\n",
        " [72 73 74 75 76 77 78 79 80]]\n",
        "False\n",
        "[0 1 2]\n",
        "False\n"
       ]
      }
     ],
     "prompt_number": 175
    },
    {
     "cell_type": "heading",
     "level": 2,
     "metadata": {},
     "source": [
      "Pregunta 5"
     ]
    },
    {
     "cell_type": "markdown",
     "metadata": {},
     "source": [
      "Utiliza el archivo `sunspots.txt` (localizado en la carpeta `data`), el cual contiene el n\u00famero de manchas solares por cada mes desde enero de 1749. La primera columna es el mes, el segundo el n\u00famero de manchas"
     ]
    },
    {
     "cell_type": "markdown",
     "metadata": {},
     "source": [
      "(a) Escribe el c\u00f3digo que lea el archivo y haga una gr\u00e1fica de las manchas en funci\u00f3n del tiempo. Formatea el ejec $x$ para que se muestren cada 25 a\u00f1os empezando en $1750$. "
     ]
    },
    {
     "cell_type": "code",
     "collapsed": false,
     "input": [],
     "language": "python",
     "metadata": {},
     "outputs": []
    }
   ],
   "metadata": {}
  }
 ]
}