{
 "metadata": {
  "name": "",
  "signature": "sha256:ad723cca7c64dac7b8ce571a721b6f48491719c72874d1e9e51cff162af19dfd"
 },
 "nbformat": 3,
 "nbformat_minor": 0,
 "worksheets": [
  {
   "cells": [
    {
     "cell_type": "heading",
     "level": 1,
     "metadata": {},
     "source": [
      "IEEE"
     ]
    },
    {
     "cell_type": "markdown",
     "metadata": {},
     "source": [
      "Programa que convierte un n\u00famero ENTERO al formato IEEE"
     ]
    },
    {
     "cell_type": "code",
     "collapsed": false,
     "input": [
      "def decimal_a_binario(entero):\n",
      "    \n",
      "    dividendo = entero\n",
      "    residuoStr = ''\n",
      "    \n",
      "    while dividendo >= 2:\n",
      "        residuo = dividendo % 2\n",
      "        dividendo = dividendo / 2\n",
      "        residuoStr = str(residuo) + residuoStr\n",
      "    \n",
      "    return str(dividendo) + residuoStr\n",
      "\n",
      "print '0b' + decimal_a_binario(123456789) #Prueba\n",
      "print bin(123456789)"
     ],
     "language": "python",
     "metadata": {},
     "outputs": [
      {
       "output_type": "stream",
       "stream": "stdout",
       "text": [
        "0b111010110111100110100010101\n",
        "0b111010110111100110100010101\n"
       ]
      }
     ],
     "prompt_number": 3
    },
    {
     "cell_type": "code",
     "collapsed": false,
     "input": [
      "def signo(numero): #Recibe el n\u00famero, y devuelve su signo\n",
      "    if numero >= 0:\n",
      "        return '0'\n",
      "    else:\n",
      "        return '1'\n",
      "    \n",
      "def agregarPunto(binario): #Le agrega el punto al binario y lo conv\n",
      "    binario = binario[0] + '.' + binario[1:]\n",
      "    return binario\n",
      "\n",
      "def exponente(binarioConPunto): #Cuenta los lugares que hay del punto al final del n\u00famero. Este conteo ser\u00e1 el exponente.\n",
      "    suma = 0\n",
      "    i = len(binarioConPunto)\n",
      "    while i > 0:\n",
      "        suma += 1\n",
      "        i = i - 1\n",
      "    return suma -2\n",
      "\n",
      "def exponenteYbiasSP(binarioConPunto): #Calcula el bias a trav\u00e9s del exponente\n",
      "    resultado = exponente(binarioConPunto) + 127 #single digit precision\n",
      "    resultadoBinario = decimal_a_binario(resultado)\n",
      "    return resultadoBinario\n",
      "\n",
      "def exponenteYbiasDP(binarioConPunto): #Calcula el bias a trav\u00e9s del exponente\n",
      "    resultado = exponente(binarioConPunto) + 1023 #double digit precision\n",
      "    resultadoBinario = decimal_a_binario(resultado)\n",
      "    return resultadoBinario\n",
      "    \n",
      "def mantisaSP(binarioConPunto): #Su nombre lo dice todo :P\n",
      "    mantisa = ''\n",
      "    for i in range(2,len(binarioConPunto)):\n",
      "        mantisa = binarioConPunto[i] + mantisa\n",
      "    mantisa = mantisa[::-1]\n",
      "    for j in range(0,25-len(binarioConPunto)):\n",
      "        mantisa = mantisa + '0'\n",
      "    return mantisa\n",
      "\n",
      "def mantisaDP(binarioConPunto): #Su nombre lo dice todo :P\n",
      "    mantisa = ''\n",
      "    for i in range(2,len(binarioConPunto)):\n",
      "        mantisa = binarioConPunto[i] + mantisa\n",
      "    mantisa = mantisa[::-1]\n",
      "    for j in range(0,54-len(binarioConPunto)):\n",
      "        mantisa = mantisa + '0'\n",
      "    return mantisa\n"
     ],
     "language": "python",
     "metadata": {},
     "outputs": [],
     "prompt_number": 4
    },
    {
     "cell_type": "code",
     "collapsed": false,
     "input": [
      "def PuntoFlotanteSP(entero):       \n",
      "    resultado = signo(entero) + ' '\n",
      "    numero = decimal_a_binario(entero)\n",
      "    numero = agregarPunto(numero)\n",
      "    resultado = resultado + exponenteYbiasSP(numero) + ' ' + mantisaSP(numero)\n",
      "    return resultado\n",
      "\n",
      "def PuntoFlotanteDP(entero):       \n",
      "    resultado = signo(entero) + ' '\n",
      "    numero = decimal_a_binario(entero)\n",
      "    numero = agregarPunto(numero)\n",
      "    resultado = resultado + exponenteYbiasDP(numero) + ' ' + mantisaDP(numero)\n",
      "    return resultado"
     ],
     "language": "python",
     "metadata": {},
     "outputs": [],
     "prompt_number": 5
    },
    {
     "cell_type": "code",
     "collapsed": false,
     "input": [
      "print PuntoFlotanteSP(7)\n",
      "print PuntoFlotanteDP(7)\n",
      "\n",
      "print PuntoFlotanteSP(21)\n",
      "print PuntoFlotanteDP(21)"
     ],
     "language": "python",
     "metadata": {},
     "outputs": [
      {
       "output_type": "stream",
       "stream": "stdout",
       "text": [
        "0 10000001 11000000000000000000000\n",
        "0 10000000001 1100000000000000000000000000000000000000000000000000\n",
        "0 10000011 01010000000000000000000\n",
        "0 10000000011 0101000000000000000000000000000000000000000000000000\n"
       ]
      }
     ],
     "prompt_number": 30
    },
    {
     "cell_type": "code",
     "collapsed": false,
     "input": [
      "#Caso decimal. M\u00faltiplo de 5.\n",
      "\n",
      "def parteDecimal_a_Binario1(decimal): #Caso en el que el decimal algo 5\n",
      "    binario = ''   \n",
      "    inicio = ''\n",
      "    while inicio != '1':\n",
      "        decimal = str(decimal*2)\n",
      "        binario = decimal[0] + binario\n",
      "        inicio = decimal[0]\n",
      "        decimal = float(decimal)             \n",
      "    return binario[::-1]\n",
      "\n",
      "def DivisorEnteroDecimal(real): #Halla d\u00f3nde est\u00e1 el punto y luego divide el n\u00famero en parte entera y parte decimal, convertidos en binario\n",
      "    real = str(real) #Convierte al real en string\n",
      "    posicion = real.index('.') #Busca el lugar en donde est\u00e9 el punto\n",
      "    entera = real[0:posicion] #La parte entera es lo que est\u00e1 antes del punto\n",
      "    decimal = real[posicion + 1: len(real)] #La parte decimal es la que est\u00e1 a la izquiera del punto\n",
      "    entera = int(entera)\n",
      "    decimal = '.' + decimal\n",
      "    decimal = float(decimal)\n",
      "    entera = decimal_a_binario(entera)\n",
      "    decimal = parteDecimal_a_Binario1(decimal)\n",
      "    return entera, decimal\n",
      "\n",
      "def mantisaSPDecimal(tupla): #Su nombre lo dice todo :P\n",
      "    mantisa = ''\n",
      "    entera = tupla[0]\n",
      "    entera = agregarPunto(entera)\n",
      "    decimal = tupla[1]\n",
      "    for i in range(2,len(entera)):\n",
      "        mantisa = entera[i] + mantisa\n",
      "    mantisa = mantisa[::-1]\n",
      "    mantisa = mantisa + decimal    \n",
      "    for j in range(0,23-len(mantisa)):\n",
      "        mantisa = mantisa + '0'\n",
      "    return mantisa\n",
      "\n",
      "def mantisaDPDecimal(tupla): #Su nombre lo dice todo :P\n",
      "    mantisa = ''\n",
      "    entera = tupla[0]\n",
      "    entera = agregarPunto(entera)\n",
      "    decimal = tupla[1]\n",
      "    for i in range(2,len(entera)):\n",
      "        mantisa = entera[i] + mantisa\n",
      "    mantisa = mantisa[::-1]\n",
      "    mantisa = mantisa + decimal    \n",
      "    for j in range(0,52-len(mantisa)):\n",
      "        mantisa = mantisa + '0'\n",
      "    return mantisa\n",
      "\n"
     ],
     "language": "python",
     "metadata": {},
     "outputs": [],
     "prompt_number": 133
    },
    {
     "cell_type": "code",
     "collapsed": false,
     "input": [
      "def PuntoFlotanteSPDecimal(real):       \n",
      "    resultado = signo(real) + ' '\n",
      "    real = DivisorEnteroDecimal(real) \n",
      "    entero = agregarPunto(real[0])    \n",
      "    resultado = resultado + exponenteYbiasSP(entero) + ' ' + mantisaSPDecimal(real)\n",
      "    return resultado\n",
      "\n",
      "def PuntoFlotanteDPDecimal(real):       \n",
      "    resultado = signo(real) + ' '\n",
      "    real = DivisorEnteroDecimal(real)\n",
      "    entero = agregarPunto(real[0])\n",
      "    resultado = resultado + exponenteYbiasDP(entero) + ' ' + mantisaDPDecimal(real)\n",
      "    return resultado"
     ],
     "language": "python",
     "metadata": {},
     "outputs": [],
     "prompt_number": 134
    },
    {
     "cell_type": "code",
     "collapsed": false,
     "input": [
      "print PuntoFlotanteSPDecimal(13.125)\n",
      "print PuntoFlotanteDPDecimal(-13.125)"
     ],
     "language": "python",
     "metadata": {},
     "outputs": [
      {
       "output_type": "stream",
       "stream": "stdout",
       "text": [
        "0 10000010 10100100000000000000000\n",
        "1 10000000001 1300100000000000000000000000000000000000000000000000\n"
       ]
      }
     ],
     "prompt_number": 135
    },
    {
     "cell_type": "code",
     "collapsed": false,
     "input": [],
     "language": "python",
     "metadata": {},
     "outputs": []
    },
    {
     "cell_type": "code",
     "collapsed": false,
     "input": [],
     "language": "python",
     "metadata": {},
     "outputs": [
      {
       "metadata": {},
       "output_type": "pyout",
       "prompt_number": 110,
       "text": [
        "23"
       ]
      }
     ],
     "prompt_number": 110
    },
    {
     "cell_type": "code",
     "collapsed": false,
     "input": [
      "parteDecimal_a_Binario1(0.05)"
     ],
     "language": "python",
     "metadata": {},
     "outputs": [
      {
       "metadata": {},
       "output_type": "pyout",
       "prompt_number": 26,
       "text": [
        "'00001'"
       ]
      }
     ],
     "prompt_number": 26
    },
    {
     "cell_type": "code",
     "collapsed": false,
     "input": [
      "type('asdf'.index('a'))"
     ],
     "language": "python",
     "metadata": {},
     "outputs": [
      {
       "metadata": {},
       "output_type": "pyout",
       "prompt_number": 28,
       "text": [
        "int"
       ]
      }
     ],
     "prompt_number": 28
    },
    {
     "cell_type": "code",
     "collapsed": false,
     "input": [
      "def prueba():\n",
      "    if 1 > 0:\n",
      "        return True, 1\n",
      "prueba = prueba()\n",
      "\n",
      "no = (1,2)\n",
      "type(no)\n",
      "    "
     ],
     "language": "python",
     "metadata": {},
     "outputs": [
      {
       "metadata": {},
       "output_type": "pyout",
       "prompt_number": 129,
       "text": [
        "tuple"
       ]
      }
     ],
     "prompt_number": 129
    }
   ],
   "metadata": {}
  }
 ]
}