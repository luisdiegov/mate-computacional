{
 "metadata": {
  "name": "",
  "signature": "sha256:c50a099c703b0cbdd0d86cd9982afd84bf8f2c5629f0e5eba89dd7343a750ea0"
 },
 "nbformat": 3,
 "nbformat_minor": 0,
 "worksheets": [
  {
   "cells": [
    {
     "cell_type": "code",
     "collapsed": false,
     "input": [
      "import numpy as np\n",
      "def arreglo3x3(arreglo):\n",
      "    if arreglo.shape == (3,3):\n",
      "        return True\n",
      "    \n",
      "def todosDistintos(arreglo):\n",
      "    if arreglo3x3x(arreglo) == True:\n",
      "        pass\n",
      "\n",
      "\n",
      "def cuadrado(arreglo):    \n",
      "    #suma = arreglo.sum(0)\n",
      "    tabla = np.zeros(2).astype(bool)\n",
      "    if arreglo3x3(arreglo) == True:\n",
      "        columna = arreglo.sum(axis = 0)\n",
      "        fila = arreglo.sum(axis = 1)\n",
      "        if columna == fila:\n",
      "            tabla[0] = True\n",
      "        \n",
      "    return True\n"
     ],
     "language": "python",
     "metadata": {},
     "outputs": [],
     "prompt_number": 3
    },
    {
     "cell_type": "code",
     "collapsed": false,
     "input": [],
     "language": "python",
     "metadata": {},
     "outputs": []
    }
   ],
   "metadata": {}
  }
 ]
}