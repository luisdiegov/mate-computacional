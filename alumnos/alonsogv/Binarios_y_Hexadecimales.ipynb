{
 "metadata": {
  "name": "",
  "signature": "sha256:6d569fdd5543ac41b84733968fef52bc6380467d2357b2ffd060a4625192755b"
 },
 "nbformat": 3,
 "nbformat_minor": 0,
 "worksheets": [
  {
   "cells": [
    {
     "cell_type": "heading",
     "level": 1,
     "metadata": {},
     "source": [
      "Conversi\u00f3n de n\u00fameros binarios a hexadecimales"
     ]
    },
    {
     "cell_type": "markdown",
     "metadata": {},
     "source": [
      "1. Crea la funci\u00f3n complementaria: binario a decimal.\n",
      "\n",
      "2. Crea dos funciones una que transforme de binario a hexadecimal y otra de hexadecimal a binario"
     ]
    },
    {
     "cell_type": "markdown",
     "metadata": {},
     "source": [
      "Soluci\u00f3n:\n",
      "\n",
      "Nuestras funciones usan el Algoritmo de la divisi\u00f3n repetidamente. Para convertir de decimal a binario (hexadecimal), el n\u00famero decimal se va dividiendo entre dos (16), y vamos guardando el residuo, mientras continuamos dividiendo hasta que el dividendo sea menor que el divisor, dos (o 16).\n",
      "\n",
      "Adicionalmente, como en el sistema hexadecimal hay letras a partir del nueve, cree una funci\u00f3n que devuelve el valor correspondiente y es usada en el momento. \n",
      "\n",
      "Para convertir de binario (hexadecimal) a decimal, es mucho m\u00e1s sencillo. Simplemente se va multiplicando cada d\u00edgito por dos (16) elevado a la potencia correspondiente a la ubicaci\u00f3n del d\u00edgito, empezando a contar de derecha a izquierda. Luego se suman estas multiplicaciones y listo...ya estamos del otro lado."
     ]
    },
    {
     "cell_type": "code",
     "collapsed": false,
     "input": [
      "def decimal_a_binario(entero):\n",
      "    \n",
      "    dividendo = entero\n",
      "    residuoStr = ''\n",
      "    \n",
      "    while dividendo >= 2:\n",
      "        residuo = dividendo % 2\n",
      "        dividendo = dividendo / 2\n",
      "        residuoStr = str(residuo) + residuoStr\n",
      "    \n",
      "    return str(dividendo) + residuoStr\n",
      "\n",
      "print '0b' + decimal_a_binario(123456789) #Prueba\n",
      "print bin(123456789)"
     ],
     "language": "python",
     "metadata": {},
     "outputs": [
      {
       "output_type": "stream",
       "stream": "stdout",
       "text": [
        "0b111010110111100110100010101\n",
        "0b111010110111100110100010101\n"
       ]
      }
     ],
     "prompt_number": 3
    },
    {
     "cell_type": "code",
     "collapsed": false,
     "input": [
      "def binario_a_decimal(binario):\n",
      "    binario = str(binario)\n",
      "    binario = binario[::-1] #http://stackoverflow.com/questions/931092/reverse-a-string-in-python\n",
      "    numero = 0\n",
      "    for i in range(1,len(binario) + 1):\n",
      "        posicion = len(binario) - i\n",
      "        numero = int(binario[posicion])*(2**posicion) + numero\n",
      "    return numero\n",
      "\n",
      "binario_a_decimal(111010110111100110100010101) #Prueba\n",
      "        \n",
      "    "
     ],
     "language": "python",
     "metadata": {},
     "outputs": [
      {
       "metadata": {},
       "output_type": "pyout",
       "prompt_number": 157,
       "text": [
        "123456789"
       ]
      }
     ],
     "prompt_number": 157
    },
    {
     "cell_type": "markdown",
     "metadata": {},
     "source": [
      "Aqu\u00ed ir\u00eda una breve explicaci\u00f3n..."
     ]
    },
    {
     "cell_type": "code",
     "collapsed": false,
     "input": [
      "def letras_para_hexadecimal(x):\n",
      "    return {\n",
      "        10: 'A',\n",
      "        11: 'B',\n",
      "        12: 'C',\n",
      "        13: 'D',\n",
      "        14: 'E',\n",
      "        15: 'F'\n",
      "\n",
      "    }[x]\n",
      "letras_para_hexadecimal(10)\n",
      "#http://stackoverflow.com/questions/60208/replacements-for-switch-statement-in-python\n",
      "\n",
      "def Inversa_de_letras_para_hexadecimal(x):\n",
      "    return {\n",
      "        '0': 0,\n",
      "        '1': 1,\n",
      "        '2': 2,\n",
      "        '3': 3,\n",
      "        '4': 4,\n",
      "        '5': 5,\n",
      "        '6': 6,\n",
      "        '7': 7,\n",
      "        '8': 8,\n",
      "        '9': 9,\n",
      "        'A': 10,\n",
      "        'B': 11,\n",
      "        'C': 12,\n",
      "        'D': 13,\n",
      "        'E': 14,\n",
      "        'F': 15\n",
      "\n",
      "    }[x]"
     ],
     "language": "python",
     "metadata": {},
     "outputs": [],
     "prompt_number": 289
    },
    {
     "cell_type": "code",
     "collapsed": false,
     "input": [
      "def decimal_a_hexadecimal(entero):\n",
      "    \n",
      "    dividendo = entero\n",
      "    residuoStr = ''\n",
      "    \n",
      "    while dividendo >= 16:\n",
      "        residuo = dividendo % 16\n",
      "        dividendo = dividendo / 16\n",
      "        if residuo > 9:\n",
      "            residuo = letras_para_hexadecimal(residuo)\n",
      "        residuoStr = str(residuo) + residuoStr\n",
      "    return str(dividendo) + residuoStr\n",
      "\n",
      "decimal_a_hexadecimal(123456789) #Prueba"
     ],
     "language": "python",
     "metadata": {},
     "outputs": [
      {
       "metadata": {},
       "output_type": "pyout",
       "prompt_number": 296,
       "text": [
        "'75BCD15'"
       ]
      }
     ],
     "prompt_number": 296
    },
    {
     "cell_type": "code",
     "collapsed": false,
     "input": [
      "def hexadecimal_a_decimal(hexadecimal):\n",
      "    hexadecimal = hexadecimal[::-1] \n",
      "    numero = 0\n",
      "    for i in range(1,len(hexadecimal) + 1):\n",
      "                \n",
      "        posicion = len(hexadecimal) - i\n",
      "        \n",
      "        coeficiente = Inversa_de_letras_para_hexadecimal(hexadecimal[posicion])\n",
      "                        \n",
      "        numero = coeficiente*(16**posicion) + numero\n",
      "        \n",
      "    return numero\n",
      "\n",
      "hexadecimal_a_decimal('75BCD15') #Prueba"
     ],
     "language": "python",
     "metadata": {},
     "outputs": [
      {
       "metadata": {},
       "output_type": "pyout",
       "prompt_number": 302,
       "text": [
        "123456789"
       ]
      }
     ],
     "prompt_number": 302
    }
   ],
   "metadata": {}
  }
 ]
}