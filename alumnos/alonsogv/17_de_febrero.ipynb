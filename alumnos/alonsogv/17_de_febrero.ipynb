{
 "metadata": {
  "name": "",
  "signature": "sha256:401e7f291a11d62e7fa136b6e78265f3fa91349e08e6505b35cf32c42f36e36a"
 },
 "nbformat": 3,
 "nbformat_minor": 0,
 "worksheets": [
  {
   "cells": [
    {
     "cell_type": "markdown",
     "metadata": {},
     "source": [
      "Clase 17/02/2015"
     ]
    },
    {
     "cell_type": "code",
     "collapsed": false,
     "input": [
      "def CalculoEpsilon(): #Calcula el n\u00famero epsilon de la m\u00e1quina\n",
      "    NumeroEpsilon = 1.0\n",
      "    while (1.0 + 1.0/2 * NumeroEpsilon) != 1.0:\n",
      "        NumeroEpsilon = 1.0/2 * NumeroEpsilon\n",
      "    return NumeroEpsilon\n",
      "\n",
      "CalculoEpsilon()"
     ],
     "language": "python",
     "metadata": {},
     "outputs": [
      {
       "metadata": {},
       "output_type": "pyout",
       "prompt_number": 18,
       "text": [
        "2.220446049250313e-16"
       ]
      }
     ],
     "prompt_number": 18
    }
   ],
   "metadata": {}
  }
 ]
}