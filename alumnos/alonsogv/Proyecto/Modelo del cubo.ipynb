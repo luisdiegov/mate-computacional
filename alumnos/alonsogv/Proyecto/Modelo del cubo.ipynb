{
 "metadata": {
  "name": "",
  "signature": "sha256:485aa1b8d4a2a797cb7a07946b3bfe8ca936ad27376796eb075520283488f7e3"
 },
 "nbformat": 3,
 "nbformat_minor": 0,
 "worksheets": [
  {
   "cells": [
    {
     "cell_type": "markdown",
     "metadata": {},
     "source": [
      " Checa que una cu\u00e1drupla sea v\u00e1lida y pertenezca al grupo del cubo rubik. (V\u00e9ase 302 notes, p\u00e1gina 233)\n",
      "    "
     ]
    },
    {
     "cell_type": "code",
     "collapsed": false,
     "input": [
      "import numpy as np\n",
      "import random"
     ],
     "language": "python",
     "metadata": {},
     "outputs": [],
     "prompt_number": 81
    },
    {
     "cell_type": "code",
     "collapsed": false,
     "input": [
      "def EntradaValida(a,b,c,d): #Falta revisar que a solo tenga elementos entre 1 y 8, b entre 1 y 12, c entre 0 y 2, d entre 0 y 1\n",
      "    \n",
      "    \"\"\"a array de tama\u00f1o 8, con elementos \u00fanicos por ser permutaci\u00f3n\n",
      "       b array de tama\u00f1o 12, con elementos \u00fanicos por ser permutaci\u00f3n\n",
      "       c array de tama\u00f1o 8, cuyas entradas solo pueden ser 0,1,2\n",
      "       d array de tama\u00f1o 12, cuyas entradas solo pueden ser 0,1\"\"\"\n",
      "    \n",
      "    EntradaValida = np.zeros(3).astype(bool)\n",
      "    \n",
      "    #Primero checamos que las longitudes sean v\u00e1lidas\n",
      "    \n",
      "    longitudes = np.zeros(4).astype(bool) #Crea un array de cuatro Falses. Se cambian las entradas por Trues si se cumple la condici\u00f3n.\n",
      "    if len(a) == 8: #Permutaci\u00f3n en S8\n",
      "        longitudes[0] = True\n",
      "    if len(b) == 12: #Permutaci\u00f3n en S12\n",
      "        longitudes[1] = True\n",
      "    if len(c) == 8: #Elemento en (Z3)^8\n",
      "        longitudes[2] = True\n",
      "    if len(d) == 12: #Elemento en (Z2)^12\n",
      "        longitudes[3] = True\n",
      "    EntradaValida[0] = longitudes.all()  #Si todas las condiciones son v\u00e1lidas, devuelve True.  \n",
      "            \n",
      "    \"\"\"Como a y b son permutaciones, no puede haber elementos repetidos.\n",
      "    Para \"modelarlas\", la entrada i-\u00e9sima del array corresponde a la re ubicaci\u00f3n del elemento a esa nueva posici\u00f3n,\n",
      "    por ejemplo, (1,2,3,4,5,6,8,7), nos dice que se intercambi\u00f3 la entrada s\u00e9ptima por la octava.\n",
      "    De esta manera, una permutaci\u00f3n en S8 es v\u00e1lida si tiene ocho elementos \u00fanicos\"\"\"\n",
      "    \n",
      "    permutaciones = np.zeros(2).astype(bool)\n",
      "    if len(np.unique(a)) == 8:\n",
      "        permutaciones[0] = True\n",
      "    if len(np.unique(b)) == 12:\n",
      "        permutaciones[1] = True\n",
      "    EntradaValida[1] = permutaciones.all() #Si todas las condiciones son v\u00e1lidas, devuelve True\n",
      "    \n",
      "    #Ahora hay que checar que c y d solo tengan 0,1,2 y 0,1 respectivamente.\n",
      "    enterosModuloN = np.ones(2).astype(bool) #Lo hacemos ahora con un arreglo inicialmente con Trues.\n",
      "    arrC = np.unique(c)\n",
      "    arrD = np.unique(d)\n",
      "    \n",
      "    x = random.randint(3, 100) #Falta revisar bien esto \u00faltimo...\n",
      "    y = random.randint(2,100)\n",
      "    if (x != 0 and x != 1 and x != 2) and (x in arrC):\n",
      "        enterosModuloN[0] = False\n",
      "    if (y != 0 and y != 1) and (y in arrD):\n",
      "        enterosModuloN[1] = False\n",
      "    \n",
      "    EntradaValida[2] = enterosModuloN.all() #Si todas las condiciones son v\u00e1lidas, devuelve True\n",
      "    \n",
      "    return EntradaValida.all()"
     ],
     "language": "python",
     "metadata": {},
     "outputs": [],
     "prompt_number": 93
    },
    {
     "cell_type": "code",
     "collapsed": false,
     "input": [
      "a0 = np.array([1,2,3,4,5,6,7,8]) #la identidad en S8\n",
      "b0 = np.array([1,2,3,4,5,6,7,8,9,10,11,12]) #la identidad en S12\n",
      "c0 = np.array([0,0,0,0,0,0,0,0]) #La identidad en (Z3)^8\n",
      "d0 = np.array([0,0,0,0,0,0,0,0,0,0,0,0]) #La identidad en (Z2)^12\n",
      "\n",
      "#Esta cu\u00e1drupla corresponde al cubo resuelto\n",
      "print EntradaValida(a0,b0,c0,d0)"
     ],
     "language": "python",
     "metadata": {},
     "outputs": [
      {
       "output_type": "stream",
       "stream": "stdout",
       "text": [
        "True\n"
       ]
      }
     ],
     "prompt_number": 120
    },
    {
     "cell_type": "code",
     "collapsed": false,
     "input": [
      "a1 = np.array([1,6,2,4,5,7,3,8]) #la identidad en S8\n",
      "b1 = np.array([1,6,3,4,5,10,2,8,9,7,11,12]) #la identidad en S12\n",
      "c1 = np.array([0,1,2,0,0,2,1,0]) #La identidad en (Z3)^8\n",
      "d1 = np.array([0,1,0,0,0,1,1,0,0,1,0,0]) #La identidad en (Z2)^12\n",
      "\n",
      "#Ejemplo tomado de 302 notes, p\u00e1gina 234\n",
      "print EntradaValida(a1,b1,c1,d1)"
     ],
     "language": "python",
     "metadata": {},
     "outputs": [
      {
       "output_type": "stream",
       "stream": "stdout",
       "text": [
        "True\n"
       ]
      }
     ],
     "prompt_number": 133
    },
    {
     "cell_type": "markdown",
     "metadata": {},
     "source": [
      "Usando el Teorema Fundamental de la Cubolog\u00eda I, checa que una cu\u00e1drupla corresponda a un cubo legal. (V\u00e9ase 302 notes, p\u00e1gina 235)\n",
      "    "
     ]
    },
    {
     "cell_type": "code",
     "collapsed": false,
     "input": [
      "def CuboValido(a,b,c,d): \n",
      "    CuboValido = np.zeros(2).astype(bool)\n",
      "    #Condici\u00f3n 1:\n",
      "    if np.sum(c) % 3 == 0:\n",
      "        CuboValido[0] = True\n",
      "    #Condici\u00f3n 2:\n",
      "    if np.sum(d) % 2 == 0:\n",
      "        CuboValido[1] = True\n",
      "    #Falta condici\u00f3n 3:\n",
      "    \n",
      "    return CuboValido.all()"
     ],
     "language": "python",
     "metadata": {},
     "outputs": [],
     "prompt_number": 134
    },
    {
     "cell_type": "code",
     "collapsed": false,
     "input": [
      "print CuboValido(a0,b0,c0,d0)\n",
      "print CuboValido(a1,b1,c1,d1)"
     ],
     "language": "python",
     "metadata": {},
     "outputs": [
      {
       "output_type": "stream",
       "stream": "stdout",
       "text": [
        "True\n",
        "True\n"
       ]
      }
     ],
     "prompt_number": 135
    }
   ],
   "metadata": {}
  }
 ]
}