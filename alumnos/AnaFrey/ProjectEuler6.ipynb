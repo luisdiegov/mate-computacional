{
 "metadata": {
  "name": "",
  "signature": "sha256:9d5001b46cc5e79a0916ee1523ade0cb3350046cc552609a42e4d090440362cd"
 },
 "nbformat": 3,
 "nbformat_minor": 0,
 "worksheets": [
  {
   "cells": [
    {
     "cell_type": "code",
     "collapsed": false,
     "input": [
      "SumaCuadrado=0\n",
      "for i in range(1, 101):\n",
      "    SumaCuadrado+=i*i\n",
      "print \"suma de los primeros 100 numeros al cuadrado\"\n",
      "print SumaCuadrado\n",
      "\n",
      "Suma=0\n",
      "for i in range (1, 101):\n",
      "    Suma+=i\n",
      "Suma=Suma**2\n",
      "print \"Cuadrado de la suma de los primeros 100 numeros\"\n",
      "print Suma\n",
      "\n",
      "Diferencia=0\n",
      "Diferencia=Suma-SumaCuadrado\n",
      "print \"Diferencia\"\n",
      "print Diferencia\n"
     ],
     "language": "python",
     "metadata": {},
     "outputs": [
      {
       "output_type": "stream",
       "stream": "stdout",
       "text": [
        "suma de los primeros 100 numeros al cuadrado\n",
        "338350\n",
        "Cuadrado de la suma de los primeros 100 numeros\n",
        "25502500\n",
        "Diferencia\n",
        "25164150\n"
       ]
      }
     ],
     "prompt_number": 4
    },
    {
     "cell_type": "code",
     "collapsed": false,
     "input": [],
     "language": "python",
     "metadata": {},
     "outputs": []
    },
    {
     "cell_type": "code",
     "collapsed": false,
     "input": [],
     "language": "python",
     "metadata": {},
     "outputs": []
    }
   ],
   "metadata": {}
  }
 ]
}