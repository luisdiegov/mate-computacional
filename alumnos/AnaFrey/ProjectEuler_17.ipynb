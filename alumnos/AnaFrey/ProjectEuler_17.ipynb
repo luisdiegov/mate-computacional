{
 "metadata": {
  "name": "",
  "signature": "sha256:9ef75e7c2f54c473fcc4255350a2a81d16ee8c52b0f9012eb3c4125d92693607"
 },
 "nbformat": 3,
 "nbformat_minor": 0,
 "worksheets": [
  {
   "cells": [
    {
     "cell_type": "code",
     "collapsed": false,
     "input": [
      "#lista de los primeros 9 contados a mano\n",
      "Lis1a9=[ 3, 3, 5, 4, 4, 3, 5, 5, 4]\n",
      "#lista del 10 a 19\n",
      "Lis10a19=[3, 6, 6, 8, 8, 7, 7, 9, 8, 8]\n",
      "#lista de 20, 30, 40, 50, 60, 70, 80, 90\n",
      "Lis20a90=[6, 6, 5, 5, 5, 7, 6, 6]\n",
      "#letras de one thousand\n",
      "t=11\n",
      "#letras en hundred and\n",
      "x=10\n",
      "suma1=0\n",
      "suma2=0\n",
      "suma3=0\n",
      "suma4=0\n",
      "sumaAux=0\n",
      "sumaTotal=0\n",
      "#cuenta del 1 al 9\n",
      "for i in range(0,len(Lis1a9)):\n",
      "    suma1+=Lis1a9[i]\n",
      "#cuenta del 10 al 19\n",
      "for i in range(0, len(Lis10a19)):\n",
      "    suma2+=Lis10a19[i]\n",
      "#cuenta del 20 al 99\n",
      "for i in range(0,len(Lis20a90)):\n",
      "    suma3+=Lis20a90[i]*10 +suma1\n",
      "sumaAux=suma1+suma2+suma3\n",
      "#cuenta del 100 al 999\n",
      "for i in range(0,len(Lis1a9)):\n",
      "    suma4+=(Lis1a9[i]+x)*99 +sumaT+ Lis1a9[i]+7\n",
      "sumaTotal=sumaAux+suma4+t\n",
      "print sumaTotal"
     ],
     "language": "python",
     "metadata": {},
     "outputs": [
      {
       "output_type": "stream",
       "stream": "stdout",
       "text": [
        "21124\n"
       ]
      }
     ],
     "prompt_number": 21
    },
    {
     "cell_type": "code",
     "collapsed": false,
     "input": [],
     "language": "python",
     "metadata": {},
     "outputs": []
    }
   ],
   "metadata": {}
  }
 ]
}