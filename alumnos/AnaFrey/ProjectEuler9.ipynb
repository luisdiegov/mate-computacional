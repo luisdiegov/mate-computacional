{
 "metadata": {
  "name": "",
  "signature": "sha256:da727da36b50d84820c6d193f252a9b03e04dc59976d82d4c34515252096f8cc"
 },
 "nbformat": 3,
 "nbformat_minor": 0,
 "worksheets": [
  {
   "cells": [
    {
     "cell_type": "code",
     "collapsed": false,
     "input": [
      "x=0\n",
      "y=0\n",
      "z=0\n",
      "p=1\n",
      "for x in range(1, 300):\n",
      "    for y in range(1, 500) :\n",
      "        for z in range(1, 500):\n",
      "            if x**2+y**2==z**2 and x+y+z==1000:\n",
      "                print x, y, z\n",
      "                p*=x*y*z\n",
      "                print \"Product of the pythagorean triplet\"\n",
      "                print p"
     ],
     "language": "python",
     "metadata": {},
     "outputs": [
      {
       "output_type": "stream",
       "stream": "stdout",
       "text": [
        "200 375 425\n",
        "Product of the pythagorean triplet\n",
        "31875000\n"
       ]
      }
     ],
     "prompt_number": 26
    },
    {
     "cell_type": "code",
     "collapsed": false,
     "input": [],
     "language": "python",
     "metadata": {},
     "outputs": []
    },
    {
     "cell_type": "code",
     "collapsed": false,
     "input": [],
     "language": "python",
     "metadata": {},
     "outputs": [],
     "prompt_number": 26
    },
    {
     "cell_type": "code",
     "collapsed": false,
     "input": [
      "\n"
     ],
     "language": "python",
     "metadata": {},
     "outputs": [],
     "prompt_number": 23
    }
   ],
   "metadata": {}
  }
 ]
}