{
 "metadata": {
  "name": "",
  "signature": "sha256:27c6ad150a498cb1a128b729cef8bd4f1a2a9dbd01f69e7e041b4b63008fc27c"
 },
 "nbformat": 3,
 "nbformat_minor": 0,
 "worksheets": [
  {
   "cells": [
    {
     "cell_type": "code",
     "collapsed": false,
     "input": [
      "def decimalBinario(n):\n",
      "    ans = 0\n",
      "    b = 1 \n",
      "    assert (n <= 127 and n >= -128), \"Overflow\"\n",
      "    if n < 0:\n",
      "        n = 256 + n\n",
      "    while n > 0:\n",
      "        if n % 2 == 1:\n",
      "            ans += b\n",
      "        b *= 10\n",
      "        n /= 2 \n",
      "    print ans"
     ],
     "language": "python",
     "metadata": {},
     "outputs": [],
     "prompt_number": 28
    },
    {
     "cell_type": "code",
     "collapsed": false,
     "input": [
      "decimalBinario(121)"
     ],
     "language": "python",
     "metadata": {},
     "outputs": [
      {
       "output_type": "stream",
       "stream": "stdout",
       "text": [
        "1111001\n"
       ]
      }
     ],
     "prompt_number": 38
    }
   ],
   "metadata": {}
  }
 ]
}