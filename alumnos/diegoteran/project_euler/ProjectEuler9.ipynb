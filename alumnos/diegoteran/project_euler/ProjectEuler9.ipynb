{
 "metadata": {
  "name": "",
  "signature": "sha256:72f0fbcf18645445028cae221482c94b88597db634462ed44a9e67207a488d1a"
 },
 "nbformat": 3,
 "nbformat_minor": 0,
 "worksheets": [
  {
   "cells": [
    {
     "cell_type": "heading",
     "level": 1,
     "metadata": {},
     "source": [
      "Project Euler #9 - Special Pythagorean Triplet"
     ]
    },
    {
     "cell_type": "markdown",
     "metadata": {},
     "source": [
      "Tomo todos a,b tal que a <= b y consigo c.\n",
      "Despu\u00e9s checo si cumplen el ser una terna pitag\u00f3rica."
     ]
    },
    {
     "cell_type": "code",
     "collapsed": false,
     "input": [
      "for a in range(1,334): #El m\u00e1s peque\u00f1o tiene que ser menor que 334.\n",
      "\tfor b in range(a, 1000):\n",
      "\t\tc = 1000 - (a + b) #Consigo c por la primera ecuaci\u00f3n.\n",
      "\t\tif c*c == a*a + b*b: #Checo si cumplen la otra ecuaci\u00f3n.\n",
      "\t\t\tprint a*b*c "
     ],
     "language": "python",
     "metadata": {},
     "outputs": [
      {
       "output_type": "stream",
       "stream": "stdout",
       "text": [
        "31875000\n"
       ]
      }
     ],
     "prompt_number": 1
    }
   ],
   "metadata": {}
  }
 ]
}