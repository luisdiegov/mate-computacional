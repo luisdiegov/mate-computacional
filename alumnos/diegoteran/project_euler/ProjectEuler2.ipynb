{
 "metadata": {
  "name": "",
  "signature": "sha256:29a93aabd049e9b3699fba1244faf1aae7ae7f450ad82a55f60d8f08fb3cf47f"
 },
 "nbformat": 3,
 "nbformat_minor": 0,
 "worksheets": [
  {
   "cells": [
    {
     "cell_type": "heading",
     "level": 1,
     "metadata": {},
     "source": [
      "Project Euler #2 - Even Fibonacci numbers"
     ]
    },
    {
     "cell_type": "markdown",
     "metadata": {},
     "source": [
      "Mientras el n\u00famero de Fibonacci est\u00e9 en el rango permitido\n",
      "se seguir\u00e1 checando si se puede sumar."
     ]
    },
    {
     "cell_type": "code",
     "collapsed": false,
     "input": [
      "a = 1\n",
      "b = 2\n",
      "m =  4*(10**6) # 4 millones\n",
      "sum = 2 #Empieza en 2 porque ya sabemos que el primer dos se suma(b inicial).\n",
      "while a <= m and b <= m:\n",
      "\ta = a + b\n",
      "\tb = a + b\n",
      "\tc = a + b #c se usa para el cambio de variables.\n",
      "\ta = b\n",
      "\tb = c\n",
      "\tif b <= m: #Cada tercer t\u00e9rmino es par.\n",
      "\t\tsum += b\n",
      "print sum"
     ],
     "language": "python",
     "metadata": {},
     "outputs": [
      {
       "output_type": "stream",
       "stream": "stdout",
       "text": [
        "4613732\n"
       ]
      }
     ],
     "prompt_number": 1
    }
   ],
   "metadata": {}
  }
 ]
}