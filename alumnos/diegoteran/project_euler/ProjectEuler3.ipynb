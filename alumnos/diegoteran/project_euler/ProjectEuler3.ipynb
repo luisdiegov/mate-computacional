{
 "metadata": {
  "name": "",
  "signature": "sha256:72e1137a6a7d369b0cf86af7c148ae33595c626eb342a645dca1d2fa80e42b14"
 },
 "nbformat": 3,
 "nbformat_minor": 0,
 "worksheets": [
  {
   "cells": [
    {
     "cell_type": "heading",
     "level": 1,
     "metadata": {},
     "source": [
      "Project Euler #3 - Largest prime factor"
     ]
    },
    {
     "cell_type": "markdown",
     "metadata": {},
     "source": [
      "Busco el primer n\u00famero mayor a 1 que divide al n\u00famero actual, al ser un primo\n",
      "se lo divido y repito el proceso. Me quedo con el m\u00e1s grande."
     ]
    },
    {
     "cell_type": "code",
     "collapsed": false,
     "input": [
      "import math\n",
      "\n",
      "num = 600851475143\n",
      "p = 1\n",
      "\n",
      "i = 2\n",
      "while num > 1:\t#Mientras el n\u00famero siga teniendo primos en su factorizaci\u00f3n.\n",
      "\twhile i <= num: \n",
      "\t\tif num%i == 0:\n",
      "\t\t\ttemp = i\n",
      "\t\t\tbreak\n",
      "\t\ti += 1\n",
      "\tif p < temp:     #Checar cu\u00e1l es el mayor primo.\n",
      "\t\tp = temp\n",
      "\tnum /= temp\t\t #Dividir entre el primo encontrado.\n",
      "\t\n",
      "print p"
     ],
     "language": "python",
     "metadata": {},
     "outputs": [
      {
       "output_type": "stream",
       "stream": "stdout",
       "text": [
        "6857\n"
       ]
      }
     ],
     "prompt_number": 2
    }
   ],
   "metadata": {}
  }
 ]
}