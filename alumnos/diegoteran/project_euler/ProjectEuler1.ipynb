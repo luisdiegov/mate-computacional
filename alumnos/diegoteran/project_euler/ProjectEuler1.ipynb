{
 "metadata": {
  "name": "",
  "signature": "sha256:eaf2a23d10584731545651acb552f955280df88a2dd93814ef97ce7fd30697d3"
 },
 "nbformat": 3,
 "nbformat_minor": 0,
 "worksheets": [
  {
   "cells": [
    {
     "cell_type": "heading",
     "level": 1,
     "metadata": {},
     "source": [
      "Project Euler #1 - Multiples of 3 and 5"
     ]
    },
    {
     "cell_type": "markdown",
     "metadata": {},
     "source": [
      "Checar para cada n\u00famero si es divisible entre 3 \u00f3 5."
     ]
    },
    {
     "cell_type": "code",
     "collapsed": false,
     "input": [
      "sum = 0\n",
      "for i in range(1000):\n",
      "\tif i%3==0 or i%5==0:\n",
      "\t\tsum += i\n",
      "print sum\n"
     ],
     "language": "python",
     "metadata": {},
     "outputs": [
      {
       "output_type": "stream",
       "stream": "stdout",
       "text": [
        "233168\n"
       ]
      }
     ],
     "prompt_number": 3
    }
   ],
   "metadata": {}
  }
 ]
}