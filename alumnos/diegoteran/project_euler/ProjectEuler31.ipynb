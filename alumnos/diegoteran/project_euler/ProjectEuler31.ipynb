{
 "metadata": {
  "name": "",
  "signature": "sha256:f506ac88c7d58a634bde2e8964d326f4fdecf24c0b50687270957db58471b2a6"
 },
 "nbformat": 3,
 "nbformat_minor": 0,
 "worksheets": [
  {
   "cells": [
    {
     "cell_type": "heading",
     "level": 1,
     "metadata": {},
     "source": [
      "Project Euler #31 - Coin sums"
     ]
    },
    {
     "cell_type": "markdown",
     "metadata": {},
     "source": [
      "Para resolver este problema utilice programaci\u00f3n din\u00e1mica.\n",
      "Defin\u00ed mi funci\u00f3n f(i, j) que significa las maneras de juntar el valor j\n",
      "dado que me quedan las monedas n\u00famero i hasta la moneda n\u00famero 7(porque son 8 y est\u00e1\n",
      "indexado en 0)."
     ]
    },
    {
     "cell_type": "code",
     "collapsed": false,
     "input": [
      "n = 200 \n",
      "v = [1, 2, 5, 10, 20, 50, 100, 200] #Los valores de las 8 monedas.\n",
      "f = [[0 for x in range(n+1)] for x in range(n+1)] #Para almacenar valores de la funci\u00f3n.\n",
      "\n",
      "for i in range(8):\n",
      "\tf[i][0] = 1  #Estos son los casos base cuando gastaste tus monedas y ya \"llenaste\" todo.\n",
      "\t\t\t\t #Si al funci\u00f3n es de esta forma pues ya llegaste a 1 manera.\n",
      "\t\n",
      "for i in range(7, -1, -1):\n",
      "\tfor j in range(1, n+1):  \n",
      "\t\tif v[i] <= j: #Si tu valor de la moneda i se lo puedes restar a lo que te queda.\n",
      "\t\t\tf[i][j] = f[i][j-v[i]] + f[i+1][j] #Puedes decidir entre restarle la moneda o \n",
      "\t\telse:\t\t\t\t\t\t\t\t\t# pasar a la siguiente moneda.\n",
      "\t\t\tf[i][j] = f[i+1][j] #Como no cabe, s\u00f3lo puedes pasar a la siguiente moneda.\n",
      "\t\t\t\n",
      "print f[0][n] #La respuesta, maneras de juntar 200 con las monedas de 0 en adelante(las 8 monedas)."
     ],
     "language": "python",
     "metadata": {},
     "outputs": [
      {
       "output_type": "stream",
       "stream": "stdout",
       "text": [
        "73682\n"
       ]
      }
     ],
     "prompt_number": 2
    }
   ],
   "metadata": {}
  }
 ]
}