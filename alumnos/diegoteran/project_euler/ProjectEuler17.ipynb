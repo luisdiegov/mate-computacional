{
 "metadata": {
  "name": "",
  "signature": "sha256:365ae63cc1a0e4ac4601e25fdcab9fb1a17d9b3441a04836aa65ccc06909e69e"
 },
 "nbformat": 3,
 "nbformat_minor": 0,
 "worksheets": [
  {
   "cells": [
    {
     "cell_type": "heading",
     "level": 1,
     "metadata": {},
     "source": [
      "Project Euler #17 - Number letter counts"
     ]
    },
    {
     "cell_type": "markdown",
     "metadata": {},
     "source": [
      "Consegu\u00ed unos 37 valores a mano y despu\u00e9s con ellos pude conseguir todos."
     ]
    },
    {
     "cell_type": "code",
     "collapsed": false,
     "input": [
      "count = [0 for x in range(1001)]\n",
      "v = [3, 3, 5, 4, 4, 3, 5, 5, 4, 3, 6, 6, 8, 8, 7, 7, 9, 8, 8, 6, 6, 5, 5, 5, 7, 6, 6, 10, 10, 12, 11, 11, 10, 12, 12, 11, 11]\n",
      "n = [1, 2, 3, 4, 5, 6, 7, 8, 9, 10, 11, 12, 13, 14, 15, 16, 17, 18, 19, 20, 30, 40, 50, 60, 70, 80, 90, 100, 200, 300, 400, 500, 600, 700, 800, 900, 1000]\n",
      "ans = 0                  #Guard\u00e9 los 37 valores arriba en sus respectivos lugares.\n",
      "count[0] = 0\n",
      "for i in range(37):\n",
      "\tcount[n[i]] = v[i]\t\t#Lleno los lugares que consegu\u00ed a mano.\n",
      "\t\n",
      "for i in range(21, 1000):    #Para cada uno de los lugares que me restan.\n",
      "\tif i < 100:\t#Primero todos los menores a 100. Lo que hago es sumar el de las decenas y \n",
      "\t\tcount[i] = count[i%10] + count[i - i/100*100 - i%10] #despu\u00e9s el de las unidades.\n",
      "\telse: #Para los mayores a 100 hago la suma de centenas y de decenas con unidades junto\n",
      "\t\tcount[i] = count[i - i/100*100] + count[i/100*100]  #porque ya consegu\u00ed los valores.\n",
      "\tif i > 100 and i%100 > 0:\n",
      "\t\tcount[i] += 3 #Sumo 3 por el \"and\" cuando se debe. (one hundred AND twenty) etc...\n",
      "\t\n",
      "for i in range(1001):\n",
      "\tans += count[i]\t\t#Sumo todos los resultados.\n",
      "\t\n",
      "print ans"
     ],
     "language": "python",
     "metadata": {},
     "outputs": [
      {
       "output_type": "stream",
       "stream": "stdout",
       "text": [
        "21124\n"
       ]
      }
     ],
     "prompt_number": 1
    }
   ],
   "metadata": {}
  }
 ]
}