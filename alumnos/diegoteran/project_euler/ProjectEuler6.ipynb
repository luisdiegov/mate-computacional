{
 "metadata": {
  "name": "",
  "signature": "sha256:c4b8250774ff0f6250cfb3d56658da4a443a58546be04f9af9ff8d41bc6097db"
 },
 "nbformat": 3,
 "nbformat_minor": 0,
 "worksheets": [
  {
   "cells": [
    {
     "cell_type": "heading",
     "level": 1,
     "metadata": {},
     "source": [
      "Project Euler #6 - Sum square difference"
     ]
    },
    {
     "cell_type": "markdown",
     "metadata": {},
     "source": [
      "La suma de los primeros n naturales es n*(n+1)/2.\n",
      "La suma de los primeros n cuadrados de naturales es n*(n+1)(2n+1)/6. Lo que queda por hacer es directo."
     ]
    },
    {
     "cell_type": "code",
     "collapsed": false,
     "input": [
      "n = 100\n",
      "first = n*(n+1)/2\n",
      "first = first**2  #La suma elevada al cuadrado.\n",
      "second = n*(n+1)*(2*n+1)/6 #Los primeros n cuadrados.\n",
      "print first - second\n"
     ],
     "language": "python",
     "metadata": {},
     "outputs": [
      {
       "output_type": "stream",
       "stream": "stdout",
       "text": [
        "25164150\n"
       ]
      }
     ],
     "prompt_number": 1
    }
   ],
   "metadata": {}
  }
 ]
}