{
 "metadata": {
  "name": "",
  "signature": "sha256:f02be1dfba1a8b6866c4258d8c5e17b59194ddcf60b3969286b9261d71bbf5bc"
 },
 "nbformat": 3,
 "nbformat_minor": 0,
 "worksheets": [
  {
   "cells": [
    {
     "cell_type": "heading",
     "level": 1,
     "metadata": {},
     "source": [
      "Examen Parcial"
     ]
    },
    {
     "cell_type": "heading",
     "level": 6,
     "metadata": {},
     "source": [
      "5 de marzo, 2015"
     ]
    },
    {
     "cell_type": "heading",
     "level": 2,
     "metadata": {},
     "source": [
      "Instrucciones"
     ]
    },
    {
     "cell_type": "markdown",
     "metadata": {},
     "source": [
      "- Crea una carpeta en tu directorio llamada `examen`.\n",
      "- Copia este examen a esa carpeta reci\u00e9n creada.\n",
      "- Copia los archivos con extensi\u00f3n `.m` de la misma manera."
     ]
    },
    {
     "cell_type": "heading",
     "level": 3,
     "metadata": {},
     "source": [
      "Definiciones"
     ]
    },
    {
     "cell_type": "markdown",
     "metadata": {},
     "source": [
      "- **Precisi\u00f3n** es el n\u00famero m\u00e1ximo de _bits_ diferentes de cero que es representable.\n",
      "- **Rango** es la diferencia entre el n\u00famero m\u00e1s negativo representable y el n\u00famero m\u00e1s positivo representable.\n",
      "- **Resoluci\u00f3n** es la magnitud m\u00e1s preque\u00f1a diferente de cero representable.\n",
      "- **Exactitud** es la magnitud e la m\u00e1xima diferencia entre el valor real y su representaci\u00f3n."
     ]
    },
    {
     "cell_type": "markdown",
     "metadata": {},
     "source": [
      "- Un n\u00famero $x$ en _single precision_ en el est\u00e1ndar **IEEE 754** se escribe:"
     ]
    },
    {
     "cell_type": "markdown",
     "metadata": {},
     "source": [
      "$$\n",
      "x = s 1.mmm \\ldots mmm \\times 2^{mmm \\ldots mmm}\n",
      "$$"
     ]
    },
    {
     "cell_type": "markdown",
     "metadata": {},
     "source": [
      "con un _bias_ de "
     ]
    },
    {
     "cell_type": "heading",
     "level": 1,
     "metadata": {},
     "source": [
      "Computadora"
     ]
    },
    {
     "cell_type": "heading",
     "level": 2,
     "metadata": {},
     "source": [
      "Problema 6"
     ]
    },
    {
     "cell_type": "heading",
     "level": 2,
     "metadata": {},
     "source": [
      "El mundo de Nintendo: 8 bits"
     ]
    },
    {
     "cell_type": "markdown",
     "metadata": {},
     "source": [
      "* Crea un programa en `python` o `GNU Octave` imprima todos los n\u00fameros que se pueden almacenar en `8 bits` (ver ejercicio anterior). "
     ]
    },
    {
     "cell_type": "code",
     "collapsed": false,
     "input": [
      "def binarioADecimal(n): #Sin compemento a base 2\n",
      "    assert (n <= 11111111 and n >= 0), \"Overflow\"\n",
      "    b = 1\n",
      "    ans = 0\n",
      "    while n > 0:\n",
      "        if n%2 > 0:\n",
      "            ans += b\n",
      "        b *= 2\n",
      "        n /= 10\n",
      "    return ans"
     ],
     "language": "python",
     "metadata": {},
     "outputs": [],
     "prompt_number": 91
    },
    {
     "cell_type": "code",
     "collapsed": false,
     "input": [
      "for i in range(256): #no pude hacer la parte real\n",
      "    s =  int(np.binary_repr(i, width = 8))\n",
      "    exp = binarioADecimal(s%1000)\n",
      "        \n",
      "    k = s%10000000\n",
      "    k /= 1000\n",
      "    h = k\n",
      "    numr = 0\n",
      "    if s >= 10000000:\n",
      "        if h%2==1 and h>0:\n",
      "            numr -= 2**(-4)\n",
      "        h /= 10\n",
      "        if h%2==1 and h>0:\n",
      "            numr -= 2**(-3)\n",
      "        h /= 10\n",
      "        if h%2==1 and h>0:\n",
      "            numr -= 2**(-2)\n",
      "        h /= 10\n",
      "        if h%2==1 and h>0:\n",
      "            numr -= 2**(-1)        \n",
      "    else:\n",
      "        if h%2==1 and h>0:\n",
      "            numr += 2**(-4)\n",
      "        h /= 10\n",
      "        if h%2==1 and h>0:\n",
      "            numr += 2**(-3)\n",
      "        h /= 10\n",
      "        if h%2==1 and h>0:\n",
      "            numr += 2**(-2)\n",
      "        h /= 10\n",
      "        if h%2==1 and h>0:\n",
      "            numr += 2**(-1)\n",
      "        numr *= 2**(exp+3)\n",
      "    s = s/10000000\n",
      "    if s == 1:\n",
      "        signo = '-'\n",
      "    else:\n",
      "        signo = '+'\n",
      "    print \"%8s\\t%8s\\t%1s1.%8sx2^%3sEsto \u00faltimo exponente est\u00e1 en decimal\" % (np.binary_repr(i, width = 8), \":'(\", signo, str(k), str(exp + 3))"
     ],
     "language": "python",
     "metadata": {},
     "outputs": [
      {
       "output_type": "stream",
       "stream": "stdout",
       "text": [
        "00000000\t     :'(\t+1.       0x2^  3Esto \u00faltimo exponente est\u00e1 en decimal\n",
        "00000001\t     :'(\t+1.       0x2^  4Esto \u00faltimo exponente est\u00e1 en decimal\n",
        "00000010\t     :'(\t+1.       0x2^  5Esto \u00faltimo exponente est\u00e1 en decimal\n",
        "00000011\t     :'(\t+1.       0x2^  6Esto \u00faltimo exponente est\u00e1 en decimal\n",
        "00000100\t     :'(\t+1.       0x2^  7Esto \u00faltimo exponente est\u00e1 en decimal\n",
        "00000101\t     :'(\t+1.       0x2^  8Esto \u00faltimo exponente est\u00e1 en decimal\n",
        "00000110\t     :'(\t+1.       0x2^  9Esto \u00faltimo exponente est\u00e1 en decimal\n",
        "00000111\t     :'(\t+1.       0x2^ 10Esto \u00faltimo exponente est\u00e1 en decimal\n",
        "00001000\t     :'(\t+1.       1x2^  3Esto \u00faltimo exponente est\u00e1 en decimal\n",
        "00001001\t     :'(\t+1.       1x2^  4Esto \u00faltimo exponente est\u00e1 en decimal\n",
        "00001010\t     :'(\t+1.       1x2^  5Esto \u00faltimo exponente est\u00e1 en decimal\n",
        "00001011\t     :'(\t+1.       1x2^  6Esto \u00faltimo exponente est\u00e1 en decimal\n",
        "00001100\t     :'(\t+1.       1x2^  7Esto \u00faltimo exponente est\u00e1 en decimal\n",
        "00001101\t     :'(\t+1.       1x2^  8Esto \u00faltimo exponente est\u00e1 en decimal\n",
        "00001110\t     :'(\t+1.       1x2^  9Esto \u00faltimo exponente est\u00e1 en decimal\n",
        "00001111\t     :'(\t+1.       1x2^ 10Esto \u00faltimo exponente est\u00e1 en decimal\n",
        "00010000\t     :'(\t+1.      10x2^  3Esto \u00faltimo exponente est\u00e1 en decimal\n",
        "00010001\t     :'(\t+1.      10x2^  4Esto \u00faltimo exponente est\u00e1 en decimal\n",
        "00010010\t     :'(\t+1.      10x2^  5Esto \u00faltimo exponente est\u00e1 en decimal\n",
        "00010011\t     :'(\t+1.      10x2^  6Esto \u00faltimo exponente est\u00e1 en decimal\n",
        "00010100\t     :'(\t+1.      10x2^  7Esto \u00faltimo exponente est\u00e1 en decimal\n",
        "00010101\t     :'(\t+1.      10x2^  8Esto \u00faltimo exponente est\u00e1 en decimal\n",
        "00010110\t     :'(\t+1.      10x2^  9Esto \u00faltimo exponente est\u00e1 en decimal\n",
        "00010111\t     :'(\t+1.      10x2^ 10Esto \u00faltimo exponente est\u00e1 en decimal\n",
        "00011000\t     :'(\t+1.      11x2^  3Esto \u00faltimo exponente est\u00e1 en decimal\n",
        "00011001\t     :'(\t+1.      11x2^  4Esto \u00faltimo exponente est\u00e1 en decimal\n",
        "00011010\t     :'(\t+1.      11x2^  5Esto \u00faltimo exponente est\u00e1 en decimal\n",
        "00011011\t     :'(\t+1.      11x2^  6Esto \u00faltimo exponente est\u00e1 en decimal\n",
        "00011100\t     :'(\t+1.      11x2^  7Esto \u00faltimo exponente est\u00e1 en decimal\n",
        "00011101\t     :'(\t+1.      11x2^  8Esto \u00faltimo exponente est\u00e1 en decimal\n",
        "00011110\t     :'(\t+1.      11x2^  9Esto \u00faltimo exponente est\u00e1 en decimal\n",
        "00011111\t     :'(\t+1.      11x2^ 10Esto \u00faltimo exponente est\u00e1 en decimal\n",
        "00100000\t     :'(\t+1.     100x2^  3Esto \u00faltimo exponente est\u00e1 en decimal\n",
        "00100001\t     :'(\t+1.     100x2^  4Esto \u00faltimo exponente est\u00e1 en decimal\n",
        "00100010\t     :'(\t+1.     100x2^  5Esto \u00faltimo exponente est\u00e1 en decimal\n",
        "00100011\t     :'(\t+1.     100x2^  6Esto \u00faltimo exponente est\u00e1 en decimal\n",
        "00100100\t     :'(\t+1.     100x2^  7Esto \u00faltimo exponente est\u00e1 en decimal\n",
        "00100101\t     :'(\t+1.     100x2^  8Esto \u00faltimo exponente est\u00e1 en decimal\n",
        "00100110\t     :'(\t+1.     100x2^  9Esto \u00faltimo exponente est\u00e1 en decimal\n",
        "00100111\t     :'(\t+1.     100x2^ 10Esto \u00faltimo exponente est\u00e1 en decimal\n",
        "00101000\t     :'(\t+1.     101x2^  3Esto \u00faltimo exponente est\u00e1 en decimal\n",
        "00101001\t     :'(\t+1.     101x2^  4Esto \u00faltimo exponente est\u00e1 en decimal\n",
        "00101010\t     :'(\t+1.     101x2^  5Esto \u00faltimo exponente est\u00e1 en decimal\n",
        "00101011\t     :'(\t+1.     101x2^  6Esto \u00faltimo exponente est\u00e1 en decimal\n",
        "00101100\t     :'(\t+1.     101x2^  7Esto \u00faltimo exponente est\u00e1 en decimal\n",
        "00101101\t     :'(\t+1.     101x2^  8Esto \u00faltimo exponente est\u00e1 en decimal\n",
        "00101110\t     :'(\t+1.     101x2^  9Esto \u00faltimo exponente est\u00e1 en decimal\n",
        "00101111\t     :'(\t+1.     101x2^ 10Esto \u00faltimo exponente est\u00e1 en decimal\n",
        "00110000\t     :'(\t+1.     110x2^  3Esto \u00faltimo exponente est\u00e1 en decimal\n",
        "00110001\t     :'(\t+1.     110x2^  4Esto \u00faltimo exponente est\u00e1 en decimal\n",
        "00110010\t     :'(\t+1.     110x2^  5Esto \u00faltimo exponente est\u00e1 en decimal\n",
        "00110011\t     :'(\t+1.     110x2^  6Esto \u00faltimo exponente est\u00e1 en decimal\n",
        "00110100\t     :'(\t+1.     110x2^  7Esto \u00faltimo exponente est\u00e1 en decimal\n",
        "00110101\t     :'(\t+1.     110x2^  8Esto \u00faltimo exponente est\u00e1 en decimal\n",
        "00110110\t     :'(\t+1.     110x2^  9Esto \u00faltimo exponente est\u00e1 en decimal\n",
        "00110111\t     :'(\t+1.     110x2^ 10Esto \u00faltimo exponente est\u00e1 en decimal\n",
        "00111000\t     :'(\t+1.     111x2^  3Esto \u00faltimo exponente est\u00e1 en decimal\n",
        "00111001\t     :'(\t+1.     111x2^  4Esto \u00faltimo exponente est\u00e1 en decimal\n",
        "00111010\t     :'(\t+1.     111x2^  5Esto \u00faltimo exponente est\u00e1 en decimal\n",
        "00111011\t     :'(\t+1.     111x2^  6Esto \u00faltimo exponente est\u00e1 en decimal\n",
        "00111100\t     :'(\t+1.     111x2^  7Esto \u00faltimo exponente est\u00e1 en decimal\n",
        "00111101\t     :'(\t+1.     111x2^  8Esto \u00faltimo exponente est\u00e1 en decimal\n",
        "00111110\t     :'(\t+1.     111x2^  9Esto \u00faltimo exponente est\u00e1 en decimal\n",
        "00111111\t     :'(\t+1.     111x2^ 10Esto \u00faltimo exponente est\u00e1 en decimal\n",
        "01000000\t     :'(\t+1.    1000x2^  3Esto \u00faltimo exponente est\u00e1 en decimal\n",
        "01000001\t     :'(\t+1.    1000x2^  4Esto \u00faltimo exponente est\u00e1 en decimal\n",
        "01000010\t     :'(\t+1.    1000x2^  5Esto \u00faltimo exponente est\u00e1 en decimal\n",
        "01000011\t     :'(\t+1.    1000x2^  6Esto \u00faltimo exponente est\u00e1 en decimal\n",
        "01000100\t     :'(\t+1.    1000x2^  7Esto \u00faltimo exponente est\u00e1 en decimal\n",
        "01000101\t     :'(\t+1.    1000x2^  8Esto \u00faltimo exponente est\u00e1 en decimal\n",
        "01000110\t     :'(\t+1.    1000x2^  9Esto \u00faltimo exponente est\u00e1 en decimal\n",
        "01000111\t     :'(\t+1.    1000x2^ 10Esto \u00faltimo exponente est\u00e1 en decimal\n",
        "01001000\t     :'(\t+1.    1001x2^  3Esto \u00faltimo exponente est\u00e1 en decimal\n",
        "01001001\t     :'(\t+1.    1001x2^  4Esto \u00faltimo exponente est\u00e1 en decimal\n",
        "01001010\t     :'(\t+1.    1001x2^  5Esto \u00faltimo exponente est\u00e1 en decimal\n",
        "01001011\t     :'(\t+1.    1001x2^  6Esto \u00faltimo exponente est\u00e1 en decimal\n",
        "01001100\t     :'(\t+1.    1001x2^  7Esto \u00faltimo exponente est\u00e1 en decimal\n",
        "01001101\t     :'(\t+1.    1001x2^  8Esto \u00faltimo exponente est\u00e1 en decimal\n",
        "01001110\t     :'(\t+1.    1001x2^  9Esto \u00faltimo exponente est\u00e1 en decimal\n",
        "01001111\t     :'(\t+1.    1001x2^ 10Esto \u00faltimo exponente est\u00e1 en decimal\n",
        "01010000\t     :'(\t+1.    1010x2^  3Esto \u00faltimo exponente est\u00e1 en decimal\n",
        "01010001\t     :'(\t+1.    1010x2^  4Esto \u00faltimo exponente est\u00e1 en decimal\n",
        "01010010\t     :'(\t+1.    1010x2^  5Esto \u00faltimo exponente est\u00e1 en decimal\n",
        "01010011\t     :'(\t+1.    1010x2^  6Esto \u00faltimo exponente est\u00e1 en decimal\n",
        "01010100\t     :'(\t+1.    1010x2^  7Esto \u00faltimo exponente est\u00e1 en decimal\n",
        "01010101\t     :'(\t+1.    1010x2^  8Esto \u00faltimo exponente est\u00e1 en decimal\n",
        "01010110\t     :'(\t+1.    1010x2^  9Esto \u00faltimo exponente est\u00e1 en decimal\n",
        "01010111\t     :'(\t+1.    1010x2^ 10Esto \u00faltimo exponente est\u00e1 en decimal\n",
        "01011000\t     :'(\t+1.    1011x2^  3Esto \u00faltimo exponente est\u00e1 en decimal\n",
        "01011001\t     :'(\t+1.    1011x2^  4Esto \u00faltimo exponente est\u00e1 en decimal\n",
        "01011010\t     :'(\t+1.    1011x2^  5Esto \u00faltimo exponente est\u00e1 en decimal\n",
        "01011011\t     :'(\t+1.    1011x2^  6Esto \u00faltimo exponente est\u00e1 en decimal\n",
        "01011100\t     :'(\t+1.    1011x2^  7Esto \u00faltimo exponente est\u00e1 en decimal\n",
        "01011101\t     :'(\t+1.    1011x2^  8Esto \u00faltimo exponente est\u00e1 en decimal\n",
        "01011110\t     :'(\t+1.    1011x2^  9Esto \u00faltimo exponente est\u00e1 en decimal\n",
        "01011111\t     :'(\t+1.    1011x2^ 10Esto \u00faltimo exponente est\u00e1 en decimal\n",
        "01100000\t     :'(\t+1.    1100x2^  3Esto \u00faltimo exponente est\u00e1 en decimal\n",
        "01100001\t     :'(\t+1.    1100x2^  4Esto \u00faltimo exponente est\u00e1 en decimal\n",
        "01100010\t     :'(\t+1.    1100x2^  5Esto \u00faltimo exponente est\u00e1 en decimal\n",
        "01100011\t     :'(\t+1.    1100x2^  6Esto \u00faltimo exponente est\u00e1 en decimal\n",
        "01100100\t     :'(\t+1.    1100x2^  7Esto \u00faltimo exponente est\u00e1 en decimal\n",
        "01100101\t     :'(\t+1.    1100x2^  8Esto \u00faltimo exponente est\u00e1 en decimal\n",
        "01100110\t     :'(\t+1.    1100x2^  9Esto \u00faltimo exponente est\u00e1 en decimal\n",
        "01100111\t     :'(\t+1.    1100x2^ 10Esto \u00faltimo exponente est\u00e1 en decimal\n",
        "01101000\t     :'(\t+1.    1101x2^  3Esto \u00faltimo exponente est\u00e1 en decimal\n",
        "01101001\t     :'(\t+1.    1101x2^  4Esto \u00faltimo exponente est\u00e1 en decimal\n",
        "01101010\t     :'(\t+1.    1101x2^  5Esto \u00faltimo exponente est\u00e1 en decimal\n",
        "01101011\t     :'(\t+1.    1101x2^  6Esto \u00faltimo exponente est\u00e1 en decimal\n",
        "01101100\t     :'(\t+1.    1101x2^  7Esto \u00faltimo exponente est\u00e1 en decimal\n",
        "01101101\t     :'(\t+1.    1101x2^  8Esto \u00faltimo exponente est\u00e1 en decimal\n",
        "01101110\t     :'(\t+1.    1101x2^  9Esto \u00faltimo exponente est\u00e1 en decimal\n",
        "01101111\t     :'(\t+1.    1101x2^ 10Esto \u00faltimo exponente est\u00e1 en decimal\n",
        "01110000\t     :'(\t+1.    1110x2^  3Esto \u00faltimo exponente est\u00e1 en decimal\n",
        "01110001\t     :'(\t+1.    1110x2^  4Esto \u00faltimo exponente est\u00e1 en decimal\n",
        "01110010\t     :'(\t+1.    1110x2^  5Esto \u00faltimo exponente est\u00e1 en decimal\n",
        "01110011\t     :'(\t+1.    1110x2^  6Esto \u00faltimo exponente est\u00e1 en decimal\n",
        "01110100\t     :'(\t+1.    1110x2^  7Esto \u00faltimo exponente est\u00e1 en decimal\n",
        "01110101\t     :'(\t+1.    1110x2^  8Esto \u00faltimo exponente est\u00e1 en decimal\n",
        "01110110\t     :'(\t+1.    1110x2^  9Esto \u00faltimo exponente est\u00e1 en decimal\n",
        "01110111\t     :'(\t+1.    1110x2^ 10Esto \u00faltimo exponente est\u00e1 en decimal\n",
        "01111000\t     :'(\t+1.    1111x2^  3Esto \u00faltimo exponente est\u00e1 en decimal\n",
        "01111001\t     :'(\t+1.    1111x2^  4Esto \u00faltimo exponente est\u00e1 en decimal\n",
        "01111010\t     :'(\t+1.    1111x2^  5Esto \u00faltimo exponente est\u00e1 en decimal\n",
        "01111011\t     :'(\t+1.    1111x2^  6Esto \u00faltimo exponente est\u00e1 en decimal\n",
        "01111100\t     :'(\t+1.    1111x2^  7Esto \u00faltimo exponente est\u00e1 en decimal\n",
        "01111101\t     :'(\t+1.    1111x2^  8Esto \u00faltimo exponente est\u00e1 en decimal\n",
        "01111110\t     :'(\t+1.    1111x2^  9Esto \u00faltimo exponente est\u00e1 en decimal\n",
        "01111111\t     :'(\t+1.    1111x2^ 10Esto \u00faltimo exponente est\u00e1 en decimal\n",
        "10000000\t     :'(\t-1.       0x2^  3Esto \u00faltimo exponente est\u00e1 en decimal\n",
        "10000001\t     :'(\t-1.       0x2^  4Esto \u00faltimo exponente est\u00e1 en decimal\n",
        "10000010\t     :'(\t-1.       0x2^  5Esto \u00faltimo exponente est\u00e1 en decimal\n",
        "10000011\t     :'(\t-1.       0x2^  6Esto \u00faltimo exponente est\u00e1 en decimal\n",
        "10000100\t     :'(\t-1.       0x2^  7Esto \u00faltimo exponente est\u00e1 en decimal\n",
        "10000101\t     :'(\t-1.       0x2^  8Esto \u00faltimo exponente est\u00e1 en decimal\n",
        "10000110\t     :'(\t-1.       0x2^  9Esto \u00faltimo exponente est\u00e1 en decimal\n",
        "10000111\t     :'(\t-1.       0x2^ 10Esto \u00faltimo exponente est\u00e1 en decimal\n",
        "10001000\t     :'(\t-1.       1x2^  3Esto \u00faltimo exponente est\u00e1 en decimal\n",
        "10001001\t     :'(\t-1.       1x2^  4Esto \u00faltimo exponente est\u00e1 en decimal\n",
        "10001010\t     :'(\t-1.       1x2^  5Esto \u00faltimo exponente est\u00e1 en decimal\n",
        "10001011\t     :'(\t-1.       1x2^  6Esto \u00faltimo exponente est\u00e1 en decimal\n",
        "10001100\t     :'(\t-1.       1x2^  7Esto \u00faltimo exponente est\u00e1 en decimal\n",
        "10001101\t     :'(\t-1.       1x2^  8Esto \u00faltimo exponente est\u00e1 en decimal\n",
        "10001110\t     :'(\t-1.       1x2^  9Esto \u00faltimo exponente est\u00e1 en decimal\n",
        "10001111\t     :'(\t-1.       1x2^ 10Esto \u00faltimo exponente est\u00e1 en decimal\n",
        "10010000\t     :'(\t-1.      10x2^  3Esto \u00faltimo exponente est\u00e1 en decimal\n",
        "10010001\t     :'(\t-1.      10x2^  4Esto \u00faltimo exponente est\u00e1 en decimal\n",
        "10010010\t     :'(\t-1.      10x2^  5Esto \u00faltimo exponente est\u00e1 en decimal\n",
        "10010011\t     :'(\t-1.      10x2^  6Esto \u00faltimo exponente est\u00e1 en decimal\n",
        "10010100\t     :'(\t-1.      10x2^  7Esto \u00faltimo exponente est\u00e1 en decimal\n",
        "10010101\t     :'(\t-1.      10x2^  8Esto \u00faltimo exponente est\u00e1 en decimal\n",
        "10010110\t     :'(\t-1.      10x2^  9Esto \u00faltimo exponente est\u00e1 en decimal\n",
        "10010111\t     :'(\t-1.      10x2^ 10Esto \u00faltimo exponente est\u00e1 en decimal\n",
        "10011000\t     :'(\t-1.      11x2^  3Esto \u00faltimo exponente est\u00e1 en decimal\n",
        "10011001\t     :'(\t-1.      11x2^  4Esto \u00faltimo exponente est\u00e1 en decimal\n",
        "10011010\t     :'(\t-1.      11x2^  5Esto \u00faltimo exponente est\u00e1 en decimal\n",
        "10011011\t     :'(\t-1.      11x2^  6Esto \u00faltimo exponente est\u00e1 en decimal\n",
        "10011100\t     :'(\t-1.      11x2^  7Esto \u00faltimo exponente est\u00e1 en decimal\n",
        "10011101\t     :'(\t-1.      11x2^  8Esto \u00faltimo exponente est\u00e1 en decimal\n",
        "10011110\t     :'(\t-1.      11x2^  9Esto \u00faltimo exponente est\u00e1 en decimal\n",
        "10011111\t     :'(\t-1.      11x2^ 10Esto \u00faltimo exponente est\u00e1 en decimal\n",
        "10100000\t     :'(\t-1.     100x2^  3Esto \u00faltimo exponente est\u00e1 en decimal\n",
        "10100001\t     :'(\t-1.     100x2^  4Esto \u00faltimo exponente est\u00e1 en decimal\n",
        "10100010\t     :'(\t-1.     100x2^  5Esto \u00faltimo exponente est\u00e1 en decimal\n",
        "10100011\t     :'(\t-1.     100x2^  6Esto \u00faltimo exponente est\u00e1 en decimal\n",
        "10100100\t     :'(\t-1.     100x2^  7Esto \u00faltimo exponente est\u00e1 en decimal\n",
        "10100101\t     :'(\t-1.     100x2^  8Esto \u00faltimo exponente est\u00e1 en decimal\n",
        "10100110\t     :'(\t-1.     100x2^  9Esto \u00faltimo exponente est\u00e1 en decimal\n",
        "10100111\t     :'(\t-1.     100x2^ 10Esto \u00faltimo exponente est\u00e1 en decimal\n",
        "10101000\t     :'(\t-1.     101x2^  3Esto \u00faltimo exponente est\u00e1 en decimal\n",
        "10101001\t     :'(\t-1.     101x2^  4Esto \u00faltimo exponente est\u00e1 en decimal\n",
        "10101010\t     :'(\t-1.     101x2^  5Esto \u00faltimo exponente est\u00e1 en decimal\n",
        "10101011\t     :'(\t-1.     101x2^  6Esto \u00faltimo exponente est\u00e1 en decimal\n",
        "10101100\t     :'(\t-1.     101x2^  7Esto \u00faltimo exponente est\u00e1 en decimal\n",
        "10101101\t     :'(\t-1.     101x2^  8Esto \u00faltimo exponente est\u00e1 en decimal\n",
        "10101110\t     :'(\t-1.     101x2^  9Esto \u00faltimo exponente est\u00e1 en decimal\n",
        "10101111\t     :'(\t-1.     101x2^ 10Esto \u00faltimo exponente est\u00e1 en decimal\n",
        "10110000\t     :'(\t-1.     110x2^  3Esto \u00faltimo exponente est\u00e1 en decimal\n",
        "10110001\t     :'(\t-1.     110x2^  4Esto \u00faltimo exponente est\u00e1 en decimal\n",
        "10110010\t     :'(\t-1.     110x2^  5Esto \u00faltimo exponente est\u00e1 en decimal\n",
        "10110011\t     :'(\t-1.     110x2^  6Esto \u00faltimo exponente est\u00e1 en decimal\n",
        "10110100\t     :'(\t-1.     110x2^  7Esto \u00faltimo exponente est\u00e1 en decimal\n",
        "10110101\t     :'(\t-1.     110x2^  8Esto \u00faltimo exponente est\u00e1 en decimal\n",
        "10110110\t     :'(\t-1.     110x2^  9Esto \u00faltimo exponente est\u00e1 en decimal\n",
        "10110111\t     :'(\t-1.     110x2^ 10Esto \u00faltimo exponente est\u00e1 en decimal\n",
        "10111000\t     :'(\t-1.     111x2^  3Esto \u00faltimo exponente est\u00e1 en decimal\n",
        "10111001\t     :'(\t-1.     111x2^  4Esto \u00faltimo exponente est\u00e1 en decimal\n",
        "10111010\t     :'(\t-1.     111x2^  5Esto \u00faltimo exponente est\u00e1 en decimal\n",
        "10111011\t     :'(\t-1.     111x2^  6Esto \u00faltimo exponente est\u00e1 en decimal\n",
        "10111100\t     :'(\t-1.     111x2^  7Esto \u00faltimo exponente est\u00e1 en decimal\n",
        "10111101\t     :'(\t-1.     111x2^  8Esto \u00faltimo exponente est\u00e1 en decimal\n",
        "10111110\t     :'(\t-1.     111x2^  9Esto \u00faltimo exponente est\u00e1 en decimal\n",
        "10111111\t     :'(\t-1.     111x2^ 10Esto \u00faltimo exponente est\u00e1 en decimal\n",
        "11000000\t     :'(\t-1.    1000x2^  3Esto \u00faltimo exponente est\u00e1 en decimal\n",
        "11000001\t     :'(\t-1.    1000x2^  4Esto \u00faltimo exponente est\u00e1 en decimal\n",
        "11000010\t     :'(\t-1.    1000x2^  5Esto \u00faltimo exponente est\u00e1 en decimal\n",
        "11000011\t     :'(\t-1.    1000x2^  6Esto \u00faltimo exponente est\u00e1 en decimal\n",
        "11000100\t     :'(\t-1.    1000x2^  7Esto \u00faltimo exponente est\u00e1 en decimal\n",
        "11000101\t     :'(\t-1.    1000x2^  8Esto \u00faltimo exponente est\u00e1 en decimal\n",
        "11000110\t     :'(\t-1.    1000x2^  9Esto \u00faltimo exponente est\u00e1 en decimal\n",
        "11000111\t     :'(\t-1.    1000x2^ 10Esto \u00faltimo exponente est\u00e1 en decimal\n",
        "11001000\t     :'(\t-1.    1001x2^  3Esto \u00faltimo exponente est\u00e1 en decimal\n",
        "11001001\t     :'(\t-1.    1001x2^  4Esto \u00faltimo exponente est\u00e1 en decimal\n",
        "11001010\t     :'(\t-1.    1001x2^  5Esto \u00faltimo exponente est\u00e1 en decimal\n",
        "11001011\t     :'(\t-1.    1001x2^  6Esto \u00faltimo exponente est\u00e1 en decimal\n",
        "11001100\t     :'(\t-1.    1001x2^  7Esto \u00faltimo exponente est\u00e1 en decimal\n",
        "11001101\t     :'(\t-1.    1001x2^  8Esto \u00faltimo exponente est\u00e1 en decimal\n",
        "11001110\t     :'(\t-1.    1001x2^  9Esto \u00faltimo exponente est\u00e1 en decimal\n",
        "11001111\t     :'(\t-1.    1001x2^ 10Esto \u00faltimo exponente est\u00e1 en decimal\n",
        "11010000\t     :'(\t-1.    1010x2^  3Esto \u00faltimo exponente est\u00e1 en decimal\n",
        "11010001\t     :'(\t-1.    1010x2^  4Esto \u00faltimo exponente est\u00e1 en decimal\n",
        "11010010\t     :'(\t-1.    1010x2^  5Esto \u00faltimo exponente est\u00e1 en decimal\n",
        "11010011\t     :'(\t-1.    1010x2^  6Esto \u00faltimo exponente est\u00e1 en decimal\n",
        "11010100\t     :'(\t-1.    1010x2^  7Esto \u00faltimo exponente est\u00e1 en decimal\n",
        "11010101\t     :'(\t-1.    1010x2^  8Esto \u00faltimo exponente est\u00e1 en decimal\n",
        "11010110\t     :'(\t-1.    1010x2^  9Esto \u00faltimo exponente est\u00e1 en decimal\n",
        "11010111\t     :'(\t-1.    1010x2^ 10Esto \u00faltimo exponente est\u00e1 en decimal\n",
        "11011000\t     :'(\t-1.    1011x2^  3Esto \u00faltimo exponente est\u00e1 en decimal\n",
        "11011001\t     :'(\t-1.    1011x2^  4Esto \u00faltimo exponente est\u00e1 en decimal\n",
        "11011010\t     :'(\t-1.    1011x2^  5Esto \u00faltimo exponente est\u00e1 en decimal\n",
        "11011011\t     :'(\t-1.    1011x2^  6Esto \u00faltimo exponente est\u00e1 en decimal\n",
        "11011100\t     :'(\t-1.    1011x2^  7Esto \u00faltimo exponente est\u00e1 en decimal\n",
        "11011101\t     :'(\t-1.    1011x2^  8Esto \u00faltimo exponente est\u00e1 en decimal\n",
        "11011110\t     :'(\t-1.    1011x2^  9Esto \u00faltimo exponente est\u00e1 en decimal\n",
        "11011111\t     :'(\t-1.    1011x2^ 10Esto \u00faltimo exponente est\u00e1 en decimal\n",
        "11100000\t     :'(\t-1.    1100x2^  3Esto \u00faltimo exponente est\u00e1 en decimal\n",
        "11100001\t     :'(\t-1.    1100x2^  4Esto \u00faltimo exponente est\u00e1 en decimal\n",
        "11100010\t     :'(\t-1.    1100x2^  5Esto \u00faltimo exponente est\u00e1 en decimal\n",
        "11100011\t     :'(\t-1.    1100x2^  6Esto \u00faltimo exponente est\u00e1 en decimal\n",
        "11100100\t     :'(\t-1.    1100x2^  7Esto \u00faltimo exponente est\u00e1 en decimal\n",
        "11100101\t     :'(\t-1.    1100x2^  8Esto \u00faltimo exponente est\u00e1 en decimal\n",
        "11100110\t     :'(\t-1.    1100x2^  9Esto \u00faltimo exponente est\u00e1 en decimal\n",
        "11100111\t     :'(\t-1.    1100x2^ 10Esto \u00faltimo exponente est\u00e1 en decimal\n",
        "11101000\t     :'(\t-1.    1101x2^  3Esto \u00faltimo exponente est\u00e1 en decimal\n",
        "11101001\t     :'(\t-1.    1101x2^  4Esto \u00faltimo exponente est\u00e1 en decimal\n",
        "11101010\t     :'(\t-1.    1101x2^  5Esto \u00faltimo exponente est\u00e1 en decimal\n",
        "11101011\t     :'(\t-1.    1101x2^  6Esto \u00faltimo exponente est\u00e1 en decimal\n",
        "11101100\t     :'(\t-1.    1101x2^  7Esto \u00faltimo exponente est\u00e1 en decimal\n",
        "11101101\t     :'(\t-1.    1101x2^  8Esto \u00faltimo exponente est\u00e1 en decimal\n",
        "11101110\t     :'(\t-1.    1101x2^  9Esto \u00faltimo exponente est\u00e1 en decimal\n",
        "11101111\t     :'(\t-1.    1101x2^ 10Esto \u00faltimo exponente est\u00e1 en decimal\n",
        "11110000\t     :'(\t-1.    1110x2^  3Esto \u00faltimo exponente est\u00e1 en decimal\n",
        "11110001\t     :'(\t-1.    1110x2^  4Esto \u00faltimo exponente est\u00e1 en decimal\n",
        "11110010\t     :'(\t-1.    1110x2^  5Esto \u00faltimo exponente est\u00e1 en decimal\n",
        "11110011\t     :'(\t-1.    1110x2^  6Esto \u00faltimo exponente est\u00e1 en decimal\n",
        "11110100\t     :'(\t-1.    1110x2^  7Esto \u00faltimo exponente est\u00e1 en decimal\n",
        "11110101\t     :'(\t-1.    1110x2^  8Esto \u00faltimo exponente est\u00e1 en decimal\n",
        "11110110\t     :'(\t-1.    1110x2^  9Esto \u00faltimo exponente est\u00e1 en decimal\n",
        "11110111\t     :'(\t-1.    1110x2^ 10Esto \u00faltimo exponente est\u00e1 en decimal\n",
        "11111000\t     :'(\t-1.    1111x2^  3Esto \u00faltimo exponente est\u00e1 en decimal\n",
        "11111001\t     :'(\t-1.    1111x2^  4Esto \u00faltimo exponente est\u00e1 en decimal\n",
        "11111010\t     :'(\t-1.    1111x2^  5Esto \u00faltimo exponente est\u00e1 en decimal\n",
        "11111011\t     :'(\t-1.    1111x2^  6Esto \u00faltimo exponente est\u00e1 en decimal\n",
        "11111100\t     :'(\t-1.    1111x2^  7Esto \u00faltimo exponente est\u00e1 en decimal\n",
        "11111101\t     :'(\t-1.    1111x2^  8Esto \u00faltimo exponente est\u00e1 en decimal\n",
        "11111110\t     :'(\t-1.    1111x2^  9Esto \u00faltimo exponente est\u00e1 en decimal\n",
        "11111111\t     :'(\t-1.    1111x2^ 10Esto \u00faltimo exponente est\u00e1 en decimal\n"
       ]
      }
     ],
     "prompt_number": 107
    },
    {
     "cell_type": "code",
     "collapsed": false,
     "input": [
      "# FAlta agregar ceros a la izquierda para completar bits en diferentes secciones"
     ],
     "language": "python",
     "metadata": {},
     "outputs": [],
     "prompt_number": 100
    },
    {
     "cell_type": "markdown",
     "metadata": {},
     "source": [
      "La tabla debe de tener el siguiente formato:"
     ]
    },
    {
     "cell_type": "markdown",
     "metadata": {},
     "source": [
      "| representaci\u00f3n almacenada | real | flotante |\n",
      "|---------------------------|------|----------|"
     ]
    },
    {
     "cell_type": "markdown",
     "metadata": {},
     "source": [
      "* Grafica el n\u00famero de d\u00edgitos en un `b\u00ednade` usando un histograma."
     ]
    },
    {
     "cell_type": "markdown",
     "metadata": {},
     "source": [
      "* Grafica en un histograma la **densidad** de d\u00edgitos que existen por cada entero."
     ]
    },
    {
     "cell_type": "heading",
     "level": 2,
     "metadata": {},
     "source": [
      "Problema 7"
     ]
    },
    {
     "cell_type": "markdown",
     "metadata": {},
     "source": [
      "Observa el c\u00f3digo de `GNU Octave` siguiente:"
     ]
    },
    {
     "cell_type": "code",
     "collapsed": false,
     "input": [
      "!cat strange_floats_sp.m"
     ],
     "language": "python",
     "metadata": {},
     "outputs": [
      {
       "output_type": "stream",
       "stream": "stdout",
       "text": [
        "x = single(77777.0)\r",
        "\r\n",
        "y = single(7.0)\r",
        "\r\n",
        "inv_y = 1.0 / y\r",
        "\r\n",
        "\r",
        "\r\n",
        "z = x / y\r",
        "\r\n",
        "z1 = x * inv_y\r",
        "\r\n",
        "\r",
        "\r\n",
        "if (z != z1)\r",
        "\r\n",
        "  sprintf(\"%1.3f != %1.3f\", z, z1)\r",
        "\r\n",
        "  sprintf(\"%1.30f != %1.30f\", z, z1)\r",
        "\r\n",
        "else\r",
        "\r\n",
        "  sprintf(\"%1.3f == %1.3f\", z, z1)\r",
        "\r\n",
        "  sprintf(\"%1.30f == %1.30f\", z, z1)\r",
        "\r\n",
        "endif\r",
        "\r\n"
       ]
      }
     ],
     "prompt_number": 3
    },
    {
     "cell_type": "markdown",
     "metadata": {},
     "source": [
      "- \u00bfQu\u00e9 hace este c\u00f3digo?\n",
      "- Abre el programa `GNU Octave` y ejec\u00fatalo en la consola. \u00bfResult\u00f3 lo que esperabas?\n",
      "- `z`,  `z1` \u00bfSon `SP` o `DP`?"
     ]
    },
    {
     "cell_type": "markdown",
     "metadata": {},
     "source": [
      "Lo que hace el c\u00f3digo es sacar dos n\u00fameros de diferente forma para ver si son el mismo y comprobar si se pierde presici\u00f3n.\n",
      "\n",
      "Al correr el programa result\u00f3 que son diferentes, y que s\u00ed se pierde presici\u00f3n en ese caso.\n",
      "\n",
      "Ambos son SP."
     ]
    },
    {
     "cell_type": "markdown",
     "metadata": {},
     "source": [
      "<div class=\"alert alert-info\">\n",
      "**NOTA** `single` en `GNU Octave` y `Matlab` es la instrucci\u00f3n para indicarle al programa que trabaje en _single precision_.\n",
      "</div>"
     ]
    },
    {
     "cell_type": "markdown",
     "metadata": {},
     "source": [
      "<div class=\"alert alert-info\">\n",
      "**NOTA** Para ejecutar un _script_ en `GNU Octave` solo debes de teclear su nombre (obvio si lo tienes en tu carpeta)\n",
      "</div>"
     ]
    },
    {
     "cell_type": "markdown",
     "metadata": {},
     "source": [
      "- Comp\u00e1ralo con el _script_ `strange_floats_dp.m` \u00bfPor qu\u00e9 es la diferencia? Explica la salida de ambos programas."
     ]
    },
    {
     "cell_type": "code",
     "collapsed": false,
     "input": [
      "!cat strange_floats_dp.m"
     ],
     "language": "python",
     "metadata": {},
     "outputs": [
      {
       "output_type": "stream",
       "stream": "stdout",
       "text": [
        "x = 77777.0\r\n",
        "y = 7.0\r\n",
        "inv_y = 1.0 / y\r\n",
        "\r\n",
        "z = x / y\r\n",
        "z1 = x * inv_y\r\n",
        "\r\n",
        "if (z != z1)\r\n",
        "  sprintf(\"%1.3f != %1.3f\", z, z1)\r\n",
        "  sprintf(\"%1.30f != %1.30f\", z, z1)\r\n",
        "else\r\n",
        "  sprintf(\"%1.3f == %1.3f\", z, z1)\r\n",
        "  sprintf(\"%1.30f == %1.30f\", z, z1)\r\n",
        "endif\r\n"
       ]
      }
     ],
     "prompt_number": 11
    },
    {
     "cell_type": "markdown",
     "metadata": {},
     "source": [
      "- `z`,  `z1` \u00bfSon `SP` o `DP`?"
     ]
    },
    {
     "cell_type": "markdown",
     "metadata": {},
     "source": [
      "En este caso ambos ya son de Doble Presici\u00f3n y s\u00ed se logra que den lo mismo los dos n\u00fameros. Todo el c\u00f3digo es lo mismo."
     ]
    },
    {
     "cell_type": "heading",
     "level": 2,
     "metadata": {},
     "source": [
      "Problema 8"
     ]
    },
    {
     "cell_type": "markdown",
     "metadata": {},
     "source": [
      "La _varianza_ de $n$ datos se define como"
     ]
    },
    {
     "cell_type": "markdown",
     "metadata": {},
     "source": [
      "$$\n",
      "\n",
      "s_n^2 = \\frac{1}{n - 1} \\sum^n_{i=1} (x_i - \\bar{x})^2\n",
      "\n",
      "$$"
     ]
    },
    {
     "cell_type": "markdown",
     "metadata": {},
     "source": [
      "donde $\\bar{x}$"
     ]
    },
    {
     "cell_type": "markdown",
     "metadata": {},
     "source": [
      "$$\n",
      "\\bar{x} = \\frac{1}{n} \\sum^n_{i = 1} x_i\n",
      "$$"
     ]
    },
    {
     "cell_type": "markdown",
     "metadata": {},
     "source": [
      "Esta definici\u00f3n es poco eficiente ya que requiere dos pasadas a los datos para calcular la _varianza_."
     ]
    },
    {
     "cell_type": "markdown",
     "metadata": {},
     "source": [
      "* Crea una funci\u00f3n an\u00f3nima en `numpy` o `GNU/Octave` que reproduzca este algoritmo."
     ]
    },
    {
     "cell_type": "code",
     "collapsed": false,
     "input": [
      "import numpy as np"
     ],
     "language": "python",
     "metadata": {},
     "outputs": [],
     "prompt_number": 4
    },
    {
     "cell_type": "code",
     "collapsed": false,
     "input": [
      "promedio = lambda arr: np.double(np.array(arr).sum()) / len(arr)"
     ],
     "language": "python",
     "metadata": {},
     "outputs": [],
     "prompt_number": 25
    },
    {
     "cell_type": "code",
     "collapsed": false,
     "input": [
      "promedio([5,8])"
     ],
     "language": "python",
     "metadata": {},
     "outputs": [
      {
       "metadata": {},
       "output_type": "pyout",
       "prompt_number": 27,
       "text": [
        "6.5"
       ]
      }
     ],
     "prompt_number": 27
    },
    {
     "cell_type": "code",
     "collapsed": false,
     "input": [
      "var1 = lambda arr: np.double(np.array((arr - promedio(arr))**2).sum()) / (len(arr)-1)\n",
      "    "
     ],
     "language": "python",
     "metadata": {},
     "outputs": [],
     "prompt_number": 31
    },
    {
     "cell_type": "code",
     "collapsed": false,
     "input": [
      "var1([10000,10001, 10002])"
     ],
     "language": "python",
     "metadata": {},
     "outputs": [
      {
       "metadata": {},
       "output_type": "pyout",
       "prompt_number": 33,
       "text": [
        "1.0"
       ]
      }
     ],
     "prompt_number": 33
    },
    {
     "cell_type": "markdown",
     "metadata": {},
     "source": [
      "En los libros de texto se recomienda (o se reescribe) la definici\u00f3n de la siguiente manera:"
     ]
    },
    {
     "cell_type": "markdown",
     "metadata": {},
     "source": [
      "$$\n",
      "s_n^2 = \\frac{1}{n-1} \\left( \\sum^n_{i=1} x_i^2 -  \\frac{1}{n}\\left(\\sum^n_{i=1} x_i\\right)^2\\right)\n",
      "$$"
     ]
    },
    {
     "cell_type": "markdown",
     "metadata": {},
     "source": [
      "El cual es m\u00e1s eficiente computacionalmente hablando"
     ]
    },
    {
     "cell_type": "markdown",
     "metadata": {},
     "source": [
      "* Crea un programa en `numpy` o `GNU/Octave` que reproduzca este algoritmo."
     ]
    },
    {
     "cell_type": "code",
     "collapsed": false,
     "input": [
      "var2 = lambda arr: np.double((sum(np.array(arr)**2) - (sum(np.array(arr))**2)/(len(np.array(arr))))) / (len(np.array(arr))-1)"
     ],
     "language": "python",
     "metadata": {},
     "outputs": [],
     "prompt_number": 33
    },
    {
     "cell_type": "code",
     "collapsed": false,
     "input": [
      "var2([10000,10001, 10002])"
     ],
     "language": "python",
     "metadata": {},
     "outputs": [
      {
       "metadata": {},
       "output_type": "pyout",
       "prompt_number": 34,
       "text": [
        "1.0"
       ]
      }
     ],
     "prompt_number": 34
    },
    {
     "cell_type": "markdown",
     "metadata": {},
     "source": [
      "* Sean los datos $10000, 10001, 10002$, Realiza el c\u00e1lculo a mano y comp\u00e1ralo con los dos algoritmos. Expl\u00edca las diferencias y el posible error."
     ]
    },
    {
     "cell_type": "markdown",
     "metadata": {},
     "source": [
      "En ambos casos me da la respuesta correcta."
     ]
    },
    {
     "cell_type": "heading",
     "level": 2,
     "metadata": {},
     "source": [
      "Problema 9"
     ]
    },
    {
     "cell_type": "markdown",
     "metadata": {},
     "source": [
      "* Carga la funci\u00f3n `factorial` definida en el archivo `factorial.py`"
     ]
    },
    {
     "cell_type": "code",
     "collapsed": false,
     "input": [
      "%load factorial.py"
     ],
     "language": "python",
     "metadata": {},
     "outputs": [],
     "prompt_number": 35
    },
    {
     "cell_type": "code",
     "collapsed": false,
     "input": [
      "def factorial(n):\n",
      "    if n == 0:\n",
      "        return 1\n",
      "    elif n == 1:\n",
      "        return 1\n",
      "    else:\n",
      "        return factorial(n-1)*n\n"
     ],
     "language": "python",
     "metadata": {},
     "outputs": [],
     "prompt_number": 36
    },
    {
     "cell_type": "markdown",
     "metadata": {},
     "source": [
      "La serie de Maclaurin es un caso especial de la serie de Taylor de una funci\u00f3n $f$ alrededor de $0$"
     ]
    },
    {
     "cell_type": "markdown",
     "metadata": {},
     "source": [
      "$$\n",
      "f(x) = f(0) + f'(0) + \\frac{f''(0)}{2!} + \\ldots = \\sum^\\infty_{i=0}\\frac{1}{n\\!}f^{(n)}(0)\n",
      "$$"
     ]
    },
    {
     "cell_type": "markdown",
     "metadata": {},
     "source": [
      "En particular, la funci\u00f3n exponencial tiene la siguiente forma:"
     ]
    },
    {
     "cell_type": "markdown",
     "metadata": {},
     "source": [
      "$$\n",
      "e^x = 1 + x + \\frac{x^2}{2} + \\ldots = \\sum^\\infty_{i=0} \\frac{x^i}{i\\!}\n",
      "$$"
     ]
    },
    {
     "cell_type": "markdown",
     "metadata": {},
     "source": [
      "* Usando la funci\u00f3n `factorial` crea la funci\u00f3n `exp_maclaurin(x,n)`, que imprima lo siguiente:"
     ]
    },
    {
     "cell_type": "markdown",
     "metadata": {},
     "source": [
      "    print \"%12s\\t%12s\\t%12s\\t%12s\\t%20s\\t%20s\" % (\"i\", \"x\", \"x^i\", \"factorial(i)\", \"x^i/factorial(i)\", \"suma\")"
     ]
    },
    {
     "cell_type": "code",
     "collapsed": false,
     "input": [
      "def exp_maclaurin(x, n):\n",
      "    suma = 0.0\n",
      "    for i in range(n+1):\n",
      "        suma += x**i / factorial(i)\n",
      "        print \"%12s\\t%12s\\t%12s\\t%12s\\t%20s\\t%20s\" % (i, x, x**i, factorial(i), x**i/factorial(i), suma)\n",
      "    return suma"
     ],
     "language": "python",
     "metadata": {},
     "outputs": [],
     "prompt_number": 50
    },
    {
     "cell_type": "markdown",
     "metadata": {},
     "source": [
      "* Usando la funci\u00f3n `np.exp` calcula `0`, `1`, `5.5` y `-5.5`"
     ]
    },
    {
     "cell_type": "code",
     "collapsed": false,
     "input": [
      "print np.exp(0.1)\n",
      "print np.exp(5.5)\n",
      "print np.exp(-5.5)"
     ],
     "language": "python",
     "metadata": {},
     "outputs": [
      {
       "output_type": "stream",
       "stream": "stdout",
       "text": [
        "1.10517091808\n",
        "244.691932264\n",
        "0.00408677143846\n"
       ]
      }
     ],
     "prompt_number": 39
    },
    {
     "cell_type": "markdown",
     "metadata": {},
     "source": [
      "* Usando tu funci\u00f3n, calcula los mismos valores a orden 20 \u00bfEn cu\u00e1l falla? \u00bfPor qu\u00e9 crees que sea?"
     ]
    },
    {
     "cell_type": "markdown",
     "metadata": {},
     "source": [
      "Falla en los dos \u00faltimos. Lo que pasa como se peude ver en las impresiones es que a partir de cierto momento deja considerar en la suma n\u00fameros peque\u00f1os y el error pues se va cargando. "
     ]
    },
    {
     "cell_type": "code",
     "collapsed": false,
     "input": [
      "print exp_maclaurin(0.1, 20)\n",
      "print exp_maclaurin(5.5, 20)\n",
      "print exp_maclaurin(-5.5, 20)"
     ],
     "language": "python",
     "metadata": {},
     "outputs": [
      {
       "output_type": "stream",
       "stream": "stdout",
       "text": [
        "           0\t         0.1\t         1.0\t           1\t                 1.0\t                 1.0\n",
        "           1\t         0.1\t         0.1\t           1\t                 0.1\t                 1.1\n",
        "           2\t         0.1\t        0.01\t           2\t               0.005\t               1.105\n",
        "           3\t         0.1\t       0.001\t           6\t   0.000166666666667\t       1.10516666667\n",
        "           4\t         0.1\t      0.0001\t          24\t   4.16666666667e-06\t       1.10517083333\n",
        "           5\t         0.1\t       1e-05\t         120\t   8.33333333333e-08\t       1.10517091667\n",
        "           6\t         0.1\t       1e-06\t         720\t   1.38888888889e-09\t       1.10517091806\n",
        "           7\t         0.1\t       1e-07\t        5040\t   1.98412698413e-11\t       1.10517091808\n",
        "           8\t         0.1\t       1e-08\t       40320\t   2.48015873016e-13\t       1.10517091808\n",
        "           9\t         0.1\t       1e-09\t      362880\t    2.7557319224e-15\t       1.10517091808\n",
        "          10\t         0.1\t       1e-10\t     3628800\t    2.7557319224e-17\t       1.10517091808\n",
        "          11\t         0.1\t       1e-11\t    39916800\t   2.50521083854e-19\t       1.10517091808\n",
        "          12\t         0.1\t       1e-12\t   479001600\t   2.08767569879e-21\t       1.10517091808\n",
        "          13\t         0.1\t       1e-13\t  6227020800\t   1.60590438368e-23\t       1.10517091808\n",
        "          14\t         0.1\t       1e-14\t 87178291200\t   1.14707455977e-25\t       1.10517091808\n",
        "          15\t         0.1\t       1e-15\t1307674368000\t   7.64716373182e-28\t       1.10517091808\n",
        "          16\t         0.1\t       1e-16\t20922789888000\t   4.77947733239e-30\t       1.10517091808\n",
        "          17\t         0.1\t       1e-17\t355687428096000\t   2.81145725435e-32\t       1.10517091808\n",
        "          18\t         0.1\t       1e-18\t6402373705728000\t   1.56192069686e-34\t       1.10517091808\n",
        "          19\t         0.1\t       1e-19\t121645100408832000\t   8.22063524662e-37\t       1.10517091808\n",
        "          20\t         0.1\t       1e-20\t2432902008176640000\t   4.11031762331e-39\t       1.10517091808\n",
        "1.10517091808\n",
        "           0\t         5.5\t         1.0\t           1\t                 1.0\t                 1.0\n",
        "           1\t         5.5\t         5.5\t           1\t                 5.5\t                 6.5\n",
        "           2\t         5.5\t       30.25\t           2\t              15.125\t              21.625\n",
        "           3\t         5.5\t     166.375\t           6\t       27.7291666667\t       49.3541666667\n",
        "           4\t         5.5\t    915.0625\t          24\t       38.1276041667\t       87.4817708333\n",
        "           5\t         5.5\t  5032.84375\t         120\t       41.9403645833\t       129.422135417\n",
        "           6\t         5.5\t27680.640625\t         720\t       38.4453342014\t       167.867469618\n",
        "           7\t         5.5\t152243.523438\t        5040\t       30.2070483011\t       198.074517919\n",
        "           8\t         5.5\t837339.378906\t       40320\t        20.767345707\t       218.841863626\n",
        "           9\t         5.5\t4605366.58398\t      362880\t       12.6911557098\t       231.533019336\n",
        "          10\t         5.5\t25329516.2119\t     3628800\t       6.98013564041\t       238.513154976\n",
        "          11\t         5.5\t139312339.166\t    39916800\t        3.4900678202\t       242.003222797\n",
        "          12\t         5.5\t766217865.41\t   479001600\t       1.59961441759\t       243.602837214\n",
        "          13\t         5.5\t4214198259.76\t  6227020800\t      0.676759945905\t        244.27959716\n",
        "          14\t         5.5\t23178090428.7\t 87178291200\t      0.265869978748\t       244.545467139\n",
        "          15\t         5.5\t1.27479497358e+11\t1307674368000\t     0.0974856588744\t       244.642952798\n",
        "          16\t         5.5\t7.01137235467e+11\t20922789888000\t     0.0335106952381\t       244.676463493\n",
        "          17\t         5.5\t3.85625479507e+12\t355687428096000\t     0.0108416955182\t       244.687305188\n",
        "          18\t         5.5\t2.12094013729e+13\t6402373705728000\t    0.00331274029723\t       244.690617929\n",
        "          19\t         5.5\t1.16651707551e+14\t121645100408832000\t   0.000958951138671\t        244.69157688\n",
        "          20\t         5.5\t6.4158439153e+14\t2432902008176640000\t   0.000263711563135\t       244.691840591\n",
        "244.691840591\n",
        "           0\t        -5.5\t         1.0\t           1\t                 1.0\t                 1.0\n",
        "           1\t        -5.5\t        -5.5\t           1\t                -5.5\t                -4.5\n",
        "           2\t        -5.5\t       30.25\t           2\t              15.125\t              10.625\n",
        "           3\t        -5.5\t    -166.375\t           6\t      -27.7291666667\t      -17.1041666667\n",
        "           4\t        -5.5\t    915.0625\t          24\t       38.1276041667\t          21.0234375\n",
        "           5\t        -5.5\t -5032.84375\t         120\t      -41.9403645833\t      -20.9169270833\n",
        "           6\t        -5.5\t27680.640625\t         720\t       38.4453342014\t       17.5284071181\n",
        "           7\t        -5.5\t-152243.523438\t        5040\t      -30.2070483011\t       -12.678641183\n",
        "           8\t        -5.5\t837339.378906\t       40320\t        20.767345707\t       8.08870452396\n",
        "           9\t        -5.5\t-4605366.58398\t      362880\t      -12.6911557098\t      -4.60245118587\n",
        "          10\t        -5.5\t25329516.2119\t     3628800\t       6.98013564041\t       2.37768445454\n",
        "          11\t        -5.5\t-139312339.166\t    39916800\t       -3.4900678202\t      -1.11238336566\n",
        "          12\t        -5.5\t766217865.41\t   479001600\t       1.59961441759\t      0.487231051929\n",
        "          13\t        -5.5\t-4214198259.76\t  6227020800\t     -0.676759945905\t     -0.189528893976\n",
        "          14\t        -5.5\t23178090428.7\t 87178291200\t      0.265869978748\t     0.0763410847723\n",
        "          15\t        -5.5\t-1.27479497358e+11\t1307674368000\t    -0.0974856588744\t    -0.0211445741022\n",
        "          16\t        -5.5\t7.01137235467e+11\t20922789888000\t     0.0335106952381\t     0.0123661211359\n",
        "          17\t        -5.5\t-3.85625479507e+12\t355687428096000\t    -0.0108416955182\t    0.00152442561772\n",
        "          18\t        -5.5\t2.12094013729e+13\t6402373705728000\t    0.00331274029723\t    0.00483716591495\n",
        "          19\t        -5.5\t-1.16651707551e+14\t121645100408832000\t  -0.000958951138671\t    0.00387821477628\n",
        "          20\t        -5.5\t6.4158439153e+14\t2432902008176640000\t   0.000263711563135\t    0.00414192633941\n",
        "0.00414192633941\n"
       ]
      }
     ],
     "prompt_number": 51
    },
    {
     "cell_type": "markdown",
     "metadata": {},
     "source": [
      "* \u00bfC\u00f3mo resolver\u00edas este problema? Implementa tu soluci\u00f3n."
     ]
    },
    {
     "cell_type": "markdown",
     "metadata": {},
     "source": [
      "Que tenga m\u00e1s presici\u00f3n. Pero no lo logr\u00e9."
     ]
    },
    {
     "cell_type": "code",
     "collapsed": false,
     "input": [
      "def exp_maclaurin2(x, n):\n",
      "    suma = np.float_(x**n)\n",
      "    last = n\n",
      "    for i in range(n - 1, -1, -1):\n",
      "        suma += (x**i)*last\n",
      "        if i > 0:\n",
      "            last *= i\n",
      "        print \"%12s\\t%12s\\t%12s\\t%12s\\t%20s\\t%20s\" % (i, x, x**i, factorial(i), x**i/factorial(i), suma)\n",
      "    suma = suma/last\n",
      "    return suma"
     ],
     "language": "python",
     "metadata": {},
     "outputs": [],
     "prompt_number": 80
    },
    {
     "cell_type": "code",
     "collapsed": false,
     "input": [
      "def exp_maclaurin3(x, n):\n",
      "    suma = 0.0\n",
      "    for i in range(n, 0, -1):\n",
      "        suma += x**i / factorial(i)\n",
      "        print \"%12s\\t%12s\\t%12s\\t%12s\\t%20s\\t%20s\" % (i, x, x**i, factorial(i), x**i/factorial(i), suma)\n",
      "    return suma"
     ],
     "language": "python",
     "metadata": {},
     "outputs": [],
     "prompt_number": 75
    },
    {
     "cell_type": "code",
     "collapsed": false,
     "input": [
      "print exp_maclaurin2(0.1, 20)\n",
      "print exp_maclaurin2(5.5, 20)\n",
      "print exp_maclaurin2(-5.5, 20)"
     ],
     "language": "python",
     "metadata": {},
     "outputs": [
      {
       "output_type": "stream",
       "stream": "stdout",
       "text": [
        "          19\t         0.1\t       1e-19\t121645100408832000\t   8.22063524662e-37\t            2.01e-18\n",
        "          18\t         0.1\t       1e-18\t6402373705728000\t   1.56192069686e-34\t          3.8201e-16\n",
        "          17\t         0.1\t       1e-17\t355687428096000\t   2.81145725435e-32\t        6.878201e-14\n",
        "          16\t         0.1\t       1e-16\t20922789888000\t   4.77947733239e-30\t     1.169678201e-11\n",
        "          15\t         0.1\t       1e-15\t1307674368000\t   7.64716373182e-28\t   1.87217678201e-09\n",
        "          14\t         0.1\t       1e-14\t 87178291200\t   1.14707455977e-25\t   2.80944176782e-07\n",
        "          13\t         0.1\t       1e-13\t  6227020800\t   1.60590438368e-23\t   3.93510241768e-05\n",
        "          12\t         0.1\t       1e-12\t   479001600\t   2.08767569879e-21\t    0.00511846142418\n",
        "          11\t         0.1\t       1e-11\t    39916800\t   2.50521083854e-19\t      0.614611709424\n",
        "          10\t         0.1\t       1e-10\t     3628800\t    2.7557319224e-17\t       67.6588689894\n",
        "           9\t         0.1\t       1e-09\t      362880\t    2.7557319224e-15\t       6772.08459699\n",
        "           8\t         0.1\t       1e-08\t       40320\t   2.48015873016e-13\t       610170.400117\n",
        "           7\t         0.1\t       1e-07\t        5040\t   1.98412698413e-11\t       48882035.6417\n",
        "           6\t         0.1\t       1e-06\t         720\t   1.38888888889e-09\t       3427912602.55\n",
        "           5\t         0.1\t       1e-05\t         120\t   8.33333333333e-08\t      206169746617.0\n",
        "           4\t         0.1\t      0.0001\t          24\t   4.16666666667e-06\t   1.03432614474e+13\n",
        "           3\t         0.1\t       0.001\t           6\t   0.000166666666667\t   4.15826929477e+14\n",
        "           2\t         0.1\t        0.01\t           2\t               0.005\t   1.25803369704e+16\n",
        "           1\t         0.1\t         0.1\t           1\t                 0.1\t   2.55870537788e+17\n",
        "           0\t         0.1\t         1.0\t           1\t                 1.0\t   2.68877254596e+18\n",
        "1.10517091808\n",
        "          19\t         5.5\t1.16651707551e+14\t121645100408832000\t   0.000958951138671\t   2.97461854255e+15\n",
        "          18\t         5.5\t2.12094013729e+13\t6402373705728000\t    0.00331274029723\t   1.10341910642e+16\n",
        "          17\t         5.5\t3.85625479507e+12\t355687428096000\t     0.0108416955182\t   3.74109738625e+16\n",
        "          16\t         5.5\t7.01137235467e+11\t20922789888000\t     0.0335106952381\t   1.18939211603e+17\n",
        "          15\t         5.5\t1.27479497358e+11\t1307674368000\t     0.0974856588744\t   3.56112266847e+17\n",
        "          14\t         5.5\t23178090428.7\t 87178291200\t      0.265869978748\t   1.00294787206e+18\n",
        "          13\t         5.5\t4214198259.76\t  6227020800\t      0.676759945905\t    2.6494385035e+18\n",
        "          12\t         5.5\t766217865.41\t   479001600\t       1.59961441759\t   6.54114363237e+18\n",
        "          11\t         5.5\t139312339.166\t    39916800\t        3.4900678202\t   1.50321366408e+19\n",
        "          10\t         5.5\t25329516.2119\t     3628800\t       6.98013564041\t   3.20141226577e+19\n",
        "           9\t         5.5\t4605366.58398\t      362880\t       12.6911557098\t   6.28904608703e+19\n",
        "           8\t         5.5\t837339.378906\t       40320\t        20.767345707\t   1.13415377945e+20\n",
        "           7\t         5.5\t152243.523438\t        5040\t       30.2070483011\t   1.86906166418e+20\n",
        "           6\t         5.5\t27680.640625\t         720\t       38.4453342014\t   2.80439897202e+20\n",
        "           5\t         5.5\t  5032.84375\t         120\t       41.9403645833\t    3.8247669442e+20\n",
        "           4\t         5.5\t    915.0625\t          24\t       38.1276041667\t   4.75237419164e+20\n",
        "           3\t         5.5\t     166.375\t           6\t       27.7291666667\t   5.42699764433e+20\n",
        "           2\t         5.5\t       30.25\t           2\t              15.125\t   5.79497407306e+20\n",
        "           1\t         5.5\t         5.5\t           1\t                 5.5\t   5.92878368351e+20\n",
        "           0\t         5.5\t         1.0\t           1\t                 1.0\t   5.95311270359e+20\n",
        "244.691840591\n",
        "          19\t        -5.5\t-1.16651707551e+14\t121645100408832000\t  -0.000958951138671\t  -1.69144975949e+15\n",
        "          18\t        -5.5\t2.12094013729e+13\t6402373705728000\t    0.00331274029723\t   6.36812276221e+15\n",
        "          17\t        -5.5\t-3.85625479507e+12\t355687428096000\t    -0.0108416955182\t  -2.00086600361e+16\n",
        "          16\t        -5.5\t7.01137235467e+11\t20922789888000\t     0.0335106952381\t    6.1519577704e+16\n",
        "          15\t        -5.5\t-1.27479497358e+11\t1307674368000\t    -0.0974856588744\t   -1.7565347754e+17\n",
        "          14\t        -5.5\t23178090428.7\t 87178291200\t      0.265869978748\t   4.71182127671e+17\n",
        "          13\t        -5.5\t-4214198259.76\t  6227020800\t     -0.676759945905\t  -1.17530850377e+18\n",
        "          12\t        -5.5\t766217865.41\t   479001600\t       1.59961441759\t    2.7163966251e+18\n",
        "          11\t        -5.5\t-139312339.166\t    39916800\t       -3.4900678202\t  -5.77459638335e+18\n",
        "          10\t        -5.5\t25329516.2119\t     3628800\t       6.98013564041\t   1.12073896335e+19\n",
        "           9\t        -5.5\t-4605366.58398\t      362880\t      -12.6911557098\t   -1.9668948579e+19\n",
        "           8\t        -5.5\t837339.378906\t       40320\t        20.767345707\t   3.08559684961e+19\n",
        "           7\t        -5.5\t-152243.523438\t        5040\t      -30.2070483011\t  -4.26348199767e+19\n",
        "           6\t        -5.5\t27680.640625\t         720\t       38.4453342014\t   5.08989108068e+19\n",
        "           5\t        -5.5\t -5032.84375\t         120\t      -41.9403645833\t  -5.11378864116e+19\n",
        "           4\t        -5.5\t    915.0625\t          24\t       38.1276041667\t   4.16228383324e+19\n",
        "           3\t        -5.5\t    -166.375\t           6\t      -27.7291666667\t   -2.5839506936e+19\n",
        "           2\t        -5.5\t       30.25\t           2\t              15.125\t   1.09581359377e+19\n",
        "           1\t        -5.5\t        -5.5\t           1\t                -5.5\t  -2.42282510727e+18\n",
        "           0\t        -5.5\t         1.0\t           1\t                 1.0\t   1.00769009089e+16\n",
        "0.00414192633942\n"
       ]
      }
     ],
     "prompt_number": 81
    },
    {
     "cell_type": "markdown",
     "metadata": {},
     "source": [
      "<div class=\"alert alert-info\">\n",
      "**HINT** Recuerda las leyes de los exponentes\n",
      "</div>"
     ]
    },
    {
     "cell_type": "heading",
     "level": 2,
     "metadata": {},
     "source": [
      "Problema 10"
     ]
    },
    {
     "cell_type": "markdown",
     "metadata": {},
     "source": [
      "- \u00bfQu\u00e9 pasa si usas 16 bits, 32 bits o 64 bits?\n",
      "- Implementa el **problema 8** usando el otro lenguaje que no usaste \u00bfEl resultado es diferente? "
     ]
    },
    {
     "cell_type": "markdown",
     "metadata": {},
     "source": [
      "Lo \u00fanico que cambia ser\u00eda la presici\u00f3n. Mientras m\u00e1s bits tenga es casi seguro que va a dar una respuesta m\u00e1s cercana a la verdadera."
     ]
    },
    {
     "cell_type": "markdown",
     "metadata": {},
     "source": [
      "http://ideone.com/lhs9UZ"
     ]
    },
    {
     "cell_type": "markdown",
     "metadata": {},
     "source": [
      "En este caso me responde lo mismo. En casos m\u00e1s extremos me va a dar una mejor respuesta ya que tengo en C++ un objeto que tiene presici\u00f3n de 80 bits. (long double)"
     ]
    }
   ],
   "metadata": {}
  }
 ]
}