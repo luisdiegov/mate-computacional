{
 "metadata": {
  "name": "",
  "signature": "sha256:a001e909f03f25029f5cbd3084c80c1be58e504f8cb95bd49fd0c1efc2158926"
 },
 "nbformat": 3,
 "nbformat_minor": 0,
 "worksheets": [
  {
   "cells": [
    {
     "cell_type": "code",
     "collapsed": false,
     "input": [
      "%%file transformaciones.py\n",
      "from math import *\n",
      "def coordenadasEsfericas(r, theta, phi):\n",
      "    x = r*sin(phi)*cos(theta)\n",
      "    y = r*sin(phi)*sin(theta)\n",
      "    x = r*cos(phi)\n",
      "    print x,y,z\n",
      "    \n",
      "def coordenadasCartesianas(x, y, z):\n",
      "    r = x**2 + y**2 + z**2\n",
      "    r = sqrt(r)\n",
      "    theta = atan2(sqrt(x**2 + y**2), z)\n",
      "    phi = atan2(y, x)\n",
      "    print r, theta, phi"
     ],
     "language": "python",
     "metadata": {},
     "outputs": [
      {
       "output_type": "stream",
       "stream": "stdout",
       "text": [
        "Overwriting transformaciones.py\n"
       ]
      }
     ],
     "prompt_number": 9
    }
   ],
   "metadata": {}
  }
 ]
}