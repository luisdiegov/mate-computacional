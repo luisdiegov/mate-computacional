{
 "metadata": {
  "name": "",
  "signature": "sha256:a5a7a8f311480413b747f0dbe48795a370fd408073365a1a3ad3bf415b57cdd4"
 },
 "nbformat": 3,
 "nbformat_minor": 0,
 "worksheets": [
  {
   "cells": [
    {
     "cell_type": "code",
     "collapsed": false,
     "input": [
      "from math import sqrt, tanh\n",
      "def f(x):\n",
      "    return sqrt(9.8*x*4) * tanh(sqrt(9.8/4/x)*4) - 36"
     ],
     "language": "python",
     "metadata": {},
     "outputs": [],
     "prompt_number": 45
    },
    {
     "cell_type": "code",
     "collapsed": false,
     "input": [
      "def derivadaChafa (f, a , b):  \n",
      "    return(f(a)-f(b))/(a-b)"
     ],
     "language": "python",
     "metadata": {},
     "outputs": [],
     "prompt_number": 46
    },
    {
     "cell_type": "code",
     "collapsed": false,
     "input": [
      "def secante(f, x0, x1, tolerancia, stop):\n",
      "    t = 0\n",
      "    while t <= stop and x1 - x0 >= tolerancia:\n",
      "        x2 = x0\n",
      "        x0 = x1\n",
      "        x1 = x1 - f(x1) / derivadaChafa(f, x2, x1)\n",
      "        t = t + 1\n",
      "        \n",
      "    return x0"
     ],
     "language": "python",
     "metadata": {},
     "outputs": [],
     "prompt_number": 47
    },
    {
     "cell_type": "code",
     "collapsed": false,
     "input": [
      "secante(f, 100.0, 100.5, .000001, 300)"
     ],
     "language": "python",
     "metadata": {},
     "outputs": [
      {
       "metadata": {},
       "output_type": "pyout",
       "prompt_number": 48,
       "text": [
        "144.40669396060625"
       ]
      }
     ],
     "prompt_number": 48
    },
    {
     "cell_type": "code",
     "collapsed": false,
     "input": [
      "def secante_modificado(f, x0, tolerancia, stop):\n",
      "    d = .000001\n",
      "    t = 0\n",
      "    x1 = x0 + d*x0\n",
      "    while t < stop and x1 - x0 >= tolerancia:\n",
      "        x2 = x0\n",
      "        x0 = x1\n",
      "        x1 = x1 - f(x1) / derivadaChafa(f, x2, x2*d)\n",
      "        t = t + 1\n",
      "        \n",
      "    return x0"
     ],
     "language": "python",
     "metadata": {},
     "outputs": [],
     "prompt_number": 49
    },
    {
     "cell_type": "code",
     "collapsed": false,
     "input": [
      "secante_modificado(f, 100.0,.000001, 300)\n"
     ],
     "language": "python",
     "metadata": {},
     "outputs": [
      {
       "metadata": {},
       "output_type": "pyout",
       "prompt_number": 50,
       "text": [
        "144.40668202091817"
       ]
      }
     ],
     "prompt_number": 50
    },
    {
     "cell_type": "code",
     "collapsed": false,
     "input": [
      "secante_modificado(f, 50.0,.000001, 300)\n"
     ],
     "language": "python",
     "metadata": {},
     "outputs": [
      {
       "metadata": {},
       "output_type": "pyout",
       "prompt_number": 51,
       "text": [
        "144.40668225747362"
       ]
      }
     ],
     "prompt_number": 51
    }
   ],
   "metadata": {}
  }
 ]
}