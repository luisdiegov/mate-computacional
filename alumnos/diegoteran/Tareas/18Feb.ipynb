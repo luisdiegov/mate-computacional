{
 "metadata": {
  "name": "",
  "signature": "sha256:4bb8feb84c832fb068732a29fd4a1115312dbf71f1e48878e6a3515c92f0e9c5"
 },
 "nbformat": 3,
 "nbformat_minor": 0,
 "worksheets": [
  {
   "cells": [
    {
     "cell_type": "code",
     "collapsed": false,
     "input": [
      "def decimalABinarioB2(n): #Con compemento a base 2\n",
      "    ans = 0\n",
      "    b = 1 \n",
      "    assert (n <= 127 and n >= -128), \"Overflow\"\n",
      "    if n < 0:\n",
      "        n = 256 + n\n",
      "    while n > 0:\n",
      "        if n % 2 == 1:\n",
      "            ans += b\n",
      "        b *= 10\n",
      "        n /= 2 \n",
      "    return ans"
     ],
     "language": "python",
     "metadata": {},
     "outputs": [],
     "prompt_number": 40
    },
    {
     "cell_type": "code",
     "collapsed": false,
     "input": [
      "print decimalABinarioComplementoBaseDos(-79)"
     ],
     "language": "python",
     "metadata": {},
     "outputs": [
      {
       "output_type": "stream",
       "stream": "stdout",
       "text": [
        "10110001\n"
       ]
      }
     ],
     "prompt_number": 41
    },
    {
     "cell_type": "code",
     "collapsed": false,
     "input": [
      "def decimalABinario(n): #Sin compemento a base 2\n",
      "    ans = 0\n",
      "    b = 1 \n",
      "    assert (n <= 256 and n >= 0), \"Overflow\"    \n",
      "    while n > 0:\n",
      "        if n % 2 == 1:\n",
      "            ans += b\n",
      "        b *= 10\n",
      "        n /= 2 \n",
      "    return ans"
     ],
     "language": "python",
     "metadata": {},
     "outputs": [],
     "prompt_number": 42
    },
    {
     "cell_type": "code",
     "collapsed": false,
     "input": [
      "def binarioADecimalB2(n): #Con compemento a base 2\n",
      "    assert (n <= 11111111 and n >= 0), \"Overflow\" \n",
      "    m = n%10000000\n",
      "    b = 1\n",
      "    ans = 0\n",
      "    while m > 0:\n",
      "        if m%2 > 0:\n",
      "            ans += b\n",
      "        b *= 2\n",
      "        m /= 10\n",
      "    if n >= 10000000:\n",
      "        ans -= 128\n",
      "    return ans"
     ],
     "language": "python",
     "metadata": {},
     "outputs": [],
     "prompt_number": 46
    },
    {
     "cell_type": "code",
     "collapsed": false,
     "input": [
      "print binarioADecimalB2(10110001)"
     ],
     "language": "python",
     "metadata": {},
     "outputs": [
      {
       "output_type": "stream",
       "stream": "stdout",
       "text": [
        "-79\n"
       ]
      }
     ],
     "prompt_number": 47
    },
    {
     "cell_type": "code",
     "collapsed": false,
     "input": [
      "def binarioADecimal(n): #Sin compemento a base 2\n",
      "    assert (n <= 11111111 and n >= 0), \"Overflow\"\n",
      "    b = 1\n",
      "    ans = 0\n",
      "    while n > 0:\n",
      "        if n%2 > 0:\n",
      "            ans += b\n",
      "        b *= 2\n",
      "        n /= 10\n",
      "    return ans"
     ],
     "language": "python",
     "metadata": {},
     "outputs": [],
     "prompt_number": 52
    },
    {
     "cell_type": "code",
     "collapsed": false,
     "input": [
      "print binarioADecimal(11111111)"
     ],
     "language": "python",
     "metadata": {},
     "outputs": [
      {
       "output_type": "stream",
       "stream": "stdout",
       "text": [
        "255\n"
       ]
      }
     ],
     "prompt_number": 54
    },
    {
     "cell_type": "code",
     "collapsed": false,
     "input": [
      "def binarioAHexadecimal(n): #Enteros positivos.\n",
      "    assert (n <= 11111111 and n >= 0), \"Overflow\" #funciona igual sin esto\n",
      "    ans = \"\"\n",
      "    conv = [\"0\" , \"1\", \"2\", \"3\", \"4\", \"5\", \"6\", \"7\", \"8\", \"9\", \"A\", \"B\", \"C\", \"D\", \"E\", \"F\"]\n",
      "    while n > 0:\n",
      "        x = n%10000\n",
      "        ans =  conv[binarioADecimal(x)] + ans\n",
      "        n /= 10000\n",
      "    print ans"
     ],
     "language": "python",
     "metadata": {},
     "outputs": [],
     "prompt_number": 60
    },
    {
     "cell_type": "code",
     "collapsed": false,
     "input": [
      "binarioAHexadecimal(10011111)"
     ],
     "language": "python",
     "metadata": {},
     "outputs": [
      {
       "output_type": "stream",
       "stream": "stdout",
       "text": [
        "9F\n"
       ]
      }
     ],
     "prompt_number": 65
    },
    {
     "cell_type": "code",
     "collapsed": false,
     "input": [
      "def hexadecimalABinario(s): #Enteros positivos.\n",
      "    assert(len(s) <= 2), \"Overflow\" #funciona igual sin esto\n",
      "    m = {'0':0, '1':1, '2':2, '3':3, '4':4, '5':5, '6':6, '7':7, '8':8, '9':9, 'A':10, 'B':11, 'C':12, 'D':13, 'E':14, 'F':15}\n",
      "    ans = \"\"\n",
      "    for i in range(len(s)-1, -1, -1):\n",
      "        ans = str(decimalABinario(m[s[i]])) + ans\n",
      "    print ans   "
     ],
     "language": "python",
     "metadata": {},
     "outputs": [],
     "prompt_number": 84
    },
    {
     "cell_type": "code",
     "collapsed": false,
     "input": [
      "hexadecimalABinario(\"9F\")"
     ],
     "language": "python",
     "metadata": {},
     "outputs": [
      {
       "output_type": "stream",
       "stream": "stdout",
       "text": [
        "10011111\n"
       ]
      }
     ],
     "prompt_number": 86
    }
   ],
   "metadata": {}
  }
 ]
}