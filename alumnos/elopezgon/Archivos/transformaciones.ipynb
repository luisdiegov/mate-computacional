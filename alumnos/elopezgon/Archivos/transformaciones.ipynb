{
 "metadata": {
  "name": "",
  "signature": "sha256:8b85a07ceea2dd090112a85e8808fd0da58c8fba14757090d55acc197c15653f"
 },
 "nbformat": 3,
 "nbformat_minor": 0,
 "worksheets": [
  {
   "cells": [
    {
     "cell_type": "code",
     "collapsed": false,
     "input": [
      "from math import sin, cos\n",
      "\n",
      "def toCartesianas(r,theta,phi):\n",
      "    \"\"\"\n",
      "    Devuelve las coordenadas (x,y,z) a partir de las coordenadas esfericas\n",
      "    \"\"\"\n",
      "    x = r*sin(phi)*cos(theta)\n",
      "    y = r*sin(phi)*sin(theta)\n",
      "    z = r*cos(phi)\n",
      "    print(x,y,z)\n",
      "    return x,y,z\n",
      "\n",
      "def toEsfericas(x,y,z):\n",
      "    \"\"\"\n",
      "    Devuelve las coordenadas (r,theta,phi) a partir de las coordenadas cartesianas\n",
      "    \"\"\"   \n",
      "    r = sqrt(x^2+y^2+z^2)\n",
      "    theta = atan(sqrt(x^2+y^2)/z)\n",
      "    phi = atan(y/x)\n",
      "    print(r,theta,phi)\n",
      "    return r,theta,phi\n"
     ],
     "language": "python",
     "metadata": {},
     "outputs": [],
     "prompt_number": 5
    }
   ],
   "metadata": {}
  }
 ]
}