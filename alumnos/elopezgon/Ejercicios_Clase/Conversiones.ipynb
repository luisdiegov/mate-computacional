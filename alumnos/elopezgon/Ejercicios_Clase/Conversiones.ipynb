{
 "metadata": {
  "name": "",
  "signature": "sha256:fb1489446fedb1654032de4f4c5ecbe0ef917df03e0a22422e7d54e3653c38e9"
 },
 "nbformat": 3,
 "nbformat_minor": 0,
 "worksheets": [
  {
   "cells": [
    {
     "cell_type": "code",
     "collapsed": false,
     "input": [
      "def decimal_a_binario(n):\n",
      "    assert(n<= 127 and n>=-128), \"Overflow\"\n",
      "    a = \"\"\n",
      "    if(n<0):\n",
      "        n = 2**8 +n   \n",
      "    while(n > 0):\n",
      "        a += str(n%2)\n",
      "        n = n/2 \n",
      "    for i in range(len(a),8):\n",
      "        a += \"0\"\n",
      "    return a[::-1]\n",
      "    \n",
      "decimal_a_binario(31)#Resultado 01111011\n"
     ],
     "language": "python",
     "metadata": {},
     "outputs": [
      {
       "metadata": {},
       "output_type": "pyout",
       "prompt_number": 131,
       "text": [
        "'00011111'"
       ]
      }
     ],
     "prompt_number": 131
    },
    {
     "cell_type": "code",
     "collapsed": false,
     "input": [
      "def binario_a_decimal(n):\n",
      "    a = str(n)#Lo convierto a cadena\n",
      "    assert(len(a)<=8), \"Overflow\"   \n",
      "    a = a[::-1] #Invierto mi cadena para que la potencia del 2 sea correspondiente con la posicion en la cadena\n",
      "    num = 0 \n",
      "    for i in range(len(a)-1,-1,-1):\n",
      "        num += 2**i * int(a[i]) \n",
      "    if num > 127:# Si mi numero resulto ser mayor que 127 es porque era negativo\n",
      "        num = 127 - num \n",
      "    return num\n",
      "        \n",
      "binario_a_decimal(11111) #Resultado -128"
     ],
     "language": "python",
     "metadata": {},
     "outputs": [
      {
       "metadata": {},
       "output_type": "pyout",
       "prompt_number": 132,
       "text": [
        "31"
       ]
      }
     ],
     "prompt_number": 132
    },
    {
     "cell_type": "code",
     "collapsed": false,
     "input": [
      "def binario_a_hexade(n):\n",
      "    a = str(n)#Lo convierto a cadena\n",
      "    assert(len(a)<=8), \"Overflow\"   \n",
      "    n = binario_a_decimal(n)   \n",
      "    a=\"\"\n",
      "    valores = [\"1\",\"2\",\"3\",\"4\",\"5\",\"6\",\"7\",\"8\",\"9\",\"A\",\"B\",\"C\",\"D\",\"E\",\"F\"]\n",
      "    while(n > 0):\n",
      "        a += valores[n%16 -1]\n",
      "        n = n/16 \n",
      "    for i in range(len(a),8):\n",
      "        a += \"0\"\n",
      "    return a[::-1]\n",
      "        \n",
      "binario_a_hexade(11111) #esultado 0000001F"
     ],
     "language": "python",
     "metadata": {},
     "outputs": [
      {
       "metadata": {},
       "output_type": "pyout",
       "prompt_number": 135,
       "text": [
        "'0000001F'"
       ]
      }
     ],
     "prompt_number": 135
    },
    {
     "cell_type": "code",
     "collapsed": false,
     "input": [
      "def hexa_a_bin(n):\n",
      "    a = str(n)#Lo convierto a cadena\n",
      "    assert(len(a)<=8), \"Overflow\"   \n",
      "    a = a[::-1] #Invierto mi cadena para que la potencia del 16 sea correspondiente con la posicion en la cadena\n",
      "    num = 0 \n",
      "    valores = {'1':1,'2':2,'3':3,'4':4,'5':5,'6':6,'7':7,'8':8,'9':9,'A':10,'B':11,'C':12,'D':13,'E':14,'F':15}\n",
      "    for i in range(len(a)-1,-1,-1):\n",
      "        num += 16**i * valores[a[i]] \n",
      "    return decimal_a_binario(num)\n",
      "    \n",
      "hexa_a_bin(\"1F\") #Resultado 0000001F"
     ],
     "language": "python",
     "metadata": {},
     "outputs": [
      {
       "metadata": {},
       "output_type": "pyout",
       "prompt_number": 142,
       "text": [
        "'00011111'"
       ]
      }
     ],
     "prompt_number": 142
    }
   ],
   "metadata": {}
  }
 ]
}