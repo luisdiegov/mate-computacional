{
 "metadata": {
  "name": "",
  "signature": "sha256:8968d3a10697af47a4078c95bc8f7b27a0e0a9b7e9de40d0660b444e4d39e8a0"
 },
 "nbformat": 3,
 "nbformat_minor": 0,
 "worksheets": [
  {
   "cells": [
    {
     "cell_type": "code",
     "collapsed": false,
     "input": [
      "def decimal_a_binario(n):\n",
      "    assert(n< 127 and n>-128), \"Overflow\"\n",
      "    a= \"\"\n",
      "    if(n>0):\n",
      "        a += \"0\"\n",
      "    else:\n",
      "        a +=\"1\"\n",
      "        n = -n\n",
      "    while(n > 0):\n",
      "        a += str(n%2)\n",
      "        n = n/2 \n",
      "    return a\n",
      "    \n",
      "decimal_a_binario(73)\n"
     ],
     "language": "python",
     "metadata": {},
     "outputs": [
      {
       "metadata": {},
       "output_type": "pyout",
       "prompt_number": 42,
       "text": [
        "'01001001'"
       ]
      }
     ],
     "prompt_number": 42
    }
   ],
   "metadata": {}
  }
 ]
}