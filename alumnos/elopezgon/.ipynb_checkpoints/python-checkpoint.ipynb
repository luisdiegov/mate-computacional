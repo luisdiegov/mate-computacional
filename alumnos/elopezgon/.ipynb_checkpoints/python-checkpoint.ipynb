{
 "metadata": {
  "name": "",
  "signature": "sha256:031f393e0888c132c7fc9557886f10a1ec571b8aaae92aa66f749f0a0c9e056a"
 },
 "nbformat": 3,
 "nbformat_minor": 0,
 "worksheets": []
}