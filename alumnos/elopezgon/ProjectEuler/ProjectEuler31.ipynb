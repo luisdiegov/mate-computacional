{
 "metadata": {
  "name": "",
  "signature": "sha256:8a46bcfaa36c101ccb3a2f6f30424541e9d78548b76f43ed64aab1186b309a5f"
 },
 "nbformat": 3,
 "nbformat_minor": 0,
 "worksheets": [
  {
   "cells": [
    {
     "cell_type": "code",
     "collapsed": false,
     "input": [
      "#El programa suma una solucion a la respuesta siempre que n < 200, siendo \"n\" un valor ya dado por el uso de monedas anteriores, \n",
      "#Es importante notar que n se incrementara en brincos de 2, por lo tanto 0 < 200 es una solucion(pues se pagan con monedas de 1), 2 < 200\n",
      "#(pues se pagan con una moneda de 2 y las demas de 1) y asi sucesivamente\n",
      "num = 0 # Inicio mi variable en 0\n",
      "for x in range(0,201,200):\n",
      "    for z in range(x,201,100): \n",
      "        for c in range(z,201,50): \n",
      "            for d in range(c,201,20):\n",
      "                for e in range(d,201,10): \n",
      "                    for f in range(e,201,5): \n",
      "                        for g in range(f,201,2): \n",
      "                            num+=1\n",
      "                            \n",
      "print num"
     ],
     "language": "python",
     "metadata": {},
     "outputs": [
      {
       "output_type": "stream",
       "stream": "stdout",
       "text": [
        "73682\n"
       ]
      }
     ],
     "prompt_number": 6
    }
   ],
   "metadata": {}
  }
 ]
}