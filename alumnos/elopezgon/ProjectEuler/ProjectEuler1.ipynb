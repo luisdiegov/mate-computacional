{
 "metadata": {
  "name": "",
  "signature": "sha256:26384c85e0af6ba9c21926b97d8639771f433e6e94b629d1ce685c0d5788961c"
 },
 "nbformat": 3,
 "nbformat_minor": 0,
 "worksheets": [
  {
   "cells": [
    {
     "cell_type": "code",
     "collapsed": false,
     "input": [
      "#Se establece el valor final de la sucesi\u00f3n  que se va a recorrer\n",
      "valor_final=1000 \n",
      "#Se crea una variable para ir almacenando la suma de los multiplos de 3 o de 5\n",
      "suma = 0\n",
      "for i in xrange(0,valor_final,1): #Se recorre toda la sucesi\u00f3n\n",
      "    if i%3 == 0 or i%5 ==0 : #Se verifica que sean multiplos de 3 o de 5\n",
      "        suma+= i # Si se cumple la condici\u00f3n, se suma el n\u00famero correspondiente\n",
      "print(suma)#Se imprime el resultado de la suma"
     ],
     "language": "python",
     "metadata": {},
     "outputs": [
      {
       "output_type": "stream",
       "stream": "stdout",
       "text": [
        "233168\n"
       ]
      }
     ],
     "prompt_number": 7
    }
   ],
   "metadata": {}
  }
 ]
}