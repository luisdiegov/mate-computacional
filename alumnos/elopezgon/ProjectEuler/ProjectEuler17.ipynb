{
 "metadata": {
  "name": "",
  "signature": "sha256:ca70694f093c64ba26295e2fe6ed5493cee8c9e7e34f7a59f45df963fd62c461"
 },
 "nbformat": 3,
 "nbformat_minor": 0,
 "worksheets": [
  {
   "cells": [
    {
     "cell_type": "code",
     "collapsed": false,
     "input": [
      "#Lo que trate de hacer fue escribir los numeros del 1 al 1000 en letras y despues contar cada palabra\n",
      "unid = [\"\",\"one\",\"two\",\"three\",\"four\",\"five\",\"six\",\"seven\",\"eight\",\"nine\"]#Creo las listas necesarias\n",
      "weird = [\"\",\"eleven\",\"twelve\",\"thirteen\",\"fourteen\",\"fifteen\",\"sixteen\",\"seventeen\",\"eighteen\",\"nineteen\"]\n",
      "dec= [\"\",\"ten\",\"twenty\",\"thirty\",\"forty\",\"fifty\",\"sixty\",\"seventy\", \"eighty\", \"ninety\",\"\"]\n",
      "prefijos = [\"hundred\",\"thousand\",\"and\"]\n",
      "def write_out(i): #Creo un metodo para realizar la operacion\n",
      "    nwords = 0\n",
      "    for n in range(1,i+1): #Realizo un for para pasar por todos los numeros del 1 al 1000\n",
      "        m= n/1000 #Esta variable es innecesaria si solo se busca llevar hasta al 1000\n",
      "        c = (n/100)%10#Obtengo las centenas de la cifra correspondiente \n",
      "        d = (n%100)/10 #Obtengo las decenas de la cifra correspondiente\n",
      "        u= (n%10) #Obtengo las unidades de la cifra correspondiente\n",
      "        nwords += len(unid[c]) #Si la cifra es de 3 digitos, agregara un primer elemento por eso mi arreglo comienza en vacio por si c = 0\n",
      "        if m> 0:# Si llego al 1000, agrego one thousand, es ineficiente pero lo hago asi por aque solo llegare al 1000 \n",
      "            nwords += len(\"one\" + prefijos[m])\n",
      "        if c > 0 :# Si la cifra es de 3 digitios agrego el \"houndred\"\n",
      "             nwords += len(prefijos[m])\n",
      "             if u != 0 or d!=0: #Si es mayor que el 100 agrego el \"and\"\n",
      "                 nwords += len(prefijos[2])\n",
      "        if d ==1 and u != 0:  #Si esta en el rango del 10 al 20, trae los elementos de otra lista\n",
      "            nwords += len(weird[u])\n",
      "        else:#Sino los trae de dos lsitas\n",
      "            nwords += len(dec[d] + unid[u])\n",
      "        \n",
      "    return nwords #Regresa el conteo\n",
      "\n",
      "write_out(1000) #El resultado es 21124\n",
      "\n",
      "\n",
      "#Es mas eficiente si creamos una lista con las longitudes de los nombre en vez de este\n",
      "\n"
     ],
     "language": "python",
     "metadata": {},
     "outputs": [
      {
       "metadata": {},
       "output_type": "pyout",
       "prompt_number": 178,
       "text": [
        "21124"
       ]
      }
     ],
     "prompt_number": 178
    }
   ],
   "metadata": {}
  }
 ]
}