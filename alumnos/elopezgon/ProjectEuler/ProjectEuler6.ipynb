{
 "metadata": {
  "name": "",
  "signature": "sha256:c0a422b27e1a42a1d234146c2080b47bb3020622c8a5098d01ec64d9f36fecf5"
 },
 "nbformat": 3,
 "nbformat_minor": 0,
 "worksheets": [
  {
   "cells": [
    {
     "cell_type": "code",
     "collapsed": false,
     "input": [
      "def cuadrado_suma(n): #Defino una funcion para calcular la suma de los primeros 100 numeros naturales\n",
      "    x = n*(n+1)/2 # Resultado de la serie i\n",
      "    x = x**2 # Elevo al cuadrado\n",
      "    return x  # Regreso mi valor\n",
      "\n",
      "def cuadrado_ind(n): #Defino una funcion para calcular la suma de cuadrados de los primeros 100 naturales\n",
      "    x = n*(n+1)*(2*n + 1)/6 #Resultado de la serie i^2\n",
      "    return x #Retorno la suma\n",
      "\n",
      "resultCS = cuadrado_suma(100)#Guardo el resultado en una variable\n",
      "resultSC = cuadrado_ind(100)#Guardo el resultado en una variable\n",
      "diferencia = resultCS-resultSC#Realizo la diferencia\n",
      "print(\"El cuadrado de la suma de los primeros 100 naturales es \" + str(resultCS))#Imprimo mis resultados\n",
      "print(\"La suma de  cuadrados de los primeros 100 naturales es \" + str(resultSC))\n",
      "print(\"La diferencia entre el cuadrado de la suma y la suma de cuadrados es \" + str(diferencia))\n",
      "\n",
      "    "
     ],
     "language": "python",
     "metadata": {},
     "outputs": [
      {
       "output_type": "stream",
       "stream": "stdout",
       "text": [
        "El cuadrado de la suma de los primeros 100 naturales es 25502500\n",
        "La suma de  cuadrados de los primeros 100 naturales es 338350\n",
        "La diferencia entre el cuadrado de la suma y la suma de cuadrados es 25164150\n"
       ]
      }
     ],
     "prompt_number": 2
    },
    {
     "cell_type": "code",
     "collapsed": false,
     "input": [],
     "language": "python",
     "metadata": {},
     "outputs": []
    }
   ],
   "metadata": {}
  }
 ]
}