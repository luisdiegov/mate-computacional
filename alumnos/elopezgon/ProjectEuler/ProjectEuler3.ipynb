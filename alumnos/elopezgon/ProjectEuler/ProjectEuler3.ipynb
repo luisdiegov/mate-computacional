{
 "metadata": {
  "name": "",
  "signature": "sha256:53c9ef36003a2cd040fc34dcc4b7f9a40400975c8b49caebdd52d5de98283938"
 },
 "nbformat": 3,
 "nbformat_minor": 0,
 "worksheets": [
  {
   "cells": [
    {
     "cell_type": "code",
     "collapsed": false,
     "input": [
      "from math import sqrt #Importamos la libreria para manejar la raiz cuadrada\n",
      "\n",
      "valor =600851475143 #Inicializamos el valor que buscamos\n",
      "max_prim= int(sqrt(valor))#Teo: Si valor es un numero compuesto, luego n tiene un factor primo mas peque\u00f1o que la raiz de n\n",
      "list_prim_div= []#Creo una lista para guardar los primos que dividen a mi numero\n",
      "\n",
      "for i in xrange(2,max_prim): # Recorro todos los numeros que son menores al valor maximo que puede tomar un primo\n",
      "    while valor%i == 0: #Verifico si el numero es divisible entre mi indice, en caso de que no, o era un primo que no dividia a mi n\u00famero \n",
      "                        # o era un multiplo de un primo que si dividia a mi n\u00famero(Criba de Erat\u00f3stenes)\n",
      "        list_prim_div.append(i)   #Si es asi, lo agrego a mi lista\n",
      "        valor = valor/i  #Divido mi numero entre mi indice, por lo que tendre algo asi n= in*, donde i es un primo y n* un numero compuesto\n",
      "        max_prim= int(sqrt(valor)) #Por divisibilidad si hay un factor primo de mi n*, es tambien un factor de mi n, por lo que se reduce a buscar los factores primos de n*\n",
      "\n",
      "max(list_prim_div) #Saco el m\u00e1ximo de mi lista"
     ],
     "language": "python",
     "metadata": {},
     "outputs": [
      {
       "metadata": {},
       "output_type": "pyout",
       "prompt_number": 1,
       "text": [
        "6857"
       ]
      }
     ],
     "prompt_number": 1
    }
   ],
   "metadata": {}
  }
 ]
}