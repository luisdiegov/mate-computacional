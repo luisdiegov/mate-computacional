{
 "metadata": {
  "name": "",
  "signature": "sha256:c7b5d17addb2eda690d9dec2d3b9a034498028ae6690bab50aa980d06c66b633"
 },
 "nbformat": 3,
 "nbformat_minor": 0,
 "worksheets": [
  {
   "cells": [
    {
     "cell_type": "code",
     "collapsed": false,
     "input": [
      "n = 500 #Tenemos que (a+b)^2 = (10000-c)^2 => ab = (10^6-2*10^3*c)/2 => c < 500 pues a* b>0\n",
      "#Por lo tanto solo basta chechar hasta n = 500\n",
      "[(x*y*z) for x in range(1, n) for y in range(x, n) for z in range(y, n) if x*x + y*y == z*z and  x+ y+ z == 1000]#Es un for itinerado donde \n",
      "#va de 1 a 500, y va de x a 500 y z va de y a 500, donde desplegara el producto de esta terna cuando cumpla las dos condiciones indicadas en los if's"
     ],
     "language": "python",
     "metadata": {},
     "outputs": [
      {
       "metadata": {},
       "output_type": "pyout",
       "prompt_number": 2,
       "text": [
        "[31875000]"
       ]
      }
     ],
     "prompt_number": 2
    }
   ],
   "metadata": {}
  }
 ]
}