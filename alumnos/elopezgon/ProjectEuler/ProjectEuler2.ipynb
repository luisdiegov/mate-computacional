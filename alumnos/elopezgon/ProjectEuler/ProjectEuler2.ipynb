{
 "metadata": {
  "name": "",
  "signature": "sha256:883c59d462db444eb568e57ed15b2fc33a35ec29b3b4f8b811025135e49ab003"
 },
 "nbformat": 3,
 "nbformat_minor": 0,
 "worksheets": [
  {
   "cells": [
    {
     "cell_type": "code",
     "collapsed": false,
     "input": [
      "n=1 #Creo un indice para saber en que termino voy\n",
      "lista=[1,2] #Creo una lista para poder guardar los elementos que siguen en la sucesi\u00f3n. La inice en 1,2 y no en 0,1 por motivos practicos\n",
      "fib = 2 # Creo la variable auxialiar inicializada en el primer elemento que se a\u00f1adira a la suma\n",
      "suma = 0#Incializo la variable suma \n",
      "while fib < 4000000: #Creo un while que se ejecutara hasta que un elemento de la sucesi\u00f3n sea mayor que 4 millones\n",
      "    if n%2==1 : #Compruebo que el n'th elemento de la sucesi\u00f3n sea par; como las listas empiezan en 0, habria que checar que estamos en un indice impar\n",
      "        suma += fib #Voy sumando\n",
      "    fib = lista[1]+lista[0] #Por definicion de la suma de fibonacci\n",
      "    lista.pop(0)#Elimino el primer elemento\n",
      "    lista.append(fib)#Agrego el nuevo elemento\n",
      "    n+=1 #Incremento el indice\n",
      "\n",
      "suma"
     ],
     "language": "python",
     "metadata": {},
     "outputs": [
      {
       "metadata": {},
       "output_type": "pyout",
       "prompt_number": 75,
       "text": [
        "5702886"
       ]
      }
     ],
     "prompt_number": 75
    },
    {
     "cell_type": "code",
     "collapsed": false,
     "input": [
      "\n"
     ],
     "language": "python",
     "metadata": {},
     "outputs": [],
     "prompt_number": 12
    },
    {
     "cell_type": "code",
     "collapsed": false,
     "input": [],
     "language": "python",
     "metadata": {},
     "outputs": []
    }
   ],
   "metadata": {}
  }
 ]
}