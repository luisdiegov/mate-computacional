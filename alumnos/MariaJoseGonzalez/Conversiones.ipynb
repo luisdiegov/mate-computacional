{
 "metadata": {
  "name": "",
  "signature": "sha256:adc6241250db4b8a5dc787fae484c99088ae2a7d5a2337518e26baf905a6c8cf"
 },
 "nbformat": 3,
 "nbformat_minor": 0,
 "worksheets": [
  {
   "cells": [
    {
     "cell_type": "code",
     "collapsed": false,
     "input": [
      "\"\"\" guardar en conversiones.py\"\"\""
     ],
     "language": "python",
     "metadata": {},
     "outputs": [],
     "prompt_number": 6
    },
    {
     "cell_type": "code",
     "collapsed": false,
     "input": [
      "%%file conversiones.py\n",
      "def DecimalABinario(decimal):\n",
      "    assert -128<=decimal<=127\n",
      "    b=[0 for x in range(8)]   \n",
      "    i=0\n",
      "    while decimal!=0 and i<=7:\n",
      "        b[7-i]=decimal%2\n",
      "        i+=1\n",
      "        decimal=decimal/2\n",
      "    binario=''\n",
      "    for i in xrange(0,len(b),1):\n",
      "        binario=binario+str(b[i])\n",
      "    return binario"
     ],
     "language": "python",
     "metadata": {},
     "outputs": [
      {
       "output_type": "stream",
       "stream": "stdout",
       "text": [
        "Overwriting conversiones.py\n"
       ]
      }
     ],
     "prompt_number": 84
    },
    {
     "cell_type": "code",
     "collapsed": false,
     "input": [
      "%%file conversiones.py\n",
      "def BinarioADecimal(binario):\n",
      "    decimal=int(binario[0])*((-2)**7)\n",
      "    for i in range(0,7):\n",
      "        decimal+=int(binario[7-i])*(2**(i))\n",
      "    return decimal"
     ],
     "language": "python",
     "metadata": {},
     "outputs": [
      {
       "output_type": "stream",
       "stream": "stdout",
       "text": [
        "Overwriting conversiones.py\n"
       ]
      }
     ],
     "prompt_number": 66
    },
    {
     "cell_type": "code",
     "collapsed": false,
     "input": [
      "def HexaABinario(hexa):\n",
      "    binario=''\n",
      "    for i in range(0,len(hexa),1):\n",
      "        if hexa[i]=='A':\n",
      "            b=DecimalABinario(10)\n",
      "            binario=binario+str(b[4:])\n",
      "        elif hexa[i]=='B':\n",
      "            b=DecimalABinario(11)\n",
      "            binario=binario+str(b[4:])\n",
      "        elif hexa[i]=='C':\n",
      "            b=DecimalABinario(12)\n",
      "            binario=binario+str(b[4:])\n",
      "        elif hexa[i]=='D':\n",
      "            b=DecimalABinario(13)\n",
      "            binario=binario+str(b[4:])\n",
      "        elif hexa[i]=='E':\n",
      "            b=DecimalABinario(14)\n",
      "            binario=binario+str(b[4:])\n",
      "        elif hexa[i]=='F':\n",
      "            b=DecimalABinario(15)\n",
      "            binario=binario+str(b[4:])\n",
      "        else:\n",
      "            b=DecimalABinario(int(hexa[i]))\n",
      "            binario=binario+str(b[4:])\n",
      "    return binario"
     ],
     "language": "python",
     "metadata": {},
     "outputs": [],
     "prompt_number": 87
    },
    {
     "cell_type": "code",
     "collapsed": false,
     "input": [
      "def BinarioAHexa(binario):\n",
      "    hexa=''\n",
      "    for i in range(0,len(b),4):\n",
      "        d=BinarioADecimal('0000'+b[i:i+4])\n",
      "        if d==10:\n",
      "            hexa=hexa+'A'\n",
      "        elif d==11:\n",
      "            hexa=hexa+'B'\n",
      "        elif d==12:\n",
      "            hexa=hexa+'C'\n",
      "        elif d==13:\n",
      "            hexa=hexa+'D'\n",
      "        elif d==14:\n",
      "            hexa=hexa+'E'\n",
      "        elif d==15:\n",
      "            hexa=hexa+'F'\n",
      "        else:\n",
      "            hexa=hexa+str(d)\n",
      "    return hexa"
     ],
     "language": "python",
     "metadata": {},
     "outputs": [],
     "prompt_number": 104
    }
   ],
   "metadata": {}
  }
 ]
}