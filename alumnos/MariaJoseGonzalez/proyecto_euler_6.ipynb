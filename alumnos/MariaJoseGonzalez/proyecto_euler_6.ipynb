{
 "metadata": {
  "name": "",
  "signature": "sha256:63d9190d9e32d428a53b5bdcf49ae16c96f9a7834f3d39397b6e8cd63a793cb7"
 },
 "nbformat": 3,
 "nbformat_minor": 0,
 "worksheets": [
  {
   "cells": [
    {
     "cell_type": "code",
     "collapsed": false,
     "input": [
      "SumOfSquares=0\n",
      "for i in range(1,101):\n",
      "    SumOfSquares+= i**2\n",
      "print SumOfSquares"
     ],
     "language": "python",
     "metadata": {},
     "outputs": [
      {
       "output_type": "stream",
       "stream": "stdout",
       "text": [
        "338350\n"
       ]
      }
     ],
     "prompt_number": 12
    },
    {
     "cell_type": "code",
     "collapsed": false,
     "input": [
      "SquareOfSum=0\n",
      "for i in range(1,101):\n",
      "    SquareOfSum+=i\n",
      "SquareOfSum=SquareOfSum**2\n",
      "print SquareOfSum"
     ],
     "language": "python",
     "metadata": {},
     "outputs": [
      {
       "output_type": "stream",
       "stream": "stdout",
       "text": [
        "25502500\n"
       ]
      }
     ],
     "prompt_number": 13
    },
    {
     "cell_type": "code",
     "collapsed": false,
     "input": [
      "difference=SquareOfSum-SumOfSquares\n",
      "print difference"
     ],
     "language": "python",
     "metadata": {},
     "outputs": [
      {
       "output_type": "stream",
       "stream": "stdout",
       "text": [
        "25164150\n"
       ]
      }
     ],
     "prompt_number": 14
    }
   ],
   "metadata": {}
  }
 ]
}