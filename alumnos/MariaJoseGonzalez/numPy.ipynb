{
 "metadata": {
  "name": "",
  "signature": "sha256:dcd6855f14037628dce57f9b07cdefc75abc2ed938b812aa14d2c6581ceebb52"
 },
 "nbformat": 3,
 "nbformat_minor": 0,
 "worksheets": [
  {
   "cells": [
    {
     "cell_type": "code",
     "collapsed": false,
     "input": [
      "import numpy as np"
     ],
     "language": "python",
     "metadata": {},
     "outputs": [],
     "prompt_number": 2
    },
    {
     "cell_type": "code",
     "collapsed": false,
     "input": [
      "lst=[1,2,3,4,5]"
     ],
     "language": "python",
     "metadata": {},
     "outputs": [],
     "prompt_number": 2
    },
    {
     "cell_type": "code",
     "collapsed": false,
     "input": [
      "arr=np.array([1,2,3,4,5])\n",
      "arr"
     ],
     "language": "python",
     "metadata": {},
     "outputs": [
      {
       "metadata": {},
       "output_type": "pyout",
       "prompt_number": 3,
       "text": [
        "array([1, 2, 3, 4, 5])"
       ]
      }
     ],
     "prompt_number": 3
    },
    {
     "cell_type": "code",
     "collapsed": false,
     "input": [
      "arr[2:3]"
     ],
     "language": "python",
     "metadata": {},
     "outputs": [
      {
       "metadata": {},
       "output_type": "pyout",
       "prompt_number": 4,
       "text": [
        "array([3])"
       ]
      }
     ],
     "prompt_number": 4
    },
    {
     "cell_type": "code",
     "collapsed": false,
     "input": [
      "arr.dtype"
     ],
     "language": "python",
     "metadata": {},
     "outputs": [
      {
       "metadata": {},
       "output_type": "pyout",
       "prompt_number": 5,
       "text": [
        "dtype('int64')"
       ]
      }
     ],
     "prompt_number": 5
    },
    {
     "cell_type": "code",
     "collapsed": false,
     "input": [
      "arr[-1]=1.23456\n",
      "arr"
     ],
     "language": "python",
     "metadata": {},
     "outputs": [
      {
       "metadata": {},
       "output_type": "pyout",
       "prompt_number": 6,
       "text": [
        "array([1, 2, 3, 4, 1])"
       ]
      }
     ],
     "prompt_number": 6
    },
    {
     "cell_type": "code",
     "collapsed": false,
     "input": [
      "def lst_multiplicacion( alist , scalar ): \n",
      "    for i , val in enumerate ( alist ): \n",
      "        alist [ i ] = val*scalar\n",
      "    return alist"
     ],
     "language": "python",
     "metadata": {},
     "outputs": [],
     "prompt_number": 7
    },
    {
     "cell_type": "code",
     "collapsed": false,
     "input": [
      "arr=np.arange(10,21)\n",
      "arr"
     ],
     "language": "python",
     "metadata": {},
     "outputs": [
      {
       "metadata": {},
       "output_type": "pyout",
       "prompt_number": 8,
       "text": [
        "array([10, 11, 12, 13, 14, 15, 16, 17, 18, 19, 20])"
       ]
      }
     ],
     "prompt_number": 8
    },
    {
     "cell_type": "code",
     "collapsed": false,
     "input": [
      "arr=np.zeros(5)\n",
      "arr"
     ],
     "language": "python",
     "metadata": {},
     "outputs": [
      {
       "metadata": {},
       "output_type": "pyout",
       "prompt_number": 9,
       "text": [
        "array([ 0.,  0.,  0.,  0.,  0.])"
       ]
      }
     ],
     "prompt_number": 9
    },
    {
     "cell_type": "code",
     "collapsed": false,
     "input": [
      "arr=np.linspace(0,1,100)\n",
      "arr"
     ],
     "language": "python",
     "metadata": {},
     "outputs": [
      {
       "metadata": {},
       "output_type": "pyout",
       "prompt_number": 10,
       "text": [
        "array([ 0.        ,  0.01010101,  0.02020202,  0.03030303,  0.04040404,\n",
        "        0.05050505,  0.06060606,  0.07070707,  0.08080808,  0.09090909,\n",
        "        0.1010101 ,  0.11111111,  0.12121212,  0.13131313,  0.14141414,\n",
        "        0.15151515,  0.16161616,  0.17171717,  0.18181818,  0.19191919,\n",
        "        0.2020202 ,  0.21212121,  0.22222222,  0.23232323,  0.24242424,\n",
        "        0.25252525,  0.26262626,  0.27272727,  0.28282828,  0.29292929,\n",
        "        0.3030303 ,  0.31313131,  0.32323232,  0.33333333,  0.34343434,\n",
        "        0.35353535,  0.36363636,  0.37373737,  0.38383838,  0.39393939,\n",
        "        0.4040404 ,  0.41414141,  0.42424242,  0.43434343,  0.44444444,\n",
        "        0.45454545,  0.46464646,  0.47474747,  0.48484848,  0.49494949,\n",
        "        0.50505051,  0.51515152,  0.52525253,  0.53535354,  0.54545455,\n",
        "        0.55555556,  0.56565657,  0.57575758,  0.58585859,  0.5959596 ,\n",
        "        0.60606061,  0.61616162,  0.62626263,  0.63636364,  0.64646465,\n",
        "        0.65656566,  0.66666667,  0.67676768,  0.68686869,  0.6969697 ,\n",
        "        0.70707071,  0.71717172,  0.72727273,  0.73737374,  0.74747475,\n",
        "        0.75757576,  0.76767677,  0.77777778,  0.78787879,  0.7979798 ,\n",
        "        0.80808081,  0.81818182,  0.82828283,  0.83838384,  0.84848485,\n",
        "        0.85858586,  0.86868687,  0.87878788,  0.88888889,  0.8989899 ,\n",
        "        0.90909091,  0.91919192,  0.92929293,  0.93939394,  0.94949495,\n",
        "        0.95959596,  0.96969697,  0.97979798,  0.98989899,  1.        ])"
       ]
      }
     ],
     "prompt_number": 10
    },
    {
     "cell_type": "code",
     "collapsed": false,
     "input": [
      "arr=np.logspace(0,1,100, base=10)\n",
      "arr"
     ],
     "language": "python",
     "metadata": {},
     "outputs": [
      {
       "metadata": {},
       "output_type": "pyout",
       "prompt_number": 12,
       "text": [
        "array([  1.        ,   1.02353102,   1.04761575,   1.07226722,\n",
        "         1.09749877,   1.12332403,   1.149757  ,   1.17681195,\n",
        "         1.20450354,   1.23284674,   1.26185688,   1.29154967,\n",
        "         1.32194115,   1.35304777,   1.38488637,   1.41747416,\n",
        "         1.45082878,   1.48496826,   1.51991108,   1.55567614,\n",
        "         1.59228279,   1.62975083,   1.66810054,   1.70735265,\n",
        "         1.7475284 ,   1.78864953,   1.83073828,   1.87381742,\n",
        "         1.91791026,   1.96304065,   2.009233  ,   2.05651231,\n",
        "         2.10490414,   2.15443469,   2.20513074,   2.25701972,\n",
        "         2.3101297 ,   2.36448941,   2.42012826,   2.47707636,\n",
        "         2.53536449,   2.59502421,   2.65608778,   2.71858824,\n",
        "         2.7825594 ,   2.84803587,   2.91505306,   2.98364724,\n",
        "         3.05385551,   3.12571585,   3.19926714,   3.27454916,\n",
        "         3.35160265,   3.43046929,   3.51119173,   3.59381366,\n",
        "         3.67837977,   3.76493581,   3.85352859,   3.94420606,\n",
        "         4.03701726,   4.1320124 ,   4.22924287,   4.32876128,\n",
        "         4.43062146,   4.53487851,   4.64158883,   4.75081016,\n",
        "         4.86260158,   4.97702356,   5.09413801,   5.21400829,\n",
        "         5.33669923,   5.46227722,   5.59081018,   5.72236766,\n",
        "         5.85702082,   5.9948425 ,   6.13590727,   6.28029144,\n",
        "         6.42807312,   6.57933225,   6.73415066,   6.8926121 ,\n",
        "         7.05480231,   7.22080902,   7.39072203,   7.56463328,\n",
        "         7.74263683,   7.92482898,   8.11130831,   8.30217568,\n",
        "         8.49753436,   8.69749003,   8.90215085,   9.11162756,\n",
        "         9.32603347,   9.54548457,   9.77009957,  10.        ])"
       ]
      }
     ],
     "prompt_number": 12
    },
    {
     "cell_type": "code",
     "collapsed": false,
     "input": [
      "arr2d = np.zeros((5,5))\n",
      "arr2d"
     ],
     "language": "python",
     "metadata": {},
     "outputs": [
      {
       "metadata": {},
       "output_type": "pyout",
       "prompt_number": 13,
       "text": [
        "array([[ 0.,  0.,  0.,  0.,  0.],\n",
        "       [ 0.,  0.,  0.,  0.,  0.],\n",
        "       [ 0.,  0.,  0.,  0.,  0.],\n",
        "       [ 0.,  0.,  0.,  0.,  0.],\n",
        "       [ 0.,  0.,  0.,  0.,  0.]])"
       ]
      }
     ],
     "prompt_number": 13
    },
    {
     "cell_type": "code",
     "collapsed": false,
     "input": [
      "cubo = np.zeros((5,5,5)).astype(int)+1\n",
      "cubo"
     ],
     "language": "python",
     "metadata": {},
     "outputs": [
      {
       "metadata": {},
       "output_type": "pyout",
       "prompt_number": 14,
       "text": [
        "array([[[1, 1, 1, 1, 1],\n",
        "        [1, 1, 1, 1, 1],\n",
        "        [1, 1, 1, 1, 1],\n",
        "        [1, 1, 1, 1, 1],\n",
        "        [1, 1, 1, 1, 1]],\n",
        "\n",
        "       [[1, 1, 1, 1, 1],\n",
        "        [1, 1, 1, 1, 1],\n",
        "        [1, 1, 1, 1, 1],\n",
        "        [1, 1, 1, 1, 1],\n",
        "        [1, 1, 1, 1, 1]],\n",
        "\n",
        "       [[1, 1, 1, 1, 1],\n",
        "        [1, 1, 1, 1, 1],\n",
        "        [1, 1, 1, 1, 1],\n",
        "        [1, 1, 1, 1, 1],\n",
        "        [1, 1, 1, 1, 1]],\n",
        "\n",
        "       [[1, 1, 1, 1, 1],\n",
        "        [1, 1, 1, 1, 1],\n",
        "        [1, 1, 1, 1, 1],\n",
        "        [1, 1, 1, 1, 1],\n",
        "        [1, 1, 1, 1, 1]],\n",
        "\n",
        "       [[1, 1, 1, 1, 1],\n",
        "        [1, 1, 1, 1, 1],\n",
        "        [1, 1, 1, 1, 1],\n",
        "        [1, 1, 1, 1, 1],\n",
        "        [1, 1, 1, 1, 1]]])"
       ]
      }
     ],
     "prompt_number": 14
    },
    {
     "cell_type": "code",
     "collapsed": false,
     "input": [
      "np.empty((2,3,4))"
     ],
     "language": "python",
     "metadata": {},
     "outputs": [
      {
       "metadata": {},
       "output_type": "pyout",
       "prompt_number": 15,
       "text": [
        "array([[[  6.90048063e-310,   1.30141160e-316,   6.90047576e-310,\n",
        "           6.90047576e-310],\n",
        "        [  6.90047576e-310,   6.90047576e-310,   6.90047576e-310,\n",
        "           6.90047576e-310],\n",
        "        [  6.90047576e-310,   6.90047576e-310,   4.02994539e-144,\n",
        "           6.90047173e-310]],\n",
        "\n",
        "       [[  5.53353523e-322,   5.53353523e-322,   0.00000000e+000,\n",
        "           3.16202013e-322],\n",
        "        [  0.00000000e+000,   4.00193173e-322,   1.40462626e-316,\n",
        "           6.90048063e-310],\n",
        "        [  5.50079539e+170,   1.53208740e-047,   4.08161677e-033,\n",
        "           2.21387237e-052]]])"
       ]
      }
     ],
     "prompt_number": 15
    },
    {
     "cell_type": "code",
     "collapsed": false,
     "input": [
      "np.eye(4)"
     ],
     "language": "python",
     "metadata": {},
     "outputs": [
      {
       "metadata": {},
       "output_type": "pyout",
       "prompt_number": 16,
       "text": [
        "array([[ 1.,  0.,  0.,  0.],\n",
        "       [ 0.,  1.,  0.,  0.],\n",
        "       [ 0.,  0.,  1.,  0.],\n",
        "       [ 0.,  0.,  0.,  1.]])"
       ]
      }
     ],
     "prompt_number": 16
    },
    {
     "cell_type": "code",
     "collapsed": false,
     "input": [
      "arr5 = np.ones((3,4,5)).astype(int)\n",
      "arr5"
     ],
     "language": "python",
     "metadata": {},
     "outputs": [
      {
       "metadata": {},
       "output_type": "pyout",
       "prompt_number": 18,
       "text": [
        "array([[[1, 1, 1, 1, 1],\n",
        "        [1, 1, 1, 1, 1],\n",
        "        [1, 1, 1, 1, 1],\n",
        "        [1, 1, 1, 1, 1]],\n",
        "\n",
        "       [[1, 1, 1, 1, 1],\n",
        "        [1, 1, 1, 1, 1],\n",
        "        [1, 1, 1, 1, 1],\n",
        "        [1, 1, 1, 1, 1]],\n",
        "\n",
        "       [[1, 1, 1, 1, 1],\n",
        "        [1, 1, 1, 1, 1],\n",
        "        [1, 1, 1, 1, 1],\n",
        "        [1, 1, 1, 1, 1]]])"
       ]
      }
     ],
     "prompt_number": 18
    },
    {
     "cell_type": "code",
     "collapsed": false,
     "input": [
      "arr10=np.array([1,2,3,4])\n",
      "arr10=arr10.reshape(2,2)\n",
      "h=arr10.shape\n",
      "for i in range(h[0]):\n",
      "    print i"
     ],
     "language": "python",
     "metadata": {},
     "outputs": [
      {
       "output_type": "stream",
       "stream": "stdout",
       "text": [
        "0\n",
        "1\n"
       ]
      }
     ],
     "prompt_number": 39
    },
    {
     "cell_type": "code",
     "collapsed": false,
     "input": [
      "def cuadradosMagicos(arr):\n",
      "    dim=arr.shape\n",
      "    if dim[0]==dim[1]:\n",
      "        if len(np.unique(arr))==(dim[0]*dim[1]):\n",
      "            for i in range(dim[0]):\n",
      "                "
     ],
     "language": "python",
     "metadata": {},
     "outputs": [],
     "prompt_number": 20
    },
    {
     "cell_type": "code",
     "collapsed": false,
     "input": [
      "def sumaRenglones(arr):\n",
      "    "
     ],
     "language": "python",
     "metadata": {},
     "outputs": []
    }
   ],
   "metadata": {}
  }
 ]
}