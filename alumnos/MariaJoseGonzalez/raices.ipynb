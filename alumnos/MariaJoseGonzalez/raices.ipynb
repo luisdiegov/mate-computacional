{
 "metadata": {
  "name": "",
  "signature": "sha256:5373f21962850dab859a62f56c47f61ce62c468ebf5816693f43cde9bb4d86c3"
 },
 "nbformat": 3,
 "nbformat_minor": 0,
 "worksheets": [
  {
   "cells": [
    {
     "cell_type": "code",
     "collapsed": false,
     "input": [
      "%matplotlib inline\n",
      "import numpy as np\n",
      "import matplotlib.pyplot as plt"
     ],
     "language": "python",
     "metadata": {},
     "outputs": [],
     "prompt_number": 2
    },
    {
     "cell_type": "code",
     "collapsed": false,
     "input": [
      "x = np.linspace(-0.5, 1.5, 100)\n",
      "y = x**2 - 1\n",
      "plt.plot(x, y, color=\"red\")\n",
      "ax = plt.gca()  \n",
      "ax.spines['right'].set_color('none')\n",
      "ax.spines['top'].set_color('none')\n",
      "ax.xaxis.set_ticks_position('bottom')\n",
      "ax.spines['bottom'].set_position(('data',0))\n",
      "ax.yaxis.set_ticks_position('left')\n",
      "ax.spines['left'].set_position(('data',0))"
     ],
     "language": "python",
     "metadata": {},
     "outputs": [
      {
       "metadata": {},
       "output_type": "display_data",
       "png": "[encoded data removed]",
       "text": [
        "<matplotlib.figure.Figure at 0xab97a58>"
       ]
      }
     ],
     "prompt_number": 3
    },
    {
     "cell_type": "code",
     "collapsed": false,
     "input": [
      "f = lambda x: x**2 -1 # Funci\u00f3n an\u00f3nima en GNU/Octave se definir\u00eda como f = @(x) x.^2 - 1"
     ],
     "language": "python",
     "metadata": {},
     "outputs": [],
     "prompt_number": 4
    },
    {
     "cell_type": "code",
     "collapsed": false,
     "input": [
      "f(-0.05)"
     ],
     "language": "python",
     "metadata": {},
     "outputs": [
      {
       "metadata": {},
       "output_type": "pyout",
       "prompt_number": 5,
       "text": [
        "-0.9975"
       ]
      }
     ],
     "prompt_number": 5
    },
    {
     "cell_type": "code",
     "collapsed": false,
     "input": [
      "f(1.25)"
     ],
     "language": "python",
     "metadata": {},
     "outputs": [
      {
       "metadata": {},
       "output_type": "pyout",
       "prompt_number": 6,
       "text": [
        "0.5625"
       ]
      }
     ],
     "prompt_number": 6
    },
    {
     "cell_type": "code",
     "collapsed": false,
     "input": [
      "def biseccion(func, a, b, stop):\n",
      "    x = (a + b)/2\n",
      "    \n",
      "    assert func(a)*func(b) < 0, \"El signo de la funci\u00f3n en los extremos deber\u00eda de ser diferente\"\n",
      "    assert func(a) != 0, \"La ra\u00edz es %.5f\" % a\n",
      "    assert func(b) != 0, \"La ra\u00edz es %.5f\" % b\n",
      "    \n",
      "    print \"%s\\t%12s\\t%12s\" % (\"k\", \"I(a,b)\", \"x\")\n",
      "    print \"%d\\tI(%.5f, %.5f)\\t%.5f\" % (0,a, b, x)\n",
      "    \n",
      "    for k in range(stop):        \n",
      "        f_x = func(x)\n",
      "        f_a = func(a)\n",
      "        f_b = func(b)        \n",
      "        \n",
      "        if(f_a*f_x < 0):\n",
      "            a, b = a, x\n",
      "        elif(f_x*f_b < 0):\n",
      "            a, b = x, b\n",
      "        x = (a+b)/2\n",
      "        \n",
      "        print \"%d\\tI(%.5f, %.5f)\\t%.12f\" % (k+1, a, b, x)"
     ],
     "language": "python",
     "metadata": {},
     "outputs": [],
     "prompt_number": 7
    },
    {
     "cell_type": "code",
     "collapsed": false,
     "input": [
      "biseccion(func = f, a = -0.25, b = 1.25, stop = 10)"
     ],
     "language": "python",
     "metadata": {},
     "outputs": [
      {
       "output_type": "stream",
       "stream": "stdout",
       "text": [
        "k\t      I(a,b)\t           x\n",
        "0\tI(-0.25000, 1.25000)\t0.50000\n",
        "1\tI(0.50000, 1.25000)\t0.875000000000\n",
        "2\tI(0.87500, 1.25000)\t1.062500000000\n",
        "3\tI(0.87500, 1.06250)\t0.968750000000\n",
        "4\tI(0.96875, 1.06250)\t1.015625000000\n",
        "5\tI(0.96875, 1.01562)\t0.992187500000\n",
        "6\tI(0.99219, 1.01562)\t1.003906250000\n",
        "7\tI(0.99219, 1.00391)\t0.998046875000\n",
        "8\tI(0.99805, 1.00391)\t1.000976562500\n",
        "9\tI(0.99805, 1.00098)\t0.999511718750\n",
        "10\tI(0.99951, 1.00098)\t1.000244140625\n"
       ]
      }
     ],
     "prompt_number": 8
    },
    {
     "cell_type": "code",
     "collapsed": false,
     "input": [
      "def biseccion(func, a, b, tolerancia, stop):\n",
      "    k = 0\n",
      "    \n",
      "    x = (a + b)/2\n",
      "    \n",
      "    I = (b - a)/2\n",
      "    \n",
      "    assert func(a)*func(b) < 0, \"El signo de la funci\u00f3n en los extremos deber\u00eda de ser diferente\"\n",
      "    assert func(a) != 0, \"La ra\u00edz es %.5f\" % a\n",
      "    assert func(b) != 0, \"La ra\u00edz es %.5f\" % b\n",
      "    \n",
      "    print \"%s\\t%12s\\t%12s\" % (\"k\",\"I(a,b)\", \"x\")\n",
      "    print \"%s\\tI(%.5f, %.5f)\\t%.5f\" % (\"0\",a, b, x)\n",
      "    \n",
      "    while I >= tolerancia and k <= stop:\n",
      "        k = k + 1\n",
      "        \n",
      "        f_x = func(x)\n",
      "        f_a = func(a)\n",
      "        f_b = func(b)        \n",
      "        \n",
      "        \n",
      "        if(f_a*f_x < 0):\n",
      "            a, b = a, x\n",
      "        elif(f_x*f_b < 0):\n",
      "            a, b = x, b\n",
      "        \n",
      "        x = (a+b)/2\n",
      "        \n",
      "        I = (b - a)/2\n",
      "        \n",
      "        print \"%d\\tI(%.5f, %.5f)\\t%.12f\" % (k,a, b, x)"
     ],
     "language": "python",
     "metadata": {},
     "outputs": [],
     "prompt_number": 9
    },
    {
     "cell_type": "code",
     "collapsed": false,
     "input": [
      "biseccion(func = f, a = -0.25, b = 1.25, tolerancia = 1e-4, stop = 100)"
     ],
     "language": "python",
     "metadata": {},
     "outputs": [
      {
       "output_type": "stream",
       "stream": "stdout",
       "text": [
        "k\t      I(a,b)\t           x\n",
        "0\tI(-0.25000, 1.25000)\t0.50000\n",
        "1\tI(0.50000, 1.25000)\t0.875000000000\n",
        "2\tI(0.87500, 1.25000)\t1.062500000000\n",
        "3\tI(0.87500, 1.06250)\t0.968750000000\n",
        "4\tI(0.96875, 1.06250)\t1.015625000000\n",
        "5\tI(0.96875, 1.01562)\t0.992187500000\n",
        "6\tI(0.99219, 1.01562)\t1.003906250000\n",
        "7\tI(0.99219, 1.00391)\t0.998046875000\n",
        "8\tI(0.99805, 1.00391)\t1.000976562500\n",
        "9\tI(0.99805, 1.00098)\t0.999511718750\n",
        "10\tI(0.99951, 1.00098)\t1.000244140625\n",
        "11\tI(0.99951, 1.00024)\t0.999877929688\n",
        "12\tI(0.99988, 1.00024)\t1.000061035156\n",
        "13\tI(0.99988, 1.00006)\t0.999969482422\n"
       ]
      }
     ],
     "prompt_number": 10
    },
    {
     "cell_type": "code",
     "collapsed": false,
     "input": [
      "#################################################################################\n",
      "##  Usaremos las siguientes librer\u00edas:\n",
      "##    symbols,  # Define los s\u00edmbolos matem\u00e1ticos\n",
      "##    diff,     # Deriva expresiones\n",
      "##    integrate,# Integra expresiones\n",
      "##    Rational, # Define los n\u00fameros racionales\n",
      "##    lambdify  # Convierte las expresiones simb\u00f3licas en funciones de Python\n",
      "#################################################################################\n",
      "\n",
      "import sympy as sym\n",
      "\n",
      "# Para que se vean bonitas\n",
      "from sympy.interactive import printing\n",
      "printing.init_printing(use_latex=True)"
     ],
     "language": "python",
     "metadata": {},
     "outputs": [],
     "prompt_number": 11
    },
    {
     "cell_type": "code",
     "collapsed": false,
     "input": [
      "x = sym.Symbol('x')\n",
      "x"
     ],
     "language": "python",
     "metadata": {},
     "outputs": [
      {
       "latex": [
        "$$x$$"
       ],
       "metadata": {},
       "output_type": "pyout",
       "png": "[encoded data removed]",
       "prompt_number": 12,
       "text": [
        "x"
       ]
      }
     ],
     "prompt_number": 12
    },
    {
     "cell_type": "code",
     "collapsed": false,
     "input": [
      "f=x**2-1\n",
      "f"
     ],
     "language": "python",
     "metadata": {},
     "outputs": [
      {
       "latex": [
        "$$x^{2} - 1$$"
       ],
       "metadata": {},
       "output_type": "pyout",
       "png": "[encoded data removed]",
       "prompt_number": 13,
       "text": [
        " 2    \n",
        "x  - 1"
       ]
      }
     ],
     "prompt_number": 13
    },
    {
     "cell_type": "code",
     "collapsed": false,
     "input": [
      "type(f).__bases__"
     ],
     "language": "python",
     "metadata": {},
     "outputs": [
      {
       "metadata": {},
       "output_type": "pyout",
       "prompt_number": 14,
       "text": [
        "(sympy.core.expr.Expr, sympy.core.operations.AssocOp)"
       ]
      }
     ],
     "prompt_number": 14
    },
    {
     "cell_type": "code",
     "collapsed": false,
     "input": [
      "type(f).__bases__[0]  in (sym.expr.Expr, sym.operations.AssocOp)"
     ],
     "language": "python",
     "metadata": {},
     "outputs": [
      {
       "metadata": {},
       "output_type": "pyout",
       "prompt_number": 15,
       "text": [
        "True"
       ]
      }
     ],
     "prompt_number": 15
    },
    {
     "cell_type": "code",
     "collapsed": false,
     "input": [
      "df=sym.diff(f,x)\n",
      "df"
     ],
     "language": "python",
     "metadata": {},
     "outputs": [
      {
       "latex": [
        "$$2 x$$"
       ],
       "metadata": {},
       "output_type": "pyout",
       "png": "[encoded data removed]",
       "prompt_number": 16,
       "text": [
        "2\u22c5x"
       ]
      }
     ],
     "prompt_number": 16
    },
    {
     "cell_type": "code",
     "collapsed": false,
     "input": [
      "F=sym.lambdify(x,f,modules=\"numpy\")"
     ],
     "language": "python",
     "metadata": {},
     "outputs": [],
     "prompt_number": 17
    },
    {
     "cell_type": "code",
     "collapsed": false,
     "input": [
      "F"
     ],
     "language": "python",
     "metadata": {},
     "outputs": [
      {
       "metadata": {},
       "output_type": "pyout",
       "prompt_number": 18,
       "text": [
        "<function numpy.<lambda>>"
       ]
      }
     ],
     "prompt_number": 18
    },
    {
     "cell_type": "code",
     "collapsed": false,
     "input": [
      "F(-0.3)"
     ],
     "language": "python",
     "metadata": {},
     "outputs": [
      {
       "latex": [
        "$$-0.91$$"
       ],
       "metadata": {},
       "output_type": "pyout",
       "png": "[encoded data removed]",
       "prompt_number": 19,
       "text": [
        "-0.91"
       ]
      }
     ],
     "prompt_number": 19
    },
    {
     "cell_type": "code",
     "collapsed": false,
     "input": [
      "DF = sym.lambdify(x, df, modules=\"numpy\")"
     ],
     "language": "python",
     "metadata": {},
     "outputs": [],
     "prompt_number": 20
    },
    {
     "cell_type": "code",
     "collapsed": false,
     "input": [
      "DF(1)"
     ],
     "language": "python",
     "metadata": {},
     "outputs": [
      {
       "latex": [
        "$$2$$"
       ],
       "metadata": {},
       "output_type": "pyout",
       "png": "[encoded data removed]",
       "prompt_number": 21,
       "text": [
        "2"
       ]
      }
     ],
     "prompt_number": 21
    },
    {
     "cell_type": "code",
     "collapsed": false,
     "input": [
      "def newton(f, x0, tolerancia, stop):\n",
      "    assert type(f).__bases__[0]  in (sym.expr.Expr, sym.operations.AssocOp), \"La funci\u00f3n no es una expresi\u00f3n simb\u00f3lica ... :/\"\n",
      "    \n",
      "    # Derivamos la expresi\u00f3n\n",
      "    df = sym.diff(f, x)\n",
      "    \n",
      "    # Convertimos en funciones las expresiones\n",
      "    F = sym.lambdify(x,f, modules=\"numpy\")\n",
      "    DF = sym.lambdify(x, df, modules=\"numpy\")\n",
      "    \n",
      "    # Inicializamos el contador\n",
      "    k = 0\n",
      "    \n",
      "    # Inicializamos abs(x1-x0) en un n\u00famero mayor que la tolerancia\n",
      "    diff = 1\n",
      "    print \"{: >5} {: >10} {: >10} {: >10} {: >11} {: >10}\".format(\"k\", \"x0\", \"F(x0)\", \"DF(x0)\", \"abs(x1-x0)\", \"x1\")\n",
      "    \n",
      "    while diff >= tolerancia and k <= stop:\n",
      "        k = k + 1\n",
      "\n",
      "        x1 = x0 - (float(F(x0)/DF(x0)))\n",
      "        print \"{: >5} {: >10.5f} {: >10.5f} {: >10.5f} {: >10.5f} {: >11.5f}\".format(k, x0, F(x0), DF(x0), diff, x1)\n",
      "        \n",
      "        diff = abs(x1 - x0)\n",
      "        \n",
      "        x0 = x1\n",
      "        \n",
      "    if k > stop:\n",
      "        print \"El m\u00e9todo de Newton no convergi\u00f3: para la tolerancia especificada, se alcanzaron el m\u00e1ximo n\u00famero de iteraciones\"\n",
      "    \n",
      "    print \"\\n\\nLa ra\u00edz es %2.12f\" % x0"
     ],
     "language": "python",
     "metadata": {},
     "outputs": [],
     "prompt_number": 22
    },
    {
     "cell_type": "code",
     "collapsed": false,
     "input": [
      "newton(f, x0=0.3, tolerancia=1e-12, stop=100)"
     ],
     "language": "python",
     "metadata": {},
     "outputs": [
      {
       "output_type": "stream",
       "stream": "stdout",
       "text": [
        "    k         x0      F(x0)     DF(x0)  abs(x1-x0)         x1\n",
        "    1    0.30000   -0.91000    0.60000    1.00000     1.81667\n",
        "    2    1.81667    2.30028    3.63333    1.51667     1.18356\n",
        "    3    1.18356    0.40082    2.36713    0.63310     1.01423\n",
        "    4    1.01423    0.02867    2.02847    0.16933     1.00010\n",
        "    5    1.00010    0.00020    2.00020    0.01413     1.00000\n",
        "    6    1.00000    0.00000    2.00000    0.00010     1.00000\n",
        "    7    1.00000    0.00000    2.00000    0.00000     1.00000\n",
        "\n",
        "\n",
        "La ra\u00edz es 1.000000000000\n"
       ]
      }
     ],
     "prompt_number": 23
    },
    {
     "cell_type": "code",
     "collapsed": false,
     "input": [
      "f = lambda x:x**2-1\n",
      "df= lambda x:2*x\n",
      "def newton2(f, df, x0, tolerancia, stop):\n",
      "    k=0\n",
      "    diff = 1\n",
      "    print \"{: >5} {: >10} {: >10} {: >10} {: >11} {: >10}\".format(\"k\", \"x0\", \"F(x0)\", \"DF(x0)\", \"abs(x1-x0)\", \"x1\")\n",
      "    \n",
      "    while diff >= tolerancia and k <= stop:\n",
      "        k = k + 1\n",
      "\n",
      "        x1 = x0 - (float(F(x0)/DF(x0)))\n",
      "        print \"{: >5} {: >10.5f} {: >10.5f} {: >10.5f} {: >10.5f} {: >11.5f}\".format(k, x0, F(x0), DF(x0), diff, x1)\n",
      "        \n",
      "        diff = abs(x1 - x0)\n",
      "        \n",
      "        x0 = x1\n",
      "        \n",
      "    if k > stop:\n",
      "        print \"El m\u00e9todo de Newton no convergi\u00f3: para la tolerancia especificada, se alcanzaron el m\u00e1ximo n\u00famero de iteraciones\"\n",
      "    \n",
      "    print \"\\n\\nLa ra\u00edz es %2.12f\" % x0"
     ],
     "language": "python",
     "metadata": {},
     "outputs": [],
     "prompt_number": 24
    },
    {
     "cell_type": "code",
     "collapsed": false,
     "input": [
      "newton2(f, df, x0=0.3, tolerancia=1e-12, stop=100)"
     ],
     "language": "python",
     "metadata": {},
     "outputs": [
      {
       "output_type": "stream",
       "stream": "stdout",
       "text": [
        "    k         x0      F(x0)     DF(x0)  abs(x1-x0)         x1\n",
        "    1    0.30000   -0.91000    0.60000    1.00000     1.81667\n",
        "    2    1.81667    2.30028    3.63333    1.51667     1.18356\n",
        "    3    1.18356    0.40082    2.36713    0.63310     1.01423\n",
        "    4    1.01423    0.02867    2.02847    0.16933     1.00010\n",
        "    5    1.00010    0.00020    2.00020    0.01413     1.00000\n",
        "    6    1.00000    0.00000    2.00000    0.00010     1.00000\n",
        "    7    1.00000    0.00000    2.00000    0.00000     1.00000\n",
        "\n",
        "\n",
        "La ra\u00edz es 1.000000000000\n"
       ]
      }
     ],
     "prompt_number": 25
    },
    {
     "cell_type": "code",
     "collapsed": false,
     "input": [
      "%matplotlib inline\n",
      "import matplotlib.pyplot as plt"
     ],
     "language": "python",
     "metadata": {},
     "outputs": [],
     "prompt_number": 26
    },
    {
     "cell_type": "code",
     "collapsed": false,
     "input": [
      "x=np.linspace(-10, 10, 256, endpoint=True)\n",
      "f1=np.exp(-x)-x\n",
      "f2=x**10-1"
     ],
     "language": "python",
     "metadata": {},
     "outputs": [],
     "prompt_number": 27
    },
    {
     "cell_type": "code",
     "collapsed": false,
     "input": [
      "plt.plot(x,f2, color=\"red\");\n",
      "plt.plot(x,f1, color=\"blue\");"
     ],
     "language": "python",
     "metadata": {},
     "outputs": [
      {
       "metadata": {},
       "output_type": "display_data",
       "png": "[encoded data removed]",
       "text": [
        "<matplotlib.figure.Figure at 0xc3c6550>"
       ]
      }
     ],
     "prompt_number": 28
    },
    {
     "cell_type": "code",
     "collapsed": false,
     "input": [
      "X = np.linspace(3, 6, 256, endpoint=True)\n",
      "C = np.sin(10*X)+np.cos(3*X)"
     ],
     "language": "python",
     "metadata": {},
     "outputs": [],
     "prompt_number": 29
    },
    {
     "cell_type": "code",
     "collapsed": false,
     "input": [
      "plt.plot(X,C, color=\"red\");"
     ],
     "language": "python",
     "metadata": {},
     "outputs": [
      {
       "metadata": {},
       "output_type": "display_data",
       "png": "[encoded data removed]",
       "text": [
        "<matplotlib.figure.Figure at 0xc6a0c88>"
       ]
      }
     ],
     "prompt_number": 30
    },
    {
     "cell_type": "code",
     "collapsed": false,
     "input": [
      "def find_brackets(f,a,b,n):\n",
      "    I=(b-a)/n\n",
      "    lista=[]\n",
      "    for i in range(n):\n",
      "        if f(a+(i*I))*f(a+(i+1)*I)<0:\n",
      "            lista.append([a+i*I , a+(i+1)*I])\n",
      "    return lista"
     ],
     "language": "python",
     "metadata": {},
     "outputs": [],
     "prompt_number": 34
    },
    {
     "cell_type": "code",
     "collapsed": false,
     "input": [
      "f=lambda x:x**2-1"
     ],
     "language": "python",
     "metadata": {},
     "outputs": [],
     "prompt_number": 35
    },
    {
     "cell_type": "code",
     "collapsed": false,
     "input": [
      "find_brackets(f,-2.0,2.0,5)\n"
     ],
     "language": "python",
     "metadata": {},
     "outputs": [
      {
       "latex": [
        "$$\\begin{bmatrix}\\begin{bmatrix}-1.2, & -0.4\\end{bmatrix}, & \\begin{bmatrix}0.4, & 1.2\\end{bmatrix}\\end{bmatrix}$$"
       ],
       "metadata": {},
       "output_type": "pyout",
       "prompt_number": 36,
       "text": [
        "[[-1.2, -0.4], [0.4, 1.2]]"
       ]
      }
     ],
     "prompt_number": 36
    },
    {
     "cell_type": "code",
     "collapsed": false,
     "input": [
      "f2=lambda x:np.sin(10*x)+np.cos(3*x)"
     ],
     "language": "python",
     "metadata": {},
     "outputs": [],
     "prompt_number": 37
    },
    {
     "cell_type": "code",
     "collapsed": false,
     "input": [
      "find_brackets(f2,3.0,6.0,10)"
     ],
     "language": "python",
     "metadata": {},
     "outputs": [
      {
       "latex": [
        "$$\\begin{bmatrix}\\begin{bmatrix}3.0, & 3.3\\end{bmatrix}, & \\begin{bmatrix}3.3, & 3.6\\end{bmatrix}, & \\begin{bmatrix}3.6, & 3.9\\end{bmatrix}, & \\begin{bmatrix}4.5, & 4.8\\end{bmatrix}, & \\begin{bmatrix}5.4, & 5.7\\end{bmatrix}\\end{bmatrix}$$"
       ],
       "metadata": {},
       "output_type": "pyout",
       "prompt_number": 39,
       "text": [
        "[[3.0, 3.3], [3.3, 3.6], [3.6, 3.9], [4.5, 4.8], [5.4, 5.7]]"
       ]
      }
     ],
     "prompt_number": 39
    },
    {
     "cell_type": "code",
     "collapsed": false,
     "input": [
      "def raices(f,a,b,n,stop):\n",
      "    lista=find_brackets(f,a,b,n)\n",
      "    for i in range(len(lista)):\n",
      "        a=lista[i][0]\n",
      "        b=lista[i][1]\n",
      "        x=biseccion(f,a,b,1e-4,stop)\n",
      "    return x\n",
      "        "
     ],
     "language": "python",
     "metadata": {},
     "outputs": [],
     "prompt_number": 41
    },
    {
     "cell_type": "code",
     "collapsed": false,
     "input": [
      "raices(f,-2.0,2.0,5,10)"
     ],
     "language": "python",
     "metadata": {},
     "outputs": [
      {
       "output_type": "stream",
       "stream": "stdout",
       "text": [
        "k\t      I(a,b)\t           x\n",
        "0\tI(-1.20000, -0.40000)\t-0.80000\n",
        "1\tI(-1.20000, -0.80000)\t-1.000000000000\n",
        "2\tI(-1.20000, -0.80000)\t-1.000000000000\n",
        "3\tI(-1.20000, -0.80000)\t-1.000000000000\n",
        "4\tI(-1.20000, -0.80000)\t-1.000000000000\n",
        "5\tI(-1.20000, -0.80000)\t-1.000000000000\n",
        "6\tI(-1.20000, -0.80000)\t-1.000000000000\n",
        "7\tI(-1.20000, -0.80000)\t-1.000000000000\n",
        "8\tI(-1.20000, -0.80000)\t-1.000000000000\n",
        "9\tI(-1.20000, -0.80000)\t-1.000000000000\n",
        "10\tI(-1.20000, -0.80000)\t-1.000000000000\n",
        "11\tI(-1.20000, -0.80000)\t-1.000000000000\n",
        "k\t      I(a,b)\t           x\n",
        "0\tI(0.40000, 1.20000)\t0.80000\n",
        "1\tI(0.80000, 1.20000)\t1.000000000000\n",
        "2\tI(0.80000, 1.00000)\t0.900000000000\n",
        "3\tI(0.90000, 1.00000)\t0.950000000000\n",
        "4\tI(0.95000, 1.00000)\t0.975000000000\n",
        "5\tI(0.97500, 1.00000)\t0.987500000000\n",
        "6\tI(0.98750, 1.00000)\t0.993750000000\n",
        "7\tI(0.99375, 1.00000)\t0.996875000000\n",
        "8\tI(0.99688, 1.00000)\t0.998437500000\n",
        "9\tI(0.99844, 1.00000)\t0.999218750000\n",
        "10\tI(0.99922, 1.00000)\t0.999609375000\n",
        "11\tI(0.99961, 1.00000)\t0.999804687500\n"
       ]
      }
     ],
     "prompt_number": 54
    },
    {
     "cell_type": "code",
     "collapsed": false,
     "input": [
      "raices(f2,3.0,6.0,10,10)"
     ],
     "language": "python",
     "metadata": {},
     "outputs": [
      {
       "output_type": "stream",
       "stream": "stdout",
       "text": [
        "k\t      I(a,b)\t           x\n",
        "0\tI(3.00000, 3.30000)\t3.15000\n",
        "1\tI(3.15000, 3.30000)\t3.225000000000\n",
        "2\tI(3.22500, 3.30000)\t3.262500000000\n",
        "3\tI(3.22500, 3.26250)\t3.243750000000\n",
        "4\tI(3.24375, 3.26250)\t3.253125000000\n",
        "5\tI(3.25312, 3.26250)\t3.257812500000\n",
        "6\tI(3.25781, 3.26250)\t3.260156250000\n",
        "7\tI(3.26016, 3.26250)\t3.261328125000\n",
        "8\tI(3.26133, 3.26250)\t3.261914062500\n",
        "9\tI(3.26191, 3.26250)\t3.262207031250\n",
        "10\tI(3.26221, 3.26250)\t3.262353515625\n",
        "11\tI(3.26235, 3.26250)\t3.262426757812\n",
        "k\t      I(a,b)\t           x\n",
        "0\tI(3.30000, 3.60000)\t3.45000\n",
        "1\tI(3.30000, 3.45000)\t3.375000000000\n",
        "2\tI(3.30000, 3.37500)\t3.337500000000\n",
        "3\tI(3.33750, 3.37500)\t3.356250000000\n",
        "4\tI(3.35625, 3.37500)\t3.365625000000\n",
        "5\tI(3.36563, 3.37500)\t3.370312500000\n",
        "6\tI(3.36563, 3.37031)\t3.367968750000\n",
        "7\tI(3.36563, 3.36797)\t3.366796875000\n",
        "8\tI(3.36563, 3.36680)\t3.366210937500\n",
        "9\tI(3.36563, 3.36621)\t3.365917968750\n",
        "10\tI(3.36592, 3.36621)\t3.366064453125\n",
        "11\tI(3.36592, 3.36606)\t3.365991210937\n",
        "k\t      I(a,b)\t           x\n",
        "0\tI(3.60000, 3.90000)\t3.75000\n",
        "1\tI(3.60000, 3.75000)\t3.675000000000\n",
        "2\tI(3.67500, 3.75000)\t3.712500000000\n",
        "3\tI(3.71250, 3.75000)\t3.731250000000\n",
        "4\tI(3.73125, 3.75000)\t3.740625000000\n",
        "5\tI(3.74063, 3.75000)\t3.745312500000\n",
        "6\tI(3.74531, 3.75000)\t3.747656250000\n",
        "7\tI(3.74531, 3.74766)\t3.746484375000\n",
        "8\tI(3.74531, 3.74648)\t3.745898437500\n",
        "9\tI(3.74531, 3.74590)\t3.745605468750\n",
        "10\tI(3.74561, 3.74590)\t3.745751953125\n",
        "11\tI(3.74561, 3.74575)\t3.745678710937\n",
        "k\t      I(a,b)\t           x\n",
        "0\tI(4.50000, 4.80000)\t4.65000\n",
        "1\tI(4.65000, 4.80000)\t4.725000000000\n",
        "2\tI(4.65000, 4.72500)\t4.687500000000\n",
        "3\tI(4.68750, 4.72500)\t4.706250000000\n",
        "4\tI(4.70625, 4.72500)\t4.715625000000\n",
        "5\tI(4.70625, 4.71562)\t4.710937500000\n",
        "6\tI(4.71094, 4.71562)\t4.713281250000\n",
        "7\tI(4.71094, 4.71328)\t4.712109375000\n",
        "8\tI(4.71211, 4.71328)\t4.712695312500\n",
        "9\tI(4.71211, 4.71270)\t4.712402343750\n",
        "10\tI(4.71211, 4.71240)\t4.712255859375\n",
        "11\tI(4.71226, 4.71240)\t4.712329101563\n",
        "k\t      I(a,b)\t           x\n",
        "0\tI(5.40000, 5.70000)\t5.55000\n",
        "1\tI(5.55000, 5.70000)\t5.625000000000\n",
        "2\tI(5.62500, 5.70000)\t5.662500000000\n",
        "3\tI(5.66250, 5.70000)\t5.681250000000\n",
        "4\tI(5.66250, 5.68125)\t5.671875000000\n",
        "5\tI(5.67188, 5.68125)\t5.676562500000\n",
        "6\tI(5.67656, 5.68125)\t5.678906250000\n",
        "7\tI(5.67891, 5.68125)\t5.680078125000\n",
        "8\tI(5.67891, 5.68008)\t5.679492187500\n",
        "9\tI(5.67891, 5.67949)\t5.679199218750\n",
        "10\tI(5.67891, 5.67920)\t5.679052734375\n",
        "11\tI(5.67891, 5.67905)\t5.678979492187\n"
       ]
      }
     ],
     "prompt_number": 42
    },
    {
     "cell_type": "heading",
     "level": 1,
     "metadata": {},
     "source": [
      "Problema / Tarea"
     ]
    },
    {
     "cell_type": "code",
     "collapsed": false,
     "input": [
      "g=9.8\n",
      "c=.25\n",
      "v=36\n",
      "t=4"
     ],
     "language": "python",
     "metadata": {},
     "outputs": [],
     "prompt_number": 43
    },
    {
     "cell_type": "code",
     "collapsed": false,
     "input": [
      "fm=lambda m: np.sqrt(g*m/c)*(np.tanh(np.sqrt(g*c/m)*t))-v"
     ],
     "language": "python",
     "metadata": {},
     "outputs": [],
     "prompt_number": 53
    },
    {
     "cell_type": "heading",
     "level": 3,
     "metadata": {},
     "source": [
      "Metodo Biseccion"
     ]
    },
    {
     "cell_type": "code",
     "collapsed": false,
     "input": [
      "biseccion(fm,50.0,200.0,1e-8,100)"
     ],
     "language": "python",
     "metadata": {},
     "outputs": [
      {
       "output_type": "stream",
       "stream": "stdout",
       "text": [
        "k\t      I(a,b)\t           x\n",
        "0\tI(50.00000, 200.00000)\t125.00000\n",
        "1\tI(125.00000, 200.00000)\t162.500000000000\n",
        "2\tI(125.00000, 162.50000)\t143.750000000000\n",
        "3\tI(143.75000, 162.50000)\t153.125000000000\n",
        "4\tI(143.75000, 153.12500)\t148.437500000000\n",
        "5\tI(143.75000, 148.43750)\t146.093750000000\n",
        "6\tI(143.75000, 146.09375)\t144.921875000000\n",
        "7\tI(143.75000, 144.92188)\t144.335937500000\n",
        "8\tI(144.33594, 144.92188)\t144.628906250000\n",
        "9\tI(144.33594, 144.62891)\t144.482421875000\n",
        "10\tI(144.33594, 144.48242)\t144.409179687500\n",
        "11\tI(144.33594, 144.40918)\t144.372558593750\n",
        "12\tI(144.37256, 144.40918)\t144.390869140625\n",
        "13\tI(144.39087, 144.40918)\t144.400024414062\n",
        "14\tI(144.40002, 144.40918)\t144.404602050781\n",
        "15\tI(144.40460, 144.40918)\t144.406890869141\n",
        "16\tI(144.40460, 144.40689)\t144.405746459961\n",
        "17\tI(144.40575, 144.40689)\t144.406318664551\n",
        "18\tI(144.40632, 144.40689)\t144.406604766846\n",
        "19\tI(144.40660, 144.40689)\t144.406747817993\n",
        "20\tI(144.40660, 144.40675)\t144.406676292419\n",
        "21\tI(144.40668, 144.40675)\t144.406712055206\n",
        "22\tI(144.40668, 144.40671)\t144.406694173813\n",
        "23\tI(144.40668, 144.40669)\t144.406685233116\n",
        "24\tI(144.40669, 144.40669)\t144.406689703465\n",
        "25\tI(144.40669, 144.40669)\t144.406691938639\n",
        "26\tI(144.40669, 144.40669)\t144.406693056226\n",
        "27\tI(144.40669, 144.40669)\t144.406693615019\n",
        "28\tI(144.40669, 144.40669)\t144.406693894416\n",
        "29\tI(144.40669, 144.40669)\t144.406694034114\n",
        "30\tI(144.40669, 144.40669)\t144.406693964265\n",
        "31\tI(144.40669, 144.40669)\t144.406693929341\n",
        "32\tI(144.40669, 144.40669)\t144.406693946803\n",
        "33\tI(144.40669, 144.40669)\t144.406693955534\n"
       ]
      }
     ],
     "prompt_number": 54
    },
    {
     "cell_type": "heading",
     "level": 3,
     "metadata": {},
     "source": [
      "Find Brackets"
     ]
    },
    {
     "cell_type": "code",
     "collapsed": false,
     "input": [
      "find_brackets(fm,50.0,200.0,15)"
     ],
     "language": "python",
     "metadata": {},
     "outputs": [
      {
       "latex": [
        "$$\\begin{bmatrix}\\begin{bmatrix}140.0, & 150.0\\end{bmatrix}\\end{bmatrix}$$"
       ],
       "metadata": {},
       "output_type": "pyout",
       "prompt_number": 55,
       "text": [
        "[[140.0, 150.0]]"
       ]
      }
     ],
     "prompt_number": 55
    },
    {
     "cell_type": "heading",
     "level": 3,
     "metadata": {},
     "source": [
      "Grafica"
     ]
    },
    {
     "cell_type": "code",
     "collapsed": false,
     "input": [
      "X = np.linspace(50, 150, 256, endpoint=True)\n",
      "FM = np.sqrt(9.8*X/0.25)*(np.tanh(np.sqrt(9.8*0.25/X)*4))-36\n",
      "plt.plot(X, FM, color=\"red\")\n",
      "ax = plt.gca()  \n",
      "ax.spines['right'].set_color('none')\n",
      "ax.spines['top'].set_color('none')\n",
      "ax.xaxis.set_ticks_position('bottom')\n",
      "ax.spines['bottom'].set_position(('data',0))\n",
      "ax.yaxis.set_ticks_position('left')\n",
      "ax.spines['left'].set_position(('data',0))"
     ],
     "language": "python",
     "metadata": {},
     "outputs": [
      {
       "metadata": {},
       "output_type": "display_data",
       "png": "[encoded data removed]",
       "text": [
        "<matplotlib.figure.Figure at 0xcc5f908>"
       ]
      }
     ],
     "prompt_number": 56
    },
    {
     "cell_type": "heading",
     "level": 3,
     "metadata": {},
     "source": [
      "Derivada"
     ]
    },
    {
     "cell_type": "code",
     "collapsed": false,
     "input": [
      "x = sym.Symbol('m')\n",
      "G=sym.Symbol('g')\n",
      "C=sym.Symbol('c')\n",
      "V=sym.Symbol('V')\n",
      "T=sym.Symbol('t')"
     ],
     "language": "python",
     "metadata": {},
     "outputs": [],
     "prompt_number": 78
    },
    {
     "cell_type": "code",
     "collapsed": false,
     "input": [
      "fm1=sym.sqrt(G*x/C)*(sym.tanh(sym.sqrt(G*C/x)*T))-V\n",
      "fm1"
     ],
     "language": "python",
     "metadata": {},
     "outputs": [
      {
       "latex": [
        "$$- V + \\sqrt{\\frac{g m}{c}} \\tanh{\\left (t \\sqrt{\\frac{c g}{m}} \\right )}$$"
       ],
       "metadata": {},
       "output_type": "pyout",
       "png": "[encoded data removed]",
       "prompt_number": 79,
       "text": [
        "         _____     \u239b      _____\u239e\n",
        "        \u2571 g\u22c5m      \u239c     \u2571 c\u22c5g \u239f\n",
        "-V +   \u2571  \u2500\u2500\u2500 \u22c5tanh\u239ct\u22c5  \u2571  \u2500\u2500\u2500 \u239f\n",
        "     \u2572\u2571    c       \u239d  \u2572\u2571    m  \u23a0"
       ]
      }
     ],
     "prompt_number": 79
    },
    {
     "cell_type": "code",
     "collapsed": false,
     "input": [
      "from sympy import *"
     ],
     "language": "python",
     "metadata": {},
     "outputs": [],
     "prompt_number": 72
    },
    {
     "cell_type": "code",
     "collapsed": false,
     "input": [
      "fm1_=diff(fm1,x)\n",
      "fm1_"
     ],
     "language": "python",
     "metadata": {},
     "outputs": [
      {
       "latex": [
        "$$- \\frac{t \\sqrt{\\frac{c g}{m}}}{2 m} \\sqrt{\\frac{g m}{c}} \\left(- \\tanh^{2}{\\left (t \\sqrt{\\frac{c g}{m}} \\right )} + 1\\right) + \\frac{\\sqrt{\\frac{g m}{c}}}{2 m} \\tanh{\\left (t \\sqrt{\\frac{c g}{m}} \\right )}$$"
       ],
       "metadata": {},
       "output_type": "pyout",
       "png": "[encoded data removed]",
       "prompt_number": 80,
       "text": [
        "        _____     _____ \u239b       \u239b      _____\u239e    \u239e       _____     \u239b      ____\n",
        "       \u2571 g\u22c5m     \u2571 c\u22c5g  \u239c      2\u239c     \u2571 c\u22c5g \u239f    \u239f      \u2571 g\u22c5m      \u239c     \u2571 c\u22c5g\n",
        "  t\u22c5  \u2571  \u2500\u2500\u2500 \u22c5  \u2571  \u2500\u2500\u2500 \u22c5\u239c- tanh \u239ct\u22c5  \u2571  \u2500\u2500\u2500 \u239f + 1\u239f     \u2571  \u2500\u2500\u2500 \u22c5tanh\u239ct\u22c5  \u2571  \u2500\u2500\u2500\n",
        "    \u2572\u2571    c   \u2572\u2571    m   \u239d       \u239d  \u2572\u2571    m  \u23a0    \u23a0   \u2572\u2571    c       \u239d  \u2572\u2571    m \n",
        "- \u2500\u2500\u2500\u2500\u2500\u2500\u2500\u2500\u2500\u2500\u2500\u2500\u2500\u2500\u2500\u2500\u2500\u2500\u2500\u2500\u2500\u2500\u2500\u2500\u2500\u2500\u2500\u2500\u2500\u2500\u2500\u2500\u2500\u2500\u2500\u2500\u2500\u2500\u2500\u2500\u2500\u2500\u2500\u2500\u2500\u2500\u2500\u2500 + \u2500\u2500\u2500\u2500\u2500\u2500\u2500\u2500\u2500\u2500\u2500\u2500\u2500\u2500\u2500\u2500\u2500\u2500\u2500\u2500\u2500\u2500\u2500\u2500\u2500\n",
        "                        2\u22c5m                                      2\u22c5m          \n",
        "\n",
        "_\u239e\n",
        " \u239f\n",
        " \u239f\n",
        " \u23a0\n",
        "\u2500\u2500\n",
        "  "
       ]
      }
     ],
     "prompt_number": 80
    },
    {
     "cell_type": "heading",
     "level": 4,
     "metadata": {},
     "source": [
      "Newton"
     ]
    },
    {
     "cell_type": "code",
     "collapsed": false,
     "input": [
      "fm1=fm1.subs(G,9.81)\n",
      "fm1=fm1.subs(C,0.25)\n",
      "fm1=fm1.subs(V,36)\n",
      "fm1=fm1.subs(T,4)"
     ],
     "language": "python",
     "metadata": {},
     "outputs": [],
     "prompt_number": 87
    },
    {
     "cell_type": "code",
     "collapsed": false,
     "input": [
      "newton(fm1,x0=140.0, tolerancia=1e-12, stop=100)"
     ],
     "language": "python",
     "metadata": {},
     "outputs": [
      {
       "output_type": "stream",
       "stream": "stdout",
       "text": [
        "    k         x0      F(x0)     DF(x0)  abs(x1-x0)         x1\n",
        "    1  140.00000   -0.05699    0.02118    1.00000   142.69031\n",
        "    2  142.69031   -0.00097    0.02047    2.69031   142.73762\n",
        "    3  142.73762   -0.00000    0.02046    0.04731   142.73763\n",
        "    4  142.73763   -0.00000    0.02046    0.00001   142.73763\n",
        "    5  142.73763    0.00000    0.02046    0.00000   142.73763\n",
        "\n",
        "\n",
        "La ra\u00edz es 142.737633108449\n"
       ]
      }
     ],
     "prompt_number": 90
    },
    {
     "cell_type": "heading",
     "level": 3,
     "metadata": {},
     "source": [
      "Secante"
     ]
    },
    {
     "cell_type": "code",
     "collapsed": false,
     "input": [
      "def secante(f, x1, x0, tolerancia, stop):\n",
      "    \n",
      "    # Derivamos la expresi\u00f3n\n",
      "    df = (f(x0)-f(x1))/(x0-x1)\n",
      "    \n",
      "    # Inicializamos el contador\n",
      "    k = 0\n",
      "    \n",
      "    # Inicializamos abs(x1-x0) en un n\u00famero mayor que la tolerancia\n",
      "    diff = 1\n",
      "    print \"{: >5} {: >10} {: >10} {: >10} {: >11} {: >10}\".format(\"k\", \"x0\", \"F(x0)\", \"DF(x0)\", \"abs(x1-x0)\", \"x1\")\n",
      "    \n",
      "    while diff >= tolerancia and k <= stop:\n",
      "        k = k + 1\n",
      "\n",
      "        x2 = x1 - (float(f(x1)/df))\n",
      "        print \"{: >5} {: >10.5f} {: >10.5f} {: >10.5f} {: >10.5f} {: >11.5f}\".format(k, x0, F(x0), DF(x0), diff, x1)\n",
      "        \n",
      "        diff = abs(x1 - x0)\n",
      "        \n",
      "        x0=x1\n",
      "        x1 = x2\n",
      "        df=(f(x0)-f(x1))/(x0-x1)\n",
      "        \n",
      "    if k > stop:\n",
      "        print \"El m\u00e9todo de Newton no convergi\u00f3: para la tolerancia especificada, se alcanzaron el m\u00e1ximo n\u00famero de iteraciones\"\n",
      "    \n",
      "    print \"\\n\\nLa ra\u00edz es %2.12f\" % x2"
     ],
     "language": "python",
     "metadata": {},
     "outputs": [],
     "prompt_number": 91
    },
    {
     "cell_type": "code",
     "collapsed": false,
     "input": [
      "secante(fm,70,69,1e-8,20)"
     ],
     "language": "python",
     "metadata": {},
     "outputs": [
      {
       "output_type": "stream",
       "stream": "stdout",
       "text": [
        "    k         x0      F(x0)     DF(x0)  abs(x1-x0)         x1\n",
        "    1   69.00000 4760.00000  138.00000    1.00000    70.00000\n",
        "    2   70.00000 4899.00000  140.00000    1.00000   109.33240\n",
        "    3  109.33240 11952.57470  218.66481   39.33240   128.09442\n",
        "    4  128.09442 16407.17923  256.18883   18.76201   140.83103\n",
        "    5  140.83103 19832.38002  281.66207   12.73662   144.04219\n",
        "    6  144.04219 20747.15196  288.08438    3.21115   144.39855\n",
        "    7  144.39855 20849.94097  288.79710    0.35636   144.40668\n",
        "    8  144.40668 20852.28790  288.81335    0.00813   144.40669\n",
        "    9  144.40669 20852.29326  288.81339    0.00002   144.40669\n",
        "\n",
        "\n",
        "La ra\u00edz es 144.406693960888\n"
       ]
      }
     ],
     "prompt_number": 93
    },
    {
     "cell_type": "code",
     "collapsed": false,
     "input": [
      "def secante_modificado(f, x0, tolerancia, stop):\n",
      "    \n",
      "     # Derivamos la expresi\u00f3n\n",
      "    df = (f(x0+x0*1e-6)-f(x0))/(x0*1e-6)\n",
      "    \n",
      "    # Inicializamos el contador\n",
      "    k = 0\n",
      "    \n",
      "    # Inicializamos abs(x1-x0) en un n\u00famero mayor que la tolerancia\n",
      "    diff = 1\n",
      "    print \"{: >5} {: >10} {: >10} {: >10} {: >11} {: >10}\".format(\"k\", \"x0\", \"F(x0)\", \"DF(x0)\", \"abs(x1-x0)\", \"x1\")\n",
      "    \n",
      "    while diff >= tolerancia and k <= stop:\n",
      "        k = k + 1\n",
      "\n",
      "        x1 = x0 - (float(f(x0)/df))\n",
      "        print \"{: >5} {: >10.5f} {: >10.5f} {: >10.5f} {: >10.5f} {: >11.5f}\".format(k, x0, F(x0), DF(x0), diff, x1)\n",
      "        \n",
      "        diff = abs(x1 - x0)\n",
      "        \n",
      "        x0=x1\n",
      "        df = (f(x0+x0*1e-6)-f(x0))/(x0*1e-6)\n",
      "        \n",
      "    if k > stop:\n",
      "        print \"El m\u00e9todo de Newton no convergi\u00f3: para la tolerancia especificada, se alcanzaron el m\u00e1ximo n\u00famero de iteraciones\"\n",
      "    \n",
      "    print \"\\n\\nLa ra\u00edz es %2.12f\" % x1"
     ],
     "language": "python",
     "metadata": {},
     "outputs": [],
     "prompt_number": 100
    },
    {
     "cell_type": "code",
     "collapsed": false,
     "input": [
      "secante_modificado(fm, 50, 1e-8,20)"
     ],
     "language": "python",
     "metadata": {},
     "outputs": [
      {
       "output_type": "stream",
       "stream": "stdout",
       "text": [
        "    k         x0      F(x0)     DF(x0)  abs(x1-x0)         x1\n",
        "    1   50.00000 2499.00000  100.00000    1.00000    88.67716\n",
        "    2   88.67716 7862.63817  177.35431   38.67716   124.99442\n",
        "    3  124.99442 15622.60531  249.98884   36.31726   142.05168\n",
        "    4  142.05168 20177.67925  284.10336   17.05726   144.37204\n",
        "    5  144.37204 20842.28514  288.74407    2.32036   144.40669\n",
        "    6  144.40669 20852.29110  288.81337    0.03465   144.40669\n",
        "    7  144.40669 20852.29326  288.81339    0.00001   144.40669\n",
        "\n",
        "\n",
        "La ra\u00edz es 144.406693960888\n"
       ]
      }
     ],
     "prompt_number": 101
    }
   ],
   "metadata": {}
  }
 ]
}