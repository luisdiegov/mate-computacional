{
 "metadata": {
  "name": "",
  "signature": "sha256:493d38d52e5723482030e38e8193ebcd384416e76248048a14a79299e06a3c1f"
 },
 "nbformat": 3,
 "nbformat_minor": 0,
 "worksheets": [
  {
   "cells": [
    {
     "cell_type": "code",
     "collapsed": false,
     "input": [
      "\"\"\" guardar en conversiones.py\"\"\""
     ],
     "language": "python",
     "metadata": {},
     "outputs": [],
     "prompt_number": 6
    },
    {
     "cell_type": "code",
     "collapsed": false,
     "input": [
      "%%file conversiones.py\n",
      "def DecimalABinario(decimal):\n",
      "    assert -128<=decimal<=127\n",
      "    b=[0 for x in range(8)]   \n",
      "    i=0\n",
      "    while decimal!=0 and i<=7:\n",
      "        b[7-i]=decimal%2\n",
      "        i+=1\n",
      "        decimal=decimal/2\n",
      "    binario=''\n",
      "    for i in xrange(0,len(b),1):\n",
      "        binario=binario+str(b[i])\n",
      "    print binario\n",
      "    return binario"
     ],
     "language": "python",
     "metadata": {},
     "outputs": [
      {
       "output_type": "stream",
       "stream": "stdout",
       "text": [
        "Overwriting conversiones.py\n"
       ]
      }
     ],
     "prompt_number": 23
    }
   ],
   "metadata": {}
  }
 ]
}