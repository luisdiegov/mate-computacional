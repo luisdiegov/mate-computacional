{
 "metadata": {
  "name": "",
  "signature": "sha256:8feaa264b164fe06aba2c08d1d67498b2059938a2ba92b80e8b26ca1e1e7df67"
 },
 "nbformat": 3,
 "nbformat_minor": 0,
 "worksheets": [
  {
   "cells": [
    {
     "cell_type": "code",
     "collapsed": false,
     "input": [
      "\"\"\" proyecto euler 17 \"\"\""
     ],
     "language": "python",
     "metadata": {},
     "outputs": [],
     "prompt_number": 7
    },
    {
     "cell_type": "code",
     "collapsed": false,
     "input": [
      "''' Lista del 1 al 9 '''\n",
      "lista1_9=[3,3,5,4,4,3,5,5,4]\n",
      "''' Lista del 10 al 19 '''\n",
      "lista10_19=[3,6,6,8,8,7,7,9,8,8]\n",
      "''' Lista del 20 al 90 de 10 en 10 '''\n",
      "lista20_90=[6,6,5,5,5,7,6,6]\n",
      "oneThousand=11\n",
      "hundredAnd=10\n",
      "hundred=7\n",
      "\n",
      "''' suma del 1 al 9 '''\n",
      "suma1=0\n",
      "for i in range(0,len(lista1_9)):\n",
      "    suma1+=lista1_9[i]\n",
      "    \n",
      "''' suma del 10 al 19 '''\n",
      "suma2=0\n",
      "for i in range(0,len(lista10_19)):\n",
      "    suma2+=lista10_19[i]\n",
      "    \n",
      "''' suma del 20 al 99 '''\n",
      "suma3=0\n",
      "for i in range(0,len(lista20_90)):\n",
      "    suma3+= lista20_90[i]*10+suma1\n",
      "    \n",
      "''' suma del 100 al 999'''\n",
      "sumaAux=suma1+suma2+suma3\n",
      "suma4=0\n",
      "for i in range(0,len(lista1_9)):\n",
      "    suma4+=(lista1_9[i]+hundredAnd)*99+sumaAux+lista1_9[i]+hundred\n",
      "    \n",
      "sumaTotal=sumaAux+suma4+oneThousand\n",
      "print sumaTotal"
     ],
     "language": "python",
     "metadata": {},
     "outputs": [
      {
       "output_type": "stream",
       "stream": "stdout",
       "text": [
        "21124\n"
       ]
      }
     ],
     "prompt_number": 15
    },
    {
     "cell_type": "code",
     "collapsed": false,
     "input": [
      "\"\"\" proyecto euler 31 \"\"\""
     ],
     "language": "python",
     "metadata": {},
     "outputs": [],
     "prompt_number": 13
    },
    {
     "cell_type": "code",
     "collapsed": false,
     "input": [
      "one = [i for i in range(0, 201)]\n",
      "two = [i for i in range(0, 201) if i % 2 == 0]\n",
      "five = [i for i in range(0, 201) if i % 5 == 0]\n",
      "ten = [i for i in range(0, 201) if i % 10 == 0]\n",
      "twenty = [i for i in range(0, 201) if i % 20 == 0]\n",
      "fifty = [i for i in range(0, 201) if i % 50 == 0]\n",
      "onehundred = [i for i in range(0, 201) if i % 100 == 0]\n",
      " \n",
      "ways = 1\n",
      "for i in one:\n",
      "    for j in two:\n",
      "        for k in five:\n",
      "            for l in ten:\n",
      "                for m in twenty:\n",
      "                    for n in fifty:\n",
      "                        for o in onehundred:\n",
      "                            temp = i + j + k + l + m + n + o\n",
      "                            if temp == 200:\n",
      "                                ways += 1\n",
      "print ways"
     ],
     "language": "python",
     "metadata": {},
     "outputs": [
      {
       "ename": "KeyboardInterrupt",
       "evalue": "",
       "output_type": "pyerr",
       "traceback": [
        "\u001b[1;31m---------------------------------------------------------------------------\u001b[0m\n\u001b[1;31mKeyboardInterrupt\u001b[0m                         Traceback (most recent call last)",
        "\u001b[1;32m<ipython-input-60-53f04b29de30>\u001b[0m in \u001b[0;36m<module>\u001b[1;34m()\u001b[0m\n\u001b[0;32m     14\u001b[0m                 \u001b[1;32mfor\u001b[0m \u001b[0mm\u001b[0m \u001b[1;32min\u001b[0m \u001b[0mtwenty\u001b[0m\u001b[1;33m:\u001b[0m\u001b[1;33m\u001b[0m\u001b[0m\n\u001b[0;32m     15\u001b[0m                     \u001b[1;32mfor\u001b[0m \u001b[0mn\u001b[0m \u001b[1;32min\u001b[0m \u001b[0mfifty\u001b[0m\u001b[1;33m:\u001b[0m\u001b[1;33m\u001b[0m\u001b[0m\n\u001b[1;32m---> 16\u001b[1;33m                         \u001b[1;32mfor\u001b[0m \u001b[0mo\u001b[0m \u001b[1;32min\u001b[0m \u001b[0monehundred\u001b[0m\u001b[1;33m:\u001b[0m\u001b[1;33m\u001b[0m\u001b[0m\n\u001b[0m\u001b[0;32m     17\u001b[0m                             \u001b[0mtemp\u001b[0m \u001b[1;33m=\u001b[0m \u001b[0mi\u001b[0m \u001b[1;33m+\u001b[0m \u001b[0mj\u001b[0m \u001b[1;33m+\u001b[0m \u001b[0mk\u001b[0m \u001b[1;33m+\u001b[0m \u001b[0ml\u001b[0m \u001b[1;33m+\u001b[0m \u001b[0mm\u001b[0m \u001b[1;33m+\u001b[0m \u001b[0mn\u001b[0m \u001b[1;33m+\u001b[0m \u001b[0mo\u001b[0m\u001b[1;33m\u001b[0m\u001b[0m\n\u001b[0;32m     18\u001b[0m                             \u001b[1;32mif\u001b[0m \u001b[0mtemp\u001b[0m \u001b[1;33m==\u001b[0m \u001b[1;36m200\u001b[0m\u001b[1;33m:\u001b[0m\u001b[1;33m\u001b[0m\u001b[0m\n",
        "\u001b[1;31mKeyboardInterrupt\u001b[0m: "
       ]
      }
     ],
     "prompt_number": 60
    },
    {
     "cell_type": "code",
     "collapsed": false,
     "input": [],
     "language": "python",
     "metadata": {},
     "outputs": []
    }
   ],
   "metadata": {}
  }
 ]
}