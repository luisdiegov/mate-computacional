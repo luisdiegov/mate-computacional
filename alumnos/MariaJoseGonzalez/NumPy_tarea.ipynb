{
 "metadata": {
  "name": "",
  "signature": "sha256:eef0de37c1744cb418bc65e0620bc328c7704081304f5cfe8993693a4b51a87f"
 },
 "nbformat": 3,
 "nbformat_minor": 0,
 "worksheets": [
  {
   "cells": [
    {
     "cell_type": "heading",
     "level": 1,
     "metadata": {},
     "source": [
      "Ejercicios de NumPy"
     ]
    },
    {
     "cell_type": "code",
     "collapsed": false,
     "input": [
      "%matplotlib inline\n",
      "import numpy as np\n",
      "import matplotlib as plt"
     ],
     "language": "python",
     "metadata": {},
     "outputs": [],
     "prompt_number": 2
    },
    {
     "cell_type": "heading",
     "level": 2,
     "metadata": {},
     "source": [
      "Pregunta 1"
     ]
    },
    {
     "cell_type": "markdown",
     "metadata": {},
     "source": [
      "Crea los siguientes arreglos con los tipos correctos. \n",
      "Un arreglo de 5\u00d75 cuya diagonal sean [2.0,3.0,4.0,5.0]\n",
      "Un arreglo de 4\u00d74 cuyo \u00faltimo rengl\u00f3n sea [1,2,3,4] y el resto sean 0."
     ]
    },
    {
     "cell_type": "code",
     "collapsed": false,
     "input": [
      "Arr1=np.zeros((5,5))\n",
      "for i in range(4):\n",
      "    Arr1[i][i]=i+2\n",
      "Arr1"
     ],
     "language": "python",
     "metadata": {},
     "outputs": [
      {
       "metadata": {},
       "output_type": "pyout",
       "prompt_number": 21,
       "text": [
        "array([[ 2.,  0.,  0.,  0.,  0.],\n",
        "       [ 0.,  3.,  0.,  0.,  0.],\n",
        "       [ 0.,  0.,  4.,  0.,  0.],\n",
        "       [ 0.,  0.,  0.,  5.,  0.],\n",
        "       [ 0.,  0.,  0.,  0.,  0.]])"
       ]
      }
     ],
     "prompt_number": 21
    },
    {
     "cell_type": "code",
     "collapsed": false,
     "input": [
      "Arr2=np.zeros((4,4))\n",
      "for i in range(4):\n",
      "    Arr2[3][i]=i+1\n",
      "Arr2"
     ],
     "language": "python",
     "metadata": {},
     "outputs": [
      {
       "metadata": {},
       "output_type": "pyout",
       "prompt_number": 22,
       "text": [
        "array([[ 0.,  0.,  0.,  0.],\n",
        "       [ 0.,  0.,  0.,  0.],\n",
        "       [ 0.,  0.,  0.,  0.],\n",
        "       [ 1.,  2.,  3.,  4.]])"
       ]
      }
     ],
     "prompt_number": 22
    },
    {
     "cell_type": "heading",
     "level": 1,
     "metadata": {},
     "source": [
      "Pregunta 2"
     ]
    },
    {
     "cell_type": "markdown",
     "metadata": {},
     "source": [
      "En este ejercicio realizaremos una criba de Erat\u00f3stenes"
     ]
    },
    {
     "cell_type": "code",
     "collapsed": false,
     "input": [
      "bool_arr = np.ones((100,), dtype=bool)\n",
      "bool_arr"
     ],
     "language": "python",
     "metadata": {},
     "outputs": [
      {
       "metadata": {},
       "output_type": "pyout",
       "prompt_number": 36,
       "text": [
        "array([ True,  True,  True,  True,  True,  True,  True,  True,  True,\n",
        "        True,  True,  True,  True,  True,  True,  True,  True,  True,\n",
        "        True,  True,  True,  True,  True,  True,  True,  True,  True,\n",
        "        True,  True,  True,  True,  True,  True,  True,  True,  True,\n",
        "        True,  True,  True,  True,  True,  True,  True,  True,  True,\n",
        "        True,  True,  True,  True,  True,  True,  True,  True,  True,\n",
        "        True,  True,  True,  True,  True,  True,  True,  True,  True,\n",
        "        True,  True,  True,  True,  True,  True,  True,  True,  True,\n",
        "        True,  True,  True,  True,  True,  True,  True,  True,  True,\n",
        "        True,  True,  True,  True,  True,  True,  True,  True,  True,\n",
        "        True,  True,  True,  True,  True,  True,  True,  True,  True,  True], dtype=bool)"
       ]
      }
     ],
     "prompt_number": 36
    },
    {
     "cell_type": "code",
     "collapsed": false,
     "input": [
      "bool_arr[0]=False\n",
      "bool_arr[1]=False\n",
      "bool_arr"
     ],
     "language": "python",
     "metadata": {},
     "outputs": [
      {
       "metadata": {},
       "output_type": "pyout",
       "prompt_number": 37,
       "text": [
        "array([False, False,  True,  True,  True,  True,  True,  True,  True,\n",
        "        True,  True,  True,  True,  True,  True,  True,  True,  True,\n",
        "        True,  True,  True,  True,  True,  True,  True,  True,  True,\n",
        "        True,  True,  True,  True,  True,  True,  True,  True,  True,\n",
        "        True,  True,  True,  True,  True,  True,  True,  True,  True,\n",
        "        True,  True,  True,  True,  True,  True,  True,  True,  True,\n",
        "        True,  True,  True,  True,  True,  True,  True,  True,  True,\n",
        "        True,  True,  True,  True,  True,  True,  True,  True,  True,\n",
        "        True,  True,  True,  True,  True,  True,  True,  True,  True,\n",
        "        True,  True,  True,  True,  True,  True,  True,  True,  True,\n",
        "        True,  True,  True,  True,  True,  True,  True,  True,  True,  True], dtype=bool)"
       ]
      }
     ],
     "prompt_number": 37
    },
    {
     "cell_type": "code",
     "collapsed": false,
     "input": [
      "N_max = int(np.sqrt(len(bool_arr)))\n",
      "for j in range(2, N_max):\n",
      "     bool_arr[2*j::j]= False\n",
      "bool_arr"
     ],
     "language": "python",
     "metadata": {},
     "outputs": [
      {
       "metadata": {},
       "output_type": "pyout",
       "prompt_number": 38,
       "text": [
        "array([False, False,  True,  True, False,  True, False,  True, False,\n",
        "       False, False,  True, False,  True, False, False, False,  True,\n",
        "       False,  True, False, False, False,  True, False, False, False,\n",
        "       False, False,  True, False,  True, False, False, False, False,\n",
        "       False,  True, False, False, False,  True, False,  True, False,\n",
        "       False, False,  True, False, False, False, False, False,  True,\n",
        "       False, False, False, False, False,  True, False,  True, False,\n",
        "       False, False, False, False,  True, False, False, False,  True,\n",
        "       False,  True, False, False, False, False, False,  True, False,\n",
        "       False, False,  True, False, False, False, False, False,  True,\n",
        "       False, False, False, False, False, False, False,  True, False, False], dtype=bool)"
       ]
      }
     ],
     "prompt_number": 38
    },
    {
     "cell_type": "code",
     "collapsed": false,
     "input": [
      "np.nonzero(bool_arr)"
     ],
     "language": "python",
     "metadata": {},
     "outputs": [
      {
       "metadata": {},
       "output_type": "pyout",
       "prompt_number": 39,
       "text": [
        "(array([ 2,  3,  5,  7, 11, 13, 17, 19, 23, 29, 31, 37, 41, 43, 47, 53, 59,\n",
        "        61, 67, 71, 73, 79, 83, 89, 97]),)"
       ]
      }
     ],
     "prompt_number": 39
    },
    {
     "cell_type": "code",
     "collapsed": false,
     "input": [
      "def criba_eratostenes(maximo):\n",
      "    bool_arr=np.ones((maximo),dtype=bool)\n",
      "    N_max = int(np.sqrt(maximo))\n",
      "    for j in range(2, N_max):\n",
      "        bool_arr[2*j::j] = False\n",
      "    return np.nonzero(bool_arr)"
     ],
     "language": "python",
     "metadata": {},
     "outputs": [],
     "prompt_number": 49
    },
    {
     "cell_type": "code",
     "collapsed": false,
     "input": [
      "for i in [10,100,200]:\n",
      "    a=criba_eratostenes(i)\n",
      "    print a"
     ],
     "language": "python",
     "metadata": {},
     "outputs": [
      {
       "output_type": "stream",
       "stream": "stdout",
       "text": [
        "(array([0, 1, 2, 3, 5, 7, 9]),)\n",
        "(array([ 0,  1,  2,  3,  5,  7, 11, 13, 17, 19, 23, 29, 31, 37, 41, 43, 47,\n",
        "       53, 59, 61, 67, 71, 73, 79, 83, 89, 97]),)\n",
        "(array([  0,   1,   2,   3,   5,   7,  11,  13,  17,  19,  23,  29,  31,\n",
        "        37,  41,  43,  47,  53,  59,  61,  67,  71,  73,  79,  83,  89,\n",
        "        97, 101, 103, 107, 109, 113, 127, 131, 137, 139, 149, 151, 157,\n",
        "       163, 167, 173, 179, 181, 191, 193, 197, 199]),)\n"
       ]
      }
     ],
     "prompt_number": 51
    },
    {
     "cell_type": "heading",
     "level": 1,
     "metadata": {},
     "source": [
      "Pregunta 3"
     ]
    },
    {
     "cell_type": "markdown",
     "metadata": {},
     "source": [
      "Crea un cubo rubik, partiendo de un arreglo de ceros y usando slicing dibuja cada una de las caras como si estuviera resuelto (cada colo un entero a partir del 1). Muestra con indexing que est\u00e1 resuelto (es decir, imprime las seis caras). \u00bfCu\u00e1ntos elementos del arreglo quedaron en 0?"
     ]
    },
    {
     "cell_type": "code",
     "collapsed": false,
     "input": [
      "rubik=np.zeros((6,3,3))\n",
      "for i in range(6):\n",
      "    rubik[i,:,:]=i+1\n",
      "rubik"
     ],
     "language": "python",
     "metadata": {},
     "outputs": [
      {
       "metadata": {},
       "output_type": "pyout",
       "prompt_number": 4,
       "text": [
        "array([[[ 1.,  1.,  1.],\n",
        "        [ 1.,  1.,  1.],\n",
        "        [ 1.,  1.,  1.]],\n",
        "\n",
        "       [[ 2.,  2.,  2.],\n",
        "        [ 2.,  2.,  2.],\n",
        "        [ 2.,  2.,  2.]],\n",
        "\n",
        "       [[ 3.,  3.,  3.],\n",
        "        [ 3.,  3.,  3.],\n",
        "        [ 3.,  3.,  3.]],\n",
        "\n",
        "       [[ 4.,  4.,  4.],\n",
        "        [ 4.,  4.,  4.],\n",
        "        [ 4.,  4.,  4.]],\n",
        "\n",
        "       [[ 5.,  5.,  5.],\n",
        "        [ 5.,  5.,  5.],\n",
        "        [ 5.,  5.,  5.]],\n",
        "\n",
        "       [[ 6.,  6.,  6.],\n",
        "        [ 6.,  6.,  6.],\n",
        "        [ 6.,  6.,  6.]]])"
       ]
      }
     ],
     "prompt_number": 4
    },
    {
     "cell_type": "heading",
     "level": 1,
     "metadata": {},
     "source": [
      "Pregunta 4"
     ]
    },
    {
     "cell_type": "markdown",
     "metadata": {},
     "source": [
      "El Sudoku es un pasatiempo que consiste en un arreglo 9\u00d79 de celdas, con d\u00edgitos del 1 al 9, de tal manera que no se repiten valores en cada columna, cada rengl\u00f3n y en cada subarreglo de 3\u00d73."
     ]
    },
    {
     "cell_type": "markdown",
     "metadata": {},
     "source": [
      "(a) Crea una funci\u00f3n llamada correcto que reciba un array 1d de tama\u00f1o 9 e indique si est\u00e1 completo o no (i.e. incluye los n\u00fameros del 1 al 9."
     ]
    },
    {
     "cell_type": "code",
     "collapsed": false,
     "input": [
      "def correcto(arr):\n",
      "    i=0\n",
      "    aux=True\n",
      "    a=np.unique(arr)\n",
      "    if len(a)==9:\n",
      "        while aux==True and i<9:\n",
      "            if i+1!=a[i]:\n",
      "                aux=False\n",
      "            else:\n",
      "                i+=1\n",
      "    else:\n",
      "        aux=False\n",
      "    return aux"
     ],
     "language": "python",
     "metadata": {},
     "outputs": [],
     "prompt_number": 22
    },
    {
     "cell_type": "code",
     "collapsed": false,
     "input": [
      "ar=np.array([1,2,3,4,5,6,7,8,9])\n",
      "correcto(ar)"
     ],
     "language": "python",
     "metadata": {},
     "outputs": [
      {
       "metadata": {},
       "output_type": "pyout",
       "prompt_number": 23,
       "text": [
        "True"
       ]
      }
     ],
     "prompt_number": 23
    },
    {
     "cell_type": "markdown",
     "metadata": {},
     "source": [
      "(b) Crea una funci\u00f3n llamada descomponer3x3 que reciba un array de enteros de 9\u00d79 y lo separe en sus 9 subarreglos 3\u00d73."
     ]
    },
    {
     "cell_type": "code",
     "collapsed": false,
     "input": [
      "def descomponer(arr,i,j):\n",
      "    a=arr[i:i+3,j:j+3]\n",
      "    return a"
     ],
     "language": "python",
     "metadata": {},
     "outputs": [],
     "prompt_number": 61
    },
    {
     "cell_type": "markdown",
     "metadata": {},
     "source": [
      "(c) Crea la funci\u00f3n esSolucion que recibe un array de 9\u00d79 y devuelve si es o no soluci\u00f3n del sudoku."
     ]
    },
    {
     "cell_type": "code",
     "collapsed": false,
     "input": [
      "def esSolucion(arr):\n",
      "    i=0\n",
      "    aux=True\n",
      "    while aux==True and i<9:\n",
      "        if correcto(arr[i,:])==True:\n",
      "            i+=1\n",
      "        else:\n",
      "            aux=False\n",
      "    j=0\n",
      "    while aux==True and j<9:\n",
      "        if correcto(arr[:,j])==True:\n",
      "            j+=1\n",
      "        else:\n",
      "            aux=False\n",
      "    i=0\n",
      "    while aux==True and i<9: \n",
      "        a=descomponer(arr,i,0)\n",
      "        a=a.ravel\n",
      "        if correcto(a)==True:\n",
      "            i+=3\n",
      "        else:\n",
      "            aux=False\n",
      "    i=0\n",
      "    while aux==True and i<9: \n",
      "        a=descomponer(arr,i,3)\n",
      "        a=a.ravel\n",
      "        if correcto(a)==True:\n",
      "            i+=3\n",
      "        else:\n",
      "            aux=False\n",
      "    i=0\n",
      "    while aux==True and i<9: \n",
      "        a=descomponer(arr,i,6)\n",
      "        a=a.ravel\n",
      "        if correcto(a)==True:\n",
      "            i+=3\n",
      "        else:\n",
      "            aux=False\n",
      "    \n",
      "    return aux"
     ],
     "language": "python",
     "metadata": {},
     "outputs": [],
     "prompt_number": 62
    },
    {
     "cell_type": "code",
     "collapsed": false,
     "input": [
      "arr=np.array([1,2,3,4,5,6,7,8,9,2,3,4,5,6,7,8,9,1,3,4,5,6,7,8,9,1,2,4,5,6,7,8,9,1,2,3,5,6,7,8,9,1,2,3,4,6,7,8,9,1,2,3,4,5,7,8,9,1,2,3,4,5,6,8,9,1,2,3,4,5,6,7,9,1,2,3,4,5,6,7,8])\n",
      "arr=arr.reshape(9,9)\n",
      "arr"
     ],
     "language": "python",
     "metadata": {},
     "outputs": [
      {
       "metadata": {},
       "output_type": "pyout",
       "prompt_number": 63,
       "text": [
        "array([[1, 2, 3, 4, 5, 6, 7, 8, 9],\n",
        "       [2, 3, 4, 5, 6, 7, 8, 9, 1],\n",
        "       [3, 4, 5, 6, 7, 8, 9, 1, 2],\n",
        "       [4, 5, 6, 7, 8, 9, 1, 2, 3],\n",
        "       [5, 6, 7, 8, 9, 1, 2, 3, 4],\n",
        "       [6, 7, 8, 9, 1, 2, 3, 4, 5],\n",
        "       [7, 8, 9, 1, 2, 3, 4, 5, 6],\n",
        "       [8, 9, 1, 2, 3, 4, 5, 6, 7],\n",
        "       [9, 1, 2, 3, 4, 5, 6, 7, 8]])"
       ]
      }
     ],
     "prompt_number": 63
    },
    {
     "cell_type": "code",
     "collapsed": false,
     "input": [
      "esSolucion(arr)"
     ],
     "language": "python",
     "metadata": {},
     "outputs": [
      {
       "metadata": {},
       "output_type": "pyout",
       "prompt_number": 64,
       "text": [
        "False"
       ]
      }
     ],
     "prompt_number": 64
    },
    {
     "cell_type": "heading",
     "level": 1,
     "metadata": {},
     "source": [
      "Pregunta 5"
     ]
    },
    {
     "cell_type": "markdown",
     "metadata": {},
     "source": [
      "Utiliza el archivo sunspots.txt (localizado en la carpeta data), el cual contiene el n\u00famero de manchas solares por cada mes desde enero de 1749. La primera columna es el mes, el segundo el n\u00famero de manchas."
     ]
    },
    {
     "cell_type": "markdown",
     "metadata": {},
     "source": [
      "(a) Escribe el c\u00f3digo que lea el archivo y haga una gr\u00e1fica de las manchas en funci\u00f3n del tiempo. Formatea el ejec x para que se muestren cada 25 a\u00f1os empezando en 1750."
     ]
    },
    {
     "cell_type": "code",
     "collapsed": false,
     "input": [],
     "language": "python",
     "metadata": {},
     "outputs": []
    },
    {
     "cell_type": "markdown",
     "metadata": {},
     "source": [
      "(b) Calcula el promedio m\u00f3vil. Dib\u00fajalo sobre el dibujo original."
     ]
    },
    {
     "cell_type": "code",
     "collapsed": false,
     "input": [],
     "language": "python",
     "metadata": {},
     "outputs": []
    },
    {
     "cell_type": "heading",
     "level": 1,
     "metadata": {},
     "source": [
      "Pregunta 6"
     ]
    },
    {
     "cell_type": "markdown",
     "metadata": {},
     "source": [
      "Utiliza el archivo starts.txt (localizado en la carpeta data), el cual contiene la temperatura y magnitud de varias estrellas en la V\u00eda Lactea. Usa esta informaci\u00f3n para dibujar un scatter plot del logaritmo del brillo vs. la temperatura (en K). Este diagrama se conoce como diagrama de Hertzsprung-Russell."
     ]
    },
    {
     "cell_type": "markdown",
     "metadata": {},
     "source": [
      "(a) Lee el archivo y dibuja los datos tal como vienen en el archivo. Agrega etiquetas y formatea la gr\u00e1fica de tal manera que tenga calidad de publicaci\u00f3n."
     ]
    },
    {
     "cell_type": "code",
     "collapsed": false,
     "input": [],
     "language": "python",
     "metadata": {},
     "outputs": []
    },
    {
     "cell_type": "markdown",
     "metadata": {},
     "source": [
      "(b) Ahora usa el xlim() y  ylim() para que quede de manera correcta el diagrama. Hay regiones donde las estrellas parece que se aglomeran, ve el archivo de wikipedia y agrega anotaciones para explicarlas."
     ]
    },
    {
     "cell_type": "code",
     "collapsed": false,
     "input": [],
     "language": "python",
     "metadata": {},
     "outputs": []
    }
   ],
   "metadata": {}
  }
 ]
}