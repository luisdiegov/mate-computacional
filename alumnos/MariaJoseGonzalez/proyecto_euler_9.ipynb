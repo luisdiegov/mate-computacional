{
 "metadata": {
  "name": "",
  "signature": "sha256:693c037a42c834bcd23c54a1bc7490a470426b34430e0406c4065cac737e0789"
 },
 "nbformat": 3,
 "nbformat_minor": 0,
 "worksheets": [
  {
   "cells": [
    {
     "cell_type": "code",
     "collapsed": false,
     "input": [
      "n=500\n",
      "PythagoreanTriplet=[(x, y, z) for x in range(1, n) for y in range(x, n) for z in range(y, n) if x*x + y*y == z*z and x+y+z==1000]\n",
      "print PythagoreanTriplet"
     ],
     "language": "python",
     "metadata": {},
     "outputs": [
      {
       "output_type": "stream",
       "stream": "stdout",
       "text": [
        "[(200, 375, 425)]\n"
       ]
      }
     ],
     "prompt_number": 3
    },
    {
     "cell_type": "code",
     "collapsed": false,
     "input": [
      "product=1\n",
      "for i in PythagoreanTriplet[0]:\n",
      "    product*=i\n",
      "print product"
     ],
     "language": "python",
     "metadata": {},
     "outputs": [
      {
       "output_type": "stream",
       "stream": "stdout",
       "text": [
        "31875000\n"
       ]
      }
     ],
     "prompt_number": 4
    },
    {
     "cell_type": "code",
     "collapsed": false,
     "input": [],
     "language": "python",
     "metadata": {},
     "outputs": [],
     "prompt_number": 4
    },
    {
     "cell_type": "code",
     "collapsed": false,
     "input": [
      "\"\"\" funci\u00f3n para convertir de cartesianas a esf\u00e9ricas \"\"\"\n",
      "\"\"\" %%file transformaciones.py \"\"\"\n",
      "from math import sqrt, pi, atan\n",
      "def phi(x,y,z):\n",
      "    if z>0:\n",
      "        phi=atan(sqrt(x**2+y**2)/z)\n",
      "    elif z==0:\n",
      "        phi=pi/2.0\n",
      "    else:\n",
      "        phi=pi+atan(sqrt(x**2+y**2)/z)\n",
      "    return phi\n",
      "def theta(x,y,z):\n",
      "    if x>0 and y>0:\n",
      "        theta=atan(y/x)\n",
      "    elif x>0 and y<0:\n",
      "        theta=2.0*pi+atan(y/x)\n",
      "    elif x==0 and y>0:\n",
      "        theta=pi/2.0\n",
      "    elif x==0 and y<0:\n",
      "        theta=(-1)*pi/2.0\n",
      "    else:\n",
      "        theta=pi+atan(y/x)\n",
      "    return theta\n",
      "def coordenadasCartesianas(x,y,z):\n",
      "    \"\"\" cambia de coordenadas cartesianas a esfericas\"\"\"\n",
      "    r=sqrt(x**2+y**2+z**2)\n",
      "    p=phi(x,y,z)\n",
      "    t=theta(x,y,z)\n",
      "    print r, t, p\n",
      "    return r, t, p"
     ],
     "language": "python",
     "metadata": {},
     "outputs": [],
     "prompt_number": 36
    },
    {
     "cell_type": "code",
     "collapsed": false,
     "input": [],
     "language": "python",
     "metadata": {},
     "outputs": []
    }
   ],
   "metadata": {}
  }
 ]
}