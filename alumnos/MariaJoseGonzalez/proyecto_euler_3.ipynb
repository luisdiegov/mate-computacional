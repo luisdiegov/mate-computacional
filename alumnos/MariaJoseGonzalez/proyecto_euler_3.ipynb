{
 "metadata": {
  "name": "",
  "signature": "sha256:49b7f255d1223b9a3a0d52a7205f5633a09fb223b62889c95b40c6a7d370a44b"
 },
 "nbformat": 3,
 "nbformat_minor": 0,
 "worksheets": [
  {
   "cells": [
    {
     "cell_type": "code",
     "collapsed": false,
     "input": [
      "x=600851475143\n",
      "factor=1\n",
      "while x%2==0:\n",
      "    x=x/2\n",
      "    factor=2\n",
      "primo=3\n",
      "while x!=1:\n",
      "    while x%primo==0:\n",
      "        x=x/primo\n",
      "        factor=primo\n",
      "    primo+=2\n",
      "print factor"
     ],
     "language": "python",
     "metadata": {},
     "outputs": [
      {
       "output_type": "stream",
       "stream": "stdout",
       "text": [
        "6857\n"
       ]
      }
     ],
     "prompt_number": 6
    }
   ],
   "metadata": {}
  }
 ]
}