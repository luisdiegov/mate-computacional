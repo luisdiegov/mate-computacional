{
 "metadata": {
  "name": "",
  "signature": "sha256:9ff7fe65a074aec1cece66c7056b6d0f433a28f7e8d01deb390564191ada6116"
 },
 "nbformat": 3,
 "nbformat_minor": 0,
 "worksheets": [
  {
   "cells": [
    {
     "cell_type": "heading",
     "level": 1,
     "metadata": {},
     "source": [
      "Examen Parcial"
     ]
    },
    {
     "cell_type": "heading",
     "level": 6,
     "metadata": {},
     "source": [
      "5 de marzo, 2015"
     ]
    },
    {
     "cell_type": "heading",
     "level": 2,
     "metadata": {},
     "source": [
      "Instrucciones"
     ]
    },
    {
     "cell_type": "markdown",
     "metadata": {},
     "source": [
      "- Crea una carpeta en tu directorio llamada `examen`.\n",
      "- Copia este examen a esa carpeta reci\u00e9n creada.\n",
      "- Copia los archivos con extensi\u00f3n `.m` de la misma manera."
     ]
    },
    {
     "cell_type": "heading",
     "level": 3,
     "metadata": {},
     "source": [
      "Definiciones"
     ]
    },
    {
     "cell_type": "markdown",
     "metadata": {},
     "source": [
      "- **Precisi\u00f3n** es el n\u00famero m\u00e1ximo de _bits_ diferentes de cero que es representable.\n",
      "- **Rango** es la diferencia entre el n\u00famero m\u00e1s negativo representable y el n\u00famero m\u00e1s positivo representable.\n",
      "- **Resoluci\u00f3n** es la magnitud m\u00e1s preque\u00f1a diferente de cero representable.\n",
      "- **Exactitud** es la magnitud e la m\u00e1xima diferencia entre el valor real y su representaci\u00f3n."
     ]
    },
    {
     "cell_type": "markdown",
     "metadata": {},
     "source": [
      "- Un n\u00famero $x$ en _single precision_ en el est\u00e1ndar **IEEE 754** se escribe:"
     ]
    },
    {
     "cell_type": "markdown",
     "metadata": {},
     "source": [
      "$$\n",
      "x = s 1.mmm \\ldots mmm \\times 2^{mmm \\ldots mmm}\n",
      "$$"
     ]
    },
    {
     "cell_type": "markdown",
     "metadata": {},
     "source": [
      "con un _bias_ de "
     ]
    },
    {
     "cell_type": "heading",
     "level": 1,
     "metadata": {},
     "source": [
      "Parte escrita"
     ]
    },
    {
     "cell_type": "heading",
     "level": 2,
     "metadata": {},
     "source": [
      "Problema 1"
     ]
    },
    {
     "cell_type": "markdown",
     "metadata": {},
     "source": [
      "* Escribir los siguientes n\u00fameros reales de manera _normalizada_"
     ]
    },
    {
     "cell_type": "markdown",
     "metadata": {},
     "source": [
      "    - $123.45$\n",
      "    - $6.3789 \\times 10^{5}$\n",
      "    - $5432.1987 \\times 10^{3}$\n",
      "    - $6.02 \\times 10^{23}$\n",
      "    - $0.000001$\n",
      "    - $1.0$"
     ]
    },
    {
     "cell_type": "heading",
     "level": 2,
     "metadata": {},
     "source": [
      "Problema 2"
     ]
    },
    {
     "cell_type": "markdown",
     "metadata": {},
     "source": [
      "- Escriba los siguientes n\u00fameros en su expansi\u00f3n en base $2$ y calcule su valor en base $10$ (suponga que no est\u00e1n signados)"
     ]
    },
    {
     "cell_type": "markdown",
     "metadata": {},
     "source": [
      "    - `1101`\n",
      "    - `11010`\n",
      "    - `00110011`"
     ]
    },
    {
     "cell_type": "heading",
     "level": 2,
     "metadata": {},
     "source": [
      "Problema 3"
     ]
    },
    {
     "cell_type": "markdown",
     "metadata": {},
     "source": [
      "- Escribe de forma normalizada a $y = + 1000.100111$ ."
     ]
    },
    {
     "cell_type": "markdown",
     "metadata": {},
     "source": [
      "- Escribe el mismo n\u00famero en formato **IEEE 754** en _single precision_."
     ]
    },
    {
     "cell_type": "markdown",
     "metadata": {},
     "source": [
      "- Escribe los siguientes n\u00fameros en el est\u00e1ndar **IEEE 754** a _double precision_"
     ]
    },
    {
     "cell_type": "markdown",
     "metadata": {},
     "source": [
      "- `1.0`\n",
      "- `1.5`\n",
      "- `-1.5`"
     ]
    },
    {
     "cell_type": "markdown",
     "metadata": {},
     "source": [
      "- \u00bfQu\u00e9 n\u00famero representa el siguiente flotante **IEEE 754** _double precision_?"
     ]
    },
    {
     "cell_type": "markdown",
     "metadata": {},
     "source": [
      "- `1 1000 0010 111 1000 0000 0000 0000 0000`"
     ]
    },
    {
     "cell_type": "heading",
     "level": 2,
     "metadata": {},
     "source": [
      "Problema 4"
     ]
    },
    {
     "cell_type": "markdown",
     "metadata": {},
     "source": [
      "* Representa $1$ en lo siguiente:\n",
      "\n",
      "    - En 8 bits con signo\n",
      "    - En 8 bits sin signo\n",
      "    - En 16 bits sin signo\n",
      "    - En 32 bits en el est\u00e1ndar **IEEE 754**\n",
      "    - En 64 bits en el est\u00e1ndar **IEEE 754**"
     ]
    },
    {
     "cell_type": "markdown",
     "metadata": {},
     "source": [
      "* Las siguientes dos cadenas binarias"
     ]
    },
    {
     "cell_type": "markdown",
     "metadata": {},
     "source": [
      "    - `0000 0000 0010 1010`\n",
      "    - `1000 0000 0010 1010`"
     ]
    },
    {
     "cell_type": "markdown",
     "metadata": {},
     "source": [
      "\u00bfQu\u00e9 n\u00famero representan s\u00ed ...\n",
      "\n",
      "    - ... son 16 bits sin signo?\n",
      "    - ... son 16 bits con signo?\n",
      "    - ... 2 cadenas de 8 bits sin signo?\n",
      "    - ... 2 cadenas de 8 bits con signo?"
     ]
    },
    {
     "cell_type": "heading",
     "level": 2,
     "metadata": {},
     "source": [
      "Problema 5"
     ]
    },
    {
     "cell_type": "heading",
     "level": 3,
     "metadata": {},
     "source": [
      "El mundo del Nintendo: 8 bits"
     ]
    },
    {
     "cell_type": "markdown",
     "metadata": {},
     "source": [
      "Supongamos que vamos a trabajar con `8 bits`"
     ]
    },
    {
     "cell_type": "markdown",
     "metadata": {},
     "source": [
      "$$\n",
      "x = \\pm 1.mmmm \\times 2^{bbb}\n",
      "$$"
     ]
    },
    {
     "cell_type": "markdown",
     "metadata": {},
     "source": [
      "donde el _bias_ $= 3$."
     ]
    },
    {
     "cell_type": "markdown",
     "metadata": {},
     "source": [
      "- \u00bfCu\u00e1l es el rango? \n",
      "- \u00bfCu\u00e1l es la precisi\u00f3n?\n",
      "- \u00bfCu\u00e1l es la resoluci\u00f3n?\n",
      "- \u00bfCu\u00e1ntos b\u00ednades hay?\n",
      "- \u00bfCu\u00e1ntos n\u00fameros por b\u00ednade hay?"
     ]
    },
    {
     "cell_type": "heading",
     "level": 1,
     "metadata": {},
     "source": [
      "Computadora"
     ]
    },
    {
     "cell_type": "heading",
     "level": 2,
     "metadata": {},
     "source": [
      "Problema 6"
     ]
    },
    {
     "cell_type": "heading",
     "level": 2,
     "metadata": {},
     "source": [
      "El mundo de Nintendo: 8 bits"
     ]
    },
    {
     "cell_type": "markdown",
     "metadata": {},
     "source": [
      "* Crea un programa en `python` o `GNU Octave` imprima todos los n\u00fameros que se pueden almacenar en `8 bits` (ver ejercicio anterior). "
     ]
    },
    {
     "cell_type": "code",
     "collapsed": false,
     "input": [
      "def signo(s):\n",
      "    if s=='1':\n",
      "        return '-'\n",
      "    else:\n",
      "        return '+'"
     ],
     "language": "python",
     "metadata": {},
     "outputs": [],
     "prompt_number": 4
    },
    {
     "cell_type": "code",
     "collapsed": false,
     "input": [
      "def bin2Dec(EEE):\n",
      "    n=int(EEE)\n",
      "    ans = 0\n",
      "    p = 1\n",
      "    if n >= 10000000:\n",
      "        ans -= 256\n",
      "    while n > 0 :\n",
      "        if n % 2 > 0 :\n",
      "            ans += p\n",
      "        p *= 2\n",
      "        n /= 10\n",
      "    return ans"
     ],
     "language": "python",
     "metadata": {},
     "outputs": [],
     "prompt_number": 33
    },
    {
     "cell_type": "code",
     "collapsed": false,
     "input": [
      "def exp(EEE):\n",
      "    i=bin2Dec(EEE)\n",
      "    i=str(i-3)\n",
      "    return i"
     ],
     "language": "python",
     "metadata": {},
     "outputs": [],
     "prompt_number": 38
    },
    {
     "cell_type": "code",
     "collapsed": false,
     "input": [
      "def bin2float(mmmm):\n",
      "    ans=0\n",
      "    for i in range(4):\n",
      "        ans=ans+int(mmmm[i])*(2**(-(i+1)))\n",
      "    ans=ans*10**4\n",
      "    ans=int(ans)\n",
      "    return str(ans)"
     ],
     "language": "python",
     "metadata": {},
     "outputs": [],
     "prompt_number": 67
    },
    {
     "cell_type": "code",
     "collapsed": false,
     "input": [
      "def mantisa(mmmm):\n",
      "    f=bin2float(mmmm)\n",
      "    return f"
     ],
     "language": "python",
     "metadata": {},
     "outputs": [],
     "prompt_number": 70
    },
    {
     "cell_type": "code",
     "collapsed": false,
     "input": [
      "for S in ('1','0'):\n",
      "    for E in('000','010','100','001','011','110','101','111'):\n",
      "        for m in('0000','0001','0010','0100','1000','0011','0110','1100','1001','1010','1011','0101','0111','1011','1101','1111'):\n",
      "            bi=S+E+m\n",
      "            flot=signo(S)+'1.'+mantisa(m)+'*2^'+exp(E)\n",
      "            print \"%12s\\t%12s\" % (bi, flot)"
     ],
     "language": "python",
     "metadata": {},
     "outputs": [
      {
       "output_type": "stream",
       "stream": "stdout",
       "text": [
        "    10000000\t   -1.0*2^-3\n",
        "    10000001\t -1.625*2^-3\n",
        "    10000010\t-1.1250*2^-3\n",
        "    10000100\t-1.2500*2^-3\n",
        "    10001000\t-1.5000*2^-3\n",
        "    10000011\t-1.1875*2^-3\n",
        "    10000110\t-1.3750*2^-3\n",
        "    10001100\t-1.7500*2^-3\n",
        "    10001001\t-1.5625*2^-3\n",
        "    10001010\t-1.6250*2^-3\n",
        "    10001011\t-1.6875*2^-3\n",
        "    10000101\t-1.3125*2^-3\n",
        "    10000111\t-1.4375*2^-3\n",
        "    10001011\t-1.6875*2^-3\n",
        "    10001101\t-1.8125*2^-3\n",
        "    10001111\t-1.9375*2^-3\n",
        "    10100000\t   -1.0*2^-1\n",
        "    10100001\t -1.625*2^-1\n",
        "    10100010\t-1.1250*2^-1\n",
        "    10100100\t-1.2500*2^-1\n",
        "    10101000\t-1.5000*2^-1\n",
        "    10100011\t-1.1875*2^-1\n",
        "    10100110\t-1.3750*2^-1\n",
        "    10101100\t-1.7500*2^-1\n",
        "    10101001\t-1.5625*2^-1\n",
        "    10101010\t-1.6250*2^-1\n",
        "    10101011\t-1.6875*2^-1\n",
        "    10100101\t-1.3125*2^-1\n",
        "    10100111\t-1.4375*2^-1\n",
        "    10101011\t-1.6875*2^-1\n",
        "    10101101\t-1.8125*2^-1\n",
        "    10101111\t-1.9375*2^-1\n",
        "    11000000\t    -1.0*2^1\n",
        "    11000001\t  -1.625*2^1\n",
        "    11000010\t -1.1250*2^1\n",
        "    11000100\t -1.2500*2^1\n",
        "    11001000\t -1.5000*2^1\n",
        "    11000011\t -1.1875*2^1\n",
        "    11000110\t -1.3750*2^1\n",
        "    11001100\t -1.7500*2^1\n",
        "    11001001\t -1.5625*2^1\n",
        "    11001010\t -1.6250*2^1\n",
        "    11001011\t -1.6875*2^1\n",
        "    11000101\t -1.3125*2^1\n",
        "    11000111\t -1.4375*2^1\n",
        "    11001011\t -1.6875*2^1\n",
        "    11001101\t -1.8125*2^1\n",
        "    11001111\t -1.9375*2^1\n",
        "    10010000\t   -1.0*2^-2\n",
        "    10010001\t -1.625*2^-2\n",
        "    10010010\t-1.1250*2^-2\n",
        "    10010100\t-1.2500*2^-2\n",
        "    10011000\t-1.5000*2^-2\n",
        "    10010011\t-1.1875*2^-2\n",
        "    10010110\t-1.3750*2^-2\n",
        "    10011100\t-1.7500*2^-2\n",
        "    10011001\t-1.5625*2^-2\n",
        "    10011010\t-1.6250*2^-2\n",
        "    10011011\t-1.6875*2^-2\n",
        "    10010101\t-1.3125*2^-2\n",
        "    10010111\t-1.4375*2^-2\n",
        "    10011011\t-1.6875*2^-2\n",
        "    10011101\t-1.8125*2^-2\n",
        "    10011111\t-1.9375*2^-2\n",
        "    10110000\t    -1.0*2^0\n",
        "    10110001\t  -1.625*2^0\n",
        "    10110010\t -1.1250*2^0\n",
        "    10110100\t -1.2500*2^0\n",
        "    10111000\t -1.5000*2^0\n",
        "    10110011\t -1.1875*2^0\n",
        "    10110110\t -1.3750*2^0\n",
        "    10111100\t -1.7500*2^0\n",
        "    10111001\t -1.5625*2^0\n",
        "    10111010\t -1.6250*2^0\n",
        "    10111011\t -1.6875*2^0\n",
        "    10110101\t -1.3125*2^0\n",
        "    10110111\t -1.4375*2^0\n",
        "    10111011\t -1.6875*2^0\n",
        "    10111101\t -1.8125*2^0\n",
        "    10111111\t -1.9375*2^0\n",
        "    11100000\t    -1.0*2^3\n",
        "    11100001\t  -1.625*2^3\n",
        "    11100010\t -1.1250*2^3\n",
        "    11100100\t -1.2500*2^3\n",
        "    11101000\t -1.5000*2^3\n",
        "    11100011\t -1.1875*2^3\n",
        "    11100110\t -1.3750*2^3\n",
        "    11101100\t -1.7500*2^3\n",
        "    11101001\t -1.5625*2^3\n",
        "    11101010\t -1.6250*2^3\n",
        "    11101011\t -1.6875*2^3\n",
        "    11100101\t -1.3125*2^3\n",
        "    11100111\t -1.4375*2^3\n",
        "    11101011\t -1.6875*2^3\n",
        "    11101101\t -1.8125*2^3\n",
        "    11101111\t -1.9375*2^3\n",
        "    11010000\t    -1.0*2^2\n",
        "    11010001\t  -1.625*2^2\n",
        "    11010010\t -1.1250*2^2\n",
        "    11010100\t -1.2500*2^2\n",
        "    11011000\t -1.5000*2^2\n",
        "    11010011\t -1.1875*2^2\n",
        "    11010110\t -1.3750*2^2\n",
        "    11011100\t -1.7500*2^2\n",
        "    11011001\t -1.5625*2^2\n",
        "    11011010\t -1.6250*2^2\n",
        "    11011011\t -1.6875*2^2\n",
        "    11010101\t -1.3125*2^2\n",
        "    11010111\t -1.4375*2^2\n",
        "    11011011\t -1.6875*2^2\n",
        "    11011101\t -1.8125*2^2\n",
        "    11011111\t -1.9375*2^2\n",
        "    11110000\t    -1.0*2^4\n",
        "    11110001\t  -1.625*2^4\n",
        "    11110010\t -1.1250*2^4\n",
        "    11110100\t -1.2500*2^4\n",
        "    11111000\t -1.5000*2^4\n",
        "    11110011\t -1.1875*2^4\n",
        "    11110110\t -1.3750*2^4\n",
        "    11111100\t -1.7500*2^4\n",
        "    11111001\t -1.5625*2^4\n",
        "    11111010\t -1.6250*2^4\n",
        "    11111011\t -1.6875*2^4\n",
        "    11110101\t -1.3125*2^4\n",
        "    11110111\t -1.4375*2^4\n",
        "    11111011\t -1.6875*2^4\n",
        "    11111101\t -1.8125*2^4\n",
        "    11111111\t -1.9375*2^4\n",
        "    00000000\t   +1.0*2^-3\n",
        "    00000001\t +1.625*2^-3\n",
        "    00000010\t+1.1250*2^-3\n",
        "    00000100\t+1.2500*2^-3\n",
        "    00001000\t+1.5000*2^-3\n",
        "    00000011\t+1.1875*2^-3\n",
        "    00000110\t+1.3750*2^-3\n",
        "    00001100\t+1.7500*2^-3\n",
        "    00001001\t+1.5625*2^-3\n",
        "    00001010\t+1.6250*2^-3\n",
        "    00001011\t+1.6875*2^-3\n",
        "    00000101\t+1.3125*2^-3\n",
        "    00000111\t+1.4375*2^-3\n",
        "    00001011\t+1.6875*2^-3\n",
        "    00001101\t+1.8125*2^-3\n",
        "    00001111\t+1.9375*2^-3\n",
        "    00100000\t   +1.0*2^-1\n",
        "    00100001\t +1.625*2^-1\n",
        "    00100010\t+1.1250*2^-1\n",
        "    00100100\t+1.2500*2^-1\n",
        "    00101000\t+1.5000*2^-1\n",
        "    00100011\t+1.1875*2^-1\n",
        "    00100110\t+1.3750*2^-1\n",
        "    00101100\t+1.7500*2^-1\n",
        "    00101001\t+1.5625*2^-1\n",
        "    00101010\t+1.6250*2^-1\n",
        "    00101011\t+1.6875*2^-1\n",
        "    00100101\t+1.3125*2^-1\n",
        "    00100111\t+1.4375*2^-1\n",
        "    00101011\t+1.6875*2^-1\n",
        "    00101101\t+1.8125*2^-1\n",
        "    00101111\t+1.9375*2^-1\n",
        "    01000000\t    +1.0*2^1\n",
        "    01000001\t  +1.625*2^1\n",
        "    01000010\t +1.1250*2^1\n",
        "    01000100\t +1.2500*2^1\n",
        "    01001000\t +1.5000*2^1\n",
        "    01000011\t +1.1875*2^1\n",
        "    01000110\t +1.3750*2^1\n",
        "    01001100\t +1.7500*2^1\n",
        "    01001001\t +1.5625*2^1\n",
        "    01001010\t +1.6250*2^1\n",
        "    01001011\t +1.6875*2^1\n",
        "    01000101\t +1.3125*2^1\n",
        "    01000111\t +1.4375*2^1\n",
        "    01001011\t +1.6875*2^1\n",
        "    01001101\t +1.8125*2^1\n",
        "    01001111\t +1.9375*2^1\n",
        "    00010000\t   +1.0*2^-2\n",
        "    00010001\t +1.625*2^-2\n",
        "    00010010\t+1.1250*2^-2\n",
        "    00010100\t+1.2500*2^-2\n",
        "    00011000\t+1.5000*2^-2\n",
        "    00010011\t+1.1875*2^-2\n",
        "    00010110\t+1.3750*2^-2\n",
        "    00011100\t+1.7500*2^-2\n",
        "    00011001\t+1.5625*2^-2\n",
        "    00011010\t+1.6250*2^-2\n",
        "    00011011\t+1.6875*2^-2\n",
        "    00010101\t+1.3125*2^-2\n",
        "    00010111\t+1.4375*2^-2\n",
        "    00011011\t+1.6875*2^-2\n",
        "    00011101\t+1.8125*2^-2\n",
        "    00011111\t+1.9375*2^-2\n",
        "    00110000\t    +1.0*2^0\n",
        "    00110001\t  +1.625*2^0\n",
        "    00110010\t +1.1250*2^0\n",
        "    00110100\t +1.2500*2^0\n",
        "    00111000\t +1.5000*2^0\n",
        "    00110011\t +1.1875*2^0\n",
        "    00110110\t +1.3750*2^0\n",
        "    00111100\t +1.7500*2^0\n",
        "    00111001\t +1.5625*2^0\n",
        "    00111010\t +1.6250*2^0\n",
        "    00111011\t +1.6875*2^0\n",
        "    00110101\t +1.3125*2^0\n",
        "    00110111\t +1.4375*2^0\n",
        "    00111011\t +1.6875*2^0\n",
        "    00111101\t +1.8125*2^0\n",
        "    00111111\t +1.9375*2^0\n",
        "    01100000\t    +1.0*2^3\n",
        "    01100001\t  +1.625*2^3\n",
        "    01100010\t +1.1250*2^3\n",
        "    01100100\t +1.2500*2^3\n",
        "    01101000\t +1.5000*2^3\n",
        "    01100011\t +1.1875*2^3\n",
        "    01100110\t +1.3750*2^3\n",
        "    01101100\t +1.7500*2^3\n",
        "    01101001\t +1.5625*2^3\n",
        "    01101010\t +1.6250*2^3\n",
        "    01101011\t +1.6875*2^3\n",
        "    01100101\t +1.3125*2^3\n",
        "    01100111\t +1.4375*2^3\n",
        "    01101011\t +1.6875*2^3\n",
        "    01101101\t +1.8125*2^3\n",
        "    01101111\t +1.9375*2^3\n",
        "    01010000\t    +1.0*2^2\n",
        "    01010001\t  +1.625*2^2\n",
        "    01010010\t +1.1250*2^2\n",
        "    01010100\t +1.2500*2^2\n",
        "    01011000\t +1.5000*2^2\n",
        "    01010011\t +1.1875*2^2\n",
        "    01010110\t +1.3750*2^2\n",
        "    01011100\t +1.7500*2^2\n",
        "    01011001\t +1.5625*2^2\n",
        "    01011010\t +1.6250*2^2\n",
        "    01011011\t +1.6875*2^2\n",
        "    01010101\t +1.3125*2^2\n",
        "    01010111\t +1.4375*2^2\n",
        "    01011011\t +1.6875*2^2\n",
        "    01011101\t +1.8125*2^2\n",
        "    01011111\t +1.9375*2^2\n",
        "    01110000\t    +1.0*2^4\n",
        "    01110001\t  +1.625*2^4\n",
        "    01110010\t +1.1250*2^4\n",
        "    01110100\t +1.2500*2^4\n",
        "    01111000\t +1.5000*2^4\n",
        "    01110011\t +1.1875*2^4\n",
        "    01110110\t +1.3750*2^4\n",
        "    01111100\t +1.7500*2^4\n",
        "    01111001\t +1.5625*2^4\n",
        "    01111010\t +1.6250*2^4\n",
        "    01111011\t +1.6875*2^4\n",
        "    01110101\t +1.3125*2^4\n",
        "    01110111\t +1.4375*2^4\n",
        "    01111011\t +1.6875*2^4\n",
        "    01111101\t +1.8125*2^4\n",
        "    01111111\t +1.9375*2^4\n"
       ]
      }
     ],
     "prompt_number": 73
    },
    {
     "cell_type": "code",
     "collapsed": false,
     "input": [],
     "language": "python",
     "metadata": {},
     "outputs": []
    },
    {
     "cell_type": "markdown",
     "metadata": {},
     "source": [
      "La tabla debe de tener el siguiente formato:"
     ]
    },
    {
     "cell_type": "markdown",
     "metadata": {},
     "source": [
      "| representaci\u00f3n almacenada | real | flotante |\n",
      "|---------------------------|------|----------|"
     ]
    },
    {
     "cell_type": "markdown",
     "metadata": {},
     "source": [
      "* Grafica el n\u00famero de d\u00edgitos en un `b\u00ednade` usando un histograma."
     ]
    },
    {
     "cell_type": "markdown",
     "metadata": {},
     "source": [
      "* Grafica en un histograma la **densidad** de d\u00edgitos que existen por cada entero."
     ]
    },
    {
     "cell_type": "heading",
     "level": 2,
     "metadata": {},
     "source": [
      "Problema 7"
     ]
    },
    {
     "cell_type": "markdown",
     "metadata": {},
     "source": [
      "Observa el c\u00f3digo de `GNU Octave` siguiente:"
     ]
    },
    {
     "cell_type": "code",
     "collapsed": false,
     "input": [
      "!cat strange_floats_sp.m"
     ],
     "language": "python",
     "metadata": {},
     "outputs": [
      {
       "output_type": "stream",
       "stream": "stdout",
       "text": [
        "x = single(77777.0)\n",
        "y = single(7.0)\n",
        "inv_y = 1.0 / y\n",
        "\n",
        "z = x / y\n",
        "z1 = x * inv_y\n",
        "\n",
        "if (z != z1)\n",
        "  sprintf(\"%1.3f != %1.3f\", z, z1)\n",
        "  sprintf(\"%1.30f != %1.30f\", z, z1)\n",
        "else\n",
        "  sprintf(\"%1.3f == %1.3f\", z, z1)\n",
        "  sprintf(\"%1.30f == %1.30f\", z, z1)\n",
        "endif\n"
       ]
      }
     ],
     "prompt_number": 3
    },
    {
     "cell_type": "markdown",
     "metadata": {},
     "source": [
      "- \u00bfQu\u00e9 hace este c\u00f3digo?\n",
      "- Abre el programa `GNU Octave` y ejec\u00fatalo en la consola. \u00bfResult\u00f3 lo que esperabas?\n",
      "- `z`,  `z1` \u00bfSon `SP` o `DP`?"
     ]
    },
    {
     "cell_type": "markdown",
     "metadata": {},
     "source": []
    },
    {
     "cell_type": "markdown",
     "metadata": {},
     "source": [
      "<div class=\"alert alert-info\">\n",
      "**NOTA** `single` en `GNU Octave` y `Matlab` es la instrucci\u00f3n para indicarle al programa que trabaje en _single precision_.\n",
      "</div>"
     ]
    },
    {
     "cell_type": "markdown",
     "metadata": {},
     "source": [
      "<div class=\"alert alert-info\">\n",
      "**NOTA** Para ejecutar un _script_ en `GNU Octave` solo debes de teclear su nombre (obvio si lo tienes en tu carpeta)\n",
      "</div>"
     ]
    },
    {
     "cell_type": "markdown",
     "metadata": {},
     "source": [
      "- Comp\u00e1ralo con el _script_ `strange_floats_dp.m` \u00bfPor qu\u00e9 es la diferencia? Explica la salida de ambos programas."
     ]
    },
    {
     "cell_type": "code",
     "collapsed": false,
     "input": [
      "!cat strange_floats_dp.m"
     ],
     "language": "python",
     "metadata": {},
     "outputs": [
      {
       "output_type": "stream",
       "stream": "stdout",
       "text": [
        "x = 77777.0\r\n",
        "y = 7.0\r\n",
        "inv_y = 1.0 / y\r\n",
        "\r\n",
        "z = x / y\r\n",
        "z1 = x * inv_y\r\n",
        "\r\n",
        "if (z != z1)\r\n",
        "  sprintf(\"%1.3f != %1.3f\", z, z1)\r\n",
        "  sprintf(\"%1.30f != %1.30f\", z, z1)\r\n",
        "else\r\n",
        "  sprintf(\"%1.3f == %1.3f\", z, z1)\r\n",
        "  sprintf(\"%1.30f == %1.30f\", z, z1)\r\n",
        "endif\r\n"
       ]
      }
     ],
     "prompt_number": 11
    },
    {
     "cell_type": "markdown",
     "metadata": {},
     "source": [
      "- `z`,  `z1` \u00bfSon `SP` o `DP`?"
     ]
    },
    {
     "cell_type": "heading",
     "level": 2,
     "metadata": {},
     "source": [
      "Problema 8"
     ]
    },
    {
     "cell_type": "markdown",
     "metadata": {},
     "source": [
      "La _varianza_ de $n$ datos se define como"
     ]
    },
    {
     "cell_type": "markdown",
     "metadata": {},
     "source": [
      "$$\n",
      "\n",
      "s_n^2 = \\frac{1}{n - 1} \\sum^n_{i=1} (x_i - \\bar{x})^2\n",
      "\n",
      "$$"
     ]
    },
    {
     "cell_type": "markdown",
     "metadata": {},
     "source": [
      "donde $\\bar{x}$"
     ]
    },
    {
     "cell_type": "markdown",
     "metadata": {},
     "source": [
      "$$\n",
      "\\bar{x} = \\frac{1}{n} \\sum^n_{i = 1} x_i\n",
      "$$"
     ]
    },
    {
     "cell_type": "markdown",
     "metadata": {},
     "source": [
      "Esta definici\u00f3n es poco eficiente ya que requiere dos pasadas a los datos para calcular la _varianza_."
     ]
    },
    {
     "cell_type": "markdown",
     "metadata": {},
     "source": [
      "* Crea una funci\u00f3n an\u00f3nima en `numpy` o `GNU/Octave` que reproduzca este algoritmo."
     ]
    },
    {
     "cell_type": "code",
     "collapsed": false,
     "input": [
      "def var1(x):\n",
      "    suma=0\n",
      "    prom=np.mean(x)\n",
      "    for i in range(len(x)):\n",
      "        suma+=(x[i]-prom)**2\n",
      "    var1=suma/(len(x)-1)\n",
      "    return var1"
     ],
     "language": "python",
     "metadata": {},
     "outputs": [],
     "prompt_number": 94
    },
    {
     "cell_type": "markdown",
     "metadata": {},
     "source": [
      "En los libros de texto se recomienda (o se reescribe) la definici\u00f3n de la siguiente manera:"
     ]
    },
    {
     "cell_type": "markdown",
     "metadata": {},
     "source": [
      "$$\n",
      "s_n^2 = \\frac{1}{n-1} \\left( \\sum^n_{i=1} x_i^2 -  \\frac{1}{n}\\left(\\sum^n_{i=1} x_i\\right)^2\\right)\n",
      "$$"
     ]
    },
    {
     "cell_type": "markdown",
     "metadata": {},
     "source": [
      "El cual es m\u00e1s eficiente computacionalmente hablando"
     ]
    },
    {
     "cell_type": "markdown",
     "metadata": {},
     "source": [
      "* Crea un programa en `numpy` o `GNU/Octave` que reproduzca este algoritmo."
     ]
    },
    {
     "cell_type": "code",
     "collapsed": false,
     "input": [
      "def varianza(x):\n",
      "    s1=0\n",
      "    s2=0\n",
      "    for i in range(len(x)):\n",
      "        s1+=x[i]\n",
      "        s2+=x[i]**2\n",
      "    s1=(s1**2)/len(x)\n",
      "    suma=s2-s1\n",
      "    varianza=suma/(len(x)-1)\n",
      "    return varianza        "
     ],
     "language": "python",
     "metadata": {},
     "outputs": [],
     "prompt_number": 89
    },
    {
     "cell_type": "code",
     "collapsed": false,
     "input": [
      "varianza([10000,10001,10002])"
     ],
     "language": "python",
     "metadata": {},
     "outputs": [
      {
       "metadata": {},
       "output_type": "pyout",
       "prompt_number": 95,
       "text": [
        "1"
       ]
      }
     ],
     "prompt_number": 95
    },
    {
     "cell_type": "code",
     "collapsed": false,
     "input": [
      "var1([10000,10001,10002])"
     ],
     "language": "python",
     "metadata": {},
     "outputs": [
      {
       "metadata": {},
       "output_type": "pyout",
       "prompt_number": 96,
       "text": [
        "1.0"
       ]
      }
     ],
     "prompt_number": 96
    },
    {
     "cell_type": "markdown",
     "metadata": {},
     "source": [
      "* Sean los datos $10000, 10001, 10002$, Realiza el c\u00e1lculo a mano y comp\u00e1ralo con los dos algoritmos. Expl\u00edca las diferencias y el posible error."
     ]
    },
    {
     "cell_type": "heading",
     "level": 2,
     "metadata": {},
     "source": [
      "Problema 9"
     ]
    },
    {
     "cell_type": "markdown",
     "metadata": {},
     "source": [
      "* Carga la funci\u00f3n `factorial` definida en el archivo `factorial.py`"
     ]
    },
    {
     "cell_type": "code",
     "collapsed": false,
     "input": [
      "from factorial import factorial"
     ],
     "language": "python",
     "metadata": {},
     "outputs": [],
     "prompt_number": 14
    },
    {
     "cell_type": "markdown",
     "metadata": {},
     "source": [
      "La serie de Maclaurin es un caso especial de la serie de Taylor de una funci\u00f3n $f$ alrededor de $0$"
     ]
    },
    {
     "cell_type": "markdown",
     "metadata": {},
     "source": [
      "$$\n",
      "f(x) = f(0) + f'(0) + \\frac{f''(0)}{2!} + \\ldots = \\sum^\\infty_{i=0}\\frac{1}{n\\!}f^{(n)}(0)\n",
      "$$"
     ]
    },
    {
     "cell_type": "markdown",
     "metadata": {},
     "source": [
      "En particular, la funci\u00f3n exponencial tiene la siguiente forma:"
     ]
    },
    {
     "cell_type": "markdown",
     "metadata": {},
     "source": [
      "$$\n",
      "e^x = 1 + x + \\frac{x^2}{2} + \\ldots = \\sum^\\infty_{i=0} \\frac{x^i}{i\\!}\n",
      "$$"
     ]
    },
    {
     "cell_type": "markdown",
     "metadata": {},
     "source": [
      "* Usando la funci\u00f3n `factorial` crea la funci\u00f3n `exp_maclaurin(x,n)`, que imprima lo siguiente:"
     ]
    },
    {
     "cell_type": "code",
     "collapsed": false,
     "input": [
      "def exp_maclaurin(x,n):\n",
      "    suma=0\n",
      "    for i in range(n):\n",
      "        suma=suma+(x**i)/(factorial(i))\n",
      "        print \"%12s\\t%12s\\t%12s\\t%12s\\t%20s\\t%20s\" % (i, x, x**i, factorial(i), x**i/factorial(i), suma)\n",
      "    return suma   "
     ],
     "language": "python",
     "metadata": {},
     "outputs": [],
     "prompt_number": 93
    },
    {
     "cell_type": "markdown",
     "metadata": {},
     "source": [
      "    print \"%12s\\t%12s\\t%12s\\t%12s\\t%20s\\t%20s\" % (\"i\", \"x\", \"x^i\", \"factorial(i)\", \"x^i/factorial(i)\", \"suma\")"
     ]
    },
    {
     "cell_type": "markdown",
     "metadata": {},
     "source": [
      "* Usando la funci\u00f3n `np.exp` calcula `0`, `1`, `5.5` y `-5.5`"
     ]
    },
    {
     "cell_type": "code",
     "collapsed": false,
     "input": [
      "import numpy as np"
     ],
     "language": "python",
     "metadata": {},
     "outputs": [],
     "prompt_number": 79
    },
    {
     "cell_type": "code",
     "collapsed": false,
     "input": [
      "np.exp(0)"
     ],
     "language": "python",
     "metadata": {},
     "outputs": [
      {
       "latex": [
        "$$1.0$$"
       ],
       "metadata": {},
       "output_type": "pyout",
       "png": "[encoded data removed]",
       "prompt_number": 18,
       "text": [
        "1.0"
       ]
      }
     ],
     "prompt_number": 18
    },
    {
     "cell_type": "code",
     "collapsed": false,
     "input": [
      "np.exp(1)"
     ],
     "language": "python",
     "metadata": {},
     "outputs": [
      {
       "latex": [
        "$$2.71828182846$$"
       ],
       "metadata": {},
       "output_type": "pyout",
       "png": "[encoded data removed]",
       "prompt_number": 20,
       "text": [
        "2.71828182846"
       ]
      }
     ],
     "prompt_number": 20
    },
    {
     "cell_type": "code",
     "collapsed": false,
     "input": [
      "np.exp(5.5)"
     ],
     "language": "python",
     "metadata": {},
     "outputs": [
      {
       "latex": [
        "$$244.691932264$$"
       ],
       "metadata": {},
       "output_type": "pyout",
       "png": "[encoded data removed]",
       "prompt_number": 21,
       "text": [
        "244.691932264"
       ]
      }
     ],
     "prompt_number": 21
    },
    {
     "cell_type": "code",
     "collapsed": false,
     "input": [
      "np.exp(-5.5)"
     ],
     "language": "python",
     "metadata": {},
     "outputs": [
      {
       "latex": [
        "$$0.00408677143846$$"
       ],
       "metadata": {},
       "output_type": "pyout",
       "png": "[encoded data removed]",
       "prompt_number": 22,
       "text": [
        "0.00408677143846"
       ]
      }
     ],
     "prompt_number": 22
    },
    {
     "cell_type": "markdown",
     "metadata": {},
     "source": [
      "* Usando tu funci\u00f3n, calcula los mismos valores a orden 20 \u00bfEn cu\u00e1l falla? \u00bfPor qu\u00e9 crees que sea?"
     ]
    },
    {
     "cell_type": "code",
     "collapsed": false,
     "input": [
      "exp_maclaurin(0.0,20)"
     ],
     "language": "python",
     "metadata": {},
     "outputs": [
      {
       "latex": [
        "$$1.0$$"
       ],
       "metadata": {},
       "output_type": "pyout",
       "png": "[encoded data removed]",
       "prompt_number": 46,
       "text": [
        "1.0"
       ]
      }
     ],
     "prompt_number": 46
    },
    {
     "cell_type": "code",
     "collapsed": false,
     "input": [
      "exp_maclaurin(1.0,20)"
     ],
     "language": "python",
     "metadata": {},
     "outputs": [
      {
       "latex": [
        "$$2.71828182846$$"
       ],
       "metadata": {},
       "output_type": "pyout",
       "png": "[encoded data removed]",
       "prompt_number": 29,
       "text": [
        "2.71828182846"
       ]
      }
     ],
     "prompt_number": 29
    },
    {
     "cell_type": "code",
     "collapsed": false,
     "input": [
      "exp_maclaurin(5.5,20)"
     ],
     "language": "python",
     "metadata": {},
     "outputs": [
      {
       "latex": [
        "$$244.69157688$$"
       ],
       "metadata": {},
       "output_type": "pyout",
       "png": "[encoded data removed]",
       "prompt_number": 31,
       "text": [
        "244.69157688"
       ]
      }
     ],
     "prompt_number": 31
    },
    {
     "cell_type": "code",
     "collapsed": false,
     "input": [
      "exp_maclaurin(-5.5,20)"
     ],
     "language": "python",
     "metadata": {},
     "outputs": [
      {
       "latex": [
        "$$0.00387821477628$$"
       ],
       "metadata": {},
       "output_type": "pyout",
       "png": "[encoded data removed]",
       "prompt_number": 33,
       "text": [
        "0.00387821477628"
       ]
      }
     ],
     "prompt_number": 33
    },
    {
     "cell_type": "markdown",
     "metadata": {},
     "source": [
      "falla en -5.5"
     ]
    },
    {
     "cell_type": "code",
     "collapsed": false,
     "input": [],
     "language": "python",
     "metadata": {},
     "outputs": []
    },
    {
     "cell_type": "markdown",
     "metadata": {},
     "source": [
      "* \u00bfC\u00f3mo resolver\u00edas este problema? Implementa tu soluci\u00f3n."
     ]
    },
    {
     "cell_type": "markdown",
     "metadata": {},
     "source": [
      "<div class=\"alert alert-info\">\n",
      "**HINT** Recuerda las leyes de los exponentes\n",
      "</div>"
     ]
    },
    {
     "cell_type": "heading",
     "level": 2,
     "metadata": {},
     "source": [
      "Problema 10"
     ]
    },
    {
     "cell_type": "markdown",
     "metadata": {},
     "source": [
      "- \u00bfQu\u00e9 pasa si usas 16 bits, 32 bits o 64 bits?\n",
      "- Implementa el **problema 8** usando el otro lenguaje que no usaste \u00bfEl resultado es diferente? "
     ]
    }
   ],
   "metadata": {}
  }
 ]
}