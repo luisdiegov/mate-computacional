{
 "metadata": {
  "name": "",
  "signature": "sha256:486c39cbc019a4d80296a28ecdf099be57e8f65ddc06af468448af17620f9a3f"
 },
 "nbformat": 3,
 "nbformat_minor": 0,
 "worksheets": [
  {
   "cells": [
    {
     "cell_type": "code",
     "collapsed": false,
     "input": [
      "suma=0\n",
      "for i in xrange(1,1000,1):\n",
      "    if i%3==0:\n",
      "        suma+=i\n",
      "    elif i%5==0:\n",
      "        suma+=i\n",
      "    else:\n",
      "        suma+=0\n",
      "print suma"
     ],
     "language": "python",
     "metadata": {},
     "outputs": [
      {
       "output_type": "stream",
       "stream": "stdout",
       "text": [
        "233168\n"
       ]
      }
     ],
     "prompt_number": 4
    },
    {
     "cell_type": "code",
     "collapsed": false,
     "input": [],
     "language": "python",
     "metadata": {},
     "outputs": []
    }
   ],
   "metadata": {}
  }
 ]
}