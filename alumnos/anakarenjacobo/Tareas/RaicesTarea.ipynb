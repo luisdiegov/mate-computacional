{
 "metadata": {
  "name": "",
  "signature": "sha256:9e15c799f78aba591e7f182d9f4c2214b5294c161734763e977b639e329b4d71"
 },
 "nbformat": 3,
 "nbformat_minor": 0,
 "worksheets": [
  {
   "cells": [
    {
     "cell_type": "code",
     "collapsed": false,
     "input": [
      "%matplotlib inline\n",
      "import numpy as np\n",
      "import matplotlib.pyplot as plt"
     ],
     "language": "python",
     "metadata": {},
     "outputs": [],
     "prompt_number": 16
    },
    {
     "cell_type": "code",
     "collapsed": false,
     "input": [
      "# 0. Verifica que las unidades est\u00e9n bien\n",
      "\"\"\" Las unidades est\u00e1n bien, de acuerdo al an\u00e1lisis que se hizo en clase.\"\"\""
     ],
     "language": "python",
     "metadata": {},
     "outputs": [
      {
       "metadata": {},
       "output_type": "pyout",
       "prompt_number": 17,
       "text": [
        "' Las unidades est\\xc3\\xa1n bien, de acuerdo al an\\xc3\\xa1lisis que se hizo en clase.'"
       ]
      }
     ],
     "prompt_number": 17
    },
    {
     "cell_type": "code",
     "collapsed": false,
     "input": [
      "# 1. Intenta despejar el valor de m \u00bfSe te ocurre alguna idea?\n",
      "\"\"\" No se me ocurre alguna forma de despejar el valor de m, debido a que se ocupa dos veces la m, \n",
      "    y una se esta utilizando como variable de una funcion trigonometrica, y no se como se despeja de ahi\"\"\""
     ],
     "language": "python",
     "metadata": {},
     "outputs": [
      {
       "metadata": {},
       "output_type": "pyout",
       "prompt_number": 18,
       "text": [
        "' No se me ocurre alguna forma de despejar el valor de m, debido a que se ocupa dos veces la m, \\n    y una se esta utilizando como variable de una funcion trigonometrica, y no se como se despeja de ahi'"
       ]
      }
     ],
     "prompt_number": 18
    },
    {
     "cell_type": "code",
     "collapsed": false,
     "input": [
      "# 2. Trata de estimar el valor de m usando un m\u00e9todo gr\u00e1fico. El valor de g es de 9.8 m/s2.\n",
      "\"\"\" definimos los valores\"\"\"\n",
      "g = 9.8\n",
      "c= .30\n",
      "v=30\n",
      "t=3"
     ],
     "language": "python",
     "metadata": {},
     "outputs": [],
     "prompt_number": 19
    },
    {
     "cell_type": "code",
     "collapsed": false,
     "input": [
      "fm= lambda m:np.sqrt(g*m/c)*(np.tanh(np.sqrt(g*c/m)*t))-v \n",
      "\"\"\" aqui lo que estamos haciendo es definir una funcion, la cual si se sustituyen los valores tendremos un valor de m\"\"\""
     ],
     "language": "python",
     "metadata": {},
     "outputs": [
      {
       "metadata": {},
       "output_type": "pyout",
       "prompt_number": 20,
       "text": [
        "' aqui lo que estamos haciendo es definir una funcion, la cual si se sustituyen los valores tendremos un valor de m'"
       ]
      }
     ],
     "prompt_number": 20
    },
    {
     "cell_type": "code",
     "collapsed": false,
     "input": [
      "def biseccion(func, a, b, stop):\n",
      "    x = (a + b)/2\n",
      "    \n",
      "    assert func(a)*func(b) < 0, \"El signo de la funci\u00f3n en los extremos deber\u00eda de ser diferente\"\n",
      "    assert func(a) != 0, \"La ra\u00edz es %.5f\" % a\n",
      "    assert func(b) != 0, \"La ra\u00edz es %.5f\" % b\n",
      "    \n",
      "    print \"%s\\t%12s\\t%12s\" % (\"k\", \"I(a,b)\", \"x\")\n",
      "    print \"%d\\tI(%.5f, %.5f)\\t%.5f\" % (0,a, b, x)\n",
      "    \n",
      "    for k in range(stop):        \n",
      "        f_x = func(x)\n",
      "        f_a = func(a)\n",
      "        f_b = func(b)        \n",
      "        \n",
      "        if(f_a*f_x < 0):\n",
      "            a, b = a, x\n",
      "        elif(f_x*f_b < 0):\n",
      "            a, b = x, b\n",
      "        x = (a+b)/2\n",
      "        \n",
      "        print \"%d\\tI(%.5f, %.5f)\\t%.12f\" % (k+1, a, b, x)"
     ],
     "language": "python",
     "metadata": {},
     "outputs": [],
     "prompt_number": 21
    },
    {
     "cell_type": "code",
     "collapsed": false,
     "input": [
      "def biseccion(func, a, b, tolerancia, stop):\n",
      "    k = 0\n",
      "    \n",
      "    x = (a + b)/2\n",
      "    \n",
      "    I = (b - a)/2\n",
      "    \n",
      "    assert func(a)*func(b) < 0, \"El signo de la funci\u00f3n en los extremos deber\u00eda de ser diferente\"\n",
      "    assert func(a) != 0, \"La ra\u00edz es %.5f\" % a\n",
      "    assert func(b) != 0, \"La ra\u00edz es %.5f\" % b\n",
      "    \n",
      "    print \"%s\\t%12s\\t%12s\" % (\"k\",\"I(a,b)\", \"x\")\n",
      "    print \"%s\\tI(%.5f, %.5f)\\t%.5f\" % (\"0\",a, b, x)\n",
      "    \n",
      "    while I >= tolerancia and k <= stop:\n",
      "        k = k + 1\n",
      "        \n",
      "        f_x = func(x)\n",
      "        f_a = func(a)\n",
      "        f_b = func(b)        \n",
      "        \n",
      "        \n",
      "        if(f_a*f_x < 0):\n",
      "            a, b = a, x\n",
      "        elif(f_x*f_b < 0):\n",
      "            a, b = x, b\n",
      "        \n",
      "        x = (a+b)/2\n",
      "        \n",
      "        I = (b - a)/2\n",
      "        \n",
      "        print \"%d\\tI(%.5f, %.5f)\\t%.12f\" % (k,a, b, x)"
     ],
     "language": "python",
     "metadata": {},
     "outputs": [],
     "prompt_number": 22
    },
    {
     "cell_type": "code",
     "collapsed": false,
     "input": [
      "#3. Resu\u00e9lvelo usando el m\u00e9todo de la biseccion \u00bfCu\u00e1ntos pasos necesitas para converger? \n",
      "#\u00bfCu\u00e1l fu\u00e9 tu intervalo inicial? \u00bfTu m\u00e9todo find_brackets funciona en este caso?\n",
      "\n",
      "\"\"\" aqui se usa la funcion de biseccion\"\"\"\n",
      "biseccion(fm, 50.0,200.0, 1e-8,100) "
     ],
     "language": "python",
     "metadata": {},
     "outputs": [
      {
       "metadata": {},
       "output_type": "pyout",
       "prompt_number": 31,
       "text": [
        "' aqui se usa la funcion de biseccion'"
       ]
      }
     ],
     "prompt_number": 31
    },
    {
     "cell_type": "code",
     "collapsed": false,
     "input": [
      "find_brackets(fm,50.0,200.0,0.15)"
     ],
     "language": "python",
     "metadata": {},
     "outputs": []
    },
    {
     "cell_type": "code",
     "collapsed": false,
     "input": [
      "x= np.linspace(50,150,256,endpoint=True)\n",
      "FM = np.sqrt(9.8*x/0.25)*(np.tanh(np.sqrt(9.8*0.25/x)*4))-36\n",
      "plt.plot(x,FM,color=\"red\")\n",
      "ax=plt.gca()\n",
      "ax.spines['right'].set_color('none')\n",
      "ax.spines['top'].set_color('none')\n",
      "ax.xaxis.set_ticks_position('bottom')\n",
      "ax.spines['bottom'].set_position('data',0)\n",
      "ax.yaxis.set_ticks_position('left')\n",
      "ax.spines['left'].set_position(('data',0))"
     ],
     "language": "python",
     "metadata": {},
     "outputs": []
    },
    {
     "cell_type": "code",
     "collapsed": false,
     "input": [
      "# 4. Calcula a mano la derivada de f(m). \u00bfCoincide con la derivada simb\u00f3lica \n",
      "\"\"\" en clase nos dimos cuenta que la derivada a mano si es muy dificil, por lo que no la sacamos\"\"\""
     ],
     "language": "python",
     "metadata": {},
     "outputs": []
    },
    {
     "cell_type": "code",
     "collapsed": false,
     "input": [
      "x= sym.Symbol('m')\n",
      "G=sym.Symbol('g')\n",
      "C=sym.Symbol('c')\n",
      "V=sym.Symbol('V')\n",
      "T=sym.Sybol('t')"
     ],
     "language": "python",
     "metadata": {},
     "outputs": []
    },
    {
     "cell_type": "code",
     "collapsed": false,
     "input": [
      "fm1=sym.sqrt(G*x/C)*(sym.tanh(sym.sqrt(G*C/x)*T))-V\n",
      "fm1"
     ],
     "language": "python",
     "metadata": {},
     "outputs": []
    },
    {
     "cell_type": "code",
     "collapsed": false,
     "input": [
      "from sympy import *"
     ],
     "language": "python",
     "metadata": {},
     "outputs": []
    },
    {
     "cell_type": "code",
     "collapsed": false,
     "input": [
      "fm2=diff(fm1,x)\n",
      "fm2"
     ],
     "language": "python",
     "metadata": {},
     "outputs": []
    },
    {
     "cell_type": "code",
     "collapsed": false,
     "input": [
      "# 5. Utiliza el m\u00e9todo de newton para resolverlo. \n",
      "#\u00bfCu\u00e1ntos pasos necesitaste para converger? \u00bfQu\u00e9 valor de x0 utilizaste?\n"
     ],
     "language": "python",
     "metadata": {},
     "outputs": [],
     "prompt_number": 13
    },
    {
     "cell_type": "code",
     "collapsed": false,
     "input": [
      "fm1=fm1.subs(G,9.81)\n",
      "fm1=fm1.subs(C,0.30)\n",
      "fm1=fm1.subs(V,30)\n",
      "fm1=fm1.subs(T,3)"
     ],
     "language": "python",
     "metadata": {},
     "outputs": [
      {
       "metadata": {},
       "output_type": "pyout",
       "prompt_number": 32,
       "text": [
        "'fm1=fm1.subs(G,9.81)\\nfm1=fm1.subs(C,0.30)\\nfm1=fm1.subs(V,30)\\nfm1=fm1.subs(T,3)'"
       ]
      }
     ],
     "prompt_number": 32
    },
    {
     "cell_type": "code",
     "collapsed": false,
     "input": [
      "newton(fm1,x0=140.0,tolerancia =1e-12, stop=100)"
     ],
     "language": "python",
     "metadata": {},
     "outputs": [
      {
       "metadata": {},
       "output_type": "pyout",
       "prompt_number": 33,
       "text": [
        "'newton(fm1,x0=140.0,tolerancia =1e-12, stop=100)'"
       ]
      }
     ],
     "prompt_number": 33
    },
    {
     "cell_type": "code",
     "collapsed": false,
     "input": [
      "# 6.Implementa m\u00e9todo de la secante en python y en GNU Octave, ll\u00e1malo secante(f, x1, x0, tolerancia, stop) \n",
      "#Resuelve el problema. \u00bfC\u00f3mo se compara con los otros m\u00e9todos?\n",
      "\"\"\" \"\"\""
     ],
     "language": "python",
     "metadata": {},
     "outputs": [],
     "prompt_number": 14
    },
    {
     "cell_type": "code",
     "collapsed": false,
     "input": [
      "def secante(f,x1,xo,tolerancia,stop):\n",
      "   df = (f(x0)-f(x1))/(x0-x1)\n",
      "    \n",
      "\n",
      "    \n",
      "    # Inicializamos el contador\n",
      "    k = 0\n",
      "    \n",
      "    # Inicializamos abs(x1-x0) en un n\u00famero mayor que la tolerancia\n",
      "    diff = 1\n",
      "    print \"{: >5} {: >10} {: >10} {: >10} {: >11} {: >10}\".format(\"k\", \"x0\", \"F(x0)\", \"DF(x0)\", \"abs(x1-x0)\", \"x1\")\n",
      "    \n",
      "    while diff >= tolerancia and k <= stop:\n",
      "        k = k + 1\n",
      "\n",
      "        x2 = x1 - (float(F(x1)/df)\n",
      "        print \"{: >5} {: >10.5f} {: >10.5f} {: >10.5f} {: >10.5f} {: >11.5f}\".format(k, x0, F(x0), DF(x0), diff, x1)\n",
      "        \n",
      "        diff = abs(x1 - x0)\n",
      "        \n",
      "        x0 = x1\n",
      "        x1=x2\n",
      "        df=(f(x0)-f(x1))/(x0-x1)\n",
      "        \n",
      "    if k > stop:\n",
      "        print \"El m\u00e9todo de Newton no convergi\u00f3: para la tolerancia especificada, se alcanzaron el m\u00e1ximo n\u00famero de iteraciones\"\n",
      "    \n",
      "    print \"\\n\\nLa ra\u00edz es %2.12f\" % x2"
     ],
     "language": "python",
     "metadata": {},
     "outputs": [
      {
       "ename": "IndentationError",
       "evalue": "unexpected indent (<ipython-input-28-ebaa5372a0dc>, line 7)",
       "output_type": "pyerr",
       "traceback": [
        "\u001b[1;36m  File \u001b[1;32m\"<ipython-input-28-ebaa5372a0dc>\"\u001b[1;36m, line \u001b[1;32m7\u001b[0m\n\u001b[1;33m    k = 0\u001b[0m\n\u001b[1;37m    ^\u001b[0m\n\u001b[1;31mIndentationError\u001b[0m\u001b[1;31m:\u001b[0m unexpected indent\n"
       ]
      }
     ],
     "prompt_number": 28
    },
    {
     "cell_type": "code",
     "collapsed": false,
     "input": [
      "secante(fm, 70,69,1e-8,20)"
     ],
     "language": "python",
     "metadata": {},
     "outputs": [
      {
       "metadata": {},
       "output_type": "pyout",
       "prompt_number": 34,
       "text": [
        "'secante(fm, 70,69,1e-8,20)'"
       ]
      }
     ],
     "prompt_number": 34
    },
    {
     "cell_type": "code",
     "collapsed": false,
     "input": [
      "# 7. Implem\u00e9nta este m\u00e9todo, ll\u00e1malo secante_modificado(f, x0, tolerancia, stop). \n",
      "# Usando un x0=50 kg y un \u03b4 de 10\u22126, soluciona el problema.\n",
      "\"\"\" \"\"\""
     ],
     "language": "python",
     "metadata": {},
     "outputs": [],
     "prompt_number": 15
    },
    {
     "cell_type": "code",
     "collapsed": false,
     "input": [
      "def secante_modificado(f,xo,tolerancia,stop):\n",
      "   \n",
      "    df = (f(x0+x0*1e-6)-f(x0))/(x0*1e-6)\n",
      "    \n",
      "  \n",
      "    \n",
      "    # Inicializamos el contador\n",
      "    k = 0\n",
      "    \n",
      "    # Inicializamos abs(x1-x0) en un n\u00famero mayor que la tolerancia\n",
      "    diff = 1\n",
      "    print \"{: >5} {: >10} {: >10} {: >10} {: >11} {: >10}\".format(\"k\", \"x0\", \"F(x0)\", \"DF(x0)\", \"abs(x1-x0)\", \"x1\")\n",
      "    \n",
      "    while diff >= tolerancia and k <= stop:\n",
      "        k = k + 1\n",
      "\n",
      "        x1 = x0 - (float(f(x0)/df)\n",
      "        print \"{: >5} {: >10.5f} {: >10.5f} {: >10.5f} {: >10.5f} {: >11.5f}\".format(k, x0, F(x0), DF(x0), diff, x1)\n",
      "        \n",
      "        diff = abs(x1 - x0)\n",
      "        \n",
      "        x0 = x1\n",
      "        df=(f(x0+x0*1e-6)-f(x0))/(x0*1e-6)\n",
      "        \n",
      "    if k > stop:\n",
      "        print \"El m\u00e9todo de Newton no convergi\u00f3: para la tolerancia especificada, se alcanzaron el m\u00e1ximo n\u00famero de iteraciones\"\n",
      "    \n",
      "    print \"\\n\\nLa ra\u00edz es %2.12f\" % x1 "
     ],
     "language": "python",
     "metadata": {},
     "outputs": [
      {
       "metadata": {},
       "output_type": "pyout",
       "prompt_number": 35,
       "text": [
        "'def secante_modificado(f,xo,tolerancia,stop):\\n   \\n    df = (f(x0+x0*1e-6)-f(x0))/(x0*1e-6)\\n    \\n  \\n    \\n    # Inicializamos el contador\\n    k = 0\\n    \\n    # Inicializamos abs(x1-x0) en un n\\xc3\\xbamero mayor que la tolerancia\\n    diff = 1\\n    print \"{: >5} {: >10} {: >10} {: >10} {: >11} {: >10}\".format(\"k\", \"x0\", \"F(x0)\", \"DF(x0)\", \"abs(x1-x0)\", \"x1\")\\n    \\n    while diff >= tolerancia and k <= stop:\\n        k = k + 1\\n\\n        x1 = x0 - (float(f(x0)/df)\\n        print \"{: >5} {: >10.5f} {: >10.5f} {: >10.5f} {: >10.5f} {: >11.5f}\".format(k, x0, F(x0), DF(x0), diff, x1)\\n        \\n        diff = abs(x1 - x0)\\n        \\n        x0 = x1\\n        df=(f(x0+x0*1e-6)-f(x0))/(x0*1e-6)\\n        \\n    if k > stop:\\n        print \"El m\\xc3\\xa9todo de Newton no convergi\\xc3\\xb3: para la tolerancia especificada, se alcanzaron el m\\xc3\\xa1ximo n\\xc3\\xbamero de iteraciones\"\\n    \\n    print \"\\n\\nLa ra\\xc3\\xadz es %2.12f\" % x1 '"
       ]
      }
     ],
     "prompt_number": 35
    },
    {
     "cell_type": "code",
     "collapsed": false,
     "input": [
      "secante_modificado(fm,50,1e-8,20)"
     ],
     "language": "python",
     "metadata": {},
     "outputs": [
      {
       "metadata": {},
       "output_type": "pyout",
       "prompt_number": 36,
       "text": [
        "'secante_modificado(fm,50,1e-8,20)'"
       ]
      }
     ],
     "prompt_number": 36
    },
    {
     "cell_type": "code",
     "collapsed": false,
     "input": [],
     "language": "python",
     "metadata": {},
     "outputs": []
    }
   ],
   "metadata": {}
  }
 ]
}