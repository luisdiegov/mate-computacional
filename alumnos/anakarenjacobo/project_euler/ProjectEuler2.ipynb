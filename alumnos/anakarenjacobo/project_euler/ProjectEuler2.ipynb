{
 "metadata": {
  "name": "",
  "signature": "sha256:897cfc830d62d6f5d54c1bd7bf36783a501a9759097b2ef3f0df9bafc903a32c"
 },
 "nbformat": 3,
 "nbformat_minor": 0,
 "worksheets": [
  {
   "cells": [
    {
     "cell_type": "code",
     "collapsed": false,
     "input": [
      "sumatoria= 0\n",
      "sumaTotal= 0\n",
      "a=1\n",
      "b=1\n",
      "while (sumatoria<4000000):\n",
      "    if(sumatoria%2==0):\n",
      "        sumaTotal+= sumatoria\n",
      "    sumatoria= a+b\n",
      "    b=a\n",
      "    a=sumatoria\n",
      "print sumaTotal\n",
      "\"\"\"\n",
      "La serie de fibonacci es una recurrencia porque se necesita regresar al valor pasado para poder seguir la serie,\n",
      "lo que hace este programa es generar la serie de fibonacci pero se le pone un if con un modulo 2 para obtener solo\n",
      "los numeros pares y de ahi ya se aplica la serie de fibonacci guardadno solo los valores pares\n",
      "\"\"\""
     ],
     "language": "python",
     "metadata": {},
     "outputs": [
      {
       "output_type": "stream",
       "stream": "stdout",
       "text": [
        "4613732\n"
       ]
      },
      {
       "metadata": {},
       "output_type": "pyout",
       "prompt_number": 1,
       "text": [
        "'\\nLa serie de fibonacci es una recurrencia porque se necesita regresar al valor pasado para poder seguir la serie,\\nlo que hace este programa es generar la serie de fibonacci pero se le pone un if con un modulo 2 para obtener solo\\nlos numeros pares y de ahi ya se aplica la serie de fibonacci guardadno solo los valores pares\\n'"
       ]
      }
     ],
     "prompt_number": 1
    },
    {
     "cell_type": "code",
     "collapsed": false,
     "input": [],
     "language": "python",
     "metadata": {},
     "outputs": []
    }
   ],
   "metadata": {}
  }
 ]
}