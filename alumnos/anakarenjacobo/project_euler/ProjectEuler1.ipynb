{
 "metadata": {
  "name": "",
  "signature": "sha256:e7a2b86a15ef1b9234c7a2e6663ee1572a4fb75115c801fd7bdfb25f31381e1b"
 },
 "nbformat": 3,
 "nbformat_minor": 0,
 "worksheets": [
  {
   "cells": [
    {
     "cell_type": "code",
     "collapsed": false,
     "input": [
      "for?"
     ],
     "language": "python",
     "metadata": {},
     "outputs": [
      {
       "output_type": "stream",
       "stream": "stdout",
       "text": [
        "Object `for` not found.\n"
       ]
      }
     ],
     "prompt_number": 1
    },
    {
     "cell_type": "code",
     "collapsed": false,
     "input": [
      "sumatoria =0\n",
      "for i in range (1,1000):\n",
      "    if (i%3==0) or (i%5 ==0):\n",
      "        sumatoria +=i\n",
      "print sumatoria\n",
      "\"\"\"\n",
      "En este programa lo que se utiliza primero es un for para ir recorriendo los valores del 1 al 1000, dentro del for\n",
      "se usa un if para preguntarnos por los numero que sean multiplos de 3 o de 5, y se usa un acumulador que su funcion\n",
      "es sumar los numeros que si cumplen con las condiciones\n",
      "\"\"\""
     ],
     "language": "python",
     "metadata": {},
     "outputs": [
      {
       "output_type": "stream",
       "stream": "stdout",
       "text": [
        "233168\n"
       ]
      },
      {
       "metadata": {},
       "output_type": "pyout",
       "prompt_number": 1,
       "text": [
        "'\\nEn este programa lo que se utiliza primero es un for para ir recorriendo los valores del 1 al 1000, dentro del for\\nse usa un if para preguntarnos por los numero que sean multiplos de 3 o de 5, y se usa un acumulador que su funcion\\nes sumar los numeros que si cumplen con las condiciones\\n'"
       ]
      }
     ],
     "prompt_number": 1
    },
    {
     "cell_type": "code",
     "collapsed": false,
     "input": [],
     "language": "python",
     "metadata": {},
     "outputs": []
    }
   ],
   "metadata": {}
  }
 ]
}