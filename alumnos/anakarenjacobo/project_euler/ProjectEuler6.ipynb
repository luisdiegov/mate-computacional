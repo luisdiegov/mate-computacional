{
 "metadata": {
  "name": "",
  "signature": "sha256:e53fce6f0d35facda416a41cb65d54ad2dc6335a547c4f66ebb19d01272a82ee"
 },
 "nbformat": 3,
 "nbformat_minor": 0,
 "worksheets": [
  {
   "cells": [
    {
     "cell_type": "code",
     "collapsed": false,
     "input": [
      "\"\"\"\n",
      "    The sum of the squares of the first ten natural numbers is,\n",
      "                1^2+2^2+...+10^2 = 385\n",
      "    The square of the sum of the first ten natural numbers is,\n",
      "                (1+2+...+10)^2=55^2=3025\n",
      "    Hence the difference between the sum of the squares of the first ten natural numbers and the square\n",
      "    of the sum is 3025-385=2640\n",
      "    Find the difference between the sum of the squares of the first one hundred natural numbers and the square of the sum\n",
      "    \"\"\""
     ],
     "language": "python",
     "metadata": {},
     "outputs": [
      {
       "metadata": {},
       "output_type": "pyout",
       "prompt_number": 1,
       "text": [
        "'\\n    The sum of the squares of the first ten natural numbers is,\\n                1^2+2^2+...+10^2 = 385\\n    The square of the sum of the first ten natural numbers is,\\n                (1+2+...+10)^2=55^2=3025\\n    Hence the difference between the sum of the squares of the first ten natural numbers and the square\\n    of the sum is 3025-385=2640\\n    Find the difference between the sum of the squares of the first one hundred natural numbers and the square of the sum\\n    '"
       ]
      }
     ],
     "prompt_number": 1
    },
    {
     "cell_type": "code",
     "collapsed": false,
     "input": [
      "\"\"\"\n",
      "La suma de los cuadrados de los primeros 100 numeros naturales\n",
      "\"\"\"\n",
      "sumaCuadrados = 0\n",
      "for i in range (1,101):\n",
      "    sumaCuadrados += (i*i)\n",
      "print sumaCuadrados"
     ],
     "language": "python",
     "metadata": {},
     "outputs": [
      {
       "output_type": "stream",
       "stream": "stdout",
       "text": [
        "338350\n"
       ]
      }
     ],
     "prompt_number": 35
    },
    {
     "cell_type": "code",
     "collapsed": false,
     "input": [
      "\"\"\"\n",
      "El cuadrado de la suma de los primero 100 numeros naturales\n",
      "\"\"\"\n",
      "suma =0\n",
      "for i in range (1,101):\n",
      "    suma += i\n",
      "cuadradosSuma = suma*suma\n",
      "print cuadradosSuma"
     ],
     "language": "python",
     "metadata": {},
     "outputs": [
      {
       "output_type": "stream",
       "stream": "stdout",
       "text": [
        "25502500\n"
       ]
      }
     ],
     "prompt_number": 36
    },
    {
     "cell_type": "code",
     "collapsed": false,
     "input": [
      "\"\"\"\n",
      "La diferencia entre cuadradosSuma y sumaCuadrados\n",
      "\"\"\"\n",
      "Diferencia = cuadradosSuma - sumaCuadrados\n",
      "print Diferencia"
     ],
     "language": "python",
     "metadata": {},
     "outputs": [
      {
       "output_type": "stream",
       "stream": "stdout",
       "text": [
        "25164150\n"
       ]
      }
     ],
     "prompt_number": 37
    },
    {
     "cell_type": "code",
     "collapsed": false,
     "input": [],
     "language": "python",
     "metadata": {},
     "outputs": []
    }
   ],
   "metadata": {}
  }
 ]
}