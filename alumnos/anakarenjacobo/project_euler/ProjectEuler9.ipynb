{
 "metadata": {
  "name": "",
  "signature": "sha256:bef918fc9a35e875444c5ea39dbf93f86a449c1e46442b2d34c291d5927d1697"
 },
 "nbformat": 3,
 "nbformat_minor": 0,
 "worksheets": [
  {
   "cells": [
    {
     "cell_type": "code",
     "collapsed": false,
     "input": [
      "\"\"\"\n",
      "    A Pythagorean triplet is a set of three natural numbers, a<b<c\n",
      "    for which a^2+b^2=c^2\n",
      "    There exists exactly one Pythagorean triplet for which a+b+c=1000\n",
      "    Find the product abc\n",
      "\"\"\""
     ],
     "language": "python",
     "metadata": {},
     "outputs": [
      {
       "metadata": {},
       "output_type": "pyout",
       "prompt_number": 2,
       "text": [
        "'\\n    A Pythagorean triplet is a set of three natural numbers, a<b<c\\n    for which a^2+b^2=c^2\\n    There exists exactly one Pythagorean triplet for which a+b+c=1000\\n    Find the product abc\\n'"
       ]
      }
     ],
     "prompt_number": 2
    },
    {
     "cell_type": "code",
     "collapsed": false,
     "input": [
      "print([a*b*(1000-b-a)\n",
      "       for a in range(1,500)\n",
      "       for b in range (1,500)\n",
      "       if a*a + b*b == ((1000-b-a)*(1000-b-a))][0])\n"
     ],
     "language": "python",
     "metadata": {},
     "outputs": [
      {
       "output_type": "stream",
       "stream": "stdout",
       "text": [
        "31875000\n"
       ]
      }
     ],
     "prompt_number": 3
    },
    {
     "cell_type": "code",
     "collapsed": false,
     "input": [
      "\"\"\"\n",
      "    Este programa me costo mucho trabajo, tuve que obtener ayuda de internet; y lo que pude ver es que \n",
      "    el programa primero tiene la orden de imprimir a pesar de que es la ultima en ejecutar, y se usan dos for\n",
      "    para que uno lleve el control de la variable a y el otro el de la variable c\n",
      "\"\"\""
     ],
     "language": "python",
     "metadata": {},
     "outputs": [
      {
       "metadata": {},
       "output_type": "pyout",
       "prompt_number": 4,
       "text": [
        "'\\n    Este programa me costo mucho trabajo, tuve que obtener ayuda de internet; y lo que pude ver es que \\n    el programa primero tiene la orden de imprimir a pesar de que es la ultima en ejecutar, y se usan dos for\\n    para que uno lleve el control de la variable a y el otro el de la variable c\\n'"
       ]
      }
     ],
     "prompt_number": 4
    },
    {
     "cell_type": "code",
     "collapsed": false,
     "input": [],
     "language": "python",
     "metadata": {},
     "outputs": []
    }
   ],
   "metadata": {}
  }
 ]
}