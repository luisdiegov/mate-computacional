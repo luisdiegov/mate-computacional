{
 "metadata": {
  "name": "",
  "signature": "sha256:a2ba395edfcbbb821aee62b1dd00fe100431efb07429b9627730f913c80967ae"
 },
 "nbformat": 3,
 "nbformat_minor": 0,
 "worksheets": [
  {
   "cells": [
    {
     "cell_type": "code",
     "collapsed": false,
     "input": [
      "\"\"\"\n",
      "If the numbers 1 to 5 are written out in words: \n",
      "one, two, three, four, five, then there are 3 + 3 + 5 + 4 + 4 = 19 letters used in total.\n",
      "\n",
      "If all the numbers from 1 to 1000 (one thousand) inclusive were written out in words, \n",
      "how many letters would be used?\n",
      "\n",
      "NOTE: Do not count spaces or hyphens. For example, \n",
      "342 (three hundred and forty-two) contains 23 letters and 115 (one hundred and fifteen) contains 20 letters. \n",
      "The use of \"and\" when writing out numbers is in compliance with British usage.\n",
      "\"\"\""
     ],
     "language": "python",
     "metadata": {},
     "outputs": [
      {
       "metadata": {},
       "output_type": "pyout",
       "prompt_number": 1,
       "text": [
        "'\\nIf the numbers 1 to 5 are written out in words: \\none, two, three, four, five, then there are 3 + 3 + 5 + 4 + 4 = 19 letters used in total.\\n\\nIf all the numbers from 1 to 1000 (one thousand) inclusive were written out in words, \\nhow many letters would be used?\\n\\nNOTE: Do not count spaces or hyphens. For example, \\n342 (three hundred and forty-two) contains 23 letters and 115 (one hundred and fifteen) contains 20 letters. \\nThe use of \"and\" when writing out numbers is in compliance with British usage.\\n'"
       ]
      }
     ],
     "prompt_number": 1
    },
    {
     "cell_type": "code",
     "collapsed": false,
     "input": [
      "\"\"\"\n",
      "   Este programa lo que hace primero es enumerar los numeros del 1-19 y luego lo que se hace es usar los ciclos\n",
      "   for para ir agregando (append) las letras de los numeros compuestos, y al final se suma usando un (len) que \n",
      "   regresa el numero de items de una sequencia\n",
      "\"\"\"\n",
      "numeros = ['','one','two','three','four','five','six','seven','eight','nine','ten',\n",
      "           'eleven','twelve', 'thirteen','fourteen','fifteen','sixteen','seventeen','eighteen','nineteen']\n",
      "for d in ('twenty','thirty','forty','fifty', 'sixty', 'seventy', 'eighty', 'ninety'):\n",
      "    for n in numeros[0:10]:\n",
      "        numeros.append(d+n)\n",
      "for c in numeros[1:10]:\n",
      "    numeros.append(c+'hundred')\n",
      "    for n in numeros[1:100]:\n",
      "        numeros.append(c+'hundredand'+n)\n",
      "numeros.append('onethousand')\n",
      "print(sum([len(w)for w in numeros]))"
     ],
     "language": "python",
     "metadata": {},
     "outputs": [
      {
       "output_type": "stream",
       "stream": "stdout",
       "text": [
        "21124\n"
       ]
      }
     ],
     "prompt_number": 12
    }
   ],
   "metadata": {}
  }
 ]
}