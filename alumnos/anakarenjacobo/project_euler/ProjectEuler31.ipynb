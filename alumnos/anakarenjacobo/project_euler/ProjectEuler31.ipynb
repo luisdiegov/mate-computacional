{
 "metadata": {
  "name": "",
  "signature": "sha256:83d14acb9668f28e6010a3947acd0612c63c5b063a2521bd4d3eeeeef8b83c3b"
 },
 "nbformat": 3,
 "nbformat_minor": 0,
 "worksheets": [
  {
   "cells": [
    {
     "cell_type": "code",
     "collapsed": false,
     "input": [
      "\"\"\"\n",
      "In England the currency is made up of pound, \u00a3, and pence, p, and there are eight coins in general circulation:\n",
      "\n",
      "1p, 2p, 5p, 10p, 20p, 50p, \u00a31 (100p) and \u00a32 (200p).\n",
      "It is possible to make \u00a32 in the following way:\n",
      "\n",
      "1\u00d7\u00a31 + 1\u00d750p + 2\u00d720p + 1\u00d75p + 1\u00d72p + 3\u00d71p\n",
      "How many different ways can \u00a32 be made using any number of coins?\n",
      "\"\"\""
     ],
     "language": "python",
     "metadata": {},
     "outputs": [
      {
       "metadata": {},
       "output_type": "pyout",
       "prompt_number": 1,
       "text": [
        "'\\nIn England the currency is made up of pound, \\xc2\\xa3, and pence, p, and there are eight coins in general circulation:\\n\\n1p, 2p, 5p, 10p, 20p, 50p, \\xc2\\xa31 (100p) and \\xc2\\xa32 (200p).\\nIt is possible to make \\xc2\\xa32 in the following way:\\n\\n1\\xc3\\x97\\xc2\\xa31 + 1\\xc3\\x9750p + 2\\xc3\\x9720p + 1\\xc3\\x975p + 1\\xc3\\x972p + 3\\xc3\\x971p\\nHow many different ways can \\xc2\\xa32 be made using any number of coins?\\n'"
       ]
      }
     ],
     "prompt_number": 1
    },
    {
     "cell_type": "code",
     "collapsed": false,
     "input": [
      "cantidadMax =200\n",
      "monedasPosibles = [1,2,5,10.20,50,100,200]\n",
      "formas = [1] + [0]*cantidadMax\n",
      "\n",
      "\"\"\"\n",
      "se usa un for para ir contando las formas en las que se puede obtener la cantidad, siendo un doble for para\n",
      "que el primero lleve el conteo de las posibles monedas y el segundo vaya sumando las formas de representarla\n",
      "despues se tiene el acumulador que va sumando las formas de representarlo, imprimienod las formas de la \n",
      "cantidad maxima es decir de 200\n",
      "\"\"\"\n",
      "\n",
      "for k in coins:\n",
      "    for i in range (k,cantidadMax+1):\n",
      "        formas[i]+= formas [i-k]\n",
      "print formas[cantidadMax]"
     ],
     "language": "python",
     "metadata": {},
     "outputs": [
      {
       "output_type": "stream",
       "stream": "stdout",
       "text": [
        "73682\n"
       ]
      }
     ],
     "prompt_number": 6
    },
    {
     "cell_type": "code",
     "collapsed": false,
     "input": [],
     "language": "python",
     "metadata": {},
     "outputs": []
    }
   ],
   "metadata": {}
  }
 ]
}