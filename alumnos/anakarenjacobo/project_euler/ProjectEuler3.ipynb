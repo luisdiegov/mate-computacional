{
 "metadata": {
  "name": "",
  "signature": "sha256:1d306e6665bed1c9e5f19780d7c568b56a71edd6b8f3286b7a8b1235ed0daac8"
 },
 "nbformat": 3,
 "nbformat_minor": 0,
 "worksheets": [
  {
   "cells": [
    {
     "cell_type": "code",
     "collapsed": false,
     "input": [
      "n=600851475143\n",
      "i=2\n",
      "while i*i<n:\n",
      "    while n%i==0:\n",
      "        n=n/i\n",
      "    i=i+1\n",
      "print n\n",
      "\"\"\"\n",
      "Este programa no lo hice yo sola, me costo mucho trabajo plantearlo pero despues de ver esta soluci\u00f3n en internet \n",
      "la analice y lo que hace este programa es empezar en 2 y si el modulo da cero lo que quiere decir que es divisible\n",
      "ese valor se asigna a la variable que se va a imprimir, y asi va de uno en uno hasta encontrar el factor primo \n",
      "mayor\n",
      "\"\"\""
     ],
     "language": "python",
     "metadata": {},
     "outputs": []
    },
    {
     "cell_type": "code",
     "collapsed": false,
     "input": [],
     "language": "python",
     "metadata": {},
     "outputs": []
    }
   ],
   "metadata": {}
  }
 ]
}