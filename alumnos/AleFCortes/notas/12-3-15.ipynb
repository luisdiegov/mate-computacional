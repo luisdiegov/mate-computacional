{
 "metadata": {
  "name": "",
  "signature": "sha256:e91484dfb1e8820f81c505a49fa6b252b641e1464c9feeb09f5f77f139c8035c"
 },
 "nbformat": 3,
 "nbformat_minor": 0,
 "worksheets": [
  {
   "cells": [
    {
     "cell_type": "code",
     "collapsed": false,
     "input": [
      "%matplotlib inline\n",
      "import numpy as np\n",
      "import matplotlib.pyplot as plt\n",
      "from math import sqrt"
     ],
     "language": "python",
     "metadata": {},
     "outputs": [],
     "prompt_number": 1
    },
    {
     "cell_type": "code",
     "collapsed": false,
     "input": [
      "v = 36.0\n",
      "t = 4.0\n",
      "c = 0.25\n",
      "g = 9.8\n",
      "m = np.linspace(0, 300,100)\n",
      "f = np.sqrt((g*m/c))*np.tanh(np.sqrt(g*c/m)*t)-v\n",
      "plt.plot(m, f, color=\"red\")\n",
      "ax = plt.gca()  \n",
      "ax.spines['right'].set_color('none')\n",
      "ax.spines['top'].set_color('none')\n",
      "ax.xaxis.set_ticks_position('bottom')\n",
      "ax.spines['bottom'].set_position(('data',0))\n",
      "ax.yaxis.set_ticks_position('left')\n",
      "ax.spines['left'].set_position(('data',0))"
     ],
     "language": "python",
     "metadata": {},
     "outputs": [
      {
       "output_type": "stream",
       "stream": "stderr",
       "text": [
        "-c:6: RuntimeWarning: divide by zero encountered in divide\n"
       ]
      },
      {
       "metadata": {},
       "output_type": "display_data",
       "png": "[encoded data removed]",
       "text": [
        "<matplotlib.figure.Figure at 0x366d0b8>"
       ]
      }
     ],
     "prompt_number": 2
    },
    {
     "cell_type": "markdown",
     "metadata": {},
     "source": [
      "Podemos usar lo aprendido en esta secci\u00f3n y replantear el problema de la siguiente manera:\n",
      "\n",
      "$$\n",
      "f(m) = \\sqrt{\\frac{g m}{c_d}}\\tanh\\left(\\sqrt{\\frac{g c_d}{m}}t\\right) - v(t)\n",
      "$$"
     ]
    },
    {
     "cell_type": "code",
     "collapsed": false,
     "input": [
      "def biseccion(func, a, b, stop):\n",
      "    x = (a + b)/2\n",
      "    \n",
      "    assert func(a)*func(b) < 0, \"El signo de la funci\u00f3n en los extremos deber\u00eda de ser diferente\"\n",
      "    assert func(a) != 0, \"La ra\u00edz es %.5f\" % a\n",
      "    assert func(b) != 0, \"La ra\u00edz es %.5f\" % b\n",
      "    \n",
      "    print \"%s\\t%12s\\t%12s\" % (\"k\", \"I(a,b)\", \"x\")\n",
      "    print \"%d\\tI(%.5f, %.5f)\\t%.5f\" % (0,a, b, x)\n",
      "    \n",
      "    for k in range(stop):        \n",
      "        f_x = func(x)\n",
      "        f_a = func(a)\n",
      "        f_b = func(b)        \n",
      "        \n",
      "        if(f_a*f_x < 0):\n",
      "            a, b = a, x\n",
      "        elif(f_x*f_b < 0):\n",
      "            a, b = x, b\n",
      "        x = (a+b)/2\n",
      "        \n",
      "        print \"%d\\tI(%.5f, %.5f)\\t%.12f\" % (k+1, a, b, x)"
     ],
     "language": "python",
     "metadata": {},
     "outputs": [],
     "prompt_number": 3
    },
    {
     "cell_type": "code",
     "collapsed": false,
     "input": [
      "var1 = lambda x : x**2"
     ],
     "language": "python",
     "metadata": {},
     "outputs": [],
     "prompt_number": 4
    },
    {
     "cell_type": "code",
     "collapsed": false,
     "input": [
      "f = lambda m: np.sqrt((g*m/c))*np.tanh(np.sqrt(g*c/m)*t)-v"
     ],
     "language": "python",
     "metadata": {},
     "outputs": [],
     "prompt_number": 5
    },
    {
     "cell_type": "code",
     "collapsed": false,
     "input": [
      "v = 36.0\n",
      "t = 4.0\n",
      "c = 0.25\n",
      "g = 9.8\n",
      "f(150)"
     ],
     "language": "python",
     "metadata": {},
     "outputs": [
      {
       "metadata": {},
       "output_type": "pyout",
       "prompt_number": 6,
       "text": [
        "0.10805785857225914"
       ]
      }
     ],
     "prompt_number": 6
    },
    {
     "cell_type": "code",
     "collapsed": false,
     "input": [
      "biseccion(func = f, a =140.0, b = 1500.0, stop = 50)"
     ],
     "language": "python",
     "metadata": {},
     "outputs": [
      {
       "output_type": "stream",
       "stream": "stdout",
       "text": [
        "k\t      I(a,b)\t           x\n",
        "0\tI(140.00000, 1500.00000)\t820.00000\n",
        "1\tI(140.00000, 820.00000)\t480.000000000000\n",
        "2\tI(140.00000, 480.00000)\t310.000000000000\n",
        "3\tI(140.00000, 310.00000)\t225.000000000000\n",
        "4\tI(140.00000, 225.00000)\t182.500000000000\n",
        "5\tI(140.00000, 182.50000)\t161.250000000000\n",
        "6\tI(140.00000, 161.25000)\t150.625000000000\n",
        "7\tI(140.00000, 150.62500)\t145.312500000000\n",
        "8\tI(140.00000, 145.31250)\t142.656250000000\n",
        "9\tI(142.65625, 145.31250)\t143.984375000000\n",
        "10\tI(143.98438, 145.31250)\t144.648437500000\n",
        "11\tI(143.98438, 144.64844)\t144.316406250000\n",
        "12\tI(144.31641, 144.64844)\t144.482421875000\n",
        "13\tI(144.31641, 144.48242)\t144.399414062500\n",
        "14\tI(144.39941, 144.48242)\t144.440917968750\n",
        "15\tI(144.39941, 144.44092)\t144.420166015625\n",
        "16\tI(144.39941, 144.42017)\t144.409790039062\n",
        "17\tI(144.39941, 144.40979)\t144.404602050781\n",
        "18\tI(144.40460, 144.40979)\t144.407196044922\n",
        "19\tI(144.40460, 144.40720)\t144.405899047852\n",
        "20\tI(144.40590, 144.40720)\t144.406547546387\n",
        "21\tI(144.40655, 144.40720)\t144.406871795654\n",
        "22\tI(144.40655, 144.40687)\t144.406709671021\n",
        "23\tI(144.40655, 144.40671)\t144.406628608704\n",
        "24\tI(144.40663, 144.40671)\t144.406669139862\n",
        "25\tI(144.40667, 144.40671)\t144.406689405441\n",
        "26\tI(144.40669, 144.40671)\t144.406699538231\n",
        "27\tI(144.40669, 144.40670)\t144.406694471836\n",
        "28\tI(144.40669, 144.40669)\t144.406691938639\n",
        "29\tI(144.40669, 144.40669)\t144.406693205237\n",
        "30\tI(144.40669, 144.40669)\t144.406693838537\n",
        "31\tI(144.40669, 144.40669)\t144.406694155186\n",
        "32\tI(144.40669, 144.40669)\t144.406693996862\n",
        "33\tI(144.40669, 144.40669)\t144.406693917699\n",
        "34\tI(144.40669, 144.40669)\t144.406693957280\n",
        "35\tI(144.40669, 144.40669)\t144.406693977071\n",
        "36\tI(144.40669, 144.40669)\t144.406693967176\n",
        "37\tI(144.40669, 144.40669)\t144.406693962228\n",
        "38\tI(144.40669, 144.40669)\t144.406693959754\n",
        "39\tI(144.40669, 144.40669)\t144.406693960991\n",
        "40\tI(144.40669, 144.40669)\t144.406693960373\n",
        "41\tI(144.40669, 144.40669)\t144.406693960682\n",
        "42\tI(144.40669, 144.40669)\t144.406693960836\n",
        "43\tI(144.40669, 144.40669)\t144.406693960914\n",
        "44\tI(144.40669, 144.40669)\t144.406693960875\n",
        "45\tI(144.40669, 144.40669)\t144.406693960894\n",
        "46\tI(144.40669, 144.40669)\t144.406693960885\n",
        "47\tI(144.40669, 144.40669)\t144.406693960890\n",
        "48\tI(144.40669, 144.40669)\t144.406693960887\n",
        "49\tI(144.40669, 144.40669)\t144.406693960888\n",
        "50\tI(144.40669, 144.40669)\t144.406693960888\n"
       ]
      }
     ],
     "prompt_number": 7
    },
    {
     "cell_type": "heading",
     "level": 2,
     "metadata": {},
     "source": [
      "falta con find_brackets"
     ]
    },
    {
     "cell_type": "code",
     "collapsed": false,
     "input": [
      "\n",
      "import sympy as sym\n",
      "\n",
      "# Para que se vean bonitas\n",
      "from sympy.interactive import printing\n",
      "printing.init_printing(use_latex=True)"
     ],
     "language": "python",
     "metadata": {},
     "outputs": [],
     "prompt_number": 8
    },
    {
     "cell_type": "code",
     "collapsed": false,
     "input": [
      "m = sym.Symbol('m')\n",
      "g = sym.Symbol('g')\n",
      "c = sym.Symbol('c')\n",
      "t = sym.Symbol('t')\n",
      "v = sym.Symbol('v')\n"
     ],
     "language": "python",
     "metadata": {},
     "outputs": [],
     "prompt_number": 9
    },
    {
     "cell_type": "code",
     "collapsed": false,
     "input": [
      "f1 = sym.sqrt((g*m/c))*sym.tanh(sym.sqrt(g*c/m)*t)-v\n",
      "f"
     ],
     "language": "python",
     "metadata": {},
     "outputs": [
      {
       "metadata": {},
       "output_type": "pyout",
       "prompt_number": 10,
       "text": [
        "<function __main__.<lambda>>"
       ]
      }
     ],
     "prompt_number": 10
    },
    {
     "cell_type": "code",
     "collapsed": false,
     "input": [
      "df = sym.diff(f1,m)\n",
      "df"
     ],
     "language": "python",
     "metadata": {},
     "outputs": [
      {
       "latex": [
        "$$- \\frac{t \\sqrt{\\frac{c g}{m}}}{2 m} \\sqrt{\\frac{g m}{c}} \\left(- \\tanh^{2}{\\left (t \\sqrt{\\frac{c g}{m}} \\right )} + 1\\right) + \\frac{\\sqrt{\\frac{g m}{c}}}{2 m} \\tanh{\\left (t \\sqrt{\\frac{c g}{m}} \\right )}$$"
       ],
       "metadata": {},
       "output_type": "pyout",
       "png": "[encoded data removed]",
       "prompt_number": 11,
       "text": [
        "        _____     _____ \u239b       \u239b      _____\u239e    \u239e       _____     \u239b      ____\n",
        "       \u2571 g\u22c5m     \u2571 c\u22c5g  \u239c      2\u239c     \u2571 c\u22c5g \u239f    \u239f      \u2571 g\u22c5m      \u239c     \u2571 c\u22c5g\n",
        "  t\u22c5  \u2571  \u2500\u2500\u2500 \u22c5  \u2571  \u2500\u2500\u2500 \u22c5\u239c- tanh \u239ct\u22c5  \u2571  \u2500\u2500\u2500 \u239f + 1\u239f     \u2571  \u2500\u2500\u2500 \u22c5tanh\u239ct\u22c5  \u2571  \u2500\u2500\u2500\n",
        "    \u2572\u2571    c   \u2572\u2571    m   \u239d       \u239d  \u2572\u2571    m  \u23a0    \u23a0   \u2572\u2571    c       \u239d  \u2572\u2571    m \n",
        "- \u2500\u2500\u2500\u2500\u2500\u2500\u2500\u2500\u2500\u2500\u2500\u2500\u2500\u2500\u2500\u2500\u2500\u2500\u2500\u2500\u2500\u2500\u2500\u2500\u2500\u2500\u2500\u2500\u2500\u2500\u2500\u2500\u2500\u2500\u2500\u2500\u2500\u2500\u2500\u2500\u2500\u2500\u2500\u2500\u2500\u2500\u2500\u2500 + \u2500\u2500\u2500\u2500\u2500\u2500\u2500\u2500\u2500\u2500\u2500\u2500\u2500\u2500\u2500\u2500\u2500\u2500\u2500\u2500\u2500\u2500\u2500\u2500\u2500\n",
        "                        2\u22c5m                                      2\u22c5m          \n",
        "\n",
        "_\u239e\n",
        " \u239f\n",
        " \u239f\n",
        " \u23a0\n",
        "\u2500\u2500\n",
        "  "
       ]
      }
     ],
     "prompt_number": 11
    },
    {
     "cell_type": "code",
     "collapsed": false,
     "input": [
      "M = sym.Symbol('M')\n",
      "V = 36.0\n",
      "T = 4.0\n",
      "C = 0.25\n",
      "G = 9.8\n",
      "F = sym.sqrt((G*M/C))*sym.tanh(sym.sqrt(G*C/M)*T)-V\n",
      "F"
     ],
     "language": "python",
     "metadata": {},
     "outputs": [
      {
       "latex": [
        "$$6.26099033699941 \\sqrt{M} \\tanh{\\left (6.26099033699941 \\sqrt{\\frac{1}{M}} \\right )} - 36.0$$"
       ],
       "metadata": {},
       "output_type": "pyout",
       "png": "[encoded data removed]",
       "prompt_number": 12,
       "text": [
        "                           \u239b                     ___\u239e       \n",
        "                   ___     \u239c                    \u2571 1 \u239f       \n",
        "6.26099033699941\u22c5\u2572\u2571 M \u22c5tanh\u239c6.26099033699941\u22c5  \u2571  \u2500 \u239f - 36.0\n",
        "                           \u239d                 \u2572\u2571   M \u23a0       "
       ]
      }
     ],
     "prompt_number": 12
    },
    {
     "cell_type": "code",
     "collapsed": false,
     "input": [
      "DF = sym.diff(F)\n",
      "DF"
     ],
     "language": "python",
     "metadata": {},
     "outputs": [
      {
       "latex": [
        "$$- \\frac{19.6 \\sqrt{\\frac{1}{M}}}{\\sqrt{M}} \\left(- \\tanh^{2}{\\left (6.26099033699941 \\sqrt{\\frac{1}{M}} \\right )} + 1\\right) + \\frac{3.13049516849971}{\\sqrt{M}} \\tanh{\\left (6.26099033699941 \\sqrt{\\frac{1}{M}} \\right )}$$"
       ],
       "metadata": {},
       "output_type": "pyout",
       "png": "[encoded data removed]",
       "prompt_number": 13,
       "text": [
        "       \u239b       \u239b                     ___\u239e    \u239e     ___                        \n",
        "       \u239c      2\u239c                    \u2571 1 \u239f    \u239f    \u2571 1                         \n",
        "  19.6\u22c5\u239c- tanh \u239c6.26099033699941\u22c5  \u2571  \u2500 \u239f + 1\u239f\u22c5  \u2571  \u2500    3.13049516849971\u22c5tanh\n",
        "       \u239d       \u239d                 \u2572\u2571   M \u23a0    \u23a0 \u2572\u2571   M                         \n",
        "- \u2500\u2500\u2500\u2500\u2500\u2500\u2500\u2500\u2500\u2500\u2500\u2500\u2500\u2500\u2500\u2500\u2500\u2500\u2500\u2500\u2500\u2500\u2500\u2500\u2500\u2500\u2500\u2500\u2500\u2500\u2500\u2500\u2500\u2500\u2500\u2500\u2500\u2500\u2500\u2500\u2500\u2500\u2500\u2500\u2500\u2500\u2500\u2500\u2500\u2500\u2500\u2500 + \u2500\u2500\u2500\u2500\u2500\u2500\u2500\u2500\u2500\u2500\u2500\u2500\u2500\u2500\u2500\u2500\u2500\u2500\u2500\u2500\u2500\n",
        "                           ___                                                \n",
        "                         \u2572\u2571 M                                                 \n",
        "\n",
        "\u239b                     ___\u239e\n",
        "\u239c                    \u2571 1 \u239f\n",
        "\u239c6.26099033699941\u22c5  \u2571  \u2500 \u239f\n",
        "\u239d                 \u2572\u2571   M \u23a0\n",
        "\u2500\u2500\u2500\u2500\u2500\u2500\u2500\u2500\u2500\u2500\u2500\u2500\u2500\u2500\u2500\u2500\u2500\u2500\u2500\u2500\u2500\u2500\u2500\u2500\u2500\u2500\n",
        "  ___                     \n",
        "\u2572\u2571 M                      "
       ]
      }
     ],
     "prompt_number": 13
    },
    {
     "cell_type": "code",
     "collapsed": false,
     "input": [
      "DF.simplify"
     ],
     "language": "python",
     "metadata": {},
     "outputs": [
      {
       "metadata": {},
       "output_type": "pyout",
       "prompt_number": 14,
       "text": [
        "<bound method Add.simplify of -19.6*(-tanh(6.26099033699941*sqrt(1/M))**2 + 1)*sqrt(1/M)/sqrt(M) + 3.13049516849971*tanh(6.26099033699941*sqrt(1/M))/sqrt(M)>"
       ]
      }
     ],
     "prompt_number": 14
    },
    {
     "cell_type": "code",
     "collapsed": false,
     "input": [
      "def newton(f, x0, tolerancia, stop):\n",
      "    assert type(f).__bases__[0]  in (sym.expr.Expr, sym.operations.AssocOp), \"La funci\u00f3n no es una expresi\u00f3n simb\u00f3lica ... :/\"\n",
      "    \n",
      "    # Derivamos la expresi\u00f3n\n",
      "    df = sym.diff(f, m)\n",
      "    \n",
      "    # Convertimos en funciones las expresiones\n",
      "    F = sym.lambdify(m,f, modules=\"numpy\")\n",
      "    DF = sym.lambdify(m, df, modules=\"numpy\")\n",
      "    \n",
      "    # Inicializamos el contador\n",
      "    k = 0\n",
      "    \n",
      "    # Inicializamos abs(x1-x0) en un n\u00famero mayor que la tolerancia\n",
      "    diff = 1\n",
      "    print \"{: >5} {: >10} {: >10} {: >10} {: >11} {: >10}\".format(\"k\", \"x0\", \"F(x0)\", \"DF(x0)\", \"abs(x1-x0)\", \"x1\")\n",
      "    \n",
      "    while diff >= tolerancia and k <= stop:\n",
      "        k = k + 1\n",
      "\n",
      "        x1 = x0 - (float(F(x0)/DF(x0)))\n",
      "        print \"{: >5} {: >10.5f} {: >10.5f} {: >10.5f} {: >10.5f} {: >11.5f}\".format(k, x0, F(x0), DF(x0), diff, x1)\n",
      "        \n",
      "        diff = abs(x1 - x0)\n",
      "        \n",
      "        x0 = x1\n",
      "        \n",
      "    if k > stop:\n",
      "        print \"El m\u00e9todo de Newton no convergi\u00f3: para la tolerancia especificada, se alcanzaron el m\u00e1ximo n\u00famero de iteraciones\"\n",
      "    \n",
      "    print \"\\n\\nLa ra\u00edz es %2.12f\" % x0"
     ],
     "language": "python",
     "metadata": {},
     "outputs": [],
     "prompt_number": 15
    },
    {
     "cell_type": "code",
     "collapsed": false,
     "input": [
      "newton(f1, 70, 10e-8, 20)"
     ],
     "language": "python",
     "metadata": {},
     "outputs": [
      {
       "output_type": "stream",
       "stream": "stdout",
       "text": [
        "    k         x0      F(x0)     DF(x0)  abs(x1-x0)         x1\n"
       ]
      },
      {
       "ename": "AttributeError",
       "evalue": "'Mul' object has no attribute 'sqrt'",
       "output_type": "pyerr",
       "traceback": [
        "\u001b[1;31m---------------------------------------------------------------------------\u001b[0m\n\u001b[1;31mAttributeError\u001b[0m                            Traceback (most recent call last)",
        "\u001b[1;32m<ipython-input-16-d283c507f653>\u001b[0m in \u001b[0;36m<module>\u001b[1;34m()\u001b[0m\n\u001b[1;32m----> 1\u001b[1;33m \u001b[0mnewton\u001b[0m\u001b[1;33m(\u001b[0m\u001b[0mf1\u001b[0m\u001b[1;33m,\u001b[0m \u001b[1;36m70\u001b[0m\u001b[1;33m,\u001b[0m \u001b[1;36m10e-8\u001b[0m\u001b[1;33m,\u001b[0m \u001b[1;36m20\u001b[0m\u001b[1;33m)\u001b[0m\u001b[1;33m\u001b[0m\u001b[0m\n\u001b[0m",
        "\u001b[1;32m<ipython-input-15-0fc58fa0aae9>\u001b[0m in \u001b[0;36mnewton\u001b[1;34m(f, x0, tolerancia, stop)\u001b[0m\n\u001b[0;32m     19\u001b[0m         \u001b[0mk\u001b[0m \u001b[1;33m=\u001b[0m \u001b[0mk\u001b[0m \u001b[1;33m+\u001b[0m \u001b[1;36m1\u001b[0m\u001b[1;33m\u001b[0m\u001b[0m\n\u001b[0;32m     20\u001b[0m \u001b[1;33m\u001b[0m\u001b[0m\n\u001b[1;32m---> 21\u001b[1;33m         \u001b[0mx1\u001b[0m \u001b[1;33m=\u001b[0m \u001b[0mx0\u001b[0m \u001b[1;33m-\u001b[0m \u001b[1;33m(\u001b[0m\u001b[0mfloat\u001b[0m\u001b[1;33m(\u001b[0m\u001b[0mF\u001b[0m\u001b[1;33m(\u001b[0m\u001b[0mx0\u001b[0m\u001b[1;33m)\u001b[0m\u001b[1;33m/\u001b[0m\u001b[0mDF\u001b[0m\u001b[1;33m(\u001b[0m\u001b[0mx0\u001b[0m\u001b[1;33m)\u001b[0m\u001b[1;33m)\u001b[0m\u001b[1;33m)\u001b[0m\u001b[1;33m\u001b[0m\u001b[0m\n\u001b[0m\u001b[0;32m     22\u001b[0m         \u001b[1;32mprint\u001b[0m \u001b[1;34m\"{: >5} {: >10.5f} {: >10.5f} {: >10.5f} {: >10.5f} {: >11.5f}\"\u001b[0m\u001b[1;33m.\u001b[0m\u001b[0mformat\u001b[0m\u001b[1;33m(\u001b[0m\u001b[0mk\u001b[0m\u001b[1;33m,\u001b[0m \u001b[0mx0\u001b[0m\u001b[1;33m,\u001b[0m \u001b[0mF\u001b[0m\u001b[1;33m(\u001b[0m\u001b[0mx0\u001b[0m\u001b[1;33m)\u001b[0m\u001b[1;33m,\u001b[0m \u001b[0mDF\u001b[0m\u001b[1;33m(\u001b[0m\u001b[0mx0\u001b[0m\u001b[1;33m)\u001b[0m\u001b[1;33m,\u001b[0m \u001b[0mdiff\u001b[0m\u001b[1;33m,\u001b[0m \u001b[0mx1\u001b[0m\u001b[1;33m)\u001b[0m\u001b[1;33m\u001b[0m\u001b[0m\n\u001b[0;32m     23\u001b[0m \u001b[1;33m\u001b[0m\u001b[0m\n",
        "\u001b[1;32mC:\\Anaconda\\lib\\site-packages\\numpy\\__init__.pyc\u001b[0m in \u001b[0;36m<lambda>\u001b[1;34m(m)\u001b[0m\n",
        "\u001b[1;31mAttributeError\u001b[0m: 'Mul' object has no attribute 'sqrt'"
       ]
      }
     ],
     "prompt_number": 16
    },
    {
     "cell_type": "code",
     "collapsed": false,
     "input": [
      "def newton2(F,DF, x0, tolerancia, stop):\n",
      "    \n",
      "    # Inicializamos el contador\n",
      "    k = 0\n",
      "    \n",
      "    # Inicializamos abs(x1-x0) en un n\u00famero mayor que la tolerancia\n",
      "    diff = 1\n",
      "    print \"{: >5} {: >10} {: >10} {: >10} {: >11} {: >10}\".format(\"k\", \"x0\", \"F(x0)\", \"DF(x0)\", \"abs(x1-x0)\", \"x1\")\n",
      "    \n",
      "    while diff >= tolerancia and k <= stop:\n",
      "        k = k + 1\n",
      "\n",
      "        x1 = x0 - (float(F(x0)/DF(x0)))\n",
      "        print \"{: >5} {: >10.5f} {: >10.5f} {: >10.5f} {: >10.5f} {: >11.5f}\".format(k, x0, F(x0), DF(x0), diff, x1)\n",
      "        \n",
      "        diff = abs(x1 - x0)\n",
      "        \n",
      "        x0 = x1\n",
      "        \n",
      "    if k > stop:\n",
      "        print \"El m\u00e9todo de Newton no convergi\u00f3: para la tolerancia especificada, se alcanzaron el m\u00e1ximo n\u00famero de iteraciones\"\n",
      "    \n",
      "    print \"\\n\\nLa ra\u00edz es %2.12f\" % x0"
     ],
     "language": "python",
     "metadata": {},
     "outputs": [],
     "prompt_number": 17
    },
    {
     "cell_type": "code",
     "collapsed": false,
     "input": [
      "F1 = sym.lambdify(m,f1, modules=\"numpy\")\n",
      "DF1 = sym.lambdify(m, df, modules=\"numpy\")\n",
      "F1\n",
      "DF1"
     ],
     "language": "python",
     "metadata": {},
     "outputs": [
      {
       "metadata": {},
       "output_type": "pyout",
       "prompt_number": 18,
       "text": [
        "<function numpy.<lambda>>"
       ]
      }
     ],
     "prompt_number": 18
    },
    {
     "cell_type": "code",
     "collapsed": false,
     "input": [
      "newton2(F = F1,DF = DF1, x0=70, tolerancia = 10000,stop = 100)"
     ],
     "language": "python",
     "metadata": {},
     "outputs": [
      {
       "output_type": "stream",
       "stream": "stdout",
       "text": [
        "    k         x0      F(x0)     DF(x0)  abs(x1-x0)         x1\n",
        "\n",
        "\n",
        "La ra\u00edz es 70.000000000000\n"
       ]
      }
     ],
     "prompt_number": 19
    },
    {
     "cell_type": "code",
     "collapsed": false,
     "input": [
      "v = 36.0\n",
      "t = 4.0\n",
      "c = 0.25\n",
      "g = 9.8"
     ],
     "language": "python",
     "metadata": {},
     "outputs": [],
     "prompt_number": 20
    },
    {
     "cell_type": "code",
     "collapsed": false,
     "input": [
      "f = lambda m: np.sqrt((9.8*m/0.25))*np.tanh(np.sqrt(9.8*0.25/m)*4.0)-36.0"
     ],
     "language": "python",
     "metadata": {},
     "outputs": [],
     "prompt_number": 21
    },
    {
     "cell_type": "code",
     "collapsed": false,
     "input": [
      "def secante(F,x1, x0, tolerancia, stop):\n",
      "    \n",
      "   \n",
      "    # Inicializamos el contador\n",
      "    k = 0\n",
      "    x2=0\n",
      "    \n",
      "    # Inicializamos abs(x1-x0) en un n\u00famero mayor que la tolerancia\n",
      "    diff = 1\n",
      "    print \"{: >5} {: >10} {: >10} {: >10} {: >11} {: >10}\".format(\"k\", \"x0\", \"F(x0)\", \"DF(x0)\", \"abs(x1-x0)\", \"x1\")\n",
      "    \n",
      "    while diff >= tolerancia and k <= stop:\n",
      "        k = k + 1\n",
      "        DF=((F(x0)-F(x1)) / (x0-x1))      \n",
      "\n",
      "        x2 = x1 - (float(F(x1)/DF))\n",
      "        print \"{: >5} {: >10.5f} {: >10.5f} {: >10.5f} {: >10.5f} {: >11.5f}\".format(k, x0, F(x0), DF, diff, x1)\n",
      "        \n",
      "        diff = abs(x1 - x2)\n",
      "        \n",
      "        x0=x1\n",
      "        x1=x2\n",
      "        \n",
      "        \n",
      "    if k > stop:\n",
      "        print \"El m\u00e9todo de Newton no convergi\u00f3: para la tolerancia especificada, se alcanzaron el m\u00e1ximo n\u00famero de iteraciones\"\n",
      "    \n",
      "    print \"\\n\\nLa ra\u00edz es %2.12f\" % x1"
     ],
     "language": "python",
     "metadata": {},
     "outputs": [],
     "prompt_number": 22
    },
    {
     "cell_type": "code",
     "collapsed": false,
     "input": [
      "def secante2(F,d, x0, tolerancia, stop):\n",
      "    \n",
      "   \n",
      "    # Inicializamos el contador\n",
      "    k = 0\n",
      "    x2=0\n",
      "    \n",
      "    # Inicializamos abs(x1-x0) en un n\u00famero mayor que la tolerancia\n",
      "    diff = 1\n",
      "    print \"{: >5} {: >10} {: >10} {: >10} {: >11} {: >10}\".format(\"k\", \"x0\", \"F(x0)\", \"DF(x0)\", \"abs(x1-x0)\", \"x1\")\n",
      "    \n",
      "    while diff >= tolerancia and k <= stop:\n",
      "        k = k + 1\n",
      "        DF=((F(x0+(d*x0))-F(x0)) / (d*x0))      \n",
      "\n",
      "        x1 = x0 - (float(F(x0)/DF))\n",
      "        print \"{: >5} {: >10.5f} {: >10.5f} {: >10.5f} {: >10.5f} {: >11.5f}\".format(k, x0, F(x0), DF, diff, x1)\n",
      "        \n",
      "        diff = abs(x1 - x0)\n",
      "        \n",
      "        x0=x1\n",
      "        \n",
      "        \n",
      "        \n",
      "    if k > stop:\n",
      "        print \"El m\u00e9todo de Newton no convergi\u00f3: para la tolerancia especificada, se alcanzaron el m\u00e1ximo n\u00famero de iteraciones\"\n",
      "    \n",
      "    print \"\\n\\nLa ra\u00edz es %2.12f\" % x1"
     ],
     "language": "python",
     "metadata": {},
     "outputs": [],
     "prompt_number": 28
    },
    {
     "cell_type": "code",
     "collapsed": false,
     "input": [
      "secante2 (f,10**-6,50,.1e-10,200)"
     ],
     "language": "python",
     "metadata": {},
     "outputs": [
      {
       "output_type": "stream",
       "stream": "stdout",
       "text": [
        "    k         x0      F(x0)     DF(x0)  abs(x1-x0)         x1\n",
        "    1   50.00000   -4.60534    0.11907    1.00000    88.67716\n",
        "    2   88.67716   -1.70980    0.04708   38.67716   124.99442\n",
        "    3  124.99442   -0.44172    0.02590   36.31726   142.05168\n",
        "    4  142.05168   -0.04779    0.02060   17.05726   144.37204\n",
        "    5  144.37204   -0.00069    0.02000    2.32036   144.40669\n",
        "    6  144.40669   -0.00000    0.01999    0.03465   144.40669\n",
        "    7  144.40669    0.00000    0.01999    0.00001   144.40669\n",
        "\n",
        "\n",
        "La ra\u00edz es 144.406693960888\n"
       ]
      }
     ],
     "prompt_number": 29
    },
    {
     "cell_type": "code",
     "collapsed": false,
     "input": [
      "secante (f,70,69,.1e-10,200)"
     ],
     "language": "python",
     "metadata": {},
     "outputs": [
      {
       "output_type": "stream",
       "stream": "stdout",
       "text": [
        "    k         x0      F(x0)     DF(x0)  abs(x1-x0)         x1\n",
        "    1   69.00000   -2.85177    0.07071    1.00000    70.00000\n",
        "    2   70.00000   -2.78106    0.04787   39.33240   109.33240\n",
        "    3  109.33240   -0.89816    0.02851   18.76201   128.09442\n",
        "    4  128.09442   -0.36318    0.02277   12.73662   140.83103\n",
        "    5  140.83103   -0.07313    0.02050    3.21115   144.04219\n",
        "    6  144.04219   -0.00730    0.02004    0.35636   144.39855\n",
        "    7  144.39855   -0.00016    0.02000    0.00813   144.40668\n",
        "    8  144.40668   -0.00000    0.01999    0.00002   144.40669\n",
        "    9  144.40669   -0.00000    0.01999    0.00000   144.40669\n",
        "\n",
        "\n",
        "La ra\u00edz es 144.406693960888\n"
       ]
      }
     ],
     "prompt_number": 25
    },
    {
     "cell_type": "code",
     "collapsed": false,
     "input": [],
     "language": "python",
     "metadata": {},
     "outputs": [],
     "prompt_number": 25
    },
    {
     "cell_type": "code",
     "collapsed": false,
     "input": [],
     "language": "python",
     "metadata": {},
     "outputs": []
    }
   ],
   "metadata": {}
  }
 ]
}