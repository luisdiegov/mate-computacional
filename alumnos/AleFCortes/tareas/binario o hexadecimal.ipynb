{
 "metadata": {
  "name": "",
  "signature": "sha256:98f70971a50a1d28f7311949f9ff1e5293a9d11fc1ad1f0080cd2412b895f8f6"
 },
 "nbformat": 3,
 "nbformat_minor": 0,
 "worksheets": [
  {
   "cells": [
    {
     "cell_type": "code",
     "collapsed": false,
     "input": [
      "diccionario = {'0000':\"0\",'0001':\"1\",'0010':\"2\",'0011':\"3\",'0100':\"4\",'0101':\"5\",'0110':\"6\",'0111':\"7\",'1000':\"8\",'1001':\"9\",'1010':\"A\",'1011':\"B\",'1100':\"C\",'1101':\"D\",'1110':\"E\",'1111':\"F\"}\n",
      "\n",
      "\n"
     ],
     "language": "python",
     "metadata": {},
     "outputs": [],
     "prompt_number": 59
    },
    {
     "cell_type": "code",
     "collapsed": false,
     "input": [
      "def particion(n):\n",
      "    lista = []\n",
      "    contador = 0\n",
      "    i=0\n",
      "    parte =\"\"\n",
      "    hexa=\"\"\n",
      "    if(len(n)<8):\n",
      "        for i in range (8-len(n)):\n",
      "            n= \"0\"+ n\n",
      "    print n\n",
      "        \n",
      "    for elemento in n:\n",
      "        i+=1\n",
      "        if(contador>3 ):\n",
      "            lista.append(parte)\n",
      "            parte =\"\"\n",
      "            contador=0\n",
      "        if(contador<4):\n",
      "            contador+=1\n",
      "            parte = parte +elemento\n",
      "            if(i==len(n)):\n",
      "                lista.append(parte)\n",
      "    for i in range (0,len(lista)):  \n",
      "        hexa = hexa + diccionario[lista[i]]\n",
      "    if(hexa[0]==\"0\"):\n",
      "        print hexa[1:]\n",
      "    else:\n",
      "        print hexa\n",
      "        "
     ],
     "language": "python",
     "metadata": {},
     "outputs": [],
     "prompt_number": 85
    },
    {
     "cell_type": "code",
     "collapsed": false,
     "input": [
      "particion(\"00000111\")"
     ],
     "language": "python",
     "metadata": {},
     "outputs": [
      {
       "output_type": "stream",
       "stream": "stdout",
       "text": [
        "00000111\n",
        "7\n"
       ]
      }
     ],
     "prompt_number": 95
    },
    {
     "cell_type": "code",
     "collapsed": false,
     "input": [
      "diccionario2 = {'0':\"0000\",'1':\"0001\",'2':\"0010\",'3':\"0011\",'4':\"0100\",'5':\"0101\",'6':\"0110\",'7':\"0111\",'8':\"1000\",'9':\"1001\",'A':\"1010\",'B':\"1011\",'C':\"1100\",'D':\"1101\",'E':\"1110\",'F':\"1111\"}\n",
      "\n",
      "\n"
     ],
     "language": "python",
     "metadata": {},
     "outputs": [],
     "prompt_number": 96
    },
    {
     "cell_type": "code",
     "collapsed": false,
     "input": [
      "def hexBin(n):\n",
      "    bina = \"\"\n",
      "    for elemento  in n :\n",
      "        bina = bina + diccionario2[elemento]\n",
      "    print bina\n",
      "        \n",
      "    \n"
     ],
     "language": "python",
     "metadata": {},
     "outputs": [],
     "prompt_number": 97
    },
    {
     "cell_type": "code",
     "collapsed": false,
     "input": [
      "hexBin(\"77\")"
     ],
     "language": "python",
     "metadata": {},
     "outputs": [
      {
       "output_type": "stream",
       "stream": "stdout",
       "text": [
        "01110111\n"
       ]
      }
     ],
     "prompt_number": 99
    }
   ],
   "metadata": {}
  }
 ]
}