{
 "metadata": {
  "name": "",
  "signature": "sha256:7cabfaeb62b85cce8ef0f4f63fbce4b886335396788daf01e73ac0aebbef2821"
 },
 "nbformat": 3,
 "nbformat_minor": 0,
 "worksheets": [
  {
   "cells": [
    {
     "cell_type": "code",
     "collapsed": false,
     "input": [
      "%matplotlib inline\n",
      "import numpy as np\n",
      "import matplotlib.pyplot as plt\n",
      "from math import sqrt"
     ],
     "language": "python",
     "metadata": {},
     "outputs": [],
     "prompt_number": 1
    },
    {
     "cell_type": "code",
     "collapsed": false,
     "input": [
      "F = lambda m: np.sqrt((9.8*m/0.25))*np.tanh(np.sqrt(9.8*0.25/m)*4.0)-36.0"
     ],
     "language": "python",
     "metadata": {},
     "outputs": [],
     "prompt_number": 2
    },
    {
     "cell_type": "code",
     "collapsed": false,
     "input": [
      "def secante(F,x1, x0, tolerancia, stop):\n",
      "    \n",
      "   \n",
      "    # Inicializamos el contador\n",
      "    k = 0\n",
      "    x2=0\n",
      "    \n",
      "    # Inicializamos abs(x1-x0) en un n\u00famero mayor que la tolerancia\n",
      "    diff = 1\n",
      "    print \"{: >5} {: >10} {: >10} {: >10} {: >11} {: >10}\".format(\"k\", \"x0\", \"F(x0)\", \"DF(x0)\", \"abs(x1-x0)\", \"x1\")\n",
      "    \n",
      "    while diff >= tolerancia and k <= stop:\n",
      "        k = k + 1\n",
      "        DF=((F(x0)-F(x1)) / (x0-x1))      \n",
      "\n",
      "        x2 = x1 - (float(F(x1)/DF))\n",
      "        print \"{: >5} {: >10.5f} {: >10.5f} {: >10.5f} {: >10.5f} {: >11.5f}\".format(k, x0, F(x0), DF, diff, x1)\n",
      "        \n",
      "        diff = abs(x1 - x2)\n",
      "        \n",
      "        x0=x1\n",
      "        x1=x2\n",
      "        \n",
      "        \n",
      "    if k > stop:\n",
      "        print \"El m\u00e9todo de Newton no convergi\u00f3: para la tolerancia especificada, se alcanzaron el m\u00e1ximo n\u00famero de iteraciones\"\n",
      "    \n",
      "    print \"\\n\\nLa ra\u00edz es %2.12f\" % x1"
     ],
     "language": "python",
     "metadata": {},
     "outputs": [],
     "prompt_number": 3
    },
    {
     "cell_type": "code",
     "collapsed": false,
     "input": [
      "secante (F,70,69,.1e-10,200)"
     ],
     "language": "python",
     "metadata": {},
     "outputs": [
      {
       "output_type": "stream",
       "stream": "stdout",
       "text": [
        "    k         x0      F(x0)     DF(x0)  abs(x1-x0)         x1\n",
        "    1   69.00000   -2.85177    0.07071    1.00000    70.00000\n",
        "    2   70.00000   -2.78106    0.04787   39.33240   109.33240\n",
        "    3  109.33240   -0.89816    0.02851   18.76201   128.09442\n",
        "    4  128.09442   -0.36318    0.02277   12.73662   140.83103\n",
        "    5  140.83103   -0.07313    0.02050    3.21115   144.04219\n",
        "    6  144.04219   -0.00730    0.02004    0.35636   144.39855\n",
        "    7  144.39855   -0.00016    0.02000    0.00813   144.40668\n",
        "    8  144.40668   -0.00000    0.01999    0.00002   144.40669\n",
        "    9  144.40669   -0.00000    0.01999    0.00000   144.40669\n",
        "\n",
        "\n",
        "La ra\u00edz es 144.406693960888\n"
       ]
      }
     ],
     "prompt_number": 4
    },
    {
     "cell_type": "code",
     "collapsed": false,
     "input": [
      "def secante_modificado(F,d, x0, tolerancia, stop):\n",
      "    \n",
      "   \n",
      "    # Inicializamos el contador\n",
      "    k = 0\n",
      "    x2=0\n",
      "    \n",
      "    # Inicializamos abs(x1-x0) en un n\u00famero mayor que la tolerancia\n",
      "    diff = 1\n",
      "    print \"{: >5} {: >10} {: >10} {: >10} {: >11} {: >10}\".format(\"k\", \"x0\", \"F(x0)\", \"DF(x0)\", \"abs(x1-x0)\", \"x1\")\n",
      "    \n",
      "    while diff >= tolerancia and k <= stop:\n",
      "        k = k + 1\n",
      "        DF=((F(x0+(d*x0))-F(x0)) / (d*x0))      \n",
      "\n",
      "        x1 = x0 - (float(F(x0)/DF))\n",
      "        print \"{: >5} {: >10.5f} {: >10.5f} {: >10.5f} {: >10.5f} {: >11.5f}\".format(k, x0, F(x0), DF, diff, x1)\n",
      "        \n",
      "        diff = abs(x1 - x0)\n",
      "        \n",
      "        x0=x1\n",
      "        \n",
      "        \n",
      "        \n",
      "    if k > stop:\n",
      "        print \"El m\u00e9todo de Newton no convergi\u00f3: para la tolerancia especificada, se alcanzaron el m\u00e1ximo n\u00famero de iteraciones\"\n",
      "    \n",
      "    print \"\\n\\nLa ra\u00edz es %2.12f\" % x1"
     ],
     "language": "python",
     "metadata": {},
     "outputs": [],
     "prompt_number": 5
    },
    {
     "cell_type": "code",
     "collapsed": false,
     "input": [
      "secante_modificado (F,10**-6,50,.1e-10,200)"
     ],
     "language": "python",
     "metadata": {},
     "outputs": [
      {
       "output_type": "stream",
       "stream": "stdout",
       "text": [
        "    k         x0      F(x0)     DF(x0)  abs(x1-x0)         x1\n",
        "    1   50.00000   -4.60534    0.11907    1.00000    88.67716\n",
        "    2   88.67716   -1.70980    0.04708   38.67716   124.99442\n",
        "    3  124.99442   -0.44172    0.02590   36.31726   142.05168\n",
        "    4  142.05168   -0.04779    0.02060   17.05726   144.37204\n",
        "    5  144.37204   -0.00069    0.02000    2.32036   144.40669\n",
        "    6  144.40669   -0.00000    0.01999    0.03465   144.40669\n",
        "    7  144.40669    0.00000    0.01999    0.00001   144.40669\n",
        "\n",
        "\n",
        "La ra\u00edz es 144.406693960888\n"
       ]
      }
     ],
     "prompt_number": 6
    }
   ],
   "metadata": {}
  }
 ]
}