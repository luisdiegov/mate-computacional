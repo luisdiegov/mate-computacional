{
 "metadata": {
  "name": "",
  "signature": "sha256:469118a270c7e0ef65f732f90e58ea71ff9bcfe0c29a63740dac5002e689af34"
 },
 "nbformat": 3,
 "nbformat_minor": 0,
 "worksheets": [
  {
   "cells": [
    {
     "cell_type": "code",
     "collapsed": false,
     "input": [
      "%load max.py\n",
      "%load min.py"
     ],
     "language": "python",
     "metadata": {},
     "outputs": [],
     "prompt_number": 18
    },
    {
     "cell_type": "code",
     "collapsed": false,
     "input": [
      "def numMin(n):\n",
      "    minimo = ((2**(n-1))-1)*(-1)\n",
      "    return minimo"
     ],
     "language": "python",
     "metadata": {},
     "outputs": [],
     "prompt_number": 7
    },
    {
     "cell_type": "code",
     "collapsed": false,
     "input": [
      "def numMax(n):\n",
      "    maximo = 2**(n-1)\n",
      "    return  maximo\n",
      "    "
     ],
     "language": "python",
     "metadata": {},
     "outputs": [],
     "prompt_number": 2
    },
    {
     "cell_type": "code",
     "collapsed": false,
     "input": [
      "def enBin(n):\n",
      "    binario = \"\"\n",
      "    if(n>numMax(8) or n<numMin(8)):\n",
      "        return \"Overflow\"\n",
      "    else:\n",
      "        if(n<0):\n",
      "            n=n*(-1)\n",
      "        while (n>0):\n",
      "            coc = n/2\n",
      "            res = n%2\n",
      "            n = coc\n",
      "            binario = binario + str(res)\n",
      "    binario = binario [::-1]       \n",
      "    print binario\n",
      "\n",
      "    "
     ],
     "language": "python",
     "metadata": {},
     "outputs": [],
     "prompt_number": 8
    },
    {
     "cell_type": "code",
     "collapsed": false,
     "input": [
      "entero_a_binario=enBin ()\n",
      "entero_a_binario"
     ],
     "language": "python",
     "metadata": {},
     "outputs": [
      {
       "output_type": "stream",
       "stream": "stdout",
       "text": [
        "1111101\n"
       ]
      }
     ],
     "prompt_number": 11
    },
    {
     "cell_type": "code",
     "collapsed": false,
     "input": [
      "def binEn(n):\n",
      "    entero = 0\n",
      "    contador =-1\n",
      "    for i in range(1,len(n)):\n",
      "        if (n[i-1] == \"1\"):\n",
      "            entero = entero + 2**(len(n)-i)\n",
      "    print entero\n",
      "    "
     ],
     "language": "python",
     "metadata": {},
     "outputs": [],
     "prompt_number": 5
    },
    {
     "cell_type": "code",
     "collapsed": false,
     "input": [
      "binEn(\"1111000\")"
     ],
     "language": "python",
     "metadata": {},
     "outputs": [
      {
       "output_type": "stream",
       "stream": "stdout",
       "text": [
        "120\n"
       ]
      }
     ],
     "prompt_number": 6
    }
   ],
   "metadata": {}
  }
 ]
}