{
 "metadata": {
  "name": "",
  "signature": "sha256:693e6feb0b81dd8cddef6b15e7029c14a28974823ad65f22dcf3073b980f83fd"
 },
 "nbformat": 3,
 "nbformat_minor": 0,
 "worksheets": [
  {
   "cells": [
    {
     "cell_type": "heading",
     "level": 1,
     "metadata": {},
     "source": [
      "M\u00e1ximo Factor Primo"
     ]
    },
    {
     "cell_type": "markdown",
     "metadata": {},
     "source": [
      "The prime factors of 13195 are 5, 7, 13 and 29.\n",
      "\n",
      "What is the largest prime factor of the number 600851475143 ?"
     ]
    },
    {
     "cell_type": "code",
     "collapsed": false,
     "input": [
      "def primo(n):\n",
      "    miprimo=0\n",
      "    valor=True\n",
      "    i=1\n",
      "    for i in range (2,n):\n",
      "        if (n%i==0):\n",
      "            valor =False \n",
      "    if (valor!=False):\n",
      "        primos=(i+1)\n",
      "        return primos  \n",
      "    else:\n",
      "        return miprimo\n",
      "        "
     ],
     "language": "python",
     "metadata": {},
     "outputs": [],
     "prompt_number": 1
    },
    {
     "cell_type": "code",
     "collapsed": false,
     "input": [
      "def maximo(n):\n",
      "    el_primo=[]\n",
      "    prim=[]\n",
      "    for k in xrange (2,n):\n",
      "        el_primo.append(primo(k))\n",
      "        if(el_primo[k-2]!=0):\n",
      "            if (n%el_primo[k-2]==0):\n",
      "                prim.append(el_primo[k-2])\n",
      "    return prim\n",
      "    "
     ],
     "language": "python",
     "metadata": {},
     "outputs": [],
     "prompt_number": 2
    },
    {
     "cell_type": "code",
     "collapsed": false,
     "input": [
      "maximo(100)"
     ],
     "language": "python",
     "metadata": {},
     "outputs": [
      {
       "metadata": {},
       "output_type": "pyout",
       "prompt_number": 3,
       "text": [
        "[2, 5]"
       ]
      }
     ],
     "prompt_number": 3
    },
    {
     "cell_type": "code",
     "collapsed": false,
     "input": [
      "primo(13)"
     ],
     "language": "python",
     "metadata": {},
     "outputs": [
      {
       "metadata": {},
       "output_type": "pyout",
       "prompt_number": 4,
       "text": [
        "13"
       ]
      }
     ],
     "prompt_number": 4
    },
    {
     "cell_type": "code",
     "collapsed": false,
     "input": [
      "def primoMax(p):\n",
      "    lista =maximo(p)\n",
      "    return lista[-1]\n",
      "   \n",
      "        "
     ],
     "language": "python",
     "metadata": {},
     "outputs": [],
     "prompt_number": 5
    },
    {
     "cell_type": "code",
     "collapsed": false,
     "input": [
      "primoMax(13195)\n"
     ],
     "language": "python",
     "metadata": {},
     "outputs": [
      {
       "metadata": {},
       "output_type": "pyout",
       "prompt_number": 6,
       "text": [
        "29"
       ]
      }
     ],
     "prompt_number": 6
    },
    {
     "cell_type": "code",
     "collapsed": false,
     "input": [],
     "language": "python",
     "metadata": {},
     "outputs": [],
     "prompt_number": 9
    },
    {
     "cell_type": "code",
     "collapsed": false,
     "input": [],
     "language": "python",
     "metadata": {},
     "outputs": []
    }
   ],
   "metadata": {}
  }
 ]
}