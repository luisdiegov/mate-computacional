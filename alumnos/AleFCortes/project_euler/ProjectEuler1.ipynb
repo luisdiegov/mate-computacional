{
 "metadata": {
  "name": "",
  "signature": "sha256:1777efd6f15430fdae8371b520f012bff360c95bd998dd0a973049ee0288c506"
 },
 "nbformat": 3,
 "nbformat_minor": 0,
 "worksheets": [
  {
   "cells": [
    {
     "cell_type": "heading",
     "level": 1,
     "metadata": {},
     "source": [
      "M\u00faltiplos de 3 y 5"
     ]
    },
    {
     "cell_type": "markdown",
     "metadata": {},
     "source": [
      "Si enlistamos todos los n\u00fameros naturales menores que 10 que son m\u00faltiplos de 3 o 5, obtenemos 3, 5, 6 y 9. La suma de estos m\u00faltiplos es 23.\n",
      "\n",
      "Encontraremos la suma de todos los m\u00faltiplos de 3 o 5 menores que 1000."
     ]
    },
    {
     "cell_type": "code",
     "collapsed": false,
     "input": [
      "def mult():\n",
      "    suma =0 #variable que suma los m\u00faltiplos\n",
      "    for i in range (1,1000): #la suma es de los m\u00faltiplos menores a 1000\n",
      "        if(i%3==0 or i%5 ==0): #aqui delimita aquelos m\u00faltiplos de 3 o 5\n",
      "            suma += i\n",
      "    print suma"
     ],
     "language": "python",
     "metadata": {},
     "outputs": [],
     "prompt_number": 9
    },
    {
     "cell_type": "code",
     "collapsed": false,
     "input": [
      "mult()"
     ],
     "language": "python",
     "metadata": {},
     "outputs": [
      {
       "output_type": "stream",
       "stream": "stdout",
       "text": [
        "233168\n"
       ]
      }
     ],
     "prompt_number": 10
    }
   ],
   "metadata": {}
  }
 ]
}