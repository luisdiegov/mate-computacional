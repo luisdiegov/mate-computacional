{
 "metadata": {
  "name": "",
  "signature": "sha256:b39ad1ecba334bf7e4709c1b93e0e7145d1dac8d442974d4d047ccf2a7642f22"
 },
 "nbformat": 3,
 "nbformat_minor": 0,
 "worksheets": [
  {
   "cells": [
    {
     "cell_type": "heading",
     "level": 1,
     "metadata": {},
     "source": [
      "M\u00e1ximo Factor Primo"
     ]
    },
    {
     "cell_type": "markdown",
     "metadata": {},
     "source": [
      "Los factores primos de 13195 son 5, 7, 13 y 29.\n",
      "\n",
      "\u00bfCu\u00e1l es el m\u00e1ximo factor primo del n\u00famero 600851475143 ?"
     ]
    },
    {
     "cell_type": "code",
     "collapsed": false,
     "input": [
      "def primo(n): #recibe como argumento un n\u00famero para determinar si es primo o no\n",
      "    noprimo=0 #esta variable es para aquellos valores que no son primos\n",
      "    valor=True \n",
      "    i=1 #debe estar definida la i para el caso en que la i nunca entra al rango\n",
      "    for i in range (2,n): #la i va de un rango de 2 hasta el n\u00famero por determinar. Un primo es mayor a 1 y solo es divisible entre 1 y \u00e9l mismo\n",
      "        if (n%i==0): # el n\u00famero se divide por cada valor del rango, si en alguno es divisible entonces no es primo, por lo tanto valor es falso\n",
      "            valor =False \n",
      "    if (valor!=False):#si valor nunca se volvi\u00f3 falso es que solo se divide entre 1 y \u00e9l mismo\n",
      "        return n\n",
      "    else:\n",
      "        return noprimo \n",
      "        "
     ],
     "language": "python",
     "metadata": {},
     "outputs": [],
     "prompt_number": 1
    },
    {
     "cell_type": "code",
     "collapsed": false,
     "input": [
      "def maximo(n):\n",
      "    primos=[] #hacemos una lista con los n\u00fameros primos y los no primos, que se representan con un 0\n",
      "    fact_primo=[] #otra lista en la que solo ponemos aquellos n\u00fameros primos factores del n\u00famero dado\n",
      "    for k in range (2,n): #solo buscas factores mayores a 1\n",
      "        primos.append(primo(k)) #agregas a la lista el resultado dado por el m\u00e9todo de primo\n",
      "        if(primos[k-2]!=0): #primero debemos quitar los 0's que representan a los no primos (k-2 es porque nos apoyamos de la k pero la lista empieza en 0 y k en 2)\n",
      "            if (n%primos[k-2]==0): #si dividimos el n\u00famero entre el primo y el residuo es 0 es que es un factor primo\n",
      "                fact_primo.append(primos[k-2]) #lo agregamos a la lista de factores primos\n",
      "    return fact_primo\n",
      "    "
     ],
     "language": "python",
     "metadata": {},
     "outputs": [],
     "prompt_number": 2
    },
    {
     "cell_type": "code",
     "collapsed": false,
     "input": [
      "def primoMax(p): #\u00e9ste m\u00e9todo solo es para regresar el m\u00e1ximo factor primo del n\u00famero dado\n",
      "    lista =maximo(p)\n",
      "    return lista[-1]#como est\u00e1n ordenados en orden ascendente solo regresamos el \u00faltimo factor primo\n",
      "   \n",
      "        "
     ],
     "language": "python",
     "metadata": {},
     "outputs": [],
     "prompt_number": 3
    },
    {
     "cell_type": "code",
     "collapsed": false,
     "input": [
      "primoMax(131950)"
     ],
     "language": "python",
     "metadata": {},
     "outputs": []
    },
    {
     "cell_type": "code",
     "collapsed": false,
     "input": [
      "primoMax(600851475143) #no encontr\u00e9 como convertir a long "
     ],
     "language": "python",
     "metadata": {},
     "outputs": [
      {
       "ename": "OverflowError",
       "evalue": "range() result has too many items",
       "output_type": "pyerr",
       "traceback": [
        "\u001b[1;31m---------------------------------------------------------------------------\u001b[0m\n\u001b[1;31mOverflowError\u001b[0m                             Traceback (most recent call last)",
        "\u001b[1;32m<ipython-input-15-96603472bc81>\u001b[0m in \u001b[0;36m<module>\u001b[1;34m()\u001b[0m\n\u001b[1;32m----> 1\u001b[1;33m \u001b[0mprimoMax\u001b[0m\u001b[1;33m(\u001b[0m\u001b[1;36m600851475143\u001b[0m\u001b[1;33m)\u001b[0m\u001b[1;33m\u001b[0m\u001b[0m\n\u001b[0m",
        "\u001b[1;32m<ipython-input-14-12a1d1493177>\u001b[0m in \u001b[0;36mprimoMax\u001b[1;34m(p)\u001b[0m\n\u001b[0;32m      1\u001b[0m \u001b[1;32mdef\u001b[0m \u001b[0mprimoMax\u001b[0m\u001b[1;33m(\u001b[0m\u001b[0mp\u001b[0m\u001b[1;33m)\u001b[0m\u001b[1;33m:\u001b[0m \u001b[1;31m#\u00e9ste m\u00e9todo solo es para regresar el m\u00e1ximo factor primo del n\u00famero dado\u001b[0m\u001b[1;33m\u001b[0m\u001b[0m\n\u001b[1;32m----> 2\u001b[1;33m     \u001b[0mlista\u001b[0m \u001b[1;33m=\u001b[0m\u001b[0mmaximo\u001b[0m\u001b[1;33m(\u001b[0m\u001b[0mp\u001b[0m\u001b[1;33m)\u001b[0m\u001b[1;33m\u001b[0m\u001b[0m\n\u001b[0m\u001b[0;32m      3\u001b[0m     \u001b[1;32mreturn\u001b[0m \u001b[0mlista\u001b[0m\u001b[1;33m[\u001b[0m\u001b[1;33m-\u001b[0m\u001b[1;36m1\u001b[0m\u001b[1;33m]\u001b[0m\u001b[1;31m#como est\u00e1n ordenados en orden ascendente solo regresamos el \u00faltimo factor primo\u001b[0m\u001b[1;33m\u001b[0m\u001b[0m\n\u001b[0;32m      4\u001b[0m \u001b[1;33m\u001b[0m\u001b[0m\n\u001b[0;32m      5\u001b[0m \u001b[1;33m\u001b[0m\u001b[0m\n",
        "\u001b[1;32m<ipython-input-13-4ccbb59af338>\u001b[0m in \u001b[0;36mmaximo\u001b[1;34m(n)\u001b[0m\n\u001b[0;32m      2\u001b[0m     \u001b[0mprimos\u001b[0m\u001b[1;33m=\u001b[0m\u001b[1;33m[\u001b[0m\u001b[1;33m]\u001b[0m \u001b[1;31m#hacemos una lista con los n\u00fameros primos y los no primos, que se representan con un 0\u001b[0m\u001b[1;33m\u001b[0m\u001b[0m\n\u001b[0;32m      3\u001b[0m     \u001b[0mfact_primo\u001b[0m\u001b[1;33m=\u001b[0m\u001b[1;33m[\u001b[0m\u001b[1;33m]\u001b[0m \u001b[1;31m#otra lista en la que solo ponemos aquellos n\u00fameros primos factores del n\u00famero dado\u001b[0m\u001b[1;33m\u001b[0m\u001b[0m\n\u001b[1;32m----> 4\u001b[1;33m     \u001b[1;32mfor\u001b[0m \u001b[0mk\u001b[0m \u001b[1;32min\u001b[0m \u001b[0mrange\u001b[0m \u001b[1;33m(\u001b[0m\u001b[1;36m2\u001b[0m\u001b[1;33m,\u001b[0m\u001b[0mn\u001b[0m\u001b[1;33m)\u001b[0m\u001b[1;33m:\u001b[0m \u001b[1;31m#solo buscas factores mayores a 1\u001b[0m\u001b[1;33m\u001b[0m\u001b[0m\n\u001b[0m\u001b[0;32m      5\u001b[0m         \u001b[0mprimos\u001b[0m\u001b[1;33m.\u001b[0m\u001b[0mappend\u001b[0m\u001b[1;33m(\u001b[0m\u001b[0mprimo\u001b[0m\u001b[1;33m(\u001b[0m\u001b[0mk\u001b[0m\u001b[1;33m)\u001b[0m\u001b[1;33m)\u001b[0m \u001b[1;31m#agregas a la lista el resultado dado por el m\u00e9todo de primo\u001b[0m\u001b[1;33m\u001b[0m\u001b[0m\n\u001b[0;32m      6\u001b[0m         \u001b[1;32mif\u001b[0m\u001b[1;33m(\u001b[0m\u001b[0mprimos\u001b[0m\u001b[1;33m[\u001b[0m\u001b[0mk\u001b[0m\u001b[1;33m-\u001b[0m\u001b[1;36m2\u001b[0m\u001b[1;33m]\u001b[0m\u001b[1;33m!=\u001b[0m\u001b[1;36m0\u001b[0m\u001b[1;33m)\u001b[0m\u001b[1;33m:\u001b[0m \u001b[1;31m#primero debemos quitar los 0's que representan a los no primos (k-2 es porque nos apoyamos de la k pero la lista empieza en 0 y k en 2)\u001b[0m\u001b[1;33m\u001b[0m\u001b[0m\n",
        "\u001b[1;31mOverflowError\u001b[0m: range() result has too many items"
       ]
      }
     ],
     "prompt_number": 15
    },
    {
     "cell_type": "code",
     "collapsed": false,
     "input": [],
     "language": "python",
     "metadata": {},
     "outputs": []
    }
   ],
   "metadata": {}
  }
 ]
}