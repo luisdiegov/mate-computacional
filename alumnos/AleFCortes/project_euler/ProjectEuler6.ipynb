{
 "metadata": {
  "name": "",
  "signature": "sha256:f66df6619fc16e58d037d8f6bccf20ed7d8a01f15a8194b58a6a3b8e938f4e1d"
 },
 "nbformat": 3,
 "nbformat_minor": 0,
 "worksheets": [
  {
   "cells": [
    {
     "cell_type": "heading",
     "level": 1,
     "metadata": {},
     "source": [
      "Sum square difference"
     ]
    },
    {
     "cell_type": "markdown",
     "metadata": {},
     "source": [
      "The sum of the squares of the first ten natural numbers is,\n",
      "\n",
      "1^2 + 2^2 + ... + 10^2 = 385\n",
      "The square of the sum of the first ten natural numbers is,\n",
      "\n",
      "(1 + 2 + ... + 10)^2 = 55^2 = 3025\n",
      "Hence the difference between the sum of the squares of the first ten natural numbers and the square of the sum is 3025 \u2212 385 = 2640.\n",
      "\n",
      "Find the difference between the sum of the squares of the first one hundred natural numbers and the square of the sum."
     ]
    },
    {
     "cell_type": "code",
     "collapsed": false,
     "input": [
      "def diferencia (n):\n",
      "    #inicializamos las variables\n",
      "    sum1=0\n",
      "    sum2=0\n",
      "    dif=0\n",
      "    #el rango va a empezar desde el primer n\u00famero natural (1) hasta el elegido por el usuario (por caracteristica del rango le sumamos 1)\n",
      "    for i in range (1,n+1):\n",
      "        sum1 = sum1 + i**2 #esta es la suma del cuadrado de los primero numeros naturales\n",
      "        sum2 = sum2 + i #esta es la suma de los primeros n\u00fameros naturales\n",
      "    sum2 = sum2**2 # a la suma de n\u00fameros naturales se eleva al cuadrado\n",
      "    dif = sum2-sum1 #simplemente sacamos la diferencia\n",
      "    return dif\n",
      "        \n",
      "        "
     ],
     "language": "python",
     "metadata": {},
     "outputs": [],
     "prompt_number": 25
    },
    {
     "cell_type": "code",
     "collapsed": false,
     "input": [
      "diferencia (100)"
     ],
     "language": "python",
     "metadata": {},
     "outputs": [
      {
       "metadata": {},
       "output_type": "pyout",
       "prompt_number": 26,
       "text": [
        "25164150"
       ]
      }
     ],
     "prompt_number": 26
    }
   ],
   "metadata": {}
  }
 ]
}