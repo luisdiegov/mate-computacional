{
 "metadata": {
  "name": "",
  "signature": "sha256:2fce636f5c456f65c7f40d648458a8d1ee683eece5fa8667775aa5b7607445a1"
 },
 "nbformat": 3,
 "nbformat_minor": 0,
 "worksheets": [
  {
   "cells": [
    {
     "cell_type": "heading",
     "level": 1,
     "metadata": {},
     "source": [
      "N\u00fameros Fibonacci pares"
     ]
    },
    {
     "cell_type": "markdown",
     "metadata": {},
     "source": [
      "Cada nuevo termino en la secuencia de Fibonacci se genera sumando los dos n\u00fameros anteriores. Empezando con el 1 y 2, los primeros 10 t\u00e9rminos ser\u00edan:\n",
      "\n",
      "1, 2, 3, 5, 8, 13, 21, 34, 55, 89, ...\n",
      "\n",
      "Considerando los t\u00e9rminos en la secuencia de Fibonacci cuyos valores no superan los cuatro millones, encuentra la suma de los valores evaluados pares."
     ]
    },
    {
     "cell_type": "code",
     "collapsed": false,
     "input": [
      "def fibo():\n",
      "    f=0 #debemos agregar la variable para el n\u00famero que vamos a generar\n",
      "    f1=1 #debemos tener los casos base que en este caso son 1 y 2\n",
      "    f2=2\n",
      "    sumaPar=f2 #esta es la variable que va a sumar, en el caso base la suma es igual a f2\n",
      "    while (f1+f2<4000000): #los valores creados no deben superar el valor de cuatro millones\n",
      "        f=f1+f2 #aqui se generan los n\u00fameros\n",
      "        if (f%2==0): #los n\u00fameros deben ser pares\n",
      "            sumaPar+=f \n",
      "        f1=f2 #se avanza de posici\u00f3n y se cambian los n\u00fameros generadores \n",
      "        f2=f   \n",
      "        \n",
      "    print sumaPar\n",
      "        "
     ],
     "language": "python",
     "metadata": {},
     "outputs": [],
     "prompt_number": 59
    },
    {
     "cell_type": "code",
     "collapsed": false,
     "input": [
      "fibo()"
     ],
     "language": "python",
     "metadata": {},
     "outputs": [
      {
       "output_type": "stream",
       "stream": "stdout",
       "text": [
        "4613732\n"
       ]
      }
     ],
     "prompt_number": 60
    }
   ],
   "metadata": {}
  }
 ]
}