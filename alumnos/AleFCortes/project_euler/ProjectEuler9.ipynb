{
 "metadata": {
  "name": "",
  "signature": "sha256:48beb27d4350e202dc694e45b3240aba04c76c9d17d560ffcd9baa637a62b264"
 },
 "nbformat": 3,
 "nbformat_minor": 0,
 "worksheets": [
  {
   "cells": [
    {
     "cell_type": "heading",
     "level": 1,
     "metadata": {},
     "source": [
      "Special Pythagorean triplet"
     ]
    },
    {
     "cell_type": "markdown",
     "metadata": {},
     "source": [
      "A Pythagorean triplet is a set of three natural numbers, a < b < c, for which,\n",
      "\n",
      "a2 + b2 = c2\n",
      "For example, 32 + 42 = 9 + 16 = 25 = 52.\n",
      "\n",
      "There exists exactly one Pythagorean triplet for which a + b + c = 1000.\n",
      "Find the product abc."
     ]
    },
    {
     "cell_type": "code",
     "collapsed": false,
     "input": [
      "def  pitagoras():\n",
      "    #inicializamos la a y la b en 0 ya que vamos a buscar el valor especial\n",
      "    a=0 \n",
      "    b=0\n",
      "    for a in range (1,1001): # la a puede tener valores entre 1 y 1000\n",
      "        for b in range (1,1001): # escogida una a escogemos valores distintos de b a ver si encontramos el valor especial\n",
      "            c= 1000-a-b #con un simple despeje podemos definir a c en terminos de a y b\n",
      "            if((a+b+c==1000) & (a**2 + b**2 == c**2)): # para ser el triplete pit\u00e1gorico especial debe cumplir con estas dos condiciones\n",
      "                res =a*b*c #si las cumple entonces simplemente resolvemos el producto\n",
      "    return res"
     ],
     "language": "python",
     "metadata": {},
     "outputs": [],
     "prompt_number": 10
    },
    {
     "cell_type": "code",
     "collapsed": false,
     "input": [
      "pitagoras()"
     ],
     "language": "python",
     "metadata": {},
     "outputs": [
      {
       "metadata": {},
       "output_type": "pyout",
       "prompt_number": 11,
       "text": [
        "31875000"
       ]
      }
     ],
     "prompt_number": 11
    }
   ],
   "metadata": {}
  }
 ]
}