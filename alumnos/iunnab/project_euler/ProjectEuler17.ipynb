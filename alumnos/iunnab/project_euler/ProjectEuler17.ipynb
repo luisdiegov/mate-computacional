{
 "metadata": {
  "name": "",
  "signature": "sha256:395748427f16dcfcfae767a1c7f8fd2d4341846ed6be8e67862f83931865ef36"
 },
 "nbformat": 3,
 "nbformat_minor": 0,
 "worksheets": [
  {
   "cells": [
    {
     "cell_type": "code",
     "collapsed": false,
     "input": [
      "def SumDec(n):\n",
      "    \n",
      "    if int(n/10)>=1:\n",
      "        s= 34+22+4*12\n",
      "        \n",
      "        for d in range(2,9):\n",
      "            if d==2 or d==3 or d==8 or d==9:\n",
      "                s= s+10*(6)+33\n",
      "            \n",
      "            elif d>=4 or d<=6:\n",
      "                s= s+10*(5)+33\n",
      "                \n",
      "            else: #ie caso d=7\n",
      "                s= s+10*(7)+33\n",
      "                \n",
      "    return s\n",
      "    "
     ],
     "language": "python",
     "metadata": {},
     "outputs": [],
     "prompt_number": 3
    },
    {
     "cell_type": "code",
     "collapsed": false,
     "input": [
      "SumDec(99)"
     ],
     "language": "python",
     "metadata": {},
     "outputs": [
      {
       "metadata": {},
       "output_type": "pyout",
       "prompt_number": 5,
       "text": [
        "715"
       ]
      }
     ],
     "prompt_number": 5
    },
    {
     "cell_type": "code",
     "collapsed": false,
     "input": [
      "def SumCent(n):\n",
      "    if int(n/100)>=1:\n",
      "        s= SumDec(99)\n",
      "        for c in range(1,9):\n",
      "            if c==1 or c==2:\n",
      "                s= s+ (3+9)*99+SumDec(99)\n",
      "            elif c==3 or c==7 or c==8:\n",
      "                s= s+ (5+9)*99+SumDec(99)\n",
      "            else:\n",
      "                s= s+ (4+9)*99+SumDec(99)\n",
      "        \n",
      "    return s"
     ],
     "language": "python",
     "metadata": {},
     "outputs": [],
     "prompt_number": 7
    },
    {
     "cell_type": "code",
     "collapsed": false,
     "input": [
      "SumCent(999)"
     ],
     "language": "python",
     "metadata": {},
     "outputs": [
      {
       "metadata": {},
       "output_type": "pyout",
       "prompt_number": 13,
       "text": [
        "16830"
       ]
      }
     ],
     "prompt_number": 13
    },
    {
     "cell_type": "code",
     "collapsed": false,
     "input": [
      "def Suma(n):\n",
      "    S=SumCent(999)+3+8\n",
      "    return S"
     ],
     "language": "python",
     "metadata": {},
     "outputs": [],
     "prompt_number": 19
    },
    {
     "cell_type": "code",
     "collapsed": false,
     "input": [
      "Suma(1000)"
     ],
     "language": "python",
     "metadata": {},
     "outputs": [
      {
       "metadata": {},
       "output_type": "pyout",
       "prompt_number": 20,
       "text": [
        "16841"
       ]
      }
     ],
     "prompt_number": 20
    },
    {
     "cell_type": "code",
     "collapsed": false,
     "input": [],
     "language": "python",
     "metadata": {},
     "outputs": []
    }
   ],
   "metadata": {}
  }
 ]
}