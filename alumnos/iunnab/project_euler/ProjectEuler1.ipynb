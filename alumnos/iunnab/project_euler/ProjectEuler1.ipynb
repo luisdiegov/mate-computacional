{
 "metadata": {
  "name": "",
  "signature": "sha256:4b2baf881d62d36442f5ff52ab371e12d2c482bfdb3d10e01621468da36cdcab"
 },
 "nbformat": 3,
 "nbformat_minor": 0,
 "worksheets": [
  {
   "cells": [
    {
     "cell_type": "code",
     "collapsed": false,
     "input": [
      "def multiplos(x,y,m):\n",
      "    sumatoria=0\n",
      "    for k in range (0,m+1,x):\n",
      "        sumatoria = sumatoria + k\n",
      "    for k in range (0,m+1,y):        \n",
      "        sumatoria = sumatoria + k\n",
      "    for k in range (0,m+1,x*y):\n",
      "        sumatoria = sumatoria - k\n",
      "    print sumatoria\n",
      "    #Sumamos los multiplos del 3 y el 5 y, por el principio de inclusi\u00f3n-exclusi\u00f3n, le quitamos los multiplos repetidos."
     ],
     "language": "python",
     "metadata": {},
     "outputs": [],
     "prompt_number": 1
    },
    {
     "cell_type": "code",
     "collapsed": false,
     "input": [
      "multiplos(3,5,1000)"
     ],
     "language": "python",
     "metadata": {},
     "outputs": [
      {
       "output_type": "stream",
       "stream": "stdout",
       "text": [
        "234168\n"
       ]
      }
     ],
     "prompt_number": 2
    }
   ],
   "metadata": {}
  }
 ]
}