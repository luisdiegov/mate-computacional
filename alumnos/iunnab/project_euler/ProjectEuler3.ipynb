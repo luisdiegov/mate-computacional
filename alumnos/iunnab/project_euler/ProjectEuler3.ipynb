{
 "metadata": {
  "name": "",
  "signature": "sha256:d55bdc0b3bdacda87734a6b2c42acf3d07b42b65ad2f82b46f6ef2142811ae6c"
 },
 "nbformat": 3,
 "nbformat_minor": 0,
 "worksheets": [
  {
   "cells": [
    {
     "cell_type": "code",
     "collapsed": false,
     "input": [
      "def Prime(x):\n",
      "    a=0\n",
      "    \n",
      "    for i in range(1,x):\n",
      "             \n",
      "        if x%i==0: #si x modulo todos los n\u00fameros menores a \u00e9l s\u00f3lo da x$x==0, sabemos que x es primo, en otro caso no.\n",
      "            a= a+1\n",
      "            \n",
      "    if(a==1):\n",
      "        return True #si hay s\u00f3lo un divisor entonces es primo\n",
      "    else:\n",
      "        return False\n",
      "    \n",
      "            \n",
      "             "
     ],
     "language": "python",
     "metadata": {},
     "outputs": [],
     "prompt_number": 15
    },
    {
     "cell_type": "code",
     "collapsed": false,
     "input": [
      "Prime(6)"
     ],
     "language": "python",
     "metadata": {},
     "outputs": [
      {
       "metadata": {},
       "output_type": "pyout",
       "prompt_number": 17,
       "text": [
        "False"
       ]
      }
     ],
     "prompt_number": 17
    },
    {
     "cell_type": "code",
     "collapsed": false,
     "input": [
      "def MaxPrimeFactor(y):\n",
      "    ans=1\n",
      "    for k in range(1,y+1,1):\n",
      "        \n",
      "        if (y%k==0 and Prime(k)==True): #si es factor y es primo entonces lo guarda\n",
      "            \n",
      "            ans=k #lo reescribe\n",
      "            \n",
      "    print ans\n",
      "        "
     ],
     "language": "python",
     "metadata": {},
     "outputs": [],
     "prompt_number": 36
    },
    {
     "cell_type": "code",
     "collapsed": false,
     "input": [
      "MaxPrimeFactor(14)"
     ],
     "language": "python",
     "metadata": {},
     "outputs": [
      {
       "output_type": "stream",
       "stream": "stdout",
       "text": [
        "7\n"
       ]
      }
     ],
     "prompt_number": 38
    },
    {
     "cell_type": "code",
     "collapsed": false,
     "input": [],
     "language": "python",
     "metadata": {},
     "outputs": []
    }
   ],
   "metadata": {}
  }
 ]
}