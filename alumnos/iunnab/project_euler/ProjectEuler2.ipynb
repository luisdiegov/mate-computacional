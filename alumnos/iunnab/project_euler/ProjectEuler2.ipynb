{
 "metadata": {
  "name": "",
  "signature": "sha256:3c7e02c4f11e0cca3a3382fac983a09758e9fe2b5f4349ff46e0ba07cdb3ede9"
 },
 "nbformat": 3,
 "nbformat_minor": 0,
 "worksheets": [
  {
   "cells": [
    {
     "cell_type": "code",
     "collapsed": false,
     "input": [
      "def SumFibonPar(x):\n",
      "    suma=0 #la suma de los pares\n",
      "    a=1 #Es el n\u00famero mayor\n",
      "    b=1 #Es el n\u00famero menor\n",
      "    c=0 #auxiliar para fibonacci\n",
      "    \n",
      "    \n",
      "    while (b<x):\n",
      "        c=b #guarda el n\u00famero menor\n",
      "        b=a #el mayor se vuleve el menor\n",
      "        a= a+c #genera el siguiente t\u00e9rmino. \n",
      "         \n",
      "        if (b%2==0):\n",
      "            \n",
      "            suma = suma+b\n",
      "            \n",
      "    print suma\n",
      "        "
     ],
     "language": "python",
     "metadata": {},
     "outputs": [],
     "prompt_number": 1
    },
    {
     "cell_type": "code",
     "collapsed": false,
     "input": [
      "SumFibonPar(40)"
     ],
     "language": "python",
     "metadata": {},
     "outputs": [
      {
       "output_type": "stream",
       "stream": "stdout",
       "text": [
        "44\n"
       ]
      }
     ],
     "prompt_number": 2
    }
   ],
   "metadata": {}
  }
 ]
}