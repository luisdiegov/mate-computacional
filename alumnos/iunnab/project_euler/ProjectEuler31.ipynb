{
 "metadata": {
  "name": "",
  "signature": "sha256:5a95ad2c92fd388d2acaa5821aae6f0485ccf68fbba5f897ccb2a9d5173a6748"
 },
 "nbformat": 3,
 "nbformat_minor": 0,
 "worksheets": [
  {
   "cells": [
    {
     "cell_type": "code",
     "collapsed": false,
     "input": [
      "def SumC(s):\n",
      "    num=0\n",
      "    for c1 in range (0,s+1): #La moneda m\u00e1s peque\u00f1a puede estar entre 0 y 200 veces\n",
      "        for c2 in range (0,(s/2)+1):\n",
      "            for c5 in range(0,(s/5)+1):\n",
      "                for c10 in range(0,(s/10)+1):\n",
      "                    for c20 in range(0,(s/20)+1):\n",
      "                        for c50 in range(0,(s/50)+1):\n",
      "                            for c100 in range(0,(s/100)+1):\n",
      "                                for c200 in range(0,(s/200)+1):\n",
      "                                    \n",
      "                                    SumCoins=c1+2*c2+5*c5+10*c10+20*c20+50*c50+100*c100+200*c200\n",
      "                                    \n",
      "                                    if SumCoins==s:\n",
      "                                        num= num+1\n",
      "                                        \n",
      "    print num\n",
      "                                    \n",
      "\n",
      "    "
     ],
     "language": "python",
     "metadata": {},
     "outputs": [],
     "prompt_number": 119
    },
    {
     "cell_type": "code",
     "collapsed": false,
     "input": [
      "SumC(4)"
     ],
     "language": "python",
     "metadata": {},
     "outputs": [
      {
       "output_type": "stream",
       "stream": "stdout",
       "text": [
        "3\n"
       ]
      }
     ],
     "prompt_number": 120
    },
    {
     "cell_type": "code",
     "collapsed": false,
     "input": [
      "SumC(200)"
     ],
     "language": "python",
     "metadata": {},
     "outputs": []
    },
    {
     "cell_type": "code",
     "collapsed": false,
     "input": [
      "def SumC1(s):\n",
      "    num=0\n",
      "    for c1 in range (0,s+1): #La moneda m\u00e1s peque\u00f1a puede estar entre 0 y s, paso de 1\n",
      "        for c2 in range (0,(s/2)+1):\n",
      "            for c5 in range(0,(s/5)+1):\n",
      "                if c1+2*c2+5*c5==s:\n",
      "                    num=num+1\n",
      "                    print c1,c2,c5\n",
      "                    \n",
      "    print num\n",
      "                "
     ],
     "language": "python",
     "metadata": {},
     "outputs": [],
     "prompt_number": 105
    },
    {
     "cell_type": "code",
     "collapsed": false,
     "input": [
      "SumC1(5)"
     ],
     "language": "python",
     "metadata": {},
     "outputs": [
      {
       "output_type": "stream",
       "stream": "stdout",
       "text": [
        "0 0 1\n",
        "1 2 0\n",
        "3 1 0\n",
        "5 0 0\n",
        "4\n"
       ]
      }
     ],
     "prompt_number": 106
    },
    {
     "cell_type": "code",
     "collapsed": false,
     "input": [
      "?range()\n"
     ],
     "language": "python",
     "metadata": {},
     "outputs": [],
     "prompt_number": 57
    },
    {
     "cell_type": "code",
     "collapsed": false,
     "input": [],
     "language": "python",
     "metadata": {},
     "outputs": []
    }
   ],
   "metadata": {}
  }
 ]
}