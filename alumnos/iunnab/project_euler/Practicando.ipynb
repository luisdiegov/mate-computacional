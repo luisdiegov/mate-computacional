{
 "metadata": {
  "name": "",
  "signature": "sha256:591d3a4d135ab0df38e0002a41b6ca199ab38c1e424f8051eb7bb2020399beb9"
 },
 "nbformat": 3,
 "nbformat_minor": 0,
 "worksheets": [
  {
   "cells": [
    {
     "cell_type": "code",
     "collapsed": false,
     "input": [
      "from IPython.html.widgets import interact, fixed\n",
      "from IPython.html import widgets"
     ],
     "language": "python",
     "metadata": {},
     "outputs": [],
     "prompt_number": 1
    },
    {
     "cell_type": "code",
     "collapsed": true,
     "input": [
      "def fibon(x):\n",
      "    a=0 \n",
      "    b=0\n",
      "    c=1\n",
      "    for a in range (x):\n",
      "              \n",
      "        a= b+c\n",
      "        \n",
      "        b= c\n",
      "        \n",
      "        c= a\n",
      "                \n",
      "        print a,b,c\n"
     ],
     "language": "python",
     "metadata": {},
     "outputs": [],
     "prompt_number": 188
    },
    {
     "cell_type": "code",
     "collapsed": false,
     "input": [
      "fibon(5)"
     ],
     "language": "python",
     "metadata": {},
     "outputs": [
      {
       "output_type": "stream",
       "stream": "stdout",
       "text": [
        "1 1 1\n",
        "2 1 2\n",
        "3 2 3\n",
        "5 3 5\n",
        "8 5 8\n"
       ]
      }
     ],
     "prompt_number": 189
    },
    {
     "cell_type": "code",
     "collapsed": false,
     "input": [
      "def fibon(x):\n",
      "    a=0 \n",
      "    b=0\n",
      "    c=1\n",
      "    for a in range (x+1):\n",
      "              \n",
      "        a= b+c\n",
      "        \n",
      "        b= c\n",
      "        \n",
      "        c= a\n",
      "                \n",
      "        print a,b,c\n",
      "\n",
      "        "
     ],
     "language": "python",
     "metadata": {},
     "outputs": [],
     "prompt_number": 165
    },
    {
     "cell_type": "code",
     "collapsed": false,
     "input": [
      "def unejem(x):\n",
      "   \n",
      "    for x in range (1,x+1,1):\n",
      "        \n",
      "        print x\n",
      "               "
     ],
     "language": "python",
     "metadata": {},
     "outputs": [],
     "prompt_number": 235
    },
    {
     "cell_type": "code",
     "collapsed": false,
     "input": [
      "unejem(3)\n"
     ],
     "language": "python",
     "metadata": {},
     "outputs": [
      {
       "output_type": "stream",
       "stream": "stdout",
       "text": [
        "1\n",
        "2\n",
        "3\n"
       ]
      }
     ],
     "prompt_number": 236
    },
    {
     "cell_type": "code",
     "collapsed": false,
     "input": [
      "def fibon(x):\n",
      "    a=0 \n",
      "    b=0\n",
      "    c=1\n",
      "    d=0\n",
      "    for d in range (0,x,1):\n",
      "              \n",
      "        a= b+c\n",
      "        \n",
      "        b= c\n",
      "        \n",
      "        c= a\n",
      "                \n",
      "        print a,b,c"
     ],
     "language": "python",
     "metadata": {},
     "outputs": [],
     "prompt_number": 253
    },
    {
     "cell_type": "code",
     "collapsed": false,
     "input": [
      "fibon(6)"
     ],
     "language": "python",
     "metadata": {},
     "outputs": [
      {
       "output_type": "stream",
       "stream": "stdout",
       "text": [
        "1 1 1\n",
        "2 1 2\n",
        "3 2 3\n",
        "5 3 5\n",
        "8 5 8\n",
        "13 8 13\n"
       ]
      }
     ],
     "prompt_number": 255
    },
    {
     "cell_type": "code",
     "collapsed": false,
     "input": [
      "def unafunc(x):\n",
      "    a=0\n",
      "    b=1\n",
      "    c=1\n",
      "    \n",
      "                  \n",
      "    if a < x:\n",
      "        for i in range(0,x):\n",
      "        \n",
      "            c= a+b\n",
      "            a=b\n",
      "            b=c\n",
      "    \n",
      "    print a\n"
     ],
     "language": "python",
     "metadata": {},
     "outputs": [],
     "prompt_number": 414
    },
    {
     "cell_type": "code",
     "collapsed": false,
     "input": [
      "unafunc(6)"
     ],
     "language": "python",
     "metadata": {},
     "outputs": [
      {
       "output_type": "stream",
       "stream": "stdout",
       "text": [
        "8\n"
       ]
      }
     ],
     "prompt_number": 415
    },
    {
     "cell_type": "code",
     "collapsed": false,
     "input": [],
     "language": "python",
     "metadata": {},
     "outputs": []
    },
    {
     "cell_type": "code",
     "collapsed": false,
     "input": [
      "def sumaparfibo(y):\n",
      "    suma=0\n",
      "    a=0 \n",
      "    b\n",
      "    y<- unafunc(x)\n",
      "        if y%2 == 0:\n",
      "            suma= suma + unafunc(x)\n",
      "            print suma\n",
      "        "
     ],
     "language": "python",
     "metadata": {},
     "outputs": [
      {
       "ename": "IndentationError",
       "evalue": "unexpected indent (<ipython-input-418-ce349f604a2c>, line 4)",
       "output_type": "pyerr",
       "traceback": [
        "\u001b[1;36m  File \u001b[1;32m\"<ipython-input-418-ce349f604a2c>\"\u001b[1;36m, line \u001b[1;32m4\u001b[0m\n\u001b[1;33m    if y%2 ==0:\u001b[0m\n\u001b[1;37m    ^\u001b[0m\n\u001b[1;31mIndentationError\u001b[0m\u001b[1;31m:\u001b[0m unexpected indent\n"
       ]
      }
     ],
     "prompt_number": 418
    },
    {
     "cell_type": "code",
     "collapsed": false,
     "input": [
      "def primo(i):\n",
      "    cont=0\n",
      "    for k in range(i,1,-1):\n",
      "        if (i%k==0):\n",
      "            cont= cont+1\n",
      "    if (cont==1):\n",
      "        return True\n",
      "    else:\n",
      "        return False"
     ],
     "language": "python",
     "metadata": {},
     "outputs": [],
     "prompt_number": 5
    },
    {
     "cell_type": "code",
     "collapsed": false,
     "input": [
      "primo(113)\n"
     ],
     "language": "python",
     "metadata": {},
     "outputs": [
      {
       "metadata": {},
       "output_type": "pyout",
       "prompt_number": 11,
       "text": [
        "True"
       ]
      }
     ],
     "prompt_number": 11
    },
    {
     "cell_type": "code",
     "collapsed": false,
     "input": [
      "def palindromic():\n",
      "    \n",
      "    for k (999,100,-1):\n",
      "        for g (999,100,-1):\n",
      "            product= k*g\n",
      "            product_list=  #volver el n\u00famero  lista\n",
      "            \n",
      "            n= len(list)#primero hay que sacarle la longitud a la lista(n), ver que n sea par y luego comparar\n",
      "            if (n%2==0):\n",
      "                \n",
      "                if (product_list [0]== product_list [n]): #nos dara un numero abcdef. si a==f, b==e, c==d \n",
      "                    if(product_list[1]==product_list[n-1]):\n",
      "                        if(product_list[2]==product_list[n-2]):\n",
      "                            num1=g\n",
      "                            num2=k\n",
      "                    \n",
      "               "
     ],
     "language": "python",
     "metadata": {},
     "outputs": [],
     "prompt_number": 395
    },
    {
     "cell_type": "code",
     "collapsed": false,
     "input": [
      "from math import sqrt\n",
      "sqrt(100000)\n",
      "sqrt(99)"
     ],
     "language": "python",
     "metadata": {},
     "outputs": [
      {
       "metadata": {},
       "output_type": "pyout",
       "prompt_number": 7,
       "text": [
        "9.9498743710662"
       ]
      }
     ],
     "prompt_number": 7
    },
    {
     "cell_type": "code",
     "collapsed": false,
     "input": [
      "a=999*999\n"
     ],
     "language": "python",
     "metadata": {},
     "outputs": [],
     "prompt_number": 16
    },
    {
     "cell_type": "code",
     "collapsed": false,
     "input": [
      "map?\n"
     ],
     "language": "python",
     "metadata": {},
     "outputs": [],
     "prompt_number": 17
    },
    {
     "cell_type": "code",
     "collapsed": false,
     "input": [
      "map(a,1,2)"
     ],
     "language": "python",
     "metadata": {},
     "outputs": [
      {
       "ename": "TypeError",
       "evalue": "argument 2 to map() must support iteration",
       "output_type": "pyerr",
       "traceback": [
        "\u001b[1;31m---------------------------------------------------------------------------\u001b[0m\n\u001b[1;31mTypeError\u001b[0m                                 Traceback (most recent call last)",
        "\u001b[1;32m<ipython-input-21-4c8f693c3ba0>\u001b[0m in \u001b[0;36m<module>\u001b[1;34m()\u001b[0m\n\u001b[1;32m----> 1\u001b[1;33m \u001b[0mmap\u001b[0m\u001b[1;33m(\u001b[0m\u001b[0ma\u001b[0m\u001b[1;33m,\u001b[0m\u001b[1;36m1\u001b[0m\u001b[1;33m,\u001b[0m\u001b[1;36m2\u001b[0m\u001b[1;33m)\u001b[0m\u001b[1;33m\u001b[0m\u001b[0m\n\u001b[0m",
        "\u001b[1;31mTypeError\u001b[0m: argument 2 to map() must support iteration"
       ]
      }
     ],
     "prompt_number": 21
    },
    {
     "cell_type": "code",
     "collapsed": false,
     "input": [],
     "language": "python",
     "metadata": {},
     "outputs": []
    }
   ],
   "metadata": {}
  }
 ]
}