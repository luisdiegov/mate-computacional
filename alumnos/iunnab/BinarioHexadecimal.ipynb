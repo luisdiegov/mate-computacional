{
 "metadata": {
  "name": "",
  "signature": "sha256:1e2432a19f66fb9f533b7b8b2a221f94109996ecd902c88d8cc48484e30980c8"
 },
 "nbformat": 3,
 "nbformat_minor": 0,
 "worksheets": [
  {
   "cells": [
    {
     "cell_type": "code",
     "collapsed": false,
     "input": [
      "def BinaHex(b0,b1,b2,b3,b4,b5,b6,b7):\n",
      "    list_a=[b0,b1,b2,b3]\n",
      "    list_b=[b4,b5,b6,b7]\n",
      "    \n",
      "    Hex=[0,0]\n",
      "    \n",
      "    \n",
      "    dec=0\n",
      "    for i in range (3,0,-1):\n",
      "        \n",
      "        dec= dec + (list_b[i]*(2**(3-i)) )\n",
      "        \n",
      "        if dec<=9:\n",
      "            Hex[1]=dec\n",
      "        elif dec==10:\n",
      "            Hex[1]= \"A\"\n",
      "        elif dec==11:\n",
      "            Hex[1]= \"B\"\n",
      "        elif dec==12:\n",
      "            Hex[1]= \"C\"\n",
      "        elif dec==13:\n",
      "            Hex[1]= \"D\"\n",
      "        elif dec==14:\n",
      "            Hex[1]= \"E\"\n",
      "        elif dec==15:\n",
      "            Hex[1]= \"F\"\n",
      "            \n",
      "    \n",
      "      \n",
      "    for i in range (3,0,-1):\n",
      "        doc=0  \n",
      "        doc= doc+ list_a[i]*(2**(3-i))\n",
      "        \n",
      "        if list_a[0]==1:\n",
      "            doc= doc+8\n",
      "        if doc<=9:\n",
      "            Hex[0]=doc\n",
      "        elif doc==10:\n",
      "            Hex[0]= \"A\"\n",
      "        elif doc==11:\n",
      "            Hex[0]= \"B\"\n",
      "        elif doc==12:\n",
      "            Hex[0]= \"C\"\n",
      "        elif doc==13:\n",
      "            Hex[0]= \"D\"\n",
      "        elif doc==14:\n",
      "            Hex[0]= \"E\"\n",
      "        elif doc==15:\n",
      "            Hex[0]= \"F\"\n",
      "            \n",
      "    print Hex\n",
      "            \n",
      "        \n",
      "        "
     ],
     "language": "python",
     "metadata": {},
     "outputs": [],
     "prompt_number": 3
    },
    {
     "cell_type": "code",
     "collapsed": false,
     "input": [
      "BinaHex(1,1,0,0,0,1,0,1)"
     ],
     "language": "python",
     "metadata": {},
     "outputs": [
      {
       "output_type": "stream",
       "stream": "stdout",
       "text": [
        "['C', 5]\n"
       ]
      }
     ],
     "prompt_number": 4
    },
    {
     "cell_type": "code",
     "collapsed": false,
     "input": [
      "def HexaBin(a,b):\n",
      "    \n",
      "    list=[0,0,0,0,0,0,0,0]\n",
      "    d=0\n",
      "    \n",
      "    if b==\"A\":\n",
      "        d=10\n",
      "    if b==\"B\":\n",
      "        d=11\n",
      "    if b==\"C\":\n",
      "        d=12\n",
      "    if b==\"D\":\n",
      "        d=13\n",
      "    if b==\"E\":\n",
      "        d=14\n",
      "    if b==\"F\":\n",
      "        d=15\n",
      "    else:\n",
      "        d=b\n",
      "        \n",
      "    d= d+(a*16)\n",
      "    \n",
      "    if d>=-128 and d<=127:\n",
      "        if d<0:\n",
      "            list[0]=1\n",
      "            d= d*(-1)\n",
      "        \n",
      "        if d>0:\n",
      "            for i in range(7,0,-1):\n",
      "                list[i]=d%2\n",
      "                d= int(d/2)\n",
      "   \n",
      "        print list\n",
      "    else:\n",
      "        print \"overflow\"\n",
      "        \n",
      "    \n",
      "    "
     ],
     "language": "python",
     "metadata": {},
     "outputs": [],
     "prompt_number": 41
    },
    {
     "cell_type": "code",
     "collapsed": false,
     "input": [
      "HexaBin(A)"
     ],
     "language": "python",
     "metadata": {},
     "outputs": []
    },
    {
     "cell_type": "code",
     "collapsed": false,
     "input": [
      "if h<=9:\n",
      "        return h\n",
      "    else:\n",
      "        h=str(h)\n",
      "        \n",
      "        if h==\"C\":\n",
      "        H=12\n",
      "        if h==\"D\":\n",
      "            H=13\n",
      "        if h==\"E\":\n",
      "            H=14\n",
      "        if h==\"F\":\n",
      "            H=15"
     ],
     "language": "python",
     "metadata": {},
     "outputs": []
    }
   ],
   "metadata": {}
  }
 ]
}