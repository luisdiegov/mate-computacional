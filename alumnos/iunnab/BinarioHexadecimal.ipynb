{
 "metadata": {
  "name": "",
  "signature": "sha256:d186f6077644c4d83d11d1f113426b0ae67709d773bcc4a182099921ff1610e9"
 },
 "nbformat": 3,
 "nbformat_minor": 0,
 "worksheets": [
  {
   "cells": [
    {
     "cell_type": "code",
     "collapsed": false,
     "input": [
      "def BinaHex(b0,b1,b2,b3,b4,b5,b6,b7):\n",
      "    list_a=[b0,b1,b2,b3]\n",
      "    list_b=[b4,b5,b6,b7]\n",
      "    \n",
      "    Hex=[0,0]\n",
      "    \n",
      "    \n",
      "    dec=0\n",
      "    for i in range (3,0,-1):\n",
      "        \n",
      "        dec= dec + (list_b[i]*(2**(3-i)) )\n",
      "        \n",
      "        if dec<=9:\n",
      "            Hex[1]=dec\n",
      "        elif dec==10:\n",
      "            Hex[1]= \"A\"\n",
      "        elif dec==11:\n",
      "            Hex[1]= \"B\"\n",
      "        elif dec==12:\n",
      "            Hex[1]= \"C\"\n",
      "        elif dec==13:\n",
      "            Hex[1]= \"D\"\n",
      "        elif dec==14:\n",
      "            Hex[1]= \"E\"\n",
      "        elif dec==15:\n",
      "            Hex[1]= \"F\"\n",
      "            \n",
      "    \n",
      "      \n",
      "    for i in range (3,0,-1):\n",
      "        doc=0  \n",
      "        doc= doc+ list_a[i]*(2**(3-i))\n",
      "        \n",
      "        if list_a[0]==1:\n",
      "            doc= doc+8\n",
      "        if doc<=9:\n",
      "            Hex[0]=doc\n",
      "        elif doc==10:\n",
      "            Hex[0]= \"A\"\n",
      "        elif doc==11:\n",
      "            Hex[0]= \"B\"\n",
      "        elif doc==12:\n",
      "            Hex[0]= \"C\"\n",
      "        elif doc==13:\n",
      "            Hex[0]= \"D\"\n",
      "        elif doc==14:\n",
      "            Hex[0]= \"E\"\n",
      "        elif doc==15:\n",
      "            Hex[0]= \"F\"\n",
      "            \n",
      "    print Hex\n",
      "            \n",
      "        \n",
      "        "
     ],
     "language": "python",
     "metadata": {},
     "outputs": [],
     "prompt_number": 1
    },
    {
     "cell_type": "code",
     "collapsed": false,
     "input": [
      "BinaHex(1,1,0,0,0,1,0,1)"
     ],
     "language": "python",
     "metadata": {},
     "outputs": [
      {
       "output_type": "stream",
       "stream": "stdout",
       "text": [
        "['C', 5]\n"
       ]
      }
     ],
     "prompt_number": 2
    },
    {
     "cell_type": "code",
     "collapsed": false,
     "input": [
      "def HexaBin(a):\n",
      "    a.reverse()\n",
      "    res=0\n",
      "    aux=0\n",
      "    \n",
      "    for i in a:\n",
      "        if i<=9:\n",
      "            res= res+ i*16*aux\n",
      "        \n",
      "    else:\n",
      "    \n",
      "        if i=='A':\n",
      "            res= res+10*(16**aux)\n",
      "        if i== 'B':\n",
      "            res= res+11*(16**aux)\n",
      "        if i== 'C':\n",
      "            res= res+12*(16**aux)\n",
      "        if i== 'D':\n",
      "            res= res+13*(16**aux)\n",
      "        if i== 'E':\n",
      "            res= res+14*(16**aux)\n",
      "        if i== 'F':\n",
      "            res= res+15*(16**aux)\n",
      "            \n",
      "    aux= aux+1\n",
      "\n",
      "    print res\n",
      "        \n",
      "    \n",
      "    "
     ],
     "language": "python",
     "metadata": {},
     "outputs": [],
     "prompt_number": 19
    },
    {
     "cell_type": "code",
     "collapsed": false,
     "input": [
      "HexaBin(['A'])"
     ],
     "language": "python",
     "metadata": {},
     "outputs": [
      {
       "output_type": "stream",
       "stream": "stdout",
       "text": [
        "10\n"
       ]
      }
     ],
     "prompt_number": 22
    },
    {
     "cell_type": "code",
     "collapsed": false,
     "input": [],
     "language": "python",
     "metadata": {},
     "outputs": [],
     "prompt_number": 22
    }
   ],
   "metadata": {}
  }
 ]
}