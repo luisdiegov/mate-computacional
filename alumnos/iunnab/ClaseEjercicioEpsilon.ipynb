{
 "metadata": {
  "name": "",
  "signature": "sha256:3463fe9c8a84acb0b71407fa9d1e3d65292439a23cb2c96330d3275429e2b230"
 },
 "nbformat": 3,
 "nbformat_minor": 0,
 "worksheets": [
  {
   "cells": [
    {
     "cell_type": "code",
     "collapsed": false,
     "input": [
      "def machineEpsilon(func=float):\n",
      "    machine_epsilon = func(1)\n",
      "    while func(1)+func(machine_epsilon) != func(1):\n",
      "        machine_epsilon_last = machine_epsilon\n",
      "        machine_epsilon = func(machine_epsilon) / func(2)\n",
      "    return machine_epsilon_last\n",
      "    "
     ],
     "language": "python",
     "metadata": {},
     "outputs": [],
     "prompt_number": 14
    },
    {
     "cell_type": "code",
     "collapsed": false,
     "input": [
      "machineEpsilon()"
     ],
     "language": "python",
     "metadata": {},
     "outputs": [
      {
       "metadata": {},
       "output_type": "pyout",
       "prompt_number": 16,
       "text": [
        "2.220446049250313e-16"
       ]
      }
     ],
     "prompt_number": 16
    },
    {
     "cell_type": "markdown",
     "metadata": {},
     "source": []
    }
   ],
   "metadata": {}
  }
 ]
}