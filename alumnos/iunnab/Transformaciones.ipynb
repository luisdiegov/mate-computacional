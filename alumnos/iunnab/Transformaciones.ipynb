{
 "metadata": {
  "name": "",
  "signature": "sha256:ba506f4aee1d2bf8fd046079982024ddd3a41e7df86a974173f70e004b6b428e"
 },
 "nbformat": 3,
 "nbformat_minor": 0,
 "worksheets": [
  {
   "cells": [
    {
     "cell_type": "code",
     "collapsed": false,
     "input": [
      "from math import sin, cos\n",
      "\n",
      "def TransfPolarCart(r,t,f):\n",
      "    x= r* sin(f)* cos(t)\n",
      "    y= r* sin(f)*sin(t)\n",
      "    z= r* cos (f)\n",
      "    \n",
      "    return x,y,z"
     ],
     "language": "python",
     "metadata": {},
     "outputs": [],
     "prompt_number": 3
    },
    {
     "cell_type": "code",
     "collapsed": false,
     "input": [
      "from math import asin, acos, sqrt\n",
      "\n",
      "def TransfCartPolar(x,y,z):\n",
      "    r= sqrt(x*x+y*y+z*z)\n",
      "    f= acos(z/r)\n",
      "    t= asin(y/(r*sin(f)))\n",
      "    \n",
      "    return r,t,f"
     ],
     "language": "python",
     "metadata": {},
     "outputs": [],
     "prompt_number": 9
    },
    {
     "cell_type": "code",
     "collapsed": false,
     "input": [
      "TransfCartPolar(3,4,5)\n"
     ],
     "language": "python",
     "metadata": {},
     "outputs": [
      {
       "metadata": {},
       "output_type": "pyout",
       "prompt_number": 13,
       "text": [
        "(7.0710678118654755, 0.927295218001612, 0.7853981633974484)"
       ]
      }
     ],
     "prompt_number": 13
    },
    {
     "cell_type": "code",
     "collapsed": false,
     "input": [
      "TransfPolarCart(7.0710678118654755, 0.927295218001612, 0.7853981633974484)"
     ],
     "language": "python",
     "metadata": {},
     "outputs": [
      {
       "metadata": {},
       "output_type": "pyout",
       "prompt_number": 14,
       "text": [
        "(3.0000000000000013, 4.0, 5.0)"
       ]
      }
     ],
     "prompt_number": 14
    },
    {
     "cell_type": "raw",
     "metadata": {},
     "source": []
    }
   ],
   "metadata": {}
  }
 ]
}