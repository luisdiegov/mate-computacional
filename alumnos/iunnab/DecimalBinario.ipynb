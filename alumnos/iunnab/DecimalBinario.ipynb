{
 "metadata": {
  "name": "",
  "signature": "sha256:fe0f975af7705baddd5822d4ca8d830fe96b542b139d1ce345cff02a659bd9b6"
 },
 "nbformat": 3,
 "nbformat_minor": 0,
 "worksheets": [
  {
   "cells": [
    {
     "cell_type": "code",
     "collapsed": false,
     "input": [
      "def Decabin(n):\n",
      "    n=n+1\n",
      "    bin_list= [0,0,0,0,0,0,0,0]\n",
      "    \n",
      "    if n>(-128) and n<127:\n",
      "    \n",
      "            if n<0:\n",
      "                bin_list[0]=1\n",
      "                n= n-128\n",
      "            \n",
      "            if n>0:\n",
      "                for i in range (7,0,-1):\n",
      "                    \n",
      "                    if (n%2)==0:\n",
      "                        bin_list[i]=1\n",
      "                    \n",
      "                    n= n-n/2\n",
      "              \n",
      "            print bin_list\n",
      "            "
     ],
     "language": "python",
     "metadata": {},
     "outputs": [],
     "prompt_number": 4
    },
    {
     "cell_type": "code",
     "collapsed": false,
     "input": [
      "Decabin(-10)"
     ],
     "language": "python",
     "metadata": {},
     "outputs": [
      {
       "output_type": "stream",
       "stream": "stdout",
       "text": [
        "[1, 0, 0, 0, 0, 0, 0, 0]\n"
       ]
      }
     ],
     "prompt_number": 5
    },
    {
     "cell_type": "code",
     "collapsed": false,
     "input": [
      "def Binadec(b0,b1,b2,b3,b4,b5,b6,b7):\n",
      "    \n",
      "    Decimal=0\n",
      "    list_bin=[b0,b1,b2,b3,b4,b5,b6,b7]\n",
      "    \n",
      "    for i in range(1,7):\n",
      "        \n",
      "        if list_bin[i]==1:\n",
      "            \n",
      "            Decimal= Decimal + 2**(7-i)\n",
      "            \n",
      "    if b0==1:\n",
      "        Decimal= (-1)*Decimal\n",
      "    \n",
      "    print Decimal\n",
      "           \n",
      "\n",
      "    "
     ],
     "language": "python",
     "metadata": {},
     "outputs": [],
     "prompt_number": 80
    },
    {
     "cell_type": "code",
     "collapsed": false,
     "input": [
      "Binadec(0,0,0,0,1,0,1,0)"
     ],
     "language": "python",
     "metadata": {},
     "outputs": [
      {
       "output_type": "stream",
       "stream": "stdout",
       "text": [
        "10\n"
       ]
      }
     ],
     "prompt_number": 81
    },
    {
     "cell_type": "code",
     "collapsed": false,
     "input": [],
     "language": "python",
     "metadata": {},
     "outputs": []
    }
   ],
   "metadata": {}
  }
 ]
}