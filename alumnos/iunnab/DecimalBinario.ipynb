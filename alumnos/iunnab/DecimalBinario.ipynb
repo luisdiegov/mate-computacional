{
 "metadata": {
  "name": "",
  "signature": "sha256:e84e0ad2766c8a0bc2ad90778fa3b3464436920f9c10f2452e3d023ced5e3b8f"
 },
 "nbformat": 3,
 "nbformat_minor": 0,
 "worksheets": [
  {
   "cells": [
    {
     "cell_type": "code",
     "collapsed": false,
     "input": [
      "def Decabit(n):\n",
      "    residuo=0\n",
      "    bin_list= []\n",
      "    \n",
      "    if n range(-128,127):\n",
      "            if n<0:\n",
      "                bin_list[0]=1\n",
      "                n=n*(-1)\n",
      "            \n",
      "            while n>0:\n",
      "                for i in range (7,0,-1):\n",
      "                    \n",
      "                    bin_list[i]= n%2\n",
      "                    n= n-n/2\n",
      "              \n",
      "            print bin_list\n",
      "            \n",
      "        \n",
      "            \n",
      "            "
     ],
     "language": "python",
     "metadata": {},
     "outputs": [
      {
       "ename": "SyntaxError",
       "evalue": "invalid syntax (<ipython-input-1-4d4371ee6791>, line 3)",
       "output_type": "pyerr",
       "traceback": [
        "\u001b[1;36m  File \u001b[1;32m\"<ipython-input-1-4d4371ee6791>\"\u001b[1;36m, line \u001b[1;32m3\u001b[0m\n\u001b[1;33m    if n range(-128,127):\u001b[0m\n\u001b[1;37m             ^\u001b[0m\n\u001b[1;31mSyntaxError\u001b[0m\u001b[1;31m:\u001b[0m invalid syntax\n"
       ]
      }
     ],
     "prompt_number": 1
    },
    {
     "cell_type": "code",
     "collapsed": false,
     "input": [
      "Decabit(10)"
     ],
     "language": "python",
     "metadata": {},
     "outputs": []
    },
    {
     "cell_type": "code",
     "collapsed": false,
     "input": [],
     "language": "python",
     "metadata": {},
     "outputs": []
    },
    {
     "cell_type": "code",
     "collapsed": false,
     "input": [],
     "language": "python",
     "metadata": {},
     "outputs": []
    }
   ],
   "metadata": {}
  }
 ]
}