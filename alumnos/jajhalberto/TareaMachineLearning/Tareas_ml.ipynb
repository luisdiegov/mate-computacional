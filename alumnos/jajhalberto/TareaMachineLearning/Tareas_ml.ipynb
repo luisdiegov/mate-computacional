{
 "metadata": {
  "name": "",
  "signature": "sha256:90be76702e5aa118ab2d8f2941788ac97e560301b49eca2f2d513ab3accac41a"
 },
 "nbformat": 3,
 "nbformat_minor": 0,
 "worksheets": [
  {
   "cells": [
    {
     "cell_type": "heading",
     "level": 1,
     "metadata": {},
     "source": [
      "Tareas"
     ]
    },
    {
     "cell_type": "code",
     "collapsed": false,
     "input": [
      "2/2\n"
     ],
     "language": "python",
     "metadata": {},
     "outputs": []
    },
    {
     "cell_type": "code",
     "collapsed": false,
     "input": [
      "%matplotlib inline\n",
      "\n",
      "\n",
      "import sympy as sym\n",
      "import numpy as np\n",
      "import matplotlib.pyplot as plt\n",
      "\n",
      "from IPython.html.widgets import interact, fixed\n",
      "from IPython.html import widgets\n"
     ],
     "language": "python",
     "metadata": {},
     "outputs": []
    },
    {
     "cell_type": "code",
     "collapsed": false,
     "input": [
      "from sympy.interactive import printing"
     ],
     "language": "python",
     "metadata": {},
     "outputs": [],
     "prompt_number": 4
    },
    {
     "cell_type": "code",
     "collapsed": false,
     "input": [
      "printing.init_printing(use_latex=True)"
     ],
     "language": "python",
     "metadata": {},
     "outputs": [],
     "prompt_number": 5
    },
    {
     "cell_type": "code",
     "collapsed": false,
     "input": [
      "from IPython.html.widgets import interact,fixed"
     ],
     "language": "python",
     "metadata": {},
     "outputs": [],
     "prompt_number": 6
    },
    {
     "cell_type": "code",
     "collapsed": false,
     "input": [
      "from IPython.html import widgets"
     ],
     "language": "python",
     "metadata": {},
     "outputs": [],
     "prompt_number": 7
    },
    {
     "cell_type": "code",
     "collapsed": false,
     "input": [],
     "language": "python",
     "metadata": {},
     "outputs": []
    },
    {
     "cell_type": "markdown",
     "metadata": {},
     "source": [
      "**(a)** Usando **SimPy** demostrar que \n",
      "\n",
      "$$\n",
      "\\frac{\\partial}{\\partial \\beta_j} \\textbf{J}(\\beta) = \\frac{1}{m}\\sum_{i=1}^{m}\\left(\\hat{y}(x^{(i)}) - y(x^{(i)})\\right) \\cdot x^{(i)}_j\n",
      "$$"
     ]
    },
    {
     "cell_type": "code",
     "collapsed": false,
     "input": [],
     "language": "python",
     "metadata": {},
     "outputs": []
    },
    {
     "cell_type": "code",
     "collapsed": false,
     "input": [
      "def funCosto(beta_0,beta_1, m):\n",
      "    target = sym.symarray('y', m) \n",
      "    data = sym.symarray('x', (m, 2))\n",
      "    col1 = data[:,0]\n",
      "    col1[:] = 1 \n",
      "    beta = np.array([beta_0, beta_1])\n",
      "    hipotesis=np.dot(data,beta)\n",
      "    min_cuadrado = (target - hipotesis)**2\n",
      "\n",
      "    return min_cuadrado.sum(0)/(2*m)"
     ],
     "language": "python",
     "metadata": {},
     "outputs": []
    },
    {
     "cell_type": "code",
     "collapsed": false,
     "input": [
      "beta_0, beta_1 = sym.symbols('beta_0, beta_1')\n",
      "m=10"
     ],
     "language": "python",
     "metadata": {},
     "outputs": []
    },
    {
     "cell_type": "code",
     "collapsed": false,
     "input": [
      "d_0=diff(funCosto(beta_0, beta_1, 10), beta_0)\n",
      "d_0"
     ],
     "language": "python",
     "metadata": {},
     "outputs": []
    },
    {
     "cell_type": "code",
     "collapsed": false,
     "input": [
      "d_1 = diff(funCosto(beta_0, beta_1, m), beta_1)\n",
      "d_1"
     ],
     "language": "python",
     "metadata": {},
     "outputs": []
    },
    {
     "cell_type": "code",
     "collapsed": false,
     "input": [],
     "language": "python",
     "metadata": {},
     "outputs": []
    },
    {
     "cell_type": "code",
     "collapsed": false,
     "input": [],
     "language": "python",
     "metadata": {},
     "outputs": []
    },
    {
     "cell_type": "heading",
     "level": 2,
     "metadata": {},
     "source": [
      "Problema 2"
     ]
    },
    {
     "cell_type": "code",
     "collapsed": false,
     "input": [],
     "language": "python",
     "metadata": {},
     "outputs": []
    },
    {
     "cell_type": "markdown",
     "metadata": {},
     "source": [
      "**(a)**  Usando los datos de `chirps.txt`"
     ]
    },
    {
     "cell_type": "code",
     "collapsed": false,
     "input": [
      "%cat data/chirps.txt"
     ],
     "language": "python",
     "metadata": {},
     "outputs": []
    },
    {
     "cell_type": "code",
     "collapsed": false,
     "input": [
      "class RegresionLineal:\n",
      "    def __init__(self, alpha=0.3, max_iters=100, tols=0.001):\n",
      "        \"\"\"\n",
      "        Par\u00e1metros.\n",
      "        ---------------\n",
      "        alpha = learning rate\n",
      "        max_iters = n\u00famero m\u00e1ximo de iteraciones\n",
      "        tols = definici\u00f3n de convergencia\n",
      "        \"\"\"\n",
      "        self.alpha = alpha\n",
      "        self.max_iters = max_iters\n",
      "        self.tols = tols\n",
      "        self.breaking_iteration = None\n",
      "        self.historia = {'costo':[], 'beta':[]}  
      "        \n",
      "    def gradientDescent(self, x, y):\n",
      "        \"\"\"\n",
      "        Par\u00e1metros:\n",
      "        ---------------\n",
      "        x = vector de entrenamiento de features\n",
      "        y = vector de entrenamiento de variable a predecir (target)\n",
      "        \"\"\"    \n",
      "        \n",
      "        \n",
      "        unos = np.ones((x.shape[0], 1))\n",
      "        Xt = x.reshape(x.shape[0], 1)\n",
      "        Xt = np.concatenate((unos, Xt), axis=1)\n",
      "        \n",
      "        i = 0\n",
      "        prep_J = 0\n",
      "        m, n = Xt.shape\n",
      "        self.beta = np.zeros(n) \n",
      "        \n",
      "        while i < self.max_iters:     \n",
      "        \n",
      "            self.beta = self.beta - self.alpha * self.gradiente(Xt, y)\n",
      "            \n",
      "            J = self.costo(Xt, y)\n",
      "            \n",
      "            if abs(J - prep_J) <= self.tols:\n",
      "                print 'La funci\u00f3n convergi\u00f3 con beta: %s en la iteraci\u00f3n %i' % (str(self.beta), i)\n",
      "                self.breaking_iteration = i\n",
      "                break\n",
      "            else:\n",
      "                prep_J = J\n",
      "            \n",
      "            self.historia['costo'].append(J)\n",
      "            self.historia['beta'].append(self.beta)                \n",
      "            i += 1\n",
      "    \n",
      "    def hipotesis(self, x):\n",
      "        return np.dot(x, self.beta)\n",
      "    \n",
      "    def costo(self, x, y):\n",
      "        m = x.shape[0]\n",
      "        error = self.hipotesis(x) - y\n",
      "        return np.dot(error.T, error) / (2 * m) \n",
      "    \n",
      "    def gradiente(self, x, y):\n",
      "        m = x.shape[0]\n",
      "        error = self.hipotesis(x) - y        \n",
      "        return np.dot(x.T, error) / m"
     ],
     "language": "python",
     "metadata": {},
     "outputs": []
    },
    {
     "cell_type": "code",
     "collapsed": false,
     "input": [
      "datos = np.loadtxt('\\data\\chirps.txt')\n",
      "chirps_seg = datos[:, 0]\n",
      "temp = datos[:, 1]"
     ],
     "language": "python",
     "metadata": {},
     "outputs": []
    },
    {
     "cell_type": "code",
     "collapsed": false,
     "input": [
      "plt.scatter(chirps_seg, temp, label=\"datos\")\n",
      "plt.xlabel('Chirps/seg')\n",
      "plt.ylabel('Temperatura (F)')"
     ],
     "language": "python",
     "metadata": {},
     "outputs": []
    },
    {
     "cell_type": "code",
     "collapsed": false,
     "input": [
      "regresion = RegresionLineal(alpha=0.03, max_iters=10000, tols=0.0000001)\n",
      "regresion.gradientDescent(chirps_seg, temp)"
     ],
     "language": "python",
     "metadata": {},
     "outputs": []
    },
    {
     "cell_type": "markdown",
     "metadata": {},
     "source": [
      "Entrenar una regresi\u00f3n lineal. Grafique los datos y el mejor modelo. Explique como lleg\u00f3 a los valores de $\\alpha$. \u00bfCoinciden con los mostrados en la p\u00e1gina web?"
     ]
    },
    {
     "cell_type": "markdown",
     "metadata": {},
     "source": [
      "<div class=\"alert alert-warning\">\n",
      "**NOTA**: Datos obtenidos de [aqu\u00ed](http://mathbits.com/MathBits/TISection/Statistics2/linearREAL.htm)\n",
      "</div>"
     ]
    },
    {
     "cell_type": "heading",
     "level": 2,
     "metadata": {},
     "source": [
      "Problema 3"
     ]
    },
    {
     "cell_type": "markdown",
     "metadata": {},
     "source": [
      "**(a)** Usando los datos del [cuarteto de Anscombe](http://en.wikipedia.org/wiki/Anscombe%27s_quartet) Calcule la regresi\u00f3n lineal \u00bfQu\u00e9 sucede?"
     ]
    },
    {
     "cell_type": "code",
     "collapsed": false,
     "input": [
      "CA1x = CA2x = CA3x = np.array([10., 8., 13., 9., 11., 14., 6., 4., 12., 7., 5.])\n",
      "\n",
      "CA4x = np.array([8., 8., 8., 8., 8., 8., 8., 19., 8., 8., 8.])\n",
      "\n",
      "CA1y = np.array([8.04, 6.95, 7.58, 8.81, 8.33, 9.96, 7.24, 4.26, 10.84, 4.82, 5.68])\n",
      "\n",
      "CA2y = np.array([9.14, 8.14, 8.74, 8.77, 9.26, 8.10, 6.13, 3.10, 9.13, 7.26, 4.74])\n",
      "|\n",
      "CA3y = np.array([7.46, 6.77, 12.74, 7.11, 7.81, 8.84, 6.08, 5.39, 8.15, 6.42, 5.73])\n",
      "\n",
      "CA4y = np.array([6.58, 5.76, 7.71, 8.84, 8.47, 7.04, 5.25, 12.50, 5.56, 7.91, 6.89])"
     ],
     "language": "python",
     "metadata": {},
     "outputs": []
    },
    {
     "cell_type": "code",
     "collapsed": false,
     "input": [
      "plt.scatter(CA1x, CA1y, label=\"I\")\n",
      "plt.xlabel('x')\n",
      "plt.ylabel('y')"
     ],
     "language": "python",
     "metadata": {},
     "outputs": []
    },
    {
     "cell_type": "code",
     "collapsed": false,
     "input": [
      "plt.scatter(CA2x, CA2y, label=\"II\")\n",
      "plt.xlabel('x')\n",
      "plt.ylabel('y'"
     ],
     "language": "python",
     "metadata": {},
     "outputs": []
    },
    {
     "cell_type": "code",
     "collapsed": false,
     "input": [
      "plt.scatter(CA3x, CA3y, label=\"III\")\n",
      "plt.xlabel('x')\n",
      "plt.ylabel('y')"
     ],
     "language": "python",
     "metadata": {},
     "outputs": []
    },
    {
     "cell_type": "code",
     "collapsed": false,
     "input": [
      "plt.scatter(CA4x, CA4y, label=\"IV\")\n",
      "plt.xlabel('x')\n",
      "plt.ylabel('y')"
     ],
     "language": "python",
     "metadata": {},
     "outputs": []
    },
    {
     "cell_type": "code",
     "collapsed": false,
     "input": [
      "R1 = RegresionLineal(alpha=0.03, max_iters=10000, tols=0.000001)\n",
      "R1.gradientDescent(CA1x, CA1y)"
     ],
     "language": "python",
     "metadata": {},
     "outputs": []
    },
    {
     "cell_type": "code",
     "collapsed": false,
     "input": [],
     "language": "python",
     "metadata": {},
     "outputs": []
    },
    {
     "cell_type": "heading",
     "level": 2,
     "metadata": {},
     "source": [
      "Problema 4"
     ]
    },
    {
     "cell_type": "code",
     "collapsed": false,
     "input": [
      "radioactive = np.loadtxt('/data/radioactive_decay.txt')\n",
      "x = radioactive[:,0] \n",
      "y = radioactive[:,1]\n",
      "radioactive\n",
      "array([[  0.  ,  10.48],\n",
      "        [  1.  ,   7.54],\n",
      "        [  2.  ,   5.49],\n",
      "        [  3.  ,   4.02],\n",
      "        [  4.  ,   2.74],\n",
      "        [  5.  ,   2.02],\n",
      "        [  6.  ,   1.5 ],\n",
      "        [  7.  ,   1.09],\n",
      "        [  8.  ,   0.68],\n",
      "        [  9.  ,   0.57],\n",
      "        [ 10.  ,   0.37],\n",
      "        [ 11.  ,   0.31],\n",
      "        [ 12.  ,   0.19],\n",
      "        [ 13.  ,   0.15],\n",
      "        [ 14.  ,   0.13],\n",
      "        [ 15.  ,   0.11]])\n",
      "\n",
      "plt.scatter(X,Y)\n",
      "\n",
      "Y_0= []\n",
      "for j in xrange(0,len(Y)):\n",
      "    Y_0.append(np.e**-(Y[j]))\n",
      "    Y_1 = []\n",
      "    for j in xrange(0,len(Y)):\n",
      "        Y_1.append(1/Y[j])\n",
      "        Y_2 = []\n",
      "        for j in xrange(0,len(Y)):\n",
      "            Y_2.append(sqrt(Y[j]))\n",
      "\n",
      "\n",
      "plt.scatter(X,Y_transf_2, color = 'green', label = 'sqrt(y)') \n",
      "plt.scatter(X,Y_transf_1, color = 'blue', label = '1/y')\n",
      "plt.scatter(X,Y_transf_0, color ='red' , label = 'e^(-y)')\n",
      "plt.legend(loc = \"best\")\n",
      "plt.xlabel('Tiempo')\n",
      "plt.ylabel('Radiaci\u00f3n')"
     ],
     "language": "python",
     "metadata": {},
     "outputs": []
    },
    {
     "cell_type": "code",
     "collapsed": false,
     "input": [
      "\n",
      "           \n",
      "           \n",
      "regresion_radiacion = RegresionLineal(alpha = 0.001 , max_iters= 10000)\n",
      "regresion_radiacion.gradientDescent(X,Y) \n",
      "reg_radiacion_aj = RegresionLineal(alpha = 0.001, max_iters = 10000)\n",
      "reg_radiacion_aj.gradientDescent(X,Y_0) \n",
      "\n",
      "\n",
      "\n",
      "\n",
      "\n"
     ],
     "language": "python",
     "metadata": {},
     "outputs": []
    },
    {
     "cell_type": "code",
     "collapsed": false,
     "input": [
      "\n",
      "fig, ax = plt.subplots(2, figsize = (5,5), sharex= True, sharey = True)\n",
      "modelo = lambda x,b,m: b + m*x\n",
      "ax[0].scatter(X,Y , color = 'red')\n",
      "ax[0].set_title('Datos Sin Ajustar')\n",
      "ax[0].plot(X,modelo(X,radiacion.beta[0], radiacion.beta[1]), \n",
      "label=\"int: %1.2f, pen: %1.2f\" % (radiacion.beta[0], radiacion.beta[1]))\n",
      "ax[0].legend(loc = 'best')"
     ],
     "language": "python",
     "metadata": {},
     "outputs": []
    },
    {
     "cell_type": "code",
     "collapsed": false,
     "input": [
      "ax[1].scatter(X,Y_transf_0, color = 'blue')\n",
      "ax[1].set_title('Datos transformados')\n",
      "ax[1].set_xlabel('Observacion')\n",
      "ax[1].plot(X, modelo(X,radiacion_ajustada.beta[0], radiacion_ajustada.beta[1])\n",
      "label=\"int: %1.2f, pen: %1.2f\" % (radiacion_ajustada.beta[0], radiacion_ajustada.beta[1]), color = 'green')\n",
      "x[1].legend(loc = 'best')"
     ],
     "language": "python",
     "metadata": {},
     "outputs": []
    },
    {
     "cell_type": "code",
     "collapsed": false,
     "input": [],
     "language": "python",
     "metadata": {},
     "outputs": []
    },
    {
     "cell_type": "code",
     "collapsed": false,
     "input": [],
     "language": "python",
     "metadata": {},
     "outputs": []
    },
    {
     "cell_type": "markdown",
     "metadata": {},
     "source": [
      "Use el archivo `radioactive_decay.dat`"
     ]
    },
    {
     "cell_type": "code",
     "collapsed": false,
     "input": [
      "%cat data/radioactive_decay.txt"
     ],
     "language": "python",
     "metadata": {},
     "outputs": [
      {
       "output_type": "stream",
       "stream": "stderr",
       "text": [
        "ERROR: Line magic function `%cat` not found.\n"
       ]
      }
     ],
     "prompt_number": 2
    },
    {
     "cell_type": "markdown",
     "metadata": {},
     "source": [
      "**(a)** Grafique los datos \u00bfQu\u00e9 forma tienen?"
     ]
    },
    {
     "cell_type": "markdown",
     "metadata": {},
     "source": [
      "**(b)** \u00bfQu\u00e9 transformaci\u00f3n se le ocurre para linearizarlos? Explique y grafique de nuevo. Guarde los datos transformados en un archivo llamado `transform_radioactive_decay.txt`"
     ]
    },
    {
     "cell_type": "markdown",
     "metadata": {},
     "source": [
      "**(c)** Aplique la regresi\u00f3n lineal a este conjunto de datos transformado, leyendo los datos del archivo reci\u00e9n creado."
     ]
    },
    {
     "cell_type": "markdown",
     "metadata": {},
     "source": [
      "**(d)** \u00bfCu\u00e1les son los valores de $\\beta$ que mejor ajustan? \u00bfCu\u00e1les son el espacio sin transformar? Explique."
     ]
    }
   ],
   "metadata": {}
  }
 ]
}