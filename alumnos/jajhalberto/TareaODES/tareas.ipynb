{
 "metadata": {
  "name": "",
  "signature": "sha256:1b28cf83b88f0ad91a15423adbf08bc87fd20bcc8dfb684d0745388361ef7085"
 },
 "nbformat": 3,
 "nbformat_minor": 0,
 "worksheets": [
  {
   "cells": [
    {
     "cell_type": "heading",
     "level": 1,
     "metadata": {},
     "source": [
      "Tareas"
     ]
    },
    {
     "cell_type": "markdown",
     "metadata": {},
     "source": [
      "Actualizado al 5 de abril "
     ]
    },
    {
     "cell_type": "code",
     "collapsed": false,
     "input": [
      "%pylab inline\n",
      "import numpy as np\n",
      "import matplotlib.pyplot as plt"
     ],
     "language": "python",
     "metadata": {},
     "outputs": [
      {
       "output_type": "stream",
       "stream": "stdout",
       "text": [
        "Populating the interactive namespace from numpy and matplotlib\n"
       ]
      }
     ],
     "prompt_number": 25
    },
    {
     "cell_type": "heading",
     "level": 2,
     "metadata": {},
     "source": [
      "Problema 1"
     ]
    },
    {
     "cell_type": "markdown",
     "metadata": {},
     "source": [
      "Utilizando el c\u00f3digo de runge-kutta de segundo orden como base, implemente el c\u00f3digo de runge-kutta de cuarto orden. La funci\u00f3n debe de llamarse `rk4`. "
     ]
    },
    {
     "cell_type": "code",
     "collapsed": false,
     "input": [
      "def RK4(y, t, dt, derivadas):\n",
      "    k0 = dt*derivadas(y, t)\n",
      "    k1 = dt*derivadas(y + (1/2)*k0, t + (1/2)*dt)\n",
      "    k2 = dt*derivadas(y + (1/2)*k1, t + (1/2)*dt)\n",
      "    k3 = dt*derivadas(y + k3, t + dt)\n",
      "    y_next = y + (1/6)*(k0 + k1 + k2 + k3)\n",
      "    return y_next"
     ],
     "language": "python",
     "metadata": {},
     "outputs": [],
     "prompt_number": 31
    },
    {
     "cell_type": "heading",
     "level": 2,
     "metadata": {},
     "source": [
      "Problema 2"
     ]
    },
    {
     "cell_type": "markdown",
     "metadata": {},
     "source": [
      "La taza a la cual un recurso finito es recogido depende de la dificultad y de la demanda. Sup\u00f3n que la demanda $D$ se incrementa con la cantidad extra\u00edda $E$:\n",
      "\n",
      "$$\\dot D = \\alpha E$$\n",
      "\n",
      "Sup\u00f3n que la dificultad de extracci\u00f3n $W$ es inversamentedependiente de la fracci\u00f3n restante del recurso:\n",
      "\n",
      "$$\n",
      "W = \\frac{1}{1 -E}\n",
      "$$\n",
      "\n",
      "Finalmente, sup\u00f3n que la tasa de extracci\u00f3n $$ es la raz\u00f3n de la demanda a la dificultad.\n",
      "\n",
      "$$ R = \\dot E = \\frac{D}{W} $$\n",
      "\n",
      "Por \u00faltimo, el costo $C$ del recurso depende de la tasa de la extracci\u00f3n y de la demanda:\n",
      "\n",
      "$$ C = \\frac{D}{R}\\xi$$,\n",
      "\n",
      "donde $\\xi$ es un factor de escala.\n",
      "\n",
      "(a) Escribe un programa que dibuja la tasa de la extracci\u00f3n y el costo como una funci\u00f3n del tiempo. Usando las condiciones iniciales: $D_0 = 0.1$, $E_0 = 0.1$,  $\\alpha = 2.0$ y $\\xi = 0.01$. Grafica de 0 a 5 unidades de tiempo. \n",
      "\n",
      "\n",
      "(b) Resuelve con `rk4` y con  `odeint`. Compara los tiempos y los resultados. \u00bfQu\u00e9 puedes concluir?\n",
      "\n",
      "(c) Agrega un _widget_ para los valores de $\\alpha$ y $\\xi$.\n",
      "\n",
      "(d) Discute la din\u00e1mica del sistema en general y menciona algunos hallazgos interesantes para diferentes valores y condiciones iniciales."
     ]
    },
    {
     "cell_type": "code",
     "collapsed": false,
     "input": [
      "from IPython.html.widgets import interact, fixed\n",
      "from IPython.html import widgets\n",
      "\n",
      "from scipy.integrate import odeint\n",
      "import numpy as np\n",
      "import matplotlib.pyplot as plt\n"
     ],
     "language": "python",
     "metadata": {},
     "outputs": [],
     "prompt_number": 35
    },
    {
     "cell_type": "code",
     "collapsed": false,
     "input": [
      "\n",
      "alpha = 2.0\n",
      "epsilon = 0.01\n",
      "y0 = np.zeros((2,)) \n",
      "y0[0] = 0.1 \n",
      "y0[1] = 0.1 \n",
      "      \n",
      "t = 5 \n",
      "N = 1000 \n",
      "dt = t/(N - 1) \n",
      "\n",
      "tiempo = np.linspace(0, t, N) \n",
      "y = np.zeros((N, 2)) \n",
      "y[0] = y0 "
     ],
     "language": "python",
     "metadata": {},
     "outputs": [],
     "prompt_number": 36
    },
    {
     "cell_type": "code",
     "collapsed": false,
     "input": [
      "def dinamica(estado, t): \n",
      "    h0 = alpha*estado[1]\n",
      "    h1 = estado[0]*(1 - estado[1])\n",
      "    y1 = np.array([h0, h1])\n",
      "    return y1"
     ],
     "language": "python",
     "metadata": {},
     "outputs": [],
     "prompt_number": 37
    },
    {
     "cell_type": "code",
     "collapsed": false,
     "input": [
      "\n",
      "\n",
      "D = y[:, 0]\n",
      "E = (1/alpha)*y[:, 1]\n",
      "R = D*(1 - E)\n",
      "C = epsilon*D/R \n"
     ],
     "language": "python",
     "metadata": {},
     "outputs": [],
     "prompt_number": 39
    },
    {
     "cell_type": "code",
     "collapsed": false,
     "input": [
      "\n",
      "\n",
      "\n",
      "fig, ax = plt.subplots(1, 2, figsize=(20,8), sharex=True)\n",
      "#Costo\n",
      "ax[1].set_xlim(0, 5)\n",
      "ax[1].set_ylim(C.min()*1.1, C.max()*1.1 )\n",
      "ax[1].set_xlabel(u'tiempo (\u00e1ngulo)', fontsize=12)\n",
      "ax[1].set_ylabel(u'Costo del recurso (C, $)', fontsize=10)\n",
      "ax[1].spines['right'].set_color('none')\n",
      "ax[1].spines['top'].set_color('none')\n",
      "ax[1].xaxis.set_ticks_position('bottom')\n",
      "ax[1].yaxis.set_ticks_position('left')\n",
      "ax[1].set_xticks([1, 2, 3, 4, 5])\n",
      "ax[1].plot(tiempo, C, color=\"red\")\n",
      "      #Extracci\u00f3n\n",
      "ax[0].set_xlim(0, 5)\n",
      "ax[0].set_ylim(R.min()*1.1, R.max()*1.1 )\n",
      "ax[0].set_xlabel(u'tiempo (\u00e1ngulo)', fontsize=12)\n",
      "ax[0].set_ylabel(u'Tasa de extracci\u00f3n (R)', fontsize=12)\n",
      "ax[0].spines['right'].set_color('none')\n",
      "ax[0].spines['top'].set_color('none')\n",
      "ax[0].xaxis.set_ticks_position('bottom')\n",
      "ax[0].yaxis.set_ticks_position('left')\n",
      "ax[0].set_xticks([1, 2, 3, 4, 5])\n",
      "ax[0].plot(tiempo, R)\n",
      "\n",
      "\n"
     ],
     "language": "python",
     "metadata": {},
     "outputs": [
      {
       "metadata": {},
       "output_type": "pyout",
       "prompt_number": 41,
       "text": [
        "[<matplotlib.lines.Line2D at 0x165ca668>]"
       ]
      },
      {
       "metadata": {},
       "output_type": "display_data",
       "png": "[encoded data removed]",
       "text": [
        "<matplotlib.figure.Figure at 0xf55d7b8>"
       ]
      }
     ],
     "prompt_number": 41
    },
    {
     "cell_type": "code",
     "collapsed": false,
     "input": [
      "def solucion_rk4(y0, t):\n",
      "      y = np.zeros((len(t), 2))\n",
      "      y[0] = y0\n",
      "      for j in range(N-1):\n",
      "          y[j+1] = RK4(y[j], t[j], dt, dinamica)\n",
      "\n",
      "\n",
      "%timeit solucion_rk4(y0, tiempo)\n",
      "\n",
      "\n",
      "%timeit odeint(func=dinamica, y0=y0, t=tiempo)\n",
      "\n",
      "\n",
      "\n",
      "\n",
      "def solve_and_plot(alpha, epsilon): \n",
      "          def derivadas(estado, t): \n",
      "              h0 = estado[1]\n",
      "              h1 = alpha*estado[0]*(1 - (estado[1]/alpha))\n",
      "              y1 = np.array([h0, h1])\n",
      "              return y1\n",
      "          solucion = odeint(derivadas, y0=y0, t=tiempo)\n",
      "          D = solucion[:, 0]\n",
      "          E = (1/alpha)*solucion[:, 1]\n",
      "          R = D*(1 - E)\n",
      "          C = epsilon*D/R\n",
      "          fig, ax = plt.subplots(2, 1, figsize=(10,8), sharex=True)\n",
      "      \n",
      "          ax[0].set_xlim(0, 5)\n",
      "          ax[0].set_ylim(R.min()*1.1, R.max()*1.1 )\n",
      "          ax[0].set_xlabel(u'tiempo (\u00e1ngulo)', fontsize=12)\n",
      "          ax[0].set_ylabel(u'Tasa de extracci\u00f3n', fontsize=12)\n",
      "          ax[0].spines['right'].set_color('none')\n",
      "          ax[0].spines['top'].set_color('none')\n",
      "          ax[0].xaxis.set_ticks_position('bottom')\n",
      "          ax[0].yaxis.set_ticks_position('left')\n",
      "          ax[0].set_xticks([1, 2, 3, 4, 5])\n",
      "          ax[0].plot(tiempo, R, label=odeint, color=red)\n",
      "    \n",
      "          ax[1].set_xlim(0, 5)\n",
      "          ax[1].set_ylim(C.min()*1.1, C.max()*1.1)\n",
      "          ax[1].set_xlabel(u'tiempo (a\\u00f1os)', fontsize=12)\n",
      "          ax[1].set_ylabel(u'Costo del recurso ($)', fontsize=10)\n",
      "          ax[1].spines['right'].set_color('none')\n",
      "          ax[1].spines['top'].set_color('none')\n",
      "          ax[1].xaxis.set_ticks_position('bottom')\n",
      "          ax[1].yaxis.set_ticks_position('left')\n",
      "          ax[1].set_xticks([1, 2, 3, 4, 5])\n",
      "          ax[1].plot(tiempo, C, label=odeint, color=red)\n",
      "\n",
      "interact(solve_and_plot, alpha=(2, 12, 2), epsilon=(0, .1, .01))\n",
      "\n"
     ],
     "language": "python",
     "metadata": {},
     "outputs": [
      {
       "ename": "UnboundLocalError",
       "evalue": "local variable 'k3' referenced before assignment",
       "output_type": "pyerr",
       "traceback": [
        "\u001b[1;31m---------------------------------------------------------------------------\u001b[0m\n\u001b[1;31mUnboundLocalError\u001b[0m                         Traceback (most recent call last)",
        "\u001b[1;32m<ipython-input-42-d9761d15084a>\u001b[0m in \u001b[0;36m<module>\u001b[1;34m()\u001b[0m\n\u001b[0;32m      6\u001b[0m \u001b[1;33m\u001b[0m\u001b[0m\n\u001b[0;32m      7\u001b[0m \u001b[1;33m\u001b[0m\u001b[0m\n\u001b[1;32m----> 8\u001b[1;33m \u001b[0mget_ipython\u001b[0m\u001b[1;33m(\u001b[0m\u001b[1;33m)\u001b[0m\u001b[1;33m.\u001b[0m\u001b[0mmagic\u001b[0m\u001b[1;33m(\u001b[0m\u001b[1;34mu'timeit solucion_rk4(y0, tiempo)'\u001b[0m\u001b[1;33m)\u001b[0m\u001b[1;33m\u001b[0m\u001b[0m\n\u001b[0m\u001b[0;32m      9\u001b[0m \u001b[1;33m\u001b[0m\u001b[0m\n\u001b[0;32m     10\u001b[0m \u001b[1;33m\u001b[0m\u001b[0m\n",
        "\u001b[1;32mC:\\Users\\Alberto\\Anacondai\\lib\\site-packages\\IPython\\core\\interactiveshell.pyc\u001b[0m in \u001b[0;36mmagic\u001b[1;34m(self, arg_s)\u001b[0m\n\u001b[0;32m   2203\u001b[0m         \u001b[0mmagic_name\u001b[0m\u001b[1;33m,\u001b[0m \u001b[0m_\u001b[0m\u001b[1;33m,\u001b[0m \u001b[0mmagic_arg_s\u001b[0m \u001b[1;33m=\u001b[0m \u001b[0marg_s\u001b[0m\u001b[1;33m.\u001b[0m\u001b[0mpartition\u001b[0m\u001b[1;33m(\u001b[0m\u001b[1;34m' '\u001b[0m\u001b[1;33m)\u001b[0m\u001b[1;33m\u001b[0m\u001b[0m\n\u001b[0;32m   2204\u001b[0m         \u001b[0mmagic_name\u001b[0m \u001b[1;33m=\u001b[0m \u001b[0mmagic_name\u001b[0m\u001b[1;33m.\u001b[0m\u001b[0mlstrip\u001b[0m\u001b[1;33m(\u001b[0m\u001b[0mprefilter\u001b[0m\u001b[1;33m.\u001b[0m\u001b[0mESC_MAGIC\u001b[0m\u001b[1;33m)\u001b[0m\u001b[1;33m\u001b[0m\u001b[0m\n\u001b[1;32m-> 2205\u001b[1;33m         \u001b[1;32mreturn\u001b[0m \u001b[0mself\u001b[0m\u001b[1;33m.\u001b[0m\u001b[0mrun_line_magic\u001b[0m\u001b[1;33m(\u001b[0m\u001b[0mmagic_name\u001b[0m\u001b[1;33m,\u001b[0m \u001b[0mmagic_arg_s\u001b[0m\u001b[1;33m)\u001b[0m\u001b[1;33m\u001b[0m\u001b[0m\n\u001b[0m\u001b[0;32m   2206\u001b[0m \u001b[1;33m\u001b[0m\u001b[0m\n\u001b[0;32m   2207\u001b[0m     \u001b[1;31m#-------------------------------------------------------------------------\u001b[0m\u001b[1;33m\u001b[0m\u001b[1;33m\u001b[0m\u001b[0m\n",
        "\u001b[1;32mC:\\Users\\Alberto\\Anacondai\\lib\\site-packages\\IPython\\core\\interactiveshell.pyc\u001b[0m in \u001b[0;36mrun_line_magic\u001b[1;34m(self, magic_name, line)\u001b[0m\n\u001b[0;32m   2124\u001b[0m                 \u001b[0mkwargs\u001b[0m\u001b[1;33m[\u001b[0m\u001b[1;34m'local_ns'\u001b[0m\u001b[1;33m]\u001b[0m \u001b[1;33m=\u001b[0m \u001b[0msys\u001b[0m\u001b[1;33m.\u001b[0m\u001b[0m_getframe\u001b[0m\u001b[1;33m(\u001b[0m\u001b[0mstack_depth\u001b[0m\u001b[1;33m)\u001b[0m\u001b[1;33m.\u001b[0m\u001b[0mf_locals\u001b[0m\u001b[1;33m\u001b[0m\u001b[0m\n\u001b[0;32m   2125\u001b[0m             \u001b[1;32mwith\u001b[0m \u001b[0mself\u001b[0m\u001b[1;33m.\u001b[0m\u001b[0mbuiltin_trap\u001b[0m\u001b[1;33m:\u001b[0m\u001b[1;33m\u001b[0m\u001b[0m\n\u001b[1;32m-> 2126\u001b[1;33m                 \u001b[0mresult\u001b[0m \u001b[1;33m=\u001b[0m \u001b[0mfn\u001b[0m\u001b[1;33m(\u001b[0m\u001b[1;33m*\u001b[0m\u001b[0margs\u001b[0m\u001b[1;33m,\u001b[0m\u001b[1;33m**\u001b[0m\u001b[0mkwargs\u001b[0m\u001b[1;33m)\u001b[0m\u001b[1;33m\u001b[0m\u001b[0m\n\u001b[0m\u001b[0;32m   2127\u001b[0m             \u001b[1;32mreturn\u001b[0m \u001b[0mresult\u001b[0m\u001b[1;33m\u001b[0m\u001b[0m\n\u001b[0;32m   2128\u001b[0m \u001b[1;33m\u001b[0m\u001b[0m\n",
        "\u001b[1;32mC:\\Users\\Alberto\\Anacondai\\lib\\site-packages\\IPython\\core\\magics\\execution.pyc\u001b[0m in \u001b[0;36mtimeit\u001b[1;34m(self, line, cell)\u001b[0m\n",
        "\u001b[1;32mC:\\Users\\Alberto\\Anacondai\\lib\\site-packages\\IPython\\core\\magic.pyc\u001b[0m in \u001b[0;36m<lambda>\u001b[1;34m(f, *a, **k)\u001b[0m\n\u001b[0;32m    191\u001b[0m     \u001b[1;31m# but it's overkill for just that one bit of state.\u001b[0m\u001b[1;33m\u001b[0m\u001b[1;33m\u001b[0m\u001b[0m\n\u001b[0;32m    192\u001b[0m     \u001b[1;32mdef\u001b[0m \u001b[0mmagic_deco\u001b[0m\u001b[1;33m(\u001b[0m\u001b[0marg\u001b[0m\u001b[1;33m)\u001b[0m\u001b[1;33m:\u001b[0m\u001b[1;33m\u001b[0m\u001b[0m\n\u001b[1;32m--> 193\u001b[1;33m         \u001b[0mcall\u001b[0m \u001b[1;33m=\u001b[0m \u001b[1;32mlambda\u001b[0m \u001b[0mf\u001b[0m\u001b[1;33m,\u001b[0m \u001b[1;33m*\u001b[0m\u001b[0ma\u001b[0m\u001b[1;33m,\u001b[0m \u001b[1;33m**\u001b[0m\u001b[0mk\u001b[0m\u001b[1;33m:\u001b[0m \u001b[0mf\u001b[0m\u001b[1;33m(\u001b[0m\u001b[1;33m*\u001b[0m\u001b[0ma\u001b[0m\u001b[1;33m,\u001b[0m \u001b[1;33m**\u001b[0m\u001b[0mk\u001b[0m\u001b[1;33m)\u001b[0m\u001b[1;33m\u001b[0m\u001b[0m\n\u001b[0m\u001b[0;32m    194\u001b[0m \u001b[1;33m\u001b[0m\u001b[0m\n\u001b[0;32m    195\u001b[0m         \u001b[1;32mif\u001b[0m \u001b[0mcallable\u001b[0m\u001b[1;33m(\u001b[0m\u001b[0marg\u001b[0m\u001b[1;33m)\u001b[0m\u001b[1;33m:\u001b[0m\u001b[1;33m\u001b[0m\u001b[0m\n",
        "\u001b[1;32mC:\\Users\\Alberto\\Anacondai\\lib\\site-packages\\IPython\\core\\magics\\execution.pyc\u001b[0m in \u001b[0;36mtimeit\u001b[1;34m(self, line, cell)\u001b[0m\n\u001b[0;32m   1011\u001b[0m             \u001b[0mnumber\u001b[0m \u001b[1;33m=\u001b[0m \u001b[1;36m1\u001b[0m\u001b[1;33m\u001b[0m\u001b[0m\n\u001b[0;32m   1012\u001b[0m             \u001b[1;32mfor\u001b[0m \u001b[0m_\u001b[0m \u001b[1;32min\u001b[0m \u001b[0mrange\u001b[0m\u001b[1;33m(\u001b[0m\u001b[1;36m1\u001b[0m\u001b[1;33m,\u001b[0m \u001b[1;36m10\u001b[0m\u001b[1;33m)\u001b[0m\u001b[1;33m:\u001b[0m\u001b[1;33m\u001b[0m\u001b[0m\n\u001b[1;32m-> 1013\u001b[1;33m                 \u001b[1;32mif\u001b[0m \u001b[0mtimer\u001b[0m\u001b[1;33m.\u001b[0m\u001b[0mtimeit\u001b[0m\u001b[1;33m(\u001b[0m\u001b[0mnumber\u001b[0m\u001b[1;33m)\u001b[0m \u001b[1;33m>=\u001b[0m \u001b[1;36m0.2\u001b[0m\u001b[1;33m:\u001b[0m\u001b[1;33m\u001b[0m\u001b[0m\n\u001b[0m\u001b[0;32m   1014\u001b[0m                     \u001b[1;32mbreak\u001b[0m\u001b[1;33m\u001b[0m\u001b[0m\n\u001b[0;32m   1015\u001b[0m                 \u001b[0mnumber\u001b[0m \u001b[1;33m*=\u001b[0m \u001b[1;36m10\u001b[0m\u001b[1;33m\u001b[0m\u001b[0m\n",
        "\u001b[1;32mC:\\Users\\Alberto\\Anacondai\\lib\\timeit.pyc\u001b[0m in \u001b[0;36mtimeit\u001b[1;34m(self, number)\u001b[0m\n\u001b[0;32m    193\u001b[0m         \u001b[0mgc\u001b[0m\u001b[1;33m.\u001b[0m\u001b[0mdisable\u001b[0m\u001b[1;33m(\u001b[0m\u001b[1;33m)\u001b[0m\u001b[1;33m\u001b[0m\u001b[0m\n\u001b[0;32m    194\u001b[0m         \u001b[1;32mtry\u001b[0m\u001b[1;33m:\u001b[0m\u001b[1;33m\u001b[0m\u001b[0m\n\u001b[1;32m--> 195\u001b[1;33m             \u001b[0mtiming\u001b[0m \u001b[1;33m=\u001b[0m \u001b[0mself\u001b[0m\u001b[1;33m.\u001b[0m\u001b[0minner\u001b[0m\u001b[1;33m(\u001b[0m\u001b[0mit\u001b[0m\u001b[1;33m,\u001b[0m \u001b[0mself\u001b[0m\u001b[1;33m.\u001b[0m\u001b[0mtimer\u001b[0m\u001b[1;33m)\u001b[0m\u001b[1;33m\u001b[0m\u001b[0m\n\u001b[0m\u001b[0;32m    196\u001b[0m         \u001b[1;32mfinally\u001b[0m\u001b[1;33m:\u001b[0m\u001b[1;33m\u001b[0m\u001b[0m\n\u001b[0;32m    197\u001b[0m             \u001b[1;32mif\u001b[0m \u001b[0mgcold\u001b[0m\u001b[1;33m:\u001b[0m\u001b[1;33m\u001b[0m\u001b[0m\n",
        "\u001b[1;32m<magic-timeit>\u001b[0m in \u001b[0;36minner\u001b[1;34m(_it, _timer)\u001b[0m\n",
        "\u001b[1;32m<ipython-input-42-d9761d15084a>\u001b[0m in \u001b[0;36msolucion_rk4\u001b[1;34m(y0, t)\u001b[0m\n\u001b[0;32m      3\u001b[0m       \u001b[0my\u001b[0m\u001b[1;33m[\u001b[0m\u001b[1;36m0\u001b[0m\u001b[1;33m]\u001b[0m \u001b[1;33m=\u001b[0m \u001b[0my0\u001b[0m\u001b[1;33m\u001b[0m\u001b[0m\n\u001b[0;32m      4\u001b[0m       \u001b[1;32mfor\u001b[0m \u001b[0mj\u001b[0m \u001b[1;32min\u001b[0m \u001b[0mrange\u001b[0m\u001b[1;33m(\u001b[0m\u001b[0mN\u001b[0m\u001b[1;33m-\u001b[0m\u001b[1;36m1\u001b[0m\u001b[1;33m)\u001b[0m\u001b[1;33m:\u001b[0m\u001b[1;33m\u001b[0m\u001b[0m\n\u001b[1;32m----> 5\u001b[1;33m           \u001b[0my\u001b[0m\u001b[1;33m[\u001b[0m\u001b[0mj\u001b[0m\u001b[1;33m+\u001b[0m\u001b[1;36m1\u001b[0m\u001b[1;33m]\u001b[0m \u001b[1;33m=\u001b[0m \u001b[0mRK4\u001b[0m\u001b[1;33m(\u001b[0m\u001b[0my\u001b[0m\u001b[1;33m[\u001b[0m\u001b[0mj\u001b[0m\u001b[1;33m]\u001b[0m\u001b[1;33m,\u001b[0m \u001b[0mt\u001b[0m\u001b[1;33m[\u001b[0m\u001b[0mj\u001b[0m\u001b[1;33m]\u001b[0m\u001b[1;33m,\u001b[0m \u001b[0mdt\u001b[0m\u001b[1;33m,\u001b[0m \u001b[0mdinamica\u001b[0m\u001b[1;33m)\u001b[0m\u001b[1;33m\u001b[0m\u001b[0m\n\u001b[0m\u001b[0;32m      6\u001b[0m \u001b[1;33m\u001b[0m\u001b[0m\n\u001b[0;32m      7\u001b[0m \u001b[1;33m\u001b[0m\u001b[0m\n",
        "\u001b[1;32m<ipython-input-31-c9a7b2668bb7>\u001b[0m in \u001b[0;36mRK4\u001b[1;34m(y, t, dt, derivadas)\u001b[0m\n\u001b[0;32m      3\u001b[0m     \u001b[0mk1\u001b[0m \u001b[1;33m=\u001b[0m \u001b[0mdt\u001b[0m\u001b[1;33m*\u001b[0m\u001b[0mderivadas\u001b[0m\u001b[1;33m(\u001b[0m\u001b[0my\u001b[0m \u001b[1;33m+\u001b[0m \u001b[1;33m(\u001b[0m\u001b[1;36m1\u001b[0m\u001b[1;33m/\u001b[0m\u001b[1;36m2\u001b[0m\u001b[1;33m)\u001b[0m\u001b[1;33m*\u001b[0m\u001b[0mk0\u001b[0m\u001b[1;33m,\u001b[0m \u001b[0mt\u001b[0m \u001b[1;33m+\u001b[0m \u001b[1;33m(\u001b[0m\u001b[1;36m1\u001b[0m\u001b[1;33m/\u001b[0m\u001b[1;36m2\u001b[0m\u001b[1;33m)\u001b[0m\u001b[1;33m*\u001b[0m\u001b[0mdt\u001b[0m\u001b[1;33m)\u001b[0m\u001b[1;33m\u001b[0m\u001b[0m\n\u001b[0;32m      4\u001b[0m     \u001b[0mk2\u001b[0m \u001b[1;33m=\u001b[0m \u001b[0mdt\u001b[0m\u001b[1;33m*\u001b[0m\u001b[0mderivadas\u001b[0m\u001b[1;33m(\u001b[0m\u001b[0my\u001b[0m \u001b[1;33m+\u001b[0m \u001b[1;33m(\u001b[0m\u001b[1;36m1\u001b[0m\u001b[1;33m/\u001b[0m\u001b[1;36m2\u001b[0m\u001b[1;33m)\u001b[0m\u001b[1;33m*\u001b[0m\u001b[0mk1\u001b[0m\u001b[1;33m,\u001b[0m \u001b[0mt\u001b[0m \u001b[1;33m+\u001b[0m \u001b[1;33m(\u001b[0m\u001b[1;36m1\u001b[0m\u001b[1;33m/\u001b[0m\u001b[1;36m2\u001b[0m\u001b[1;33m)\u001b[0m\u001b[1;33m*\u001b[0m\u001b[0mdt\u001b[0m\u001b[1;33m)\u001b[0m\u001b[1;33m\u001b[0m\u001b[0m\n\u001b[1;32m----> 5\u001b[1;33m     \u001b[0mk3\u001b[0m \u001b[1;33m=\u001b[0m \u001b[0mdt\u001b[0m\u001b[1;33m*\u001b[0m\u001b[0mderivadas\u001b[0m\u001b[1;33m(\u001b[0m\u001b[0my\u001b[0m \u001b[1;33m+\u001b[0m \u001b[0mk3\u001b[0m\u001b[1;33m,\u001b[0m \u001b[0mt\u001b[0m \u001b[1;33m+\u001b[0m \u001b[0mdt\u001b[0m\u001b[1;33m)\u001b[0m\u001b[1;33m\u001b[0m\u001b[0m\n\u001b[0m\u001b[0;32m      6\u001b[0m     \u001b[0my_next\u001b[0m \u001b[1;33m=\u001b[0m \u001b[0my\u001b[0m \u001b[1;33m+\u001b[0m \u001b[1;33m(\u001b[0m\u001b[1;36m1\u001b[0m\u001b[1;33m/\u001b[0m\u001b[1;36m6\u001b[0m\u001b[1;33m)\u001b[0m\u001b[1;33m*\u001b[0m\u001b[1;33m(\u001b[0m\u001b[0mk0\u001b[0m \u001b[1;33m+\u001b[0m \u001b[0mk1\u001b[0m \u001b[1;33m+\u001b[0m \u001b[0mk2\u001b[0m \u001b[1;33m+\u001b[0m \u001b[0mk3\u001b[0m\u001b[1;33m)\u001b[0m\u001b[1;33m\u001b[0m\u001b[0m\n\u001b[0;32m      7\u001b[0m     \u001b[1;32mreturn\u001b[0m \u001b[0my_next\u001b[0m\u001b[1;33m\u001b[0m\u001b[0m\n",
        "\u001b[1;31mUnboundLocalError\u001b[0m: local variable 'k3' referenced before assignment"
       ]
      }
     ],
     "prompt_number": 42
    },
    {
     "cell_type": "code",
     "collapsed": false,
     "input": [],
     "language": "python",
     "metadata": {},
     "outputs": []
    },
    {
     "cell_type": "code",
     "collapsed": false,
     "input": [],
     "language": "python",
     "metadata": {},
     "outputs": []
    },
    {
     "cell_type": "heading",
     "level": 2,
     "metadata": {},
     "source": [
      "Problema 3"
     ]
    },
    {
     "cell_type": "markdown",
     "metadata": {},
     "source": [
      "(a) Calcular el valor de $\\pi$ usando m\u00e9todos de Monte Carlo.\n",
      "\n",
      "(b) El \"volumen\" de una 2-esfera (un c\u00edrculo)   $x^2 + y^2 = r^2$ es \n",
      "\n",
      "$$\\pi r^2$$,\n",
      "\n",
      "el volumen de la 3-esfera $x^2 + y^2 + z^2 = r^2$ es \n",
      "\n",
      "\n",
      "$$\\frac{4}{3} \\pi r^3$$. \n",
      "\n",
      "\n",
      "La 4-esfera $x^2 + y^2 + z^2 + w^2 = r^2$, podemos suponer (usando los ejemplos anteriores) que el hipervolumen de la 4-esfera es \n",
      "\n",
      "$$\\alpha\\pi r^4$$. \n",
      "\n",
      "\n",
      "Usando t\u00e9cnicas de Monte Carlo estima $\\alpha$."
     ]
    },
    {
     "cell_type": "code",
     "collapsed": false,
     "input": [
      "import random\n",
      "\n",
      "def MonteCarlo(n=10000000):\n",
      "    k = 0\n",
      "    for i in range(n):\n",
      "        x = random.random()\n",
      "        y = random.random()\n",
      "        \n",
      "        if (x ** 2 + y ** 2 <= 1):\n",
      "            k = k + 1\n",
      "            return (4 * float(k) / n)\n",
      "\n",
      "print (MonteCarlo())\n"
     ],
     "language": "python",
     "metadata": {},
     "outputs": [
      {
       "output_type": "stream",
       "stream": "stdout",
       "text": [
        "4e-07\n"
       ]
      }
     ],
     "prompt_number": 43
    },
    {
     "cell_type": "code",
     "collapsed": false,
     "input": [
      "import math"
     ],
     "language": "python",
     "metadata": {},
     "outputs": [],
     "prompt_number": 44
    },
    {
     "cell_type": "code",
     "collapsed": false,
     "input": [
      "def alpha(n):\n",
      "    if (n%2==0):\n",
      "        f=n-1\n",
      "        if f==1:\n",
      "            alpha=1/((f)*math.factorial(f-1))\n",
      "            print alpha\n",
      "            else:\n",
      "                alpha=1/((f-1)*math.factorial(f-2))\n",
      "                print alpha\n",
      "                else:\n",
      "                    fact=0\n",
      "                    if (n>0):\n",
      "                        while n>0:\n",
      "                            m=n-2\n",
      "                            fact=fact*n*m\n",
      "                            n=m\n",
      "                            return fact\n",
      "                        else:\n",
      "                            fact=fact+1\n",
      "                            return fact \n",
      "                        alpha=(math.sqrt(math.pi))*(fact/(2**((n+1)/2)))\n",
      "print alpha"
     ],
     "language": "python",
     "metadata": {},
     "outputs": [
      {
       "ename": "SyntaxError",
       "evalue": "invalid syntax (<ipython-input-45-f7d73ec66343>, line 7)",
       "output_type": "pyerr",
       "traceback": [
        "\u001b[1;36m  File \u001b[1;32m\"<ipython-input-45-f7d73ec66343>\"\u001b[1;36m, line \u001b[1;32m7\u001b[0m\n\u001b[1;33m    else:\u001b[0m\n\u001b[1;37m       ^\u001b[0m\n\u001b[1;31mSyntaxError\u001b[0m\u001b[1;31m:\u001b[0m invalid syntax\n"
       ]
      }
     ],
     "prompt_number": 45
    },
    {
     "cell_type": "code",
     "collapsed": false,
     "input": [],
     "language": "python",
     "metadata": {},
     "outputs": []
    }
   ],
   "metadata": {}
  }
 ]
}