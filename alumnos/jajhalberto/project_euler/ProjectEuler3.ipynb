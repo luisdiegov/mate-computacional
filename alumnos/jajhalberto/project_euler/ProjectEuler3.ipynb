{
 "metadata": {
  "name": "",
  "signature": "sha256:8c2b1954b715cec051909ae9f054a563125f5c3c58b99608085ad9c8c8e6cf23"
 },
 "nbformat": 3,
 "nbformat_minor": 0,
 "worksheets": [
  {
   "cells": [
    {
     "cell_type": "heading",
     "level": 1,
     "metadata": {},
     "source": [
      "\"El primo mayor\""
     ]
    },
    {
     "cell_type": "markdown",
     "metadata": {},
     "source": [
      "Los factores primos de 13195 son 5,7,13 y 29"
     ]
    },
    {
     "cell_type": "markdown",
     "metadata": {},
     "source": [
      "\u00bfc\u00faal es el \"primo mayor\" de 600851475143?"
     ]
    },
    {
     "cell_type": "code",
     "collapsed": false,
     "input": [
      "n=600851475143\n",
      "i=2\n",
      "while i*i<n:\n",
      "    while n%i==0:\n",
      "        n=n/i\n",
      "        i=i+1\n",
      "        print n\n",
      "        "
     ],
     "language": "python",
     "metadata": {},
     "outputs": []
    },
    {
     "cell_type": "code",
     "collapsed": false,
     "input": [],
     "language": "python",
     "metadata": {},
     "outputs": []
    }
   ],
   "metadata": {}
  }
 ]
}