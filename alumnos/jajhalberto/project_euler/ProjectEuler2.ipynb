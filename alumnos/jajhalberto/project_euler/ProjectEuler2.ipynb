{
 "metadata": {
  "name": "",
  "signature": "sha256:718ad53f868fe7d797d2ca50c6fc0cfa86097483dd6eb6ffc4f119797be856c7"
 },
 "nbformat": 3,
 "nbformat_minor": 0,
 "worksheets": [
  {
   "cells": [
    {
     "cell_type": "heading",
     "level": 1,
     "metadata": {},
     "source": [
      "N\u00fameros pares en la sucesi\u00f3n de Fibonacci"
     ]
    },
    {
     "cell_type": "markdown",
     "metadata": {},
     "source": [
      "Cada t\u00e9rmino en la suceci\u00f3n de Fibonacci es generado sumando los dos t\u00e9rminos anteriores."
     ]
    },
    {
     "cell_type": "markdown",
     "metadata": {},
     "source": [
      "Si iniciamos con 1 y 2, los primeros 10 t\u00e9rminos son:\n"
     ]
    },
    {
     "cell_type": "markdown",
     "metadata": {},
     "source": [
      "1,2,3,5,8,13,21,34,55,89"
     ]
    },
    {
     "cell_type": "markdown",
     "metadata": {},
     "source": [
      "Encuentra la suma de todos los pares en la sucesi\u00f3n menores a cuatro millones."
     ]
    },
    {
     "cell_type": "code",
     "collapsed": false,
     "input": [
      "cache = {}\n",
      "def fibo(n):\n",
      "    cache[n]=cache.get(n,0) or (n<=1 and 1 or fibo(n-1)+fibo(n-2))\n",
      "    return cache[n]\n",
      "\n",
      "n=0\n",
      "i=0\n",
      "while fibo(i)<=4000000:\n",
      "    if fibo(i)%2==0: \n",
      "        n = n+fibo(i)\n",
      "        i = i + 1\n",
      "        \n",
      "        print n"
     ],
     "language": "python",
     "metadata": {},
     "outputs": []
    },
    {
     "cell_type": "code",
     "collapsed": false,
     "input": [],
     "language": "python",
     "metadata": {},
     "outputs": []
    },
    {
     "cell_type": "code",
     "collapsed": false,
     "input": [],
     "language": "python",
     "metadata": {},
     "outputs": []
    },
    {
     "cell_type": "code",
     "collapsed": false,
     "input": [],
     "language": "python",
     "metadata": {},
     "outputs": [],
     "prompt_number": 12
    },
    {
     "cell_type": "code",
     "collapsed": false,
     "input": [],
     "language": "python",
     "metadata": {},
     "outputs": []
    }
   ],
   "metadata": {}
  }
 ]
}