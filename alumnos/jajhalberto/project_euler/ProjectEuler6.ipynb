{
 "metadata": {
  "name": "",
  "signature": "sha256:bd19bcd7a4c888e63e7a01040f5d7d4f9c8b792a81bb43970626da933f6beda1"
 },
 "nbformat": 3,
 "nbformat_minor": 0,
 "worksheets": [
  {
   "cells": [
    {
     "cell_type": "markdown",
     "metadata": {},
     "source": [
      "Problem 6: Sum square difference"
     ]
    },
    {
     "cell_type": "markdown",
     "metadata": {},
     "source": [
      "La suma de los cuadrados de los primeros n\u00fameros naturales es\n",
      "\n",
      "1^2+2^2+. . .+10^2=385\n",
      "\n",
      "La suma de los cuadrados de los primeros 10 n\u00fameros naturales es \n",
      "\n",
      "(1+2+3+4+5+6+7+8+9+10)^2=55^2\n",
      "                        =3025\n",
      "                        \n",
      "                        \n",
      "Por lo tanto la diferencia entre la suma de los cuadrados de los primeros n\u00fameros naturales y el cuadrado de la suma de los primeros n\u00fameros naturales es 3025-385 = 2640\n",
      "\n",
      "Encuentra la diferencia entre la suma de los cuadrados de los primeros 100 n\u00fameros naturales y el cuadrado de la suma "
     ]
    },
    {
     "cell_type": "code",
     "collapsed": false,
     "input": [
      "z=xrange(1,11)\n",
      "s=sum(z)\n",
      "print s*s-sum(j*j for j in z)"
     ],
     "language": "python",
     "metadata": {},
     "outputs": [
      {
       "output_type": "stream",
       "stream": "stdout",
       "text": [
        "2640\n"
       ]
      }
     ],
     "prompt_number": 16
    },
    {
     "cell_type": "code",
     "collapsed": false,
     "input": [
      "z=xrange(1,101)\n",
      "s=sum(z)\n",
      "print s*s-sum(j*j for j in z)"
     ],
     "language": "python",
     "metadata": {},
     "outputs": [
      {
       "output_type": "stream",
       "stream": "stdout",
       "text": [
        "25164150\n"
       ]
      }
     ],
     "prompt_number": 19
    },
    {
     "cell_type": "code",
     "collapsed": false,
     "input": [],
     "language": "python",
     "metadata": {},
     "outputs": []
    },
    {
     "cell_type": "code",
     "collapsed": false,
     "input": [],
     "language": "python",
     "metadata": {},
     "outputs": []
    }
   ],
   "metadata": {}
  }
 ]
}