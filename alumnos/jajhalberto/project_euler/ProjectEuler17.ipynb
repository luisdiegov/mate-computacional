{
 "metadata": {
  "name": "",
  "signature": "sha256:be879fc4e97be85a0fef7bf7e15e747d8a85bf854d5a8850dea3853a0675f6ad"
 },
 "nbformat": 3,
 "nbformat_minor": 0,
 "worksheets": [
  {
   "cells": [
    {
     "cell_type": "heading",
     "level": 1,
     "metadata": {},
     "source": [
      "Numbert letter counts"
     ]
    },
    {
     "cell_type": "heading",
     "level": 2,
     "metadata": {},
     "source": [
      "Problema 17"
     ]
    },
    {
     "cell_type": "markdown",
     "metadata": {},
     "source": [
      "*Dada la dependencia en el idioma que tiene este problema, se resolver\u00e1 en ingl\u00e9s"
     ]
    },
    {
     "cell_type": "markdown",
     "metadata": {},
     "source": [
      "If the numbers 1 to 5 are written out in words: one, two, three, four,five, then there are $$ 3+3+5+4+4=19 $$ letters used in total."
     ]
    },
    {
     "cell_type": "markdown",
     "metadata": {},
     "source": [
      "If all the numbers from 1 to 1000 inclusive were written out in wors, how many letters would be used?"
     ]
    },
    {
     "cell_type": "markdown",
     "metadata": {},
     "source": [
      "Primero necesitamos definir una lista de los n\u00fameros (en letra) que necesitamos para definir todos los n\u00fameros: puede verse como una \"base\""
     ]
    },
    {
     "cell_type": "code",
     "collapsed": false,
     "input": [
      "numletter=[(   1,  'one'      , ''     ),\n",
      "     (   2,  'two'      , ''     ),\n",
      "     (   3,  'three'    , ''     ),\n",
      "     (   4,  'four'     , ''     ),\n",
      "     (   5,  'five'     , ''     ),\n",
      "     (   6,  'six'      , ''     ),\n",
      "     (   7,  'seven'    , ''     ),\n",
      "     (   8,  'eight'    , ''     ),\n",
      "     (   9,  'nine'     , ''     ),\n",
      "     (  10,  'ten'      , ''     ),\n",
      "     (  11,  'eleven'   , ''     ),\n",
      "     (  12,  'twelve'   , ''     ),\n",
      "     (  13,  'thirteen' , ''     ),\n",
      "     (  14,  'fourteen' , ''     ),\n",
      "     (  15,  'fifteen'  , ''     ),\n",
      "     (  16,  'sixteen'  , ''     ),\n",
      "     (  17,  'seventeen', ''     ),\n",
      "     (  18,  'eighteen' , ''     ),\n",
      "     (  19,  'nineteen' , ''     ),\n",
      "     (  20,  'twenty'   , ''     ),\n",
      "     (  30,  'thirty'   , ''     ),\n",
      "     (  40,  'forty'    , ''     ),\n",
      "     (  50,  'fifty'    , ''     ),\n",
      "     (  60,  'sixty'    , ''     ),\n",
      "     (  70,  'seventy'  , ''     ),\n",
      "     (  80,  'eighty'   , ''     ),\n",
      "     (  90,  'ninety'   , ''     ),\n",
      "     ( 100,  'hundred'  , 'and'  ),\n",
      "     (1000,  'thousand' , 'and'  ) ]\n"
     ],
     "language": "python",
     "metadata": {},
     "outputs": [],
     "prompt_number": 72
    },
    {
     "cell_type": "code",
     "collapsed": false,
     "input": [
      "numletter.reverse()"
     ],
     "language": "python",
     "metadata": {},
     "outputs": [],
     "prompt_number": 73
    },
    {
     "cell_type": "code",
     "collapsed": false,
     "input": [
      "def nletter(n,numletter):\n",
      "    numword=[]\n",
      "    while n>0:\n",
      "        for m in numletter:\n",
      "            if m[0]<=n:\n",
      "               d=n/m[0]\n",
      "               n=n%m[0]\n",
      "               if m[2]:numword.append(' '.join(nletter(d,numletter)))\n",
      "               numword.append(m[1])\n",
      "               if m[2] and n:numword.append(m[2])\n",
      "               break\n",
      "    return numword\n",
      "\n",
      "\n"
     ],
     "language": "python",
     "metadata": {},
     "outputs": [],
     "prompt_number": 79
    },
    {
     "cell_type": "code",
     "collapsed": false,
     "input": [
      "print sum(len(numword) for n in xrange(1,1001) for numword in nletter(n,numletter))"
     ],
     "language": "python",
     "metadata": {},
     "outputs": [
      {
       "output_type": "stream",
       "stream": "stdout",
       "text": [
        "21124\n"
       ]
      }
     ],
     "prompt_number": 80
    },
    {
     "cell_type": "code",
     "collapsed": false,
     "input": [],
     "language": "python",
     "metadata": {},
     "outputs": []
    },
    {
     "cell_type": "code",
     "collapsed": false,
     "input": [],
     "language": "python",
     "metadata": {},
     "outputs": []
    },
    {
     "cell_type": "code",
     "collapsed": false,
     "input": [],
     "language": "python",
     "metadata": {},
     "outputs": []
    },
    {
     "cell_type": "code",
     "collapsed": false,
     "input": [],
     "language": "python",
     "metadata": {},
     "outputs": []
    }
   ],
   "metadata": {}
  }
 ]
}