{
 "metadata": {
  "name": "",
  "signature": "sha256:3cc9605c4c14cc3922afa47a735e91587fca8e389a9f0e2f99ad6e37177673c3"
 },
 "nbformat": 3,
 "nbformat_minor": 0,
 "worksheets": [
  {
   "cells": [
    {
     "cell_type": "heading",
     "level": 1,
     "metadata": {},
     "source": [
      "M\u00faltiplos del 3 y 5"
     ]
    },
    {
     "cell_type": "markdown",
     "metadata": {},
     "source": [
      "Si listamos todos los m\u00faltiplos del 3 y del 5 menores que 10 tenemos 3,5,6, 9 y su suma es 23. \n",
      "Encuentra la suma de todos los m\u00faltiplos de 3 y 5 menores que 1000."
     ]
    },
    {
     "cell_type": "code",
     "collapsed": false,
     "input": [
      "n=0\n",
      "\n",
      "for i in xrange(1,1000):\n",
      "    if i%5==0 or i%3==0:\n",
      "        n=n+i\n",
      "        \n",
      "   "
     ],
     "language": "python",
     "metadata": {},
     "outputs": [],
     "prompt_number": 2
    },
    {
     "cell_type": "code",
     "collapsed": false,
     "input": [
      "print n"
     ],
     "language": "python",
     "metadata": {},
     "outputs": [
      {
       "output_type": "stream",
       "stream": "stdout",
       "text": [
        "233168\n"
       ]
      }
     ],
     "prompt_number": 3
    },
    {
     "cell_type": "code",
     "collapsed": false,
     "input": [],
     "language": "python",
     "metadata": {},
     "outputs": []
    }
   ],
   "metadata": {}
  }
 ]
}