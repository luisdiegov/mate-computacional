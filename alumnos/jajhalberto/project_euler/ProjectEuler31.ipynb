{
 "metadata": {
  "name": "",
  "signature": "sha256:34efb1f9f68fdc46a2087d2796de56e11139c5c7e3f5c1345112f9475e223894"
 },
 "nbformat": 3,
 "nbformat_minor": 0,
 "worksheets": [
  {
   "cells": [
    {
     "cell_type": "heading",
     "level": 1,
     "metadata": {},
     "source": [
      "Suma de Monedas"
     ]
    },
    {
     "cell_type": "raw",
     "metadata": {},
     "source": [
      "Problema 31"
     ]
    },
    {
     "cell_type": "markdown",
     "metadata": {},
     "source": [
      "La moneda inglesa est\u00e1 se compone de libras y pe\u00f1iques.\n",
      "Existen 8 monedas en circulaci\u00f3n:\n",
      "1p,2p,5p,10p,20p,50p,\u00a31 (100p) and \u00a32 (200p).\n",
      "\n",
      "Es posible escribir a \u00a32 de la siguiente manera:\n",
      "\n",
      "1\u00d7\u00a31 + 1\u00d750p + 2\u00d720p + 1\u00d75p + 1\u00d72p + 3\u00d71p\n",
      "\n",
      "\u00bfDe cu\u00e1ntas formas distintas se puede escribir \u00a32 utilizando pe\u00f1iques?\n",
      "\n",
      "\n"
     ]
    },
    {
     "cell_type": "code",
     "collapsed": false,
     "input": [
      "\n",
      "monedas=(1,2,5,10,20,50,100,200)\n",
      "def total(p):return sum(monedas[x]*p[x] for x in xrange(0,len(p)))\n",
      "\n",
      "def funcion(p,nummoneda,num):\n",
      "    mon=monedas[nummoneda]\n",
      "    for q in xrange(0,num/mon + 1):\n",
      "        nq=p[:nummoneda] + (q,)\n",
      "        tot=total(nq)\n",
      "        if tot>num:return\n",
      "        elif tot==num:yield nq\n",
      "        elif nummoneda<len(monedas)-1:\n",
      "            for r in funcion(nq,nummoneda+1,num):\n",
      "                yield r\n",
      "                \n",
      "                \n",
      "print sum(1 for r in funcion((),0,200))"
     ],
     "language": "python",
     "metadata": {},
     "outputs": [
      {
       "output_type": "stream",
       "stream": "stdout",
       "text": [
        "73682\n"
       ]
      }
     ],
     "prompt_number": 18
    },
    {
     "cell_type": "code",
     "collapsed": false,
     "input": [],
     "language": "python",
     "metadata": {},
     "outputs": []
    }
   ],
   "metadata": {}
  }
 ]
}