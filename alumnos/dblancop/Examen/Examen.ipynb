{
 "metadata": {
  "name": "",
  "signature": "sha256:7935f9a9b65565588959449eb73a8182b625168ea11f6625850bd04e2ee0471d"
 },
 "nbformat": 3,
 "nbformat_minor": 0,
 "worksheets": [
  {
   "cells": [
    {
     "cell_type": "markdown",
     "metadata": {},
     "source": [
      "Crea un programa en python o GNU Octave imprima todos los n\u00fameros que se pueden almacenar en 8 bits (ver ejercicio anterior)."
     ]
    },
    {
     "cell_type": "code",
     "collapsed": false,
     "input": [
      "%matplotlib inline\n",
      "import numpy as np\n",
      "import matplotlib.pyplot as plt\n",
      "\n"
     ],
     "language": "python",
     "metadata": {},
     "outputs": [],
     "prompt_number": 1
    },
    {
     "cell_type": "code",
     "collapsed": false,
     "input": [
      "\n",
      "for i in range (-128,127):\n",
      "    \n",
      "  print  bin(i),i,float(i)\n",
      "    \n",
      "    "
     ],
     "language": "python",
     "metadata": {},
     "outputs": [
      {
       "output_type": "stream",
       "stream": "stdout",
       "text": [
        "-0b10000000 -128 -128.0\n",
        "-0b1111111 -127 -127.0\n",
        "-0b1111110 -126 -126.0\n",
        "-0b1111101 -125 -125.0\n",
        "-0b1111100 -124 -124.0\n",
        "-0b1111011 -123 -123.0\n",
        "-0b1111010 -122 -122.0\n",
        "-0b1111001 -121 -121.0\n",
        "-0b1111000 -120 -120.0\n",
        "-0b1110111 -119 -119.0\n",
        "-0b1110110 -118 -118.0\n",
        "-0b1110101 -117 -117.0\n",
        "-0b1110100 -116 -116.0\n",
        "-0b1110011 -115 -115.0\n",
        "-0b1110010 -114 -114.0\n",
        "-0b1110001 -113 -113.0\n",
        "-0b1110000 -112 -112.0\n",
        "-0b1101111 -111 -111.0\n",
        "-0b1101110 -110 -110.0\n",
        "-0b1101101 -109 -109.0\n",
        "-0b1101100 -108 -108.0\n",
        "-0b1101011 -107 -107.0\n",
        "-0b1101010 -106 -106.0\n",
        "-0b1101001 -105 -105.0\n",
        "-0b1101000 -104 -104.0\n",
        "-0b1100111 -103 -103.0\n",
        "-0b1100110 -102 -102.0\n",
        "-0b1100101 -101 -101.0\n",
        "-0b1100100 -100 -100.0\n",
        "-0b1100011 -99 -99.0\n",
        "-0b1100010 -98 -98.0\n",
        "-0b1100001 -97 -97.0\n",
        "-0b1100000 -96 -96.0\n",
        "-0b1011111 -95 -95.0\n",
        "-0b1011110 -94 -94.0\n",
        "-0b1011101 -93 -93.0\n",
        "-0b1011100 -92 -92.0\n",
        "-0b1011011 -91 -91.0\n",
        "-0b1011010 -90 -90.0\n",
        "-0b1011001 -89 -89.0\n",
        "-0b1011000 -88 -88.0\n",
        "-0b1010111 -87 -87.0\n",
        "-0b1010110 -86 -86.0\n",
        "-0b1010101 -85 -85.0\n",
        "-0b1010100 -84 -84.0\n",
        "-0b1010011 -83 -83.0\n",
        "-0b1010010 -82 -82.0\n",
        "-0b1010001 -81 -81.0\n",
        "-0b1010000 -80 -80.0\n",
        "-0b1001111 -79 -79.0\n",
        "-0b1001110 -78 -78.0\n",
        "-0b1001101 -77 -77.0\n",
        "-0b1001100 -76 -76.0\n",
        "-0b1001011 -75 -75.0\n",
        "-0b1001010 -74 -74.0\n",
        "-0b1001001 -73 -73.0\n",
        "-0b1001000 -72 -72.0\n",
        "-0b1000111 -71 -71.0\n",
        "-0b1000110 -70 -70.0\n",
        "-0b1000101 -69 -69.0\n",
        "-0b1000100 -68 -68.0\n",
        "-0b1000011 -67 -67.0\n",
        "-0b1000010 -66 -66.0\n",
        "-0b1000001 -65 -65.0\n",
        "-0b1000000 -64 -64.0\n",
        "-0b111111 -63 -63.0\n",
        "-0b111110 -62 -62.0\n",
        "-0b111101 -61 -61.0\n",
        "-0b111100 -60 -60.0\n",
        "-0b111011 -59 -59.0\n",
        "-0b111010 -58 -58.0\n",
        "-0b111001 -57 -57.0\n",
        "-0b111000 -56 -56.0\n",
        "-0b110111 -55 -55.0\n",
        "-0b110110 -54 -54.0\n",
        "-0b110101 -53 -53.0\n",
        "-0b110100 -52 -52.0\n",
        "-0b110011 -51 -51.0\n",
        "-0b110010 -50 -50.0\n",
        "-0b110001 -49 -49.0\n",
        "-0b110000 -48 -48.0\n",
        "-0b101111 -47 -47.0\n",
        "-0b101110 -46 -46.0\n",
        "-0b101101 -45 -45.0\n",
        "-0b101100 -44 -44.0\n",
        "-0b101011 -43 -43.0\n",
        "-0b101010 -42 -42.0\n",
        "-0b101001 -41 -41.0\n",
        "-0b101000 -40 -40.0\n",
        "-0b100111 -39 -39.0\n",
        "-0b100110 -38 -38.0\n",
        "-0b100101 -37 -37.0\n",
        "-0b100100 -36 -36.0\n",
        "-0b100011 -35 -35.0\n",
        "-0b100010 -34 -34.0\n",
        "-0b100001 -33 -33.0\n",
        "-0b100000 -32 -32.0\n",
        "-0b11111 -31 -31.0\n",
        "-0b11110 -30 -30.0\n",
        "-0b11101 -29 -29.0\n",
        "-0b11100 -28 -28.0\n",
        "-0b11011 -27 -27.0\n",
        "-0b11010 -26 -26.0\n",
        "-0b11001 -25 -25.0\n",
        "-0b11000 -24 -24.0\n",
        "-0b10111 -23 -23.0\n",
        "-0b10110 -22 -22.0\n",
        "-0b10101 -21 -21.0\n",
        "-0b10100 -20 -20.0\n",
        "-0b10011 -19 -19.0\n",
        "-0b10010 -18 -18.0\n",
        "-0b10001 -17 -17.0\n",
        "-0b10000 -16 -16.0\n",
        "-0b1111 -15 -15.0\n",
        "-0b1110 -14 -14.0\n",
        "-0b1101 -13 -13.0\n",
        "-0b1100 -12 -12.0\n",
        "-0b1011 -11 -11.0\n",
        "-0b1010 -10 -10.0\n",
        "-0b1001 -9 -9.0\n",
        "-0b1000 -8 -8.0\n",
        "-0b111 -7 -7.0\n",
        "-0b110 -6 -6.0\n",
        "-0b101 -5 -5.0\n",
        "-0b100 -4 -4.0\n",
        "-0b11 -3 -3.0\n",
        "-0b10 -2 -2.0\n",
        "-0b1 -1 -1.0\n",
        "0b0 0 0.0\n",
        "0b1 1 1.0\n",
        "0b10 2 2.0\n",
        "0b11 3 3.0\n",
        "0b100 4 4.0\n",
        "0b101 5 5.0\n",
        "0b110 6 6.0\n",
        "0b111 7 7.0\n",
        "0b1000 8 8.0\n",
        "0b1001 9 9.0\n",
        "0b1010 10 10.0\n",
        "0b1011 11 11.0\n",
        "0b1100 12 12.0\n",
        "0b1101 13 13.0\n",
        "0b1110 14 14.0\n",
        "0b1111 15 15.0\n",
        "0b10000 16 16.0\n",
        "0b10001 17 17.0\n",
        "0b10010 18 18.0\n",
        "0b10011 19 19.0\n",
        "0b10100 20 20.0\n",
        "0b10101 21 21.0\n",
        "0b10110 22 22.0\n",
        "0b10111 23 23.0\n",
        "0b11000 24 24.0\n",
        "0b11001 25 25.0\n",
        "0b11010 26 26.0\n",
        "0b11011 27 27.0\n",
        "0b11100 28 28.0\n",
        "0b11101 29 29.0\n",
        "0b11110 30 30.0\n",
        "0b11111 31 31.0\n",
        "0b100000 32 32.0\n",
        "0b100001 33 33.0\n",
        "0b100010 34 34.0\n",
        "0b100011 35 35.0\n",
        "0b100100 36 36.0\n",
        "0b100101 37 37.0\n",
        "0b100110 38 38.0\n",
        "0b100111 39 39.0\n",
        "0b101000 40 40.0\n",
        "0b101001 41 41.0\n",
        "0b101010 42 42.0\n",
        "0b101011 43 43.0\n",
        "0b101100 44 44.0\n",
        "0b101101 45 45.0\n",
        "0b101110 46 46.0\n",
        "0b101111 47 47.0\n",
        "0b110000 48 48.0\n",
        "0b110001 49 49.0\n",
        "0b110010 50 50.0\n",
        "0b110011 51 51.0\n",
        "0b110100 52 52.0\n",
        "0b110101 53 53.0\n",
        "0b110110 54 54.0\n",
        "0b110111 55 55.0\n",
        "0b111000 56 56.0\n",
        "0b111001 57 57.0\n",
        "0b111010 58 58.0\n",
        "0b111011 59 59.0\n",
        "0b111100 60 60.0\n",
        "0b111101 61 61.0\n",
        "0b111110 62 62.0\n",
        "0b111111 63 63.0\n",
        "0b1000000 64 64.0\n",
        "0b1000001 65 65.0\n",
        "0b1000010 66 66.0\n",
        "0b1000011 67 67.0\n",
        "0b1000100 68 68.0\n",
        "0b1000101 69 69.0\n",
        "0b1000110 70 70.0\n",
        "0b1000111 71 71.0\n",
        "0b1001000 72 72.0\n",
        "0b1001001 73 73.0\n",
        "0b1001010 74 74.0\n",
        "0b1001011 75 75.0\n",
        "0b1001100 76 76.0\n",
        "0b1001101 77 77.0\n",
        "0b1001110 78 78.0\n",
        "0b1001111 79 79.0\n",
        "0b1010000 80 80.0\n",
        "0b1010001 81 81.0\n",
        "0b1010010 82 82.0\n",
        "0b1010011 83 83.0\n",
        "0b1010100 84 84.0\n",
        "0b1010101 85 85.0\n",
        "0b1010110 86 86.0\n",
        "0b1010111 87 87.0\n",
        "0b1011000 88 88.0\n",
        "0b1011001 89 89.0\n",
        "0b1011010 90 90.0\n",
        "0b1011011 91 91.0\n",
        "0b1011100 92 92.0\n",
        "0b1011101 93 93.0\n",
        "0b1011110 94 94.0\n",
        "0b1011111 95 95.0\n",
        "0b1100000 96 96.0\n",
        "0b1100001 97 97.0\n",
        "0b1100010 98 98.0\n",
        "0b1100011 99 99.0\n",
        "0b1100100 100 100.0\n",
        "0b1100101 101 101.0\n",
        "0b1100110 102 102.0\n",
        "0b1100111 103 103.0\n",
        "0b1101000 104 104.0\n",
        "0b1101001 105 105.0\n",
        "0b1101010 106 106.0\n",
        "0b1101011 107 107.0\n",
        "0b1101100 108 108.0\n",
        "0b1101101 109 109.0\n",
        "0b1101110 110 110.0\n",
        "0b1101111 111 111.0\n",
        "0b1110000 112 112.0\n",
        "0b1110001 113 113.0\n",
        "0b1110010 114 114.0\n",
        "0b1110011 115 115.0\n",
        "0b1110100 116 116.0\n",
        "0b1110101 117 117.0\n",
        "0b1110110 118 118.0\n",
        "0b1110111 119 119.0\n",
        "0b1111000 120 120.0\n",
        "0b1111001 121 121.0\n",
        "0b1111010 122 122.0\n",
        "0b1111011 123 123.0\n",
        "0b1111100 124 124.0\n",
        "0b1111101 125 125.0\n",
        "0b1111110 126 126.0\n"
       ]
      }
     ],
     "prompt_number": 37
    },
    {
     "cell_type": "markdown",
     "metadata": {},
     "source": [
      "Grafica el n\u00famero de d\u00edgitos en un `b\u00ednade` usando un histograma."
     ]
    },
    {
     "cell_type": "code",
     "collapsed": false,
     "input": [
      "c=0\n",
      "for i in range(2**3,2**4):\n",
      "    \n",
      "    c=c+len(bin(i))-2\n",
      "    \n",
      "    print i,len(bin(i))-2,c\n",
      "\n",
      "    "
     ],
     "language": "python",
     "metadata": {},
     "outputs": [
      {
       "output_type": "stream",
       "stream": "stdout",
       "text": [
        "8 4 4\n",
        "9 4 8\n",
        "10 4 12\n",
        "11 4 16\n",
        "12 4 20\n",
        "13 4 24\n",
        "14 4 28\n",
        "15 4 32\n"
       ]
      }
     ],
     "prompt_number": 3
    },
    {
     "cell_type": "heading",
     "level": 1,
     "metadata": {},
     "source": [
      "Ejercicio Octave"
     ]
    },
    {
     "cell_type": "markdown",
     "metadata": {},
     "source": [
      "\n",
      "x = single(77777.0)\n",
      "y = single(7.0)\n",
      "inv_y = 1.0 / y\n",
      "\n",
      "z = x / y\n",
      "z1 = x * inv_y\n",
      "\n",
      "if (z != z1)\n",
      "  sprintf(\"%1.3f != %1.3f\", z, z1)\n",
      "  sprintf(\"%1.30f != %1.30f\", z, z1)\n",
      "else\n",
      "  sprintf(\"%1.3f == %1.3f\", z, z1)\n",
      "  sprintf(\"%1.30f == %1.30f\", z, z1)\n",
      "endif\n",
      "\n",
      "Este ejercicio lo que hace es probar como con aritmetica de punto flotante se va perdiendo precision. La respuesta deberia de ser que z=z1=11111 pero por el 1.0 los errores se van acumulando lo cual causa una perdida de precision. Al correrlo en octave es justamente lo que ocurre z= 11111.000 y z1=11111.000976562500000000000000000000. Al ser x y y de precision simple z1 y z son de precision simple.\n",
      "\n",
      "Al comparar el codigo anterior con script strange_floats_dp.m, en el cual la respuesta si da bien, la diferencia es que x y y no son declaradas como de precision simple lo cual hace que en las operaciones no se agreguen decimales inexistentes. Es doble precision porque octave si no se le especifica lo contrario trabaja con double."
     ]
    },
    {
     "cell_type": "heading",
     "level": 1,
     "metadata": {},
     "source": [
      "Ejercicio 8"
     ]
    },
    {
     "cell_type": "code",
     "collapsed": false,
     "input": [
      "import math\n",
      "math.factorial(6)"
     ],
     "language": "python",
     "metadata": {},
     "outputs": [
      {
       "metadata": {},
       "output_type": "pyout",
       "prompt_number": 4,
       "text": [
        "720"
       ]
      }
     ],
     "prompt_number": 4
    },
    {
     "cell_type": "code",
     "collapsed": false,
     "input": [
      "def varianza1(numdatos,dato1,dato2,dato3):\n",
      "    \n",
      "     x=(dato1+dato2+dato3)/(numdatos)\n",
      "     y=dato1-x\n",
      "     z=dato2-x\n",
      "     w=dato3-x\n",
      "     varianza=(y**2+z**2+w**2)/(numdatos-1)\n",
      "    \n",
      "     return varianza\n",
      "\n",
      "\n",
      "\n",
      "    "
     ],
     "language": "python",
     "metadata": {},
     "outputs": [],
     "prompt_number": 5
    },
    {
     "cell_type": "code",
     "collapsed": false,
     "input": [
      "def varianza2(numdatos,dato1,dato2,dato3):\n",
      "    \n",
      "     x=dato1**2+dato2**2+dato3**2\n",
      "     y=(dato1+dato2+dato3)**2/numdatos\n",
      "     z=dato2-x\n",
      "     w=dato3-x\n",
      "     varianza=(x-y)/(numdatos-1)\n",
      "    \n",
      "     return varianza\n",
      "\n",
      "    "
     ],
     "language": "python",
     "metadata": {},
     "outputs": [],
     "prompt_number": 6
    },
    {
     "cell_type": "code",
     "collapsed": false,
     "input": [
      "varianza1(3,1000,1001,1002)"
     ],
     "language": "python",
     "metadata": {},
     "outputs": [
      {
       "metadata": {},
       "output_type": "pyout",
       "prompt_number": 7,
       "text": [
        "1"
       ]
      }
     ],
     "prompt_number": 7
    },
    {
     "cell_type": "code",
     "collapsed": false,
     "input": [
      "varianza2(3,1000,1001,1002)"
     ],
     "language": "python",
     "metadata": {},
     "outputs": [
      {
       "metadata": {},
       "output_type": "pyout",
       "prompt_number": 8,
       "text": [
        "1"
       ]
      }
     ],
     "prompt_number": 8
    },
    {
     "cell_type": "markdown",
     "metadata": {},
     "source": [
      "No hay diferencia, pero el posible error que podria haber es que con la primera formula al hacer tantos calculos se cancelan valores importantes que alejan del resultado real."
     ]
    },
    {
     "cell_type": "heading",
     "level": 1,
     "metadata": {},
     "source": [
      "Ejercicio 9"
     ]
    },
    {
     "cell_type": "code",
     "collapsed": false,
     "input": [
      "def exp_maclaurin(x,n):\n",
      "    suma=0\n",
      "    for i in range(0,n+1):\n",
      "        suma=(x**i)/(math.factorial(i))+suma\n",
      "        print \"%12s\\t%12s\\t%12s\\t%12s\\t%20s\\t%20s\" % (i, x, x**i, math.factorial(i), (x**i)/math.factorial(i), suma)"
     ],
     "language": "python",
     "metadata": {},
     "outputs": [],
     "prompt_number": 9
    },
    {
     "cell_type": "code",
     "collapsed": false,
     "input": [
      "np.exp(0)\n"
     ],
     "language": "python",
     "metadata": {},
     "outputs": [
      {
       "metadata": {},
       "output_type": "pyout",
       "prompt_number": 10,
       "text": [
        "1.0"
       ]
      }
     ],
     "prompt_number": 10
    },
    {
     "cell_type": "code",
     "collapsed": false,
     "input": [
      "np.exp(1)"
     ],
     "language": "python",
     "metadata": {},
     "outputs": [
      {
       "metadata": {},
       "output_type": "pyout",
       "prompt_number": 11,
       "text": [
        "2.7182818284590451"
       ]
      }
     ],
     "prompt_number": 11
    },
    {
     "cell_type": "code",
     "collapsed": false,
     "input": [
      "np.exp(5.5)"
     ],
     "language": "python",
     "metadata": {},
     "outputs": [
      {
       "metadata": {},
       "output_type": "pyout",
       "prompt_number": 12,
       "text": [
        "244.69193226422038"
       ]
      }
     ],
     "prompt_number": 12
    },
    {
     "cell_type": "code",
     "collapsed": false,
     "input": [
      "np.exp(-5.5)"
     ],
     "language": "python",
     "metadata": {},
     "outputs": [
      {
       "metadata": {},
       "output_type": "pyout",
       "prompt_number": 13,
       "text": [
        "0.0040867714384640666"
       ]
      }
     ],
     "prompt_number": 13
    },
    {
     "cell_type": "code",
     "collapsed": false,
     "input": [
      "def exp_maclaurin1(x,n):\n",
      "    suma=0.0\n",
      "    for i in range(0,n+1):\n",
      "        suma=(x**i)/(math.factorial(i))+suma\n",
      "    print suma"
     ],
     "language": "python",
     "metadata": {},
     "outputs": [],
     "prompt_number": 31
    },
    {
     "cell_type": "code",
     "collapsed": false,
     "input": [
      "exp_maclaurin1(0,100)"
     ],
     "language": "python",
     "metadata": {},
     "outputs": [
      {
       "output_type": "stream",
       "stream": "stdout",
       "text": [
        "1.0\n"
       ]
      }
     ],
     "prompt_number": 32
    },
    {
     "cell_type": "code",
     "collapsed": false,
     "input": [
      "exp_maclaurin1(1.0,100)"
     ],
     "language": "python",
     "metadata": {},
     "outputs": [
      {
       "output_type": "stream",
       "stream": "stdout",
       "text": [
        "2.71828182846\n"
       ]
      }
     ],
     "prompt_number": 35
    },
    {
     "cell_type": "code",
     "collapsed": false,
     "input": [
      "exp_maclaurin1(5.5,100)"
     ],
     "language": "python",
     "metadata": {},
     "outputs": [
      {
       "output_type": "stream",
       "stream": "stdout",
       "text": [
        "244.691932264\n"
       ]
      }
     ],
     "prompt_number": 25
    },
    {
     "cell_type": "code",
     "collapsed": false,
     "input": [
      "exp_maclaurin1(-5.5,100)"
     ],
     "language": "python",
     "metadata": {},
     "outputs": [
      {
       "output_type": "stream",
       "stream": "stdout",
       "text": [
        "0.00408677143846\n"
       ]
      }
     ],
     "prompt_number": 26
    },
    {
     "cell_type": "markdown",
     "metadata": {},
     "source": [
      "Lo calcule en orden 100 porque de esta manera daba mas precision. En el que falla es en el 1. Pareceria que falla porque desde el principio se vuelve un decimal lo cual significa que es mas facil que pierda cifras significativas. La manera en la que corregi este error es haciendo que la suma sea una variable de tipo float y el numero que se introduce (x) tambien"
     ]
    },
    {
     "cell_type": "code",
     "collapsed": false,
     "input": [],
     "language": "python",
     "metadata": {},
     "outputs": []
    }
   ],
   "metadata": {}
  }
 ]
}