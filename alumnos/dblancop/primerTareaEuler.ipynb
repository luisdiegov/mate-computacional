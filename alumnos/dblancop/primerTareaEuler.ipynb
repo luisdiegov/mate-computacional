{
 "metadata": {
  "name": "",
  "signature": "sha256:6f9d9d110f63f47b2c9a044d76b76fd7ac6cb36a9fd9feaa220959eea3dc40a7"
 },
 "nbformat": 3,
 "nbformat_minor": 0,
 "worksheets": [
  {
   "cells": [
    {
     "cell_type": "code",
     "collapsed": false,
     "input": [
      "n=0\n",
      "for j in xrange (1,1000):\n",
      "    if j%5==0 or j%3==0:\n",
      "        n=n+j\n",
      "    else:\n",
      "        j=j+1\n",
      "print n    "
     ],
     "language": "python",
     "metadata": {},
     "outputs": [
      {
       "output_type": "stream",
       "stream": "stdout",
       "text": [
        "233168\n"
       ]
      }
     ],
     "prompt_number": 1
    },
    {
     "cell_type": "code",
     "collapsed": false,
     "input": [
      "'''n es el contador en donde se guarda la suma.  \n",
      "En la condicion de for se admiten numeros del 1 al 1000, si esta dentro de este\n",
      "rango se entra a otra condicion en donde es necesario que j (el numero natural)\n",
      "sea multiplo de 5 o de 3 para que se sume de lo contrario se pasa al siguiente numero.\n",
      "Al final se imprime la sumatoria'''"
     ],
     "language": "python",
     "metadata": {},
     "outputs": [
      {
       "metadata": {},
       "output_type": "pyout",
       "prompt_number": 2,
       "text": [
        "'n es el contador en donde se guarda la suma.  \\nEn la condicion de for se admiten numeros del 1 al 1000, si esta dentro de este\\nrango se entra a otra condicion en donde es necesario que j (el numero natural)\\nsea multiplo de 5 o de 3 para que se sume de lo contrario se pasa al siguiente numero.\\nAl final se imprime la sumatoria'"
       ]
      }
     ],
     "prompt_number": 2
    },
    {
     "cell_type": "code",
     "collapsed": false,
     "input": [
      "fibx=1\n",
      "fiby=2\n",
      "aux=0\n",
      "total=2\n",
      "while aux<=4000000:\n",
      "    aux=fibx+fiby\n",
      "    if aux<=4000000:\n",
      "        if aux%2==0:\n",
      "            total=total+aux\n",
      "    else:\n",
      "        break\n",
      "    fibx=fiby\n",
      "    fiby=aux\n",
      "    aux=0\n",
      "print total "
     ],
     "language": "python",
     "metadata": {},
     "outputs": [
      {
       "output_type": "stream",
       "stream": "stdout",
       "text": [
        "4613732\n"
       ]
      }
     ],
     "prompt_number": 3
    },
    {
     "cell_type": "code",
     "collapsed": false,
     "input": [
      "'''fibx y fiby son los dos primeros numeros de la serie de Fibonacci, aux es una variable \n",
      "que se utilizara para facilitar el cambio de valores de fibx y fiby a los siguientes numeros de la serie, \n",
      "y total imprimira el total de la sumatoria de los pares dentro de la serie y empieza en 2 porque el segundo\n",
      "numero de la serie de Fibonacci ya se sabe que es par.\n",
      "Se entra al while mientras aux sea menor a 4000000. \n",
      "Se le asignan valores a aux apartir de la suma de los dos anteriores de la serie y si es menor a 4000000 entra al if. \n",
      "Para que entre al siguiente if aux debe de ser par y si es as\u00ed al total se le suma el siguiente par de la serie.\n",
      "De lo contrario se sale del segundo if. Fibx toma el valor de fiby y fiby el de aux y se inicializa aux de nuevo en 0. \n",
      "Cuando ya no entra a ninguna condici\u00f3n se imprime el total de la sumatoria.'''\n"
     ],
     "language": "python",
     "metadata": {},
     "outputs": [
      {
       "metadata": {},
       "output_type": "pyout",
       "prompt_number": 4,
       "text": [
        "'fibx y fiby son los dos primeros numeros de la serie de Fibonacci, aux es una variable \\nque se utilizara para facilitar el cambio de valores de fibx y fiby a los siguientes numeros de la serie, \\ny total imprimira el total de la sumatoria de los pares dentro de la serie y empieza en 2 porque el segundo\\nnumero de la serie de Fibonacci ya se sabe que es par.\\nSe entra al while mientras aux sea menor a 4000000. \\nSe le asignan valores a aux apartir de la suma de los dos anteriores de la serie y si es menor a 4000000 entra al if. \\nPara que entre al siguiente if aux debe de ser par y si es as\\xc3\\xad al total se le suma el siguiente par de la serie.\\nDe lo contrario se sale del segundo if. Fibx toma el valor de fiby y fiby el de aux y se inicializa aux de nuevo en 0. \\nCuando ya no entra a ninguna condici\\xc3\\xb3n se imprime el total de la sumatoria.'"
       ]
      }
     ],
     "prompt_number": 4
    },
    {
     "cell_type": "code",
     "collapsed": false,
     "input": [
      "n=600851475143\n",
      "max=0\n",
      "i=3\n",
      "while n!=1:\n",
      "    if n%i==0:\n",
      "        max=i\n",
      "        n=n/i\n",
      "    else:\n",
      "        i=i+2\n",
      "print max        \n",
      "        "
     ],
     "language": "python",
     "metadata": {},
     "outputs": [
      {
       "output_type": "stream",
       "stream": "stdout",
       "text": [
        "6857\n"
       ]
      }
     ],
     "prompt_number": 5
    },
    {
     "cell_type": "code",
     "collapsed": false,
     "input": [
      "'''\n",
      "n es el numero del cual se quiere encontrar el factor primo mas grande y se va dividiendo para encontrarlo,\n",
      "max ira guardando el factor mas grande, i es un numero impar se utiliza para ir dividiendo n. \n",
      "Entra al while mientras n sea distinto de uno. Para entrar al if n debe de ser divisible entre i y entonces \n",
      "el max es i y n se divide entre i, de lo contrario se le agregan dos a i para que sea otro numero impar. \n",
      "El ultimo numero antes de que n sea 1 es el factor que se busca y se imprime cuando se sale del while. '''"
     ],
     "language": "python",
     "metadata": {},
     "outputs": [
      {
       "metadata": {},
       "output_type": "pyout",
       "prompt_number": 6,
       "text": [
        "'\\nn es el numero del cual se quiere encontrar el factor primo mas grande y se va dividiendo para encontrarlo,\\nmax ira guardando el factor mas grande, i es un numero impar se utiliza para ir dividiendo n. \\nEntra al while mientras n sea distinto de uno. Para entrar al if n debe de ser divisible entre i y entonces \\nel max es i y n se divide entre i, de lo contrario se le agregan dos a i para que sea otro numero impar. \\nEl ultimo numero antes de que n sea 1 es el factor que se busca y se imprime cuando se sale del while. '"
       ]
      }
     ],
     "prompt_number": 6
    },
    {
     "cell_type": "code",
     "collapsed": false,
     "input": [],
     "language": "python",
     "metadata": {},
     "outputs": []
    }
   ],
   "metadata": {}
  }
 ]
}