{
 "metadata": {
  "name": "",
  "signature": "sha256:7c7a38a87088741d289daeab010f931bca936df18b3d1630e1a1fa59b1877872"
 },
 "nbformat": 3,
 "nbformat_minor": 0,
 "worksheets": [
  {
   "cells": [
    {
     "cell_type": "code",
     "collapsed": false,
     "input": [
      "from math import sin,cos,pi\n",
      "def transfEsfaCart(r,t,p):\n",
      "  x=r*sin(t)*cos(p)\n",
      "  y=r*sin(t)*sin(p)\n",
      "  z=r*cos(t)\n",
      "\n",
      "  return x,y,z\n"
     ],
     "language": "python",
     "metadata": {},
     "outputs": [],
     "prompt_number": 8
    },
    {
     "cell_type": "code",
     "collapsed": false,
     "input": [
      "from math import asin,atan,degrees\n",
      "def transfCartaEsf(x,y,z):\n",
      "    r=(((x**2)+(y**2)+(z**2))**(1/2))\n",
      "    t=atan((((x**2)+(y**2))**(1/2))/z)\n",
      "    p=atan(y/x)\n",
      "    t=degrees(t)\n",
      "    p=degrees(p)\n",
      "    return r,t,p"
     ],
     "language": "python",
     "metadata": {},
     "outputs": [],
     "prompt_number": 6
    },
    {
     "cell_type": "raw",
     "metadata": {},
     "source": []
    },
    {
     "cell_type": "raw",
     "metadata": {},
     "source": []
    },
    {
     "cell_type": "raw",
     "metadata": {},
     "source": []
    }
   ],
   "metadata": {}
  }
 ]
}