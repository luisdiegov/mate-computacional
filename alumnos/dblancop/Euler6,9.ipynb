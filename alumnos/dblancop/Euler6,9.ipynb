{
 "metadata": {
  "name": "",
  "signature": "sha256:581760c2fe6beb2eecc635c5b4d1dab5b522f28da83a9a62b71710607b67fa7f"
 },
 "nbformat": 3,
 "nbformat_minor": 0,
 "worksheets": [
  {
   "cells": [
    {
     "cell_type": "code",
     "collapsed": false,
     "input": [
      "sum1=0\n",
      "sum2=0\n",
      "dif=0\n",
      "for i in xrange(1,101):\n",
      "    sum1=sum1+(i**2)\n",
      "    sum2=sum2+i\n",
      "sum2=(sum2)**2\n",
      "dif=sum2-sum1\n",
      "print dif"
     ],
     "language": "python",
     "metadata": {},
     "outputs": [
      {
       "output_type": "stream",
       "stream": "stdout",
       "text": [
        "25164150\n"
       ]
      }
     ],
     "prompt_number": 2
    },
    {
     "cell_type": "code",
     "collapsed": false,
     "input": [
      "'''Se inicializan las variables en cero. Se toman valores para i (numero natural) entre 1 y 100. Sum1 guarda la suma de \n",
      "todos los i's al cuadrado, sum2 guarda la suma de cada i. Afuera del for se eleva al cuadrado sum2, en dif se restan para \n",
      "encontrar la diferencia entre las sumas y se imprime'''"
     ],
     "language": "python",
     "metadata": {},
     "outputs": [
      {
       "metadata": {},
       "output_type": "pyout",
       "prompt_number": 3,
       "text": [
        "\"Se inicializan las variables en cero. Se toman valores para i (numero natural) entre 1 y 100. Sum1 guarda la suma de \\ntodos los i's al cuadrado, sum2 guarda la suma de cada i. Afuera del for se eleva al cuadrado sum2, en dif se restan para \\nencontrar la diferencia entre las sumas y se imprime\""
       ]
      }
     ],
     "prompt_number": 3
    },
    {
     "cell_type": "code",
     "collapsed": false,
     "input": [
      "for a in range(1,500):\n",
      "    for b in range(a,500):\n",
      "        c=1000-a-b\n",
      "        if (a**2)+(b**2)==(c**2):\n",
      "            print a*b*c"
     ],
     "language": "python",
     "metadata": {},
     "outputs": [
      {
       "output_type": "stream",
       "stream": "stdout",
       "text": [
        "31875000\n"
       ]
      }
     ],
     "prompt_number": 5
    },
    {
     "cell_type": "code",
     "collapsed": false,
     "input": [
      "'''Se escogen en el for un valor para a que comienza en el uno, y en el siguiente para b igual. Con los numeros que se van\n",
      "escogiendo se checa si satisfacen la ecuacion a+b+c=1000 con c despejada para asi poder encontrar el valor de c. En el if los \n",
      "tres numeros que se van encontrando entran a la condicion de que deben cumplir lo de las tripletas de las pitagoras de lo \n",
      "contrario se regresa a los for's y toman otros valores. Una vez que se encuentran los tres numeros que cumplen la condicion\n",
      "del if se imprime su producto'''"
     ],
     "language": "python",
     "metadata": {},
     "outputs": [
      {
       "metadata": {},
       "output_type": "pyout",
       "prompt_number": 6,
       "text": [
        "\"Se escogen en el for un valor para a que comienza en el uno, y en el siguiente para b igual. Con los numeros que se van\\nescogiendo se checa si satisfacen la ecuacion a+b+c=1000 con c despejada para asi poder encontrar el valor de c. En el if los \\ntres numeros que se van encontrando entran a la condicion de que deben cumplir lo de las tripletas de las pitagoras de lo \\ncontrario se regresa a los for's y toman otros valores. Una vez que se encuentran los tres numeros que cumplen la condicion\\ndel if se imprime su producto\""
       ]
      }
     ],
     "prompt_number": 6
    },
    {
     "cell_type": "code",
     "collapsed": false,
     "input": [],
     "language": "python",
     "metadata": {},
     "outputs": []
    }
   ],
   "metadata": {}
  }
 ]
}