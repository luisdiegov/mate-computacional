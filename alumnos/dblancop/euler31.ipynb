{
 "metadata": {
  "name": "",
  "signature": "sha256:83b945d19e97ad4286d6ebbf95ed1c0fd6449e7f797e84a19b17ace6fcbdaa69"
 },
 "nbformat": 3,
 "nbformat_minor": 0,
 "worksheets": [
  {
   "cells": [
    {
     "cell_type": "code",
     "collapsed": false,
     "input": [
      "combinacion = [0]*201\n",
      "combinacion[0]=1\n",
      "for n in [1,2,5,10,20,50,100,200]:\n",
      "    for i in xrange(n, 201):\n",
      "        combinacion[i]= combinacion[i]+combinacion[i-n]\n",
      "print combinacion[200]"
     ],
     "language": "python",
     "metadata": {},
     "outputs": [
      {
       "output_type": "stream",
       "stream": "stdout",
       "text": [
        "73682\n"
       ]
      }
     ],
     "prompt_number": 1
    },
    {
     "cell_type": "code",
     "collapsed": false,
     "input": [],
     "language": "python",
     "metadata": {},
     "outputs": []
    }
   ],
   "metadata": {}
  }
 ]
}