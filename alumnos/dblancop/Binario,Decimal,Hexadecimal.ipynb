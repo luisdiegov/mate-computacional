{
 "metadata": {
  "name": "",
  "signature": "sha256:c8f99c389349be1751e3c819b92c9d6bdd60aafaa2b28a64372c800d1bab142c"
 },
 "nbformat": 3,
 "nbformat_minor": 0,
 "worksheets": [
  {
   "cells": [
    {
     "cell_type": "code",
     "collapsed": false,
     "input": [
      "def decBin(n):\n",
      "    bin=''\n",
      "    while n/2!=0:\n",
      "        bin=str(n%2)+bin\n",
      "        n=n/2\n",
      "    return str(n)+bin"
     ],
     "language": "python",
     "metadata": {},
     "outputs": [],
     "prompt_number": 1
    },
    {
     "cell_type": "code",
     "collapsed": false,
     "input": [
      "def decHex(x):\n",
      "    hex=''\n",
      "    \n",
      "    while x/16!=0:\n",
      "        \n",
      "        if (x%16 < 10):\n",
      "            n=str(x%16)\n",
      "            hex=n+hex    \n",
      "            x=x/16\n",
      "            break\n",
      "            \n",
      "        elif (x%16 == 10):\n",
      "             n=\"A\"\n",
      "             hex=n+hex    \n",
      "             x=x/16\n",
      "             break   \n",
      "            \n",
      "           \n",
      "        elif (x%16 == 11):\n",
      "            n=\"B\"\n",
      "            hex=n+hex    \n",
      "            x=x/16\n",
      "            break \n",
      "            \n",
      "        elif (x%16 == 12):\n",
      "            n=\"C\"\n",
      "            hex=n+hex    \n",
      "            x=x/16\n",
      "            break \n",
      "            \n",
      "        elif (x%16 == 13):\n",
      "            n=\"D\"\n",
      "            hex=n+hex    \n",
      "            x=x/16\n",
      "            break \n",
      "            \n",
      "        elif (x%16 == 14):\n",
      "            n=\"E\"\n",
      "            hex=n+hex    \n",
      "            x=x/16\n",
      "            break \n",
      "            \n",
      "        elif (x%16 == 15):\n",
      "            n=\"F\"\n",
      "            hex=n+hex    \n",
      "            x=x/16\n",
      "            break \n",
      "            \n",
      "    return n+hex"
     ],
     "language": "python",
     "metadata": {},
     "outputs": [],
     "prompt_number": 2
    },
    {
     "cell_type": "code",
     "collapsed": false,
     "input": [
      "def binDec(b):\n",
      "    d=0\n",
      "    b=str(b)\n",
      "    l=[]\n",
      "    for digito in b:\n",
      "       l.append(int(digito))\n",
      "    \n",
      "    l.reverse()\n",
      "        \n",
      "    for i in range (0,len(l)):\n",
      "        if l[i]!=0 and l[i]!=1:\n",
      "            return \"No es binario\"\n",
      "            break\n",
      "\n",
      "    for j in range(0,len(l)):\n",
      "                d=d+(2**j*l[j])\n",
      "                \n",
      "    print d "
     ],
     "language": "python",
     "metadata": {},
     "outputs": [],
     "prompt_number": 3
    },
    {
     "cell_type": "code",
     "collapsed": false,
     "input": [
      "def hexDec(n):\n",
      "    return int(n,16)"
     ],
     "language": "python",
     "metadata": {},
     "outputs": [],
     "prompt_number": 4
    },
    {
     "cell_type": "code",
     "collapsed": false,
     "input": [],
     "language": "python",
     "metadata": {},
     "outputs": []
    }
   ],
   "metadata": {}
  }
 ]
}