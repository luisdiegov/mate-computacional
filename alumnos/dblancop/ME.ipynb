{
 "metadata": {
  "name": "",
  "signature": "sha256:214a8764e75a6973a1baad1aec0558890b2d8ec79e16599e375fb2d40d0508ee"
 },
 "nbformat": 3,
 "nbformat_minor": 0,
 "worksheets": [
  {
   "cells": [
    {
     "cell_type": "code",
     "collapsed": false,
     "input": [
      "func=float\n",
      "me=func(1)\n",
      "while func(1)+func(me) != func(1):\n",
      "    mef = me\n",
      "    me= func(me) / func(2)\n",
      "print mef"
     ],
     "language": "python",
     "metadata": {},
     "outputs": [
      {
       "output_type": "stream",
       "stream": "stdout",
       "text": [
        "2.22044604925e-16\n"
       ]
      }
     ],
     "prompt_number": 8
    },
    {
     "cell_type": "code",
     "collapsed": false,
     "input": [],
     "language": "python",
     "metadata": {},
     "outputs": []
    }
   ],
   "metadata": {}
  }
 ]
}