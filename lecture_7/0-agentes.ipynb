{
 "metadata": {
  "name": "",
  "signature": "sha256:fcad1a9797b4f306f765cff59b205595d2c4355c76680bc08c604a1cae599b59"
 },
 "nbformat": 3,
 "nbformat_minor": 0,
 "worksheets": [
  {
   "cells": [
    {
     "cell_type": "code",
     "collapsed": false,
     "input": [
      "%pylab inline"
     ],
     "language": "python",
     "metadata": {},
     "outputs": []
    },
    {
     "cell_type": "code",
     "collapsed": false,
     "input": [
      "import random\n",
      "import numpy as np\n",
      "import matplotlib.pyplot as plt"
     ],
     "language": "python",
     "metadata": {},
     "outputs": []
    },
    {
     "cell_type": "code",
     "collapsed": false,
     "input": [
      "from animacion import *"
     ],
     "language": "python",
     "metadata": {},
     "outputs": []
    },
    {
     "cell_type": "code",
     "collapsed": false,
     "input": [
      "random.seed(10)"
     ],
     "language": "python",
     "metadata": {},
     "outputs": []
    },
    {
     "cell_type": "heading",
     "level": 1,
     "metadata": {},
     "source": [
      "Modelado basado en Agentes"
     ]
    },
    {
     "cell_type": "markdown",
     "metadata": {},
     "source": [
      "El [modelado basado en agentes (ABM)](http://en.wikipedia.org/wiki/Agent-based_model) surge en la d\u00e9cada de los 70s. Se caracteriza por la aparici\u00f3n de un _ente_, llamado **agente** que cumple con las siguientes caracter\u00edsticas:\n",
      "\n",
      "- Los agentes modelan comportamiento inteligente, usualmente mediante un conjunto simple de reglas.\n",
      "\n",
      "- Los agentes est\u00e1n localizados en el espacio (_Mundo_) e interact\u00faan con otros agentes (sus _vecinos_) localmente.\n",
      "\n",
      "- Debido a esto, los agentes tienen informaci\u00f3n imperfecta y local.\n",
      "\n",
      "- Elemento azarosos en los agentes o en el mundo."
     ]
    },
    {
     "cell_type": "markdown",
     "metadata": {},
     "source": [
      "Las caracter\u00edsticas mencionadas los hace ideales para:\n",
      "\n",
      "- Estudiar la din\u00e1mica de sistemas que no est\u00e1n en equilibrio.\n",
      "\n",
      "- Entender la aparici\u00f3n de **macrocomportamiento** a partir de _motivos individuales_."
     ]
    },
    {
     "cell_type": "code",
     "collapsed": false,
     "input": [
      "class Agente:\n",
      "    \"\"\" Agente general \"\"\"\n",
      "    def __init__(self, tipo, locacion=np.array([0,0])):\n",
      "        self.tipo = tipo\n",
      "        self.locacion = locacion\n",
      "        self.siguiente_accion = None\n",
      "\n",
      "    def distancia(self, otro):\n",
      "        \"Calcula la distancia eucl\u00eddea entre este agente y otro.\"\n",
      "        return np.linalg.norm(self.locacion - otro.locacion)  # Otra manera es usar np.sqrt(np.sum((a-b)**2))\n",
      "    \n",
      "    def vecinos(self, agentes):\n",
      "        pass\n",
      "    \n",
      "    def actuar(self, agentes):\n",
      "        self.locacion =  self.siguiente_accion\n",
      "        \n",
      "    def decidir(self, agentes):\n",
      "        self.siguiente_accion = np.array([random.uniform(0, 1), random.uniform(0, 1)]) # Toma una nueva posici\u00f3n al azar\n",
      "    \n",
      "    def actualizar(self, agentes):\n",
      "        self.decidir(agentes)\n",
      "        self.actuar(agentes)"
     ],
     "language": "python",
     "metadata": {},
     "outputs": []
    },
    {
     "cell_type": "code",
     "collapsed": false,
     "input": [
      "class Mundo:\n",
      "    def __init__(self, agentes, ancho=8, alto=8, steps = 10):\n",
      "        self.agentes = agentes\n",
      "        self.ancho = ancho\n",
      "        self.alto = alto\n",
      "        self.steps = steps\n",
      "        self.init_anim()\n",
      "        \n",
      "        print \"Creado el mundo\"\n",
      "        \n",
      "    def init_anim(self):\n",
      "        self.fig = plt.figure(figsize=(self.ancho, self.alto))\n",
      "        self.ax = plt.axes(xlim=(0, 1), ylim=(0, 1))\n",
      "        self.ax.set_axis_bgcolor('azure')\n",
      "        plot_args = {'markersize' : 8, 'alpha' : 0.6}\n",
      "        self.puntos, = self.ax.plot([], [], 'o', **plot_args)\n",
      "       \n",
      "       \n",
      "    def dibujar(self, step):\n",
      "        x_values_0, y_values_0 = [], []\n",
      "        for agente in self.agentes:\n",
      "            x, y = agente.locacion\n",
      "            x_values_0.append(x)\n",
      "            y_values_0.append(y)\n",
      "\n",
      "        self.puntos.set_data(x_values_0, y_values_0)\n",
      "        \n",
      "        self.ax.set_title('Paso {}'.format(step))\n",
      "        \n",
      "        return self.puntos,\n",
      "       \n",
      "    def actualizar(self, step):   \n",
      "        self.dibujar(step) # Dibuja el mundo\n",
      "        \n",
      "        for agente in self.agentes:\n",
      "            agente.actualizar(self.agentes)\n",
      "    \n",
      "    def clean_screen(self):\n",
      "        self.puntos.set_data([], [])\n",
      "        return self.puntos,\n",
      "          \n",
      "    def simular(self):\n",
      "        anim = animation.FuncAnimation(self.fig, self.actualizar, init_func=self.clean_screen, frames=self.steps, interval=1000, blit=False)\n",
      "        return anim\n"
     ],
     "language": "python",
     "metadata": {},
     "outputs": []
    },
    {
     "cell_type": "code",
     "collapsed": false,
     "input": [
      "num_agentes = 10\n",
      "\n",
      "agentes_simples = [Agente(tipo=0) for i in range(num_agentes)]\n",
      "\n",
      "\n",
      "sin_chiste = Mundo(agentes = agentes_simples, steps = 10)\n",
      "\n",
      "\n",
      "simulacion = sin_chiste.simular()"
     ],
     "language": "python",
     "metadata": {},
     "outputs": []
    },
    {
     "cell_type": "code",
     "collapsed": false,
     "input": [
      "display_animation(simulacion)"
     ],
     "language": "python",
     "metadata": {},
     "outputs": []
    },
    {
     "cell_type": "markdown",
     "metadata": {},
     "source": [
      "<div class=\"alert alert-info\">\n",
      "**Ejercicio** Crea una clase que herede de `Agente` de tal manera que sea un _borracho_, i.e. que se mueva siguiendo una **caminata aleatoria**. Luego ejecuta la simulaci\u00f3n con 10 borrachos.\n",
      "</div>"
     ]
    },
    {
     "cell_type": "code",
     "collapsed": false,
     "input": [
      "class Borracho(Agente):\n",
      "    \n",
      "    def __init__(self, delta=0.1):\n",
      "        Agente.__init__(self, tipo=\"borracho\")\n",
      "        self.delta = delta # Tama\u00f1o de paso en x y y\n",
      "        self.posibles_direcciones = (0,1) #  (quieto, avanzar uno)\n",
      "        \n",
      "    def actuar(self, agentes):\n",
      "        self.locacion = self.locacion + self.siguiente_accion*self.delta # moverme\n",
      "        \n",
      "        if (self.locacion >= np.ones(2)-0.01).all():\n",
      "            self.locacion = np.ones(2)-0.01 # Si llegamos al l\u00edmite superior derecho nos detenemos    \n",
      "        \n",
      "    def decision(self, agentes):\n",
      "        self.siguiente_accion = np.array([random.choice(self.posibles_direcciones), random.choice(self.posibles_direcciones)]) \n",
      "        # Elegir una direccion entre quedarme quieto o moverme hacia adelante\n",
      "        \n",
      "    def actualizar(self, agentes):\n",
      "        self.decision(agentes)\n",
      "        self.actuar(agentes)"
     ],
     "language": "python",
     "metadata": {},
     "outputs": []
    },
    {
     "cell_type": "code",
     "collapsed": false,
     "input": [
      "num_borrachos = 10\n",
      "\n",
      "borrachos = [Borracho(delta=0.01) for i in range(num_borrachos)]\n",
      "\n",
      "\n",
      "condesa = Mundo(agentes = borrachos, steps = 250)\n",
      "\n",
      "\n",
      "simulacion = condesa.simular()"
     ],
     "language": "python",
     "metadata": {},
     "outputs": []
    },
    {
     "cell_type": "code",
     "collapsed": false,
     "input": [
      "display_animation(simulacion)"
     ],
     "language": "python",
     "metadata": {},
     "outputs": []
    },
    {
     "cell_type": "heading",
     "level": 2,
     "metadata": {},
     "source": [
      "Ejemplo: Modelo de segregaci\u00f3n racial de Thomas Schelling"
     ]
    },
    {
     "cell_type": "markdown",
     "metadata": {},
     "source": [
      "En 1971, **Thomas Schelling** public\u00f3 [_Dynamic Models of Segregation_](http://www.stat.berkeley.edu/~aldous/157/Papers/Schelling_Seg_Models.pdf) en el cual se propon\u00eda un modelo muy simple de segregaci\u00f3n racial."
     ]
    },
    {
     "cell_type": "markdown",
     "metadata": {},
     "source": [
      "En el modelo de Schelling, el mundo es una rejilla rectangular y cada celda representa una casa. La casa pueden estar ocupadas por dos tipos de \"agentes\", etiquetados como _rojo_ y _azul_, en n\u00fameros aproximadamente iguales. Cerca del 10% de las casas est\u00e1n vac\u00edas."
     ]
    },
    {
     "cell_type": "markdown",
     "metadata": {},
     "source": [
      "Para cada instante $t$, un agente puede estar **contento** o **infeliz**, dependiendo de los otros agentes de la vecindad, la vecindad est\u00e1 compuesta por las 8 celdas adyacentes al agente en cuesti\u00f3n. "
     ]
    },
    {
     "cell_type": "markdown",
     "metadata": {},
     "source": [
      "La simulaci\u00f3n procede como sigue: Se elige un agente al azar y se verifica su estado para ver si est\u00e1 feliz, si lo est\u00e1, nada pasa, si no, el agente decide cambiarse a una celda desocupada al azar y se muda."
     ]
    },
    {
     "cell_type": "markdown",
     "metadata": {},
     "source": [
      "Rapidamente un patr\u00f3n va a aparecer."
     ]
    },
    {
     "cell_type": "markdown",
     "metadata": {},
     "source": [
      "<div class=\"alert alert-info\">\n",
      "**Ejercicio:** \u00bfTe imaginas que patr\u00f3n va a aparecer?\n",
      "</div>"
     ]
    },
    {
     "cell_type": "markdown",
     "metadata": {},
     "source": [
      "La implementaci\u00f3n que sigue es una versi\u00f3n simplificada del modelo de segregaci\u00f3n de Schelling."
     ]
    },
    {
     "cell_type": "code",
     "collapsed": false,
     "input": [
      "class AgenteSchelling(Agente):\n",
      "    \n",
      "    def __init__(self, tipo, homofilia=5, vecinos=7):\n",
      "        Agente.__init__(self, tipo)\n",
      "        self.homofilia = homofilia\n",
      "        self.vecinos = vecinos # Quienes son mis vecinos\n",
      "        self.feliz = False\n",
      "        self.locacion = np.array([random.uniform(0, 1), random.uniform(0, 1)]) # Posici\u00f3n al azar inicial\n",
      "        \n",
      "    def actuar(self, agentes):\n",
      "        self.locacion = np.array([random.uniform(0, 1), random.uniform(0, 1)]) # Brinco a una nueva posici\u00f3n\n",
      "        \n",
      "    def decision(self, agentes):\n",
      "        \"\"\"Verdadero si un n\u00famero suficiente de vecinos cercanos es del mismo tipo.\"\"\"\n",
      "        distancias = []\n",
      "        # Distancias es una lista de pares (distancia, agente)\n",
      "        for agente in agentes:\n",
      "            if self != agente:\n",
      "                distancia = self.distancia(agente)\n",
      "                distancias.append((distancia, agente))\n",
      "        # Ordenamos del m\u00e1s cercano al m\u00e1s lejano \n",
      "        distancias.sort()\n",
      "        vecinos = [agente for dist, agente in distancias[:self.vecinos]]\n",
      "        # Contamos cuantos vecinos son del mismo tipo \n",
      "        num_mismo_tipo = sum(self.tipo == agente.tipo for agente in vecinos)\n",
      "        \n",
      "        self.feliz = (num_mismo_tipo >= self.homofilia)\n",
      "        \n",
      "        return self.feliz\n",
      "\n",
      "    def actualizar(self, agentes):\n",
      "        \"\"\"Si no est\u00e1 feliz, escoge una posici\u00f3n nueva al azar, s\u00f3lo se detiene cuando est\u00e1 feliz.\"\"\"\n",
      "        self.decision(agentes)\n",
      "        if not self.feliz:\n",
      "            self.actuar(agentes) # No estaba feliz en la ultima ronda\n",
      "            \n",
      "\n",
      "            "
     ],
     "language": "python",
     "metadata": {},
     "outputs": []
    },
    {
     "cell_type": "code",
     "collapsed": false,
     "input": [
      "class MundoSchelling(Mundo):\n",
      "\n",
      "    def init_anim(self):\n",
      "        self.fig = plt.figure(figsize=(self.ancho, self.alto))\n",
      "        self.ax = plt.axes(xlim=(0, 1), ylim=(0, 1))\n",
      "        self.ax.set_axis_bgcolor('azure')\n",
      "        plot_args = {'markersize' : 8, 'alpha' : 0.6}\n",
      "        self.puntos_0, = self.ax.plot([], [], 'o', markerfacecolor='orange', **plot_args)\n",
      "        self.puntos_1, = self.ax.plot([], [], 'o', markerfacecolor='green', **plot_args)\n",
      "    \n",
      "    def clean_screen(self):\n",
      "        self.puntos_0.set_data([], [])\n",
      "        self.puntos_1.set_data([], [])\n",
      "        return \n",
      "    \n",
      "    def dibujar(self,step):\n",
      "   \n",
      "        x_values_0, y_values_0 = [], []\n",
      "        x_values_1, y_values_1 = [], []\n",
      "    \n",
      "        for agente in self.agentes:\n",
      "            x, y = agente.locacion\n",
      "            if agente.tipo == 0:\n",
      "                x_values_0.append(x)\n",
      "                y_values_0.append(y)\n",
      "            else:\n",
      "                x_values_1.append(x)\n",
      "                y_values_1.append(y)\n",
      "\n",
      "                \n",
      "        self.puntos_0.set_data(x_values_0, y_values_0)\n",
      "        self.puntos_1.set_data(x_values_1, y_values_1)\n",
      "        \n",
      "        self.ax.set_title('Paso {}'.format(step))\n",
      "\n",
      "        return "
     ],
     "language": "python",
     "metadata": {},
     "outputs": []
    },
    {
     "cell_type": "code",
     "collapsed": false,
     "input": [
      "num_tipo_0 = 200\n",
      "num_tipo_1 = 200\n",
      "\n",
      "agentes = [AgenteSchelling(tipo=0) for i in range(num_tipo_0)]\n",
      "agentes.extend(AgenteSchelling(tipo=1) for i in range(num_tipo_1))\n",
      "\n",
      "\n",
      "schelling_world = MundoSchelling(agentes = agentes, steps = 30)\n",
      "\n",
      "simu_schelling = schelling_world.simular()"
     ],
     "language": "python",
     "metadata": {},
     "outputs": []
    },
    {
     "cell_type": "code",
     "collapsed": false,
     "input": [
      "display_animation(simu_schelling)"
     ],
     "language": "python",
     "metadata": {},
     "outputs": []
    },
    {
     "cell_type": "markdown",
     "metadata": {},
     "source": [
      "El modelo de Schelling fu\u00e9 uno de los primeros modelos basados en agentes. Desde entonces, el modelado basado en agentes es una herramienta importante en las ciencias sociales y en algunas ciencias naturales."
     ]
    },
    {
     "cell_type": "markdown",
     "metadata": {},
     "source": [
      "<div class=\"alert alert-info\">\n",
      "**Ejercicio** Modifica el c\u00f3digo de `MundoSchelling` para que cuentes el n\u00famero de agentes que se mueven en cada paso.\n",
      "</div>"
     ]
    },
    {
     "cell_type": "markdown",
     "metadata": {},
     "source": [
      "<div class=\"alert alert-info\">\n",
      "**Ejercicio** Modifica el c\u00f3digo de `MundoSchelling` para agregar un m\u00e9todo llamado `estadistica` que muestre en una gr\u00e1fica el n\u00famero de agentes que se mueven en funci\u00f3n de los `steps`.\n",
      "</div>"
     ]
    },
    {
     "cell_type": "markdown",
     "metadata": {},
     "source": [
      "<div class=\"alert alert-info\">\n",
      "**Ejercicio** \u00bfC\u00f3mo modelas que se vuelvan m\u00e1s tolerantes? \u00bfQu\u00e9 esperas que pase? \u00bfQu\u00e9 pasa si los agentes se vuelven m\u00e1s tolerantes con el m\u00e9todo `estadistica`?\n",
      "</div>"
     ]
    },
    {
     "cell_type": "markdown",
     "metadata": {},
     "source": [
      "<div class=\"alert alert-info\">\n",
      "**Ejercicio** \u00bfC\u00f3mo modelas que el agente s\u00f3lo est\u00e9 feliz en ambientes mixtos, i.e. si se vuelve infeliz si muchos vecinos son como \u00e9l? \n",
      "</div>"
     ]
    },
    {
     "cell_type": "code",
     "collapsed": false,
     "input": [],
     "language": "python",
     "metadata": {},
     "outputs": []
    }
   ],
   "metadata": {}
  }
 ]
}