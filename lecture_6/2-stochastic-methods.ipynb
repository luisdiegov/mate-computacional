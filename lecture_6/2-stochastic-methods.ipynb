{
 "metadata": {
  "name": "",
  "signature": "sha256:4ca1899d37dca17f979747f1f72bf6faf84b622026d7b251ac9e8c62ab89d17f"
 },
 "nbformat": 3,
 "nbformat_minor": 0,
 "worksheets": [
  {
   "cells": [
    {
     "cell_type": "heading",
     "level": 2,
     "metadata": {},
     "source": [
      "Introducci\u00f3n"
     ]
    },
    {
     "cell_type": "markdown",
     "metadata": {},
     "source": [
      "Imagina que quisieras modelar computacionalmente (como en esta clase) un sistema con much\u00edsimos componentes, por ejemplo, tr\u00e1nsito, apostadores, difusi\u00f3n de gases, la econom\u00eda de un p\u00e1is o localidad, etc. \u00bfC\u00f3mo le har\u00edas?"
     ]
    },
    {
     "cell_type": "markdown",
     "metadata": {},
     "source": [
      "Por ejemplo, para el caso de como se diluye una gota de tinta en un vaso con agua, la aproximaci\u00f3n cl\u00e1sica (o sea, usando todo el aparato matem\u00e1tico cl\u00e1sico de las ecuaciones diferenciales) es:\n",
      "\n",
      "- Tomar la posici\u00f3n $\\vec{x}$ y el momento $\\vec{p}$ de cada mol\u00e9cula en el vaso + la gota de la tinta, en un momento $t = t_0$.\n",
      "\n",
      "- Usar las ecuaciones de Newton para el sistema (que son ecuaciones diferenciales ordinarias de segundo orden).\n",
      "\n",
      "- Escribirlas como un sistema (m\u00e1s grande!) de ecuaciones diferenciales de primer orden.\n",
      "\n",
      "- Resolverlas con un m\u00e9todo de integraci\u00f3n."
     ]
    },
    {
     "cell_type": "markdown",
     "metadata": {},
     "source": [
      "\u00bfEstamos de acuerdo? Yo s\u00e9 que es mucho trabajo, pero bueno, en realidad, lo va a hacer la computadora \u00bfQu\u00e9 nos preocupa?"
     ]
    },
    {
     "cell_type": "markdown",
     "metadata": {},
     "source": [
      "Bueno, pensemos en la implementaci\u00f3n:"
     ]
    },
    {
     "cell_type": "markdown",
     "metadata": {},
     "source": [
      "Existen $10^{23}$ mol\u00e9culas (aproximadamente, y este dato proviene del [n\u00famero de avogadro](http://en.wikipedia.org/wiki/Avogadro_constant) ). Cada part\u00edcula tiene 6 [grados de libertad](http://en.wikipedia.org/wiki/Degrees_of_freedom_%28mechanics%29) (6 _dof_) : 3 para la posici\u00f3n y 3 para la velocidad."
     ]
    },
    {
     "cell_type": "markdown",
     "metadata": {},
     "source": [
      "<div class=\"alert alert-info\">\n",
      "**Ejercicio** \u00bfPor qu\u00e9 6 grados de libertad?\n",
      "</div>"
     ]
    },
    {
     "cell_type": "markdown",
     "metadata": {},
     "source": [
      "<div class=\"alert alert-info\">\n",
      "**Ejercicio** \u00bfCu\u00e1nta memoria se tiene que utilizar para guardar la configuraci\u00f3n de las mol\u00e9culas en el tiempo $t_0$? \u00bfCabe en tu compu? \u00bfCu\u00e1ntos discos duros requieres para guardarlo? \u00bfCu\u00e1nto costar\u00eda?\n",
      "</div>"
     ]
    },
    {
     "cell_type": "markdown",
     "metadata": {},
     "source": [
      "Adem\u00e1s del problema que encontraron, el resolver el sistema _as\u00ed_ no nos da mucho entendimiento, ya que habr\u00eda que ejecutarlo para **cada** pregunta que hagamos: _\u00bfCu\u00e1nto tiempo toma a que las mol\u00e9culas de la gota de tinta se dispersen por todo el vaso?_ Calculamos y (suponiendo que se puede hacer) obtenemos una respuesta, pero y si queremos responder _\u00bfQu\u00e9 tal si el vaso es el doble de grande?_ \u00a1hay que calcularlo de nuevo!"
     ]
    },
    {
     "cell_type": "heading",
     "level": 2,
     "metadata": {},
     "source": [
      "M\u00e9todos estoc\u00e1sticos"
     ]
    },
    {
     "cell_type": "markdown",
     "metadata": {},
     "source": [
      "Una t\u00e9cnica que puede ser empleada (y muy relacionada con Montecarlo) son los _m\u00e9todos estoc\u00e1sticos_."
     ]
    },
    {
     "cell_type": "markdown",
     "metadata": {},
     "source": [
      "La idea b\u00e1sica es la siguiente:"
     ]
    },
    {
     "cell_type": "markdown",
     "metadata": {},
     "source": [
      "<div class=\"alert alert-warning\">\n",
      "Un [_ensamble_ o _colectivo_](http://en.wikipedia.org/wiki/Statistical_ensemble_%28mathematical_physics%29) act\u00faa de una manera **promedio** a\u00fan si los elementos que conforman el ensamble act\u00faan al azar.\n",
      "</div>"
     ]
    },
    {
     "cell_type": "markdown",
     "metadata": {},
     "source": [
      "El resultado de esto es la p\u00e9rdida de la informaci\u00f3n sobre los componentes del sistema, para ganar conocimiento sobre el  colectivo."
     ]
    },
    {
     "cell_type": "heading",
     "level": 3,
     "metadata": {},
     "source": [
      "Ejemplo: Caminata aleatoria"
     ]
    },
    {
     "cell_type": "code",
     "collapsed": false,
     "input": [
      "%pylab inline\n",
      "import numpy as np\n",
      "import matplotlib.pyplot as plt\n",
      "import random"
     ],
     "language": "python",
     "metadata": {},
     "outputs": []
    },
    {
     "cell_type": "markdown",
     "metadata": {},
     "source": [
      "La _caminata aleatoria_ o _caminata del borracho_ es el recorrido que se obtiene si en cada instante de tiempo \"elegimos al azar\" la siguiente direcci\u00f3n."
     ]
    },
    {
     "cell_type": "markdown",
     "metadata": {},
     "source": [
      "El siguiente c\u00f3digo calcula la caminata aleatoria en una dimensi\u00f3n ($x$)."
     ]
    },
    {
     "cell_type": "code",
     "collapsed": false,
     "input": [
      "# Inicializaci\u00f3n\n",
      "\n",
      "steps = 200\n",
      "\n",
      "posicion = np.zeros([steps])\n",
      "\n",
      "tiempo = range(steps)"
     ],
     "language": "python",
     "metadata": {},
     "outputs": []
    },
    {
     "cell_type": "code",
     "collapsed": false,
     "input": [
      "# caminamos ...\n",
      "for i in range(1,steps):\n",
      "    if random.choice([u'adelante', u'atr\u00e1s']) == u'atr\u00e1s':\n",
      "        posicion[i] = posicion[i-1] - 1\n",
      "    else:\n",
      "        posicion[i] = posicion[i-1] + 1"
     ],
     "language": "python",
     "metadata": {},
     "outputs": []
    },
    {
     "cell_type": "code",
     "collapsed": false,
     "input": [
      "plt.plot(tiempo,posicion, 'b-')\n",
      "plt.xlabel('tiempo')\n",
      "plt.ylabel(u'posici\u00f3n')"
     ],
     "language": "python",
     "metadata": {},
     "outputs": []
    },
    {
     "cell_type": "markdown",
     "metadata": {},
     "source": [
      "Al parecer uno puede avanzar (\u00a1o inclusive llegar a su casa si est\u00e1 borracho\u00a1 -por lo menos en una dimensi\u00f3n.)"
     ]
    },
    {
     "cell_type": "markdown",
     "metadata": {},
     "source": [
      "Pero como mencionamos arriba, lo que queremos es el _comportamiento promedio_ del borracho. "
     ]
    },
    {
     "cell_type": "markdown",
     "metadata": {},
     "source": [
      "Para lograrlo, utilizaremos miles de borrachos no interactuantes y calcularemos la [**media cuadr\u00e1tica**](http://en.wikipedia.org/wiki/Root_mean_square) o **RMS**."
     ]
    },
    {
     "cell_type": "markdown",
     "metadata": {},
     "source": [
      "<div class=\"alert alert-info\">\n",
      "**Ejercicio**: \u00bfPor qu\u00e9 utilizar una media cuadr\u00e1tica? \u00bfQu\u00e9 pasa si hubi\u00e9semos usado el promedio simple?\n",
      "</div>"
     ]
    },
    {
     "cell_type": "code",
     "collapsed": false,
     "input": [
      "# Inicializaci\u00f3n\n",
      "\n",
      "pasos = 200\n",
      "borrachos = 2000\n",
      "\n",
      "posicion = np.zeros([borrachos, pasos])  # todos empiezan en ceros\n",
      "tiempo = range(steps)\n",
      "\n",
      "for borracho in range(borrachos):\n",
      "    for paso in range(1, pasos):\n",
      "        if random.choice(['adelante', u'atr\u00e1s']) == u'atr\u00e1s':\n",
      "            posicion[borracho, paso] = posicion[borracho,paso - 1] - 1\n",
      "        else:\n",
      "            posicion[borracho, paso] = posicion[borracho,paso - 1] + 1\n",
      "            \n",
      "\n",
      "promedio = np.mean(posicion, axis=0) # promedio\n",
      "rms = np.sqrt(np.mean(np.square(posicion), axis=0)) # media cuadr\u00e1tica \n",
      "        \n"
     ],
     "language": "python",
     "metadata": {},
     "outputs": []
    },
    {
     "cell_type": "code",
     "collapsed": false,
     "input": [
      "# Todos los borrachos a la vez\n",
      "for borracho in range(borrachos):\n",
      "    plt.plot(tiempo, posicion[borracho, :], '-')"
     ],
     "language": "python",
     "metadata": {},
     "outputs": []
    },
    {
     "cell_type": "code",
     "collapsed": false,
     "input": [
      "plt.plot(tiempo, promedio, label='Avg')\n",
      "plt.plot(tiempo, rms, label='RMS')\n",
      "plt.xlabel('tiempo')\n",
      "plt.ylabel('Promedio, RMS')\n",
      "plt.legend(loc='best')"
     ],
     "language": "python",
     "metadata": {},
     "outputs": []
    },
    {
     "cell_type": "code",
     "collapsed": false,
     "input": [
      "from scipy.optimize import curve_fit\n",
      "\n",
      "power_law = lambda x, a, b: a*x**b\n",
      "\n",
      "popt, pcov = curve_fit(power_law, tiempo, rms)"
     ],
     "language": "python",
     "metadata": {},
     "outputs": []
    },
    {
     "cell_type": "markdown",
     "metadata": {},
     "source": [
      "Estamos proponiendo que los datos ajustan a una ley de potencias del tipo \n",
      "\n",
      "$$y(t) = A t^B$$"
     ]
    },
    {
     "cell_type": "markdown",
     "metadata": {},
     "source": [
      "Que en este caso en particualar es:"
     ]
    },
    {
     "cell_type": "code",
     "collapsed": false,
     "input": [
      "print \"A = %f +/- %f.\" % (popt[0], sqrt(pcov[0,0]))\n",
      "print \"B = %f +/- %f.\" % (popt[1], sqrt(pcov[1,1]))"
     ],
     "language": "python",
     "metadata": {},
     "outputs": []
    },
    {
     "cell_type": "code",
     "collapsed": false,
     "input": [
      "plt.plot(tiempo, rms, label=\"RMS\")\n",
      "plt.plot(tiempo,power_law(tiempo, popt[0], popt[1]), label=r\"$y(t) = %f t ^{%f}$\" % (popt[0], popt[1]))\n",
      "plt.xlabel('tiempo')\n",
      "plt.ylabel(r'RMS, Ajuste')\n",
      "plt.legend(loc='best')"
     ],
     "language": "python",
     "metadata": {},
     "outputs": []
    },
    {
     "cell_type": "heading",
     "level": 3,
     "metadata": {},
     "source": [
      "Ejemplo: Difusi\u00f3n"
     ]
    },
    {
     "cell_type": "markdown",
     "metadata": {},
     "source": [
      "La difusi\u00f3n es el ejemplo con el que iniciamos la discusi\u00f3n, b\u00e1sicamente es una caminata aleatoria en 2D."
     ]
    },
    {
     "cell_type": "code",
     "collapsed": false,
     "input": [
      "plt.figure(figsize = (10,10))\n",
      "\n",
      "num_particulas = 400\n",
      "\n",
      "particulas = np.ones([num_particulas,2])*100  # Todas las part\u00edculas en el punto (100,100)\n",
      "\n",
      "\n",
      "# Dibujamos la posici\u00f3n inicial\n",
      "line, = plt.plot(particulas[:,0], particulas[:,1], 'ro')\n",
      "plt.xlim(0,200)\n",
      "plt.ylim(0,200)\n"
     ],
     "language": "python",
     "metadata": {},
     "outputs": []
    },
    {
     "cell_type": "code",
     "collapsed": false,
     "input": [
      "steps = 5000\n",
      "\n",
      "for i in range(steps):\n",
      "    for particula in range(num_particulas):\n",
      "        particulas[particula, 0] += random.randint(-1, 1)\n",
      "        particulas[particula, 1] += random.randint(-1, 1)\n",
      "        \n",
      "        # Verificar colisi\u00f3n\n",
      "        x, y = (particulas[particula, 0], particulas[particula, 1])\n",
      "        if x == 200:\n",
      "            particulas[particula, 0] = 198\n",
      "        elif x == 0:\n",
      "            particulas[particula, 0] = 2\n",
      "        \n",
      "        if y == 200:\n",
      "            particulas[particula, 1] = 198\n",
      "        elif y == 0:\n",
      "            particulas[particula, 1] = 2\n",
      "            "
     ],
     "language": "python",
     "metadata": {},
     "outputs": []
    },
    {
     "cell_type": "code",
     "collapsed": false,
     "input": [
      "# Dibujamos la posici\u00f3n luego de N steps\n",
      "line, = plt.plot(particulas[:,0], particulas[:,1], 'ro')\n",
      "plt.xlim(0,200)\n",
      "plt.ylim(0,200)"
     ],
     "language": "python",
     "metadata": {},
     "outputs": []
    },
    {
     "cell_type": "markdown",
     "metadata": {},
     "source": [
      "<div class=\"alert alert-info\">\n",
      "**Ejercicio:** \u00bfC\u00f3mo modificar\u00edas el c\u00f3digo para que pudieras usarlo en una animaci\u00f3n?\n",
      "</div>"
     ]
    },
    {
     "cell_type": "markdown",
     "metadata": {},
     "source": [
      "<div class=\"alert alert-info\">\n",
      "**Ejercicio:** \u00bfY para mostrarlo en un subplot cada 10 pasos?\n",
      "</div>"
     ]
    },
    {
     "cell_type": "code",
     "collapsed": false,
     "input": [],
     "language": "python",
     "metadata": {},
     "outputs": []
    }
   ],
   "metadata": {}
  }
 ]
}