{
 "metadata": {
  "name": "",
  "signature": "sha256:d7d67c36fa1e79feb8b01e931127f83239fc792b1bfd22893bf3aa2cf863383a"
 },
 "nbformat": 3,
 "nbformat_minor": 0,
 "worksheets": [
  {
   "cells": [
    {
     "cell_type": "heading",
     "level": 1,
     "metadata": {},
     "source": [
      "M\u00e9todos de Monte Carlo"
     ]
    },
    {
     "cell_type": "markdown",
     "metadata": {},
     "source": [
      "Es el nombre que se le da a las t\u00e9cnicas que utilizan generaci\u00f3n de m\u00e9todos aleatorios para resolver problemas en la computadora."
     ]
    },
    {
     "cell_type": "heading",
     "level": 1,
     "metadata": {},
     "source": [
      "N\u00fameros aleatorios"
     ]
    },
    {
     "cell_type": "markdown",
     "metadata": {},
     "source": [
      "\u00bfQu\u00e9 es _random_ ?\u00bfExiste?"
     ]
    },
    {
     "cell_type": "markdown",
     "metadata": {},
     "source": [
      "Las personas batallan mucho para generar aleatoriedad por si mismas."
     ]
    },
    {
     "cell_type": "markdown",
     "metadata": {},
     "source": [
      "Las computadoras son m\u00e1quinas deterministas."
     ]
    },
    {
     "cell_type": "markdown",
     "metadata": {},
     "source": [
      "Usaremos **n\u00fameros pseudo aleatorios**."
     ]
    },
    {
     "cell_type": "markdown",
     "metadata": {},
     "source": [
      "<div class=\"alert alert-info\">\n",
      "**Ejercicio** Programa el generador aleatorio de tipo [_linear congruential_](http://en.wikipedia.org/wiki/Linear_congruential_generator):\n",
      "    \n",
      "$$x_{n+1} = (a x_n + b) \\mod c$$\n",
      "\n",
      "Para que sea m\u00e1s f\u00e1cil, utiliza el concepto de [`generators`](http://anandology.com/python-practice-book/iterators.html) de **Python**\n",
      "</div>\n",
      "\n",
      "\n",
      "\n",
      "\n",
      "<div class=\"alert alert-info\">\n",
      " **Ejercicio** \u00bfCu\u00e1l es la secuencia?\n",
      "</div>\n",
      "\n",
      "<div class=\"alert alert-info\">\n",
      "**Ejercicio**  \u00bfDe qu\u00e9 longitud es la secuencia? \u00bfEst\u00e1 relacionada con el valor de $c$? \u00bfC\u00f3mo?\n",
      "</div>\n",
      "\n"
     ]
    },
    {
     "cell_type": "code",
     "collapsed": false,
     "input": [
      "%pylab inline\n",
      "import numpy as np\n",
      "import matplotlib.pyplot as plt"
     ],
     "language": "python",
     "metadata": {},
     "outputs": [
      {
       "output_type": "stream",
       "stream": "stdout",
       "text": [
        "Populating the interactive namespace from numpy and matplotlib\n"
       ]
      }
     ],
     "prompt_number": 4
    },
    {
     "cell_type": "code",
     "collapsed": false,
     "input": [
      "def pseudo_random_number_generator(seed, a, b, c):\n",
      "    yield 1"
     ],
     "language": "python",
     "metadata": {},
     "outputs": [],
     "prompt_number": 6
    },
    {
     "cell_type": "markdown",
     "metadata": {},
     "source": [
      "<div class=\"alert alert-info\">\n",
      "**Ejercicio** En los 70's fu\u00e9ron muy populares los coeficientes [**RANDU**](http://en.wikipedia.org/wiki/RANDU), pero se demostr\u00f3 que fallaban miserablemente las pruebas de aleatoriedad, en particular los tripletes de n\u00fameros consecutivos caen en uno de 15 planos paralelos... Dibuja los primeros 100,000 tripletes y reproduce la imagen de la wikipedia.\n",
      "</div>"
     ]
    },
    {
     "cell_type": "markdown",
     "metadata": {},
     "source": [
      "Afortunadamente (por lo menos para los fines de este curso) `python` incluye un generador llamado [**Mersenne Twister**](http://en.wikipedia.org/wiki/Mersenne_twister), el cual podemos usar si importamos la biblioteca `random`"
     ]
    },
    {
     "cell_type": "code",
     "collapsed": false,
     "input": [
      "import random"
     ],
     "language": "python",
     "metadata": {},
     "outputs": [],
     "prompt_number": 7
    },
    {
     "cell_type": "heading",
     "level": 1,
     "metadata": {},
     "source": [
      "Integraci\u00f3n de Monte Carlo"
     ]
    },
    {
     "cell_type": "markdown",
     "metadata": {},
     "source": [
      "Una t\u00e9cnica de **Monte Carlo** es la integraci\u00f3n, el algoritmo es muy simple:\n",
      "\n",
      "_Recuerda que la integraci\u00f3n devuelve el_ **\u00e1rea** _de una figura._\n",
      "\n",
      "1. Rodea el objeto al cual le quieres calcular el \u00e1rea con una figura de la cual conozcas el \u00e1rea (un rect\u00e1ngulo si es de dos dimensiones) y\n",
      "2. Genera un n\u00famero muy grande de puntos al azar dentro de la figura de la cual conoces el \u00e1rea.\n",
      "3. El \u00e1rea del objeto es aproximadamente la fracci\u00f3n de puntos que cayeron dentro del objeto multiplicada por el \u00e1rea del objeto que la rodea."
     ]
    },
    {
     "cell_type": "heading",
     "level": 3,
     "metadata": {},
     "source": [
      "Ejemplo: Calcular el volumen de una esfera de radio $r = 1$"
     ]
    },
    {
     "cell_type": "markdown",
     "metadata": {},
     "source": [
      "Podemos usar la simetr\u00eda del problema y concentrarnos en un cuadrante y luego multiplicar por $8$ el resultado. Usemos como figura que conocemos un cubo de lado $1$.\n"
     ]
    },
    {
     "cell_type": "code",
     "collapsed": false,
     "input": [
      "volumen_cubo = 1 * 1 * 1\n",
      "\n",
      "N = 1000000\n",
      "count = 0\n",
      "for j in range(N):\n",
      "    point = np.array([random.random(), random.random(), random.random()])  # Un punto al azar, random() genera valores entre 0-1\n",
      "    if sum(point**2) < 1:  # x^2 + y^2 + z^2 < 1 \u00bfEsta dentro?\n",
      "        count = count + 1\n",
      "        \n",
      "fraccion = float(count)/float(N)\n",
      "\n",
      "volumen = fraccion * volumen_cubo\n",
      "\n",
      "volumen_esfera = volumen * 8    "
     ],
     "language": "python",
     "metadata": {},
     "outputs": [],
     "prompt_number": 13
    },
    {
     "cell_type": "markdown",
     "metadata": {},
     "source": [
      "El volumen de la esfera se puede calcular analiticamente y es igual a \n",
      "\n",
      "$$\n",
      "V = \\frac{4}{3} \\pi r^3\n",
      "$$"
     ]
    },
    {
     "cell_type": "code",
     "collapsed": false,
     "input": [
      "volumen_esfera"
     ],
     "language": "python",
     "metadata": {},
     "outputs": [
      {
       "metadata": {},
       "output_type": "pyout",
       "prompt_number": 24,
       "text": [
        "4.188248"
       ]
      }
     ],
     "prompt_number": 24
    },
    {
     "cell_type": "code",
     "collapsed": false,
     "input": [
      "volumen = (4.0/3)*math.pi \n",
      "volumen"
     ],
     "language": "python",
     "metadata": {},
     "outputs": [
      {
       "metadata": {},
       "output_type": "pyout",
       "prompt_number": 25,
       "text": [
        "4.1887902047863905"
       ]
      }
     ],
     "prompt_number": 25
    },
    {
     "cell_type": "markdown",
     "metadata": {},
     "source": [
      "<div class=\"alert alert-info\">\n",
      "**Ejercicio** Calcula \n",
      "\n",
      "$$\n",
      "I = \\int_0^\\pi \\sin x dx\n",
      "$$\n",
      "\n",
      "Usando t\u00e9cnicas de Monte Carlo. Compara con el resultado anal\u00edtico.\n",
      "</div>"
     ]
    },
    {
     "cell_type": "markdown",
     "metadata": {},
     "source": [
      "<div class=\"alert alert-info\">\n",
      "**Ejercicio** Encuentra el volumen de la intersecci\u00f3n de una esfera y un cilindro. La esfera tiene $r = 1$ y est\u00e1 centrada en el origen. El cilindro tiene radio $r = 0.5$ y su eje es perpendicular al eje $x$ y pasa por el punto $(0.5, 0, 0)$.\n",
      "</div>"
     ]
    },
    {
     "cell_type": "code",
     "collapsed": false,
     "input": [],
     "language": "python",
     "metadata": {},
     "outputs": []
    }
   ],
   "metadata": {}
  }
 ]
}