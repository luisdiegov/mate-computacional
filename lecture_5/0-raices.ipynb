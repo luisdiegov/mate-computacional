{
 "metadata": {
  "name": "",
  "signature": "sha256:7fc5ac620a45f447f054d725cc52dedd9ed9048020280428598df3a029756fdc"
 },
 "nbformat": 3,
 "nbformat_minor": 0,
 "worksheets": [
  {
   "cells": [
    {
     "cell_type": "code",
     "collapsed": false,
     "input": [
      "%matplotlib inline\n",
      "import numpy as np\n",
      "import matplotlib.pyplot as plt"
     ],
     "language": "python",
     "metadata": {},
     "outputs": []
    },
    {
     "cell_type": "heading",
     "level": 1,
     "metadata": {},
     "source": [
      "Ra\u00edces de funciones no lineales"
     ]
    },
    {
     "cell_type": "markdown",
     "metadata": {},
     "source": [
      "Calcular las ra\u00edces de la ecuaci\u00f3n \n",
      "\n",
      "$$\n",
      "f(x) = 0\n",
      "$$\n",
      "\n",
      "es un problema recurrente en el c\u00e1lculo cient\u00edfico."
     ]
    },
    {
     "cell_type": "markdown",
     "metadata": {},
     "source": [
      "Para resolverlos, utilizaremos m\u00e9todos _iterativos_."
     ]
    },
    {
     "cell_type": "heading",
     "level": 2,
     "metadata": {},
     "source": [
      "M\u00e9todo de la bisecci\u00f3n"
     ]
    },
    {
     "cell_type": "markdown",
     "metadata": {},
     "source": [
      "Sea $f$ una funci\u00f3n continua en $[a,b]$ que satisface "
     ]
    },
    {
     "cell_type": "markdown",
     "metadata": {},
     "source": [
      "$$\n",
      "f(a)f(b) < 0\n",
      "$$"
     ]
    },
    {
     "cell_type": "markdown",
     "metadata": {},
     "source": [
      "<div class=\"alert alert-info\">\n",
      "**Ejercicio** \u00bfQu\u00e9 significa esto?\n",
      "</div>"
     ]
    },
    {
     "cell_type": "markdown",
     "metadata": {},
     "source": [
      "Esto implica que $f$ tiene un _cero_ en el intervalo $(a,b)$, llam\u00e9mosle $r$."
     ]
    },
    {
     "cell_type": "markdown",
     "metadata": {},
     "source": [
      "El **m\u00e9todo de la bisecci\u00f3n** se trata de dividir en dos partes iguales el intervalo $I^0 \\equiv (a,b)$ y seleccionar el subintervalo $I$ donde $f$ experimenta un cambio de signo. Siguiendo este procedimiento, se garantiza que cada $I^{(k)}$ seleccionado contendr\u00e1 a $r$. La sucesi\u00f3n ${x^{(k)}}$ tender\u00e1 a $r$ cuando $k \\to \\infty$."
     ]
    },
    {
     "cell_type": "markdown",
     "metadata": {},
     "source": [
      "Concretamente:\n",
      "\n",
      "\n",
      "1. Se inicializa el m\u00e9todo con $a^0 = a$, $b^0 = b$, $I^{(0)} = (a^0, b^0)$ y $x^{(0)} = \\frac{(a^0 + b^0)}{2}$.\n",
      "2. Sea k = 1:\n",
      "    - Evaluar $f(x^{(k-1)})$, $f(a^{(k-1)})$ y $f(b^{(k-1)})$.\n",
      "    -  Si $f(a^{(k-1)})\\cdot f(x^{(k-1)}) < 0$, entonces $a^k = a^{(k-1)}$, $b^k = x^{(k-1)}$.\n",
      "    - Si $f(x^{(k-1)})\\cdot f(b^{(k-1)}) < 0$, entonces $a^k = x^{(k-1)}$, $b^k = b^{(k-1)}$.\n",
      "    - Definir $x^k = (a^k + b^k)/2$.\n",
      "    - k = k + 1\n",
      "    - Repetir"
     ]
    },
    {
     "cell_type": "heading",
     "level": 2,
     "metadata": {},
     "source": [
      "Ejemplo"
     ]
    },
    {
     "cell_type": "markdown",
     "metadata": {},
     "source": [
      "Por ejemplo la funci\u00f3n"
     ]
    },
    {
     "cell_type": "markdown",
     "metadata": {},
     "source": [
      "$$\n",
      "f(x) = x^2 -1\n",
      "$$"
     ]
    },
    {
     "cell_type": "code",
     "collapsed": false,
     "input": [
      "x = np.linspace(-0.5, 1.5, 100)\n",
      "y = x**2 - 1\n",
      "plt.plot(x, y, color=\"red\")\n",
      "ax = plt.gca()  \n",
      "ax.spines['right'].set_color('none')\n",
      "ax.spines['top'].set_color('none')\n",
      "ax.xaxis.set_ticks_position('bottom')\n",
      "ax.spines['bottom'].set_position(('data',0))\n",
      "ax.yaxis.set_ticks_position('left')\n",
      "ax.spines['left'].set_position(('data',0))"
     ],
     "language": "python",
     "metadata": {},
     "outputs": []
    },
    {
     "cell_type": "heading",
     "level": 3,
     "metadata": {},
     "source": [
      "Funciones an\u00f3nimas"
     ]
    },
    {
     "cell_type": "markdown",
     "metadata": {},
     "source": [
      "Vamos a introducir el concepto de _funci\u00f3n an\u00f3nima_:"
     ]
    },
    {
     "cell_type": "code",
     "collapsed": false,
     "input": [
      "f = lambda x: x**2 -1 # Funci\u00f3n an\u00f3nima en GNU/Octave se definir\u00eda como f = @(x) x.^2 - 1"
     ],
     "language": "python",
     "metadata": {},
     "outputs": []
    },
    {
     "cell_type": "code",
     "collapsed": false,
     "input": [
      "f(-0.05)"
     ],
     "language": "python",
     "metadata": {},
     "outputs": []
    },
    {
     "cell_type": "code",
     "collapsed": false,
     "input": [
      "f(-0.25)"
     ],
     "language": "python",
     "metadata": {},
     "outputs": []
    },
    {
     "cell_type": "code",
     "collapsed": false,
     "input": [
      "f(1.25)"
     ],
     "language": "python",
     "metadata": {},
     "outputs": []
    },
    {
     "cell_type": "heading",
     "level": 3,
     "metadata": {},
     "source": [
      "Implementaci\u00f3n"
     ]
    },
    {
     "cell_type": "code",
     "collapsed": false,
     "input": [
      "def biseccion(func, a, b, stop):\n",
      "    x = (a + b)/2\n",
      "    \n",
      "    assert f(a)*f(b) < 0, \"El signo de la funci\u00f3n en los extremos deber\u00eda de ser diferente\"\n",
      "    assert f(a) != 0, \"La ra\u00edz es %.5f\" % a\n",
      "    assert f(b) != 0, \"La ra\u00edz es %.5f\" % b\n",
      "    \n",
      "    print \"%s\\t%12s\\t%12s\" % (\"k\", \"I(a,b)\", \"x\")\n",
      "    print \"%d\\tI(%.5f, %.5f)\\t%.5f\" % (0,a, b, x)\n",
      "    \n",
      "    for k in range(stop):        \n",
      "        f_x = f(x)\n",
      "        f_a = f(a)\n",
      "        f_b = f(b)        \n",
      "        \n",
      "        if(f_a*f_x < 0):\n",
      "            a, b = a, x\n",
      "        elif(f_x*f_b < 0):\n",
      "            a, b = x, b\n",
      "        x = (a+b)/2\n",
      "        \n",
      "        print \"%d\\tI(%.5f, %.5f)\\t%.12f\" % (k+1, a, b, x)"
     ],
     "language": "python",
     "metadata": {},
     "outputs": []
    },
    {
     "cell_type": "code",
     "collapsed": false,
     "input": [
      "biseccion(func = f, a = -0.25, b = 1.25, stop = 10)"
     ],
     "language": "python",
     "metadata": {},
     "outputs": []
    },
    {
     "cell_type": "heading",
     "level": 3,
     "metadata": {},
     "source": [
      "Ejercicio:Implementaci\u00f3n con `Numpy`"
     ]
    },
    {
     "cell_type": "markdown",
     "metadata": {},
     "source": [
      "Observa lo siguiente:"
     ]
    },
    {
     "cell_type": "code",
     "collapsed": false,
     "input": [
      "f(np.array([0,1,2]))"
     ],
     "language": "python",
     "metadata": {},
     "outputs": []
    },
    {
     "cell_type": "markdown",
     "metadata": {},
     "source": [
      "<div class=\"alert alert-info\">\n",
      "**Ejercicio** Reescribe usando `numpy` la funci\u00f3n `biseccion`\n",
      "</div>"
     ]
    },
    {
     "cell_type": "markdown",
     "metadata": {},
     "source": [
      "<div class=\"alert alert-info\">\n",
      "**Ejercicio** Reescribe usando `GNU/Octave` la funci\u00f3n `biseccion` usando la celda que sigue. Abre el `docker` de `GNU/Octave` y prueba el algoritmo.\n",
      "</div>"
     ]
    },
    {
     "cell_type": "markdown",
     "metadata": {},
     "source": [
      "\n",
      "> % Pon aqu\u00ed el c\u00f3digo en GNU/Octave\n",
      "\n",
      ">function [raiz] = biseccion(func,a, b, stop)\n",
      ">    ...\n",
      ">\n",
      ">    raiz = \n",
      ">    % fin de la funci\u00f3n"
     ]
    },
    {
     "cell_type": "markdown",
     "metadata": {},
     "source": [
      "Se puede invocar desde la consola de `octave` como\n",
      "\n",
      "> [raiz, k ] = biseccion(func, a, b, stop)"
     ]
    },
    {
     "cell_type": "heading",
     "level": 2,
     "metadata": {},
     "source": [
      "Una mejor manera de detenerse"
     ]
    },
    {
     "cell_type": "markdown",
     "metadata": {},
     "source": [
      "Ser\u00eda mejor detenerse no con un `stop`, si no cuando la soluci\u00f3n est\u00e9 lo suficientemente cerca de la soluci\u00f3n real."
     ]
    },
    {
     "cell_type": "markdown",
     "metadata": {},
     "source": [
      "N\u00f3tese que en cada paso, la norma del intervalo es\n",
      "\n",
      "$$\n",
      "|I^{(k)}| \\equiv b^k - a^k\n",
      "$$\n",
      "\n",
      "contiene a la ra\u00edz $r$."
     ]
    },
    {
     "cell_type": "markdown",
     "metadata": {},
     "source": [
      "Por cada iteraci\u00f3n $k$, la norma se divide por $2$:\n",
      "\n",
      "$$\n",
      "|I^{(k)}| = \\left(\\frac{1}{2}\\right)^k |I^0|\n",
      "$$"
     ]
    },
    {
     "cell_type": "markdown",
     "metadata": {},
     "source": [
      "Entonces, si definimos el _error_ como \n",
      "\n",
      "$$\n",
      "|e^k| \\equiv |x^k - r| \n",
      "$$\n",
      "\n",
      "tenemos que\n",
      "\n",
      "$$\n",
      "|e^k| < \\frac{1}{2}|I^k| = \\left(\\frac{1}{2}\\right)^{k+1} (b-a)\n",
      "$$"
     ]
    },
    {
     "cell_type": "markdown",
     "metadata": {},
     "source": [
      "Para garantizar que $|e^k| < tol$, donde $tol$ es la tolerancia deseada, basta con llevar a cabo $k_{min}$  iteraciones, donde\n",
      "\n",
      "$$\n",
      "k_{min} > log_2\\left(\\frac{b-a}{tol}\\right) - 1\n",
      "$$"
     ]
    },
    {
     "cell_type": "code",
     "collapsed": false,
     "input": [
      "def biseccion(func, a, b, tolerancia, stop):\n",
      "    k = 0\n",
      "    \n",
      "    x = (a + b)/2\n",
      "    \n",
      "    I = (b - a)/2\n",
      "    \n",
      "    assert f(a)*f(b) < 0, \"El signo de la funci\u00f3n en los extremos deber\u00eda de ser diferente\"\n",
      "    assert f(a) != 0, \"La ra\u00edz es %.5f\" % a\n",
      "    assert f(b) != 0, \"La ra\u00edz es %.5f\" % b\n",
      "    \n",
      "    print \"%s\\t%12s\\t%12s\" % (\"k\",\"I(a,b)\", \"x\")\n",
      "    print \"%s\\tI(%.5f, %.5f)\\t%.5f\" % (\"0\",a, b, x)\n",
      "    \n",
      "    while I >= tolerancia and k <= stop:\n",
      "        k = k + 1\n",
      "        \n",
      "        f_x = f(x)\n",
      "        f_a = f(a)\n",
      "        f_b = f(b)        \n",
      "        \n",
      "        \n",
      "        if(f_a*f_x < 0):\n",
      "            a, b = a, x\n",
      "        elif(f_x*f_b < 0):\n",
      "            a, b = x, b\n",
      "        \n",
      "        x = (a+b)/2\n",
      "        \n",
      "        I = (b - a)/2\n",
      "        \n",
      "        print \"%d\\tI(%.5f, %.5f)\\t%.12f\" % (k,a, b, x)"
     ],
     "language": "python",
     "metadata": {},
     "outputs": []
    },
    {
     "cell_type": "code",
     "collapsed": false,
     "input": [
      "biseccion(func = f, a = -0.25, b = 1.25, tolerancia = 1e-4, stop = 100)"
     ],
     "language": "python",
     "metadata": {},
     "outputs": []
    },
    {
     "cell_type": "markdown",
     "metadata": {},
     "source": [
      "<div class=\"alert alert-info\">\n",
      "**Ejercicio** Reescribe usando `numpy` la funci\u00f3n `biseccion`\n",
      "</div>"
     ]
    },
    {
     "cell_type": "markdown",
     "metadata": {},
     "source": [
      "<div class=\"alert alert-info\">\n",
      "**Ejercicio** Reescribe usando `GNU/Octave` la funci\u00f3n `biseccion` usando la celda que sigue. Abre el `docker` de `GNU/Octave` y prueba el algoritmo.\n",
      "</div>"
     ]
    },
    {
     "cell_type": "heading",
     "level": 2,
     "metadata": {},
     "source": [
      "M\u00e9todo de Newton"
     ]
    },
    {
     "cell_type": "markdown",
     "metadata": {},
     "source": [
      "Podemos dise\u00f1ar un algoritmo m\u00e1s eficiente que el **m\u00e9todo de la bisecci\u00f3n** si incorporamos m\u00e1s informaci\u00f3n que el cambio de signo de $f$. En el **m\u00e9todo de Newton** se incorpora el valor de $f(x)$ y el valor de la derivada de $f$: $f'(x)$. La ecuaci\u00f3n de la tangente a la funci\u00f3n $f$ en $x$ es:"
     ]
    },
    {
     "cell_type": "markdown",
     "metadata": {},
     "source": [
      "$$\n",
      "y(x) = f(x^{(k)}) + f'(x^{(k)})\\cdot(x-x^{(k)})\n",
      "$$"
     ]
    },
    {
     "cell_type": "markdown",
     "metadata": {},
     "source": [
      "Entonces, si $y(x^{(k+1)}) = 0$, tenemos:"
     ]
    },
    {
     "cell_type": "markdown",
     "metadata": {},
     "source": [
      "$$\n",
      "x^{(k+1)} = x^{(k)} - \\frac{f({(k)})}{f'(x^{(k)})}, \\qquad k \\geq 0, \\quad f'(x^{(k)}) \\neq 0\n",
      "$$"
     ]
    },
    {
     "cell_type": "markdown",
     "metadata": {},
     "source": [
      "<div class=\"alert alert-info\">\n",
      "**Ejercicio**: \u00bfCu\u00e1l es la serie de Taylor de $f$ alrededor de un punto cualesquiera $x$? \u00bfQu\u00e9 te dice esto de la ecuaci\u00f3n iterativa de Newton?\n",
      "</div>"
     ]
    },
    {
     "cell_type": "markdown",
     "metadata": {},
     "source": [
      "<div class=\"alert alert-danger\">\n",
      "**NOTA** En general el m\u00e9todo de Newton no converge para todas las posibles elecciones de $x^0$, si no para aquellos valores lo _suficientemente_ cerca de $r$...\n",
      "</div>"
     ]
    },
    {
     "cell_type": "markdown",
     "metadata": {},
     "source": [
      "<div class=\"alert alert-warning\">\n",
      "**NOTA** En la pr\u00e1ctica uno puede establecer $x^0$ inspeccionando la gr\u00e1fica visualmente, o usando unas cuantas iteraciones del m\u00e9todo de la bisecci\u00f3n...\n",
      "</div>"
     ]
    },
    {
     "cell_type": "code",
     "collapsed": false,
     "input": [
      "import sympy as sym"
     ],
     "language": "python",
     "metadata": {},
     "outputs": []
    },
    {
     "cell_type": "code",
     "collapsed": false,
     "input": [
      "x = sym.Symbol('x')"
     ],
     "language": "python",
     "metadata": {},
     "outputs": []
    },
    {
     "cell_type": "code",
     "collapsed": false,
     "input": [
      "x"
     ],
     "language": "python",
     "metadata": {},
     "outputs": []
    },
    {
     "cell_type": "code",
     "collapsed": false,
     "input": [
      "f =  x**2 - 1"
     ],
     "language": "python",
     "metadata": {},
     "outputs": []
    },
    {
     "cell_type": "code",
     "collapsed": false,
     "input": [
      "df = sym.diff(f, x)"
     ],
     "language": "python",
     "metadata": {},
     "outputs": []
    },
    {
     "cell_type": "code",
     "collapsed": false,
     "input": [
      "F = sym.lambdify(x,f, modules=\"numpy\")"
     ],
     "language": "python",
     "metadata": {},
     "outputs": []
    },
    {
     "cell_type": "code",
     "collapsed": false,
     "input": [
      "F"
     ],
     "language": "python",
     "metadata": {},
     "outputs": []
    },
    {
     "cell_type": "code",
     "collapsed": false,
     "input": [
      "F(0)"
     ],
     "language": "python",
     "metadata": {},
     "outputs": []
    },
    {
     "cell_type": "code",
     "collapsed": false,
     "input": [
      "DF = sym.lambdify(x, df, modules=\"numpy\")"
     ],
     "language": "python",
     "metadata": {},
     "outputs": []
    },
    {
     "cell_type": "code",
     "collapsed": false,
     "input": [
      "DF(1)"
     ],
     "language": "python",
     "metadata": {},
     "outputs": []
    },
    {
     "cell_type": "code",
     "collapsed": false,
     "input": [
      "def newtonRaphson(func, dFunc, x0, tolerancia, stop):\n",
      "    k=0\n",
      "    while k <= stop:\n",
      "        k = k + 1\n",
      "        x1 = x0 - (func(x0)/dFunc(x0))\n",
      "        print x1, k\n",
      "        if x1 - x0 < tolerancia:\n",
      "            return x1\n",
      "        else:\n",
      "            x0 = x1\n",
      "    print \"El valor es: \", x0"
     ],
     "language": "python",
     "metadata": {},
     "outputs": []
    },
    {
     "cell_type": "code",
     "collapsed": false,
     "input": [
      "newtonRaphson(F, DF, -0.3, 1e-10, 100)"
     ],
     "language": "python",
     "metadata": {},
     "outputs": []
    },
    {
     "cell_type": "code",
     "collapsed": false,
     "input": [],
     "language": "python",
     "metadata": {},
     "outputs": []
    }
   ],
   "metadata": {}
  }
 ]
}