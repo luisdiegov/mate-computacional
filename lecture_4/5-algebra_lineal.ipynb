{
 "metadata": {
  "name": "",
  "signature": "sha256:db9148fba19eb3b4aa2b97e71dd3f0a82649573aa90863257db865ac0a0c6d74"
 },
 "nbformat": 3,
 "nbformat_minor": 0,
 "worksheets": [
  {
   "cells": [
    {
     "cell_type": "heading",
     "level": 1,
     "metadata": {},
     "source": [
      "Algebra Lineal"
     ]
    },
    {
     "cell_type": "code",
     "collapsed": false,
     "input": [
      "%matplotlib inline\n",
      "import numpy as np\n",
      "import matplotlib.pyplot as plt\n",
      "import scipy.linalg # Biblioteca para algebra lineal"
     ],
     "language": "python",
     "metadata": {},
     "outputs": []
    },
    {
     "cell_type": "heading",
     "level": 2,
     "metadata": {},
     "source": [
      "Algebra de matrices"
     ]
    },
    {
     "cell_type": "markdown",
     "metadata": {},
     "source": [
      "Los arreglos de **numpy** no se comportan como las _matrices_ de sus clases de algebra lineal.\n",
      "\n",
      "En lugar de ello, hacen _broadcasting_, como hemos visto en las clases pasadas. Recordemos que _broadcasting_ es mapear las operaciones a cada uno de los elementos del arreglo (_array_)."
     ]
    },
    {
     "cell_type": "markdown",
     "metadata": {},
     "source": [
      "\u00bfPero que pasa si queremos hacer operaciones matriciales? Bueno, **numpy** nos ofrece las siguientes opciones.\n",
      "\n",
      "Definamos el arreglo $\\textbf{A}$"
     ]
    },
    {
     "cell_type": "code",
     "collapsed": false,
     "input": [
      "A = np.array([[n+m*10 for n in range(1,5)] for m in range(1,5)])\n",
      "\n",
      "A"
     ],
     "language": "python",
     "metadata": {},
     "outputs": []
    },
    {
     "cell_type": "markdown",
     "metadata": {},
     "source": [
      "El arreglo $\\textbf{A}$, es eso, un arreglo (_array_), es el mismo objeto que hemos visto con anterioridad. **Numpy** soporta (en beneficio de los usuarios de `matlab`/`GNU Octave`) el objeto `matrix`."
     ]
    },
    {
     "cell_type": "code",
     "collapsed": false,
     "input": [
      "Am = np.matrix(A)\n",
      "Am"
     ],
     "language": "python",
     "metadata": {},
     "outputs": []
    },
    {
     "cell_type": "markdown",
     "metadata": {},
     "source": [
      "<div class=\"alert alert-warning\">\n",
      "Como probablemente en un futuro se topen con cosas de `matlab / GNU Octave` les recomiendo esta [liga](http://wiki.scipy.org/NumPy_for_Matlab_Users)\n",
      "</div>"
     ]
    },
    {
     "cell_type": "markdown",
     "metadata": {},
     "source": [
      "Nada nuevo en cuanto las dimensiones de $\\textbf{A}$ y $A_m$:"
     ]
    },
    {
     "cell_type": "code",
     "collapsed": false,
     "input": [
      "print A.shape\n",
      "print Am.shape"
     ],
     "language": "python",
     "metadata": {},
     "outputs": []
    },
    {
     "cell_type": "markdown",
     "metadata": {},
     "source": [
      "Pero recordemos de la clase pasada que el _slicing_ devuelve arreglos unidimensionales "
     ]
    },
    {
     "cell_type": "code",
     "collapsed": false,
     "input": [
      "y = A[:, 0]\n",
      "print y\n",
      "print y.shape"
     ],
     "language": "python",
     "metadata": {},
     "outputs": []
    },
    {
     "cell_type": "markdown",
     "metadata": {},
     "source": [
      "En lugar de arreglos bidimensionales (Recuerden sus clases de algebra lineal y piensen en lo que llaman _vectores_...)"
     ]
    },
    {
     "cell_type": "code",
     "collapsed": false,
     "input": [
      "ym = Am[:,0]\n",
      "print ym\n",
      "print ym.shape"
     ],
     "language": "python",
     "metadata": {},
     "outputs": []
    },
    {
     "cell_type": "markdown",
     "metadata": {},
     "source": [
      "Obviamente este comportamiento se puede simular con arreglos y _slicing_, pero es mucho m\u00e1s _verbose_:"
     ]
    },
    {
     "cell_type": "code",
     "collapsed": false,
     "input": [
      "y = A[:,:1]\n",
      "print y\n",
      "print y.shape"
     ],
     "language": "python",
     "metadata": {},
     "outputs": []
    },
    {
     "cell_type": "markdown",
     "metadata": {},
     "source": [
      "Las operaciones en matrices (usando la clase `matrix`) son como sigue:"
     ]
    },
    {
     "cell_type": "code",
     "collapsed": false,
     "input": [
      "Am*ym"
     ],
     "language": "python",
     "metadata": {},
     "outputs": []
    },
    {
     "cell_type": "code",
     "collapsed": false,
     "input": [
      "ym*Am"
     ],
     "language": "python",
     "metadata": {},
     "outputs": []
    },
    {
     "cell_type": "markdown",
     "metadata": {},
     "source": [
      "<div class=\"alert alert-info\">\n",
      "**Ejercicio** \u00bfPor qu\u00e9 no funcion\u00f3?\n",
      "</div>"
     ]
    },
    {
     "cell_type": "code",
     "collapsed": false,
     "input": [
      "ym.T"
     ],
     "language": "python",
     "metadata": {},
     "outputs": []
    },
    {
     "cell_type": "code",
     "collapsed": false,
     "input": [
      "Am.T"
     ],
     "language": "python",
     "metadata": {},
     "outputs": []
    },
    {
     "cell_type": "markdown",
     "metadata": {},
     "source": [
      "Una operaci\u00f3n com\u00fan es el producto $y^T A y$ (esto es simplemente el _producto interno_)"
     ]
    },
    {
     "cell_type": "code",
     "collapsed": false,
     "input": [
      "ym.T*Am*ym"
     ],
     "language": "python",
     "metadata": {},
     "outputs": []
    },
    {
     "cell_type": "code",
     "collapsed": false,
     "input": [
      "Am*Am"
     ],
     "language": "python",
     "metadata": {},
     "outputs": []
    },
    {
     "cell_type": "code",
     "collapsed": false,
     "input": [
      "Am**2 # Esto es equivalente a Am * Am"
     ],
     "language": "python",
     "metadata": {},
     "outputs": []
    },
    {
     "cell_type": "code",
     "collapsed": false,
     "input": [
      "Am + ym"
     ],
     "language": "python",
     "metadata": {},
     "outputs": []
    },
    {
     "cell_type": "code",
     "collapsed": false,
     "input": [
      "Am**(-1)"
     ],
     "language": "python",
     "metadata": {},
     "outputs": []
    },
    {
     "cell_type": "code",
     "collapsed": false,
     "input": [
      "Id = np.matrix(np.identity(4))\n",
      "Id"
     ],
     "language": "python",
     "metadata": {},
     "outputs": []
    },
    {
     "cell_type": "heading",
     "level": 3,
     "metadata": {},
     "source": [
      "Soluciones de sistemas de ecuaciones"
     ]
    },
    {
     "cell_type": "markdown",
     "metadata": {},
     "source": [
      "Los sistemas de ecuaciones lineales se pueden plantear como un problema matricial, del tipo $\\textbf{A}\\textbf{x} = \\textbf{B}$, por ejemplo:"
     ]
    },
    {
     "cell_type": "markdown",
     "metadata": {},
     "source": [
      "$3x + 6y -5z = 12$\n",
      "\n",
      "$x - 3y + 2z = -2$\n",
      "\n",
      "$5x -y + 4z = 10$"
     ]
    },
    {
     "cell_type": "markdown",
     "metadata": {},
     "source": [
      "La soluci\u00f3n de las ecuaciones matriciales $\\textbf{A}\\textbf{x} = \\textbf{B}$, es $\\textbf{x} = \\textbf{A}^{-1}\\textbf{B}$ (Si la matriz $\\textbf{A}$ es invertible, claro est\u00e1)"
     ]
    },
    {
     "cell_type": "code",
     "collapsed": false,
     "input": [
      "A = np.matrix([[3,6,-5],\n",
      "              [1,-3,2],\n",
      "              [5,-1,4]])\n",
      "A"
     ],
     "language": "python",
     "metadata": {},
     "outputs": []
    },
    {
     "cell_type": "code",
     "collapsed": false,
     "input": [
      "B = np.matrix([[12],\n",
      "               [-2],\n",
      "               [10]])\n",
      "B"
     ],
     "language": "python",
     "metadata": {},
     "outputs": []
    },
    {
     "cell_type": "code",
     "collapsed": false,
     "input": [
      "x = A**(-1)*B\n",
      "print x"
     ],
     "language": "python",
     "metadata": {},
     "outputs": []
    },
    {
     "cell_type": "code",
     "collapsed": false,
     "input": [
      "A*x"
     ],
     "language": "python",
     "metadata": {},
     "outputs": []
    },
    {
     "cell_type": "markdown",
     "metadata": {},
     "source": [
      "<div class=\"alert alert-danger\">\n",
      "Es importante tener en mente que las matrices generalmente no son invertibles, por lo que este m\u00e9todo de soluci\u00f3n, no siempre funciona.\n",
      "</div>"
     ]
    },
    {
     "cell_type": "heading",
     "level": 3,
     "metadata": {},
     "source": [
      "Transformaciones"
     ]
    },
    {
     "cell_type": "code",
     "collapsed": false,
     "input": [
      "A = np.matrix(\"1,2,3;4,5,6\")\n",
      "A"
     ],
     "language": "python",
     "metadata": {},
     "outputs": []
    },
    {
     "cell_type": "code",
     "collapsed": false,
     "input": [
      "C = np.matrix([[1j, 2j], [3j, 4j]])\n",
      "C"
     ],
     "language": "python",
     "metadata": {},
     "outputs": []
    },
    {
     "cell_type": "markdown",
     "metadata": {},
     "source": [
      "El conjugado de una matriz compleja $\\textbf{C}$"
     ]
    },
    {
     "cell_type": "code",
     "collapsed": false,
     "input": [
      "np.conjugate(C)"
     ],
     "language": "python",
     "metadata": {},
     "outputs": []
    },
    {
     "cell_type": "markdown",
     "metadata": {},
     "source": [
      "El _hermitianno_ de una matriz (es decir, el _conjugado_ y la _traspuesta_)"
     ]
    },
    {
     "cell_type": "code",
     "collapsed": false,
     "input": [
      "C.H"
     ],
     "language": "python",
     "metadata": {},
     "outputs": []
    },
    {
     "cell_type": "code",
     "collapsed": false,
     "input": [
      "(np.conjugate(C)).T"
     ],
     "language": "python",
     "metadata": {},
     "outputs": []
    },
    {
     "cell_type": "markdown",
     "metadata": {},
     "source": [
      "El _hermitiano_ de una matriz real (como $\\textbf{A}$) es simplemente la _traspuesta_"
     ]
    },
    {
     "cell_type": "code",
     "collapsed": false,
     "input": [
      "print A.H \n",
      "print A.T"
     ],
     "language": "python",
     "metadata": {},
     "outputs": []
    },
    {
     "cell_type": "markdown",
     "metadata": {},
     "source": [
      "La parte $\\Re$ e $\\Im$ de una matriz es"
     ]
    },
    {
     "cell_type": "code",
     "collapsed": false,
     "input": [
      "np.real(C) # tambi\u00e9n funciona C.real"
     ],
     "language": "python",
     "metadata": {},
     "outputs": []
    },
    {
     "cell_type": "code",
     "collapsed": false,
     "input": [
      "np.imag(C) # tambi\u00e9n funciona C.imag"
     ],
     "language": "python",
     "metadata": {},
     "outputs": []
    },
    {
     "cell_type": "code",
     "collapsed": false,
     "input": [
      "A.imag"
     ],
     "language": "python",
     "metadata": {},
     "outputs": []
    },
    {
     "cell_type": "markdown",
     "metadata": {},
     "source": [
      "La inversa de una matriz"
     ]
    },
    {
     "cell_type": "code",
     "collapsed": false,
     "input": [
      "C.I"
     ],
     "language": "python",
     "metadata": {},
     "outputs": []
    },
    {
     "cell_type": "code",
     "collapsed": false,
     "input": [
      "C*C.I"
     ],
     "language": "python",
     "metadata": {},
     "outputs": []
    },
    {
     "cell_type": "code",
     "collapsed": false,
     "input": [
      "C.I*C"
     ],
     "language": "python",
     "metadata": {},
     "outputs": []
    },
    {
     "cell_type": "heading",
     "level": 3,
     "metadata": {},
     "source": [
      "Determinantes"
     ]
    },
    {
     "cell_type": "code",
     "collapsed": false,
     "input": [
      "A = np.matrix([[1,2],[3,4]])\n",
      "A"
     ],
     "language": "python",
     "metadata": {},
     "outputs": []
    },
    {
     "cell_type": "code",
     "collapsed": false,
     "input": [
      "np.linalg.det(A)"
     ],
     "language": "python",
     "metadata": {},
     "outputs": []
    },
    {
     "cell_type": "code",
     "collapsed": false,
     "input": [
      "B = np.arange(1,10).reshape(3,3)\n",
      "B = np.matrix(B)\n",
      "B"
     ],
     "language": "python",
     "metadata": {},
     "outputs": []
    },
    {
     "cell_type": "code",
     "collapsed": false,
     "input": [
      "np.linalg.det(B)"
     ],
     "language": "python",
     "metadata": {},
     "outputs": []
    },
    {
     "cell_type": "markdown",
     "metadata": {},
     "source": [
      "<div class=\"alert alert-info\">\n",
      "Sean las matrices $\\textbf{A}$ y $\\textbf{B}$ definidas abajo, compruebe las propiedades $1-6$ de los determinantes como se muestran en la p\u00e1gina de la [Wikipedia](http://en.wikipedia.org/wiki/Determinant)\n",
      "</div>"
     ]
    },
    {
     "cell_type": "code",
     "collapsed": false,
     "input": [
      "A = np.matrix([[-2,2,-3],\n",
      "               [-1,1,3],\n",
      "               [2,0,-1]])\n",
      "print  A"
     ],
     "language": "python",
     "metadata": {},
     "outputs": []
    },
    {
     "cell_type": "code",
     "collapsed": false,
     "input": [
      "B = np.matrix([[5, -3, 2],\n",
      "               [1,0,2],\n",
      "               [2,-1,3]])\n",
      "print B"
     ],
     "language": "python",
     "metadata": {},
     "outputs": []
    },
    {
     "cell_type": "markdown",
     "metadata": {},
     "source": [
      "<div class=\"alert alert-info\">\n",
      "**Ejercicio**: Resuelva el sistema de ecuaciones lineales mostrado anteriormente, pero usando la [**Regla de Cramer**](http://en.wikipedia.org/wiki/Cramer's_rule)\n",
      "</div>"
     ]
    },
    {
     "cell_type": "markdown",
     "metadata": {},
     "source": [
      "El m\u00f3dulo `scipy.linalg` permite la creaci\u00f3n de matrices especiales, tales como matrices diagonales de bloques `block_diag`, matrices circulantes `circulant`, matrices _companion_ (`companion`), matrices de Hadamard (`hadamard`), Hankel (`hankel`), Hilbert (`hilbert`), Hilbert invertida (`invhilbert`), Leslie (`leslie`), Toeplitz (`toeplitz`) y matrices triangulares (`tri`, `tril`, `triu`)."
     ]
    },
    {
     "cell_type": "heading",
     "level": 3,
     "metadata": {},
     "source": [
      "Eigenvalores y eigenvectores"
     ]
    },
    {
     "cell_type": "markdown",
     "metadata": {},
     "source": [
      "El c\u00e1lculo de _eigenvectores_ y _eigenvalores_ es uno de los m\u00e1s complicados (y \u00fatiles) a realizarse en matrices cuadradas. **SciPy** posee varias rutinas para calcularlas:\n",
      "\n",
      "- `eigvals`\n",
      "\n",
      "- `eigvalsh`\n",
      "\n",
      "- `eigvals_banded`\n",
      "\n",
      "Y los respectivos m\u00e9todos para _eigenvectores_: `eig`, `eigh` y `eigh_banded`."
     ]
    },
    {
     "cell_type": "markdown",
     "metadata": {},
     "source": [
      "<div class=\"alert alert-info\">\n",
      "**Ejercicio:** Calcule los _eigenvectores_ e _eigenvalores_ de las siguientes matrices usando los diferentes m\u00e9todos.\n",
      "\n",
      "- $$ A =  \\left[\\begin{matrix} 4 & 6 & 4\\\\-2 & -3 & -4\\\\0 & 0 & 2\\end{matrix}\\right] $$\n",
      "\n",
      "- $$ B = \\left[\\begin{matrix} 1 & 2 & 0\\\\0 & 1 & 2\\\\0 & 0 & 1\\end{matrix}\\right] $$\n",
      "\n",
      "**NOTA** Si es posible, utilice los m\u00e9todos de creaci\u00f3n de matrices especiales.\n",
      "\n",
      "</div>"
     ]
    },
    {
     "cell_type": "heading",
     "level": 3,
     "metadata": {},
     "source": [
      "Algebra lineal simb\u00f3lica"
     ]
    },
    {
     "cell_type": "markdown",
     "metadata": {},
     "source": [
      "Es posible manipular algebraicamente a matrices de expresiones simb\u00f3licas, usando la clase de `Matrix` de **SimPy** . "
     ]
    },
    {
     "cell_type": "code",
     "collapsed": false,
     "input": [
      "from IPython.html.widgets import interact\n",
      "from IPython.display import display"
     ],
     "language": "python",
     "metadata": {},
     "outputs": []
    },
    {
     "cell_type": "markdown",
     "metadata": {},
     "source": [
      "<div class=\"alert alert-danger\">\n",
      "Cuando se trabaja con **Sympy** **no** se puede usar  `%pylab inline` ya que `%pylab%` importa variables que entraran en conflicto con **Sympy**. Es mejor usar, `%matplotlib inline` e importar `numpy` y `matplotlib`.\n",
      "</div>"
     ]
    },
    {
     "cell_type": "code",
     "collapsed": false,
     "input": [
      "from sympy import *"
     ],
     "language": "python",
     "metadata": {},
     "outputs": []
    },
    {
     "cell_type": "code",
     "collapsed": false,
     "input": [
      "init_printing(use_latex='mathjax')"
     ],
     "language": "python",
     "metadata": {},
     "outputs": []
    },
    {
     "cell_type": "code",
     "collapsed": false,
     "input": [
      "x = Symbol('x')\n",
      "y = Symbol('y')\n"
     ],
     "language": "python",
     "metadata": {},
     "outputs": []
    },
    {
     "cell_type": "code",
     "collapsed": false,
     "input": [
      "A = Matrix([[1,x], [y,1]])\n",
      "A"
     ],
     "language": "python",
     "metadata": {},
     "outputs": []
    },
    {
     "cell_type": "code",
     "collapsed": false,
     "input": [
      "A[0,0]"
     ],
     "language": "python",
     "metadata": {},
     "outputs": []
    },
    {
     "cell_type": "code",
     "collapsed": false,
     "input": [
      "A[:,1]"
     ],
     "language": "python",
     "metadata": {},
     "outputs": []
    },
    {
     "cell_type": "code",
     "collapsed": false,
     "input": [
      "A**2"
     ],
     "language": "python",
     "metadata": {},
     "outputs": []
    },
    {
     "cell_type": "code",
     "collapsed": false,
     "input": [
      "A.inv()"
     ],
     "language": "python",
     "metadata": {},
     "outputs": []
    },
    {
     "cell_type": "code",
     "collapsed": false,
     "input": [
      "I = A.inv()*A\n",
      "I"
     ],
     "language": "python",
     "metadata": {},
     "outputs": []
    },
    {
     "cell_type": "code",
     "collapsed": false,
     "input": [
      "I = simplify(I)\n",
      "I"
     ],
     "language": "python",
     "metadata": {},
     "outputs": []
    },
    {
     "cell_type": "markdown",
     "metadata": {},
     "source": [
      "Para matrices peque\u00f1as, puedes calcular los _eigenvalores_ simb\u00f3licamente."
     ]
    },
    {
     "cell_type": "code",
     "collapsed": false,
     "input": [
      "A.eigenvals()"
     ],
     "language": "python",
     "metadata": {},
     "outputs": []
    },
    {
     "cell_type": "code",
     "collapsed": false,
     "input": [
      "A.subs({x:0, y:1})"
     ],
     "language": "python",
     "metadata": {},
     "outputs": []
    },
    {
     "cell_type": "markdown",
     "metadata": {},
     "source": [
      "<div class=\"alert alert-info\">\n",
      "**Ejercicio**: Cree matrices de $3\\times3$ de *Hilbert*, *Leslie* y *Circulantes* y mu\u00e9strelas de manera simb\u00f3lica.\n",
      "</div>"
     ]
    },
    {
     "cell_type": "heading",
     "level": 2,
     "metadata": {},
     "source": [
      "Ejemplos"
     ]
    },
    {
     "cell_type": "heading",
     "level": 3,
     "metadata": {},
     "source": [
      "Procesamiento de im\u00e1genes"
     ]
    },
    {
     "cell_type": "markdown",
     "metadata": {},
     "source": [
      "Vamos a representar las im\u00e1genes como matrices $\\mathbf{R}^{n\\ \\times\\  m\\  \\times\\  k}$. Usaremos primero el m\u00e9todo decomposici\u00f3n de matrices conocido como [*Single Value Decomposition*](http://en.wikipedia.org/wiki/Singular_value_decomposition) (**SVD**) para reducir el tama\u00f1o de la imagen.\n",
      "\n",
      "La **SVD** de una matriz (real o compleja) $\\textbf{M}$ de $m \\times n$ es una factorizaci\u00f3n de la forma $\\textbf{M} = U\\cdot S \\cdot V^*$, en la cual $U$ es matriz $m \\times m$ unitaria, $S$ es una matriz $m \\times n$ rectangular diagonal con elementos no-negativos, y $V^*$ es la conjugada traspuesta de una matriz unitaria de $n \\times n$.\n",
      "\n",
      "A los elementos de la diagonal $S_{ii}$ of $S$ se les denomina valores singulares de $\\textbf{M}$. A las $m$ columnas de $U$ y a las $n$ de $V$ se les llama vectores singulares izquierdos o derechos, respectivamente.\n",
      "\n",
      " \n",
      "Cuando $\\textbf{M}$ es cuadrada ( $m \\times m$) y  real con determinante positivo, $U$, $V^*$, y $S$ son matrices reales de $m \\times m$, entonces $S$ puede ser interpretada como una matriz de escalamiento, y  U$, $V^*$ como matrices de rotaci\u00f3n."
     ]
    },
    {
     "cell_type": "code",
     "collapsed": false,
     "input": [
      "import scipy.misc\n",
      "img = scipy.misc.lena()\n",
      "plt.imshow(img)"
     ],
     "language": "python",
     "metadata": {},
     "outputs": []
    },
    {
     "cell_type": "code",
     "collapsed": false,
     "input": [
      "img"
     ],
     "language": "python",
     "metadata": {},
     "outputs": []
    },
    {
     "cell_type": "code",
     "collapsed": false,
     "input": [
      "np.shape(img)"
     ],
     "language": "python",
     "metadata": {},
     "outputs": []
    },
    {
     "cell_type": "code",
     "collapsed": false,
     "input": [
      "U, S, Vs = scipy.linalg.svd(img)\n",
      "print U.shape\n",
      "print S.shape\n",
      "print Vs.shape"
     ],
     "language": "python",
     "metadata": {},
     "outputs": []
    },
    {
     "cell_type": "markdown",
     "metadata": {},
     "source": [
      "La matriz $S$ est\u00e1 representada como una matriz _sparse_. Como queremos hacer una compresi\u00f3n de la imagen, s\u00f3lo nos quedaremos con $32$ de los _valores singulares_. Creamos una nueva matriz cuyos elementos est\u00e1n dados por la siguiente f\u00f3rmula:\n",
      "\n",
      "$$ \\Sigma^k_{j = 1} \\quad s_j(u_j \\cdot v_j) $$\n",
      "\n",
      "\n",
      "donde, $s$ son los valores singulares, $u$ y $v$ son los vectores singulares."
     ]
    },
    {
     "cell_type": "code",
     "collapsed": false,
     "input": [
      "A = np.dot( U[:, 0:32], np.dot(np.diag(S[0:32]), Vs[0:32,:]))"
     ],
     "language": "python",
     "metadata": {},
     "outputs": []
    },
    {
     "cell_type": "code",
     "collapsed": false,
     "input": [
      "plt.subplot(121, aspect='equal'); plt.imshow(img);\n",
      "plt.gray()\n",
      "\n",
      "plt.subplot(122, aspect='equal'); plt.imshow(A);"
     ],
     "language": "python",
     "metadata": {},
     "outputs": []
    },
    {
     "cell_type": "heading",
     "level": 3,
     "metadata": {},
     "source": [
      "Aut\u00f3matas Celulares"
     ]
    },
    {
     "cell_type": "markdown",
     "metadata": {},
     "source": [
      "Un [aut\u00f3mata celular](http://en.wikipedia.org/wiki/Cellular_automaton) (**CA**) es un modelo del mundo con f\u00edsica simple. Se les conoce como _aut\u00f3matas celulares_ ya que el espacio est\u00e1 dividido en pedazos discretos, llamados _celdas_ (de ah\u00ed \"celular\") y a que computa (i.e. es un \"aut\u00f3mata\").\n",
      "\n",
      "Los **CA** est\u00e1n gobernados por _reglas_ (la f\u00edsica) que determina como evoluciona el sistema en el tiempo. El tiempo tambi\u00e9n est\u00e1 dividido en pasos (_steps_) dicretos, y la regla especifica como cambia el estado actual del \"mundo\" en el tiempo $t+1$ basado en el tiempo actual $t$."
     ]
    },
    {
     "cell_type": "markdown",
     "metadata": {},
     "source": [
      "Los **CA** fueron estudiados extensivamente a principios de los 80s por **Stephen Wolfram** (S\u00ed, el de `Mathematica`). En particular el estudio **CA**s unidimensionales, llamadas _aut\u00f3matas celulares elementales_.\n",
      "\n",
      "Un _aut\u00f3mata celular elemental_ es un **CA** 1D en la cual cada celda tiene dos posibles estados, y en la cual la regla tiene como entradas el estado actual de la celda y el estado de sus vecinos inmediatos (que son dos en 1D). Existen, entonces $2^3 = 8$ posibles patrones de tres celdas (_vecindad_) y $2^8 = 256$ reglas posibles.\n",
      "\n",
      "Por ejemplo\n",
      "\n",
      "|Estado| | | | | | | | |\n",
      "|-|-|-|\n",
      "|actual| 111 | 110 | 101 | 100 | 011 | 010 | 001 | 000|\n",
      "|siguiente| 0 |0 | 1 | 1 | 0 | 0 | 1 | 0 |\n",
      "\n",
      "\n",
      "Wolfram sugiri\u00f3 nombrar las reglas usando el rengl\u00f3n inferior como binario. En el caso reci\u00e9n mostrado, es la **Regla 50**."
     ]
    },
    {
     "cell_type": "markdown",
     "metadata": {},
     "source": [
      "El siguiente c\u00f3digo est\u00e1 basado en el trabajo de Allen B. Downey. Representa un aut\u00f3mata celular."
     ]
    },
    {
     "cell_type": "code",
     "collapsed": false,
     "input": [
      "import numpy as np\n",
      "\n",
      "# Basado en el c\u00f3digo de Allen B. Downey\n",
      "\n",
      "\n",
      "class CA(object):\n",
      "    \"\"\"Representa un aut\u00f3mata celular 1D.\n",
      "    \n",
      "    Los par\u00e1metros del constructor son:\n",
      "\n",
      "    rule:  Un entero del 0-255.\n",
      "    n:      N\u00famero de renglones (timesteps).\n",
      "    ratio:  Raz\u00f3n de los renglones a las columnas\n",
      "    \"\"\"\n",
      "\n",
      "    def __init__(self, rule, n=100, ratio=2):\n",
      "        \"\"\"\n",
      "        Atributos:\n",
      "        table:  Diccionario que mapea el estado, al siguiente.\n",
      "        n, m:   Renglones, columnas.\n",
      "        array:  Arreglo que contiene los datos.\n",
      "        next:   \u00cdndice del siguiente estado.\n",
      "        \"\"\"\n",
      "        self.table = self.make_table(rule)\n",
      "        self.n = n\n",
      "        self.m = ratio*n + 1\n",
      "        self.array = np.zeros((n, self.m), dtype=np.int8)\n",
      "        self.next = 0\n",
      "\n",
      "    def make_table(self, rule):\n",
      "        \"\"\"Regresa la tabla con las reglas del CA \n",
      "        (Implementada como un diccionario).\n",
      "        \"\"\"\n",
      "        table = {}\n",
      "        for i, bit in enumerate(binary(rule, 8)):\n",
      "            t = binary(7-i, 3)\n",
      "            table[t] = bit\n",
      "        return table\n",
      "    \n",
      "    def start_single(self):\n",
      "        \"\"\"La semilla es una sola y aparece a la mitad del arreglo 1D.\"\"\"\n",
      "        self.array[0, self.m/2] = 1\n",
      "        self.next += 1\n",
      "\n",
      "    def start_random(self):\n",
      "        \"\"\"Valores aleatorios en el tiempo t_0\"\"\"\n",
      "        self.array[0] = np.random.random([1,self.m]).round()\n",
      "        self.next += 1\n",
      "\n",
      "    def loop(self, steps=1):\n",
      "        \"\"\"Ejecuta el n\u00famero especificado de pasos.\"\"\"\n",
      "        [self.step() for i in xrange(steps)]\n",
      "\n",
      "    def step(self):\n",
      "        \"\"\"Avanza un paso t -> t+1.\"\"\"\n",
      "        i = self.next\n",
      "        self.next += 1\n",
      "\n",
      "        a = self.array\n",
      "        t = self.table\n",
      "        for j in xrange(1,self.m-1):\n",
      "            a[i,j] = t[tuple(a[i-1, j-1:j+2])]\n",
      "\n",
      "    def get_array(self, start=0, end=None):\n",
      "        \"\"\"Obtiene una rebanada de las columnas del CA.\n",
      "        \"\"\"\n",
      "        if start==0 and end==None:\n",
      "            return self.array\n",
      "        else:\n",
      "            return self.array[:, start:end]\n",
      "\n",
      "  "
     ],
     "language": "python",
     "metadata": {},
     "outputs": []
    },
    {
     "cell_type": "code",
     "collapsed": false,
     "input": [
      "# Basado en el c\u00f3digo de Allen B. Downey\n",
      "\n",
      "def binary(n, digits):\n",
      "    \"\"\"Regresa una tupla de enteros representando (n) en binario.\"\"\"\n",
      "    t = []\n",
      "    for i in range(digits):\n",
      "        n, r = divmod(n, 2)\n",
      "        t.append(r)\n",
      "\n",
      "    return tuple(reversed(t))\n"
     ],
     "language": "python",
     "metadata": {},
     "outputs": []
    },
    {
     "cell_type": "code",
     "collapsed": false,
     "input": [
      "import numpy\n",
      "\n",
      "# Basado en el c\u00f3digo de Allen B. Downey\n",
      "  \n",
      "class CADrawer(object):\n",
      "    \"\"\"Dibuja el CA usando matplotlib\"\"\"\n",
      "\n",
      "    def __init__(self):\n",
      "        # we only need to import pyplot if a PyplotDrawer\n",
      "        # gets instantiated\n",
      "        global pyplot\n",
      "        import matplotlib.pyplot as pyplot\n",
      "        \n",
      "    def draw(self, ca, start=0, end=None):\n",
      "        pyplot.figure(figsize=(8, 6), dpi=80)\n",
      "        pyplot.gray()\n",
      "        a = ca.get_array(start, end)\n",
      "        rows, cols = a.shape\n",
      "\n",
      "        # flipud puts the first row at the top; \n",
      "        # negating it makes the non-zero cells black.\n",
      "        pyplot.pcolor(-numpy.flipud(a))\n",
      "        pyplot.axis([0, cols, 0, rows])\n",
      "\n",
      "        # empty lists draw no ticks\n",
      "        pyplot.xticks([])\n",
      "        pyplot.yticks([])\n",
      "\n",
      "    def show(self):\n",
      "        \"\"\"display the pseudocolor representation of the CA\"\"\"\n",
      "        pyplot.show()\n",
      "\n",
      "    def save(self, filename='ca.png'):\n",
      "        \"\"\"save the pseudocolor representation of the CA in (filename).\"\"\"\n",
      "        pyplot.savefig(filename)\n",
      "    "
     ],
     "language": "python",
     "metadata": {},
     "outputs": []
    },
    {
     "cell_type": "code",
     "collapsed": false,
     "input": [
      "rule = 154\n",
      "n = 10\n",
      "ca = CA(rule, n)\n",
      "ca.start_single()\n",
      "ca.loop(n-1)\n",
      "drawer = CADrawer()\n",
      "drawer.draw(ca)\n",
      "drawer.show()"
     ],
     "language": "python",
     "metadata": {},
     "outputs": []
    },
    {
     "cell_type": "markdown",
     "metadata": {},
     "source": [
      "<div class=\"alert alert-info\">\n",
      "**Ejercicio:** Escribe un m\u00e9todo que genere las 255 reglas y las muestre en una gr\u00e1fica (con _subplots_, obviamente).\n",
      "</div>"
     ]
    },
    {
     "cell_type": "markdown",
     "metadata": {},
     "source": [
      "<div class=\"alert alert-info\">\n",
      "**Ejercicio:** La p\u00e1gina de la [wikipedia](http://en.wikipedia.org/wiki/Cellular_automaton#Classification) menciona 4 clasificaciones \u00bfPuedes identificarlos en tu gr\u00e1fica?\n",
      "</div>"
     ]
    },
    {
     "cell_type": "markdown",
     "metadata": {},
     "source": [
      "<div class=\"alert alert-info\">\n",
      "**Ejercicio:** Escribe una animaci\u00f3n interactiva en la cual, reciba la regla, el intervalo del tiempo y con eso la vaya dibujando de manera animada.\n",
      "</div>"
     ]
    },
    {
     "cell_type": "heading",
     "level": 3,
     "metadata": {},
     "source": [
      "Ejemplo de soluci\u00f3n"
     ]
    },
    {
     "cell_type": "code",
     "collapsed": false,
     "input": [
      "import numpy\n",
      "\n",
      "def getEvolvedCA(rule, n = 30):\n",
      "    ca = CA(rule, n)\n",
      "    ca.start_single()\n",
      "    ca.loop(n-1)\n",
      "    return ca.get_array()\n",
      "\n",
      "class MosaicCADrawer(object):\n",
      "    \n",
      "    def __init__(self, time_steps):\n",
      "        self.rows = 26\n",
      "        self.cols = 10\n",
      "        self.time_steps = time_steps\n",
      "        \n",
      "        \n",
      "    def draw(self):\n",
      "        fig, ax = plt.subplots(self.rows,self.cols, figsize=(50,50), sharey=True)\n",
      "        for row in xrange(self.rows):\n",
      "            for col in xrange(self.cols):\n",
      "                rule = row*self.cols + col\n",
      "                if rule <= 255:\n",
      "                    ca_universe = getEvolvedCA(rule, self.time_steps)\n",
      "\n",
      "                    ax[row,col].imshow(-ca_universe)\n",
      "                    ax[row,col].set_xlabel(rule)\n",
      "                \n",
      "                ax[row,col].set_xticks([])\n",
      "                ax[row,col].set_yticks([])"
     ],
     "language": "python",
     "metadata": {},
     "outputs": []
    },
    {
     "cell_type": "code",
     "collapsed": false,
     "input": [
      "ca_drawer = MosaicCADrawer(10)\n",
      "ca_drawer.draw()"
     ],
     "language": "python",
     "metadata": {},
     "outputs": []
    }
   ],
   "metadata": {}
  }
 ]
}