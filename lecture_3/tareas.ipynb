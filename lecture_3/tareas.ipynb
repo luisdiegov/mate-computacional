{
 "metadata": {
  "name": "",
  "signature": "sha256:a1964ba04fae341e31454b9ba5362f8c9dd7b76341d46d978e5255c549f05671"
 },
 "nbformat": 3,
 "nbformat_minor": 0,
 "worksheets": [
  {
   "cells": [
    {
     "cell_type": "heading",
     "level": 1,
     "metadata": {},
     "source": [
      "Tareas"
     ]
    },
    {
     "cell_type": "heading",
     "level": 1,
     "metadata": {},
     "source": [
      "Proyecto Euler"
     ]
    },
    {
     "cell_type": "markdown",
     "metadata": {},
     "source": [
      "- [Problema 17: Number letter counts](https://projecteuler.net/problem=17) \n",
      "    - Fecha l\u00edmite de entrega: 17 de febrero, 2015 23:59\n",
      "- [Problema 31: Coin sum](https://projecteuler.net/problem=31) \n",
      "    - Fecha l\u00edmite de entrega: 17 de febrero, 2015 23_59"
     ]
    }
   ],
   "metadata": {}
  }
 ]
}